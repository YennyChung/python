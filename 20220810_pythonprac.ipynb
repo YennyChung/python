{
 "cells": [
  {
   "cell_type": "markdown",
   "id": "eded3650-1c0c-4dbe-a556-8739c18c737f",
   "metadata": {},
   "source": [
    "### 1. 파이썬에서의 리스트 vs. 넘파이 다차원 배열"
   ]
  },
  {
   "cell_type": "markdown",
   "id": "5d81c6e1-5b3e-4c4c-ad58-6b10d393df38",
   "metadata": {},
   "source": [
    "리스트 vs. 넘파이: 계산성능\n",
    "넘파이는 대용량의 배열 & 행렬 연산 수행; ndarray 객체 제공\n",
    "\n",
    "- 배열(array)은 동일한 자료형을 가진 데이터를 연속으로 저장\n",
    "\n",
    "- 파이썬의 리스트 (여러 데이터의 나열)는 동일하지 않은 자료형을 가진 항목들을 담을 수 있음; 원소에 접근하는 속도가 매우 느림\n",
    "\n",
    "- 넘파이의 ndarray 객체는 동일한 자료형의 항목들만 저장; 넘파이가 원소에 접근하는 속도가 더 빠름"
   ]
  },
  {
   "cell_type": "markdown",
   "id": "f254e43e-2785-47ec-84bc-bcb5959b3339",
   "metadata": {},
   "source": [
    "#### 1) 리스트의 두 변수의 연산"
   ]
  },
  {
   "cell_type": "code",
   "execution_count": 1,
   "id": "ff88f1dd-396f-49d9-91db-d966e47ca064",
   "metadata": {},
   "outputs": [],
   "source": [
    "store_a = [20, 10, 30]\n",
    "store_b = [70, 90, 70]"
   ]
  },
  {
   "cell_type": "code",
   "execution_count": 2,
   "id": "fc4f4544-bba4-4a5b-ad60-8bfa7fc63fea",
   "metadata": {},
   "outputs": [],
   "source": [
    "list_sum = store_a + store_b"
   ]
  },
  {
   "cell_type": "code",
   "execution_count": 3,
   "id": "cc132ee0-b82a-4626-be49-0ddb755d2e02",
   "metadata": {},
   "outputs": [
    {
     "name": "stdout",
     "output_type": "stream",
     "text": [
      "[20, 10, 30, 70, 90, 70]\n"
     ]
    }
   ],
   "source": [
    "print(list_sum)"
   ]
  },
  {
   "cell_type": "markdown",
   "id": "9330a67c-7981-45bc-9bb0-94aa93ed6019",
   "metadata": {},
   "source": [
    "#### 2) 넘파이의 다차원 배열"
   ]
  },
  {
   "cell_type": "code",
   "execution_count": 5,
   "id": "d6ba433d-788d-4dcf-b87f-8c074b090bfb",
   "metadata": {},
   "outputs": [
    {
     "name": "stdout",
     "output_type": "stream",
     "text": [
      "[ 90 100 100]\n"
     ]
    }
   ],
   "source": [
    "import numpy as np\n",
    "np_store_a = np.array(store_a)\n",
    "np_store_b = np.array(store_b)\n",
    "\n",
    "np_store_sum = np_store_a + np_store_b\n",
    "print(np_store_sum)"
   ]
  },
  {
   "cell_type": "markdown",
   "id": "ea00c465-e394-4a2b-bf47-5d3acc375aa6",
   "metadata": {},
   "source": [
    "- 넘파이 배열의 인덱싱과 슬라이싱"
   ]
  },
  {
   "cell_type": "code",
   "execution_count": 8,
   "id": "8421488c-4910-4f0c-be27-1391d85ac425",
   "metadata": {},
   "outputs": [
    {
     "data": {
      "text/plain": [
       "1"
      ]
     },
     "execution_count": 8,
     "metadata": {},
     "output_type": "execute_result"
    }
   ],
   "source": [
    "np_store_sum.ndim  # 배열의 차원이 숫자로 나옴"
   ]
  },
  {
   "cell_type": "markdown",
   "id": "85f2f459-c876-4fd7-8d4c-48f71a5e786f",
   "metadata": {},
   "source": [
    "- .astype()  # 열의 요소의 dtype을 변경\n",
    "- .flatten()  # 넘파이 다차원 배열의 평탄화 메소드 (1차원화해줌)\n",
    "- .T  # 전치행렬 수행; 속성값을 뱉어냄. method 아님; 2 * 3 행렬을 3 * 2 행렬로 바꿈\n",
    "- .transpose()  # 전치행렬하는 메소드"
   ]
  },
  {
   "cell_type": "code",
   "execution_count": 11,
   "id": "834f9361-2a4f-4711-b5ea-de16170ce001",
   "metadata": {},
   "outputs": [
    {
     "data": {
      "text/plain": [
       "array([[1, 4],\n",
       "       [2, 5],\n",
       "       [3, 6]])"
      ]
     },
     "execution_count": 11,
     "metadata": {},
     "output_type": "execute_result"
    }
   ],
   "source": [
    "import numpy as np\n",
    "a = np.arange(1,7).reshape(2,3)\n",
    "a\n",
    "a.transpose()"
   ]
  },
  {
   "cell_type": "markdown",
   "id": "561fcb4a-3bcc-4021-afa8-2eb18241cf99",
   "metadata": {},
   "source": [
    "- 배열을 만든 후, 정렬"
   ]
  },
  {
   "cell_type": "code",
   "execution_count": 15,
   "id": "3ce9a074-7b27-41dd-842f-747ce7ef6d5d",
   "metadata": {},
   "outputs": [
    {
     "name": "stdout",
     "output_type": "stream",
     "text": [
      "None\n",
      "[19 24 35 55 69 99]\n",
      "[99 69 55 35 24 19]\n"
     ]
    }
   ],
   "source": [
    "c = np.array([35, 24, 55, 69, 19, 99])\n",
    "c.sort()  # 오름차순으로 정렬; 원행렬 자체를 정렬하고, 반환값은 none으로 나옴\n",
    "print(c.sort())  # ndarray.sort() 방식\n",
    "print(c)\n",
    "c[::-1]  # 내림차순으로 정렬\n",
    "print(c[::-1])"
   ]
  },
  {
   "cell_type": "code",
   "execution_count": 14,
   "id": "a01942e2-4c6f-4ce6-9a82-38c3a1e881ca",
   "metadata": {},
   "outputs": [
    {
     "data": {
      "text/plain": [
       "array([19, 24, 35, 55, 69, 99])"
      ]
     },
     "execution_count": 14,
     "metadata": {},
     "output_type": "execute_result"
    }
   ],
   "source": [
    "np.sort(c)"
   ]
  },
  {
   "cell_type": "code",
   "execution_count": 19,
   "id": "718e69fc-d282-49f0-a3d3-62ce3ee3132b",
   "metadata": {},
   "outputs": [
    {
     "data": {
      "text/plain": [
       "array([[24, 35, 55],\n",
       "       [ 9, 19, 69],\n",
       "       [ 1,  4, 11]])"
      ]
     },
     "execution_count": 19,
     "metadata": {},
     "output_type": "execute_result"
    }
   ],
   "source": [
    "d = np.array([[35, 24, 55], [69, 19, 9], [4, 1, 11]])\n",
    "d.sort()  # 디폴트는 axis = 1 기준으로 정렬\n",
    "d"
   ]
  },
  {
   "cell_type": "markdown",
   "id": "39ccba3c-2811-403e-a8e2-29a20b6cbd50",
   "metadata": {},
   "source": [
    "다시"
   ]
  },
  {
   "cell_type": "code",
   "execution_count": 35,
   "id": "078d2165-abc2-4807-8442-603e37e67422",
   "metadata": {},
   "outputs": [
    {
     "data": {
      "text/plain": [
       "array([[ 4,  1,  9],\n",
       "       [35, 19, 11],\n",
       "       [69, 24, 55]])"
      ]
     },
     "execution_count": 35,
     "metadata": {},
     "output_type": "execute_result"
    }
   ],
   "source": [
    "d = np.array([[35, 24, 55], [69, 19, 9], [4, 1, 11]])\n",
    "d.sort(axis = 0)  # axis = 0; 행방향으로 정렬, axis = 1; 열방향으로 정렬\n",
    "d"
   ]
  },
  {
   "cell_type": "code",
   "execution_count": 23,
   "id": "712fc302-990b-455c-ab8b-090667e5f480",
   "metadata": {},
   "outputs": [
    {
     "data": {
      "text/plain": [
       "array([[ 9,  1,  4],\n",
       "       [11, 19, 35],\n",
       "       [55, 24, 69]])"
      ]
     },
     "execution_count": 23,
     "metadata": {},
     "output_type": "execute_result"
    }
   ],
   "source": [
    "np.flip(d, axis = 1)  # 좌우 변환"
   ]
  },
  {
   "cell_type": "code",
   "execution_count": 24,
   "id": "262eceef-1c03-4234-ba52-64cd774aa210",
   "metadata": {},
   "outputs": [
    {
     "data": {
      "text/plain": [
       "array([[69, 24, 55],\n",
       "       [35, 19, 11],\n",
       "       [ 4,  1,  9]])"
      ]
     },
     "execution_count": 24,
     "metadata": {},
     "output_type": "execute_result"
    }
   ],
   "source": [
    "np.flip(d, axis = 0)  # 위아래 변환"
   ]
  },
  {
   "cell_type": "code",
   "execution_count": 40,
   "id": "3dcaa791-5bb8-4a7c-bd21-8b8a2151009a",
   "metadata": {},
   "outputs": [],
   "source": [
    "d = np.array([[35, 24, 55], [69, 19, 9], [4, 1, 11]])"
   ]
  },
  {
   "cell_type": "code",
   "execution_count": 41,
   "id": "cf774b28-5cf6-4313-9f85-5e1ff994d537",
   "metadata": {},
   "outputs": [
    {
     "data": {
      "text/plain": [
       "array([[ 1,  4, 11],\n",
       "       [ 9, 19, 69],\n",
       "       [24, 35, 55]])"
      ]
     },
     "execution_count": 41,
     "metadata": {},
     "output_type": "execute_result"
    }
   ],
   "source": [
    "d.sort()\n",
    "d\n",
    "np.flip(d, axis = 0)"
   ]
  },
  {
   "cell_type": "code",
   "execution_count": 42,
   "id": "8a089ed1-765f-4b47-b529-9ba9b5179b48",
   "metadata": {},
   "outputs": [],
   "source": [
    "d = np.array([[35, 24, 55], [69, 19, 9], [4, 1, 11]])"
   ]
  },
  {
   "cell_type": "code",
   "execution_count": 43,
   "id": "a1d4cd07-78cf-4ea8-a914-77fb9bca6b2c",
   "metadata": {},
   "outputs": [
    {
     "data": {
      "text/plain": [
       "array([[55, 24, 35],\n",
       "       [ 9, 19, 69],\n",
       "       [11,  1,  4]])"
      ]
     },
     "execution_count": 43,
     "metadata": {},
     "output_type": "execute_result"
    }
   ],
   "source": [
    "d_flipped = np.flip(d, axis = 1)\n",
    "d_flipped"
   ]
  },
  {
   "cell_type": "code",
   "execution_count": 31,
   "id": "e0d1a0fa-10ab-4c74-adb8-77d572df2b3b",
   "metadata": {},
   "outputs": [
    {
     "data": {
      "text/plain": [
       "array([[ 1,  4,  9],\n",
       "       [11, 19, 35],\n",
       "       [24, 55, 69]])"
      ]
     },
     "execution_count": 31,
     "metadata": {},
     "output_type": "execute_result"
    }
   ],
   "source": [
    "d_flipped = np.flip(d, axis = 1)\n",
    "d_flipped"
   ]
  },
  {
   "cell_type": "code",
   "execution_count": 37,
   "id": "0b3a2bae-f842-4415-b9f5-bbfc401bbd06",
   "metadata": {},
   "outputs": [],
   "source": [
    "d = np.array([[35, 24, 55], [69, 19, 9], [4, 1, 11]])"
   ]
  },
  {
   "cell_type": "code",
   "execution_count": 38,
   "id": "4a8a8c37-62d9-4ea5-83da-c2e9c62af2a0",
   "metadata": {},
   "outputs": [
    {
     "data": {
      "text/plain": [
       "array([[55, 35, 24],\n",
       "       [69, 19,  9],\n",
       "       [11,  4,  1]])"
      ]
     },
     "execution_count": 38,
     "metadata": {},
     "output_type": "execute_result"
    }
   ],
   "source": [
    "d.sort()\n",
    "d\n",
    "np.flip(d, axis = 1)"
   ]
  },
  {
   "cell_type": "code",
   "execution_count": 45,
   "id": "d8afe60a-6536-43b5-a315-085de6b20cfc",
   "metadata": {},
   "outputs": [
    {
     "data": {
      "text/plain": [
       "array([[ 4,  1,  9],\n",
       "       [35, 19, 11],\n",
       "       [69, 24, 55]])"
      ]
     },
     "execution_count": 45,
     "metadata": {},
     "output_type": "execute_result"
    }
   ],
   "source": [
    "d = np.array([[35, 24, 55], [69, 19, 9], [4, 1, 11]])\n",
    "d.sort(axis=0)  # 행방향으로 sort\n",
    "d"
   ]
  },
  {
   "cell_type": "markdown",
   "id": "2ee31e91-ea6a-4119-85f5-51837185d2d9",
   "metadata": {},
   "source": [
    "##### 참고: https://rfriend.tistory.com/357"
   ]
  },
  {
   "cell_type": "code",
   "execution_count": null,
   "id": "5fa96022-eade-4103-a56a-8d55d2b2b265",
   "metadata": {},
   "outputs": [],
   "source": [
    "d = np.array([[35, 24, 55], [69, 19, 9], [4, 1, 11]])\n",
    "d.sort(axis=0)  # 행방향으로 descending하는 방식으로 sort\n",
    "# 이를 행방향으로 flip"
   ]
  },
  {
   "cell_type": "code",
   "execution_count": 57,
   "id": "966d6a96-00d9-4a5a-9a60-301cd1fa4d41",
   "metadata": {},
   "outputs": [
    {
     "data": {
      "text/plain": [
       "array([[ 1,  4, 11],\n",
       "       [ 9, 19, 69],\n",
       "       [24, 35, 55]])"
      ]
     },
     "execution_count": 57,
     "metadata": {},
     "output_type": "execute_result"
    }
   ],
   "source": [
    "d = np.array([[35, 24, 55], [69, 19, 9], [4, 1, 11]])\n",
    "d1 = np.sort(d)[::-1]  # 또는 x[np.argsort(-x)]  # 행방향으로 descending하는 방식으로 sort\n",
    "d1# 이를 행방향으로 flip"
   ]
  },
  {
   "cell_type": "code",
   "execution_count": 55,
   "id": "c274aba8-aa9b-4581-a409-ac0d9b7022d6",
   "metadata": {},
   "outputs": [
    {
     "data": {
      "text/plain": [
       "array([[24, 35, 55],\n",
       "       [ 9, 19, 69],\n",
       "       [ 1,  4, 11]])"
      ]
     },
     "execution_count": 55,
     "metadata": {},
     "output_type": "execute_result"
    }
   ],
   "source": [
    "np.flip(d1, axis = 0)"
   ]
  },
  {
   "cell_type": "code",
   "execution_count": 58,
   "id": "559ae324-aed8-42a7-869f-bc08077706b4",
   "metadata": {},
   "outputs": [
    {
     "data": {
      "text/plain": [
       "array([[11,  4,  1],\n",
       "       [69, 19,  9],\n",
       "       [55, 35, 24]])"
      ]
     },
     "execution_count": 58,
     "metadata": {},
     "output_type": "execute_result"
    }
   ],
   "source": [
    "np.flip(d1, axis = 1)"
   ]
  },
  {
   "cell_type": "markdown",
   "id": "7046cefa-0404-4d2d-b808-1249d2b9f438",
   "metadata": {},
   "source": [
    "-----"
   ]
  },
  {
   "cell_type": "code",
   "execution_count": 59,
   "id": "3c614efc-5d89-486f-b576-7ec52d4c339e",
   "metadata": {},
   "outputs": [
    {
     "data": {
      "text/plain": [
       "array([[ 4,  1,  9],\n",
       "       [35, 19, 11],\n",
       "       [69, 24, 55]])"
      ]
     },
     "execution_count": 59,
     "metadata": {},
     "output_type": "execute_result"
    }
   ],
   "source": [
    "d = np.array([[35, 24, 55], [69, 19, 9], [4, 1, 11]])\n",
    "d1 = np.sort(d, axis = 0)[::-1]  # 또는 x[np.argsort(-x)]  # 행방향으로 descending하는 방식으로 sort\n",
    "np.flip(d1, axis = 0)# 이를 행방향으로 flip"
   ]
  },
  {
   "cell_type": "markdown",
   "id": "ebcb2465-8d53-4492-b119-0e9e3664f440",
   "metadata": {},
   "source": [
    "- 다차원 배열을 위한 .append() 함수와 행렬의 곱셈"
   ]
  },
  {
   "cell_type": "code",
   "execution_count": 47,
   "id": "9c2c80be-7665-4aaa-9d1e-d8af086855fd",
   "metadata": {},
   "outputs": [
    {
     "data": {
      "text/plain": [
       "array([1, 2, 3, 4, 5, 6, 7, 8, 9])"
      ]
     },
     "execution_count": 47,
     "metadata": {},
     "output_type": "execute_result"
    }
   ],
   "source": [
    "a = np.array([1, 2, 3])\n",
    "b = np.array([[4, 5, 6], [7, 8, 9]])\n",
    "np.append(a, b)"
   ]
  },
  {
   "cell_type": "code",
   "execution_count": 48,
   "id": "6a261473-2bd1-46ac-94af-8428fc5eed2c",
   "metadata": {},
   "outputs": [
    {
     "data": {
      "text/plain": [
       "array([[1, 2, 3],\n",
       "       [4, 5, 6],\n",
       "       [7, 8, 9]])"
      ]
     },
     "execution_count": 48,
     "metadata": {},
     "output_type": "execute_result"
    }
   ],
   "source": [
    "np.append([a], b, axis = 0)  # [a]를 통해 2차원 배열로 만들어야 함"
   ]
  },
  {
   "cell_type": "code",
   "execution_count": 49,
   "id": "2773cca0-1498-4606-941c-1a8402a5a4aa",
   "metadata": {},
   "outputs": [
    {
     "data": {
      "text/plain": [
       "array([[ 10,  40],\n",
       "       [ 90, 160]])"
      ]
     },
     "execution_count": 49,
     "metadata": {},
     "output_type": "execute_result"
    }
   ],
   "source": [
    "a = np.array([[1,2], [3,4]])  # 2차원 배열 a\n",
    "b = np.array([[10,20], [30,40]])  # 2차원 배열 b\n",
    "a * b"
   ]
  },
  {
   "cell_type": "markdown",
   "id": "e62fba27-50a0-4eeb-bea6-d71ec1be1912",
   "metadata": {},
   "source": [
    "- 행렬의 연산곱셈을 할 때는, matmul() 함수 사용; @ 연산자 사용"
   ]
  },
  {
   "cell_type": "code",
   "execution_count": 51,
   "id": "85b3fd74-f1a2-4239-bada-785045ff3273",
   "metadata": {},
   "outputs": [
    {
     "data": {
      "text/plain": [
       "array([[ 70, 100],\n",
       "       [150, 220]])"
      ]
     },
     "execution_count": 51,
     "metadata": {},
     "output_type": "execute_result"
    }
   ],
   "source": [
    "np.matmul(a, b)"
   ]
  },
  {
   "cell_type": "code",
   "execution_count": 50,
   "id": "bbacbb42-b592-4447-8505-a8d27b27b2c3",
   "metadata": {},
   "outputs": [
    {
     "data": {
      "text/plain": [
       "array([[ 70, 100],\n",
       "       [150, 220]])"
      ]
     },
     "execution_count": 50,
     "metadata": {},
     "output_type": "execute_result"
    }
   ],
   "source": [
    "a @ b"
   ]
  },
  {
   "cell_type": "markdown",
   "id": "cf63de29-c734-4af7-bebd-86a2ced222ec",
   "metadata": {},
   "source": [
    "- 배열의 형태를 바꾸는 .reshape()  \n",
    "튜플값으로 제공하나, reshape((x, y)) 로 해줘야하지만, 튜플은 자유로운 형태를 가지므로 원소의 갯수/행렬의 특성만 맞으면 .reshape()로 변환"
   ]
  },
  {
   "cell_type": "markdown",
   "id": "14d88d23-5006-46a2-8134-251c21236593",
   "metadata": {},
   "source": [
    "> .reshape(a, -1)  # -1 사용 중요"
   ]
  },
  {
   "cell_type": "code",
   "execution_count": null,
   "id": "316058c2-e50b-437e-beb6-e2ea101c58d5",
   "metadata": {},
   "outputs": [],
   "source": [
    "y.reshape(6, -1)  # 주어진 데이터에서 행은 무조건 6개로, 열은 마음대로 처리하라는 뜻. 데이터 형태가 호환되는 선에서"
   ]
  },
  {
   "cell_type": "code",
   "execution_count": 53,
   "id": "d5b6b62a-46a5-4f84-a35b-a48a07c426be",
   "metadata": {},
   "outputs": [
    {
     "data": {
      "text/plain": [
       "array([[1, 2, 3, 4]])"
      ]
     },
     "execution_count": 53,
     "metadata": {},
     "output_type": "execute_result"
    }
   ],
   "source": [
    "a.reshape(1, -1)"
   ]
  },
  {
   "cell_type": "markdown",
   "id": "fbc1f618-2ee9-40c9-9696-b644df164a82",
   "metadata": {},
   "source": [
    "> .reverse()"
   ]
  },
  {
   "cell_type": "code",
   "execution_count": 61,
   "id": "4d82e133-0dae-42ca-8a51-ef01453e8a56",
   "metadata": {},
   "outputs": [
    {
     "ename": "AttributeError",
     "evalue": "'numpy.ndarray' object has no attribute 'reverse'",
     "output_type": "error",
     "traceback": [
      "\u001b[1;31m---------------------------------------------------------------------------\u001b[0m",
      "\u001b[1;31mAttributeError\u001b[0m                            Traceback (most recent call last)",
      "Input \u001b[1;32mIn [61]\u001b[0m, in \u001b[0;36m<cell line: 1>\u001b[1;34m()\u001b[0m\n\u001b[1;32m----> 1\u001b[0m \u001b[43ma\u001b[49m\u001b[38;5;241;43m.\u001b[39;49m\u001b[43mreverse\u001b[49m()\n",
      "\u001b[1;31mAttributeError\u001b[0m: 'numpy.ndarray' object has no attribute 'reverse'"
     ]
    }
   ],
   "source": [
    "a.reverse()"
   ]
  },
  {
   "cell_type": "code",
   "execution_count": 62,
   "id": "cab88153-7c40-4858-8398-99650ca3e691",
   "metadata": {},
   "outputs": [
    {
     "data": {
      "text/plain": [
       "array([[3, 4],\n",
       "       [1, 2]])"
      ]
     },
     "execution_count": 62,
     "metadata": {},
     "output_type": "execute_result"
    }
   ],
   "source": [
    "a[::-1]"
   ]
  },
  {
   "cell_type": "markdown",
   "id": "51538146-1ad2-40e3-8e6f-5d7fe3938a4e",
   "metadata": {},
   "source": [
    "#### 3) 난수"
   ]
  },
  {
   "cell_type": "code",
   "execution_count": 65,
   "id": "e8fa7399-bdae-4567-bed0-7a379e0adc53",
   "metadata": {},
   "outputs": [
    {
     "data": {
      "text/plain": [
       "array([165, 170, 150, 151, 158, 172, 153, 190, 175, 173])"
      ]
     },
     "execution_count": 65,
     "metadata": {},
     "output_type": "execute_result"
    }
   ],
   "source": [
    "np.random.randint(150, 191, size = 10)  # 시작점 (이상)과 끝지점 (미만), 총 몇개의 데이터를 만들 것인지 지정해주어야 함"
   ]
  },
  {
   "cell_type": "markdown",
   "id": "d9faf465-ecb4-4adb-8c09-cbd1b404e393",
   "metadata": {},
   "source": [
    "- 표준정규분포"
   ]
  },
  {
   "cell_type": "code",
   "execution_count": 68,
   "id": "a305951a-a3da-4ff7-8e24-48f52f43f1d6",
   "metadata": {},
   "outputs": [
    {
     "data": {
      "text/plain": [
       "array([ 0.68129257,  0.15847644, -1.15131334, -0.13103949,  0.54394415])"
      ]
     },
     "execution_count": 68,
     "metadata": {},
     "output_type": "execute_result"
    }
   ],
   "source": [
    "rnd = np.random.randn(5)  # 평균이 0이고, 분산이 1인 표준정규분포\n",
    "rnd"
   ]
  },
  {
   "cell_type": "code",
   "execution_count": 72,
   "id": "d581f670-858f-4511-8348-725ad9eb465d",
   "metadata": {},
   "outputs": [
    {
     "data": {
      "text/plain": [
       "array([169.96714153, 163.61735699, 171.47688538, 180.23029856,\n",
       "       162.65846625])"
      ]
     },
     "execution_count": 72,
     "metadata": {},
     "output_type": "execute_result"
    }
   ],
   "source": [
    "rnd = np.random.randn(5) * 10 + 165  # 평균이 165, 표준편차가 10인 값\n",
    "rnd"
   ]
  },
  {
   "cell_type": "code",
   "execution_count": 73,
   "id": "80dea0c5-dc77-4a0f-b107-38a54914395e",
   "metadata": {},
   "outputs": [
    {
     "data": {
      "text/plain": [
       "array([169.97, 163.62, 171.48, 180.23, 162.66])"
      ]
     },
     "execution_count": 73,
     "metadata": {},
     "output_type": "execute_result"
    }
   ],
   "source": [
    "rnd.round(2)  # 소수점 아래 둘째자리까지 값으로 변환"
   ]
  },
  {
   "cell_type": "code",
   "execution_count": 74,
   "id": "30197eac-26af-4498-8655-5a9c78d7af92",
   "metadata": {},
   "outputs": [],
   "source": [
    "rnd.astype(int)  # 정수형 자료형으로 변환\n",
    "np.random.seed(42)"
   ]
  },
  {
   "cell_type": "code",
   "execution_count": 75,
   "id": "4e7d94ca-ecad-42f8-80f2-8e7e1719d891",
   "metadata": {},
   "outputs": [
    {
     "name": "stdout",
     "output_type": "stream",
     "text": [
      "None\n"
     ]
    }
   ],
   "source": [
    "print(np.random.seed(42))"
   ]
  },
  {
   "cell_type": "code",
   "execution_count": 76,
   "id": "bb8e2a51-3642-4f80-b2e7-ebfe0d9f9df2",
   "metadata": {},
   "outputs": [
    {
     "name": "stdout",
     "output_type": "stream",
     "text": [
      "<module 'numpy' from 'C:\\\\Users\\\\Conet\\\\anaconda3\\\\lib\\\\site-packages\\\\numpy\\\\__init__.py'>\n"
     ]
    }
   ],
   "source": [
    "print(np)"
   ]
  },
  {
   "cell_type": "markdown",
   "id": "19a7fc34-c2d8-4fd9-b4c9-5125186299b8",
   "metadata": {},
   "source": [
    "- 평균 165, 표준편차 10인 표준정규분포 만들기"
   ]
  },
  {
   "cell_type": "code",
   "execution_count": 77,
   "id": "875fb472-4ef1-4454-ae14-0784ab76d1da",
   "metadata": {},
   "outputs": [
    {
     "data": {
      "text/plain": [
       "array([[169.97, 163.62, 171.48, 180.23],\n",
       "       [162.66, 162.66, 180.79, 172.67],\n",
       "       [160.31, 170.43, 160.37, 160.34]])"
      ]
     },
     "execution_count": 77,
     "metadata": {},
     "output_type": "execute_result"
    }
   ],
   "source": [
    "nums = np.random.normal(loc = 165, scale = 10, size = (3, 4)).round(2)\n",
    "nums"
   ]
  },
  {
   "cell_type": "markdown",
   "id": "4a7d76dc-7ddc-4dc8-9271-5d9c0d91bce6",
   "metadata": {},
   "source": [
    "- rand()\n",
    "- randn()\n",
    "- randint()\n",
    "- normal()\n",
    "- uniform()\n",
    "- shuffle(); 순서만 뒤섞음\n",
    "- permutation(); 순서가 뒤섞인 채로 array로 뱉어냄"
   ]
  },
  {
   "cell_type": "code",
   "execution_count": 79,
   "id": "9207d130-8421-4dcf-88f3-909bea003632",
   "metadata": {},
   "outputs": [
    {
     "name": "stdout",
     "output_type": "stream",
     "text": [
      "[0 1 2 3 4 5 6 7 8 9]\n"
     ]
    },
    {
     "data": {
      "text/plain": [
       "array([1, 5, 4, 8, 0, 7, 6, 3, 2, 9])"
      ]
     },
     "execution_count": 79,
     "metadata": {},
     "output_type": "execute_result"
    }
   ],
   "source": [
    "a = np.arange(10)\n",
    "a\n",
    "print(a)\n",
    "np.random.shuffle(a)\n",
    "a"
   ]
  },
  {
   "cell_type": "markdown",
   "id": "df70d7fc-ca4a-405a-9912-e4ebec6ca19f",
   "metadata": {},
   "source": [
    "- numpy 스타일의 슬라이싱과 논리 인덱싱"
   ]
  },
  {
   "cell_type": "code",
   "execution_count": 80,
   "id": "242822ab-8496-4f08-a0ec-07d6a1644dd7",
   "metadata": {},
   "outputs": [
    {
     "data": {
      "text/plain": [
       "array([[4, 5],\n",
       "       [7, 8],\n",
       "       [0, 1]])"
      ]
     },
     "execution_count": 80,
     "metadata": {},
     "output_type": "execute_result"
    }
   ],
   "source": [
    "arr_2d = np.array([[1,2,3],\n",
    "                    [4,5,6],\n",
    "                    [7,8,9],\n",
    "                    [0,1,2]])\n",
    "arr_2d[1:, 0:2]"
   ]
  },
  {
   "cell_type": "markdown",
   "id": "d267123e-fe6d-4543-8ea2-c269864aa188",
   "metadata": {},
   "source": [
    "- np_array[::2, ::2]와 np_array[::2] (행에 대해서만 슬라이싱)의 차이 알기"
   ]
  },
  {
   "cell_type": "code",
   "execution_count": 84,
   "id": "fd84bd6c-0500-40d0-8f7c-eab74a7489f9",
   "metadata": {},
   "outputs": [
    {
     "data": {
      "text/plain": [
       "array([[False,  True, False,  True],\n",
       "       [False,  True, False,  True],\n",
       "       [False,  True, False,  True],\n",
       "       [False,  True, False,  True]])"
      ]
     },
     "execution_count": 84,
     "metadata": {},
     "output_type": "execute_result"
    }
   ],
   "source": [
    "np_array = np.array([[1,2,3,4], [5,6,7,8], [9,10,11,12], [13,14,15,16]])\n",
    "np_array % 2 == 0  # 짝수일때만 True, 홀수일때는 False 반환"
   ]
  },
  {
   "cell_type": "code",
   "execution_count": 85,
   "id": "c91f8c3f-7f86-48e5-8adf-dd462c9a7594",
   "metadata": {},
   "outputs": [
    {
     "data": {
      "text/plain": [
       "array([ 2,  4,  6,  8, 10, 12, 14, 16])"
      ]
     },
     "execution_count": 85,
     "metadata": {},
     "output_type": "execute_result"
    }
   ],
   "source": [
    "np_array[np_array % 2 == 0]  # 논리값으로 배열된, 즉 True에 해당하는 값만 출력돼서 나옴"
   ]
  },
  {
   "cell_type": "markdown",
   "id": "c2d26f26-4602-4cbb-ab64-133a86d6476d",
   "metadata": {},
   "source": [
    "#### 4) 리덕션: 배열을 더 강력하게 만드는 기능"
   ]
  },
  {
   "cell_type": "markdown",
   "id": "24f6abd4-7845-4a92-b87e-e5cbc5e75549",
   "metadata": {},
   "source": [
    "넘파이의 다차원 배열은 reduction이라는 여러개의 수로 이루어진 배열을 하나의 수로 집계하는 것; sum(), mean(), min(), max()와 같은 함수 제공"
   ]
  },
  {
   "cell_type": "markdown",
   "id": "fb54a9c1-91f8-4ed0-b482-aea0d493a899",
   "metadata": {},
   "source": [
    "행의 합과 열의 합을 구하는 것"
   ]
  },
  {
   "cell_type": "markdown",
   "id": "1d5f62d8-86f4-4b54-8a8c-150f0c17599c",
   "metadata": {},
   "source": [
    "다시"
   ]
  },
  {
   "cell_type": "code",
   "execution_count": 87,
   "id": "f4ffe45e-0287-475d-b66a-140c22a08686",
   "metadata": {},
   "outputs": [
    {
     "name": "stdout",
     "output_type": "stream",
     "text": [
      "[ 4  8 12 16 20]\n",
      "[15 15 15 15]\n"
     ]
    },
    {
     "data": {
      "text/plain": [
       "60"
      ]
     },
     "execution_count": 87,
     "metadata": {},
     "output_type": "execute_result"
    }
   ],
   "source": [
    "arr = np.array([[1,2,3,4,5], [1,2,3,4,5], [1,2,3,4,5], [1,2,3,4,5]])\n",
    "print(np.sum(arr, axis = 0))\n",
    "print(np.sum(arr, axis = 1))\n",
    "np.sum(arr, axis = (0, 1))  # 이 것이 의미하는 바는?"
   ]
  },
  {
   "cell_type": "code",
   "execution_count": 89,
   "id": "86396abb-ae5a-4586-b9af-aebaa8adc851",
   "metadata": {},
   "outputs": [],
   "source": [
    "import numpy as np\n",
    "import time\n",
    "\n",
    "n = 1000\n",
    "arr = np.random.rand(n, n)"
   ]
  },
  {
   "cell_type": "code",
   "execution_count": 91,
   "id": "7e665d6a-1324-4649-9a4d-c301a9eaa1c9",
   "metadata": {},
   "outputs": [
    {
     "name": "stdout",
     "output_type": "stream",
     "text": [
      "1000\n",
      "[[0.68030754 0.45049925 0.01326496 ... 0.45514369 0.52243458 0.64454665]\n",
      " [0.65016735 0.36469725 0.56067719 ... 0.97955084 0.14496507 0.72515573]\n",
      " [0.1911907  0.33826311 0.30869874 ... 0.78486182 0.73348675 0.11619096]\n",
      " ...\n",
      " [0.84191823 0.73115233 0.62236669 ... 0.593282   0.16515692 0.12972237]\n",
      " [0.55262818 0.2832132  0.75042099 ... 0.53923084 0.18329225 0.31264177]\n",
      " [0.41317965 0.51189017 0.98597978 ... 0.35034709 0.20133581 0.86650407]]\n"
     ]
    }
   ],
   "source": [
    "print(n)\n",
    "print(arr)"
   ]
  },
  {
   "cell_type": "code",
   "execution_count": 93,
   "id": "e588a5c4-afed-47fb-bd8c-10c4ac8cbbf5",
   "metadata": {},
   "outputs": [
    {
     "name": "stdout",
     "output_type": "stream",
     "text": [
      "1000 x 1000 배열의 원소 합 500053.4795674659 \n",
      "계산 시간 0.2919142246246338\n"
     ]
    }
   ],
   "source": [
    "sum_naive = 0\n",
    "start = time.time()\n",
    "for i in range(n):\n",
    "    for j in range(n):\n",
    "        sum_naive += arr[i,j]\n",
    "end = time.time()\n",
    "print(n, 'x', n, '배열의 원소 합', sum_naive, '\\n계산 시간', end-start)"
   ]
  },
  {
   "cell_type": "code",
   "execution_count": 96,
   "id": "9c307228-454e-4389-b349-58b85fc1b09a",
   "metadata": {},
   "outputs": [
    {
     "name": "stdout",
     "output_type": "stream",
     "text": [
      "1000 x 1000 배열의 원소 합 500053.47956746415 \n",
      "계산 시간:  0.0019943714141845703\n"
     ]
    }
   ],
   "source": [
    "start = time.time()\n",
    "sum_reduction = np.sum(arr, axis = (0,1))\n",
    "end = time.time()\n",
    "print(n, \"x\", n, \"배열의 원소 합\", sum_reduction, \"\\n계산 시간: \", end-start)"
   ]
  },
  {
   "cell_type": "code",
   "execution_count": 97,
   "id": "dcc5feaa-cd30-4fa4-8ff8-86b898b99cd4",
   "metadata": {},
   "outputs": [
    {
     "data": {
      "text/plain": [
       "array([[10, 11, 12, 13],\n",
       "       [14, 15, 16, 17]])"
      ]
     },
     "execution_count": 97,
     "metadata": {},
     "output_type": "execute_result"
    }
   ],
   "source": [
    "a = np.arange(10, 18).reshape(2,4)\n",
    "b = np.arange(12).reshape(3,4)\n",
    "c = np.arange(8).reshape(2,4)\n",
    "d = list(range(4))\n",
    "a"
   ]
  },
  {
   "cell_type": "code",
   "execution_count": 98,
   "id": "e4770577-f120-4e25-941b-bece008a7063",
   "metadata": {},
   "outputs": [
    {
     "data": {
      "text/plain": [
       "array([[ 0,  1,  2,  3],\n",
       "       [ 4,  5,  6,  7],\n",
       "       [ 8,  9, 10, 11]])"
      ]
     },
     "execution_count": 98,
     "metadata": {},
     "output_type": "execute_result"
    }
   ],
   "source": [
    "b"
   ]
  },
  {
   "cell_type": "code",
   "execution_count": 99,
   "id": "9cc2c910-e1d1-42ca-9a6f-399268040057",
   "metadata": {},
   "outputs": [
    {
     "data": {
      "text/plain": [
       "array([[0, 1, 2, 3],\n",
       "       [4, 5, 6, 7]])"
      ]
     },
     "execution_count": 99,
     "metadata": {},
     "output_type": "execute_result"
    }
   ],
   "source": [
    "c"
   ]
  },
  {
   "cell_type": "code",
   "execution_count": 100,
   "id": "9df8ee1d-752c-447a-a9dc-3f317c74a6aa",
   "metadata": {},
   "outputs": [
    {
     "data": {
      "text/plain": [
       "[0, 1, 2, 3]"
      ]
     },
     "execution_count": 100,
     "metadata": {},
     "output_type": "execute_result"
    }
   ],
   "source": [
    "d"
   ]
  },
  {
   "cell_type": "markdown",
   "id": "4d4a6ca0-d393-4d77-a313-04a13373f263",
   "metadata": {},
   "source": [
    "- 배열의 결합 (concatenate, vstack, hstack)"
   ]
  },
  {
   "cell_type": "code",
   "execution_count": 102,
   "id": "f6557894-6262-44c2-9d9e-5bf6befa730a",
   "metadata": {},
   "outputs": [
    {
     "data": {
      "text/plain": [
       "array([[10, 11, 12, 13],\n",
       "       [14, 15, 16, 17],\n",
       "       [ 0,  1,  2,  3],\n",
       "       [ 4,  5,  6,  7],\n",
       "       [ 8,  9, 10, 11]])"
      ]
     },
     "execution_count": 102,
     "metadata": {},
     "output_type": "execute_result"
    }
   ],
   "source": [
    "np.concatenate((a,b))  # a배열의 마지막 원소 뒤에 b배열의 원소를 차례로 넣음"
   ]
  },
  {
   "cell_type": "code",
   "execution_count": 103,
   "id": "7b879ae2-0820-42a3-ac1d-c0907f554139",
   "metadata": {},
   "outputs": [
    {
     "data": {
      "text/plain": [
       "array([[10, 11, 12, 13],\n",
       "       [14, 15, 16, 17],\n",
       "       [ 0,  1,  2,  3],\n",
       "       [ 4,  5,  6,  7],\n",
       "       [ 8,  9, 10, 11]])"
      ]
     },
     "execution_count": 103,
     "metadata": {},
     "output_type": "execute_result"
    }
   ],
   "source": [
    "np.vstack((a,b))  # a배열과 b배열을 수직 방향으로 결합"
   ]
  },
  {
   "cell_type": "markdown",
   "id": "aa777cbc-1b26-4a4d-9780-0f1b72caa19f",
   "metadata": {},
   "source": [
    "- 다차원 배열과 브로드캐스팅"
   ]
  },
  {
   "cell_type": "code",
   "execution_count": 104,
   "id": "aa2d936a-fc23-490b-b92e-a6124724067b",
   "metadata": {},
   "outputs": [
    {
     "data": {
      "text/plain": [
       "array([[0., 0., 0.],\n",
       "       [0., 0., 0.]])"
      ]
     },
     "execution_count": 104,
     "metadata": {},
     "output_type": "execute_result"
    }
   ],
   "source": [
    "np.zeros((2, 3))"
   ]
  },
  {
   "cell_type": "code",
   "execution_count": 105,
   "id": "b822d387-a43b-4913-ba9f-be18e2eae168",
   "metadata": {},
   "outputs": [
    {
     "data": {
      "text/plain": [
       "array([[1., 1., 1.],\n",
       "       [1., 1., 1.]])"
      ]
     },
     "execution_count": 105,
     "metadata": {},
     "output_type": "execute_result"
    }
   ],
   "source": [
    "np.ones((2,3))"
   ]
  },
  {
   "cell_type": "code",
   "execution_count": 107,
   "id": "4d32ea61-0222-44a6-926d-1700f9d01321",
   "metadata": {},
   "outputs": [
    {
     "data": {
      "text/plain": [
       "array([[100, 100, 100],\n",
       "       [100, 100, 100]])"
      ]
     },
     "execution_count": 107,
     "metadata": {},
     "output_type": "execute_result"
    }
   ],
   "source": [
    "np.full((2,3), 100)"
   ]
  },
  {
   "cell_type": "code",
   "execution_count": 109,
   "id": "e23a1c04-4a9e-4b77-bfb0-590987d9b7fd",
   "metadata": {},
   "outputs": [
    {
     "data": {
      "text/plain": [
       "array([[1., 0., 0.],\n",
       "       [0., 1., 0.],\n",
       "       [0., 0., 1.]])"
      ]
     },
     "execution_count": 109,
     "metadata": {},
     "output_type": "execute_result"
    }
   ],
   "source": [
    "np.eye(3)  # 단위행렬"
   ]
  },
  {
   "cell_type": "code",
   "execution_count": 110,
   "id": "16e8ae89-3206-4197-9a00-38a435de60e2",
   "metadata": {},
   "outputs": [],
   "source": [
    "a1 = np.eye(6)"
   ]
  },
  {
   "cell_type": "code",
   "execution_count": 111,
   "id": "96cf7a17-78d4-4d85-b5d4-86d25b277c6b",
   "metadata": {},
   "outputs": [
    {
     "data": {
      "text/plain": [
       "array([[1., 0., 0., 0., 0., 0.],\n",
       "       [0., 1., 0., 0., 0., 0.],\n",
       "       [0., 0., 1., 0., 0., 0.],\n",
       "       [0., 0., 0., 1., 0., 0.],\n",
       "       [0., 0., 0., 0., 1., 0.],\n",
       "       [0., 0., 0., 0., 0., 1.]])"
      ]
     },
     "execution_count": 111,
     "metadata": {},
     "output_type": "execute_result"
    }
   ],
   "source": [
    "a1"
   ]
  },
  {
   "cell_type": "code",
   "execution_count": 112,
   "id": "c3748e31-f9ff-4614-8511-e9c3fcc8329b",
   "metadata": {},
   "outputs": [
    {
     "ename": "IndexError",
     "evalue": "index 999 is out of bounds for axis 0 with size 6",
     "output_type": "error",
     "traceback": [
      "\u001b[1;31m---------------------------------------------------------------------------\u001b[0m",
      "\u001b[1;31mIndexError\u001b[0m                                Traceback (most recent call last)",
      "Input \u001b[1;32mIn [112]\u001b[0m, in \u001b[0;36m<cell line: 2>\u001b[1;34m()\u001b[0m\n\u001b[0;32m      1\u001b[0m lis1 \u001b[38;5;241m=\u001b[39m []\n\u001b[1;32m----> 2\u001b[0m \u001b[38;5;28;01mfor\u001b[39;00m i \u001b[38;5;129;01min\u001b[39;00m \u001b[43ma1\u001b[49m\u001b[43m[\u001b[49m\u001b[43mi\u001b[49m\u001b[43m]\u001b[49m:\n\u001b[0;32m      3\u001b[0m     i \u001b[38;5;241m=\u001b[39m \u001b[38;5;241m0\u001b[39m\n\u001b[0;32m      4\u001b[0m     i \u001b[38;5;241m+\u001b[39m\u001b[38;5;241m=\u001b[39m i\n",
      "\u001b[1;31mIndexError\u001b[0m: index 999 is out of bounds for axis 0 with size 6"
     ]
    }
   ],
   "source": [
    "lis1 = []\n",
    "for i in a1[i]:\n",
    "    i = 0\n",
    "    i += i\n",
    "    list1.append(i)\n",
    "    print(list1)"
   ]
  },
  {
   "cell_type": "markdown",
   "id": "69754c8e-d2e5-484e-bd08-02186759ba6d",
   "metadata": {},
   "source": [
    "문제 1"
   ]
  },
  {
   "cell_type": "code",
   "execution_count": 115,
   "id": "2eea59dd-7e02-4426-a3b2-1acebce353cf",
   "metadata": {},
   "outputs": [
    {
     "data": {
      "text/plain": [
       "array([[1., 0., 0., 0., 0., 0.],\n",
       "       [0., 2., 0., 0., 0., 0.],\n",
       "       [0., 0., 3., 0., 0., 0.],\n",
       "       [0., 0., 0., 4., 0., 0.],\n",
       "       [0., 0., 0., 0., 5., 0.],\n",
       "       [0., 0., 0., 0., 0., 6.]])"
      ]
     },
     "execution_count": 115,
     "metadata": {},
     "output_type": "execute_result"
    }
   ],
   "source": [
    "n = list(range(1,7,1))\n",
    "a1 * n"
   ]
  },
  {
   "cell_type": "markdown",
   "id": "890fd620-9eb4-4945-8315-38f118a9363a",
   "metadata": {},
   "source": [
    "- np.diag() : k를 지정해서 k차원 대각행렬 구할 수 있음"
   ]
  },
  {
   "cell_type": "code",
   "execution_count": 116,
   "id": "0ed5b5fc-03bf-4367-896a-770966d5c0d2",
   "metadata": {},
   "outputs": [
    {
     "name": "stdin",
     "output_type": "stream",
     "text": [
      "n을 입력하시오:  6\n"
     ]
    },
    {
     "name": "stdout",
     "output_type": "stream",
     "text": [
      "[[1 0 0 0 0 0]\n",
      " [0 2 0 0 0 0]\n",
      " [0 0 3 0 0 0]\n",
      " [0 0 0 4 0 0]\n",
      " [0 0 0 0 5 0]\n",
      " [0 0 0 0 0 6]]\n"
     ]
    }
   ],
   "source": [
    "n = int(input('n을 입력하시오: '))\n",
    "a = np.diag(1+np.arange(n), k = 0)\n",
    "print(a)"
   ]
  },
  {
   "cell_type": "code",
   "execution_count": 122,
   "id": "f76476d7-3e26-49e0-a107-4e1332a99267",
   "metadata": {},
   "outputs": [
    {
     "data": {
      "text/plain": [
       "array([[0, 0, 0, 0, 0],\n",
       "       [0, 1, 0, 0, 0],\n",
       "       [0, 0, 2, 0, 0],\n",
       "       [0, 0, 0, 3, 0],\n",
       "       [0, 0, 0, 0, 4]])"
      ]
     },
     "execution_count": 122,
     "metadata": {},
     "output_type": "execute_result"
    }
   ],
   "source": [
    "np.diag(np.arange(5), k = 0)"
   ]
  },
  {
   "cell_type": "code",
   "execution_count": 121,
   "id": "e2d36233-878a-4db0-b238-f2c59b1a7bac",
   "metadata": {},
   "outputs": [
    {
     "name": "stdin",
     "output_type": "stream",
     "text": [
      "n을 입력하시오:  5\n"
     ]
    },
    {
     "name": "stdout",
     "output_type": "stream",
     "text": [
      "[[0 0 1 0 0 0 0]\n",
      " [0 0 0 2 0 0 0]\n",
      " [0 0 0 0 3 0 0]\n",
      " [0 0 0 0 0 4 0]\n",
      " [0 0 0 0 0 0 5]\n",
      " [0 0 0 0 0 0 0]\n",
      " [0 0 0 0 0 0 0]]\n"
     ]
    }
   ],
   "source": [
    "n = int(input('n을 입력하시오: '))\n",
    "a = np.diag(1+np.arange(n), k = 2)\n",
    "print(a)"
   ]
  },
  {
   "cell_type": "code",
   "execution_count": 118,
   "id": "fb4fc27d-45b2-4368-8e49-8ac24cc0d699",
   "metadata": {},
   "outputs": [
    {
     "name": "stdin",
     "output_type": "stream",
     "text": [
      "n을 입력하시오:  6\n"
     ]
    },
    {
     "ename": "IndexError",
     "evalue": "index 6 is out of bounds for axis 0 with size 6",
     "output_type": "error",
     "traceback": [
      "\u001b[1;31m---------------------------------------------------------------------------\u001b[0m",
      "\u001b[1;31mIndexError\u001b[0m                                Traceback (most recent call last)",
      "Input \u001b[1;32mIn [118]\u001b[0m, in \u001b[0;36m<cell line: 3>\u001b[1;34m()\u001b[0m\n\u001b[0;32m      4\u001b[0m     \u001b[38;5;28;01mfor\u001b[39;00m j \u001b[38;5;129;01min\u001b[39;00m \u001b[38;5;28mrange\u001b[39m(\u001b[38;5;241m1\u001b[39m, n\u001b[38;5;241m+\u001b[39m\u001b[38;5;241m1\u001b[39m):\n\u001b[0;32m      5\u001b[0m         \u001b[38;5;28;01mif\u001b[39;00m i \u001b[38;5;241m==\u001b[39m j:\n\u001b[1;32m----> 6\u001b[0m             \u001b[43ma\u001b[49m\u001b[43m[\u001b[49m\u001b[43mi\u001b[49m\u001b[43m]\u001b[49m[j] \u001b[38;5;241m=\u001b[39m i\n\u001b[0;32m      8\u001b[0m a\n",
      "\u001b[1;31mIndexError\u001b[0m: index 6 is out of bounds for axis 0 with size 6"
     ]
    }
   ],
   "source": [
    "n = int(input('n을 입력하시오: '))\n",
    "a = np.eye(n)\n",
    "for i in range(1, n+1):\n",
    "    for j in range(1, n+1):\n",
    "        if i == j:\n",
    "            a[i][j] = i\n",
    "\n",
    "a"
   ]
  },
  {
   "cell_type": "code",
   "execution_count": 120,
   "id": "755cd776-2190-41d8-973b-d12937d3d501",
   "metadata": {},
   "outputs": [
    {
     "name": "stdin",
     "output_type": "stream",
     "text": [
      "n을 입력하시오:  6\n"
     ]
    },
    {
     "name": "stdout",
     "output_type": "stream",
     "text": [
      "[[1. 0. 0. 0. 0. 0.]\n",
      " [0. 1. 0. 0. 0. 0.]\n",
      " [0. 0. 1. 0. 0. 0.]\n",
      " [0. 0. 0. 1. 0. 0.]\n",
      " [0. 0. 0. 0. 1. 0.]\n",
      " [0. 0. 0. 0. 0. 1.]]\n",
      "[[1. 0. 0. 0. 0. 0.]\n",
      " [0. 1. 0. 0. 0. 0.]\n",
      " [0. 0. 2. 0. 0. 0.]\n",
      " [0. 0. 0. 1. 0. 0.]\n",
      " [0. 0. 0. 0. 1. 0.]\n",
      " [0. 0. 0. 0. 0. 1.]]\n",
      "[[1. 0. 0. 0. 0. 0.]\n",
      " [0. 1. 0. 0. 0. 0.]\n",
      " [0. 0. 2. 0. 0. 0.]\n",
      " [0. 0. 0. 3. 0. 0.]\n",
      " [0. 0. 0. 0. 1. 0.]\n",
      " [0. 0. 0. 0. 0. 1.]]\n",
      "[[1. 0. 0. 0. 0. 0.]\n",
      " [0. 1. 0. 0. 0. 0.]\n",
      " [0. 0. 2. 0. 0. 0.]\n",
      " [0. 0. 0. 3. 0. 0.]\n",
      " [0. 0. 0. 0. 4. 0.]\n",
      " [0. 0. 0. 0. 0. 1.]]\n",
      "[[1. 0. 0. 0. 0. 0.]\n",
      " [0. 1. 0. 0. 0. 0.]\n",
      " [0. 0. 2. 0. 0. 0.]\n",
      " [0. 0. 0. 3. 0. 0.]\n",
      " [0. 0. 0. 0. 4. 0.]\n",
      " [0. 0. 0. 0. 0. 5.]]\n"
     ]
    },
    {
     "ename": "IndexError",
     "evalue": "index 6 is out of bounds for axis 0 with size 6",
     "output_type": "error",
     "traceback": [
      "\u001b[1;31m---------------------------------------------------------------------------\u001b[0m",
      "\u001b[1;31mIndexError\u001b[0m                                Traceback (most recent call last)",
      "Input \u001b[1;32mIn [120]\u001b[0m, in \u001b[0;36m<cell line: 3>\u001b[1;34m()\u001b[0m\n\u001b[0;32m      4\u001b[0m     \u001b[38;5;28;01mfor\u001b[39;00m j \u001b[38;5;129;01min\u001b[39;00m \u001b[38;5;28mrange\u001b[39m(\u001b[38;5;241m1\u001b[39m, n\u001b[38;5;241m+\u001b[39m\u001b[38;5;241m1\u001b[39m):\n\u001b[0;32m      5\u001b[0m         \u001b[38;5;28;01mif\u001b[39;00m i \u001b[38;5;241m==\u001b[39m j:\n\u001b[1;32m----> 6\u001b[0m             \u001b[43ma\u001b[49m\u001b[43m[\u001b[49m\u001b[43mi\u001b[49m\u001b[43m]\u001b[49m[j] \u001b[38;5;241m=\u001b[39m i\n\u001b[0;32m      7\u001b[0m             \u001b[38;5;28mprint\u001b[39m(a)\n\u001b[0;32m      9\u001b[0m a\n",
      "\u001b[1;31mIndexError\u001b[0m: index 6 is out of bounds for axis 0 with size 6"
     ]
    }
   ],
   "source": [
    "n = int(input('n을 입력하시오: '))\n",
    "a = np.eye(n)\n",
    "for i in range(1, n+1):\n",
    "    for j in range(1, n+1):\n",
    "        if i == j:\n",
    "            a[i][j] = i\n",
    "            print(a)\n",
    "\n",
    "a"
   ]
  },
  {
   "cell_type": "code",
   "execution_count": 119,
   "id": "d12c87ce-e65a-4870-9e76-3ee4a8d466d7",
   "metadata": {},
   "outputs": [
    {
     "name": "stdin",
     "output_type": "stream",
     "text": [
      "n을 입력하시오:  6\n"
     ]
    },
    {
     "data": {
      "text/plain": [
       "array([[0., 0., 0., 0., 0., 0.],\n",
       "       [0., 1., 0., 0., 0., 0.],\n",
       "       [0., 0., 2., 0., 0., 0.],\n",
       "       [0., 0., 0., 3., 0., 0.],\n",
       "       [0., 0., 0., 0., 4., 0.],\n",
       "       [0., 0., 0., 0., 0., 5.]])"
      ]
     },
     "execution_count": 119,
     "metadata": {},
     "output_type": "execute_result"
    }
   ],
   "source": [
    "n = int(input('n을 입력하시오: '))\n",
    "a = np.eye(n)\n",
    "for i in range(0,n):\n",
    "    for j in range(0,n):\n",
    "        if i == j:\n",
    "            a[i][j] = i\n",
    "\n",
    "a"
   ]
  },
  {
   "cell_type": "markdown",
   "id": "54e450e1-4ce0-42e7-ace8-26df61918d49",
   "metadata": {},
   "source": [
    "문제 2"
   ]
  },
  {
   "cell_type": "code",
   "execution_count": 173,
   "id": "85e7797e-8dbb-4da5-9732-76101101d0aa",
   "metadata": {},
   "outputs": [
    {
     "name": "stdin",
     "output_type": "stream",
     "text": [
      "n을 입력하시오:  5\n"
     ]
    },
    {
     "data": {
      "text/plain": [
       "array([[1., 1., 1., 1., 1.],\n",
       "       [1., 1., 1., 1., 1.],\n",
       "       [1., 1., 1., 1., 1.],\n",
       "       [1., 1., 1., 1., 1.],\n",
       "       [1., 1., 1., 1., 1.]])"
      ]
     },
     "execution_count": 173,
     "metadata": {},
     "output_type": "execute_result"
    }
   ],
   "source": [
    "n = int(input('n을 입력하시오: '))\n",
    "\n",
    "a = np.ones((n, n))\n",
    "a"
   ]
  },
  {
   "cell_type": "code",
   "execution_count": 126,
   "id": "3f0fff9f-e2ba-4195-a066-55765cf51864",
   "metadata": {},
   "outputs": [
    {
     "data": {
      "text/plain": [
       "array([[0., 0., 0., 0., 0.],\n",
       "       [0., 0., 0., 0., 0.],\n",
       "       [0., 0., 0., 0., 0.],\n",
       "       [0., 0., 0., 0., 0.],\n",
       "       [0., 0., 0., 0., 0.]])"
      ]
     },
     "execution_count": 126,
     "metadata": {},
     "output_type": "execute_result"
    }
   ],
   "source": [
    "b = np.zeros((n, n))\n",
    "b"
   ]
  },
  {
   "cell_type": "markdown",
   "id": "299402cf-72ab-4dd5-ba78-77c84d833b2d",
   "metadata": {},
   "source": [
    "-----"
   ]
  },
  {
   "cell_type": "code",
   "execution_count": 131,
   "id": "ea0be23c-6309-4c3e-84b0-18eb6dd456b8",
   "metadata": {},
   "outputs": [
    {
     "name": "stdin",
     "output_type": "stream",
     "text": [
      "n을 입력하시오:  5\n"
     ]
    },
    {
     "name": "stdout",
     "output_type": "stream",
     "text": [
      "a 행렬\n",
      "[[1 1 1 1 1]\n",
      " [1 1 1 1 1]\n",
      " [1 1 1 1 1]\n",
      " [1 1 1 1 1]\n",
      " [1 1 1 1 1]]\n",
      "b 행렬\n",
      "[[1 1 1 1 1]\n",
      " [1 0 0 0 1]\n",
      " [1 0 0 0 1]\n",
      " [1 0 0 0 1]\n",
      " [1 1 1 1 1]]\n"
     ]
    }
   ],
   "source": [
    "n = int(input('n을 입력하시오: '))\n",
    "\n",
    "a = np.ones((n, n), dtype = 'int32')  # dtype을 지정해주지 않으면, 실수값으로 나오므로 정수값으로 변환해주어야 함\n",
    "print('a 행렬')\n",
    "print(a)\n",
    "b = a\n",
    "b[1:-1, 1:-1] = 0  # 끝 바로 앞까지; 즉 -2까지 0으로 만들어준다는 뜻\n",
    "print('b 행렬')\n",
    "print(b)"
   ]
  },
  {
   "cell_type": "markdown",
   "id": "394c889a-3d56-41a7-8136-5c6246557ee7",
   "metadata": {},
   "source": [
    "문제 3"
   ]
  },
  {
   "cell_type": "code",
   "execution_count": 132,
   "id": "0704bc84-16fe-4241-81cf-536ac1c7ff02",
   "metadata": {},
   "outputs": [
    {
     "name": "stdin",
     "output_type": "stream",
     "text": [
      "n을 입력하시오:  5\n"
     ]
    },
    {
     "name": "stdout",
     "output_type": "stream",
     "text": [
      "a 행렬\n",
      "[[0 0 0 0 0]\n",
      " [0 0 0 0 0]\n",
      " [0 0 0 0 0]\n",
      " [0 0 0 0 0]\n",
      " [0 0 0 0 0]]\n",
      "b 행렬\n",
      "[[0 0 0 0 0]\n",
      " [0 1 1 1 0]\n",
      " [0 1 1 1 0]\n",
      " [0 1 1 1 0]\n",
      " [0 0 0 0 0]]\n"
     ]
    }
   ],
   "source": [
    "n = int(input('n을 입력하시오: '))\n",
    "\n",
    "a = np.zeros((n, n), dtype = 'int32')  # dtype을 지정해주지 않으면, 실수값으로 나오므로 정수값으로 변환해주어야 함\n",
    "print('a 행렬')\n",
    "print(a)\n",
    "b = a\n",
    "b[1:-1, 1:-1] = 1  # 끝 바로 앞까지; 즉 -2까지 0으로 만들어준다는 뜻\n",
    "print('b 행렬')\n",
    "print(b)"
   ]
  },
  {
   "cell_type": "code",
   "execution_count": 133,
   "id": "f764aba4-9bfa-4e5a-84c7-943c94a03c5e",
   "metadata": {},
   "outputs": [
    {
     "name": "stdin",
     "output_type": "stream",
     "text": [
      "n을 입력하시오:  5\n"
     ]
    },
    {
     "name": "stdout",
     "output_type": "stream",
     "text": [
      "[[1 1 1 1 1]\n",
      " [1 1 1 1 1]\n",
      " [1 1 1 1 1]\n",
      " [1 1 1 1 1]\n",
      " [1 1 1 1 1]]\n",
      "c행렬\n",
      "[[0 0 0 0 0]\n",
      " [0 1 1 1 0]\n",
      " [0 1 1 1 0]\n",
      " [0 1 1 1 0]\n",
      " [0 0 0 0 0]]\n"
     ]
    }
   ],
   "source": [
    "n = int(input('n을 입력하시오: '))\n",
    "a = np.ones((n,n), dtype = 'int32')\n",
    "print(a)\n",
    "c = a\n",
    "c[0, :] = c[-1, :] = c[:, 0] = c[:, -1] = 0\n",
    "print('c행렬')\n",
    "print(c)"
   ]
  },
  {
   "cell_type": "code",
   "execution_count": 136,
   "id": "b240aa81-50a7-4d90-bee6-0f20bfe42e63",
   "metadata": {},
   "outputs": [
    {
     "data": {
      "text/plain": [
       "array([1, 2, 3])"
      ]
     },
     "execution_count": 136,
     "metadata": {},
     "output_type": "execute_result"
    }
   ],
   "source": [
    "a = np.array([1, 2, 3])\n",
    "b = np.array([10, 20, 30])\n",
    "a"
   ]
  },
  {
   "cell_type": "code",
   "execution_count": 137,
   "id": "8138f655-89db-4d0a-b91e-b0efbd5feddd",
   "metadata": {},
   "outputs": [
    {
     "data": {
      "text/plain": [
       "array([ 1,  2,  3, 10, 20, 30])"
      ]
     },
     "execution_count": 137,
     "metadata": {},
     "output_type": "execute_result"
    }
   ],
   "source": [
    "np.r_[a, b]  # a, b 배열을 결합함; np.hstack([a, b])"
   ]
  },
  {
   "cell_type": "code",
   "execution_count": 138,
   "id": "08aeccc2-a3cc-43b4-ad2e-650545b21509",
   "metadata": {},
   "outputs": [
    {
     "data": {
      "text/plain": [
       "array([ 1,  2,  3,  4,  5,  6, 10, 20, 30])"
      ]
     },
     "execution_count": 138,
     "metadata": {},
     "output_type": "execute_result"
    }
   ],
   "source": [
    "np.r_[a, 4, 5, 6, b]  # 중간에 개별 원소 삽입도 가능"
   ]
  },
  {
   "cell_type": "code",
   "execution_count": 142,
   "id": "365bbde7-09d4-4dbb-829e-f8f00720fe8d",
   "metadata": {},
   "outputs": [
    {
     "data": {
      "text/plain": [
       "array([0, 0, 0, 5, 6])"
      ]
     },
     "execution_count": 142,
     "metadata": {},
     "output_type": "execute_result"
    }
   ],
   "source": [
    "np.r_[[0] * 3, 5, 6]"
   ]
  },
  {
   "cell_type": "code",
   "execution_count": 140,
   "id": "9175f24f-7274-4c9e-b7b5-bcdb9485b675",
   "metadata": {},
   "outputs": [],
   "source": [
    "c = np.array([[1, 2, 3], [4, 5, 6]])\n",
    "d = np.array([[10, 20, 30], [40, 50, 60]])"
   ]
  },
  {
   "cell_type": "code",
   "execution_count": 141,
   "id": "9acfa617-a9c7-421b-aabf-714686b3f162",
   "metadata": {},
   "outputs": [
    {
     "data": {
      "text/plain": [
       "array([[ 1,  2,  3],\n",
       "       [ 4,  5,  6],\n",
       "       [10, 20, 30],\n",
       "       [40, 50, 60]])"
      ]
     },
     "execution_count": 141,
     "metadata": {},
     "output_type": "execute_result"
    }
   ],
   "source": [
    "np.r_[c, d]  # 2차원 배열을 axis = 0 방향으로 결합"
   ]
  },
  {
   "cell_type": "code",
   "execution_count": 145,
   "id": "a95eee54-1f22-4286-b888-e57ae3069740",
   "metadata": {},
   "outputs": [
    {
     "data": {
      "text/plain": [
       "array([[ 1],\n",
       "       [ 2],\n",
       "       [ 3],\n",
       "       [10],\n",
       "       [20],\n",
       "       [30]])"
      ]
     },
     "execution_count": 145,
     "metadata": {},
     "output_type": "execute_result"
    }
   ],
   "source": [
    "np.r_[a.reshape(-1,1), b.reshape(-1,1)]  # a, b를 2차원 배열로 만들어서 axis = 0 방향으로 결합; 행은 모르겠고, 열이 1개인 배열을 만들어서 뱉어줌"
   ]
  },
  {
   "cell_type": "code",
   "execution_count": 146,
   "id": "65b36494-dc43-4004-9474-035b9b48d2da",
   "metadata": {},
   "outputs": [
    {
     "data": {
      "text/plain": [
       "array([[ 1, 10],\n",
       "       [ 2, 20],\n",
       "       [ 3, 30]])"
      ]
     },
     "execution_count": 146,
     "metadata": {},
     "output_type": "execute_result"
    }
   ],
   "source": [
    "np.concatenate((a.reshape(-1, 1), b.reshape(-1, 1)), axis = 1)"
   ]
  },
  {
   "cell_type": "code",
   "execution_count": 147,
   "id": "58181445-fc53-44b3-b0ac-fa8f3caefa51",
   "metadata": {},
   "outputs": [
    {
     "data": {
      "text/plain": [
       "array([[ 1, 10],\n",
       "       [ 2, 20],\n",
       "       [ 3, 30]])"
      ]
     },
     "execution_count": 147,
     "metadata": {},
     "output_type": "execute_result"
    }
   ],
   "source": [
    "np.c_[a, b]"
   ]
  },
  {
   "cell_type": "code",
   "execution_count": 148,
   "id": "9c16e2e5-b08e-4f81-beab-d7de937ff584",
   "metadata": {},
   "outputs": [
    {
     "data": {
      "text/plain": [
       "array([[ 1, 10],\n",
       "       [ 2, 20],\n",
       "       [ 3, 30]])"
      ]
     },
     "execution_count": 148,
     "metadata": {},
     "output_type": "execute_result"
    }
   ],
   "source": [
    "np.column_stack([a, b])"
   ]
  },
  {
   "cell_type": "code",
   "execution_count": 150,
   "id": "195d922f-8b83-4b0d-aac7-044eeed8cd43",
   "metadata": {},
   "outputs": [
    {
     "data": {
      "text/plain": [
       "array([[ 1,  4, 10, 40],\n",
       "       [ 2,  5, 20, 50],\n",
       "       [ 3,  6, 30, 60]])"
      ]
     },
     "execution_count": 150,
     "metadata": {},
     "output_type": "execute_result"
    }
   ],
   "source": [
    "np.concatenate((c.T, d.T), axis = 1)  # c와 d의 전치행렬 결합"
   ]
  },
  {
   "cell_type": "code",
   "execution_count": null,
   "id": "eb6a1c13-9576-411e-91e0-c8af2bc75dba",
   "metadata": {},
   "outputs": [],
   "source": []
  },
  {
   "cell_type": "code",
   "execution_count": 152,
   "id": "071fb741-9887-4f35-bfd9-02c053ff4ddd",
   "metadata": {},
   "outputs": [
    {
     "name": "stdout",
     "output_type": "stream",
     "text": [
      "['1' '2' 'test'] <U11\n",
      "[1. 2. 3.] float64\n"
     ]
    }
   ],
   "source": [
    "list1 = [1, 2, 'test']\n",
    "array2 = np.array(list1)\n",
    "print(array2, array2.dtype)\n",
    "\n",
    "list2 = [1, 2, 3.0]\n",
    "array3 = np.array(list2)  # 정수형 값들이 데이터 사이즈가 큰 float 형태로 바뀜\n",
    "print(array3, array3.dtype)"
   ]
  },
  {
   "cell_type": "code",
   "execution_count": null,
   "id": "71240abb-a268-4bd2-bf02-08ebf4054317",
   "metadata": {},
   "outputs": [],
   "source": [
    "array_int = "
   ]
  },
  {
   "cell_type": "code",
   "execution_count": 153,
   "id": "eab1c0f8-9241-4397-8d8b-3ffa7335285f",
   "metadata": {},
   "outputs": [
    {
     "name": "stdout",
     "output_type": "stream",
     "text": [
      "21\n",
      "[5 7 9]\n",
      "[ 6 15]\n"
     ]
    }
   ],
   "source": [
    "array2 = np.array([[1,2,3], [4,5,6]])\n",
    "\n",
    "print(array2.sum())\n",
    "print(array2.sum(axis = 0))\n",
    "print(array2.sum(axis = 1))"
   ]
  },
  {
   "cell_type": "code",
   "execution_count": 155,
   "id": "70275ac1-75d2-4b3f-880d-02dcff2cdcbb",
   "metadata": {},
   "outputs": [
    {
     "data": {
      "text/plain": [
       "array([[1, 2],\n",
       "       [3, 4],\n",
       "       [5, 6]])"
      ]
     },
     "execution_count": 155,
     "metadata": {},
     "output_type": "execute_result"
    }
   ],
   "source": [
    "array2.reshape(3,2)"
   ]
  },
  {
   "cell_type": "code",
   "execution_count": 156,
   "id": "1265098a-83de-4364-8cbf-b8fb972b41a7",
   "metadata": {},
   "outputs": [
    {
     "data": {
      "text/plain": [
       "array([[1, 2],\n",
       "       [3, 4],\n",
       "       [5, 6]])"
      ]
     },
     "execution_count": 156,
     "metadata": {},
     "output_type": "execute_result"
    }
   ],
   "source": [
    "array2.reshape(-1,2)"
   ]
  },
  {
   "cell_type": "code",
   "execution_count": 157,
   "id": "67eafeb2-8b4a-4b5c-90be-325370d92277",
   "metadata": {},
   "outputs": [
    {
     "data": {
      "text/plain": [
       "array([[1, 2, 3],\n",
       "       [4, 5, 6]])"
      ]
     },
     "execution_count": 157,
     "metadata": {},
     "output_type": "execute_result"
    }
   ],
   "source": [
    "array2.reshape(2,-1)"
   ]
  },
  {
   "cell_type": "code",
   "execution_count": 158,
   "id": "7badf31a-1790-4c77-a4cd-403a6085b586",
   "metadata": {},
   "outputs": [],
   "source": [
    "array12 = np.arange(10)"
   ]
  },
  {
   "cell_type": "code",
   "execution_count": 159,
   "id": "c597317c-c826-4a28-a949-8300b28199c6",
   "metadata": {},
   "outputs": [
    {
     "data": {
      "text/plain": [
       "array([0, 1, 2, 3, 4, 5, 6, 7, 8, 9])"
      ]
     },
     "execution_count": 159,
     "metadata": {},
     "output_type": "execute_result"
    }
   ],
   "source": [
    "array12"
   ]
  },
  {
   "cell_type": "code",
   "execution_count": 162,
   "id": "0cdc7292-c5b5-462f-9c36-6fa2cad74509",
   "metadata": {},
   "outputs": [
    {
     "data": {
      "text/plain": [
       "array([[0],\n",
       "       [1],\n",
       "       [2],\n",
       "       [3],\n",
       "       [4],\n",
       "       [5],\n",
       "       [6],\n",
       "       [7],\n",
       "       [8],\n",
       "       [9]])"
      ]
     },
     "execution_count": 162,
     "metadata": {},
     "output_type": "execute_result"
    }
   ],
   "source": [
    "array12.reshape(-1, 1)  # 2차원으로 변환"
   ]
  },
  {
   "cell_type": "code",
   "execution_count": 161,
   "id": "dd3236b6-ea7f-4ccd-8b94-fb2f76e3fde5",
   "metadata": {},
   "outputs": [
    {
     "data": {
      "text/plain": [
       "array([0, 1, 2, 3, 4, 5, 6, 7, 8, 9])"
      ]
     },
     "execution_count": 161,
     "metadata": {},
     "output_type": "execute_result"
    }
   ],
   "source": [
    "array12.reshape(-1,)"
   ]
  },
  {
   "cell_type": "markdown",
   "id": "81083268-2ec5-4813-9223-774108c1ef8e",
   "metadata": {},
   "source": [
    "- 반드시 -1값은 1개으이 인자만 입력해야 함 (그렇지 않으면 오류 발생)"
   ]
  },
  {
   "cell_type": "code",
   "execution_count": 163,
   "id": "ec44925d-2dde-48a3-8dc4-f80d27464092",
   "metadata": {},
   "outputs": [
    {
     "name": "stdout",
     "output_type": "stream",
     "text": [
      "array3d:\n",
      " [[[0, 1], [2, 3]], [[4, 5], [6, 7]]]\n",
      "array5:\n",
      " [[0], [1], [2], [3], [4], [5], [6], [7]]\n",
      "array5 shape: (8, 1)\n"
     ]
    }
   ],
   "source": [
    "array1 = np.arange(8)\n",
    "array3d = array1.reshape(2,2,2)  # 3차원\n",
    "print('array3d:\\n', array3d.tolist())\n",
    "\n",
    "# 3차원 ndarray를 2차원 ndarray로 변환\n",
    "array5 = array3d.reshape(-1, 1)\n",
    "print('array5:\\n', array5.tolist())\n",
    "print('array5 shape:', array5.shape)"
   ]
  },
  {
   "cell_type": "code",
   "execution_count": 164,
   "id": "1353e0ee-b3ce-4635-855a-6f61cb80ae2c",
   "metadata": {},
   "outputs": [
    {
     "name": "stdout",
     "output_type": "stream",
     "text": [
      "array6:\n",
      " [[0], [1], [2], [3], [4], [5], [6], [7]]\n"
     ]
    },
    {
     "ename": "TypeError",
     "evalue": "'tuple' object is not callable",
     "output_type": "error",
     "traceback": [
      "\u001b[1;31m---------------------------------------------------------------------------\u001b[0m",
      "\u001b[1;31mTypeError\u001b[0m                                 Traceback (most recent call last)",
      "Input \u001b[1;32mIn [164]\u001b[0m, in \u001b[0;36m<cell line: 4>\u001b[1;34m()\u001b[0m\n\u001b[0;32m      2\u001b[0m array6 \u001b[38;5;241m=\u001b[39m array1\u001b[38;5;241m.\u001b[39mreshape(\u001b[38;5;241m-\u001b[39m\u001b[38;5;241m1\u001b[39m, \u001b[38;5;241m1\u001b[39m)\n\u001b[0;32m      3\u001b[0m \u001b[38;5;28mprint\u001b[39m(\u001b[38;5;124m'\u001b[39m\u001b[38;5;124marray6:\u001b[39m\u001b[38;5;130;01m\\n\u001b[39;00m\u001b[38;5;124m'\u001b[39m, array6\u001b[38;5;241m.\u001b[39mtolist())\n\u001b[1;32m----> 4\u001b[0m \u001b[38;5;28mprint\u001b[39m(\u001b[38;5;124m'\u001b[39m\u001b[38;5;124marray6 shape:\u001b[39m\u001b[38;5;124m'\u001b[39m, \u001b[43marray6\u001b[49m\u001b[38;5;241;43m.\u001b[39;49m\u001b[43mshape\u001b[49m\u001b[43m(\u001b[49m\u001b[43m)\u001b[49m)\n",
      "\u001b[1;31mTypeError\u001b[0m: 'tuple' object is not callable"
     ]
    }
   ],
   "source": [
    "# 1차원 ndarray를 2차원 ndarray로 변환\n",
    "array6 = array1.reshape(-1, 1)\n",
    "print('array6:\\n', array6.tolist())\n",
    "print('array6 shape:', array6.shape())"
   ]
  },
  {
   "cell_type": "code",
   "execution_count": 165,
   "id": "8e22b3ae-112c-4c70-aebe-8bb807c3b9c5",
   "metadata": {},
   "outputs": [
    {
     "name": "stdout",
     "output_type": "stream",
     "text": [
      "array6:\n",
      " [[0], [1], [2], [3], [4], [5], [6], [7]]\n",
      "array6 shape: (8, 1)\n"
     ]
    }
   ],
   "source": [
    "# 1차원 ndarray를 2차원 ndarray로 변환\n",
    "array6 = array1.reshape(-1, 1)\n",
    "print('array6:\\n', array6.tolist())\n",
    "print('array6 shape:', array6.shape)"
   ]
  },
  {
   "cell_type": "code",
   "execution_count": 167,
   "id": "d5e9b43c-ace4-4e0c-a66c-caa7e93bddb1",
   "metadata": {},
   "outputs": [],
   "source": [
    "array1d = np.arange(start = 1, stop = 10)"
   ]
  },
  {
   "cell_type": "markdown",
   "id": "7ff344ba-42fb-4edc-aae7-95a7048a8510",
   "metadata": {},
   "source": [
    "다시"
   ]
  },
  {
   "cell_type": "code",
   "execution_count": 168,
   "id": "3a56a2f2-145e-459c-a24a-c0fa686c15aa",
   "metadata": {},
   "outputs": [
    {
     "data": {
      "text/plain": [
       "array([3, 6])"
      ]
     },
     "execution_count": 168,
     "metadata": {},
     "output_type": "execute_result"
    }
   ],
   "source": [
    "array2d = array1d.reshape(3,3)\n",
    "\n",
    "array3 = array2d[[0,1], 2]\n",
    "array3"
   ]
  },
  {
   "cell_type": "code",
   "execution_count": 169,
   "id": "3522de21-2386-44d4-b793-5d177021ab0b",
   "metadata": {},
   "outputs": [
    {
     "data": {
      "text/plain": [
       "array([[1, 2, 3],\n",
       "       [4, 5, 6],\n",
       "       [7, 8, 9]])"
      ]
     },
     "execution_count": 169,
     "metadata": {},
     "output_type": "execute_result"
    }
   ],
   "source": [
    "array2d"
   ]
  },
  {
   "cell_type": "code",
   "execution_count": 172,
   "id": "9642a791-8707-4339-a099-90c5ce6299e9",
   "metadata": {},
   "outputs": [
    {
     "data": {
      "text/plain": [
       "array([6, 7, 8, 9])"
      ]
     },
     "execution_count": 172,
     "metadata": {},
     "output_type": "execute_result"
    }
   ],
   "source": [
    "array3 = array1d[array1d > 5]  # boolean index\n",
    "array3"
   ]
  },
  {
   "cell_type": "markdown",
   "id": "d79b8b84-d8c8-4095-a078-76e6668ccb2e",
   "metadata": {},
   "source": [
    "#### 5) np.sort()와 ndarray.sort() 정렬의 차이\n",
    "- np.sort(); 원행렬은 그대로 유지한 채, 원행렬의 정렬된 행렬 반환\n",
    "- ndarray.sort(); 원행렬 자체를 정렬한 형태로 반환하고, 반환값은 None\n",
    "\n",
    "모두 기본적으로 오름차순으로 정렬함"
   ]
  },
  {
   "cell_type": "markdown",
   "id": "192d5583-d3da-4bc2-b18b-65cc5c789e95",
   "metadata": {},
   "source": [
    "np.darray[::-1]"
   ]
  },
  {
   "cell_type": "code",
   "execution_count": 175,
   "id": "cb3e3164-abcf-4c24-8238-3cbcc87eb46c",
   "metadata": {},
   "outputs": [
    {
     "name": "stdout",
     "output_type": "stream",
     "text": [
      "[1 3 5 9]\n",
      "[1 0 3 2]\n",
      "<class 'numpy.ndarray'>\n"
     ]
    }
   ],
   "source": [
    "org_array = np.array([3, 1, 9, 5])\n",
    "print(np.sort(org_array))\n",
    "\n",
    "sort_indices = np.argsort(org_array)  # 행렬 정렬 시 원본 행렬의 인덱스\n",
    "print(sort_indices)\n",
    "print(type(sort_indices))"
   ]
  },
  {
   "cell_type": "code",
   "execution_count": 176,
   "id": "374397ae-1940-493b-871a-f1c6f55b080c",
   "metadata": {},
   "outputs": [
    {
     "ename": "IndexError",
     "evalue": "too many indices for array: array is 1-dimensional, but 2 were indexed",
     "output_type": "error",
     "traceback": [
      "\u001b[1;31m---------------------------------------------------------------------------\u001b[0m",
      "\u001b[1;31mIndexError\u001b[0m                                Traceback (most recent call last)",
      "Input \u001b[1;32mIn [176]\u001b[0m, in \u001b[0;36m<cell line: 1>\u001b[1;34m()\u001b[0m\n\u001b[1;32m----> 1\u001b[0m org_array[\u001b[38;5;241m1\u001b[39m,\u001b[38;5;241m3\u001b[39m] \u001b[38;5;241m=\u001b[39m \u001b[38;5;241m12\u001b[39m\n\u001b[0;32m      2\u001b[0m org_array\n",
      "\u001b[1;31mIndexError\u001b[0m: too many indices for array: array is 1-dimensional, but 2 were indexed"
     ]
    }
   ],
   "source": [
    "org_array[1,3] = 12\n",
    "org_array"
   ]
  },
  {
   "cell_type": "code",
   "execution_count": 177,
   "id": "abba0d37-a82d-4534-9086-6df431176928",
   "metadata": {},
   "outputs": [
    {
     "data": {
      "text/plain": [
       "array([ 3, 12, 12,  5])"
      ]
     },
     "execution_count": 177,
     "metadata": {},
     "output_type": "execute_result"
    }
   ],
   "source": [
    "org_array[1:3] = 12\n",
    "org_array"
   ]
  },
  {
   "cell_type": "markdown",
   "id": "59a42eb1-02ec-46b7-8f07-1039bd53bfc6",
   "metadata": {},
   "source": [
    "- 리스트 내에 리스트 형태의 데이터가 존재하는 목록형 데이터의 경우,\n",
    "\n",
    "    원본에 영향을 미치지 않아야 하는 경우에는 deepcopy() 사용"
   ]
  },
  {
   "cell_type": "markdown",
   "id": "2e88e212-05ab-497f-8ba5-8e9fe4c2b98d",
   "metadata": {},
   "source": [
    "배열복사에서는 행과 열을 기준으로 원본이 변하는지, 사본지 변화하는지 알아보고 이용"
   ]
  },
  {
   "cell_type": "code",
   "execution_count": 179,
   "id": "972a5b1d-b51e-42fa-a81a-ee74fccd05e9",
   "metadata": {},
   "outputs": [
    {
     "data": {
      "text/plain": [
       "(array([3, 3]), 3)"
      ]
     },
     "execution_count": 179,
     "metadata": {},
     "output_type": "execute_result"
    }
   ],
   "source": [
    "np.full(2,3), 3"
   ]
  },
  {
   "cell_type": "markdown",
   "id": "478c6401-c217-40c9-8729-2fa8686cd341",
   "metadata": {},
   "source": [
    "- .dot() 메소드"
   ]
  },
  {
   "cell_type": "markdown",
   "id": "9d6ce0a7-a173-4c1b-809e-b286ebda5407",
   "metadata": {},
   "source": [
    "- 2 * a  # array 연산\n",
    "- a _ b  # array 더하기 연산"
   ]
  },
  {
   "cell_type": "markdown",
   "id": "681ae903-2659-43f4-b3c7-0c45299a5d45",
   "metadata": {},
   "source": [
    "문제 1"
   ]
  },
  {
   "cell_type": "code",
   "execution_count": 198,
   "id": "5b66213f-97cc-4028-80fa-48f0e898b8a5",
   "metadata": {},
   "outputs": [
    {
     "name": "stdout",
     "output_type": "stream",
     "text": [
      "a 배열: [ 0 10 20 40 60 80]\n",
      "b 배열: [ 0 20]\n",
      "[ True False  True False False False]\n"
     ]
    }
   ],
   "source": [
    "a = np.array([0, 10, 20, 40, 60, 80])\n",
    "print('a 배열:', a)\n",
    "b = np.arange(0,30,20)\n",
    "print('b 배열:', b)\n",
    "\n",
    "t = np.full(a.shape, False)\n",
    "ind = 0\n",
    "for x in a:\n",
    "    if x in b:\n",
    "        t[ind] = True\n",
    "    ind += 1\n",
    "    \n",
    "print(t)"
   ]
  },
  {
   "cell_type": "markdown",
   "id": "42568023-3d7a-4e7b-a342-c7ef33748c15",
   "metadata": {},
   "source": [
    "문제 1"
   ]
  },
  {
   "cell_type": "code",
   "execution_count": 195,
   "id": "fa5d0766-f638-44e0-b966-cc4aa2701aac",
   "metadata": {},
   "outputs": [],
   "source": [
    "x = np.array([[10,20,40,60], [10, 20, 40, 40]])"
   ]
  },
  {
   "cell_type": "code",
   "execution_count": 196,
   "id": "77987e42-a065-413f-869f-34ce5c18ae4f",
   "metadata": {},
   "outputs": [
    {
     "data": {
      "text/plain": [
       "array([[10, 20, 40, 60],\n",
       "       [10, 20, 40, 40]])"
      ]
     },
     "execution_count": 196,
     "metadata": {},
     "output_type": "execute_result"
    }
   ],
   "source": [
    "x"
   ]
  },
  {
   "cell_type": "code",
   "execution_count": 197,
   "id": "c6d18cfb-b2c8-4dc8-ba9f-97fc8249c380",
   "metadata": {},
   "outputs": [
    {
     "data": {
      "text/plain": [
       "array([[False, False, False, False],\n",
       "       [False, False, False, False]])"
      ]
     },
     "execution_count": 197,
     "metadata": {},
     "output_type": "execute_result"
    }
   ],
   "source": [
    "np.full(x.shape, False)"
   ]
  },
  {
   "cell_type": "code",
   "execution_count": 204,
   "id": "637d3a64-9acd-4b7b-979b-2363ca8c89bf",
   "metadata": {},
   "outputs": [
    {
     "data": {
      "text/plain": [
       "array(False)"
      ]
     },
     "execution_count": 204,
     "metadata": {},
     "output_type": "execute_result"
    }
   ],
   "source": [
    "np.full(x.shape, False)"
   ]
  },
  {
   "cell_type": "code",
   "execution_count": 207,
   "id": "dec01a59-471b-4bb0-ab15-222dd7dd4f29",
   "metadata": {},
   "outputs": [
    {
     "name": "stdout",
     "output_type": "stream",
     "text": [
      "80\n"
     ]
    },
    {
     "data": {
      "text/plain": [
       "array([80])"
      ]
     },
     "execution_count": 207,
     "metadata": {},
     "output_type": "execute_result"
    }
   ],
   "source": [
    "print(x)\n",
    "x.flatten()"
   ]
  },
  {
   "cell_type": "code",
   "execution_count": 208,
   "id": "f343e3f9-7c9d-4474-a762-c53b0ae7544f",
   "metadata": {},
   "outputs": [
    {
     "name": "stdout",
     "output_type": "stream",
     "text": [
      "[80]\n",
      "[1]\n"
     ]
    }
   ],
   "source": [
    "unique, counts = np.unique(x, return_counts=True)\n",
    "\n",
    "print(unique)\n",
    "print(counts)"
   ]
  },
  {
   "cell_type": "code",
   "execution_count": 209,
   "id": "575fc62f-be8b-429c-b386-51347fedb5cf",
   "metadata": {},
   "outputs": [
    {
     "name": "stdout",
     "output_type": "stream",
     "text": [
      " 80 : 1번\n"
     ]
    }
   ],
   "source": [
    "for x, y in np.array((unique, counts)).T:\n",
    "    print('{:3d} :{:2d}번'.format(x, y))"
   ]
  },
  {
   "cell_type": "code",
   "execution_count": 210,
   "id": "0ae77dd3-f96b-4705-b5f3-6c372b3d7264",
   "metadata": {},
   "outputs": [
    {
     "name": "stdout",
     "output_type": "stream",
     "text": [
      "[[10 20 40 60]\n",
      " [10 20 40 40]]\n",
      "[10 20 40 60]\n",
      "[2 2 3 1]\n",
      " 10 : 2번\n",
      " 20 : 2번\n",
      " 40 : 3번\n",
      " 60 : 1번\n"
     ]
    }
   ],
   "source": [
    "x = np.array([[10,20,40,60], [10, 20, 40, 40]])\n",
    "print(x)\n",
    "x.flatten()\n",
    "\n",
    "unique, counts = np.unique(x, return_counts=True)\n",
    "\n",
    "print(unique)\n",
    "print(counts)\n",
    "\n",
    "for x, y in np.array((unique, counts)).T:\n",
    "    print('{:3d} :{:2d}번'.format(x, y))"
   ]
  },
  {
   "cell_type": "markdown",
   "id": "857fa8eb-e864-441f-92ed-82c3ca72c02f",
   "metadata": {},
   "source": [
    "문제 2"
   ]
  },
  {
   "cell_type": "code",
   "execution_count": 214,
   "id": "be9da113-29e4-497a-84d4-1659e82879e6",
   "metadata": {},
   "outputs": [
    {
     "data": {
      "text/plain": [
       "array([15, 16, 17, 18, 19, 20, 21, 22, 23])"
      ]
     },
     "execution_count": 214,
     "metadata": {},
     "output_type": "execute_result"
    }
   ],
   "source": [
    "x = np.arange(15,24)\n",
    "x"
   ]
  },
  {
   "cell_type": "code",
   "execution_count": 215,
   "id": "a0ed4cd7-3ef8-4310-b20a-b5c9f975078a",
   "metadata": {},
   "outputs": [
    {
     "data": {
      "text/plain": [
       "array([[15, 16, 17],\n",
       "       [18, 19, 20],\n",
       "       [21, 22, 23]])"
      ]
     },
     "execution_count": 215,
     "metadata": {},
     "output_type": "execute_result"
    }
   ],
   "source": [
    "x.reshape(3,3)"
   ]
  },
  {
   "cell_type": "code",
   "execution_count": 211,
   "id": "1bcec44c-a8ff-4d76-8c4a-182cb5c2d080",
   "metadata": {},
   "outputs": [],
   "source": [
    "x = np.array([[15, 16, 17], [18, 19, 20], [21, 22, 23]])"
   ]
  },
  {
   "cell_type": "code",
   "execution_count": 212,
   "id": "73621a72-107d-4a30-8215-79671e774662",
   "metadata": {},
   "outputs": [
    {
     "data": {
      "text/plain": [
       "array([[15, 16, 17],\n",
       "       [18, 19, 20],\n",
       "       [21, 22, 23]])"
      ]
     },
     "execution_count": 212,
     "metadata": {},
     "output_type": "execute_result"
    }
   ],
   "source": [
    "x"
   ]
  },
  {
   "cell_type": "markdown",
   "id": "8e82abeb-3c1f-44c6-a99a-ad561f3347dc",
   "metadata": {},
   "source": [
    "문제 3"
   ]
  },
  {
   "cell_type": "code",
   "execution_count": 217,
   "id": "466f4ce0-73d3-4f42-84f1-5dd545efa66b",
   "metadata": {},
   "outputs": [
    {
     "name": "stdout",
     "output_type": "stream",
     "text": [
      "[1 2 3 4]\n",
      "[5 6 7 8]\n"
     ]
    }
   ],
   "source": [
    "x1 = np.arange(1,5)\n",
    "x2 = np.arange(5,9)\n",
    "print(x1)\n",
    "print(x2)"
   ]
  },
  {
   "cell_type": "code",
   "execution_count": 219,
   "id": "b3e1cc1c-ea0d-4ce9-89c1-f51dcc87723a",
   "metadata": {},
   "outputs": [
    {
     "data": {
      "text/plain": [
       "array([False, False, False, False])"
      ]
     },
     "execution_count": 219,
     "metadata": {},
     "output_type": "execute_result"
    }
   ],
   "source": [
    "x1 == x2"
   ]
  },
  {
   "cell_type": "code",
   "execution_count": 227,
   "id": "c5dd7e9f-6d1c-476d-a36c-bc03db7b1d2f",
   "metadata": {},
   "outputs": [
    {
     "name": "stdout",
     "output_type": "stream",
     "text": [
      "1 5\n",
      "2 6\n",
      "3 7\n",
      "4 8\n"
     ]
    },
    {
     "data": {
      "text/plain": [
       "array([False, False, False, False])"
      ]
     },
     "execution_count": 227,
     "metadata": {},
     "output_type": "execute_result"
    }
   ],
   "source": [
    "x1 = np.arange(1,5)\n",
    "x2 = np.arange(5,9)\n",
    "\n",
    "result = np.full(x1.size, False)\n",
    "for i in range(x1.size):\n",
    "    print(x1[i], x2[i])\n",
    "    if x1[i] == x2[i]:\n",
    "        result[i] = True\n",
    "result"
   ]
  },
  {
   "cell_type": "markdown",
   "id": "26a8899c-af68-41c0-a346-f029b15e1c12",
   "metadata": {},
   "source": [
    "문제 4"
   ]
  },
  {
   "cell_type": "code",
   "execution_count": 220,
   "id": "27691d98-759a-4009-b00a-470150414725",
   "metadata": {},
   "outputs": [],
   "source": [
    "중간고사 = 15, 100, 45\n",
    "기말고사 = 78, 25, 90\n",
    "과제 = 81, 45, 99"
   ]
  },
  {
   "cell_type": "code",
   "execution_count": 231,
   "id": "beef53bd-6659-4024-b851-b9ba3938a868",
   "metadata": {},
   "outputs": [
    {
     "data": {
      "text/plain": [
       "array([[ 15, 100,  45],\n",
       "       [ 78,  25,  90],\n",
       "       [ 81,  45,  99]])"
      ]
     },
     "execution_count": 231,
     "metadata": {},
     "output_type": "execute_result"
    }
   ],
   "source": [
    "x1 = np.array([[15, 100, 45], [78, 25, 90], [81, 45, 99]])\n",
    "x1"
   ]
  },
  {
   "cell_type": "code",
   "execution_count": 236,
   "id": "8f249c91-8e3d-4a6c-9412-663734afc182",
   "metadata": {},
   "outputs": [
    {
     "data": {
      "text/plain": [
       "array([[ 6. , 40. ,  9. ],\n",
       "       [31.2, 10. , 18. ],\n",
       "       [32.4, 18. , 19.8]])"
      ]
     },
     "execution_count": 236,
     "metadata": {},
     "output_type": "execute_result"
    }
   ],
   "source": [
    "x1_w = x1 * [0.4, 0.4, 0.2]\n",
    "x1_w"
   ]
  },
  {
   "cell_type": "code",
   "execution_count": 237,
   "id": "ddc2bb17-b5a9-427f-9b69-96a20c59a0ef",
   "metadata": {},
   "outputs": [
    {
     "data": {
      "text/plain": [
       "array([[ 21. , 140. ,  54. ],\n",
       "       [109.2,  35. , 108. ],\n",
       "       [113.4,  63. , 118.8]])"
      ]
     },
     "execution_count": 237,
     "metadata": {},
     "output_type": "execute_result"
    }
   ],
   "source": [
    "x1 + x1_w"
   ]
  },
  {
   "cell_type": "code",
   "execution_count": 239,
   "id": "2b4b9758-0777-4ae6-b3ce-b81b378dd817",
   "metadata": {},
   "outputs": [],
   "source": [
    "x1_we = x1 + x1_w"
   ]
  },
  {
   "cell_type": "code",
   "execution_count": 240,
   "id": "e06e2b09-e44b-4eab-9547-8919d304ecec",
   "metadata": {},
   "outputs": [
    {
     "data": {
      "text/plain": [
       "array([[ 21. , 140. ,  54. ],\n",
       "       [109.2,  35. , 108. ],\n",
       "       [113.4,  63. , 118.8]])"
      ]
     },
     "execution_count": 240,
     "metadata": {},
     "output_type": "execute_result"
    }
   ],
   "source": [
    "x1_we"
   ]
  },
  {
   "cell_type": "code",
   "execution_count": 249,
   "id": "d19b8d27-6aab-4494-b5c3-59e93c6b85ba",
   "metadata": {},
   "outputs": [
    {
     "data": {
      "text/plain": [
       "array([[5., 5., 5.],\n",
       "       [5., 5., 5.],\n",
       "       [5., 5., 5.]])"
      ]
     },
     "execution_count": 249,
     "metadata": {},
     "output_type": "execute_result"
    }
   ],
   "source": [
    "_s = np.ones((3,3)) * 5\n",
    "_s"
   ]
  },
  {
   "cell_type": "code",
   "execution_count": 251,
   "id": "1a8801ff-0fb0-425d-ad45-af26e3fbf8e1",
   "metadata": {},
   "outputs": [
    {
     "data": {
      "text/plain": [
       "array([[ 26. , 145. ,  59. ],\n",
       "       [114.2,  40. , 113. ],\n",
       "       [118.4,  68. , 123.8]])"
      ]
     },
     "execution_count": 251,
     "metadata": {},
     "output_type": "execute_result"
    }
   ],
   "source": [
    "m_f = x1_we + _s\n",
    "m_f"
   ]
  },
  {
   "cell_type": "code",
   "execution_count": 256,
   "id": "0a0b202f-04b3-4c0f-b9d3-6c27ea5ad9ab",
   "metadata": {},
   "outputs": [
    {
     "name": "stdout",
     "output_type": "stream",
     "text": [
      "89.7111111111111\n",
      "39.62166759753906\n"
     ]
    }
   ],
   "source": [
    "print(m_f.mean())\n",
    "print(m_f.std())"
   ]
  },
  {
   "cell_type": "code",
   "execution_count": 257,
   "id": "e315c2c9-ca37-4daa-8a41-38166daaf549",
   "metadata": {},
   "outputs": [
    {
     "data": {
      "text/plain": [
       "array([[118.4,  68. , 123.8]])"
      ]
     },
     "execution_count": 257,
     "metadata": {},
     "output_type": "execute_result"
    }
   ],
   "source": [
    "m_f[2:]"
   ]
  },
  {
   "cell_type": "markdown",
   "id": "288f6ab4-d99e-45a6-8bfa-615b3b45e54a",
   "metadata": {},
   "source": [
    "------"
   ]
  },
  {
   "cell_type": "code",
   "execution_count": 258,
   "id": "2891b3f7-69b5-49a1-a849-a0b80fe6d040",
   "metadata": {},
   "outputs": [
    {
     "name": "stdout",
     "output_type": "stream",
     "text": [
      "[58.4 64.  78.8]\n",
      "53.333333333333336\n",
      "35.19785346990479\n",
      "58.400000000000006\n"
     ]
    }
   ],
   "source": [
    "import numpy as np\n",
    "mid = np.array([15, 100, 45])\n",
    "fin = np.array([78, 25, 90])\n",
    "hw = np.array([81, 45, 99])\n",
    "\n",
    "total = 0.4*mid+0.4*fin+0.2*hw+5\n",
    "\n",
    "print(total)\n",
    "\n",
    "print(mid.mean())\n",
    "print(mid.std())\n",
    "print(total[0])"
   ]
  }
 ],
 "metadata": {
  "kernelspec": {
   "display_name": "Python 3 (ipykernel)",
   "language": "python",
   "name": "python3"
  },
  "language_info": {
   "codemirror_mode": {
    "name": "ipython",
    "version": 3
   },
   "file_extension": ".py",
   "mimetype": "text/x-python",
   "name": "python",
   "nbconvert_exporter": "python",
   "pygments_lexer": "ipython3",
   "version": "3.9.12"
  }
 },
 "nbformat": 4,
 "nbformat_minor": 5
}
