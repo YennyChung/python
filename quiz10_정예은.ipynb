{
 "cells": [
  {
   "cell_type": "markdown",
   "id": "0c34bf42-777d-4205-a457-49abb46f7d7d",
   "metadata": {},
   "source": [
    "문제 1"
   ]
  },
  {
   "cell_type": "code",
   "execution_count": 45,
   "id": "316a8582-ce61-4c0b-99f5-ef148ed17c6b",
   "metadata": {},
   "outputs": [
    {
     "name": "stdin",
     "output_type": "stream",
     "text": [
      "점의 좌표 x, y를 입력하시오 :  2 4\n"
     ]
    },
    {
     "name": "stdout",
     "output_type": "stream",
     "text": [
      "1사분면에 있음\n"
     ]
    }
   ],
   "source": [
    "x, y = input('점의 좌표 x, y를 입력하시오 : ').split()\n",
    "x = int(x)\n",
    "y = int(y)\n",
    "if x > 0 and y > 0:\n",
    " print('1사분면에 있음')\n",
    "elif x > 0 and y < 0:\n",
    " print('4사분면에 있음')\n",
    "elif x < 0 and y > 0:\n",
    " print('2사분면에 있음')\n",
    "else:\n",
    " print('3사분면에 있음')"
   ]
  },
  {
   "cell_type": "markdown",
   "id": "d921d752-8486-487b-b2c2-b786be50ff41",
   "metadata": {},
   "source": [
    "문제 2"
   ]
  },
  {
   "cell_type": "code",
   "execution_count": 8,
   "id": "60eb2e65-ca3b-4986-88f4-6e124cef9c0e",
   "metadata": {},
   "outputs": [
    {
     "name": "stdin",
     "output_type": "stream",
     "text": [
      "세 수를 입력하시오 10\n",
      "세 수를 입력하시오 30\n",
      "세 수를 입력하시오 20\n"
     ]
    },
    {
     "name": "stdout",
     "output_type": "stream",
     "text": [
      "20.0\n",
      "30\n",
      "10\n"
     ]
    }
   ],
   "source": [
    "import pandas as pd\n",
    "import numpy as np\n",
    "\n",
    "a = int(input('세 수를 입력하시오'))\n",
    "b = int(input('세 수를 입력하시오'))\n",
    "c = int(input('세 수를 입력하시오'))\n",
    "\n",
    "list_abc = [a, b, c]\n",
    "\n",
    "print(sum(list_abc) / len(list_abc))\n",
    "print(max(a, b, c))\n",
    "print(min(a, b, c))"
   ]
  },
  {
   "cell_type": "code",
   "execution_count": 57,
   "id": "b56be532-51b2-4280-a5fc-72697d9850a6",
   "metadata": {},
   "outputs": [
    {
     "ename": "SyntaxError",
     "evalue": "invalid syntax (1189655955.py, line 11)",
     "output_type": "error",
     "traceback": [
      "\u001b[1;36m  Input \u001b[1;32mIn [57]\u001b[1;36m\u001b[0m\n\u001b[1;33m    else :\u001b[0m\n\u001b[1;37m    ^\u001b[0m\n\u001b[1;31mSyntaxError\u001b[0m\u001b[1;31m:\u001b[0m invalid syntax\n"
     ]
    }
   ],
   "source": [
    "def mean3(a, b, c):\n",
    "    return (a+b+c)/3\n",
    "\n",
    "def max3(a, b, c):\n",
    "    max = a\n",
    "    if b > c:\n",
    "        if max > b:\n",
    "            return max\n",
    "        else :\n",
    "            return b\n",
    "        else :\n",
    "            if max > c:\n",
    "                return max\n",
    "            else:\n",
    "                return c\n",
    "\n",
    "def min3(a, b, c):\n",
    "    m1 = a\n",
    "    if b > c:\n",
    "        m2 = c\n",
    "        else:\n",
    "            m2 = b\n",
    "            if m1 > m2:\n",
    "                return m2\n",
    "            else:\n",
    "                return m1\n",
    "a, b, c = input('세 수를 입력하시오 :').split()\n",
    "a, b, c = int(a), int(b), int(c)\n",
    "print(a, \",\", b, \",\", c, \"의 평균값은\", mean3(a, b, c))\n",
    "print(a, \",\", b, \",\", c, \"의 최댓값은\", max3(a, b, c))\n",
    "print(a, \",\", b, \",\", c, \"의 최솟값은\", min3(a, b, c))"
   ]
  },
  {
   "cell_type": "markdown",
   "id": "acf253ea-a15c-4b81-a79d-3f5007732f83",
   "metadata": {},
   "source": [
    "문제 3"
   ]
  },
  {
   "cell_type": "code",
   "execution_count": 9,
   "id": "674f1a76-22ea-4a84-aea2-6ece747d1d7e",
   "metadata": {},
   "outputs": [],
   "source": [
    "l1 = ['I like', 'I love']\n",
    "l2 = ['fan cake.', 'kiwi juice.', 'espresso.']"
   ]
  },
  {
   "cell_type": "code",
   "execution_count": 13,
   "id": "b5c01ba4-72ed-4d08-90b5-ef8f2604f967",
   "metadata": {},
   "outputs": [
    {
     "data": {
      "text/plain": [
       "'I like fan cake.'"
      ]
     },
     "execution_count": 13,
     "metadata": {},
     "output_type": "execute_result"
    }
   ],
   "source": [
    "l1[0] + ' '+ l2[0]"
   ]
  },
  {
   "cell_type": "code",
   "execution_count": 15,
   "id": "c354d047-ee83-4307-9738-a355e41bb1ff",
   "metadata": {},
   "outputs": [
    {
     "data": {
      "text/plain": [
       "'I like kiwi juice.'"
      ]
     },
     "execution_count": 15,
     "metadata": {},
     "output_type": "execute_result"
    }
   ],
   "source": [
    "l1[0] + ' '+ l2[1]"
   ]
  },
  {
   "cell_type": "code",
   "execution_count": 17,
   "id": "ba554e87-7d43-4dbd-8325-5f9d6a269c0d",
   "metadata": {},
   "outputs": [
    {
     "data": {
      "text/plain": [
       "'I like espresso.'"
      ]
     },
     "execution_count": 17,
     "metadata": {},
     "output_type": "execute_result"
    }
   ],
   "source": [
    "l1[0] + ' '+ l2[2]"
   ]
  },
  {
   "cell_type": "code",
   "execution_count": 49,
   "id": "e8d6210c-7f48-4947-a039-3f9db461cd97",
   "metadata": {},
   "outputs": [
    {
     "name": "stdout",
     "output_type": "stream",
     "text": [
      "I like fan cake.\n",
      "I like kiwi juice.\n",
      "I like espresso.\n",
      "I love fan cake.\n",
      "I love kiwi juice.\n",
      "I love espresso.\n"
     ]
    }
   ],
   "source": [
    "l1 = ['I like', 'I love']\n",
    "l2 = ['fan cake.', 'kiwi juice.', 'espresso.']\n",
    "\n",
    "for i in l1:\n",
    "    for j in l2:\n",
    "        print(i,j)"
   ]
  },
  {
   "cell_type": "markdown",
   "id": "de0bbbfb-a5a4-4024-b98f-7b6a43e49ded",
   "metadata": {},
   "source": [
    "문제 4"
   ]
  },
  {
   "cell_type": "code",
   "execution_count": 18,
   "id": "c5c01b97-9689-40b2-8b15-2da6a6fc6068",
   "metadata": {},
   "outputs": [
    {
     "data": {
      "text/plain": [
       "(('박동규', 88, 95, 90),\n",
       " ('강영민', 85, 90, 95),\n",
       " ('박동민', 70, 90, 80),\n",
       " ('홍승주', 90, 90, 95))"
      ]
     },
     "execution_count": 18,
     "metadata": {},
     "output_type": "execute_result"
    }
   ],
   "source": [
    "scores = ( ('박동규', 88, 95, 90), ('강영민', 85, 90, 95), ('박동민', 70, 90, 80), ('홍승주', 90, 90, 95))\n",
    "scores"
   ]
  },
  {
   "cell_type": "code",
   "execution_count": 20,
   "id": "ad219e16-efac-4eed-a2b5-360f7fd4dcc8",
   "metadata": {},
   "outputs": [
    {
     "data": {
      "text/plain": [
       "[('박동규', 88, 95, 90),\n",
       " ('강영민', 85, 90, 95),\n",
       " ('박동민', 70, 90, 80),\n",
       " ('홍승주', 90, 90, 95)]"
      ]
     },
     "execution_count": 20,
     "metadata": {},
     "output_type": "execute_result"
    }
   ],
   "source": [
    "list(scores)"
   ]
  },
  {
   "cell_type": "code",
   "execution_count": 26,
   "id": "cd4c8569-c74e-49a1-af5a-a13741fc83f7",
   "metadata": {},
   "outputs": [
    {
     "data": {
      "text/plain": [
       "91.25"
      ]
     },
     "execution_count": 26,
     "metadata": {},
     "output_type": "execute_result"
    }
   ],
   "source": [
    "(list(scores)[0][2] + list(scores)[1][2] + list(scores)[2][2] + list(scores)[3][2]) / 4"
   ]
  },
  {
   "cell_type": "code",
   "execution_count": 52,
   "id": "3bdbf09e-c5b9-4eb5-ad5f-80a0e23a5100",
   "metadata": {},
   "outputs": [],
   "source": [
    "_, _, math, science = zip(*scores)"
   ]
  },
  {
   "cell_type": "code",
   "execution_count": 53,
   "id": "992bfb8e-ddfb-4848-9633-1a4be4e0af8b",
   "metadata": {},
   "outputs": [
    {
     "name": "stdout",
     "output_type": "stream",
     "text": [
      "학생들의 수학 성적의 평균은 91.25입니다.\n"
     ]
    }
   ],
   "source": [
    "total = 0\n",
    "for n in math:\n",
    "    total += n\n",
    "print('학생들의 수학 성적의 평균은 {0:5.2f}입니다.'.format(total/len(math)))"
   ]
  },
  {
   "cell_type": "markdown",
   "id": "6e2b866c-ce46-40e3-b32b-cf91b78b5a30",
   "metadata": {},
   "source": [
    "문제 5"
   ]
  },
  {
   "cell_type": "code",
   "execution_count": null,
   "id": "87e74b43-357e-4e7d-9e03-51392164ad4a",
   "metadata": {},
   "outputs": [],
   "source": [
    "x = int(input(\"1~20까지의 숫자를 입력하세요: \"))\n",
    "for i in x:\n",
    "    if"
   ]
  },
  {
   "cell_type": "code",
   "execution_count": 59,
   "id": "2570f292-8702-42b0-868c-6ec5d5e705e9",
   "metadata": {},
   "outputs": [
    {
     "name": "stdin",
     "output_type": "stream",
     "text": [
      "1~20까지의 숫자를 입력하세요:  15\n"
     ]
    },
    {
     "name": "stdout",
     "output_type": "stream",
     "text": [
      "15 보다 작습니다!\n"
     ]
    },
    {
     "name": "stdin",
     "output_type": "stream",
     "text": [
      "1~20까지의 숫자를 입력하세요:  14\n"
     ]
    },
    {
     "name": "stdout",
     "output_type": "stream",
     "text": [
      "14 보다 작습니다!\n"
     ]
    },
    {
     "name": "stdin",
     "output_type": "stream",
     "text": [
      "1~20까지의 숫자를 입력하세요:  13\n"
     ]
    },
    {
     "name": "stdout",
     "output_type": "stream",
     "text": [
      "13 보다 작습니다!\n"
     ]
    },
    {
     "name": "stdin",
     "output_type": "stream",
     "text": [
      "1~20까지의 숫자를 입력하세요:  12\n"
     ]
    },
    {
     "name": "stdout",
     "output_type": "stream",
     "text": [
      "12 보다 작습니다!\n"
     ]
    },
    {
     "name": "stdin",
     "output_type": "stream",
     "text": [
      "1~20까지의 숫자를 입력하세요:  11\n"
     ]
    },
    {
     "name": "stdout",
     "output_type": "stream",
     "text": [
      "11 보다 작습니다!\n"
     ]
    },
    {
     "name": "stdin",
     "output_type": "stream",
     "text": [
      "1~20까지의 숫자를 입력하세요:  10\n"
     ]
    },
    {
     "name": "stdout",
     "output_type": "stream",
     "text": [
      "10 보다 작습니다!\n"
     ]
    },
    {
     "name": "stdin",
     "output_type": "stream",
     "text": [
      "1~20까지의 숫자를 입력하세요:  9\n"
     ]
    },
    {
     "name": "stdout",
     "output_type": "stream",
     "text": [
      "9 보다 작습니다!\n"
     ]
    },
    {
     "name": "stdin",
     "output_type": "stream",
     "text": [
      "1~20까지의 숫자를 입력하세요:  5\n"
     ]
    },
    {
     "name": "stdout",
     "output_type": "stream",
     "text": [
      "5 보다 작습니다!\n"
     ]
    },
    {
     "name": "stdin",
     "output_type": "stream",
     "text": [
      "1~20까지의 숫자를 입력하세요:  4\n"
     ]
    },
    {
     "name": "stdout",
     "output_type": "stream",
     "text": [
      "정답입니다!\n",
      "9 번만에 맞추다니 쩝쩝...\n"
     ]
    }
   ],
   "source": [
    "import random # 난수를 만드는 random 모듈 사용\n",
    "x = random.randint(1, 20) # 1~20 난수 발생\n",
    "number=-1\n",
    "n = 0\n",
    "# while 무한 루프\n",
    "while number!= x :\n",
    "    number = int(input(\"1~20까지의 숫자를 입력하세요: \"))\n",
    "    n += 1\n",
    "    if x == number : # 정답이면 break\n",
    "        print(\"정답입니다!\")\n",
    "    elif x > number :\n",
    "        print(number, \"보다 큽니다!\")\n",
    "    else :\n",
    "        print(number, \"보다 작습니다!\")\n",
    "    \n",
    "# 평가 출력\n",
    "if n <= 3 :\n",
    "    print(n, \"번만에 맞춘 당신은 천재!\")\n",
    "elif n <= 6 :\n",
    "    print(n, \"번만에 맞추셨네요. 잘했어요^^\")\n",
    "else :\n",
    "    print(n, \"번만에 맞추다니 쩝쩝...\")"
   ]
  },
  {
   "cell_type": "markdown",
   "id": "dd1ec1c0-83b6-4ac1-90f7-eb30b20294d2",
   "metadata": {},
   "source": [
    "문제 6"
   ]
  },
  {
   "cell_type": "code",
   "execution_count": 27,
   "id": "9efccf3a-54cc-4bc5-bd7f-94498d87e861",
   "metadata": {},
   "outputs": [
    {
     "data": {
      "text/plain": [
       "(60, 50, 40, 30, 20, 10)"
      ]
     },
     "execution_count": 27,
     "metadata": {},
     "output_type": "execute_result"
    }
   ],
   "source": [
    "t = (10, 20, 30, 40, 50, 60)\n",
    "t[::-1]"
   ]
  },
  {
   "cell_type": "markdown",
   "id": "e7177c03-b1ec-4c48-93c6-fcd9917dbf6d",
   "metadata": {},
   "source": [
    "문제 7"
   ]
  },
  {
   "cell_type": "code",
   "execution_count": 44,
   "id": "a120d31a-0855-44cc-b1db-61494f4365c0",
   "metadata": {},
   "outputs": [],
   "source": [
    "f = open('C:/Users/Conet/number1to10.txt', 'w')\n",
    "for i in range(1, 11):\n",
    "    data = \"%d\\n\" % i\n",
    "    f.write(data)\n",
    "f.close()"
   ]
  },
  {
   "cell_type": "markdown",
   "id": "9e1a3fbb-1e5f-4469-a60e-7c085c0b0c2d",
   "metadata": {},
   "source": [
    "문제 8"
   ]
  },
  {
   "cell_type": "code",
   "execution_count": 28,
   "id": "08d4642f-3ae6-45f7-a35e-79bb90996a40",
   "metadata": {},
   "outputs": [
    {
     "data": {
      "text/plain": [
       "array([0.97620375, 0.99864207, 0.27800585, 0.01630545, 0.71967406,\n",
       "       0.91931575, 0.75442624, 0.03007028, 0.42860514, 0.26647723])"
      ]
     },
     "execution_count": 28,
     "metadata": {},
     "output_type": "execute_result"
    }
   ],
   "source": [
    "import numpy as np\n",
    "\n",
    "a = np.random.random(10)\n",
    "a"
   ]
  },
  {
   "cell_type": "code",
   "execution_count": 29,
   "id": "66eabb75-7369-46a7-808a-ee0c88500425",
   "metadata": {},
   "outputs": [
    {
     "data": {
      "text/plain": [
       "0.9986420711253938"
      ]
     },
     "execution_count": 29,
     "metadata": {},
     "output_type": "execute_result"
    }
   ],
   "source": [
    "a.max()"
   ]
  },
  {
   "cell_type": "code",
   "execution_count": 30,
   "id": "ea86e9ab-5bf6-471b-afcf-cbd55f92fba2",
   "metadata": {},
   "outputs": [
    {
     "data": {
      "text/plain": [
       "0.01630545239768244"
      ]
     },
     "execution_count": 30,
     "metadata": {},
     "output_type": "execute_result"
    }
   ],
   "source": [
    "a.min()"
   ]
  },
  {
   "cell_type": "code",
   "execution_count": 31,
   "id": "4cfe8579-139f-49a6-8999-04a7191cd043",
   "metadata": {},
   "outputs": [
    {
     "data": {
      "text/plain": [
       "0.5387725828160369"
      ]
     },
     "execution_count": 31,
     "metadata": {},
     "output_type": "execute_result"
    }
   ],
   "source": [
    "a.mean()"
   ]
  },
  {
   "cell_type": "markdown",
   "id": "f4b99788-3f97-4b80-abcd-8a471a4bfdd9",
   "metadata": {},
   "source": [
    "문제 9"
   ]
  },
  {
   "cell_type": "code",
   "execution_count": 34,
   "id": "007f5419-4cbc-4195-a525-5c7cc50ad371",
   "metadata": {},
   "outputs": [],
   "source": [
    "a = [[0, 1, 2], [3, 4, 5], [0, 2, 4], [6, 8, 10]]\n",
    "b = [[0, 1, 2, 0, 2, 4], [3, 4, 5, 6, 8, 10]]"
   ]
  },
  {
   "cell_type": "code",
   "execution_count": 39,
   "id": "e437f522-8eec-478a-8f5d-ffdae36cf158",
   "metadata": {},
   "outputs": [
    {
     "data": {
      "text/plain": [
       "array([0, 1, 2, 0, 2, 4])"
      ]
     },
     "execution_count": 39,
     "metadata": {},
     "output_type": "execute_result"
    }
   ],
   "source": [
    "np.concatenate((a[0], a[2]), axis = 0)"
   ]
  },
  {
   "cell_type": "code",
   "execution_count": 41,
   "id": "11a1d29e-37a5-49b6-98a9-ea0a1e4ed571",
   "metadata": {},
   "outputs": [
    {
     "data": {
      "text/plain": [
       "array([ 3,  4,  5,  6,  8, 10])"
      ]
     },
     "execution_count": 41,
     "metadata": {},
     "output_type": "execute_result"
    }
   ],
   "source": [
    "np.concatenate((a[1], a[3]), axis = 0)"
   ]
  },
  {
   "cell_type": "code",
   "execution_count": 43,
   "id": "63b07546-d7b1-477a-bd81-cb13a4bbcbde",
   "metadata": {},
   "outputs": [
    {
     "data": {
      "text/plain": [
       "([0, 1, 2, 0, 2, 4], [3, 4, 5, 6, 8, 10])"
      ]
     },
     "execution_count": 43,
     "metadata": {},
     "output_type": "execute_result"
    }
   ],
   "source": [
    "list(np.concatenate((a[0], a[2]), axis = 0)), list(np.concatenate((a[1], a[3]), axis = 0))"
   ]
  },
  {
   "cell_type": "code",
   "execution_count": 60,
   "id": "9a53c31a-1c03-4000-8c82-e668b081ceb8",
   "metadata": {},
   "outputs": [
    {
     "name": "stdout",
     "output_type": "stream",
     "text": [
      "a = [[ 0  1  2]\n",
      " [ 3  4  5]\n",
      " [ 0  2  4]\n",
      " [ 6  8 10]]\n",
      "b = [[ 0  1  2  0  2  4]\n",
      " [ 3  4  5  6  8 10]]\n"
     ]
    }
   ],
   "source": [
    "a = np.array([[0, 1, 2], [3, 4, 5], [0, 2, 4], [6, 8, 10]])\n",
    "print('a =', a)\n",
    "a1 = np.append(a[0], a[2])\n",
    "a2 = np.append(a[1], a[3])\n",
    "b = np.array([a1, a2])\n",
    "print('b =', b)"
   ]
  },
  {
   "cell_type": "markdown",
   "id": "0228f774-0e53-4ce2-8e2a-eb87b086ec07",
   "metadata": {},
   "source": [
    "문제 10"
   ]
  },
  {
   "cell_type": "markdown",
   "id": "9c374a21-f5df-4e7f-9730-0d527f2083b5",
   "metadata": {},
   "source": [
    "- 결측치와 이상치 여부 확인\n",
    "- 데이터의 정규성 여부 확인\n",
    "- 데이터의 본질적인 내용(중심, 산포) 등 확인"
   ]
  },
  {
   "cell_type": "code",
   "execution_count": null,
   "id": "daa0e3bf-759d-4f33-9fda-0a2af63896b7",
   "metadata": {},
   "outputs": [],
   "source": []
  }
 ],
 "metadata": {
  "kernelspec": {
   "display_name": "Python 3 (ipykernel)",
   "language": "python",
   "name": "python3"
  },
  "language_info": {
   "codemirror_mode": {
    "name": "ipython",
    "version": 3
   },
   "file_extension": ".py",
   "mimetype": "text/x-python",
   "name": "python",
   "nbconvert_exporter": "python",
   "pygments_lexer": "ipython3",
   "version": "3.9.12"
  }
 },
 "nbformat": 4,
 "nbformat_minor": 5
}
