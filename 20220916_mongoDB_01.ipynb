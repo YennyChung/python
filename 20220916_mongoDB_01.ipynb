{
 "cells": [
  {
   "cell_type": "code",
   "execution_count": 1,
   "id": "1bbb10dc",
   "metadata": {},
   "outputs": [],
   "source": [
    "from bs4 import BeautifulSoup\n",
    "import requests\n",
    "import pymongo\n",
    "import re"
   ]
  },
  {
   "cell_type": "code",
   "execution_count": 2,
   "id": "ff3518b4",
   "metadata": {},
   "outputs": [],
   "source": [
    "conn = pymongo.MongoClient()\n",
    "cine = conn.cine\n",
    "collection_cine2 = cine.collection_cine2"
   ]
  },
  {
   "cell_type": "code",
   "execution_count": 3,
   "id": "6780c59a",
   "metadata": {},
   "outputs": [],
   "source": [
    "collection_cine2.find_one()"
   ]
  },
  {
   "cell_type": "markdown",
   "id": "c02bca6e",
   "metadata": {},
   "source": [
    "### index\n",
    "- 검색 속도를 향상시키기 위해서 사용하는 데이터 구조\n",
    "- index 를 사용하지 않으면 collection 에 있는 document 를 \n",
    "- 하나씩 조회하는 방식으로 검색함"
   ]
  },
  {
   "cell_type": "markdown",
   "id": "42c4d8a3",
   "metadata": {},
   "source": [
    "### 기본 index\n",
    "- MongDB 의 collection 은 기본적으로 _id key 기반으로 index 가 생성됨\n",
    "  -  Single Field index (단일 필드 index)\n",
    "  -  Compound Field index (복합 필드 index)"
   ]
  },
  {
   "cell_type": "code",
   "execution_count": 4,
   "id": "a7033a82",
   "metadata": {},
   "outputs": [
    {
     "data": {
      "text/plain": [
       "'배우 이름_1'"
      ]
     },
     "execution_count": 4,
     "metadata": {},
     "output_type": "execute_result"
    }
   ],
   "source": [
    "'''\n",
    "단일 필드 index : 하나의 field 로 index 를 생성함\n",
    " <-- 컬렉션이름.create_index(key(field))\n",
    "'''\n",
    "collection_cine2.create_index(\"배우 이름\")"
   ]
  },
  {
   "cell_type": "code",
   "execution_count": 5,
   "id": "401ab743",
   "metadata": {},
   "outputs": [
    {
     "data": {
      "text/plain": [
       "{'_id_': {'v': 2, 'key': [('_id', 1)], 'ns': 'cine.collection_cine2'},\n",
       " '배우 이름_1': {'v': 2, 'key': [('배우 이름', 1)], 'ns': 'cine.collection_cine2'}}"
      ]
     },
     "execution_count": 5,
     "metadata": {},
     "output_type": "execute_result"
    }
   ],
   "source": [
    "'''\n",
    "index 의 기본 정보 조회하기\n",
    "  <-- 컬렉션이름.index_information()\n",
    "'''\n",
    "collection_cine2.index_information()"
   ]
  },
  {
   "cell_type": "markdown",
   "id": "534ddf59",
   "metadata": {},
   "source": [
    "- key(\"필드이름\", direction)\n",
    "  -  direction\n",
    "    -  pymongo.ASCENDING = 1 : 오름차순 (default)\n",
    "    -  pymongo.DESCENDING = -1 : 내림차순\n",
    "    -  pymongo.TEXT = \"text\" : text 검색을 쉽게 할 수 있도록 함"
   ]
  },
  {
   "cell_type": "markdown",
   "id": "c6a1b901",
   "metadata": {},
   "source": [
    "### index 삭제하기\n",
    "- 전체 index 삭제\n",
    "- 컬렉션이름.drop_indexes()\n",
    "-  ㄴ 기본 index 이외의 모든 index 가 삭제됨"
   ]
  },
  {
   "cell_type": "code",
   "execution_count": 6,
   "id": "a1803062",
   "metadata": {},
   "outputs": [],
   "source": [
    "collection_cine2.drop_indexes()"
   ]
  },
  {
   "cell_type": "code",
   "execution_count": 7,
   "id": "76f97cbd",
   "metadata": {},
   "outputs": [
    {
     "data": {
      "text/plain": [
       "{'_id_': {'v': 2, 'key': [('_id', 1)], 'ns': 'cine.collection_cine2'}}"
      ]
     },
     "execution_count": 7,
     "metadata": {},
     "output_type": "execute_result"
    }
   ],
   "source": [
    "collection_cine2.index_information()"
   ]
  },
  {
   "cell_type": "markdown",
   "id": "6ced98e4",
   "metadata": {},
   "source": [
    "- 특정 index 삭제하기\n",
    "- 컬렉션이름.drop_index([('필드명',1)])"
   ]
  },
  {
   "cell_type": "code",
   "execution_count": 8,
   "id": "0029f710",
   "metadata": {},
   "outputs": [
    {
     "data": {
      "text/plain": [
       "'흥행지수_1'"
      ]
     },
     "execution_count": 8,
     "metadata": {},
     "output_type": "execute_result"
    }
   ],
   "source": [
    "collection_cine2.create_index(\"배우 이름\")\n",
    "collection_cine2.create_index(\"랭킹\")\n",
    "collection_cine2.create_index(\"흥행지수\")"
   ]
  },
  {
   "cell_type": "code",
   "execution_count": 9,
   "id": "4117de20",
   "metadata": {},
   "outputs": [
    {
     "data": {
      "text/plain": [
       "{'_id_': {'v': 2, 'key': [('_id', 1)], 'ns': 'cine.collection_cine2'},\n",
       " '배우 이름_1': {'v': 2, 'key': [('배우 이름', 1)], 'ns': 'cine.collection_cine2'},\n",
       " '랭킹_1': {'v': 2, 'key': [('랭킹', 1)], 'ns': 'cine.collection_cine2'},\n",
       " '흥행지수_1': {'v': 2, 'key': [('흥행지수', 1)], 'ns': 'cine.collection_cine2'}}"
      ]
     },
     "execution_count": 9,
     "metadata": {},
     "output_type": "execute_result"
    }
   ],
   "source": [
    "collection_cine2.index_information()"
   ]
  },
  {
   "cell_type": "code",
   "execution_count": 10,
   "id": "feaae48e",
   "metadata": {},
   "outputs": [
    {
     "data": {
      "text/plain": [
       "'직업_-1'"
      ]
     },
     "execution_count": 10,
     "metadata": {},
     "output_type": "execute_result"
    }
   ],
   "source": [
    "'''\n",
    "\"직업\" key(field) 로 index 를 생성하면서\n",
    "DESCENDING 으로 설정하기\n",
    "'''\n",
    "collection_cine2.create_index([(\"직업\", pymongo.DESCENDING)])"
   ]
  },
  {
   "cell_type": "code",
   "execution_count": 11,
   "id": "76fb76dd",
   "metadata": {},
   "outputs": [
    {
     "data": {
      "text/plain": [
       "{'_id_': {'v': 2, 'key': [('_id', 1)], 'ns': 'cine.collection_cine2'},\n",
       " '배우 이름_1': {'v': 2, 'key': [('배우 이름', 1)], 'ns': 'cine.collection_cine2'},\n",
       " '랭킹_1': {'v': 2, 'key': [('랭킹', 1)], 'ns': 'cine.collection_cine2'},\n",
       " '흥행지수_1': {'v': 2, 'key': [('흥행지수', 1)], 'ns': 'cine.collection_cine2'},\n",
       " '직업_-1': {'v': 2, 'key': [('직업', -1)], 'ns': 'cine.collection_cine2'}}"
      ]
     },
     "execution_count": 11,
     "metadata": {},
     "output_type": "execute_result"
    }
   ],
   "source": [
    "collection_cine2.index_information()"
   ]
  },
  {
   "cell_type": "code",
   "execution_count": 12,
   "id": "4a521fc0",
   "metadata": {},
   "outputs": [
    {
     "data": {
      "text/plain": [
       "'출연영화_text'"
      ]
     },
     "execution_count": 12,
     "metadata": {},
     "output_type": "execute_result"
    }
   ],
   "source": [
    "collection_cine2.create_index([(\"출연영화\", \"text\")])"
   ]
  },
  {
   "cell_type": "code",
   "execution_count": 13,
   "id": "cbf5baef",
   "metadata": {},
   "outputs": [
    {
     "data": {
      "text/plain": [
       "{'_id_': {'v': 2, 'key': [('_id', 1)], 'ns': 'cine.collection_cine2'},\n",
       " '배우 이름_1': {'v': 2, 'key': [('배우 이름', 1)], 'ns': 'cine.collection_cine2'},\n",
       " '랭킹_1': {'v': 2, 'key': [('랭킹', 1)], 'ns': 'cine.collection_cine2'},\n",
       " '흥행지수_1': {'v': 2, 'key': [('흥행지수', 1)], 'ns': 'cine.collection_cine2'},\n",
       " '직업_-1': {'v': 2, 'key': [('직업', -1)], 'ns': 'cine.collection_cine2'},\n",
       " '출연영화_text': {'v': 2,\n",
       "  'key': [('_fts', 'text'), ('_ftsx', 1)],\n",
       "  'ns': 'cine.collection_cine2',\n",
       "  'weights': SON([('출연영화', 1)]),\n",
       "  'default_language': 'english',\n",
       "  'language_override': 'language',\n",
       "  'textIndexVersion': 3}}"
      ]
     },
     "execution_count": 13,
     "metadata": {},
     "output_type": "execute_result"
    }
   ],
   "source": [
    "collection_cine2.index_information()"
   ]
  },
  {
   "cell_type": "code",
   "execution_count": 14,
   "id": "d347df31",
   "metadata": {},
   "outputs": [],
   "source": [
    "collection_cine2.drop_indexes()"
   ]
  },
  {
   "cell_type": "code",
   "execution_count": 15,
   "id": "3aaff859",
   "metadata": {},
   "outputs": [
    {
     "data": {
      "text/plain": [
       "{'_id_': {'v': 2, 'key': [('_id', 1)], 'ns': 'cine.collection_cine2'}}"
      ]
     },
     "execution_count": 15,
     "metadata": {},
     "output_type": "execute_result"
    }
   ],
   "source": [
    "collection_cine2.index_information()"
   ]
  },
  {
   "cell_type": "code",
   "execution_count": 16,
   "id": "54b110d6",
   "metadata": {},
   "outputs": [
    {
     "data": {
      "text/plain": [
       "'배우 이름_1'"
      ]
     },
     "execution_count": 16,
     "metadata": {},
     "output_type": "execute_result"
    }
   ],
   "source": [
    "collection_cine2.create_index(\"배우 이름\")"
   ]
  },
  {
   "cell_type": "code",
   "execution_count": 17,
   "id": "3f26f791",
   "metadata": {},
   "outputs": [],
   "source": [
    "documents = \\\n",
    "  collection_cine2.find({\"배우 이름\":\"김윤석\"}, {\"배우 이름\":1, \"출연영화\":1, \"_id\":0})\n",
    "\n",
    "for document in documents:\n",
    "    print(document)"
   ]
  },
  {
   "cell_type": "code",
   "execution_count": 18,
   "id": "8f23c3c1",
   "metadata": {},
   "outputs": [],
   "source": [
    "import pprint\n",
    "\n",
    "documents = \\\n",
    "  collection_cine2.find({\"배우 이름\":\"김윤석\"})\n",
    "\n",
    "for document in documents:\n",
    "    pprint.pprint(document)"
   ]
  },
  {
   "cell_type": "code",
   "execution_count": 19,
   "id": "f148ee68",
   "metadata": {},
   "outputs": [
    {
     "data": {
      "text/plain": [
       "{'_id_': {'v': 2, 'key': [('_id', 1)], 'ns': 'cine.collection_cine2'},\n",
       " '배우 이름_1': {'v': 2, 'key': [('배우 이름', 1)], 'ns': 'cine.collection_cine2'}}"
      ]
     },
     "execution_count": 19,
     "metadata": {},
     "output_type": "execute_result"
    }
   ],
   "source": [
    "collection_cine2.index_information()"
   ]
  },
  {
   "cell_type": "code",
   "execution_count": 20,
   "id": "f6f62028",
   "metadata": {},
   "outputs": [
    {
     "data": {
      "text/plain": [
       "'직업_text'"
      ]
     },
     "execution_count": 20,
     "metadata": {},
     "output_type": "execute_result"
    }
   ],
   "source": [
    "collection_cine2.create_index([(\"직업\", \"text\")])"
   ]
  },
  {
   "cell_type": "code",
   "execution_count": 21,
   "id": "e0ef016f",
   "metadata": {},
   "outputs": [
    {
     "data": {
      "text/plain": [
       "{'_id_': {'v': 2, 'key': [('_id', 1)], 'ns': 'cine.collection_cine2'},\n",
       " '배우 이름_1': {'v': 2, 'key': [('배우 이름', 1)], 'ns': 'cine.collection_cine2'},\n",
       " '직업_text': {'v': 2,\n",
       "  'key': [('_fts', 'text'), ('_ftsx', 1)],\n",
       "  'ns': 'cine.collection_cine2',\n",
       "  'weights': SON([('직업', 1)]),\n",
       "  'default_language': 'english',\n",
       "  'language_override': 'language',\n",
       "  'textIndexVersion': 3}}"
      ]
     },
     "execution_count": 21,
     "metadata": {},
     "output_type": "execute_result"
    }
   ],
   "source": [
    "collection_cine2.index_information()"
   ]
  },
  {
   "cell_type": "code",
   "execution_count": 22,
   "id": "4028236d",
   "metadata": {},
   "outputs": [],
   "source": [
    "documents = collection_cine2.find({\"$text\":{\"$search\":\"가수\"}})\n",
    "\n",
    "for document in documents:\n",
    "    pprint.pprint(document)"
   ]
  },
  {
   "cell_type": "code",
   "execution_count": 23,
   "id": "53413b60",
   "metadata": {},
   "outputs": [
    {
     "data": {
      "text/plain": [
       "{'_id_': {'v': 2, 'key': [('_id', 1)], 'ns': 'cine.collection_cine2'},\n",
       " '배우 이름_1': {'v': 2, 'key': [('배우 이름', 1)], 'ns': 'cine.collection_cine2'},\n",
       " '직업_text': {'v': 2,\n",
       "  'key': [('_fts', 'text'), ('_ftsx', 1)],\n",
       "  'ns': 'cine.collection_cine2',\n",
       "  'weights': SON([('직업', 1)]),\n",
       "  'default_language': 'english',\n",
       "  'language_override': 'language',\n",
       "  'textIndexVersion': 3}}"
      ]
     },
     "execution_count": 23,
     "metadata": {},
     "output_type": "execute_result"
    }
   ],
   "source": [
    "collection_cine2.index_information()"
   ]
  },
  {
   "cell_type": "code",
   "execution_count": 24,
   "id": "11726603",
   "metadata": {},
   "outputs": [],
   "source": [
    "collection_cine2.drop_index([(\"배우 이름\", 1)])"
   ]
  },
  {
   "cell_type": "code",
   "execution_count": 25,
   "id": "1f96b821",
   "metadata": {},
   "outputs": [
    {
     "data": {
      "text/plain": [
       "{'_id_': {'v': 2, 'key': [('_id', 1)], 'ns': 'cine.collection_cine2'},\n",
       " '직업_text': {'v': 2,\n",
       "  'key': [('_fts', 'text'), ('_ftsx', 1)],\n",
       "  'ns': 'cine.collection_cine2',\n",
       "  'weights': SON([('직업', 1)]),\n",
       "  'default_language': 'english',\n",
       "  'language_override': 'language',\n",
       "  'textIndexVersion': 3}}"
      ]
     },
     "execution_count": 25,
     "metadata": {},
     "output_type": "execute_result"
    }
   ],
   "source": [
    "collection_cine2.index_information()"
   ]
  },
  {
   "cell_type": "code",
   "execution_count": 26,
   "id": "e86a5e49",
   "metadata": {},
   "outputs": [],
   "source": [
    "collection_cine2.drop_index([(\"직업\", \"text\")])"
   ]
  },
  {
   "cell_type": "code",
   "execution_count": 27,
   "id": "cc6ba5f0",
   "metadata": {},
   "outputs": [
    {
     "data": {
      "text/plain": [
       "{'_id_': {'v': 2, 'key': [('_id', 1)], 'ns': 'cine.collection_cine2'}}"
      ]
     },
     "execution_count": 27,
     "metadata": {},
     "output_type": "execute_result"
    }
   ],
   "source": [
    "collection_cine2.index_information()"
   ]
  },
  {
   "cell_type": "code",
   "execution_count": 28,
   "id": "865f8292",
   "metadata": {},
   "outputs": [
    {
     "data": {
      "text/plain": [
       "'배우 이름_text'"
      ]
     },
     "execution_count": 28,
     "metadata": {},
     "output_type": "execute_result"
    }
   ],
   "source": [
    "collection_cine2.create_index([(\"배우 이름\", \"text\")])\n"
   ]
  },
  {
   "cell_type": "code",
   "execution_count": 29,
   "id": "5757e591",
   "metadata": {},
   "outputs": [
    {
     "data": {
      "text/plain": [
       "'출연영화_1'"
      ]
     },
     "execution_count": 29,
     "metadata": {},
     "output_type": "execute_result"
    }
   ],
   "source": [
    "collection_cine2.create_index([(\"출연영화\", 1)])"
   ]
  },
  {
   "cell_type": "code",
   "execution_count": 30,
   "id": "1eda8c79",
   "metadata": {},
   "outputs": [],
   "source": [
    "collection_cine2.drop_index([(\"출연영화\", 1)])"
   ]
  },
  {
   "cell_type": "code",
   "execution_count": 31,
   "id": "6d7c1dc8",
   "metadata": {
    "scrolled": true
   },
   "outputs": [
    {
     "data": {
      "text/plain": [
       "{'_id_': {'v': 2, 'key': [('_id', 1)], 'ns': 'cine.collection_cine2'},\n",
       " '배우 이름_text': {'v': 2,\n",
       "  'key': [('_fts', 'text'), ('_ftsx', 1)],\n",
       "  'ns': 'cine.collection_cine2',\n",
       "  'weights': SON([('배우 이름', 1)]),\n",
       "  'default_language': 'english',\n",
       "  'language_override': 'language',\n",
       "  'textIndexVersion': 3}}"
      ]
     },
     "execution_count": 31,
     "metadata": {},
     "output_type": "execute_result"
    }
   ],
   "source": [
    "collection_cine2.index_information()"
   ]
  },
  {
   "cell_type": "code",
   "execution_count": 32,
   "id": "c61bfd29",
   "metadata": {},
   "outputs": [
    {
     "data": {
      "text/plain": [
       "{'_id_': {'v': 2, 'key': [('_id', 1)], 'ns': 'cine.collection_cine2'},\n",
       " '배우 이름_text': {'v': 2,\n",
       "  'key': [('_fts', 'text'), ('_ftsx', 1)],\n",
       "  'ns': 'cine.collection_cine2',\n",
       "  'weights': SON([('배우 이름', 1)]),\n",
       "  'default_language': 'english',\n",
       "  'language_override': 'language',\n",
       "  'textIndexVersion': 3}}"
      ]
     },
     "execution_count": 32,
     "metadata": {},
     "output_type": "execute_result"
    }
   ],
   "source": [
    "collection_cine2.index_information()"
   ]
  },
  {
   "cell_type": "code",
   "execution_count": 33,
   "id": "6b561871",
   "metadata": {},
   "outputs": [],
   "source": [
    "documents = collection_cine2.find({\"$text\" : {\"$search\":\"박해일\"}})\n",
    "for document in documents:\n",
    "    pprint.pprint(document)"
   ]
  },
  {
   "cell_type": "code",
   "execution_count": 34,
   "id": "07a2a255",
   "metadata": {
    "scrolled": true
   },
   "outputs": [],
   "source": [
    "documents = collection_cine2.find({\"$text\" : {\"$search\":\"김윤석\"}})\n",
    "for document in documents:\n",
    "    pprint.pprint(document)"
   ]
  },
  {
   "cell_type": "markdown",
   "id": "e68eab48",
   "metadata": {},
   "source": [
    "-  Compound Field index (복합 필드 index)\n",
    "  - 최대 31 개의 필드로 index 를 생성할 수 있음\n",
    "  - 여러 개의 필드를 하나의 index 로 지정함"
   ]
  },
  {
   "cell_type": "code",
   "execution_count": 35,
   "id": "6aec8990",
   "metadata": {},
   "outputs": [],
   "source": [
    "collection_cine2.drop_indexes()"
   ]
  },
  {
   "cell_type": "code",
   "execution_count": 36,
   "id": "ebe004ea",
   "metadata": {},
   "outputs": [
    {
     "data": {
      "text/plain": [
       "'출연영화_text_직업_text_흥행지수_-1'"
      ]
     },
     "execution_count": 36,
     "metadata": {},
     "output_type": "execute_result"
    }
   ],
   "source": [
    "'''\n",
    "복합 필드 인덱스 생성하기\n",
    "'''\n",
    "collection_cine2.create_index(\n",
    "                                 [(\"출연영화\",pymongo.TEXT), (\"직업\", pymongo.TEXT),(\"흥행지수\", pymongo.DESCENDING)]                                 \n",
    "                             )"
   ]
  },
  {
   "cell_type": "code",
   "execution_count": 37,
   "id": "f50294ce",
   "metadata": {},
   "outputs": [
    {
     "data": {
      "text/plain": [
       "{'_id_': {'v': 2, 'key': [('_id', 1)], 'ns': 'cine.collection_cine2'},\n",
       " '출연영화_text_직업_text_흥행지수_-1': {'v': 2,\n",
       "  'key': [('_fts', 'text'), ('_ftsx', 1), ('흥행지수', -1)],\n",
       "  'ns': 'cine.collection_cine2',\n",
       "  'weights': SON([('직업', 1), ('출연영화', 1)]),\n",
       "  'default_language': 'english',\n",
       "  'language_override': 'language',\n",
       "  'textIndexVersion': 3}}"
      ]
     },
     "execution_count": 37,
     "metadata": {},
     "output_type": "execute_result"
    }
   ],
   "source": [
    "collection_cine2.index_information()"
   ]
  },
  {
   "cell_type": "markdown",
   "id": "26da46bb",
   "metadata": {},
   "source": [
    "### 복합 필드 인덱스로 부분문자열 검색(조회)하기"
   ]
  },
  {
   "cell_type": "code",
   "execution_count": 38,
   "id": "eac2d4a1",
   "metadata": {},
   "outputs": [],
   "source": [
    "for document in collection_cine2.find({\"$text\":{\"$search\":\"가수\"}}):\n",
    "    pprint.pprint(document)"
   ]
  },
  {
   "cell_type": "code",
   "execution_count": 39,
   "id": "9a126469",
   "metadata": {},
   "outputs": [],
   "source": [
    "for document in collection_cine2.find({\"$text\":{\"$search\":\"모가디슈\"}}):\n",
    "    pprint.pprint(document)"
   ]
  },
  {
   "cell_type": "markdown",
   "id": "3f9d4293",
   "metadata": {},
   "source": [
    "### 정규표현식(Regular Expression) 을 사용해서 부분문자열 검색하기"
   ]
  },
  {
   "cell_type": "code",
   "execution_count": 40,
   "id": "7831e686",
   "metadata": {},
   "outputs": [],
   "source": [
    "'''\n",
    "출연영화에 \"함께\"라는 문자열이 있는 document 조회하기\n",
    "'''\n",
    "for document in collection_cine2.find({\"출연영화\":{\"$regex\":\"함께\"}}):\n",
    "    pprint.pprint(document)"
   ]
  },
  {
   "cell_type": "code",
   "execution_count": 41,
   "id": "873b8a3a",
   "metadata": {},
   "outputs": [],
   "source": [
    "'''\n",
    "출연영화에 \"국가\"라는 문자열이 있는 document 조회하기\n",
    "'''\n",
    "for document in collection_cine2.find({\"출연영화\":{\"$regex\":\"국가\"}}):\n",
    "    pprint.pprint(document)"
   ]
  },
  {
   "cell_type": "code",
   "execution_count": 42,
   "id": "7a9920ea",
   "metadata": {},
   "outputs": [],
   "source": [
    "'''\n",
    "collection_text 라는 컬렉션 생성하기\n",
    "'''\n",
    "collection_text = cine.collection_text"
   ]
  },
  {
   "cell_type": "code",
   "execution_count": 43,
   "id": "4be552e4",
   "metadata": {},
   "outputs": [],
   "source": [
    "doc1 = {\"name\":\"java cafe\", \"description\":\"Coffe & Cake\", \"ranking\":1}\n",
    "doc2 = {\"name\":\"Burger Pot\", \"description\":\"Coffe & Burgar\", \"ranking\":2}\n",
    "doc3 = {\"name\":\"Coffee Shop\", \"description\":\"Only Coffee\", \"ranking\":3}\n",
    "doc4 = {\"name\":\"Clothes Shop\", \"description\":\"Discount Clothes\", \"ranking\":4}\n",
    "doc5 = {\"name\":\"Shopping Site\", \"description\":\"Shopping & Rest\", \"ranking\":5}"
   ]
  },
  {
   "cell_type": "code",
   "execution_count": 44,
   "id": "3bf35b00",
   "metadata": {},
   "outputs": [
    {
     "data": {
      "text/plain": [
       "<pymongo.results.InsertManyResult at 0x1d451cb3550>"
      ]
     },
     "execution_count": 44,
     "metadata": {},
     "output_type": "execute_result"
    }
   ],
   "source": [
    "collection_text.insert_many(\n",
    "    [doc1, doc2, doc3, doc4, doc5]\n",
    ")"
   ]
  },
  {
   "cell_type": "code",
   "execution_count": 45,
   "id": "fa5934dc",
   "metadata": {},
   "outputs": [
    {
     "name": "stdout",
     "output_type": "stream",
     "text": [
      "{'name': 'Coffee Shop', 'description': 'Only Coffee', 'ranking': 3}\n"
     ]
    }
   ],
   "source": [
    "'''\n",
    "regex\n",
    "  .  문자 하나\n",
    "  +  하나 이상\n",
    "  *  없거나 또는 그 이상\n",
    "'''\n",
    "\n",
    "for document in collection_text.find({\"name\" : {\"$regex\" : \"Co.+\"}}, {\"_id\":0}):\n",
    "    print(document)"
   ]
  },
  {
   "cell_type": "code",
   "execution_count": 46,
   "id": "156bc4a2",
   "metadata": {},
   "outputs": [
    {
     "name": "stdout",
     "output_type": "stream",
     "text": [
      "{'name': 'Coffee Shop', 'description': 'Only Coffee', 'ranking': 3}\n"
     ]
    }
   ],
   "source": [
    "for document in collection_text.find({\"name\": {\"$regex\":\"Co.*\"}}, {\"_id\":0}):\n",
    "    print(document)"
   ]
  },
  {
   "cell_type": "code",
   "execution_count": 47,
   "id": "5e84171c",
   "metadata": {},
   "outputs": [
    {
     "data": {
      "text/plain": [
       "<pymongo.results.InsertOneResult at 0x1d44fd13100>"
      ]
     },
     "execution_count": 47,
     "metadata": {},
     "output_type": "execute_result"
    }
   ],
   "source": [
    "collection_text.insert_one(\n",
    "    {\"name\":\"Co\", \"description\":\"cafe\", \"ranking\":6}\n",
    ")"
   ]
  },
  {
   "cell_type": "code",
   "execution_count": 48,
   "id": "84ea8ece",
   "metadata": {},
   "outputs": [
    {
     "name": "stdout",
     "output_type": "stream",
     "text": [
      "{'name': 'Coffee Shop', 'description': 'Only Coffee', 'ranking': 3}\n",
      "{'name': 'Co', 'description': 'cafe', 'ranking': 6}\n"
     ]
    }
   ],
   "source": [
    "for document in collection_text.find({\"name\": {\"$regex\":\"Co.*\"}}, {\"_id\":0}):\n",
    "    print(document)"
   ]
  },
  {
   "cell_type": "code",
   "execution_count": 49,
   "id": "d9a621c5",
   "metadata": {},
   "outputs": [
    {
     "name": "stdout",
     "output_type": "stream",
     "text": [
      "{'name': 'Coffee Shop', 'description': 'Only Coffee', 'ranking': 3}\n"
     ]
    }
   ],
   "source": [
    "for document in collection_text.find({\"name\": {\"$regex\":\"Co.+\"}}, {\"_id\":0}):\n",
    "    print(document)"
   ]
  },
  {
   "cell_type": "code",
   "execution_count": 50,
   "id": "55604808",
   "metadata": {},
   "outputs": [
    {
     "data": {
      "text/plain": [
       "'name_text'"
      ]
     },
     "execution_count": 50,
     "metadata": {},
     "output_type": "execute_result"
    }
   ],
   "source": [
    "'''\n",
    "name 필드에 text 속성을 지정해서 index 생성하기\n",
    "'''\n",
    "collection_text.create_index([(\"name\", \"text\")])"
   ]
  },
  {
   "cell_type": "code",
   "execution_count": 51,
   "id": "0c91b1a0",
   "metadata": {},
   "outputs": [
    {
     "data": {
      "text/plain": [
       "{'_id_': {'v': 2, 'key': [('_id', 1)], 'ns': 'cine.collection_text'},\n",
       " 'name_text': {'v': 2,\n",
       "  'key': [('_fts', 'text'), ('_ftsx', 1)],\n",
       "  'ns': 'cine.collection_text',\n",
       "  'weights': SON([('name', 1)]),\n",
       "  'default_language': 'english',\n",
       "  'language_override': 'language',\n",
       "  'textIndexVersion': 3}}"
      ]
     },
     "execution_count": 51,
     "metadata": {},
     "output_type": "execute_result"
    }
   ],
   "source": [
    "collection_text.index_information()"
   ]
  },
  {
   "cell_type": "code",
   "execution_count": 52,
   "id": "af8c8ef1",
   "metadata": {},
   "outputs": [
    {
     "name": "stdout",
     "output_type": "stream",
     "text": [
      "{'description': 'Only Coffee', 'name': 'Coffee Shop', 'ranking': 3}\n"
     ]
    }
   ],
   "source": [
    "for document in collection_text.find({\"$text\":{\"$search\":\"Coffee\"}}, {\"_id\":0}):\n",
    "    pprint.pprint(document)"
   ]
  },
  {
   "cell_type": "code",
   "execution_count": 53,
   "id": "137d40a2",
   "metadata": {},
   "outputs": [
    {
     "name": "stdout",
     "output_type": "stream",
     "text": [
      "{'description': 'Only Coffee', 'name': 'Coffee Shop', 'ranking': 3}\n",
      "{'description': 'Coffe & Cake', 'name': 'java cafe', 'ranking': 1}\n",
      "{'description': 'Shopping & Rest', 'name': 'Shopping Site', 'ranking': 5}\n",
      "{'description': 'Discount Clothes', 'name': 'Clothes Shop', 'ranking': 4}\n"
     ]
    }
   ],
   "source": [
    "documents = \\\n",
    "  collection_text.find({\"$text\":{\"$search\":\"Java coffee shop\"}}, {\"_id\":0})\n",
    "\n",
    "for document in documents:\n",
    "    pprint.pprint(document)"
   ]
  },
  {
   "cell_type": "code",
   "execution_count": 54,
   "id": "6e30fa4e",
   "metadata": {},
   "outputs": [],
   "source": [
    "''' \n",
    " \"검색할문자열\" : \"\" 속에 지정한 문자열과 일치하는 내용만 조회함\n",
    "'''\n",
    "documents = \\\n",
    "  collection_text.find({\"$text\":{\"$search\": \"\\\"Java coffee shop\\\"\"}}, {\"_id\":0})\n",
    "\n",
    "for document in documents:\n",
    "    print(document)"
   ]
  },
  {
   "cell_type": "code",
   "execution_count": 55,
   "id": "492e3212",
   "metadata": {},
   "outputs": [
    {
     "name": "stdout",
     "output_type": "stream",
     "text": [
      "{'name': 'Coffee Shop', 'description': 'Only Coffee', 'ranking': 3}\n"
     ]
    }
   ],
   "source": [
    "documents = \\\n",
    "  collection_text.find({\"$text\":{\"$search\": \"\\\"coffee shop\\\"\"}}, {\"_id\":0})\n",
    "\n",
    "for document in documents:\n",
    "    print(document)"
   ]
  },
  {
   "cell_type": "code",
   "execution_count": 56,
   "id": "6385994b",
   "metadata": {},
   "outputs": [
    {
     "name": "stdout",
     "output_type": "stream",
     "text": [
      "{'name': 'Burger Pot', 'description': 'Coffe & Burgar', 'ranking': 2}\n"
     ]
    }
   ],
   "source": [
    "documents = \\\n",
    "  collection_text.find({\"$text\":{\"$search\": \"\\\"burger pot\\\"\"}}, {\"_id\":0})\n",
    "\n",
    "for document in documents:\n",
    "    print(document)"
   ]
  },
  {
   "cell_type": "code",
   "execution_count": 64,
   "id": "89ec2504",
   "metadata": {},
   "outputs": [],
   "source": [
    "'''\n",
    "대소문자 구분해서 일치하는 내용 조회하기\n",
    "\n",
    "  \"$caseSensitive\":True \n",
    "  \n",
    "  라고 설정함\n",
    "'''\n",
    "\n",
    "documents = \\\n",
    "  collection_text.find({\"$text\":{\"$search\":\"\\\"coffee shop\\\"\", \"$caseSensitive\":True}}, {\"_id\":0})\n",
    "\n",
    "for document in documents:\n",
    "    print(document)"
   ]
  },
  {
   "cell_type": "code",
   "execution_count": 63,
   "id": "c81e643f",
   "metadata": {},
   "outputs": [
    {
     "name": "stdout",
     "output_type": "stream",
     "text": [
      "{'배우 이름': '박해일', '학교': '남서울대학교 영어학 (중퇴)'}\n",
      "{'배우 이름': '박지환'}\n",
      "{'배우 이름': '손석구'}\n",
      "{'배우 이름': '현빈', '학교': '중앙대학교 연극영화 졸업, 중앙대학교 예술 대학원 공연영상학과 재학 중'}\n",
      "{'배우 이름': '최귀화'}\n",
      "{'배우 이름': '허동원'}\n",
      "{'배우 이름': '변요한'}\n",
      "{'배우 이름': '정우성'}\n",
      "{'배우 이름': '유해진', '학교': '서울예술대학 연극과'}\n",
      "{'배우 이름': '하준'}\n",
      "{'배우 이름': '김성균'}\n",
      "{'배우 이름': '정재광'}\n",
      "{'배우 이름': '음문석'}\n",
      "{'배우 이름': '안성기', '학교': '한국외국어대학교 베트남어학 학사'}\n",
      "{'배우 이름': '임윤아'}\n",
      "{'배우 이름': '이정재'}\n",
      "{'배우 이름': '남문철'}\n",
      "{'배우 이름': '손현주', '학교': '중앙대학교 연극영화'}\n",
      "{'배우 이름': '송강호', '학교': '부산경상대학 방송연예'}\n",
      "{'배우 이름': '박지영'}\n",
      "{'배우 이름': '전혜진', '학교': '상명대학교 영화과'}\n",
      "{'배우 이름': '김윤석', '학교': '동의대학교 학사'}\n",
      "{'배우 이름': '고경표'}\n",
      "{'배우 이름': '김성규'}\n",
      "{'배우 이름': '조우진'}\n",
      "{'배우 이름': '이주원'}\n",
      "{'배우 이름': '조인성', '학교': '전남과학대 모델이벤트과 - 동국대 연극영화 (중퇴)'}\n",
      "{'배우 이름': '허성태'}\n",
      "{'배우 이름': '김소진'}\n",
      "{'배우 이름': '신시아'}\n",
      "{'배우 이름': '이규원'}\n",
      "{'배우 이름': '허준호', '학교': '서울예술대학 연극과'}\n",
      "{'배우 이름': '박은빈', '학교': '영파여자고등학교'}\n",
      "{'배우 이름': '진선규'}\n",
      "{'배우 이름': '김찬형'}\n",
      "{'배우 이름': '정만식'}\n",
      "{'배우 이름': '김향기'}\n",
      "{'배우 이름': '이광수'}\n",
      "{'배우 이름': '서은수'}\n",
      "{'배우 이름': '강하늘', '학교': '중앙대학교 연극학과'}\n",
      "{'배우 이름': '고윤정', '학교': '서울여자대학교 현대미술과'}\n",
      "{'배우 이름': '이병헌', '학교': '한양대학교 불어문학과'}\n",
      "{'배우 이름': '이정현', '학교': '중앙대학교 연극영화'}\n",
      "{'배우 이름': '박용우', '학교': '중앙대학교 연극영화과'}\n",
      "{'배우 이름': '택연', '학교': '단국대학교 경영학'}\n",
      "{'배우 이름': '황정민', '학교': '서울예술대학 연극과 졸업'}\n",
      "{'배우 이름': '진구', '학교': '삼육의명대학 광고정보'}\n",
      "{'배우 이름': '전진오'}\n",
      "{'배우 이름': '성유빈'}\n",
      "{'배우 이름': '전도연', '학교': '서울예술대학 방송연예'}\n",
      "{'배우 이름': '차승원', '학교': '성균관대학교 영상학부 (중퇴)'}\n",
      "{'배우 이름': '이이경'}\n",
      "{'배우 이름': '김재범'}\n",
      "{'배우 이름': '김종수'}\n",
      "{'배우 이름': '김재화'}\n",
      "{'배우 이름': '한예리', '학교': '한국예술종합학교'}\n",
      "{'배우 이름': '이다일'}\n",
      "{'배우 이름': '공명'}\n",
      "{'배우 이름': '김남길', '학교': '사이버한국외국어대학교 중국어과'}\n",
      "{'배우 이름': '이유미'}\n",
      "{'배우 이름': '김홍파'}\n",
      "{'배우 이름': '김영광'}\n",
      "{'배우 이름': '박정민', '학교': '한국예술종합학교 영상원 연극원 연기과'}\n",
      "{'배우 이름': '구교환'}\n",
      "{'배우 이름': '고창석'}\n",
      "{'배우 이름': '설경구', '학교': '한양대학교 연극영화과 학사'}\n",
      "{'배우 이름': '윤여정', '학교': '한양대학교 국문학 (중퇴)'}\n",
      "{'배우 이름': '류준열'}\n",
      "{'배우 이름': '지창욱', '학교': '단국대학교 공연영상학부'}\n",
      "{'배우 이름': '천우희', '학교': '경기대학교 연기학'}\n",
      "{'배우 이름': '김태리'}\n",
      "{'배우 이름': '한효주', '학교': '동국대학교 연극영화'}\n",
      "{'배우 이름': '김의성'}\n",
      "{'배우 이름': '박세완'}\n",
      "{'배우 이름': '조민수'}\n",
      "{'배우 이름': '김영성'}\n",
      "{'배우 이름': '류경수'}\n",
      "{'배우 이름': '임시완'}\n",
      "{'배우 이름': '김우빈', '학교': '대경대학교'}\n",
      "{'배우 이름': '강동원', '학교': '한양대 - 상명대학교대학원 연극영화 (석사과정 재학)'}\n",
      "{'배우 이름': '이성민'}\n",
      "{'배우 이름': '권소현'}\n",
      "{'배우 이름': '이선호'}\n",
      "{'배우 이름': '진경'}\n",
      "{'배우 이름': '박해준'}\n",
      "{'배우 이름': '최민식', '학교': '동국대학교 연극영화'}\n",
      "{'배우 이름': '곽동연'}\n",
      "{'배우 이름': '윤계상', '학교': '경희대학교 포스트모던학과 휴학'}\n",
      "{'배우 이름': '배두나'}\n",
      "{'배우 이름': '정재원'}\n",
      "{'배우 이름': '김신영', '학교': '예원예술대학교 코미디연기학 학사'}\n",
      "{'배우 이름': '권상우', '학교': '한남대학교 미술교육학 학사'}\n",
      "{'배우 이름': '김혜준'}\n",
      "{'배우 이름': '염혜란'}\n",
      "{'배우 이름': '이선빈'}\n",
      "{'배우 이름': '정우', '학교': '서울예술대학 영화과'}\n",
      "{'배우 이름': '이종석'}\n",
      "{'배우 이름': '한지민', '학교': '서울여자대학교 사회사업학 학사'}\n",
      "{'배우 이름': '차우진'}\n",
      "{'배우 이름': '김영선'}\n",
      "{'배우 이름': '김강우', '학교': '중앙대학교 연극영화학'}\n",
      "{'배우 이름': '김동휘'}\n",
      "{'배우 이름': '배유람'}\n",
      "{'배우 이름': '조진웅', '학교': '경성대학교 연극영화'}\n",
      "{'배우 이름': '채수빈'}\n",
      "{'배우 이름': '소지섭', '학교': '청운대학교 방송연기학 학사'}\n",
      "{'배우 이름': '남다름'}\n",
      "{'배우 이름': '임지연'}\n",
      "{'배우 이름': '공민정'}\n",
      "{'배우 이름': '공유', '학교': '경희대학교 연극영화 - 경희대아트퓨전디자인대학원 퍼포밍아트학'}\n",
      "{'배우 이름': '박희순', '학교': '서울예술대학 연극과'}\n",
      "{'배우 이름': '이재인'}\n",
      "{'배우 이름': '이순원'}\n",
      "{'배우 이름': '김성오'}\n",
      "{'배우 이름': '이지은', '학교': '동덕여자고등학교'}\n",
      "{'배우 이름': '이하늬'}\n",
      "{'배우 이름': '권율', '학교': '중앙대학교 연극학과'}\n",
      "{'배우 이름': '김갑수', '학교': '정윤고등학교'}\n",
      "{'배우 이름': '김희원', '학교': '서울예술대학 연극과'}\n",
      "{'배우 이름': '김슬기'}\n",
      "{'배우 이름': '류승룡', '학교': '서울예술대학 연극'}\n",
      "{'배우 이름': '유승목'}\n",
      "{'배우 이름': '오세훈'}\n",
      "{'배우 이름': '조재윤'}\n",
      "{'배우 이름': '박보검'}\n",
      "{'배우 이름': '이선균', '학교': '한국예술종합학교 연극'}\n",
      "{'배우 이름': '이학주'}\n",
      "{'배우 이름': '박명훈'}\n",
      "{'배우 이름': '박소담'}\n",
      "{'배우 이름': '박경혜'}\n",
      "{'배우 이름': '박병은'}\n",
      "{'배우 이름': '유재명'}\n",
      "{'배우 이름': '우정신'}\n",
      "{'배우 이름': '연우진'}\n",
      "{'배우 이름': '오달수', '학교': '동의대학교 공업디자인 (중퇴)'}\n",
      "{'배우 이름': '오나라'}\n",
      "{'배우 이름': '서예지'}\n",
      "{'배우 이름': '송새벽', '학교': '군산대학교 철학과'}\n",
      "{'배우 이름': '최무성'}\n",
      "{'배우 이름': '염정아'}\n"
     ]
    }
   ],
   "source": [
    "for document in collection_cine2.find({}, {\"학교\":1, \"배우 이름\":1, \"_id\":0}):\n",
    "    pprint.pprint(document)"
   ]
  },
  {
   "cell_type": "code",
   "execution_count": 61,
   "id": "1569bc1e",
   "metadata": {},
   "outputs": [
    {
     "name": "stdout",
     "output_type": "stream",
     "text": [
      "{'배우 이름': '유해진', '학교': '서울예술대학 연극과', '흥행지수': 16882}\n",
      "{'배우 이름': '허준호', '학교': '서울예술대학 연극과', '흥행지수': 9355}\n",
      "{'배우 이름': '황정민', '학교': '서울예술대학 연극과 졸업', '흥행지수': 6618}\n",
      "{'배우 이름': '전도연', '학교': '서울예술대학 방송연예', '흥행지수': 6207}\n",
      "{'배우 이름': '정우', '학교': '서울예술대학 영화과', '흥행지수': 2624}\n",
      "{'배우 이름': '박희순', '학교': '서울예술대학 연극과', '흥행지수': 2026}\n",
      "{'배우 이름': '김희원', '학교': '서울예술대학 연극과', '흥행지수': 1748}\n",
      "{'배우 이름': '류승룡', '학교': '서울예술대학 연극', '흥행지수': 1725}\n"
     ]
    }
   ],
   "source": [
    "'''\n",
    "서울예술대학 출신을 흥행지수 내림차순으로 10 명 조회하기\n",
    "(정규표현식 사용하기)\n",
    "출력필드 : 배우 이름, 학교, 흥행지수\n",
    "'''\n",
    "documents = collection_cine2.find({\"학교\":{\"$regex\":\"서울예술대학\"}},\\\n",
    "                                  {\"배우 이름\":1, \"학교\":1, \"흥행지수\":1, \"_id\":0})\\\n",
    "                            .sort(\"흥행지수\", pymongo.DESCENDING).limit(10)\n",
    "\n",
    "for document in documents:\n",
    "    pprint.pprint(document)"
   ]
  },
  {
   "cell_type": "code",
   "execution_count": 62,
   "id": "3eb44e73",
   "metadata": {},
   "outputs": [
    {
     "name": "stdout",
     "output_type": "stream",
     "text": [
      "{'배우 이름': '현빈', '학교': '중앙대학교 연극영화 졸업, 중앙대학교 예술 대학원 공연영상학과 재학 중', '흥행지수': 21073}\n",
      "{'배우 이름': '손현주', '학교': '중앙대학교 연극영화', '흥행지수': 13418}\n",
      "{'배우 이름': '강하늘', '학교': '중앙대학교 연극학과', '흥행지수': 7775}\n",
      "{'배우 이름': '이정현', '학교': '중앙대학교 연극영화', '흥행지수': 7277}\n",
      "{'배우 이름': '박용우', '학교': '중앙대학교 연극영화과', '흥행지수': 6770}\n",
      "{'배우 이름': '김강우', '학교': '중앙대학교 연극영화학', '흥행지수': 2374}\n",
      "{'배우 이름': '권율', '학교': '중앙대학교 연극학과', '흥행지수': 1774}\n"
     ]
    }
   ],
   "source": [
    "documents = collection_cine2.find({\"학교\":{\"$regex\":\"중앙대학교\"}},\\\n",
    "                                  {\"배우 이름\":1, \"학교\":1, \"흥행지수\":1, \"_id\":0})\\\n",
    "                            .sort(\"흥행지수\", pymongo.DESCENDING).limit(10)\n",
    "\n",
    "for document in documents:\n",
    "    pprint.pprint(document)"
   ]
  },
  {
   "cell_type": "code",
   "execution_count": null,
   "id": "d16c8426",
   "metadata": {},
   "outputs": [],
   "source": []
  },
  {
   "cell_type": "code",
   "execution_count": null,
   "id": "4252a941-d162-4b35-a698-9076ce4f03db",
   "metadata": {},
   "outputs": [],
   "source": []
  }
 ],
 "metadata": {
  "kernelspec": {
   "display_name": "Python 3 (ipykernel)",
   "language": "python",
   "name": "python3"
  },
  "language_info": {
   "codemirror_mode": {
    "name": "ipython",
    "version": 3
   },
   "file_extension": ".py",
   "mimetype": "text/x-python",
   "name": "python",
   "nbconvert_exporter": "python",
   "pygments_lexer": "ipython3",
   "version": "3.9.12"
  }
 },
 "nbformat": 4,
 "nbformat_minor": 5
}
