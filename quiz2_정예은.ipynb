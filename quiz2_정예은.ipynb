{
 "cells": [
  {
   "cell_type": "markdown",
   "id": "0b7168a6-93e2-4b84-9b11-8f43b5778ff1",
   "metadata": {},
   "source": [
    "### 1. hello.txt 파일을 텍스트 편집기를 이용해서 작성"
   ]
  },
  {
   "cell_type": "code",
   "execution_count": 27,
   "id": "815d30cd-a130-4328-b97b-f0dff2f8c57a",
   "metadata": {},
   "outputs": [],
   "source": [
    "with open('hello.txt', 'w') as file:\n",
    "    data = \"Hello.\\n\" + \"Hi, there.\" \n",
    "    file.write(data)\n",
    "# file.close()"
   ]
  },
  {
   "cell_type": "markdown",
   "id": "ec8c4cd6-a256-417f-a4ad-3a49682055a9",
   "metadata": {},
   "source": [
    "1) open() 함수를 통해 읽고, 출력하기"
   ]
  },
  {
   "cell_type": "code",
   "execution_count": 32,
   "id": "c5744416-dec3-479c-8840-9edf0637d25f",
   "metadata": {},
   "outputs": [
    {
     "name": "stdout",
     "output_type": "stream",
     "text": [
      "hello.txt 파일:\n",
      "Hello.\n",
      "Hi, there.\n"
     ]
    }
   ],
   "source": [
    "print(\"hello.txt 파일:\")\n",
    "with open('hello.txt', 'r') as file:\n",
    "    lines = file.read()\n",
    "    print(lines)\n",
    "file.close()"
   ]
  },
  {
   "cell_type": "markdown",
   "id": "2ba74132-bf4b-4ab5-8c9c-da7aa23be1e8",
   "metadata": {},
   "source": [
    "2) open() 함수를 통해 읽고, 원래 파일의 내용 아래쪽에 \"Welcome to Python!\" 추가한 뒤 저장, 파일을 다시 열어서 출력"
   ]
  },
  {
   "cell_type": "code",
   "execution_count": 40,
   "id": "b87cbd4b-f5c6-4041-9985-11fc43780160",
   "metadata": {},
   "outputs": [],
   "source": [
    "with open('hello.txt', 'a') as file:\n",
    "    data = \"\\nWelcome to Python!\"\n",
    "    file.write(data)"
   ]
  },
  {
   "cell_type": "code",
   "execution_count": 41,
   "id": "52f8ba77-0b0f-43cd-a5b4-f231f46517cc",
   "metadata": {},
   "outputs": [
    {
     "name": "stdout",
     "output_type": "stream",
     "text": [
      "hello.txt 파일:\n",
      "Hello.\n",
      "Hi, there.\n",
      "Welcome to Python!\n"
     ]
    }
   ],
   "source": [
    "print(\"hello.txt 파일:\")\n",
    "with open('hello.txt', 'r') as file:\n",
    "    lines = file.read()\n",
    "    print(lines)"
   ]
  },
  {
   "cell_type": "markdown",
   "id": "060773a9-a520-4bc9-a59f-59c899497578",
   "metadata": {},
   "source": [
    "### 2. 다음과 같은 기능을 수행하는 파이썬 프로그램 작성하기"
   ]
  },
  {
   "cell_type": "code",
   "execution_count": 43,
   "id": "7a8a8002-d881-40bd-b57c-90b2a4703dbd",
   "metadata": {},
   "outputs": [
    {
     "ename": "TypeError",
     "evalue": "'int' object is not iterable",
     "output_type": "error",
     "traceback": [
      "\u001b[1;31m---------------------------------------------------------------------------\u001b[0m",
      "\u001b[1;31mTypeError\u001b[0m                                 Traceback (most recent call last)",
      "Input \u001b[1;32mIn [43]\u001b[0m, in \u001b[0;36m<cell line: 2>\u001b[1;34m()\u001b[0m\n\u001b[0;32m      2\u001b[0m \u001b[38;5;28;01mwith\u001b[39;00m \u001b[38;5;28mopen\u001b[39m(\u001b[38;5;124m'\u001b[39m\u001b[38;5;124mrandom_numbers.txt\u001b[39m\u001b[38;5;124m'\u001b[39m, \u001b[38;5;124m'\u001b[39m\u001b[38;5;124mw\u001b[39m\u001b[38;5;124m'\u001b[39m) \u001b[38;5;28;01mas\u001b[39;00m file:\n\u001b[0;32m      3\u001b[0m     data \u001b[38;5;241m=\u001b[39m []\n\u001b[1;32m----> 4\u001b[0m     \u001b[38;5;28;01mfor\u001b[39;00m i \u001b[38;5;129;01min\u001b[39;00m random\u001b[38;5;241m.\u001b[39mrandint(\u001b[38;5;241m1\u001b[39m,\u001b[38;5;241m1000\u001b[39m):\n\u001b[0;32m      5\u001b[0m         i\u001b[38;5;241m.\u001b[39mappend(data)\n\u001b[0;32m      6\u001b[0m     file\u001b[38;5;241m.\u001b[39mwrite(data)\n",
      "\u001b[1;31mTypeError\u001b[0m: 'int' object is not iterable"
     ]
    }
   ],
   "source": [
    "import random \n",
    "with open('random_numbers.txt', 'w') as file:\n",
    "    data = []\n",
    "    for i in random.randint(1,1000):\n",
    "        i.append(data)\n",
    "    file.write(data)"
   ]
  },
  {
   "cell_type": "markdown",
   "id": "732ba7e9-d304-4f85-8b7e-3513571471d4",
   "metadata": {},
   "source": [
    "### 3. math 모듈 import 후 0에서 10까지의 정수의 제곱근 구하기 (소수점 아래 셋째자리까지)"
   ]
  },
  {
   "cell_type": "code",
   "execution_count": null,
   "id": "04bdc60d-6437-474c-81ae-2ea1d2b68c20",
   "metadata": {},
   "outputs": [],
   "source": [
    "import math\n",
    "    "
   ]
  }
 ],
 "metadata": {
  "kernelspec": {
   "display_name": "Python 3 (ipykernel)",
   "language": "python",
   "name": "python3"
  },
  "language_info": {
   "codemirror_mode": {
    "name": "ipython",
    "version": 3
   },
   "file_extension": ".py",
   "mimetype": "text/x-python",
   "name": "python",
   "nbconvert_exporter": "python",
   "pygments_lexer": "ipython3",
   "version": "3.9.12"
  }
 },
 "nbformat": 4,
 "nbformat_minor": 5
}
