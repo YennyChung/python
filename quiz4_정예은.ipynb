{
 "cells": [
  {
   "cell_type": "markdown",
   "id": "2cf06679-738d-48a2-a666-79b857221609",
   "metadata": {},
   "source": [
    "문제 1"
   ]
  },
  {
   "cell_type": "code",
   "execution_count": 11,
   "id": "b236a6ee-d9dd-4601-8256-98b391d4b870",
   "metadata": {},
   "outputs": [
    {
     "data": {
      "text/plain": [
       "array([ 0, 10, 20, 40, 60, 80,  0, 20])"
      ]
     },
     "execution_count": 11,
     "metadata": {},
     "output_type": "execute_result"
    }
   ],
   "source": [
    "import numpy as np\n",
    "a = np.array([0, 10, 20, 40, 60, 80])\n",
    "b = np.array([0, 20])\n",
    "\n",
    "c = np.append([a], b)\n",
    "c"
   ]
  },
  {
   "cell_type": "markdown",
   "id": "75efebf5-ea4b-4c72-b48c-a88f034bcc63",
   "metadata": {},
   "source": [
    "-----"
   ]
  },
  {
   "cell_type": "code",
   "execution_count": 45,
   "id": "a5c37e23-b64b-40c3-97f9-8d55b2105783",
   "metadata": {},
   "outputs": [
    {
     "name": "stdout",
     "output_type": "stream",
     "text": [
      "[10. 40. 60. 80.]\n"
     ]
    }
   ],
   "source": [
    "import numpy as np\n",
    "a = np.array([0, 10, 20, 40, 60, 80])\n",
    "b = np.array([0, 20])\n",
    "\n",
    "c = np.array([])\n",
    "\n",
    "for n in a:\n",
    "    if n not in b:\n",
    "        c = np.append(c, n)\n",
    "print(c)"
   ]
  },
  {
   "cell_type": "code",
   "execution_count": 51,
   "id": "e4574f68-2083-4e9e-8227-ca883f9f9ee6",
   "metadata": {},
   "outputs": [
    {
     "name": "stdout",
     "output_type": "stream",
     "text": [
      "a - b: [ 1  2  3  4  5  6  7  8  9 10]\n"
     ]
    }
   ],
   "source": [
    "print('a - b:', np.setdiff1d(a,b))"
   ]
  },
  {
   "cell_type": "markdown",
   "id": "77894dc6-019a-46d2-b731-43ecf1b1daba",
   "metadata": {},
   "source": [
    "문제 2"
   ]
  },
  {
   "cell_type": "code",
   "execution_count": 13,
   "id": "4536066c-b3ef-4db4-a372-c861a29a60bf",
   "metadata": {},
   "outputs": [
    {
     "data": {
      "text/plain": [
       "array([ 1,  2,  3,  4,  5,  6,  7,  8,  9, 10])"
      ]
     },
     "execution_count": 13,
     "metadata": {},
     "output_type": "execute_result"
    }
   ],
   "source": [
    "a = np.arange(1,11,1)\n",
    "a"
   ]
  },
  {
   "cell_type": "code",
   "execution_count": 14,
   "id": "c09ba88e-a97d-4ff7-b3ff-fda3e5eaec8c",
   "metadata": {},
   "outputs": [
    {
     "data": {
      "text/plain": [
       "array([[ 1],\n",
       "       [ 2],\n",
       "       [ 3],\n",
       "       [ 4],\n",
       "       [ 5],\n",
       "       [ 6],\n",
       "       [ 7],\n",
       "       [ 8],\n",
       "       [ 9],\n",
       "       [10]])"
      ]
     },
     "execution_count": 14,
     "metadata": {},
     "output_type": "execute_result"
    }
   ],
   "source": [
    "a.reshape(10,1)"
   ]
  },
  {
   "cell_type": "markdown",
   "id": "858dcd33-65e7-427e-9f60-c44658ac4009",
   "metadata": {},
   "source": [
    "----"
   ]
  },
  {
   "cell_type": "code",
   "execution_count": 49,
   "id": "11ed2bc6-d597-475f-b2bd-2d21686085dd",
   "metadata": {},
   "outputs": [
    {
     "name": "stdout",
     "output_type": "stream",
     "text": [
      "[[ 1]\n",
      " [ 2]\n",
      " [ 3]\n",
      " [ 4]\n",
      " [ 5]\n",
      " [ 6]\n",
      " [ 7]\n",
      " [ 8]\n",
      " [ 9]\n",
      " [10]]\n"
     ]
    }
   ],
   "source": [
    "a=np.arange(1,11).reshape(-1,1)\n",
    "print(a)"
   ]
  },
  {
   "cell_type": "markdown",
   "id": "a896b86c-2b7d-459f-a938-0737ad406d3f",
   "metadata": {},
   "source": [
    "문제 3"
   ]
  },
  {
   "cell_type": "code",
   "execution_count": 16,
   "id": "5bd5288e-5f27-4674-906f-3ce2e1217fea",
   "metadata": {},
   "outputs": [
    {
     "data": {
      "text/plain": [
       "array([[10],\n",
       "       [ 9],\n",
       "       [ 8],\n",
       "       [ 7],\n",
       "       [ 6],\n",
       "       [ 5],\n",
       "       [ 4],\n",
       "       [ 3],\n",
       "       [ 2],\n",
       "       [ 1]])"
      ]
     },
     "execution_count": 16,
     "metadata": {},
     "output_type": "execute_result"
    }
   ],
   "source": [
    "a.reshape(10,1)[::-1]"
   ]
  },
  {
   "cell_type": "markdown",
   "id": "35380083-b0e1-40a3-89ec-69ec98318181",
   "metadata": {},
   "source": [
    "---"
   ]
  },
  {
   "cell_type": "code",
   "execution_count": 52,
   "id": "22ea59e5-e59b-446c-a8d8-d5582359c6a0",
   "metadata": {},
   "outputs": [
    {
     "data": {
      "text/plain": [
       "array([[10],\n",
       "       [ 9],\n",
       "       [ 8],\n",
       "       [ 7],\n",
       "       [ 6],\n",
       "       [ 5],\n",
       "       [ 4],\n",
       "       [ 3],\n",
       "       [ 2],\n",
       "       [ 1]])"
      ]
     },
     "execution_count": 52,
     "metadata": {},
     "output_type": "execute_result"
    }
   ],
   "source": [
    "np.sort(a)[::-1]"
   ]
  },
  {
   "cell_type": "markdown",
   "id": "08a5ef9e-a632-4d78-a8d5-05371a2d7af3",
   "metadata": {},
   "source": [
    "문제 4"
   ]
  },
  {
   "cell_type": "code",
   "execution_count": 17,
   "id": "a44ba47a-fbe6-46fb-9d23-6b0ae2b88830",
   "metadata": {},
   "outputs": [
    {
     "data": {
      "text/plain": [
       "array([10, 11, 12, 13, 14, 15, 16, 17, 18, 19, 20, 21, 22, 23, 24, 25])"
      ]
     },
     "execution_count": 17,
     "metadata": {},
     "output_type": "execute_result"
    }
   ],
   "source": [
    "x1 = np.arange(10,26,1)\n",
    "x1"
   ]
  },
  {
   "cell_type": "code",
   "execution_count": 18,
   "id": "c736bbaf-c2d7-4d5a-8e7a-da829724ff59",
   "metadata": {},
   "outputs": [
    {
     "data": {
      "text/plain": [
       "array([[10, 11, 12, 13],\n",
       "       [14, 15, 16, 17],\n",
       "       [18, 19, 20, 21],\n",
       "       [22, 23, 24, 25]])"
      ]
     },
     "execution_count": 18,
     "metadata": {},
     "output_type": "execute_result"
    }
   ],
   "source": [
    "x1.reshape(4,4)"
   ]
  },
  {
   "cell_type": "markdown",
   "id": "25af9158-fefe-484f-a1b3-c171f06a35e8",
   "metadata": {},
   "source": [
    "----"
   ]
  },
  {
   "cell_type": "code",
   "execution_count": 54,
   "id": "9a496eca-09f2-4e14-a9e9-6f904cddc3c4",
   "metadata": {},
   "outputs": [
    {
     "name": "stdout",
     "output_type": "stream",
     "text": [
      "[[10 11 12 13]\n",
      " [14 15 16 17]\n",
      " [18 19 20 21]\n",
      " [22 23 24 25]]\n",
      "[64 68 72 76]\n",
      "[46 62 78 94]\n"
     ]
    }
   ],
   "source": [
    "a=np.arange(10, 26).reshape(4,4)\n",
    "print(a)\n",
    "a.sum(axis=0)\n",
    "print(a.sum(axis=0))\n",
    "a.sum(axis=1)\n",
    "print(a.sum(axis=1))"
   ]
  },
  {
   "cell_type": "markdown",
   "id": "23f45bb5-d165-4e4a-8174-3be5e579b8db",
   "metadata": {},
   "source": [
    "문제 5"
   ]
  },
  {
   "cell_type": "code",
   "execution_count": 19,
   "id": "cb11d6a4-f3ad-4461-9eb5-0076171ca1db",
   "metadata": {},
   "outputs": [
    {
     "data": {
      "text/plain": [
       "array([10, 20, 40, 60, 10, 20, 40, 40, 40])"
      ]
     },
     "execution_count": 19,
     "metadata": {},
     "output_type": "execute_result"
    }
   ],
   "source": [
    "x = np.array([10, 20, 40, 60, 10, 20, 40, 40, 40])\n",
    "x"
   ]
  },
  {
   "cell_type": "markdown",
   "id": "51603fa4-0c18-4b30-980e-64ea7bfd22f6",
   "metadata": {},
   "source": [
    "다시"
   ]
  },
  {
   "cell_type": "code",
   "execution_count": 20,
   "id": "24fbc53d-ca69-439e-b016-b2fc67419f83",
   "metadata": {},
   "outputs": [
    {
     "name": "stdout",
     "output_type": "stream",
     "text": [
      "[10 20 40 60 10 20 40 40 40]\n",
      "[10 20 40 60]\n",
      "[2 2 4 1]\n",
      " 10 : 2번\n",
      " 20 : 2번\n",
      " 40 : 4번\n",
      " 60 : 1번\n"
     ]
    }
   ],
   "source": [
    "x = np.array([10, 20, 40, 60, 10, 20, 40, 40, 40])\n",
    "print(x)\n",
    "x.flatten()\n",
    "\n",
    "unique, counts = np.unique(x, return_counts=True)\n",
    "\n",
    "print(unique)\n",
    "print(counts)\n",
    "\n",
    "for x, y in np.array((unique, counts)).T:\n",
    "    print('{:3d} :{:2d}번'.format(x, y))"
   ]
  },
  {
   "cell_type": "markdown",
   "id": "018ce1da-ec61-49a9-aede-54bb612f76d0",
   "metadata": {},
   "source": [
    "---"
   ]
  },
  {
   "cell_type": "code",
   "execution_count": 55,
   "id": "3ce90e74-e1c8-4c71-9747-88d513cdb4e6",
   "metadata": {},
   "outputs": [
    {
     "name": "stdout",
     "output_type": "stream",
     "text": [
      "[10 20 40 60 10 20 40 40 40]\n",
      "[10 20 40 60]\n",
      "[2 2 4 1]\n",
      " 10 : 2번\n",
      " 20 : 2번\n",
      " 40 : 4번\n",
      " 60 : 1번\n"
     ]
    }
   ],
   "source": [
    "x = np.array([10, 20, 40, 60, 10, 20, 40, 40, 40])\n",
    "print(x)\n",
    "# x.flatten()\n",
    "\n",
    "unique, counts = np.unique(x, return_counts=True)\n",
    "\n",
    "print(unique)\n",
    "print(counts)\n",
    "\n",
    "for x, y in np.array((unique, counts)).T:\n",
    "    print('{:3d} :{:2d}번'.format(x, y))"
   ]
  },
  {
   "cell_type": "markdown",
   "id": "9aa5c470-b9b8-4ef4-bb8f-6f27cea2499a",
   "metadata": {},
   "source": [
    "문제 6"
   ]
  },
  {
   "cell_type": "code",
   "execution_count": 22,
   "id": "7dde5d06-e2b8-43ef-95a3-14f098c7a1e8",
   "metadata": {},
   "outputs": [],
   "source": [
    "array1 = np.arange(5)"
   ]
  },
  {
   "cell_type": "code",
   "execution_count": 23,
   "id": "7379eac2-8e52-46b1-bcd4-b178a2919345",
   "metadata": {},
   "outputs": [
    {
     "data": {
      "text/plain": [
       "array([0, 1, 2, 3, 4])"
      ]
     },
     "execution_count": 23,
     "metadata": {},
     "output_type": "execute_result"
    }
   ],
   "source": [
    "array1"
   ]
  },
  {
   "cell_type": "code",
   "execution_count": 24,
   "id": "497cb680-f053-4061-8c4b-d15e3819b25b",
   "metadata": {},
   "outputs": [
    {
     "data": {
      "text/plain": [
       "array([[0],\n",
       "       [1],\n",
       "       [2],\n",
       "       [3],\n",
       "       [4]])"
      ]
     },
     "execution_count": 24,
     "metadata": {},
     "output_type": "execute_result"
    }
   ],
   "source": [
    "array1.reshape(5,1)"
   ]
  },
  {
   "cell_type": "markdown",
   "id": "e0874a59-6258-4c19-844e-96d4edf790de",
   "metadata": {},
   "source": [
    "----"
   ]
  },
  {
   "cell_type": "code",
   "execution_count": 56,
   "id": "ee4cb585-b05a-4644-aa4b-5eb43f8765ce",
   "metadata": {},
   "outputs": [
    {
     "name": "stdout",
     "output_type": "stream",
     "text": [
      "[[0]\n",
      " [1]\n",
      " [2]\n",
      " [3]\n",
      " [4]]\n"
     ]
    }
   ],
   "source": [
    "array1 = np.arange(5)\n",
    "\n",
    "array2 = array1.reshape(-1,1)  # 1차원 배열을 2차원 배열로 변경해줌\n",
    "print(array2)"
   ]
  },
  {
   "cell_type": "markdown",
   "id": "601d0f18-c748-42f9-a114-967e41718d3f",
   "metadata": {},
   "source": [
    "문제 7"
   ]
  },
  {
   "cell_type": "code",
   "execution_count": 25,
   "id": "6fcc6545-e836-4b80-b612-72f03f791804",
   "metadata": {},
   "outputs": [
    {
     "data": {
      "text/plain": [
       "array([[[0, 1],\n",
       "        [2, 3]],\n",
       "\n",
       "       [[4, 5],\n",
       "        [6, 7]]])"
      ]
     },
     "execution_count": 25,
     "metadata": {},
     "output_type": "execute_result"
    }
   ],
   "source": [
    "array1 = np.arange(8)\n",
    "array3d = array1.reshape((2,2,2))\n",
    "array3d"
   ]
  },
  {
   "cell_type": "code",
   "execution_count": 26,
   "id": "21a631f6-b6f4-4c2d-a728-2c705d08e069",
   "metadata": {},
   "outputs": [
    {
     "data": {
      "text/plain": [
       "array([[0],\n",
       "       [1],\n",
       "       [2],\n",
       "       [3],\n",
       "       [4],\n",
       "       [5],\n",
       "       [6],\n",
       "       [7]])"
      ]
     },
     "execution_count": 26,
     "metadata": {},
     "output_type": "execute_result"
    }
   ],
   "source": [
    "array3d.reshape(8,1)"
   ]
  },
  {
   "cell_type": "markdown",
   "id": "a6211721-e742-406a-a5c3-15616ccfe61c",
   "metadata": {},
   "source": [
    "---"
   ]
  },
  {
   "cell_type": "code",
   "execution_count": 57,
   "id": "70174a5a-8113-4388-ad4c-f85b1a4df264",
   "metadata": {},
   "outputs": [
    {
     "name": "stdout",
     "output_type": "stream",
     "text": [
      "[[0]\n",
      " [1]\n",
      " [2]\n",
      " [3]\n",
      " [4]\n",
      " [5]\n",
      " [6]\n",
      " [7]]\n"
     ]
    }
   ],
   "source": [
    "array1 = np.arange(8)\n",
    "array3d = array1.reshape((2,2,2))\n",
    "\n",
    "array2d = array3d.reshape(-1,1)\n",
    "print(array2d)"
   ]
  },
  {
   "cell_type": "markdown",
   "id": "81de57d8-a859-4610-ab3e-bb1800c33833",
   "metadata": {},
   "source": [
    "문제 8"
   ]
  },
  {
   "cell_type": "code",
   "execution_count": 32,
   "id": "fb622cce-d62c-4c15-bbd9-c98701a38cbe",
   "metadata": {},
   "outputs": [
    {
     "name": "stdin",
     "output_type": "stream",
     "text": [
      "n을 입력하시오:  5\n"
     ]
    },
    {
     "data": {
      "text/plain": [
       "array([[1, 0, 0, 0, 0],\n",
       "       [0, 1, 0, 0, 0],\n",
       "       [0, 0, 1, 0, 0],\n",
       "       [0, 0, 0, 1, 0],\n",
       "       [0, 0, 0, 0, 1]])"
      ]
     },
     "execution_count": 32,
     "metadata": {},
     "output_type": "execute_result"
    }
   ],
   "source": [
    "n = int(input('n을 입력하시오: '))\n",
    "\n",
    "n1 = np.eye(n, dtype = 'int32')\n",
    "n1"
   ]
  },
  {
   "cell_type": "code",
   "execution_count": null,
   "id": "9b4ff68d-5f30-4204-b965-b31bc96655b6",
   "metadata": {},
   "outputs": [],
   "source": [
    "n1 = np.diag(np.arange(n), k = 0)\n",
    "n1"
   ]
  },
  {
   "cell_type": "markdown",
   "id": "b0054e21-7d51-4e1f-b575-23a2613806bd",
   "metadata": {},
   "source": [
    "----"
   ]
  },
  {
   "cell_type": "code",
   "execution_count": 58,
   "id": "9e69b37a-0502-4370-8970-dbaccc3b8f00",
   "metadata": {},
   "outputs": [
    {
     "name": "stdin",
     "output_type": "stream",
     "text": [
      "n을 입력하시오:  5\n"
     ]
    },
    {
     "name": "stdout",
     "output_type": "stream",
     "text": [
      "[[1 0 0 0 0]\n",
      " [1 1 0 0 0]\n",
      " [1 1 1 0 0]\n",
      " [1 1 1 1 0]\n",
      " [1 1 1 1 1]]\n"
     ]
    }
   ],
   "source": [
    "n = int(input('n을 입력하시오: '))\n",
    "\n",
    "a = np.full((n, n), 0)\n",
    "# a = np.zeros(n)\n",
    "\n",
    "for i in range(n):\n",
    "    for j in range(n):\n",
    "        if i >= j:\n",
    "            a[i, j] = 1\n",
    "\n",
    "print(a)"
   ]
  },
  {
   "cell_type": "markdown",
   "id": "cb2f8256-794b-4356-8ef0-c371713baf89",
   "metadata": {},
   "source": [
    "문제 9"
   ]
  },
  {
   "cell_type": "code",
   "execution_count": 61,
   "id": "ed0050b7-ad57-4b45-9c51-1b2dc8ceb7da",
   "metadata": {},
   "outputs": [
    {
     "data": {
      "text/plain": [
       "array([[1, 2, 3],\n",
       "       [4, 5, 6],\n",
       "       [7, 8, 9]])"
      ]
     },
     "execution_count": 61,
     "metadata": {},
     "output_type": "execute_result"
    }
   ],
   "source": [
    "array2d = np.array([[1, 2, 3], [4, 5, 6], [7, 8, 9]])\n",
    "array2d"
   ]
  },
  {
   "cell_type": "code",
   "execution_count": 35,
   "id": "7519ac91-fc6a-4521-9e0c-ee18f8b7f8d0",
   "metadata": {},
   "outputs": [
    {
     "data": {
      "text/plain": [
       "array([8, 9])"
      ]
     },
     "execution_count": 35,
     "metadata": {},
     "output_type": "execute_result"
    }
   ],
   "source": [
    "array2d[array2d > 7]"
   ]
  },
  {
   "cell_type": "markdown",
   "id": "872617af-63cb-4fba-9208-dc7989ce2f2a",
   "metadata": {},
   "source": [
    "----"
   ]
  },
  {
   "cell_type": "code",
   "execution_count": 63,
   "id": "5087a6c9-3b24-42c4-8a35-d88bc5e15c08",
   "metadata": {},
   "outputs": [
    {
     "data": {
      "text/plain": [
       "array([7, 8])"
      ]
     },
     "execution_count": 63,
     "metadata": {},
     "output_type": "execute_result"
    }
   ],
   "source": [
    "array2d[2,:-1]"
   ]
  },
  {
   "cell_type": "code",
   "execution_count": 62,
   "id": "e558df18-2d91-475e-b581-32ee17af037f",
   "metadata": {},
   "outputs": [
    {
     "data": {
      "text/plain": [
       "array([8, 9])"
      ]
     },
     "execution_count": 62,
     "metadata": {},
     "output_type": "execute_result"
    }
   ],
   "source": [
    "array2d[2,1:]"
   ]
  },
  {
   "cell_type": "markdown",
   "id": "351f629f-2683-49b9-abec-a9ee8a6d46e7",
   "metadata": {},
   "source": [
    "문제 10 내림차순으로 정렬하기"
   ]
  },
  {
   "cell_type": "code",
   "execution_count": 42,
   "id": "3525e80f-8917-418c-a233-17b1326d396f",
   "metadata": {},
   "outputs": [
    {
     "data": {
      "text/plain": [
       "array([88, 10, 84, 44, 22])"
      ]
     },
     "execution_count": 42,
     "metadata": {},
     "output_type": "execute_result"
    }
   ],
   "source": [
    "name = np.array(['John', 'Mike', 'Sarah', 'Kate', 'Samuel'])\n",
    "score = np.array([22, 44, 84, 10, 88])\n",
    "\n",
    "score[::-1]"
   ]
  },
  {
   "cell_type": "code",
   "execution_count": 38,
   "id": "bbcd5c36-a7de-4fd4-bd5a-2b10eb45d559",
   "metadata": {},
   "outputs": [
    {
     "data": {
      "text/plain": [
       "array(['John', 'Mike', 'Sarah', 'Kate', 'Samuel', '22', '44', '84', '10',\n",
       "       '88'], dtype='<U11')"
      ]
     },
     "execution_count": 38,
     "metadata": {},
     "output_type": "execute_result"
    }
   ],
   "source": [
    "name = np.array(['John', 'Mike', 'Sarah', 'Kate', 'Samuel'])\n",
    "score = np.array([22, 44, 84, 10, 88])\n",
    "\n",
    "name_score = np.append(name, score)\n",
    "name_score"
   ]
  },
  {
   "cell_type": "code",
   "execution_count": 39,
   "id": "c56c29b9-0f9a-4987-8557-a9c14e120819",
   "metadata": {},
   "outputs": [
    {
     "data": {
      "text/plain": [
       "array(['88', '10', '84', '44', '22', 'Samuel', 'Kate', 'Sarah', 'Mike',\n",
       "       'John'], dtype='<U11')"
      ]
     },
     "execution_count": 39,
     "metadata": {},
     "output_type": "execute_result"
    }
   ],
   "source": [
    "name_score[::-1]"
   ]
  },
  {
   "cell_type": "markdown",
   "id": "6fc7d9cd-7048-49c3-821b-85c6e09d98df",
   "metadata": {},
   "source": [
    "----"
   ]
  },
  {
   "cell_type": "code",
   "execution_count": 64,
   "id": "0ac64985-c0ec-4016-884f-352af2d6dbc7",
   "metadata": {},
   "outputs": [
    {
     "name": "stdout",
     "output_type": "stream",
     "text": [
      "성적 오름차순 정렬 시 score의 인덱스: [4 2 1 0 3]\n",
      "성적 오름차순으로 name_array의 이름 출력: ['Samuel' 'Sarah' 'Mike' 'John' 'Kate']\n",
      "성적 오름차순으로 score_array의 점수 출력: [88 84 44 22 10]\n"
     ]
    }
   ],
   "source": [
    "sort_indices = np.argsort(score)[::-1]\n",
    "print('성적 오름차순 정렬 시 score의 인덱스:', sort_indices)\n",
    "\n",
    "name_array_sort = name[sort_indices]\n",
    "score_array_sort = score[sort_indices]\n",
    "\n",
    "print('성적 오름차순으로 name_array의 이름 출력:', name_array_sort)\n",
    "print('성적 오름차순으로 score_array의 점수 출력:', score_array_sort)"
   ]
  },
  {
   "cell_type": "code",
   "execution_count": null,
   "id": "10e9f999-3d06-4162-94e3-46046a3f68f3",
   "metadata": {},
   "outputs": [],
   "source": []
  }
 ],
 "metadata": {
  "kernelspec": {
   "display_name": "Python 3 (ipykernel)",
   "language": "python",
   "name": "python3"
  },
  "language_info": {
   "codemirror_mode": {
    "name": "ipython",
    "version": 3
   },
   "file_extension": ".py",
   "mimetype": "text/x-python",
   "name": "python",
   "nbconvert_exporter": "python",
   "pygments_lexer": "ipython3",
   "version": "3.9.12"
  }
 },
 "nbformat": 4,
 "nbformat_minor": 5
}
