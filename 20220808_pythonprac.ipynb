{
 "cells": [
  {
   "cell_type": "markdown",
   "id": "d52145bb-cecf-4455-80c1-9417941fe413",
   "metadata": {},
   "source": [
    "### 1. 파이썬 excel writer"
   ]
  },
  {
   "cell_type": "code",
   "execution_count": 20,
   "id": "a4ec18e9-58b6-4450-b498-763d42010b1e",
   "metadata": {},
   "outputs": [],
   "source": [
    "data1 = {'name': ['Jerry', 'Riah', 'Paul']\n",
    "        , 'algol': ['A', 'A+', 'B']\n",
    "        , 'basic' : ['C', 'B', 'B+']\n",
    "        , 'c++' : ['B+', 'C', 'C+']}\n",
    "\n",
    "data2 = {'c0': [1,2,3]\n",
    "        ,'c1': [4,5,6]\n",
    "        , 'c3': [7,8,9]\n",
    "        , 'c4': [10,11,12]\n",
    "        , 'c5': [13,14,15]}"
   ]
  },
  {
   "cell_type": "code",
   "execution_count": 23,
   "id": "cd0c018b-573c-4f6b-a799-e4791af7b89c",
   "metadata": {},
   "outputs": [
    {
     "name": "stdout",
     "output_type": "stream",
     "text": [
      "      algol basic c++\n",
      "name                 \n",
      "Jerry     A     C  B+\n",
      "Riah     A+     B   C\n",
      "Paul      B    B+  C+\n",
      "\n",
      "\n",
      "    c1  c3  c4  c5\n",
      "c0                \n",
      "1    4   7  10  13\n",
      "2    5   8  11  14\n",
      "3    6   9  12  15\n"
     ]
    }
   ],
   "source": [
    "import pandas as pd\n",
    "df1 = pd.DataFrame(data1)\n",
    "df1.set_index(\"name\", inplace=True)\n",
    "\n",
    "df2 = pd.DataFrame(data2)\n",
    "df2.set_index('c0', inplace = True)\n",
    "\n",
    "print(df1)\n",
    "print('\\n')\n",
    "print(df2)"
   ]
  },
  {
   "cell_type": "code",
   "execution_count": 25,
   "id": "6a61ad25-5ac0-4880-ad9e-da4f9e1bc306",
   "metadata": {},
   "outputs": [],
   "source": [
    "import pandas as pd\n",
    "writer = pd.ExcelWriter(\"test_excel.xlsx\")\n",
    "df1.to_excel(writer, sheet_name = '1번 시트')\n",
    "df2.to_excel(writer, sheet_name = '2번 시트')\n",
    "writer.save()"
   ]
  },
  {
   "cell_type": "markdown",
   "id": "a6a3f5ae-b528-422f-b193-e0232e0711d5",
   "metadata": {},
   "source": [
    "### 2. 파이썬 json writer"
   ]
  },
  {
   "cell_type": "code",
   "execution_count": 5,
   "id": "b2558847-a51e-49a8-8bf5-f0e0f67bce31",
   "metadata": {
    "collapsed": true,
    "jupyter": {
     "outputs_hidden": true
    },
    "tags": []
   },
   "outputs": [
    {
     "name": "stdout",
     "output_type": "stream",
     "text": [
      "<class 'dict'>\n",
      "{'run_sequentially': False, 'concurrency': 10, 'nodes': [{'name': 'controller', 'description': 'This is the controller node', 'fqdn': 'controllername.company.com', 'password': 'passw0rd', 'run_order_number': 1, 'quit_on_error': True, 'chef_client_options': ['-i 3600', '-s 600'], 'runlist': ['role[ibm-os-single-controller-node]']}, {'name': 'KVM qemu compute', 'description': 'This is a KVM qemu compute node', 'fqdn': 'computename.company.com', 'user': 'admin', 'identity_file': '/root/identity.pem', 'run_order_number': 2, 'allow_update': False, 'runlist': ['role[ibm-os-compute-node-kvm]'], 'attributes': '{\"openstack\":{\"compute\":{\"libvirt\":{\"virt_type\":\"qemu\"}}}}'}], 'department': {'name': 'information statistics', 'year': '1988', 'nb_prof': '7'}}\n",
      "{\"run_sequentially\": false, \"concurrency\": 10, \"nodes\": [{\"name\": \"controller\", \"description\": \"This is the controller node\", \"fqdn\": \"controllername.company.com\", \"password\": \"passw0rd\", \"run_order_number\": 1, \"quit_on_error\": true, \"chef_client_options\": [\"-i 3600\", \"-s 600\"], \"runlist\": [\"role[ibm-os-single-controller-node]\"]}, {\"name\": \"KVM qemu compute\", \"description\": \"This is a KVM qemu compute node\", \"fqdn\": \"computename.company.com\", \"user\": \"admin\", \"identity_file\": \"/root/identity.pem\", \"run_order_number\": 2, \"allow_update\": false, \"runlist\": [\"role[ibm-os-compute-node-kvm]\"], \"attributes\": \"{\\\"openstack\\\":{\\\"compute\\\":{\\\"libvirt\\\":{\\\"virt_type\\\":\\\"qemu\\\"}}}}\"}], \"department\": {\"name\": \"information statistics\", \"year\": \"1988\", \"nb_prof\": \"7\"}}\n",
      "{\n",
      "\t\"run_sequentially\": false,\n",
      "\t\"concurrency\": 10,\n",
      "\t\"nodes\": [\n",
      "\t\t{\n",
      "\t\t\t\"name\": \"controller\",\n",
      "\t\t\t\"description\": \"This is the controller node\",\n",
      "\t\t\t\"fqdn\": \"controllername.company.com\",\n",
      "\t\t\t\"password\": \"passw0rd\",\n",
      "\t\t\t\"run_order_number\": 1,\n",
      "\t\t\t\"quit_on_error\": true,\n",
      "\t\t\t\"chef_client_options\": [\n",
      "\t\t\t\t\"-i 3600\",\n",
      "\t\t\t\t\"-s 600\"\n",
      "\t\t\t],\n",
      "\t\t\t\"runlist\": [\n",
      "\t\t\t\t\"role[ibm-os-single-controller-node]\"\n",
      "\t\t\t]\n",
      "\t\t},\n",
      "\t\t{\n",
      "\t\t\t\"name\": \"KVM qemu compute\",\n",
      "\t\t\t\"description\": \"This is a KVM qemu compute node\",\n",
      "\t\t\t\"fqdn\": \"computename.company.com\",\n",
      "\t\t\t\"user\": \"admin\",\n",
      "\t\t\t\"identity_file\": \"/root/identity.pem\",\n",
      "\t\t\t\"run_order_number\": 2,\n",
      "\t\t\t\"allow_update\": false,\n",
      "\t\t\t\"runlist\": [\n",
      "\t\t\t\t\"role[ibm-os-compute-node-kvm]\"\n",
      "\t\t\t],\n",
      "\t\t\t\"attributes\": \"{\\\"openstack\\\":{\\\"compute\\\":{\\\"libvirt\\\":{\\\"virt_type\\\":\\\"qemu\\\"}}}}\"\n",
      "\t\t}\n",
      "\t],\n",
      "\t\"department\": {\n",
      "\t\t\"name\": \"information statistics\",\n",
      "\t\t\"year\": \"1988\",\n",
      "\t\t\"nb_prof\": \"7\"\n",
      "\t}\n",
      "}\n"
     ]
    }
   ],
   "source": [
    "import json\n",
    "with open('new_sample.json', 'r') as f:\n",
    "    json_data = json.load(f)\n",
    "    \n",
    "print(type(json_data))\n",
    "print(json_data)\n",
    "print(json.dumps(json_data))\n",
    "      \n",
    "# 들여쓰기 출력\n",
    "print(json.dumps(json_data, indent=\"\\t\"))"
   ]
  },
  {
   "cell_type": "code",
   "execution_count": 33,
   "id": "ec0ad102-ecaf-4e71-8bd3-480314d23853",
   "metadata": {},
   "outputs": [
    {
     "name": "stdout",
     "output_type": "stream",
     "text": [
      "5000\n",
      "7000\n"
     ]
    }
   ],
   "source": [
    "k5_price = df['K5']['price']\n",
    "print(k5_price)\n",
    "\n",
    "df['K5']['price'] = \"7000\"\n",
    "print(df['K5']['price'])"
   ]
  },
  {
   "cell_type": "code",
   "execution_count": 34,
   "id": "78caa459-772b-4d9a-9950-864cafbd00e8",
   "metadata": {},
   "outputs": [
    {
     "data": {
      "text/html": [
       "<div>\n",
       "<style scoped>\n",
       "    .dataframe tbody tr th:only-of-type {\n",
       "        vertical-align: middle;\n",
       "    }\n",
       "\n",
       "    .dataframe tbody tr th {\n",
       "        vertical-align: top;\n",
       "    }\n",
       "\n",
       "    .dataframe thead th {\n",
       "        text-align: right;\n",
       "    }\n",
       "</style>\n",
       "<table border=\"1\" class=\"dataframe\">\n",
       "  <thead>\n",
       "    <tr style=\"text-align: right;\">\n",
       "      <th></th>\n",
       "      <th>K5</th>\n",
       "      <th>Avante</th>\n",
       "    </tr>\n",
       "  </thead>\n",
       "  <tbody>\n",
       "    <tr>\n",
       "      <th>price</th>\n",
       "      <td>7000</td>\n",
       "      <td>3000</td>\n",
       "    </tr>\n",
       "    <tr>\n",
       "      <th>year</th>\n",
       "      <td>2015</td>\n",
       "      <td>2014</td>\n",
       "    </tr>\n",
       "  </tbody>\n",
       "</table>\n",
       "</div>"
      ],
      "text/plain": [
       "         K5  Avante\n",
       "price  7000    3000\n",
       "year   2015    2014"
      ]
     },
     "execution_count": 34,
     "metadata": {},
     "output_type": "execute_result"
    }
   ],
   "source": [
    "df"
   ]
  },
  {
   "cell_type": "code",
   "execution_count": 35,
   "id": "cbf554b8-a0ed-4dba-bf43-fc39455d2a0d",
   "metadata": {},
   "outputs": [
    {
     "name": "stdout",
     "output_type": "stream",
     "text": [
      "7000\n",
      "7000\n"
     ]
    }
   ],
   "source": [
    "k5_price = df['K5']['price']\n",
    "print(k5_price)\n",
    "\n",
    "df['K5']['price'] = 7000\n",
    "print(df['K5']['price'])"
   ]
  },
  {
   "cell_type": "markdown",
   "id": "ad97164f-88d9-4596-825a-55aaaa21d6e2",
   "metadata": {},
   "source": [
    "### 3. pandas 처리"
   ]
  },
  {
   "cell_type": "code",
   "execution_count": 32,
   "id": "daa55ea9-0770-4eb7-bd30-abd38680fa3f",
   "metadata": {},
   "outputs": [
    {
     "name": "stdout",
     "output_type": "stream",
     "text": [
      "         K5  Avante\n",
      "price  5000    3000\n",
      "year   2015    2014\n",
      "\n",
      "\n",
      "Index(['price', 'year'], dtype='object')\n",
      "Index(['K5', 'Avante'], dtype='object')\n"
     ]
    }
   ],
   "source": [
    "# json 데이터를 데이터프레임으로 읽어들이기\n",
    "import pandas as pd\n",
    "\n",
    "df = pd.read_json('test.json')\n",
    "print(df)\n",
    "print('\\n')\n",
    "print(df.index)\n",
    "print(df.columns)"
   ]
  },
  {
   "cell_type": "markdown",
   "id": "200d5785-ebaa-412b-9873-74413c2f6dab",
   "metadata": {},
   "source": [
    "### 4. json 파일 쓰기"
   ]
  },
  {
   "cell_type": "code",
   "execution_count": 10,
   "id": "5e17a4cb-99b4-4d1c-a26a-048518409a8e",
   "metadata": {},
   "outputs": [
    {
     "name": "stdout",
     "output_type": "stream",
     "text": [
      "5000\n"
     ]
    }
   ],
   "source": [
    "k5_price = df['K5']['price']\n",
    "print(k5_price)"
   ]
  },
  {
   "cell_type": "code",
   "execution_count": 11,
   "id": "a603d1ca-dc37-4d49-a85e-8144cd084d0d",
   "metadata": {},
   "outputs": [
    {
     "name": "stdout",
     "output_type": "stream",
     "text": [
      "{\n",
      "\t\"run_sequentially\": false,\n",
      "\t\"concurrency\": 10,\n",
      "\t\"nodes\": [\n",
      "\t\t{\n",
      "\t\t\t\"name\": \"controller\",\n",
      "\t\t\t\"description\": \"This is the controller node\",\n",
      "\t\t\t\"fqdn\": \"controllername.company.com\",\n",
      "\t\t\t\"password\": \"passw0rd\",\n",
      "\t\t\t\"run_order_number\": 1,\n",
      "\t\t\t\"quit_on_error\": true,\n",
      "\t\t\t\"chef_client_options\": [\n",
      "\t\t\t\t\"-i 3600\",\n",
      "\t\t\t\t\"-s 600\"\n",
      "\t\t\t],\n",
      "\t\t\t\"runlist\": [\n",
      "\t\t\t\t\"role[ibm-os-single-controller-node]\"\n",
      "\t\t\t]\n",
      "\t\t},\n",
      "\t\t{\n",
      "\t\t\t\"name\": \"KVM qemu compute\",\n",
      "\t\t\t\"description\": \"This is a KVM qemu compute node\",\n",
      "\t\t\t\"fqdn\": \"computename.company.com\",\n",
      "\t\t\t\"user\": \"admin\",\n",
      "\t\t\t\"identity_file\": \"/root/identity.pem\",\n",
      "\t\t\t\"run_order_number\": 2,\n",
      "\t\t\t\"allow_update\": false,\n",
      "\t\t\t\"runlist\": [\n",
      "\t\t\t\t\"role[ibm-os-compute-node-kvm]\"\n",
      "\t\t\t],\n",
      "\t\t\t\"attributes\": \"{\\\"openstack\\\":{\\\"compute\\\":{\\\"libvirt\\\":{\\\"virt_type\\\":\\\"qemu\\\"}}}}\"\n",
      "\t\t}\n",
      "\t],\n",
      "\t\"department\": {\n",
      "\t\t\"name\": \"information statistics\",\n",
      "\t\t\"year\": \"1988\",\n",
      "\t\t\"nb_prof\": \"7\"\n",
      "\t}\n",
      "}\n"
     ]
    }
   ],
   "source": [
    "# json 파일에 저장 후 출력\n",
    "with open('test.json', 'w', encoding = 'utf-8') as make_file:\n",
    "    json.dump(json_data, make_file, indent = '\\t')\n",
    "with open('test.json', 'r') as f:\n",
    "    json_data = json.load(f)\n",
    "print(json.dumps(json_data, indent = '\\t'))"
   ]
  },
  {
   "cell_type": "markdown",
   "id": "680e0147-3c62-4506-9bda-48f923a8b61f",
   "metadata": {},
   "source": [
    "### 5. 프로그램상에서 dict 만들고 이를 json 파일로 저장"
   ]
  },
  {
   "cell_type": "code",
   "execution_count": 13,
   "id": "07fb9834-d6ae-4e5f-96a5-ecc38f4bdd23",
   "metadata": {},
   "outputs": [],
   "source": [
    "import json\n",
    "car_group = dict()\n",
    "k5 = dict()\n",
    "k5['price'] = '5000'\n",
    "k5['year'] = '2015'\n",
    "car_group['K5'] = k5\n",
    "avante = dict()\n",
    "avante['price'] = '3000'\n",
    "avante['price'] = '2014'\n",
    "car_group['Avante'] = avante"
   ]
  },
  {
   "cell_type": "code",
   "execution_count": null,
   "id": "6877b771-75a1-4720-97e7-648dd46d002a",
   "metadata": {},
   "outputs": [],
   "source": [
    "# json 파일로 저장\n",
    "with open('C:\\\\test.json', 'w'"
   ]
  },
  {
   "cell_type": "code",
   "execution_count": 14,
   "id": "d43d94f6-a77b-47b6-bc93-fde726ae4725",
   "metadata": {},
   "outputs": [
    {
     "data": {
      "text/plain": [
       "('test.txt', <http.client.HTTPMessage at 0x141df992070>)"
      ]
     },
     "execution_count": 14,
     "metadata": {},
     "output_type": "execute_result"
    }
   ],
   "source": [
    "from urllib.request import urlretrieve\n",
    "urlretrieve(\"https://github.com/TheAlgorithms/\"\n",
    "           \"Python/blob/master/requirements.txt\", \"test.txt\")\n"
   ]
  },
  {
   "cell_type": "code",
   "execution_count": 15,
   "id": "caf89251-2d2d-49fa-b7d3-c882d29777a7",
   "metadata": {
    "collapsed": true,
    "jupyter": {
     "outputs_hidden": true
    },
    "tags": []
   },
   "outputs": [
    {
     "ename": "HTTPError",
     "evalue": "HTTP Error 404: Not Found",
     "output_type": "error",
     "traceback": [
      "\u001b[1;31m---------------------------------------------------------------------------\u001b[0m",
      "\u001b[1;31mHTTPError\u001b[0m                                 Traceback (most recent call last)",
      "Input \u001b[1;32mIn [15]\u001b[0m, in \u001b[0;36m<cell line: 3>\u001b[1;34m()\u001b[0m\n\u001b[0;32m      1\u001b[0m \u001b[38;5;28;01mimport\u001b[39;00m \u001b[38;5;21;01mpandas\u001b[39;00m \u001b[38;5;28;01mas\u001b[39;00m \u001b[38;5;21;01mpd\u001b[39;00m\n\u001b[1;32m----> 3\u001b[0m df_wine \u001b[38;5;241m=\u001b[39m \u001b[43mpd\u001b[49m\u001b[38;5;241;43m.\u001b[39;49m\u001b[43mread_csv\u001b[49m\u001b[43m(\u001b[49m\u001b[38;5;124;43m\"\u001b[39;49m\u001b[38;5;124;43mhttps://archive.ics.uci.edu/mi/wine.csv\u001b[39;49m\u001b[38;5;124;43m\"\u001b[39;49m\u001b[43m,\u001b[49m\u001b[43m \u001b[49m\u001b[43mheader\u001b[49m\u001b[43m \u001b[49m\u001b[38;5;241;43m=\u001b[39;49m\u001b[43m \u001b[49m\u001b[38;5;28;43;01mNone\u001b[39;49;00m\u001b[43m)\u001b[49m\n",
      "File \u001b[1;32m~\\anaconda3\\lib\\site-packages\\pandas\\util\\_decorators.py:311\u001b[0m, in \u001b[0;36mdeprecate_nonkeyword_arguments.<locals>.decorate.<locals>.wrapper\u001b[1;34m(*args, **kwargs)\u001b[0m\n\u001b[0;32m    305\u001b[0m \u001b[38;5;28;01mif\u001b[39;00m \u001b[38;5;28mlen\u001b[39m(args) \u001b[38;5;241m>\u001b[39m num_allow_args:\n\u001b[0;32m    306\u001b[0m     warnings\u001b[38;5;241m.\u001b[39mwarn(\n\u001b[0;32m    307\u001b[0m         msg\u001b[38;5;241m.\u001b[39mformat(arguments\u001b[38;5;241m=\u001b[39marguments),\n\u001b[0;32m    308\u001b[0m         \u001b[38;5;167;01mFutureWarning\u001b[39;00m,\n\u001b[0;32m    309\u001b[0m         stacklevel\u001b[38;5;241m=\u001b[39mstacklevel,\n\u001b[0;32m    310\u001b[0m     )\n\u001b[1;32m--> 311\u001b[0m \u001b[38;5;28;01mreturn\u001b[39;00m func(\u001b[38;5;241m*\u001b[39margs, \u001b[38;5;241m*\u001b[39m\u001b[38;5;241m*\u001b[39mkwargs)\n",
      "File \u001b[1;32m~\\anaconda3\\lib\\site-packages\\pandas\\io\\parsers\\readers.py:680\u001b[0m, in \u001b[0;36mread_csv\u001b[1;34m(filepath_or_buffer, sep, delimiter, header, names, index_col, usecols, squeeze, prefix, mangle_dupe_cols, dtype, engine, converters, true_values, false_values, skipinitialspace, skiprows, skipfooter, nrows, na_values, keep_default_na, na_filter, verbose, skip_blank_lines, parse_dates, infer_datetime_format, keep_date_col, date_parser, dayfirst, cache_dates, iterator, chunksize, compression, thousands, decimal, lineterminator, quotechar, quoting, doublequote, escapechar, comment, encoding, encoding_errors, dialect, error_bad_lines, warn_bad_lines, on_bad_lines, delim_whitespace, low_memory, memory_map, float_precision, storage_options)\u001b[0m\n\u001b[0;32m    665\u001b[0m kwds_defaults \u001b[38;5;241m=\u001b[39m _refine_defaults_read(\n\u001b[0;32m    666\u001b[0m     dialect,\n\u001b[0;32m    667\u001b[0m     delimiter,\n\u001b[1;32m   (...)\u001b[0m\n\u001b[0;32m    676\u001b[0m     defaults\u001b[38;5;241m=\u001b[39m{\u001b[38;5;124m\"\u001b[39m\u001b[38;5;124mdelimiter\u001b[39m\u001b[38;5;124m\"\u001b[39m: \u001b[38;5;124m\"\u001b[39m\u001b[38;5;124m,\u001b[39m\u001b[38;5;124m\"\u001b[39m},\n\u001b[0;32m    677\u001b[0m )\n\u001b[0;32m    678\u001b[0m kwds\u001b[38;5;241m.\u001b[39mupdate(kwds_defaults)\n\u001b[1;32m--> 680\u001b[0m \u001b[38;5;28;01mreturn\u001b[39;00m \u001b[43m_read\u001b[49m\u001b[43m(\u001b[49m\u001b[43mfilepath_or_buffer\u001b[49m\u001b[43m,\u001b[49m\u001b[43m \u001b[49m\u001b[43mkwds\u001b[49m\u001b[43m)\u001b[49m\n",
      "File \u001b[1;32m~\\anaconda3\\lib\\site-packages\\pandas\\io\\parsers\\readers.py:575\u001b[0m, in \u001b[0;36m_read\u001b[1;34m(filepath_or_buffer, kwds)\u001b[0m\n\u001b[0;32m    572\u001b[0m _validate_names(kwds\u001b[38;5;241m.\u001b[39mget(\u001b[38;5;124m\"\u001b[39m\u001b[38;5;124mnames\u001b[39m\u001b[38;5;124m\"\u001b[39m, \u001b[38;5;28;01mNone\u001b[39;00m))\n\u001b[0;32m    574\u001b[0m \u001b[38;5;66;03m# Create the parser.\u001b[39;00m\n\u001b[1;32m--> 575\u001b[0m parser \u001b[38;5;241m=\u001b[39m TextFileReader(filepath_or_buffer, \u001b[38;5;241m*\u001b[39m\u001b[38;5;241m*\u001b[39mkwds)\n\u001b[0;32m    577\u001b[0m \u001b[38;5;28;01mif\u001b[39;00m chunksize \u001b[38;5;129;01mor\u001b[39;00m iterator:\n\u001b[0;32m    578\u001b[0m     \u001b[38;5;28;01mreturn\u001b[39;00m parser\n",
      "File \u001b[1;32m~\\anaconda3\\lib\\site-packages\\pandas\\io\\parsers\\readers.py:933\u001b[0m, in \u001b[0;36mTextFileReader.__init__\u001b[1;34m(self, f, engine, **kwds)\u001b[0m\n\u001b[0;32m    930\u001b[0m     \u001b[38;5;28mself\u001b[39m\u001b[38;5;241m.\u001b[39moptions[\u001b[38;5;124m\"\u001b[39m\u001b[38;5;124mhas_index_names\u001b[39m\u001b[38;5;124m\"\u001b[39m] \u001b[38;5;241m=\u001b[39m kwds[\u001b[38;5;124m\"\u001b[39m\u001b[38;5;124mhas_index_names\u001b[39m\u001b[38;5;124m\"\u001b[39m]\n\u001b[0;32m    932\u001b[0m \u001b[38;5;28mself\u001b[39m\u001b[38;5;241m.\u001b[39mhandles: IOHandles \u001b[38;5;241m|\u001b[39m \u001b[38;5;28;01mNone\u001b[39;00m \u001b[38;5;241m=\u001b[39m \u001b[38;5;28;01mNone\u001b[39;00m\n\u001b[1;32m--> 933\u001b[0m \u001b[38;5;28mself\u001b[39m\u001b[38;5;241m.\u001b[39m_engine \u001b[38;5;241m=\u001b[39m \u001b[38;5;28;43mself\u001b[39;49m\u001b[38;5;241;43m.\u001b[39;49m\u001b[43m_make_engine\u001b[49m\u001b[43m(\u001b[49m\u001b[43mf\u001b[49m\u001b[43m,\u001b[49m\u001b[43m \u001b[49m\u001b[38;5;28;43mself\u001b[39;49m\u001b[38;5;241;43m.\u001b[39;49m\u001b[43mengine\u001b[49m\u001b[43m)\u001b[49m\n",
      "File \u001b[1;32m~\\anaconda3\\lib\\site-packages\\pandas\\io\\parsers\\readers.py:1217\u001b[0m, in \u001b[0;36mTextFileReader._make_engine\u001b[1;34m(self, f, engine)\u001b[0m\n\u001b[0;32m   1213\u001b[0m     mode \u001b[38;5;241m=\u001b[39m \u001b[38;5;124m\"\u001b[39m\u001b[38;5;124mrb\u001b[39m\u001b[38;5;124m\"\u001b[39m\n\u001b[0;32m   1214\u001b[0m \u001b[38;5;66;03m# error: No overload variant of \"get_handle\" matches argument types\u001b[39;00m\n\u001b[0;32m   1215\u001b[0m \u001b[38;5;66;03m# \"Union[str, PathLike[str], ReadCsvBuffer[bytes], ReadCsvBuffer[str]]\"\u001b[39;00m\n\u001b[0;32m   1216\u001b[0m \u001b[38;5;66;03m# , \"str\", \"bool\", \"Any\", \"Any\", \"Any\", \"Any\", \"Any\"\u001b[39;00m\n\u001b[1;32m-> 1217\u001b[0m \u001b[38;5;28mself\u001b[39m\u001b[38;5;241m.\u001b[39mhandles \u001b[38;5;241m=\u001b[39m \u001b[43mget_handle\u001b[49m\u001b[43m(\u001b[49m\u001b[43m  \u001b[49m\u001b[38;5;66;43;03m# type: ignore[call-overload]\u001b[39;49;00m\n\u001b[0;32m   1218\u001b[0m \u001b[43m    \u001b[49m\u001b[43mf\u001b[49m\u001b[43m,\u001b[49m\n\u001b[0;32m   1219\u001b[0m \u001b[43m    \u001b[49m\u001b[43mmode\u001b[49m\u001b[43m,\u001b[49m\n\u001b[0;32m   1220\u001b[0m \u001b[43m    \u001b[49m\u001b[43mencoding\u001b[49m\u001b[38;5;241;43m=\u001b[39;49m\u001b[38;5;28;43mself\u001b[39;49m\u001b[38;5;241;43m.\u001b[39;49m\u001b[43moptions\u001b[49m\u001b[38;5;241;43m.\u001b[39;49m\u001b[43mget\u001b[49m\u001b[43m(\u001b[49m\u001b[38;5;124;43m\"\u001b[39;49m\u001b[38;5;124;43mencoding\u001b[39;49m\u001b[38;5;124;43m\"\u001b[39;49m\u001b[43m,\u001b[49m\u001b[43m \u001b[49m\u001b[38;5;28;43;01mNone\u001b[39;49;00m\u001b[43m)\u001b[49m\u001b[43m,\u001b[49m\n\u001b[0;32m   1221\u001b[0m \u001b[43m    \u001b[49m\u001b[43mcompression\u001b[49m\u001b[38;5;241;43m=\u001b[39;49m\u001b[38;5;28;43mself\u001b[39;49m\u001b[38;5;241;43m.\u001b[39;49m\u001b[43moptions\u001b[49m\u001b[38;5;241;43m.\u001b[39;49m\u001b[43mget\u001b[49m\u001b[43m(\u001b[49m\u001b[38;5;124;43m\"\u001b[39;49m\u001b[38;5;124;43mcompression\u001b[39;49m\u001b[38;5;124;43m\"\u001b[39;49m\u001b[43m,\u001b[49m\u001b[43m \u001b[49m\u001b[38;5;28;43;01mNone\u001b[39;49;00m\u001b[43m)\u001b[49m\u001b[43m,\u001b[49m\n\u001b[0;32m   1222\u001b[0m \u001b[43m    \u001b[49m\u001b[43mmemory_map\u001b[49m\u001b[38;5;241;43m=\u001b[39;49m\u001b[38;5;28;43mself\u001b[39;49m\u001b[38;5;241;43m.\u001b[39;49m\u001b[43moptions\u001b[49m\u001b[38;5;241;43m.\u001b[39;49m\u001b[43mget\u001b[49m\u001b[43m(\u001b[49m\u001b[38;5;124;43m\"\u001b[39;49m\u001b[38;5;124;43mmemory_map\u001b[39;49m\u001b[38;5;124;43m\"\u001b[39;49m\u001b[43m,\u001b[49m\u001b[43m \u001b[49m\u001b[38;5;28;43;01mFalse\u001b[39;49;00m\u001b[43m)\u001b[49m\u001b[43m,\u001b[49m\n\u001b[0;32m   1223\u001b[0m \u001b[43m    \u001b[49m\u001b[43mis_text\u001b[49m\u001b[38;5;241;43m=\u001b[39;49m\u001b[43mis_text\u001b[49m\u001b[43m,\u001b[49m\n\u001b[0;32m   1224\u001b[0m \u001b[43m    \u001b[49m\u001b[43merrors\u001b[49m\u001b[38;5;241;43m=\u001b[39;49m\u001b[38;5;28;43mself\u001b[39;49m\u001b[38;5;241;43m.\u001b[39;49m\u001b[43moptions\u001b[49m\u001b[38;5;241;43m.\u001b[39;49m\u001b[43mget\u001b[49m\u001b[43m(\u001b[49m\u001b[38;5;124;43m\"\u001b[39;49m\u001b[38;5;124;43mencoding_errors\u001b[39;49m\u001b[38;5;124;43m\"\u001b[39;49m\u001b[43m,\u001b[49m\u001b[43m \u001b[49m\u001b[38;5;124;43m\"\u001b[39;49m\u001b[38;5;124;43mstrict\u001b[39;49m\u001b[38;5;124;43m\"\u001b[39;49m\u001b[43m)\u001b[49m\u001b[43m,\u001b[49m\n\u001b[0;32m   1225\u001b[0m \u001b[43m    \u001b[49m\u001b[43mstorage_options\u001b[49m\u001b[38;5;241;43m=\u001b[39;49m\u001b[38;5;28;43mself\u001b[39;49m\u001b[38;5;241;43m.\u001b[39;49m\u001b[43moptions\u001b[49m\u001b[38;5;241;43m.\u001b[39;49m\u001b[43mget\u001b[49m\u001b[43m(\u001b[49m\u001b[38;5;124;43m\"\u001b[39;49m\u001b[38;5;124;43mstorage_options\u001b[39;49m\u001b[38;5;124;43m\"\u001b[39;49m\u001b[43m,\u001b[49m\u001b[43m \u001b[49m\u001b[38;5;28;43;01mNone\u001b[39;49;00m\u001b[43m)\u001b[49m\u001b[43m,\u001b[49m\n\u001b[0;32m   1226\u001b[0m \u001b[43m\u001b[49m\u001b[43m)\u001b[49m\n\u001b[0;32m   1227\u001b[0m \u001b[38;5;28;01massert\u001b[39;00m \u001b[38;5;28mself\u001b[39m\u001b[38;5;241m.\u001b[39mhandles \u001b[38;5;129;01mis\u001b[39;00m \u001b[38;5;129;01mnot\u001b[39;00m \u001b[38;5;28;01mNone\u001b[39;00m\n\u001b[0;32m   1228\u001b[0m f \u001b[38;5;241m=\u001b[39m \u001b[38;5;28mself\u001b[39m\u001b[38;5;241m.\u001b[39mhandles\u001b[38;5;241m.\u001b[39mhandle\n",
      "File \u001b[1;32m~\\anaconda3\\lib\\site-packages\\pandas\\io\\common.py:670\u001b[0m, in \u001b[0;36mget_handle\u001b[1;34m(path_or_buf, mode, encoding, compression, memory_map, is_text, errors, storage_options)\u001b[0m\n\u001b[0;32m    667\u001b[0m     codecs\u001b[38;5;241m.\u001b[39mlookup_error(errors)\n\u001b[0;32m    669\u001b[0m \u001b[38;5;66;03m# open URLs\u001b[39;00m\n\u001b[1;32m--> 670\u001b[0m ioargs \u001b[38;5;241m=\u001b[39m \u001b[43m_get_filepath_or_buffer\u001b[49m\u001b[43m(\u001b[49m\n\u001b[0;32m    671\u001b[0m \u001b[43m    \u001b[49m\u001b[43mpath_or_buf\u001b[49m\u001b[43m,\u001b[49m\n\u001b[0;32m    672\u001b[0m \u001b[43m    \u001b[49m\u001b[43mencoding\u001b[49m\u001b[38;5;241;43m=\u001b[39;49m\u001b[43mencoding\u001b[49m\u001b[43m,\u001b[49m\n\u001b[0;32m    673\u001b[0m \u001b[43m    \u001b[49m\u001b[43mcompression\u001b[49m\u001b[38;5;241;43m=\u001b[39;49m\u001b[43mcompression\u001b[49m\u001b[43m,\u001b[49m\n\u001b[0;32m    674\u001b[0m \u001b[43m    \u001b[49m\u001b[43mmode\u001b[49m\u001b[38;5;241;43m=\u001b[39;49m\u001b[43mmode\u001b[49m\u001b[43m,\u001b[49m\n\u001b[0;32m    675\u001b[0m \u001b[43m    \u001b[49m\u001b[43mstorage_options\u001b[49m\u001b[38;5;241;43m=\u001b[39;49m\u001b[43mstorage_options\u001b[49m\u001b[43m,\u001b[49m\n\u001b[0;32m    676\u001b[0m \u001b[43m\u001b[49m\u001b[43m)\u001b[49m\n\u001b[0;32m    678\u001b[0m handle \u001b[38;5;241m=\u001b[39m ioargs\u001b[38;5;241m.\u001b[39mfilepath_or_buffer\n\u001b[0;32m    679\u001b[0m handles: \u001b[38;5;28mlist\u001b[39m[BaseBuffer]\n",
      "File \u001b[1;32m~\\anaconda3\\lib\\site-packages\\pandas\\io\\common.py:339\u001b[0m, in \u001b[0;36m_get_filepath_or_buffer\u001b[1;34m(filepath_or_buffer, encoding, compression, mode, storage_options)\u001b[0m\n\u001b[0;32m    337\u001b[0m \u001b[38;5;66;03m# assuming storage_options is to be interpreted as headers\u001b[39;00m\n\u001b[0;32m    338\u001b[0m req_info \u001b[38;5;241m=\u001b[39m urllib\u001b[38;5;241m.\u001b[39mrequest\u001b[38;5;241m.\u001b[39mRequest(filepath_or_buffer, headers\u001b[38;5;241m=\u001b[39mstorage_options)\n\u001b[1;32m--> 339\u001b[0m \u001b[38;5;28;01mwith\u001b[39;00m \u001b[43murlopen\u001b[49m\u001b[43m(\u001b[49m\u001b[43mreq_info\u001b[49m\u001b[43m)\u001b[49m \u001b[38;5;28;01mas\u001b[39;00m req:\n\u001b[0;32m    340\u001b[0m     content_encoding \u001b[38;5;241m=\u001b[39m req\u001b[38;5;241m.\u001b[39mheaders\u001b[38;5;241m.\u001b[39mget(\u001b[38;5;124m\"\u001b[39m\u001b[38;5;124mContent-Encoding\u001b[39m\u001b[38;5;124m\"\u001b[39m, \u001b[38;5;28;01mNone\u001b[39;00m)\n\u001b[0;32m    341\u001b[0m     \u001b[38;5;28;01mif\u001b[39;00m content_encoding \u001b[38;5;241m==\u001b[39m \u001b[38;5;124m\"\u001b[39m\u001b[38;5;124mgzip\u001b[39m\u001b[38;5;124m\"\u001b[39m:\n\u001b[0;32m    342\u001b[0m         \u001b[38;5;66;03m# Override compression based on Content-Encoding header\u001b[39;00m\n",
      "File \u001b[1;32m~\\anaconda3\\lib\\site-packages\\pandas\\io\\common.py:239\u001b[0m, in \u001b[0;36murlopen\u001b[1;34m(*args, **kwargs)\u001b[0m\n\u001b[0;32m    233\u001b[0m \u001b[38;5;124;03m\"\"\"\u001b[39;00m\n\u001b[0;32m    234\u001b[0m \u001b[38;5;124;03mLazy-import wrapper for stdlib urlopen, as that imports a big chunk of\u001b[39;00m\n\u001b[0;32m    235\u001b[0m \u001b[38;5;124;03mthe stdlib.\u001b[39;00m\n\u001b[0;32m    236\u001b[0m \u001b[38;5;124;03m\"\"\"\u001b[39;00m\n\u001b[0;32m    237\u001b[0m \u001b[38;5;28;01mimport\u001b[39;00m \u001b[38;5;21;01murllib\u001b[39;00m\u001b[38;5;21;01m.\u001b[39;00m\u001b[38;5;21;01mrequest\u001b[39;00m\n\u001b[1;32m--> 239\u001b[0m \u001b[38;5;28;01mreturn\u001b[39;00m urllib\u001b[38;5;241m.\u001b[39mrequest\u001b[38;5;241m.\u001b[39murlopen(\u001b[38;5;241m*\u001b[39margs, \u001b[38;5;241m*\u001b[39m\u001b[38;5;241m*\u001b[39mkwargs)\n",
      "File \u001b[1;32m~\\anaconda3\\lib\\urllib\\request.py:214\u001b[0m, in \u001b[0;36murlopen\u001b[1;34m(url, data, timeout, cafile, capath, cadefault, context)\u001b[0m\n\u001b[0;32m    212\u001b[0m \u001b[38;5;28;01melse\u001b[39;00m:\n\u001b[0;32m    213\u001b[0m     opener \u001b[38;5;241m=\u001b[39m _opener\n\u001b[1;32m--> 214\u001b[0m \u001b[38;5;28;01mreturn\u001b[39;00m \u001b[43mopener\u001b[49m\u001b[38;5;241;43m.\u001b[39;49m\u001b[43mopen\u001b[49m\u001b[43m(\u001b[49m\u001b[43murl\u001b[49m\u001b[43m,\u001b[49m\u001b[43m \u001b[49m\u001b[43mdata\u001b[49m\u001b[43m,\u001b[49m\u001b[43m \u001b[49m\u001b[43mtimeout\u001b[49m\u001b[43m)\u001b[49m\n",
      "File \u001b[1;32m~\\anaconda3\\lib\\urllib\\request.py:523\u001b[0m, in \u001b[0;36mOpenerDirector.open\u001b[1;34m(self, fullurl, data, timeout)\u001b[0m\n\u001b[0;32m    521\u001b[0m \u001b[38;5;28;01mfor\u001b[39;00m processor \u001b[38;5;129;01min\u001b[39;00m \u001b[38;5;28mself\u001b[39m\u001b[38;5;241m.\u001b[39mprocess_response\u001b[38;5;241m.\u001b[39mget(protocol, []):\n\u001b[0;32m    522\u001b[0m     meth \u001b[38;5;241m=\u001b[39m \u001b[38;5;28mgetattr\u001b[39m(processor, meth_name)\n\u001b[1;32m--> 523\u001b[0m     response \u001b[38;5;241m=\u001b[39m \u001b[43mmeth\u001b[49m\u001b[43m(\u001b[49m\u001b[43mreq\u001b[49m\u001b[43m,\u001b[49m\u001b[43m \u001b[49m\u001b[43mresponse\u001b[49m\u001b[43m)\u001b[49m\n\u001b[0;32m    525\u001b[0m \u001b[38;5;28;01mreturn\u001b[39;00m response\n",
      "File \u001b[1;32m~\\anaconda3\\lib\\urllib\\request.py:632\u001b[0m, in \u001b[0;36mHTTPErrorProcessor.http_response\u001b[1;34m(self, request, response)\u001b[0m\n\u001b[0;32m    629\u001b[0m \u001b[38;5;66;03m# According to RFC 2616, \"2xx\" code indicates that the client's\u001b[39;00m\n\u001b[0;32m    630\u001b[0m \u001b[38;5;66;03m# request was successfully received, understood, and accepted.\u001b[39;00m\n\u001b[0;32m    631\u001b[0m \u001b[38;5;28;01mif\u001b[39;00m \u001b[38;5;129;01mnot\u001b[39;00m (\u001b[38;5;241m200\u001b[39m \u001b[38;5;241m<\u001b[39m\u001b[38;5;241m=\u001b[39m code \u001b[38;5;241m<\u001b[39m \u001b[38;5;241m300\u001b[39m):\n\u001b[1;32m--> 632\u001b[0m     response \u001b[38;5;241m=\u001b[39m \u001b[38;5;28;43mself\u001b[39;49m\u001b[38;5;241;43m.\u001b[39;49m\u001b[43mparent\u001b[49m\u001b[38;5;241;43m.\u001b[39;49m\u001b[43merror\u001b[49m\u001b[43m(\u001b[49m\n\u001b[0;32m    633\u001b[0m \u001b[43m        \u001b[49m\u001b[38;5;124;43m'\u001b[39;49m\u001b[38;5;124;43mhttp\u001b[39;49m\u001b[38;5;124;43m'\u001b[39;49m\u001b[43m,\u001b[49m\u001b[43m \u001b[49m\u001b[43mrequest\u001b[49m\u001b[43m,\u001b[49m\u001b[43m \u001b[49m\u001b[43mresponse\u001b[49m\u001b[43m,\u001b[49m\u001b[43m \u001b[49m\u001b[43mcode\u001b[49m\u001b[43m,\u001b[49m\u001b[43m \u001b[49m\u001b[43mmsg\u001b[49m\u001b[43m,\u001b[49m\u001b[43m \u001b[49m\u001b[43mhdrs\u001b[49m\u001b[43m)\u001b[49m\n\u001b[0;32m    635\u001b[0m \u001b[38;5;28;01mreturn\u001b[39;00m response\n",
      "File \u001b[1;32m~\\anaconda3\\lib\\urllib\\request.py:561\u001b[0m, in \u001b[0;36mOpenerDirector.error\u001b[1;34m(self, proto, *args)\u001b[0m\n\u001b[0;32m    559\u001b[0m \u001b[38;5;28;01mif\u001b[39;00m http_err:\n\u001b[0;32m    560\u001b[0m     args \u001b[38;5;241m=\u001b[39m (\u001b[38;5;28mdict\u001b[39m, \u001b[38;5;124m'\u001b[39m\u001b[38;5;124mdefault\u001b[39m\u001b[38;5;124m'\u001b[39m, \u001b[38;5;124m'\u001b[39m\u001b[38;5;124mhttp_error_default\u001b[39m\u001b[38;5;124m'\u001b[39m) \u001b[38;5;241m+\u001b[39m orig_args\n\u001b[1;32m--> 561\u001b[0m     \u001b[38;5;28;01mreturn\u001b[39;00m \u001b[38;5;28;43mself\u001b[39;49m\u001b[38;5;241;43m.\u001b[39;49m\u001b[43m_call_chain\u001b[49m\u001b[43m(\u001b[49m\u001b[38;5;241;43m*\u001b[39;49m\u001b[43margs\u001b[49m\u001b[43m)\u001b[49m\n",
      "File \u001b[1;32m~\\anaconda3\\lib\\urllib\\request.py:494\u001b[0m, in \u001b[0;36mOpenerDirector._call_chain\u001b[1;34m(self, chain, kind, meth_name, *args)\u001b[0m\n\u001b[0;32m    492\u001b[0m \u001b[38;5;28;01mfor\u001b[39;00m handler \u001b[38;5;129;01min\u001b[39;00m handlers:\n\u001b[0;32m    493\u001b[0m     func \u001b[38;5;241m=\u001b[39m \u001b[38;5;28mgetattr\u001b[39m(handler, meth_name)\n\u001b[1;32m--> 494\u001b[0m     result \u001b[38;5;241m=\u001b[39m \u001b[43mfunc\u001b[49m\u001b[43m(\u001b[49m\u001b[38;5;241;43m*\u001b[39;49m\u001b[43margs\u001b[49m\u001b[43m)\u001b[49m\n\u001b[0;32m    495\u001b[0m     \u001b[38;5;28;01mif\u001b[39;00m result \u001b[38;5;129;01mis\u001b[39;00m \u001b[38;5;129;01mnot\u001b[39;00m \u001b[38;5;28;01mNone\u001b[39;00m:\n\u001b[0;32m    496\u001b[0m         \u001b[38;5;28;01mreturn\u001b[39;00m result\n",
      "File \u001b[1;32m~\\anaconda3\\lib\\urllib\\request.py:641\u001b[0m, in \u001b[0;36mHTTPDefaultErrorHandler.http_error_default\u001b[1;34m(self, req, fp, code, msg, hdrs)\u001b[0m\n\u001b[0;32m    640\u001b[0m \u001b[38;5;28;01mdef\u001b[39;00m \u001b[38;5;21mhttp_error_default\u001b[39m(\u001b[38;5;28mself\u001b[39m, req, fp, code, msg, hdrs):\n\u001b[1;32m--> 641\u001b[0m     \u001b[38;5;28;01mraise\u001b[39;00m HTTPError(req\u001b[38;5;241m.\u001b[39mfull_url, code, msg, hdrs, fp)\n",
      "\u001b[1;31mHTTPError\u001b[0m: HTTP Error 404: Not Found"
     ]
    }
   ],
   "source": [
    "import pandas as pd\n",
    "\n",
    "df_wine = pd.read_csv(\"https://archive.ics.uci.edu/mi/\"\n",
    "                      \"wine.csv\", header = None)"
   ]
  },
  {
   "cell_type": "code",
   "execution_count": null,
   "id": "fe6cf196-3627-4cd1-9a5c-425e3847641a",
   "metadata": {},
   "outputs": [],
   "source": [
    "df_wine.columns = ['Class label', 'Alcohol', 'Malic Acid']\n",
    "df_wine.index()"
   ]
  },
  {
   "cell_type": "markdown",
   "id": "3f66dd4d-e8b0-445d-8af0-2de2b2291b58",
   "metadata": {},
   "source": [
    "### 6. html 파일 읽기"
   ]
  },
  {
   "cell_type": "code",
   "execution_count": 17,
   "id": "365839ee-1a85-4a0f-97e0-acafc8f12b3b",
   "metadata": {},
   "outputs": [
    {
     "name": "stdout",
     "output_type": "stream",
     "text": [
      "Requirement already satisfied: lxml in c:\\users\\conet\\anaconda3\\lib\\site-packages (4.8.0)\n",
      "Collecting html5lib\n",
      "  Downloading html5lib-1.1-py2.py3-none-any.whl (112 kB)\n",
      "Requirement already satisfied: webencodings in c:\\users\\conet\\anaconda3\\lib\\site-packages (from html5lib) (0.5.1)\n",
      "Requirement already satisfied: six>=1.9 in c:\\users\\conet\\anaconda3\\lib\\site-packages (from html5lib) (1.16.0)\n",
      "Installing collected packages: html5lib\n",
      "Successfully installed html5lib-1.1\n",
      "Requirement already satisfied: BeautifulSoup4 in c:\\users\\conet\\anaconda3\\lib\\site-packages (4.11.1)\n",
      "Requirement already satisfied: soupsieve>1.2 in c:\\users\\conet\\anaconda3\\lib\\site-packages (from BeautifulSoup4) (2.3.1)\n"
     ]
    }
   ],
   "source": [
    "!pip install lxml\n",
    "!pip install html5lib\n",
    "!pip install BeautifulSoup4"
   ]
  },
  {
   "cell_type": "code",
   "execution_count": 18,
   "id": "985b162d-1a60-464f-810e-2451c5cb6881",
   "metadata": {},
   "outputs": [
    {
     "data": {
      "text/html": [
       "<div>\n",
       "<style scoped>\n",
       "    .dataframe tbody tr th:only-of-type {\n",
       "        vertical-align: middle;\n",
       "    }\n",
       "\n",
       "    .dataframe tbody tr th {\n",
       "        vertical-align: top;\n",
       "    }\n",
       "\n",
       "    .dataframe thead th {\n",
       "        text-align: right;\n",
       "    }\n",
       "</style>\n",
       "<table border=\"1\" class=\"dataframe\">\n",
       "  <thead>\n",
       "    <tr style=\"text-align: right;\">\n",
       "      <th></th>\n",
       "      <th>Bank NameBank</th>\n",
       "      <th>CityCity</th>\n",
       "      <th>StateSt</th>\n",
       "      <th>CertCert</th>\n",
       "      <th>Acquiring InstitutionAI</th>\n",
       "      <th>Closing DateClosing</th>\n",
       "      <th>FundFund</th>\n",
       "    </tr>\n",
       "  </thead>\n",
       "  <tbody>\n",
       "    <tr>\n",
       "      <th>0</th>\n",
       "      <td>Almena State Bank</td>\n",
       "      <td>Almena</td>\n",
       "      <td>KS</td>\n",
       "      <td>15426</td>\n",
       "      <td>Equity Bank</td>\n",
       "      <td>October 23, 2020</td>\n",
       "      <td>10538</td>\n",
       "    </tr>\n",
       "    <tr>\n",
       "      <th>1</th>\n",
       "      <td>First City Bank of Florida</td>\n",
       "      <td>Fort Walton Beach</td>\n",
       "      <td>FL</td>\n",
       "      <td>16748</td>\n",
       "      <td>United Fidelity Bank, fsb</td>\n",
       "      <td>October 16, 2020</td>\n",
       "      <td>10537</td>\n",
       "    </tr>\n",
       "    <tr>\n",
       "      <th>2</th>\n",
       "      <td>The First State Bank</td>\n",
       "      <td>Barboursville</td>\n",
       "      <td>WV</td>\n",
       "      <td>14361</td>\n",
       "      <td>MVB Bank, Inc.</td>\n",
       "      <td>April 3, 2020</td>\n",
       "      <td>10536</td>\n",
       "    </tr>\n",
       "    <tr>\n",
       "      <th>3</th>\n",
       "      <td>Ericson State Bank</td>\n",
       "      <td>Ericson</td>\n",
       "      <td>NE</td>\n",
       "      <td>18265</td>\n",
       "      <td>Farmers and Merchants Bank</td>\n",
       "      <td>February 14, 2020</td>\n",
       "      <td>10535</td>\n",
       "    </tr>\n",
       "    <tr>\n",
       "      <th>4</th>\n",
       "      <td>City National Bank of New Jersey</td>\n",
       "      <td>Newark</td>\n",
       "      <td>NJ</td>\n",
       "      <td>21111</td>\n",
       "      <td>Industrial Bank</td>\n",
       "      <td>November 1, 2019</td>\n",
       "      <td>10534</td>\n",
       "    </tr>\n",
       "    <tr>\n",
       "      <th>...</th>\n",
       "      <td>...</td>\n",
       "      <td>...</td>\n",
       "      <td>...</td>\n",
       "      <td>...</td>\n",
       "      <td>...</td>\n",
       "      <td>...</td>\n",
       "      <td>...</td>\n",
       "    </tr>\n",
       "    <tr>\n",
       "      <th>558</th>\n",
       "      <td>Superior Bank, FSB</td>\n",
       "      <td>Hinsdale</td>\n",
       "      <td>IL</td>\n",
       "      <td>32646</td>\n",
       "      <td>Superior Federal, FSB</td>\n",
       "      <td>July 27, 2001</td>\n",
       "      <td>6004</td>\n",
       "    </tr>\n",
       "    <tr>\n",
       "      <th>559</th>\n",
       "      <td>Malta National Bank</td>\n",
       "      <td>Malta</td>\n",
       "      <td>OH</td>\n",
       "      <td>6629</td>\n",
       "      <td>North Valley Bank</td>\n",
       "      <td>May 3, 2001</td>\n",
       "      <td>4648</td>\n",
       "    </tr>\n",
       "    <tr>\n",
       "      <th>560</th>\n",
       "      <td>First Alliance Bank &amp; Trust Co.</td>\n",
       "      <td>Manchester</td>\n",
       "      <td>NH</td>\n",
       "      <td>34264</td>\n",
       "      <td>Southern New Hampshire Bank &amp; Trust</td>\n",
       "      <td>February 2, 2001</td>\n",
       "      <td>4647</td>\n",
       "    </tr>\n",
       "    <tr>\n",
       "      <th>561</th>\n",
       "      <td>National State Bank of Metropolis</td>\n",
       "      <td>Metropolis</td>\n",
       "      <td>IL</td>\n",
       "      <td>3815</td>\n",
       "      <td>Banterra Bank of Marion</td>\n",
       "      <td>December 14, 2000</td>\n",
       "      <td>4646</td>\n",
       "    </tr>\n",
       "    <tr>\n",
       "      <th>562</th>\n",
       "      <td>Bank of Honolulu</td>\n",
       "      <td>Honolulu</td>\n",
       "      <td>HI</td>\n",
       "      <td>21029</td>\n",
       "      <td>Bank of the Orient</td>\n",
       "      <td>October 13, 2000</td>\n",
       "      <td>4645</td>\n",
       "    </tr>\n",
       "  </tbody>\n",
       "</table>\n",
       "<p>563 rows × 7 columns</p>\n",
       "</div>"
      ],
      "text/plain": [
       "                         Bank NameBank           CityCity StateSt  CertCert  \\\n",
       "0                    Almena State Bank             Almena      KS     15426   \n",
       "1           First City Bank of Florida  Fort Walton Beach      FL     16748   \n",
       "2                 The First State Bank      Barboursville      WV     14361   \n",
       "3                   Ericson State Bank            Ericson      NE     18265   \n",
       "4     City National Bank of New Jersey             Newark      NJ     21111   \n",
       "..                                 ...                ...     ...       ...   \n",
       "558                 Superior Bank, FSB           Hinsdale      IL     32646   \n",
       "559                Malta National Bank              Malta      OH      6629   \n",
       "560    First Alliance Bank & Trust Co.         Manchester      NH     34264   \n",
       "561  National State Bank of Metropolis         Metropolis      IL      3815   \n",
       "562                   Bank of Honolulu           Honolulu      HI     21029   \n",
       "\n",
       "                 Acquiring InstitutionAI Closing DateClosing  FundFund  \n",
       "0                            Equity Bank    October 23, 2020     10538  \n",
       "1              United Fidelity Bank, fsb    October 16, 2020     10537  \n",
       "2                         MVB Bank, Inc.       April 3, 2020     10536  \n",
       "3             Farmers and Merchants Bank   February 14, 2020     10535  \n",
       "4                        Industrial Bank    November 1, 2019     10534  \n",
       "..                                   ...                 ...       ...  \n",
       "558                Superior Federal, FSB       July 27, 2001      6004  \n",
       "559                    North Valley Bank         May 3, 2001      4648  \n",
       "560  Southern New Hampshire Bank & Trust    February 2, 2001      4647  \n",
       "561              Banterra Bank of Marion   December 14, 2000      4646  \n",
       "562                   Bank of the Orient    October 13, 2000      4645  \n",
       "\n",
       "[563 rows x 7 columns]"
      ]
     },
     "execution_count": 18,
     "metadata": {},
     "output_type": "execute_result"
    }
   ],
   "source": [
    "df = pd.read_html(\"https://www.fdic.gov/resources/\"\n",
    "                  \"resolutions/bank-failures/failed-bank-list/\")\n",
    "df[0]"
   ]
  },
  {
   "cell_type": "markdown",
   "id": "78c0f3a6-2e8d-465c-ac52-ee531436a75f",
   "metadata": {},
   "source": [
    "### 7. xml 데이터 가져오기"
   ]
  },
  {
   "cell_type": "markdown",
   "id": "06b191d6-1a86-47b7-a01d-7679ebe74c8b",
   "metadata": {},
   "source": [
    "<태그>: 여는태그\n",
    "</태그>: 닫는태그\n",
    "요소의 두가지 형식\n",
    "1) <태그></태그>\n",
    "2) <태그/>\n",
    "\n",
    "콘텐츠\n",
    "<태그>{{콘텐츠}}</태그>\n",
    "<태그>\n",
    "    <태그> 안녕히주무세요 </태그>\n",
    "</태그>"
   ]
  },
  {
   "cell_type": "code",
   "execution_count": null,
   "id": "f4187631-84d5-448c-bf4f-1bb9c74676e1",
   "metadata": {},
   "outputs": [],
   "source": [
    "from bs4 import BeautifulSoup\n",
    "import urllib.request as req\n",
    "\n",
    "url = \"https://www.kma.go.kr/weather/forecast/mid-term-rss3.jsp?stnId=1098\"\n",
    "request = req.urlopen(url)\n",
    "xml = "
   ]
  },
  {
   "cell_type": "code",
   "execution_count": null,
   "id": "8eec47da-6454-4754-a2dc-4b6ba166ec14",
   "metadata": {},
   "outputs": [],
   "source": [
    "from bs4 import BeautifulSoup\n"
   ]
  },
  {
   "cell_type": "markdown",
   "id": "9057620c-faba-46af-a218-75c2d4fb7070",
   "metadata": {},
   "source": [
    "### 8. 모듈과 패키지"
   ]
  },
  {
   "cell_type": "markdown",
   "id": "334e111b-913e-43c0-a9ad-e68c6b20c436",
   "metadata": {},
   "source": [
    "import 모듈명\n",
    "\n",
    "from 모듈명 import 함수명 as 명칭\n",
    "\n",
    "from 모듈명 import 함수명1, 함수명2\n",
    "\n",
    "from 모듈명 import *  # 모듈의 모든 내용 불러오기"
   ]
  },
  {
   "cell_type": "markdown",
   "id": "3ded4bbe-f73d-4cb1-833f-18dc725c1998",
   "metadata": {},
   "source": [
    "함수, 변수, 상수 및 클래스를 모두 모아놓은 파일\n",
    "\n",
    "이름은 항상 소문자 & 밑줄문자 (_)로 구성\n",
    "\n",
    "파이썬 표준 라이브러리는 math, random과 같이 미리 정의해놓은 모듈 포함"
   ]
  },
  {
   "cell_type": "code",
   "execution_count": 36,
   "id": "bdcb6c9c-9642-4082-b34d-ec5377a9cbd1",
   "metadata": {},
   "outputs": [],
   "source": [
    "import datetime"
   ]
  },
  {
   "cell_type": "code",
   "execution_count": 37,
   "id": "5d1e17b2-fcec-45a9-8ea5-d327acbc9a2a",
   "metadata": {},
   "outputs": [
    {
     "data": {
      "text/plain": [
       "datetime.datetime(2022, 8, 8, 10, 2, 32, 133406)"
      ]
     },
     "execution_count": 37,
     "metadata": {},
     "output_type": "execute_result"
    }
   ],
   "source": [
    "datetime.datetime.now()"
   ]
  },
  {
   "cell_type": "markdown",
   "id": "f05fe762-4ed9-497a-ac5a-6088e9777add",
   "metadata": {},
   "source": [
    "모듈: 하나의 파일, 모듈이름은 파일이름과 동일함\n",
    "\n",
    "경로들은 모두 취합돼서 시스템 경로인 sys.path에 리스트 형태로 저장됨"
   ]
  },
  {
   "cell_type": "code",
   "execution_count": 42,
   "id": "fdf5adbb-0579-4744-9c53-b95caac36567",
   "metadata": {},
   "outputs": [],
   "source": [
    "# mycircle0.py\n",
    "import math\n",
    "PI = math.pi\n",
    "xpost, ypos = 0, 0\n",
    "\n",
    "def get_area(radius):  # 원의 면적 계산\n",
    "    return (PI * radius ** 2)\n",
    "\n",
    "def get_peri(radius):  # 원의 둘레 계산\n",
    "    return (2 * PI * radius)\n",
    "\n",
    "def set_pos(x, y):  # 위치 지정\n",
    "    global xpos, ypos\n",
    "    xpos, ypos = x, y"
   ]
  },
  {
   "cell_type": "code",
   "execution_count": 39,
   "id": "2108a4b3-eefe-4c0c-84a8-0107d1ae6d66",
   "metadata": {},
   "outputs": [
    {
     "name": "stdout",
     "output_type": "stream",
     "text": [
      "Writing test.py\n"
     ]
    }
   ],
   "source": [
    "%%writefile test.py\n",
    "import sys\n",
    "if(len(sys.argv)>1)"
   ]
  },
  {
   "cell_type": "code",
   "execution_count": 41,
   "id": "09a83da9-14fe-491a-aa95-f4319b45533a",
   "metadata": {},
   "outputs": [
    {
     "data": {
      "text/plain": [
       "['C:\\\\Users\\\\Conet',\n",
       " 'C:\\\\Users\\\\Conet\\\\anaconda3\\\\python39.zip',\n",
       " 'C:\\\\Users\\\\Conet\\\\anaconda3\\\\DLLs',\n",
       " 'C:\\\\Users\\\\Conet\\\\anaconda3\\\\lib',\n",
       " 'C:\\\\Users\\\\Conet\\\\anaconda3',\n",
       " '',\n",
       " 'C:\\\\Users\\\\Conet\\\\anaconda3\\\\lib\\\\site-packages',\n",
       " 'C:\\\\Users\\\\Conet\\\\anaconda3\\\\lib\\\\site-packages\\\\win32',\n",
       " 'C:\\\\Users\\\\Conet\\\\anaconda3\\\\lib\\\\site-packages\\\\win32\\\\lib',\n",
       " 'C:\\\\Users\\\\Conet\\\\anaconda3\\\\lib\\\\site-packages\\\\Pythonwin']"
      ]
     },
     "execution_count": 41,
     "metadata": {},
     "output_type": "execute_result"
    }
   ],
   "source": [
    "import sys\n",
    "sys.path"
   ]
  },
  {
   "cell_type": "code",
   "execution_count": 44,
   "id": "e333e087-fdc9-4165-9fa5-894c8055537a",
   "metadata": {},
   "outputs": [],
   "source": [
    "import datetime as dt\n",
    "today = dt.date.today()\n",
    "\n",
    "xMas = dt.datetime(2022, 12, 25)\n",
    "time_date = xMas - dt.datetime.now()\n"
   ]
  },
  {
   "cell_type": "code",
   "execution_count": 45,
   "id": "454e69fe-dee2-4da0-a154-d4e7d6372ee8",
   "metadata": {},
   "outputs": [
    {
     "name": "stdout",
     "output_type": "stream",
     "text": [
      "138 days, 13:45:20.259263\n"
     ]
    }
   ],
   "source": [
    "print(time_date)"
   ]
  },
  {
   "cell_type": "markdown",
   "id": "e1a1d67f-5700-4368-9175-bc39e0181205",
   "metadata": {},
   "source": [
    "#### 1) 모듈이 갖고 있는 클래스의 목록 출력"
   ]
  },
  {
   "cell_type": "code",
   "execution_count": 43,
   "id": "e1eece10-2749-400d-9432-f36ddda1faba",
   "metadata": {
    "collapsed": true,
    "jupyter": {
     "outputs_hidden": true
    },
    "tags": []
   },
   "outputs": [
    {
     "data": {
      "text/plain": [
       "['__breakpointhook__',\n",
       " '__displayhook__',\n",
       " '__doc__',\n",
       " '__excepthook__',\n",
       " '__interactivehook__',\n",
       " '__loader__',\n",
       " '__name__',\n",
       " '__package__',\n",
       " '__spec__',\n",
       " '__stderr__',\n",
       " '__stdin__',\n",
       " '__stdout__',\n",
       " '__unraisablehook__',\n",
       " '__warningregistry__',\n",
       " '_base_executable',\n",
       " '_clear_type_cache',\n",
       " '_current_frames',\n",
       " '_debugmallocstats',\n",
       " '_enablelegacywindowsfsencoding',\n",
       " '_framework',\n",
       " '_getframe',\n",
       " '_git',\n",
       " '_home',\n",
       " '_xoptions',\n",
       " 'addaudithook',\n",
       " 'api_version',\n",
       " 'argv',\n",
       " 'audit',\n",
       " 'base_exec_prefix',\n",
       " 'base_prefix',\n",
       " 'breakpointhook',\n",
       " 'builtin_module_names',\n",
       " 'byteorder',\n",
       " 'call_tracing',\n",
       " 'copyright',\n",
       " 'displayhook',\n",
       " 'dllhandle',\n",
       " 'dont_write_bytecode',\n",
       " 'exc_info',\n",
       " 'excepthook',\n",
       " 'exec_prefix',\n",
       " 'executable',\n",
       " 'exit',\n",
       " 'flags',\n",
       " 'float_info',\n",
       " 'float_repr_style',\n",
       " 'get_asyncgen_hooks',\n",
       " 'get_coroutine_origin_tracking_depth',\n",
       " 'getallocatedblocks',\n",
       " 'getdefaultencoding',\n",
       " 'getfilesystemencodeerrors',\n",
       " 'getfilesystemencoding',\n",
       " 'getprofile',\n",
       " 'getrecursionlimit',\n",
       " 'getrefcount',\n",
       " 'getsizeof',\n",
       " 'getswitchinterval',\n",
       " 'gettrace',\n",
       " 'getwindowsversion',\n",
       " 'hash_info',\n",
       " 'hexversion',\n",
       " 'implementation',\n",
       " 'int_info',\n",
       " 'intern',\n",
       " 'is_finalizing',\n",
       " 'last_traceback',\n",
       " 'last_type',\n",
       " 'last_value',\n",
       " 'maxsize',\n",
       " 'maxunicode',\n",
       " 'meta_path',\n",
       " 'modules',\n",
       " 'path',\n",
       " 'path_hooks',\n",
       " 'path_importer_cache',\n",
       " 'platform',\n",
       " 'platlibdir',\n",
       " 'prefix',\n",
       " 'ps1',\n",
       " 'ps2',\n",
       " 'ps3',\n",
       " 'pycache_prefix',\n",
       " 'set_asyncgen_hooks',\n",
       " 'set_coroutine_origin_tracking_depth',\n",
       " 'setprofile',\n",
       " 'setrecursionlimit',\n",
       " 'setswitchinterval',\n",
       " 'settrace',\n",
       " 'stderr',\n",
       " 'stdin',\n",
       " 'stdout',\n",
       " 'thread_info',\n",
       " 'unraisablehook',\n",
       " 'version',\n",
       " 'version_info',\n",
       " 'warnoptions',\n",
       " 'winver']"
      ]
     },
     "execution_count": 43,
     "metadata": {},
     "output_type": "execute_result"
    }
   ],
   "source": [
    "dir(sys)"
   ]
  },
  {
   "cell_type": "markdown",
   "id": "f6fff688-490e-4080-901f-af46a6d26243",
   "metadata": {
    "tags": []
   },
   "source": [
    "#### 2) 파이썬 문서와 __doc__ 속성\n",
    "\n",
    "모듈 문서의 시작 부분에서 \"\"\"로 시작해서 \"\"\"로 끝남"
   ]
  },
  {
   "cell_type": "markdown",
   "id": "159dbfc2-90a0-43a0-b6d5-d9ef5009232d",
   "metadata": {},
   "source": [
    "모듈에 작성된 문서/내용 확인"
   ]
  },
  {
   "cell_type": "code",
   "execution_count": 46,
   "id": "1b492bb2-22ce-4100-8b4f-c05d27af4a07",
   "metadata": {
    "tags": []
   },
   "outputs": [
    {
     "name": "stdout",
     "output_type": "stream",
     "text": [
      "This module provides access to some objects used or maintained by the\n",
      "interpreter and to functions that interact strongly with the interpreter.\n",
      "\n",
      "Dynamic objects:\n",
      "\n",
      "argv -- command line arguments; argv[0] is the script pathname if known\n",
      "path -- module search path; path[0] is the script directory, else ''\n",
      "modules -- dictionary of loaded modules\n",
      "\n",
      "displayhook -- called to show results in an interactive session\n",
      "excepthook -- called to handle any uncaught exception other than SystemExit\n",
      "  To customize printing in an interactive session or to install a custom\n",
      "  top-level exception handler, assign other functions to replace these.\n",
      "\n",
      "stdin -- standard input file object; used by input()\n",
      "stdout -- standard output file object; used by print()\n",
      "stderr -- standard error object; used for error messages\n",
      "  By assigning other file objects (or objects that behave like files)\n",
      "  to these, it is possible to redirect all of the interpreter's I/O.\n",
      "\n",
      "last_type -- type of last uncaught exception\n",
      "last_value -- value of last uncaught exception\n",
      "last_traceback -- traceback of last uncaught exception\n",
      "  These three are only available in an interactive session after a\n",
      "  traceback has been printed.\n",
      "\n",
      "Static objects:\n",
      "\n",
      "builtin_module_names -- tuple of module names built into this interpreter\n",
      "copyright -- copyright notice pertaining to this interpreter\n",
      "exec_prefix -- prefix used to find the machine-specific Python library\n",
      "executable -- absolute path of the executable binary of the Python interpreter\n",
      "float_info -- a named tuple with information about the float implementation.\n",
      "float_repr_style -- string indicating the style of repr() output for floats\n",
      "hash_info -- a named tuple with information about the hash algorithm.\n",
      "hexversion -- version information encoded as a single integer\n",
      "implementation -- Python implementation information.\n",
      "int_info -- a named tuple with information about the int implementation.\n",
      "maxsize -- the largest supported length of containers.\n",
      "maxunicode -- the value of the largest Unicode code point\n",
      "platform -- platform identifier\n",
      "prefix -- prefix used to find the Python library\n",
      "thread_info -- a named tuple with information about the thread implementation.\n",
      "version -- the version of this interpreter as a string\n",
      "version_info -- version information as a named tuple\n",
      "dllhandle -- [Windows only] integer handle of the Python DLL\n",
      "winver -- [Windows only] version number of the Python DLL\n",
      "_enablelegacywindowsfsencoding -- [Windows only]\n",
      "__stdin__ -- the original stdin; don't touch!\n",
      "__stdout__ -- the original stdout; don't touch!\n",
      "__stderr__ -- the original stderr; don't touch!\n",
      "__displayhook__ -- the original displayhook; don't touch!\n",
      "__excepthook__ -- the original excepthook; don't touch!\n",
      "\n",
      "Functions:\n",
      "\n",
      "displayhook() -- print an object to the screen, and save it in builtins._\n",
      "excepthook() -- print an exception and its traceback to sys.stderr\n",
      "exc_info() -- return thread-safe information about the current exception\n",
      "exit() -- exit the interpreter by raising SystemExit\n",
      "getdlopenflags() -- returns flags to be used for dlopen() calls\n",
      "getprofile() -- get the global profiling function\n",
      "getrefcount() -- return the reference count for an object (plus one :-)\n",
      "getrecursionlimit() -- return the max recursion depth for the interpreter\n",
      "getsizeof() -- return the size of an object in bytes\n",
      "gettrace() -- get the global debug tracing function\n",
      "setdlopenflags() -- set the flags to be used for dlopen() calls\n",
      "setprofile() -- set the global profiling function\n",
      "setrecursionlimit() -- set the max recursion depth for the interpreter\n",
      "settrace() -- set the global debug tracing function\n",
      "\n"
     ]
    }
   ],
   "source": [
    "import sys\n",
    "print(sys.__doc__)"
   ]
  },
  {
   "cell_type": "code",
   "execution_count": 48,
   "id": "73bb4226-8adc-4384-b91e-d930f1ff1742",
   "metadata": {},
   "outputs": [
    {
     "name": "stdout",
     "output_type": "stream",
     "text": [
      "None\n"
     ]
    }
   ],
   "source": [
    "print(sys.gettrace().__doc__)"
   ]
  },
  {
   "cell_type": "markdown",
   "id": "181389b1-5c56-4bfd-b438-8424e5470f69",
   "metadata": {},
   "source": [
    "모듈의 라이브러리와 스크립트"
   ]
  },
  {
   "cell_type": "code",
   "execution_count": 52,
   "id": "5356ac3a-e39f-4ae8-9a8f-a0f44954624c",
   "metadata": {},
   "outputs": [],
   "source": [
    "# 모듈 내에 실행구문이 없을 때\n",
    "def add(a, b):\n",
    "    return a+b\n",
    "\n",
    "def substract(a, b):\n",
    "    return a-b"
   ]
  },
  {
   "cell_type": "code",
   "execution_count": 53,
   "id": "b3cc2501-6031-4c63-8955-85922974e402",
   "metadata": {},
   "outputs": [
    {
     "name": "stdout",
     "output_type": "stream",
     "text": [
      "-f\n"
     ]
    }
   ],
   "source": [
    "# 모듈 내에 실행구문이 있을 때\n",
    "import sys\n",
    "def openurl(url):\n",
    "    # .. 본문생략\n",
    "    print(url)\n",
    "    \n",
    "if __name__ == '__main__':\n",
    "    openurl(sys.argv[1])"
   ]
  },
  {
   "cell_type": "markdown",
   "id": "b3c72ce2-223c-45db-9ec4-db100adbcf1c",
   "metadata": {},
   "source": [
    "패키지: 하나의 폴더; 디렉토리"
   ]
  },
  {
   "cell_type": "markdown",
   "id": "018d688d-685b-480d-a3d3-84bbbe39dd43",
   "metadata": {},
   "source": [
    "import 패키지명\n",
    "\n",
    "from 패키지명 import 모듈명\n",
    "\n",
    "from 패키지명 import 모듈명1, 모듈명2\n",
    "\n",
    "from 패키지명 import *"
   ]
  },
  {
   "cell_type": "markdown",
   "id": "e5456ae0-2d92-47a1-933e-763ebd454530",
   "metadata": {},
   "source": [
    "모듈 만들기"
   ]
  },
  {
   "cell_type": "code",
   "execution_count": 54,
   "id": "04b06317-bfaf-4eb3-973e-ace9a66458ef",
   "metadata": {},
   "outputs": [],
   "source": [
    "def sum(a, b):\n",
    "    return a + b\n",
    "\n",
    "def safe_sum(a, b):\n",
    "    if type(a) != type(b):\n",
    "        print(\"더할 수 있는 것이 아닙니다\")\n",
    "        return\n",
    "    else:\n",
    "        result = sum(a, b)\n",
    "    return result"
   ]
  },
  {
   "cell_type": "code",
   "execution_count": 55,
   "id": "6e00cf17-2b0b-42fb-96ec-f91dc7955fe6",
   "metadata": {},
   "outputs": [],
   "source": [
    "import mod1"
   ]
  },
  {
   "cell_type": "code",
   "execution_count": 56,
   "id": "d803a1a5-7c1c-4a54-bc67-8b04c3eeffca",
   "metadata": {},
   "outputs": [
    {
     "name": "stdout",
     "output_type": "stream",
     "text": [
      "7\n"
     ]
    }
   ],
   "source": [
    "print(mod1.sum(3,4))"
   ]
  },
  {
   "cell_type": "code",
   "execution_count": 57,
   "id": "4d7e2ae0-de05-4cc6-ada8-0a7f5ccbf4df",
   "metadata": {},
   "outputs": [
    {
     "name": "stdout",
     "output_type": "stream",
     "text": [
      "7\n"
     ]
    }
   ],
   "source": [
    "print(mod1.safe_sum(3, 4))"
   ]
  },
  {
   "cell_type": "code",
   "execution_count": 58,
   "id": "daa60aa0-3777-49f8-8c43-e7e7b3f7e5af",
   "metadata": {},
   "outputs": [
    {
     "name": "stdout",
     "output_type": "stream",
     "text": [
      "더할 수 있는 것이 아닙니다\n",
      "None\n"
     ]
    }
   ],
   "source": [
    "print(mod1.safe_sum(4, 'a'))"
   ]
  },
  {
   "cell_type": "code",
   "execution_count": 59,
   "id": "f4253d68-554c-4b71-a815-5e89b2a591b7",
   "metadata": {},
   "outputs": [],
   "source": [
    "from mod1 import sum, safe_sum"
   ]
  },
  {
   "cell_type": "code",
   "execution_count": 62,
   "id": "1cf0745b-1a15-43c7-a112-d0ecee87c08e",
   "metadata": {},
   "outputs": [
    {
     "name": "stdout",
     "output_type": "stream",
     "text": [
      "안녕하세요, 반갑습니다.\n",
      "만나서 반가웠습니다. 안녕히 가세요!\n"
     ]
    }
   ],
   "source": [
    "import test_package.say_hello, test_package.say_goodbye\n",
    "test_package.say_hello.hello()\n",
    "test_package.say_goodbye.goodbye()"
   ]
  },
  {
   "cell_type": "code",
   "execution_count": 63,
   "id": "62baa2d2-ec57-472d-bf59-5daa35527294",
   "metadata": {},
   "outputs": [
    {
     "name": "stdout",
     "output_type": "stream",
     "text": [
      "안녕하세요, 반갑습니다.\n",
      "만나서 반가웠습니다. 안녕히 가세요!\n"
     ]
    }
   ],
   "source": [
    "from test_package import say_hello, say_goodbye\n",
    "say_hello.hello()\n",
    "say_goodbye.goodbye()"
   ]
  },
  {
   "cell_type": "code",
   "execution_count": 1,
   "id": "b84c1db9-21fc-403f-9f65-40d9d17ea183",
   "metadata": {},
   "outputs": [
    {
     "name": "stdout",
     "output_type": "stream",
     "text": [
      "3.141592\n",
      "12.566368\n",
      "7.5415920000000005\n"
     ]
    }
   ],
   "source": [
    "from test_package import mod2\n",
    "runfile(\"test_package/mod2.py\")"
   ]
  },
  {
   "cell_type": "code",
   "execution_count": 2,
   "id": "4d47c373-7e2f-4511-9d1f-1f28a697df6c",
   "metadata": {},
   "outputs": [
    {
     "name": "stdout",
     "output_type": "stream",
     "text": [
      "3.141592\n"
     ]
    }
   ],
   "source": [
    "print(mod2.PI)"
   ]
  },
  {
   "cell_type": "code",
   "execution_count": 3,
   "id": "ac8dcff2-c4ed-4440-a2c4-82c664113d38",
   "metadata": {},
   "outputs": [
    {
     "name": "stdout",
     "output_type": "stream",
     "text": [
      "12.566368\n"
     ]
    }
   ],
   "source": [
    "a = mod2.Math()\n",
    "print(a.solv(2))  # 원의 넓이"
   ]
  },
  {
   "cell_type": "code",
   "execution_count": 4,
   "id": "82b9f699-1101-4a45-ac09-b25073014914",
   "metadata": {},
   "outputs": [
    {
     "name": "stdout",
     "output_type": "stream",
     "text": [
      "7.5415920000000005\n"
     ]
    }
   ],
   "source": [
    "print(mod2.sum(mod2.PI, 4.4))"
   ]
  },
  {
   "cell_type": "markdown",
   "id": "fb8afd1f-0e83-404b-bf2d-648a5af2db53",
   "metadata": {},
   "source": [
    "#### 디렉토리 위치/정보 출력"
   ]
  },
  {
   "cell_type": "code",
   "execution_count": 6,
   "id": "7cc17db5-93ca-4b7f-8c5a-40aab0505d08",
   "metadata": {},
   "outputs": [
    {
     "data": {
      "text/plain": [
       "['C:\\\\Users\\\\Conet',\n",
       " 'C:\\\\Users\\\\Conet\\\\anaconda3\\\\python39.zip',\n",
       " 'C:\\\\Users\\\\Conet\\\\anaconda3\\\\DLLs',\n",
       " 'C:\\\\Users\\\\Conet\\\\anaconda3\\\\lib',\n",
       " 'C:\\\\Users\\\\Conet\\\\anaconda3',\n",
       " '',\n",
       " 'C:\\\\Users\\\\Conet\\\\anaconda3\\\\lib\\\\site-packages',\n",
       " 'C:\\\\Users\\\\Conet\\\\anaconda3\\\\lib\\\\site-packages\\\\win32',\n",
       " 'C:\\\\Users\\\\Conet\\\\anaconda3\\\\lib\\\\site-packages\\\\win32\\\\lib',\n",
       " 'C:\\\\Users\\\\Conet\\\\anaconda3\\\\lib\\\\site-packages\\\\Pythonwin']"
      ]
     },
     "execution_count": 6,
     "metadata": {},
     "output_type": "execute_result"
    }
   ],
   "source": [
    "import sys\n",
    "sys.path"
   ]
  },
  {
   "cell_type": "code",
   "execution_count": 10,
   "id": "32b456e7-4c91-4f1f-a4d8-9ef1f6b0e609",
   "metadata": {},
   "outputs": [
    {
     "data": {
      "text/plain": [
       "'C:\\\\Users\\\\Conet'"
      ]
     },
     "execution_count": 10,
     "metadata": {},
     "output_type": "execute_result"
    }
   ],
   "source": [
    "pwd()  # 현재의 디렉토리 저장이 불가능힘"
   ]
  },
  {
   "cell_type": "code",
   "execution_count": 8,
   "id": "265d05d4-13f2-4dee-9268-05439cd4f474",
   "metadata": {},
   "outputs": [
    {
     "data": {
      "text/plain": [
       "'C:\\\\Users\\\\Conet'"
      ]
     },
     "execution_count": 8,
     "metadata": {},
     "output_type": "execute_result"
    }
   ],
   "source": [
    "import os\n",
    "os.getcwd()  # 현재의 디렉토리 저장이 가능함"
   ]
  },
  {
   "cell_type": "markdown",
   "id": "b38af3dd-1bf9-4242-abce-a527d477a137",
   "metadata": {},
   "source": [
    "다시"
   ]
  },
  {
   "cell_type": "markdown",
   "id": "7af61223-ed6e-461e-a2c5-99760e54302b",
   "metadata": {
    "tags": []
   },
   "source": [
    "#### __name__ == \"__main__\"\n",
    "\n",
    "if __name__ == \"__main__\"\n",
    "\n",
    "파일을 직접 실행할 때는 실행하고, import 할 때는 실행하지 않는 조건\n",
    "\n",
    "print() 문 전에 작성해서 저장해두어야 함"
   ]
  },
  {
   "cell_type": "code",
   "execution_count": 11,
   "id": "7b3f1c50-c36c-49de-87c1-9c59fbbe3d51",
   "metadata": {},
   "outputs": [
    {
     "data": {
      "text/plain": [
       "['C:\\\\Users\\\\Conet',\n",
       " 'C:\\\\Users\\\\Conet\\\\anaconda3\\\\python39.zip',\n",
       " 'C:\\\\Users\\\\Conet\\\\anaconda3\\\\DLLs',\n",
       " 'C:\\\\Users\\\\Conet\\\\anaconda3\\\\lib',\n",
       " 'C:\\\\Users\\\\Conet\\\\anaconda3',\n",
       " '',\n",
       " 'C:\\\\Users\\\\Conet\\\\anaconda3\\\\lib\\\\site-packages',\n",
       " 'C:\\\\Users\\\\Conet\\\\anaconda3\\\\lib\\\\site-packages\\\\win32',\n",
       " 'C:\\\\Users\\\\Conet\\\\anaconda3\\\\lib\\\\site-packages\\\\win32\\\\lib',\n",
       " 'C:\\\\Users\\\\Conet\\\\anaconda3\\\\lib\\\\site-packages\\\\Pythonwin',\n",
       " 'C:\\\\Users\\\\Conet']"
      ]
     },
     "execution_count": 11,
     "metadata": {},
     "output_type": "execute_result"
    }
   ],
   "source": [
    "sys.path.append(os.getcwd())\n",
    "sys.path"
   ]
  },
  {
   "cell_type": "markdown",
   "id": "24e265e7-5230-4484-b9bb-fc46fc1bf9ea",
   "metadata": {},
   "source": [
    "작업 디렉토리 변경"
   ]
  },
  {
   "cell_type": "code",
   "execution_count": null,
   "id": "42a06ea7-83f6-445b-a673-bb98263d6ee5",
   "metadata": {},
   "outputs": [],
   "source": [
    "os.getcwd()\n",
    "os.chdir('/Users/')"
   ]
  },
  {
   "cell_type": "markdown",
   "id": "91836b02-dddc-4918-b5e1-68094678dde4",
   "metadata": {},
   "source": [
    "### 9. StatsModels\n",
    "\n",
    "통계/회귀분석/시계열 분석 시 사용\n",
    "\n",
    "https://www.statsmodels.org/"
   ]
  },
  {
   "cell_type": "markdown",
   "id": "29d95869-cea2-4021-862d-23092a10b3c7",
   "metadata": {},
   "source": [
    "### 10. 예외 처리"
   ]
  },
  {
   "cell_type": "code",
   "execution_count": 13,
   "id": "d62a2dbe-2bdc-4e62-949f-762e27a7db16",
   "metadata": {},
   "outputs": [
    {
     "ename": "SyntaxError",
     "evalue": "invalid syntax (3833181910.py, line 2)",
     "output_type": "error",
     "traceback": [
      "\u001b[1;36m  Input \u001b[1;32mIn [13]\u001b[1;36m\u001b[0m\n\u001b[1;33m    if n = 1:  # 조건식; True/False 나와야 함 (ex, n == 1)\u001b[0m\n\u001b[1;37m         ^\u001b[0m\n\u001b[1;31mSyntaxError\u001b[0m\u001b[1;31m:\u001b[0m invalid syntax\n"
     ]
    }
   ],
   "source": [
    "def hanoi(n, start, end, temp):\n",
    "    if n = 1:  # 조건식; True/False 나와야 함 (ex, n == 1)\n",
    "        mylist.append(start+'->'+end)"
   ]
  },
  {
   "cell_type": "code",
   "execution_count": null,
   "id": "1a998914-a496-4bd8-af11-965ea336158c",
   "metadata": {},
   "outputs": [
    {
     "ename": "FileNotFoundError",
     "evalue": "[Errno 2] No such file or directory: 'samples.txt'",
     "output_type": "error",
     "traceback": [
      "\u001b[1;31m---------------------------------------------------------------------------\u001b[0m",
      "\u001b[1;31mFileNotFoundError\u001b[0m                         Traceback (most recent call last)",
      "Input \u001b[1;32mIn [14]\u001b[0m, in \u001b[0;36m<cell line: 1>\u001b[1;34m()\u001b[0m\n\u001b[1;32m----> 1\u001b[0m myfile \u001b[38;5;241m=\u001b[39m \u001b[38;5;28;43mopen\u001b[39;49m\u001b[43m(\u001b[49m\u001b[38;5;124;43m'\u001b[39;49m\u001b[38;5;124;43msamples.txt\u001b[39;49m\u001b[38;5;124;43m'\u001b[39;49m\u001b[43m,\u001b[49m\u001b[43m \u001b[49m\u001b[38;5;124;43m'\u001b[39;49m\u001b[38;5;124;43mr\u001b[39;49m\u001b[38;5;124;43m'\u001b[39;49m\u001b[43m)\u001b[49m\n",
      "\u001b[1;31mFileNotFoundError\u001b[0m: [Errno 2] No such file or directory: 'samples.txt'"
     ]
    }
   ],
   "source": [
    "myfile = open('samples.txt', 'r')"
   ]
  },
  {
   "cell_type": "markdown",
   "id": "5ede409b-1c35-454d-a237-517251bfc22a",
   "metadata": {},
   "source": [
    "ArithmeticError: 수의 연산 문제\n",
    "\n",
    "EOFError: 파일에서 더 이상"
   ]
  },
  {
   "cell_type": "code",
   "execution_count": 15,
   "id": "f827e29c-67f6-43dd-95dd-c57344ec28da",
   "metadata": {},
   "outputs": [
    {
     "ename": "ZeroDivisionError",
     "evalue": "division by zero",
     "output_type": "error",
     "traceback": [
      "\u001b[1;31m---------------------------------------------------------------------------\u001b[0m",
      "\u001b[1;31mZeroDivisionError\u001b[0m                         Traceback (most recent call last)",
      "Input \u001b[1;32mIn [15]\u001b[0m, in \u001b[0;36m<cell line: 1>\u001b[1;34m()\u001b[0m\n\u001b[1;32m----> 1\u001b[0m \u001b[38;5;241;43m230\u001b[39;49m\u001b[43m \u001b[49m\u001b[38;5;241;43m*\u001b[39;49m\u001b[43m \u001b[49m\u001b[38;5;241;43m2\u001b[39;49m\u001b[43m \u001b[49m\u001b[38;5;241;43m/\u001b[39;49m\u001b[43m \u001b[49m\u001b[43m(\u001b[49m\u001b[38;5;241;43m32\u001b[39;49m\u001b[43m \u001b[49m\u001b[38;5;241;43m-\u001b[39;49m\u001b[43m \u001b[49m\u001b[38;5;241;43m4\u001b[39;49m\u001b[43m \u001b[49m\u001b[38;5;241;43m*\u001b[39;49m\u001b[43m \u001b[49m\u001b[38;5;241;43m8\u001b[39;49m\u001b[43m)\u001b[49m\n",
      "\u001b[1;31mZeroDivisionError\u001b[0m: division by zero"
     ]
    }
   ],
   "source": [
    "230 * 2 / (32 - 4 * 8)"
   ]
  },
  {
   "cell_type": "markdown",
   "id": "5fb79352-b1b2-4ec8-bd65-706c6b050e11",
   "metadata": {},
   "source": [
    "##### 1) try-except 문"
   ]
  },
  {
   "cell_type": "code",
   "execution_count": null,
   "id": "4a37f7df-85a9-481c-88de-214e41081696",
   "metadata": {},
   "outputs": [
    {
     "name": "stdin",
     "output_type": "stream",
     "text": [
      "날짜 <월 일>을 입력하세요: > 1 14\n"
     ]
    },
    {
     "name": "stdout",
     "output_type": "stream",
     "text": [
      "1월 14일\n"
     ]
    },
    {
     "name": "stdin",
     "output_type": "stream",
     "text": [
      "날짜 <월 일>을 입력하세요: > 3 23\n"
     ]
    },
    {
     "name": "stdout",
     "output_type": "stream",
     "text": [
      "3월 23일\n"
     ]
    },
    {
     "name": "stdin",
     "output_type": "stream",
     "text": [
      "날짜 <월 일>을 입력하세요: > 1 13\n"
     ]
    },
    {
     "name": "stdout",
     "output_type": "stream",
     "text": [
      "1월 13일\n"
     ]
    },
    {
     "name": "stdin",
     "output_type": "stream",
     "text": [
      "날짜 <월 일>을 입력하세요: > 9 6\n"
     ]
    },
    {
     "name": "stdout",
     "output_type": "stream",
     "text": [
      "9월 6일\n"
     ]
    },
    {
     "name": "stdin",
     "output_type": "stream",
     "text": [
      "날짜 <월 일>을 입력하세요: > 1 20\n"
     ]
    },
    {
     "name": "stdout",
     "output_type": "stream",
     "text": [
      "1월 20일\n",
      "[입력오류]\n"
     ]
    }
   ],
   "source": [
    "# try: 프로그램에서 예외 발생 가능성이 있는 어떤 작업을 실행\n",
    "# exccept: 예외 발생 시 처리 코드\n",
    "date = True\n",
    "while date:\n",
    "    try:\n",
    "        date = input('날짜 <월 일>을 입력하세요: >')\n",
    "        mm, dd = date.split()\n",
    "        mm, dd = int(mm), int(dd)\n",
    "        \n",
    "    except:\n",
    "        print(\"[입력오류]\")\n",
    "    else:\n",
    "        print(\"%d월 %d일\"%(mm,dd))\n",
    "    break : date = True"
   ]
  },
  {
   "cell_type": "code",
   "execution_count": 1,
   "id": "7c33ec6f-891b-47e8-8988-6d8d60799dc5",
   "metadata": {},
   "outputs": [],
   "source": [
    "# 어떠한 오류인지 예측하기 어려운 오류\n",
    "f = open(\"sample.txt\", mode = \"w\", encoding = \"utf-8\")\n",
    "f.write(\"헬로 파이썬\\n\")\n",
    "f.write(\"그럼 이만\")\n",
    "f.close()"
   ]
  },
  {
   "cell_type": "code",
   "execution_count": 2,
   "id": "96925a3e-6029-4a89-a0a6-a611b75cb1b7",
   "metadata": {},
   "outputs": [
    {
     "name": "stdout",
     "output_type": "stream",
     "text": [
      "알 수 없는 오류 'cp949' codec can't decode byte 0xed in position 0: illegal multibyte sequence\n"
     ]
    }
   ],
   "source": [
    "try:\n",
    "    f = open(\"sample.txt\", mode = \"r\")\n",
    "    a = f.read()\n",
    "    f.close()\n",
    "    print(a)\n",
    "except Exception as e:\n",
    "    print(\"알 수 없는 오류 {}\".format(e))"
   ]
  },
  {
   "cell_type": "code",
   "execution_count": 3,
   "id": "53d71101-a8ee-414f-b6f0-1de1fe921835",
   "metadata": {},
   "outputs": [],
   "source": [
    "f = open(\"sample.txt\", mode = \"w\", encoding = \"cp949\")\n",
    "f.write(\"헬로 파이썬\\n\")\n",
    "f.write(\"그럼 이만\")\n",
    "f.close()"
   ]
  },
  {
   "cell_type": "markdown",
   "id": "411528ad-c57e-41a2-b43b-bf9c1c4047e0",
   "metadata": {},
   "source": [
    "##### 2) 직접 에러 발생"
   ]
  },
  {
   "cell_type": "code",
   "execution_count": 6,
   "id": "4eb8a458-b3c8-488f-85ff-b029ee75839f",
   "metadata": {},
   "outputs": [
    {
     "name": "stdout",
     "output_type": "stream",
     "text": [
      "0. 한국어\n",
      "1. English\n"
     ]
    },
    {
     "name": "stdin",
     "output_type": "stream",
     "text": [
      "언어를 선택하세요. 한국어\n"
     ]
    },
    {
     "name": "stdout",
     "output_type": "stream",
     "text": [
      "오류 invalid literal for int() with base 10: '한국어'\n"
     ]
    }
   ],
   "source": [
    "langs = [\"한국어\", \"English\"]\n",
    "\n",
    "for i, lang in enumerate(langs):  # 반복 가능한 리스트 형식에 enumerate() 쓰면, index도 함께 추출\n",
    "    print(\"{}. {}\".format(i, lang))\n",
    "\n",
    "try:\n",
    "    u = int(input(\"언어를 선택하세요.\"))\n",
    "    \n",
    "    if 0 > u or u >= len(langs):\n",
    "        raise Exception  # 에러를 유발시킴\n",
    "    print(\"사용자 선택 {}:{}\".format(u, langs[u]))\n",
    "except Exception as e:\n",
    "    print(\"오류 {}\".format(e))"
   ]
  },
  {
   "cell_type": "code",
   "execution_count": 7,
   "id": "92380835-9ab4-4cca-ae5f-a3b91f827bb2",
   "metadata": {},
   "outputs": [
    {
     "name": "stdout",
     "output_type": "stream",
     "text": [
      "0. 한국어\n",
      "1. English\n"
     ]
    },
    {
     "name": "stdin",
     "output_type": "stream",
     "text": [
      "언어를 선택하세요. 0\n"
     ]
    },
    {
     "name": "stdout",
     "output_type": "stream",
     "text": [
      "사용자 선택 0:한국어\n"
     ]
    }
   ],
   "source": [
    "langs = [\"한국어\", \"English\"]\n",
    "\n",
    "for i, lang in enumerate(langs):  # 반복 가능한 리스트 형식에 enumerate() 쓰면, index도 함께 추출\n",
    "    print(\"{}. {}\".format(i, lang))\n",
    "\n",
    "try:\n",
    "    u = int(input(\"언어를 선택하세요.\"))\n",
    "    \n",
    "    if 0 > u or u >= len(langs):\n",
    "        raise Exception  # 에러를 유발시킴\n",
    "    print(\"사용자 선택 {}:{}\".format(u, langs[u]))\n",
    "except Exception as e:\n",
    "    print(\"오류 {}\".format(e))"
   ]
  },
  {
   "cell_type": "code",
   "execution_count": null,
   "id": "d8355ba4-04e8-43f2-9ffd-f215e1b801f8",
   "metadata": {},
   "outputs": [],
   "source": []
  },
  {
   "cell_type": "code",
   "execution_count": 11,
   "id": "9babf68e-7530-45f3-a57d-edeb21cd6f9b",
   "metadata": {},
   "outputs": [
    {
     "name": "stdout",
     "output_type": "stream",
     "text": [
      "0. 한국어\n",
      "1. English\n"
     ]
    },
    {
     "name": "stdin",
     "output_type": "stream",
     "text": [
      "언어를 선택하세요. 2\n"
     ]
    },
    {
     "name": "stdout",
     "output_type": "stream",
     "text": [
      "오류 \n"
     ]
    }
   ],
   "source": [
    "langs = [\"한국어\", \"English\"]\n",
    "\n",
    "for i, lang in enumerate(langs):  # 반복 가능한 리스트 형식에 enumerate() 쓰면, index도 함께 추출\n",
    "    print(\"{}. {}\".format(i, lang))\n",
    "\n",
    "try:\n",
    "    u = int(input(\"언어를 선택하세요.\"))\n",
    "    \n",
    "    if 0 > u or u >= len(langs):\n",
    "        raise Exception  # 에러를 유발시킴\n",
    "    print(\"사용자 선택 {}:{}\".format(u, langs[u]))\n",
    "except Exception as e:\n",
    "    print(\"오류 {}\".format(e))"
   ]
  },
  {
   "cell_type": "code",
   "execution_count": 14,
   "id": "33a1eb5f-5787-4733-a0aa-1cf58a8f5181",
   "metadata": {},
   "outputs": [
    {
     "name": "stdout",
     "output_type": "stream",
     "text": [
      "0. 한국어\n",
      "1. English\n"
     ]
    },
    {
     "name": "stdin",
     "output_type": "stream",
     "text": [
      "언어를 선택하세요. 2\n"
     ]
    },
    {
     "name": "stdout",
     "output_type": "stream",
     "text": [
      "오류 \n"
     ]
    }
   ],
   "source": [
    "langs = [\"한국어\", \"English\"]\n",
    "\n",
    "for i, lang in enumerate(langs):  # 반복 가능한 리스트 형식에 enumerate() 쓰면, index도 함께 추출\n",
    "    print(\"{}. {}\".format(i, lang))\n",
    "\n",
    "try:\n",
    "    u = int(input(\"언어를 선택하세요.\"))\n",
    "    \n",
    "    if 0 > u or u >= len(langs):\n",
    "        raise Exception  # 에러를 유발시킴\n",
    "        print(\"사용자 선택 {}:{}\".format(u, langs[u]))\n",
    "except Exception as e:\n",
    "    print(\"오류 {}\".format(e))"
   ]
  },
  {
   "cell_type": "code",
   "execution_count": 2,
   "id": "3c08a908-1f50-4e3c-9c54-2a51f03bf891",
   "metadata": {},
   "outputs": [
    {
     "name": "stdout",
     "output_type": "stream",
     "text": [
      "0. 한국어\n",
      "1. English\n"
     ]
    },
    {
     "name": "stdin",
     "output_type": "stream",
     "text": [
      "언어를 선택하세요. 2\n"
     ]
    },
    {
     "name": "stdout",
     "output_type": "stream",
     "text": [
      "2\n",
      "오류 list index out of range\n"
     ]
    }
   ],
   "source": [
    "langs = [\"한국어\", \"English\"]\n",
    "\n",
    "for i, lang in enumerate(langs):  # 반복 가능한 리스트 형식에 enumerate() 쓰면, index도 함께 추출\n",
    "    print(\"{}. {}\".format(i, lang))\n",
    "\n",
    "try:\n",
    "    u = int(input(\"언어를 선택하세요.\"))\n",
    "    print(u)\n",
    "    if 0 > u or u >= len(langs):\n",
    "        # raise Exception  # 에러를 유발시킴\n",
    "        print(\"사용자 선택 {}:{}\".format(u, langs[u]))\n",
    "except Exception as e:\n",
    "    print(\"오류 {}\".format(e))"
   ]
  },
  {
   "cell_type": "code",
   "execution_count": 6,
   "id": "22079790-8df1-4e67-86f7-607a57adaf57",
   "metadata": {},
   "outputs": [
    {
     "name": "stdout",
     "output_type": "stream",
     "text": [
      "0. 한국어\n",
      "1. English\n"
     ]
    },
    {
     "name": "stdin",
     "output_type": "stream",
     "text": [
      "언어를 선택하세요. 2\n"
     ]
    },
    {
     "name": "stdout",
     "output_type": "stream",
     "text": [
      "2\n",
      "오류 \n"
     ]
    }
   ],
   "source": [
    "langs = [\"한국어\", \"English\"]\n",
    "\n",
    "for i, lang in enumerate(langs):  # 반복 가능한 리스트 형식에 enumerate() 쓰면, index도 함께 추출\n",
    "    print(\"{}. {}\".format(i, lang))\n",
    "\n",
    "try:\n",
    "    u = int(input(\"언어를 선택하세요.\"))\n",
    "    print(u)\n",
    "    if 0 > u or u >= len(langs):\n",
    "        raise Exception  # 에러를 유발시킴\n",
    "        print(\"사용자 선택 {}:{}\".format(u, langs[u]))\n",
    "except Exception as e:\n",
    "    print(\"오류 {}\".format(e))"
   ]
  },
  {
   "cell_type": "code",
   "execution_count": 4,
   "id": "dbf6ff6b-f366-4c43-8b02-ca17e06a7a37",
   "metadata": {},
   "outputs": [
    {
     "name": "stdout",
     "output_type": "stream",
     "text": [
      "0. 한국어\n",
      "1. English\n"
     ]
    },
    {
     "name": "stdin",
     "output_type": "stream",
     "text": [
      "언어를 선택하세요. 2\n"
     ]
    },
    {
     "name": "stdout",
     "output_type": "stream",
     "text": [
      "2\n",
      "오류 \n"
     ]
    }
   ],
   "source": [
    "langs = [\"한국어\", \"English\"]\n",
    "\n",
    "for i, lang in enumerate(langs):  # 반복 가능한 리스트 형식에 enumerate() 쓰면, index도 함께 추출\n",
    "    print(\"{}. {}\".format(i, lang))\n",
    "\n",
    "try:\n",
    "    u = int(input(\"언어를 선택하세요.\"))\n",
    "    print(u)\n",
    "    if 0 > u or u >= len(langs):\n",
    "        raise Exception  # 에러를 유발시킴\n",
    "    print(\"사용자 선택 {}:{}\".format(u, langs[u]))\n",
    "except Exception as e:\n",
    "    print(\"오류 {}\".format(e))"
   ]
  },
  {
   "cell_type": "code",
   "execution_count": null,
   "id": "c273607c-d2db-4caf-898b-e3481eb6faf1",
   "metadata": {},
   "outputs": [],
   "source": [
    "days = ()\n",
    "date = True\n",
    "\n",
    "while date:\n",
    "    try:\n",
    "        date = input('날짜 <월 일>을 입력하세요: >')\n",
    "        mm, dd = "
   ]
  },
  {
   "cell_type": "code",
   "execution_count": 9,
   "id": "0af57011-528e-4256-a480-5b3c2e3737cd",
   "metadata": {},
   "outputs": [
    {
     "name": "stdout",
     "output_type": "stream",
     "text": [
      "['apple', 'banana', 'grape', 'watermelon']\n"
     ]
    }
   ],
   "source": [
    "fruit = [\"apple\", \"banana\", \"grape\", \"watermelon\"]\n",
    "print(fruit)"
   ]
  },
  {
   "cell_type": "markdown",
   "id": "ca6708c2-5caa-4ad8-ab9e-e348c3a9c757",
   "metadata": {},
   "source": [
    "다시"
   ]
  },
  {
   "cell_type": "code",
   "execution_count": null,
   "id": "57ba5c31-9b4b-44b8-b50f-3c84be3f512c",
   "metadata": {},
   "outputs": [],
   "source": [
    "while True:\n",
    "    index = input(\"과일 색인값 선택: \")\n",
    "    \n",
    "    try:\n",
    "        index = int(index)\n",
    "        \n",
    "        if index == 1:\n",
    "            raise NameError\n",
    "        \n",
    "        else:\n",
    "            print(fruit[index])\n",
    "        \n",
    "    except NameError:\n",
    "        print(\"바나나는 불가능합니다.\")\n",
    "    \n",
    "    except IndexError:\n",
    "        print(\"해당 색인은 호출할 수 없습니다.\")\n",
    "    \n",
    "    except ValueError:\n",
    "        print(\"소수점은 사용할 수 없습니다.\")\n",
    "    \n",
    "    print(\"==================\")"
   ]
  },
  {
   "cell_type": "markdown",
   "id": "ea72a0c8-961c-460b-8f4e-004e2a6382c1",
   "metadata": {},
   "source": [
    "##### 3) 사용자 정의 오류"
   ]
  },
  {
   "cell_type": "code",
   "execution_count": null,
   "id": "3503ca40-d6d1-4732-8687-3407eddef54b",
   "metadata": {},
   "outputs": [],
   "source": [
    "class NumberCheckError(Exception):\n",
    "    def __init__(self, msg=\"Error\"):\n",
    "        self.msg = msg\n",
    "    def __str__(self):\n",
    "        return self.msg\n",
    "    \n"
   ]
  },
  {
   "cell_type": "markdown",
   "id": "17ec0d9d-53c4-418e-b1c0-7ecb39554ebd",
   "metadata": {},
   "source": [
    "### 11. 클래스"
   ]
  },
  {
   "cell_type": "markdown",
   "id": "09d3de42-608a-4538-852a-673a4e6c1a9b",
   "metadata": {},
   "source": [
    "클래스 > 속성 > 메소드"
   ]
  },
  {
   "cell_type": "code",
   "execution_count": 16,
   "id": "fbc1175b-0008-402f-8909-6bbfe36c90b7",
   "metadata": {},
   "outputs": [],
   "source": [
    "class Hello:\n",
    "    pass  # 속성과 메소드 정의\n",
    "\n",
    "hello1 = Hello()"
   ]
  },
  {
   "cell_type": "code",
   "execution_count": 17,
   "id": "c8448ab5-95d3-4ad5-b4cb-9c1161d4339c",
   "metadata": {},
   "outputs": [
    {
     "name": "stdout",
     "output_type": "stream",
     "text": [
      "\n"
     ]
    },
    {
     "ename": "AttributeError",
     "evalue": "'Hello' object has no attribute 'email'",
     "output_type": "error",
     "traceback": [
      "\u001b[1;31m---------------------------------------------------------------------------\u001b[0m",
      "\u001b[1;31mAttributeError\u001b[0m                            Traceback (most recent call last)",
      "Input \u001b[1;32mIn [17]\u001b[0m, in \u001b[0;36m<cell line: 9>\u001b[1;34m()\u001b[0m\n\u001b[0;32m      7\u001b[0m hello1 \u001b[38;5;241m=\u001b[39m Hello()\n\u001b[0;32m      8\u001b[0m \u001b[38;5;28mprint\u001b[39m(hello1\u001b[38;5;241m.\u001b[39mphone_number)\n\u001b[1;32m----> 9\u001b[0m \u001b[38;5;28mprint\u001b[39m(\u001b[43mhello1\u001b[49m\u001b[38;5;241;43m.\u001b[39;49m\u001b[43memail\u001b[49m\u001b[38;5;241m.\u001b[39maddress)\n\u001b[0;32m     10\u001b[0m \u001b[38;5;28mprint\u001b[39m(hello1\u001b[38;5;241m.\u001b[39mname)\n",
      "\u001b[1;31mAttributeError\u001b[0m: 'Hello' object has no attribute 'email'"
     ]
    }
   ],
   "source": [
    "class Hello:\n",
    "    # Attributions or properties or variables\n",
    "    phone_number = ''\n",
    "    email_address = ''\n",
    "    name = ''\n",
    "    \n",
    "hello1 = Hello()\n",
    "print(hello1.phone_number)\n",
    "print(hello1.email.address)\n",
    "print(hello1.name)"
   ]
  },
  {
   "cell_type": "code",
   "execution_count": 18,
   "id": "59045558-5343-40a0-917e-c13d490f8b44",
   "metadata": {},
   "outputs": [
    {
     "ename": "AttributeError",
     "evalue": "'Hello' object has no attribute 'Hello'",
     "output_type": "error",
     "traceback": [
      "\u001b[1;31m---------------------------------------------------------------------------\u001b[0m",
      "\u001b[1;31mAttributeError\u001b[0m                            Traceback (most recent call last)",
      "Input \u001b[1;32mIn [18]\u001b[0m, in \u001b[0;36m<cell line: 1>\u001b[1;34m()\u001b[0m\n\u001b[1;32m----> 1\u001b[0m \u001b[38;5;28mprint\u001b[39m(\u001b[43mhello1\u001b[49m\u001b[38;5;241;43m.\u001b[39;49m\u001b[43mHello\u001b[49m())\n",
      "\u001b[1;31mAttributeError\u001b[0m: 'Hello' object has no attribute 'Hello'"
     ]
    }
   ],
   "source": [
    "print(hello1.Hello())"
   ]
  },
  {
   "cell_type": "markdown",
   "id": "3788d0b6-60b4-444a-8a8a-1b5b6eb09201",
   "metadata": {},
   "source": [
    "클래스의 메소드를 정의하는 방법은 함수를 정의하는 방법과 동일함\n",
    "\n",
    "**각 메소드의 첫 번째 인수를 관례적으로 self (메소드를 호출하는 현재 객체; 매개변수 자기 자신)라고 명시함**"
   ]
  },
  {
   "cell_type": "code",
   "execution_count": 1,
   "id": "4d7bad54-f1b8-498e-b022-eef0dde39b04",
   "metadata": {},
   "outputs": [
    {
     "ename": "AttributeError",
     "evalue": "'User' object has no attribute 'init'",
     "output_type": "error",
     "traceback": [
      "\u001b[1;31m---------------------------------------------------------------------------\u001b[0m",
      "\u001b[1;31mAttributeError\u001b[0m                            Traceback (most recent call last)",
      "Input \u001b[1;32mIn [1]\u001b[0m, in \u001b[0;36m<cell line: 12>\u001b[1;34m()\u001b[0m\n\u001b[0;32m      8\u001b[0m     \u001b[38;5;28;01mreturn\u001b[39;00m \u001b[38;5;28mself\u001b[39m\u001b[38;5;241m.\u001b[39mphone_number\n\u001b[0;32m     11\u001b[0m user1 \u001b[38;5;241m=\u001b[39m User()\n\u001b[1;32m---> 12\u001b[0m \u001b[43muser1\u001b[49m\u001b[38;5;241;43m.\u001b[39;49m\u001b[43minit\u001b[49m(\u001b[38;5;124m'\u001b[39m\u001b[38;5;124m010-1234-5678\u001b[39m\u001b[38;5;124m'\u001b[39m)\n\u001b[0;32m     14\u001b[0m \u001b[38;5;28mprint\u001b[39m(user1\u001b[38;5;241m.\u001b[39mgetphonenumber())\n",
      "\u001b[1;31mAttributeError\u001b[0m: 'User' object has no attribute 'init'"
     ]
    }
   ],
   "source": [
    "class User:\n",
    "    phone_number = ''\n",
    "\n",
    "def init(self, phone_number):\n",
    "    self.phone_number = phone_number\n",
    "    \n",
    "def getphonenumber(self):\n",
    "    return self.phone_number\n",
    "\n",
    "\n",
    "user1 = User()\n",
    "user1.init('010-1234-5678')\n",
    "\n",
    "print(user1.getphonenumber())"
   ]
  },
  {
   "cell_type": "code",
   "execution_count": 8,
   "id": "f7f964cf-4dd9-442b-8eb0-b6385845aa29",
   "metadata": {},
   "outputs": [
    {
     "name": "stdout",
     "output_type": "stream",
     "text": [
      "010-1234-5678\n",
      "kkk@gamil.com\n"
     ]
    }
   ],
   "source": [
    "class User:\n",
    "    phone_number = ''\n",
    "    email_address = ''\n",
    "\n",
    "    def init(self, phone_number, email_address):\n",
    "        self.phone_number = phone_number\n",
    "        self.email_address = email_address\n",
    "    \n",
    "    def getphonenumber(self):\n",
    "        return self.phone_number\n",
    "\n",
    "    def getEmail(self):\n",
    "        return self.email_address\n",
    "\n",
    "user1 = User()\n",
    "user1.init('010-1234-5678', 'kkk@gamil.com')\n",
    "\n",
    "print(user1.getphonenumber())\n",
    "print(user1.getEmail())"
   ]
  },
  {
   "cell_type": "code",
   "execution_count": 10,
   "id": "fbef9dc9-91c1-45b5-ba36-fe45c598cea9",
   "metadata": {},
   "outputs": [
    {
     "name": "stdout",
     "output_type": "stream",
     "text": [
      "010-1234-5678\n"
     ]
    }
   ],
   "source": [
    "print(user1.phone_number)  # 속성이니까 "
   ]
  },
  {
   "cell_type": "markdown",
   "id": "81b13a0e-4f74-4e56-aab5-428a66c2b0df",
   "metadata": {},
   "source": [
    "##### 객체 (클래스 이름과 __init__ 메소드에 전달할 인수 사용)"
   ]
  },
  {
   "cell_type": "code",
   "execution_count": null,
   "id": "e2b7dfe2-2b24-4ae3-b877-d090338813ae",
   "metadata": {},
   "outputs": [],
   "source": [
    "class Class_name:\n",
    "    def __init__(self, 인수, ...):  # 초기화와 관련된 특별한 함수/메소드\n",
    "        self.속성1 = 초기값1\n",
    "        ...\n",
    "        self.속성n = 초기값n\n",
    "\n",
    "    def 메소드1(self, 인수, ...):\n",
    "        메소드1을 구성하는 문장들\n",
    "        ...\n",
    "    \n",
    "    def 메소드n(self, 인수, ...):\n",
    "        메소드n을 구성하는 문장들\n"
   ]
  },
  {
   "cell_type": "code",
   "execution_count": 1,
   "id": "dddbcfb5-6c97-4a85-b86c-cc89abff25a3",
   "metadata": {},
   "outputs": [
    {
     "name": "stdout",
     "output_type": "stream",
     "text": [
      "3\n",
      "10\n",
      "4\n",
      "9\n"
     ]
    }
   ],
   "source": [
    "class Calculator:  # 클래스 Calculator 정의\n",
    "    def __init__(self):  # 클래스의 메소드 내 매개변수에는 무조건 self가 들어가야 함\n",
    "        self.result = 0\n",
    "    \n",
    "    def add(self, num):  # 메소드\n",
    "        self.result += num\n",
    "        return self.result\n",
    "\n",
    "# cal1이 초기자; self로 만들어짐\n",
    "cal1 = Calculator()  # 클래스 Calculator의 인스턴스 cal1 생성\n",
    "cal2 = Calculator()  # 클래스 Calculator의 인스턴스 cal2 생성\n",
    "print(cal1.add(3))  # 초기자가 3으로 들어감\n",
    "print(cal1.add(7))  # 초기자 3에 7을 더해줌\n",
    "\n",
    "print(cal2.add(4))  # 초기자가 4로 들어감\n",
    "print(cal2.add(5))  # 초기자 4에 5를 더해줌"
   ]
  },
  {
   "cell_type": "markdown",
   "id": "438a1c0b-3d77-4b04-816e-9ba7bae042a1",
   "metadata": {},
   "source": [
    "##### 1) 클래스 생성 예제"
   ]
  },
  {
   "cell_type": "code",
   "execution_count": 2,
   "id": "222b9d42-6f63-4ee0-bc36-a11917c04999",
   "metadata": {},
   "outputs": [
    {
     "name": "stdout",
     "output_type": "stream",
     "text": [
      "3\n",
      "4\n",
      "3\n",
      "7\n"
     ]
    }
   ],
   "source": [
    "def add1(num):\n",
    "    result1 = 0\n",
    "    result1 += num\n",
    "    return result1\n",
    "\n",
    "def add2(num):\n",
    "    result2 = 0\n",
    "    result2 += num\n",
    "    return result2\n",
    "\n",
    "print(add1(3))\n",
    "print(add1(4))\n",
    "print(add2(3))\n",
    "print(add2(7))"
   ]
  },
  {
   "cell_type": "code",
   "execution_count": 3,
   "id": "7e2c5708-fe42-412f-ab4e-6ecbcd044a39",
   "metadata": {},
   "outputs": [
    {
     "name": "stdout",
     "output_type": "stream",
     "text": [
      "3\n",
      "7\n",
      "3\n",
      "10\n"
     ]
    }
   ],
   "source": [
    "result1 = 0\n",
    "result2 = 0\n",
    "\n",
    "def add1(num):\n",
    "    global result1\n",
    "    result1 += num\n",
    "    return result1\n",
    "\n",
    "def add2(num):\n",
    "    global result2\n",
    "    result2 += num\n",
    "    return result2\n",
    "\n",
    "print(add1(3))\n",
    "print(add1(4))\n",
    "print(add2(3))\n",
    "print(add2(7))"
   ]
  },
  {
   "cell_type": "markdown",
   "id": "ec02d3c3-49ad-4d8e-a5ea-8dff6739864e",
   "metadata": {},
   "source": [
    "##### 2) self; 현재 인스턴스 그 자체를 의미하는 매개변수\n",
    "\n",
    "    - 클래스 내에서 사용되는 키워드로 클래스 내에 정의된 속성이나 메소드 등을 사용하게 해줌\n",
    "    - 각 메소드들을 정의하는 입력인자로 self 키워드가 꼭 추가되어야 함"
   ]
  },
  {
   "cell_type": "code",
   "execution_count": 4,
   "id": "733051db-e462-4271-8ce8-4a12c255bfd7",
   "metadata": {},
   "outputs": [],
   "source": [
    "class FourCal:\n",
    "    def setdata(self, first, second):\n",
    "        self.first = first\n",
    "        self.second = second\n",
    "        \n",
    "a = FourCal()\n"
   ]
  },
  {
   "cell_type": "code",
   "execution_count": 5,
   "id": "b0ee2675-bed9-4169-a921-3c3c86234e0c",
   "metadata": {},
   "outputs": [],
   "source": [
    "a.setdata(4, 2)"
   ]
  },
  {
   "cell_type": "code",
   "execution_count": 6,
   "id": "c63fae76-44e8-4ce8-97f9-f8e75a53c99c",
   "metadata": {},
   "outputs": [
    {
     "data": {
      "text/plain": [
       "4"
      ]
     },
     "execution_count": 6,
     "metadata": {},
     "output_type": "execute_result"
    }
   ],
   "source": [
    "a.first "
   ]
  },
  {
   "cell_type": "code",
   "execution_count": 7,
   "id": "26778811-98ec-40a1-ae75-08935baac82d",
   "metadata": {},
   "outputs": [
    {
     "data": {
      "text/plain": [
       "2"
      ]
     },
     "execution_count": 7,
     "metadata": {},
     "output_type": "execute_result"
    }
   ],
   "source": [
    "a.second"
   ]
  },
  {
   "cell_type": "code",
   "execution_count": 8,
   "id": "b696d8b5-d684-4eec-b189-720419b2577d",
   "metadata": {},
   "outputs": [],
   "source": [
    "FourCal.setdata(a,7,8)  # 클래스 메소드로 실행"
   ]
  },
  {
   "cell_type": "code",
   "execution_count": 9,
   "id": "df8da9ed-e93f-454e-a985-eb0eb6a593ea",
   "metadata": {},
   "outputs": [
    {
     "data": {
      "text/plain": [
       "7"
      ]
     },
     "execution_count": 9,
     "metadata": {},
     "output_type": "execute_result"
    }
   ],
   "source": [
    "a.first"
   ]
  },
  {
   "cell_type": "code",
   "execution_count": 10,
   "id": "f50bb66e-92e5-4c72-ae3a-606ce9b4102f",
   "metadata": {},
   "outputs": [
    {
     "data": {
      "text/plain": [
       "8"
      ]
     },
     "execution_count": 10,
     "metadata": {},
     "output_type": "execute_result"
    }
   ],
   "source": [
    "a.second"
   ]
  },
  {
   "cell_type": "markdown",
   "id": "da2e60d8-117e-41a6-bf47-336102359154",
   "metadata": {},
   "source": [
    "##### 3) 클래스 변수와 인스턴스 변수\n",
    "\n",
    "    - 클래스 변수: 공통변수, 클래스 내 지정\n",
    "                  인스턴스에 독립적이지 않음\n",
    "    - 인스턴스 변수: 인스턴스별 변수, self.변수명으로 지정\n",
    "                    객체변수는 속성, 멤버변수 또는 인스턴스 변수라고도 표현\n",
    "                    인스턴스는 독립적이므로 인스턴스 변수도 독립적임"
   ]
  },
  {
   "cell_type": "code",
   "execution_count": 11,
   "id": "565e95f2-df99-4423-adc7-bebe10fa24f4",
   "metadata": {},
   "outputs": [],
   "source": [
    "class FourCal:\n",
    "    count = 0  # 클래스 변수\n",
    "    def setdata(self, first, second):\n",
    "        self.first = first\n",
    "        self.second = second\n",
    "    def sum(self):\n",
    "        result = self.first + self.second\n",
    "        FourCal.count += 1\n",
    "        return result\n"
   ]
  },
  {
   "cell_type": "code",
   "execution_count": 12,
   "id": "b30b98aa-3293-4957-ba8d-5d71d14a9b7b",
   "metadata": {},
   "outputs": [],
   "source": [
    "a = FourCal()  # 인스턴스 생성\n",
    "b = FourCal()  # 인스턴스 생성\n",
    "a.setdata(4, 2)  # 인스턴스 메소드 실행"
   ]
  },
  {
   "cell_type": "code",
   "execution_count": 13,
   "id": "55805bdb-7066-4400-99bc-12384955649f",
   "metadata": {},
   "outputs": [
    {
     "data": {
      "text/plain": [
       "4"
      ]
     },
     "execution_count": 13,
     "metadata": {},
     "output_type": "execute_result"
    }
   ],
   "source": [
    "a.first"
   ]
  },
  {
   "cell_type": "code",
   "execution_count": 14,
   "id": "b80d5484-95a3-403f-bc32-d932368bd18a",
   "metadata": {},
   "outputs": [
    {
     "data": {
      "text/plain": [
       "2"
      ]
     },
     "execution_count": 14,
     "metadata": {},
     "output_type": "execute_result"
    }
   ],
   "source": [
    "a.second"
   ]
  },
  {
   "cell_type": "code",
   "execution_count": 15,
   "id": "30a16477-89d6-4408-96b7-c6284f66d2af",
   "metadata": {},
   "outputs": [
    {
     "data": {
      "text/plain": [
       "6"
      ]
     },
     "execution_count": 15,
     "metadata": {},
     "output_type": "execute_result"
    }
   ],
   "source": [
    "a.sum()"
   ]
  },
  {
   "cell_type": "code",
   "execution_count": 16,
   "id": "b01dd659-827c-4a80-8d55-7a34e6e881be",
   "metadata": {},
   "outputs": [
    {
     "data": {
      "text/plain": [
       "1"
      ]
     },
     "execution_count": 16,
     "metadata": {},
     "output_type": "execute_result"
    }
   ],
   "source": [
    "FourCal.count"
   ]
  },
  {
   "cell_type": "code",
   "execution_count": 17,
   "id": "45b926ed-0620-444e-a1ae-3415dc2870e6",
   "metadata": {},
   "outputs": [],
   "source": [
    "b.setdata(7,8)"
   ]
  },
  {
   "cell_type": "code",
   "execution_count": 18,
   "id": "3616aaad-a04b-4bb0-9336-def7a01fbb3f",
   "metadata": {},
   "outputs": [
    {
     "data": {
      "text/plain": [
       "15"
      ]
     },
     "execution_count": 18,
     "metadata": {},
     "output_type": "execute_result"
    }
   ],
   "source": [
    "b.sum()"
   ]
  },
  {
   "cell_type": "code",
   "execution_count": 20,
   "id": "55492cf6-e22d-4f15-a0ec-54a7140d2fee",
   "metadata": {},
   "outputs": [
    {
     "ename": "TypeError",
     "evalue": "'int' object is not callable",
     "output_type": "error",
     "traceback": [
      "\u001b[1;31m---------------------------------------------------------------------------\u001b[0m",
      "\u001b[1;31mTypeError\u001b[0m                                 Traceback (most recent call last)",
      "Input \u001b[1;32mIn [20]\u001b[0m, in \u001b[0;36m<cell line: 1>\u001b[1;34m()\u001b[0m\n\u001b[1;32m----> 1\u001b[0m \u001b[43mFourCal\u001b[49m\u001b[38;5;241;43m.\u001b[39;49m\u001b[43mcount\u001b[49m\u001b[43m(\u001b[49m\u001b[43m)\u001b[49m\n",
      "\u001b[1;31mTypeError\u001b[0m: 'int' object is not callable"
     ]
    }
   ],
   "source": [
    "FourCal.count()"
   ]
  },
  {
   "cell_type": "code",
   "execution_count": 21,
   "id": "061c621a-756a-49c5-bb00-e2647ef0a741",
   "metadata": {},
   "outputs": [
    {
     "data": {
      "text/plain": [
       "2"
      ]
     },
     "execution_count": 21,
     "metadata": {},
     "output_type": "execute_result"
    }
   ],
   "source": [
    "FourCal.count"
   ]
  },
  {
   "cell_type": "code",
   "execution_count": 22,
   "id": "2806ea90-31b9-4d1a-a66a-ecde04253b7c",
   "metadata": {},
   "outputs": [
    {
     "data": {
      "text/plain": [
       "6"
      ]
     },
     "execution_count": 22,
     "metadata": {},
     "output_type": "execute_result"
    }
   ],
   "source": [
    "a.sum()"
   ]
  },
  {
   "cell_type": "code",
   "execution_count": 23,
   "id": "69139878-c8db-48ac-b125-dad64c35f68b",
   "metadata": {},
   "outputs": [
    {
     "data": {
      "text/plain": [
       "<bound method FourCal.sum of <__main__.FourCal object at 0x0000023E5150F730>>"
      ]
     },
     "execution_count": 23,
     "metadata": {},
     "output_type": "execute_result"
    }
   ],
   "source": [
    "a.sum"
   ]
  },
  {
   "cell_type": "markdown",
   "id": "b756c5fb-3e2a-49ac-89f1-9d39b7cd8392",
   "metadata": {},
   "source": [
    "##### 4) 클래스 변수와 인스턴스 변수; 속성"
   ]
  },
  {
   "cell_type": "code",
   "execution_count": null,
   "id": "5594c8be-1a37-41fb-9159-d8b5296c849b",
   "metadata": {},
   "outputs": [],
   "source": [
    "class 클래스명:\n",
    "    클래스 속성 = 값\n",
    "    \n",
    "    def __init__(self, *args, *kwargs):\n",
    "        self.인스턴스 속성 = 값\n",
    "        \n",
    "        "
   ]
  },
  {
   "cell_type": "markdown",
   "id": "f436ea94-eecf-4ddc-a8ff-f768171ec1e3",
   "metadata": {},
   "source": [
    "클래스 속성은 메소드와 동일한 단계에서 작성하게 됨\n",
    "\n",
    "self를 사용하지 않고 정의함 -> 모든 클래스에 동일한 영향을 미침\n",
    "\n",
    "인스턴스가 생성될 때 초기화되지 않으므로, 클래스명.클래스 속성으로 참조 가능"
   ]
  },
  {
   "cell_type": "markdown",
   "id": "7d2d04ad-211c-4425-b8f5-323f6dee804b",
   "metadata": {},
   "source": [
    "인스턴스 속성은 인스턴스를 초기화할 때 생성됨\n",
    "\n",
    "self를 사용해 정의함 -> 인스턴스 내에서만 영향을 미침\n",
    "\n",
    "인스턴스가 생성될 때나 생성된 후 할당되므로, 인스턴스명.인스턴스 속성으로 참조 가능"
   ]
  },
  {
   "cell_type": "code",
   "execution_count": null,
   "id": "85a0bdd9-3d02-4309-9552-faf604af3129",
   "metadata": {},
   "outputs": [],
   "source": [
    "class Daeheeyun:\n",
    "    class_value = 0\n",
    "    \n",
    "    def __init__(self):\n",
    "        self.instance_value = 0\n",
    "    \n",
    "    def set_class_value(self):\n",
    "        Daeheeyun.class_value = 10\n",
    "    \n",
    "    def set_instance_value(self):\n",
    "        self.class_value = 20\n",
    "    \n",
    "instance1 = Daeheeyun()  # 초기화\n",
    "instance2 = Daeheeyun()  # 초기화\n",
    "\n",
    "print(\"==클래스 속성 변경==\")\n",
    "instance1.set_class_value()\n",
    "print(instance1.class_value, instance2.class_value)\n",
    "\n",
    "print(\"==인스턴스 속성 변경==\")\n",
    "instance1.set_instance_value()\n",
    "print(instance1.class_value, instance2.class_value)\n",
    "\n",
    "print(\"==속성(Attribute) 출력==\")\n",
    "print(instance1.__dict__)  # 딕셔너리 형태로 출력\n",
    "print(instance2.__dict__)  # 딕셔너리 형태로 출력"
   ]
  },
  {
   "cell_type": "markdown",
   "id": "45b8697e-ef2d-418d-ba95-ce67b095f16d",
   "metadata": {},
   "source": [
    "초기자 (생성자, initializer)"
   ]
  },
  {
   "cell_type": "code",
   "execution_count": 25,
   "id": "02fb666d-f1f8-447b-9699-e0866ca73cf5",
   "metadata": {},
   "outputs": [],
   "source": [
    "class FourCal:\n",
    "    def __init__(self, first, second):  # first, second로 매개변수 지정해줘야 함\n",
    "        self.first = first\n",
    "        self.second = second\n",
    "    def sum(self):\n",
    "        result = self.first + self.second\n",
    "        return result"
   ]
  },
  {
   "cell_type": "code",
   "execution_count": 26,
   "id": "9faaded2-b0ea-495d-a4b5-78c141df871a",
   "metadata": {},
   "outputs": [],
   "source": [
    "a = FourCal(3,4)"
   ]
  },
  {
   "cell_type": "code",
   "execution_count": 27,
   "id": "7db15f48-ec08-4727-a972-8609420c9fb4",
   "metadata": {},
   "outputs": [
    {
     "data": {
      "text/plain": [
       "3"
      ]
     },
     "execution_count": 27,
     "metadata": {},
     "output_type": "execute_result"
    }
   ],
   "source": [
    "a.first"
   ]
  },
  {
   "cell_type": "code",
   "execution_count": 28,
   "id": "792b618f-42ff-4e70-8404-611e54c6f0e7",
   "metadata": {},
   "outputs": [
    {
     "data": {
      "text/plain": [
       "4"
      ]
     },
     "execution_count": 28,
     "metadata": {},
     "output_type": "execute_result"
    }
   ],
   "source": [
    "a.second"
   ]
  },
  {
   "cell_type": "code",
   "execution_count": 29,
   "id": "0721d6d5-e874-43ac-8930-d0fabcaad144",
   "metadata": {},
   "outputs": [
    {
     "data": {
      "text/plain": [
       "7"
      ]
     },
     "execution_count": 29,
     "metadata": {},
     "output_type": "execute_result"
    }
   ],
   "source": [
    "_+3"
   ]
  },
  {
   "cell_type": "markdown",
   "id": "801c1f0c-650d-49cb-94ed-a31e2b0c817b",
   "metadata": {},
   "source": [
    "##### 5) 파이썬에서의 \"_\" 용도\n",
    "\n",
    "인터프리터 내 마지막 저장값\n",
    "\n",
    "값을 무시하는 용도로 사용됨\n",
    "\n",
    "한 모듈 내부에서만 사용하는 private 클래스/함수/변수/메소드를 선언할 때 사용하는 컨벤션.\n",
    "\n",
    "from module import * 시 _로 시작하는 것들은 모두 임포트에서 무시함"
   ]
  },
  {
   "cell_type": "code",
   "execution_count": 30,
   "id": "ccc5cf24-e3b9-4d7f-bb07-73ac73dd7bf6",
   "metadata": {},
   "outputs": [],
   "source": [
    "a = 3"
   ]
  },
  {
   "cell_type": "code",
   "execution_count": 31,
   "id": "747d3907-ed6c-4105-a657-595bfe416fdf",
   "metadata": {},
   "outputs": [
    {
     "data": {
      "text/plain": [
       "12"
      ]
     },
     "execution_count": 31,
     "metadata": {},
     "output_type": "execute_result"
    }
   ],
   "source": [
    "_ + 5"
   ]
  },
  {
   "cell_type": "markdown",
   "id": "cc71163e-bbba-467b-af6f-2f553513aa79",
   "metadata": {},
   "source": [
    "##### 6) 클래스의 상속"
   ]
  },
  {
   "cell_type": "code",
   "execution_count": 32,
   "id": "8b0a602a-fe54-4b3c-bbcd-3818b729a45a",
   "metadata": {},
   "outputs": [],
   "source": [
    "class FourCal:\n",
    "    def __init__(self, first, second):\n",
    "        self.first = first\n",
    "        self.second = second\n",
    "    def sum(self):\n",
    "        result = self.first + self.second\n",
    "        return result\n",
    "    \n",
    "class MoreFourCal(FourCal):  # 클래스를 정의하는데, FourCal로부터 상속받는다는 뜻\n",
    "    def pow(self):\n",
    "        result = self.first ** self.second\n",
    "        return result"
   ]
  },
  {
   "cell_type": "code",
   "execution_count": 33,
   "id": "5ee86dfd-f07f-44a9-a9d0-21db67d1f611",
   "metadata": {},
   "outputs": [],
   "source": [
    "m = MoreFourCal(3,4)"
   ]
  },
  {
   "cell_type": "code",
   "execution_count": 34,
   "id": "e461ccd4-44f1-4fe9-ae6e-d00bf04a1389",
   "metadata": {},
   "outputs": [
    {
     "data": {
      "text/plain": [
       "81"
      ]
     },
     "execution_count": 34,
     "metadata": {},
     "output_type": "execute_result"
    }
   ],
   "source": [
    "m.pow()"
   ]
  },
  {
   "cell_type": "code",
   "execution_count": 35,
   "id": "20dc8c70-0f70-4b60-ad04-920d9f13fbdd",
   "metadata": {},
   "outputs": [
    {
     "data": {
      "text/plain": [
       "7"
      ]
     },
     "execution_count": 35,
     "metadata": {},
     "output_type": "execute_result"
    }
   ],
   "source": [
    "m.sum()"
   ]
  },
  {
   "cell_type": "code",
   "execution_count": 36,
   "id": "bf2a5600-4381-41fc-9bd4-0562bcaab7c7",
   "metadata": {},
   "outputs": [
    {
     "data": {
      "text/plain": [
       "3"
      ]
     },
     "execution_count": 36,
     "metadata": {},
     "output_type": "execute_result"
    }
   ],
   "source": [
    "m.first"
   ]
  },
  {
   "cell_type": "markdown",
   "id": "83f46a92-aeea-49c4-8a26-09745d78afac",
   "metadata": {},
   "source": [
    "예제"
   ]
  },
  {
   "cell_type": "code",
   "execution_count": 37,
   "id": "d19e5694-3c16-4287-816c-e7c2a04b354e",
   "metadata": {},
   "outputs": [],
   "source": [
    "class Calculator:  # 부모 클래스\n",
    "    def __init__(self, first, second):\n",
    "        self.first = first\n",
    "        self.second = second\n",
    "    def add(self):\n",
    "        result = self.first + self.second\n",
    "        return result\n",
    "    def mul(self):\n",
    "        result = self.first * self.second\n",
    "        return result\n",
    "    def sub(self):\n",
    "        result = self.first - self.second\n",
    "        return result\n",
    "    def div(self):\n",
    "        result = self.first / self.second\n",
    "        return result\n",
    "class Scientific_calculator(Calculator):\n",
    "    pass"
   ]
  },
  {
   "cell_type": "code",
   "execution_count": 38,
   "id": "9e91ae58-1032-4e3e-aa52-8f48ba0029ff",
   "metadata": {},
   "outputs": [
    {
     "name": "stdout",
     "output_type": "stream",
     "text": [
      "36\n"
     ]
    }
   ],
   "source": [
    "Scientific_1 = Scientific_calculator(6,6)\n",
    "print(Scientific_1.mul())"
   ]
  },
  {
   "cell_type": "code",
   "execution_count": 39,
   "id": "1fb4be35-5668-4476-b045-4ae8a0191411",
   "metadata": {},
   "outputs": [
    {
     "name": "stdout",
     "output_type": "stream",
     "text": [
      "안녕하세요, B입니다.\n"
     ]
    },
    {
     "data": {
      "text/plain": [
       "[__main__.D, __main__.B, __main__.C, object]"
      ]
     },
     "execution_count": 39,
     "metadata": {},
     "output_type": "execute_result"
    }
   ],
   "source": [
    "class A:\n",
    "    def greeting(self):\n",
    "        print(\"안녕하세요, A입니다.\")\n",
    "        \n",
    "class B:\n",
    "    def greeting(self):\n",
    "        print(\"안녕하세요, B입니다.\")\n",
    "\n",
    "class C:\n",
    "    def greeting(self):\n",
    "        print(\"안녕하세요, C입니다.\")\n",
    "\n",
    "class D(B, C):\n",
    "    pass\n",
    "\n",
    "X = D()\n",
    "X.greeting()  # 안녕하세요, B입니다.\n",
    "\n",
    "D.mro()  # 우선순위에 있는 메소드 소팅돼서 나옴"
   ]
  },
  {
   "cell_type": "markdown",
   "id": "f330eb9a-42f6-474f-aa98-9dbe84c1a9ee",
   "metadata": {},
   "source": [
    "메소드 오버라이딩"
   ]
  },
  {
   "cell_type": "code",
   "execution_count": 44,
   "id": "788c08cd-ec7d-4172-91cf-bd235b0e8c38",
   "metadata": {},
   "outputs": [],
   "source": [
    "class Person:\n",
    "    def greeting(self):\n",
    "        print(\"안녕하세요\")\n",
    "        \n",
    "class Student(Person):\n",
    "    def greeting(self):\n",
    "        super().greeting()  # 부모 클래스의 메소드 호출\n",
    "        print(\"저는 파이썬 코딩 도장 학생입니다.\")  # 추가 메소드\n",
    "\n",
    "tom = Person()"
   ]
  },
  {
   "cell_type": "code",
   "execution_count": 45,
   "id": "4e2ca343-a81a-40de-85ab-fbea6ff8d4f6",
   "metadata": {},
   "outputs": [
    {
     "name": "stdout",
     "output_type": "stream",
     "text": [
      "안녕하세요\n"
     ]
    }
   ],
   "source": [
    "tom.greeting()"
   ]
  },
  {
   "cell_type": "code",
   "execution_count": 42,
   "id": "622d4ccd-192c-45a4-a4e1-d6fffaf0ac47",
   "metadata": {},
   "outputs": [],
   "source": [
    "james = Student()"
   ]
  },
  {
   "cell_type": "code",
   "execution_count": 43,
   "id": "3434ca93-94a2-4bd3-9654-81cb6d81f9dc",
   "metadata": {},
   "outputs": [
    {
     "name": "stdout",
     "output_type": "stream",
     "text": [
      "안녕하세요\n",
      "저는 파이썬 코딩 도장 학생입니다.\n"
     ]
    }
   ],
   "source": [
    "james.greeting()"
   ]
  },
  {
   "cell_type": "code",
   "execution_count": 46,
   "id": "51bf9b25-f93a-4081-b236-ef94f97643de",
   "metadata": {},
   "outputs": [],
   "source": [
    "class Data:\n",
    "    def __init__(self, data):\n",
    "        tmp = data.split(\"|\")  # \"|\"를 기준으로 text 분해\n",
    "        self.name = tmp[0]\n",
    "        self.age = tmp[1]\n",
    "        self.grade = tmp[2]\n",
    "    def print_age(self):\n",
    "        print(self.age)\n",
    "    def print_grade(self):\n",
    "        print(\"%s님 당신의 점수는 %s입니다.\" % (self.name, self.grade))\n",
    "        "
   ]
  },
  {
   "cell_type": "code",
   "execution_count": 48,
   "id": "824fd019-1ef2-4ea9-b5f6-a97bf9f2a72a",
   "metadata": {},
   "outputs": [],
   "source": [
    "class Data1:\n",
    "    def __init__(self, data):\n",
    "        tmp = data.split(\"|\")  # \"|\"를 기준으로 text 분해\n",
    "        self.name = tmp[0]\n",
    "        self.age = tmp[1]\n",
    "        self.grade = tmp[2]\n",
    "    def print_name(self):\n",
    "        print(self.name)\n",
    "    def print_age(self):\n",
    "        print(self.age)\n",
    "    def print_grade(self):\n",
    "        print(\"%s님 당신의 점수는 %s입니다.\" % (self.name, self.grade))\n",
    "        "
   ]
  },
  {
   "cell_type": "code",
   "execution_count": 47,
   "id": "94938346-0ff4-4b20-bc05-fb122889701a",
   "metadata": {},
   "outputs": [],
   "source": [
    "data = Data(\"홍길동|42|A\")"
   ]
  },
  {
   "cell_type": "code",
   "execution_count": 49,
   "id": "fb40cdcb-fc66-4ac0-b683-273b5e5b6b76",
   "metadata": {},
   "outputs": [
    {
     "name": "stdout",
     "output_type": "stream",
     "text": [
      "42\n"
     ]
    }
   ],
   "source": [
    "data.print_age()"
   ]
  },
  {
   "cell_type": "code",
   "execution_count": 50,
   "id": "6ada5fc4-cfe1-4126-abb1-8276d1836382",
   "metadata": {},
   "outputs": [
    {
     "ename": "AttributeError",
     "evalue": "'Data' object has no attribute 'print_name'",
     "output_type": "error",
     "traceback": [
      "\u001b[1;31m---------------------------------------------------------------------------\u001b[0m",
      "\u001b[1;31mAttributeError\u001b[0m                            Traceback (most recent call last)",
      "Input \u001b[1;32mIn [50]\u001b[0m, in \u001b[0;36m<cell line: 1>\u001b[1;34m()\u001b[0m\n\u001b[1;32m----> 1\u001b[0m \u001b[43mdata\u001b[49m\u001b[38;5;241;43m.\u001b[39;49m\u001b[43mprint_name\u001b[49m()\n",
      "\u001b[1;31mAttributeError\u001b[0m: 'Data' object has no attribute 'print_name'"
     ]
    }
   ],
   "source": [
    "data.print_name()"
   ]
  },
  {
   "cell_type": "code",
   "execution_count": 66,
   "id": "9fc99196-999f-4a3b-b156-18e916e22985",
   "metadata": {},
   "outputs": [
    {
     "name": "stdout",
     "output_type": "stream",
     "text": [
      "홍길동\n"
     ]
    }
   ],
   "source": [
    "data1 = Data1(\"홍길동|42|A\")\n",
    "data1.print_name()"
   ]
  },
  {
   "cell_type": "markdown",
   "id": "3db726c7-30f7-49aa-ab03-840b304f48d0",
   "metadata": {},
   "source": [
    "예제 (다시)"
   ]
  },
  {
   "cell_type": "markdown",
   "id": "f23916b1-7973-41ec-be9e-76f6a193e5ef",
   "metadata": {},
   "source": [
    "---------------------"
   ]
  },
  {
   "cell_type": "code",
   "execution_count": 52,
   "id": "b2e00bd7-9bbc-4d12-9fbf-c7994a3dbf87",
   "metadata": {},
   "outputs": [
    {
     "ename": "TypeError",
     "evalue": "add() takes 1 positional argument but 2 were given",
     "output_type": "error",
     "traceback": [
      "\u001b[1;31m---------------------------------------------------------------------------\u001b[0m",
      "\u001b[1;31mTypeError\u001b[0m                                 Traceback (most recent call last)",
      "Input \u001b[1;32mIn [52]\u001b[0m, in \u001b[0;36m<cell line: 9>\u001b[1;34m()\u001b[0m\n\u001b[0;32m      6\u001b[0m         \u001b[38;5;28mself\u001b[39m\u001b[38;5;241m.\u001b[39mvalue \u001b[38;5;241m+\u001b[39m\u001b[38;5;241m=\u001b[39m val\n\u001b[0;32m      8\u001b[0m cal \u001b[38;5;241m=\u001b[39m Calculator()\n\u001b[1;32m----> 9\u001b[0m \u001b[43mcal\u001b[49m\u001b[38;5;241;43m.\u001b[39;49m\u001b[43madd\u001b[49m\u001b[43m(\u001b[49m\u001b[38;5;241;43m3\u001b[39;49m\u001b[43m)\u001b[49m\n\u001b[0;32m     10\u001b[0m cal\u001b[38;5;241m.\u001b[39madd(\u001b[38;5;241m4\u001b[39m)\n\u001b[0;32m     12\u001b[0m \u001b[38;5;28mprint\u001b[39m(cal\u001b[38;5;241m.\u001b[39mvalue)\n",
      "\u001b[1;31mTypeError\u001b[0m: add() takes 1 positional argument but 2 were given"
     ]
    }
   ],
   "source": [
    "class Calculator:\n",
    "    def __init__(self):\n",
    "        self.value = 0\n",
    "    \n",
    "    def add(val):\n",
    "        self.value += val\n",
    "        \n",
    "        cal = Calculator()\n",
    "        cal.add(3)\n",
    "        cal.add(4)\n",
    "        print(cal.value)"
   ]
  },
  {
   "cell_type": "code",
   "execution_count": 105,
   "id": "c5ad914d-32ef-4b37-a97f-10dd3f149e78",
   "metadata": {},
   "outputs": [
    {
     "name": "stdout",
     "output_type": "stream",
     "text": [
      "7\n"
     ]
    }
   ],
   "source": [
    "class Calculator:\n",
    "    def __init__(self):\n",
    "        self.value = 0\n",
    "    \n",
    "    def add(self, val):\n",
    "        self.value += val\n",
    "        \n",
    "cal = Calculator()\n",
    "cal.add(3)\n",
    "cal.add(4)\n",
    "print(cal.value)"
   ]
  },
  {
   "cell_type": "code",
   "execution_count": 103,
   "id": "7928645a-6eeb-4c92-920f-ff191bc0508f",
   "metadata": {},
   "outputs": [
    {
     "name": "stdout",
     "output_type": "stream",
     "text": [
      "0\n"
     ]
    }
   ],
   "source": [
    "a2 = Calculator()\n",
    "print(a2.value)"
   ]
  },
  {
   "cell_type": "code",
   "execution_count": 101,
   "id": "92df50f3-1203-4688-a1c8-f662d23a935f",
   "metadata": {},
   "outputs": [
    {
     "name": "stdout",
     "output_type": "stream",
     "text": [
      "None\n"
     ]
    }
   ],
   "source": [
    "print(a2.add(4))"
   ]
  },
  {
   "cell_type": "code",
   "execution_count": 106,
   "id": "5bfa1c1c-4bfa-44de-a100-074d118d1c77",
   "metadata": {},
   "outputs": [
    {
     "name": "stdout",
     "output_type": "stream",
     "text": [
      "None\n"
     ]
    }
   ],
   "source": [
    "print(cal.add(5))"
   ]
  },
  {
   "cell_type": "code",
   "execution_count": null,
   "id": "5bd37e36-eeaa-4f1b-8768-de7027f8e962",
   "metadata": {},
   "outputs": [],
   "source": []
  },
  {
   "cell_type": "code",
   "execution_count": 109,
   "id": "64d55064-1f4e-4494-9fe2-efaad0746282",
   "metadata": {},
   "outputs": [
    {
     "data": {
      "text/plain": [
       "12"
      ]
     },
     "execution_count": 109,
     "metadata": {},
     "output_type": "execute_result"
    }
   ],
   "source": [
    "cal.value"
   ]
  },
  {
   "cell_type": "code",
   "execution_count": 110,
   "id": "f95c3b3b-414a-4a9e-8c99-35eb6c4712ce",
   "metadata": {},
   "outputs": [
    {
     "data": {
      "text/plain": [
       "16"
      ]
     },
     "execution_count": 110,
     "metadata": {},
     "output_type": "execute_result"
    }
   ],
   "source": [
    "cal.add(4)"
   ]
  },
  {
   "cell_type": "code",
   "execution_count": 107,
   "id": "0177fbc1-6ae0-4e64-a41c-3fd178b98ff6",
   "metadata": {},
   "outputs": [
    {
     "name": "stdout",
     "output_type": "stream",
     "text": [
      "7\n"
     ]
    }
   ],
   "source": [
    "class Calculator:\n",
    "    def __init__(self):\n",
    "        self.value = 0\n",
    "    \n",
    "    def add(self, val):\n",
    "        self.value += val\n",
    "        return self.value\n",
    "        \n",
    "cal = Calculator()\n",
    "cal.add(3)\n",
    "cal.add(4)\n",
    "print(cal.value)"
   ]
  },
  {
   "cell_type": "code",
   "execution_count": 108,
   "id": "c266ed3e-3a8d-4907-b0d2-8eff8fe15d9a",
   "metadata": {},
   "outputs": [
    {
     "data": {
      "text/plain": [
       "12"
      ]
     },
     "execution_count": 108,
     "metadata": {},
     "output_type": "execute_result"
    }
   ],
   "source": [
    "cal.add(5)"
   ]
  },
  {
   "cell_type": "code",
   "execution_count": 91,
   "id": "54ea20ad-cb27-423f-bb5a-78855c3bf621",
   "metadata": {},
   "outputs": [
    {
     "name": "stdout",
     "output_type": "stream",
     "text": [
      "<bound method Calculator.add of <__main__.Calculator object at 0x0000023E5261B340>>\n"
     ]
    }
   ],
   "source": [
    "a2 = Calculator()\n",
    "print(a2.add)"
   ]
  },
  {
   "cell_type": "code",
   "execution_count": 65,
   "id": "a6911e63-a3de-4dec-9161-788e95d7fabe",
   "metadata": {},
   "outputs": [],
   "source": [
    "class Calculator:\n",
    "    def __init__(self):\n",
    "        self.value = 0\n",
    "    \n",
    "    def add(self):\n",
    "        self.value += val\n",
    "        \n",
    "        cal = Calculator()\n",
    "        cal.add(3)\n",
    "        cal.add(4)\n",
    "        print(cal.value)"
   ]
  },
  {
   "cell_type": "code",
   "execution_count": 82,
   "id": "e6740bd3-7e94-482d-86fe-76b2ea4eb3b1",
   "metadata": {},
   "outputs": [],
   "source": [
    "class Calculator:\n",
    "    def __init__(self, init_value):\n",
    "        self.value = init_value\n",
    "    \n",
    "    def add(self, val):\n",
    "        self.value += val\n",
    "        \n",
    "        cal = Calculator(init_value)\n",
    "        cal.add(3)\n",
    "        cal.add(4)\n",
    "        print(cal.value)"
   ]
  },
  {
   "cell_type": "code",
   "execution_count": 64,
   "id": "95f3a844-f877-460b-bdb0-62de94c9b4c6",
   "metadata": {},
   "outputs": [
    {
     "name": "stdout",
     "output_type": "stream",
     "text": [
      "<__main__.Calculator object at 0x0000023E52615C40>\n"
     ]
    }
   ],
   "source": [
    "print(Calculator(3))"
   ]
  },
  {
   "cell_type": "code",
   "execution_count": 83,
   "id": "a0da05df-80f6-43ac-8358-3a5a8256f336",
   "metadata": {},
   "outputs": [],
   "source": [
    "a1 = Calculator(3)"
   ]
  },
  {
   "cell_type": "code",
   "execution_count": 84,
   "id": "904ae8a5-a4ed-4cf7-b6b8-c1dd40cda862",
   "metadata": {},
   "outputs": [
    {
     "name": "stdout",
     "output_type": "stream",
     "text": [
      "3\n"
     ]
    }
   ],
   "source": [
    "print(a1.value)"
   ]
  },
  {
   "cell_type": "code",
   "execution_count": 60,
   "id": "ad077a1d-ae09-4d48-842f-f9b7197eb9b3",
   "metadata": {},
   "outputs": [],
   "source": [
    "class Calculator:\n",
    "    def __init__(self):\n",
    "        self.value = 0\n",
    "    \n",
    "    def add(self, val):\n",
    "        self.value += val\n",
    "        cal = UpgradeCalculator()\n",
    "        cal.add(10)\n",
    "        cal.minus(7)\n",
    "        print(cal.value)"
   ]
  },
  {
   "cell_type": "code",
   "execution_count": 69,
   "id": "25fd22f3-239e-4551-b0c1-55d4898febbb",
   "metadata": {},
   "outputs": [
    {
     "ename": "AttributeError",
     "evalue": "type object 'Calculator' has no attribute 'cal'",
     "output_type": "error",
     "traceback": [
      "\u001b[1;31m---------------------------------------------------------------------------\u001b[0m",
      "\u001b[1;31mAttributeError\u001b[0m                            Traceback (most recent call last)",
      "Input \u001b[1;32mIn [69]\u001b[0m, in \u001b[0;36m<cell line: 1>\u001b[1;34m()\u001b[0m\n\u001b[1;32m----> 1\u001b[0m \u001b[43mCalculator\u001b[49m\u001b[38;5;241;43m.\u001b[39;49m\u001b[43mcal\u001b[49m\u001b[38;5;241m.\u001b[39madd(\u001b[38;5;241m10\u001b[39m)\n",
      "\u001b[1;31mAttributeError\u001b[0m: type object 'Calculator' has no attribute 'cal'"
     ]
    }
   ],
   "source": [
    "Calculator.cal.add(10)"
   ]
  },
  {
   "cell_type": "markdown",
   "id": "fdd0b433-c1c1-49d3-879b-5b1861eb0766",
   "metadata": {},
   "source": [
    "다시"
   ]
  },
  {
   "cell_type": "code",
   "execution_count": 75,
   "id": "a23fcaad-f2ec-4a88-8ce8-f3d5550f7fca",
   "metadata": {},
   "outputs": [],
   "source": [
    "class Calculator:\n",
    "    def __init__(self):\n",
    "        self.value = 0\n",
    "    \n",
    "    def add(self, val):\n",
    "        self.value += val"
   ]
  },
  {
   "cell_type": "code",
   "execution_count": 76,
   "id": "0b28a4ec-1087-4e0b-8a6d-8f84b1547e1c",
   "metadata": {},
   "outputs": [],
   "source": [
    "class UpgradeCalculator(Calculator):\n",
    "    def minus(self, val):\n",
    "        self.value -= val"
   ]
  },
  {
   "cell_type": "code",
   "execution_count": 77,
   "id": "5b20340f-ca5a-432d-995c-0feb67591135",
   "metadata": {},
   "outputs": [],
   "source": [
    "cal = UpgradeCalculator()\n",
    "cal.add(10)"
   ]
  },
  {
   "cell_type": "code",
   "execution_count": 78,
   "id": "36c5c6d4-f406-4f7b-be82-8b92d8b8f8a5",
   "metadata": {},
   "outputs": [
    {
     "name": "stdout",
     "output_type": "stream",
     "text": [
      "10\n"
     ]
    }
   ],
   "source": [
    "print(cal.value)"
   ]
  },
  {
   "cell_type": "code",
   "execution_count": 74,
   "id": "b43483c4-3309-4645-86b7-a1ebd735f81d",
   "metadata": {},
   "outputs": [
    {
     "ename": "TypeError",
     "evalue": "__init__() takes 1 positional argument but 2 were given",
     "output_type": "error",
     "traceback": [
      "\u001b[1;31m---------------------------------------------------------------------------\u001b[0m",
      "\u001b[1;31mTypeError\u001b[0m                                 Traceback (most recent call last)",
      "Input \u001b[1;32mIn [74]\u001b[0m, in \u001b[0;36m<cell line: 1>\u001b[1;34m()\u001b[0m\n\u001b[1;32m----> 1\u001b[0m \u001b[43mUpgradeCalculator\u001b[49m\u001b[43m(\u001b[49m\u001b[38;5;241;43m10\u001b[39;49m\u001b[43m)\u001b[49m\n",
      "\u001b[1;31mTypeError\u001b[0m: __init__() takes 1 positional argument but 2 were given"
     ]
    }
   ],
   "source": [
    "UpgradeCalculator(10)"
   ]
  },
  {
   "cell_type": "markdown",
   "id": "ac319eac-b227-4be6-9588-015fa5decc2f",
   "metadata": {},
   "source": [
    "예제"
   ]
  },
  {
   "cell_type": "code",
   "execution_count": 111,
   "id": "e5dcf8fd-214e-4d3c-8c88-66e4b68b574c",
   "metadata": {},
   "outputs": [],
   "source": [
    "class MaxLimitCalculator():\n",
    "    def __init__(self):\n",
    "        self.value = 0\n",
    "    def add(self, val):\n",
    "        self.value += val\n",
    "class MaxLimitCalculator(Calculator):\n",
    "    def add(self, val):\n",
    "        super().add(val)\n",
    "        if(self.value>=100):\n",
    "            self.value=100\n",
    "cal = MaxLimitCalculator()\n",
    "cal.add(50)\n",
    "cal.add(60)"
   ]
  },
  {
   "cell_type": "code",
   "execution_count": 119,
   "id": "bc3e6544-5af4-47d2-a659-e4f19061ab64",
   "metadata": {},
   "outputs": [],
   "source": [
    "class Calculator():\n",
    "    def __init__(self, init_value):\n",
    "        self.value = init_value\n",
    "    def sum(self, val):\n",
    "        self.value += val\n",
    "    def avg(self, val):\n",
    "        self.value / len(val)"
   ]
  },
  {
   "cell_type": "code",
   "execution_count": 120,
   "id": "1df61c8d-98f5-47a9-a325-1f7817f6db5c",
   "metadata": {},
   "outputs": [
    {
     "ename": "TypeError",
     "evalue": "sum() missing 1 required positional argument: 'val'",
     "output_type": "error",
     "traceback": [
      "\u001b[1;31m---------------------------------------------------------------------------\u001b[0m",
      "\u001b[1;31mTypeError\u001b[0m                                 Traceback (most recent call last)",
      "Input \u001b[1;32mIn [120]\u001b[0m, in \u001b[0;36m<cell line: 2>\u001b[1;34m()\u001b[0m\n\u001b[0;32m      1\u001b[0m cal1 \u001b[38;5;241m=\u001b[39m Calculator([\u001b[38;5;241m1\u001b[39m,\u001b[38;5;241m2\u001b[39m,\u001b[38;5;241m3\u001b[39m,\u001b[38;5;241m4\u001b[39m,\u001b[38;5;241m5\u001b[39m])\n\u001b[1;32m----> 2\u001b[0m \u001b[38;5;28mprint\u001b[39m(\u001b[43mcal1\u001b[49m\u001b[38;5;241;43m.\u001b[39;49m\u001b[43msum\u001b[49m\u001b[43m(\u001b[49m\u001b[43m)\u001b[49m)\n\u001b[0;32m      3\u001b[0m \u001b[38;5;28mprint\u001b[39m(cal1\u001b[38;5;241m.\u001b[39mavg())\n\u001b[0;32m      5\u001b[0m cal2 \u001b[38;5;241m=\u001b[39m Calculator([\u001b[38;5;241m6\u001b[39m,\u001b[38;5;241m7\u001b[39m,\u001b[38;5;241m8\u001b[39m,\u001b[38;5;241m9\u001b[39m,\u001b[38;5;241m10\u001b[39m])\n",
      "\u001b[1;31mTypeError\u001b[0m: sum() missing 1 required positional argument: 'val'"
     ]
    }
   ],
   "source": [
    "cal1 = Calculator([1,2,3,4,5])\n",
    "print(cal1.sum())\n",
    "print(cal1.avg())\n",
    "\n",
    "cal2 = Calculator([6,7,8,9,10])\n",
    "print(cal2.sum())\n",
    "print(cal2.avg())"
   ]
  },
  {
   "cell_type": "markdown",
   "id": "48d346f9-e1c2-4a3d-b78d-73535b87c0ab",
   "metadata": {},
   "source": [
    "답안 ver1"
   ]
  },
  {
   "cell_type": "code",
   "execution_count": null,
   "id": "115e006c-8af1-4844-92a1-89e249ad8d14",
   "metadata": {},
   "outputs": [],
   "source": [
    "class Calculator:\n",
    "    count = 0\n",
    "    def __init__(self, val):\n",
    "        self.value1=0\n",
    "        self.value2=0\n",
    "        self.list=val\n",
    "    def sum(self):\n",
    "        return sum(self.list)\n",
    "    def avg(self):\n",
    "        return sum(self.list)/len(self.list)"
   ]
  },
  {
   "cell_type": "code",
   "execution_count": 121,
   "id": "44a84deb-90b4-435e-8d4a-603285d212d0",
   "metadata": {},
   "outputs": [],
   "source": [
    "class Calculator:\n",
    "    # count = 0\n",
    "    def __init__(self, val):\n",
    "    #    self.value1=0\n",
    "    #    self.value2=0\n",
    "        self.list=val\n",
    "    def sum(self):\n",
    "        return sum(self.list)\n",
    "    def avg(self):\n",
    "        return sum(self.list)/len(self.list)"
   ]
  },
  {
   "cell_type": "code",
   "execution_count": 122,
   "id": "f07daece-cc09-4b5f-8cdc-7f0858ddb407",
   "metadata": {},
   "outputs": [
    {
     "name": "stdout",
     "output_type": "stream",
     "text": [
      "15\n",
      "3.0\n",
      "40\n",
      "8.0\n"
     ]
    }
   ],
   "source": [
    "cal1 = Calculator([1,2,3,4,5])\n",
    "print(cal1.sum())\n",
    "print(cal1.avg())\n",
    "\n",
    "cal2 = Calculator([6,7,8,9,10])\n",
    "print(cal2.sum())\n",
    "print(cal2.avg())"
   ]
  },
  {
   "cell_type": "markdown",
   "id": "faaaca74-a1b1-4ad4-abe9-70126da5ceb2",
   "metadata": {},
   "source": [
    "답안 ver2"
   ]
  },
  {
   "cell_type": "code",
   "execution_count": 125,
   "id": "5c21dc5e-de4d-4900-afb5-a397529e45f9",
   "metadata": {},
   "outputs": [],
   "source": [
    "class Calculator:\n",
    "    count = 0\n",
    "    def __init__(self, val):\n",
    "        self.value1=0\n",
    "        self.value2=0\n",
    "        self.list=val\n",
    "    def sum(self):\n",
    "        for i in self.list:\n",
    "            self.value1 += i\n",
    "        return self.value1\n",
    "    def avg(self):\n",
    "        for i in self.list:\n",
    "            self.value2 += i\n",
    "            self.count += 1\n",
    "        return self.value2/self.count"
   ]
  },
  {
   "cell_type": "code",
   "execution_count": 126,
   "id": "5f533d73-2222-4c24-ad02-17551f3ad298",
   "metadata": {},
   "outputs": [
    {
     "name": "stdout",
     "output_type": "stream",
     "text": [
      "15\n",
      "3.0\n",
      "40\n",
      "8.0\n"
     ]
    }
   ],
   "source": [
    "cal1 = Calculator([1,2,3,4,5])\n",
    "print(cal1.sum())\n",
    "print(cal1.avg())\n",
    "\n",
    "cal2 = Calculator([6,7,8,9,10])\n",
    "print(cal2.sum())\n",
    "print(cal2.avg())"
   ]
  },
  {
   "cell_type": "markdown",
   "id": "7844ff07-d409-4e75-bf16-77d8f63b8766",
   "metadata": {},
   "source": [
    "예제_클래스 정의와 인스턴스 생성"
   ]
  },
  {
   "cell_type": "code",
   "execution_count": 127,
   "id": "ed8621a8-2621-45a3-a2dc-0a3180fab9e9",
   "metadata": {},
   "outputs": [
    {
     "name": "stdout",
     "output_type": "stream",
     "text": [
      "<class '__main__.Dog'>\n"
     ]
    }
   ],
   "source": [
    "class Dog:\n",
    "    def __init__(self, name, age):\n",
    "        self.name = name\n",
    "        self.age = age\n",
    "\n",
    "my_dog = Dog('Mango', 3)\n",
    "print(type(my_dog))"
   ]
  },
  {
   "cell_type": "markdown",
   "id": "6c20623c-3f89-4bf6-bb67-eb6c7a4cf8b4",
   "metadata": {},
   "source": [
    "예제_BankAccount 클래스 구현"
   ]
  },
  {
   "cell_type": "code",
   "execution_count": 131,
   "id": "63d06179-55a6-4118-b416-ba485fb10ea0",
   "metadata": {},
   "outputs": [
    {
     "name": "stdout",
     "output_type": "stream",
     "text": [
      "홍길동님의 계좌 1234-0001의 잔고는 0원입니다.\n",
      "1000원이 입금되었습니다. 잔고는 1000원입니다.\n",
      "홍길동님의 계좌 1234-0001의 잔고는 1,000원입니다.\n"
     ]
    }
   ],
   "source": [
    "class BankAccount:\n",
    "    \"\"\"A class example in python that models a bank account\"\"\"\n",
    "    def __init__(self, name, account_num, balance=0):\n",
    "        self.name = name\n",
    "        self.account_num = account_num\n",
    "        self.balance = balance\n",
    "    def get_name():\n",
    "        return self.name\n",
    "    \n",
    "    def get_account_num():\n",
    "        return self.account_num\n",
    "    \n",
    "    def get_balance():\n",
    "        return self.balance\n",
    "    \n",
    "    def deposit(self, amount):\n",
    "        self.balance += amount\n",
    "        print('{}원이 입금되었습니다. 잔고는 {}원입니다.'.format(amount, self.balance))\n",
    "        return self.balance\n",
    "    \n",
    "    def withdraw(self, amount):\n",
    "        if self.balance - amount > 0:\n",
    "            self.balance -= amount\n",
    "        else:\n",
    "            \n",
    "            print('계좌 잔고는 {}원으로 인출 요구 금액 '\n",
    "                  '{}원보다 작습니다.'.format(self.balance, amount))\n",
    "            \n",
    "    def __str__(self):\n",
    "        return '{}님의 계좌 {}의 잔고는 {:,}원입니다.'.format(self.name, \\\n",
    "                                                  self.account_num, self.balance)\n",
    "\n",
    "account1 = BankAccount(\"홍길동\", \"1234-0001\")\n",
    "print(account1)\n",
    "account1.deposit(1000)\n",
    "print(account1)"
   ]
  },
  {
   "cell_type": "code",
   "execution_count": 132,
   "id": "65d6fc31-049d-4a8b-a387-af3720727094",
   "metadata": {},
   "outputs": [
    {
     "name": "stdout",
     "output_type": "stream",
     "text": [
      "홍길동님의 계좌 1234-0001의 잔고는 0원입니다.\n",
      "2000원이 입금되었습니다. 잔고는 2000원입니다.\n",
      "홍길동님의 계좌 1234-0001의 잔고는 2,000원입니다.\n",
      "홍길동님의 계좌 1234-0001의 잔고는 1,500원입니다.\n",
      "계좌 잔고는 1500원으로 인출 요구 금액 5000원보다 작습니다.\n"
     ]
    }
   ],
   "source": [
    "account1 = BankAccount(\"홍길동\", \"1234-0001\")\n",
    "print(account1)\n",
    "account1.deposit(2000)\n",
    "print(account1)\n",
    "account1.withdraw(500)\n",
    "print(account1)\n",
    "account1.withdraw(5000)"
   ]
  },
  {
   "cell_type": "code",
   "execution_count": null,
   "id": "8fd3e622-f060-486d-8700-adbda4d3050a",
   "metadata": {},
   "outputs": [],
   "source": []
  }
 ],
 "metadata": {
  "kernelspec": {
   "display_name": "Python 3 (ipykernel)",
   "language": "python",
   "name": "python3"
  },
  "language_info": {
   "codemirror_mode": {
    "name": "ipython",
    "version": 3
   },
   "file_extension": ".py",
   "mimetype": "text/x-python",
   "name": "python",
   "nbconvert_exporter": "python",
   "pygments_lexer": "ipython3",
   "version": "3.9.12"
  }
 },
 "nbformat": 4,
 "nbformat_minor": 5
}
