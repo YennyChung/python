{
 "cells": [
  {
   "cell_type": "code",
   "execution_count": null,
   "id": "60aa050a",
   "metadata": {},
   "outputs": [],
   "source": [
    "# !pip install pymongo"
   ]
  },
  {
   "cell_type": "code",
   "execution_count": 1,
   "id": "31339e44",
   "metadata": {},
   "outputs": [],
   "source": [
    "import pymongo"
   ]
  },
  {
   "cell_type": "markdown",
   "id": "5b96bf60",
   "metadata": {},
   "source": [
    "### MongDB 접속하기"
   ]
  },
  {
   "cell_type": "code",
   "execution_count": 2,
   "id": "b682be84",
   "metadata": {},
   "outputs": [],
   "source": [
    "'''\n",
    "python 에서 MongoDB 에 접속하기\n",
    "\n",
    "pymongo 모듈에 정의된 MongoClient 객체를 생성함\n",
    "\n",
    "형식]\n",
    "  MongClient(\"ip(domain 주소)\", 포트번호)  \n",
    "  MongClient() : 자동으로 localhost:27017 로 접속함\n",
    "'''\n",
    "conn = pymongo.MongoClient(\"localhost\", 27017)\n",
    "# conn = pymongo.MongoClient(\"127.0.0.1\", 27017)"
   ]
  },
  {
   "cell_type": "markdown",
   "id": "c0a26957",
   "metadata": {},
   "source": [
    "### db_test 라는 database 가  생성하기\n",
    "- db_test 라는 database 가 이미 있으면 사용 가능한 상태가 되고\n",
    "- db_test 라는 database 가 없다면 새로 생성됨"
   ]
  },
  {
   "cell_type": "code",
   "execution_count": 3,
   "id": "40beaaf3",
   "metadata": {},
   "outputs": [],
   "source": [
    "# Database 객체 생성\n",
    "db_test = conn.db_test\n",
    "# db_test = conn[\"db_test\"]"
   ]
  },
  {
   "cell_type": "markdown",
   "id": "4a534e09",
   "metadata": {},
   "source": [
    "### 생성된 Database 객체 확인하기"
   ]
  },
  {
   "cell_type": "code",
   "execution_count": 4,
   "id": "da6e8528",
   "metadata": {},
   "outputs": [
    {
     "name": "stdout",
     "output_type": "stream",
     "text": [
      "-- db_test --\n",
      "Database(MongoClient(host=['localhost:27017'], document_class=dict, tz_aware=False, connect=True), 'db_test')\n"
     ]
    }
   ],
   "source": [
    "print('-- db_test --')\n",
    "print(db_test)"
   ]
  },
  {
   "cell_type": "code",
   "execution_count": 5,
   "id": "fc51b681",
   "metadata": {},
   "outputs": [
    {
     "name": "stdout",
     "output_type": "stream",
     "text": [
      "db_test.name :  db_test\n"
     ]
    }
   ],
   "source": [
    "# 생성된 Database 의 이름 확인하기 : name 속성\n",
    "print('db_test.name : ', db_test.name)"
   ]
  },
  {
   "cell_type": "markdown",
   "id": "6461b50d",
   "metadata": {},
   "source": [
    "### collection (객체) 생성하기\n",
    "- collection_test 라는 이름의 collection 생성하기\n",
    "- 이미 생성되어 있으면 사용하게 되고, 없으면 새로 생성됨"
   ]
  },
  {
   "cell_type": "code",
   "execution_count": 6,
   "id": "fd0ddcdc",
   "metadata": {},
   "outputs": [],
   "source": [
    "collection_test = db_test.collection_test\n",
    "# collection_test = db_test[\"collection_test\"]"
   ]
  },
  {
   "cell_type": "markdown",
   "id": "88ffe42e",
   "metadata": {},
   "source": [
    "### collection (객체) 확인하기"
   ]
  },
  {
   "cell_type": "code",
   "execution_count": 7,
   "id": "e9cfa753",
   "metadata": {},
   "outputs": [
    {
     "name": "stdout",
     "output_type": "stream",
     "text": [
      "-- collection_test --\n",
      "Collection(Database(MongoClient(host=['localhost:27017'], document_class=dict, tz_aware=False, connect=True), 'db_test'), 'collection_test')\n"
     ]
    }
   ],
   "source": [
    "print('-- collection_test --')\n",
    "print(collection_test)"
   ]
  },
  {
   "cell_type": "markdown",
   "id": "d13defe7",
   "metadata": {},
   "source": [
    "### document 추가하기 : insert_one(), insert_many()\n",
    "- insert_one() : document 하나 추가(생성) 하기\n",
    "- python의 dictionary로 생성함"
   ]
  },
  {
   "cell_type": "code",
   "execution_count": 8,
   "id": "e6945c55",
   "metadata": {},
   "outputs": [],
   "source": [
    "post_dict = {\n",
    "              \"author\":\"John\",\n",
    "              \"text\"  : \"first posting\",\n",
    "              \"tags\"  : [\"python\", \"mongodb\", \"pymongo\"]     \n",
    "            }"
   ]
  },
  {
   "cell_type": "markdown",
   "id": "a6c4258e",
   "metadata": {},
   "source": [
    "### collection_test 라는 컬렉션에 post_dict (document) 추가하기"
   ]
  },
  {
   "cell_type": "code",
   "execution_count": 9,
   "id": "8db64555",
   "metadata": {},
   "outputs": [
    {
     "data": {
      "text/plain": [
       "<pymongo.results.InsertOneResult at 0x292b0cd81f0>"
      ]
     },
     "execution_count": 9,
     "metadata": {},
     "output_type": "execute_result"
    }
   ],
   "source": [
    "'''\n",
    "collection_test : Collection 객체\n",
    "insert_one()    : Collection 객체의 method\n",
    "'''\n",
    "collection_test.insert_one(post_dict)"
   ]
  },
  {
   "cell_type": "code",
   "execution_count": 10,
   "id": "93ed7755",
   "metadata": {},
   "outputs": [
    {
     "data": {
      "text/plain": [
       "<pymongo.results.InsertOneResult at 0x292b0cc1b80>"
      ]
     },
     "execution_count": 10,
     "metadata": {},
     "output_type": "execute_result"
    }
   ],
   "source": [
    "collection_test.insert_one({\"author\":\"Paul\", \"age\":42})"
   ]
  },
  {
   "cell_type": "markdown",
   "id": "9ad2adab",
   "metadata": {},
   "source": [
    "- insertMany() method"
   ]
  },
  {
   "cell_type": "code",
   "execution_count": 11,
   "id": "69057e00",
   "metadata": {},
   "outputs": [
    {
     "data": {
      "text/plain": [
       "<pymongo.results.InsertManyResult at 0x292b0cc1a90>"
      ]
     },
     "execution_count": 11,
     "metadata": {},
     "output_type": "execute_result"
    }
   ],
   "source": [
    "collection_test.insert_many(\n",
    "    [\n",
    "        {\"author\":\"Tom\", \"age\":27},\n",
    "        {\"author\":\"Cruise\", \"age\":32}\n",
    "    ]\n",
    ")"
   ]
  },
  {
   "cell_type": "markdown",
   "id": "210c5240",
   "metadata": {},
   "source": [
    "### collection 에 document 를 insert 했을 때 _id(primary key) 값 확인하기\n",
    "- inserted_id 속성"
   ]
  },
  {
   "cell_type": "code",
   "execution_count": 12,
   "id": "242ee2ce",
   "metadata": {},
   "outputs": [],
   "source": [
    "post_id = collection_test.insert_one({\"author\":\"Scott\", \"age\":42})"
   ]
  },
  {
   "cell_type": "code",
   "execution_count": 13,
   "id": "d74c4fdc",
   "metadata": {
    "scrolled": true
   },
   "outputs": [
    {
     "name": "stdout",
     "output_type": "stream",
     "text": [
      "-- insert 된 document 의 _id 값 --\n",
      "6321855b63f211e1fb1bc6d8\n"
     ]
    }
   ],
   "source": [
    "print('-- insert 된 document 의 _id 값 --')\n",
    "print(post_id.inserted_id)"
   ]
  },
  {
   "cell_type": "markdown",
   "id": "eaf5c191",
   "metadata": {},
   "source": [
    "### collection 에 있는 document 의 개수 확인하기 \n",
    "- count_documents() 메소드"
   ]
  },
  {
   "cell_type": "code",
   "execution_count": 14,
   "id": "3c5ec514",
   "metadata": {},
   "outputs": [
    {
     "name": "stdout",
     "output_type": "stream",
     "text": [
      "-- 현재 collection_test 컬렉션에 있는 document 들의 개수 --\n",
      "30 개\n"
     ]
    }
   ],
   "source": [
    "print('-- 현재 collection_test 컬렉션에 있는 document 들의 개수 --')\n",
    "print(collection_test.count_documents({}),'개')"
   ]
  },
  {
   "cell_type": "code",
   "execution_count": 15,
   "id": "68b300ae",
   "metadata": {},
   "outputs": [
    {
     "name": "stdout",
     "output_type": "stream",
     "text": [
      "-- author 가 Scott 인 document 들의 개수 --\n",
      "2 개\n"
     ]
    }
   ],
   "source": [
    "print('-- author 가 Scott 인 document 들의 개수 --')\n",
    "print(collection_test.count_documents({\"author\":\"Scott\"}),'개')"
   ]
  },
  {
   "cell_type": "code",
   "execution_count": 16,
   "id": "afc2b69c",
   "metadata": {},
   "outputs": [
    {
     "name": "stdout",
     "output_type": "stream",
     "text": [
      "-- age 가 32 인 document 들의 개수 --\n",
      "3 개\n"
     ]
    }
   ],
   "source": [
    "print('-- age 가 32 인 document 들의 개수 --')\n",
    "print(collection_test.count_documents({\"age\" : 32}),'개')"
   ]
  },
  {
   "cell_type": "markdown",
   "id": "7b4b380d",
   "metadata": {},
   "source": [
    "### list 와 dictionary 를 사용해서 insert 하기"
   ]
  },
  {
   "cell_type": "code",
   "execution_count": 17,
   "id": "ad158396",
   "metadata": {},
   "outputs": [
    {
     "data": {
      "text/plain": [
       "<pymongo.results.InsertOneResult at 0x292b0cfab50>"
      ]
     },
     "execution_count": 17,
     "metadata": {},
     "output_type": "execute_result"
    }
   ],
   "source": [
    "collection_test.insert_one(\n",
    "    {\n",
    "        \"title\":\"오징어게임\",\n",
    "        \"castings\" : [\"이정재\", \"공유\", \"이병헌\"]\n",
    "    }\n",
    ")"
   ]
  },
  {
   "cell_type": "code",
   "execution_count": 18,
   "id": "7bf175b8",
   "metadata": {},
   "outputs": [
    {
     "data": {
      "text/plain": [
       "<pymongo.results.InsertOneResult at 0x292b0d0a970>"
      ]
     },
     "execution_count": 18,
     "metadata": {},
     "output_type": "execute_result"
    }
   ],
   "source": [
    "collection_test.insert_one(\n",
    "    {\n",
    "        \"title\" : \"오징어게임\",\n",
    "        \"castings\" : [\"이정재\", \"공유\", \"이병헌\"],\n",
    "        \"datetime\": \n",
    "        {\n",
    "            \"year\" : \"2021\",\n",
    "            \"month\" : 9,\n",
    "            \"letter\" : \n",
    "            {\n",
    "                \"a\":\n",
    "                {\n",
    "                    \"b\":111\n",
    "                }\n",
    "            }\n",
    "        }  \n",
    "    }\n",
    ")"
   ]
  },
  {
   "cell_type": "markdown",
   "id": "827a65dd",
   "metadata": {},
   "source": [
    "### 비어있는  list 를 생성해서 dictionary 를 append 하기"
   ]
  },
  {
   "cell_type": "code",
   "execution_count": 19,
   "id": "93fb1d93",
   "metadata": {},
   "outputs": [
    {
     "name": "stdout",
     "output_type": "stream",
     "text": [
      "-- data --\n",
      "[{'name': 'bob', 'age': 25}, {'name': 'david', 'age': 32}, {'name': 'mueller', 'age': 21}, {'name': 'fox', 'age': 29}, {'name': 'erick', 'age': 24}, {'name': 'chan', 'age': 35}, {'name': 'jack'}]\n",
      "------------------------------------------------------------\n",
      "[{'age': 25, 'name': 'bob'},\n",
      " {'age': 32, 'name': 'david'},\n",
      " {'age': 21, 'name': 'mueller'},\n",
      " {'age': 29, 'name': 'fox'},\n",
      " {'age': 24, 'name': 'erick'},\n",
      " {'age': 35, 'name': 'chan'},\n",
      " {'name': 'jack'}]\n"
     ]
    }
   ],
   "source": [
    "'''\n",
    "list 를 생성해서\n",
    "insert_many() 메소드의 argument 로 지정하기\n",
    "collection_test.insert_many(data)\n",
    "'''\n",
    "\n",
    "data = list()\n",
    "# data = []\n",
    "data.append({\"name\":\"bob\", \"age\":25})\n",
    "data.append({\"name\":\"david\", \"age\":32})\n",
    "data.append({\"name\":\"mueller\", \"age\":21})\n",
    "data.append({\"name\":\"fox\", \"age\":29})\n",
    "data.append({\"name\":\"erick\", \"age\":24})\n",
    "data.append({\"name\":\"chan\", \"age\":35})\n",
    "data.append({\"name\":\"jack\"})\n",
    "\n",
    "print('-- data --')\n",
    "print(data)\n",
    "print('-' * 60)\n",
    "\n",
    "import pprint\n",
    "pprint.pprint(data)"
   ]
  },
  {
   "cell_type": "code",
   "execution_count": 20,
   "id": "8709109f",
   "metadata": {},
   "outputs": [
    {
     "data": {
      "text/plain": [
       "<pymongo.results.InsertManyResult at 0x292b0cfaf10>"
      ]
     },
     "execution_count": 20,
     "metadata": {},
     "output_type": "execute_result"
    }
   ],
   "source": [
    "collection_test.insert_many(data)"
   ]
  },
  {
   "cell_type": "markdown",
   "id": "65942feb",
   "metadata": {},
   "source": [
    "### for 문을 사용해서 여러 개의 document 추가하기"
   ]
  },
  {
   "cell_type": "code",
   "execution_count": 21,
   "id": "a7e681e0",
   "metadata": {},
   "outputs": [
    {
     "name": "stdout",
     "output_type": "stream",
     "text": [
      "-- result --\n",
      "<pymongo.results.InsertManyResult object at 0x00000292B0CFA4C0>\n"
     ]
    }
   ],
   "source": [
    "result = collection_test.insert_many(\n",
    "                [\n",
    "                    {\"number\": idx} for idx in range(10)\n",
    "                ]\n",
    "            )\n",
    "print('-- result --')\n",
    "print(result)"
   ]
  },
  {
   "cell_type": "markdown",
   "id": "510ec379",
   "metadata": {},
   "source": [
    "### document 검색(조회)하기 : find_one() / find()\n",
    "- find_one() 메소드 : 가장 빨리 검색되는 document 하나를 조회함"
   ]
  },
  {
   "cell_type": "code",
   "execution_count": 22,
   "id": "0c523fe0",
   "metadata": {},
   "outputs": [
    {
     "data": {
      "text/plain": [
       "{'_id': ObjectId('63213991032a8ac3e35d7cd8'),\n",
       " 'author': 'john',\n",
       " 'text': 'first posting',\n",
       " 'tags': ['python', 'mongoDB', 'pymongo']}"
      ]
     },
     "execution_count": 22,
     "metadata": {},
     "output_type": "execute_result"
    }
   ],
   "source": [
    "collection_test.find_one()"
   ]
  },
  {
   "cell_type": "code",
   "execution_count": 23,
   "id": "82b3fea3",
   "metadata": {},
   "outputs": [
    {
     "data": {
      "text/plain": [
       "{'_id': ObjectId('63213b53032a8ac3e35d7cdb'), 'author': 'Scott', 'age': 42}"
      ]
     },
     "execution_count": 23,
     "metadata": {},
     "output_type": "execute_result"
    }
   ],
   "source": [
    "'''\n",
    "author 가 Scott 인 document 조회하기\n",
    "'''\n",
    "collection_test.find_one({\"author\":\"Scott\"})"
   ]
  },
  {
   "cell_type": "code",
   "execution_count": 24,
   "id": "14adeaab",
   "metadata": {},
   "outputs": [
    {
     "data": {
      "text/plain": [
       "{'_id': ObjectId('63213b16032a8ac3e35d7cda'), 'author': 'Cruise', 'age': 32}"
      ]
     },
     "execution_count": 24,
     "metadata": {},
     "output_type": "execute_result"
    }
   ],
   "source": [
    "'''\n",
    "age 가 32 인 document 조회하기\n",
    "'''\n",
    "collection_test.find_one({\"age\":32})"
   ]
  },
  {
   "cell_type": "code",
   "execution_count": 25,
   "id": "6487a7b3",
   "metadata": {},
   "outputs": [
    {
     "name": "stdout",
     "output_type": "stream",
     "text": [
      "{'_id': ObjectId('63213991032a8ac3e35d7cd8'), 'author': 'john', 'text': 'first posting', 'tags': ['python', 'mongoDB', 'pymongo']}\n",
      "{'_id': ObjectId('63213b16032a8ac3e35d7cd9'), 'author': 'Tom', 'age': 47}\n",
      "{'_id': ObjectId('63213b16032a8ac3e35d7cda'), 'author': 'Cruise', 'age': 32}\n",
      "{'_id': ObjectId('63213b53032a8ac3e35d7cdb'), 'author': 'Scott', 'age': 42}\n",
      "{'_id': ObjectId('63213d3e032a8ac3e35d7cdc'), 'title': '오징어게임', 'castings': ['이정재', '공유', '이병헌']}\n",
      "{'_id': ObjectId('63213eb2032a8ac3e35d7cdd'), 'title': '오징어게임', 'castings': ['이정재', '공유', '이병헌'], 'datetime': {'year': '2021', 'month': 9, 'letter': {'a': {'b': 111}}}}\n",
      "{'_id': ObjectId('63214442032a8ac3e35d7cde'), 'name': 'bob', 'age': 25}\n",
      "{'_id': ObjectId('63214442032a8ac3e35d7cdf'), 'name': 'david', 'age': 32}\n",
      "{'_id': ObjectId('63214442032a8ac3e35d7ce0'), 'name': 'muller', 'age': 21}\n",
      "{'_id': ObjectId('63214442032a8ac3e35d7ce1'), 'name': 'fox', 'age': 19}\n",
      "{'_id': ObjectId('63214442032a8ac3e35d7ce2'), 'name': 'eric', 'age': 29}\n",
      "{'_id': ObjectId('63214442032a8ac3e35d7ce3'), 'name': 'erin', 'age': 34}\n",
      "{'_id': ObjectId('63214442032a8ac3e35d7ce4'), 'name': 'chan', 'age': 38}\n",
      "{'_id': ObjectId('63214442032a8ac3e35d7ce5'), 'name': 'jack', 'age': 50}\n",
      "{'_id': ObjectId('632144bd032a8ac3e35d7ce6'), 'number': 0}\n",
      "{'_id': ObjectId('632144bd032a8ac3e35d7ce7'), 'number': 1}\n",
      "{'_id': ObjectId('632144bd032a8ac3e35d7ce8'), 'number': 2}\n",
      "{'_id': ObjectId('632144bd032a8ac3e35d7ce9'), 'number': 3}\n",
      "{'_id': ObjectId('632144bd032a8ac3e35d7cea'), 'number': 4}\n",
      "{'_id': ObjectId('632144bd032a8ac3e35d7ceb'), 'number': 5}\n",
      "{'_id': ObjectId('632144bd032a8ac3e35d7cec'), 'number': 6}\n",
      "{'_id': ObjectId('632144bd032a8ac3e35d7ced'), 'number': 7}\n",
      "{'_id': ObjectId('632144bd032a8ac3e35d7cee'), 'number': 8}\n",
      "{'_id': ObjectId('632144bd032a8ac3e35d7cef'), 'number': 9}\n",
      "{'_id': ObjectId('63214ad6032a8ac3e35d7cf0'), 'author': 'Tom', 'text': 'tom posting', 'tags': ['mongoDB', 'crawling', 'machinelearning'], 'age': 47}\n",
      "{'_id': ObjectId('6321855b63f211e1fb1bc6d4'), 'author': 'John', 'text': 'first posting', 'tags': ['python', 'mongodb', 'pymongo']}\n",
      "{'_id': ObjectId('6321855b63f211e1fb1bc6d5'), 'author': 'Paul', 'age': 42}\n",
      "{'_id': ObjectId('6321855b63f211e1fb1bc6d6'), 'author': 'Tom', 'age': 27}\n",
      "{'_id': ObjectId('6321855b63f211e1fb1bc6d7'), 'author': 'Cruise', 'age': 32}\n",
      "{'_id': ObjectId('6321855b63f211e1fb1bc6d8'), 'author': 'Scott', 'age': 42}\n",
      "{'_id': ObjectId('6321855b63f211e1fb1bc6d9'), 'title': '오징어게임', 'castings': ['이정재', '공유', '이병헌']}\n",
      "{'_id': ObjectId('6321855b63f211e1fb1bc6da'), 'title': '오징어게임', 'castings': ['이정재', '공유', '이병헌'], 'datetime': {'year': '2021', 'month': 9, 'letter': {'a': {'b': 111}}}}\n",
      "{'_id': ObjectId('6321855b63f211e1fb1bc6db'), 'name': 'bob', 'age': 25}\n",
      "{'_id': ObjectId('6321855b63f211e1fb1bc6dc'), 'name': 'david', 'age': 32}\n",
      "{'_id': ObjectId('6321855b63f211e1fb1bc6dd'), 'name': 'mueller', 'age': 21}\n",
      "{'_id': ObjectId('6321855b63f211e1fb1bc6de'), 'name': 'fox', 'age': 29}\n",
      "{'_id': ObjectId('6321855b63f211e1fb1bc6df'), 'name': 'erick', 'age': 24}\n",
      "{'_id': ObjectId('6321855b63f211e1fb1bc6e0'), 'name': 'chan', 'age': 35}\n",
      "{'_id': ObjectId('6321855b63f211e1fb1bc6e1'), 'name': 'jack'}\n",
      "{'_id': ObjectId('6321855b63f211e1fb1bc6e2'), 'number': 0}\n",
      "{'_id': ObjectId('6321855b63f211e1fb1bc6e3'), 'number': 1}\n",
      "{'_id': ObjectId('6321855b63f211e1fb1bc6e4'), 'number': 2}\n",
      "{'_id': ObjectId('6321855b63f211e1fb1bc6e5'), 'number': 3}\n",
      "{'_id': ObjectId('6321855b63f211e1fb1bc6e6'), 'number': 4}\n",
      "{'_id': ObjectId('6321855b63f211e1fb1bc6e7'), 'number': 5}\n",
      "{'_id': ObjectId('6321855b63f211e1fb1bc6e8'), 'number': 6}\n",
      "{'_id': ObjectId('6321855b63f211e1fb1bc6e9'), 'number': 7}\n",
      "{'_id': ObjectId('6321855b63f211e1fb1bc6ea'), 'number': 8}\n",
      "{'_id': ObjectId('6321855b63f211e1fb1bc6eb'), 'number': 9}\n"
     ]
    }
   ],
   "source": [
    "'''\n",
    "collection_test 컬렉션에 있는 모든 document 조회하기\n",
    "'''\n",
    "documents = collection_test.find()\n",
    "for document in documents:\n",
    "    print(document)"
   ]
  },
  {
   "cell_type": "code",
   "execution_count": 26,
   "id": "db0dece8",
   "metadata": {},
   "outputs": [
    {
     "name": "stdout",
     "output_type": "stream",
     "text": [
      "-- 현재 collection_test 컬렉션에 있는 모든 document 의 개수 --\n",
      "49 개\n"
     ]
    }
   ],
   "source": [
    "print('-- 현재 collection_test 컬렉션에 있는 모든 document 의 개수 --')\n",
    "print(collection_test.count_documents({}),'개')"
   ]
  },
  {
   "cell_type": "markdown",
   "id": "8b4d689b",
   "metadata": {},
   "source": [
    "### 정렬하기 : sort() 메소드"
   ]
  },
  {
   "cell_type": "code",
   "execution_count": 27,
   "id": "1f053ffb",
   "metadata": {},
   "outputs": [
    {
     "name": "stdout",
     "output_type": "stream",
     "text": [
      "{'_id': ObjectId('63213991032a8ac3e35d7cd8'), 'author': 'john', 'text': 'first posting', 'tags': ['python', 'mongoDB', 'pymongo']}\n",
      "{'_id': ObjectId('63213d3e032a8ac3e35d7cdc'), 'title': '오징어게임', 'castings': ['이정재', '공유', '이병헌']}\n",
      "{'_id': ObjectId('63213eb2032a8ac3e35d7cdd'), 'title': '오징어게임', 'castings': ['이정재', '공유', '이병헌'], 'datetime': {'year': '2021', 'month': 9, 'letter': {'a': {'b': 111}}}}\n",
      "{'_id': ObjectId('632144bd032a8ac3e35d7ce6'), 'number': 0}\n",
      "{'_id': ObjectId('632144bd032a8ac3e35d7ce7'), 'number': 1}\n",
      "{'_id': ObjectId('632144bd032a8ac3e35d7ce8'), 'number': 2}\n",
      "{'_id': ObjectId('632144bd032a8ac3e35d7ce9'), 'number': 3}\n",
      "{'_id': ObjectId('632144bd032a8ac3e35d7cea'), 'number': 4}\n",
      "{'_id': ObjectId('632144bd032a8ac3e35d7ceb'), 'number': 5}\n",
      "{'_id': ObjectId('632144bd032a8ac3e35d7cec'), 'number': 6}\n",
      "{'_id': ObjectId('632144bd032a8ac3e35d7ced'), 'number': 7}\n",
      "{'_id': ObjectId('632144bd032a8ac3e35d7cee'), 'number': 8}\n",
      "{'_id': ObjectId('632144bd032a8ac3e35d7cef'), 'number': 9}\n",
      "{'_id': ObjectId('6321855b63f211e1fb1bc6d4'), 'author': 'John', 'text': 'first posting', 'tags': ['python', 'mongodb', 'pymongo']}\n",
      "{'_id': ObjectId('6321855b63f211e1fb1bc6d9'), 'title': '오징어게임', 'castings': ['이정재', '공유', '이병헌']}\n",
      "{'_id': ObjectId('6321855b63f211e1fb1bc6da'), 'title': '오징어게임', 'castings': ['이정재', '공유', '이병헌'], 'datetime': {'year': '2021', 'month': 9, 'letter': {'a': {'b': 111}}}}\n",
      "{'_id': ObjectId('6321855b63f211e1fb1bc6e1'), 'name': 'jack'}\n",
      "{'_id': ObjectId('6321855b63f211e1fb1bc6e2'), 'number': 0}\n",
      "{'_id': ObjectId('6321855b63f211e1fb1bc6e3'), 'number': 1}\n",
      "{'_id': ObjectId('6321855b63f211e1fb1bc6e4'), 'number': 2}\n",
      "{'_id': ObjectId('6321855b63f211e1fb1bc6e5'), 'number': 3}\n",
      "{'_id': ObjectId('6321855b63f211e1fb1bc6e6'), 'number': 4}\n",
      "{'_id': ObjectId('6321855b63f211e1fb1bc6e7'), 'number': 5}\n",
      "{'_id': ObjectId('6321855b63f211e1fb1bc6e8'), 'number': 6}\n",
      "{'_id': ObjectId('6321855b63f211e1fb1bc6e9'), 'number': 7}\n",
      "{'_id': ObjectId('6321855b63f211e1fb1bc6ea'), 'number': 8}\n",
      "{'_id': ObjectId('6321855b63f211e1fb1bc6eb'), 'number': 9}\n",
      "{'_id': ObjectId('63214442032a8ac3e35d7ce1'), 'name': 'fox', 'age': 19}\n",
      "{'_id': ObjectId('63214442032a8ac3e35d7ce0'), 'name': 'muller', 'age': 21}\n",
      "{'_id': ObjectId('6321855b63f211e1fb1bc6dd'), 'name': 'mueller', 'age': 21}\n",
      "{'_id': ObjectId('6321855b63f211e1fb1bc6df'), 'name': 'erick', 'age': 24}\n",
      "{'_id': ObjectId('63214442032a8ac3e35d7cde'), 'name': 'bob', 'age': 25}\n",
      "{'_id': ObjectId('6321855b63f211e1fb1bc6db'), 'name': 'bob', 'age': 25}\n",
      "{'_id': ObjectId('6321855b63f211e1fb1bc6d6'), 'author': 'Tom', 'age': 27}\n",
      "{'_id': ObjectId('63214442032a8ac3e35d7ce2'), 'name': 'eric', 'age': 29}\n",
      "{'_id': ObjectId('6321855b63f211e1fb1bc6de'), 'name': 'fox', 'age': 29}\n",
      "{'_id': ObjectId('63213b16032a8ac3e35d7cda'), 'author': 'Cruise', 'age': 32}\n",
      "{'_id': ObjectId('63214442032a8ac3e35d7cdf'), 'name': 'david', 'age': 32}\n",
      "{'_id': ObjectId('6321855b63f211e1fb1bc6d7'), 'author': 'Cruise', 'age': 32}\n",
      "{'_id': ObjectId('6321855b63f211e1fb1bc6dc'), 'name': 'david', 'age': 32}\n",
      "{'_id': ObjectId('63214442032a8ac3e35d7ce3'), 'name': 'erin', 'age': 34}\n",
      "{'_id': ObjectId('6321855b63f211e1fb1bc6e0'), 'name': 'chan', 'age': 35}\n",
      "{'_id': ObjectId('63214442032a8ac3e35d7ce4'), 'name': 'chan', 'age': 38}\n",
      "{'_id': ObjectId('63213b53032a8ac3e35d7cdb'), 'author': 'Scott', 'age': 42}\n",
      "{'_id': ObjectId('6321855b63f211e1fb1bc6d5'), 'author': 'Paul', 'age': 42}\n",
      "{'_id': ObjectId('6321855b63f211e1fb1bc6d8'), 'author': 'Scott', 'age': 42}\n",
      "{'_id': ObjectId('63213b16032a8ac3e35d7cd9'), 'author': 'Tom', 'age': 47}\n",
      "{'_id': ObjectId('63214ad6032a8ac3e35d7cf0'), 'author': 'Tom', 'text': 'tom posting', 'tags': ['mongoDB', 'crawling', 'machinelearning'], 'age': 47}\n",
      "{'_id': ObjectId('63214442032a8ac3e35d7ce5'), 'name': 'jack', 'age': 50}\n"
     ]
    }
   ],
   "source": [
    "'''\n",
    "collection_test 컬렉션에 있는 document 들을 \n",
    "age 를 기준으로 정렬해서 출력하기\n",
    "sort() 메소드의 argument 로 정렬 기준이 되는 key를 문자열로 넣어줌\n",
    "'''\n",
    "for document in collection_test.find().sort(\"age\"):\n",
    "    print(document)"
   ]
  },
  {
   "cell_type": "markdown",
   "id": "914291ca",
   "metadata": {},
   "source": [
    "### document 수정하기 : update_one() / update_many()\n",
    "- update_one() : 가장 먼저 검색되는 document 하나만 수정함"
   ]
  },
  {
   "cell_type": "code",
   "execution_count": 28,
   "id": "544aab2a",
   "metadata": {},
   "outputs": [
    {
     "data": {
      "text/plain": [
       "{'_id': ObjectId('6321855b63f211e1fb1bc6d4'),\n",
       " 'author': 'John',\n",
       " 'text': 'first posting',\n",
       " 'tags': ['python', 'mongodb', 'pymongo']}"
      ]
     },
     "execution_count": 28,
     "metadata": {},
     "output_type": "execute_result"
    }
   ],
   "source": [
    "collection_test.find_one({\"author\":\"John\"})"
   ]
  },
  {
   "cell_type": "code",
   "execution_count": 29,
   "id": "240a8ab7",
   "metadata": {},
   "outputs": [
    {
     "data": {
      "text/plain": [
       "<pymongo.results.UpdateResult at 0x292b0d294c0>"
      ]
     },
     "execution_count": 29,
     "metadata": {},
     "output_type": "execute_result"
    }
   ],
   "source": [
    "collection_test.update_one(\n",
    "    {\"author\":\"John\"},\n",
    "    {\"$set\":{\"text\":\"second posting\"}}\n",
    ")"
   ]
  },
  {
   "cell_type": "code",
   "execution_count": 30,
   "id": "b5111dd7",
   "metadata": {},
   "outputs": [
    {
     "data": {
      "text/plain": [
       "{'_id': ObjectId('6321855b63f211e1fb1bc6d4'),\n",
       " 'author': 'John',\n",
       " 'text': 'second posting',\n",
       " 'tags': ['python', 'mongodb', 'pymongo']}"
      ]
     },
     "execution_count": 30,
     "metadata": {},
     "output_type": "execute_result"
    }
   ],
   "source": [
    "collection_test.find_one({\"author\":\"John\"})"
   ]
  },
  {
   "cell_type": "markdown",
   "id": "5294fc42",
   "metadata": {},
   "source": [
    "### document 에 새로운 key 추가하기"
   ]
  },
  {
   "cell_type": "code",
   "execution_count": 31,
   "id": "f3e69f19",
   "metadata": {},
   "outputs": [
    {
     "data": {
      "text/plain": [
       "{'_id': ObjectId('6321855b63f211e1fb1bc6d5'), 'author': 'Paul', 'age': 42}"
      ]
     },
     "execution_count": 31,
     "metadata": {},
     "output_type": "execute_result"
    }
   ],
   "source": [
    "collection_test.find_one({\"author\":\"Paul\"})"
   ]
  },
  {
   "cell_type": "code",
   "execution_count": 32,
   "id": "6428540e",
   "metadata": {},
   "outputs": [
    {
     "data": {
      "text/plain": [
       "<pymongo.results.UpdateResult at 0x292b0d0f8b0>"
      ]
     },
     "execution_count": 32,
     "metadata": {},
     "output_type": "execute_result"
    }
   ],
   "source": [
    "collection_test.update_one(\n",
    "    {\"author\":\"Paul\"},\n",
    "    {\"$set\":{\"text\":\"third posting\"}}\n",
    ")"
   ]
  },
  {
   "cell_type": "code",
   "execution_count": 33,
   "id": "5bd105a8",
   "metadata": {},
   "outputs": [
    {
     "data": {
      "text/plain": [
       "{'_id': ObjectId('6321855b63f211e1fb1bc6d5'),\n",
       " 'author': 'Paul',\n",
       " 'age': 42,\n",
       " 'text': 'third posting'}"
      ]
     },
     "execution_count": 33,
     "metadata": {},
     "output_type": "execute_result"
    }
   ],
   "source": [
    "collection_test.find_one({\"author\":\"Paul\"})"
   ]
  },
  {
   "cell_type": "markdown",
   "id": "157f227a",
   "metadata": {},
   "source": [
    "- update_many()"
   ]
  },
  {
   "cell_type": "code",
   "execution_count": 34,
   "id": "184eeb29",
   "metadata": {},
   "outputs": [
    {
     "name": "stdout",
     "output_type": "stream",
     "text": [
      "{'_id': ObjectId('63213b16032a8ac3e35d7cd9'), 'author': 'Tom', 'age': 47}\n",
      "{'_id': ObjectId('63214ad6032a8ac3e35d7cf0'), 'author': 'Tom', 'text': 'tom posting', 'tags': ['mongoDB', 'crawling', 'machinelearning'], 'age': 47}\n",
      "{'_id': ObjectId('6321855b63f211e1fb1bc6d6'), 'author': 'Tom', 'age': 27}\n"
     ]
    }
   ],
   "source": [
    "documents = collection_test.find({\"author\":\"Tom\"})\n",
    "for document in documents:\n",
    "    print(document)"
   ]
  },
  {
   "cell_type": "code",
   "execution_count": 35,
   "id": "1b3cb9cc",
   "metadata": {},
   "outputs": [
    {
     "data": {
      "text/plain": [
       "<pymongo.results.InsertOneResult at 0x292b0d29190>"
      ]
     },
     "execution_count": 35,
     "metadata": {},
     "output_type": "execute_result"
    }
   ],
   "source": [
    "collection_test.insert_one(\n",
    "    {\n",
    "        \"author\":\"Tom\",\n",
    "        \"text\"  : \"tom posting\",\n",
    "        \"tags\"  : [\"mongoDB\", \"crawling\", \"machinelearning\"]\n",
    "    }\n",
    ")"
   ]
  },
  {
   "cell_type": "code",
   "execution_count": 36,
   "id": "4730b3c1",
   "metadata": {},
   "outputs": [
    {
     "name": "stdout",
     "output_type": "stream",
     "text": [
      "{'_id': ObjectId('63213b16032a8ac3e35d7cd9'), 'author': 'Tom', 'age': 47}\n",
      "{'_id': ObjectId('63214ad6032a8ac3e35d7cf0'), 'author': 'Tom', 'text': 'tom posting', 'tags': ['mongoDB', 'crawling', 'machinelearning'], 'age': 47}\n",
      "{'_id': ObjectId('6321855b63f211e1fb1bc6d6'), 'author': 'Tom', 'age': 27}\n",
      "{'_id': ObjectId('6321855b63f211e1fb1bc6ec'), 'author': 'Tom', 'text': 'tom posting', 'tags': ['mongoDB', 'crawling', 'machinelearning']}\n"
     ]
    }
   ],
   "source": [
    "documents = collection_test.find({\"author\":\"Tom\"})\n",
    "for document in documents:\n",
    "    print(document)"
   ]
  },
  {
   "cell_type": "code",
   "execution_count": 37,
   "id": "9988f019",
   "metadata": {},
   "outputs": [
    {
     "data": {
      "text/plain": [
       "<pymongo.results.UpdateResult at 0x292b0d0fac0>"
      ]
     },
     "execution_count": 37,
     "metadata": {},
     "output_type": "execute_result"
    }
   ],
   "source": [
    "collection_test.update_one(\n",
    "    {\"text\":\"tom posting\"},\n",
    "    {\"$set\":{\"age\":25}}\n",
    ")"
   ]
  },
  {
   "cell_type": "code",
   "execution_count": 38,
   "id": "4283c7d4",
   "metadata": {},
   "outputs": [
    {
     "name": "stdout",
     "output_type": "stream",
     "text": [
      "{'_id': ObjectId('63213b16032a8ac3e35d7cd9'), 'author': 'Tom', 'age': 47}\n",
      "{'_id': ObjectId('63214ad6032a8ac3e35d7cf0'), 'author': 'Tom', 'text': 'tom posting', 'tags': ['mongoDB', 'crawling', 'machinelearning'], 'age': 25}\n",
      "{'_id': ObjectId('6321855b63f211e1fb1bc6d6'), 'author': 'Tom', 'age': 27}\n",
      "{'_id': ObjectId('6321855b63f211e1fb1bc6ec'), 'author': 'Tom', 'text': 'tom posting', 'tags': ['mongoDB', 'crawling', 'machinelearning']}\n"
     ]
    }
   ],
   "source": [
    "documents = collection_test.find({\"author\":\"Tom\"})\n",
    "for document in documents:\n",
    "    print(document)"
   ]
  },
  {
   "cell_type": "code",
   "execution_count": 39,
   "id": "dc571480",
   "metadata": {},
   "outputs": [
    {
     "data": {
      "text/plain": [
       "<pymongo.results.UpdateResult at 0x292b0d26340>"
      ]
     },
     "execution_count": 39,
     "metadata": {},
     "output_type": "execute_result"
    }
   ],
   "source": [
    "collection_test.update_one(\n",
    "    {\"author\":\"Tom\"},\n",
    "    {\"$set\" : {\"age\":38}}\n",
    ")"
   ]
  },
  {
   "cell_type": "code",
   "execution_count": 40,
   "id": "d13c6fb0",
   "metadata": {},
   "outputs": [
    {
     "name": "stdout",
     "output_type": "stream",
     "text": [
      "{'_id': ObjectId('63213b16032a8ac3e35d7cd9'), 'author': 'Tom', 'age': 38}\n",
      "{'_id': ObjectId('63214ad6032a8ac3e35d7cf0'), 'author': 'Tom', 'text': 'tom posting', 'tags': ['mongoDB', 'crawling', 'machinelearning'], 'age': 25}\n",
      "{'_id': ObjectId('6321855b63f211e1fb1bc6d6'), 'author': 'Tom', 'age': 27}\n",
      "{'_id': ObjectId('6321855b63f211e1fb1bc6ec'), 'author': 'Tom', 'text': 'tom posting', 'tags': ['mongoDB', 'crawling', 'machinelearning']}\n"
     ]
    }
   ],
   "source": [
    "documents = collection_test.find({\"author\":\"Tom\"})\n",
    "for document in documents:\n",
    "    print(document)"
   ]
  },
  {
   "cell_type": "code",
   "execution_count": 41,
   "id": "3fd2d0c8",
   "metadata": {},
   "outputs": [
    {
     "data": {
      "text/plain": [
       "<pymongo.results.UpdateResult at 0x292b0d2ff40>"
      ]
     },
     "execution_count": 41,
     "metadata": {},
     "output_type": "execute_result"
    }
   ],
   "source": [
    "collection_test.update_many(\n",
    "    {\"author\":\"Tom\"},\n",
    "    {\"$set\":{\"age\":47}}\n",
    ")"
   ]
  },
  {
   "cell_type": "code",
   "execution_count": 42,
   "id": "3a27556a",
   "metadata": {},
   "outputs": [
    {
     "name": "stdout",
     "output_type": "stream",
     "text": [
      "{'_id': ObjectId('63213b16032a8ac3e35d7cd9'), 'author': 'Tom', 'age': 47}\n",
      "{'_id': ObjectId('63214ad6032a8ac3e35d7cf0'), 'author': 'Tom', 'text': 'tom posting', 'tags': ['mongoDB', 'crawling', 'machinelearning'], 'age': 47}\n",
      "{'_id': ObjectId('6321855b63f211e1fb1bc6d6'), 'author': 'Tom', 'age': 47}\n",
      "{'_id': ObjectId('6321855b63f211e1fb1bc6ec'), 'author': 'Tom', 'text': 'tom posting', 'tags': ['mongoDB', 'crawling', 'machinelearning'], 'age': 47}\n"
     ]
    }
   ],
   "source": [
    "documents = collection_test.find({\"author\":\"Tom\"})\n",
    "for document in documents:\n",
    "    print(document)"
   ]
  },
  {
   "cell_type": "code",
   "execution_count": 43,
   "id": "438c899b",
   "metadata": {},
   "outputs": [
    {
     "name": "stdout",
     "output_type": "stream",
     "text": [
      "{'_id': ObjectId('63213991032a8ac3e35d7cd8'), 'author': 'john', 'text': 'first posting', 'tags': ['python', 'mongoDB', 'pymongo']}\n",
      "{'_id': ObjectId('63213b16032a8ac3e35d7cd9'), 'author': 'Tom', 'age': 47}\n",
      "{'_id': ObjectId('63213b16032a8ac3e35d7cda'), 'author': 'Cruise', 'age': 32}\n",
      "{'_id': ObjectId('63213b53032a8ac3e35d7cdb'), 'author': 'Scott', 'age': 42}\n",
      "{'_id': ObjectId('63213d3e032a8ac3e35d7cdc'), 'title': '오징어게임', 'castings': ['이정재', '공유', '이병헌']}\n",
      "{'_id': ObjectId('63213eb2032a8ac3e35d7cdd'), 'title': '오징어게임', 'castings': ['이정재', '공유', '이병헌'], 'datetime': {'year': '2021', 'month': 9, 'letter': {'a': {'b': 111}}}}\n",
      "{'_id': ObjectId('63214442032a8ac3e35d7cde'), 'name': 'bob', 'age': 25}\n",
      "{'_id': ObjectId('63214442032a8ac3e35d7cdf'), 'name': 'david', 'age': 32}\n",
      "{'_id': ObjectId('63214442032a8ac3e35d7ce0'), 'name': 'muller', 'age': 21}\n",
      "{'_id': ObjectId('63214442032a8ac3e35d7ce1'), 'name': 'fox', 'age': 19}\n",
      "{'_id': ObjectId('63214442032a8ac3e35d7ce2'), 'name': 'eric', 'age': 29}\n",
      "{'_id': ObjectId('63214442032a8ac3e35d7ce3'), 'name': 'erin', 'age': 34}\n",
      "{'_id': ObjectId('63214442032a8ac3e35d7ce4'), 'name': 'chan', 'age': 38}\n",
      "{'_id': ObjectId('63214442032a8ac3e35d7ce5'), 'name': 'jack', 'age': 50}\n",
      "{'_id': ObjectId('632144bd032a8ac3e35d7ce6'), 'number': 0}\n",
      "{'_id': ObjectId('632144bd032a8ac3e35d7ce7'), 'number': 1}\n",
      "{'_id': ObjectId('632144bd032a8ac3e35d7ce8'), 'number': 2}\n",
      "{'_id': ObjectId('632144bd032a8ac3e35d7ce9'), 'number': 3}\n",
      "{'_id': ObjectId('632144bd032a8ac3e35d7cea'), 'number': 4}\n",
      "{'_id': ObjectId('632144bd032a8ac3e35d7ceb'), 'number': 5}\n",
      "{'_id': ObjectId('632144bd032a8ac3e35d7cec'), 'number': 6}\n",
      "{'_id': ObjectId('632144bd032a8ac3e35d7ced'), 'number': 7}\n",
      "{'_id': ObjectId('632144bd032a8ac3e35d7cee'), 'number': 8}\n",
      "{'_id': ObjectId('632144bd032a8ac3e35d7cef'), 'number': 9}\n",
      "{'_id': ObjectId('63214ad6032a8ac3e35d7cf0'), 'author': 'Tom', 'text': 'tom posting', 'tags': ['mongoDB', 'crawling', 'machinelearning'], 'age': 47}\n",
      "{'_id': ObjectId('6321855b63f211e1fb1bc6d4'), 'author': 'John', 'text': 'second posting', 'tags': ['python', 'mongodb', 'pymongo']}\n",
      "{'_id': ObjectId('6321855b63f211e1fb1bc6d5'), 'author': 'Paul', 'age': 42, 'text': 'third posting'}\n",
      "{'_id': ObjectId('6321855b63f211e1fb1bc6d6'), 'author': 'Tom', 'age': 47}\n",
      "{'_id': ObjectId('6321855b63f211e1fb1bc6d7'), 'author': 'Cruise', 'age': 32}\n",
      "{'_id': ObjectId('6321855b63f211e1fb1bc6d8'), 'author': 'Scott', 'age': 42}\n",
      "{'_id': ObjectId('6321855b63f211e1fb1bc6d9'), 'title': '오징어게임', 'castings': ['이정재', '공유', '이병헌']}\n",
      "{'_id': ObjectId('6321855b63f211e1fb1bc6da'), 'title': '오징어게임', 'castings': ['이정재', '공유', '이병헌'], 'datetime': {'year': '2021', 'month': 9, 'letter': {'a': {'b': 111}}}}\n",
      "{'_id': ObjectId('6321855b63f211e1fb1bc6db'), 'name': 'bob', 'age': 25}\n",
      "{'_id': ObjectId('6321855b63f211e1fb1bc6dc'), 'name': 'david', 'age': 32}\n",
      "{'_id': ObjectId('6321855b63f211e1fb1bc6dd'), 'name': 'mueller', 'age': 21}\n",
      "{'_id': ObjectId('6321855b63f211e1fb1bc6de'), 'name': 'fox', 'age': 29}\n",
      "{'_id': ObjectId('6321855b63f211e1fb1bc6df'), 'name': 'erick', 'age': 24}\n",
      "{'_id': ObjectId('6321855b63f211e1fb1bc6e0'), 'name': 'chan', 'age': 35}\n",
      "{'_id': ObjectId('6321855b63f211e1fb1bc6e1'), 'name': 'jack'}\n",
      "{'_id': ObjectId('6321855b63f211e1fb1bc6e2'), 'number': 0}\n",
      "{'_id': ObjectId('6321855b63f211e1fb1bc6e3'), 'number': 1}\n",
      "{'_id': ObjectId('6321855b63f211e1fb1bc6e4'), 'number': 2}\n",
      "{'_id': ObjectId('6321855b63f211e1fb1bc6e5'), 'number': 3}\n",
      "{'_id': ObjectId('6321855b63f211e1fb1bc6e6'), 'number': 4}\n",
      "{'_id': ObjectId('6321855b63f211e1fb1bc6e7'), 'number': 5}\n",
      "{'_id': ObjectId('6321855b63f211e1fb1bc6e8'), 'number': 6}\n",
      "{'_id': ObjectId('6321855b63f211e1fb1bc6e9'), 'number': 7}\n",
      "{'_id': ObjectId('6321855b63f211e1fb1bc6ea'), 'number': 8}\n",
      "{'_id': ObjectId('6321855b63f211e1fb1bc6eb'), 'number': 9}\n",
      "{'_id': ObjectId('6321855b63f211e1fb1bc6ec'), 'author': 'Tom', 'text': 'tom posting', 'tags': ['mongoDB', 'crawling', 'machinelearning'], 'age': 47}\n"
     ]
    }
   ],
   "source": [
    "documents = collection_test.find({})\n",
    "for document in documents:\n",
    "    print(document)"
   ]
  },
  {
   "cell_type": "markdown",
   "id": "f0293bcc",
   "metadata": {},
   "source": [
    "### document 삭제하기 : delete_one() / delete_many()"
   ]
  },
  {
   "cell_type": "code",
   "execution_count": 44,
   "id": "1c40e64b",
   "metadata": {},
   "outputs": [
    {
     "data": {
      "text/plain": [
       "<pymongo.results.DeleteResult at 0x292af06d160>"
      ]
     },
     "execution_count": 44,
     "metadata": {},
     "output_type": "execute_result"
    }
   ],
   "source": [
    "collection_test.delete_one({\"name\":\"david\"})"
   ]
  },
  {
   "cell_type": "code",
   "execution_count": 45,
   "id": "96be44c5",
   "metadata": {},
   "outputs": [
    {
     "name": "stdout",
     "output_type": "stream",
     "text": [
      "{'_id': ObjectId('63213991032a8ac3e35d7cd8'), 'author': 'john', 'text': 'first posting', 'tags': ['python', 'mongoDB', 'pymongo']}\n",
      "{'_id': ObjectId('63213b16032a8ac3e35d7cd9'), 'author': 'Tom', 'age': 47}\n",
      "{'_id': ObjectId('63213b16032a8ac3e35d7cda'), 'author': 'Cruise', 'age': 32}\n",
      "{'_id': ObjectId('63213b53032a8ac3e35d7cdb'), 'author': 'Scott', 'age': 42}\n",
      "{'_id': ObjectId('63213d3e032a8ac3e35d7cdc'), 'title': '오징어게임', 'castings': ['이정재', '공유', '이병헌']}\n",
      "{'_id': ObjectId('63213eb2032a8ac3e35d7cdd'), 'title': '오징어게임', 'castings': ['이정재', '공유', '이병헌'], 'datetime': {'year': '2021', 'month': 9, 'letter': {'a': {'b': 111}}}}\n",
      "{'_id': ObjectId('63214442032a8ac3e35d7cde'), 'name': 'bob', 'age': 25}\n",
      "{'_id': ObjectId('63214442032a8ac3e35d7ce0'), 'name': 'muller', 'age': 21}\n",
      "{'_id': ObjectId('63214442032a8ac3e35d7ce1'), 'name': 'fox', 'age': 19}\n",
      "{'_id': ObjectId('63214442032a8ac3e35d7ce2'), 'name': 'eric', 'age': 29}\n",
      "{'_id': ObjectId('63214442032a8ac3e35d7ce3'), 'name': 'erin', 'age': 34}\n",
      "{'_id': ObjectId('63214442032a8ac3e35d7ce4'), 'name': 'chan', 'age': 38}\n",
      "{'_id': ObjectId('63214442032a8ac3e35d7ce5'), 'name': 'jack', 'age': 50}\n",
      "{'_id': ObjectId('632144bd032a8ac3e35d7ce6'), 'number': 0}\n",
      "{'_id': ObjectId('632144bd032a8ac3e35d7ce7'), 'number': 1}\n",
      "{'_id': ObjectId('632144bd032a8ac3e35d7ce8'), 'number': 2}\n",
      "{'_id': ObjectId('632144bd032a8ac3e35d7ce9'), 'number': 3}\n",
      "{'_id': ObjectId('632144bd032a8ac3e35d7cea'), 'number': 4}\n",
      "{'_id': ObjectId('632144bd032a8ac3e35d7ceb'), 'number': 5}\n",
      "{'_id': ObjectId('632144bd032a8ac3e35d7cec'), 'number': 6}\n",
      "{'_id': ObjectId('632144bd032a8ac3e35d7ced'), 'number': 7}\n",
      "{'_id': ObjectId('632144bd032a8ac3e35d7cee'), 'number': 8}\n",
      "{'_id': ObjectId('632144bd032a8ac3e35d7cef'), 'number': 9}\n",
      "{'_id': ObjectId('63214ad6032a8ac3e35d7cf0'), 'author': 'Tom', 'text': 'tom posting', 'tags': ['mongoDB', 'crawling', 'machinelearning'], 'age': 47}\n",
      "{'_id': ObjectId('6321855b63f211e1fb1bc6d4'), 'author': 'John', 'text': 'second posting', 'tags': ['python', 'mongodb', 'pymongo']}\n",
      "{'_id': ObjectId('6321855b63f211e1fb1bc6d5'), 'author': 'Paul', 'age': 42, 'text': 'third posting'}\n",
      "{'_id': ObjectId('6321855b63f211e1fb1bc6d6'), 'author': 'Tom', 'age': 47}\n",
      "{'_id': ObjectId('6321855b63f211e1fb1bc6d7'), 'author': 'Cruise', 'age': 32}\n",
      "{'_id': ObjectId('6321855b63f211e1fb1bc6d8'), 'author': 'Scott', 'age': 42}\n",
      "{'_id': ObjectId('6321855b63f211e1fb1bc6d9'), 'title': '오징어게임', 'castings': ['이정재', '공유', '이병헌']}\n",
      "{'_id': ObjectId('6321855b63f211e1fb1bc6da'), 'title': '오징어게임', 'castings': ['이정재', '공유', '이병헌'], 'datetime': {'year': '2021', 'month': 9, 'letter': {'a': {'b': 111}}}}\n",
      "{'_id': ObjectId('6321855b63f211e1fb1bc6db'), 'name': 'bob', 'age': 25}\n",
      "{'_id': ObjectId('6321855b63f211e1fb1bc6dc'), 'name': 'david', 'age': 32}\n",
      "{'_id': ObjectId('6321855b63f211e1fb1bc6dd'), 'name': 'mueller', 'age': 21}\n",
      "{'_id': ObjectId('6321855b63f211e1fb1bc6de'), 'name': 'fox', 'age': 29}\n",
      "{'_id': ObjectId('6321855b63f211e1fb1bc6df'), 'name': 'erick', 'age': 24}\n",
      "{'_id': ObjectId('6321855b63f211e1fb1bc6e0'), 'name': 'chan', 'age': 35}\n",
      "{'_id': ObjectId('6321855b63f211e1fb1bc6e1'), 'name': 'jack'}\n",
      "{'_id': ObjectId('6321855b63f211e1fb1bc6e2'), 'number': 0}\n",
      "{'_id': ObjectId('6321855b63f211e1fb1bc6e3'), 'number': 1}\n",
      "{'_id': ObjectId('6321855b63f211e1fb1bc6e4'), 'number': 2}\n",
      "{'_id': ObjectId('6321855b63f211e1fb1bc6e5'), 'number': 3}\n",
      "{'_id': ObjectId('6321855b63f211e1fb1bc6e6'), 'number': 4}\n",
      "{'_id': ObjectId('6321855b63f211e1fb1bc6e7'), 'number': 5}\n",
      "{'_id': ObjectId('6321855b63f211e1fb1bc6e8'), 'number': 6}\n",
      "{'_id': ObjectId('6321855b63f211e1fb1bc6e9'), 'number': 7}\n",
      "{'_id': ObjectId('6321855b63f211e1fb1bc6ea'), 'number': 8}\n",
      "{'_id': ObjectId('6321855b63f211e1fb1bc6eb'), 'number': 9}\n",
      "{'_id': ObjectId('6321855b63f211e1fb1bc6ec'), 'author': 'Tom', 'text': 'tom posting', 'tags': ['mongoDB', 'crawling', 'machinelearning'], 'age': 47}\n"
     ]
    }
   ],
   "source": [
    "documents = collection_test.find({})\n",
    "for document in documents:\n",
    "    print(document)"
   ]
  },
  {
   "cell_type": "code",
   "execution_count": 46,
   "id": "adc97769",
   "metadata": {},
   "outputs": [
    {
     "data": {
      "text/plain": [
       "<pymongo.results.DeleteResult at 0x292b0cd8ee0>"
      ]
     },
     "execution_count": 46,
     "metadata": {},
     "output_type": "execute_result"
    }
   ],
   "source": [
    "collection_test.delete_many({\"name\":\"mueller\"})"
   ]
  },
  {
   "cell_type": "code",
   "execution_count": 47,
   "id": "6ae90a95",
   "metadata": {},
   "outputs": [
    {
     "name": "stdout",
     "output_type": "stream",
     "text": [
      "{'_id': ObjectId('63213991032a8ac3e35d7cd8'), 'author': 'john', 'text': 'first posting', 'tags': ['python', 'mongoDB', 'pymongo']}\n",
      "{'_id': ObjectId('63213b16032a8ac3e35d7cd9'), 'author': 'Tom', 'age': 47}\n",
      "{'_id': ObjectId('63213b16032a8ac3e35d7cda'), 'author': 'Cruise', 'age': 32}\n",
      "{'_id': ObjectId('63213b53032a8ac3e35d7cdb'), 'author': 'Scott', 'age': 42}\n",
      "{'_id': ObjectId('63213d3e032a8ac3e35d7cdc'), 'title': '오징어게임', 'castings': ['이정재', '공유', '이병헌']}\n",
      "{'_id': ObjectId('63213eb2032a8ac3e35d7cdd'), 'title': '오징어게임', 'castings': ['이정재', '공유', '이병헌'], 'datetime': {'year': '2021', 'month': 9, 'letter': {'a': {'b': 111}}}}\n",
      "{'_id': ObjectId('63214442032a8ac3e35d7cde'), 'name': 'bob', 'age': 25}\n",
      "{'_id': ObjectId('63214442032a8ac3e35d7ce0'), 'name': 'muller', 'age': 21}\n",
      "{'_id': ObjectId('63214442032a8ac3e35d7ce1'), 'name': 'fox', 'age': 19}\n",
      "{'_id': ObjectId('63214442032a8ac3e35d7ce2'), 'name': 'eric', 'age': 29}\n",
      "{'_id': ObjectId('63214442032a8ac3e35d7ce3'), 'name': 'erin', 'age': 34}\n",
      "{'_id': ObjectId('63214442032a8ac3e35d7ce4'), 'name': 'chan', 'age': 38}\n",
      "{'_id': ObjectId('63214442032a8ac3e35d7ce5'), 'name': 'jack', 'age': 50}\n",
      "{'_id': ObjectId('632144bd032a8ac3e35d7ce6'), 'number': 0}\n",
      "{'_id': ObjectId('632144bd032a8ac3e35d7ce7'), 'number': 1}\n",
      "{'_id': ObjectId('632144bd032a8ac3e35d7ce8'), 'number': 2}\n",
      "{'_id': ObjectId('632144bd032a8ac3e35d7ce9'), 'number': 3}\n",
      "{'_id': ObjectId('632144bd032a8ac3e35d7cea'), 'number': 4}\n",
      "{'_id': ObjectId('632144bd032a8ac3e35d7ceb'), 'number': 5}\n",
      "{'_id': ObjectId('632144bd032a8ac3e35d7cec'), 'number': 6}\n",
      "{'_id': ObjectId('632144bd032a8ac3e35d7ced'), 'number': 7}\n",
      "{'_id': ObjectId('632144bd032a8ac3e35d7cee'), 'number': 8}\n",
      "{'_id': ObjectId('632144bd032a8ac3e35d7cef'), 'number': 9}\n",
      "{'_id': ObjectId('63214ad6032a8ac3e35d7cf0'), 'author': 'Tom', 'text': 'tom posting', 'tags': ['mongoDB', 'crawling', 'machinelearning'], 'age': 47}\n",
      "{'_id': ObjectId('6321855b63f211e1fb1bc6d4'), 'author': 'John', 'text': 'second posting', 'tags': ['python', 'mongodb', 'pymongo']}\n",
      "{'_id': ObjectId('6321855b63f211e1fb1bc6d5'), 'author': 'Paul', 'age': 42, 'text': 'third posting'}\n",
      "{'_id': ObjectId('6321855b63f211e1fb1bc6d6'), 'author': 'Tom', 'age': 47}\n",
      "{'_id': ObjectId('6321855b63f211e1fb1bc6d7'), 'author': 'Cruise', 'age': 32}\n",
      "{'_id': ObjectId('6321855b63f211e1fb1bc6d8'), 'author': 'Scott', 'age': 42}\n",
      "{'_id': ObjectId('6321855b63f211e1fb1bc6d9'), 'title': '오징어게임', 'castings': ['이정재', '공유', '이병헌']}\n",
      "{'_id': ObjectId('6321855b63f211e1fb1bc6da'), 'title': '오징어게임', 'castings': ['이정재', '공유', '이병헌'], 'datetime': {'year': '2021', 'month': 9, 'letter': {'a': {'b': 111}}}}\n",
      "{'_id': ObjectId('6321855b63f211e1fb1bc6db'), 'name': 'bob', 'age': 25}\n",
      "{'_id': ObjectId('6321855b63f211e1fb1bc6dc'), 'name': 'david', 'age': 32}\n",
      "{'_id': ObjectId('6321855b63f211e1fb1bc6de'), 'name': 'fox', 'age': 29}\n",
      "{'_id': ObjectId('6321855b63f211e1fb1bc6df'), 'name': 'erick', 'age': 24}\n",
      "{'_id': ObjectId('6321855b63f211e1fb1bc6e0'), 'name': 'chan', 'age': 35}\n",
      "{'_id': ObjectId('6321855b63f211e1fb1bc6e1'), 'name': 'jack'}\n",
      "{'_id': ObjectId('6321855b63f211e1fb1bc6e2'), 'number': 0}\n",
      "{'_id': ObjectId('6321855b63f211e1fb1bc6e3'), 'number': 1}\n",
      "{'_id': ObjectId('6321855b63f211e1fb1bc6e4'), 'number': 2}\n",
      "{'_id': ObjectId('6321855b63f211e1fb1bc6e5'), 'number': 3}\n",
      "{'_id': ObjectId('6321855b63f211e1fb1bc6e6'), 'number': 4}\n",
      "{'_id': ObjectId('6321855b63f211e1fb1bc6e7'), 'number': 5}\n",
      "{'_id': ObjectId('6321855b63f211e1fb1bc6e8'), 'number': 6}\n",
      "{'_id': ObjectId('6321855b63f211e1fb1bc6e9'), 'number': 7}\n",
      "{'_id': ObjectId('6321855b63f211e1fb1bc6ea'), 'number': 8}\n",
      "{'_id': ObjectId('6321855b63f211e1fb1bc6eb'), 'number': 9}\n",
      "{'_id': ObjectId('6321855b63f211e1fb1bc6ec'), 'author': 'Tom', 'text': 'tom posting', 'tags': ['mongoDB', 'crawling', 'machinelearning'], 'age': 47}\n"
     ]
    }
   ],
   "source": [
    "documents = collection_test.find({})\n",
    "for document in documents:\n",
    "    print(document)"
   ]
  },
  {
   "cell_type": "code",
   "execution_count": 48,
   "id": "ad1aa49d",
   "metadata": {},
   "outputs": [
    {
     "data": {
      "text/plain": [
       "<pymongo.cursor.Cursor at 0x292b0d2f8e0>"
      ]
     },
     "execution_count": 48,
     "metadata": {},
     "output_type": "execute_result"
    }
   ],
   "source": [
    "collection_test.find({\"name\":\"mueller\"})"
   ]
  },
  {
   "cell_type": "code",
   "execution_count": 49,
   "id": "723db4db",
   "metadata": {},
   "outputs": [],
   "source": [
    "collection_test.find_one({\"name\":\"mueller\"})"
   ]
  },
  {
   "cell_type": "code",
   "execution_count": 50,
   "id": "555f0966",
   "metadata": {},
   "outputs": [
    {
     "data": {
      "text/plain": [
       "0"
      ]
     },
     "execution_count": 50,
     "metadata": {},
     "output_type": "execute_result"
    }
   ],
   "source": [
    "collection_test.count_documents({\"name\":\"mueller\"})"
   ]
  },
  {
   "cell_type": "code",
   "execution_count": null,
   "id": "8c87dca5-5235-4153-b307-f659a5a0f282",
   "metadata": {},
   "outputs": [],
   "source": []
  }
 ],
 "metadata": {
  "kernelspec": {
   "display_name": "Python 3 (ipykernel)",
   "language": "python",
   "name": "python3"
  },
  "language_info": {
   "codemirror_mode": {
    "name": "ipython",
    "version": 3
   },
   "file_extension": ".py",
   "mimetype": "text/x-python",
   "name": "python",
   "nbconvert_exporter": "python",
   "pygments_lexer": "ipython3",
   "version": "3.9.12"
  }
 },
 "nbformat": 4,
 "nbformat_minor": 5
}
