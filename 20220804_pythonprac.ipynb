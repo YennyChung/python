{
 "cells": [
  {
   "cell_type": "markdown",
   "id": "06329abd-4b54-445e-83aa-75663e73fda1",
   "metadata": {},
   "source": [
    "- while문 break continue"
   ]
  },
  {
   "cell_type": "markdown",
   "id": "72bd5eef-6b57-4278-bd3b-1c7697380591",
   "metadata": {},
   "source": [
    "- enumerate(); index와 name 같이 출력"
   ]
  },
  {
   "cell_type": "code",
   "execution_count": 1,
   "id": "1e723112-f0e0-496d-a952-5a93212ba04a",
   "metadata": {},
   "outputs": [
    {
     "name": "stdout",
     "output_type": "stream",
     "text": [
      "0 A\n",
      "1 B\n",
      "2 C\n"
     ]
    }
   ],
   "source": [
    "names = ['A', 'B', 'C']\n",
    "\n",
    "for x, name in enumerate(names):\n",
    "    print(x, name)\n"
   ]
  },
  {
   "cell_type": "markdown",
   "id": "28f6a4cf-f2de-4c19-908c-746f8230b573",
   "metadata": {},
   "source": [
    "- zip(); 리스트에 들어간 순서쌍 별로 출력"
   ]
  },
  {
   "cell_type": "code",
   "execution_count": 50,
   "id": "bd9789de-117f-4943-9b35-b7966efc601f",
   "metadata": {},
   "outputs": [
    {
     "name": "stdout",
     "output_type": "stream",
     "text": [
      "A 80\n",
      "B 90\n",
      "C 70\n"
     ]
    }
   ],
   "source": [
    "scores = [80, 90, 70]\n",
    "\n",
    "for i, j in zip(names, scores):\n",
    "    print(i, j)"
   ]
  },
  {
   "cell_type": "markdown",
   "id": "4711b9a7-fd29-4b1b-b5f6-7abf645f77d5",
   "metadata": {},
   "source": [
    "- for문; 다중 색인 반환"
   ]
  },
  {
   "cell_type": "markdown",
   "id": "3ef400d3-ab42-4ac1-9555-4a4cca773cb1",
   "metadata": {},
   "source": [
    "enumerate()와 zip() 함께 사용"
   ]
  },
  {
   "cell_type": "code",
   "execution_count": 3,
   "id": "b43aa549-f007-40d4-bfc5-91022c9e8574",
   "metadata": {},
   "outputs": [],
   "source": [
    "data1 = ['Python', '0101', 'Yi', 'X']\n",
    "data2 = ['Matlab', '0070', \"Lee\", \"Y\"]"
   ]
  },
  {
   "cell_type": "code",
   "execution_count": 4,
   "id": "dcd0bf88-0bf3-4972-b52a-814969319545",
   "metadata": {},
   "outputs": [
    {
     "name": "stdout",
     "output_type": "stream",
     "text": [
      "0 Python Matlab\n",
      "1 0101 0070\n",
      "2 Yi Lee\n",
      "3 X Y\n"
     ]
    }
   ],
   "source": [
    "for i, (datnum1, datnum2) in enumerate(zip(data1, data2)):\n",
    "    print(i, datnum1, datnum2)"
   ]
  },
  {
   "cell_type": "markdown",
   "id": "174e9d65-d88d-4247-b1d5-664bed74dcda",
   "metadata": {},
   "source": [
    "- for문 루프 제어변수의 익명화 (_ 사용)"
   ]
  },
  {
   "cell_type": "code",
   "execution_count": 9,
   "id": "aa800c79-de36-4d96-aa66-20e7b0116fcd",
   "metadata": {},
   "outputs": [
    {
     "name": "stdout",
     "output_type": "stream",
     "text": [
      "Welcome to Python\n",
      "Welcome to Python\n",
      "Welcome to Python\n",
      "Welcome to Python\n",
      "Welcome to Python\n",
      "Welcome to Python\n",
      "Welcome to Python\n",
      "Welcome to Python\n",
      "Welcome to Python\n",
      "Welcome to Python\n"
     ]
    }
   ],
   "source": [
    "for _ in range(10):\n",
    "    print('Welcome to Python')"
   ]
  },
  {
   "cell_type": "code",
   "execution_count": 11,
   "id": "bbe7d2a8-0173-444b-9da8-911ab07a1ee6",
   "metadata": {},
   "outputs": [
    {
     "name": "stdout",
     "output_type": "stream",
     "text": [
      "0 Welcome\n",
      "1 Welcome\n",
      "2 Welcome\n",
      "3 Welcome\n",
      "4 Welcome\n",
      "5 Welcome\n",
      "6 Welcome\n",
      "7 Welcome\n",
      "8 Welcome\n",
      "9 Welcome\n"
     ]
    }
   ],
   "source": [
    "for x in range(10):\n",
    "    print(x, 'Welcome')"
   ]
  },
  {
   "cell_type": "markdown",
   "id": "627b23ba-fe78-43a4-9c35-b8145bd8e9e0",
   "metadata": {},
   "source": [
    "- while문과 for문 비교; </br>\n",
    "while문은 수행횟수는 정확히 모르지만, 수행의 조건이 명확할 때 더 적합 </br>\n",
    "for문은 반복횟수가 명확한 경우에 더 적합 </br>"
   ]
  },
  {
   "cell_type": "code",
   "execution_count": 14,
   "id": "1d659145-c8c7-4c1a-9f8e-7e5973ae6d0a",
   "metadata": {},
   "outputs": [
    {
     "name": "stdout",
     "output_type": "stream",
     "text": [
      "2\n"
     ]
    }
   ],
   "source": [
    "s = 0\n",
    "i = 1\n",
    "n = 1\n",
    "while i <= n:\n",
    "    s += i\n",
    "    i += 1\n",
    "print(i)"
   ]
  },
  {
   "cell_type": "markdown",
   "id": "eff1850a-80dd-439a-8e90-d4d7f31f8a0d",
   "metadata": {},
   "source": [
    "- 리스트 내포 (list comprehension)"
   ]
  },
  {
   "cell_type": "code",
   "execution_count": 16,
   "id": "af728e91-c146-470e-a628-1944ce6853d0",
   "metadata": {},
   "outputs": [
    {
     "name": "stdout",
     "output_type": "stream",
     "text": [
      "[3, 9, 12, 15]\n"
     ]
    }
   ],
   "source": [
    "a = [1, 3, 4, 5]\n",
    "result = [num * 3 for num in a]\n",
    "print(result)"
   ]
  },
  {
   "cell_type": "code",
   "execution_count": 17,
   "id": "c0c1e6be-00a2-443d-b257-3f878f099961",
   "metadata": {},
   "outputs": [
    {
     "name": "stdout",
     "output_type": "stream",
     "text": [
      "[4, 12, 16, 20]\n"
     ]
    }
   ],
   "source": [
    "result1 = [number1 * 4 for number1 in a]\n",
    "print(result1)"
   ]
  },
  {
   "cell_type": "markdown",
   "id": "84774955-f516-424a-9609-add361679da5",
   "metadata": {},
   "source": [
    "리스트 내포의 일반적인 문법: [표현식 for 항목 in 반복가능객체 if 조건]"
   ]
  },
  {
   "cell_type": "code",
   "execution_count": 18,
   "id": "25a90d83-5779-4894-8e7c-2d8b30cf47bb",
   "metadata": {},
   "outputs": [
    {
     "name": "stdout",
     "output_type": "stream",
     "text": [
      "[12]\n"
     ]
    }
   ],
   "source": [
    "result2 = [number2 * 3 for number2 in a if number2 % 2 == 0]\n",
    "print(result2)"
   ]
  },
  {
   "cell_type": "code",
   "execution_count": 19,
   "id": "806bb196-e552-4ece-aa7a-eb54809abc90",
   "metadata": {},
   "outputs": [],
   "source": [
    "result3 = [num1*num2 for num1 in range(2,10)\n",
    "           for num2 in range(1,10)]"
   ]
  },
  {
   "cell_type": "code",
   "execution_count": 20,
   "id": "02a26e82-7b8e-4303-908c-672e47725a78",
   "metadata": {},
   "outputs": [
    {
     "name": "stdout",
     "output_type": "stream",
     "text": [
      "[2, 4, 6, 8, 10, 12, 14, 16, 18, 3, 6, 9, 12, 15, 18, 21, 24, 27, 4, 8, 12, 16, 20, 24, 28, 32, 36, 5, 10, 15, 20, 25, 30, 35, 40, 45, 6, 12, 18, 24, 30, 36, 42, 48, 54, 7, 14, 21, 28, 35, 42, 49, 56, 63, 8, 16, 24, 32, 40, 48, 56, 64, 72, 9, 18, 27, 36, 45, 54, 63, 72, 81]\n"
     ]
    }
   ],
   "source": [
    "print(result3)"
   ]
  },
  {
   "cell_type": "markdown",
   "id": "be84150d-82dc-43e5-81f5-691f9d3ec2e4",
   "metadata": {},
   "source": [
    "문제 1"
   ]
  },
  {
   "cell_type": "code",
   "execution_count": 21,
   "id": "28fd0af0-9354-4fe7-bdca-c42e775bffda",
   "metadata": {
    "collapsed": true,
    "jupyter": {
     "outputs_hidden": true
    },
    "tags": []
   },
   "outputs": [
    {
     "name": "stdout",
     "output_type": "stream",
     "text": [
      "1\n",
      "2\n",
      "3\n",
      "4\n",
      "5\n",
      "6\n",
      "7\n",
      "8\n",
      "9\n",
      "10\n",
      "11\n",
      "12\n",
      "13\n",
      "14\n",
      "15\n",
      "16\n",
      "17\n",
      "18\n",
      "19\n",
      "20\n",
      "21\n",
      "22\n",
      "23\n",
      "24\n",
      "25\n",
      "26\n",
      "27\n",
      "28\n",
      "29\n",
      "30\n",
      "31\n",
      "32\n",
      "33\n",
      "34\n",
      "35\n",
      "36\n",
      "37\n",
      "38\n",
      "39\n",
      "40\n",
      "41\n",
      "42\n",
      "43\n",
      "44\n",
      "45\n",
      "46\n",
      "47\n",
      "48\n",
      "49\n",
      "50\n",
      "51\n",
      "52\n",
      "53\n",
      "54\n",
      "55\n",
      "56\n",
      "57\n",
      "58\n",
      "59\n",
      "60\n",
      "61\n",
      "62\n",
      "63\n",
      "64\n",
      "65\n",
      "66\n",
      "67\n",
      "68\n",
      "69\n",
      "70\n",
      "71\n",
      "72\n",
      "73\n",
      "74\n",
      "75\n",
      "76\n",
      "77\n",
      "78\n",
      "79\n",
      "80\n",
      "81\n",
      "82\n",
      "83\n",
      "84\n",
      "85\n",
      "86\n",
      "87\n",
      "88\n",
      "89\n",
      "90\n",
      "91\n",
      "92\n",
      "93\n",
      "94\n",
      "95\n",
      "96\n",
      "97\n",
      "98\n",
      "99\n",
      "100\n"
     ]
    }
   ],
   "source": [
    "for i in range(1,101):\n",
    "    print(i)"
   ]
  },
  {
   "cell_type": "markdown",
   "id": "e31d00a4-8199-4b6a-8c55-8cab9e954932",
   "metadata": {},
   "source": [
    "문제 2"
   ]
  },
  {
   "cell_type": "code",
   "execution_count": 25,
   "id": "83599960-bf23-4757-a224-38407ed562a7",
   "metadata": {},
   "outputs": [
    {
     "ename": "SyntaxError",
     "evalue": "invalid syntax (1852477648.py, line 1)",
     "output_type": "error",
     "traceback": [
      "\u001b[1;36m  Input \u001b[1;32mIn [25]\u001b[1;36m\u001b[0m\n\u001b[1;33m    for i in range(1,1001) and if i % 5:\u001b[0m\n\u001b[1;37m                               ^\u001b[0m\n\u001b[1;31mSyntaxError\u001b[0m\u001b[1;31m:\u001b[0m invalid syntax\n"
     ]
    }
   ],
   "source": [
    "for i in range(1,1001) and if i % 5 == 0"
   ]
  },
  {
   "cell_type": "code",
   "execution_count": 36,
   "id": "5170e2c3-0929-48cd-a660-93821a1adb4a",
   "metadata": {},
   "outputs": [
    {
     "name": "stdout",
     "output_type": "stream",
     "text": [
      "100500\n"
     ]
    }
   ],
   "source": [
    "sum1 = 0  # 구하려고 하는 값은 무조건 초기화시킴\n",
    "for i in range(1,1001):\n",
    "    if i % 5 == 0:\n",
    "        sum1 += i\n",
    "print(sum1)"
   ]
  },
  {
   "cell_type": "markdown",
   "id": "fb2f9c54-581a-4368-acd0-2f6b254c0f16",
   "metadata": {},
   "source": [
    "문제 3"
   ]
  },
  {
   "cell_type": "code",
   "execution_count": 28,
   "id": "ae99c9ee-8f77-4f11-99bb-e14f4cf4c508",
   "metadata": {},
   "outputs": [
    {
     "ename": "TypeError",
     "evalue": "unsupported operand type(s) for +=: 'int' and 'list'",
     "output_type": "error",
     "traceback": [
      "\u001b[1;31m---------------------------------------------------------------------------\u001b[0m",
      "\u001b[1;31mTypeError\u001b[0m                                 Traceback (most recent call last)",
      "Input \u001b[1;32mIn [28]\u001b[0m, in \u001b[0;36m<cell line: 4>\u001b[1;34m()\u001b[0m\n\u001b[0;32m      2\u001b[0m num \u001b[38;5;241m=\u001b[39m A\n\u001b[0;32m      3\u001b[0m \u001b[38;5;28msum\u001b[39m \u001b[38;5;241m=\u001b[39m \u001b[38;5;241m0\u001b[39m\n\u001b[1;32m----> 4\u001b[0m \u001b[38;5;28msum\u001b[39m \u001b[38;5;241m+\u001b[39m\u001b[38;5;241m=\u001b[39m num\n\u001b[0;32m      5\u001b[0m \u001b[38;5;28;01mfor\u001b[39;00m num \u001b[38;5;129;01min\u001b[39;00m A:\n\u001b[0;32m      6\u001b[0m     \u001b[38;5;28mprint\u001b[39m(\u001b[38;5;28msum\u001b[39m)\n",
      "\u001b[1;31mTypeError\u001b[0m: unsupported operand type(s) for +=: 'int' and 'list'"
     ]
    }
   ],
   "source": [
    "A = [70, 60, 55, 75, 95, 90, 80, 80, 85, 100]\n",
    "num = A\n",
    "sum = 0\n",
    "sum += num\n",
    "for num in A:\n",
    "    print(sum)"
   ]
  },
  {
   "cell_type": "code",
   "execution_count": 37,
   "id": "43c6be2d-7c88-4cf5-80b7-51bfbf694796",
   "metadata": {},
   "outputs": [
    {
     "name": "stdout",
     "output_type": "stream",
     "text": [
      "790\n"
     ]
    }
   ],
   "source": [
    "sum2 = 0\n",
    "for i in A:\n",
    "    sum2 += i\n",
    "average = sum2/len(A)\n",
    "print(sum2)"
   ]
  },
  {
   "cell_type": "markdown",
   "id": "90b0403f-d28f-4664-bfec-01d118e33352",
   "metadata": {},
   "source": [
    "문제 4"
   ]
  },
  {
   "cell_type": "code",
   "execution_count": 43,
   "id": "87b0029f-a411-48d4-a3cf-fb8f733840b5",
   "metadata": {},
   "outputs": [],
   "source": [
    "students = ['A', 'B', 'A', 'O', 'AB', 'AB', 'O', 'A', 'B', 'O', 'B', 'AB']"
   ]
  },
  {
   "cell_type": "code",
   "execution_count": 51,
   "id": "cd3da6a2-be8d-4464-a42c-702b91289227",
   "metadata": {},
   "outputs": [
    {
     "name": "stdout",
     "output_type": "stream",
     "text": [
      "A형을 가진 사람의 수: 3명, B형을 가진 사람의 수: 3명, O형을 가진 사람의 수: 3명, AB형을 가진 사람의 수: 3명\n"
     ]
    }
   ],
   "source": [
    "a_count = 0\n",
    "b_count = 0\n",
    "o_count = 0\n",
    "ab_count = 0\n",
    "\n",
    "for abo in students:\n",
    "    if abo == 'A':\n",
    "        a_count += 1\n",
    "    elif abo == 'B':\n",
    "        b_count += 1\n",
    "    elif abo == 'O':\n",
    "        o_count += 1\n",
    "    else:\n",
    "        ab_count += 1\n",
    "print(\"A형을 가진 사람의 수: {}명, B형을 가진 사람의 수: {}명, O형을 가진 사람의 수: {}명, AB형을 가진 사람의 수: {}명\".format(a_count, b_count, o_count, ab_count))"
   ]
  },
  {
   "cell_type": "markdown",
   "id": "e5cfba14-767b-490b-b721-3ac62849efd0",
   "metadata": {},
   "source": [
    "### Q&A"
   ]
  },
  {
   "cell_type": "code",
   "execution_count": 40,
   "id": "256971aa-885a-421a-b17f-f4455a792665",
   "metadata": {},
   "outputs": [
    {
     "name": "stdout",
     "output_type": "stream",
     "text": [
      "AB 0 0 0 12\n"
     ]
    }
   ],
   "source": [
    "A_count = 0\n",
    "B_count = 0\n",
    "O_count = 0\n",
    "AB_count = 0\n",
    "for abo in students:\n",
    "    if i == 'A':\n",
    "        A_count += 1\n",
    "    elif i == 'B':\n",
    "        B_count += 1\n",
    "    elif i == 'O':\n",
    "        O_count += 1\n",
    "    else:\n",
    "        AB_count += 1\n",
    "print(abo, A_count, B_count, O_count, AB_count)"
   ]
  },
  {
   "cell_type": "code",
   "execution_count": 46,
   "id": "492db5e4-c9b5-4eeb-b5c8-35520c236059",
   "metadata": {},
   "outputs": [
    {
     "name": "stdout",
     "output_type": "stream",
     "text": [
      "A형3, B형3, O형3, AB형3\n"
     ]
    }
   ],
   "source": [
    "A_count = 0\n",
    "B_count = 0\n",
    "O_count = 0\n",
    "AB_count = 0\n",
    "for abo in students:\n",
    "    if abo == 'A':\n",
    "        A_count += 1\n",
    "    elif abo == 'B':\n",
    "        B_count += 1\n",
    "    elif abo == 'O':\n",
    "        O_count += 1\n",
    "    else:\n",
    "        AB_count += 1\n",
    "print(\"A형{0}, B형{1}, O형{2}, AB형{3}\".format(A_count, B_count, O_count, AB_count))"
   ]
  },
  {
   "cell_type": "markdown",
   "id": "8806b852-c2da-40c7-897b-97880593a067",
   "metadata": {},
   "source": [
    "문제 5"
   ]
  },
  {
   "cell_type": "code",
   "execution_count": 33,
   "id": "becebb39-06e9-410a-a2fe-a11f3ea522d1",
   "metadata": {},
   "outputs": [],
   "source": [
    "numbers = [1, 2, 3, 4, 5]\n",
    "\n",
    "result = []\n",
    "for n in numbers:\n",
    "    if n % 2 == 1:\n",
    "        result.append(n*2)"
   ]
  },
  {
   "cell_type": "code",
   "execution_count": 34,
   "id": "45b7a12c-21fe-4c65-9f61-52b406673a42",
   "metadata": {},
   "outputs": [
    {
     "name": "stdout",
     "output_type": "stream",
     "text": [
      "[2, 6, 10]\n"
     ]
    }
   ],
   "source": [
    "print(result)"
   ]
  },
  {
   "cell_type": "code",
   "execution_count": 35,
   "id": "c4976fbf-e557-4187-85e9-432d619d710c",
   "metadata": {},
   "outputs": [
    {
     "name": "stdout",
     "output_type": "stream",
     "text": [
      "[2, 6, 10]\n"
     ]
    }
   ],
   "source": [
    "result = [n * 2 for n in numbers if n % 2 == 1]  # 맨 앞부분은 출력하고자 하는 내용 작성\n",
    "print(result)"
   ]
  },
  {
   "cell_type": "markdown",
   "id": "5c31f674-3f40-487c-ac06-4f2286f4046c",
   "metadata": {},
   "source": [
    "# 함수"
   ]
  },
  {
   "cell_type": "markdown",
   "id": "e8b9f955-94a8-4173-93bd-70ef1cfa21a9",
   "metadata": {},
   "source": [
    "내장함수(print())와 모듈 함수(math, random, 개발자가 개발해놓은 모듈인 Matplotlib, TensorFlow 등), 사용자 정의 함수(def()) 필요함"
   ]
  },
  {
   "cell_type": "code",
   "execution_count": null,
   "id": "0df799bd-06f1-48dc-baad-adf096bba3ab",
   "metadata": {},
   "outputs": [],
   "source": [
    "def func_name(x1, x2, ..):  # 함수 정의를 위해서는 def 키워드 필요, 함수의 이름, 함수에서 사용할 매개변수(함수에 입력으로 전달된 값을 받는 변수) 또는 인수(함수를 호출할 때 전달하는 입력값)로 생략 가능\n",
    "    code1                   # 함수를 정의한 이후에 함수에 전달해주는 실제 값을 인수/인자라고 일컫음\n",
    "    code2  # 함수 코드 블럭은 반드시 들여쓰기 필요\n",
    "    \n",
    "    return n1[, n2, ..]  # 함수가 일을 수행한 후 그 결과를 반환하는 return문; 생략가능"
   ]
  },
  {
   "cell_type": "markdown",
   "id": "c1077cd4-7ab3-4250-b002-02a2dc07cb07",
   "metadata": {},
   "source": [
    "지역변수 (함수 안에서 만들어진 변수)와 전역변수 (함수 밖에서 만들어진 변수)"
   ]
  },
  {
   "cell_type": "code",
   "execution_count": 74,
   "id": "923bfa9e-a6d1-4545-bf2f-5e767dd1db08",
   "metadata": {},
   "outputs": [],
   "source": [
    "def d_is_10():\n",
    "    d = 10               # 지역변수\n",
    "    print('d 값은 ', d, '입니다')"
   ]
  },
  {
   "cell_type": "code",
   "execution_count": 75,
   "id": "f417fe4f-22de-4a34-8bc2-abe5bd98a4dc",
   "metadata": {},
   "outputs": [
    {
     "name": "stdout",
     "output_type": "stream",
     "text": [
      "d 값은  10 입니다\n"
     ]
    }
   ],
   "source": [
    "d_is_10()"
   ]
  },
  {
   "cell_type": "code",
   "execution_count": 76,
   "id": "ee4ee80c-c943-436d-888e-0e40c1ad30bb",
   "metadata": {},
   "outputs": [],
   "source": [
    "def e_is_10():\n",
    "    global e            # 전역변수\n",
    "    e = 10\n",
    "    print('e 값은 ', e, '입니다')"
   ]
  },
  {
   "cell_type": "code",
   "execution_count": 78,
   "id": "5f0dc6cd-8aa7-49b0-aa66-b56cbbf8f069",
   "metadata": {},
   "outputs": [
    {
     "name": "stdout",
     "output_type": "stream",
     "text": [
      "e 값은  10 입니다\n"
     ]
    }
   ],
   "source": [
    "e_is_10()"
   ]
  },
  {
   "cell_type": "code",
   "execution_count": 79,
   "id": "e57ffc3c-d86f-4428-bdb2-61785e82c562",
   "metadata": {},
   "outputs": [
    {
     "data": {
      "text/plain": [
       "10"
      ]
     },
     "execution_count": 79,
     "metadata": {},
     "output_type": "execute_result"
    }
   ],
   "source": [
    "e"
   ]
  },
  {
   "cell_type": "markdown",
   "id": "eabd063a-7036-4490-a284-6bbf373fc255",
   "metadata": {},
   "source": [
    "기본 함수"
   ]
  },
  {
   "cell_type": "code",
   "execution_count": 52,
   "id": "1e00a5d9-b5f7-4b39-b221-8cd305581045",
   "metadata": {},
   "outputs": [
    {
     "name": "stdout",
     "output_type": "stream",
     "text": [
      "*********************\n"
     ]
    }
   ],
   "source": [
    "def print_star():\n",
    "    print('*********************')\n",
    "\n",
    "print_star()"
   ]
  },
  {
   "cell_type": "code",
   "execution_count": 53,
   "id": "b4d16287-67ae-4dc4-9753-40f021120889",
   "metadata": {},
   "outputs": [
    {
     "name": "stdout",
     "output_type": "stream",
     "text": [
      "____________________\n"
     ]
    }
   ],
   "source": [
    "def print_under():\n",
    "    print('____________________')\n",
    "\n",
    "print_under()"
   ]
  },
  {
   "cell_type": "code",
   "execution_count": null,
   "id": "791d9446-badb-45c9-8b2e-2e08e0870a97",
   "metadata": {},
   "outputs": [],
   "source": [
    "def func_name([x1, x2, ...]):\n",
    "    code1\n",
    "    code2\n",
    "    ...\n",
    "    return n1[, n2, ...]"
   ]
  },
  {
   "cell_type": "code",
   "execution_count": 54,
   "id": "f21ded91-124a-4123-9453-0ff04c1eca0a",
   "metadata": {},
   "outputs": [
    {
     "data": {
      "text/plain": [
       "11"
      ]
     },
     "execution_count": 54,
     "metadata": {},
     "output_type": "execute_result"
    }
   ],
   "source": [
    "def get_sum(a,b):\n",
    "    result = a + b\n",
    "    return result\n",
    "\n",
    "get_sum(1,10)"
   ]
  },
  {
   "cell_type": "code",
   "execution_count": 56,
   "id": "72e8c912-d5b7-44f5-b948-6a9b0743b2ac",
   "metadata": {},
   "outputs": [
    {
     "name": "stdout",
     "output_type": "stream",
     "text": [
      "-9\n"
     ]
    }
   ],
   "source": [
    "def get_difference(a,b):\n",
    "    result = a - b\n",
    "    return result\n",
    "\n",
    "print(get_difference(1,10))"
   ]
  },
  {
   "cell_type": "markdown",
   "id": "cfd6c507-7658-42d1-9e29-4cdde83ba822",
   "metadata": {},
   "source": [
    "- 함수에서 여러 계산식의 값을 출력할 수 있음; return하는 형식이 튜플"
   ]
  },
  {
   "cell_type": "code",
   "execution_count": 57,
   "id": "2210d44e-f276-4015-adca-33a56323c025",
   "metadata": {},
   "outputs": [
    {
     "data": {
      "text/plain": [
       "(11, 10)"
      ]
     },
     "execution_count": 57,
     "metadata": {},
     "output_type": "execute_result"
    }
   ],
   "source": [
    "def sum_and_mul(a,b):\n",
    "    return a+b, a*b  # return은 한번만 작성하고, 이때 출력하고 싶은 계산식은 여러개 입력 가능\n",
    "\n",
    "sum_and_mul(1,10)"
   ]
  },
  {
   "cell_type": "code",
   "execution_count": 58,
   "id": "4e6f1d99-f0cf-474c-aecb-eb1be3bb3a80",
   "metadata": {},
   "outputs": [
    {
     "data": {
      "text/plain": [
       "(7, 12)"
      ]
     },
     "execution_count": 58,
     "metadata": {},
     "output_type": "execute_result"
    }
   ],
   "source": [
    "sum_and_mul(3,4)"
   ]
  },
  {
   "cell_type": "code",
   "execution_count": 59,
   "id": "d7514ac7-64a6-422f-a50d-be3bece93311",
   "metadata": {},
   "outputs": [],
   "source": [
    "sum, mul = sum_and_mul(3,4)"
   ]
  },
  {
   "cell_type": "code",
   "execution_count": 60,
   "id": "4cf340b0-ac1b-4f9f-ae19-e9e8efe07e09",
   "metadata": {},
   "outputs": [
    {
     "data": {
      "text/plain": [
       "7"
      ]
     },
     "execution_count": 60,
     "metadata": {},
     "output_type": "execute_result"
    }
   ],
   "source": [
    "sum"
   ]
  },
  {
   "cell_type": "code",
   "execution_count": 61,
   "id": "a5196d68-6d83-4eef-8713-3f5ac72fc9b8",
   "metadata": {},
   "outputs": [
    {
     "data": {
      "text/plain": [
       "12"
      ]
     },
     "execution_count": 61,
     "metadata": {},
     "output_type": "execute_result"
    }
   ],
   "source": [
    "mul"
   ]
  },
  {
   "cell_type": "code",
   "execution_count": 62,
   "id": "b31b810d-f010-4c0a-93b2-5fa56b066929",
   "metadata": {},
   "outputs": [
    {
     "data": {
      "text/plain": [
       "(10892024, 4, 22504.18181818182, 495114)"
      ]
     },
     "execution_count": 62,
     "metadata": {},
     "output_type": "execute_result"
    }
   ],
   "source": [
    "def ab_test(a,b):\n",
    "    return a*b, a%b, a/b, a+b\n",
    "\n",
    "ab_test(495092,22)"
   ]
  },
  {
   "cell_type": "code",
   "execution_count": 63,
   "id": "b9867ba9-d9da-4c11-bad7-41133e3fc9e2",
   "metadata": {},
   "outputs": [],
   "source": [
    "def say_nick(nick):\n",
    "    if nick == '바보':\n",
    "        return\n",
    "    print(\"나의 별명은 %s 입니다.\" % nick)"
   ]
  },
  {
   "cell_type": "code",
   "execution_count": 65,
   "id": "e9e2c04e-c031-4fbf-97fb-a10b127ae8a7",
   "metadata": {},
   "outputs": [
    {
     "name": "stdout",
     "output_type": "stream",
     "text": [
      "나의 별명은 사랑 입니다.\n"
     ]
    }
   ],
   "source": [
    "say_nick('사랑')"
   ]
  },
  {
   "cell_type": "code",
   "execution_count": 66,
   "id": "e3429835-7a6c-4ea7-ad88-cc5634535d89",
   "metadata": {},
   "outputs": [],
   "source": [
    "say_nick('바보')  # 공집합으로 반환"
   ]
  },
  {
   "cell_type": "code",
   "execution_count": 67,
   "id": "5e96d507-2502-46f9-b495-73ec90173c92",
   "metadata": {},
   "outputs": [
    {
     "data": {
      "text/plain": [
       "((-1.25+1.3919410907075054j), (-1.25-1.3919410907075054j))"
      ]
     },
     "execution_count": 67,
     "metadata": {},
     "output_type": "execute_result"
    }
   ],
   "source": [
    "def get_root(a, b, c):\n",
    "    r1 = (-b + (b ** 2 - 4 * a * c) ** 0.5) / (2 * a)\n",
    "    r2 = (-b - (b ** 2 - 4 * a * c) ** 0.5) / (2 * a)\n",
    "    return r1, r2\n",
    "\n",
    "get_root(2,5,7)"
   ]
  },
  {
   "cell_type": "code",
   "execution_count": 68,
   "id": "919e7251-3cf5-4a38-b2ff-954753f49974",
   "metadata": {},
   "outputs": [
    {
     "name": "stdout",
     "output_type": "stream",
     "text": [
      "10 과 100 의 합은 110 입니다\n"
     ]
    }
   ],
   "source": [
    "def print_sum(a, b):\n",
    "    result = a + b\n",
    "    print(a, '과', b, '의 합은', result, '입니다')\n",
    "    \n",
    "print_sum(10,100)"
   ]
  },
  {
   "cell_type": "code",
   "execution_count": 69,
   "id": "d6d78530-e6c9-473d-9ab8-d45f1636a608",
   "metadata": {},
   "outputs": [
    {
     "name": "stdout",
     "output_type": "stream",
     "text": [
      "div(4) = 2.0\n"
     ]
    }
   ],
   "source": [
    "def div(a, b = 2):  # 초기값이 입력돼있는 경우에는 입력값 하나만 넣어주어도 진행 가능\n",
    "    return a / b\n",
    "\n",
    "print('div(4) =', div(4))"
   ]
  },
  {
   "cell_type": "code",
   "execution_count": 70,
   "id": "f09d85f8-8d7e-4142-8f14-8753b91d3fe2",
   "metadata": {},
   "outputs": [
    {
     "name": "stdout",
     "output_type": "stream",
     "text": [
      "div(8) = 4.0\n"
     ]
    }
   ],
   "source": [
    "print('div(8) =', div(8))"
   ]
  },
  {
   "cell_type": "code",
   "execution_count": 71,
   "id": "292a3d7b-4a58-4f4f-aaa4-c167e7c18f00",
   "metadata": {},
   "outputs": [
    {
     "ename": "SyntaxError",
     "evalue": "non-default argument follows default argument (1657224453.py, line 1)",
     "output_type": "error",
     "traceback": [
      "\u001b[1;36m  Input \u001b[1;32mIn [71]\u001b[1;36m\u001b[0m\n\u001b[1;33m    def div1(a=2, b):\u001b[0m\n\u001b[1;37m                   ^\u001b[0m\n\u001b[1;31mSyntaxError\u001b[0m\u001b[1;31m:\u001b[0m non-default argument follows default argument\n"
     ]
    }
   ],
   "source": [
    "def div1(a=2, b):  # 초기값이 입력돼있는 경우에는 초기값을 주는 경우에는 맨 뒤로 바꿔줘야 문제없이 돌아갈 수 있음\n",
    "    return a/b\n",
    "\n",
    "div1(2)"
   ]
  },
  {
   "cell_type": "code",
   "execution_count": 72,
   "id": "65d3a7b9-4ca6-49e8-889c-344f997b34cc",
   "metadata": {},
   "outputs": [
    {
     "data": {
      "text/plain": [
       "2.0"
      ]
     },
     "execution_count": 72,
     "metadata": {},
     "output_type": "execute_result"
    }
   ],
   "source": [
    "def div2(b, a = 2):\n",
    "    return a/b\n",
    "\n",
    "div2(1)"
   ]
  },
  {
   "cell_type": "code",
   "execution_count": 73,
   "id": "bf086fca-2f3c-419a-8d3d-e064ad911860",
   "metadata": {},
   "outputs": [
    {
     "data": {
      "text/plain": [
       "0.16666666666666666"
      ]
     },
     "execution_count": 73,
     "metadata": {},
     "output_type": "execute_result"
    }
   ],
   "source": [
    "def div3(c, b, a=2):\n",
    "    return c/b/a\n",
    "\n",
    "div3(1,3)"
   ]
  },
  {
   "cell_type": "code",
   "execution_count": 80,
   "id": "0c619c1e-78f6-437b-9153-5c03a49f1c13",
   "metadata": {},
   "outputs": [
    {
     "data": {
      "text/plain": [
       "True"
      ]
     },
     "execution_count": 80,
     "metadata": {},
     "output_type": "execute_result"
    }
   ],
   "source": [
    "'Morning' < 'morning'  #"
   ]
  },
  {
   "cell_type": "code",
   "execution_count": 81,
   "id": "058fbaaf-3edd-4001-8a0f-18908d93973e",
   "metadata": {},
   "outputs": [
    {
     "data": {
      "text/plain": [
       "True"
      ]
     },
     "execution_count": 81,
     "metadata": {},
     "output_type": "execute_result"
    }
   ],
   "source": [
    "'A' < 'B'"
   ]
  },
  {
   "cell_type": "code",
   "execution_count": 82,
   "id": "cf395e43-8d39-4a89-9ae7-80611eff7735",
   "metadata": {},
   "outputs": [
    {
     "data": {
      "text/plain": [
       "65"
      ]
     },
     "execution_count": 82,
     "metadata": {},
     "output_type": "execute_result"
    }
   ],
   "source": [
    "ord('A')"
   ]
  },
  {
   "cell_type": "code",
   "execution_count": 83,
   "id": "63f06414-a29f-43b5-9115-ea0ad08f4e03",
   "metadata": {},
   "outputs": [
    {
     "data": {
      "text/plain": [
       "66"
      ]
     },
     "execution_count": 83,
     "metadata": {},
     "output_type": "execute_result"
    }
   ],
   "source": [
    "ord('B')"
   ]
  },
  {
   "cell_type": "code",
   "execution_count": 84,
   "id": "7f459a00-ab15-4762-a9c0-e79f5f8ac8d5",
   "metadata": {},
   "outputs": [
    {
     "name": "stdout",
     "output_type": "stream",
     "text": [
      "9\n"
     ]
    }
   ],
   "source": [
    "a=3\n",
    "a\n",
    "print(_)"
   ]
  },
  {
   "cell_type": "markdown",
   "id": "75f68150-cdd9-4502-bb4f-70388d879533",
   "metadata": {},
   "source": [
    "문제 1"
   ]
  },
  {
   "cell_type": "code",
   "execution_count": 86,
   "id": "3ed9edfa-3ef3-40e4-bcd0-814f4f1cb00e",
   "metadata": {},
   "outputs": [
    {
     "name": "stdout",
     "output_type": "stream",
     "text": [
      "1이 4보다 작습니다.\n"
     ]
    }
   ],
   "source": [
    "def max2(m,n):\n",
    "    if m > n:\n",
    "        print('{}이 {}보다 큽니다.'.format(m,n))\n",
    "    else:\n",
    "        print('{}이 {}보다 작습니다.'.format(m,n))\n",
    "\n",
    "max2(1,4)"
   ]
  },
  {
   "cell_type": "code",
   "execution_count": 87,
   "id": "cc620042-872a-4ce2-af42-00c83c8301f9",
   "metadata": {},
   "outputs": [
    {
     "ename": "SyntaxError",
     "evalue": "positional argument follows keyword argument (3597878663.py, line 1)",
     "output_type": "error",
     "traceback": [
      "\u001b[1;36m  Input \u001b[1;32mIn [87]\u001b[1;36m\u001b[0m\n\u001b[1;33m    result1, result2 = get_root(c = -8, b = 2, 1)\u001b[0m\n\u001b[1;37m                                                ^\u001b[0m\n\u001b[1;31mSyntaxError\u001b[0m\u001b[1;31m:\u001b[0m positional argument follows keyword argument\n"
     ]
    }
   ],
   "source": [
    "result1, result2 = get_root(c = -8, b = 2, 1)  # 반드시 위치인자가 먼저 나타나야 함"
   ]
  },
  {
   "cell_type": "code",
   "execution_count": 88,
   "id": "6da889c3-411b-418e-a500-1203fa42ff7c",
   "metadata": {},
   "outputs": [],
   "source": [
    "result1, result2 = get_root(1, 2, c = -8)"
   ]
  },
  {
   "cell_type": "code",
   "execution_count": 89,
   "id": "211a4519-5a1d-4b2e-83c8-486e65c1375e",
   "metadata": {},
   "outputs": [
    {
     "data": {
      "text/plain": [
       "(2.0, -4.0)"
      ]
     },
     "execution_count": 89,
     "metadata": {},
     "output_type": "execute_result"
    }
   ],
   "source": [
    "result1, result2"
   ]
  },
  {
   "cell_type": "code",
   "execution_count": 93,
   "id": "4c74e590-74ce-44ef-8072-17225ebea5a9",
   "metadata": {},
   "outputs": [],
   "source": [
    "def minus(a,b):\n",
    "    return a-b"
   ]
  },
  {
   "cell_type": "code",
   "execution_count": 94,
   "id": "01328c91-fe90-447e-8473-78f308e9e68e",
   "metadata": {},
   "outputs": [
    {
     "data": {
      "text/plain": [
       "4"
      ]
     },
     "execution_count": 94,
     "metadata": {},
     "output_type": "execute_result"
    }
   ],
   "source": [
    "a = minus(7, 3)\n",
    "a"
   ]
  },
  {
   "cell_type": "code",
   "execution_count": 95,
   "id": "180f2eee-a875-40e6-a9bf-ae6865ba9618",
   "metadata": {},
   "outputs": [],
   "source": [
    "def say():\n",
    "    return 'Hi'"
   ]
  },
  {
   "cell_type": "code",
   "execution_count": 96,
   "id": "7c50dff4-33d6-4324-a2eb-acb6f58c5293",
   "metadata": {},
   "outputs": [
    {
     "data": {
      "text/plain": [
       "'Hi'"
      ]
     },
     "execution_count": 96,
     "metadata": {},
     "output_type": "execute_result"
    }
   ],
   "source": [
    "say()"
   ]
  },
  {
   "cell_type": "code",
   "execution_count": 101,
   "id": "d78a8a83-4cac-4930-b7c9-6ffc8d59e174",
   "metadata": {},
   "outputs": [],
   "source": [
    "def minus2(a, b):\n",
    "    print(\"%d, %d의 차이는 %d입니다.\" % (a, b, a-b))"
   ]
  },
  {
   "cell_type": "code",
   "execution_count": 102,
   "id": "99c53f80-c4c3-47a4-b44e-a754c61ff2ac",
   "metadata": {},
   "outputs": [
    {
     "name": "stdout",
     "output_type": "stream",
     "text": [
      "3, 4의 차이는 -1입니다.\n"
     ]
    }
   ],
   "source": [
    "a = minus2(3, 4)"
   ]
  },
  {
   "cell_type": "code",
   "execution_count": 103,
   "id": "3ffd2a45-a7a7-4c6b-8a31-5b4264d632a5",
   "metadata": {},
   "outputs": [
    {
     "name": "stdout",
     "output_type": "stream",
     "text": [
      "None\n"
     ]
    }
   ],
   "source": [
    "print(a)"
   ]
  },
  {
   "cell_type": "code",
   "execution_count": 104,
   "id": "4a705f2c-c128-4a30-9e89-51b254985e7f",
   "metadata": {},
   "outputs": [],
   "source": [
    "def print_sub(a, b):\n",
    "    return a - b"
   ]
  },
  {
   "cell_type": "code",
   "execution_count": 105,
   "id": "d9102251-b9e0-4805-b6bd-0a7f5668e3cf",
   "metadata": {},
   "outputs": [
    {
     "data": {
      "text/plain": [
       "-9"
      ]
     },
     "execution_count": 105,
     "metadata": {},
     "output_type": "execute_result"
    }
   ],
   "source": [
    "print_sub(1, 10)"
   ]
  },
  {
   "cell_type": "markdown",
   "id": "e3944591-01b8-4f17-99c3-761da34d2e00",
   "metadata": {},
   "source": [
    "- 가변적인 인자전달"
   ]
  },
  {
   "cell_type": "code",
   "execution_count": 106,
   "id": "ecccc8b7-cde1-4e81-a7aa-3703ee2ad0fd",
   "metadata": {},
   "outputs": [
    {
     "name": "stdout",
     "output_type": "stream",
     "text": [
      "안녕하세요 홍길동 씨\n",
      "안녕하세요 양만춘 씨\n",
      "안녕하세요 이순신 씨\n",
      "안녕하세요 James 씨\n",
      "안녕하세요 Jane 씨\n"
     ]
    }
   ],
   "source": [
    "def greet(*names):  # *를 사용해서 변수의 갯수가 달라질 수 있음을 미리 알려줌\n",
    "    for name in names:\n",
    "        print(\"안녕하세요\", name, '씨')\n",
    "\n",
    "greet('홍길동', '양만춘', '이순신')  # 인자가 3개\n",
    "greet('James', 'Jane')  # 인자가 2개"
   ]
  },
  {
   "cell_type": "code",
   "execution_count": 107,
   "id": "71fc8447-56ac-47a2-9610-3bb6f0e3f9f3",
   "metadata": {},
   "outputs": [
    {
     "name": "stdout",
     "output_type": "stream",
     "text": [
      "안녕! 유재석 씨\n",
      "안녕! 노홍철 씨\n",
      "안녕! 가 씨\n",
      "안녕! 나 씨\n",
      "안녕! 다 씨\n",
      "안녕! 라 씨\n",
      "안녕! 마 씨\n"
     ]
    }
   ],
   "source": [
    "def greet(*names):\n",
    "    for name in names:\n",
    "        print(\"안녕!\", name, '씨')\n",
    "\n",
    "greet('유재석', '노홍철')\n",
    "greet('가', '나', '다', '라', '마')"
   ]
  },
  {
   "cell_type": "code",
   "execution_count": 108,
   "id": "6f114e36-6ae7-4fbc-a34f-446954c17454",
   "metadata": {},
   "outputs": [],
   "source": [
    "def sum_many(*args):\n",
    "    sum = 0\n",
    "    for i in args:\n",
    "        sum = sum + i\n",
    "    return sum"
   ]
  },
  {
   "cell_type": "code",
   "execution_count": 109,
   "id": "ae1928a3-b034-4102-b599-fe789c1ded1d",
   "metadata": {},
   "outputs": [
    {
     "data": {
      "text/plain": [
       "5"
      ]
     },
     "execution_count": 109,
     "metadata": {},
     "output_type": "execute_result"
    }
   ],
   "source": [
    "sum_many(5)"
   ]
  },
  {
   "cell_type": "code",
   "execution_count": 110,
   "id": "2c66194b-0690-4163-8afd-fe46103169b9",
   "metadata": {},
   "outputs": [
    {
     "data": {
      "text/plain": [
       "15"
      ]
     },
     "execution_count": 110,
     "metadata": {},
     "output_type": "execute_result"
    }
   ],
   "source": [
    "sum_many(1,2,3,4,5)"
   ]
  },
  {
   "cell_type": "code",
   "execution_count": 111,
   "id": "343e5c6f-71ff-4c84-b275-94e4a0aae20b",
   "metadata": {},
   "outputs": [],
   "source": [
    "def sum_mul(choice, *args):\n",
    "    if choice == 'sum':\n",
    "        result = 0\n",
    "        for i in args:\n",
    "            result = result + i\n",
    "    elif choice == 'mul':\n",
    "        result = 1\n",
    "        for i in args:\n",
    "            result = result * i\n",
    "    return result"
   ]
  },
  {
   "cell_type": "code",
   "execution_count": 112,
   "id": "fe709259-3e8e-45d0-b41b-b109048052a3",
   "metadata": {},
   "outputs": [
    {
     "ename": "UnboundLocalError",
     "evalue": "local variable 'result' referenced before assignment",
     "output_type": "error",
     "traceback": [
      "\u001b[1;31m---------------------------------------------------------------------------\u001b[0m",
      "\u001b[1;31mUnboundLocalError\u001b[0m                         Traceback (most recent call last)",
      "Input \u001b[1;32mIn [112]\u001b[0m, in \u001b[0;36m<cell line: 1>\u001b[1;34m()\u001b[0m\n\u001b[1;32m----> 1\u001b[0m \u001b[43msum_mul\u001b[49m\u001b[43m(\u001b[49m\u001b[38;5;241;43m1\u001b[39;49m\u001b[43m,\u001b[49m\u001b[43m \u001b[49m\u001b[38;5;241;43m10\u001b[39;49m\u001b[43m,\u001b[49m\u001b[43m \u001b[49m\u001b[38;5;241;43m11\u001b[39;49m\u001b[43m,\u001b[49m\u001b[43m \u001b[49m\u001b[38;5;241;43m18\u001b[39;49m\u001b[43m)\u001b[49m\n",
      "Input \u001b[1;32mIn [111]\u001b[0m, in \u001b[0;36msum_mul\u001b[1;34m(choice, *args)\u001b[0m\n\u001b[0;32m      8\u001b[0m     \u001b[38;5;28;01mfor\u001b[39;00m i \u001b[38;5;129;01min\u001b[39;00m args:\n\u001b[0;32m      9\u001b[0m         result \u001b[38;5;241m=\u001b[39m result \u001b[38;5;241m*\u001b[39m i\n\u001b[1;32m---> 10\u001b[0m \u001b[38;5;28;01mreturn\u001b[39;00m \u001b[43mresult\u001b[49m\n",
      "\u001b[1;31mUnboundLocalError\u001b[0m: local variable 'result' referenced before assignment"
     ]
    }
   ],
   "source": [
    "sum_mul(1, 10, 11, 18)"
   ]
  },
  {
   "cell_type": "code",
   "execution_count": 114,
   "id": "f756790d-0803-446f-8145-186aff69d32e",
   "metadata": {},
   "outputs": [
    {
     "ename": "UnboundLocalError",
     "evalue": "local variable 'result' referenced before assignment",
     "output_type": "error",
     "traceback": [
      "\u001b[1;31m---------------------------------------------------------------------------\u001b[0m",
      "\u001b[1;31mUnboundLocalError\u001b[0m                         Traceback (most recent call last)",
      "Input \u001b[1;32mIn [114]\u001b[0m, in \u001b[0;36m<cell line: 1>\u001b[1;34m()\u001b[0m\n\u001b[1;32m----> 1\u001b[0m \u001b[43msum_mul\u001b[49m\u001b[43m(\u001b[49m\u001b[38;5;241;43m1\u001b[39;49m\u001b[43m)\u001b[49m\n",
      "Input \u001b[1;32mIn [111]\u001b[0m, in \u001b[0;36msum_mul\u001b[1;34m(choice, *args)\u001b[0m\n\u001b[0;32m      8\u001b[0m     \u001b[38;5;28;01mfor\u001b[39;00m i \u001b[38;5;129;01min\u001b[39;00m args:\n\u001b[0;32m      9\u001b[0m         result \u001b[38;5;241m=\u001b[39m result \u001b[38;5;241m*\u001b[39m i\n\u001b[1;32m---> 10\u001b[0m \u001b[38;5;28;01mreturn\u001b[39;00m \u001b[43mresult\u001b[49m\n",
      "\u001b[1;31mUnboundLocalError\u001b[0m: local variable 'result' referenced before assignment"
     ]
    }
   ],
   "source": [
    "sum_mul(1)"
   ]
  },
  {
   "cell_type": "markdown",
   "id": "8c1b0cdc-1ef0-4458-bf05-5760dcfc8570",
   "metadata": {},
   "source": [
    "문제 1"
   ]
  },
  {
   "cell_type": "code",
   "execution_count": 119,
   "id": "fe75630e-393c-4e58-bbd9-28bd21160051",
   "metadata": {},
   "outputs": [],
   "source": [
    "def sum_nums(*args):\n",
    "    sum = 0\n",
    "    for i in args:\n",
    "            sum += i\n",
    "            return sum, len(i) / sum"
   ]
  },
  {
   "cell_type": "code",
   "execution_count": 120,
   "id": "7401b3c7-2bd3-4d15-9df8-ba1a1726bf2c",
   "metadata": {},
   "outputs": [
    {
     "ename": "TypeError",
     "evalue": "object of type 'int' has no len()",
     "output_type": "error",
     "traceback": [
      "\u001b[1;31m---------------------------------------------------------------------------\u001b[0m",
      "\u001b[1;31mTypeError\u001b[0m                                 Traceback (most recent call last)",
      "Input \u001b[1;32mIn [120]\u001b[0m, in \u001b[0;36m<cell line: 1>\u001b[1;34m()\u001b[0m\n\u001b[1;32m----> 1\u001b[0m \u001b[43msum_nums\u001b[49m\u001b[43m(\u001b[49m\u001b[38;5;241;43m10\u001b[39;49m\u001b[43m,\u001b[49m\u001b[43m \u001b[49m\u001b[38;5;241;43m20\u001b[39;49m\u001b[43m,\u001b[49m\u001b[43m \u001b[49m\u001b[38;5;241;43m30\u001b[39;49m\u001b[43m)\u001b[49m\n",
      "Input \u001b[1;32mIn [119]\u001b[0m, in \u001b[0;36msum_nums\u001b[1;34m(*args)\u001b[0m\n\u001b[0;32m      3\u001b[0m \u001b[38;5;28;01mfor\u001b[39;00m i \u001b[38;5;129;01min\u001b[39;00m args:\n\u001b[0;32m      4\u001b[0m         \u001b[38;5;28msum\u001b[39m \u001b[38;5;241m+\u001b[39m\u001b[38;5;241m=\u001b[39m i\n\u001b[1;32m----> 5\u001b[0m         \u001b[38;5;28;01mreturn\u001b[39;00m \u001b[38;5;28msum\u001b[39m, \u001b[38;5;28;43mlen\u001b[39;49m\u001b[43m(\u001b[49m\u001b[43mi\u001b[49m\u001b[43m)\u001b[49m \u001b[38;5;241m/\u001b[39m \u001b[38;5;28msum\u001b[39m\n",
      "\u001b[1;31mTypeError\u001b[0m: object of type 'int' has no len()"
     ]
    }
   ],
   "source": [
    "sum_nums(10, 20, 30)"
   ]
  },
  {
   "cell_type": "code",
   "execution_count": 121,
   "id": "c81922fb-c5b7-4574-94ad-1e167b8c3d39",
   "metadata": {},
   "outputs": [],
   "source": [
    "def sum_nums(*args):  # 제공되는 수열의 갯수가 달라지므로 가변인자임을 표시해주어야 함\n",
    "    sum = 0\n",
    "    count = 0\n",
    "    for i in args:\n",
    "        sum += i\n",
    "        count += 1\n",
    "    print(sum)\n",
    "    print(sum/count)"
   ]
  },
  {
   "cell_type": "code",
   "execution_count": 122,
   "id": "4939c68e-4449-4022-ad7f-7d971d39b445",
   "metadata": {},
   "outputs": [
    {
     "name": "stdout",
     "output_type": "stream",
     "text": [
      "6\n",
      "2.0\n"
     ]
    }
   ],
   "source": [
    "sum_nums(1,2,3)"
   ]
  },
  {
   "cell_type": "code",
   "execution_count": 123,
   "id": "1086627a-2c05-4433-a28a-4c6ab43cf917",
   "metadata": {},
   "outputs": [],
   "source": [
    "def sum_nums(*args):  # 제공되는 수열의 갯수가 달라지므로 가변인자임을 표시해주어야 함\n",
    "    sum = 0\n",
    "    count = 0\n",
    "    for i in args:\n",
    "        sum += i\n",
    "        count += 1\n",
    "    return sum, sum/count"
   ]
  },
  {
   "cell_type": "code",
   "execution_count": 124,
   "id": "76295ff9-7d00-4572-980a-9f5edbbe7b43",
   "metadata": {},
   "outputs": [
    {
     "data": {
      "text/plain": [
       "(6, 3.0)"
      ]
     },
     "execution_count": 124,
     "metadata": {},
     "output_type": "execute_result"
    }
   ],
   "source": [
    "sum_nums(1,5)"
   ]
  },
  {
   "cell_type": "markdown",
   "id": "918bdf0e-2968-4a59-a6b0-d60e2c2be467",
   "metadata": {},
   "source": [
    "문제 2"
   ]
  },
  {
   "cell_type": "code",
   "execution_count": 125,
   "id": "b1a76344-c3f3-45b5-aeb1-9ba0c5eea281",
   "metadata": {},
   "outputs": [],
   "source": [
    "def min_nums(*args):\n",
    "    mini = min(args)\n",
    "    return mini"
   ]
  },
  {
   "cell_type": "code",
   "execution_count": 126,
   "id": "0adf082b-820c-4e41-bb45-2486a94aac60",
   "metadata": {},
   "outputs": [
    {
     "data": {
      "text/plain": [
       "1"
      ]
     },
     "execution_count": 126,
     "metadata": {},
     "output_type": "execute_result"
    }
   ],
   "source": [
    "min_nums(1,6,9,10,8,3,7)"
   ]
  },
  {
   "cell_type": "code",
   "execution_count": 127,
   "id": "5a0d344a-fd24-4c3e-8047-58c64392f9c6",
   "metadata": {},
   "outputs": [
    {
     "data": {
      "text/plain": [
       "0.8"
      ]
     },
     "execution_count": 127,
     "metadata": {},
     "output_type": "execute_result"
    }
   ],
   "source": [
    "min_nums(5,3,1,8,6,2,1.3, 0.8)"
   ]
  },
  {
   "cell_type": "code",
   "execution_count": 128,
   "id": "71a8a064-7639-4241-8a87-7420e46d2054",
   "metadata": {},
   "outputs": [
    {
     "data": {
      "text/plain": [
       "10"
      ]
     },
     "execution_count": 128,
     "metadata": {},
     "output_type": "execute_result"
    }
   ],
   "source": [
    "min_nums(20, 40, 50, 10)"
   ]
  },
  {
   "cell_type": "code",
   "execution_count": 130,
   "id": "065ca560-4a6e-4fd6-984d-58e54a30f6b3",
   "metadata": {},
   "outputs": [
    {
     "data": {
      "text/plain": [
       "'최솟값은 10'"
      ]
     },
     "execution_count": 130,
     "metadata": {},
     "output_type": "execute_result"
    }
   ],
   "source": [
    "\"최솟값은 {}\".format(min_nums(20, 40, 50, 10))"
   ]
  },
  {
   "cell_type": "markdown",
   "id": "59d13a7b-4df6-40e7-87dc-a1a8801cb426",
   "metadata": {},
   "source": [
    "- **kwargs는 딕셔너리; key=value 형태로 데이터 들어감"
   ]
  },
  {
   "cell_type": "code",
   "execution_count": 131,
   "id": "f020beb6-3d2a-4e73-97fe-56f1c09a83ed",
   "metadata": {},
   "outputs": [],
   "source": [
    "def func(**kwargs):\n",
    "    print(kwargs)"
   ]
  },
  {
   "cell_type": "code",
   "execution_count": 132,
   "id": "dd57f535-47cb-49a3-9d9a-a4fdd7ffee08",
   "metadata": {},
   "outputs": [
    {
     "ename": "TypeError",
     "evalue": "func() takes 0 positional arguments but 4 were given",
     "output_type": "error",
     "traceback": [
      "\u001b[1;31m---------------------------------------------------------------------------\u001b[0m",
      "\u001b[1;31mTypeError\u001b[0m                                 Traceback (most recent call last)",
      "Input \u001b[1;32mIn [132]\u001b[0m, in \u001b[0;36m<cell line: 1>\u001b[1;34m()\u001b[0m\n\u001b[1;32m----> 1\u001b[0m \u001b[43mfunc\u001b[49m\u001b[43m(\u001b[49m\u001b[38;5;241;43m1\u001b[39;49m\u001b[43m,\u001b[49m\u001b[38;5;241;43m2\u001b[39;49m\u001b[43m,\u001b[49m\u001b[38;5;241;43m3\u001b[39;49m\u001b[43m,\u001b[49m\u001b[38;5;241;43m4\u001b[39;49m\u001b[43m)\u001b[49m\n",
      "\u001b[1;31mTypeError\u001b[0m: func() takes 0 positional arguments but 4 were given"
     ]
    }
   ],
   "source": [
    "func(1,2,3,4)"
   ]
  },
  {
   "cell_type": "code",
   "execution_count": 133,
   "id": "faf93321-dfbf-45c1-9aa7-ae6c2e500e2b",
   "metadata": {},
   "outputs": [
    {
     "name": "stdout",
     "output_type": "stream",
     "text": [
      "{}\n"
     ]
    }
   ],
   "source": [
    "func()"
   ]
  },
  {
   "cell_type": "code",
   "execution_count": 134,
   "id": "d006264e-4fb9-45dc-befa-4c759b7670d8",
   "metadata": {},
   "outputs": [],
   "source": [
    "def func1(*args, **kwargs):\n",
    "    print(args, kwargs)"
   ]
  },
  {
   "cell_type": "code",
   "execution_count": 136,
   "id": "f97b562d-7460-4f63-8d5b-74b6855fbb3a",
   "metadata": {},
   "outputs": [
    {
     "ename": "TypeError",
     "evalue": "func() takes 0 positional arguments but 3 were given",
     "output_type": "error",
     "traceback": [
      "\u001b[1;31m---------------------------------------------------------------------------\u001b[0m",
      "\u001b[1;31mTypeError\u001b[0m                                 Traceback (most recent call last)",
      "Input \u001b[1;32mIn [136]\u001b[0m, in \u001b[0;36m<cell line: 1>\u001b[1;34m()\u001b[0m\n\u001b[1;32m----> 1\u001b[0m \u001b[43mfunc\u001b[49m\u001b[43m(\u001b[49m\u001b[38;5;241;43m1\u001b[39;49m\u001b[43m,\u001b[49m\u001b[43m \u001b[49m\u001b[38;5;241;43m2\u001b[39;49m\u001b[43m,\u001b[49m\u001b[43m \u001b[49m\u001b[38;5;241;43m3\u001b[39;49m\u001b[43m,\u001b[49m\u001b[43m \u001b[49m\u001b[43mname\u001b[49m\u001b[38;5;241;43m=\u001b[39;49m\u001b[38;5;124;43m'\u001b[39;49m\u001b[38;5;124;43mtoo\u001b[39;49m\u001b[38;5;124;43m'\u001b[39;49m\u001b[43m,\u001b[49m\u001b[43m \u001b[49m\u001b[43mage\u001b[49m\u001b[43m \u001b[49m\u001b[38;5;241;43m=\u001b[39;49m\u001b[43m \u001b[49m\u001b[38;5;241;43m3\u001b[39;49m\u001b[43m)\u001b[49m\n",
      "\u001b[1;31mTypeError\u001b[0m: func() takes 0 positional arguments but 3 were given"
     ]
    }
   ],
   "source": [
    "func(1, 2, 3, name='too', age = 3)"
   ]
  },
  {
   "cell_type": "code",
   "execution_count": 137,
   "id": "62181ab1-8427-4dfe-86b4-19eba4d1fdb9",
   "metadata": {},
   "outputs": [
    {
     "name": "stdout",
     "output_type": "stream",
     "text": [
      "{}\n"
     ]
    }
   ],
   "source": [
    "func()"
   ]
  },
  {
   "cell_type": "code",
   "execution_count": 146,
   "id": "25bf8a11-91ec-43e0-ad21-44857e84db80",
   "metadata": {},
   "outputs": [
    {
     "ename": "TypeError",
     "evalue": "'int' object is not callable",
     "output_type": "error",
     "traceback": [
      "\u001b[1;31m---------------------------------------------------------------------------\u001b[0m",
      "\u001b[1;31mTypeError\u001b[0m                                 Traceback (most recent call last)",
      "Input \u001b[1;32mIn [146]\u001b[0m, in \u001b[0;36m<cell line: 5>\u001b[1;34m()\u001b[0m\n\u001b[0;32m      2\u001b[0m     num \u001b[38;5;241m=\u001b[39m \u001b[38;5;28msum\u001b[39m(data) \u001b[38;5;241m*\u001b[39m method[\u001b[38;5;124m\"\u001b[39m\u001b[38;5;124mscale\u001b[39m\u001b[38;5;124m\"\u001b[39m]\n\u001b[0;32m      3\u001b[0m     \u001b[38;5;28mprint\u001b[39m(num, method[\u001b[38;5;124m\"\u001b[39m\u001b[38;5;124munit\u001b[39m\u001b[38;5;124m\"\u001b[39m] \u001b[38;5;241m+\u001b[39m \u001b[38;5;124m\"\u001b[39m\u001b[38;5;124m입니다\u001b[39m\u001b[38;5;124m\"\u001b[39m)\n\u001b[1;32m----> 5\u001b[0m \u001b[43mfunc\u001b[49m\u001b[43m(\u001b[49m\u001b[38;5;241;43m3\u001b[39;49m\u001b[43m,\u001b[49m\u001b[43m \u001b[49m\u001b[38;5;241;43m4\u001b[39;49m\u001b[43m,\u001b[49m\u001b[43m \u001b[49m\u001b[38;5;241;43m5\u001b[39;49m\u001b[43m,\u001b[49m\u001b[43m \u001b[49m\u001b[43mscale\u001b[49m\u001b[43m \u001b[49m\u001b[38;5;241;43m=\u001b[39;49m\u001b[43m \u001b[49m\u001b[38;5;241;43m10\u001b[39;49m\u001b[43m,\u001b[49m\u001b[43m \u001b[49m\u001b[43munit\u001b[49m\u001b[43m \u001b[49m\u001b[38;5;241;43m=\u001b[39;49m\u001b[43m \u001b[49m\u001b[38;5;124;43m'\u001b[39;49m\u001b[38;5;124;43m개\u001b[39;49m\u001b[38;5;124;43m'\u001b[39;49m\u001b[43m)\u001b[49m\n",
      "Input \u001b[1;32mIn [146]\u001b[0m, in \u001b[0;36mfunc\u001b[1;34m(*data, **method)\u001b[0m\n\u001b[0;32m      1\u001b[0m \u001b[38;5;28;01mdef\u001b[39;00m \u001b[38;5;21mfunc\u001b[39m(\u001b[38;5;241m*\u001b[39mdata, \u001b[38;5;241m*\u001b[39m\u001b[38;5;241m*\u001b[39mmethod):\n\u001b[1;32m----> 2\u001b[0m     num \u001b[38;5;241m=\u001b[39m \u001b[38;5;28;43msum\u001b[39;49m\u001b[43m(\u001b[49m\u001b[43mdata\u001b[49m\u001b[43m)\u001b[49m \u001b[38;5;241m*\u001b[39m method[\u001b[38;5;124m\"\u001b[39m\u001b[38;5;124mscale\u001b[39m\u001b[38;5;124m\"\u001b[39m]\n\u001b[0;32m      3\u001b[0m     \u001b[38;5;28mprint\u001b[39m(num, method[\u001b[38;5;124m\"\u001b[39m\u001b[38;5;124munit\u001b[39m\u001b[38;5;124m\"\u001b[39m] \u001b[38;5;241m+\u001b[39m \u001b[38;5;124m\"\u001b[39m\u001b[38;5;124m입니다\u001b[39m\u001b[38;5;124m\"\u001b[39m)\n",
      "\u001b[1;31mTypeError\u001b[0m: 'int' object is not callable"
     ]
    }
   ],
   "source": [
    "def func(*data, **method):\n",
    "    num = sum(data) * method[\"scale\"]\n",
    "    print(num, method[\"unit\"] + \"입니다\")\n",
    "\n",
    "func(3, 4, 5, scale = 10, unit = '개')"
   ]
  },
  {
   "cell_type": "code",
   "execution_count": 145,
   "id": "336cf4d4-6c36-407a-894b-178d1cce9712",
   "metadata": {},
   "outputs": [
    {
     "ename": "TypeError",
     "evalue": "'int' object is not callable",
     "output_type": "error",
     "traceback": [
      "\u001b[1;31m---------------------------------------------------------------------------\u001b[0m",
      "\u001b[1;31mTypeError\u001b[0m                                 Traceback (most recent call last)",
      "Input \u001b[1;32mIn [145]\u001b[0m, in \u001b[0;36m<cell line: 1>\u001b[1;34m()\u001b[0m\n\u001b[1;32m----> 1\u001b[0m \u001b[38;5;28;43msum\u001b[39;49m\u001b[43m(\u001b[49m\u001b[43mdata\u001b[49m\u001b[43m)\u001b[49m\n",
      "\u001b[1;31mTypeError\u001b[0m: 'int' object is not callable"
     ]
    }
   ],
   "source": [
    "sum(data)"
   ]
  },
  {
   "cell_type": "markdown",
   "id": "068031bc-8bae-4ebb-8d23-9b002cd5950b",
   "metadata": {},
   "source": [
    "다시 한번 더 작성해보기"
   ]
  },
  {
   "cell_type": "code",
   "execution_count": 152,
   "id": "9254fa4c-6b2b-4784-8c57-0f3128b81597",
   "metadata": {},
   "outputs": [
    {
     "name": "stdout",
     "output_type": "stream",
     "text": [
      "120 개입니다\n"
     ]
    }
   ],
   "source": [
    "def func(*data, **method):\n",
    "    sum1 = 0\n",
    "    for i in data:\n",
    "        sum1 += i\n",
    "    num = sum1 * method[\"scale\"]\n",
    "    print(num, method[\"unit\"] + \"입니다\")\n",
    "    \n",
    "func(3, 4, 5, scale = 10, unit = \"개\")"
   ]
  },
  {
   "cell_type": "code",
   "execution_count": 156,
   "id": "4feec702-0879-40cc-aed7-0806d5d07ca7",
   "metadata": {},
   "outputs": [
    {
     "name": "stdout",
     "output_type": "stream",
     "text": [
      "계산된 값입니다\n",
      "120 개입니다\n"
     ]
    }
   ],
   "source": [
    "def func(*data, message, **method):\n",
    "    print(message)\n",
    "    sum12 = 0\n",
    "    for i in data:\n",
    "        sum12 += i\n",
    "    num = sum12 * method[\"scale\"]\n",
    "    print(num, method[\"unit\"] + \"입니다\")\n",
    "\n",
    "func(3, 4, 5, message = \"계산된 값입니다\", scale= 10 , unit = \"개\")"
   ]
  },
  {
   "cell_type": "code",
   "execution_count": 163,
   "id": "c490f92e-b441-4ec7-8426-bc31a2306f92",
   "metadata": {},
   "outputs": [],
   "source": [
    "def func(message1, message2, *data, **method):\n",
    "    print(message1)\n",
    "    print(message2)\n",
    "    sum12 = 0\n",
    "    for i in data:\n",
    "        sum12 += i\n",
    "    \n",
    "    num = sum12 * method[\"scale\"]\n",
    "    print(num, method[\"unit\"] + \"입니다\")"
   ]
  },
  {
   "cell_type": "code",
   "execution_count": 164,
   "id": "74ea5c79-e745-44fe-b23b-005257d79e7f",
   "metadata": {},
   "outputs": [
    {
     "name": "stdout",
     "output_type": "stream",
     "text": [
      "2\n",
      "3\n"
     ]
    },
    {
     "ename": "KeyError",
     "evalue": "'scale'",
     "output_type": "error",
     "traceback": [
      "\u001b[1;31m---------------------------------------------------------------------------\u001b[0m",
      "\u001b[1;31mKeyError\u001b[0m                                  Traceback (most recent call last)",
      "Input \u001b[1;32mIn [164]\u001b[0m, in \u001b[0;36m<cell line: 1>\u001b[1;34m()\u001b[0m\n\u001b[1;32m----> 1\u001b[0m \u001b[43mfunc\u001b[49m\u001b[43m(\u001b[49m\u001b[38;5;241;43m2\u001b[39;49m\u001b[43m,\u001b[49m\u001b[43m \u001b[49m\u001b[38;5;241;43m3\u001b[39;49m\u001b[43m,\u001b[49m\u001b[43m \u001b[49m\u001b[38;5;241;43m4\u001b[39;49m\u001b[43m,\u001b[49m\u001b[43m \u001b[49m\u001b[38;5;241;43m4\u001b[39;49m\u001b[43m,\u001b[49m\u001b[43m \u001b[49m\u001b[38;5;241;43m5\u001b[39;49m\u001b[43m)\u001b[49m\n",
      "Input \u001b[1;32mIn [163]\u001b[0m, in \u001b[0;36mfunc\u001b[1;34m(message1, message2, *data, **method)\u001b[0m\n\u001b[0;32m      5\u001b[0m \u001b[38;5;28;01mfor\u001b[39;00m i \u001b[38;5;129;01min\u001b[39;00m data:\n\u001b[0;32m      6\u001b[0m     sum12 \u001b[38;5;241m+\u001b[39m\u001b[38;5;241m=\u001b[39m i\n\u001b[1;32m----> 8\u001b[0m num \u001b[38;5;241m=\u001b[39m sum12 \u001b[38;5;241m*\u001b[39m \u001b[43mmethod\u001b[49m\u001b[43m[\u001b[49m\u001b[38;5;124;43m\"\u001b[39;49m\u001b[38;5;124;43mscale\u001b[39;49m\u001b[38;5;124;43m\"\u001b[39;49m\u001b[43m]\u001b[49m\n\u001b[0;32m      9\u001b[0m \u001b[38;5;28mprint\u001b[39m(num, method[\u001b[38;5;124m\"\u001b[39m\u001b[38;5;124munit\u001b[39m\u001b[38;5;124m\"\u001b[39m] \u001b[38;5;241m+\u001b[39m \u001b[38;5;124m\"\u001b[39m\u001b[38;5;124m입니다\u001b[39m\u001b[38;5;124m\"\u001b[39m)\n",
      "\u001b[1;31mKeyError\u001b[0m: 'scale'"
     ]
    }
   ],
   "source": [
    "func(2, 3, 4, 4, 5)"
   ]
  },
  {
   "cell_type": "markdown",
   "id": "f35f25c5-847a-43dd-9cff-6b1a0dadc8b7",
   "metadata": {},
   "source": [
    "에러 예시"
   ]
  },
  {
   "cell_type": "code",
   "execution_count": 220,
   "id": "ba470ddd-593c-4509-bcfe-67688c7f441e",
   "metadata": {},
   "outputs": [],
   "source": [
    "def say_myself(name, old, man = True):\n",
    "    print(\"나의 이름은 %s 입니다.\" % name)\n",
    "    print(\"나이는 %d 세입니다.\" % old)\n",
    "    \n",
    "    if man:\n",
    "         print(\"남자입니다\")\n",
    "    else:\n",
    "        print(\"여자입니다\")"
   ]
  },
  {
   "cell_type": "code",
   "execution_count": 221,
   "id": "7ab7e37a-6940-40da-aa42-2ce68b804c52",
   "metadata": {},
   "outputs": [
    {
     "name": "stdout",
     "output_type": "stream",
     "text": [
      "나의 이름은 mat 입니다.\n",
      "나이는 28 세입니다.\n",
      "남자입니다\n"
     ]
    }
   ],
   "source": [
    "say_myself(\"mat\", 28)"
   ]
  },
  {
   "cell_type": "code",
   "execution_count": 191,
   "id": "a167bc58-7397-4749-9e85-6ec4e231e526",
   "metadata": {},
   "outputs": [
    {
     "ename": "SyntaxError",
     "evalue": "non-default argument follows default argument (1631583882.py, line 1)",
     "output_type": "error",
     "traceback": [
      "\u001b[1;36m  Input \u001b[1;32mIn [191]\u001b[1;36m\u001b[0m\n\u001b[1;33m    def say_myself(name, man = True, old):\u001b[0m\n\u001b[1;37m                                        ^\u001b[0m\n\u001b[1;31mSyntaxError\u001b[0m\u001b[1;31m:\u001b[0m non-default argument follows default argument\n"
     ]
    }
   ],
   "source": [
    "def say_myself(name, man = True, old):\n",
    "    print(\"나의 이름은 %s 입니다.\" % name)\n",
    "    print(\"나이는 %d 세입니다.\" % old)\n",
    "    \n",
    "    if man:\n",
    "         print(\"남자입니다\")\n",
    "    else:\n",
    "        print(\"여자입니다\")\n",
    "say_myself(\"mat\", 20)"
   ]
  },
  {
   "cell_type": "code",
   "execution_count": 166,
   "id": "6548a41f-3c63-46d5-9021-db1fb1cc4bf5",
   "metadata": {},
   "outputs": [
    {
     "name": "stdout",
     "output_type": "stream",
     "text": [
      "print_sum() 내부: 10 과 20 의 합은 30 입니다\n",
      "print_sum() 외부 : 10 과 20 의 합은 30 입니다\n"
     ]
    }
   ],
   "source": [
    "def print_sum():\n",
    "    result = a + b\n",
    "    print(\"print_sum() 내부:\", a, \"과\", b, \"의 합은\", result, \"입니다\")  # 함수 내에 있는 result 값과 함수 밖에 있는 result 값은 서로 다른 변수\n",
    "    \n",
    "a = 10  # 전역변수 a\n",
    "b = 20  # 전역변수 b\n",
    "print_sum()\n",
    "result = a + b\n",
    "print('print_sum() 외부 :', a, '과', b, '의 합은', result, '입니다')"
   ]
  },
  {
   "cell_type": "code",
   "execution_count": 167,
   "id": "1e186d59-b645-434d-b4fd-ecebb309361d",
   "metadata": {},
   "outputs": [],
   "source": [
    "def print_sum():\n",
    "    a = 100\n",
    "    b = 200\n",
    "    result = a + b\n",
    "    print('print_sum() 내부 :', a, '과', b, '의 합은', result, '입니다')"
   ]
  },
  {
   "cell_type": "code",
   "execution_count": 168,
   "id": "38eb7362-f575-46c1-88b7-849f680260f4",
   "metadata": {},
   "outputs": [
    {
     "name": "stdout",
     "output_type": "stream",
     "text": [
      "print_sum() 내부 : 100 과 200 의 합은 300 입니다\n"
     ]
    }
   ],
   "source": [
    "print_sum()"
   ]
  },
  {
   "cell_type": "code",
   "execution_count": 169,
   "id": "6d6e3df8-908d-46b5-9903-f0f1a6f3a8f2",
   "metadata": {},
   "outputs": [
    {
     "name": "stdout",
     "output_type": "stream",
     "text": [
      "print_sum() 내부 : 100 과 200 의 합은 300 입니다\n"
     ]
    }
   ],
   "source": [
    "a = 10\n",
    "b = 20\n",
    "print_sum()"
   ]
  },
  {
   "cell_type": "code",
   "execution_count": 170,
   "id": "d7f3799f-1f02-4586-9e25-e8485f1883cc",
   "metadata": {},
   "outputs": [],
   "source": [
    "result = a + b"
   ]
  },
  {
   "cell_type": "code",
   "execution_count": 171,
   "id": "e33ed49b-200d-417e-97ab-25aa5318be61",
   "metadata": {},
   "outputs": [
    {
     "data": {
      "text/plain": [
       "30"
      ]
     },
     "execution_count": 171,
     "metadata": {},
     "output_type": "execute_result"
    }
   ],
   "source": [
    "result"
   ]
  },
  {
   "cell_type": "code",
   "execution_count": 182,
   "id": "b1b40373-7096-4718-8132-c840cbf69021",
   "metadata": {},
   "outputs": [
    {
     "name": "stdout",
     "output_type": "stream",
     "text": [
      "1\n"
     ]
    }
   ],
   "source": [
    "a = 1\n",
    "def vartest(a):\n",
    "    a = a + 1  # 지역변수\n",
    "\n",
    "vartest(a)\n",
    "print(a)"
   ]
  },
  {
   "cell_type": "code",
   "execution_count": 174,
   "id": "14dbfa3e-be26-4929-84d1-3ac549a5a11d",
   "metadata": {},
   "outputs": [
    {
     "name": "stdout",
     "output_type": "stream",
     "text": [
      "None\n"
     ]
    }
   ],
   "source": [
    "print(vartest(a))"
   ]
  },
  {
   "cell_type": "code",
   "execution_count": 183,
   "id": "19124e9a-4918-4e79-b7c5-efeca388a0fb",
   "metadata": {},
   "outputs": [],
   "source": [
    "vartest(a)  # 함수안에서 새로 만들어진 매개변수가 사용되는 함수만의 변수이기 때문"
   ]
  },
  {
   "cell_type": "code",
   "execution_count": 176,
   "id": "23bc8351-7389-47da-b3f9-07eb5d94e798",
   "metadata": {},
   "outputs": [
    {
     "name": "stdout",
     "output_type": "stream",
     "text": [
      "2\n"
     ]
    }
   ],
   "source": [
    "a = 1\n",
    "def vartest(a):\n",
    "    a = a + 1\n",
    "    return a\n",
    "\n",
    "a = vartest(a)\n",
    "print(a)"
   ]
  },
  {
   "cell_type": "code",
   "execution_count": 180,
   "id": "fc0ad056-1441-49e8-bdfa-f193f1d0a713",
   "metadata": {},
   "outputs": [
    {
     "name": "stdout",
     "output_type": "stream",
     "text": [
      "2\n"
     ]
    }
   ],
   "source": [
    "a = 1\n",
    "def vartest():\n",
    "    global a  # 함수내에서 전역변수처럼 사용하려면 global 사용할 수 있지만, 사용하지 않는 것을 권장 (함수외부에서 선언된 a, b를 사용)\n",
    "    a = a + 1\n",
    "\n",
    "vartest()\n",
    "print(a)"
   ]
  },
  {
   "cell_type": "code",
   "execution_count": 181,
   "id": "5336e29f-ab8d-4721-b566-d1e7637fd726",
   "metadata": {},
   "outputs": [
    {
     "name": "stdout",
     "output_type": "stream",
     "text": [
      "print_sum() 내부 100 와 200 의 합은 300 입니다\n",
      "print_sum() 외부 100 와 200 의 합은 300 입니다\n"
     ]
    }
   ],
   "source": [
    "def print_sum():\n",
    "    global a,b\n",
    "    a = 100\n",
    "    b = 200\n",
    "    result = a + b\n",
    "    print('print_sum() 내부', a, '와', b, '의 합은', result, '입니다')\n",
    "\n",
    "a = 10\n",
    "b = 20\n",
    "print_sum()\n",
    "result = a + b\n",
    "print('print_sum() 외부', a, '와', b, '의 합은', result, '입니다')"
   ]
  },
  {
   "cell_type": "code",
   "execution_count": 186,
   "id": "82d12291-a31b-48c5-848c-b9abd5cf0696",
   "metadata": {},
   "outputs": [
    {
     "data": {
      "text/plain": [
       "900"
      ]
     },
     "execution_count": 186,
     "metadata": {},
     "output_type": "execute_result"
    }
   ],
   "source": [
    "eval(\"200+300+400\")  # 문자열을 수치값과 연산자로 변환하여 계산"
   ]
  },
  {
   "cell_type": "code",
   "execution_count": 187,
   "id": "ec2570b3-c969-4ac9-8eb4-ec49f7cce1da",
   "metadata": {},
   "outputs": [
    {
     "data": {
      "text/plain": [
       "['A', 'B', 'C', 'D', 'E']"
      ]
     },
     "execution_count": 187,
     "metadata": {},
     "output_type": "execute_result"
    }
   ],
   "source": [
    "sorted(\"EABCD\")  # 문자열 정렬"
   ]
  },
  {
   "cell_type": "markdown",
   "id": "5493332d-693c-4e00-be38-951cf9ddc0e9",
   "metadata": {},
   "source": [
    "abs(x)\n",
    "divmod(x,y) ; 몫, 나머지를 튜플형태로 변환"
   ]
  },
  {
   "cell_type": "markdown",
   "id": "60eb23da-51a8-453d-80b1-951c045e564f",
   "metadata": {},
   "source": [
    "문제 1: 세 숫자값을 입력하고, 정렬하기"
   ]
  },
  {
   "cell_type": "code",
   "execution_count": null,
   "id": "7e9f2199-af8b-4f44-a295-1760fac6d638",
   "metadata": {},
   "outputs": [],
   "source": [
    "num = input(\"세 수를 입력하세요: \")\n",
    "def sort3(num1, num2, num3):\n",
    "    num = []\n",
    "    a = num.sort()\n",
    "    "
   ]
  },
  {
   "cell_type": "code",
   "execution_count": 188,
   "id": "ed3be3ff-2419-42f5-b1d6-cedc349eb5c9",
   "metadata": {},
   "outputs": [
    {
     "name": "stdout",
     "output_type": "stream",
     "text": [
      "세 수를 입력하세요:\n"
     ]
    },
    {
     "name": "stdin",
     "output_type": "stream",
     "text": [
      " 1\n",
      " 2\n",
      " 3\n"
     ]
    },
    {
     "name": "stdout",
     "output_type": "stream",
     "text": [
      "정렬된 리스트는 다음과 같습니다. 1 2 3\n"
     ]
    }
   ],
   "source": [
    "def sort3(a, b, c):\n",
    "    list = []\n",
    "    list.append(a)\n",
    "    list.append(b)\n",
    "    list.append(c)\n",
    "    list.sort()\n",
    "    return list\n",
    "\n",
    "print('세 수를 입력하세요:')\n",
    "a = int(input())\n",
    "b = int(input())\n",
    "c = int(input())\n",
    "\n",
    "list = sort3(a, b, c)\n",
    "print('정렬된 리스트는 다음과 같습니다.', list[0], list[1], list[2])"
   ]
  },
  {
   "cell_type": "code",
   "execution_count": 197,
   "id": "66adb940-4b37-4eb0-b41f-2480dcac3115",
   "metadata": {},
   "outputs": [
    {
     "name": "stdout",
     "output_type": "stream",
     "text": [
      "세 수를 입력하세요:\n"
     ]
    },
    {
     "name": "stdin",
     "output_type": "stream",
     "text": [
      " 1\n",
      " 1\n",
      " 1\n"
     ]
    },
    {
     "name": "stdout",
     "output_type": "stream",
     "text": [
      "정렬된 리스트는 다음과 같습니다. 1 1 1\n"
     ]
    }
   ],
   "source": [
    "def sort1(a, b, c):\n",
    "    list = []\n",
    "    list.append(a)\n",
    "    list.append(b)\n",
    "    list.append(c)\n",
    "    list.sort()\n",
    "    return list\n",
    "\n",
    "print(\"세 수를 입력하세요:\")\n",
    "a = int(input())\n",
    "b = int(input())\n",
    "c = int(input())\n",
    "\n",
    "list = sort1(a, b, c)\n",
    "print(\"정렬된 리스트는 다음과 같습니다.\", list[0], list[1], list[2])"
   ]
  },
  {
   "cell_type": "markdown",
   "id": "5006586a-8660-42f3-9491-f74779f30b49",
   "metadata": {},
   "source": [
    "type()"
   ]
  },
  {
   "cell_type": "markdown",
   "id": "b49e7b42-9339-4460-b578-f37cda610fdc",
   "metadata": {},
   "source": [
    "# 모듈 사용하기"
   ]
  },
  {
   "cell_type": "markdown",
   "id": "f14cfc9c-191b-4537-b6e4-5a9c71412a64",
   "metadata": {},
   "source": [
    "import 모듈"
   ]
  },
  {
   "cell_type": "code",
   "execution_count": 192,
   "id": "f08ac942-a9c1-402b-89ff-0854dceeb4c9",
   "metadata": {},
   "outputs": [
    {
     "name": "stdout",
     "output_type": "stream",
     "text": [
      "3\n"
     ]
    }
   ],
   "source": [
    "from math import ceil\n",
    "print(ceil(2.9))  # 올림"
   ]
  },
  {
   "cell_type": "code",
   "execution_count": 193,
   "id": "18a7cfc0-889b-4ad7-a104-6019c33249bf",
   "metadata": {},
   "outputs": [
    {
     "name": "stdout",
     "output_type": "stream",
     "text": [
      "2\n"
     ]
    }
   ],
   "source": [
    "import math\n",
    "print(math.floor(2.9))"
   ]
  },
  {
   "cell_type": "code",
   "execution_count": 194,
   "id": "bf91859d-f835-4351-9cd2-30d3b7820103",
   "metadata": {},
   "outputs": [
    {
     "name": "stdout",
     "output_type": "stream",
     "text": [
      "23\n"
     ]
    }
   ],
   "source": [
    "print(ceil(22.1))"
   ]
  },
  {
   "cell_type": "code",
   "execution_count": 195,
   "id": "dfbe6324-1dd0-4c7a-9e6b-cf64ee628a02",
   "metadata": {},
   "outputs": [
    {
     "name": "stdout",
     "output_type": "stream",
     "text": [
      "2\n"
     ]
    }
   ],
   "source": [
    "print(math.floor(2.1))  # 절사"
   ]
  },
  {
   "cell_type": "code",
   "execution_count": null,
   "id": "4f6316fa-a640-4b0b-a9e9-42b554276756",
   "metadata": {},
   "outputs": [],
   "source": [
    "def my_std(mylist):\n",
    "    import math\n",
    "    average = my_aver(mylist)\n",
    "    variance = 0\n",
    "    for data in mylist:\n",
    "        variance += (data - average)**2\n",
    "    stdev = math.sqrt(variance) / (len(mylist)-1)  # math.sqrt(x)\n",
    "    return stdev\n",
    "\n",
    "if __name__ == '__main__':\n",
    "    scorelist = [78, 56, 67, 95, 82]\n",
    "    aver_val = my_aver(scorelist)\n",
    "    std_val = my_std("
   ]
  },
  {
   "cell_type": "markdown",
   "id": "902328c1-9a62-4045-b2b7-8fc7c7fa8d52",
   "metadata": {},
   "source": [
    "객체지향에서는 함수가 아닌 메소드라고 부름"
   ]
  },
  {
   "cell_type": "code",
   "execution_count": 198,
   "id": "0dec7ac3-e369-46a9-9968-e86f0f31d3b4",
   "metadata": {},
   "outputs": [
    {
     "data": {
      "text/plain": [
       "5"
      ]
     },
     "execution_count": 198,
     "metadata": {},
     "output_type": "execute_result"
    }
   ],
   "source": [
    "s1 = 'aaaaa'\n",
    "s1.count('a')"
   ]
  },
  {
   "cell_type": "markdown",
   "id": "393411a0-6df9-40ff-9123-6b7d6f5e9e35",
   "metadata": {},
   "source": [
    "문제 1"
   ]
  },
  {
   "cell_type": "code",
   "execution_count": 201,
   "id": "e074503b-5277-4d8d-b9a7-6391d9e56615",
   "metadata": {},
   "outputs": [
    {
     "name": "stdin",
     "output_type": "stream",
     "text": [
      "자연수를 입력하세요: 5\n"
     ]
    },
    {
     "name": "stdout",
     "output_type": "stream",
     "text": [
      "주어진 자연수 5는 홀수입니다.\n"
     ]
    }
   ],
   "source": [
    "a = int(input(\"자연수를 입력하세요:\"))\n",
    "def is_odd(a):\n",
    "    if a % 2 == 0:\n",
    "        print(\"주어진 자연수 {}는 짝수입니다.\".format(a))\n",
    "    else:\n",
    "        print(\"주어진 자연수 {}는 홀수입니다.\".format(a))\n",
    "\n",
    "is_odd(a)"
   ]
  },
  {
   "cell_type": "code",
   "execution_count": 210,
   "id": "06da24c3-cbd3-4d31-8606-ee8f42a6154c",
   "metadata": {},
   "outputs": [
    {
     "name": "stdin",
     "output_type": "stream",
     "text": [
      "자연수를 입력하세요: 7\n"
     ]
    },
    {
     "data": {
      "text/plain": [
       "'odd'"
      ]
     },
     "execution_count": 210,
     "metadata": {},
     "output_type": "execute_result"
    }
   ],
   "source": [
    "a = int(input(\"자연수를 입력하세요:\"))\n",
    "\n",
    "def odd_even_classifier():\n",
    "    if b%2 == 0:\n",
    "        result = \"even\"\n",
    "    else:\n",
    "        result = \"odd\"\n",
    "    return result\n",
    "\n",
    "odd_even_classifier()"
   ]
  },
  {
   "cell_type": "markdown",
   "id": "b22460e2-fd29-4439-8b0c-904ce18d54ba",
   "metadata": {},
   "source": [
    "문제 2"
   ]
  },
  {
   "cell_type": "code",
   "execution_count": 208,
   "id": "bc8bae32-9849-473f-ada0-e421e4866e7c",
   "metadata": {},
   "outputs": [],
   "source": [
    "def sum_nums(*args):  # 제공되는 수열의 갯수가 달라지므로 가변인자임을 표시해주어야 함\n",
    "    sum = 0\n",
    "    count = 0\n",
    "    for i in args:\n",
    "        sum += i\n",
    "        count += 1\n",
    "    return sum, sum/count"
   ]
  },
  {
   "cell_type": "code",
   "execution_count": null,
   "id": "e923b594-7085-481f-a492-797aa1cbdb3e",
   "metadata": {},
   "outputs": [],
   "source": [
    "a = int(input(\"수를 입력하세요:\"))\n",
    "a = []\n",
    "a.append[a]\n",
    "a.append[b]\n",
    "a.append[c]\n",
    "\n",
    "sum = 0\n",
    "i = 0\n",
    "def find_av(a):\n",
    "    sum += a / (len(sum))\n",
    "    print(\"\")\n",
    "    "
   ]
  },
  {
   "cell_type": "code",
   "execution_count": 204,
   "id": "72e3536a-a030-43ea-8546-3ba2f646a48d",
   "metadata": {},
   "outputs": [],
   "source": [
    "def find_av(*args):\n",
    "    sum = 0\n",
    "    count = 0\n",
    "    for i in args:\n",
    "        sum += i\n",
    "        count += 1\n",
    "    return sum, sum/count"
   ]
  },
  {
   "cell_type": "code",
   "execution_count": 205,
   "id": "f87ab752-a1bc-45fe-a9cd-ab50448315c8",
   "metadata": {},
   "outputs": [
    {
     "data": {
      "text/plain": [
       "(39, 4.875)"
      ]
     },
     "execution_count": 205,
     "metadata": {},
     "output_type": "execute_result"
    }
   ],
   "source": [
    "find_av(1,5,6,7,7,6,4,3)"
   ]
  },
  {
   "cell_type": "code",
   "execution_count": 206,
   "id": "5f41325a-ee10-432b-8aa3-9ab100d37348",
   "metadata": {},
   "outputs": [],
   "source": [
    "def vcal(*a):\n",
    "    sum=0\n",
    "    for i in a:\n",
    "        sum+=i\n",
    "    average = sum/len(a)\n",
    "    return(average)"
   ]
  },
  {
   "cell_type": "code",
   "execution_count": 207,
   "id": "c2bdbf13-e60e-4ae9-9e4e-8df13c2d6ea2",
   "metadata": {},
   "outputs": [
    {
     "data": {
      "text/plain": [
       "4.4"
      ]
     },
     "execution_count": 207,
     "metadata": {},
     "output_type": "execute_result"
    }
   ],
   "source": [
    "vcal(1,4,5,6,6)"
   ]
  },
  {
   "cell_type": "markdown",
   "id": "39b50026-08ae-490a-801e-35725dbe15c9",
   "metadata": {},
   "source": [
    "### Q&A"
   ]
  },
  {
   "cell_type": "markdown",
   "id": "ea533fcd-6947-4810-9405-436990e452c2",
   "metadata": {},
   "source": [
    "문제 3"
   ]
  },
  {
   "cell_type": "code",
   "execution_count": 214,
   "id": "d6dd6139-5e07-43f7-88a5-9eb492fa068e",
   "metadata": {},
   "outputs": [],
   "source": [
    "def calcul(*n):\n",
    "    gu = 0\n",
    "    for i in n:\n",
    "        gu += i\n",
    "    gugudan = gu * n\n",
    "    return (gugudan)"
   ]
  },
  {
   "cell_type": "code",
   "execution_count": null,
   "id": "b3f4ff58-614d-41ad-9f6f-0c55d84b18e3",
   "metadata": {},
   "outputs": [],
   "source": []
  },
  {
   "cell_type": "code",
   "execution_count": 226,
   "id": "79573d7d-511c-45fa-86e7-fb3f98dd3f4e",
   "metadata": {},
   "outputs": [
    {
     "name": "stdout",
     "output_type": "stream",
     "text": [
      "\n",
      "\n",
      "1*1: 1 1*2: 2 1*3: 3 1*4: 4 1*5: 5 1*6: 6 1*7: 7 1*8: 8 1*9: 9 \n",
      "\n",
      "2*1: 2 2*2: 4 2*3: 6 2*4: 8 2*5: 10 2*6: 12 2*7: 14 2*8: 16 2*9: 18 \n",
      "\n",
      "3*1: 3 3*2: 6 3*3: 9 3*4: 12 3*5: 15 3*6: 18 3*7: 21 3*8: 24 3*9: 27 \n",
      "\n",
      "4*1: 4 4*2: 8 4*3: 12 4*4: 16 4*5: 20 4*6: 24 4*7: 28 4*8: 32 4*9: 36 \n",
      "\n",
      "5*1: 5 5*2: 10 5*3: 15 5*4: 20 5*5: 25 5*6: 30 5*7: 35 5*8: 40 5*9: 45 \n",
      "\n",
      "6*1: 6 6*2: 12 6*3: 18 6*4: 24 6*5: 30 6*6: 36 6*7: 42 6*8: 48 6*9: 54 \n",
      "\n",
      "7*1: 7 7*2: 14 7*3: 21 7*4: 28 7*5: 35 7*6: 42 7*7: 49 7*8: 56 7*9: 63 \n",
      "\n",
      "8*1: 8 8*2: 16 8*3: 24 8*4: 32 8*5: 40 8*6: 48 8*7: 56 8*8: 64 8*9: 72 \n",
      "\n",
      "9*1: 9 9*2: 18 9*3: 27 9*4: 36 9*5: 45 9*6: 54 9*7: 63 9*8: 72 9*9: 81 "
     ]
    }
   ],
   "source": [
    "for i in range(1,10):\n",
    "    print(\"\\n\")\n",
    "    for j in range(1, 10):\n",
    "        print(\"{}*{}:\".format(i,j), i * j, end = ' ')"
   ]
  },
  {
   "cell_type": "code",
   "execution_count": 215,
   "id": "1b0cb474-658b-42e2-ae3c-39874e0d24c2",
   "metadata": {
    "collapsed": true,
    "jupyter": {
     "outputs_hidden": true
    },
    "tags": []
   },
   "outputs": [
    {
     "data": {
      "text/plain": [
       "(2,\n",
       " 3,\n",
       " 4,\n",
       " 5,\n",
       " 6,\n",
       " 7,\n",
       " 8,\n",
       " 9,\n",
       " 2,\n",
       " 3,\n",
       " 4,\n",
       " 5,\n",
       " 6,\n",
       " 7,\n",
       " 8,\n",
       " 9,\n",
       " 2,\n",
       " 3,\n",
       " 4,\n",
       " 5,\n",
       " 6,\n",
       " 7,\n",
       " 8,\n",
       " 9,\n",
       " 2,\n",
       " 3,\n",
       " 4,\n",
       " 5,\n",
       " 6,\n",
       " 7,\n",
       " 8,\n",
       " 9,\n",
       " 2,\n",
       " 3,\n",
       " 4,\n",
       " 5,\n",
       " 6,\n",
       " 7,\n",
       " 8,\n",
       " 9,\n",
       " 2,\n",
       " 3,\n",
       " 4,\n",
       " 5,\n",
       " 6,\n",
       " 7,\n",
       " 8,\n",
       " 9,\n",
       " 2,\n",
       " 3,\n",
       " 4,\n",
       " 5,\n",
       " 6,\n",
       " 7,\n",
       " 8,\n",
       " 9,\n",
       " 2,\n",
       " 3,\n",
       " 4,\n",
       " 5,\n",
       " 6,\n",
       " 7,\n",
       " 8,\n",
       " 9,\n",
       " 2,\n",
       " 3,\n",
       " 4,\n",
       " 5,\n",
       " 6,\n",
       " 7,\n",
       " 8,\n",
       " 9,\n",
       " 2,\n",
       " 3,\n",
       " 4,\n",
       " 5,\n",
       " 6,\n",
       " 7,\n",
       " 8,\n",
       " 9,\n",
       " 2,\n",
       " 3,\n",
       " 4,\n",
       " 5,\n",
       " 6,\n",
       " 7,\n",
       " 8,\n",
       " 9,\n",
       " 2,\n",
       " 3,\n",
       " 4,\n",
       " 5,\n",
       " 6,\n",
       " 7,\n",
       " 8,\n",
       " 9,\n",
       " 2,\n",
       " 3,\n",
       " 4,\n",
       " 5,\n",
       " 6,\n",
       " 7,\n",
       " 8,\n",
       " 9,\n",
       " 2,\n",
       " 3,\n",
       " 4,\n",
       " 5,\n",
       " 6,\n",
       " 7,\n",
       " 8,\n",
       " 9,\n",
       " 2,\n",
       " 3,\n",
       " 4,\n",
       " 5,\n",
       " 6,\n",
       " 7,\n",
       " 8,\n",
       " 9,\n",
       " 2,\n",
       " 3,\n",
       " 4,\n",
       " 5,\n",
       " 6,\n",
       " 7,\n",
       " 8,\n",
       " 9,\n",
       " 2,\n",
       " 3,\n",
       " 4,\n",
       " 5,\n",
       " 6,\n",
       " 7,\n",
       " 8,\n",
       " 9,\n",
       " 2,\n",
       " 3,\n",
       " 4,\n",
       " 5,\n",
       " 6,\n",
       " 7,\n",
       " 8,\n",
       " 9,\n",
       " 2,\n",
       " 3,\n",
       " 4,\n",
       " 5,\n",
       " 6,\n",
       " 7,\n",
       " 8,\n",
       " 9,\n",
       " 2,\n",
       " 3,\n",
       " 4,\n",
       " 5,\n",
       " 6,\n",
       " 7,\n",
       " 8,\n",
       " 9,\n",
       " 2,\n",
       " 3,\n",
       " 4,\n",
       " 5,\n",
       " 6,\n",
       " 7,\n",
       " 8,\n",
       " 9,\n",
       " 2,\n",
       " 3,\n",
       " 4,\n",
       " 5,\n",
       " 6,\n",
       " 7,\n",
       " 8,\n",
       " 9,\n",
       " 2,\n",
       " 3,\n",
       " 4,\n",
       " 5,\n",
       " 6,\n",
       " 7,\n",
       " 8,\n",
       " 9,\n",
       " 2,\n",
       " 3,\n",
       " 4,\n",
       " 5,\n",
       " 6,\n",
       " 7,\n",
       " 8,\n",
       " 9,\n",
       " 2,\n",
       " 3,\n",
       " 4,\n",
       " 5,\n",
       " 6,\n",
       " 7,\n",
       " 8,\n",
       " 9,\n",
       " 2,\n",
       " 3,\n",
       " 4,\n",
       " 5,\n",
       " 6,\n",
       " 7,\n",
       " 8,\n",
       " 9,\n",
       " 2,\n",
       " 3,\n",
       " 4,\n",
       " 5,\n",
       " 6,\n",
       " 7,\n",
       " 8,\n",
       " 9,\n",
       " 2,\n",
       " 3,\n",
       " 4,\n",
       " 5,\n",
       " 6,\n",
       " 7,\n",
       " 8,\n",
       " 9,\n",
       " 2,\n",
       " 3,\n",
       " 4,\n",
       " 5,\n",
       " 6,\n",
       " 7,\n",
       " 8,\n",
       " 9,\n",
       " 2,\n",
       " 3,\n",
       " 4,\n",
       " 5,\n",
       " 6,\n",
       " 7,\n",
       " 8,\n",
       " 9,\n",
       " 2,\n",
       " 3,\n",
       " 4,\n",
       " 5,\n",
       " 6,\n",
       " 7,\n",
       " 8,\n",
       " 9,\n",
       " 2,\n",
       " 3,\n",
       " 4,\n",
       " 5,\n",
       " 6,\n",
       " 7,\n",
       " 8,\n",
       " 9,\n",
       " 2,\n",
       " 3,\n",
       " 4,\n",
       " 5,\n",
       " 6,\n",
       " 7,\n",
       " 8,\n",
       " 9,\n",
       " 2,\n",
       " 3,\n",
       " 4,\n",
       " 5,\n",
       " 6,\n",
       " 7,\n",
       " 8,\n",
       " 9,\n",
       " 2,\n",
       " 3,\n",
       " 4,\n",
       " 5,\n",
       " 6,\n",
       " 7,\n",
       " 8,\n",
       " 9,\n",
       " 2,\n",
       " 3,\n",
       " 4,\n",
       " 5,\n",
       " 6,\n",
       " 7,\n",
       " 8,\n",
       " 9,\n",
       " 2,\n",
       " 3,\n",
       " 4,\n",
       " 5,\n",
       " 6,\n",
       " 7,\n",
       " 8,\n",
       " 9,\n",
       " 2,\n",
       " 3,\n",
       " 4,\n",
       " 5,\n",
       " 6,\n",
       " 7,\n",
       " 8,\n",
       " 9,\n",
       " 2,\n",
       " 3,\n",
       " 4,\n",
       " 5,\n",
       " 6,\n",
       " 7,\n",
       " 8,\n",
       " 9,\n",
       " 2,\n",
       " 3,\n",
       " 4,\n",
       " 5,\n",
       " 6,\n",
       " 7,\n",
       " 8,\n",
       " 9,\n",
       " 2,\n",
       " 3,\n",
       " 4,\n",
       " 5,\n",
       " 6,\n",
       " 7,\n",
       " 8,\n",
       " 9,\n",
       " 2,\n",
       " 3,\n",
       " 4,\n",
       " 5,\n",
       " 6,\n",
       " 7,\n",
       " 8,\n",
       " 9,\n",
       " 2,\n",
       " 3,\n",
       " 4,\n",
       " 5,\n",
       " 6,\n",
       " 7,\n",
       " 8,\n",
       " 9,\n",
       " 2,\n",
       " 3,\n",
       " 4,\n",
       " 5,\n",
       " 6,\n",
       " 7,\n",
       " 8,\n",
       " 9)"
      ]
     },
     "execution_count": 215,
     "metadata": {},
     "output_type": "execute_result"
    }
   ],
   "source": [
    "calcul(2,3,4,5,6,7,8,9)"
   ]
  },
  {
   "cell_type": "code",
   "execution_count": 218,
   "id": "c0c35f8d-33ee-4290-a8d8-b0994fdee9a1",
   "metadata": {
    "tags": []
   },
   "outputs": [
    {
     "name": "stdin",
     "output_type": "stream",
     "text": [
      "자연수를 입력하세요 1\n"
     ]
    },
    {
     "name": "stdout",
     "output_type": "stream",
     "text": [
      "1 2 3 4 5 6 7 8 9 "
     ]
    }
   ],
   "source": [
    "x = input(\"자연수를 입력하세요\")\n",
    "a = int(x)\n",
    "\n",
    "def cal(z):\n",
    "    for i in range(1,10):\n",
    "        print(z*i, end = ' ')\n",
    "\n",
    "cal(a)"
   ]
  },
  {
   "cell_type": "code",
   "execution_count": 223,
   "id": "51ea86c0-308b-45cc-8a79-571857f5764b",
   "metadata": {},
   "outputs": [
    {
     "name": "stdin",
     "output_type": "stream",
     "text": [
      "입력하세요 2\n"
     ]
    },
    {
     "name": "stdout",
     "output_type": "stream",
     "text": [
      "2 4 6 8 10 12 14 16 18 "
     ]
    }
   ],
   "source": [
    "a = int(input(\"입력하세요\"))\n",
    "d = a\n",
    "def mul_table(n):\n",
    "    for i in range(1,10):\n",
    "        print(i*d, end=' ')\n",
    "mul_table(1)"
   ]
  },
  {
   "cell_type": "markdown",
   "id": "c4cc37f2-d422-4a85-ae53-25f77e86aa4e",
   "metadata": {},
   "source": [
    "함수 (난수발생)"
   ]
  },
  {
   "cell_type": "markdown",
   "id": "dc760be1-a739-4a76-9ac8-e241818ab5ba",
   "metadata": {},
   "source": [
    "seed(int), sample(population, k), choices(population, k = 1), randrange(stop), randrange(start, stop, [step]), randint(a, b), rand(m,n), randn(m,n), random(), uniform(a, b); 균등분포하는 난수 한 개를 발생시키는 함수"
   ]
  },
  {
   "cell_type": "code",
   "execution_count": 219,
   "id": "81442450-c509-4d4b-9600-9d28ebf259c0",
   "metadata": {},
   "outputs": [
    {
     "name": "stdout",
     "output_type": "stream",
     "text": [
      "3.560519378541389\n"
     ]
    }
   ],
   "source": [
    "from random import *\n",
    "r = uniform(2, 5)\n",
    "print(r)"
   ]
  },
  {
   "cell_type": "markdown",
   "id": "8fddcadb-969e-4f87-b7d4-640b22e4edf1",
   "metadata": {},
   "source": [
    "일반적인 랜덤모듈 안에는 randn() 없음"
   ]
  },
  {
   "cell_type": "code",
   "execution_count": 227,
   "id": "4bbd1e53-4bd7-4de0-b003-eab48e0e1f42",
   "metadata": {},
   "outputs": [
    {
     "ename": "NameError",
     "evalue": "name 'randn' is not defined",
     "output_type": "error",
     "traceback": [
      "\u001b[1;31m---------------------------------------------------------------------------\u001b[0m",
      "\u001b[1;31mNameError\u001b[0m                                 Traceback (most recent call last)",
      "Input \u001b[1;32mIn [227]\u001b[0m, in \u001b[0;36m<cell line: 2>\u001b[1;34m()\u001b[0m\n\u001b[0;32m      1\u001b[0m \u001b[38;5;28;01mfrom\u001b[39;00m \u001b[38;5;21;01mrandom\u001b[39;00m \u001b[38;5;28;01mimport\u001b[39;00m \u001b[38;5;241m*\u001b[39m\n\u001b[1;32m----> 2\u001b[0m r1 \u001b[38;5;241m=\u001b[39m \u001b[43mrandn\u001b[49m(\u001b[38;5;241m2\u001b[39m, \u001b[38;5;241m5\u001b[39m)\n\u001b[0;32m      3\u001b[0m \u001b[38;5;28mprint\u001b[39m(r1)\n",
      "\u001b[1;31mNameError\u001b[0m: name 'randn' is not defined"
     ]
    }
   ],
   "source": [
    "from random import *\n",
    "r1 = randn(2, 5)\n",
    "print(r1)"
   ]
  },
  {
   "cell_type": "code",
   "execution_count": 228,
   "id": "ff3f7cf0-50c1-42e6-a11e-45673c31ddd4",
   "metadata": {},
   "outputs": [
    {
     "ename": "NameError",
     "evalue": "name 'randn' is not defined",
     "output_type": "error",
     "traceback": [
      "\u001b[1;31m---------------------------------------------------------------------------\u001b[0m",
      "\u001b[1;31mNameError\u001b[0m                                 Traceback (most recent call last)",
      "Input \u001b[1;32mIn [228]\u001b[0m, in \u001b[0;36m<cell line: 2>\u001b[1;34m()\u001b[0m\n\u001b[0;32m      1\u001b[0m \u001b[38;5;28;01mfrom\u001b[39;00m \u001b[38;5;21;01mrandom\u001b[39;00m \u001b[38;5;28;01mimport\u001b[39;00m \u001b[38;5;241m*\u001b[39m\n\u001b[1;32m----> 2\u001b[0m r1 \u001b[38;5;241m=\u001b[39m \u001b[43mrandn\u001b[49m()\n\u001b[0;32m      3\u001b[0m \u001b[38;5;28mprint\u001b[39m(r1)\n",
      "\u001b[1;31mNameError\u001b[0m: name 'randn' is not defined"
     ]
    }
   ],
   "source": [
    "from random import *\n",
    "r1 = randn()\n",
    "print(r1)"
   ]
  },
  {
   "cell_type": "code",
   "execution_count": 229,
   "id": "86187ea4-7f16-4693-9af3-80593d57060e",
   "metadata": {},
   "outputs": [
    {
     "name": "stdout",
     "output_type": "stream",
     "text": [
      "[-0.07929085 -0.70867775]\n"
     ]
    }
   ],
   "source": [
    "import numpy as np\n",
    "print(np.random.randn(2))"
   ]
  },
  {
   "cell_type": "code",
   "execution_count": 230,
   "id": "614086cb-2a1f-43b9-ade4-2fbe562b238c",
   "metadata": {},
   "outputs": [
    {
     "name": "stdout",
     "output_type": "stream",
     "text": [
      "0.8512029377243422\n"
     ]
    }
   ],
   "source": [
    "import random\n",
    "r = random.random()\n",
    "print(r)"
   ]
  },
  {
   "cell_type": "code",
   "execution_count": 231,
   "id": "a4abd2a9-6b90-4f9b-8c4f-0e385d0fd219",
   "metadata": {},
   "outputs": [
    {
     "name": "stdout",
     "output_type": "stream",
     "text": [
      "[[0.88270961 0.7492226 ]\n",
      " [0.39570791 0.51074594]]\n"
     ]
    }
   ],
   "source": [
    "import numpy as np\n",
    "r=np.random.random((2,2))\n",
    "print(r)"
   ]
  },
  {
   "cell_type": "code",
   "execution_count": 232,
   "id": "8990e9a5-2264-4e8d-b0b5-350bd1246270",
   "metadata": {},
   "outputs": [
    {
     "name": "stdout",
     "output_type": "stream",
     "text": [
      "7\n"
     ]
    }
   ],
   "source": [
    "import random\n",
    "random.seed(20191101)\n",
    "r = random.randint(1, 10)\n",
    "print(r)"
   ]
  },
  {
   "cell_type": "code",
   "execution_count": 233,
   "id": "03913f5a-9c2e-423e-98b5-f22ce2716e0f",
   "metadata": {},
   "outputs": [
    {
     "name": "stdout",
     "output_type": "stream",
     "text": [
      "[1, 2, 3, 4, 5]\n",
      "[1, 4, 5, 3, 2]\n",
      "[3, 5, 1]\n",
      "[2, 5, 1]\n"
     ]
    }
   ],
   "source": [
    "from random import *\n",
    "lst = [1,2,3,4,5]\n",
    "print(lst)\n",
    "shuffle(lst)\n",
    "print(lst)\n",
    "print(sample(lst,3))\n",
    "print(choices(lst, k = 3))"
   ]
  },
  {
   "cell_type": "markdown",
   "id": "c1a770a8-57f7-488d-bc02-2ee5ed406260",
   "metadata": {},
   "source": [
    "# 람다함수"
   ]
  },
  {
   "cell_type": "code",
   "execution_count": 234,
   "id": "1e538923-b83c-4957-9e5a-a5fce337c87c",
   "metadata": {},
   "outputs": [
    {
     "data": {
      "text/plain": [
       "8"
      ]
     },
     "execution_count": 234,
     "metadata": {},
     "output_type": "execute_result"
    }
   ],
   "source": [
    "plus = lambda x, y: x + y\n",
    "plus(3,5)"
   ]
  },
  {
   "cell_type": "code",
   "execution_count": 235,
   "id": "666790b0-cbe9-4a05-b014-3086b336fbc0",
   "metadata": {},
   "outputs": [
    {
     "data": {
      "text/plain": [
       "15"
      ]
     },
     "execution_count": 235,
     "metadata": {},
     "output_type": "execute_result"
    }
   ],
   "source": [
    "my_fn = lambda x, a = 2, b = 7: a * x + b\n",
    "my_fn(4)"
   ]
  },
  {
   "cell_type": "code",
   "execution_count": 246,
   "id": "d7249aa8-cf47-4ed5-9853-b38015fa2c9b",
   "metadata": {},
   "outputs": [
    {
     "ename": "TypeError",
     "evalue": "'int' object is not callable",
     "output_type": "error",
     "traceback": [
      "\u001b[1;31m---------------------------------------------------------------------------\u001b[0m",
      "\u001b[1;31mTypeError\u001b[0m                                 Traceback (most recent call last)",
      "Input \u001b[1;32mIn [246]\u001b[0m, in \u001b[0;36m<cell line: 2>\u001b[1;34m()\u001b[0m\n\u001b[0;32m      1\u001b[0m \u001b[38;5;28mlist\u001b[39m \u001b[38;5;241m=\u001b[39m [\u001b[38;5;241m1\u001b[39m,\u001b[38;5;241m2\u001b[39m,\u001b[38;5;241m3\u001b[39m]\n\u001b[1;32m----> 2\u001b[0m \u001b[38;5;28;43msum\u001b[39;49m\u001b[43m(\u001b[49m\u001b[38;5;28;43mlist\u001b[39;49m\u001b[43m)\u001b[49m\n",
      "\u001b[1;31mTypeError\u001b[0m: 'int' object is not callable"
     ]
    }
   ],
   "source": [
    "list = [1,2,3]\n",
    "sum(list)"
   ]
  },
  {
   "cell_type": "code",
   "execution_count": 1,
   "id": "df64eb16-969a-4c42-9544-c53f7834aa48",
   "metadata": {},
   "outputs": [
    {
     "data": {
      "text/plain": [
       "6"
      ]
     },
     "execution_count": 1,
     "metadata": {},
     "output_type": "execute_result"
    }
   ],
   "source": [
    "list = [1,2,3]\n",
    "sum(list)"
   ]
  },
  {
   "cell_type": "code",
   "execution_count": 246,
   "id": "06d5f8fa-31f4-4cb3-9aed-3c822c5d3273",
   "metadata": {},
   "outputs": [
    {
     "ename": "TypeError",
     "evalue": "'int' object is not callable",
     "output_type": "error",
     "traceback": [
      "\u001b[1;31m---------------------------------------------------------------------------\u001b[0m",
      "\u001b[1;31mTypeError\u001b[0m                                 Traceback (most recent call last)",
      "Input \u001b[1;32mIn [246]\u001b[0m, in \u001b[0;36m<cell line: 2>\u001b[1;34m()\u001b[0m\n\u001b[0;32m      1\u001b[0m \u001b[38;5;28mlist\u001b[39m \u001b[38;5;241m=\u001b[39m [\u001b[38;5;241m1\u001b[39m,\u001b[38;5;241m2\u001b[39m,\u001b[38;5;241m3\u001b[39m]\n\u001b[1;32m----> 2\u001b[0m \u001b[38;5;28;43msum\u001b[39;49m\u001b[43m(\u001b[49m\u001b[38;5;28;43mlist\u001b[39;49m\u001b[43m)\u001b[49m\n",
      "\u001b[1;31mTypeError\u001b[0m: 'int' object is not callable"
     ]
    }
   ],
   "source": [
    "list = [1,2,3]\n",
    "sum(list)"
   ]
  },
  {
   "cell_type": "code",
   "execution_count": 246,
   "id": "75976544-95c5-4ea6-9968-66588bf8883f",
   "metadata": {},
   "outputs": [
    {
     "ename": "TypeError",
     "evalue": "'int' object is not callable",
     "output_type": "error",
     "traceback": [
      "\u001b[1;31m---------------------------------------------------------------------------\u001b[0m",
      "\u001b[1;31mTypeError\u001b[0m                                 Traceback (most recent call last)",
      "Input \u001b[1;32mIn [246]\u001b[0m, in \u001b[0;36m<cell line: 2>\u001b[1;34m()\u001b[0m\n\u001b[0;32m      1\u001b[0m \u001b[38;5;28mlist\u001b[39m \u001b[38;5;241m=\u001b[39m [\u001b[38;5;241m1\u001b[39m,\u001b[38;5;241m2\u001b[39m,\u001b[38;5;241m3\u001b[39m]\n\u001b[1;32m----> 2\u001b[0m \u001b[38;5;28;43msum\u001b[39;49m\u001b[43m(\u001b[49m\u001b[38;5;28;43mlist\u001b[39;49m\u001b[43m)\u001b[49m\n",
      "\u001b[1;31mTypeError\u001b[0m: 'int' object is not callable"
     ]
    }
   ],
   "source": [
    "list = [1,2,3]\n",
    "sum(list)"
   ]
  },
  {
   "cell_type": "code",
   "execution_count": 2,
   "id": "135c9af6-847e-49a9-8e35-5e1ad4be945c",
   "metadata": {},
   "outputs": [
    {
     "data": {
      "text/plain": [
       "56.75"
      ]
     },
     "execution_count": 2,
     "metadata": {},
     "output_type": "execute_result"
    }
   ],
   "source": [
    "my_aver = lambda list: sum(list)/len(list)\n",
    "scorelist = [78, 26, 56, 67]\n",
    "my_aver(scorelist)"
   ]
  },
  {
   "cell_type": "code",
   "execution_count": 239,
   "id": "25733c3d-c12a-425a-ae7d-66f0676e2cea",
   "metadata": {},
   "outputs": [
    {
     "data": {
      "text/plain": [
       "78"
      ]
     },
     "execution_count": 239,
     "metadata": {},
     "output_type": "execute_result"
    }
   ],
   "source": [
    "my_aver = lambda list: list[0]\n",
    "scorelist = [78, 26, 56, 67]\n",
    "my_aver(scorelist)"
   ]
  },
  {
   "cell_type": "code",
   "execution_count": 240,
   "id": "e7f82d39-df74-4900-b7f9-fa9d83caeee9",
   "metadata": {},
   "outputs": [
    {
     "data": {
      "text/plain": [
       "[78, 26, 56, 67]"
      ]
     },
     "execution_count": 240,
     "metadata": {},
     "output_type": "execute_result"
    }
   ],
   "source": [
    "my_aver = lambda list: list\n",
    "scorelist = [78, 26, 56, 67]\n",
    "my_aver(scorelist)"
   ]
  },
  {
   "cell_type": "code",
   "execution_count": 3,
   "id": "974dac5f-5c00-4b37-b718-8f806ae54567",
   "metadata": {},
   "outputs": [
    {
     "ename": "TypeError",
     "evalue": "'int' object is not iterable",
     "output_type": "error",
     "traceback": [
      "\u001b[1;31m---------------------------------------------------------------------------\u001b[0m",
      "\u001b[1;31mTypeError\u001b[0m                                 Traceback (most recent call last)",
      "Input \u001b[1;32mIn [3]\u001b[0m, in \u001b[0;36m<cell line: 3>\u001b[1;34m()\u001b[0m\n\u001b[0;32m      1\u001b[0m my_aver \u001b[38;5;241m=\u001b[39m \u001b[38;5;28;01mlambda\u001b[39;00m \u001b[38;5;28mlist\u001b[39m: \u001b[38;5;28msum\u001b[39m(\u001b[38;5;28mlist\u001b[39m[\u001b[38;5;241m0\u001b[39m])\n\u001b[0;32m      2\u001b[0m scorelist \u001b[38;5;241m=\u001b[39m [\u001b[38;5;241m78\u001b[39m, \u001b[38;5;241m26\u001b[39m, \u001b[38;5;241m56\u001b[39m, \u001b[38;5;241m67\u001b[39m]\n\u001b[1;32m----> 3\u001b[0m \u001b[43mmy_aver\u001b[49m\u001b[43m(\u001b[49m\u001b[43mscorelist\u001b[49m\u001b[43m)\u001b[49m\n",
      "Input \u001b[1;32mIn [3]\u001b[0m, in \u001b[0;36m<lambda>\u001b[1;34m(list)\u001b[0m\n\u001b[1;32m----> 1\u001b[0m my_aver \u001b[38;5;241m=\u001b[39m \u001b[38;5;28;01mlambda\u001b[39;00m \u001b[38;5;28mlist\u001b[39m: \u001b[38;5;28;43msum\u001b[39;49m\u001b[43m(\u001b[49m\u001b[38;5;28;43mlist\u001b[39;49m\u001b[43m[\u001b[49m\u001b[38;5;241;43m0\u001b[39;49m\u001b[43m]\u001b[49m\u001b[43m)\u001b[49m\n\u001b[0;32m      2\u001b[0m scorelist \u001b[38;5;241m=\u001b[39m [\u001b[38;5;241m78\u001b[39m, \u001b[38;5;241m26\u001b[39m, \u001b[38;5;241m56\u001b[39m, \u001b[38;5;241m67\u001b[39m]\n\u001b[0;32m      3\u001b[0m my_aver(scorelist)\n",
      "\u001b[1;31mTypeError\u001b[0m: 'int' object is not iterable"
     ]
    }
   ],
   "source": [
    "my_aver = lambda list: sum(list[0])\n",
    "scorelist = [78, 26, 56, 67]\n",
    "my_aver(scorelist)"
   ]
  },
  {
   "cell_type": "code",
   "execution_count": 4,
   "id": "6051cef8-548d-4ce0-b471-96ff1d5e5178",
   "metadata": {},
   "outputs": [
    {
     "name": "stdout",
     "output_type": "stream",
     "text": [
      "227\n"
     ]
    },
    {
     "data": {
      "text/plain": [
       "4"
      ]
     },
     "execution_count": 4,
     "metadata": {},
     "output_type": "execute_result"
    }
   ],
   "source": [
    "my_aver = lambda list: len(list)\n",
    "scorelist = [78, 26, 56, 67]\n",
    "print(sum(scorelist))\n",
    "my_aver(scorelist)"
   ]
  },
  {
   "cell_type": "markdown",
   "id": "aadb6a5d-fa98-44a4-880f-c49559780c2d",
   "metadata": {},
   "source": []
  },
  {
   "cell_type": "code",
   "execution_count": 5,
   "id": "03a26627-dfac-4ebf-9895-5bfdf1864618",
   "metadata": {},
   "outputs": [
    {
     "data": {
      "text/plain": [
       "[<function __main__.<lambda>(a, b)>, <function __main__.<lambda>(a, b)>]"
      ]
     },
     "execution_count": 5,
     "metadata": {},
     "output_type": "execute_result"
    }
   ],
   "source": [
    "myList = [lambda a, b: a + b, lambda a, b: a * b]\n",
    "\n",
    "myList"
   ]
  },
  {
   "cell_type": "code",
   "execution_count": 6,
   "id": "426407e9-38c4-4f04-aa93-3541758564f0",
   "metadata": {},
   "outputs": [
    {
     "data": {
      "text/plain": [
       "<function __main__.<lambda>(a, b)>"
      ]
     },
     "execution_count": 6,
     "metadata": {},
     "output_type": "execute_result"
    }
   ],
   "source": [
    "myList[0]"
   ]
  },
  {
   "cell_type": "code",
   "execution_count": 7,
   "id": "c91a7a60-20c8-4d80-9297-d226016aa08f",
   "metadata": {},
   "outputs": [
    {
     "data": {
      "text/plain": [
       "7"
      ]
     },
     "execution_count": 7,
     "metadata": {},
     "output_type": "execute_result"
    }
   ],
   "source": [
    "myList[0](3,4)"
   ]
  },
  {
   "cell_type": "code",
   "execution_count": 8,
   "id": "55d8a2b6-78b4-43ed-88fb-01eb78487aea",
   "metadata": {},
   "outputs": [
    {
     "data": {
      "text/plain": [
       "20"
      ]
     },
     "execution_count": 8,
     "metadata": {},
     "output_type": "execute_result"
    }
   ],
   "source": [
    "myList[1](4,5)"
   ]
  },
  {
   "cell_type": "markdown",
   "id": "8abaab6a-d7e7-4b60-9f07-7df950067a90",
   "metadata": {},
   "source": [
    "메모리 사용 측면에서도 효율적인 람다함수 사용"
   ]
  },
  {
   "cell_type": "code",
   "execution_count": 9,
   "id": "4be85eeb-f4b2-433e-88f9-dce6420139c4",
   "metadata": {},
   "outputs": [
    {
     "data": {
      "text/plain": [
       "1"
      ]
     },
     "execution_count": 9,
     "metadata": {},
     "output_type": "execute_result"
    }
   ],
   "source": [
    "f = lambda: 1\n",
    "f()"
   ]
  },
  {
   "cell_type": "code",
   "execution_count": 10,
   "id": "7f92e986-e36e-4f8e-9837-2a20e6cc0220",
   "metadata": {},
   "outputs": [
    {
     "data": {
      "text/plain": [
       "3"
      ]
     },
     "execution_count": 10,
     "metadata": {},
     "output_type": "execute_result"
    }
   ],
   "source": [
    "g = lambda x, y: x + y\n",
    "g(1, 2)"
   ]
  },
  {
   "cell_type": "code",
   "execution_count": 11,
   "id": "17724e45-e9ac-4d6b-8cac-fc70e7cfe891",
   "metadata": {},
   "outputs": [
    {
     "data": {
      "text/plain": [
       "27"
      ]
     },
     "execution_count": 11,
     "metadata": {},
     "output_type": "execute_result"
    }
   ],
   "source": [
    "(lambda x: x**x)(3)"
   ]
  },
  {
   "cell_type": "code",
   "execution_count": 12,
   "id": "a3c2d4ef-0b07-4f7c-af91-4165db8c4ef6",
   "metadata": {},
   "outputs": [
    {
     "data": {
      "text/plain": [
       "3125"
      ]
     },
     "execution_count": 12,
     "metadata": {},
     "output_type": "execute_result"
    }
   ],
   "source": [
    "(lambda x: x**x)(5)"
   ]
  },
  {
   "cell_type": "code",
   "execution_count": 13,
   "id": "76ac148b-8e70-4d6a-a124-02916a812aa0",
   "metadata": {},
   "outputs": [
    {
     "name": "stdout",
     "output_type": "stream",
     "text": [
      "100과 200의 합:  300\n"
     ]
    }
   ],
   "source": [
    "def add(x, y):\n",
    "    return x + y\n",
    "\n",
    "print('100과 200의 합: ', add(100,200))"
   ]
  },
  {
   "cell_type": "code",
   "execution_count": 14,
   "id": "4ceaf386-391b-4e51-b083-8e105d1f200a",
   "metadata": {},
   "outputs": [
    {
     "name": "stdout",
     "output_type": "stream",
     "text": [
      "14\n"
     ]
    }
   ],
   "source": [
    "f = lambda * x: max(x) * 2\n",
    "\n",
    "print(f(1, 3, 7))"
   ]
  },
  {
   "cell_type": "code",
   "execution_count": 15,
   "id": "0d5905ea-ba04-4506-b5b7-fb78062d47af",
   "metadata": {},
   "outputs": [
    {
     "name": "stdout",
     "output_type": "stream",
     "text": [
      "2\n",
      "3\n",
      "4\n"
     ]
    }
   ],
   "source": [
    "f = [lambda x: x + 1, lambda x: x + 2, lambda x: x + 3]\n",
    "\n",
    "print(f[0](1))\n",
    "print(f[1](1))\n",
    "print(f[2](1))"
   ]
  },
  {
   "cell_type": "code",
   "execution_count": 16,
   "id": "fdfd058a-679c-4e63-9972-5f4dc2d73696",
   "metadata": {},
   "outputs": [
    {
     "name": "stdout",
     "output_type": "stream",
     "text": [
      "2\n",
      "4\n",
      "6\n"
     ]
    }
   ],
   "source": [
    "f = [lambda x: x + 1, lambda x: x + 2, lambda x: x + 3]\n",
    "\n",
    "print(f[0](1))\n",
    "print(f[1](2))\n",
    "print(f[2](3))"
   ]
  },
  {
   "cell_type": "code",
   "execution_count": 17,
   "id": "a796885a-cd2c-46da-9050-996ce6026d1d",
   "metadata": {},
   "outputs": [
    {
     "ename": "TypeError",
     "evalue": "<lambda>() takes 1 positional argument but 2 were given",
     "output_type": "error",
     "traceback": [
      "\u001b[1;31m---------------------------------------------------------------------------\u001b[0m",
      "\u001b[1;31mTypeError\u001b[0m                                 Traceback (most recent call last)",
      "Input \u001b[1;32mIn [17]\u001b[0m, in \u001b[0;36m<cell line: 2>\u001b[1;34m()\u001b[0m\n\u001b[0;32m      1\u001b[0m sub \u001b[38;5;241m=\u001b[39m [\u001b[38;5;28;01mlambda\u001b[39;00m x: x \u001b[38;5;241m-\u001b[39m y]\n\u001b[1;32m----> 2\u001b[0m \u001b[38;5;28mprint\u001b[39m(\u001b[43msub\u001b[49m\u001b[43m[\u001b[49m\u001b[38;5;241;43m0\u001b[39;49m\u001b[43m]\u001b[49m\u001b[43m(\u001b[49m\u001b[38;5;241;43m200\u001b[39;49m\u001b[43m,\u001b[49m\u001b[38;5;241;43m100\u001b[39;49m\u001b[43m)\u001b[49m)\n",
      "\u001b[1;31mTypeError\u001b[0m: <lambda>() takes 1 positional argument but 2 were given"
     ]
    }
   ],
   "source": [
    "sub = [lambda x: x - y]\n",
    "print(sub[0](200,100))"
   ]
  },
  {
   "cell_type": "code",
   "execution_count": 18,
   "id": "ff3540da-b2ac-4eef-95ae-28d68a3d987c",
   "metadata": {},
   "outputs": [],
   "source": [
    "def sub(a,b):\n",
    "    a - b\n",
    "    print(a-b)"
   ]
  },
  {
   "cell_type": "code",
   "execution_count": 19,
   "id": "5fdb7604-150a-44dd-af1a-c1c468cd53d3",
   "metadata": {},
   "outputs": [
    {
     "name": "stdout",
     "output_type": "stream",
     "text": [
      "100\n"
     ]
    }
   ],
   "source": [
    "sub(200,100)"
   ]
  },
  {
   "cell_type": "code",
   "execution_count": 20,
   "id": "c07ff012-af8a-4e44-b3d9-49cd2335f41a",
   "metadata": {},
   "outputs": [],
   "source": [
    "def sub(a,b):\n",
    "    a-b\n"
   ]
  },
  {
   "cell_type": "code",
   "execution_count": 21,
   "id": "81293e4e-945c-4bac-aa63-bd86f50648d0",
   "metadata": {},
   "outputs": [],
   "source": [
    "sub(200,100)"
   ]
  },
  {
   "cell_type": "code",
   "execution_count": 3,
   "id": "b29aa91f-ec23-456d-a377-9afb7b30b042",
   "metadata": {},
   "outputs": [],
   "source": [
    "def sub(a,b):\n",
    "    print(a-b)"
   ]
  },
  {
   "cell_type": "code",
   "execution_count": 4,
   "id": "c93c8c7b-31a6-429d-bf16-07f9a2757745",
   "metadata": {},
   "outputs": [
    {
     "name": "stdout",
     "output_type": "stream",
     "text": [
      "100\n"
     ]
    }
   ],
   "source": [
    "sub(200,100)"
   ]
  },
  {
   "cell_type": "markdown",
   "id": "265dff27-a382-4970-abcc-5d1ef82850bb",
   "metadata": {},
   "source": [
    "필터함수"
   ]
  },
  {
   "cell_type": "code",
   "execution_count": 1,
   "id": "fe55cad0-4df2-4f5b-a170-2fa37a340d4a",
   "metadata": {},
   "outputs": [
    {
     "data": {
      "text/plain": [
       "[78, 56, 67]"
      ]
     },
     "execution_count": 1,
     "metadata": {},
     "output_type": "execute_result"
    }
   ],
   "source": [
    "scorelist = [78, 56, 67, 95, 82]\n",
    "list(filter(lambda x: x < 82, scorelist))"
   ]
  },
  {
   "cell_type": "code",
   "execution_count": 2,
   "id": "59a5eef9-60a9-437b-8d34-a8368eddca6e",
   "metadata": {},
   "outputs": [
    {
     "data": {
      "text/plain": [
       "[78, 56, 67]"
      ]
     },
     "execution_count": 2,
     "metadata": {},
     "output_type": "execute_result"
    }
   ],
   "source": [
    "scorelist = [78, 56, 67, 95, 82]\n",
    "list(filter(lambda x: x < 82, scorelist))"
   ]
  },
  {
   "cell_type": "markdown",
   "id": "a9b14392-0051-4f29-adf5-623ad8ef2bec",
   "metadata": {},
   "source": [
    "# 함수 생성"
   ]
  },
  {
   "cell_type": "code",
   "execution_count": 6,
   "id": "8c6dfe04-6a7f-4bbd-8b9d-379c1188b6f0",
   "metadata": {},
   "outputs": [
    {
     "name": "stdout",
     "output_type": "stream",
     "text": [
      "[1, 2, 3, 4]\n"
     ]
    }
   ],
   "source": [
    "f = lambda x: x > 0\n",
    "print(list(filter(f, range(-5, 5))))  # list() 또는 set() 등의 구문을 추가하지 않으면 iterator 형태로만 출력됨"
   ]
  },
  {
   "cell_type": "markdown",
   "id": "abb9e14e-1628-47c9-b24b-8cc3cceb9de7",
   "metadata": {},
   "source": [
    "# reduce() 함수"
   ]
  },
  {
   "cell_type": "code",
   "execution_count": 7,
   "id": "c7a94f54-5b56-4ce2-991f-6ea3e1e47c71",
   "metadata": {},
   "outputs": [
    {
     "data": {
      "text/plain": [
       "24"
      ]
     },
     "execution_count": 7,
     "metadata": {},
     "output_type": "execute_result"
    }
   ],
   "source": [
    "from functools import reduce\n",
    "reduce(lambda x,y: x * y, [1,2,3,4])\n",
    "# ((1*2)*3)*4와 같다"
   ]
  },
  {
   "cell_type": "markdown",
   "id": "1d322649-29ea-4e53-b644-97086f1bf57f",
   "metadata": {},
   "source": [
    "## - 초깃값 설정"
   ]
  },
  {
   "cell_type": "code",
   "execution_count": 9,
   "id": "e52bf339-4970-424d-97de-bf4e145ece9f",
   "metadata": {},
   "outputs": [
    {
     "data": {
      "text/plain": [
       "10"
      ]
     },
     "execution_count": 9,
     "metadata": {},
     "output_type": "execute_result"
    }
   ],
   "source": [
    "reduce(lambda x,y: x+y, [1,2,3,4], 0)"
   ]
  },
  {
   "cell_type": "code",
   "execution_count": 11,
   "id": "7a45703b-8e06-4b4b-b9b2-e21851632d05",
   "metadata": {},
   "outputs": [
    {
     "data": {
      "text/plain": [
       "385"
      ]
     },
     "execution_count": 11,
     "metadata": {},
     "output_type": "execute_result"
    }
   ],
   "source": [
    "reduce(lambda x,y: x + y*y, range(1,11), 0)  # 각 원소를 제곱해서 모두 더하기"
   ]
  },
  {
   "cell_type": "code",
   "execution_count": 12,
   "id": "4992c547-4f9c-4600-bff1-8221c9f7887c",
   "metadata": {},
   "outputs": [
    {
     "data": {
      "text/plain": [
       "385"
      ]
     },
     "execution_count": 12,
     "metadata": {},
     "output_type": "execute_result"
    }
   ],
   "source": [
    "x = 0  # for문으로도 이렇게 돌릴 수 있음\n",
    "for y in range(1, 11):\n",
    "    x = x + y * y\n",
    "\n",
    "x"
   ]
  },
  {
   "cell_type": "markdown",
   "id": "311909f4-bfb3-4ed2-9dce-dee01b328ba5",
   "metadata": {},
   "source": [
    "## zip() 함수"
   ]
  },
  {
   "cell_type": "markdown",
   "id": "c796f7d3-e42c-40c2-82eb-f8c5a2e72adc",
   "metadata": {},
   "source": [
    "zip(*iterable)은 동일한 갯수로 이루어진 자료형을 묶어주는 역할을 하는 함수. 두 개 이상의 list에서 같은 위치끼리 묶어줌"
   ]
  },
  {
   "cell_type": "code",
   "execution_count": 14,
   "id": "4d6b1c4f-c903-476a-b9d0-e20fdf52c7b2",
   "metadata": {},
   "outputs": [
    {
     "name": "stdout",
     "output_type": "stream",
     "text": [
      "<zip object at 0x00000294C16CC400> <class 'zip'>\n",
      "[(1, 'apple', 'red'), (2, 'banana', 'yellow'), (3, 'orange', 'orange')]\n"
     ]
    }
   ],
   "source": [
    "# iterable 자료형\n",
    "num = [1, 2, 3]\n",
    "fruit = ['apple', 'banana', 'orange']\n",
    "color = ['red', 'yellow', 'orange']\n",
    "\n",
    "zip_list = zip(num, fruit, color)\n",
    "print(zip_list, type(zip_list))\n",
    "\n",
    "print(list(zip_list))"
   ]
  },
  {
   "cell_type": "code",
   "execution_count": 15,
   "id": "57eca5f0-4bfa-49d5-9bea-b66d9a3e8836",
   "metadata": {},
   "outputs": [
    {
     "data": {
      "text/plain": [
       "[(1, 3), (2, 4)]"
      ]
     },
     "execution_count": 15,
     "metadata": {},
     "output_type": "execute_result"
    }
   ],
   "source": [
    "list(zip([1,2], [3,4]))  # index 0은 0끼리, 1은 1끼리"
   ]
  },
  {
   "cell_type": "code",
   "execution_count": 16,
   "id": "3e37a61b-e46b-488c-8181-f67b0e84142b",
   "metadata": {},
   "outputs": [
    {
     "data": {
      "text/plain": [
       "[(1, 3, 5), (2, 4, 6)]"
      ]
     },
     "execution_count": 16,
     "metadata": {},
     "output_type": "execute_result"
    }
   ],
   "source": [
    "list(zip([1,2], [3,4], [5,6]))"
   ]
  },
  {
   "cell_type": "code",
   "execution_count": 17,
   "id": "9c2dcaef-328b-40ba-a5c8-9e804d003c5a",
   "metadata": {},
   "outputs": [
    {
     "name": "stdout",
     "output_type": "stream",
     "text": [
      "1 3 5\n",
      "2 4 6\n"
     ]
    }
   ],
   "source": [
    "my_list = [[1,2], [3,4], [5,6]]\n",
    "# asterisk 활용\n",
    "for i, j, k in zip(*my_list):  # * list를 unpack\n",
    "    print(i, j, k)"
   ]
  },
  {
   "cell_type": "code",
   "execution_count": 18,
   "id": "249f1f6d-e5f4-4039-9889-5aba61e67d5a",
   "metadata": {},
   "outputs": [
    {
     "name": "stdout",
     "output_type": "stream",
     "text": [
      "1 3 5\n",
      "2 4 6\n"
     ]
    }
   ],
   "source": [
    "my_list = [[1,2], [3,4], [5,6]]\n",
    "# asterisk 활용\n",
    "for i, j, k in zip([1,2], [3,4], [5,6]):  # * list를 unpack\n",
    "    print(i, j, k)"
   ]
  },
  {
   "cell_type": "code",
   "execution_count": 19,
   "id": "8fc90823-039e-4119-adfe-f09ab21c4c59",
   "metadata": {},
   "outputs": [
    {
     "data": {
      "text/plain": [
       "[(1, 4), (2, 5), (3, 6)]"
      ]
     },
     "execution_count": 19,
     "metadata": {},
     "output_type": "execute_result"
    }
   ],
   "source": [
    "list(zip([1,2,3], [4,5,6]))"
   ]
  },
  {
   "cell_type": "code",
   "execution_count": 20,
   "id": "38f91097-8e2e-4283-8f5d-8276ea917309",
   "metadata": {},
   "outputs": [
    {
     "data": {
      "text/plain": [
       "[('a', 'd'), ('b', 'e'), ('c', 'f')]"
      ]
     },
     "execution_count": 20,
     "metadata": {},
     "output_type": "execute_result"
    }
   ],
   "source": [
    "list(zip(\"abc\", \"def\"))"
   ]
  },
  {
   "cell_type": "code",
   "execution_count": 21,
   "id": "55fb6b27-6b4a-4f16-86b7-c3513ce607af",
   "metadata": {},
   "outputs": [],
   "source": [
    "a_var = [0,1,2,3,4]\n",
    "b_var = [0,1,2,3]\n",
    "c_var = [2,4,6,8]"
   ]
  },
  {
   "cell_type": "code",
   "execution_count": 22,
   "id": "e51d1d84-ad6f-4fa0-9942-5c9ac5734713",
   "metadata": {},
   "outputs": [
    {
     "name": "stdout",
     "output_type": "stream",
     "text": [
      "<zip object at 0x00000294C2A8E0C0>\n"
     ]
    }
   ],
   "source": [
    "print(zip(a_var, b_var, c_var))"
   ]
  },
  {
   "cell_type": "code",
   "execution_count": 23,
   "id": "69e68ff0-a872-4222-a305-036d0727ef8c",
   "metadata": {},
   "outputs": [
    {
     "name": "stdout",
     "output_type": "stream",
     "text": [
      "[(0, 0, 2), (1, 1, 4), (2, 2, 6), (3, 3, 8)]\n"
     ]
    }
   ],
   "source": [
    "print(list(zip(a_var, b_var, c_var)))"
   ]
  },
  {
   "cell_type": "code",
   "execution_count": 24,
   "id": "21bf4cf5-d800-4487-8ab0-b4853c997549",
   "metadata": {},
   "outputs": [
    {
     "name": "stdout",
     "output_type": "stream",
     "text": [
      "(0, 0, 2) (1, 1, 4) (2, 2, 6) (3, 3, 8)\n"
     ]
    }
   ],
   "source": [
    "print(*list(zip(a_var, b_var, c_var)))"
   ]
  },
  {
   "cell_type": "markdown",
   "id": "b0f17f37-9972-44ed-95bf-db734f3d9945",
   "metadata": {},
   "source": [
    "# enumerate() 함수"
   ]
  },
  {
   "cell_type": "code",
   "execution_count": 25,
   "id": "a2dd981d-305e-4f44-a997-27055786ff4b",
   "metadata": {},
   "outputs": [
    {
     "data": {
      "text/plain": [
       "[(0, 'alpha'), (1, 'beta'), (2, 'gamma')]"
      ]
     },
     "execution_count": 25,
     "metadata": {},
     "output_type": "execute_result"
    }
   ],
   "source": [
    "order = ['alpha', 'beta', 'gamma']\n",
    "list(enumerate(order))"
   ]
  },
  {
   "cell_type": "markdown",
   "id": "6d4044b8-0776-4a39-9767-7017e01db6a8",
   "metadata": {},
   "source": [
    "## - 시작 숫자 지정 가능"
   ]
  },
  {
   "cell_type": "code",
   "execution_count": 26,
   "id": "c232cd48-42a7-4b4a-8862-377520504744",
   "metadata": {},
   "outputs": [
    {
     "data": {
      "text/plain": [
       "[(10, 'alpha'), (11, 'beta'), (12, 'gamma')]"
      ]
     },
     "execution_count": 26,
     "metadata": {},
     "output_type": "execute_result"
    }
   ],
   "source": [
    "list(enumerate(order, 10))"
   ]
  },
  {
   "cell_type": "code",
   "execution_count": 28,
   "id": "c706f96d-9245-4933-9a58-498d843189bd",
   "metadata": {},
   "outputs": [
    {
     "name": "stdout",
     "output_type": "stream",
     "text": [
      "0 alpha\n",
      "1 beta\n",
      "2 gamma\n"
     ]
    }
   ],
   "source": [
    "for index, value in enumerate(order):\n",
    "    print(index, value)"
   ]
  },
  {
   "cell_type": "markdown",
   "id": "a73b6ffa-4cec-4d2c-a891-393021fc87b2",
   "metadata": {},
   "source": [
    "# map() 함수"
   ]
  },
  {
   "cell_type": "code",
   "execution_count": 29,
   "id": "6ad2c356-76d3-4d30-a8aa-d6a65863b38b",
   "metadata": {},
   "outputs": [
    {
     "data": {
      "text/plain": [
       "[1, 2, 3, 4, 5]"
      ]
     },
     "execution_count": 29,
     "metadata": {},
     "output_type": "execute_result"
    }
   ],
   "source": [
    "myList = list(range(1,6))\n",
    "myList"
   ]
  },
  {
   "cell_type": "code",
   "execution_count": 30,
   "id": "e4e670d7-3b69-43c2-8744-35f0e8d76fa2",
   "metadata": {},
   "outputs": [
    {
     "name": "stdout",
     "output_type": "stream",
     "text": [
      "result1: [2, 3, 4, 5, 6]\n"
     ]
    }
   ],
   "source": [
    "# for 반복문 이용\n",
    "result1 = []\n",
    "for val in myList:\n",
    "    result1.append(val + 1)\n",
    "\n",
    "print(f'result1: {result1}')"
   ]
  },
  {
   "cell_type": "code",
   "execution_count": 33,
   "id": "85d4316b-f081-499f-9d61-ceff04424ea3",
   "metadata": {},
   "outputs": [
    {
     "name": "stdout",
     "output_type": "stream",
     "text": [
      "result2 : [2, 3, 4, 5, 6]\n"
     ]
    }
   ],
   "source": [
    "# map 함수 이용\n",
    "def add_one(n):\n",
    "    return n + 1\n",
    "\n",
    "result2 = list(map(add_one, myList))  # map 반환을 list로 변환\n",
    "print(f'result2 : {result2}')"
   ]
  },
  {
   "cell_type": "code",
   "execution_count": 35,
   "id": "60cc2f3b-2759-49fc-ad31-2d36837668f8",
   "metadata": {},
   "outputs": [
    {
     "name": "stdout",
     "output_type": "stream",
     "text": [
      "map(int, 리스트): [1, 2, 3, 4, 5]\n"
     ]
    }
   ],
   "source": [
    "# 예졔1) 리스트의 값을 정수타입으로 변환\n",
    "result1 = list(map(int, [1.1, 2.2, 3.3, 4.4, 5.5]))\n",
    "print(f'map(int, 리스트): {result1}')"
   ]
  },
  {
   "cell_type": "code",
   "execution_count": 37,
   "id": "4f152c68-2e4b-4886-8612-119f6b8e135b",
   "metadata": {},
   "outputs": [
    {
     "name": "stdout",
     "output_type": "stream",
     "text": [
      "map(func_pow, 리스트): [1, 32, 243, 1024, 3125]\n"
     ]
    }
   ],
   "source": [
    "# 예제2) 리스트 값 제곱\n",
    "def func_pow(x):\n",
    "    return pow(x, 5)  # x의 5wprhq qksghks\n",
    "\n",
    "result2 = list(map(func_pow, [1,2,3,4,5]))\n",
    "print(f'map(func_pow, 리스트): {result2}')"
   ]
  },
  {
   "cell_type": "code",
   "execution_count": 38,
   "id": "11929a57-e753-4dca-a1d1-14ae6cd458dc",
   "metadata": {},
   "outputs": [
    {
     "name": "stdout",
     "output_type": "stream",
     "text": [
      "map(func_ceil, 리스트): [2, 3, 4, 5, 6]\n"
     ]
    }
   ],
   "source": [
    "# 예제 3\n",
    "import math  # math.ceil 함수 사용\n",
    "\n",
    "result3 = list(map(math.ceil, [1.1, 2.2, 3.3, 4.4, 5.5]))\n",
    "print(f'map(func_ceil, 리스트): {result3}')"
   ]
  },
  {
   "cell_type": "markdown",
   "id": "24326ea5-cba5-404d-9880-8a562fe2970b",
   "metadata": {},
   "source": [
    "여기"
   ]
  },
  {
   "cell_type": "code",
   "execution_count": 39,
   "id": "37f9ec9f-cfc6-47fa-82ad-15c41ab50a47",
   "metadata": {},
   "outputs": [
    {
     "name": "stdout",
     "output_type": "stream",
     "text": [
      "map(람다함수, 리스트): [1, 32, 243, 1024, 3125]\n"
     ]
    }
   ],
   "source": [
    "def func_mul(x):\n",
    "    return x * 2\n",
    "\n",
    "result1 = list(map(func_mul, [5, 4, 3, 2, 1]))\n",
    "print(f\"map(람다함수, 리스트): {result2}\")"
   ]
  },
  {
   "cell_type": "code",
   "execution_count": null,
   "id": "f0bdfe7a-0674-4a83-ae50-4e4d12238990",
   "metadata": {},
   "outputs": [],
   "source": []
  },
  {
   "cell_type": "markdown",
   "id": "d1076ab5-62e6-4a0a-a41c-9a819d56132e",
   "metadata": {},
   "source": [
    "# filter() 함수"
   ]
  },
  {
   "cell_type": "code",
   "execution_count": 42,
   "id": "f14735b5-1c6e-4345-8d3c-ffec3af2e799",
   "metadata": {},
   "outputs": [],
   "source": [
    "arr = [11, 12, 14, 16, 19, 21]"
   ]
  },
  {
   "cell_type": "markdown",
   "id": "12c3a3f0-65e6-4e64-948f-1bab0416e857",
   "metadata": {},
   "source": [
    "여기"
   ]
  },
  {
   "cell_type": "code",
   "execution_count": 53,
   "id": "d93d5b0d-f193-452f-adb2-77482fa18cee",
   "metadata": {},
   "outputs": [
    {
     "ename": "TypeError",
     "evalue": "is_even() takes 0 positional arguments but 1 was given",
     "output_type": "error",
     "traceback": [
      "\u001b[1;31m---------------------------------------------------------------------------\u001b[0m",
      "\u001b[1;31mTypeError\u001b[0m                                 Traceback (most recent call last)",
      "Input \u001b[1;32mIn [53]\u001b[0m, in \u001b[0;36m<cell line: 1>\u001b[1;34m()\u001b[0m\n\u001b[1;32m----> 1\u001b[0m \u001b[43mis_even\u001b[49m\u001b[43m(\u001b[49m\u001b[38;5;241;43m2\u001b[39;49m\u001b[43m)\u001b[49m\n",
      "\u001b[1;31mTypeError\u001b[0m: is_even() takes 0 positional arguments but 1 was given"
     ]
    }
   ],
   "source": [
    "is_even()"
   ]
  },
  {
   "cell_type": "code",
   "execution_count": 55,
   "id": "305e9d00-e6a0-4cf5-8f1a-3fd9b6eba74d",
   "metadata": {},
   "outputs": [
    {
     "name": "stdout",
     "output_type": "stream",
     "text": [
      "arr function: [2, 4, 6, 8, 10]\n"
     ]
    }
   ],
   "source": [
    "def is_even(x):\n",
    "    if x % 2 == 0:\n",
    "        return True\n",
    "    return False\n",
    "\n",
    "# for 반복문 이용\n",
    "arr1 = []\n",
    "for val in range(1, 11): # 1 ~ 10 까지\n",
    "    if is_even(val): # == True:\n",
    "        arr1.append(val)\n",
    "\n",
    "print(f\"arr function: {arr1}\")"
   ]
  },
  {
   "cell_type": "code",
   "execution_count": null,
   "id": "ea39e968-af95-4516-af95-baf5129881fd",
   "metadata": {},
   "outputs": [],
   "source": [
    "def is_even(x):\n",
    "    if x % 2 == 0:\n",
    "        return True\n",
    "    return False"
   ]
  },
  {
   "cell_type": "code",
   "execution_count": 69,
   "id": "28fd7502-b889-49a1-b8d8-65da250c7c2f",
   "metadata": {},
   "outputs": [],
   "source": [
    "arr = []\n",
    "def func1(n):\n",
    "    if n < 10:\n",
    "        return True\n",
    "    return False\n",
    "\n",
    "def func3(n):\n",
    "    return isinstance(n, float)\n",
    "\n",
    "result1 = list(filter(func1, arr))\n",
    "result3 = list(filter(func3, arr))"
   ]
  },
  {
   "cell_type": "code",
   "execution_count": 70,
   "id": "2b678f52-b7c3-48bd-a267-e34b7030e9c4",
   "metadata": {},
   "outputs": [
    {
     "name": "stdout",
     "output_type": "stream",
     "text": [
      "[]\n"
     ]
    },
    {
     "data": {
      "text/plain": [
       "[]"
      ]
     },
     "execution_count": 70,
     "metadata": {},
     "output_type": "execute_result"
    }
   ],
   "source": [
    "print(result1)\n",
    "result3"
   ]
  },
  {
   "cell_type": "code",
   "execution_count": 48,
   "id": "7cdd72c9-82c5-4da8-a147-ac2f58be64ad",
   "metadata": {},
   "outputs": [
    {
     "name": "stdout",
     "output_type": "stream",
     "text": [
      "[-5, -4, -3, -2, -1, 0, 1, 2, 3, 4]\n"
     ]
    }
   ],
   "source": [
    "def func(x):\n",
    "    if x > 0:\n",
    "        return x\n",
    "    else:\n",
    "        return x - 100\n",
    "    \n",
    "print(list(filter(func, range(-5, 5))))"
   ]
  },
  {
   "cell_type": "markdown",
   "id": "26850d7e-7f82-4d11-829a-59d66f6d2c94",
   "metadata": {},
   "source": [
    "문제 1"
   ]
  },
  {
   "cell_type": "code",
   "execution_count": 49,
   "id": "bfb00438-75c4-44d3-8666-95ea5f812eb1",
   "metadata": {},
   "outputs": [
    {
     "data": {
      "text/plain": [
       "[1, 2, 3, 4, 5, 6, 7, 8, 9, 10]"
      ]
     },
     "execution_count": 49,
     "metadata": {},
     "output_type": "execute_result"
    }
   ],
   "source": [
    "n_list = list(range(1,11))\n",
    "n_list"
   ]
  },
  {
   "cell_type": "code",
   "execution_count": null,
   "id": "c42f223d-96ae-4da4-97de-3fca1d69b940",
   "metadata": {},
   "outputs": [],
   "source": [
    "a = [lambda x: x % 2 == 0 if i n_list[i] % 2 == 0 return \"짝수\"]"
   ]
  },
  {
   "cell_type": "code",
   "execution_count": 57,
   "id": "80bb090a-3234-43e7-be99-591f8b3379f5",
   "metadata": {},
   "outputs": [],
   "source": [
    "a = list(range(1,11))"
   ]
  },
  {
   "cell_type": "code",
   "execution_count": 58,
   "id": "05fed64f-0985-4243-bdbe-2fc5b0b027f0",
   "metadata": {},
   "outputs": [
    {
     "name": "stdout",
     "output_type": "stream",
     "text": [
      "[2, 4, 6, 8, 10]\n"
     ]
    }
   ],
   "source": [
    "even_list = lambda a: a % 2 == 0\n",
    "\n",
    "a_even = list()\n",
    "for i in a:\n",
    "    if(even_list(i)==True):\n",
    "        a_even.append(i)\n",
    "\n",
    "print(a_even)"
   ]
  },
  {
   "cell_type": "code",
   "execution_count": 59,
   "id": "e49887bc-54b7-4724-b8c4-a37c887f9982",
   "metadata": {},
   "outputs": [
    {
     "data": {
      "text/plain": [
       "[2, 4, 6, 8, 10]"
      ]
     },
     "execution_count": 59,
     "metadata": {},
     "output_type": "execute_result"
    }
   ],
   "source": [
    "check_even_list = lambda a: a % 2 == 0\n",
    "list(filter(check_even_list, a))"
   ]
  },
  {
   "cell_type": "code",
   "execution_count": 71,
   "id": "f8cd72dd-62c9-4e35-9910-bd79e5f83674",
   "metadata": {},
   "outputs": [
    {
     "name": "stdout",
     "output_type": "stream",
     "text": [
      "4\n"
     ]
    }
   ],
   "source": [
    "import math\n",
    "a=math.ceil(3.7)\n",
    "print(a)\n"
   ]
  },
  {
   "cell_type": "code",
   "execution_count": 73,
   "id": "f75cefb7-41ef-4a5e-955d-f66427568952",
   "metadata": {},
   "outputs": [
    {
     "name": "stdout",
     "output_type": "stream",
     "text": [
      "1\n",
      "2\n",
      "3\n",
      "4\n",
      "5\n"
     ]
    }
   ],
   "source": [
    "a=[1,2,3,4,5]\n",
    "\n",
    "for i in a:\n",
    "\n",
    "   print(i)"
   ]
  },
  {
   "cell_type": "code",
   "execution_count": 74,
   "id": "179fff7b-b324-4708-889a-1a753ec90f29",
   "metadata": {},
   "outputs": [
    {
     "name": "stdout",
     "output_type": "stream",
     "text": [
      "wow\n"
     ]
    }
   ],
   "source": [
    "a=[1,2,3]\n",
    "\n",
    "for i in a :\n",
    "\n",
    "    if (i==2): \n",
    "\n",
    "          print(\"wow\")\n",
    "\n",
    "          break\n",
    "\n",
    "else:\n",
    "\n",
    "    print(\"hello\")"
   ]
  },
  {
   "cell_type": "code",
   "execution_count": 75,
   "id": "1178da3d-81c5-4fb5-84bc-e0d8f2abca8a",
   "metadata": {},
   "outputs": [
    {
     "name": "stdout",
     "output_type": "stream",
     "text": [
      "[1, 3, 5, 7, 9]\n"
     ]
    }
   ],
   "source": [
    "a=[1,2,3,4,5,6,7,8,9,10]\n",
    "\n",
    "check_list = lambda a: a % 2 != 0\n",
    "\n",
    "aa=list()\n",
    "\n",
    "for i in a:\n",
    "\n",
    "    if(check_list(i)==True):\n",
    "\n",
    "        aa.append(i)\n",
    "\n",
    "print(aa)"
   ]
  },
  {
   "cell_type": "code",
   "execution_count": 76,
   "id": "c5885796-00d5-4d99-bbf7-f077a2cee7fc",
   "metadata": {},
   "outputs": [
    {
     "name": "stdout",
     "output_type": "stream",
     "text": [
      "[2, 6, 10]\n"
     ]
    }
   ],
   "source": [
    "numbers=[1,2,3,4,5]\n",
    "\n",
    "result=[n*2 for n in numbers if n%2==1]\n",
    "\n",
    "print(result)"
   ]
  },
  {
   "cell_type": "code",
   "execution_count": 77,
   "id": "6ca55891-4680-45ee-b05c-e10a61975a19",
   "metadata": {},
   "outputs": [
    {
     "name": "stdout",
     "output_type": "stream",
     "text": [
      "120 개입니다\n"
     ]
    }
   ],
   "source": [
    "def func(*data, **method):\n",
    "\n",
    "    sum1=0\n",
    "\n",
    "    for i in data:\n",
    "\n",
    "        sum1+=i\n",
    "\n",
    "    num = sum1*method[\"scale\"]\n",
    "\n",
    "    print(num, method[\"unit\"]+\"입니다\")\n",
    "\n",
    "\n",
    "\n",
    "func(3,4,5, scale=10, unit=\"개\")"
   ]
  },
  {
   "cell_type": "code",
   "execution_count": 78,
   "id": "2876873e-c86e-4747-93e5-ff1e10ae8912",
   "metadata": {},
   "outputs": [
    {
     "data": {
      "text/plain": [
       "[(0, 'alpha'), (1, 'beta'), (2, 'gamma')]"
      ]
     },
     "execution_count": 78,
     "metadata": {},
     "output_type": "execute_result"
    }
   ],
   "source": [
    "order = ['alpha', 'beta', 'gamma']\n",
    "\n",
    "list(enumerate(order))"
   ]
  },
  {
   "cell_type": "code",
   "execution_count": null,
   "id": "73337fa8-e4ec-45be-92bf-0986c682f11e",
   "metadata": {},
   "outputs": [],
   "source": []
  }
 ],
 "metadata": {
  "kernelspec": {
   "display_name": "Python 3 (ipykernel)",
   "language": "python",
   "name": "python3"
  },
  "language_info": {
   "codemirror_mode": {
    "name": "ipython",
    "version": 3
   },
   "file_extension": ".py",
   "mimetype": "text/x-python",
   "name": "python",
   "nbconvert_exporter": "python",
   "pygments_lexer": "ipython3",
   "version": "3.9.12"
  }
 },
 "nbformat": 4,
 "nbformat_minor": 5
}
