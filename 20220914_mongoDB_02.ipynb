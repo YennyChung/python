{
 "cells": [
  {
   "cell_type": "code",
   "execution_count": 1,
   "id": "d9eba71d",
   "metadata": {},
   "outputs": [],
   "source": [
    "import pymongo"
   ]
  },
  {
   "cell_type": "code",
   "execution_count": 2,
   "id": "1171c178",
   "metadata": {},
   "outputs": [
    {
     "name": "stdout",
     "output_type": "stream",
     "text": [
      "conn : MongoClient(host=['localhost:27017'], document_class=dict, tz_aware=False, connect=True)\n"
     ]
    }
   ],
   "source": [
    "# MongoDB 연결하기\n",
    "conn = pymongo.MongoClient()\n",
    "print('conn :',conn)"
   ]
  },
  {
   "cell_type": "code",
   "execution_count": 3,
   "id": "9b8af8e5",
   "metadata": {},
   "outputs": [
    {
     "name": "stdout",
     "output_type": "stream",
     "text": [
      "Database(MongoClient(host=['localhost:27017'], document_class=dict, tz_aware=False, connect=True), 'books')\n"
     ]
    }
   ],
   "source": [
    "# Database 생성하기\n",
    "books = conn.books\n",
    "print(books)"
   ]
  },
  {
   "cell_type": "code",
   "execution_count": 4,
   "id": "6adff364",
   "metadata": {},
   "outputs": [
    {
     "name": "stdout",
     "output_type": "stream",
     "text": [
      "Collection(Database(MongoClient(host=['localhost:27017'], document_class=dict, tz_aware=False, connect=True), 'books'), 'collection_books')\n"
     ]
    }
   ],
   "source": [
    "# Collection 생성하기\n",
    "collection_books = books.collection_books\n",
    "print(collection_books)"
   ]
  },
  {
   "cell_type": "code",
   "execution_count": 5,
   "id": "2119c893",
   "metadata": {},
   "outputs": [],
   "source": [
    "data = []\n",
    "for idx in range(100):\n",
    "    data.append({\"author\":\"이순신\",\"publisher\":\"conet\", \"number\":idx})"
   ]
  },
  {
   "cell_type": "code",
   "execution_count": 6,
   "id": "93fd7c7f",
   "metadata": {},
   "outputs": [
    {
     "name": "stdout",
     "output_type": "stream",
     "text": [
      "[{'author': '이순신', 'number': 0, 'publisher': 'conet'},\n",
      " {'author': '이순신', 'number': 1, 'publisher': 'conet'},\n",
      " {'author': '이순신', 'number': 2, 'publisher': 'conet'},\n",
      " {'author': '이순신', 'number': 3, 'publisher': 'conet'},\n",
      " {'author': '이순신', 'number': 4, 'publisher': 'conet'},\n",
      " {'author': '이순신', 'number': 5, 'publisher': 'conet'},\n",
      " {'author': '이순신', 'number': 6, 'publisher': 'conet'},\n",
      " {'author': '이순신', 'number': 7, 'publisher': 'conet'},\n",
      " {'author': '이순신', 'number': 8, 'publisher': 'conet'},\n",
      " {'author': '이순신', 'number': 9, 'publisher': 'conet'},\n",
      " {'author': '이순신', 'number': 10, 'publisher': 'conet'},\n",
      " {'author': '이순신', 'number': 11, 'publisher': 'conet'},\n",
      " {'author': '이순신', 'number': 12, 'publisher': 'conet'},\n",
      " {'author': '이순신', 'number': 13, 'publisher': 'conet'},\n",
      " {'author': '이순신', 'number': 14, 'publisher': 'conet'},\n",
      " {'author': '이순신', 'number': 15, 'publisher': 'conet'},\n",
      " {'author': '이순신', 'number': 16, 'publisher': 'conet'},\n",
      " {'author': '이순신', 'number': 17, 'publisher': 'conet'},\n",
      " {'author': '이순신', 'number': 18, 'publisher': 'conet'},\n",
      " {'author': '이순신', 'number': 19, 'publisher': 'conet'},\n",
      " {'author': '이순신', 'number': 20, 'publisher': 'conet'},\n",
      " {'author': '이순신', 'number': 21, 'publisher': 'conet'},\n",
      " {'author': '이순신', 'number': 22, 'publisher': 'conet'},\n",
      " {'author': '이순신', 'number': 23, 'publisher': 'conet'},\n",
      " {'author': '이순신', 'number': 24, 'publisher': 'conet'},\n",
      " {'author': '이순신', 'number': 25, 'publisher': 'conet'},\n",
      " {'author': '이순신', 'number': 26, 'publisher': 'conet'},\n",
      " {'author': '이순신', 'number': 27, 'publisher': 'conet'},\n",
      " {'author': '이순신', 'number': 28, 'publisher': 'conet'},\n",
      " {'author': '이순신', 'number': 29, 'publisher': 'conet'},\n",
      " {'author': '이순신', 'number': 30, 'publisher': 'conet'},\n",
      " {'author': '이순신', 'number': 31, 'publisher': 'conet'},\n",
      " {'author': '이순신', 'number': 32, 'publisher': 'conet'},\n",
      " {'author': '이순신', 'number': 33, 'publisher': 'conet'},\n",
      " {'author': '이순신', 'number': 34, 'publisher': 'conet'},\n",
      " {'author': '이순신', 'number': 35, 'publisher': 'conet'},\n",
      " {'author': '이순신', 'number': 36, 'publisher': 'conet'},\n",
      " {'author': '이순신', 'number': 37, 'publisher': 'conet'},\n",
      " {'author': '이순신', 'number': 38, 'publisher': 'conet'},\n",
      " {'author': '이순신', 'number': 39, 'publisher': 'conet'},\n",
      " {'author': '이순신', 'number': 40, 'publisher': 'conet'},\n",
      " {'author': '이순신', 'number': 41, 'publisher': 'conet'},\n",
      " {'author': '이순신', 'number': 42, 'publisher': 'conet'},\n",
      " {'author': '이순신', 'number': 43, 'publisher': 'conet'},\n",
      " {'author': '이순신', 'number': 44, 'publisher': 'conet'},\n",
      " {'author': '이순신', 'number': 45, 'publisher': 'conet'},\n",
      " {'author': '이순신', 'number': 46, 'publisher': 'conet'},\n",
      " {'author': '이순신', 'number': 47, 'publisher': 'conet'},\n",
      " {'author': '이순신', 'number': 48, 'publisher': 'conet'},\n",
      " {'author': '이순신', 'number': 49, 'publisher': 'conet'},\n",
      " {'author': '이순신', 'number': 50, 'publisher': 'conet'},\n",
      " {'author': '이순신', 'number': 51, 'publisher': 'conet'},\n",
      " {'author': '이순신', 'number': 52, 'publisher': 'conet'},\n",
      " {'author': '이순신', 'number': 53, 'publisher': 'conet'},\n",
      " {'author': '이순신', 'number': 54, 'publisher': 'conet'},\n",
      " {'author': '이순신', 'number': 55, 'publisher': 'conet'},\n",
      " {'author': '이순신', 'number': 56, 'publisher': 'conet'},\n",
      " {'author': '이순신', 'number': 57, 'publisher': 'conet'},\n",
      " {'author': '이순신', 'number': 58, 'publisher': 'conet'},\n",
      " {'author': '이순신', 'number': 59, 'publisher': 'conet'},\n",
      " {'author': '이순신', 'number': 60, 'publisher': 'conet'},\n",
      " {'author': '이순신', 'number': 61, 'publisher': 'conet'},\n",
      " {'author': '이순신', 'number': 62, 'publisher': 'conet'},\n",
      " {'author': '이순신', 'number': 63, 'publisher': 'conet'},\n",
      " {'author': '이순신', 'number': 64, 'publisher': 'conet'},\n",
      " {'author': '이순신', 'number': 65, 'publisher': 'conet'},\n",
      " {'author': '이순신', 'number': 66, 'publisher': 'conet'},\n",
      " {'author': '이순신', 'number': 67, 'publisher': 'conet'},\n",
      " {'author': '이순신', 'number': 68, 'publisher': 'conet'},\n",
      " {'author': '이순신', 'number': 69, 'publisher': 'conet'},\n",
      " {'author': '이순신', 'number': 70, 'publisher': 'conet'},\n",
      " {'author': '이순신', 'number': 71, 'publisher': 'conet'},\n",
      " {'author': '이순신', 'number': 72, 'publisher': 'conet'},\n",
      " {'author': '이순신', 'number': 73, 'publisher': 'conet'},\n",
      " {'author': '이순신', 'number': 74, 'publisher': 'conet'},\n",
      " {'author': '이순신', 'number': 75, 'publisher': 'conet'},\n",
      " {'author': '이순신', 'number': 76, 'publisher': 'conet'},\n",
      " {'author': '이순신', 'number': 77, 'publisher': 'conet'},\n",
      " {'author': '이순신', 'number': 78, 'publisher': 'conet'},\n",
      " {'author': '이순신', 'number': 79, 'publisher': 'conet'},\n",
      " {'author': '이순신', 'number': 80, 'publisher': 'conet'},\n",
      " {'author': '이순신', 'number': 81, 'publisher': 'conet'},\n",
      " {'author': '이순신', 'number': 82, 'publisher': 'conet'},\n",
      " {'author': '이순신', 'number': 83, 'publisher': 'conet'},\n",
      " {'author': '이순신', 'number': 84, 'publisher': 'conet'},\n",
      " {'author': '이순신', 'number': 85, 'publisher': 'conet'},\n",
      " {'author': '이순신', 'number': 86, 'publisher': 'conet'},\n",
      " {'author': '이순신', 'number': 87, 'publisher': 'conet'},\n",
      " {'author': '이순신', 'number': 88, 'publisher': 'conet'},\n",
      " {'author': '이순신', 'number': 89, 'publisher': 'conet'},\n",
      " {'author': '이순신', 'number': 90, 'publisher': 'conet'},\n",
      " {'author': '이순신', 'number': 91, 'publisher': 'conet'},\n",
      " {'author': '이순신', 'number': 92, 'publisher': 'conet'},\n",
      " {'author': '이순신', 'number': 93, 'publisher': 'conet'},\n",
      " {'author': '이순신', 'number': 94, 'publisher': 'conet'},\n",
      " {'author': '이순신', 'number': 95, 'publisher': 'conet'},\n",
      " {'author': '이순신', 'number': 96, 'publisher': 'conet'},\n",
      " {'author': '이순신', 'number': 97, 'publisher': 'conet'},\n",
      " {'author': '이순신', 'number': 98, 'publisher': 'conet'},\n",
      " {'author': '이순신', 'number': 99, 'publisher': 'conet'}]\n"
     ]
    }
   ],
   "source": [
    "import pprint\n",
    "pprint.pprint(data)"
   ]
  },
  {
   "cell_type": "code",
   "execution_count": 7,
   "id": "fc5ba292",
   "metadata": {},
   "outputs": [
    {
     "data": {
      "text/plain": [
       "<pymongo.results.InsertManyResult at 0x2291f931070>"
      ]
     },
     "execution_count": 7,
     "metadata": {},
     "output_type": "execute_result"
    }
   ],
   "source": [
    "'''\n",
    "insert_many() 메소드를 사용해서 data 리스트를 \n",
    "collection_books 컬렉션에 insert 하기\n",
    " ㄴ data 리스트의 item 하나하나(dictionary)가 \n",
    "    collection_books 컬렉션의 document 로 추가됨\n",
    "'''\n",
    "collection_books.insert_many(data)"
   ]
  },
  {
   "cell_type": "code",
   "execution_count": 8,
   "id": "b016b30f",
   "metadata": {},
   "outputs": [
    {
     "data": {
      "text/plain": [
       "<pymongo.results.DeleteResult at 0x2291f932850>"
      ]
     },
     "execution_count": 8,
     "metadata": {},
     "output_type": "execute_result"
    }
   ],
   "source": [
    "'''\n",
    "number 가 9 이상인 document 삭제하기\n",
    "'''\n",
    "collection_books.delete_many({\"number\" : {\"$gt\" : 8}})"
   ]
  },
  {
   "cell_type": "code",
   "execution_count": 9,
   "id": "6825c5ad",
   "metadata": {},
   "outputs": [
    {
     "name": "stdout",
     "output_type": "stream",
     "text": [
      "{'_id': ObjectId('6321856ddd2876cf5b9636cd'),\n",
      " 'author': '이순신',\n",
      " 'number': 0,\n",
      " 'publisher': 'conet'}\n",
      "{'_id': ObjectId('6321856ddd2876cf5b9636ce'),\n",
      " 'author': '이순신',\n",
      " 'number': 1,\n",
      " 'publisher': 'conet'}\n",
      "{'_id': ObjectId('6321856ddd2876cf5b9636cf'),\n",
      " 'author': '이순신',\n",
      " 'number': 2,\n",
      " 'publisher': 'conet'}\n",
      "{'_id': ObjectId('6321856ddd2876cf5b9636d0'),\n",
      " 'author': '이순신',\n",
      " 'number': 3,\n",
      " 'publisher': 'conet'}\n",
      "{'_id': ObjectId('6321856ddd2876cf5b9636d1'),\n",
      " 'author': '이순신',\n",
      " 'number': 4,\n",
      " 'publisher': 'conet'}\n",
      "{'_id': ObjectId('6321856ddd2876cf5b9636d2'),\n",
      " 'author': '이순신',\n",
      " 'number': 5,\n",
      " 'publisher': 'conet'}\n",
      "{'_id': ObjectId('6321856ddd2876cf5b9636d3'),\n",
      " 'author': '이순신',\n",
      " 'number': 6,\n",
      " 'publisher': 'conet'}\n",
      "{'_id': ObjectId('6321856ddd2876cf5b9636d4'),\n",
      " 'author': '이순신',\n",
      " 'number': 7,\n",
      " 'publisher': 'conet'}\n",
      "{'_id': ObjectId('6321856ddd2876cf5b9636d5'),\n",
      " 'author': '이순신',\n",
      " 'number': 8,\n",
      " 'publisher': 'conet'}\n"
     ]
    }
   ],
   "source": [
    "for document in collection_books.find():\n",
    "    pprint.pprint(document)"
   ]
  },
  {
   "cell_type": "code",
   "execution_count": 10,
   "id": "6acb8789",
   "metadata": {},
   "outputs": [
    {
     "data": {
      "text/plain": [
       "<pymongo.results.UpdateResult at 0x2291f932e50>"
      ]
     },
     "execution_count": 10,
     "metadata": {},
     "output_type": "execute_result"
    }
   ],
   "source": [
    "'''\n",
    "현재, publisher 가 conet 으로 되어있는데\n",
    "      publisher 를 DMC 로 변경하기\n",
    "'''\n",
    "collection_books.update_many({}, {\"$set\":{\"publisher\":\"DMC\"}})"
   ]
  },
  {
   "cell_type": "code",
   "execution_count": 11,
   "id": "428d1bf7",
   "metadata": {},
   "outputs": [
    {
     "name": "stdout",
     "output_type": "stream",
     "text": [
      "{'_id': ObjectId('6321856ddd2876cf5b9636cd'),\n",
      " 'author': '이순신',\n",
      " 'number': 0,\n",
      " 'publisher': 'DMC'}\n",
      "{'_id': ObjectId('6321856ddd2876cf5b9636ce'),\n",
      " 'author': '이순신',\n",
      " 'number': 1,\n",
      " 'publisher': 'DMC'}\n",
      "{'_id': ObjectId('6321856ddd2876cf5b9636cf'),\n",
      " 'author': '이순신',\n",
      " 'number': 2,\n",
      " 'publisher': 'DMC'}\n",
      "{'_id': ObjectId('6321856ddd2876cf5b9636d0'),\n",
      " 'author': '이순신',\n",
      " 'number': 3,\n",
      " 'publisher': 'DMC'}\n",
      "{'_id': ObjectId('6321856ddd2876cf5b9636d1'),\n",
      " 'author': '이순신',\n",
      " 'number': 4,\n",
      " 'publisher': 'DMC'}\n",
      "{'_id': ObjectId('6321856ddd2876cf5b9636d2'),\n",
      " 'author': '이순신',\n",
      " 'number': 5,\n",
      " 'publisher': 'DMC'}\n",
      "{'_id': ObjectId('6321856ddd2876cf5b9636d3'),\n",
      " 'author': '이순신',\n",
      " 'number': 6,\n",
      " 'publisher': 'DMC'}\n",
      "{'_id': ObjectId('6321856ddd2876cf5b9636d4'),\n",
      " 'author': '이순신',\n",
      " 'number': 7,\n",
      " 'publisher': 'DMC'}\n",
      "{'_id': ObjectId('6321856ddd2876cf5b9636d5'),\n",
      " 'author': '이순신',\n",
      " 'number': 8,\n",
      " 'publisher': 'DMC'}\n"
     ]
    }
   ],
   "source": [
    "for document in collection_books.find():\n",
    "    pprint.pprint(document)"
   ]
  },
  {
   "cell_type": "code",
   "execution_count": null,
   "id": "e6b26acb",
   "metadata": {},
   "outputs": [],
   "source": []
  },
  {
   "cell_type": "code",
   "execution_count": null,
   "id": "01162fde-1d93-4c57-a159-7c42d7711c97",
   "metadata": {},
   "outputs": [],
   "source": []
  }
 ],
 "metadata": {
  "kernelspec": {
   "display_name": "Python 3 (ipykernel)",
   "language": "python",
   "name": "python3"
  },
  "language_info": {
   "codemirror_mode": {
    "name": "ipython",
    "version": 3
   },
   "file_extension": ".py",
   "mimetype": "text/x-python",
   "name": "python",
   "nbconvert_exporter": "python",
   "pygments_lexer": "ipython3",
   "version": "3.9.12"
  }
 },
 "nbformat": 4,
 "nbformat_minor": 5
}
