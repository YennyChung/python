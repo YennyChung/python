{
 "cells": [
  {
   "cell_type": "markdown",
   "id": "6e848c59-59dd-43cc-bb8d-2802fd04df4f",
   "metadata": {},
   "source": [
    "## 연습문제 (반복문, 제어문, 함수 등)"
   ]
  },
  {
   "cell_type": "markdown",
   "id": "8beef398-6460-4caa-a97f-542ecfe0243a",
   "metadata": {},
   "source": [
    "#### 퀴즈 1.\n",
    "섭씨온도를 매개변수로 넘겨받아서 이를 화씨온도로 반환하는 cel2fah(cel) 함수"
   ]
  },
  {
   "cell_type": "code",
   "execution_count": 15,
   "id": "d6599783-8780-4f83-a406-3088d4e7415f",
   "metadata": {},
   "outputs": [
    {
     "name": "stdout",
     "output_type": "stream",
     "text": [
      "섭씨: 10 도 = 화씨: 50.0\n",
      "섭씨: 20 도 = 화씨: 68.0\n",
      "섭씨: 30 도 = 화씨: 86.0\n",
      "섭씨: 40 도 = 화씨: 104.0\n",
      "섭씨: 50 도 = 화씨: 122.0\n"
     ]
    }
   ],
   "source": [
    "def cel2fah(cel):\n",
    "    fahrenheit = (9/5) * cel + 32\n",
    "    return fahrenheit\n",
    "\n",
    "celsius = list(range(10,51,10))\n",
    "result = []\n",
    "for cels in celsius:\n",
    "    fah = cel2fah(cels)\n",
    "    result.append(fah)\n",
    "    print('섭씨:', cels, '도 = 화씨:', fah)"
   ]
  },
  {
   "cell_type": "markdown",
   "id": "23f3acf6-18b8-4f32-ae58-035d5b33c6af",
   "metadata": {},
   "source": [
    "#### 퀴즈 2. \n",
    "n개의 숫자를 가변인수로 받은 후 이 숫자들을 오름차순으로 정렬하여 출력하는 my_sort() 함수"
   ]
  },
  {
   "cell_type": "code",
   "execution_count": 17,
   "id": "372dc748-81f0-49f8-89cd-3ee6e28b04ab",
   "metadata": {},
   "outputs": [
    {
     "data": {
      "text/plain": [
       "[3, 4, 5, 45, 56]"
      ]
     },
     "execution_count": 17,
     "metadata": {},
     "output_type": "execute_result"
    }
   ],
   "source": [
    "def my_sort(*numbers):\n",
    "    a = []\n",
    "    for i in numbers:\n",
    "        a.append(i)\n",
    "    a.sort()\n",
    "    return a\n",
    "\n",
    "my_sort(45, 3, 4, 56, 5)"
   ]
  },
  {
   "cell_type": "code",
   "execution_count": 23,
   "id": "50b50977-bf97-4e8a-9481-c34e44b8af4b",
   "metadata": {},
   "outputs": [
    {
     "name": "stdin",
     "output_type": "stream",
     "text": [
      "숫자입력 45 3 4 56 5\n"
     ]
    },
    {
     "data": {
      "text/plain": [
       "[3, 4, 5, 45, 56]"
      ]
     },
     "execution_count": 23,
     "metadata": {},
     "output_type": "execute_result"
    }
   ],
   "source": [
    "def my_sort():\n",
    "    numbers = input('숫자입력')\n",
    "    numbers = map(int,numbers.split(' '))\n",
    "    numbers = list(numbers)\n",
    "    numbers = sorted(numbers, reverse=False)\n",
    "    return numbers\n",
    "\n",
    "my_sort()"
   ]
  },
  {
   "cell_type": "code",
   "execution_count": 27,
   "id": "164d2ed8-64ad-45b2-855f-117536465f2c",
   "metadata": {},
   "outputs": [
    {
     "name": "stdin",
     "output_type": "stream",
     "text": [
      " 45 3 4 56 5\n"
     ]
    },
    {
     "name": "stdout",
     "output_type": "stream",
     "text": [
      "[ 3  4  5 45 56]\n"
     ]
    }
   ],
   "source": [
    "import pandas as pd\n",
    "a = input()\n",
    "a = pd.Series(a.split(' ')).map(int).sort_values().values\n",
    "print(a)"
   ]
  },
  {
   "cell_type": "code",
   "execution_count": 28,
   "id": "05b26af2-791c-4189-b27e-9a67ee8d5c6d",
   "metadata": {},
   "outputs": [
    {
     "data": {
      "text/plain": [
       "array([ 3,  4,  5, 45, 56])"
      ]
     },
     "execution_count": 28,
     "metadata": {},
     "output_type": "execute_result"
    }
   ],
   "source": [
    "a"
   ]
  },
  {
   "cell_type": "code",
   "execution_count": 29,
   "id": "ed3babc5-811c-4bf0-8319-617970a540ff",
   "metadata": {},
   "outputs": [
    {
     "data": {
      "text/plain": [
       "[3, 4, 5, 45, 56]"
      ]
     },
     "execution_count": 29,
     "metadata": {},
     "output_type": "execute_result"
    }
   ],
   "source": [
    "list(a)"
   ]
  },
  {
   "cell_type": "markdown",
   "id": "225e414a-34ee-4800-a8f3-8f17adc1ee3f",
   "metadata": {
    "tags": []
   },
   "source": [
    "#### 퀴즈 3. \n",
    "n1에서 n2까지의 정수의 합을 구하는 함수 sum_range(n1, n2)"
   ]
  },
  {
   "cell_type": "code",
   "execution_count": 3,
   "id": "1e7ac67b-0df1-4604-9048-696cc9a21662",
   "metadata": {},
   "outputs": [
    {
     "name": "stdout",
     "output_type": "stream",
     "text": [
      "10에서 20까지의 정수의 합:  165\n",
      "40에서 100까지의 정수의 합:  4270\n"
     ]
    }
   ],
   "source": [
    "def sum_range(n1, n2):\n",
    "    s = 0\n",
    "    for i in range(n1, n2+1):\n",
    "        s += i\n",
    "    return s\n",
    "\n",
    "n1 = sum_range(10,20)\n",
    "n2 = sum_range(40,100)\n",
    "\n",
    "print('{}에서 {}까지의 정수의 합: '.format(10,20), n1)\n",
    "print('{}에서 {}까지의 정수의 합: '.format(40,100), n2)"
   ]
  },
  {
   "cell_type": "markdown",
   "id": "1818a9b5-e4a8-43ee-8ff3-8b9c5cbf65ee",
   "metadata": {},
   "source": [
    "## 퀴즈 4.\n",
    "n_list = [1,2,3,4,5,6,7,8,9,10]\n",
    "n_list\n",
    "filter 의 데이터에서 홀수만을 추출하여 아래와 같이 만들고 싶다 함수를 이용해 작성.\n",
    "원하는 결과: new_list = [1,3,5,7,9]"
   ]
  },
  {
   "cell_type": "code",
   "execution_count": 20,
   "id": "8e2c0b3f-c0ea-4f1e-ab75-f6f2adaa3490",
   "metadata": {},
   "outputs": [
    {
     "name": "stdout",
     "output_type": "stream",
     "text": [
      "<filter object at 0x7f9419de7970>\n",
      "[1, 3, 5, 7, 9]\n"
     ]
    }
   ],
   "source": [
    "n_list = list(range(1,11,1))\n",
    "def extract_odds(n):\n",
    "    return True if n % 2 != 0 else False\n",
    "\n",
    "result = filter(extract_odds, n_list)\n",
    "print(result)\n",
    "print(list(result))"
   ]
  },
  {
   "cell_type": "markdown",
   "id": "9b2a2fb7-72e4-458b-8a53-6b1e50161c83",
   "metadata": {},
   "source": [
    "## 퀴즈 5."
   ]
  },
  {
   "cell_type": "code",
   "execution_count": 30,
   "id": "06f13749-5dad-4a5e-a2ec-c80b84b7064b",
   "metadata": {},
   "outputs": [
    {
     "data": {
      "text/plain": [
       "[88, 66, 77, 105, 92]"
      ]
     },
     "execution_count": 30,
     "metadata": {},
     "output_type": "execute_result"
    }
   ],
   "source": [
    "scorelist = [78, 56, 67, 95, 82]\n",
    "squares = map(lambda x: x+10, scorelist)\n",
    "list(squares)"
   ]
  },
  {
   "cell_type": "markdown",
   "id": "fdbdee62-d696-47f0-88c2-e1c661afbd07",
   "metadata": {},
   "source": [
    "## 퀴즈 6."
   ]
  },
  {
   "cell_type": "code",
   "execution_count": 32,
   "id": "74df5e15-618c-4216-835a-fca842dc37e3",
   "metadata": {},
   "outputs": [
    {
     "name": "stdout",
     "output_type": "stream",
     "text": [
      "10\n"
     ]
    }
   ],
   "source": [
    "from functools import reduce\n",
    "\n",
    "a = [1, 2, 3, 4]\n",
    "n = reduce(lambda x, y: x + y, a)\n",
    "print(n)"
   ]
  },
  {
   "cell_type": "markdown",
   "id": "b2f45bad-ac28-4d81-b15d-a37f05178e11",
   "metadata": {},
   "source": [
    "## 퀴즈 7. \n",
    "리스트 축약(list comprehension)방법 이용"
   ]
  },
  {
   "cell_type": "code",
   "execution_count": 38,
   "id": "101f9d69-539a-442e-8fe6-fbec1ffff13d",
   "metadata": {},
   "outputs": [
    {
     "name": "stdout",
     "output_type": "stream",
     "text": [
      "b= [1, 4, 9, 16, 25, 36, 49]\n"
     ]
    }
   ],
   "source": [
    "a = list(range(1,8,1))\n",
    "\n",
    "b = [i ** 2 for i in a]\n",
    "print(\"b=\",b)"
   ]
  },
  {
   "cell_type": "markdown",
   "id": "03b7fd9a-6643-489f-b08f-80eaa824fa8b",
   "metadata": {},
   "source": [
    "## 퀴즈 8.\n",
    "txt파일 생성하는 코드 작성"
   ]
  },
  {
   "cell_type": "code",
   "execution_count": 39,
   "id": "0fc5a656-eb2c-4f69-a857-0ce06b20c71f",
   "metadata": {},
   "outputs": [],
   "source": [
    "with open('text.txt', 'w') as file:\n",
    "    file.write('1번째 줄입니다.\\n')\n",
    "    file.write('2번째 줄입니다.\\n')\n",
    "    file.write('3번째 줄입니다.\\n')"
   ]
  },
  {
   "cell_type": "markdown",
   "id": "597a7a6b-431e-45c8-ad1d-efedbfed3f86",
   "metadata": {},
   "source": [
    "## 퀴즈 9.\n",
    "1) 엑셀파일 열어서 csv 파일로 저장\n",
    "2) 저장된 csv 파일을 파이썬을 이용해서 읽어들이고, 출력"
   ]
  },
  {
   "cell_type": "code",
   "execution_count": 41,
   "id": "166ffb0d-ce2a-4c53-9c13-599b4b510514",
   "metadata": {},
   "outputs": [],
   "source": [
    "import csv\n",
    "with open('대학최종.csv', newline = '') as csvfile:\n",
    "    data = csv.reader(csvfile)"
   ]
  },
  {
   "cell_type": "code",
   "execution_count": 42,
   "id": "8fe40294-2659-475f-a274-86a5a3b25663",
   "metadata": {},
   "outputs": [
    {
     "data": {
      "text/plain": [
       "<_csv.reader at 0x7f9419fb6900>"
      ]
     },
     "execution_count": 42,
     "metadata": {},
     "output_type": "execute_result"
    }
   ],
   "source": [
    "data"
   ]
  },
  {
   "cell_type": "code",
   "execution_count": 47,
   "id": "8e1ff893-d10f-4e62-85bf-5bdc68775ab0",
   "metadata": {},
   "outputs": [
    {
     "name": "stdout",
     "output_type": "stream",
     "text": [
      "{'\\ufeff': '', 'Univeristy': 'UNIVERSITY OF SOUTHERN CALIFORNIA', 'Deadline': '1.15', '': '', 'TOEFL': '90', 'GRE': '0', 'Online/Offline': '', 'Ranking': '', 'STEM': '', 'Comments': '', 'Applicablity': 'not applicable'}\n",
      "{'\\ufeff': '', 'Univeristy': 'MAHARISHI UNIVERSITY OF MANAGEMENT', 'Deadline': '1.31', '': '', 'TOEFL': '0', 'GRE': '0', 'Online/Offline': '', 'Ranking': '', 'STEM': '', 'Comments': '', 'Applicablity': ''}\n",
      "{'\\ufeff': '', 'Univeristy': 'UNIVERSITY OF ARKANSAS', 'Deadline': '2.1', '': '', 'TOEFL': '79', 'GRE': '0', 'Online/Offline': '', 'Ranking': '', 'STEM': '', 'Comments': '', 'Applicablity': 'not applicable'}\n",
      "{'\\ufeff': '', 'Univeristy': 'CALIFORNIA POLYTECHNIC STATE UNIVERSITY-SAN LUIS OBISPO', 'Deadline': '2.1', '': '', 'TOEFL': '80', 'GRE': '0', 'Online/Offline': '', 'Ranking': '', 'STEM': '', 'Comments': 'https://gradbusiness.calpoly.edu/ms-business-analytics/apply/', 'Applicablity': 'not applicable'}\n",
      "{'\\ufeff': '', 'Univeristy': 'UNIVERSITY OF KANSAS', 'Deadline': '2.1', '': '', 'TOEFL': '80', 'GRE': '', 'Online/Offline': '', 'Ranking': '', 'STEM': '', 'Comments': '', 'Applicablity': ''}\n"
     ]
    }
   ],
   "source": [
    "with open('대학최종.csv') as csvfile:\n",
    "    rdr = csv.DictReader(csvfile)\n",
    "    count = 0\n",
    "    for i in rdr:\n",
    "        print(i)\n",
    "        count += 1\n",
    "        if(count == 5): break"
   ]
  },
  {
   "cell_type": "code",
   "execution_count": 44,
   "id": "ab7d4b34-afd3-4d16-aa60-58c56963bc53",
   "metadata": {},
   "outputs": [],
   "source": [
    "import csv\n",
    "f = open('대학최종.csv', 'r', encoding = 'utf-8')\n",
    "rdf = csv.reader(f)\n",
    "f.close()"
   ]
  },
  {
   "cell_type": "markdown",
   "id": "f93fdfd2-5420-43d3-86a2-08560a2356b4",
   "metadata": {},
   "source": [
    "## 퀴즈 10.\n",
    "나이가 20이상인 데이터만 뽑아서 리스트 변수로 저장"
   ]
  },
  {
   "cell_type": "code",
   "execution_count": 52,
   "id": "1ca214d7-c150-45ca-9cf5-ef82bc7b91ff",
   "metadata": {},
   "outputs": [
    {
     "name": "stdout",
     "output_type": "stream",
     "text": [
      "new_ages = [34, 39, 20, 54]\n"
     ]
    }
   ],
   "source": [
    "ages = [34, 39, 20, 18, 13, 54]\n",
    "\n",
    "new_ages = [i for i in ages if i >= 20]\n",
    "print(\"new_ages =\", new_ages)"
   ]
  }
 ],
 "metadata": {
  "kernelspec": {
   "display_name": "Python 3 (ipykernel)",
   "language": "python",
   "name": "python3"
  },
  "language_info": {
   "codemirror_mode": {
    "name": "ipython",
    "version": 3
   },
   "file_extension": ".py",
   "mimetype": "text/x-python",
   "name": "python",
   "nbconvert_exporter": "python",
   "pygments_lexer": "ipython3",
   "version": "3.9.7"
  }
 },
 "nbformat": 4,
 "nbformat_minor": 5
}
