{
 "cells": [
  {
   "cell_type": "markdown",
   "id": "9eb48c73-f728-4542-b753-92ae53c008da",
   "metadata": {},
   "source": [
    "## 1. NumPy 기초"
   ]
  },
  {
   "cell_type": "code",
   "execution_count": 121,
   "id": "b167883b-28a5-4a56-aca8-10db56190fea",
   "metadata": {},
   "outputs": [
    {
     "name": "stdout",
     "output_type": "stream",
     "text": [
      "[[0 1 2]\n",
      " [3 4 5]\n",
      " [6 7 8]]\n",
      "[[0 1 2]\n",
      " [3 4 5]\n",
      " [6 7 8]]\n",
      "[[0 1 2]\n",
      " [3 4 5]\n",
      " [6 7 8]]\n",
      "[[0 1 2]\n",
      " [3 4 5]\n",
      " [6 7 8]]\n",
      "[[0 1 2]\n",
      " [3 4 5]\n",
      " [6 7 8]]\n",
      "[[0 1 2]\n",
      " [3 4 5]\n",
      " [6 7 8]]\n"
     ]
    }
   ],
   "source": [
    "import numpy as np\n",
    "a = np.arange(9).reshape(3,3)\n",
    "a\n",
    "\n",
    "a_reshaped = a\n",
    "a_flatten = a\n",
    "a_ravel = a\n",
    "\n",
    "print(a_reshaped)\n",
    "a_reshaped.reshape(-1,1)  # 1차원으로 변경 -> 원본에 영향을 미침\n",
    "print(a_reshaped)\n",
    "print(a_flatten)\n",
    "a_flatten.flatten()  # 1차원으로 변경-> 원본과 별개로 구분됨\n",
    "print(a_flatten)\n",
    "print(a_ravel)\n",
    "a_ravel.ravel()  # 1차원으로 변경 -> 원본에 영향을 미침\n",
    "print(a_ravel)"
   ]
  },
  {
   "cell_type": "code",
   "execution_count": 124,
   "id": "382a7f1b-91c4-44c8-b677-16ff01b789e6",
   "metadata": {},
   "outputs": [
    {
     "name": "stdout",
     "output_type": "stream",
     "text": [
      "[[100 100 100]\n",
      " [  6   7   8]]\n",
      "[[  0   1   2]\n",
      " [100 100 100]\n",
      " [  6   7   8]]\n"
     ]
    }
   ],
   "source": [
    "a = np.arange(9).reshape(3,3)\n",
    "a\n",
    "a[1:3,:]\n",
    "b = a[1:3,:]\n",
    "b[0] = 100\n",
    "print(b)\n",
    "print(a)"
   ]
  },
  {
   "cell_type": "code",
   "execution_count": 126,
   "id": "544ba1ca-83a3-42a0-86cd-9d8fa5bc5481",
   "metadata": {},
   "outputs": [
    {
     "name": "stdout",
     "output_type": "stream",
     "text": [
      "[2 4 6 8]\n"
     ]
    },
    {
     "data": {
      "text/plain": [
       "array([2, 2, 2, 2, 4, 4, 6, 6])"
      ]
     },
     "execution_count": 126,
     "metadata": {},
     "output_type": "execute_result"
    }
   ],
   "source": [
    "a = np.array([2,4,6,8])\n",
    "print(a)\n",
    "idx = np.array([0,0,0,0,1,1,2,2])  # 인덱스값을 반복해서 나열하고, 이를 인덱스로 하는 넘파이 배열 출력\n",
    "a[idx]"
   ]
  },
  {
   "cell_type": "code",
   "execution_count": 120,
   "id": "d91b0199-ada4-4769-bb54-125a0bbf2748",
   "metadata": {},
   "outputs": [
    {
     "name": "stdout",
     "output_type": "stream",
     "text": [
      "[1 2 3 5 7]\n",
      "[1 3 2 5 7]\n",
      "[0 2 1 3 4]\n"
     ]
    }
   ],
   "source": [
    "a = np.array([1, 3, 2, 5, 7])\n",
    "s = a.argsort()  # argmax, argmin (index 값 반환)\n",
    "print(a[s])\n",
    "print(a)\n",
    "print(s)"
   ]
  },
  {
   "cell_type": "code",
   "execution_count": 117,
   "id": "bb1fab70-3efc-45ec-bed5-ce150fb159e7",
   "metadata": {},
   "outputs": [
    {
     "name": "stdout",
     "output_type": "stream",
     "text": [
      "[4 3 1 2 0]\n"
     ]
    }
   ],
   "source": [
    "print(s[::-1])"
   ]
  },
  {
   "cell_type": "code",
   "execution_count": null,
   "id": "1dc1d4e1-7112-42e7-8c22-7107803c0722",
   "metadata": {},
   "outputs": [],
   "source": [
    "# ndarray 생성; \n",
    "import numpy as np\n",
    "np.array()"
   ]
  },
  {
   "cell_type": "code",
   "execution_count": 1,
   "id": "f3317674-bf5a-43c7-aaf4-2fed63f338b0",
   "metadata": {},
   "outputs": [
    {
     "data": {
      "text/plain": [
       "array([[1, 2],\n",
       "       [3, 4],\n",
       "       [5, 6]])"
      ]
     },
     "execution_count": 1,
     "metadata": {},
     "output_type": "execute_result"
    }
   ],
   "source": [
    "import numpy as np\n",
    "arr = np.array([[1,2], [3,4], [5,6]])\n",
    "arr"
   ]
  },
  {
   "cell_type": "code",
   "execution_count": 2,
   "id": "d588732c-28bf-4d98-ab3f-a645a7e60191",
   "metadata": {},
   "outputs": [
    {
     "data": {
      "text/plain": [
       "array([1, 4, 5])"
      ]
     },
     "execution_count": 2,
     "metadata": {},
     "output_type": "execute_result"
    }
   ],
   "source": [
    "arr[[0,1,2], [0,1,0]]"
   ]
  },
  {
   "cell_type": "code",
   "execution_count": 55,
   "id": "2fd3c622-b010-4b22-b107-c5a120fb553f",
   "metadata": {},
   "outputs": [
    {
     "name": "stdout",
     "output_type": "stream",
     "text": [
      "[1 3 4]\n"
     ]
    }
   ],
   "source": [
    "a = np.array([1,3,4])\n",
    "print(a)"
   ]
  },
  {
   "cell_type": "markdown",
   "id": "b4b657da-5c19-4b0a-a1b8-d3d24eb111bd",
   "metadata": {},
   "source": [
    "> 다시"
   ]
  },
  {
   "cell_type": "code",
   "execution_count": 4,
   "id": "6d66921f-aa43-46cc-b179-5ebd24edb4fa",
   "metadata": {},
   "outputs": [
    {
     "ename": "TypeError",
     "evalue": "_insert_dispatcher() missing 1 required positional argument: 'values'",
     "output_type": "error",
     "traceback": [
      "\u001b[1;31m---------------------------------------------------------------------------\u001b[0m",
      "\u001b[1;31mTypeError\u001b[0m                                 Traceback (most recent call last)",
      "Input \u001b[1;32mIn [4]\u001b[0m, in \u001b[0;36m<cell line: 1>\u001b[1;34m()\u001b[0m\n\u001b[1;32m----> 1\u001b[0m \u001b[43mnp\u001b[49m\u001b[38;5;241;43m.\u001b[39;49m\u001b[43minsert\u001b[49m\u001b[43m(\u001b[49m\u001b[43ma\u001b[49m\u001b[43m,\u001b[49m\u001b[43m[\u001b[49m\u001b[38;5;241;43m1\u001b[39;49m\u001b[43m,\u001b[49m\u001b[38;5;241;43m2\u001b[39;49m\u001b[43m]\u001b[49m\u001b[43m)\u001b[49m\n",
      "File \u001b[1;32m<__array_function__ internals>:4\u001b[0m, in \u001b[0;36minsert\u001b[1;34m(*args, **kwargs)\u001b[0m\n",
      "\u001b[1;31mTypeError\u001b[0m: _insert_dispatcher() missing 1 required positional argument: 'values'"
     ]
    }
   ],
   "source": [
    "np.insert(a,[1,2])"
   ]
  },
  {
   "cell_type": "code",
   "execution_count": 56,
   "id": "eb5b5b6d-4ac9-4525-ae55-0c365a4a7b38",
   "metadata": {},
   "outputs": [
    {
     "data": {
      "text/plain": [
       "array([1, 1, 2, 3, 4])"
      ]
     },
     "execution_count": 56,
     "metadata": {},
     "output_type": "execute_result"
    }
   ],
   "source": [
    "np.insert(a,1,[1,2])"
   ]
  },
  {
   "cell_type": "code",
   "execution_count": 5,
   "id": "141b2b95-90a7-46e6-bcb9-96f1727b163b",
   "metadata": {},
   "outputs": [
    {
     "data": {
      "text/plain": [
       "array([1, 2, 3, 4])"
      ]
     },
     "execution_count": 5,
     "metadata": {},
     "output_type": "execute_result"
    }
   ],
   "source": [
    "np.insert(a,1,2)"
   ]
  },
  {
   "cell_type": "code",
   "execution_count": 9,
   "id": "dfb08a3c-5ee8-427a-ac81-f3a3c92437ee",
   "metadata": {},
   "outputs": [
    {
     "data": {
      "text/plain": [
       "array([0, 2, 0, 1])"
      ]
     },
     "execution_count": 9,
     "metadata": {},
     "output_type": "execute_result"
    }
   ],
   "source": [
    "arr = np.array([0,2,0,1])\n",
    "arr"
   ]
  },
  {
   "cell_type": "markdown",
   "id": "8cfd9b5e-0b99-4175-bb42-012715286fab",
   "metadata": {},
   "source": [
    "> 다시"
   ]
  },
  {
   "cell_type": "code",
   "execution_count": 35,
   "id": "098dedc8-7763-4e3c-be9f-13180c3a7195",
   "metadata": {},
   "outputs": [
    {
     "name": "stdout",
     "output_type": "stream",
     "text": [
      "[0 1 2 3]\n"
     ]
    }
   ],
   "source": [
    "arr = np.arange(4)\n",
    "print(arr)"
   ]
  },
  {
   "cell_type": "code",
   "execution_count": 36,
   "id": "6441e9ba-59a5-4bb6-969b-fac92ecf83ad",
   "metadata": {},
   "outputs": [
    {
     "data": {
      "text/plain": [
       "array([[ 1,  2,  3],\n",
       "       [ 4,  5,  6],\n",
       "       [ 7,  8,  9],\n",
       "       [10, 11, 12]])"
      ]
     },
     "execution_count": 36,
     "metadata": {},
     "output_type": "execute_result"
    }
   ],
   "source": [
    "arr = np.arange(1,13).reshape(4,3)\n",
    "arr"
   ]
  },
  {
   "cell_type": "markdown",
   "id": "d149d119-9d09-4d14-a758-1ff2a9424699",
   "metadata": {},
   "source": [
    "----"
   ]
  },
  {
   "cell_type": "code",
   "execution_count": 16,
   "id": "0aeeaedf-9f7c-4539-bf13-8b3a23d8ecb0",
   "metadata": {},
   "outputs": [
    {
     "data": {
      "text/plain": [
       "(array([0, 1, 2, 3]), array([0, 2, 0, 1]))"
      ]
     },
     "execution_count": 16,
     "metadata": {},
     "output_type": "execute_result"
    }
   ],
   "source": [
    "import numpy as np\n",
    "arr2 =np.array([0,2,0,1])\n",
    "arr = np.arange(4),arr2\n",
    "arr"
   ]
  },
  {
   "cell_type": "code",
   "execution_count": 38,
   "id": "0e5385e8-be2d-4884-9e2e-3129f207ab1f",
   "metadata": {},
   "outputs": [
    {
     "data": {
      "text/plain": [
       "array([ 1,  6,  7, 11])"
      ]
     },
     "execution_count": 38,
     "metadata": {},
     "output_type": "execute_result"
    }
   ],
   "source": [
    "arr = np.arange(1,13).reshape(4,3)\n",
    "arr\n",
    "arr2 = np.array([0,2,0,1])\n",
    "arr[np.arange(4),arr2]"
   ]
  },
  {
   "cell_type": "code",
   "execution_count": 17,
   "id": "591c4b68-3d5a-4071-a4af-59892cb2599c",
   "metadata": {},
   "outputs": [
    {
     "ename": "TypeError",
     "evalue": "tuple indices must be integers or slices, not tuple",
     "output_type": "error",
     "traceback": [
      "\u001b[1;31m---------------------------------------------------------------------------\u001b[0m",
      "\u001b[1;31mTypeError\u001b[0m                                 Traceback (most recent call last)",
      "Input \u001b[1;32mIn [17]\u001b[0m, in \u001b[0;36m<cell line: 1>\u001b[1;34m()\u001b[0m\n\u001b[1;32m----> 1\u001b[0m \u001b[43marr\u001b[49m\u001b[43m[\u001b[49m\u001b[43m[\u001b[49m\u001b[38;5;241;43m0\u001b[39;49m\u001b[43m,\u001b[49m\u001b[38;5;241;43m1\u001b[39;49m\u001b[43m,\u001b[49m\u001b[38;5;241;43m2\u001b[39;49m\u001b[43m,\u001b[49m\u001b[38;5;241;43m3\u001b[39;49m\u001b[43m]\u001b[49m\u001b[43m,\u001b[49m\u001b[43m \u001b[49m\u001b[43m[\u001b[49m\u001b[38;5;241;43m0\u001b[39;49m\u001b[43m,\u001b[49m\u001b[38;5;241;43m2\u001b[39;49m\u001b[43m,\u001b[49m\u001b[38;5;241;43m0\u001b[39;49m\u001b[43m,\u001b[49m\u001b[38;5;241;43m1\u001b[39;49m\u001b[43m]\u001b[49m\u001b[43m]\u001b[49m\n",
      "\u001b[1;31mTypeError\u001b[0m: tuple indices must be integers or slices, not tuple"
     ]
    }
   ],
   "source": [
    "arr[[0,1,2,3], [0,2,0,1]]"
   ]
  },
  {
   "cell_type": "code",
   "execution_count": 11,
   "id": "db29b071-b757-4fc5-b618-497fea7a439d",
   "metadata": {},
   "outputs": [
    {
     "data": {
      "text/plain": [
       "array([[1, 2],\n",
       "       [3, 4]])"
      ]
     },
     "execution_count": 11,
     "metadata": {},
     "output_type": "execute_result"
    }
   ],
   "source": [
    "x = np.array([[1,2],[3,4]])\n",
    "x"
   ]
  },
  {
   "cell_type": "code",
   "execution_count": 12,
   "id": "9f139b42-8a3d-4e71-a603-a1138ee50837",
   "metadata": {},
   "outputs": [
    {
     "name": "stdout",
     "output_type": "stream",
     "text": [
      "10\n"
     ]
    }
   ],
   "source": [
    "print(np.sum(x))"
   ]
  },
  {
   "cell_type": "code",
   "execution_count": 13,
   "id": "7812a96e-67f9-4aea-baae-e75ba7f0c90a",
   "metadata": {},
   "outputs": [
    {
     "name": "stdout",
     "output_type": "stream",
     "text": [
      "[4 6]\n"
     ]
    }
   ],
   "source": [
    "print(np.sum(x, axis=0))"
   ]
  },
  {
   "cell_type": "markdown",
   "id": "631e0894-e1e4-4d9f-b3b6-321ec5deefe6",
   "metadata": {},
   "source": [
    "> 다시"
   ]
  },
  {
   "cell_type": "code",
   "execution_count": 19,
   "id": "c1a79964-fcff-4283-a7eb-c54f3c6911d4",
   "metadata": {},
   "outputs": [],
   "source": [
    "xarr = np.array([1.1, 1.2, 1.3, 1.4, 1.5])\n",
    "yarr = np.array([2.1, 2.2, 2.3, 2.4, 2.5])\n",
    "cond = np.array([True, False, True, True, False])"
   ]
  },
  {
   "cell_type": "code",
   "execution_count": 144,
   "id": "da056c6c-8219-4b7c-a92d-b110eee13038",
   "metadata": {},
   "outputs": [
    {
     "name": "stdout",
     "output_type": "stream",
     "text": [
      "<zip object at 0x0000016B1AA0FA40>\n"
     ]
    }
   ],
   "source": [
    "print(zip(xarr, yarr, cond))"
   ]
  },
  {
   "cell_type": "code",
   "execution_count": 20,
   "id": "eba08521-6e2c-42f1-86c9-3f503e902365",
   "metadata": {},
   "outputs": [
    {
     "name": "stdout",
     "output_type": "stream",
     "text": [
      "[1.1, 2.2, 1.3, 1.4, 2.5]\n"
     ]
    }
   ],
   "source": [
    "result = [(x if c else y) for x, y, c in zip(xarr, yarr, cond)]\n",
    "print(result)"
   ]
  },
  {
   "cell_type": "code",
   "execution_count": 21,
   "id": "94ecbb97-6458-4c82-8cd0-8ed039834af7",
   "metadata": {},
   "outputs": [
    {
     "name": "stdout",
     "output_type": "stream",
     "text": [
      "[1.1 2.2 1.3 1.4 2.5]\n"
     ]
    }
   ],
   "source": [
    "result2 = np.where(cond, xarr, yarr)\n",
    "print(result2)"
   ]
  },
  {
   "cell_type": "code",
   "execution_count": 22,
   "id": "323092bf-6391-47bd-83ef-36188ad83097",
   "metadata": {},
   "outputs": [
    {
     "name": "stdout",
     "output_type": "stream",
     "text": [
      "[[ 4.94087469e-01 -6.24606759e-01  4.88635842e-01 -1.10146876e+00]\n",
      " [-5.71896958e-04  1.36108914e+00 -6.89319795e-01 -9.48761261e-01]\n",
      " [-3.68877980e+00 -1.47741610e+00  2.94160551e-01  1.39162320e-01]\n",
      " [ 1.27093287e+00 -8.32955483e-01  4.02747464e-01 -5.01625664e-01]]\n"
     ]
    }
   ],
   "source": [
    "arr = np.random.randn(4,4)\n",
    "print(arr)"
   ]
  },
  {
   "cell_type": "code",
   "execution_count": 23,
   "id": "3918f9fc-4539-42f9-aa1d-60419e3f9b34",
   "metadata": {},
   "outputs": [
    {
     "name": "stdout",
     "output_type": "stream",
     "text": [
      "[[ 1 -1  1 -1]\n",
      " [-1  1 -1 -1]\n",
      " [-1 -1  1  1]\n",
      " [ 1 -1  1 -1]]\n"
     ]
    }
   ],
   "source": [
    "print(np.where(arr>0, 1, -1))"
   ]
  },
  {
   "cell_type": "code",
   "execution_count": 24,
   "id": "d580c874-9a87-44cf-b769-1090c4a2b86a",
   "metadata": {},
   "outputs": [
    {
     "name": "stdout",
     "output_type": "stream",
     "text": [
      "[[ 1.54644325 -2.06457389 -1.65242081  0.2400037 ]\n",
      " [ 1.24784236  2.56625833  2.75786863  0.98087965]\n",
      " [ 0.20460479  0.67565025  0.04736907  1.81349099]\n",
      " [ 1.45784745 -0.50605574 -0.41916593  1.11568327]]\n"
     ]
    }
   ],
   "source": [
    "samples = np.random.normal(size=(4,4))\n",
    "print(samples)"
   ]
  },
  {
   "cell_type": "markdown",
   "id": "3a0283b7-4efa-47cc-85cc-379c99bcc6be",
   "metadata": {},
   "source": [
    "> 코드 실행 시간 확인"
   ]
  },
  {
   "cell_type": "code",
   "execution_count": 41,
   "id": "2b18a866-aa07-4bab-8b79-356975dcd45f",
   "metadata": {},
   "outputs": [],
   "source": [
    "from random import normalvariate\n",
    "N = 1000000"
   ]
  },
  {
   "cell_type": "code",
   "execution_count": 42,
   "id": "21336dc6-2680-4177-968c-369fa9512be1",
   "metadata": {},
   "outputs": [
    {
     "name": "stdout",
     "output_type": "stream",
     "text": [
      "747 ms ± 15.3 ms per loop (mean ± std. dev. of 7 runs, 1 loop each)\n"
     ]
    }
   ],
   "source": [
    "%timeit samples = [normalvariate(0,1) for _ in range(N)]"
   ]
  },
  {
   "cell_type": "code",
   "execution_count": 43,
   "id": "54a28237-929e-46f6-a0f5-8983235571ab",
   "metadata": {},
   "outputs": [
    {
     "name": "stdout",
     "output_type": "stream",
     "text": [
      "25 ms ± 325 µs per loop (mean ± std. dev. of 7 runs, 10 loops each)\n"
     ]
    }
   ],
   "source": [
    "%timeit np.random.normal(size=N)"
   ]
  },
  {
   "cell_type": "markdown",
   "id": "c7b5d3d2-a355-48af-b52d-dc779cd6a842",
   "metadata": {},
   "source": [
    "문제 1"
   ]
  },
  {
   "cell_type": "code",
   "execution_count": 26,
   "id": "3526b504-1645-4291-ae22-a37764dcf659",
   "metadata": {},
   "outputs": [
    {
     "name": "stdin",
     "output_type": "stream",
     "text": [
      "n을 입력하시오:  5\n"
     ]
    },
    {
     "name": "stdout",
     "output_type": "stream",
     "text": [
      "[[1. 0. 0. 0. 0.]\n",
      " [0. 1. 0. 0. 0.]\n",
      " [0. 0. 1. 0. 0.]\n",
      " [0. 0. 0. 1. 0.]\n",
      " [0. 0. 0. 0. 1.]]\n"
     ]
    }
   ],
   "source": [
    "n = int(input('n을 입력하시오: '))\n",
    "\n",
    "x = np.eye(n)\n",
    "print(x)"
   ]
  },
  {
   "cell_type": "markdown",
   "id": "be6ab259-e34c-4763-9fd1-72f1201e2e6f",
   "metadata": {},
   "source": [
    "---"
   ]
  },
  {
   "cell_type": "markdown",
   "id": "cc42aa61-f009-4838-8427-dedc10df2e21",
   "metadata": {},
   "source": [
    "다시"
   ]
  },
  {
   "cell_type": "code",
   "execution_count": 115,
   "id": "7be41ac6-d0cb-41e4-8c82-f187432097d0",
   "metadata": {},
   "outputs": [
    {
     "name": "stdin",
     "output_type": "stream",
     "text": [
      "n을 입력하시오:  5\n"
     ]
    },
    {
     "name": "stdout",
     "output_type": "stream",
     "text": [
      "2.5\n",
      "5\n",
      "1\n",
      "[[1 0 0 0 1]\n",
      " [0 1 0 1 0]\n",
      " [0 0 1 0 0]\n",
      " [0 1 0 1 0]\n",
      " [1 0 0 0 1]]\n"
     ]
    }
   ],
   "source": [
    "n = int(input('n을 입력하시오: '))\n",
    "a = np.eye(n, dtype = 'int32')\n",
    "b = np.flip(a, axis = 1)\n",
    "c = a + b\n",
    "if len(c) % 2 == 1:\n",
    "    c[int(len(c)/2), int(len(c)/2)] = 1\n",
    "    print(int(len(c))/2)\n",
    "    print(len(c))\n",
    "    print(c[int(len(c)/2), int(len(c)/2)])\n",
    "\n",
    "print(c)"
   ]
  },
  {
   "cell_type": "code",
   "execution_count": 27,
   "id": "433a2e0f-1984-42df-9997-0681f753c571",
   "metadata": {},
   "outputs": [
    {
     "name": "stdin",
     "output_type": "stream",
     "text": [
      "n을 입력하시오:  6\n"
     ]
    },
    {
     "name": "stdout",
     "output_type": "stream",
     "text": [
      "[[1. 0. 0. 0. 0. 0.]\n",
      " [0. 1. 0. 0. 0. 0.]\n",
      " [0. 0. 1. 0. 0. 0.]\n",
      " [0. 0. 0. 1. 0. 0.]\n",
      " [0. 0. 0. 0. 1. 0.]\n",
      " [0. 0. 0. 0. 0. 1.]]\n"
     ]
    }
   ],
   "source": [
    "n = int(input('n을 입력하시오: '))\n",
    "\n",
    "x = np.eye(n)\n",
    "print(x)"
   ]
  },
  {
   "cell_type": "code",
   "execution_count": 44,
   "id": "c8c20f51-208e-4da1-994d-9cbb7b34a82a",
   "metadata": {},
   "outputs": [
    {
     "name": "stdin",
     "output_type": "stream",
     "text": [
      "n을 입력하시오:  6\n"
     ]
    },
    {
     "name": "stdout",
     "output_type": "stream",
     "text": [
      "[[1 0 0 0 0 1]\n",
      " [0 1 0 0 1 0]\n",
      " [0 0 1 1 0 0]\n",
      " [0 0 1 1 0 0]\n",
      " [0 1 0 0 1 0]\n",
      " [1 0 0 0 0 1]]\n"
     ]
    }
   ],
   "source": [
    "n = int(input('n을 입력하시오: '))\n",
    "a = np.eye(n, dtype = 'int32')\n",
    "b = np.flip(a, axis = 1)\n",
    "c = a + b\n",
    "if len(c) % 2 == 1:\n",
    "    c[int(len(c)/2), int(len(c)/2)] = 1\n",
    "\n",
    "print(c)"
   ]
  },
  {
   "cell_type": "markdown",
   "id": "74e065ed-63eb-43a4-899c-1917c38c2cbc",
   "metadata": {},
   "source": [
    "> 다시"
   ]
  },
  {
   "cell_type": "code",
   "execution_count": 45,
   "id": "d84ea797-b0eb-4289-b98b-05060a7280fb",
   "metadata": {},
   "outputs": [
    {
     "name": "stdin",
     "output_type": "stream",
     "text": [
      "n을 입력하시오:  5\n"
     ]
    },
    {
     "name": "stdout",
     "output_type": "stream",
     "text": [
      "[[1 0 0 0 1]\n",
      " [0 1 0 1 0]\n",
      " [0 0 2 0 0]\n",
      " [0 1 0 1 0]\n",
      " [1 0 0 0 1]]\n"
     ]
    }
   ],
   "source": [
    "n = int(input('n을 입력하시오: '))\n",
    "a = np.eye(n, dtype = 'int32')\n",
    "b = np.flip(a, axis = 1)\n",
    "c = a + b\n",
    "if len(c) // 3 == 2:\n",
    "    c[int(len(c)/2), int(len(c)/2)] = 1\n",
    "\n",
    "print(c)"
   ]
  },
  {
   "cell_type": "code",
   "execution_count": 52,
   "id": "01c19168-5048-4f35-a911-4b91bea22693",
   "metadata": {},
   "outputs": [
    {
     "name": "stdout",
     "output_type": "stream",
     "text": [
      "[ 3 12  6 24]\n"
     ]
    }
   ],
   "source": [
    "c = a.sum(axis=1)\n",
    "print(c)"
   ]
  },
  {
   "cell_type": "code",
   "execution_count": 47,
   "id": "3ef7092d-0b82-4be0-ba6a-7bfd13afe24b",
   "metadata": {},
   "outputs": [
    {
     "name": "stdout",
     "output_type": "stream",
     "text": [
      "a = [[ 0  1  2]\n",
      " [ 3  4  5]\n",
      " [ 0  2  4]\n",
      " [ 6  8 10]]\n",
      "b = [[0 1 2 0 2 4]\n",
      " [0 1 2 0 2 4]]\n"
     ]
    }
   ],
   "source": [
    "# numpy의 append함수를 이용한 구현방법\n",
    "a = np.array([[0,1,2], [3,4,5], [0,2,4], [6,8,10]])\n",
    "print('a =', a)\n",
    "\n",
    "a1 = np.append(a[0], a[2])\n",
    "a2 = np.append(a[1], a[3])\n",
    "b = np.array([a1, a1])\n",
    "print('b =', b)"
   ]
  },
  {
   "cell_type": "markdown",
   "id": "95790dcd-efb6-4842-a688-932e700dc487",
   "metadata": {},
   "source": [
    "- concatenate() 함수"
   ]
  },
  {
   "cell_type": "code",
   "execution_count": 48,
   "id": "70b56973-6d15-4e68-9646-bdd3d28c243c",
   "metadata": {},
   "outputs": [
    {
     "data": {
      "text/plain": [
       "array([ 0,  1,  2,  0,  2,  4,  3,  4,  5,  6,  8, 10])"
      ]
     },
     "execution_count": 48,
     "metadata": {},
     "output_type": "execute_result"
    }
   ],
   "source": [
    "np.concatenate((a1, a2))"
   ]
  },
  {
   "cell_type": "markdown",
   "id": "6c474567-a151-43c8-acea-7ad67c316a5a",
   "metadata": {},
   "source": [
    "> 둘의 차이; 없음 (np.concatenate에서는 모두 array로 뱉어냄)"
   ]
  },
  {
   "cell_type": "code",
   "execution_count": 51,
   "id": "8a675d8a-f49b-4ddd-a1d6-7463e2765400",
   "metadata": {},
   "outputs": [
    {
     "data": {
      "text/plain": [
       "array([0, 1, 2, 0, 2, 4])"
      ]
     },
     "execution_count": 51,
     "metadata": {},
     "output_type": "execute_result"
    }
   ],
   "source": [
    "a1 = np.concatenate([a[0], a[2]])\n",
    "a1"
   ]
  },
  {
   "cell_type": "code",
   "execution_count": 53,
   "id": "cb8a872c-b11b-4426-ba9a-c995e79726d0",
   "metadata": {},
   "outputs": [
    {
     "data": {
      "text/plain": [
       "array([0, 1, 2, 0, 2, 4])"
      ]
     },
     "execution_count": 53,
     "metadata": {},
     "output_type": "execute_result"
    }
   ],
   "source": [
    "np.concatenate((a[0], a[2]))"
   ]
  },
  {
   "cell_type": "markdown",
   "id": "cca3177d-8ae5-4f65-8749-fc557d5749e8",
   "metadata": {},
   "source": [
    "문제 2"
   ]
  },
  {
   "cell_type": "code",
   "execution_count": 59,
   "id": "6b6d7a9d-a1e4-4b1d-97f0-1d49e2ebe087",
   "metadata": {},
   "outputs": [
    {
     "data": {
      "text/plain": [
       "array([[0, 0, 0, 0, 0],\n",
       "       [0, 0, 0, 0, 0],\n",
       "       [0, 0, 0, 0, 0],\n",
       "       [0, 0, 0, 0, 0],\n",
       "       [0, 0, 0, 0, 0]])"
      ]
     },
     "execution_count": 59,
     "metadata": {},
     "output_type": "execute_result"
    }
   ],
   "source": [
    "a = np.full((5, 5), 0)\n",
    "a"
   ]
  },
  {
   "cell_type": "code",
   "execution_count": 63,
   "id": "204a7c9e-c822-46ee-83dd-6c5acbf54422",
   "metadata": {},
   "outputs": [
    {
     "data": {
      "text/plain": [
       "array([[0, 0, 0, 0, 0],\n",
       "       [0, 0, 0, 0, 0],\n",
       "       [0, 0, 0, 0, 0],\n",
       "       [0, 0, 0, 0, 0],\n",
       "       [0, 0, 0, 0, 0]])"
      ]
     },
     "execution_count": 63,
     "metadata": {},
     "output_type": "execute_result"
    }
   ],
   "source": [
    "np.diag(np.diag(a))"
   ]
  },
  {
   "cell_type": "code",
   "execution_count": null,
   "id": "7c286fc6-8fb4-4eb2-8be3-b1c2363100e5",
   "metadata": {},
   "outputs": [],
   "source": [
    "for i in a:\n",
    "    diag"
   ]
  },
  {
   "cell_type": "code",
   "execution_count": 75,
   "id": "3f516101-b195-4ee8-8106-fc5debcf94ac",
   "metadata": {},
   "outputs": [
    {
     "data": {
      "text/plain": [
       "array([[0, 0, 0],\n",
       "       [0, 1, 1],\n",
       "       [0, 1, 2]])"
      ]
     },
     "execution_count": 75,
     "metadata": {},
     "output_type": "execute_result"
    }
   ],
   "source": [
    "c = a[:3,:3]\n",
    "c"
   ]
  },
  {
   "cell_type": "markdown",
   "id": "9e9cb305-6f2d-4b24-bd4e-3c17ca3a177c",
   "metadata": {},
   "source": [
    "----"
   ]
  },
  {
   "cell_type": "code",
   "execution_count": 76,
   "id": "77e9e45c-9780-416a-bcf9-73ff77f23994",
   "metadata": {},
   "outputs": [
    {
     "name": "stdout",
     "output_type": "stream",
     "text": [
      "배열 a:\n",
      "[[0 0 0 0 0]\n",
      " [0 1 1 1 0]\n",
      " [0 1 2 1 0]\n",
      " [0 1 1 1 0]\n",
      " [0 0 0 0 0]]\n"
     ]
    }
   ],
   "source": [
    "import numpy as np\n",
    "n = 5\n",
    "a = np.ones((n,n), dtype = 'int32')\n",
    "a[0, :] = a[-1, :] = a[:, 0] = a[:, -1] = 0\n",
    "a[2, 2] = 2\n",
    "print('배열 a:')\n",
    "print(a)"
   ]
  },
  {
   "cell_type": "code",
   "execution_count": 77,
   "id": "e4b9e98e-1d78-40e1-acf5-59315ae75070",
   "metadata": {},
   "outputs": [
    {
     "name": "stdout",
     "output_type": "stream",
     "text": [
      "1) 배열 b: \n",
      "[[1 1 1]\n",
      " [1 2 1]\n",
      " [1 1 1]]\n"
     ]
    }
   ],
   "source": [
    "b = a[1:-1, 1:-1]\n",
    "print('1) 배열 b: ')\n",
    "print(b)"
   ]
  },
  {
   "cell_type": "code",
   "execution_count": 91,
   "id": "807a9b47-1bf7-4500-b08f-b1d31bac9da9",
   "metadata": {},
   "outputs": [
    {
     "name": "stdout",
     "output_type": "stream",
     "text": [
      "2) 배열 c: \n",
      "[[[0 1]]\n",
      "\n",
      " [[6 7]]]\n"
     ]
    }
   ],
   "source": [
    "c = a[0:-2, 0:-2]\n",
    "print('2) 배열 c: ')\n",
    "print(c)"
   ]
  },
  {
   "cell_type": "code",
   "execution_count": 79,
   "id": "720b6fb0-d849-478a-b0f6-0535f2e2e01d",
   "metadata": {},
   "outputs": [
    {
     "name": "stdout",
     "output_type": "stream",
     "text": [
      "3) 배열 d: \n",
      "[[0 0 0]\n",
      " [1 1 1]\n",
      " [1 2 1]]\n"
     ]
    }
   ],
   "source": [
    "d = a[0:-2, 1:-1]\n",
    "print('3) 배열 d: ')\n",
    "print(d)"
   ]
  },
  {
   "cell_type": "code",
   "execution_count": 80,
   "id": "1a9b4515-ec83-48f6-aaba-bcdce7930660",
   "metadata": {},
   "outputs": [
    {
     "name": "stdout",
     "output_type": "stream",
     "text": [
      "4) 배열 e: \n",
      "[[1 1 0]\n",
      " [2 1 0]\n",
      " [1 1 0]]\n"
     ]
    }
   ],
   "source": [
    "e = a[1:-1, 2:]\n",
    "print('4) 배열 e: ')\n",
    "print(e)"
   ]
  },
  {
   "cell_type": "code",
   "execution_count": 81,
   "id": "e17983da-880e-4bac-a393-f688682cb411",
   "metadata": {},
   "outputs": [
    {
     "name": "stdout",
     "output_type": "stream",
     "text": [
      "5) 배열 f: \n",
      "[0 1 2 1 0]\n"
     ]
    }
   ],
   "source": [
    "f = a[:, 2]\n",
    "print('5) 배열 f: ')\n",
    "print(f)"
   ]
  },
  {
   "cell_type": "markdown",
   "id": "fe3f6b4e-2987-4234-b456-4f642a360cc4",
   "metadata": {},
   "source": [
    "문제 3 특정 위치에 있는 원소값 구하기"
   ]
  },
  {
   "cell_type": "code",
   "execution_count": 82,
   "id": "ce406adf-9c31-4e82-a92f-acd89db0c5bb",
   "metadata": {},
   "outputs": [],
   "source": [
    "a = np.arange(0, 24).reshape(4, 3, 2)"
   ]
  },
  {
   "cell_type": "code",
   "execution_count": 90,
   "id": "3120d608-8752-44c1-977f-6b964a294816",
   "metadata": {},
   "outputs": [
    {
     "data": {
      "text/plain": [
       "(4, 3, 2)"
      ]
     },
     "execution_count": 90,
     "metadata": {},
     "output_type": "execute_result"
    }
   ],
   "source": [
    "## a차원의 값을 튜플 형태로 받아줌; 몇 행 몇 열의 값으로 받아줬으므로 출력해야함\n",
    "a.shape[0], a.shape[1], a.shape[2]"
   ]
  },
  {
   "cell_type": "code",
   "execution_count": 83,
   "id": "6fe517ff-c36e-4949-b69f-2444f49b9cdf",
   "metadata": {},
   "outputs": [
    {
     "name": "stdout",
     "output_type": "stream",
     "text": [
      "[[[ 0  1]\n",
      "  [ 2  3]\n",
      "  [ 4  5]]\n",
      "\n",
      " [[ 6  7]\n",
      "  [ 8  9]\n",
      "  [10 11]]\n",
      "\n",
      " [[12 13]\n",
      "  [14 15]\n",
      "  [16 17]]\n",
      "\n",
      " [[18 19]\n",
      "  [20 21]\n",
      "  [22 23]]]\n"
     ]
    }
   ],
   "source": [
    "print(a)"
   ]
  },
  {
   "cell_type": "code",
   "execution_count": 88,
   "id": "40db0a79-07fc-4778-a44f-0891ba9ef17f",
   "metadata": {},
   "outputs": [
    {
     "data": {
      "text/plain": [
       "array([22, 23])"
      ]
     },
     "execution_count": 88,
     "metadata": {},
     "output_type": "execute_result"
    }
   ],
   "source": [
    "a[3][2]"
   ]
  },
  {
   "cell_type": "markdown",
   "id": "f6a9c446-385a-4394-b35d-5e9241bdd50c",
   "metadata": {},
   "source": [
    "---"
   ]
  },
  {
   "cell_type": "code",
   "execution_count": 99,
   "id": "0c45bed1-2169-4945-93f0-d23289e7d9f6",
   "metadata": {},
   "outputs": [
    {
     "name": "stdout",
     "output_type": "stream",
     "text": [
      "a 행렬의 10번째 원소: [[[ 0  1]\n",
      "  [ 2  3]\n",
      "  [ 4  5]]\n",
      "\n",
      " [[ 6  7]\n",
      "  [ 8  9]\n",
      "  [10 11]]\n",
      "\n",
      " [[12 13]\n",
      "  [14 15]\n",
      "  [16 17]]\n",
      "\n",
      " [[18 19]\n",
      "  [20 21]\n",
      "  [22 23]]]\n",
      "a 행렬의 20번째 원소: [[[ 0  1]\n",
      "  [ 2  3]\n",
      "  [ 4  5]]\n",
      "\n",
      " [[ 6  7]\n",
      "  [ 8  9]\n",
      "  [10 11]]\n",
      "\n",
      " [[12 13]\n",
      "  [14 15]\n",
      "  [16 17]]\n",
      "\n",
      " [[18 19]\n",
      "  [20 21]\n",
      "  [22 23]]]\n"
     ]
    }
   ],
   "source": [
    "def get_nth(n,a):\n",
    "    # 10번째 원소를 구하기 위해 n-1 필요\n",
    "    n = n - 1\n",
    "    # n을 a.shape의 마지막 값(열의 갯수)로 나누고 나머지를 구함\n",
    "    ix_2 = n % a.shape[2]\n",
    "    helper_2 = (n - ix_2) / a.shape[2]\n",
    "    ix_1 = helper_2 % a.shape[1]\n",
    "    helper_1 = (helper_2 - ix_1) / a.shape[1]\n",
    "    ix_0 = helper_1 % a.shape[0]\n",
    "    # print(int(ix_0), int(ix_1), int(ix_2))\n",
    "    return a[int(ix_0), int(ix_1), int(ix_2)]\n",
    "        \n",
    "n = 10\n",
    "print('a 행렬의 {}번째 원소: {}'.format(n,a))\n",
    "n = 20\n",
    "print('a 행렬의 {}번째 원소: {}'.format(n,a))"
   ]
  },
  {
   "cell_type": "markdown",
   "id": "691a20af-f964-4245-8328-6631b209b58b",
   "metadata": {},
   "source": [
    "### 날짜와 시간 처리 함수"
   ]
  },
  {
   "cell_type": "code",
   "execution_count": 97,
   "id": "68ca5681-2776-4085-aec1-1113cc8ff03b",
   "metadata": {},
   "outputs": [],
   "source": [
    "from datetime import datetime, timedelta, timezone\n",
    "\n",
    "import pytz\n",
    "import pandas as pd\n",
    "import matplotlib.pyplot as plt\n",
    "import matplotlib.dates as dates"
   ]
  },
  {
   "cell_type": "code",
   "execution_count": 98,
   "id": "0d5a896f-5164-436e-9ce9-459cd0e72eb8",
   "metadata": {},
   "outputs": [
    {
     "data": {
      "text/plain": [
       "datetime.datetime(2019, 1, 1, 0, 0)"
      ]
     },
     "execution_count": 98,
     "metadata": {},
     "output_type": "execute_result"
    }
   ],
   "source": [
    "# timezone unawared datetime\n",
    "datetime(2019,1,1)"
   ]
  },
  {
   "cell_type": "code",
   "execution_count": 102,
   "id": "a7a80d45-ba14-412a-b4af-7afb7f5e1461",
   "metadata": {},
   "outputs": [
    {
     "ename": "TypeError",
     "evalue": "tzinfo argument must be None or of a tzinfo subclass, not type 'type'",
     "output_type": "error",
     "traceback": [
      "\u001b[1;31m---------------------------------------------------------------------------\u001b[0m",
      "\u001b[1;31mTypeError\u001b[0m                                 Traceback (most recent call last)",
      "Input \u001b[1;32mIn [102]\u001b[0m, in \u001b[0;36m<cell line: 1>\u001b[1;34m()\u001b[0m\n\u001b[1;32m----> 1\u001b[0m \u001b[43mdatetime\u001b[49m\u001b[43m(\u001b[49m\u001b[38;5;241;43m2019\u001b[39;49m\u001b[43m,\u001b[49m\u001b[38;5;241;43m1\u001b[39;49m\u001b[43m,\u001b[49m\u001b[38;5;241;43m1\u001b[39;49m\u001b[43m,\u001b[49m\u001b[43mtzinfo\u001b[49m\u001b[38;5;241;43m=\u001b[39;49m\u001b[43mdatetime\u001b[49m\u001b[43m)\u001b[49m\n",
      "\u001b[1;31mTypeError\u001b[0m: tzinfo argument must be None or of a tzinfo subclass, not type 'type'"
     ]
    }
   ],
   "source": [
    "datetime(2019,1,1,tzinfo=datetime)"
   ]
  },
  {
   "cell_type": "code",
   "execution_count": 103,
   "id": "a197119e-12f0-4827-8dce-55b651b72aae",
   "metadata": {},
   "outputs": [],
   "source": [
    "KST = pytz.timezone('Asia/Seoul')"
   ]
  },
  {
   "cell_type": "code",
   "execution_count": 104,
   "id": "10a5a84b-2bdd-4305-872e-731784cbdba2",
   "metadata": {},
   "outputs": [
    {
     "name": "stdout",
     "output_type": "stream",
     "text": [
      "Asia/Seoul\n"
     ]
    }
   ],
   "source": [
    "print(KST)"
   ]
  },
  {
   "cell_type": "code",
   "execution_count": null,
   "id": "a0351f5d-b145-4496-b41f-a95dce0b5d79",
   "metadata": {},
   "outputs": [],
   "source": [
    "KST.localize(mydate)"
   ]
  },
  {
   "cell_type": "code",
   "execution_count": null,
   "id": "6b289145-2219-48b6-879f-cb0ff2fcbaf3",
   "metadata": {},
   "outputs": [],
   "source": [
    "# strftime.org 참조\n",
    "mydate_kst.strftime(\"%Y-%m-%d %H:%M:%S%Z\")"
   ]
  },
  {
   "cell_type": "code",
   "execution_count": null,
   "id": "252a6db0-86bd-4432-82ce-09df8c63b006",
   "metadata": {},
   "outputs": [],
   "source": [
    "mydate_kst.astimezone(pytz.utc).strftimme(\"%Y-%m-%d %H:%M:%S%Z\")  # KST를 영국의 그리니치 시간으로 변환"
   ]
  },
  {
   "cell_type": "code",
   "execution_count": 105,
   "id": "f8681f43-0512-4df5-be9e-c510c3d364e6",
   "metadata": {},
   "outputs": [],
   "source": [
    "# datetime 라이브러리, timedelta: 시간 간 차이를 구하는 클래스\n",
    "import datetime as dt\n",
    "dt1 = dt.datetime(2017, 1, 31, 13, 26, 20, 123456)  # microsecond 포함\n",
    "date1 = dt.date(2017, 1, 31)\n",
    "time1 = dt.time(13, 26, 20, 123456)"
   ]
  },
  {
   "cell_type": "code",
   "execution_count": 106,
   "id": "bb937eab-399d-4d49-9316-2aca462ad037",
   "metadata": {},
   "outputs": [
    {
     "name": "stdout",
     "output_type": "stream",
     "text": [
      "2017 1 31 13 26 20 123456 None\n"
     ]
    }
   ],
   "source": [
    "print(dt1.year, dt1.month, dt1.day,\n",
    "      dt1.hour, dt1.minute, dt1.second, dt1.microsecond, dt1.tzinfo)"
   ]
  },
  {
   "cell_type": "code",
   "execution_count": null,
   "id": "f3bc33b9-41ce-4e3a-93ce-d69de5a267d4",
   "metadata": {},
   "outputs": [],
   "source": [
    "td = today - seoul_dt1\n",
    "print(type(td))\n",
    "print(td)"
   ]
  },
  {
   "cell_type": "code",
   "execution_count": null,
   "id": "baa77d47-fbd2-4718-9536-f0cc40eeab47",
   "metadata": {},
   "outputs": [],
   "source": [
    "print(today.tzinfo)\n",
    "print(shanghai_dt1.tzinfo)\n",
    "print(today - shanghai_dt1"
   ]
  },
  {
   "cell_type": "code",
   "execution_count": 107,
   "id": "94825d8a-6c12-428e-abfb-7b2a76d84972",
   "metadata": {},
   "outputs": [
    {
     "name": "stdout",
     "output_type": "stream",
     "text": [
      "2022-08-11\n",
      "<class 'datetime.date'>\n"
     ]
    }
   ],
   "source": [
    "import datetime as dt\n",
    "tday = dt.date.today()\n",
    "print(tday)\n",
    "print(type(tday))"
   ]
  },
  {
   "cell_type": "code",
   "execution_count": 108,
   "id": "e946ac06-68b0-44b9-8768-d72428d66fe5",
   "metadata": {},
   "outputs": [
    {
     "name": "stdout",
     "output_type": "stream",
     "text": [
      "2022-08-11 12:12:32.804345\n"
     ]
    }
   ],
   "source": [
    "today = datetime.today()\n",
    "print(today)"
   ]
  },
  {
   "cell_type": "code",
   "execution_count": null,
   "id": "1e7db94f-ea9b-43db-9fb6-30ef520c6bd2",
   "metadata": {},
   "outputs": [],
   "source": [
    "today = "
   ]
  },
  {
   "cell_type": "code",
   "execution_count": 109,
   "id": "1caad1f5-022f-41c5-bb41-545d054be9e7",
   "metadata": {},
   "outputs": [
    {
     "data": {
      "text/plain": [
       "datetime.datetime(2022, 8, 11, 12, 13, 46, 176536, tzinfo=<DstTzInfo 'Asia/Seoul' KST+9:00:00 STD>)"
      ]
     },
     "execution_count": 109,
     "metadata": {},
     "output_type": "execute_result"
    }
   ],
   "source": [
    "datetime.today().astimezone(KST)"
   ]
  },
  {
   "cell_type": "markdown",
   "id": "6604db55-230e-46bf-9533-1322040457a1",
   "metadata": {},
   "source": [
    "- 최근 금요일 날짜 리턴하는 함수 만들기"
   ]
  },
  {
   "cell_type": "code",
   "execution_count": 110,
   "id": "3bb50e0e-cc62-448e-a477-0a21bf35e507",
   "metadata": {},
   "outputs": [
    {
     "data": {
      "text/plain": [
       "2"
      ]
     },
     "execution_count": 110,
     "metadata": {},
     "output_type": "execute_result"
    }
   ],
   "source": [
    "# 요일 가져오기\n",
    "datetime(2019,1,23).weekday()"
   ]
  },
  {
   "cell_type": "code",
   "execution_count": 111,
   "id": "e38d7d80-4e2b-482f-b0f3-9799d6dc446a",
   "metadata": {},
   "outputs": [
    {
     "ename": "NameError",
     "evalue": "name 'mydate' is not defined",
     "output_type": "error",
     "traceback": [
      "\u001b[1;31m---------------------------------------------------------------------------\u001b[0m",
      "\u001b[1;31mNameError\u001b[0m                                 Traceback (most recent call last)",
      "Input \u001b[1;32mIn [111]\u001b[0m, in \u001b[0;36m<cell line: 2>\u001b[1;34m()\u001b[0m\n\u001b[0;32m      1\u001b[0m \u001b[38;5;66;03m# UTC 시간과 KST 시간 차이는 9시간\u001b[39;00m\n\u001b[1;32m----> 2\u001b[0m pytz\u001b[38;5;241m.\u001b[39mutc\u001b[38;5;241m.\u001b[39mlocalize(\u001b[43mmydate\u001b[49m) \u001b[38;5;241m-\u001b[39m KST\u001b[38;5;241m.\u001b[39mlocalize(mydate)\n",
      "\u001b[1;31mNameError\u001b[0m: name 'mydate' is not defined"
     ]
    }
   ],
   "source": [
    "# UTC 시간과 KST 시간 차이는 9시간\n",
    "pytz.utc.localize(mydate) - KST.localize(mydate)"
   ]
  },
  {
   "cell_type": "code",
   "execution_count": null,
   "id": "90d97c72-8805-46db-9af0-5810ccb8c221",
   "metadata": {},
   "outputs": [],
   "source": [
    "timedelta(second)"
   ]
  },
  {
   "cell_type": "code",
   "execution_count": null,
   "id": "8ea7cc66-fc7d-45db-92b1-b11b1efa7f78",
   "metadata": {},
   "outputs": [],
   "source": [
    "isoweekday()"
   ]
  },
  {
   "cell_type": "markdown",
   "id": "0cfeae17-ddaf-403b-ab16-3ac68b8aa152",
   "metadata": {},
   "source": [
    "### 2. Pandas"
   ]
  },
  {
   "cell_type": "markdown",
   "id": "c8de0537-c1e9-478d-b3e3-b37e006054e1",
   "metadata": {},
   "source": [
    "- 이종 자료형의 열을 가진 테이블 데이터\n",
    "- 시계열 데이터\n",
    "- 레이블을 가진 다양한 행렬 데이터\n",
    "- 다양한 관측 통계 데이터"
   ]
  },
  {
   "cell_type": "markdown",
   "id": "5c43e3c6-899c-49ce-a42d-5a06f2ac212d",
   "metadata": {},
   "source": [
    "- 시리즈: 1차원 구조를 가진 하나의 열 (동일한 데이터 타입으로 구성돼있어야 함)\n",
    "- 데이터프레임: 복수의 열을 가진 2차원 데이터 (R의 dataframe 모방; 숫자&문자 등 다양한 데이터를 하나의 테이블에 담을 수 있음)"
   ]
  },
  {
   "cell_type": "markdown",
   "id": "8daf3062-2f9d-4502-9406-bc33ee1d08df",
   "metadata": {},
   "source": [
    "판다스는 panel data라는 용어에서 유래된 계량경제학 용어로, 동일한 관찰자에 의하여 여러 회에 걸쳐서 관측된 데이터의 집합을 의미함\n",
    "\n",
    "- list, dictionary, numpy"
   ]
  },
  {
   "cell_type": "markdown",
   "id": "c675c5de-aa2f-4448-aba0-77ec596bbc7a",
   "metadata": {},
   "source": [
    "- NumPy의 모두 같은 자료값을 가지는 단순한 수치 정보 중심으로만 구성돼있다는 한계를 보완해주는 것이 Pandas\n"
   ]
  },
  {
   "cell_type": "code",
   "execution_count": 127,
   "id": "3f13834b-4cf1-46a1-a6de-6f82c6ee49a0",
   "metadata": {},
   "outputs": [
    {
     "data": {
      "text/plain": [
       "0    1.0\n",
       "1    2.0\n",
       "2    NaN\n",
       "3    4.0\n",
       "dtype: float64"
      ]
     },
     "execution_count": 127,
     "metadata": {},
     "output_type": "execute_result"
    }
   ],
   "source": [
    "import pandas as pd\n",
    "import numpy as np\n",
    "\n",
    "se = pd.Series([1, 2, np.nan, 4])\n",
    "se"
   ]
  },
  {
   "cell_type": "markdown",
   "id": "13221499-71ba-4b49-8ef3-5e62744863fe",
   "metadata": {},
   "source": [
    "- 결측치가 있는지를 boolean으로 반환하는 함수는 isna()"
   ]
  },
  {
   "cell_type": "code",
   "execution_count": 128,
   "id": "d6aec371-f00b-408e-92a3-453d46230b45",
   "metadata": {},
   "outputs": [
    {
     "data": {
      "text/plain": [
       "0    False\n",
       "1    False\n",
       "2     True\n",
       "3    False\n",
       "dtype: bool"
      ]
     },
     "execution_count": 128,
     "metadata": {},
     "output_type": "execute_result"
    }
   ],
   "source": [
    "se.isna()"
   ]
  },
  {
   "cell_type": "markdown",
   "id": "abf9d27f-2834-4400-bd44-63378da7af33",
   "metadata": {},
   "source": [
    "> 각 데이터를 Series로 변환하고, 데이터의 feature별로 결측치의 유무 및 비율 파악"
   ]
  },
  {
   "cell_type": "code",
   "execution_count": 130,
   "id": "9a0d11ad-d3fd-4851-b688-9fec6f9dd4dc",
   "metadata": {},
   "outputs": [
    {
     "data": {
      "text/plain": [
       "(1.0, 2.0)"
      ]
     },
     "execution_count": 130,
     "metadata": {},
     "output_type": "execute_result"
    }
   ],
   "source": [
    "se[0], se[1]  # 시리즈의 자료구조도 동일하게 리스트 인덱싱 방법 사용"
   ]
  },
  {
   "cell_type": "code",
   "execution_count": 132,
   "id": "059b9809-3755-4745-bd1b-f20327136cea",
   "metadata": {},
   "outputs": [
    {
     "name": "stdout",
     "output_type": "stream",
     "text": [
      "0    1.0\n",
      "1    2.0\n",
      "2    NaN\n",
      "3    4.0\n",
      "dtype: float64\n"
     ]
    }
   ],
   "source": [
    "print(se)"
   ]
  },
  {
   "cell_type": "code",
   "execution_count": 131,
   "id": "f8e2de36-5019-4fb8-98ad-f312e239e57d",
   "metadata": {},
   "outputs": [
    {
     "name": "stdout",
     "output_type": "stream",
     "text": [
      "a   NaN\n",
      "b   NaN\n",
      "c   NaN\n",
      "d   NaN\n",
      "dtype: float64\n"
     ]
    }
   ],
   "source": [
    "data = se\n",
    "indexed_se = pd.Series(data, index = ['a', 'b', 'c', 'd'])\n",
    "print(indexed_se)"
   ]
  },
  {
   "cell_type": "code",
   "execution_count": 133,
   "id": "f014a3f1-55c6-4146-9939-2b7e270a7f56",
   "metadata": {},
   "outputs": [
    {
     "name": "stdout",
     "output_type": "stream",
     "text": [
      "a   NaN\n",
      "b   NaN\n",
      "c   NaN\n",
      "d   NaN\n",
      "dtype: float64\n"
     ]
    }
   ],
   "source": [
    "data = se\n",
    "indexed_se = pd.Series(se, index = ['a', 'b', 'c', 'd'])\n",
    "print(indexed_se)"
   ]
  },
  {
   "cell_type": "code",
   "execution_count": 134,
   "id": "0da51ec3-cacd-4a63-a910-e626dccd7c5c",
   "metadata": {},
   "outputs": [
    {
     "data": {
      "text/plain": [
       "(nan, nan)"
      ]
     },
     "execution_count": 134,
     "metadata": {},
     "output_type": "execute_result"
    }
   ],
   "source": [
    "indexed_se['a'], indexed_se['b']"
   ]
  },
  {
   "cell_type": "code",
   "execution_count": 135,
   "id": "fdb400b2-63b4-4ad3-95af-8159bc005b8b",
   "metadata": {},
   "outputs": [
    {
     "name": "stdout",
     "output_type": "stream",
     "text": [
      "동윤이네 상점의 수익\n",
      "1월    9500\n",
      "2월    6200\n",
      "3월    6050\n",
      "4월    7000\n",
      "dtype: int64\n"
     ]
    }
   ],
   "source": [
    "income = {'1월': 9500, '2월': 6200, '3월': 6050, '4월': 7000}\n",
    "income_se = pd.Series(income)\n",
    "print('동윤이네 상점의 수익')\n",
    "print(income_se)"
   ]
  },
  {
   "cell_type": "code",
   "execution_count": 138,
   "id": "91169b30-fd18-4655-b347-666da4899904",
   "metadata": {},
   "outputs": [
    {
     "data": {
      "text/plain": [
       "0    0\n",
       "1    1\n",
       "2    2\n",
       "3    3\n",
       "dtype: int64"
      ]
     },
     "execution_count": 138,
     "metadata": {},
     "output_type": "execute_result"
    }
   ],
   "source": [
    "myseries = pd.Series(range(0,4))\n",
    "myseries"
   ]
  },
  {
   "cell_type": "code",
   "execution_count": 139,
   "id": "fbda10c9-b090-4f24-8d06-1901c2a4817b",
   "metadata": {},
   "outputs": [
    {
     "name": "stdout",
     "output_type": "stream",
     "text": [
      "2018-11-01    100\n",
      "2018-11-02    101\n",
      "2018-11-03    102\n",
      "2018-11-04    103\n",
      "2018-11-05    104\n",
      "2018-11-06    105\n",
      "dtype: int64\n"
     ]
    }
   ],
   "source": [
    "k1 = pd.Series([100, 101, 102, 103, 104, 105], index = ['2018-11-01', '2018-11-02', '2018-11-03', '2018-11-04', '2018-11-05', '2018-11-06'])\n",
    "print(k1)        "
   ]
  },
  {
   "cell_type": "code",
   "execution_count": 140,
   "id": "67a49c10-49ee-4406-94cc-7fad72bd2f02",
   "metadata": {},
   "outputs": [
    {
     "name": "stdout",
     "output_type": "stream",
     "text": [
      "2018-11-01\n",
      "2018-11-02\n",
      "2018-11-03\n",
      "2018-11-04\n",
      "2018-11-05\n",
      "2018-11-06\n",
      "100\n",
      "101\n",
      "102\n",
      "103\n",
      "104\n",
      "105\n"
     ]
    }
   ],
   "source": [
    "for date in k1.index:\n",
    "    print(date)\n",
    "\n",
    "for money in k1.values:\n",
    "    print(money)"
   ]
  },
  {
   "cell_type": "markdown",
   "id": "705d0d42-05c7-458d-86a4-7d79a0fe912d",
   "metadata": {},
   "source": [
    "- 인덱스가 달라도 연산이 가능함 (Series의 브로드캐스트 기능)"
   ]
  },
  {
   "cell_type": "code",
   "execution_count": 141,
   "id": "6e1dd8b1-4dbf-42e7-b8f2-9f9fda188e5d",
   "metadata": {},
   "outputs": [
    {
     "name": "stdout",
     "output_type": "stream",
     "text": [
      "english    70\n",
      "korean     80\n",
      "math       80\n",
      "dtype: int64\n"
     ]
    }
   ],
   "source": [
    "mine = pd.Series([10,20,30], index = ['korean', 'english', 'math'])\n",
    "friend = pd.Series([70,50,50], index = ['korean', 'math', 'english'])\n",
    "merge = mine + friend\n",
    "print(merge)"
   ]
  },
  {
   "cell_type": "code",
   "execution_count": 142,
   "id": "0ebb0630-20f4-4c8e-a315-6f5b4483d3d7",
   "metadata": {},
   "outputs": [
    {
     "name": "stdout",
     "output_type": "stream",
     "text": [
      "english    60\n",
      "korean     90\n",
      "math       80\n",
      "dtype: int64\n"
     ]
    }
   ],
   "source": [
    "mine = pd.Series([10,20,30], index = ['english', 'korean', 'math'])\n",
    "friend = pd.Series([70,50,50], index = ['korean', 'math', 'english'])\n",
    "merge = mine + friend\n",
    "print(merge)"
   ]
  },
  {
   "cell_type": "code",
   "execution_count": 145,
   "id": "08e23bde-12cb-4c3e-a448-362dd09a352b",
   "metadata": {},
   "outputs": [
    {
     "name": "stdout",
     "output_type": "stream",
     "text": [
      "(1, 'A')\n",
      "(2, 'B')\n",
      "(3, 'C')\n"
     ]
    }
   ],
   "source": [
    "# zip() 함수\n",
    "numbers = [1, 2, 3]\n",
    "letters = [\"A\", \"B\", \"C\"]\n",
    "for i in range(3):\n",
    "    pair = (numbers[i], letters[i])\n",
    "    print(pair)"
   ]
  },
  {
   "cell_type": "markdown",
   "id": "659f271f-e340-4bf4-a32b-2e480ffa57fb",
   "metadata": {},
   "source": [
    "- 데이터프레임은 다양한 데이터 타입 (ndarray, dictionary, dataframe, series, list)으로 생성 가능"
   ]
  },
  {
   "cell_type": "markdown",
   "id": "81301baa-14ae-448d-b9e0-0e7e7948d482",
   "metadata": {},
   "source": [
    "> 넘파이 배열을 데이터프레임으로 변환한 경우"
   ]
  },
  {
   "cell_type": "code",
   "execution_count": 146,
   "id": "fd93e527-303a-40e1-be1c-237992a47cad",
   "metadata": {},
   "outputs": [
    {
     "data": {
      "text/html": [
       "<div>\n",
       "<style scoped>\n",
       "    .dataframe tbody tr th:only-of-type {\n",
       "        vertical-align: middle;\n",
       "    }\n",
       "\n",
       "    .dataframe tbody tr th {\n",
       "        vertical-align: top;\n",
       "    }\n",
       "\n",
       "    .dataframe thead th {\n",
       "        text-align: right;\n",
       "    }\n",
       "</style>\n",
       "<table border=\"1\" class=\"dataframe\">\n",
       "  <thead>\n",
       "    <tr style=\"text-align: right;\">\n",
       "      <th></th>\n",
       "      <th>0</th>\n",
       "      <th>1</th>\n",
       "      <th>2</th>\n",
       "    </tr>\n",
       "  </thead>\n",
       "  <tbody>\n",
       "    <tr>\n",
       "      <th>0</th>\n",
       "      <td>1</td>\n",
       "      <td>2</td>\n",
       "      <td>3</td>\n",
       "    </tr>\n",
       "    <tr>\n",
       "      <th>1</th>\n",
       "      <td>4</td>\n",
       "      <td>5</td>\n",
       "      <td>6</td>\n",
       "    </tr>\n",
       "  </tbody>\n",
       "</table>\n",
       "</div>"
      ],
      "text/plain": [
       "   0  1  2\n",
       "0  1  2  3\n",
       "1  4  5  6"
      ]
     },
     "metadata": {},
     "output_type": "display_data"
    }
   ],
   "source": [
    "import numpy as np\n",
    "import pandas as pd\n",
    "\n",
    "nparray1 = np.array([[1,2,3], [4,5,6]])\n",
    "display(pd.DataFrame(nparray1))"
   ]
  },
  {
   "cell_type": "markdown",
   "id": "275146e4-8111-4558-80d2-568356faacd9",
   "metadata": {},
   "source": [
    "> 딕셔너리를 데이터프레임으로 변환한 경우"
   ]
  },
  {
   "cell_type": "code",
   "execution_count": 147,
   "id": "df701e26-b372-471b-962c-369902fd3709",
   "metadata": {},
   "outputs": [
    {
     "data": {
      "text/html": [
       "<div>\n",
       "<style scoped>\n",
       "    .dataframe tbody tr th:only-of-type {\n",
       "        vertical-align: middle;\n",
       "    }\n",
       "\n",
       "    .dataframe tbody tr th {\n",
       "        vertical-align: top;\n",
       "    }\n",
       "\n",
       "    .dataframe thead th {\n",
       "        text-align: right;\n",
       "    }\n",
       "</style>\n",
       "<table border=\"1\" class=\"dataframe\">\n",
       "  <thead>\n",
       "    <tr style=\"text-align: right;\">\n",
       "      <th></th>\n",
       "      <th>a</th>\n",
       "      <th>b</th>\n",
       "      <th>c</th>\n",
       "    </tr>\n",
       "  </thead>\n",
       "  <tbody>\n",
       "    <tr>\n",
       "      <th>0</th>\n",
       "      <td>1</td>\n",
       "      <td>1</td>\n",
       "      <td>2</td>\n",
       "    </tr>\n",
       "    <tr>\n",
       "      <th>1</th>\n",
       "      <td>3</td>\n",
       "      <td>2</td>\n",
       "      <td>4</td>\n",
       "    </tr>\n",
       "  </tbody>\n",
       "</table>\n",
       "</div>"
      ],
      "text/plain": [
       "   a  b  c\n",
       "0  1  1  2\n",
       "1  3  2  4"
      ]
     },
     "metadata": {},
     "output_type": "display_data"
    }
   ],
   "source": [
    "dictionary1 = {\"a\": ['1', '3'], \"b\": ['1', '2'], \"c\": ['2', '4']}  # dictionary\n",
    "display(pd.DataFrame(dictionary1))"
   ]
  },
  {
   "cell_type": "code",
   "execution_count": 148,
   "id": "0700d33a-438d-4143-b2c9-3e2a4131274e",
   "metadata": {},
   "outputs": [],
   "source": [
    "raw_data = {'col0': [1,2,3,4],\n",
    "            'col1': [10,20,30,40],\n",
    "            'col2': [100, 200, 300, 400]\n",
    "}"
   ]
  },
  {
   "cell_type": "code",
   "execution_count": 149,
   "id": "5298ab8e-ded4-4b90-8454-9ed3d68620df",
   "metadata": {},
   "outputs": [
    {
     "name": "stdout",
     "output_type": "stream",
     "text": [
      "   col0  col1  col2\n",
      "0     1    10   100\n",
      "1     2    20   200\n",
      "2     3    30   300\n",
      "3     4    40   400\n"
     ]
    }
   ],
   "source": [
    "data = pd.DataFrame(raw_data)\n",
    "print(data)"
   ]
  },
  {
   "cell_type": "code",
   "execution_count": 150,
   "id": "2db27012-bb9a-4b67-8249-c13c224c5be1",
   "metadata": {},
   "outputs": [
    {
     "data": {
      "text/plain": [
       "0    1\n",
       "1    2\n",
       "2    3\n",
       "3    4\n",
       "Name: col0, dtype: int64"
      ]
     },
     "execution_count": 150,
     "metadata": {},
     "output_type": "execute_result"
    }
   ],
   "source": [
    "data['col0']"
   ]
  },
  {
   "cell_type": "code",
   "execution_count": 153,
   "id": "2fac9492-23bf-476f-af00-19224c6f3dd7",
   "metadata": {},
   "outputs": [
    {
     "data": {
      "text/plain": [
       "0    1\n",
       "1    2\n",
       "2    3\n",
       "3    4\n",
       "Name: col0, dtype: int64"
      ]
     },
     "execution_count": 153,
     "metadata": {},
     "output_type": "execute_result"
    }
   ],
   "source": [
    "data.col0"
   ]
  },
  {
   "cell_type": "code",
   "execution_count": 154,
   "id": "01bc56c4-51cd-4fd0-a3aa-2ad738725f68",
   "metadata": {},
   "outputs": [
    {
     "ename": "KeyError",
     "evalue": "'col0'",
     "output_type": "error",
     "traceback": [
      "\u001b[1;31m---------------------------------------------------------------------------\u001b[0m",
      "\u001b[1;31mKeyError\u001b[0m                                  Traceback (most recent call last)",
      "Input \u001b[1;32mIn [154]\u001b[0m, in \u001b[0;36m<cell line: 1>\u001b[1;34m()\u001b[0m\n\u001b[1;32m----> 1\u001b[0m \u001b[43mdata\u001b[49m\u001b[38;5;241;43m.\u001b[39;49m\u001b[43mloc\u001b[49m\u001b[43m[\u001b[49m\u001b[38;5;124;43m'\u001b[39;49m\u001b[38;5;124;43mcol0\u001b[39;49m\u001b[38;5;124;43m'\u001b[39;49m\u001b[43m]\u001b[49m\n",
      "File \u001b[1;32m~\\anaconda3\\lib\\site-packages\\pandas\\core\\indexing.py:967\u001b[0m, in \u001b[0;36m_LocationIndexer.__getitem__\u001b[1;34m(self, key)\u001b[0m\n\u001b[0;32m    964\u001b[0m axis \u001b[38;5;241m=\u001b[39m \u001b[38;5;28mself\u001b[39m\u001b[38;5;241m.\u001b[39maxis \u001b[38;5;129;01mor\u001b[39;00m \u001b[38;5;241m0\u001b[39m\n\u001b[0;32m    966\u001b[0m maybe_callable \u001b[38;5;241m=\u001b[39m com\u001b[38;5;241m.\u001b[39mapply_if_callable(key, \u001b[38;5;28mself\u001b[39m\u001b[38;5;241m.\u001b[39mobj)\n\u001b[1;32m--> 967\u001b[0m \u001b[38;5;28;01mreturn\u001b[39;00m \u001b[38;5;28;43mself\u001b[39;49m\u001b[38;5;241;43m.\u001b[39;49m\u001b[43m_getitem_axis\u001b[49m\u001b[43m(\u001b[49m\u001b[43mmaybe_callable\u001b[49m\u001b[43m,\u001b[49m\u001b[43m \u001b[49m\u001b[43maxis\u001b[49m\u001b[38;5;241;43m=\u001b[39;49m\u001b[43maxis\u001b[49m\u001b[43m)\u001b[49m\n",
      "File \u001b[1;32m~\\anaconda3\\lib\\site-packages\\pandas\\core\\indexing.py:1202\u001b[0m, in \u001b[0;36m_LocIndexer._getitem_axis\u001b[1;34m(self, key, axis)\u001b[0m\n\u001b[0;32m   1200\u001b[0m \u001b[38;5;66;03m# fall thru to straight lookup\u001b[39;00m\n\u001b[0;32m   1201\u001b[0m \u001b[38;5;28mself\u001b[39m\u001b[38;5;241m.\u001b[39m_validate_key(key, axis)\n\u001b[1;32m-> 1202\u001b[0m \u001b[38;5;28;01mreturn\u001b[39;00m \u001b[38;5;28;43mself\u001b[39;49m\u001b[38;5;241;43m.\u001b[39;49m\u001b[43m_get_label\u001b[49m\u001b[43m(\u001b[49m\u001b[43mkey\u001b[49m\u001b[43m,\u001b[49m\u001b[43m \u001b[49m\u001b[43maxis\u001b[49m\u001b[38;5;241;43m=\u001b[39;49m\u001b[43maxis\u001b[49m\u001b[43m)\u001b[49m\n",
      "File \u001b[1;32m~\\anaconda3\\lib\\site-packages\\pandas\\core\\indexing.py:1153\u001b[0m, in \u001b[0;36m_LocIndexer._get_label\u001b[1;34m(self, label, axis)\u001b[0m\n\u001b[0;32m   1151\u001b[0m \u001b[38;5;28;01mdef\u001b[39;00m \u001b[38;5;21m_get_label\u001b[39m(\u001b[38;5;28mself\u001b[39m, label, axis: \u001b[38;5;28mint\u001b[39m):\n\u001b[0;32m   1152\u001b[0m     \u001b[38;5;66;03m# GH#5667 this will fail if the label is not present in the axis.\u001b[39;00m\n\u001b[1;32m-> 1153\u001b[0m     \u001b[38;5;28;01mreturn\u001b[39;00m \u001b[38;5;28;43mself\u001b[39;49m\u001b[38;5;241;43m.\u001b[39;49m\u001b[43mobj\u001b[49m\u001b[38;5;241;43m.\u001b[39;49m\u001b[43mxs\u001b[49m\u001b[43m(\u001b[49m\u001b[43mlabel\u001b[49m\u001b[43m,\u001b[49m\u001b[43m \u001b[49m\u001b[43maxis\u001b[49m\u001b[38;5;241;43m=\u001b[39;49m\u001b[43maxis\u001b[49m\u001b[43m)\u001b[49m\n",
      "File \u001b[1;32m~\\anaconda3\\lib\\site-packages\\pandas\\core\\generic.py:3864\u001b[0m, in \u001b[0;36mNDFrame.xs\u001b[1;34m(self, key, axis, level, drop_level)\u001b[0m\n\u001b[0;32m   3862\u001b[0m             new_index \u001b[38;5;241m=\u001b[39m index[loc]\n\u001b[0;32m   3863\u001b[0m \u001b[38;5;28;01melse\u001b[39;00m:\n\u001b[1;32m-> 3864\u001b[0m     loc \u001b[38;5;241m=\u001b[39m \u001b[43mindex\u001b[49m\u001b[38;5;241;43m.\u001b[39;49m\u001b[43mget_loc\u001b[49m\u001b[43m(\u001b[49m\u001b[43mkey\u001b[49m\u001b[43m)\u001b[49m\n\u001b[0;32m   3866\u001b[0m     \u001b[38;5;28;01mif\u001b[39;00m \u001b[38;5;28misinstance\u001b[39m(loc, np\u001b[38;5;241m.\u001b[39mndarray):\n\u001b[0;32m   3867\u001b[0m         \u001b[38;5;28;01mif\u001b[39;00m loc\u001b[38;5;241m.\u001b[39mdtype \u001b[38;5;241m==\u001b[39m np\u001b[38;5;241m.\u001b[39mbool_:\n",
      "File \u001b[1;32m~\\anaconda3\\lib\\site-packages\\pandas\\core\\indexes\\range.py:389\u001b[0m, in \u001b[0;36mRangeIndex.get_loc\u001b[1;34m(self, key, method, tolerance)\u001b[0m\n\u001b[0;32m    387\u001b[0m             \u001b[38;5;28;01mraise\u001b[39;00m \u001b[38;5;167;01mKeyError\u001b[39;00m(key) \u001b[38;5;28;01mfrom\u001b[39;00m \u001b[38;5;21;01merr\u001b[39;00m\n\u001b[0;32m    388\u001b[0m     \u001b[38;5;28mself\u001b[39m\u001b[38;5;241m.\u001b[39m_check_indexing_error(key)\n\u001b[1;32m--> 389\u001b[0m     \u001b[38;5;28;01mraise\u001b[39;00m \u001b[38;5;167;01mKeyError\u001b[39;00m(key)\n\u001b[0;32m    390\u001b[0m \u001b[38;5;28;01mreturn\u001b[39;00m \u001b[38;5;28msuper\u001b[39m()\u001b[38;5;241m.\u001b[39mget_loc(key, method\u001b[38;5;241m=\u001b[39mmethod, tolerance\u001b[38;5;241m=\u001b[39mtolerance)\n",
      "\u001b[1;31mKeyError\u001b[0m: 'col0'"
     ]
    }
   ],
   "source": [
    "data.loc['col0']"
   ]
  },
  {
   "cell_type": "code",
   "execution_count": 155,
   "id": "5fe09798-431e-49bf-8680-6c155487611c",
   "metadata": {},
   "outputs": [
    {
     "data": {
      "text/plain": [
       "col0      1\n",
       "col1     10\n",
       "col2    100\n",
       "Name: 0, dtype: int64"
      ]
     },
     "execution_count": 155,
     "metadata": {},
     "output_type": "execute_result"
    }
   ],
   "source": [
    "# 행을 골라야 함\n",
    "data.loc[0]"
   ]
  },
  {
   "cell_type": "markdown",
   "id": "3ab340e1-79f2-4c56-a025-b24d72410e36",
   "metadata": {},
   "source": [
    "데이터프레임은 해당 데이터의 컬럼명으로 출력해야함 or .loc[] or .iloc[] (특정 행에 접근해서 출력)\n",
    "https://datascienceschool.net/01%20python/04.03%20%EB%8D%B0%EC%9D%B4%ED%84%B0%ED%94%84%EB%A0%88%EC%9E%84%20%EA%B3%A0%EA%B8%89%20%EC%9D%B8%EB%8D%B1%EC%8B%B1.html"
   ]
  },
  {
   "cell_type": "code",
   "execution_count": 151,
   "id": "d4ccbe1d-b591-493a-a424-f6cdb5db2a30",
   "metadata": {
    "collapsed": true,
    "jupyter": {
     "outputs_hidden": true
    },
    "tags": []
   },
   "outputs": [
    {
     "ename": "KeyError",
     "evalue": "0",
     "output_type": "error",
     "traceback": [
      "\u001b[1;31m---------------------------------------------------------------------------\u001b[0m",
      "\u001b[1;31mKeyError\u001b[0m                                  Traceback (most recent call last)",
      "File \u001b[1;32m~\\anaconda3\\lib\\site-packages\\pandas\\core\\indexes\\base.py:3621\u001b[0m, in \u001b[0;36mIndex.get_loc\u001b[1;34m(self, key, method, tolerance)\u001b[0m\n\u001b[0;32m   3620\u001b[0m \u001b[38;5;28;01mtry\u001b[39;00m:\n\u001b[1;32m-> 3621\u001b[0m     \u001b[38;5;28;01mreturn\u001b[39;00m \u001b[38;5;28;43mself\u001b[39;49m\u001b[38;5;241;43m.\u001b[39;49m\u001b[43m_engine\u001b[49m\u001b[38;5;241;43m.\u001b[39;49m\u001b[43mget_loc\u001b[49m\u001b[43m(\u001b[49m\u001b[43mcasted_key\u001b[49m\u001b[43m)\u001b[49m\n\u001b[0;32m   3622\u001b[0m \u001b[38;5;28;01mexcept\u001b[39;00m \u001b[38;5;167;01mKeyError\u001b[39;00m \u001b[38;5;28;01mas\u001b[39;00m err:\n",
      "File \u001b[1;32m~\\anaconda3\\lib\\site-packages\\pandas\\_libs\\index.pyx:136\u001b[0m, in \u001b[0;36mpandas._libs.index.IndexEngine.get_loc\u001b[1;34m()\u001b[0m\n",
      "File \u001b[1;32m~\\anaconda3\\lib\\site-packages\\pandas\\_libs\\index.pyx:163\u001b[0m, in \u001b[0;36mpandas._libs.index.IndexEngine.get_loc\u001b[1;34m()\u001b[0m\n",
      "File \u001b[1;32mpandas\\_libs\\hashtable_class_helper.pxi:5198\u001b[0m, in \u001b[0;36mpandas._libs.hashtable.PyObjectHashTable.get_item\u001b[1;34m()\u001b[0m\n",
      "File \u001b[1;32mpandas\\_libs\\hashtable_class_helper.pxi:5206\u001b[0m, in \u001b[0;36mpandas._libs.hashtable.PyObjectHashTable.get_item\u001b[1;34m()\u001b[0m\n",
      "\u001b[1;31mKeyError\u001b[0m: 0",
      "\nThe above exception was the direct cause of the following exception:\n",
      "\u001b[1;31mKeyError\u001b[0m                                  Traceback (most recent call last)",
      "Input \u001b[1;32mIn [151]\u001b[0m, in \u001b[0;36m<cell line: 1>\u001b[1;34m()\u001b[0m\n\u001b[1;32m----> 1\u001b[0m \u001b[43mdata\u001b[49m\u001b[43m[\u001b[49m\u001b[38;5;241;43m0\u001b[39;49m\u001b[43m]\u001b[49m\n",
      "File \u001b[1;32m~\\anaconda3\\lib\\site-packages\\pandas\\core\\frame.py:3505\u001b[0m, in \u001b[0;36mDataFrame.__getitem__\u001b[1;34m(self, key)\u001b[0m\n\u001b[0;32m   3503\u001b[0m \u001b[38;5;28;01mif\u001b[39;00m \u001b[38;5;28mself\u001b[39m\u001b[38;5;241m.\u001b[39mcolumns\u001b[38;5;241m.\u001b[39mnlevels \u001b[38;5;241m>\u001b[39m \u001b[38;5;241m1\u001b[39m:\n\u001b[0;32m   3504\u001b[0m     \u001b[38;5;28;01mreturn\u001b[39;00m \u001b[38;5;28mself\u001b[39m\u001b[38;5;241m.\u001b[39m_getitem_multilevel(key)\n\u001b[1;32m-> 3505\u001b[0m indexer \u001b[38;5;241m=\u001b[39m \u001b[38;5;28;43mself\u001b[39;49m\u001b[38;5;241;43m.\u001b[39;49m\u001b[43mcolumns\u001b[49m\u001b[38;5;241;43m.\u001b[39;49m\u001b[43mget_loc\u001b[49m\u001b[43m(\u001b[49m\u001b[43mkey\u001b[49m\u001b[43m)\u001b[49m\n\u001b[0;32m   3506\u001b[0m \u001b[38;5;28;01mif\u001b[39;00m is_integer(indexer):\n\u001b[0;32m   3507\u001b[0m     indexer \u001b[38;5;241m=\u001b[39m [indexer]\n",
      "File \u001b[1;32m~\\anaconda3\\lib\\site-packages\\pandas\\core\\indexes\\base.py:3623\u001b[0m, in \u001b[0;36mIndex.get_loc\u001b[1;34m(self, key, method, tolerance)\u001b[0m\n\u001b[0;32m   3621\u001b[0m     \u001b[38;5;28;01mreturn\u001b[39;00m \u001b[38;5;28mself\u001b[39m\u001b[38;5;241m.\u001b[39m_engine\u001b[38;5;241m.\u001b[39mget_loc(casted_key)\n\u001b[0;32m   3622\u001b[0m \u001b[38;5;28;01mexcept\u001b[39;00m \u001b[38;5;167;01mKeyError\u001b[39;00m \u001b[38;5;28;01mas\u001b[39;00m err:\n\u001b[1;32m-> 3623\u001b[0m     \u001b[38;5;28;01mraise\u001b[39;00m \u001b[38;5;167;01mKeyError\u001b[39;00m(key) \u001b[38;5;28;01mfrom\u001b[39;00m \u001b[38;5;21;01merr\u001b[39;00m\n\u001b[0;32m   3624\u001b[0m \u001b[38;5;28;01mexcept\u001b[39;00m \u001b[38;5;167;01mTypeError\u001b[39;00m:\n\u001b[0;32m   3625\u001b[0m     \u001b[38;5;66;03m# If we have a listlike key, _check_indexing_error will raise\u001b[39;00m\n\u001b[0;32m   3626\u001b[0m     \u001b[38;5;66;03m#  InvalidIndexError. Otherwise we fall through and re-raise\u001b[39;00m\n\u001b[0;32m   3627\u001b[0m     \u001b[38;5;66;03m#  the TypeError.\u001b[39;00m\n\u001b[0;32m   3628\u001b[0m     \u001b[38;5;28mself\u001b[39m\u001b[38;5;241m.\u001b[39m_check_indexing_error(key)\n",
      "\u001b[1;31mKeyError\u001b[0m: 0"
     ]
    }
   ],
   "source": [
    "data[0]"
   ]
  },
  {
   "cell_type": "code",
   "execution_count": 152,
   "id": "abd757b5-f416-4abb-8f7b-db4197065896",
   "metadata": {
    "collapsed": true,
    "jupyter": {
     "outputs_hidden": true
    },
    "tags": []
   },
   "outputs": [
    {
     "ename": "InvalidIndexError",
     "evalue": "(0, slice(None, None, None))",
     "output_type": "error",
     "traceback": [
      "\u001b[1;31m---------------------------------------------------------------------------\u001b[0m",
      "\u001b[1;31mTypeError\u001b[0m                                 Traceback (most recent call last)",
      "File \u001b[1;32m~\\anaconda3\\lib\\site-packages\\pandas\\core\\indexes\\base.py:3621\u001b[0m, in \u001b[0;36mIndex.get_loc\u001b[1;34m(self, key, method, tolerance)\u001b[0m\n\u001b[0;32m   3620\u001b[0m \u001b[38;5;28;01mtry\u001b[39;00m:\n\u001b[1;32m-> 3621\u001b[0m     \u001b[38;5;28;01mreturn\u001b[39;00m \u001b[38;5;28;43mself\u001b[39;49m\u001b[38;5;241;43m.\u001b[39;49m\u001b[43m_engine\u001b[49m\u001b[38;5;241;43m.\u001b[39;49m\u001b[43mget_loc\u001b[49m\u001b[43m(\u001b[49m\u001b[43mcasted_key\u001b[49m\u001b[43m)\u001b[49m\n\u001b[0;32m   3622\u001b[0m \u001b[38;5;28;01mexcept\u001b[39;00m \u001b[38;5;167;01mKeyError\u001b[39;00m \u001b[38;5;28;01mas\u001b[39;00m err:\n",
      "File \u001b[1;32m~\\anaconda3\\lib\\site-packages\\pandas\\_libs\\index.pyx:136\u001b[0m, in \u001b[0;36mpandas._libs.index.IndexEngine.get_loc\u001b[1;34m()\u001b[0m\n",
      "File \u001b[1;32m~\\anaconda3\\lib\\site-packages\\pandas\\_libs\\index.pyx:142\u001b[0m, in \u001b[0;36mpandas._libs.index.IndexEngine.get_loc\u001b[1;34m()\u001b[0m\n",
      "\u001b[1;31mTypeError\u001b[0m: '(0, slice(None, None, None))' is an invalid key",
      "\nDuring handling of the above exception, another exception occurred:\n",
      "\u001b[1;31mInvalidIndexError\u001b[0m                         Traceback (most recent call last)",
      "Input \u001b[1;32mIn [152]\u001b[0m, in \u001b[0;36m<cell line: 1>\u001b[1;34m()\u001b[0m\n\u001b[1;32m----> 1\u001b[0m \u001b[43mdata\u001b[49m\u001b[43m[\u001b[49m\u001b[38;5;241;43m0\u001b[39;49m\u001b[43m,\u001b[49m\u001b[43m:\u001b[49m\u001b[43m]\u001b[49m\n",
      "File \u001b[1;32m~\\anaconda3\\lib\\site-packages\\pandas\\core\\frame.py:3505\u001b[0m, in \u001b[0;36mDataFrame.__getitem__\u001b[1;34m(self, key)\u001b[0m\n\u001b[0;32m   3503\u001b[0m \u001b[38;5;28;01mif\u001b[39;00m \u001b[38;5;28mself\u001b[39m\u001b[38;5;241m.\u001b[39mcolumns\u001b[38;5;241m.\u001b[39mnlevels \u001b[38;5;241m>\u001b[39m \u001b[38;5;241m1\u001b[39m:\n\u001b[0;32m   3504\u001b[0m     \u001b[38;5;28;01mreturn\u001b[39;00m \u001b[38;5;28mself\u001b[39m\u001b[38;5;241m.\u001b[39m_getitem_multilevel(key)\n\u001b[1;32m-> 3505\u001b[0m indexer \u001b[38;5;241m=\u001b[39m \u001b[38;5;28;43mself\u001b[39;49m\u001b[38;5;241;43m.\u001b[39;49m\u001b[43mcolumns\u001b[49m\u001b[38;5;241;43m.\u001b[39;49m\u001b[43mget_loc\u001b[49m\u001b[43m(\u001b[49m\u001b[43mkey\u001b[49m\u001b[43m)\u001b[49m\n\u001b[0;32m   3506\u001b[0m \u001b[38;5;28;01mif\u001b[39;00m is_integer(indexer):\n\u001b[0;32m   3507\u001b[0m     indexer \u001b[38;5;241m=\u001b[39m [indexer]\n",
      "File \u001b[1;32m~\\anaconda3\\lib\\site-packages\\pandas\\core\\indexes\\base.py:3628\u001b[0m, in \u001b[0;36mIndex.get_loc\u001b[1;34m(self, key, method, tolerance)\u001b[0m\n\u001b[0;32m   3623\u001b[0m         \u001b[38;5;28;01mraise\u001b[39;00m \u001b[38;5;167;01mKeyError\u001b[39;00m(key) \u001b[38;5;28;01mfrom\u001b[39;00m \u001b[38;5;21;01merr\u001b[39;00m\n\u001b[0;32m   3624\u001b[0m     \u001b[38;5;28;01mexcept\u001b[39;00m \u001b[38;5;167;01mTypeError\u001b[39;00m:\n\u001b[0;32m   3625\u001b[0m         \u001b[38;5;66;03m# If we have a listlike key, _check_indexing_error will raise\u001b[39;00m\n\u001b[0;32m   3626\u001b[0m         \u001b[38;5;66;03m#  InvalidIndexError. Otherwise we fall through and re-raise\u001b[39;00m\n\u001b[0;32m   3627\u001b[0m         \u001b[38;5;66;03m#  the TypeError.\u001b[39;00m\n\u001b[1;32m-> 3628\u001b[0m         \u001b[38;5;28;43mself\u001b[39;49m\u001b[38;5;241;43m.\u001b[39;49m\u001b[43m_check_indexing_error\u001b[49m\u001b[43m(\u001b[49m\u001b[43mkey\u001b[49m\u001b[43m)\u001b[49m\n\u001b[0;32m   3629\u001b[0m         \u001b[38;5;28;01mraise\u001b[39;00m\n\u001b[0;32m   3631\u001b[0m \u001b[38;5;66;03m# GH#42269\u001b[39;00m\n",
      "File \u001b[1;32m~\\anaconda3\\lib\\site-packages\\pandas\\core\\indexes\\base.py:5637\u001b[0m, in \u001b[0;36mIndex._check_indexing_error\u001b[1;34m(self, key)\u001b[0m\n\u001b[0;32m   5633\u001b[0m \u001b[38;5;28;01mdef\u001b[39;00m \u001b[38;5;21m_check_indexing_error\u001b[39m(\u001b[38;5;28mself\u001b[39m, key):\n\u001b[0;32m   5634\u001b[0m     \u001b[38;5;28;01mif\u001b[39;00m \u001b[38;5;129;01mnot\u001b[39;00m is_scalar(key):\n\u001b[0;32m   5635\u001b[0m         \u001b[38;5;66;03m# if key is not a scalar, directly raise an error (the code below\u001b[39;00m\n\u001b[0;32m   5636\u001b[0m         \u001b[38;5;66;03m# would convert to numpy arrays and raise later any way) - GH29926\u001b[39;00m\n\u001b[1;32m-> 5637\u001b[0m         \u001b[38;5;28;01mraise\u001b[39;00m InvalidIndexError(key)\n",
      "\u001b[1;31mInvalidIndexError\u001b[0m: (0, slice(None, None, None))"
     ]
    }
   ],
   "source": [
    "data[0,:]"
   ]
  },
  {
   "cell_type": "code",
   "execution_count": 156,
   "id": "7381e1a0-51b8-4a8d-b605-74286b7d276d",
   "metadata": {},
   "outputs": [
    {
     "name": "stdout",
     "output_type": "stream",
     "text": [
      "    open   high    low  close\n",
      "0  11650  12100  11600  11900\n",
      "1  11100  11800  11050  11600\n",
      "2  11200  11200  10900  11000\n",
      "3  11100  11100  10950  11100\n",
      "4  11100  11150  10900  11050\n"
     ]
    }
   ],
   "source": [
    "# 딕셔너리 데이터는 순서가 없음\n",
    "daeshin = {'open': [11650, 11100, 11200, 11100, 11100],\n",
    "           'high': [12100, 11800, 11200, 11100, 11150],\n",
    "           'low': [11600, 11050, 10900, 10950, 10900],\n",
    "           'close': [11900, 11600, 11000, 11100, 11050]\n",
    "}\n",
    "\n",
    "daeshin_day = pd.DataFrame(daeshin)\n",
    "print(daeshin_day)"
   ]
  },
  {
   "cell_type": "code",
   "execution_count": 157,
   "id": "7500a6b4-170a-4513-b07f-24bed5d5a7b1",
   "metadata": {},
   "outputs": [],
   "source": [
    "date = ['2016.02.29', '2016.02.26', '2016.02.25', '2016.02.24', '2016.02.23']\n",
    "daeshin_day = pd.DataFrame(daeshin, columns = ['open', 'high', 'low', 'close'], index = date)"
   ]
  },
  {
   "cell_type": "code",
   "execution_count": 158,
   "id": "c7ed0e8f-9c27-4a6f-a066-d9700f1660b0",
   "metadata": {},
   "outputs": [
    {
     "name": "stdout",
     "output_type": "stream",
     "text": [
      "Index(['open', 'high', 'low', 'close'], dtype='object')\n",
      "Index(['2016.02.29', '2016.02.26', '2016.02.25', '2016.02.24', '2016.02.23'], dtype='object')\n"
     ]
    }
   ],
   "source": [
    "print(daeshin_day.columns)\n",
    "print(daeshin_day.index)"
   ]
  },
  {
   "cell_type": "code",
   "execution_count": 164,
   "id": "5a22b5f6-1660-4402-aefd-1b93b4036c91",
   "metadata": {},
   "outputs": [
    {
     "name": "stdout",
     "output_type": "stream",
     "text": [
      "open     11100\n",
      "high     11100\n",
      "low      10950\n",
      "close    11100\n",
      "Name: 2016.02.24, dtype: int64\n"
     ]
    }
   ],
   "source": [
    "day_data = daeshin_day.loc['2016.02.24']\n",
    "print(day_data)"
   ]
  },
  {
   "cell_type": "code",
   "execution_count": 166,
   "id": "dd477539-cf0c-4640-9ead-f4d985310b10",
   "metadata": {},
   "outputs": [
    {
     "name": "stdout",
     "output_type": "stream",
     "text": [
      "<class 'pandas.core.series.Series'>\n"
     ]
    }
   ],
   "source": [
    "print(type(day_data))"
   ]
  },
  {
   "cell_type": "code",
   "execution_count": 165,
   "id": "19a125fe-ee5a-426c-92f9-5bf32c790a1d",
   "metadata": {},
   "outputs": [
    {
     "data": {
      "text/plain": [
       "open     11200\n",
       "high     11200\n",
       "low      10900\n",
       "close    11000\n",
       "Name: 2016.02.25, dtype: int64"
      ]
     },
     "execution_count": 165,
     "metadata": {},
     "output_type": "execute_result"
    }
   ],
   "source": [
    "daeshin_day.iloc[2]"
   ]
  },
  {
   "cell_type": "code",
   "execution_count": 167,
   "id": "948ec8e4-7ff7-47ef-b28c-61d932ad00f2",
   "metadata": {},
   "outputs": [
    {
     "data": {
      "text/plain": [
       "United Kingdom:        London\n",
       "India:              New Delhi\n",
       "United States      Washington\n",
       "dtype: object"
      ]
     },
     "metadata": {},
     "output_type": "display_data"
    },
    {
     "data": {
      "text/html": [
       "<div>\n",
       "<style scoped>\n",
       "    .dataframe tbody tr th:only-of-type {\n",
       "        vertical-align: middle;\n",
       "    }\n",
       "\n",
       "    .dataframe tbody tr th {\n",
       "        vertical-align: top;\n",
       "    }\n",
       "\n",
       "    .dataframe thead th {\n",
       "        text-align: right;\n",
       "    }\n",
       "</style>\n",
       "<table border=\"1\" class=\"dataframe\">\n",
       "  <thead>\n",
       "    <tr style=\"text-align: right;\">\n",
       "      <th></th>\n",
       "      <th>0</th>\n",
       "    </tr>\n",
       "  </thead>\n",
       "  <tbody>\n",
       "    <tr>\n",
       "      <th>United Kingdom:</th>\n",
       "      <td>London</td>\n",
       "    </tr>\n",
       "    <tr>\n",
       "      <th>India:</th>\n",
       "      <td>New Delhi</td>\n",
       "    </tr>\n",
       "    <tr>\n",
       "      <th>United States</th>\n",
       "      <td>Washington</td>\n",
       "    </tr>\n",
       "  </tbody>\n",
       "</table>\n",
       "</div>"
      ],
      "text/plain": [
       "                          0\n",
       "United Kingdom:      London\n",
       "India:            New Delhi\n",
       "United States    Washington"
      ]
     },
     "metadata": {},
     "output_type": "display_data"
    }
   ],
   "source": [
    "series1 = pd.Series({\"United Kingdom:\":\"London\", \"India:\":\"New Delhi\", \"United States\":\"Washington\"})\n",
    "display(series1)\n",
    "display(pd.DataFrame(series1))"
   ]
  },
  {
   "cell_type": "code",
   "execution_count": 173,
   "id": "c60b3b30-cab5-42f5-bab9-2b9362c24ba0",
   "metadata": {},
   "outputs": [
    {
     "data": {
      "text/html": [
       "<div>\n",
       "<style scoped>\n",
       "    .dataframe tbody tr th:only-of-type {\n",
       "        vertical-align: middle;\n",
       "    }\n",
       "\n",
       "    .dataframe tbody tr th {\n",
       "        vertical-align: top;\n",
       "    }\n",
       "\n",
       "    .dataframe thead th {\n",
       "        text-align: right;\n",
       "    }\n",
       "</style>\n",
       "<table border=\"1\" class=\"dataframe\">\n",
       "  <thead>\n",
       "    <tr style=\"text-align: right;\">\n",
       "      <th></th>\n",
       "      <th>0</th>\n",
       "    </tr>\n",
       "  </thead>\n",
       "  <tbody>\n",
       "    <tr>\n",
       "      <th>United Kingdom:</th>\n",
       "      <td>London</td>\n",
       "    </tr>\n",
       "    <tr>\n",
       "      <th>India:</th>\n",
       "      <td>New Delhi</td>\n",
       "    </tr>\n",
       "    <tr>\n",
       "      <th>United States</th>\n",
       "      <td>Washington</td>\n",
       "    </tr>\n",
       "  </tbody>\n",
       "</table>\n",
       "</div>"
      ],
      "text/plain": [
       "                          0\n",
       "United Kingdom:      London\n",
       "India:            New Delhi\n",
       "United States    Washington"
      ]
     },
     "execution_count": 173,
     "metadata": {},
     "output_type": "execute_result"
    }
   ],
   "source": [
    "df = pd.DataFrame(series1)\n",
    "df"
   ]
  },
  {
   "cell_type": "code",
   "execution_count": 174,
   "id": "c8545de6-4938-4367-a199-e8566aae939c",
   "metadata": {},
   "outputs": [
    {
     "ename": "TypeError",
     "evalue": "'RangeIndex' object is not callable",
     "output_type": "error",
     "traceback": [
      "\u001b[1;31m---------------------------------------------------------------------------\u001b[0m",
      "\u001b[1;31mTypeError\u001b[0m                                 Traceback (most recent call last)",
      "Input \u001b[1;32mIn [174]\u001b[0m, in \u001b[0;36m<cell line: 1>\u001b[1;34m()\u001b[0m\n\u001b[1;32m----> 1\u001b[0m \u001b[43mdf\u001b[49m\u001b[38;5;241;43m.\u001b[39;49m\u001b[43mcolumns\u001b[49m\u001b[43m(\u001b[49m\u001b[43m)\u001b[49m\n",
      "\u001b[1;31mTypeError\u001b[0m: 'RangeIndex' object is not callable"
     ]
    }
   ],
   "source": [
    "df.columns()"
   ]
  },
  {
   "cell_type": "code",
   "execution_count": 175,
   "id": "96f3d639-5a96-4ecd-b8f3-d25abbfd8ad7",
   "metadata": {},
   "outputs": [
    {
     "data": {
      "text/plain": [
       "RangeIndex(start=0, stop=1, step=1)"
      ]
     },
     "execution_count": 175,
     "metadata": {},
     "output_type": "execute_result"
    }
   ],
   "source": [
    "df.columns"
   ]
  },
  {
   "cell_type": "code",
   "execution_count": 176,
   "id": "4d829b8d-83d5-422b-8bc5-156297fddb9a",
   "metadata": {},
   "outputs": [
    {
     "ename": "ValueError",
     "evalue": "Length mismatch: Expected axis has 1 elements, new values have 3 elements",
     "output_type": "error",
     "traceback": [
      "\u001b[1;31m---------------------------------------------------------------------------\u001b[0m",
      "\u001b[1;31mValueError\u001b[0m                                Traceback (most recent call last)",
      "Input \u001b[1;32mIn [176]\u001b[0m, in \u001b[0;36m<cell line: 1>\u001b[1;34m()\u001b[0m\n\u001b[1;32m----> 1\u001b[0m df\u001b[38;5;241m.\u001b[39mcolumns \u001b[38;5;241m=\u001b[39m [\u001b[38;5;124m'\u001b[39m\u001b[38;5;124ma\u001b[39m\u001b[38;5;124m'\u001b[39m, \u001b[38;5;124m'\u001b[39m\u001b[38;5;124mb\u001b[39m\u001b[38;5;124m'\u001b[39m, \u001b[38;5;124m'\u001b[39m\u001b[38;5;124mc\u001b[39m\u001b[38;5;124m'\u001b[39m]\n\u001b[0;32m      2\u001b[0m df\n",
      "File \u001b[1;32m~\\anaconda3\\lib\\site-packages\\pandas\\core\\generic.py:5588\u001b[0m, in \u001b[0;36mNDFrame.__setattr__\u001b[1;34m(self, name, value)\u001b[0m\n\u001b[0;32m   5586\u001b[0m \u001b[38;5;28;01mtry\u001b[39;00m:\n\u001b[0;32m   5587\u001b[0m     \u001b[38;5;28mobject\u001b[39m\u001b[38;5;241m.\u001b[39m\u001b[38;5;21m__getattribute__\u001b[39m(\u001b[38;5;28mself\u001b[39m, name)\n\u001b[1;32m-> 5588\u001b[0m     \u001b[38;5;28;01mreturn\u001b[39;00m \u001b[38;5;28;43mobject\u001b[39;49m\u001b[38;5;241;43m.\u001b[39;49m\u001b[38;5;21;43m__setattr__\u001b[39;49m\u001b[43m(\u001b[49m\u001b[38;5;28;43mself\u001b[39;49m\u001b[43m,\u001b[49m\u001b[43m \u001b[49m\u001b[43mname\u001b[49m\u001b[43m,\u001b[49m\u001b[43m \u001b[49m\u001b[43mvalue\u001b[49m\u001b[43m)\u001b[49m\n\u001b[0;32m   5589\u001b[0m \u001b[38;5;28;01mexcept\u001b[39;00m \u001b[38;5;167;01mAttributeError\u001b[39;00m:\n\u001b[0;32m   5590\u001b[0m     \u001b[38;5;28;01mpass\u001b[39;00m\n",
      "File \u001b[1;32m~\\anaconda3\\lib\\site-packages\\pandas\\_libs\\properties.pyx:70\u001b[0m, in \u001b[0;36mpandas._libs.properties.AxisProperty.__set__\u001b[1;34m()\u001b[0m\n",
      "File \u001b[1;32m~\\anaconda3\\lib\\site-packages\\pandas\\core\\generic.py:769\u001b[0m, in \u001b[0;36mNDFrame._set_axis\u001b[1;34m(self, axis, labels)\u001b[0m\n\u001b[0;32m    767\u001b[0m \u001b[38;5;28;01mdef\u001b[39;00m \u001b[38;5;21m_set_axis\u001b[39m(\u001b[38;5;28mself\u001b[39m, axis: \u001b[38;5;28mint\u001b[39m, labels: Index) \u001b[38;5;241m-\u001b[39m\u001b[38;5;241m>\u001b[39m \u001b[38;5;28;01mNone\u001b[39;00m:\n\u001b[0;32m    768\u001b[0m     labels \u001b[38;5;241m=\u001b[39m ensure_index(labels)\n\u001b[1;32m--> 769\u001b[0m     \u001b[38;5;28;43mself\u001b[39;49m\u001b[38;5;241;43m.\u001b[39;49m\u001b[43m_mgr\u001b[49m\u001b[38;5;241;43m.\u001b[39;49m\u001b[43mset_axis\u001b[49m\u001b[43m(\u001b[49m\u001b[43maxis\u001b[49m\u001b[43m,\u001b[49m\u001b[43m \u001b[49m\u001b[43mlabels\u001b[49m\u001b[43m)\u001b[49m\n\u001b[0;32m    770\u001b[0m     \u001b[38;5;28mself\u001b[39m\u001b[38;5;241m.\u001b[39m_clear_item_cache()\n",
      "File \u001b[1;32m~\\anaconda3\\lib\\site-packages\\pandas\\core\\internals\\managers.py:214\u001b[0m, in \u001b[0;36mBaseBlockManager.set_axis\u001b[1;34m(self, axis, new_labels)\u001b[0m\n\u001b[0;32m    212\u001b[0m \u001b[38;5;28;01mdef\u001b[39;00m \u001b[38;5;21mset_axis\u001b[39m(\u001b[38;5;28mself\u001b[39m, axis: \u001b[38;5;28mint\u001b[39m, new_labels: Index) \u001b[38;5;241m-\u001b[39m\u001b[38;5;241m>\u001b[39m \u001b[38;5;28;01mNone\u001b[39;00m:\n\u001b[0;32m    213\u001b[0m     \u001b[38;5;66;03m# Caller is responsible for ensuring we have an Index object.\u001b[39;00m\n\u001b[1;32m--> 214\u001b[0m     \u001b[38;5;28;43mself\u001b[39;49m\u001b[38;5;241;43m.\u001b[39;49m\u001b[43m_validate_set_axis\u001b[49m\u001b[43m(\u001b[49m\u001b[43maxis\u001b[49m\u001b[43m,\u001b[49m\u001b[43m \u001b[49m\u001b[43mnew_labels\u001b[49m\u001b[43m)\u001b[49m\n\u001b[0;32m    215\u001b[0m     \u001b[38;5;28mself\u001b[39m\u001b[38;5;241m.\u001b[39maxes[axis] \u001b[38;5;241m=\u001b[39m new_labels\n",
      "File \u001b[1;32m~\\anaconda3\\lib\\site-packages\\pandas\\core\\internals\\base.py:69\u001b[0m, in \u001b[0;36mDataManager._validate_set_axis\u001b[1;34m(self, axis, new_labels)\u001b[0m\n\u001b[0;32m     66\u001b[0m     \u001b[38;5;28;01mpass\u001b[39;00m\n\u001b[0;32m     68\u001b[0m \u001b[38;5;28;01melif\u001b[39;00m new_len \u001b[38;5;241m!=\u001b[39m old_len:\n\u001b[1;32m---> 69\u001b[0m     \u001b[38;5;28;01mraise\u001b[39;00m \u001b[38;5;167;01mValueError\u001b[39;00m(\n\u001b[0;32m     70\u001b[0m         \u001b[38;5;124mf\u001b[39m\u001b[38;5;124m\"\u001b[39m\u001b[38;5;124mLength mismatch: Expected axis has \u001b[39m\u001b[38;5;132;01m{\u001b[39;00mold_len\u001b[38;5;132;01m}\u001b[39;00m\u001b[38;5;124m elements, new \u001b[39m\u001b[38;5;124m\"\u001b[39m\n\u001b[0;32m     71\u001b[0m         \u001b[38;5;124mf\u001b[39m\u001b[38;5;124m\"\u001b[39m\u001b[38;5;124mvalues have \u001b[39m\u001b[38;5;132;01m{\u001b[39;00mnew_len\u001b[38;5;132;01m}\u001b[39;00m\u001b[38;5;124m elements\u001b[39m\u001b[38;5;124m\"\u001b[39m\n\u001b[0;32m     72\u001b[0m     )\n",
      "\u001b[1;31mValueError\u001b[0m: Length mismatch: Expected axis has 1 elements, new values have 3 elements"
     ]
    }
   ],
   "source": [
    "df.columns = ['a', 'b', 'c']\n",
    "df"
   ]
  },
  {
   "cell_type": "code",
   "execution_count": 179,
   "id": "11390e5f-c220-4fb6-8dd4-15c76878a98e",
   "metadata": {},
   "outputs": [
    {
     "data": {
      "text/plain": [
       "Index(['capital'], dtype='object')"
      ]
     },
     "execution_count": 179,
     "metadata": {},
     "output_type": "execute_result"
    }
   ],
   "source": [
    "df.columns = ['capital']\n",
    "df.columns"
   ]
  },
  {
   "cell_type": "code",
   "execution_count": 180,
   "id": "766ab4fd-4153-4f5a-b56e-3ddf46058211",
   "metadata": {},
   "outputs": [
    {
     "name": "stdout",
     "output_type": "stream",
     "text": [
      "                    capital\n",
      "United Kingdom:      London\n",
      "India:            New Delhi\n",
      "United States    Washington\n"
     ]
    }
   ],
   "source": [
    "print(df)"
   ]
  },
  {
   "cell_type": "code",
   "execution_count": 182,
   "id": "d1865c15-b3be-46ee-8c82-a3867f07161c",
   "metadata": {},
   "outputs": [
    {
     "data": {
      "text/html": [
       "<div>\n",
       "<style scoped>\n",
       "    .dataframe tbody tr th:only-of-type {\n",
       "        vertical-align: middle;\n",
       "    }\n",
       "\n",
       "    .dataframe tbody tr th {\n",
       "        vertical-align: top;\n",
       "    }\n",
       "\n",
       "    .dataframe thead th {\n",
       "        text-align: right;\n",
       "    }\n",
       "</style>\n",
       "<table border=\"1\" class=\"dataframe\">\n",
       "  <thead>\n",
       "    <tr style=\"text-align: right;\">\n",
       "      <th></th>\n",
       "      <th>capital</th>\n",
       "    </tr>\n",
       "  </thead>\n",
       "  <tbody>\n",
       "    <tr>\n",
       "      <th>United Kingdom:</th>\n",
       "      <td>London</td>\n",
       "    </tr>\n",
       "    <tr>\n",
       "      <th>India:</th>\n",
       "      <td>New Delhi</td>\n",
       "    </tr>\n",
       "    <tr>\n",
       "      <th>United States</th>\n",
       "      <td>Washington</td>\n",
       "    </tr>\n",
       "  </tbody>\n",
       "</table>\n",
       "</div>"
      ],
      "text/plain": [
       "                    capital\n",
       "United Kingdom:      London\n",
       "India:            New Delhi\n",
       "United States    Washington"
      ]
     },
     "execution_count": 182,
     "metadata": {},
     "output_type": "execute_result"
    }
   ],
   "source": [
    "df[[\"capital\"]]"
   ]
  },
  {
   "cell_type": "code",
   "execution_count": 184,
   "id": "3bade109-7870-4016-b8c9-779ba5933e73",
   "metadata": {},
   "outputs": [
    {
     "ename": "KeyError",
     "evalue": "'United Kingdom'",
     "output_type": "error",
     "traceback": [
      "\u001b[1;31m---------------------------------------------------------------------------\u001b[0m",
      "\u001b[1;31mKeyError\u001b[0m                                  Traceback (most recent call last)",
      "File \u001b[1;32m~\\anaconda3\\lib\\site-packages\\pandas\\core\\indexes\\base.py:3621\u001b[0m, in \u001b[0;36mIndex.get_loc\u001b[1;34m(self, key, method, tolerance)\u001b[0m\n\u001b[0;32m   3620\u001b[0m \u001b[38;5;28;01mtry\u001b[39;00m:\n\u001b[1;32m-> 3621\u001b[0m     \u001b[38;5;28;01mreturn\u001b[39;00m \u001b[38;5;28;43mself\u001b[39;49m\u001b[38;5;241;43m.\u001b[39;49m\u001b[43m_engine\u001b[49m\u001b[38;5;241;43m.\u001b[39;49m\u001b[43mget_loc\u001b[49m\u001b[43m(\u001b[49m\u001b[43mcasted_key\u001b[49m\u001b[43m)\u001b[49m\n\u001b[0;32m   3622\u001b[0m \u001b[38;5;28;01mexcept\u001b[39;00m \u001b[38;5;167;01mKeyError\u001b[39;00m \u001b[38;5;28;01mas\u001b[39;00m err:\n",
      "File \u001b[1;32m~\\anaconda3\\lib\\site-packages\\pandas\\_libs\\index.pyx:136\u001b[0m, in \u001b[0;36mpandas._libs.index.IndexEngine.get_loc\u001b[1;34m()\u001b[0m\n",
      "File \u001b[1;32m~\\anaconda3\\lib\\site-packages\\pandas\\_libs\\index.pyx:163\u001b[0m, in \u001b[0;36mpandas._libs.index.IndexEngine.get_loc\u001b[1;34m()\u001b[0m\n",
      "File \u001b[1;32mpandas\\_libs\\hashtable_class_helper.pxi:5198\u001b[0m, in \u001b[0;36mpandas._libs.hashtable.PyObjectHashTable.get_item\u001b[1;34m()\u001b[0m\n",
      "File \u001b[1;32mpandas\\_libs\\hashtable_class_helper.pxi:5206\u001b[0m, in \u001b[0;36mpandas._libs.hashtable.PyObjectHashTable.get_item\u001b[1;34m()\u001b[0m\n",
      "\u001b[1;31mKeyError\u001b[0m: 'United Kingdom'",
      "\nThe above exception was the direct cause of the following exception:\n",
      "\u001b[1;31mKeyError\u001b[0m                                  Traceback (most recent call last)",
      "Input \u001b[1;32mIn [184]\u001b[0m, in \u001b[0;36m<cell line: 1>\u001b[1;34m()\u001b[0m\n\u001b[1;32m----> 1\u001b[0m \u001b[43mdf\u001b[49m\u001b[43m[\u001b[49m\u001b[38;5;124;43m'\u001b[39;49m\u001b[38;5;124;43mUnited Kingdom\u001b[39;49m\u001b[38;5;124;43m'\u001b[39;49m\u001b[43m]\u001b[49m[\u001b[38;5;241m0\u001b[39m:\u001b[38;5;241m2\u001b[39m]\n",
      "File \u001b[1;32m~\\anaconda3\\lib\\site-packages\\pandas\\core\\frame.py:3505\u001b[0m, in \u001b[0;36mDataFrame.__getitem__\u001b[1;34m(self, key)\u001b[0m\n\u001b[0;32m   3503\u001b[0m \u001b[38;5;28;01mif\u001b[39;00m \u001b[38;5;28mself\u001b[39m\u001b[38;5;241m.\u001b[39mcolumns\u001b[38;5;241m.\u001b[39mnlevels \u001b[38;5;241m>\u001b[39m \u001b[38;5;241m1\u001b[39m:\n\u001b[0;32m   3504\u001b[0m     \u001b[38;5;28;01mreturn\u001b[39;00m \u001b[38;5;28mself\u001b[39m\u001b[38;5;241m.\u001b[39m_getitem_multilevel(key)\n\u001b[1;32m-> 3505\u001b[0m indexer \u001b[38;5;241m=\u001b[39m \u001b[38;5;28;43mself\u001b[39;49m\u001b[38;5;241;43m.\u001b[39;49m\u001b[43mcolumns\u001b[49m\u001b[38;5;241;43m.\u001b[39;49m\u001b[43mget_loc\u001b[49m\u001b[43m(\u001b[49m\u001b[43mkey\u001b[49m\u001b[43m)\u001b[49m\n\u001b[0;32m   3506\u001b[0m \u001b[38;5;28;01mif\u001b[39;00m is_integer(indexer):\n\u001b[0;32m   3507\u001b[0m     indexer \u001b[38;5;241m=\u001b[39m [indexer]\n",
      "File \u001b[1;32m~\\anaconda3\\lib\\site-packages\\pandas\\core\\indexes\\base.py:3623\u001b[0m, in \u001b[0;36mIndex.get_loc\u001b[1;34m(self, key, method, tolerance)\u001b[0m\n\u001b[0;32m   3621\u001b[0m     \u001b[38;5;28;01mreturn\u001b[39;00m \u001b[38;5;28mself\u001b[39m\u001b[38;5;241m.\u001b[39m_engine\u001b[38;5;241m.\u001b[39mget_loc(casted_key)\n\u001b[0;32m   3622\u001b[0m \u001b[38;5;28;01mexcept\u001b[39;00m \u001b[38;5;167;01mKeyError\u001b[39;00m \u001b[38;5;28;01mas\u001b[39;00m err:\n\u001b[1;32m-> 3623\u001b[0m     \u001b[38;5;28;01mraise\u001b[39;00m \u001b[38;5;167;01mKeyError\u001b[39;00m(key) \u001b[38;5;28;01mfrom\u001b[39;00m \u001b[38;5;21;01merr\u001b[39;00m\n\u001b[0;32m   3624\u001b[0m \u001b[38;5;28;01mexcept\u001b[39;00m \u001b[38;5;167;01mTypeError\u001b[39;00m:\n\u001b[0;32m   3625\u001b[0m     \u001b[38;5;66;03m# If we have a listlike key, _check_indexing_error will raise\u001b[39;00m\n\u001b[0;32m   3626\u001b[0m     \u001b[38;5;66;03m#  InvalidIndexError. Otherwise we fall through and re-raise\u001b[39;00m\n\u001b[0;32m   3627\u001b[0m     \u001b[38;5;66;03m#  the TypeError.\u001b[39;00m\n\u001b[0;32m   3628\u001b[0m     \u001b[38;5;28mself\u001b[39m\u001b[38;5;241m.\u001b[39m_check_indexing_error(key)\n",
      "\u001b[1;31mKeyError\u001b[0m: 'United Kingdom'"
     ]
    }
   ],
   "source": [
    "df['United Kingdom'][0:2]  # 'B'라는 컬럼을 뽑은 후, 열에서 0부터 1까지의 출력\n"
   ]
  },
  {
   "cell_type": "code",
   "execution_count": 185,
   "id": "f7c8d24b-efec-4470-8bb9-814716d9a0b4",
   "metadata": {},
   "outputs": [
    {
     "data": {
      "text/plain": [
       "United Kingdom:       London\n",
       "India:             New Delhi\n",
       "Name: capital, dtype: object"
      ]
     },
     "execution_count": 185,
     "metadata": {},
     "output_type": "execute_result"
    }
   ],
   "source": [
    "df['capital'][0:2]  # 'B'라는 컬럼을 뽑은 후, 열에서 0부터 1까지의 출력"
   ]
  },
  {
   "cell_type": "code",
   "execution_count": 187,
   "id": "e9503214-a49b-432d-ba80-244d1e5e570b",
   "metadata": {},
   "outputs": [
    {
     "data": {
      "text/html": [
       "<div>\n",
       "<style scoped>\n",
       "    .dataframe tbody tr th:only-of-type {\n",
       "        vertical-align: middle;\n",
       "    }\n",
       "\n",
       "    .dataframe tbody tr th {\n",
       "        vertical-align: top;\n",
       "    }\n",
       "\n",
       "    .dataframe thead th {\n",
       "        text-align: right;\n",
       "    }\n",
       "</style>\n",
       "<table border=\"1\" class=\"dataframe\">\n",
       "  <thead>\n",
       "    <tr style=\"text-align: right;\">\n",
       "      <th></th>\n",
       "      <th>capital</th>\n",
       "    </tr>\n",
       "  </thead>\n",
       "  <tbody>\n",
       "    <tr>\n",
       "      <th>United Kingdom:</th>\n",
       "      <td>London</td>\n",
       "    </tr>\n",
       "    <tr>\n",
       "      <th>India:</th>\n",
       "      <td>New Delhi</td>\n",
       "    </tr>\n",
       "  </tbody>\n",
       "</table>\n",
       "</div>"
      ],
      "text/plain": [
       "                   capital\n",
       "United Kingdom:     London\n",
       "India:           New Delhi"
      ]
     },
     "execution_count": 187,
     "metadata": {},
     "output_type": "execute_result"
    }
   ],
   "source": [
    "df.iloc[0:2]"
   ]
  },
  {
   "cell_type": "code",
   "execution_count": 191,
   "id": "2daf314c-15c4-488a-b51c-a26eed3006ea",
   "metadata": {},
   "outputs": [
    {
     "ename": "KeyError",
     "evalue": "'London'",
     "output_type": "error",
     "traceback": [
      "\u001b[1;31m---------------------------------------------------------------------------\u001b[0m",
      "\u001b[1;31mKeyError\u001b[0m                                  Traceback (most recent call last)",
      "File \u001b[1;32m~\\anaconda3\\lib\\site-packages\\pandas\\core\\indexes\\base.py:3621\u001b[0m, in \u001b[0;36mIndex.get_loc\u001b[1;34m(self, key, method, tolerance)\u001b[0m\n\u001b[0;32m   3620\u001b[0m \u001b[38;5;28;01mtry\u001b[39;00m:\n\u001b[1;32m-> 3621\u001b[0m     \u001b[38;5;28;01mreturn\u001b[39;00m \u001b[38;5;28;43mself\u001b[39;49m\u001b[38;5;241;43m.\u001b[39;49m\u001b[43m_engine\u001b[49m\u001b[38;5;241;43m.\u001b[39;49m\u001b[43mget_loc\u001b[49m\u001b[43m(\u001b[49m\u001b[43mcasted_key\u001b[49m\u001b[43m)\u001b[49m\n\u001b[0;32m   3622\u001b[0m \u001b[38;5;28;01mexcept\u001b[39;00m \u001b[38;5;167;01mKeyError\u001b[39;00m \u001b[38;5;28;01mas\u001b[39;00m err:\n",
      "File \u001b[1;32m~\\anaconda3\\lib\\site-packages\\pandas\\_libs\\index.pyx:136\u001b[0m, in \u001b[0;36mpandas._libs.index.IndexEngine.get_loc\u001b[1;34m()\u001b[0m\n",
      "File \u001b[1;32m~\\anaconda3\\lib\\site-packages\\pandas\\_libs\\index.pyx:163\u001b[0m, in \u001b[0;36mpandas._libs.index.IndexEngine.get_loc\u001b[1;34m()\u001b[0m\n",
      "File \u001b[1;32mpandas\\_libs\\hashtable_class_helper.pxi:5198\u001b[0m, in \u001b[0;36mpandas._libs.hashtable.PyObjectHashTable.get_item\u001b[1;34m()\u001b[0m\n",
      "File \u001b[1;32mpandas\\_libs\\hashtable_class_helper.pxi:5206\u001b[0m, in \u001b[0;36mpandas._libs.hashtable.PyObjectHashTable.get_item\u001b[1;34m()\u001b[0m\n",
      "\u001b[1;31mKeyError\u001b[0m: 'London'",
      "\nThe above exception was the direct cause of the following exception:\n",
      "\u001b[1;31mKeyError\u001b[0m                                  Traceback (most recent call last)",
      "Input \u001b[1;32mIn [191]\u001b[0m, in \u001b[0;36m<cell line: 1>\u001b[1;34m()\u001b[0m\n\u001b[1;32m----> 1\u001b[0m \u001b[43mdf\u001b[49m\u001b[38;5;241;43m.\u001b[39;49m\u001b[43miloc\u001b[49m\u001b[43m[\u001b[49m\u001b[38;5;241;43m0\u001b[39;49m\u001b[43m:\u001b[49m\u001b[38;5;241;43m2\u001b[39;49m\u001b[43m]\u001b[49m\u001b[43m[\u001b[49m\u001b[38;5;124;43m'\u001b[39;49m\u001b[38;5;124;43mLondon\u001b[39;49m\u001b[38;5;124;43m'\u001b[39;49m\u001b[43m]\u001b[49m\n",
      "File \u001b[1;32m~\\anaconda3\\lib\\site-packages\\pandas\\core\\frame.py:3505\u001b[0m, in \u001b[0;36mDataFrame.__getitem__\u001b[1;34m(self, key)\u001b[0m\n\u001b[0;32m   3503\u001b[0m \u001b[38;5;28;01mif\u001b[39;00m \u001b[38;5;28mself\u001b[39m\u001b[38;5;241m.\u001b[39mcolumns\u001b[38;5;241m.\u001b[39mnlevels \u001b[38;5;241m>\u001b[39m \u001b[38;5;241m1\u001b[39m:\n\u001b[0;32m   3504\u001b[0m     \u001b[38;5;28;01mreturn\u001b[39;00m \u001b[38;5;28mself\u001b[39m\u001b[38;5;241m.\u001b[39m_getitem_multilevel(key)\n\u001b[1;32m-> 3505\u001b[0m indexer \u001b[38;5;241m=\u001b[39m \u001b[38;5;28;43mself\u001b[39;49m\u001b[38;5;241;43m.\u001b[39;49m\u001b[43mcolumns\u001b[49m\u001b[38;5;241;43m.\u001b[39;49m\u001b[43mget_loc\u001b[49m\u001b[43m(\u001b[49m\u001b[43mkey\u001b[49m\u001b[43m)\u001b[49m\n\u001b[0;32m   3506\u001b[0m \u001b[38;5;28;01mif\u001b[39;00m is_integer(indexer):\n\u001b[0;32m   3507\u001b[0m     indexer \u001b[38;5;241m=\u001b[39m [indexer]\n",
      "File \u001b[1;32m~\\anaconda3\\lib\\site-packages\\pandas\\core\\indexes\\base.py:3623\u001b[0m, in \u001b[0;36mIndex.get_loc\u001b[1;34m(self, key, method, tolerance)\u001b[0m\n\u001b[0;32m   3621\u001b[0m     \u001b[38;5;28;01mreturn\u001b[39;00m \u001b[38;5;28mself\u001b[39m\u001b[38;5;241m.\u001b[39m_engine\u001b[38;5;241m.\u001b[39mget_loc(casted_key)\n\u001b[0;32m   3622\u001b[0m \u001b[38;5;28;01mexcept\u001b[39;00m \u001b[38;5;167;01mKeyError\u001b[39;00m \u001b[38;5;28;01mas\u001b[39;00m err:\n\u001b[1;32m-> 3623\u001b[0m     \u001b[38;5;28;01mraise\u001b[39;00m \u001b[38;5;167;01mKeyError\u001b[39;00m(key) \u001b[38;5;28;01mfrom\u001b[39;00m \u001b[38;5;21;01merr\u001b[39;00m\n\u001b[0;32m   3624\u001b[0m \u001b[38;5;28;01mexcept\u001b[39;00m \u001b[38;5;167;01mTypeError\u001b[39;00m:\n\u001b[0;32m   3625\u001b[0m     \u001b[38;5;66;03m# If we have a listlike key, _check_indexing_error will raise\u001b[39;00m\n\u001b[0;32m   3626\u001b[0m     \u001b[38;5;66;03m#  InvalidIndexError. Otherwise we fall through and re-raise\u001b[39;00m\n\u001b[0;32m   3627\u001b[0m     \u001b[38;5;66;03m#  the TypeError.\u001b[39;00m\n\u001b[0;32m   3628\u001b[0m     \u001b[38;5;28mself\u001b[39m\u001b[38;5;241m.\u001b[39m_check_indexing_error(key)\n",
      "\u001b[1;31mKeyError\u001b[0m: 'London'"
     ]
    }
   ],
   "source": [
    "df.iloc[0:2]['London']  # index에서 0부터 1까지 지칭함"
   ]
  },
  {
   "cell_type": "code",
   "execution_count": 192,
   "id": "01dd3366-7d12-4a88-b166-b7ac9bc244f8",
   "metadata": {},
   "outputs": [
    {
     "data": {
      "text/plain": [
       "capital    London\n",
       "Name: United Kingdom:, dtype: object"
      ]
     },
     "execution_count": 192,
     "metadata": {},
     "output_type": "execute_result"
    }
   ],
   "source": [
    "df.iloc[0]"
   ]
  },
  {
   "cell_type": "code",
   "execution_count": 193,
   "id": "d33c5728-1ffd-4ebd-bb69-c4c5723acd8b",
   "metadata": {},
   "outputs": [
    {
     "data": {
      "text/html": [
       "<div>\n",
       "<style scoped>\n",
       "    .dataframe tbody tr th:only-of-type {\n",
       "        vertical-align: middle;\n",
       "    }\n",
       "\n",
       "    .dataframe tbody tr th {\n",
       "        vertical-align: top;\n",
       "    }\n",
       "\n",
       "    .dataframe thead th {\n",
       "        text-align: right;\n",
       "    }\n",
       "</style>\n",
       "<table border=\"1\" class=\"dataframe\">\n",
       "  <thead>\n",
       "    <tr style=\"text-align: right;\">\n",
       "      <th></th>\n",
       "      <th>capital</th>\n",
       "    </tr>\n",
       "  </thead>\n",
       "  <tbody>\n",
       "    <tr>\n",
       "      <th>United Kingdom:</th>\n",
       "      <td>London</td>\n",
       "    </tr>\n",
       "    <tr>\n",
       "      <th>India:</th>\n",
       "      <td>New Delhi</td>\n",
       "    </tr>\n",
       "  </tbody>\n",
       "</table>\n",
       "</div>"
      ],
      "text/plain": [
       "                   capital\n",
       "United Kingdom:     London\n",
       "India:           New Delhi"
      ]
     },
     "execution_count": 193,
     "metadata": {},
     "output_type": "execute_result"
    }
   ],
   "source": [
    "df.iloc[0:2]"
   ]
  },
  {
   "cell_type": "code",
   "execution_count": 194,
   "id": "52547e58-6731-449c-af44-2d8474427c7c",
   "metadata": {},
   "outputs": [
    {
     "ename": "TypeError",
     "evalue": "Cannot index by location index with a non-integer key",
     "output_type": "error",
     "traceback": [
      "\u001b[1;31m---------------------------------------------------------------------------\u001b[0m",
      "\u001b[1;31mTypeError\u001b[0m                                 Traceback (most recent call last)",
      "Input \u001b[1;32mIn [194]\u001b[0m, in \u001b[0;36m<cell line: 1>\u001b[1;34m()\u001b[0m\n\u001b[1;32m----> 1\u001b[0m \u001b[43mdf\u001b[49m\u001b[38;5;241;43m.\u001b[39;49m\u001b[43miloc\u001b[49m\u001b[43m[\u001b[49m\u001b[38;5;124;43m\"\u001b[39;49m\u001b[38;5;124;43mLondon\u001b[39;49m\u001b[38;5;124;43m\"\u001b[39;49m\u001b[43m]\u001b[49m\n",
      "File \u001b[1;32m~\\anaconda3\\lib\\site-packages\\pandas\\core\\indexing.py:967\u001b[0m, in \u001b[0;36m_LocationIndexer.__getitem__\u001b[1;34m(self, key)\u001b[0m\n\u001b[0;32m    964\u001b[0m axis \u001b[38;5;241m=\u001b[39m \u001b[38;5;28mself\u001b[39m\u001b[38;5;241m.\u001b[39maxis \u001b[38;5;129;01mor\u001b[39;00m \u001b[38;5;241m0\u001b[39m\n\u001b[0;32m    966\u001b[0m maybe_callable \u001b[38;5;241m=\u001b[39m com\u001b[38;5;241m.\u001b[39mapply_if_callable(key, \u001b[38;5;28mself\u001b[39m\u001b[38;5;241m.\u001b[39mobj)\n\u001b[1;32m--> 967\u001b[0m \u001b[38;5;28;01mreturn\u001b[39;00m \u001b[38;5;28;43mself\u001b[39;49m\u001b[38;5;241;43m.\u001b[39;49m\u001b[43m_getitem_axis\u001b[49m\u001b[43m(\u001b[49m\u001b[43mmaybe_callable\u001b[49m\u001b[43m,\u001b[49m\u001b[43m \u001b[49m\u001b[43maxis\u001b[49m\u001b[38;5;241;43m=\u001b[39;49m\u001b[43maxis\u001b[49m\u001b[43m)\u001b[49m\n",
      "File \u001b[1;32m~\\anaconda3\\lib\\site-packages\\pandas\\core\\indexing.py:1517\u001b[0m, in \u001b[0;36m_iLocIndexer._getitem_axis\u001b[1;34m(self, key, axis)\u001b[0m\n\u001b[0;32m   1515\u001b[0m key \u001b[38;5;241m=\u001b[39m item_from_zerodim(key)\n\u001b[0;32m   1516\u001b[0m \u001b[38;5;28;01mif\u001b[39;00m \u001b[38;5;129;01mnot\u001b[39;00m is_integer(key):\n\u001b[1;32m-> 1517\u001b[0m     \u001b[38;5;28;01mraise\u001b[39;00m \u001b[38;5;167;01mTypeError\u001b[39;00m(\u001b[38;5;124m\"\u001b[39m\u001b[38;5;124mCannot index by location index with a non-integer key\u001b[39m\u001b[38;5;124m\"\u001b[39m)\n\u001b[0;32m   1519\u001b[0m \u001b[38;5;66;03m# validate the location\u001b[39;00m\n\u001b[0;32m   1520\u001b[0m \u001b[38;5;28mself\u001b[39m\u001b[38;5;241m.\u001b[39m_validate_integer(key, axis)\n",
      "\u001b[1;31mTypeError\u001b[0m: Cannot index by location index with a non-integer key"
     ]
    }
   ],
   "source": [
    "df.iloc[\"London\"]"
   ]
  },
  {
   "cell_type": "code",
   "execution_count": null,
   "id": "63c76fc2-82eb-436e-b01a-b4fd8c9485f5",
   "metadata": {},
   "outputs": [
    {
     "data": {
      "text/plain": [
       "United Kingdom:       London\n",
       "India:             New Delhi\n",
       "Name: capital, dtype: object"
      ]
     },
     "execution_count": 196,
     "metadata": {},
     "output_type": "execute_result"
    }
   ],
   "source": [
    "df.iloc[0:2]['capital']"
   ]
  },
  {
   "cell_type": "markdown",
   "id": "6b05308d-5532-497a-9c64-d535240d6dcf",
   "metadata": {},
   "source": [
    "- 슬라이싱 기초"
   ]
  },
  {
   "cell_type": "code",
   "execution_count": 197,
   "id": "39bcadaa-b1cd-49e1-bd43-9789b24a36e8",
   "metadata": {},
   "outputs": [
    {
     "data": {
      "text/plain": [
       "array([0, 1, 2, 3, 4, 5, 6, 7, 8, 9])"
      ]
     },
     "execution_count": 197,
     "metadata": {},
     "output_type": "execute_result"
    }
   ],
   "source": [
    "arr = np.arange(10)\n",
    "arr"
   ]
  },
  {
   "cell_type": "code",
   "execution_count": 198,
   "id": "621f64f2-5f61-4382-853b-074bca75f463",
   "metadata": {},
   "outputs": [
    {
     "data": {
      "text/plain": [
       "5"
      ]
     },
     "execution_count": 198,
     "metadata": {},
     "output_type": "execute_result"
    }
   ],
   "source": [
    "arr[5]"
   ]
  },
  {
   "cell_type": "code",
   "execution_count": 199,
   "id": "5c4eb203-8af8-4faf-8488-a9cd76679078",
   "metadata": {},
   "outputs": [
    {
     "data": {
      "text/plain": [
       "array([5, 6, 7])"
      ]
     },
     "execution_count": 199,
     "metadata": {},
     "output_type": "execute_result"
    }
   ],
   "source": [
    "arr[5:8]"
   ]
  },
  {
   "cell_type": "code",
   "execution_count": 200,
   "id": "8682c7a8-ab8e-40f5-9e6a-b2d22385c39b",
   "metadata": {},
   "outputs": [
    {
     "data": {
      "text/plain": [
       "array([ 0,  1,  2,  3,  4, 12, 12, 12,  8,  9])"
      ]
     },
     "execution_count": 200,
     "metadata": {},
     "output_type": "execute_result"
    }
   ],
   "source": [
    "arr[5:8] = 12\n",
    "arr"
   ]
  },
  {
   "cell_type": "markdown",
   "id": "36d3d435-6cf7-4fd0-82af-f0b16ea70ef8",
   "metadata": {},
   "source": [
    "- 뷰 대신에 슬라이스의 복사본을 얻고 싶은 경우, .copy() 사용"
   ]
  },
  {
   "cell_type": "code",
   "execution_count": 201,
   "id": "15208e19-4f03-4d12-b91e-4802263d9f69",
   "metadata": {},
   "outputs": [
    {
     "name": "stdout",
     "output_type": "stream",
     "text": [
      "[12 12 12]\n"
     ]
    }
   ],
   "source": [
    "arr_slice_copy = arr[5:8].copy()\n",
    "print(arr_slice_copy)"
   ]
  },
  {
   "cell_type": "code",
   "execution_count": 202,
   "id": "216dd7df-fa98-4e93-8554-7c2f3709b01c",
   "metadata": {},
   "outputs": [
    {
     "data": {
      "text/plain": [
       "array([-2,  2,  2,  2,  2,  2,  2,  2,  2,  2])"
      ]
     },
     "execution_count": 202,
     "metadata": {},
     "output_type": "execute_result"
    }
   ],
   "source": [
    "np.where(arr > 0, 2, -2)  # 양수는 모두 2, 음수는 모두 -1로"
   ]
  },
  {
   "cell_type": "code",
   "execution_count": 203,
   "id": "e41e4c16-524d-4abb-b8ad-d850239eebd8",
   "metadata": {},
   "outputs": [
    {
     "data": {
      "text/plain": [
       "63"
      ]
     },
     "execution_count": 203,
     "metadata": {},
     "output_type": "execute_result"
    }
   ],
   "source": [
    "arr.sum(0)  # default 행방향으로 axis=0, 열에 대한 합계"
   ]
  },
  {
   "cell_type": "code",
   "execution_count": 204,
   "id": "0211e902-94c3-46f1-a236-bd0eb13868d3",
   "metadata": {},
   "outputs": [
    {
     "data": {
      "text/plain": [
       "array([ 0,  1,  3,  6, 10, 22, 34, 46, 54, 63], dtype=int32)"
      ]
     },
     "execution_count": 204,
     "metadata": {},
     "output_type": "execute_result"
    }
   ],
   "source": [
    "# 누적합계\n",
    "arr.cumsum()"
   ]
  },
  {
   "cell_type": "code",
   "execution_count": 205,
   "id": "c9b20292-ee4e-45ec-94ca-f7ec809fde2c",
   "metadata": {},
   "outputs": [
    {
     "data": {
      "text/plain": [
       "array([ 0,  1,  3,  6, 10, 22, 34, 46, 54, 63], dtype=int32)"
      ]
     },
     "execution_count": 205,
     "metadata": {},
     "output_type": "execute_result"
    }
   ],
   "source": [
    "arr.cumsum(0)  # 0 행방향 누적합"
   ]
  },
  {
   "cell_type": "code",
   "execution_count": 210,
   "id": "0c2b822a-bc74-42cb-87ae-41a3966704ed",
   "metadata": {},
   "outputs": [
    {
     "ename": "TypeError",
     "evalue": "Field elements must be 2- or 3-tuples, got '3'",
     "output_type": "error",
     "traceback": [
      "\u001b[1;31m---------------------------------------------------------------------------\u001b[0m",
      "\u001b[1;31mTypeError\u001b[0m                                 Traceback (most recent call last)",
      "Input \u001b[1;32mIn [210]\u001b[0m, in \u001b[0;36m<cell line: 1>\u001b[1;34m()\u001b[0m\n\u001b[1;32m----> 1\u001b[0m arr1 \u001b[38;5;241m=\u001b[39m \u001b[43mnp\u001b[49m\u001b[38;5;241;43m.\u001b[39;49m\u001b[43marray\u001b[49m\u001b[43m(\u001b[49m\u001b[43m[\u001b[49m\u001b[38;5;241;43m1\u001b[39;49m\u001b[43m,\u001b[49m\u001b[38;5;241;43m2\u001b[39;49m\u001b[43m]\u001b[49m\u001b[43m,\u001b[49m\u001b[43m \u001b[49m\u001b[43m[\u001b[49m\u001b[38;5;241;43m3\u001b[39;49m\u001b[43m,\u001b[49m\u001b[38;5;241;43m4\u001b[39;49m\u001b[43m]\u001b[49m\u001b[43m)\u001b[49m\n",
      "\u001b[1;31mTypeError\u001b[0m: Field elements must be 2- or 3-tuples, got '3'"
     ]
    }
   ],
   "source": [
    "arr1 = np.array([1,2], [3,4])"
   ]
  },
  {
   "cell_type": "code",
   "execution_count": 211,
   "id": "6b48e611-d786-4127-a42f-e3fa52e81e9a",
   "metadata": {},
   "outputs": [
    {
     "data": {
      "text/plain": [
       "array([[1, 2],\n",
       "       [3, 4]])"
      ]
     },
     "execution_count": 211,
     "metadata": {},
     "output_type": "execute_result"
    }
   ],
   "source": [
    "arr1 = np.array([[1,2], [3,4]])\n",
    "arr1"
   ]
  },
  {
   "cell_type": "code",
   "execution_count": 212,
   "id": "18bdedba-8680-4deb-900b-f8f7905502b6",
   "metadata": {},
   "outputs": [
    {
     "data": {
      "text/plain": [
       "array([[1, 3],\n",
       "       [3, 7]], dtype=int32)"
      ]
     },
     "execution_count": 212,
     "metadata": {},
     "output_type": "execute_result"
    }
   ],
   "source": [
    "arr1.cumsum(1)  # 1 열방향 누적합"
   ]
  },
  {
   "cell_type": "markdown",
   "id": "b8bcf2d2-83fd-4c61-b808-387ac6c39cf7",
   "metadata": {},
   "source": [
    "- 불리언 배열을 위한 메소드"
   ]
  },
  {
   "cell_type": "code",
   "execution_count": 214,
   "id": "915cb3e8-b144-4765-a746-94c8ff41ac97",
   "metadata": {},
   "outputs": [
    {
     "data": {
      "text/plain": [
       "50"
      ]
     },
     "execution_count": 214,
     "metadata": {},
     "output_type": "execute_result"
    }
   ],
   "source": [
    "from numpy import *\n",
    "arr2 = random.randn(100)  # 가우시안 표준정규분포에서 난수 매트릭스 배열 생성\n",
    "\n",
    "(arr2 > 0).sum()  # 양수의 갯수"
   ]
  },
  {
   "cell_type": "code",
   "execution_count": 217,
   "id": "c7b95155-4562-448b-9b46-2f8b04ee0a90",
   "metadata": {
    "collapsed": true,
    "jupyter": {
     "outputs_hidden": true
    },
    "tags": []
   },
   "outputs": [
    {
     "data": {
      "text/plain": [
       "array([[-0.17889093,  0.93767403],\n",
       "       [-0.2324053 , -0.91428516],\n",
       "       [ 0.77091712,  0.40496448],\n",
       "       [ 0.90207849, -0.58854405],\n",
       "       [ 0.86938704, -0.78247277],\n",
       "       [ 1.00699372,  0.96524408],\n",
       "       [ 0.60612334,  0.66073098],\n",
       "       [-1.05077617, -0.80944547],\n",
       "       [ 0.47605849,  2.04061271],\n",
       "       [ 0.44942114,  0.26116789],\n",
       "       [ 0.58361633, -1.81274699],\n",
       "       [-0.65201531,  0.95472305],\n",
       "       [-0.39455692,  1.18009768],\n",
       "       [-0.34321393,  0.86696466],\n",
       "       [-0.16720031, -1.17886405],\n",
       "       [ 1.19231726,  1.37016007],\n",
       "       [-0.55312745,  0.05341672],\n",
       "       [-1.99783186, -1.20635728],\n",
       "       [-0.611651  , -1.26295875],\n",
       "       [-0.68118897,  0.05515571],\n",
       "       [ 0.58429064,  1.86015638],\n",
       "       [-0.17713856, -0.13500706],\n",
       "       [ 0.77204987,  0.97811196],\n",
       "       [-0.8912007 , -0.54076476],\n",
       "       [ 1.80889868, -1.49965837],\n",
       "       [-0.3341116 ,  0.19508825],\n",
       "       [-1.9245173 ,  1.60067192],\n",
       "       [ 0.48045978,  0.45708496],\n",
       "       [ 0.26030742,  0.02110726],\n",
       "       [-0.2067315 ,  0.85237115],\n",
       "       [-1.24635796, -0.24184608],\n",
       "       [-0.93849008, -1.46396923],\n",
       "       [-0.83567229, -1.95213473],\n",
       "       [-0.47580846, -0.73971709],\n",
       "       [-1.61443223,  0.61106027],\n",
       "       [ 0.71726911, -0.73321048],\n",
       "       [-0.72457448,  1.27824939],\n",
       "       [-1.24349028,  0.15151073],\n",
       "       [ 0.2794863 , -0.77744725],\n",
       "       [-1.0829171 ,  0.34532867],\n",
       "       [ 0.06604724, -0.37020651],\n",
       "       [ 0.68372017, -0.9106989 ],\n",
       "       [ 1.06526838,  0.10501306],\n",
       "       [ 1.71451497, -0.06809303],\n",
       "       [ 0.5255498 ,  0.51715214],\n",
       "       [-0.84810918, -2.35748076],\n",
       "       [ 0.56307722, -0.67157694],\n",
       "       [ 1.39528277,  0.11059556],\n",
       "       [-1.09878657, -1.1998184 ],\n",
       "       [-2.38339206,  0.20046731],\n",
       "       [ 0.88568199, -0.34929704],\n",
       "       [-0.9173913 ,  1.40691017],\n",
       "       [ 0.03823221,  2.10077297],\n",
       "       [ 0.32346745, -0.15678884],\n",
       "       [-0.17741867,  0.84224531],\n",
       "       [-0.20411674,  0.11264684],\n",
       "       [ 1.00765307, -2.09996915],\n",
       "       [ 0.13417765,  0.44235692],\n",
       "       [ 0.30710352,  1.49435753],\n",
       "       [ 0.01575399, -1.38141378],\n",
       "       [-0.51851748, -0.99502262],\n",
       "       [ 0.34287246,  0.75475713],\n",
       "       [-0.90064091,  0.35928938],\n",
       "       [ 2.50079088,  0.35884105],\n",
       "       [-0.43909349,  1.03532867],\n",
       "       [-0.18134999, -0.27109376],\n",
       "       [-1.47518788,  0.73389907],\n",
       "       [-1.52663992,  0.32497597],\n",
       "       [-2.34803476,  0.22419316],\n",
       "       [-0.52640145, -2.07805842],\n",
       "       [-0.53227304,  0.23625737],\n",
       "       [-0.11598818,  0.1165222 ],\n",
       "       [ 0.54323594,  1.11995512],\n",
       "       [ 0.04163159, -0.47751361],\n",
       "       [ 0.25005257, -0.4033238 ],\n",
       "       [ 0.43358583, -0.285774  ],\n",
       "       [ 0.42827798, -0.15331363],\n",
       "       [-1.13110073,  0.40185125],\n",
       "       [ 0.21363269, -1.32892735],\n",
       "       [ 0.80284653,  1.11456519],\n",
       "       [-0.27413515, -0.50821998],\n",
       "       [-0.44942327,  0.4084642 ],\n",
       "       [ 0.49347619, -0.34557098],\n",
       "       [ 0.10588408,  1.36124273],\n",
       "       [-0.45853259, -0.56327544],\n",
       "       [-0.46019836, -0.08679088],\n",
       "       [-0.18122873,  0.50952885],\n",
       "       [-1.3901694 , -0.20601118],\n",
       "       [ 0.14006939, -0.32972415],\n",
       "       [-0.74967256,  0.74139717],\n",
       "       [ 1.11199662, -0.52735651],\n",
       "       [-1.69105163,  0.63127816],\n",
       "       [-1.26869326, -0.15736662],\n",
       "       [ 0.41928276,  0.60585348],\n",
       "       [-2.35108806,  1.12621236],\n",
       "       [-0.47540909, -0.03747068],\n",
       "       [-0.29077488,  1.15588596],\n",
       "       [ 0.08150647,  0.59556027],\n",
       "       [-0.15269961,  0.44334661],\n",
       "       [-1.17693742, -0.71580548]])"
      ]
     },
     "execution_count": 217,
     "metadata": {},
     "output_type": "execute_result"
    }
   ],
   "source": [
    "arr3 = random.randn(100, 2)\n",
    "arr3"
   ]
  },
  {
   "cell_type": "code",
   "execution_count": 218,
   "id": "58894a9e-8e6c-4295-9136-9fdc1eff849e",
   "metadata": {},
   "outputs": [],
   "source": [
    "arr3.sort(1)  # 열방향으로 sort"
   ]
  },
  {
   "cell_type": "markdown",
   "id": "f1e153bd-1171-411f-b912-cb5a078a16a7",
   "metadata": {},
   "source": [
    "- 대소문자 다르게 취급함"
   ]
  },
  {
   "cell_type": "code",
   "execution_count": 220,
   "id": "d2369c22-c994-4207-ad50-f712555b0132",
   "metadata": {},
   "outputs": [
    {
     "name": "stdout",
     "output_type": "stream",
     "text": [
      "['Bob' 'Joe' 'Will' 'Bob' 'bob']\n",
      "['Bob' 'Joe' 'Will' 'bob']\n"
     ]
    }
   ],
   "source": [
    "# 중복제거\n",
    "names = np.array(['Bob', 'Joe', 'Will', 'Bob', 'bob'])\n",
    "print(names)\n",
    "\n",
    "print(np.unique(names))"
   ]
  },
  {
   "cell_type": "code",
   "execution_count": null,
   "id": "8b58f774-f506-48b4-a448-824e5be8bd0d",
   "metadata": {},
   "outputs": [],
   "source": [
    "np.in1d(values, [2,3,6])  # numpy.in1d(ar1, ar2, 가정_고유=False, 반전=False): 1차원 배열의 각 요소가 두번째 배열에도 있는지 테스트"
   ]
  },
  {
   "cell_type": "markdown",
   "id": "f7d452a0-0a91-4c66-a917-e477a926b27c",
   "metadata": {},
   "source": [
    "#### NumPy Array에서 사용하는 concatenate() 함수 vs. Pandas DataFrame에서 사용하는 concat() 함수 "
   ]
  },
  {
   "cell_type": "markdown",
   "id": "7c0877e4-2bea-420d-a318-e6345786d726",
   "metadata": {},
   "source": [
    "- hstack()\n",
    "- vstack()\n",
    "- concatenate()"
   ]
  },
  {
   "cell_type": "markdown",
   "id": "4b281814-d820-4be2-9eee-2f8e053e1609",
   "metadata": {},
   "source": [
    "- split()\n",
    "- repeat() : 반복횟수와 기준 행/열 설정가능"
   ]
  },
  {
   "cell_type": "code",
   "execution_count": null,
   "id": "4c2fbb87-7831-4961-9af1-cf006cb22a35",
   "metadata": {},
   "outputs": [],
   "source": []
  }
 ],
 "metadata": {
  "kernelspec": {
   "display_name": "Python 3 (ipykernel)",
   "language": "python",
   "name": "python3"
  },
  "language_info": {
   "codemirror_mode": {
    "name": "ipython",
    "version": 3
   },
   "file_extension": ".py",
   "mimetype": "text/x-python",
   "name": "python",
   "nbconvert_exporter": "python",
   "pygments_lexer": "ipython3",
   "version": "3.9.12"
  }
 },
 "nbformat": 4,
 "nbformat_minor": 5
}
