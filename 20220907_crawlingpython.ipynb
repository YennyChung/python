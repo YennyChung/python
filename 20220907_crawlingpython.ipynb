{
 "cells": [
  {
   "cell_type": "markdown",
   "id": "b0d425eb-cf9a-4c8d-9e45-0d860ece5387",
   "metadata": {},
   "source": [
    "### 1. 잡플래닛 크롤링"
   ]
  },
  {
   "cell_type": "code",
   "execution_count": 2,
   "id": "74367bc2-cde6-4723-b138-d387f57cb6e2",
   "metadata": {},
   "outputs": [
    {
     "name": "stdout",
     "output_type": "stream",
     "text": [
      "Collecting selenium\n",
      "  Downloading selenium-4.4.3-py3-none-any.whl (985 kB)\n",
      "Collecting trio-websocket~=0.9\n",
      "  Downloading trio_websocket-0.9.2-py3-none-any.whl (16 kB)\n",
      "Requirement already satisfied: urllib3[socks]~=1.26 in c:\\users\\conet\\anaconda3\\lib\\site-packages (from selenium) (1.26.9)\n",
      "Requirement already satisfied: certifi>=2021.10.8 in c:\\users\\conet\\anaconda3\\lib\\site-packages (from selenium) (2021.10.8)\n",
      "Collecting trio~=0.17\n",
      "  Downloading trio-0.21.0-py3-none-any.whl (358 kB)\n",
      "Requirement already satisfied: sortedcontainers in c:\\users\\conet\\anaconda3\\lib\\site-packages (from trio~=0.17->selenium) (2.4.0)\n",
      "Collecting outcome\n",
      "  Downloading outcome-1.2.0-py2.py3-none-any.whl (9.7 kB)\n",
      "Collecting async-generator>=1.9\n",
      "  Downloading async_generator-1.10-py3-none-any.whl (18 kB)\n",
      "Requirement already satisfied: attrs>=19.2.0 in c:\\users\\conet\\anaconda3\\lib\\site-packages (from trio~=0.17->selenium) (21.4.0)\n",
      "Requirement already satisfied: cffi>=1.14 in c:\\users\\conet\\anaconda3\\lib\\site-packages (from trio~=0.17->selenium) (1.15.0)\n",
      "Requirement already satisfied: idna in c:\\users\\conet\\anaconda3\\lib\\site-packages (from trio~=0.17->selenium) (3.3)\n",
      "Requirement already satisfied: sniffio in c:\\users\\conet\\anaconda3\\lib\\site-packages (from trio~=0.17->selenium) (1.2.0)\n",
      "Requirement already satisfied: pycparser in c:\\users\\conet\\anaconda3\\lib\\site-packages (from cffi>=1.14->trio~=0.17->selenium) (2.21)\n",
      "Collecting wsproto>=0.14\n",
      "  Downloading wsproto-1.2.0-py3-none-any.whl (24 kB)\n",
      "Requirement already satisfied: PySocks!=1.5.7,<2.0,>=1.5.6 in c:\\users\\conet\\anaconda3\\lib\\site-packages (from urllib3[socks]~=1.26->selenium) (1.7.1)\n",
      "Collecting h11<1,>=0.9.0\n",
      "  Downloading h11-0.13.0-py3-none-any.whl (58 kB)\n",
      "Installing collected packages: outcome, h11, async-generator, wsproto, trio, trio-websocket, selenium\n",
      "Successfully installed async-generator-1.10 h11-0.13.0 outcome-1.2.0 selenium-4.4.3 trio-0.21.0 trio-websocket-0.9.2 wsproto-1.2.0\n"
     ]
    }
   ],
   "source": [
    "#!pip install --user selenium"
   ]
  },
  {
   "cell_type": "code",
   "execution_count": 5,
   "id": "d3d8351c-0191-49d9-83ee-e7e83eedb1af",
   "metadata": {},
   "outputs": [],
   "source": [
    "from selenium import webdriver\n",
    "from selenium.webdriver.common.by import By\n",
    "# from webdriver_manager.chrome import ChromeDriver  # 맥북유저"
   ]
  },
  {
   "cell_type": "code",
   "execution_count": 8,
   "id": "5f1b13d1-6294-4113-a468-8bb9f1483021",
   "metadata": {},
   "outputs": [],
   "source": [
    "driver = webdriver.Chrome('chromedriver')\n",
    "# driver = webdriver.Chrome(ChromeDriverManager().install())  # 맥유저\n",
    "driver.get('https://www.jobplanet.co.kr')"
   ]
  },
  {
   "cell_type": "code",
   "execution_count": 9,
   "id": "f9ffb897-2fe5-408a-8b25-e6ab6573ec98",
   "metadata": {},
   "outputs": [],
   "source": [
    "# 로그인 화면으로 이동\n",
    "driver.find_element(By.XPATH, '/html/body/div[1]/div[1]/header/div[2]/div[2]/a[1]/span').click()"
   ]
  },
  {
   "cell_type": "code",
   "execution_count": 10,
   "id": "a8715cd7-1161-4364-8cc9-58c2749a0844",
   "metadata": {},
   "outputs": [],
   "source": [
    "# 아이디 입력\n",
    "driver.find_element(By.XPATH, '//*[@id=\"user_email\"]').send_keys('yenny@skku.edu')"
   ]
  },
  {
   "cell_type": "code",
   "execution_count": 11,
   "id": "5ea4edfc-f78c-4e3b-afad-5875ebe2f903",
   "metadata": {},
   "outputs": [],
   "source": [
    "# 패스워드 입력\n",
    "driver.find_element(By.XPATH, '//*[@id=\"user_password\"]').send_keys('dkssud142@')"
   ]
  },
  {
   "cell_type": "code",
   "execution_count": 12,
   "id": "5fb07c32-7d45-46db-aef3-8c0cd0e2b517",
   "metadata": {},
   "outputs": [],
   "source": [
    "# 로그인 실행\n",
    "driver.find_element(By.XPATH, '//*[@id=\"signInSignInCon\"]/div[2]/div/section[2]/fieldset/button').click()"
   ]
  },
  {
   "cell_type": "code",
   "execution_count": 13,
   "id": "340cd9e8-bda3-4e89-bfd3-9d8fa898b112",
   "metadata": {},
   "outputs": [],
   "source": [
    "# 로그인 작업 후 포스코 기업 페이지 접속\n",
    "driver.get('https://www.jobplanet.co.kr/companies/50130/reviews/%ED%8F%AC%EC%8A%A4%EC%BD%94')"
   ]
  },
  {
   "cell_type": "code",
   "execution_count": 14,
   "id": "1c1522d4-f6bc-4800-8242-b57cafd58d68",
   "metadata": {},
   "outputs": [],
   "source": [
    "# 오픈되어있는 창 제거하기\n",
    "driver.find_element(By.XPATH, '//*[@id=\"premiumReviewChart\"]/div/div[3]/div[2]/div/div[1]/button').click()"
   ]
  },
  {
   "cell_type": "markdown",
   "id": "5c374f0f-1368-40b7-89b0-5b794a712b17",
   "metadata": {},
   "source": [
    "## 로그인하는 함수 만들기"
   ]
  },
  {
   "cell_type": "markdown",
   "id": "6f67bbe5-5a52-48a4-8d5f-ca08edb4595c",
   "metadata": {},
   "source": [
    "---"
   ]
  },
  {
   "cell_type": "code",
   "execution_count": null,
   "id": "97564a2a-dad8-4996-82d5-0ce71c1b65c1",
   "metadata": {
    "tags": []
   },
   "outputs": [],
   "source": [
    "# 로그인하는 함수 만들기\n",
    "def start_Code(url):\n",
    "    driver = webdriver.Chrome('chromedriver')  # 크롬 드라이버 가져오기\n",
    "    driver.get('https://www.jobplanet.co.kr/')\n",
    "    driver.implicitly_wait(7)  # 크롬 페이지가 열릴때까지 기다리는 시간 정해주기; 너무 적게 주면 안됨 (7초이내로 웹사이트가 로딩이 되면 아래 시작)\n",
    "    # 로그인 화면으로 이동\n",
    "    driver.find_element(By.XPATH, '/html/body/div[1]/div[1]/header/div[2]/div[2]/a[1]/span').click()\n",
    "    # 아이디 입력\n",
    "    driver.find_element(By.XPATH, '//*[@id=\"user_email\"]').send_keys('yenny@skku.edu')\n",
    "    # 패스워드 입력\n",
    "    driver.find_element(By.XPATH, '//*[@id=\"user_password\"]').send_keys('dkssud142@')\n",
    "    # 로그인 실행\n",
    "    driver.find_element(By.XPATH, '//*[@id=\"signInSignInCon\"]/div[2]/div/section[2]/fieldset/button').click()\n",
    "    \n",
    "    # 시간지연 코드 추가하기  # db의 데이터를 가지고 오는 경우; cursor 기능으로 5초 대기 후 하위의 코드 실행시킨다는 뜻\n",
    "    import time\n",
    "    time.sleep(5)\n",
    "\n",
    "    # 웹사이트 지정된 것 가져오기\n",
    "    driver.get(url)\n",
    "    # 오픈되어있는 창 제거하기\n",
    "    driver.find_element(By.XPATH, '//*[@id=\"premiumReviewChart\"]/div/div[3]/div[2]/div/div[1]/button').click()\n",
    "    passing_Scrap(driver)"
   ]
  },
  {
   "cell_type": "markdown",
   "id": "db1ee3c2-89c4-4b8b-ba5d-b8dfde6b1cda",
   "metadata": {},
   "source": [
    "---"
   ]
  },
  {
   "cell_type": "code",
   "execution_count": 42,
   "id": "e6d18f76-b80a-4b82-9cdf-5cad208a1929",
   "metadata": {},
   "outputs": [],
   "source": [
    "def start_Code( url ):\n",
    "    import time \n",
    "    driver = webdriver.Chrome('chromedriver')\n",
    "    # driver = webdriver.Chrome(ChromeDriverManager().install())  # Mac \n",
    "    driver.get('https://www.jobplanet.co.kr')\n",
    "    driver.implicitly_wait(10)  \n",
    "    time.sleep(2)\n",
    "    driver.find_element(By.XPATH, \n",
    "                '/html/body/div[1]/div[1]/header/div[2]/div[2]/a[1]/span').click()\n",
    "    driver.find_element(By.XPATH,\n",
    "                   '//*[@id=\"user_email\"]').send_keys('52100108@dankook.ac.kr')\n",
    "    driver.find_element(By.XPATH,\n",
    "                   '//*[@id=\"user_password\"]').send_keys('kgkg3920691')\n",
    "    driver.find_element(By.XPATH,\n",
    "        '//*[@id=\"signInSignInCon\"]/div[2]/div/section[2]/fieldset/button').click()\n",
    "    import time\n",
    "    time.sleep(5) \n",
    "    driver.get(url)\n",
    "    driver.find_element(By.XPATH,\n",
    "        '//*[@id=\"premiumReviewChart\"]/div/div[3]/div[2]/div/div[1]/button').click()\n",
    "    \n",
    "    pasing_Scrap(driver)"
   ]
  },
  {
   "cell_type": "markdown",
   "id": "c6ced92a-23ea-40f2-b090-60ab5ba5b031",
   "metadata": {},
   "source": [
    "---"
   ]
  },
  {
   "cell_type": "code",
   "execution_count": 30,
   "id": "6ad8417c-eeb9-4c1c-8bb6-ee1d344b1a94",
   "metadata": {},
   "outputs": [],
   "source": [
    "def pasing_Scrap(driver):\n",
    "    import time\n",
    "    for p in range(0,30): \n",
    "        try:\n",
    "            driver.implicitly_wait(3)\n",
    "\n",
    "            comm_Scrap(driver)\n",
    "        except:\n",
    "            print('pasing Error')\n",
    "        finally:\n",
    "            time.sleep(3)\n",
    "            driver.find_element(By.XPATH, '//*[@id=\"viewReviewsList\"]/div/div/div/div[5]/article/a[7]').click()\n",
    "            print('Done')"
   ]
  },
  {
   "cell_type": "markdown",
   "id": "864e8b3e-0cbf-4805-a011-e602d67dd8c7",
   "metadata": {},
   "source": [
    "---"
   ]
  },
  {
   "cell_type": "code",
   "execution_count": 43,
   "id": "d0fcf570-84e0-4c32-af4f-04254151f72d",
   "metadata": {},
   "outputs": [],
   "source": [
    "def pasing_Scrap(driver):\n",
    "    import time\n",
    "    for p in range(0,30): \n",
    "        try:\n",
    "            driver.implicitly_wait(3)\n",
    "\n",
    "            comm_Scrap(driver)\n",
    "        except:\n",
    "            print('pasing Error')\n",
    "        finally:\n",
    "            time.sleep(3)\n",
    "            driver.find_element(By.XPATH, '//*[@id=\"viewReviewsList\"]/div/div/div/div[5]/article/a[7]').click()\n",
    "            print('Done')"
   ]
  },
  {
   "cell_type": "code",
   "execution_count": 38,
   "id": "8a78bb18-c1aa-4bc9-9756-2302bbd7795c",
   "metadata": {},
   "outputs": [],
   "source": [
    "div_list = []\n",
    "state_list = []\n",
    "regin_list = []\n",
    "date_list = []\n",
    "comm_list = []\n",
    "good_list = []\n",
    "bad_list = []"
   ]
  },
  {
   "cell_type": "code",
   "execution_count": 44,
   "id": "123badaa-0291-4e1f-aa1f-40f2d2e3da06",
   "metadata": {},
   "outputs": [],
   "source": [
    "def comm_Scrap(driver):\n",
    "    for i in range(1,6):\n",
    "        try:\n",
    "            import time\n",
    "            time.sleep(3)\n",
    "            driver.implicitly_wait(3)\n",
    "            div_txt = driver.find_element(By.XPATH, '//*[@id=\"viewReviewsList\"]/div/div/div/section['+str(i)+']/div/div[1]/span[2]').text\n",
    "            state_txt = driver.find_element(By.XPATH, '//*[@id=\"viewReviewsList\"]/div/div/div/section['+str(i)+']/div/div[1]/span[4]').text\n",
    "            regin_txt = driver.find_element(By.XPATH, '//*[@id=\"viewReviewsList\"]/div/div/div/section['+str(i)+']/div/div[1]/span[6]').text\n",
    "            date_txt = driver.find_element(By.XPATH, '//*[@id=\"viewReviewsList\"]/div/div/div/section['+str(i)+']/div/div[1]/span[8]').text\n",
    "            comm_txt = driver.find_element(By.XPATH, '//*[@id=\"viewReviewsList\"]/div/div/div/section['+str(i)+']/div/div[2]/div/div[1]/h2').text\n",
    "            good_txt = driver.find_element(By.XPATH, '//*[@id=\"viewReviewsList\"]/div/div/div/section['+str(i)+']/div/div[2]/div/dl/dd[1]/span').text\n",
    "            bad_txt = driver.find_element(By.XPATH, '//*[@id=\"viewReviewsList\"]/div/div/div/section['+str(i)+']/div/div[2]/div/dl/dd[2]/span').text\n",
    "\n",
    "            div_list.append(div_txt)\n",
    "            state_list.append(state_txt)\n",
    "            regin_list.append(regin_txt)\n",
    "            date_list.append(date_txt)\n",
    "            comm_list.append(comm_txt)\n",
    "            good_list.append(good_txt)\n",
    "            bad_list.append(bad_txt)\n",
    "        except :\n",
    "            print('comm Error')\n",
    "        finally : \n",
    "            pass"
   ]
  },
  {
   "cell_type": "code",
   "execution_count": 45,
   "id": "97a8ff81-d773-4df3-b06d-a70dc44d9ee7",
   "metadata": {
    "tags": []
   },
   "outputs": [
    {
     "name": "stdout",
     "output_type": "stream",
     "text": [
      "Done\n",
      "Done\n",
      "Done\n",
      "Done\n",
      "Done\n",
      "Done\n",
      "Done\n",
      "Done\n",
      "Done\n",
      "Done\n",
      "Done\n",
      "Done\n",
      "Done\n",
      "Done\n",
      "Done\n",
      "Done\n",
      "Done\n",
      "Done\n",
      "Done\n",
      "Done\n",
      "Done\n",
      "Done\n",
      "Done\n",
      "Done\n",
      "Done\n",
      "Done\n",
      "Done\n",
      "Done\n",
      "Done\n",
      "Done\n"
     ]
    }
   ],
   "source": [
    "start_Code('https://www.jobplanet.co.kr/companies/50130/reviews/%ED%8F%AC%EC%8A%A4%EC%BD%94')"
   ]
  },
  {
   "cell_type": "code",
   "execution_count": null,
   "id": "2d92042f-39d0-43ea-8b14-386648b2d120",
   "metadata": {},
   "outputs": [],
   "source": [
    "## 직군/현직원or전직원/근무지역\n",
    "## 직군: '//*[@id=\"viewReviewsList\"]/div/div/div/section[1]/div/div[1]/span[2]'\n",
    "\n",
    "## 현직원여부: '//*[@id=\"viewReviewsList\"]/div/div/div/section[1]/div/div[1]/span[4]'\n",
    "\n",
    "## 근무지역: '//*[@id=\"viewReviewsList\"]/div/div/div/section[1]/div/div[1]/span[6]'\n",
    "\n",
    "## '//*[@id=\"viewReviewsList\"]/div/div/div/section[1]/div/div[2]/div/div[1]/h2'\n",
    "\n",
    "## '//*[@id=\"viewReviewsList\"]/div/div/div/section[1]/div/div[2]/div/dl/dd[1]/span'\n",
    "\n",
    "## '//*[@id=\"viewReviewsList\"]/div/div/div/section[1]/div/div[2]/div/dl/dd[2]/span'"
   ]
  },
  {
   "cell_type": "code",
   "execution_count": null,
   "id": "1b6470d6-4685-4d27-9d31-827fb121587b",
   "metadata": {},
   "outputs": [],
   "source": [
    "# 창을 띄우지 않고 크롤링을 수행 \n",
    "options = webdriver.ChromeOptions()\n",
    "options.add_argument('headless')\n",
    "\n",
    "driver = webdriver.Chrome(options= options)"
   ]
  },
  {
   "cell_type": "code",
   "execution_count": 47,
   "id": "d364c56e-ca3a-4e47-9499-2bea03e02fd5",
   "metadata": {},
   "outputs": [
    {
     "ename": "ValueError",
     "evalue": "All arrays must be of the same length",
     "output_type": "error",
     "traceback": [
      "\u001b[1;31m---------------------------------------------------------------------------\u001b[0m",
      "\u001b[1;31mValueError\u001b[0m                                Traceback (most recent call last)",
      "Input \u001b[1;32mIn [47]\u001b[0m, in \u001b[0;36m<cell line: 3>\u001b[1;34m()\u001b[0m\n\u001b[0;32m      1\u001b[0m \u001b[38;5;28;01mimport\u001b[39;00m \u001b[38;5;21;01mpandas\u001b[39;00m \u001b[38;5;28;01mas\u001b[39;00m \u001b[38;5;21;01mpd\u001b[39;00m\n\u001b[1;32m----> 3\u001b[0m \u001b[43mpd\u001b[49m\u001b[38;5;241;43m.\u001b[39;49m\u001b[43mDataFrame\u001b[49m\u001b[43m(\u001b[49m\u001b[43m{\u001b[49m\u001b[38;5;124;43m'\u001b[39;49m\u001b[38;5;124;43m작성일자\u001b[39;49m\u001b[38;5;124;43m'\u001b[39;49m\u001b[43m:\u001b[49m\u001b[43m \u001b[49m\u001b[43mdate_list\u001b[49m\n\u001b[0;32m      4\u001b[0m \u001b[43m             \u001b[49m\u001b[43m,\u001b[49m\u001b[43m \u001b[49m\u001b[38;5;124;43m'\u001b[39;49m\u001b[38;5;124;43m직군\u001b[39;49m\u001b[38;5;124;43m'\u001b[39;49m\u001b[43m:\u001b[49m\u001b[43m \u001b[49m\u001b[43mdiv_list\u001b[49m\n\u001b[0;32m      5\u001b[0m \u001b[43m             \u001b[49m\u001b[43m,\u001b[49m\u001b[43m \u001b[49m\u001b[38;5;124;43m'\u001b[39;49m\u001b[38;5;124;43m지역\u001b[39;49m\u001b[38;5;124;43m'\u001b[39;49m\u001b[43m:\u001b[49m\u001b[43m \u001b[49m\u001b[43mregion_list\u001b[49m\n\u001b[0;32m      6\u001b[0m \u001b[43m             \u001b[49m\u001b[43m,\u001b[49m\u001b[43m \u001b[49m\u001b[38;5;124;43m'\u001b[39;49m\u001b[38;5;124;43m재직여부\u001b[39;49m\u001b[38;5;124;43m'\u001b[39;49m\u001b[43m:\u001b[49m\u001b[43m \u001b[49m\u001b[43mstate_list\u001b[49m\n\u001b[0;32m      7\u001b[0m \u001b[43m             \u001b[49m\u001b[43m,\u001b[49m\u001b[43m \u001b[49m\u001b[38;5;124;43m'\u001b[39;49m\u001b[38;5;124;43m한줄평\u001b[39;49m\u001b[38;5;124;43m'\u001b[39;49m\u001b[43m:\u001b[49m\u001b[43m \u001b[49m\u001b[43mcomm_list\u001b[49m\n\u001b[0;32m      8\u001b[0m \u001b[43m             \u001b[49m\u001b[43m,\u001b[49m\u001b[43m \u001b[49m\u001b[38;5;124;43m'\u001b[39;49m\u001b[38;5;124;43m기업장점\u001b[39;49m\u001b[38;5;124;43m'\u001b[39;49m\u001b[43m:\u001b[49m\u001b[43m \u001b[49m\u001b[43mgood_list\u001b[49m\n\u001b[0;32m      9\u001b[0m \u001b[43m             \u001b[49m\u001b[43m,\u001b[49m\u001b[43m \u001b[49m\u001b[38;5;124;43m'\u001b[39;49m\u001b[38;5;124;43m기업단점\u001b[39;49m\u001b[38;5;124;43m'\u001b[39;49m\u001b[43m:\u001b[49m\u001b[43m \u001b[49m\u001b[43mbad_list\u001b[49m\u001b[43m}\u001b[49m\u001b[43m)\u001b[49m\n",
      "File \u001b[1;32m~\\anaconda3\\lib\\site-packages\\pandas\\core\\frame.py:636\u001b[0m, in \u001b[0;36mDataFrame.__init__\u001b[1;34m(self, data, index, columns, dtype, copy)\u001b[0m\n\u001b[0;32m    630\u001b[0m     mgr \u001b[38;5;241m=\u001b[39m \u001b[38;5;28mself\u001b[39m\u001b[38;5;241m.\u001b[39m_init_mgr(\n\u001b[0;32m    631\u001b[0m         data, axes\u001b[38;5;241m=\u001b[39m{\u001b[38;5;124m\"\u001b[39m\u001b[38;5;124mindex\u001b[39m\u001b[38;5;124m\"\u001b[39m: index, \u001b[38;5;124m\"\u001b[39m\u001b[38;5;124mcolumns\u001b[39m\u001b[38;5;124m\"\u001b[39m: columns}, dtype\u001b[38;5;241m=\u001b[39mdtype, copy\u001b[38;5;241m=\u001b[39mcopy\n\u001b[0;32m    632\u001b[0m     )\n\u001b[0;32m    634\u001b[0m \u001b[38;5;28;01melif\u001b[39;00m \u001b[38;5;28misinstance\u001b[39m(data, \u001b[38;5;28mdict\u001b[39m):\n\u001b[0;32m    635\u001b[0m     \u001b[38;5;66;03m# GH#38939 de facto copy defaults to False only in non-dict cases\u001b[39;00m\n\u001b[1;32m--> 636\u001b[0m     mgr \u001b[38;5;241m=\u001b[39m \u001b[43mdict_to_mgr\u001b[49m\u001b[43m(\u001b[49m\u001b[43mdata\u001b[49m\u001b[43m,\u001b[49m\u001b[43m \u001b[49m\u001b[43mindex\u001b[49m\u001b[43m,\u001b[49m\u001b[43m \u001b[49m\u001b[43mcolumns\u001b[49m\u001b[43m,\u001b[49m\u001b[43m \u001b[49m\u001b[43mdtype\u001b[49m\u001b[38;5;241;43m=\u001b[39;49m\u001b[43mdtype\u001b[49m\u001b[43m,\u001b[49m\u001b[43m \u001b[49m\u001b[43mcopy\u001b[49m\u001b[38;5;241;43m=\u001b[39;49m\u001b[43mcopy\u001b[49m\u001b[43m,\u001b[49m\u001b[43m \u001b[49m\u001b[43mtyp\u001b[49m\u001b[38;5;241;43m=\u001b[39;49m\u001b[43mmanager\u001b[49m\u001b[43m)\u001b[49m\n\u001b[0;32m    637\u001b[0m \u001b[38;5;28;01melif\u001b[39;00m \u001b[38;5;28misinstance\u001b[39m(data, ma\u001b[38;5;241m.\u001b[39mMaskedArray):\n\u001b[0;32m    638\u001b[0m     \u001b[38;5;28;01mimport\u001b[39;00m \u001b[38;5;21;01mnumpy\u001b[39;00m\u001b[38;5;21;01m.\u001b[39;00m\u001b[38;5;21;01mma\u001b[39;00m\u001b[38;5;21;01m.\u001b[39;00m\u001b[38;5;21;01mmrecords\u001b[39;00m \u001b[38;5;28;01mas\u001b[39;00m \u001b[38;5;21;01mmrecords\u001b[39;00m\n",
      "File \u001b[1;32m~\\anaconda3\\lib\\site-packages\\pandas\\core\\internals\\construction.py:502\u001b[0m, in \u001b[0;36mdict_to_mgr\u001b[1;34m(data, index, columns, dtype, typ, copy)\u001b[0m\n\u001b[0;32m    494\u001b[0m     arrays \u001b[38;5;241m=\u001b[39m [\n\u001b[0;32m    495\u001b[0m         x\n\u001b[0;32m    496\u001b[0m         \u001b[38;5;28;01mif\u001b[39;00m \u001b[38;5;129;01mnot\u001b[39;00m \u001b[38;5;28mhasattr\u001b[39m(x, \u001b[38;5;124m\"\u001b[39m\u001b[38;5;124mdtype\u001b[39m\u001b[38;5;124m\"\u001b[39m) \u001b[38;5;129;01mor\u001b[39;00m \u001b[38;5;129;01mnot\u001b[39;00m \u001b[38;5;28misinstance\u001b[39m(x\u001b[38;5;241m.\u001b[39mdtype, ExtensionDtype)\n\u001b[0;32m    497\u001b[0m         \u001b[38;5;28;01melse\u001b[39;00m x\u001b[38;5;241m.\u001b[39mcopy()\n\u001b[0;32m    498\u001b[0m         \u001b[38;5;28;01mfor\u001b[39;00m x \u001b[38;5;129;01min\u001b[39;00m arrays\n\u001b[0;32m    499\u001b[0m     ]\n\u001b[0;32m    500\u001b[0m     \u001b[38;5;66;03m# TODO: can we get rid of the dt64tz special case above?\u001b[39;00m\n\u001b[1;32m--> 502\u001b[0m \u001b[38;5;28;01mreturn\u001b[39;00m \u001b[43marrays_to_mgr\u001b[49m\u001b[43m(\u001b[49m\u001b[43marrays\u001b[49m\u001b[43m,\u001b[49m\u001b[43m \u001b[49m\u001b[43mcolumns\u001b[49m\u001b[43m,\u001b[49m\u001b[43m \u001b[49m\u001b[43mindex\u001b[49m\u001b[43m,\u001b[49m\u001b[43m \u001b[49m\u001b[43mdtype\u001b[49m\u001b[38;5;241;43m=\u001b[39;49m\u001b[43mdtype\u001b[49m\u001b[43m,\u001b[49m\u001b[43m \u001b[49m\u001b[43mtyp\u001b[49m\u001b[38;5;241;43m=\u001b[39;49m\u001b[43mtyp\u001b[49m\u001b[43m,\u001b[49m\u001b[43m \u001b[49m\u001b[43mconsolidate\u001b[49m\u001b[38;5;241;43m=\u001b[39;49m\u001b[43mcopy\u001b[49m\u001b[43m)\u001b[49m\n",
      "File \u001b[1;32m~\\anaconda3\\lib\\site-packages\\pandas\\core\\internals\\construction.py:120\u001b[0m, in \u001b[0;36marrays_to_mgr\u001b[1;34m(arrays, columns, index, dtype, verify_integrity, typ, consolidate)\u001b[0m\n\u001b[0;32m    117\u001b[0m \u001b[38;5;28;01mif\u001b[39;00m verify_integrity:\n\u001b[0;32m    118\u001b[0m     \u001b[38;5;66;03m# figure out the index, if necessary\u001b[39;00m\n\u001b[0;32m    119\u001b[0m     \u001b[38;5;28;01mif\u001b[39;00m index \u001b[38;5;129;01mis\u001b[39;00m \u001b[38;5;28;01mNone\u001b[39;00m:\n\u001b[1;32m--> 120\u001b[0m         index \u001b[38;5;241m=\u001b[39m \u001b[43m_extract_index\u001b[49m\u001b[43m(\u001b[49m\u001b[43marrays\u001b[49m\u001b[43m)\u001b[49m\n\u001b[0;32m    121\u001b[0m     \u001b[38;5;28;01melse\u001b[39;00m:\n\u001b[0;32m    122\u001b[0m         index \u001b[38;5;241m=\u001b[39m ensure_index(index)\n",
      "File \u001b[1;32m~\\anaconda3\\lib\\site-packages\\pandas\\core\\internals\\construction.py:674\u001b[0m, in \u001b[0;36m_extract_index\u001b[1;34m(data)\u001b[0m\n\u001b[0;32m    672\u001b[0m lengths \u001b[38;5;241m=\u001b[39m \u001b[38;5;28mlist\u001b[39m(\u001b[38;5;28mset\u001b[39m(raw_lengths))\n\u001b[0;32m    673\u001b[0m \u001b[38;5;28;01mif\u001b[39;00m \u001b[38;5;28mlen\u001b[39m(lengths) \u001b[38;5;241m>\u001b[39m \u001b[38;5;241m1\u001b[39m:\n\u001b[1;32m--> 674\u001b[0m     \u001b[38;5;28;01mraise\u001b[39;00m \u001b[38;5;167;01mValueError\u001b[39;00m(\u001b[38;5;124m\"\u001b[39m\u001b[38;5;124mAll arrays must be of the same length\u001b[39m\u001b[38;5;124m\"\u001b[39m)\n\u001b[0;32m    676\u001b[0m \u001b[38;5;28;01mif\u001b[39;00m have_dicts:\n\u001b[0;32m    677\u001b[0m     \u001b[38;5;28;01mraise\u001b[39;00m \u001b[38;5;167;01mValueError\u001b[39;00m(\n\u001b[0;32m    678\u001b[0m         \u001b[38;5;124m\"\u001b[39m\u001b[38;5;124mMixing dicts with non-Series may lead to ambiguous ordering.\u001b[39m\u001b[38;5;124m\"\u001b[39m\n\u001b[0;32m    679\u001b[0m     )\n",
      "\u001b[1;31mValueError\u001b[0m: All arrays must be of the same length"
     ]
    }
   ],
   "source": [
    "import pandas as pd\n",
    "\n",
    "pd.DataFrame({'작성일자': date_list\n",
    "             , '직군': div_list\n",
    "             , '지역': region_list\n",
    "             , '재직여부': state_list\n",
    "             , '한줄평': comm_list\n",
    "             , '기업장점': good_list\n",
    "             , '기업단점': bad_list})"
   ]
  },
  {
   "cell_type": "markdown",
   "id": "0300e1da-43e5-4331-adbf-025b5180b1c3",
   "metadata": {},
   "source": [
    "----"
   ]
  },
  {
   "cell_type": "markdown",
   "id": "f1c57248-3edc-4e40-b6a9-82763d7264fb",
   "metadata": {},
   "source": [
    "### 하단의 코드로 다시 함수 만들어주기"
   ]
  },
  {
   "cell_type": "code",
   "execution_count": null,
   "id": "2c32301a-4c30-4f91-97b4-895a1cf7a1da",
   "metadata": {},
   "outputs": [],
   "source": [
    "def start_Code( url ):\n",
    "    import time \n",
    "    driver = webdriver.Chrome('chromedriver')\n",
    "    # driver = webdriver.Chrome(ChromeDriverManager().install())  # Mac \n",
    "    driver.get('https://www.jobplanet.co.kr')\n",
    "    driver.implicitly_wait(10)  \n",
    "    time.sleep(2)\n",
    "    driver.find_element(By.XPATH, \n",
    "                '/html/body/div[1]/div[1]/header/div[2]/div[2]/a[1]/span').click()\n",
    "    driver.find_element(By.XPATH,\n",
    "                   '//*[@id=\"user_email\"]').send_keys('52100108@dankook.ac.kr')\n",
    "    driver.find_element(By.XPATH,\n",
    "                   '//*[@id=\"user_password\"]').send_keys('kgkg3920691')\n",
    "    driver.find_element(By.XPATH,\n",
    "        '//*[@id=\"signInSignInCon\"]/div[2]/div/section[2]/fieldset/button').click()\n",
    "    import time\n",
    "    time.sleep(5) \n",
    "    driver.get(url)\n",
    "    driver.find_element(By.XPATH,\n",
    "        '//*[@id=\"premiumReviewChart\"]/div/div[3]/div[2]/div/div[1]/button').click()\n",
    "    \n",
    "    pasing_Scrap(driver)"
   ]
  },
  {
   "cell_type": "code",
   "execution_count": null,
   "id": "6b4898ed-d242-434a-8644-0cec19e89247",
   "metadata": {},
   "outputs": [],
   "source": [
    "def pasing_Scrap(driver):\n",
    "    import time\n",
    "    for p in range(0,30): \n",
    "        try:\n",
    "            driver.implicitly_wait(3)\n",
    "\n",
    "            comm_Scrap(driver)\n",
    "        except:\n",
    "            print('pasing Error')\n",
    "        finally:\n",
    "            time.sleep(3)\n",
    "            driver.find_element(By.XPATH, '//*[@id=\"viewReviewsList\"]/div/div/div/div[5]/article/a[7]').click()\n",
    "            print('Done')"
   ]
  },
  {
   "cell_type": "code",
   "execution_count": null,
   "id": "a7c0b46d-5053-493a-946b-08e54294587e",
   "metadata": {},
   "outputs": [],
   "source": [
    "div_list = []\n",
    "state_list = []\n",
    "regin_list = [] \n",
    "date_list = []\n",
    "comm_list = []\n",
    "good_list = []\n",
    "bad_list = []"
   ]
  },
  {
   "cell_type": "code",
   "execution_count": null,
   "id": "6f0ae91c-b903-473a-89ed-6ae220b6d4ce",
   "metadata": {},
   "outputs": [],
   "source": [
    "def comm_Scrap(driver):\n",
    "    for i in range(1,6):\n",
    "        try:\n",
    "            import time\n",
    "            time.sleep(3)\n",
    "            driver.implicitly_wait(3)\n",
    "            div_txt = driver.find_element(By.XPATH, '//*[@id=\"viewReviewsList\"]/div/div/div/section['+str(i)+']/div/div[1]/span[2]').text\n",
    "            state_txt = driver.find_element(By.XPATH, '//*[@id=\"viewReviewsList\"]/div/div/div/section['+str(i)+']/div/div[1]/span[4]').text\n",
    "            regin_txt = driver.find_element(By.XPATH, '//*[@id=\"viewReviewsList\"]/div/div/div/section['+str(i)+']/div/div[1]/span[6]').text\n",
    "            date_txt = driver.find_element(By.XPATH, '//*[@id=\"viewReviewsList\"]/div/div/div/section['+str(i)+']/div/div[1]/span[8]').text\n",
    "            comm_txt = driver.find_element(By.XPATH, '//*[@id=\"viewReviewsList\"]/div/div/div/section['+str(i)+']/div/div[2]/div/div[1]/h2').text\n",
    "            good_txt = driver.find_element(By.XPATH, '//*[@id=\"viewReviewsList\"]/div/div/div/section['+str(i)+']/div/div[2]/div/dl/dd[1]/span').text\n",
    "            bad_txt = driver.find_element(By.XPATH, '//*[@id=\"viewReviewsList\"]/div/div/div/section['+str(i)+']/div/div[2]/div/dl/dd[2]/span').text\n",
    "\n",
    "            div_list.append(div_txt)\n",
    "            state_list.append(state_txt)\n",
    "            regin_list.append(regin_txt)\n",
    "            date_list.append(date_txt)\n",
    "            comm_list.append(comm_txt)\n",
    "            good_list.append(good_txt)\n",
    "            bad_comm_list.append(bad_txt)\n",
    "        except :\n",
    "            print('comm Error')\n",
    "        finally : \n",
    "            pass"
   ]
  },
  {
   "cell_type": "code",
   "execution_count": null,
   "id": "b83a1612-0318-415e-87b1-aeebdf83e7fd",
   "metadata": {},
   "outputs": [],
   "source": [
    "start_Code('https://www.jobplanet.co.kr/companies/50130/reviews/%ED%8F%AC%EC%8A%A4%EC%BD%94')"
   ]
  },
  {
   "cell_type": "code",
   "execution_count": null,
   "id": "13f3273f-a0e9-47d9-b256-2404de0dbe9d",
   "metadata": {},
   "outputs": [],
   "source": [
    "# 창을 띄우지 않고 크롤링을 수행 \n",
    "options = webdriver.ChromeOptions()\n",
    "options.add_argument('headless')\n",
    "\n",
    "driver = webdriver.Chrome(options= options)"
   ]
  },
  {
   "cell_type": "code",
   "execution_count": null,
   "id": "32a8029a-37d2-400b-8944-25c10e56481e",
   "metadata": {},
   "outputs": [],
   "source": [
    "import pandas as pd \n",
    "pd.DataFrame({'작성일자':date_list , '직군':div_list , '지역': regin_list, '한줄평':comm_list,\n",
    "             '기업장점':good_list , '기업단점':bad_list})"
   ]
  }
 ],
 "metadata": {
  "kernelspec": {
   "display_name": "Python 3 (ipykernel)",
   "language": "python",
   "name": "python3"
  },
  "language_info": {
   "codemirror_mode": {
    "name": "ipython",
    "version": 3
   },
   "file_extension": ".py",
   "mimetype": "text/x-python",
   "name": "python",
   "nbconvert_exporter": "python",
   "pygments_lexer": "ipython3",
   "version": "3.9.12"
  }
 },
 "nbformat": 4,
 "nbformat_minor": 5
}
