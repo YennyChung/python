{
 "cells": [
  {
   "cell_type": "markdown",
   "id": "b0d425eb-cf9a-4c8d-9e45-0d860ece5387",
   "metadata": {},
   "source": [
    "### 1. 잡플래닛 크롤링"
   ]
  },
  {
   "cell_type": "code",
   "execution_count": 2,
   "id": "74367bc2-cde6-4723-b138-d387f57cb6e2",
   "metadata": {},
   "outputs": [
    {
     "name": "stdout",
     "output_type": "stream",
     "text": [
      "Collecting selenium\n",
      "  Downloading selenium-4.4.3-py3-none-any.whl (985 kB)\n",
      "Collecting trio-websocket~=0.9\n",
      "  Downloading trio_websocket-0.9.2-py3-none-any.whl (16 kB)\n",
      "Requirement already satisfied: urllib3[socks]~=1.26 in c:\\users\\conet\\anaconda3\\lib\\site-packages (from selenium) (1.26.9)\n",
      "Requirement already satisfied: certifi>=2021.10.8 in c:\\users\\conet\\anaconda3\\lib\\site-packages (from selenium) (2021.10.8)\n",
      "Collecting trio~=0.17\n",
      "  Downloading trio-0.21.0-py3-none-any.whl (358 kB)\n",
      "Requirement already satisfied: sortedcontainers in c:\\users\\conet\\anaconda3\\lib\\site-packages (from trio~=0.17->selenium) (2.4.0)\n",
      "Collecting outcome\n",
      "  Downloading outcome-1.2.0-py2.py3-none-any.whl (9.7 kB)\n",
      "Collecting async-generator>=1.9\n",
      "  Downloading async_generator-1.10-py3-none-any.whl (18 kB)\n",
      "Requirement already satisfied: attrs>=19.2.0 in c:\\users\\conet\\anaconda3\\lib\\site-packages (from trio~=0.17->selenium) (21.4.0)\n",
      "Requirement already satisfied: cffi>=1.14 in c:\\users\\conet\\anaconda3\\lib\\site-packages (from trio~=0.17->selenium) (1.15.0)\n",
      "Requirement already satisfied: idna in c:\\users\\conet\\anaconda3\\lib\\site-packages (from trio~=0.17->selenium) (3.3)\n",
      "Requirement already satisfied: sniffio in c:\\users\\conet\\anaconda3\\lib\\site-packages (from trio~=0.17->selenium) (1.2.0)\n",
      "Requirement already satisfied: pycparser in c:\\users\\conet\\anaconda3\\lib\\site-packages (from cffi>=1.14->trio~=0.17->selenium) (2.21)\n",
      "Collecting wsproto>=0.14\n",
      "  Downloading wsproto-1.2.0-py3-none-any.whl (24 kB)\n",
      "Requirement already satisfied: PySocks!=1.5.7,<2.0,>=1.5.6 in c:\\users\\conet\\anaconda3\\lib\\site-packages (from urllib3[socks]~=1.26->selenium) (1.7.1)\n",
      "Collecting h11<1,>=0.9.0\n",
      "  Downloading h11-0.13.0-py3-none-any.whl (58 kB)\n",
      "Installing collected packages: outcome, h11, async-generator, wsproto, trio, trio-websocket, selenium\n",
      "Successfully installed async-generator-1.10 h11-0.13.0 outcome-1.2.0 selenium-4.4.3 trio-0.21.0 trio-websocket-0.9.2 wsproto-1.2.0\n"
     ]
    }
   ],
   "source": [
    "#!pip install --user selenium"
   ]
  },
  {
   "cell_type": "code",
   "execution_count": 48,
   "id": "d3d8351c-0191-49d9-83ee-e7e83eedb1af",
   "metadata": {},
   "outputs": [],
   "source": [
    "from selenium import webdriver\n",
    "from selenium.webdriver.common.by import By\n",
    "# from webdriver_manager.chrome import ChromeDriver  # 맥북유저"
   ]
  },
  {
   "cell_type": "code",
   "execution_count": 49,
   "id": "5f1b13d1-6294-4113-a468-8bb9f1483021",
   "metadata": {},
   "outputs": [],
   "source": [
    "driver = webdriver.Chrome('chromedriver')\n",
    "# driver = webdriver.Chrome(ChromeDriverManager().install())  # 맥유저\n",
    "driver.get('https://www.jobplanet.co.kr')"
   ]
  },
  {
   "cell_type": "code",
   "execution_count": 50,
   "id": "f9ffb897-2fe5-408a-8b25-e6ab6573ec98",
   "metadata": {},
   "outputs": [],
   "source": [
    "# 로그인 화면으로 이동\n",
    "driver.find_element(By.XPATH, '/html/body/div[1]/div[1]/header/div[2]/div[2]/a[1]/span').click()"
   ]
  },
  {
   "cell_type": "code",
   "execution_count": 51,
   "id": "a8715cd7-1161-4364-8cc9-58c2749a0844",
   "metadata": {},
   "outputs": [],
   "source": [
    "# 아이디 입력\n",
    "driver.find_element(By.XPATH, '//*[@id=\"user_email\"]').send_keys('abcd@google.com')"
   ]
  },
  {
   "cell_type": "code",
   "execution_count": 52,
   "id": "5ea4edfc-f78c-4e3b-afad-5875ebe2f903",
   "metadata": {},
   "outputs": [],
   "source": [
    "# 패스워드 입력\n",
    "driver.find_element(By.XPATH, '//*[@id=\"user_password\"]').send_keys('password')"
   ]
  },
  {
   "cell_type": "code",
   "execution_count": 53,
   "id": "5fb07c32-7d45-46db-aef3-8c0cd0e2b517",
   "metadata": {},
   "outputs": [],
   "source": [
    "# 로그인 실행\n",
    "driver.find_element(By.XPATH, '//*[@id=\"signInSignInCon\"]/div[2]/div/section[2]/fieldset/button').click()"
   ]
  },
  {
   "cell_type": "code",
   "execution_count": 54,
   "id": "340cd9e8-bda3-4e89-bfd3-9d8fa898b112",
   "metadata": {},
   "outputs": [],
   "source": [
    "# 로그인 작업 후 포스코 기업 페이지 접속\n",
    "driver.get('https://www.jobplanet.co.kr/companies/50130/reviews/%ED%8F%AC%EC%8A%A4%EC%BD%94')"
   ]
  },
  {
   "cell_type": "code",
   "execution_count": 55,
   "id": "1c1522d4-f6bc-4800-8242-b57cafd58d68",
   "metadata": {},
   "outputs": [],
   "source": [
    "# 오픈되어있는 창 제거하기\n",
    "driver.find_element(By.XPATH, '//*[@id=\"premiumReviewChart\"]/div/div[3]/div[2]/div/div[1]/button').click()"
   ]
  },
  {
   "cell_type": "markdown",
   "id": "5c374f0f-1368-40b7-89b0-5b794a712b17",
   "metadata": {},
   "source": [
    "## 로그인하는 함수 만들기"
   ]
  },
  {
   "cell_type": "markdown",
   "id": "6f67bbe5-5a52-48a4-8d5f-ca08edb4595c",
   "metadata": {},
   "source": [
    "---"
   ]
  },
  {
   "cell_type": "code",
   "execution_count": 56,
   "id": "97564a2a-dad8-4996-82d5-0ce71c1b65c1",
   "metadata": {
    "tags": []
   },
   "outputs": [],
   "source": [
    "# 로그인하는 함수 만들기\n",
    "def start_Code(url):\n",
    "    driver = webdriver.Chrome('chromedriver')  # 크롬 드라이버 가져오기\n",
    "    driver.get('https://www.jobplanet.co.kr/')\n",
    "    driver.implicitly_wait(7)  # 크롬 페이지가 열릴때까지 기다리는 시간 정해주기; 너무 적게 주면 안됨 (7초이내로 웹사이트가 로딩이 되면 아래 시작)\n",
    "    # 로그인 화면으로 이동\n",
    "    driver.find_element(By.XPATH, '/html/body/div[1]/div[1]/header/div[2]/div[2]/a[1]/span').click()\n",
    "    # 아이디 입력\n",
    "    driver.find_element(By.XPATH, '//*[@id=\"user_email\"]').send_keys('abcd@google.com')\n",
    "    # 패스워드 입력\n",
    "    driver.find_element(By.XPATH, '//*[@id=\"user_password\"]').send_keys('password')\n",
    "    # 로그인 실행\n",
    "    driver.find_element(By.XPATH, '//*[@id=\"signInSignInCon\"]/div[2]/div/section[2]/fieldset/button').click()\n",
    "    \n",
    "    # 시간지연 코드 추가하기  # db의 데이터를 가지고 오는 경우; cursor 기능으로 5초 대기 후 하위의 코드 실행시킨다는 뜻\n",
    "    import time\n",
    "    time.sleep(5)\n",
    "\n",
    "    # 웹사이트 지정된 것 가져오기\n",
    "    driver.get(url)\n",
    "    # 오픈되어있는 창 제거하기\n",
    "    driver.find_element(By.XPATH, '//*[@id=\"premiumReviewChart\"]/div/div[3]/div[2]/div/div[1]/button').click()\n",
    "    passing_Scrap(driver)"
   ]
  },
  {
   "cell_type": "code",
   "execution_count": 57,
   "id": "2c32301a-4c30-4f91-97b4-895a1cf7a1da",
   "metadata": {},
   "outputs": [],
   "source": [
    "def start_Code( url ):\n",
    "    import time \n",
    "    driver = webdriver.Chrome('chromedriver')\n",
    "    # driver = webdriver.Chrome(ChromeDriverManager().install())  # Mac \n",
    "    driver.get('https://www.jobplanet.co.kr')\n",
    "    driver.implicitly_wait(10)  \n",
    "    time.sleep(2)\n",
    "    driver.find_element(By.XPATH, \n",
    "                '/html/body/div[1]/div[1]/header/div[2]/div[2]/a[1]/span').click()\n",
    "    driver.find_element(By.XPATH,\n",
    "                   '//*[@id=\"user_email\"]').send_keys('52100108@dankook.ac.kr')\n",
    "    driver.find_element(By.XPATH,\n",
    "                   '//*[@id=\"user_password\"]').send_keys('kgkg3920691')\n",
    "    driver.find_element(By.XPATH,\n",
    "        '//*[@id=\"signInSignInCon\"]/div[2]/div/section[2]/fieldset/button').click()\n",
    "    import time\n",
    "    time.sleep(5) \n",
    "    driver.get(url)\n",
    "    driver.find_element(By.XPATH,\n",
    "        '//*[@id=\"premiumReviewChart\"]/div/div[3]/div[2]/div/div[1]/button').click()\n",
    "    \n",
    "    pasing_Scrap(driver)"
   ]
  },
  {
   "cell_type": "code",
   "execution_count": 58,
   "id": "6b4898ed-d242-434a-8644-0cec19e89247",
   "metadata": {},
   "outputs": [],
   "source": [
    "def pasing_Scrap(driver):\n",
    "    import time\n",
    "    for p in range(0,30): \n",
    "        try:\n",
    "            driver.implicitly_wait(3)\n",
    "\n",
    "            comm_Scrap(driver)\n",
    "        except:\n",
    "            print('pasing Error')\n",
    "        finally:\n",
    "            time.sleep(3)\n",
    "            driver.find_element(By.XPATH, '//*[@id=\"viewReviewsList\"]/div/div/div/div[5]/article/a[7]').click()\n",
    "            print('Done')"
   ]
  },
  {
   "cell_type": "code",
   "execution_count": 59,
   "id": "a7c0b46d-5053-493a-946b-08e54294587e",
   "metadata": {},
   "outputs": [],
   "source": [
    "div_list = []\n",
    "state_list = []\n",
    "regin_list = [] \n",
    "date_list = []\n",
    "comm_list = []\n",
    "good_list = []\n",
    "bad_list = []"
   ]
  },
  {
   "cell_type": "code",
   "execution_count": 61,
   "id": "6f0ae91c-b903-473a-89ed-6ae220b6d4ce",
   "metadata": {},
   "outputs": [],
   "source": [
    "def comm_Scrap(driver):\n",
    "    for i in range(1,6):\n",
    "        try:\n",
    "            import time\n",
    "            time.sleep(3)\n",
    "            driver.implicitly_wait(3)\n",
    "            div_txt = driver.find_element(By.XPATH, '//*[@id=\"viewReviewsList\"]/div/div/div/section['+str(i)+']/div/div[1]/span[2]').text\n",
    "            state_txt = driver.find_element(By.XPATH, '//*[@id=\"viewReviewsList\"]/div/div/div/section['+str(i)+']/div/div[1]/span[4]').text\n",
    "            regin_txt = driver.find_element(By.XPATH, '//*[@id=\"viewReviewsList\"]/div/div/div/section['+str(i)+']/div/div[1]/span[6]').text\n",
    "            date_txt = driver.find_element(By.XPATH, '//*[@id=\"viewReviewsList\"]/div/div/div/section['+str(i)+']/div/div[1]/span[8]').text\n",
    "            comm_txt = driver.find_element(By.XPATH, '//*[@id=\"viewReviewsList\"]/div/div/div/section['+str(i)+']/div/div[2]/div/div[1]/h2').text\n",
    "            good_txt = driver.find_element(By.XPATH, '//*[@id=\"viewReviewsList\"]/div/div/div/section['+str(i)+']/div/div[2]/div/dl/dd[1]/span').text\n",
    "            bad_txt = driver.find_element(By.XPATH, '//*[@id=\"viewReviewsList\"]/div/div/div/section['+str(i)+']/div/div[2]/div/dl/dd[2]/span').text\n",
    "\n",
    "            div_list.append(div_txt)\n",
    "            state_list.append(state_txt)\n",
    "            regin_list.append(regin_txt)\n",
    "            date_list.append(date_txt)\n",
    "            comm_list.append(comm_txt)\n",
    "            good_list.append(good_txt)\n",
    "            bad_list.append(bad_txt)\n",
    "        except :\n",
    "            print('comm Error')\n",
    "        finally : \n",
    "            pass"
   ]
  },
  {
   "cell_type": "code",
   "execution_count": 62,
   "id": "b83a1612-0318-415e-87b1-aeebdf83e7fd",
   "metadata": {},
   "outputs": [
    {
     "name": "stdout",
     "output_type": "stream",
     "text": [
      "Done\n",
      "Done\n",
      "Done\n",
      "Done\n",
      "Done\n",
      "Done\n",
      "Done\n",
      "Done\n",
      "Done\n",
      "Done\n",
      "Done\n",
      "Done\n",
      "Done\n",
      "Done\n",
      "Done\n",
      "Done\n",
      "Done\n",
      "Done\n",
      "Done\n",
      "Done\n",
      "Done\n",
      "Done\n",
      "Done\n",
      "Done\n",
      "Done\n",
      "Done\n",
      "Done\n",
      "Done\n",
      "Done\n",
      "Done\n"
     ]
    }
   ],
   "source": [
    "start_Code('https://www.jobplanet.co.kr/companies/50130/reviews/%ED%8F%AC%EC%8A%A4%EC%BD%94')"
   ]
  },
  {
   "cell_type": "code",
   "execution_count": null,
   "id": "13f3273f-a0e9-47d9-b256-2404de0dbe9d",
   "metadata": {},
   "outputs": [],
   "source": [
    "# 창을 띄우지 않고 크롤링을 수행 \n",
    "options = webdriver.ChromeOptions()\n",
    "options.add_argument('headless')\n",
    "\n",
    "driver = webdriver.Chrome(options= options)"
   ]
  },
  {
   "cell_type": "code",
   "execution_count": 63,
   "id": "32a8029a-37d2-400b-8944-25c10e56481e",
   "metadata": {},
   "outputs": [
    {
     "data": {
      "text/html": [
       "<div>\n",
       "<style scoped>\n",
       "    .dataframe tbody tr th:only-of-type {\n",
       "        vertical-align: middle;\n",
       "    }\n",
       "\n",
       "    .dataframe tbody tr th {\n",
       "        vertical-align: top;\n",
       "    }\n",
       "\n",
       "    .dataframe thead th {\n",
       "        text-align: right;\n",
       "    }\n",
       "</style>\n",
       "<table border=\"1\" class=\"dataframe\">\n",
       "  <thead>\n",
       "    <tr style=\"text-align: right;\">\n",
       "      <th></th>\n",
       "      <th>작성일자</th>\n",
       "      <th>직군</th>\n",
       "      <th>지역</th>\n",
       "      <th>한줄평</th>\n",
       "      <th>기업장점</th>\n",
       "      <th>기업단점</th>\n",
       "    </tr>\n",
       "  </thead>\n",
       "  <tbody>\n",
       "    <tr>\n",
       "      <th>0</th>\n",
       "      <td>2022. 08</td>\n",
       "      <td>연구개발</td>\n",
       "      <td>경북</td>\n",
       "      <td>\"전형적인 장치산업. 사람을 전혀 생각하지 않는 곳. 군대와 거의 동일한 문화. 근...</td>\n",
       "      <td>승진 생각하지 않는 다면 윗사람 전혀 눈치볼 필요 없음. 아무도 승진하려고 하지 않...</td>\n",
       "      <td>단순보고, 보고를 위한 보고 등 문서 작업들이 많음. 무언가 하나를 하려고 해도 해...</td>\n",
       "    </tr>\n",
       "    <tr>\n",
       "      <th>1</th>\n",
       "      <td>2022. 08</td>\n",
       "      <td>생산/제조</td>\n",
       "      <td>경북</td>\n",
       "      <td>\"주인 없는 회사를 강점으로 내밀지만 치명적인 단점이자 약점\"</td>\n",
       "      <td>회사 자체는 정말 알짜배기\\n포스코가 망할 수가 있을까 ?</td>\n",
       "      <td>직원 처우는 매우 낮은 수준\\n어느 직군이든 타기업과 비교시 낮은 수준임을 인지</td>\n",
       "    </tr>\n",
       "    <tr>\n",
       "      <th>2</th>\n",
       "      <td>2022. 08</td>\n",
       "      <td>경영/기획/컨설팅</td>\n",
       "      <td>경북</td>\n",
       "      <td>\"대기업 특유의 체계화된 보고 문화를 배울 수 있음\"</td>\n",
       "      <td>보고서 작성의 기초부터 심화까지 배울 수 있음.\\n전산쪽 지원도 잘되는 편이라, 시...</td>\n",
       "      <td>서울 포항 광양 근무지 이동에 따른 불편함.\\n서울을 제외하곤 기숙사 생활을 하며,...</td>\n",
       "    </tr>\n",
       "    <tr>\n",
       "      <th>3</th>\n",
       "      <td>2022. 08</td>\n",
       "      <td>엔지니어링</td>\n",
       "      <td>전남</td>\n",
       "      <td>\"주인없는 회사에 대한 실망이 여러 가지면에서 받게 됩니다.\\n회사경험이 없으시다면...</td>\n",
       "      <td>어른들에게는 네임밸류가 상당히 높고 현장에 비해 스탭직군은 연차, 선택적 근로제도를...</td>\n",
       "      <td>단점이 너무 많지만 한마디로 요약해보자면 지방, 직무, 연봉 중 하나라도 괜찮으면 ...</td>\n",
       "    </tr>\n",
       "    <tr>\n",
       "      <th>4</th>\n",
       "      <td>2022. 08</td>\n",
       "      <td>서비스/고객지원</td>\n",
       "      <td>전남</td>\n",
       "      <td>\"회사의 위계질서가 엄청남.\\n부서마다 분위기 차이가 있음.\"</td>\n",
       "      <td>교육, 문화, 교통 등의 혜택이 많아서 좋음.\\n밥 맛있어짐</td>\n",
       "      <td>복지 제도가 많지만 연차 자유롭지는 않음.\\n권장휴가에 반 강제적으로 연차써야함.</td>\n",
       "    </tr>\n",
       "    <tr>\n",
       "      <th>...</th>\n",
       "      <td>...</td>\n",
       "      <td>...</td>\n",
       "      <td>...</td>\n",
       "      <td>...</td>\n",
       "      <td>...</td>\n",
       "      <td>...</td>\n",
       "    </tr>\n",
       "    <tr>\n",
       "      <th>145</th>\n",
       "      <td>2021. 11</td>\n",
       "      <td>생산/제조</td>\n",
       "      <td>경북</td>\n",
       "      <td>\"대외적인 이미지는 좋다. 그냥 포항에 살면 아무 욕심 없이 살기 좋은 회사\"</td>\n",
       "      <td>대외적인 이미지는 좋다. 신입초봉은 높고 기사 기능장 산업기사 자격증 취득시 따로 ...</td>\n",
       "      <td>연봉제로 바뀌면서 이제 임금상승도 더 적을거같다. 부서바이부서로 업무난이도 극심히 ...</td>\n",
       "    </tr>\n",
       "    <tr>\n",
       "      <th>146</th>\n",
       "      <td>2021. 11</td>\n",
       "      <td>생산관리/품질관리</td>\n",
       "      <td>전남</td>\n",
       "      <td>\"전무후무한 연봉제 생산직 근무\\n보여주기식 문화 (겉으로는 보여지는 이미지 좋으나...</td>\n",
       "      <td>안정적인 급여\\n남들보다 좋은 교대 패턴\\n높은 네임벨류\\n기사 자격증 취득시 100만원</td>\n",
       "      <td>기사 자격증 취득 100만원 받고 젊고 능력있는 마이스터고 애들 탈출함\\n공부 잘하...</td>\n",
       "    </tr>\n",
       "    <tr>\n",
       "      <th>147</th>\n",
       "      <td>2021. 10</td>\n",
       "      <td>금융/재무</td>\n",
       "      <td>서울</td>\n",
       "      <td>\"저는 단기계약직으로 일했었는데 야근 이런 거 없었고 저를 충분히 배려해주셨습니다.\"</td>\n",
       "      <td>상사분들과 맛난 점심을 매일 먹을 수 있었습니다. 사내 카페, 보건 등 다양한 쾌적...</td>\n",
       "      <td>다소 수직적이고 상사분들의 눈치를 많이 보는 것 같았습니다.</td>\n",
       "    </tr>\n",
       "    <tr>\n",
       "      <th>148</th>\n",
       "      <td>2021. 10</td>\n",
       "      <td>생산/제조</td>\n",
       "      <td>전남</td>\n",
       "      <td>\"부서 잘못걸리면 퇴사마려운곳 초봉이 매우 높으나 시간지날수록 그대로인느낌\"</td>\n",
       "      <td>부서 잘걸리면 일이 굉장히 편하고 근무환경 매우 우수함 소위 말하는 품x기술부 , ...</td>\n",
       "      <td>연봉상승률이 답이없음 초봉은 높으나 .. 시간이 흘러도 거의 달라지는게 없음 또한 ...</td>\n",
       "    </tr>\n",
       "    <tr>\n",
       "      <th>149</th>\n",
       "      <td>2021. 10</td>\n",
       "      <td>생산관리/품질관리</td>\n",
       "      <td>경북</td>\n",
       "      <td>\"초봉은 높은편인데 상승률이낮고 제철소 근무다보니 좀 힘든부분이있습니다\"</td>\n",
       "      <td>다른기업보다 초봉이 높고 사내복지가 대기업이라서 잘되어있음</td>\n",
       "      <td>꼰대문화에 돌발출근이 많아서 사람들이 이직을 많이합니다</td>\n",
       "    </tr>\n",
       "  </tbody>\n",
       "</table>\n",
       "<p>150 rows × 6 columns</p>\n",
       "</div>"
      ],
      "text/plain": [
       "         작성일자         직군  지역  \\\n",
       "0    2022. 08       연구개발  경북   \n",
       "1    2022. 08      생산/제조  경북   \n",
       "2    2022. 08  경영/기획/컨설팅  경북   \n",
       "3    2022. 08      엔지니어링  전남   \n",
       "4    2022. 08   서비스/고객지원  전남   \n",
       "..        ...        ...  ..   \n",
       "145  2021. 11      생산/제조  경북   \n",
       "146  2021. 11  생산관리/품질관리  전남   \n",
       "147  2021. 10      금융/재무  서울   \n",
       "148  2021. 10      생산/제조  전남   \n",
       "149  2021. 10  생산관리/품질관리  경북   \n",
       "\n",
       "                                                   한줄평  \\\n",
       "0    \"전형적인 장치산업. 사람을 전혀 생각하지 않는 곳. 군대와 거의 동일한 문화. 근...   \n",
       "1                   \"주인 없는 회사를 강점으로 내밀지만 치명적인 단점이자 약점\"   \n",
       "2                        \"대기업 특유의 체계화된 보고 문화를 배울 수 있음\"   \n",
       "3    \"주인없는 회사에 대한 실망이 여러 가지면에서 받게 됩니다.\\n회사경험이 없으시다면...   \n",
       "4                   \"회사의 위계질서가 엄청남.\\n부서마다 분위기 차이가 있음.\"   \n",
       "..                                                 ...   \n",
       "145        \"대외적인 이미지는 좋다. 그냥 포항에 살면 아무 욕심 없이 살기 좋은 회사\"   \n",
       "146  \"전무후무한 연봉제 생산직 근무\\n보여주기식 문화 (겉으로는 보여지는 이미지 좋으나...   \n",
       "147    \"저는 단기계약직으로 일했었는데 야근 이런 거 없었고 저를 충분히 배려해주셨습니다.\"   \n",
       "148         \"부서 잘못걸리면 퇴사마려운곳 초봉이 매우 높으나 시간지날수록 그대로인느낌\"   \n",
       "149           \"초봉은 높은편인데 상승률이낮고 제철소 근무다보니 좀 힘든부분이있습니다\"   \n",
       "\n",
       "                                                  기업장점  \\\n",
       "0    승진 생각하지 않는 다면 윗사람 전혀 눈치볼 필요 없음. 아무도 승진하려고 하지 않...   \n",
       "1                     회사 자체는 정말 알짜배기\\n포스코가 망할 수가 있을까 ?   \n",
       "2    보고서 작성의 기초부터 심화까지 배울 수 있음.\\n전산쪽 지원도 잘되는 편이라, 시...   \n",
       "3    어른들에게는 네임밸류가 상당히 높고 현장에 비해 스탭직군은 연차, 선택적 근로제도를...   \n",
       "4                    교육, 문화, 교통 등의 혜택이 많아서 좋음.\\n밥 맛있어짐   \n",
       "..                                                 ...   \n",
       "145  대외적인 이미지는 좋다. 신입초봉은 높고 기사 기능장 산업기사 자격증 취득시 따로 ...   \n",
       "146  안정적인 급여\\n남들보다 좋은 교대 패턴\\n높은 네임벨류\\n기사 자격증 취득시 100만원   \n",
       "147  상사분들과 맛난 점심을 매일 먹을 수 있었습니다. 사내 카페, 보건 등 다양한 쾌적...   \n",
       "148  부서 잘걸리면 일이 굉장히 편하고 근무환경 매우 우수함 소위 말하는 품x기술부 , ...   \n",
       "149                   다른기업보다 초봉이 높고 사내복지가 대기업이라서 잘되어있음   \n",
       "\n",
       "                                                  기업단점  \n",
       "0    단순보고, 보고를 위한 보고 등 문서 작업들이 많음. 무언가 하나를 하려고 해도 해...  \n",
       "1         직원 처우는 매우 낮은 수준\\n어느 직군이든 타기업과 비교시 낮은 수준임을 인지  \n",
       "2    서울 포항 광양 근무지 이동에 따른 불편함.\\n서울을 제외하곤 기숙사 생활을 하며,...  \n",
       "3    단점이 너무 많지만 한마디로 요약해보자면 지방, 직무, 연봉 중 하나라도 괜찮으면 ...  \n",
       "4        복지 제도가 많지만 연차 자유롭지는 않음.\\n권장휴가에 반 강제적으로 연차써야함.  \n",
       "..                                                 ...  \n",
       "145  연봉제로 바뀌면서 이제 임금상승도 더 적을거같다. 부서바이부서로 업무난이도 극심히 ...  \n",
       "146  기사 자격증 취득 100만원 받고 젊고 능력있는 마이스터고 애들 탈출함\\n공부 잘하...  \n",
       "147                  다소 수직적이고 상사분들의 눈치를 많이 보는 것 같았습니다.  \n",
       "148  연봉상승률이 답이없음 초봉은 높으나 .. 시간이 흘러도 거의 달라지는게 없음 또한 ...  \n",
       "149                     꼰대문화에 돌발출근이 많아서 사람들이 이직을 많이합니다  \n",
       "\n",
       "[150 rows x 6 columns]"
      ]
     },
     "execution_count": 63,
     "metadata": {},
     "output_type": "execute_result"
    }
   ],
   "source": [
    "import pandas as pd \n",
    "pd.DataFrame({'작성일자':date_list , '직군':div_list , '지역': regin_list, '한줄평':comm_list,\n",
    "             '기업장점':good_list , '기업단점':bad_list})"
   ]
  }
 ],
 "metadata": {
  "kernelspec": {
   "display_name": "Python 3 (ipykernel)",
   "language": "python",
   "name": "python3"
  },
  "language_info": {
   "codemirror_mode": {
    "name": "ipython",
    "version": 3
   },
   "file_extension": ".py",
   "mimetype": "text/x-python",
   "name": "python",
   "nbconvert_exporter": "python",
   "pygments_lexer": "ipython3",
   "version": "3.9.12"
  }
 },
 "nbformat": 4,
 "nbformat_minor": 5
}
