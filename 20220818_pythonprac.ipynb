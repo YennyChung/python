{
 "cells": [
  {
   "cell_type": "code",
   "execution_count": 3,
   "id": "317202a6-031e-4a9a-8f3b-71c83eb1fcd1",
   "metadata": {},
   "outputs": [
    {
     "ename": "TclError",
     "evalue": "image \"pyimage1\" doesn't exist",
     "output_type": "error",
     "traceback": [
      "\u001b[1;31m---------------------------------------------------------------------------\u001b[0m",
      "\u001b[1;31mTclError\u001b[0m                                  Traceback (most recent call last)",
      "Input \u001b[1;32mIn [3]\u001b[0m, in \u001b[0;36m<cell line: 19>\u001b[1;34m()\u001b[0m\n\u001b[0;32m     16\u001b[0m tk_img \u001b[38;5;241m=\u001b[39m ImageTk\u001b[38;5;241m.\u001b[39mPhotoImage(img)\n\u001b[0;32m     18\u001b[0m \u001b[38;5;66;03m# tkinter의 캔버스에 영상을 표시한다. \u001b[39;00m\n\u001b[1;32m---> 19\u001b[0m \u001b[43mcanvas\u001b[49m\u001b[38;5;241;43m.\u001b[39;49m\u001b[43mcreate_image\u001b[49m\u001b[43m(\u001b[49m\u001b[38;5;241;43m250\u001b[39;49m\u001b[43m,\u001b[49m\u001b[43m \u001b[49m\u001b[38;5;241;43m250\u001b[39;49m\u001b[43m,\u001b[49m\u001b[43m \u001b[49m\u001b[43mimage\u001b[49m\u001b[38;5;241;43m=\u001b[39;49m\u001b[43mtk_img\u001b[49m\u001b[43m)\u001b[49m\n\u001b[0;32m     21\u001b[0m window\u001b[38;5;241m.\u001b[39mmainloop()\n",
      "File \u001b[1;32m~\\anaconda3\\lib\\tkinter\\__init__.py:2790\u001b[0m, in \u001b[0;36mCanvas.create_image\u001b[1;34m(self, *args, **kw)\u001b[0m\n\u001b[0;32m   2788\u001b[0m \u001b[38;5;28;01mdef\u001b[39;00m \u001b[38;5;21mcreate_image\u001b[39m(\u001b[38;5;28mself\u001b[39m, \u001b[38;5;241m*\u001b[39margs, \u001b[38;5;241m*\u001b[39m\u001b[38;5;241m*\u001b[39mkw):\n\u001b[0;32m   2789\u001b[0m     \u001b[38;5;124;03m\"\"\"Create image item with coordinates x1,y1.\"\"\"\u001b[39;00m\n\u001b[1;32m-> 2790\u001b[0m     \u001b[38;5;28;01mreturn\u001b[39;00m \u001b[38;5;28;43mself\u001b[39;49m\u001b[38;5;241;43m.\u001b[39;49m\u001b[43m_create\u001b[49m\u001b[43m(\u001b[49m\u001b[38;5;124;43m'\u001b[39;49m\u001b[38;5;124;43mimage\u001b[39;49m\u001b[38;5;124;43m'\u001b[39;49m\u001b[43m,\u001b[49m\u001b[43m \u001b[49m\u001b[43margs\u001b[49m\u001b[43m,\u001b[49m\u001b[43m \u001b[49m\u001b[43mkw\u001b[49m\u001b[43m)\u001b[49m\n",
      "File \u001b[1;32m~\\anaconda3\\lib\\tkinter\\__init__.py:2776\u001b[0m, in \u001b[0;36mCanvas._create\u001b[1;34m(self, itemType, args, kw)\u001b[0m\n\u001b[0;32m   2774\u001b[0m \u001b[38;5;28;01melse\u001b[39;00m:\n\u001b[0;32m   2775\u001b[0m     cnf \u001b[38;5;241m=\u001b[39m {}\n\u001b[1;32m-> 2776\u001b[0m \u001b[38;5;28;01mreturn\u001b[39;00m \u001b[38;5;28mself\u001b[39m\u001b[38;5;241m.\u001b[39mtk\u001b[38;5;241m.\u001b[39mgetint(\u001b[38;5;28;43mself\u001b[39;49m\u001b[38;5;241;43m.\u001b[39;49m\u001b[43mtk\u001b[49m\u001b[38;5;241;43m.\u001b[39;49m\u001b[43mcall\u001b[49m\u001b[43m(\u001b[49m\n\u001b[0;32m   2777\u001b[0m \u001b[43m    \u001b[49m\u001b[38;5;28;43mself\u001b[39;49m\u001b[38;5;241;43m.\u001b[39;49m\u001b[43m_w\u001b[49m\u001b[43m,\u001b[49m\u001b[43m \u001b[49m\u001b[38;5;124;43m'\u001b[39;49m\u001b[38;5;124;43mcreate\u001b[39;49m\u001b[38;5;124;43m'\u001b[39;49m\u001b[43m,\u001b[49m\u001b[43m \u001b[49m\u001b[43mitemType\u001b[49m\u001b[43m,\u001b[49m\n\u001b[0;32m   2778\u001b[0m \u001b[43m    \u001b[49m\u001b[38;5;241;43m*\u001b[39;49m\u001b[43m(\u001b[49m\u001b[43margs\u001b[49m\u001b[43m \u001b[49m\u001b[38;5;241;43m+\u001b[39;49m\u001b[43m \u001b[49m\u001b[38;5;28;43mself\u001b[39;49m\u001b[38;5;241;43m.\u001b[39;49m\u001b[43m_options\u001b[49m\u001b[43m(\u001b[49m\u001b[43mcnf\u001b[49m\u001b[43m,\u001b[49m\u001b[43m \u001b[49m\u001b[43mkw\u001b[49m\u001b[43m)\u001b[49m\u001b[43m)\u001b[49m\u001b[43m)\u001b[49m)\n",
      "\u001b[1;31mTclError\u001b[0m: image \"pyimage1\" doesn't exist"
     ]
    }
   ],
   "source": [
    "# PIL 모듈에서 몇 개의 클래스를 포함시킨다. \n",
    "from PIL import Image, ImageTk \n",
    "\n",
    "# tkinter 모듈을 포함시킨다. \n",
    "import tkinter as tk\n",
    "\n",
    "# 윈도우를 생성하고 윈도우 안에 캔버스를 생성한다. \n",
    "window = tk.Tk()\n",
    "canvas = tk.Canvas(window, width=500, height=500)\n",
    "canvas.pack()\n",
    "\n",
    "# 윈도우를 생성하고 윈도우 안에 캔버스를 생성한다. \n",
    "img = Image.open(\"C:/Users/Conet/Downloads/lenna.jpg\")\n",
    "\n",
    "# tk 형식으로 영상을 변환한다. \n",
    "tk_img = ImageTk.PhotoImage(img)\n",
    "\n",
    "# tkinter의 캔버스에 영상을 표시한다. \n",
    "canvas.create_image(250, 250, image=tk_img)\n",
    "\n",
    "window.mainloop()"
   ]
  },
  {
   "cell_type": "code",
   "execution_count": null,
   "id": "28be36f1-def6-4b92-bcb0-8df142ffdcb2",
   "metadata": {},
   "outputs": [],
   "source": [
    "from PIL import Image, ImageTk \n",
    "import tkinter as tk\n",
    "\n",
    "window = tk.Tk()\n",
    "canvas = tk.Canvas(window, width=500, height=500)\n",
    "canvas.pack()\n",
    "\n",
    "# 영상 파일을 연다. \n",
    "im = Image.open(\"d:\\\\lenna.png\")\n",
    "\n",
    "# 영상을 45도 회전한다. \n",
    "out = im.rotate(45) \n",
    "\n",
    "# 영상을 tkinter 형식으로 변환한다. \n",
    "tk_img = ImageTk.PhotoImage(out)\n",
    "\n",
    "# 영상을 tkinter에서 화면에 표시한다. \n",
    "canvas.create_image(250, 250, image=tk_img)\n",
    "window.mainloop()"
   ]
  },
  {
   "cell_type": "code",
   "execution_count": null,
   "id": "365b2963-493b-4a0e-b9ae-cf2e2d349452",
   "metadata": {},
   "outputs": [],
   "source": [
    "from PIL import Image, ImageTk, ImageFilter \n",
    "import tkinter as tk\n",
    "\n",
    "window = tk.Tk()\n",
    "canvas = tk.Canvas(window, width=500, height=500)\n",
    "canvas.pack()\n",
    "\n",
    "# 영상 파일을 연다. \n",
    "im = Image.open(\"d:\\\\lenna.png\")\n",
    "\n",
    "# 영상을 흐리게 한다. \n",
    "out = im.filter(ImageFilter.BLUR)\n",
    "\n",
    "# 영상을 tkinter 형식으로 변환한다. \n",
    "tk_img = ImageTk.PhotoImage(out)\n",
    "\n",
    "# 영상을 tkinter에서 화면에 표시한다. \n",
    "canvas.create_image(250, 250, image=tk_img)\n",
    "window.mainloop()"
   ]
  },
  {
   "cell_type": "code",
   "execution_count": null,
   "id": "202543f0-5012-4c5a-a97f-f763e16f225e",
   "metadata": {},
   "outputs": [],
   "source": [
    "from PIL import Image\n",
    "\n",
    "img = Image.open('june.png')           # 이미지 파일 열기 \n",
    "print(img.format, img.size, img.mode)   # format, size, mode 확인\n",
    "img.show()\n",
    "\n",
    "box = (76, 3, 156, 183)  \n",
    "crop_img = img.crop(box)           # 이미지 자르기\n",
    "crop_img.save('june_torch.png')           # 이미지 저장\n",
    "print(crop_img.format, crop_img.size, crop_img.mode)   # format, size, mode 확인\n",
    "crop_img.show()"
   ]
  },
  {
   "cell_type": "code",
   "execution_count": null,
   "id": "bd4e8c39-a4fb-4c36-953e-d392b1b538e3",
   "metadata": {},
   "outputs": [],
   "source": [
    "img = Image.open('june.png')\n",
    "box = (76, 3, 156, 183) \n",
    "crop_img1 = img.crop(box)            # 이미지 자르기\n",
    "\n",
    "drop = (0, 3,80, 183)                       # 이미지 붙이기 위치  \n",
    "img.paste(crop_img1, drop)            # 이미지 붙여 넣기\n",
    "img.show()"
   ]
  },
  {
   "cell_type": "code",
   "execution_count": null,
   "id": "53c2f97c-1d2c-4857-9c4b-fcc89119dfae",
   "metadata": {},
   "outputs": [],
   "source": [
    "# 두번째 예제\n",
    "img2 = Image.open('june.png')\n",
    "crop_img2 = crop_img1.resize((40,90))       # 축소\n",
    "drop = (20, 40, 60, 130)                    # 이미지 붙이기 위치 \n",
    "img2.paste(crop_img2, drop)            # 이미지 붙여 넣기 \n",
    "\n",
    "box = (80, 3, 180, 103) \n",
    "crop_img3 = img2.crop(box).rotate(90)       # 회전\n",
    "drop = (220, 0, 320, 100)                   # 이미지 붙이기 위치 \n",
    "img2.paste(crop_img3, drop)            # 이미지 붙여 넣기\n",
    "img2.show()"
   ]
  },
  {
   "cell_type": "code",
   "execution_count": null,
   "id": "4a05892c-68fc-4e81-983b-2a33025c96ab",
   "metadata": {},
   "outputs": [],
   "source": [
    "from PIL import Image\n",
    "img4 = Image.open('june.png')\n",
    " \n",
    "box = (76, 3, 156, 333)\n",
    "crop4 = img4.crop(box)                                  # 이미지 자르기\n",
    "crop_img4 = crop4.transpose(Image.FLIP_LEFT_RIGHT)   # 자른 이미지 좌우 대칭\n",
    "drop = (0, 3, 80, 333) \n",
    "img4.paste(crop_img4, drop)                                # 이미지 붙여 넣기\n",
    "\n",
    "img4 = img4.transpose(Image.FLIP_LEFT_RIGHT)            # 전체 이미지 좌우 대칭\n",
    "img4.save('june_04.png')"
   ]
  },
  {
   "cell_type": "code",
   "execution_count": null,
   "id": "c7c9a4a2-91c4-492f-a05c-1d9d84c917e4",
   "metadata": {},
   "outputs": [],
   "source": [
    "from tkinter import *\n",
    "\n",
    "window = Tk()\n",
    "button = Button(window, text=\"클릭하세요!\")\n",
    "button.pack() #pack() 공간에 배치, 압축배치 관리자\n",
    "\n",
    "window.mainloop()"
   ]
  },
  {
   "cell_type": "code",
   "execution_count": null,
   "id": "11ea6812-5753-4ce1-9b70-5346c51fe964",
   "metadata": {},
   "outputs": [],
   "source": [
    "from tkinter import *\n",
    "\n",
    "window  = Tk()\n",
    "\n",
    "l1 = Label(window, text=\"화씨\")\n",
    "l2 = Label(window, text=\"섭씨\")\n",
    "l1.pack()\n",
    "l2.pack()\n",
    "\n",
    "e1 = Entry(window)\n",
    "e2 = Entry(window)\n",
    "e1.pack()\n",
    "e2.pack()\n",
    "\n",
    "b1 = Button(window, text=\"화씨->섭씨\")\n",
    "b2 = Button(window, text=\"섭씨->화씨\")\n",
    "b1.pack()\n",
    "b2.pack()\n",
    "\n",
    "window.mainloop( ) "
   ]
  },
  {
   "cell_type": "code",
   "execution_count": null,
   "id": "307021a1-ad52-4ce9-83bc-528b184fe91c",
   "metadata": {},
   "outputs": [],
   "source": [
    "from tkinter import *\n",
    "\n",
    "window  = Tk()\n",
    "\n",
    "l1 = Label(window , text=\"화씨\")\n",
    "l2 = Label(window, text=\"섭씨\")\n",
    "l1.grid(row=0, column=0)\n",
    "l2.grid(row=1, column=0)\n",
    "\n",
    "e1 = Entry(window)\n",
    "e2 = Entry(window)\n",
    "e1.grid(row=0, column=1)\n",
    "e2.grid(row=1, column=1)\n",
    "\n",
    "b1 = Button(window, text=\"화씨->섭씨\")\n",
    "b2 = Button(window, text=\"섭씨->화씨\")\n",
    "b1.grid(row=2, column=0)\n",
    "b2.grid(row=2, column=1)\n",
    "\n",
    "window.mainloop() "
   ]
  }
 ],
 "metadata": {
  "kernelspec": {
   "display_name": "Python 3 (ipykernel)",
   "language": "python",
   "name": "python3"
  },
  "language_info": {
   "codemirror_mode": {
    "name": "ipython",
    "version": 3
   },
   "file_extension": ".py",
   "mimetype": "text/x-python",
   "name": "python",
   "nbconvert_exporter": "python",
   "pygments_lexer": "ipython3",
   "version": "3.9.12"
  }
 },
 "nbformat": 4,
 "nbformat_minor": 5
}
