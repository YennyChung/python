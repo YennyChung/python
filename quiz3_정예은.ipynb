{
 "cells": [
  {
   "cell_type": "markdown",
   "id": "6e1d3e1a-b1e8-4f14-8a76-b8a2f1c2054a",
   "metadata": {},
   "source": [
    "퀴즈"
   ]
  },
  {
   "cell_type": "markdown",
   "id": "73cb55f6-f36b-4f77-bad4-ef7bcead5dea",
   "metadata": {},
   "source": [
    "#### 1. "
   ]
  },
  {
   "cell_type": "code",
   "execution_count": 1,
   "id": "cd0e4b2e-203e-44dc-9c80-d09038d11a80",
   "metadata": {},
   "outputs": [
    {
     "name": "stdout",
     "output_type": "stream",
     "text": [
      "<re.Match object; span=(2, 5), match='cde'>\n",
      "abcdefg\n"
     ]
    }
   ],
   "source": [
    "import re\n",
    "r=re.compile(\"c.e\")\n",
    "out = r.search('abcdefg')\n",
    "print(out)\n",
    "print(out.string)"
   ]
  },
  {
   "cell_type": "markdown",
   "id": "baa5361a-d221-44a8-b1f1-9889baf21b59",
   "metadata": {},
   "source": [
    "#### 2."
   ]
  },
  {
   "cell_type": "code",
   "execution_count": 4,
   "id": "dfcddc60-e371-453e-a179-41c59d21475b",
   "metadata": {},
   "outputs": [
    {
     "name": "stdout",
     "output_type": "stream",
     "text": [
      "a =  [0.85325558 0.44563687 0.36739735 0.4186488  0.09773171 0.16434856\n",
      " 0.04298631 0.69565719 0.04304782 0.44393614 0.99023984 0.79812181\n",
      " 0.10561498 0.84648638 0.19367873 0.05916904 0.5992015  0.26735305\n",
      " 0.36172134 0.38343496]\n",
      "최댓값:  0.9902398405237834\n",
      "최솟값:  0.04298631090677785\n",
      "평균값:  0.4088833981907022\n"
     ]
    }
   ],
   "source": [
    "import numpy as np\n",
    "a = np.random.random(20)\n",
    "print('a = ', a)\n",
    "print('최댓값: ', a.max())\n",
    "print('최솟값: ', a.min())\n",
    "print('평균값: ', a.mean())"
   ]
  },
  {
   "cell_type": "markdown",
   "id": "bb473182-2bc4-4151-b280-eb82daa09073",
   "metadata": {},
   "source": [
    "#### 3."
   ]
  },
  {
   "cell_type": "code",
   "execution_count": 7,
   "id": "af0a5bac-d7fb-4f38-b242-1eae31a64c52",
   "metadata": {},
   "outputs": [
    {
     "name": "stdout",
     "output_type": "stream",
     "text": [
      "[[10  9  8  7  6]\n",
      " [ 5  4  3  2  1]]\n"
     ]
    }
   ],
   "source": [
    "a = np.arange(1, 11)  # range와의 차이; range는 반복가능한 수열이 들어가있는 객체가 들어가있는 반면, arange()는 바로 배열로 출력된다는 특징; 원래는 1차원 배열\n",
    "a = a[::-1]  # reverse형태로 출력\n",
    "a = a.reshape(2,5)  # 행이 2개, 열이 5개인 형태로 변환\n",
    "print(a)"
   ]
  },
  {
   "cell_type": "markdown",
   "id": "a63adc4d-9209-46ca-af30-4e19f98fe873",
   "metadata": {},
   "source": [
    "#### 4."
   ]
  },
  {
   "cell_type": "code",
   "execution_count": 8,
   "id": "28a8c952-dbc5-4de0-9999-d6d953b967d2",
   "metadata": {},
   "outputs": [
    {
     "name": "stdout",
     "output_type": "stream",
     "text": [
      "[('Half', 'HALF'), ('of', 'OF'), ('my', 'MY'), ('heart', 'HEART'), ('is', 'IS'), ('in', 'IN'), ('Havana', 'HAVANA')]\n"
     ]
    }
   ],
   "source": [
    "lyrics = 'Half of my heart is in Havana'\n",
    "words = lyrics.split()\n",
    "word_list = []\n",
    "for w in words:\n",
    "    word_list.append((w, w.upper()))  # 튜플 형태로 들어가야하므로\n",
    "    \n",
    "print(word_list)"
   ]
  },
  {
   "cell_type": "markdown",
   "id": "52a9bca7-1c4c-4781-82b5-032046db4495",
   "metadata": {},
   "source": [
    "#### 5. "
   ]
  },
  {
   "cell_type": "code",
   "execution_count": 9,
   "id": "74d753af-d884-481f-afbe-da9260d44b1c",
   "metadata": {},
   "outputs": [
    {
     "name": "stdout",
     "output_type": "stream",
     "text": [
      "<re.Match object; span=(0, 4), match='abbc'>\n"
     ]
    }
   ],
   "source": [
    "import re\n",
    "r=re.compile(\"ab{2}c\")  # 정규표현식에서 {}가 들어가면 그 앞에 문자가 몇번 반복되는지 설정해줌\n",
    "print(r.search(\"abbcdeeee\"))"
   ]
  },
  {
   "cell_type": "markdown",
   "id": "84ef1181-2872-4f42-965e-213a37e625cd",
   "metadata": {},
   "source": [
    "#### 6. "
   ]
  },
  {
   "cell_type": "code",
   "execution_count": 10,
   "id": "3fa909f5-c841-4e79-9bd5-7d8e524d379e",
   "metadata": {},
   "outputs": [
    {
     "data": {
      "text/plain": [
       "array([[1, 2],\n",
       "       [3, 4],\n",
       "       [5, 6]])"
      ]
     },
     "execution_count": 10,
     "metadata": {},
     "output_type": "execute_result"
    }
   ],
   "source": [
    "import numpy as np\n",
    "a = range(1,7)\n",
    "np.array(a).reshape(3,2)"
   ]
  },
  {
   "cell_type": "markdown",
   "id": "e6e50528-7d00-42bf-ad14-f71318d2c340",
   "metadata": {},
   "source": [
    "#### 7. 정규표현식에서 ? (0또는1), * (0이상), + (1이상) 의 의미\n",
    "특히, 반복과 관련된 정규표현식 알기"
   ]
  },
  {
   "cell_type": "markdown",
   "id": "d8a84610-17ea-42ea-9448-b5c0059f87e9",
   "metadata": {},
   "source": [
    "#### 8. "
   ]
  },
  {
   "cell_type": "code",
   "execution_count": 13,
   "id": "5855e7b4-d20f-4ff0-bb19-a77d74bee04a",
   "metadata": {},
   "outputs": [
    {
     "name": "stdout",
     "output_type": "stream",
     "text": [
      "[6, 12, 18, 24, 30, 36, 42, 48, 54, 60, 66, 72, 78, 84, 90, 96]\n",
      "new_list = [6, 12, 18, 24, 30, 36, 42, 48, 54, 60, 66, 72, 78, 84, 90, 96]\n"
     ]
    }
   ],
   "source": [
    "new_list1 = list(range(6,101,6))\n",
    "print(new_list1)\n",
    "\n",
    "new_list = list(filter((lambda x: x % 6 == 0), range(1, 101)))  # filter 함수와 lambda 함수 사용; 이때만 true가 나올 것이므로, true가 나오는 값들을 리스트화\n",
    "print('new_list =', new_list)"
   ]
  },
  {
   "cell_type": "markdown",
   "id": "7882d696-9237-475d-9d16-8b1da72bf9f4",
   "metadata": {},
   "source": [
    "#### 9. "
   ]
  },
  {
   "cell_type": "code",
   "execution_count": 14,
   "id": "65eaa266-467f-4066-9801-d0c551b6e4d6",
   "metadata": {},
   "outputs": [
    {
     "data": {
      "text/plain": [
       "['ay', 'ay']"
      ]
     },
     "execution_count": 14,
     "metadata": {},
     "output_type": "execute_result"
    }
   ],
   "source": [
    "import re\n",
    "r = re.compile(\"[abc][y]\")  # 대괄호에 들어있는 것은, 들어있는 값들 중에 하나를 출력함 (a/b/c)\n",
    "r.findall(\"Today is Monday\")"
   ]
  },
  {
   "cell_type": "markdown",
   "id": "01c53005-37b1-47fa-b23e-bc4d69aacdb1",
   "metadata": {},
   "source": [
    "#### 10."
   ]
  },
  {
   "cell_type": "code",
   "execution_count": 15,
   "id": "63807617-7831-402b-9a81-5a03f7fcff16",
   "metadata": {},
   "outputs": [
    {
     "data": {
      "text/plain": [
       "<re.Match object; span=(0, 1), match='d'>"
      ]
     },
     "execution_count": 15,
     "metadata": {},
     "output_type": "execute_result"
    }
   ],
   "source": [
    "import re\n",
    "r = re.compile(\"[^abc]\")  # [^abc]대괄호 내에서의 ^의 의미; 시작할 때 문자열 중 a/b/c 제외한 다른 문자 출력, \n",
    "                          # ^abc의 의미; 문자열의 시작이 abc로 시작되는 패턴 찾기\n",
    "r.search(\"desk\")"
   ]
  },
  {
   "cell_type": "code",
   "execution_count": null,
   "id": "062a8f2a-ee58-4e9d-98e5-6d1e250f90c7",
   "metadata": {},
   "outputs": [],
   "source": [
    "shape(2,3,4)  # 2개의 차원에서, 3 * 4 행렬을 의미 (numpy에서)"
   ]
  },
  {
   "cell_type": "code",
   "execution_count": null,
   "id": "c9603ff6-10a9-48ea-9ef8-b75fa9cf7bae",
   "metadata": {},
   "outputs": [],
   "source": []
  }
 ],
 "metadata": {
  "kernelspec": {
   "display_name": "Python 3 (ipykernel)",
   "language": "python",
   "name": "python3"
  },
  "language_info": {
   "codemirror_mode": {
    "name": "ipython",
    "version": 3
   },
   "file_extension": ".py",
   "mimetype": "text/x-python",
   "name": "python",
   "nbconvert_exporter": "python",
   "pygments_lexer": "ipython3",
   "version": "3.9.12"
  }
 },
 "nbformat": 4,
 "nbformat_minor": 5
}
