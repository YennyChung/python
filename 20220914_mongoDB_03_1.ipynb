{
 "cells": [
  {
   "cell_type": "markdown",
   "id": "0d81ba46",
   "metadata": {
    "tags": []
   },
   "source": [
    "### cine21 사이트에서 배우 랭킹 정보 크롤링하기\n",
    "\n",
    "- http://www.cine21.com/rank/person 접속\n",
    "- 개발자 도구 실행(F12) \n",
    "- NetWork 탭 선택\n",
    "- Preserve log 선택(체크) 확인\n",
    "- All 선택 확인\n",
    "- 설정이 되어있지 않으면 위와 같이 설정하고\n",
    "- 개발자 도구를 닫은 후 다시 연다\n",
    "- cine21 화면 중에 \n",
    "- 집계기간 1개월| 6개월| 1년| 2년 <- 에서 6개월 선택\n",
    "- Name 밑에 나오는 목록 중에서 content 선택\n",
    "- 오른쪽 메뉴 중 Headers 선택\n",
    "- General 의 하위 목록 확인\n",
    "- Request URL: http://www.cine21.com/rank/person/content\n",
    "- Request Method: POST\n",
    "- Status Code: 200 OK\n",
    "- Remote Address: 115.68.232.4:80\n",
    "- Referrer Policy: strict-origin-when-cross-origin\n",
    "- 집계기간 1개월| 6개월| 1년| 2년 <- 에서 2년 선택\n",
    "- Name 밑에 나오는 목록 중에서 content 선택\n",
    "- 오른쪽 메뉴 중 Headers 선택\n",
    "- Request URL: http://www.cine21.com/rank/person/content\n",
    "- Request Method: POST\n",
    "- Status Code: 200 OK\n",
    "- Remote Address: 115.68.232.4:80\n",
    "- Referrer Policy: strict-origin-when-cross-origin\n",
    "- 오른쪽 메뉴 중 Payload 선택 및 확인\n",
    "- section: actor\n",
    "- period_start: 2020-09\n",
    "- gender: all\n",
    "- page: 1\n",
    "\n",
    "<br>\n",
    "\n",
    "- 사이트 주소 (URL) : http://www.cine21.com/rank/person\n",
    "- Request URL: http://www.cine21.com/rank/person/content\n",
    "\n",
    "- section: actor\n",
    "- period_start: 2020-09\n",
    "- gender: all\n",
    "- page: 1"
   ]
  },
  {
   "cell_type": "code",
   "execution_count": 1,
   "id": "39f7fa21",
   "metadata": {},
   "outputs": [],
   "source": [
    "import pymongo\n",
    "from bs4 import BeautifulSoup\n",
    "import requests\n",
    "import re"
   ]
  },
  {
   "cell_type": "code",
   "execution_count": 2,
   "id": "b8e91a71",
   "metadata": {},
   "outputs": [],
   "source": [
    "'''\n",
    "1) MongoDB 연결하기\n",
    "2) Database 생성하기\n",
    "3) Collection 생성하기\n",
    "'''\n",
    "conn = pymongo.MongoClient()\n",
    "cine = conn.cine\n",
    "collection_cine = cine.collection_cine"
   ]
  },
  {
   "cell_type": "code",
   "execution_count": 3,
   "id": "ae3ff324",
   "metadata": {},
   "outputs": [
    {
     "name": "stdout",
     "output_type": "stream",
     "text": [
      "{'section': 'actor', 'period_start': '2020-09', 'gender': 'all', 'page': 1}\n"
     ]
    }
   ],
   "source": [
    "'''\n",
    "crawling 할 URL 요청하기\n",
    "'''\n",
    "url = \"http://www.cine21.com/rank/person/content\"\n",
    "\n",
    "'''\n",
    "비어있는 dictionary 생성하기\n",
    "section: actor\n",
    "period_start: 2020-09\n",
    "gender: all\n",
    "page: 1\n",
    "'''\n",
    "post_data = {}\n",
    "post_data[\"section\"]=\"actor\"\n",
    "post_data[\"period_start\"]=\"2020-09\"\n",
    "post_data[\"gender\"]=\"all\"\n",
    "post_data[\"page\"]=1\n",
    "print(post_data)"
   ]
  },
  {
   "cell_type": "code",
   "execution_count": 4,
   "id": "5dd3c7b1",
   "metadata": {},
   "outputs": [
    {
     "name": "stdout",
     "output_type": "stream",
     "text": [
      "<Response [200]>\n"
     ]
    }
   ],
   "source": [
    "'''\n",
    "post 방식으로 request 보내기\n",
    "'''\n",
    "resp = requests.post(url, post_data)\n",
    "print(resp)"
   ]
  },
  {
   "cell_type": "code",
   "execution_count": 5,
   "id": "fb748c61",
   "metadata": {},
   "outputs": [
    {
     "data": {
      "text/plain": [
       "b'\\t\\t\\t<ul class=\"people_list\">\\r\\n\\t\\t\\t\\t<li class=\"people_li\">\\r\\n\\t\\t\\t\\t\\t<a href=\"/db/person/info/?person_id=15222\"><img src=\"https://image.cine21.com/resize/cine21/still/2017/1207/14_33_48__5a28d2bcb1647[X145,145].jpg\" alt=\"\" class=\"people_thumb\" target=\"_blank\" /></a>\\r\\n\\t\\t\\t\\t\\t<div class=\"name\"><a href=\"/db/person/info/?person_id=15222\">\\xeb\\xb0\\x95\\xed\\x95\\xb4\\xec\\x9d\\xbc(5\\xed\\x8e\\xb8)</a></div>\\r\\n\\t\\t\\t\\t\\t<ul class=\"num_info\">\\r\\n\\t\\t\\t\\t\\t\\t<li><span class=\"tit\">\\xed\\x9d\\xa5\\xed\\x96\\x89\\xec\\xa7\\x80\\xec\\x88\\x98</span><strong>23,925</strong></li>\\r\\n\\t\\t\\t\\t\\t\\t<!--\\r\\n\\t\\t\\t\\t\\t\\t<li><a href=\"#\" class=\"btn_graph\"><span class=\"ico\"></span><span>\\xed\\x9d\\xa5\\xed\\x96\\x89\\xec\\x84\\xb1\\xec\\xa0\\x81<br />\\xea\\xb7\\xb8\\xeb\\x9e\\x98\\xed\\x94\\x84\\xeb\\xa1\\x9c \\xeb\\xb3\\xb4\\xea\\xb8\\xb0</span></a></li>\\r\\n\\t\\t\\t\\t\\t\\t-->\\r\\n\\t\\t\\t\\t\\t</ul>\\r\\n\\t\\t\\t\\t\\t<!-- \\xec\\x98\\x81\\xed\\x99\\x94\\xed\\x8f\\xac\\xec\\x8a\\xa4\\xed\\x84\\xb0\\xeb\\x8a\\x94 \\xec\\xb5\\x9c\\xeb\\x8c\\x80 5\\xea\\xb0\\x9c\\xea\\xb9\\x8c\\xec\\xa7\\x80\\xeb\\xa7\\x8c -->\\r\\n\\t\\t\\t\\t\\t<ul class=\"mov_list\">\\r\\n\\t\\t\\t\\t\\t\\t\\r\\n\\t\\t\\t\\t\\t\\t\\t<li>\\r\\n\\t\\t\\t\\t\\t\\t\\t\\t<a href=\"/movie/info/?movie_id=56294\">\\r\\n\\t\\t\\t\\t\\t\\t\\t\\t\\t<img src=\"https://image.cine21.com/resize/cine21/poster/2022/0727/16_21_10__62e0e76663483[X85,120].jpg\" alt=\"\" class=\"thumb\"  target=\"_blank\" />\\r\\n\\t\\t\\t\\t\\t\\t\\t\\t\\t<span>\\xed\\x95\\x9c\\xec\\x82\\xb0: \\xec\\x9a\\xa9\\xec\\x9d\\x98 \\xec\\xb6\\x9c\\xed\\x98\\x84</span>\\r\\n\\t\\t\\t\\t\\t\\t\\t\\t</a>\\r\\n\\t\\t\\t\\t\\t\\t\\t</li>\\r\\n\\t\\t\\t\\t\\t\\t\\r\\n\\t\\t\\t\\t\\t\\t\\t<li>\\r\\n\\t\\t\\t\\t\\t\\t\\t\\t<a href=\"/movie/info/?movie_id=56942\">\\r\\n\\t\\t\\t\\t\\t\\t\\t\\t\\t<img src=\"https://image.cine21.com/resize/cine21/poster/2022/0610/09_59_51__62a2978774d80[X85,120].jpg\" alt=\"\" class=\"thumb\"  target=\"_blank\" />\\r\\n\\t\\t\\t\\t\\t\\t\\t\\t\\t<span>\\xed\\x97\\xa4\\xec\\x96\\xb4\\xec\\xa7\\x88 \\xea\\xb2\\xb0\\xec\\x8b\\xac</span>\\r\\n\\t\\t\\t\\t\\t\\t\\t\\t</a>\\r\\n\\t\\t\\t\\t\\t\\t\\t</li>\\r\\n\\t\\t\\t\\t\\t\\t\\r\\n\\t\\t\\t\\t\\t\\t\\t<li>\\r\\n\\t\\t\\t\\t\\t\\t\\t\\t<a href=\"/movie/info/?movie_id=5339\">\\r\\n\\t\\t\\t\\t\\t\\t\\t\\t\\t<img src=\"https://image.cine21.com/resize/IMGDB/poster/2001/0904/large/172328_01[X85,120].jpg\" alt=\"\" class=\"thumb\"  target=\"_blank\" />\\r\\n\\t\\t\\t\\t\\t\\t\\t\\t\\t<span>\\xec\\x99\\x80\\xec\\x9d\\xb4\\xed\\x82\\xa4\\xed\\x82\\xa4 \\xeb\\xb8\\x8c\\xeb\\x9d\\xbc\\xeb\\x8d\\x94\\xec\\x8a\\xa4</span>\\r\\n\\t\\t\\t\\t\\t\\t\\t\\t</a>\\r\\n\\t\\t\\t\\t\\t\\t\\t</li>\\r\\n\\t\\t\\t\\t\\t\\t\\r\\n\\t\\t\\t\\t\\t\\t\\t<li>\\r\\n\\t\\t\\t\\t\\t\\t\\t\\t<a href=\"/movie/info/?movie_id=42462\">\\r\\n\\t\\t\\t\\t\\t\\t\\t\\t\\t<img src=\"https://image.cine21.com/resize/cine21/poster/2014/0828/11_07_03__53fe8ec73db63[X85,120].jpg\" alt=\"\" class=\"thumb\"  target=\"_blank\" />\\r\\n\\t\\t\\t\\t\\t\\t\\t\\t\\t<span>\\xec\\xa0\\x9c\\xeb\\xb3\\xb4\\xec\\x9e\\x90</span>\\r\\n\\t\\t\\t\\t\\t\\t\\t\\t</a>\\r\\n\\t\\t\\t\\t\\t\\t\\t</li>\\r\\n\\t\\t\\t\\t\\t\\t\\r\\n\\t\\t\\t\\t\\t\\t\\t<li>\\r\\n\\t\\t\\t\\t\\t\\t\\t\\t<a href=\"/movie/info/?movie_id=5563\">\\r\\n\\t\\t\\t\\t\\t\\t\\t\\t\\t<img src=\"https://image.cine21.com/resize/IMGDB/poster/2002/0423/large/171611_whoar[X85,120].JPG\" alt=\"\" class=\"thumb\"  target=\"_blank\" />\\r\\n\\t\\t\\t\\t\\t\\t\\t\\t\\t<span>\\xed\\x9b\\x84\\xec\\x95\\x84\\xec\\x9c\\xa0</span>\\r\\n\\t\\t\\t\\t\\t\\t\\t\\t</a>\\r\\n\\t\\t\\t\\t\\t\\t\\t</li>\\r\\n\\t\\t\\t\\t\\t\\t\\t\\t\\t\\t\\t</ul>\\r\\n\\t\\t\\t\\t\\t<!-- \\xec\\x88\\x9c\\xec\\x9c\\x84 --><span class=\"grade\">1</span>\\r\\n\\t\\t\\t\\t</li>\\r\\n\\t\\t\\t\\t<li class=\"people_li\">\\r\\n\\t\\t\\t\\t\\t<a href=\"/db/person/info/?person_id=35760\"><img src=\"https://image.cine21.com/resize/cine21/still/2018/1109/15_34_44__5be52a8406f49[X145,145].jpg\" alt=\"\" class=\"people_thumb\" target=\"_blank\" /></a>\\r\\n\\t\\t\\t\\t\\t<div class=\"name\"><a href=\"/db/person/info/?person_id=35760\">\\xeb\\xb0\\x95\\xec\\xa7\\x80\\xed\\x99\\x98(7\\xed\\x8e\\xb8)</a></div>\\r\\n\\t\\t\\t\\t\\t<ul class=\"num_info\">\\r\\n\\t\\t\\t\\t\\t\\t<li><span class=\"tit\">\\xed\\x9d\\xa5\\xed\\x96\\x89\\xec\\xa7\\x80\\xec\\x88\\x98</span><strong>22,069</strong></li>\\r\\n\\t\\t\\t\\t\\t\\t<!--\\r\\n\\t\\t\\t\\t\\t\\t<li><a href=\"#\" class=\"btn_graph\"><span class=\"ico\"></span><span>\\xed\\x9d\\xa5\\xed\\x96\\x89\\xec\\x84\\xb1\\xec\\xa0\\x81<br />\\xea\\xb7\\xb8\\xeb\\x9e\\x98\\xed\\x94\\x84\\xeb\\xa1\\x9c \\xeb\\xb3\\xb4\\xea\\xb8\\xb0</span></a></li>\\r\\n\\t\\t\\t\\t\\t\\t-->\\r\\n\\t\\t\\t\\t\\t</ul>\\r\\n\\t\\t\\t\\t\\t<!-- \\xec\\x98\\x81\\xed\\x99\\x94\\xed\\x8f\\xac\\xec\\x8a\\xa4\\xed\\x84\\xb0\\xeb\\x8a\\x94 \\xec\\xb5\\x9c\\xeb\\x8c\\x80 5\\xea\\xb0\\x9c\\xea\\xb9\\x8c\\xec\\xa7\\x80\\xeb\\xa7\\x8c -->\\r\\n\\t\\t\\t\\t\\t<ul class=\"mov_list\">\\r\\n\\t\\t\\t\\t\\t\\t\\r\\n\\t\\t\\t\\t\\t\\t\\t<li>\\r\\n\\t\\t\\t\\t\\t\\t\\t\\t<a href=\"/movie/info/?movie_id=55870\">\\r\\n\\t\\t\\t\\t\\t\\t\\t\\t\\t<img src=\"https://image.cine21.com/resize/cine21/poster/2021/1124/15_30_55__619ddc1f43617[X85,120].jpg\" alt=\"\" class=\"thumb\"  target=\"_blank\" />\\r\\n\\t\\t\\t\\t\\t\\t\\t\\t\\t<span>\\xec\\x9c\\xa0\\xec\\xb2\\xb4\\xec\\x9d\\xb4\\xed\\x83\\x88\\xec\\x9e\\x90</span>\\r\\n\\t\\t\\t\\t\\t\\t\\t\\t</a>\\r\\n\\t\\t\\t\\t\\t\\t\\t</li>\\r\\n\\t\\t\\t\\t\\t\\t\\r\\n\\t\\t\\t\\t\\t\\t\\t<li>\\r\\n\\t\\t\\t\\t\\t\\t\\t\\t<a href=\"/movie/info/?movie_id=56294\">\\r\\n\\t\\t\\t\\t\\t\\t\\t\\t\\t<img src=\"https://image.cine21.com/resize/cine21/poster/2022/0727/16_21_10__62e0e76663483[X85,120].jpg\" alt=\"\" class=\"thumb\"  target=\"_blank\" />\\r\\n\\t\\t\\t\\t\\t\\t\\t\\t\\t<span>\\xed\\x95\\x9c\\xec\\x82\\xb0: \\xec\\x9a\\xa9\\xec\\x9d\\x98 \\xec\\xb6\\x9c\\xed\\x98\\x84</span>\\r\\n\\t\\t\\t\\t\\t\\t\\t\\t</a>\\r\\n\\t\\t\\t\\t\\t\\t\\t</li>\\r\\n\\t\\t\\t\\t\\t\\t\\r\\n\\t\\t\\t\\t\\t\\t\\t<li>\\r\\n\\t\\t\\t\\t\\t\\t\\t\\t<a href=\"/movie/info/?movie_id=56540\">\\r\\n\\t\\t\\t\\t\\t\\t\\t\\t\\t<img src=\"https://image.cine21.com/resize/cine21/poster/2022/0127/56540_61f1fcfdd84ce[X85,120].jpg\" alt=\"\" class=\"thumb\"  target=\"_blank\" />\\r\\n\\t\\t\\t\\t\\t\\t\\t\\t\\t<span>\\xed\\x95\\xb4\\xec\\xa0\\x81: \\xeb\\x8f\\x84\\xea\\xb9\\xa8\\xeb\\xb9\\x84 \\xea\\xb9\\x83\\xeb\\xb0\\x9c</span>\\r\\n\\t\\t\\t\\t\\t\\t\\t\\t</a>\\r\\n\\t\\t\\t\\t\\t\\t\\t</li>\\r\\n\\t\\t\\t\\t\\t\\t\\r\\n\\t\\t\\t\\t\\t\\t\\t<li>\\r\\n\\t\\t\\t\\t\\t\\t\\t\\t<a href=\"/movie/info/?movie_id=54143\">\\r\\n\\t\\t\\t\\t\\t\\t\\t\\t\\t<img src=\"https://image.cine21.com/resize/cine21/poster/2020/0212/16_42_16__5e43ac5844ca0[X85,120].jpg\" alt=\"\" class=\"thumb\"  target=\"_blank\" />\\r\\n\\t\\t\\t\\t\\t\\t\\t\\t\\t<span>\\xec\\xa7\\x80\\xed\\x91\\xb8\\xeb\\x9d\\xbc\\xea\\xb8\\xb0\\xeb\\x9d\\xbc\\xeb\\x8f\\x84 \\xec\\x9e\\xa1\\xea\\xb3\\xa0 \\xec\\x8b\\xb6\\xec\\x9d\\x80 \\xec\\xa7\\x90\\xec\\x8a\\xb9\\xeb\\x93\\xa4</span>\\r\\n\\t\\t\\t\\t\\t\\t\\t\\t</a>\\r\\n\\t\\t\\t\\t\\t\\t\\t</li>\\r\\n\\t\\t\\t\\t\\t\\t\\r\\n\\t\\t\\t\\t\\t\\t\\t<li>\\r\\n\\t\\t\\t\\t\\t\\t\\t\\t<a href=\"/movie/info/?movie_id=57360\">\\r\\n\\t\\t\\t\\t\\t\\t\\t\\t\\t<img src=\"https://image.cine21.com/resize/cine21/poster/2022/0516/57360_6281aab962751[X85,120].jpg\" alt=\"\" class=\"thumb\"  target=\"_blank\" />\\r\\n\\t\\t\\t\\t\\t\\t\\t\\t\\t<span>\\xeb\\xb2\\x94\\xec\\xa3\\x84\\xeb\\x8f\\x84\\xec\\x8b\\x9c2</span>\\r\\n\\t\\t\\t\\t\\t\\t\\t\\t</a>\\r\\n\\t\\t\\t\\t\\t\\t\\t</li>\\r\\n\\t\\t\\t\\t\\t\\t\\r\\n\\t\\t\\t\\t\\t\\t\\t<li>\\r\\n\\t\\t\\t\\t\\t\\t\\t\\t<a href=\"/movie/info/?movie_id=53190\">\\r\\n\\t\\t\\t\\t\\t\\t\\t\\t\\t<img src=\"https://image.cine21.com/resize/cine21/poster/2019/0719/14_52_14__5d315a8eb420c[X85,120].jpg\" alt=\"\" class=\"thumb\"  target=\"_blank\" />\\r\\n\\t\\t\\t\\t\\t\\t\\t\\t\\t<span>\\xeb\\xb4\\x89\\xec\\x98\\xa4\\xeb\\x8f\\x99 \\xec\\xa0\\x84\\xed\\x88\\xac</span>\\r\\n\\t\\t\\t\\t\\t\\t\\t\\t</a>\\r\\n\\t\\t\\t\\t\\t\\t\\t</li>\\r\\n\\t\\t\\t\\t\\t\\t\\t\\t\\t\\t\\t</ul>\\r\\n\\t\\t\\t\\t\\t<!-- \\xec\\x88\\x9c\\xec\\x9c\\x84 --><span class=\"grade\">2</span>\\r\\n\\t\\t\\t\\t</li>\\r\\n\\t\\t\\t\\t<li class=\"people_li\">\\r\\n\\t\\t\\t\\t\\t<a href=\"/db/person/info/?person_id=104968\"><img src=\"https://image.cine21.com/resize/cine21/person/2018/1221/16_14_38__5c1c92de36057[X145,145].png\" alt=\"\" class=\"people_thumb\" target=\"_blank\" /></a>\\r\\n\\t\\t\\t\\t\\t<div class=\"name\"><a href=\"/db/person/info/?person_id=104968\">\\xec\\x86\\x90\\xec\\x84\\x9d\\xea\\xb5\\xac(3\\xed\\x8e\\xb8)</a></div>\\r\\n\\t\\t\\t\\t\\t<ul class=\"num_info\">\\r\\n\\t\\t\\t\\t\\t\\t<li><span class=\"tit\">\\xed\\x9d\\xa5\\xed\\x96\\x89\\xec\\xa7\\x80\\xec\\x88\\x98</span><strong>21,422</strong></li>\\r\\n\\t\\t\\t\\t\\t\\t<!--\\r\\n\\t\\t\\t\\t\\t\\t<li><a href=\"#\" class=\"btn_graph\"><span class=\"ico\"></span><span>\\xed\\x9d\\xa5\\xed\\x96\\x89\\xec\\x84\\xb1\\xec\\xa0\\x81<br />\\xea\\xb7\\xb8\\xeb\\x9e\\x98\\xed\\x94\\x84\\xeb\\xa1\\x9c \\xeb\\xb3\\xb4\\xea\\xb8\\xb0</span></a></li>\\r\\n\\t\\t\\t\\t\\t\\t-->\\r\\n\\t\\t\\t\\t\\t</ul>\\r\\n\\t\\t\\t\\t\\t<!-- \\xec\\x98\\x81\\xed\\x99\\x94\\xed\\x8f\\xac\\xec\\x8a\\xa4\\xed\\x84\\xb0\\xeb\\x8a\\x94 \\xec\\xb5\\x9c\\xeb\\x8c\\x80 5\\xea\\xb0\\x9c\\xea\\xb9\\x8c\\xec\\xa7\\x80\\xeb\\xa7\\x8c -->\\r\\n\\t\\t\\t\\t\\t<ul class=\"mov_list\">\\r\\n\\t\\t\\t\\t\\t\\t\\r\\n\\t\\t\\t\\t\\t\\t\\t<li>\\r\\n\\t\\t\\t\\t\\t\\t\\t\\t<a href=\"/movie/info/?movie_id=57360\">\\r\\n\\t\\t\\t\\t\\t\\t\\t\\t\\t<img src=\"https://image.cine21.com/resize/cine21/poster/2022/0516/57360_6281aab962751[X85,120].jpg\" alt=\"\" class=\"thumb\"  target=\"_blank\" />\\r\\n\\t\\t\\t\\t\\t\\t\\t\\t\\t<span>\\xeb\\xb2\\x94\\xec\\xa3\\x84\\xeb\\x8f\\x84\\xec\\x8b\\x9c2</span>\\r\\n\\t\\t\\t\\t\\t\\t\\t\\t</a>\\r\\n\\t\\t\\t\\t\\t\\t\\t</li>\\r\\n\\t\\t\\t\\t\\t\\t\\r\\n\\t\\t\\t\\t\\t\\t\\t<li>\\r\\n\\t\\t\\t\\t\\t\\t\\t\\t<a href=\"/movie/info/?movie_id=56770\">\\r\\n\\t\\t\\t\\t\\t\\t\\t\\t\\t<img src=\"https://image.cine21.com/resize/cine21/poster/2021/1109/10_13_41__6189cb45461ce[X85,120].jpg\" alt=\"\" class=\"thumb\"  target=\"_blank\" />\\r\\n\\t\\t\\t\\t\\t\\t\\t\\t\\t<span>\\xec\\x97\\xb0\\xec\\x95\\xa0 \\xeb\\xb9\\xa0\\xec\\xa7\\x84 \\xeb\\xa1\\x9c\\xeb\\xa7\\xa8\\xec\\x8a\\xa4</span>\\r\\n\\t\\t\\t\\t\\t\\t\\t\\t</a>\\r\\n\\t\\t\\t\\t\\t\\t\\t</li>\\r\\n\\t\\t\\t\\t\\t\\t\\r\\n\\t\\t\\t\\t\\t\\t\\t<li>\\r\\n\\t\\t\\t\\t\\t\\t\\t\\t<a href=\"/movie/info/?movie_id=52268\">\\r\\n\\t\\t\\t\\t\\t\\t\\t\\t\\t<img src=\"https://image.cine21.com/resize/cine21/poster/2019/0118/14_39_42__5c41669e93ed7[X85,120].jpg\" alt=\"\" class=\"thumb\"  target=\"_blank\" />\\r\\n\\t\\t\\t\\t\\t\\t\\t\\t\\t<span>\\xeb\\xba\\x91\\xeb\\xb0\\x98</span>\\r\\n\\t\\t\\t\\t\\t\\t\\t\\t</a>\\r\\n\\t\\t\\t\\t\\t\\t\\t</li>\\r\\n\\t\\t\\t\\t\\t\\t\\t\\t\\t\\t\\t</ul>\\r\\n\\t\\t\\t\\t\\t<!-- \\xec\\x88\\x9c\\xec\\x9c\\x84 --><span class=\"grade\">3</span>\\r\\n\\t\\t\\t\\t</li>\\r\\n\\t\\t\\t\\t<li class=\"people_li\">\\r\\n\\t\\t\\t\\t\\t<a href=\"/db/person/info/?person_id=20745\"><img src=\"https://image.cine21.com/resize/cine21/still/2017/1212/10_50_28__5a2f35e412a6b[X145,145].jpg\" alt=\"\" class=\"people_thumb\" target=\"_blank\" /></a>\\r\\n\\t\\t\\t\\t\\t<div class=\"name\"><a href=\"/db/person/info/?person_id=20745\">\\xed\\x98\\x84\\xeb\\xb9\\x88(4\\xed\\x8e\\xb8)</a></div>\\r\\n\\t\\t\\t\\t\\t<ul class=\"num_info\">\\r\\n\\t\\t\\t\\t\\t\\t<li><span class=\"tit\">\\xed\\x9d\\xa5\\xed\\x96\\x89\\xec\\xa7\\x80\\xec\\x88\\x98</span><strong>18,211</strong></li>\\r\\n\\t\\t\\t\\t\\t\\t<!--\\r\\n\\t\\t\\t\\t\\t\\t<li><a href=\"#\" class=\"btn_graph\"><span class=\"ico\"></span><span>\\xed\\x9d\\xa5\\xed\\x96\\x89\\xec\\x84\\xb1\\xec\\xa0\\x81<br />\\xea\\xb7\\xb8\\xeb\\x9e\\x98\\xed\\x94\\x84\\xeb\\xa1\\x9c \\xeb\\xb3\\xb4\\xea\\xb8\\xb0</span></a></li>\\r\\n\\t\\t\\t\\t\\t\\t-->\\r\\n\\t\\t\\t\\t\\t</ul>\\r\\n\\t\\t\\t\\t\\t<!-- \\xec\\x98\\x81\\xed\\x99\\x94\\xed\\x8f\\xac\\xec\\x8a\\xa4\\xed\\x84\\xb0\\xeb\\x8a\\x94 \\xec\\xb5\\x9c\\xeb\\x8c\\x80 5\\xea\\xb0\\x9c\\xea\\xb9\\x8c\\xec\\xa7\\x80\\xeb\\xa7\\x8c -->\\r\\n\\t\\t\\t\\t\\t<ul class=\"mov_list\">\\r\\n\\t\\t\\t\\t\\t\\t\\r\\n\\t\\t\\t\\t\\t\\t\\t<li>\\r\\n\\t\\t\\t\\t\\t\\t\\t\\t<a href=\"/movie/info/?movie_id=57553\">\\r\\n\\t\\t\\t\\t\\t\\t\\t\\t\\t<img src=\"https://image.cine21.com/resize/cine21/poster/2022/0826/12_30_09__63083e410eb65[X85,120].jpg\" alt=\"\" class=\"thumb\"  target=\"_blank\" />\\r\\n\\t\\t\\t\\t\\t\\t\\t\\t\\t<span>\\xea\\xb3\\xb5\\xec\\xa1\\xb02: \\xec\\x9d\\xb8\\xed\\x84\\xb0\\xeb\\x82\\xb4\\xec\\x85\\x94\\xeb\\x82\\xa0</span>\\r\\n\\t\\t\\t\\t\\t\\t\\t\\t</a>\\r\\n\\t\\t\\t\\t\\t\\t\\t</li>\\r\\n\\t\\t\\t\\t\\t\\t\\r\\n\\t\\t\\t\\t\\t\\t\\t<li>\\r\\n\\t\\t\\t\\t\\t\\t\\t\\t<a href=\"/movie/info/?movie_id=27981\">\\r\\n\\t\\t\\t\\t\\t\\t\\t\\t\\t<img src=\"https://image.cine21.com/resize/cine21/poster/2011/0124/27981_4d3cdea8cbdb4_main_poster_2[X85,120].jpg\" alt=\"\" class=\"thumb\"  target=\"_blank\" />\\r\\n\\t\\t\\t\\t\\t\\t\\t\\t\\t<span>\\xeb\\xa7\\x8c\\xec\\xb6\\x94</span>\\r\\n\\t\\t\\t\\t\\t\\t\\t\\t</a>\\r\\n\\t\\t\\t\\t\\t\\t\\t</li>\\r\\n\\t\\t\\t\\t\\t\\t\\r\\n\\t\\t\\t\\t\\t\\t\\t<li>\\r\\n\\t\\t\\t\\t\\t\\t\\t\\t<a href=\"/movie/info/?movie_id=50888\">\\r\\n\\t\\t\\t\\t\\t\\t\\t\\t\\t<img src=\"https://image.cine21.com/resize/cine21/poster/2018/0828/15_16_26__5b84e8baf32bc[X85,120].jpg\" alt=\"\" class=\"thumb\"  target=\"_blank\" />\\r\\n\\t\\t\\t\\t\\t\\t\\t\\t\\t<span>\\xed\\x98\\x91\\xec\\x83\\x81</span>\\r\\n\\t\\t\\t\\t\\t\\t\\t\\t</a>\\r\\n\\t\\t\\t\\t\\t\\t\\t</li>\\r\\n\\t\\t\\t\\t\\t\\t\\r\\n\\t\\t\\t\\t\\t\\t\\t<li>\\r\\n\\t\\t\\t\\t\\t\\t\\t\\t<a href=\"/movie/info/?movie_id=47462\">\\r\\n\\t\\t\\t\\t\\t\\t\\t\\t\\t<img src=\"https://image.cine21.com/resize/cine21/poster/2017/0118/10_40_01__587ec771f2e55[X85,120].jpg\" alt=\"\" class=\"thumb\"  target=\"_blank\" />\\r\\n\\t\\t\\t\\t\\t\\t\\t\\t\\t<span>\\xea\\xb3\\xb5\\xec\\xa1\\xb0</span>\\r\\n\\t\\t\\t\\t\\t\\t\\t\\t</a>\\r\\n\\t\\t\\t\\t\\t\\t\\t</li>\\r\\n\\t\\t\\t\\t\\t\\t\\t\\t\\t\\t\\t</ul>\\r\\n\\t\\t\\t\\t\\t<!-- \\xec\\x88\\x9c\\xec\\x9c\\x84 --><span class=\"grade\">4</span>\\r\\n\\t\\t\\t\\t</li>\\r\\n\\t\\t\\t\\t<li class=\"people_li\">\\r\\n\\t\\t\\t\\t\\t<a href=\"/db/person/info/?person_id=102264\"><img src=\"https://image.cine21.com/resize/cine21/still/2019/0508/14_37_06__5cd26b02c5b8c[X145,145].jpg\" alt=\"\" class=\"people_thumb\" target=\"_blank\" /></a>\\r\\n\\t\\t\\t\\t\\t<div class=\"name\"><a href=\"/db/person/info/?person_id=102264\">\\xec\\xb5\\x9c\\xea\\xb7\\x80\\xed\\x99\\x94(6\\xed\\x8e\\xb8)</a></div>\\r\\n\\t\\t\\t\\t\\t<ul class=\"num_info\">\\r\\n\\t\\t\\t\\t\\t\\t<li><span class=\"tit\">\\xed\\x9d\\xa5\\xed\\x96\\x89\\xec\\xa7\\x80\\xec\\x88\\x98</span><strong>18,131</strong></li>\\r\\n\\t\\t\\t\\t\\t\\t<!--\\r\\n\\t\\t\\t\\t\\t\\t<li><a href=\"#\" class=\"btn_graph\"><span class=\"ico\"></span><span>\\xed\\x9d\\xa5\\xed\\x96\\x89\\xec\\x84\\xb1\\xec\\xa0\\x81<br />\\xea\\xb7\\xb8\\xeb\\x9e\\x98\\xed\\x94\\x84\\xeb\\xa1\\x9c \\xeb\\xb3\\xb4\\xea\\xb8\\xb0</span></a></li>\\r\\n\\t\\t\\t\\t\\t\\t-->\\r\\n\\t\\t\\t\\t\\t</ul>\\r\\n\\t\\t\\t\\t\\t<!-- \\xec\\x98\\x81\\xed\\x99\\x94\\xed\\x8f\\xac\\xec\\x8a\\xa4\\xed\\x84\\xb0\\xeb\\x8a\\x94 \\xec\\xb5\\x9c\\xeb\\x8c\\x80 5\\xea\\xb0\\x9c\\xea\\xb9\\x8c\\xec\\xa7\\x80\\xeb\\xa7\\x8c -->\\r\\n\\t\\t\\t\\t\\t<ul class=\"mov_list\">\\r\\n\\t\\t\\t\\t\\t\\t\\r\\n\\t\\t\\t\\t\\t\\t\\t<li>\\r\\n\\t\\t\\t\\t\\t\\t\\t\\t<a href=\"/movie/info/?movie_id=58977\">\\r\\n\\t\\t\\t\\t\\t\\t\\t\\t\\t<img src=\"https://image.cine21.com/resize/cine21/poster/2022/0404/09_56_54__624a4256c7855[X85,120].jpg\" alt=\"\" class=\"thumb\"  target=\"_blank\" />\\r\\n\\t\\t\\t\\t\\t\\t\\t\\t\\t<span>\\xeb\\xb6\\x80\\xea\\xb8\\xb0\\xeb\\x82\\x98\\xec\\x9d\\xb4\\xed\\x8a\\xb8</span>\\r\\n\\t\\t\\t\\t\\t\\t\\t\\t</a>\\r\\n\\t\\t\\t\\t\\t\\t\\t</li>\\r\\n\\t\\t\\t\\t\\t\\t\\r\\n\\t\\t\\t\\t\\t\\t\\t<li>\\r\\n\\t\\t\\t\\t\\t\\t\\t\\t<a href=\"/movie/info/?movie_id=54138\">\\r\\n\\t\\t\\t\\t\\t\\t\\t\\t\\t<img src=\"https://image.cine21.com/resize/cine21/poster/2019/0617/14_48_37__5d0729b595623[X85,120].jpg\" alt=\"\" class=\"thumb\"  target=\"_blank\" />\\r\\n\\t\\t\\t\\t\\t\\t\\t\\t\\t<span>\\xea\\xb8\\xb0\\xeb\\xb0\\xa9\\xeb\\x8f\\x84\\xeb\\xa0\\xb9</span>\\r\\n\\t\\t\\t\\t\\t\\t\\t\\t</a>\\r\\n\\t\\t\\t\\t\\t\\t\\t</li>\\r\\n\\t\\t\\t\\t\\t\\t\\r\\n\\t\\t\\t\\t\\t\\t\\t<li>\\r\\n\\t\\t\\t\\t\\t\\t\\t\\t<a href=\"/movie/info/?movie_id=57360\">\\r\\n\\t\\t\\t\\t\\t\\t\\t\\t\\t<img src=\"https://image.cine21.com/resize/cine21/poster/2022/0516/57360_6281aab962751[X85,120].jpg\" alt=\"\" class=\"thumb\"  target=\"_blank\" />\\r\\n\\t\\t\\t\\t\\t\\t\\t\\t\\t<span>\\xeb\\xb2\\x94\\xec\\xa3\\x84\\xeb\\x8f\\x84\\xec\\x8b\\x9c2</span>\\r\\n\\t\\t\\t\\t\\t\\t\\t\\t</a>\\r\\n\\t\\t\\t\\t\\t\\t\\t</li>\\r\\n\\t\\t\\t\\t\\t\\t\\r\\n\\t\\t\\t\\t\\t\\t\\t<li>\\r\\n\\t\\t\\t\\t\\t\\t\\t\\t<a href=\"/movie/info/?movie_id=48579\">\\r\\n\\t\\t\\t\\t\\t\\t\\t\\t\\t<img src=\"https://image.cine21.com/resize/cine21/poster/2018/1005/11_30_24__5bb6ccc0c692d[X85,120].jpg\" alt=\"\" class=\"thumb\"  target=\"_blank\" />\\r\\n\\t\\t\\t\\t\\t\\t\\t\\t\\t<span>\\xec\\x9b\\x90\\xeb\\x8d\\x94\\xed\\x92\\x80 \\xea\\xb3\\xa0\\xec\\x8a\\xa4\\xed\\x8a\\xb8</span>\\r\\n\\t\\t\\t\\t\\t\\t\\t\\t</a>\\r\\n\\t\\t\\t\\t\\t\\t\\t</li>\\r\\n\\t\\t\\t\\t\\t\\t\\r\\n\\t\\t\\t\\t\\t\\t\\t<li>\\r\\n\\t\\t\\t\\t\\t\\t\\t\\t<a href=\"/movie/info/?movie_id=48137\">\\r\\n\\t\\t\\t\\t\\t\\t\\t\\t\\t<img src=\"https://image.cine21.com/resize/cine21/poster/2017/0717/48137_596c09e193c19[X85,120].jpg\" alt=\"\" class=\"thumb\"  target=\"_blank\" />\\r\\n\\t\\t\\t\\t\\t\\t\\t\\t\\t<span>\\xed\\x83\\x9d\\xec\\x8b\\x9c\\xec\\x9a\\xb4\\xec\\xa0\\x84\\xec\\x82\\xac</span>\\r\\n\\t\\t\\t\\t\\t\\t\\t\\t</a>\\r\\n\\t\\t\\t\\t\\t\\t\\t</li>\\r\\n\\t\\t\\t\\t\\t\\t\\r\\n\\t\\t\\t\\t\\t\\t\\t<li>\\r\\n\\t\\t\\t\\t\\t\\t\\t\\t<a href=\"/movie/info/?movie_id=45255\">\\r\\n\\t\\t\\t\\t\\t\\t\\t\\t\\t<img src=\"https://image.cine21.com/resize/cine21/poster/2017/0206/45255_5897dcefc3631[X85,120].jpg\" alt=\"\" class=\"thumb\"  target=\"_blank\" />\\r\\n\\t\\t\\t\\t\\t\\t\\t\\t\\t<span>\\xec\\xa1\\xb0\\xec\\x9e\\x91\\xeb\\x90\\x9c \\xeb\\x8f\\x84\\xec\\x8b\\x9c</span>\\r\\n\\t\\t\\t\\t\\t\\t\\t\\t</a>\\r\\n\\t\\t\\t\\t\\t\\t\\t</li>\\r\\n\\t\\t\\t\\t\\t\\t\\t\\t\\t\\t\\t</ul>\\r\\n\\t\\t\\t\\t\\t<!-- \\xec\\x88\\x9c\\xec\\x9c\\x84 --><span class=\"grade\">5</span>\\r\\n\\t\\t\\t\\t</li>\\r\\n\\t\\t\\t\\t<li class=\"people_li\">\\r\\n\\t\\t\\t\\t\\t<a href=\"/db/person/info/?person_id=98611\"><img src=\"https://image.cine21.com/resize/cine21/person/2019/0725/18_01_36__5d396ff023a91[X145,145].jpg\" alt=\"\" class=\"people_thumb\" target=\"_blank\" /></a>\\r\\n\\t\\t\\t\\t\\t<div class=\"name\"><a href=\"/db/person/info/?person_id=98611\">\\xec\\xa1\\xb0\\xec\\x9a\\xb0\\xec\\xa7\\x84(9\\xed\\x8e\\xb8)</a></div>\\r\\n\\t\\t\\t\\t\\t<ul class=\"num_info\">\\r\\n\\t\\t\\t\\t\\t\\t<li><span class=\"tit\">\\xed\\x9d\\xa5\\xed\\x96\\x89\\xec\\xa7\\x80\\xec\\x88\\x98</span><strong>16,499</strong></li>\\r\\n\\t\\t\\t\\t\\t\\t<!--\\r\\n\\t\\t\\t\\t\\t\\t<li><a href=\"#\" class=\"btn_graph\"><span class=\"ico\"></span><span>\\xed\\x9d\\xa5\\xed\\x96\\x89\\xec\\x84\\xb1\\xec\\xa0\\x81<br />\\xea\\xb7\\xb8\\xeb\\x9e\\x98\\xed\\x94\\x84\\xeb\\xa1\\x9c \\xeb\\xb3\\xb4\\xea\\xb8\\xb0</span></a></li>\\r\\n\\t\\t\\t\\t\\t\\t-->\\r\\n\\t\\t\\t\\t\\t</ul>\\r\\n\\t\\t\\t\\t\\t<!-- \\xec\\x98\\x81\\xed\\x99\\x94\\xed\\x8f\\xac\\xec\\x8a\\xa4\\xed\\x84\\xb0\\xeb\\x8a\\x94 \\xec\\xb5\\x9c\\xeb\\x8c\\x80 5\\xea\\xb0\\x9c\\xea\\xb9\\x8c\\xec\\xa7\\x80\\xeb\\xa7\\x8c -->\\r\\n\\t\\t\\t\\t\\t<ul class=\"mov_list\">\\r\\n\\t\\t\\t\\t\\t\\t\\r\\n\\t\\t\\t\\t\\t\\t\\t<li>\\r\\n\\t\\t\\t\\t\\t\\t\\t\\t<a href=\"/movie/info/?movie_id=57324\">\\r\\n\\t\\t\\t\\t\\t\\t\\t\\t\\t<img src=\"https://image.cine21.com/resize/cine21/poster/2022/0711/10_55_43__62cb831f6ead5[X85,120].jpg\" alt=\"\" class=\"thumb\"  target=\"_blank\" />\\r\\n\\t\\t\\t\\t\\t\\t\\t\\t\\t<span>\\xec\\x99\\xb8\\xea\\xb3\\x84+\\xec\\x9d\\xb8 1\\xeb\\xb6\\x80</span>\\r\\n\\t\\t\\t\\t\\t\\t\\t\\t</a>\\r\\n\\t\\t\\t\\t\\t\\t\\t</li>\\r\\n\\t\\t\\t\\t\\t\\t\\r\\n\\t\\t\\t\\t\\t\\t\\t<li>\\r\\n\\t\\t\\t\\t\\t\\t\\t\\t<a href=\"/movie/info/?movie_id=57529\">\\r\\n\\t\\t\\t\\t\\t\\t\\t\\t\\t<img src=\"https://image.cine21.com/resize/cine21/poster/2021/0609/57529_60c06d24d0987[X85,120].jpg\" alt=\"\" class=\"thumb\"  target=\"_blank\" />\\r\\n\\t\\t\\t\\t\\t\\t\\t\\t\\t<span>\\xeb\\xb0\\x9c\\xec\\x8b\\xa0\\xec\\xa0\\x9c\\xed\\x95\\x9c</span>\\r\\n\\t\\t\\t\\t\\t\\t\\t\\t</a>\\r\\n\\t\\t\\t\\t\\t\\t\\t</li>\\r\\n\\t\\t\\t\\t\\t\\t\\r\\n\\t\\t\\t\\t\\t\\t\\t<li>\\r\\n\\t\\t\\t\\t\\t\\t\\t\\t<a href=\"/movie/info/?movie_id=53014\">\\r\\n\\t\\t\\t\\t\\t\\t\\t\\t\\t<img src=\"https://image.cine21.com/resize/cine21/poster/2022/0126/53014_61f0f6b523509[X85,120].jpg\" alt=\"\" class=\"thumb\"  target=\"_blank\" />\\r\\n\\t\\t\\t\\t\\t\\t\\t\\t\\t<span>\\xed\\x82\\xb9\\xeb\\xa9\\x94\\xec\\x9d\\xb4\\xec\\xbb\\xa4</span>\\r\\n\\t\\t\\t\\t\\t\\t\\t\\t</a>\\r\\n\\t\\t\\t\\t\\t\\t\\t</li>\\r\\n\\t\\t\\t\\t\\t\\t\\r\\n\\t\\t\\t\\t\\t\\t\\t<li>\\r\\n\\t\\t\\t\\t\\t\\t\\t\\t<a href=\"/movie/info/?movie_id=56081\">\\r\\n\\t\\t\\t\\t\\t\\t\\t\\t\\t<img src=\"https://image.cine21.com/resize/cine21/poster/2020/1104/10_51_27__5fa2091f9238f[X85,120].jpg\" alt=\"\" class=\"thumb\"  target=\"_blank\" />\\r\\n\\t\\t\\t\\t\\t\\t\\t\\t\\t<span>\\xeb\\x8f\\x84\\xea\\xb5\\xb4</span>\\r\\n\\t\\t\\t\\t\\t\\t\\t\\t</a>\\r\\n\\t\\t\\t\\t\\t\\t\\t</li>\\r\\n\\t\\t\\t\\t\\t\\t\\r\\n\\t\\t\\t\\t\\t\\t\\t<li>\\r\\n\\t\\t\\t\\t\\t\\t\\t\\t<a href=\"/movie/info/?movie_id=53756\">\\r\\n\\t\\t\\t\\t\\t\\t\\t\\t\\t<img src=\"https://image.cine21.com/resize/cine21/poster/2021/0309/05_05_41__60468395e4fc7[X85,120].jpg\" alt=\"\" class=\"thumb\"  target=\"_blank\" />\\r\\n\\t\\t\\t\\t\\t\\t\\t\\t\\t<span>\\xec\\x84\\x9c\\xeb\\xb3\\xb5</span>\\r\\n\\t\\t\\t\\t\\t\\t\\t\\t</a>\\r\\n\\t\\t\\t\\t\\t\\t\\t</li>\\r\\n\\t\\t\\t\\t\\t\\t\\r\\n\\t\\t\\t\\t\\t\\t\\t<li>\\r\\n\\t\\t\\t\\t\\t\\t\\t\\t<a href=\"/movie/info/?movie_id=53683\">\\r\\n\\t\\t\\t\\t\\t\\t\\t\\t\\t<img src=\"https://image.cine21.com/resize/cine21/poster/2018/1105/11_20_18__5bdfa8e297272[X85,120].jpg\" alt=\"\" class=\"thumb\"  target=\"_blank\" />\\r\\n\\t\\t\\t\\t\\t\\t\\t\\t\\t<span>\\xea\\xb5\\xad\\xea\\xb0\\x80\\xeb\\xb6\\x80\\xeb\\x8f\\x84\\xec\\x9d\\x98 \\xeb\\x82\\xa0</span>\\r\\n\\t\\t\\t\\t\\t\\t\\t\\t</a>\\r\\n\\t\\t\\t\\t\\t\\t\\t</li>\\r\\n\\t\\t\\t\\t\\t\\t\\t\\t\\t\\t\\t</ul>\\r\\n\\t\\t\\t\\t\\t<!-- \\xec\\x88\\x9c\\xec\\x9c\\x84 --><span class=\"grade\">6</span>\\r\\n\\t\\t\\t\\t</li>\\r\\n\\t\\t\\t\\t<li class=\"people_li\">\\r\\n\\t\\t\\t\\t\\t<a href=\"/db/person/info/?person_id=91462\"><img src=\"https://image.cine21.com/resize/cine21/still/2019/0327/11_26_54__5c9adf6e7bacf[X145,145].jpg\" alt=\"\" class=\"people_thumb\" target=\"_blank\" /></a>\\r\\n\\t\\t\\t\\t\\t<div class=\"name\"><a href=\"/db/person/info/?person_id=91462\">\\xed\\x97\\x88\\xeb\\x8f\\x99\\xec\\x9b\\x90(4\\xed\\x8e\\xb8)</a></div>\\r\\n\\t\\t\\t\\t\\t<ul class=\"num_info\">\\r\\n\\t\\t\\t\\t\\t\\t<li><span class=\"tit\">\\xed\\x9d\\xa5\\xed\\x96\\x89\\xec\\xa7\\x80\\xec\\x88\\x98</span><strong>16,039</strong></li>\\r\\n\\t\\t\\t\\t\\t\\t<!--\\r\\n\\t\\t\\t\\t\\t\\t<li><a href=\"#\" class=\"btn_graph\"><span class=\"ico\"></span><span>\\xed\\x9d\\xa5\\xed\\x96\\x89\\xec\\x84\\xb1\\xec\\xa0\\x81<br />\\xea\\xb7\\xb8\\xeb\\x9e\\x98\\xed\\x94\\x84\\xeb\\xa1\\x9c \\xeb\\xb3\\xb4\\xea\\xb8\\xb0</span></a></li>\\r\\n\\t\\t\\t\\t\\t\\t-->\\r\\n\\t\\t\\t\\t\\t</ul>\\r\\n\\t\\t\\t\\t\\t<!-- \\xec\\x98\\x81\\xed\\x99\\x94\\xed\\x8f\\xac\\xec\\x8a\\xa4\\xed\\x84\\xb0\\xeb\\x8a\\x94 \\xec\\xb5\\x9c\\xeb\\x8c\\x80 5\\xea\\xb0\\x9c\\xea\\xb9\\x8c\\xec\\xa7\\x80\\xeb\\xa7\\x8c -->\\r\\n\\t\\t\\t\\t\\t<ul class=\"mov_list\">\\r\\n\\t\\t\\t\\t\\t\\t\\r\\n\\t\\t\\t\\t\\t\\t\\t<li>\\r\\n\\t\\t\\t\\t\\t\\t\\t\\t<a href=\"/movie/info/?movie_id=54143\">\\r\\n\\t\\t\\t\\t\\t\\t\\t\\t\\t<img src=\"https://image.cine21.com/resize/cine21/poster/2020/0212/16_42_16__5e43ac5844ca0[X85,120].jpg\" alt=\"\" class=\"thumb\"  target=\"_blank\" />\\r\\n\\t\\t\\t\\t\\t\\t\\t\\t\\t<span>\\xec\\xa7\\x80\\xed\\x91\\xb8\\xeb\\x9d\\xbc\\xea\\xb8\\xb0\\xeb\\x9d\\xbc\\xeb\\x8f\\x84 \\xec\\x9e\\xa1\\xea\\xb3\\xa0 \\xec\\x8b\\xb6\\xec\\x9d\\x80 \\xec\\xa7\\x90\\xec\\x8a\\xb9\\xeb\\x93\\xa4</span>\\r\\n\\t\\t\\t\\t\\t\\t\\t\\t</a>\\r\\n\\t\\t\\t\\t\\t\\t\\t</li>\\r\\n\\t\\t\\t\\t\\t\\t\\r\\n\\t\\t\\t\\t\\t\\t\\t<li>\\r\\n\\t\\t\\t\\t\\t\\t\\t\\t<a href=\"/movie/info/?movie_id=54849\">\\r\\n\\t\\t\\t\\t\\t\\t\\t\\t\\t<img src=\"https://image.cine21.com/resize/cine21/poster/2021/1222/13_51_31__61c2aed38dabd[X85,120].jpg\" alt=\"\" class=\"thumb\"  target=\"_blank\" />\\r\\n\\t\\t\\t\\t\\t\\t\\t\\t\\t<span>\\xed\\x8a\\xb9\\xec\\x86\\xa1</span>\\r\\n\\t\\t\\t\\t\\t\\t\\t\\t</a>\\r\\n\\t\\t\\t\\t\\t\\t\\t</li>\\r\\n\\t\\t\\t\\t\\t\\t\\r\\n\\t\\t\\t\\t\\t\\t\\t<li>\\r\\n\\t\\t\\t\\t\\t\\t\\t\\t<a href=\"/movie/info/?movie_id=57360\">\\r\\n\\t\\t\\t\\t\\t\\t\\t\\t\\t<img src=\"https://image.cine21.com/resize/cine21/poster/2022/0516/57360_6281aab962751[X85,120].jpg\" alt=\"\" class=\"thumb\"  target=\"_blank\" />\\r\\n\\t\\t\\t\\t\\t\\t\\t\\t\\t<span>\\xeb\\xb2\\x94\\xec\\xa3\\x84\\xeb\\x8f\\x84\\xec\\x8b\\x9c2</span>\\r\\n\\t\\t\\t\\t\\t\\t\\t\\t</a>\\r\\n\\t\\t\\t\\t\\t\\t\\t</li>\\r\\n\\t\\t\\t\\t\\t\\t\\r\\n\\t\\t\\t\\t\\t\\t\\t<li>\\r\\n\\t\\t\\t\\t\\t\\t\\t\\t<a href=\"/movie/info/?movie_id=53051\">\\r\\n\\t\\t\\t\\t\\t\\t\\t\\t\\t<img src=\"https://image.cine21.com/resize/cine21/poster/2019/0515/14_28_32__5cdba38055565[X85,120].jpg\" alt=\"\" class=\"thumb\"  target=\"_blank\" />\\r\\n\\t\\t\\t\\t\\t\\t\\t\\t\\t<span>\\xec\\x95\\x85\\xec\\x9d\\xb8\\xec\\xa0\\x84</span>\\r\\n\\t\\t\\t\\t\\t\\t\\t\\t</a>\\r\\n\\t\\t\\t\\t\\t\\t\\t</li>\\r\\n\\t\\t\\t\\t\\t\\t\\t\\t\\t\\t\\t</ul>\\r\\n\\t\\t\\t\\t\\t<!-- \\xec\\x88\\x9c\\xec\\x9c\\x84 --><span class=\"grade\">7</span>\\r\\n\\t\\t\\t\\t</li>\\r\\n\\t\\t\\t</ul>\\r\\n\\r\\n\\r\\n\\t\\t\\t\\t<div class=\"pagination\"><a href=\"javascript:fetch_list(1)\" class=\"btn_first\"><span class=\"hidden\">\\xec\\xb2\\x98\\xec\\x9d\\x8c\\xec\\x9c\\xbc\\xeb\\xa1\\x9c</span><span class=\"ico\"></span></a><div class=\"page\"><a href=\"javascript:;\" class=\"on\">1</a><a href=\"javascript:fetch_list(2)\">2</a><a href=\"javascript:fetch_list(3)\">3</a><a href=\"javascript:fetch_list(4)\">4</a><a href=\"javascript:fetch_list(5)\">5</a><a href=\"javascript:fetch_list(6)\">6</a><a href=\"javascript:fetch_list(7)\">7</a><a href=\"javascript:fetch_list(8)\">8</a><a href=\"javascript:fetch_list(9)\">9</a><a href=\"javascript:fetch_list(10)\">10</a></div><a href=\"javascript:fetch_list(11)\" class=\"btn_next\"><span class=\"hidden\">\\xeb\\x8b\\xa4\\xec\\x9d\\x8c</span><span class=\"ico\"></span></a><a href=\"javascript:fetch_list(397)\" class=\"btn_end\"><span class=\"hidden\">\\xeb\\x81\\x9d\\xec\\x9c\\xbc\\xeb\\xa1\\x9c</span><span class=\"ico\"></span></a>\\t\\t\\t\\t</div>'"
      ]
     },
     "execution_count": 5,
     "metadata": {},
     "output_type": "execute_result"
    }
   ],
   "source": [
    "resp.content"
   ]
  },
  {
   "cell_type": "markdown",
   "id": "8efcad1b",
   "metadata": {},
   "source": [
    "### 응답(Response) 받은 문서를 parsing 해서 원하는 data 추출하기"
   ]
  },
  {
   "cell_type": "code",
   "execution_count": 6,
   "id": "d4a45144",
   "metadata": {},
   "outputs": [],
   "source": [
    "soup = BeautifulSoup(resp.content, \"html.parser\")"
   ]
  },
  {
   "cell_type": "code",
   "execution_count": 7,
   "id": "395cc346",
   "metadata": {},
   "outputs": [
    {
     "data": {
      "text/plain": [
       " <ul class=\"people_list\">\n",
       "<li class=\"people_li\">\n",
       "<a href=\"/db/person/info/?person_id=15222\"><img alt=\"\" class=\"people_thumb\" src=\"https://image.cine21.com/resize/cine21/still/2017/1207/14_33_48__5a28d2bcb1647[X145,145].jpg\" target=\"_blank\"/></a>\n",
       "<div class=\"name\"><a href=\"/db/person/info/?person_id=15222\">박해일(5편)</a></div>\n",
       "<ul class=\"num_info\">\n",
       "<li><span class=\"tit\">흥행지수</span><strong>23,925</strong></li>\n",
       "<!--\n",
       "\t\t\t\t\t\t<li><a href=\"#\" class=\"btn_graph\"><span class=\"ico\"></span><span>흥행성적<br />그래프로 보기</span></a></li>\n",
       "\t\t\t\t\t\t-->\n",
       "</ul>\n",
       "<!-- 영화포스터는 최대 5개까지만 -->\n",
       "<ul class=\"mov_list\">\n",
       "<li>\n",
       "<a href=\"/movie/info/?movie_id=56294\">\n",
       "<img alt=\"\" class=\"thumb\" src=\"https://image.cine21.com/resize/cine21/poster/2022/0727/16_21_10__62e0e76663483[X85,120].jpg\" target=\"_blank\"/>\n",
       "<span>한산: 용의 출현</span>\n",
       "</a>\n",
       "</li>\n",
       "<li>\n",
       "<a href=\"/movie/info/?movie_id=56942\">\n",
       "<img alt=\"\" class=\"thumb\" src=\"https://image.cine21.com/resize/cine21/poster/2022/0610/09_59_51__62a2978774d80[X85,120].jpg\" target=\"_blank\"/>\n",
       "<span>헤어질 결심</span>\n",
       "</a>\n",
       "</li>\n",
       "<li>\n",
       "<a href=\"/movie/info/?movie_id=5339\">\n",
       "<img alt=\"\" class=\"thumb\" src=\"https://image.cine21.com/resize/IMGDB/poster/2001/0904/large/172328_01[X85,120].jpg\" target=\"_blank\"/>\n",
       "<span>와이키키 브라더스</span>\n",
       "</a>\n",
       "</li>\n",
       "<li>\n",
       "<a href=\"/movie/info/?movie_id=42462\">\n",
       "<img alt=\"\" class=\"thumb\" src=\"https://image.cine21.com/resize/cine21/poster/2014/0828/11_07_03__53fe8ec73db63[X85,120].jpg\" target=\"_blank\"/>\n",
       "<span>제보자</span>\n",
       "</a>\n",
       "</li>\n",
       "<li>\n",
       "<a href=\"/movie/info/?movie_id=5563\">\n",
       "<img alt=\"\" class=\"thumb\" src=\"https://image.cine21.com/resize/IMGDB/poster/2002/0423/large/171611_whoar[X85,120].JPG\" target=\"_blank\"/>\n",
       "<span>후아유</span>\n",
       "</a>\n",
       "</li>\n",
       "</ul>\n",
       "<!-- 순위 --><span class=\"grade\">1</span>\n",
       "</li>\n",
       "<li class=\"people_li\">\n",
       "<a href=\"/db/person/info/?person_id=35760\"><img alt=\"\" class=\"people_thumb\" src=\"https://image.cine21.com/resize/cine21/still/2018/1109/15_34_44__5be52a8406f49[X145,145].jpg\" target=\"_blank\"/></a>\n",
       "<div class=\"name\"><a href=\"/db/person/info/?person_id=35760\">박지환(7편)</a></div>\n",
       "<ul class=\"num_info\">\n",
       "<li><span class=\"tit\">흥행지수</span><strong>22,069</strong></li>\n",
       "<!--\n",
       "\t\t\t\t\t\t<li><a href=\"#\" class=\"btn_graph\"><span class=\"ico\"></span><span>흥행성적<br />그래프로 보기</span></a></li>\n",
       "\t\t\t\t\t\t-->\n",
       "</ul>\n",
       "<!-- 영화포스터는 최대 5개까지만 -->\n",
       "<ul class=\"mov_list\">\n",
       "<li>\n",
       "<a href=\"/movie/info/?movie_id=55870\">\n",
       "<img alt=\"\" class=\"thumb\" src=\"https://image.cine21.com/resize/cine21/poster/2021/1124/15_30_55__619ddc1f43617[X85,120].jpg\" target=\"_blank\"/>\n",
       "<span>유체이탈자</span>\n",
       "</a>\n",
       "</li>\n",
       "<li>\n",
       "<a href=\"/movie/info/?movie_id=56294\">\n",
       "<img alt=\"\" class=\"thumb\" src=\"https://image.cine21.com/resize/cine21/poster/2022/0727/16_21_10__62e0e76663483[X85,120].jpg\" target=\"_blank\"/>\n",
       "<span>한산: 용의 출현</span>\n",
       "</a>\n",
       "</li>\n",
       "<li>\n",
       "<a href=\"/movie/info/?movie_id=56540\">\n",
       "<img alt=\"\" class=\"thumb\" src=\"https://image.cine21.com/resize/cine21/poster/2022/0127/56540_61f1fcfdd84ce[X85,120].jpg\" target=\"_blank\"/>\n",
       "<span>해적: 도깨비 깃발</span>\n",
       "</a>\n",
       "</li>\n",
       "<li>\n",
       "<a href=\"/movie/info/?movie_id=54143\">\n",
       "<img alt=\"\" class=\"thumb\" src=\"https://image.cine21.com/resize/cine21/poster/2020/0212/16_42_16__5e43ac5844ca0[X85,120].jpg\" target=\"_blank\"/>\n",
       "<span>지푸라기라도 잡고 싶은 짐승들</span>\n",
       "</a>\n",
       "</li>\n",
       "<li>\n",
       "<a href=\"/movie/info/?movie_id=57360\">\n",
       "<img alt=\"\" class=\"thumb\" src=\"https://image.cine21.com/resize/cine21/poster/2022/0516/57360_6281aab962751[X85,120].jpg\" target=\"_blank\"/>\n",
       "<span>범죄도시2</span>\n",
       "</a>\n",
       "</li>\n",
       "<li>\n",
       "<a href=\"/movie/info/?movie_id=53190\">\n",
       "<img alt=\"\" class=\"thumb\" src=\"https://image.cine21.com/resize/cine21/poster/2019/0719/14_52_14__5d315a8eb420c[X85,120].jpg\" target=\"_blank\"/>\n",
       "<span>봉오동 전투</span>\n",
       "</a>\n",
       "</li>\n",
       "</ul>\n",
       "<!-- 순위 --><span class=\"grade\">2</span>\n",
       "</li>\n",
       "<li class=\"people_li\">\n",
       "<a href=\"/db/person/info/?person_id=104968\"><img alt=\"\" class=\"people_thumb\" src=\"https://image.cine21.com/resize/cine21/person/2018/1221/16_14_38__5c1c92de36057[X145,145].png\" target=\"_blank\"/></a>\n",
       "<div class=\"name\"><a href=\"/db/person/info/?person_id=104968\">손석구(3편)</a></div>\n",
       "<ul class=\"num_info\">\n",
       "<li><span class=\"tit\">흥행지수</span><strong>21,422</strong></li>\n",
       "<!--\n",
       "\t\t\t\t\t\t<li><a href=\"#\" class=\"btn_graph\"><span class=\"ico\"></span><span>흥행성적<br />그래프로 보기</span></a></li>\n",
       "\t\t\t\t\t\t-->\n",
       "</ul>\n",
       "<!-- 영화포스터는 최대 5개까지만 -->\n",
       "<ul class=\"mov_list\">\n",
       "<li>\n",
       "<a href=\"/movie/info/?movie_id=57360\">\n",
       "<img alt=\"\" class=\"thumb\" src=\"https://image.cine21.com/resize/cine21/poster/2022/0516/57360_6281aab962751[X85,120].jpg\" target=\"_blank\"/>\n",
       "<span>범죄도시2</span>\n",
       "</a>\n",
       "</li>\n",
       "<li>\n",
       "<a href=\"/movie/info/?movie_id=56770\">\n",
       "<img alt=\"\" class=\"thumb\" src=\"https://image.cine21.com/resize/cine21/poster/2021/1109/10_13_41__6189cb45461ce[X85,120].jpg\" target=\"_blank\"/>\n",
       "<span>연애 빠진 로맨스</span>\n",
       "</a>\n",
       "</li>\n",
       "<li>\n",
       "<a href=\"/movie/info/?movie_id=52268\">\n",
       "<img alt=\"\" class=\"thumb\" src=\"https://image.cine21.com/resize/cine21/poster/2019/0118/14_39_42__5c41669e93ed7[X85,120].jpg\" target=\"_blank\"/>\n",
       "<span>뺑반</span>\n",
       "</a>\n",
       "</li>\n",
       "</ul>\n",
       "<!-- 순위 --><span class=\"grade\">3</span>\n",
       "</li>\n",
       "<li class=\"people_li\">\n",
       "<a href=\"/db/person/info/?person_id=20745\"><img alt=\"\" class=\"people_thumb\" src=\"https://image.cine21.com/resize/cine21/still/2017/1212/10_50_28__5a2f35e412a6b[X145,145].jpg\" target=\"_blank\"/></a>\n",
       "<div class=\"name\"><a href=\"/db/person/info/?person_id=20745\">현빈(4편)</a></div>\n",
       "<ul class=\"num_info\">\n",
       "<li><span class=\"tit\">흥행지수</span><strong>18,211</strong></li>\n",
       "<!--\n",
       "\t\t\t\t\t\t<li><a href=\"#\" class=\"btn_graph\"><span class=\"ico\"></span><span>흥행성적<br />그래프로 보기</span></a></li>\n",
       "\t\t\t\t\t\t-->\n",
       "</ul>\n",
       "<!-- 영화포스터는 최대 5개까지만 -->\n",
       "<ul class=\"mov_list\">\n",
       "<li>\n",
       "<a href=\"/movie/info/?movie_id=57553\">\n",
       "<img alt=\"\" class=\"thumb\" src=\"https://image.cine21.com/resize/cine21/poster/2022/0826/12_30_09__63083e410eb65[X85,120].jpg\" target=\"_blank\"/>\n",
       "<span>공조2: 인터내셔날</span>\n",
       "</a>\n",
       "</li>\n",
       "<li>\n",
       "<a href=\"/movie/info/?movie_id=27981\">\n",
       "<img alt=\"\" class=\"thumb\" src=\"https://image.cine21.com/resize/cine21/poster/2011/0124/27981_4d3cdea8cbdb4_main_poster_2[X85,120].jpg\" target=\"_blank\"/>\n",
       "<span>만추</span>\n",
       "</a>\n",
       "</li>\n",
       "<li>\n",
       "<a href=\"/movie/info/?movie_id=50888\">\n",
       "<img alt=\"\" class=\"thumb\" src=\"https://image.cine21.com/resize/cine21/poster/2018/0828/15_16_26__5b84e8baf32bc[X85,120].jpg\" target=\"_blank\"/>\n",
       "<span>협상</span>\n",
       "</a>\n",
       "</li>\n",
       "<li>\n",
       "<a href=\"/movie/info/?movie_id=47462\">\n",
       "<img alt=\"\" class=\"thumb\" src=\"https://image.cine21.com/resize/cine21/poster/2017/0118/10_40_01__587ec771f2e55[X85,120].jpg\" target=\"_blank\"/>\n",
       "<span>공조</span>\n",
       "</a>\n",
       "</li>\n",
       "</ul>\n",
       "<!-- 순위 --><span class=\"grade\">4</span>\n",
       "</li>\n",
       "<li class=\"people_li\">\n",
       "<a href=\"/db/person/info/?person_id=102264\"><img alt=\"\" class=\"people_thumb\" src=\"https://image.cine21.com/resize/cine21/still/2019/0508/14_37_06__5cd26b02c5b8c[X145,145].jpg\" target=\"_blank\"/></a>\n",
       "<div class=\"name\"><a href=\"/db/person/info/?person_id=102264\">최귀화(6편)</a></div>\n",
       "<ul class=\"num_info\">\n",
       "<li><span class=\"tit\">흥행지수</span><strong>18,131</strong></li>\n",
       "<!--\n",
       "\t\t\t\t\t\t<li><a href=\"#\" class=\"btn_graph\"><span class=\"ico\"></span><span>흥행성적<br />그래프로 보기</span></a></li>\n",
       "\t\t\t\t\t\t-->\n",
       "</ul>\n",
       "<!-- 영화포스터는 최대 5개까지만 -->\n",
       "<ul class=\"mov_list\">\n",
       "<li>\n",
       "<a href=\"/movie/info/?movie_id=58977\">\n",
       "<img alt=\"\" class=\"thumb\" src=\"https://image.cine21.com/resize/cine21/poster/2022/0404/09_56_54__624a4256c7855[X85,120].jpg\" target=\"_blank\"/>\n",
       "<span>부기나이트</span>\n",
       "</a>\n",
       "</li>\n",
       "<li>\n",
       "<a href=\"/movie/info/?movie_id=54138\">\n",
       "<img alt=\"\" class=\"thumb\" src=\"https://image.cine21.com/resize/cine21/poster/2019/0617/14_48_37__5d0729b595623[X85,120].jpg\" target=\"_blank\"/>\n",
       "<span>기방도령</span>\n",
       "</a>\n",
       "</li>\n",
       "<li>\n",
       "<a href=\"/movie/info/?movie_id=57360\">\n",
       "<img alt=\"\" class=\"thumb\" src=\"https://image.cine21.com/resize/cine21/poster/2022/0516/57360_6281aab962751[X85,120].jpg\" target=\"_blank\"/>\n",
       "<span>범죄도시2</span>\n",
       "</a>\n",
       "</li>\n",
       "<li>\n",
       "<a href=\"/movie/info/?movie_id=48579\">\n",
       "<img alt=\"\" class=\"thumb\" src=\"https://image.cine21.com/resize/cine21/poster/2018/1005/11_30_24__5bb6ccc0c692d[X85,120].jpg\" target=\"_blank\"/>\n",
       "<span>원더풀 고스트</span>\n",
       "</a>\n",
       "</li>\n",
       "<li>\n",
       "<a href=\"/movie/info/?movie_id=48137\">\n",
       "<img alt=\"\" class=\"thumb\" src=\"https://image.cine21.com/resize/cine21/poster/2017/0717/48137_596c09e193c19[X85,120].jpg\" target=\"_blank\"/>\n",
       "<span>택시운전사</span>\n",
       "</a>\n",
       "</li>\n",
       "<li>\n",
       "<a href=\"/movie/info/?movie_id=45255\">\n",
       "<img alt=\"\" class=\"thumb\" src=\"https://image.cine21.com/resize/cine21/poster/2017/0206/45255_5897dcefc3631[X85,120].jpg\" target=\"_blank\"/>\n",
       "<span>조작된 도시</span>\n",
       "</a>\n",
       "</li>\n",
       "</ul>\n",
       "<!-- 순위 --><span class=\"grade\">5</span>\n",
       "</li>\n",
       "<li class=\"people_li\">\n",
       "<a href=\"/db/person/info/?person_id=98611\"><img alt=\"\" class=\"people_thumb\" src=\"https://image.cine21.com/resize/cine21/person/2019/0725/18_01_36__5d396ff023a91[X145,145].jpg\" target=\"_blank\"/></a>\n",
       "<div class=\"name\"><a href=\"/db/person/info/?person_id=98611\">조우진(9편)</a></div>\n",
       "<ul class=\"num_info\">\n",
       "<li><span class=\"tit\">흥행지수</span><strong>16,499</strong></li>\n",
       "<!--\n",
       "\t\t\t\t\t\t<li><a href=\"#\" class=\"btn_graph\"><span class=\"ico\"></span><span>흥행성적<br />그래프로 보기</span></a></li>\n",
       "\t\t\t\t\t\t-->\n",
       "</ul>\n",
       "<!-- 영화포스터는 최대 5개까지만 -->\n",
       "<ul class=\"mov_list\">\n",
       "<li>\n",
       "<a href=\"/movie/info/?movie_id=57324\">\n",
       "<img alt=\"\" class=\"thumb\" src=\"https://image.cine21.com/resize/cine21/poster/2022/0711/10_55_43__62cb831f6ead5[X85,120].jpg\" target=\"_blank\"/>\n",
       "<span>외계+인 1부</span>\n",
       "</a>\n",
       "</li>\n",
       "<li>\n",
       "<a href=\"/movie/info/?movie_id=57529\">\n",
       "<img alt=\"\" class=\"thumb\" src=\"https://image.cine21.com/resize/cine21/poster/2021/0609/57529_60c06d24d0987[X85,120].jpg\" target=\"_blank\"/>\n",
       "<span>발신제한</span>\n",
       "</a>\n",
       "</li>\n",
       "<li>\n",
       "<a href=\"/movie/info/?movie_id=53014\">\n",
       "<img alt=\"\" class=\"thumb\" src=\"https://image.cine21.com/resize/cine21/poster/2022/0126/53014_61f0f6b523509[X85,120].jpg\" target=\"_blank\"/>\n",
       "<span>킹메이커</span>\n",
       "</a>\n",
       "</li>\n",
       "<li>\n",
       "<a href=\"/movie/info/?movie_id=56081\">\n",
       "<img alt=\"\" class=\"thumb\" src=\"https://image.cine21.com/resize/cine21/poster/2020/1104/10_51_27__5fa2091f9238f[X85,120].jpg\" target=\"_blank\"/>\n",
       "<span>도굴</span>\n",
       "</a>\n",
       "</li>\n",
       "<li>\n",
       "<a href=\"/movie/info/?movie_id=53756\">\n",
       "<img alt=\"\" class=\"thumb\" src=\"https://image.cine21.com/resize/cine21/poster/2021/0309/05_05_41__60468395e4fc7[X85,120].jpg\" target=\"_blank\"/>\n",
       "<span>서복</span>\n",
       "</a>\n",
       "</li>\n",
       "<li>\n",
       "<a href=\"/movie/info/?movie_id=53683\">\n",
       "<img alt=\"\" class=\"thumb\" src=\"https://image.cine21.com/resize/cine21/poster/2018/1105/11_20_18__5bdfa8e297272[X85,120].jpg\" target=\"_blank\"/>\n",
       "<span>국가부도의 날</span>\n",
       "</a>\n",
       "</li>\n",
       "</ul>\n",
       "<!-- 순위 --><span class=\"grade\">6</span>\n",
       "</li>\n",
       "<li class=\"people_li\">\n",
       "<a href=\"/db/person/info/?person_id=91462\"><img alt=\"\" class=\"people_thumb\" src=\"https://image.cine21.com/resize/cine21/still/2019/0327/11_26_54__5c9adf6e7bacf[X145,145].jpg\" target=\"_blank\"/></a>\n",
       "<div class=\"name\"><a href=\"/db/person/info/?person_id=91462\">허동원(4편)</a></div>\n",
       "<ul class=\"num_info\">\n",
       "<li><span class=\"tit\">흥행지수</span><strong>16,039</strong></li>\n",
       "<!--\n",
       "\t\t\t\t\t\t<li><a href=\"#\" class=\"btn_graph\"><span class=\"ico\"></span><span>흥행성적<br />그래프로 보기</span></a></li>\n",
       "\t\t\t\t\t\t-->\n",
       "</ul>\n",
       "<!-- 영화포스터는 최대 5개까지만 -->\n",
       "<ul class=\"mov_list\">\n",
       "<li>\n",
       "<a href=\"/movie/info/?movie_id=54143\">\n",
       "<img alt=\"\" class=\"thumb\" src=\"https://image.cine21.com/resize/cine21/poster/2020/0212/16_42_16__5e43ac5844ca0[X85,120].jpg\" target=\"_blank\"/>\n",
       "<span>지푸라기라도 잡고 싶은 짐승들</span>\n",
       "</a>\n",
       "</li>\n",
       "<li>\n",
       "<a href=\"/movie/info/?movie_id=54849\">\n",
       "<img alt=\"\" class=\"thumb\" src=\"https://image.cine21.com/resize/cine21/poster/2021/1222/13_51_31__61c2aed38dabd[X85,120].jpg\" target=\"_blank\"/>\n",
       "<span>특송</span>\n",
       "</a>\n",
       "</li>\n",
       "<li>\n",
       "<a href=\"/movie/info/?movie_id=57360\">\n",
       "<img alt=\"\" class=\"thumb\" src=\"https://image.cine21.com/resize/cine21/poster/2022/0516/57360_6281aab962751[X85,120].jpg\" target=\"_blank\"/>\n",
       "<span>범죄도시2</span>\n",
       "</a>\n",
       "</li>\n",
       "<li>\n",
       "<a href=\"/movie/info/?movie_id=53051\">\n",
       "<img alt=\"\" class=\"thumb\" src=\"https://image.cine21.com/resize/cine21/poster/2019/0515/14_28_32__5cdba38055565[X85,120].jpg\" target=\"_blank\"/>\n",
       "<span>악인전</span>\n",
       "</a>\n",
       "</li>\n",
       "</ul>\n",
       "<!-- 순위 --><span class=\"grade\">7</span>\n",
       "</li>\n",
       "</ul>\n",
       "<div class=\"pagination\"><a class=\"btn_first\" href=\"javascript:fetch_list(1)\"><span class=\"hidden\">처음으로</span><span class=\"ico\"></span></a><div class=\"page\"><a class=\"on\" href=\"javascript:;\">1</a><a href=\"javascript:fetch_list(2)\">2</a><a href=\"javascript:fetch_list(3)\">3</a><a href=\"javascript:fetch_list(4)\">4</a><a href=\"javascript:fetch_list(5)\">5</a><a href=\"javascript:fetch_list(6)\">6</a><a href=\"javascript:fetch_list(7)\">7</a><a href=\"javascript:fetch_list(8)\">8</a><a href=\"javascript:fetch_list(9)\">9</a><a href=\"javascript:fetch_list(10)\">10</a></div><a class=\"btn_next\" href=\"javascript:fetch_list(11)\"><span class=\"hidden\">다음</span><span class=\"ico\"></span></a><a class=\"btn_end\" href=\"javascript:fetch_list(397)\"><span class=\"hidden\">끝으로</span><span class=\"ico\"></span></a> </div>"
      ]
     },
     "execution_count": 7,
     "metadata": {},
     "output_type": "execute_result"
    }
   ],
   "source": [
    "soup"
   ]
  },
  {
   "cell_type": "code",
   "execution_count": 8,
   "id": "0780b5ba",
   "metadata": {},
   "outputs": [
    {
     "name": "stdout",
     "output_type": "stream",
     "text": [
      "<div class=\"name\"><a href=\"/db/person/info/?person_id=15222\">박해일(5편)</a></div>\n",
      "<div class=\"name\"><a href=\"/db/person/info/?person_id=35760\">박지환(7편)</a></div>\n",
      "<div class=\"name\"><a href=\"/db/person/info/?person_id=104968\">손석구(3편)</a></div>\n",
      "<div class=\"name\"><a href=\"/db/person/info/?person_id=20745\">현빈(4편)</a></div>\n",
      "<div class=\"name\"><a href=\"/db/person/info/?person_id=102264\">최귀화(6편)</a></div>\n",
      "<div class=\"name\"><a href=\"/db/person/info/?person_id=98611\">조우진(9편)</a></div>\n",
      "<div class=\"name\"><a href=\"/db/person/info/?person_id=91462\">허동원(4편)</a></div>\n"
     ]
    }
   ],
   "source": [
    "actors = soup.select(\"li.people_li div.name\")\n",
    "\n",
    "for actor in actors:\n",
    "    print(actor)"
   ]
  },
  {
   "cell_type": "code",
   "execution_count": 9,
   "id": "8430fe79",
   "metadata": {},
   "outputs": [
    {
     "name": "stdout",
     "output_type": "stream",
     "text": [
      "박해일(5편)\n",
      "박지환(7편)\n",
      "손석구(3편)\n",
      "현빈(4편)\n",
      "최귀화(6편)\n",
      "조우진(9편)\n",
      "허동원(4편)\n"
     ]
    }
   ],
   "source": [
    "'''\n",
    "actor.text : content 만 추출함\n",
    "'''\n",
    "for actor in actors:\n",
    "    print(actor.text)"
   ]
  },
  {
   "cell_type": "code",
   "execution_count": 10,
   "id": "b0a7175a",
   "metadata": {},
   "outputs": [
    {
     "name": "stdout",
     "output_type": "stream",
     "text": [
      "<class 'str'>\n"
     ]
    }
   ],
   "source": [
    "print(type(actor.text))"
   ]
  },
  {
   "cell_type": "code",
   "execution_count": 11,
   "id": "444c196e",
   "metadata": {},
   "outputs": [
    {
     "name": "stdout",
     "output_type": "stream",
     "text": [
      "['박해일', '5편)']\n",
      "['박지환', '7편)']\n",
      "['손석구', '3편)']\n",
      "['현빈', '4편)']\n",
      "['최귀화', '6편)']\n",
      "['조우진', '9편)']\n",
      "['허동원', '4편)']\n"
     ]
    }
   ],
   "source": [
    "'''\n",
    "배우이름만 추출함 : 문자열의 split() 메소드 호출\n",
    "'''\n",
    "for actor in actors:\n",
    "    print((actor.text).split(\"(\"))"
   ]
  },
  {
   "cell_type": "code",
   "execution_count": 12,
   "id": "e04abcc4",
   "metadata": {},
   "outputs": [
    {
     "name": "stdout",
     "output_type": "stream",
     "text": [
      "박해일\n",
      "박지환\n",
      "손석구\n",
      "현빈\n",
      "최귀화\n",
      "조우진\n",
      "허동원\n"
     ]
    }
   ],
   "source": [
    "for actor in actors:\n",
    "    print((actor.text).split(\"(\")[0])"
   ]
  },
  {
   "cell_type": "code",
   "execution_count": 13,
   "id": "6004c8a6",
   "metadata": {},
   "outputs": [
    {
     "name": "stdout",
     "output_type": "stream",
     "text": [
      "<a href=\"/db/person/info/?person_id=15222\">박해일(5편)</a>\n",
      "<a href=\"/db/person/info/?person_id=35760\">박지환(7편)</a>\n",
      "<a href=\"/db/person/info/?person_id=104968\">손석구(3편)</a>\n",
      "<a href=\"/db/person/info/?person_id=20745\">현빈(4편)</a>\n",
      "<a href=\"/db/person/info/?person_id=102264\">최귀화(6편)</a>\n",
      "<a href=\"/db/person/info/?person_id=98611\">조우진(9편)</a>\n",
      "<a href=\"/db/person/info/?person_id=91462\">허동원(4편)</a>\n"
     ]
    }
   ],
   "source": [
    "for actor in actors:\n",
    "    print(actor.select_one(\"a\"))"
   ]
  },
  {
   "cell_type": "code",
   "execution_count": 14,
   "id": "10b81f54",
   "metadata": {},
   "outputs": [
    {
     "data": {
      "text/plain": [
       "'\\nhttp://www.cine21.com/db/person/info/?person_id=15222\\n'"
      ]
     },
     "execution_count": 14,
     "metadata": {},
     "output_type": "execute_result"
    }
   ],
   "source": [
    "'''\n",
    "http://www.cine21.com/db/person/info/?person_id=15222\n",
    "'''"
   ]
  },
  {
   "cell_type": "code",
   "execution_count": 15,
   "id": "babb7903",
   "metadata": {},
   "outputs": [
    {
     "name": "stdout",
     "output_type": "stream",
     "text": [
      "/db/person/info/?person_id=15222\n",
      "/db/person/info/?person_id=35760\n",
      "/db/person/info/?person_id=104968\n",
      "/db/person/info/?person_id=20745\n",
      "/db/person/info/?person_id=102264\n",
      "/db/person/info/?person_id=98611\n",
      "/db/person/info/?person_id=91462\n"
     ]
    }
   ],
   "source": [
    "for actor in actors:\n",
    "    print(actor.select_one(\"a\").attrs[\"href\"])"
   ]
  },
  {
   "cell_type": "code",
   "execution_count": 16,
   "id": "d6fe5c68",
   "metadata": {},
   "outputs": [
    {
     "name": "stdout",
     "output_type": "stream",
     "text": [
      "http://www.cine21.com/db/person/info/?person_id=15222\n",
      "http://www.cine21.com/db/person/info/?person_id=35760\n",
      "http://www.cine21.com/db/person/info/?person_id=104968\n",
      "http://www.cine21.com/db/person/info/?person_id=20745\n",
      "http://www.cine21.com/db/person/info/?person_id=102264\n",
      "http://www.cine21.com/db/person/info/?person_id=98611\n",
      "http://www.cine21.com/db/person/info/?person_id=91462\n"
     ]
    }
   ],
   "source": [
    "for actor in actors:\n",
    "    print(\"http://www.cine21.com\" + actor.select_one(\"a\").attrs[\"href\"])"
   ]
  },
  {
   "cell_type": "markdown",
   "id": "a49b7f5d",
   "metadata": {},
   "source": [
    "### 정규표현식 : Regualr Expression\n",
    "```html\n",
    "\n",
    "  https://regexr.com/\n",
    "\n",
    "  <li><span class=\"tit\">직업</span>배우</li>\n",
    "\n",
    "  - .  : \\n(줄바꿈)문자를 제외한 모든 문자 하나를 의미함\n",
    "  - *  : 앞 문자가 반복되는 pattern\n",
    "  - .* : 문자가 반복되는 pattern\n",
    "\n",
    "\n",
    "```"
   ]
  },
  {
   "cell_type": "code",
   "execution_count": 17,
   "id": "687d32c9",
   "metadata": {},
   "outputs": [
    {
     "data": {
      "text/plain": [
       "[{'직업': '배우',\n",
       "  '생년월일': '1977-01-26',\n",
       "  '성별': '남',\n",
       "  '신장/체중': '177cm, 65kg',\n",
       "  '학교': '남서울대학교 영어학 (중퇴)',\n",
       "  '취미': '영화감상, 음악감상, 컴퓨터게임',\n",
       "  '특기': '노래, 기타연주, 탁구, 야구',\n",
       "  '소속사': '휴메인엔터테인먼트'},\n",
       " {'직업': '배우', '생년월일': '1980-09-05', '성별': '남'},\n",
       " {'직업': '배우', '생년월일': '1983-00-00', '성별': '남'},\n",
       " {'원어명': '玄彬',\n",
       "  '다른 이름': '김태평',\n",
       "  '직업': '배우',\n",
       "  '생년월일': '1982-09-25',\n",
       "  '성별': '남',\n",
       "  '홈페이지': '\\nhttp://www.vastenm.com/\\n',\n",
       "  '신장/체중': '184cm, 74kg',\n",
       "  '학교': '중앙대학교 연극영화 졸업, 중앙대학교 예술 대학원 공연영상학과 재학 중',\n",
       "  '취미': '수영, 농구, 야구',\n",
       "  '특기': '스노우보드, 사진',\n",
       "  '소속사': 'VAST엔터테인먼트'},\n",
       " {'직업': '배우', '생년월일': '1978-03-03', '성별': '남', '신장/체중': '181cm, 72kg'},\n",
       " {'다른 이름': '조신제', '직업': '배우', '생년월일': '1979-01-16', '성별': '남'},\n",
       " {'직업': '배우', '생년월일': '1980-06-09', '성별': '남'}]"
      ]
     },
     "execution_count": 17,
     "metadata": {},
     "output_type": "execute_result"
    }
   ],
   "source": [
    "'''\n",
    "get 방식으로 request 보내기\n",
    "  ㄴ requests 모듈에 있는 get() 함수를 호출함\n",
    "  \n",
    "  ul.default_info\n",
    "    <ul class=\"default_info\">\n",
    "        <li><span class=\"tit\">직업</span>배우</li>\n",
    "        <li><span class=\"tit\">생년월일</span>1977-01-26</li>\n",
    "\n",
    "        <li><span class=\"tit\">성별</span>남</li>\n",
    "\n",
    "\n",
    "        <li><span class=\"tit\">신장/체중</span>177cm, 65kg</li>\n",
    "        <li><span class=\"tit\">학교</span>남서울대학교 영어학 (중퇴)</li>\n",
    "        <li><span class=\"tit\">취미</span>영화감상, 음악감상, 컴퓨터게임</li>\n",
    "        <li><span class=\"tit\">특기</span>노래, 기타연주, 탁구, 야구</li>\n",
    "\n",
    "        <li><span class=\"tit\">소속사</span>휴메인엔터테인먼트</li>\n",
    "    </ul>\n",
    "    \n",
    "'''\n",
    "\n",
    "# 비어있는 list 생성\n",
    "actors_info_list = []\n",
    "\n",
    "for actor in actors:\n",
    "    actor_link = \"http://www.cine21.com\" + actor.select_one(\"a\").attrs[\"href\"]\n",
    "    resp_actor = requests.get(actor_link)\n",
    "    soup_actor = BeautifulSoup(resp_actor.content, \"html.parser\")\n",
    "    \n",
    "    default_info = soup_actor.select_one(\"ul.default_info\")\n",
    "    details_actor = default_info.select(\"li\")\n",
    "    \n",
    "    # 비어있는 dictionary 생성\n",
    "    actors_info_dict = {}\n",
    "    \n",
    "    for actor_item in details_actor:\n",
    "        actor_item_key = actor_item.select_one(\"span.tit\").text\n",
    "        actor_item_value = re.sub(\"<span.*?>.*?</span>\",\"\",str(actor_item))\n",
    "        actor_item_value = re.sub(\"<.*?>\",\"\",actor_item_value)\n",
    "        actors_info_dict[actor_item_key] = actor_item_value\n",
    "    \n",
    "    actors_info_list.append(actors_info_dict)\n",
    "    \n",
    "actors_info_list\n",
    "    "
   ]
  },
  {
   "cell_type": "markdown",
   "id": "791a13dc",
   "metadata": {},
   "source": [
    "### 각 배우들의 흥행지수 / 출연 영화"
   ]
  },
  {
   "cell_type": "code",
   "execution_count": 18,
   "id": "d2f8c0af",
   "metadata": {},
   "outputs": [
    {
     "name": "stdout",
     "output_type": "stream",
     "text": [
      "<div class=\"name\"><a href=\"/db/person/info/?person_id=15222\">박해일(5편)</a></div>\n",
      "<div class=\"name\"><a href=\"/db/person/info/?person_id=35760\">박지환(7편)</a></div>\n",
      "<div class=\"name\"><a href=\"/db/person/info/?person_id=104968\">손석구(3편)</a></div>\n",
      "<div class=\"name\"><a href=\"/db/person/info/?person_id=20745\">현빈(4편)</a></div>\n",
      "<div class=\"name\"><a href=\"/db/person/info/?person_id=102264\">최귀화(6편)</a></div>\n",
      "<div class=\"name\"><a href=\"/db/person/info/?person_id=98611\">조우진(9편)</a></div>\n",
      "<div class=\"name\"><a href=\"/db/person/info/?person_id=91462\">허동원(4편)</a></div>\n",
      "<strong>23,925</strong>\n",
      "<strong>22,069</strong>\n",
      "<strong>21,422</strong>\n",
      "<strong>18,211</strong>\n",
      "<strong>18,131</strong>\n",
      "<strong>16,499</strong>\n",
      "<strong>16,039</strong>\n",
      "hits[0] : <strong>23,925</strong>\n",
      "------------------------------------------------------------\n"
     ]
    }
   ],
   "source": [
    "actors = soup.select(\"li.people_li div.name\")\n",
    "hits = soup.select(\"ul.num_info > li > strong\")\n",
    "movies = soup.select(\"ul.mov_list\")\n",
    "\n",
    "for actor in actors:\n",
    "    print(actor)\n",
    "    \n",
    "for hit in hits:\n",
    "    print(hit)\n",
    "    \n",
    "print('hits[0] :',hits[0]) \n",
    "print('-' * 60)\n"
   ]
  },
  {
   "cell_type": "code",
   "execution_count": 19,
   "id": "6122e05c",
   "metadata": {},
   "outputs": [
    {
     "name": "stdout",
     "output_type": "stream",
     "text": [
      "배우이름 : 박해일\n",
      "흥행지수 : 23925\n",
      "출연영화 : ['한산: 용의 출현', '헤어질 결심', '와이키키 브라더스', '제보자', '후아유']\n",
      "--------------------------------------------------------------------------------\n",
      "배우이름 : 박지환\n",
      "흥행지수 : 22069\n",
      "출연영화 : ['유체이탈자', '한산: 용의 출현', '해적: 도깨비 깃발', '지푸라기라도 잡고 싶은 짐승들', '범죄도시2', '봉오동 전투']\n",
      "--------------------------------------------------------------------------------\n",
      "배우이름 : 손석구\n",
      "흥행지수 : 21422\n",
      "출연영화 : ['범죄도시2', '연애 빠진 로맨스', '뺑반']\n",
      "--------------------------------------------------------------------------------\n",
      "배우이름 : 현빈\n",
      "흥행지수 : 18211\n",
      "출연영화 : ['공조2: 인터내셔날', '만추', '협상', '공조']\n",
      "--------------------------------------------------------------------------------\n",
      "배우이름 : 최귀화\n",
      "흥행지수 : 18131\n",
      "출연영화 : ['부기나이트', '기방도령', '범죄도시2', '원더풀 고스트', '택시운전사', '조작된 도시']\n",
      "--------------------------------------------------------------------------------\n",
      "배우이름 : 조우진\n",
      "흥행지수 : 16499\n",
      "출연영화 : ['외계+인 1부', '발신제한', '킹메이커', '도굴', '서복', '국가부도의 날']\n",
      "--------------------------------------------------------------------------------\n",
      "배우이름 : 허동원\n",
      "흥행지수 : 16039\n",
      "출연영화 : ['지푸라기라도 잡고 싶은 짐승들', '특송', '범죄도시2', '악인전']\n",
      "--------------------------------------------------------------------------------\n"
     ]
    }
   ],
   "source": [
    "\n",
    "for idx, actor in enumerate(actors):\n",
    "    print(\"배우이름 :\",(actor.text).split(\"(\")[0])\n",
    "    print(\"흥행지수 :\",int(hits[idx].text.replace(\",\",\"\")))\n",
    "    movie_titles = movies[idx].select(\"li a span\")\n",
    "    \n",
    "    movie_titles_list = []    \n",
    "    for movie_title in movie_titles:\n",
    "        movie_titles_list.append(movie_title.text)\n",
    "        \n",
    "    print(\"출연영화 :\",movie_titles_list)\n",
    "    print(\"-\" * 80)"
   ]
  },
  {
   "cell_type": "markdown",
   "id": "c43b889e",
   "metadata": {},
   "source": [
    "### 수집한 data 로 dictionary 생성하기\n",
    "-  흥행지수 + 출연영화 + 배우상세정보"
   ]
  },
  {
   "cell_type": "code",
   "execution_count": 20,
   "id": "087b7b59",
   "metadata": {},
   "outputs": [
    {
     "data": {
      "text/plain": [
       "[{'배우이름': '박해일',\n",
       "  '흥행지수': 23925,\n",
       "  '출연영화': ['한산: 용의 출현', '헤어질 결심', '와이키키 브라더스', '제보자', '후아유'],\n",
       "  '직업': '직업배우',\n",
       "  '생년월일': '생년월일1980-06-09',\n",
       "  '성별': '성별남'},\n",
       " {'배우이름': '박지환',\n",
       "  '흥행지수': 22069,\n",
       "  '출연영화': ['유체이탈자',\n",
       "   '한산: 용의 출현',\n",
       "   '해적: 도깨비 깃발',\n",
       "   '지푸라기라도 잡고 싶은 짐승들',\n",
       "   '범죄도시2',\n",
       "   '봉오동 전투'],\n",
       "  '직업': '직업배우',\n",
       "  '생년월일': '생년월일1980-06-09',\n",
       "  '성별': '성별남'},\n",
       " {'배우이름': '손석구',\n",
       "  '흥행지수': 21422,\n",
       "  '출연영화': ['범죄도시2', '연애 빠진 로맨스', '뺑반'],\n",
       "  '직업': '직업배우',\n",
       "  '생년월일': '생년월일1980-06-09',\n",
       "  '성별': '성별남'},\n",
       " {'배우이름': '현빈',\n",
       "  '흥행지수': 18211,\n",
       "  '출연영화': ['공조2: 인터내셔날', '만추', '협상', '공조'],\n",
       "  '직업': '직업배우',\n",
       "  '생년월일': '생년월일1980-06-09',\n",
       "  '성별': '성별남'},\n",
       " {'배우이름': '최귀화',\n",
       "  '흥행지수': 18131,\n",
       "  '출연영화': ['부기나이트', '기방도령', '범죄도시2', '원더풀 고스트', '택시운전사', '조작된 도시'],\n",
       "  '직업': '직업배우',\n",
       "  '생년월일': '생년월일1980-06-09',\n",
       "  '성별': '성별남'},\n",
       " {'배우이름': '조우진',\n",
       "  '흥행지수': 16499,\n",
       "  '출연영화': ['외계+인 1부', '발신제한', '킹메이커', '도굴', '서복', '국가부도의 날'],\n",
       "  '직업': '직업배우',\n",
       "  '생년월일': '생년월일1980-06-09',\n",
       "  '성별': '성별남'},\n",
       " {'배우이름': '허동원',\n",
       "  '흥행지수': 16039,\n",
       "  '출연영화': ['지푸라기라도 잡고 싶은 짐승들', '특송', '범죄도시2', '악인전'],\n",
       "  '직업': '직업배우',\n",
       "  '생년월일': '생년월일1980-06-09',\n",
       "  '성별': '성별남'}]"
      ]
     },
     "execution_count": 20,
     "metadata": {},
     "output_type": "execute_result"
    }
   ],
   "source": [
    "actors_info_list = []\n",
    "\n",
    "actors = soup.select(\"li.people_li div.name\")\n",
    "hits = soup.select(\"ul.num_info > li > strong\")\n",
    "movies = soup.select(\"ul.mov_list\")\n",
    "\n",
    "for idx, actor in enumerate(actors):\n",
    "    actor_name = (actor.text).split(\"(\")[0]\n",
    "    actor_hits  = int(hits[idx].text.replace(\",\", \"\"))\n",
    "    movie_titles = movies[idx].select(\"li a span\")\n",
    "    \n",
    "    movie_title_list = []\n",
    "    for movie_title in movie_titles:\n",
    "        movie_title_list.append(movie_title.text)\n",
    "        \n",
    "    actors_info_dict = {}      \n",
    "    actors_info_dict[\"배우이름\"] = actor_name \n",
    "    actors_info_dict[\"흥행지수\"] = actor_hits\n",
    "    actors_info_dict[\"출연영화\"] = movie_title_list\n",
    "    \n",
    "    actor_link = \"http://www.cine21.com\" + actor.select_one(\"a\").attrs[\"href\"]\n",
    "    actor_resp = requests.get(actor_link)\n",
    "    actor_soup = BeautifulSoup(actor_resp.content, \"html.parser\")    \n",
    "    actor_details = default_info.select(\"li\")\n",
    "    \n",
    "    for actor_item in actor_details:\n",
    "        actor_item_key = actor_item.select_one(\"span.tit\").text\n",
    "        actor_item_value = re.sub(\"<sapn.*?>.*?</span>\", \"\", str(actor_item))\n",
    "        actor_item_value = re.sub(\"<.*?>\", \"\", actor_item_value)\n",
    "        \n",
    "        actors_info_dict[actor_item_key] = actor_item_value\n",
    "        \n",
    "    actors_info_list.append(actors_info_dict)    \n",
    "    \n",
    "actors_info_list    "
   ]
  },
  {
   "cell_type": "markdown",
   "id": "6fd428ca",
   "metadata": {},
   "source": []
  },
  {
   "cell_type": "code",
   "execution_count": null,
   "id": "d298d799",
   "metadata": {},
   "outputs": [],
   "source": []
  },
  {
   "cell_type": "code",
   "execution_count": null,
   "id": "e2e0016a",
   "metadata": {},
   "outputs": [],
   "source": []
  },
  {
   "cell_type": "code",
   "execution_count": null,
   "id": "a78901a4",
   "metadata": {},
   "outputs": [],
   "source": []
  },
  {
   "cell_type": "code",
   "execution_count": null,
   "id": "58fba1f6",
   "metadata": {},
   "outputs": [],
   "source": []
  },
  {
   "cell_type": "code",
   "execution_count": null,
   "id": "e20fb315",
   "metadata": {},
   "outputs": [],
   "source": []
  }
 ],
 "metadata": {
  "kernelspec": {
   "display_name": "Python 3 (ipykernel)",
   "language": "python",
   "name": "python3"
  },
  "language_info": {
   "codemirror_mode": {
    "name": "ipython",
    "version": 3
   },
   "file_extension": ".py",
   "mimetype": "text/x-python",
   "name": "python",
   "nbconvert_exporter": "python",
   "pygments_lexer": "ipython3",
   "version": "3.9.12"
  }
 },
 "nbformat": 4,
 "nbformat_minor": 5
}
