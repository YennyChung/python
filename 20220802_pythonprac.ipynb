{
 "cells": [
  {
   "cell_type": "markdown",
   "id": "7d2449c8-57bf-424d-8cfb-44f804404e5e",
   "metadata": {},
   "source": [
    "# 문자열 (문자열은 수정/변형 불가능)"
   ]
  },
  {
   "cell_type": "markdown",
   "id": "ca2d2e7f-8971-4185-9ec3-3496faea5201",
   "metadata": {},
   "source": [
    "- 문자열 슬라이싱"
   ]
  },
  {
   "cell_type": "code",
   "execution_count": 1,
   "id": "07569947-13c3-4e5c-8f4c-44141b707e78",
   "metadata": {},
   "outputs": [],
   "source": [
    "s = 'Monty Python'"
   ]
  },
  {
   "cell_type": "code",
   "execution_count": 2,
   "id": "39857796-5b85-4a6b-9ea6-9bbaddf0e075",
   "metadata": {},
   "outputs": [
    {
     "data": {
      "text/plain": [
       "'on'"
      ]
     },
     "execution_count": 2,
     "metadata": {},
     "output_type": "execute_result"
    }
   ],
   "source": [
    "t = s[-2:]\n",
    "t"
   ]
  },
  {
   "cell_type": "code",
   "execution_count": 3,
   "id": "078fa6ce-0585-408f-85c7-e621bb71bf6a",
   "metadata": {},
   "outputs": [
    {
     "data": {
      "text/plain": [
       "'Monty Pyth'"
      ]
     },
     "execution_count": 3,
     "metadata": {},
     "output_type": "execute_result"
    }
   ],
   "source": [
    "s[:-2]"
   ]
  },
  {
   "cell_type": "code",
   "execution_count": 4,
   "id": "d9f37068-32e0-4142-8683-354f0987e42f",
   "metadata": {},
   "outputs": [
    {
     "data": {
      "text/plain": [
       "'on'"
      ]
     },
     "execution_count": 4,
     "metadata": {},
     "output_type": "execute_result"
    }
   ],
   "source": [
    "s[-2:]"
   ]
  },
  {
   "cell_type": "markdown",
   "id": "6be6ee9c-2f94-40e1-a9ea-b1a6523cde4f",
   "metadata": {},
   "source": [
    "- split() 메소드"
   ]
  },
  {
   "cell_type": "code",
   "execution_count": 5,
   "id": "aabd63f4-072f-431d-a36f-c63ae1250bac",
   "metadata": {},
   "outputs": [],
   "source": [
    "s = 'Welcome to Python'"
   ]
  },
  {
   "cell_type": "code",
   "execution_count": 6,
   "id": "af04bc47-dd00-42bf-b90b-b754654e61d3",
   "metadata": {},
   "outputs": [
    {
     "data": {
      "text/plain": [
       "['Welcome', 'to', 'Python']"
      ]
     },
     "execution_count": 6,
     "metadata": {},
     "output_type": "execute_result"
    }
   ],
   "source": [
    "s.split()  # 공백을 기준으로 문자열 나누기"
   ]
  },
  {
   "cell_type": "code",
   "execution_count": 9,
   "id": "eaec434c-79ea-45e9-8d09-133488c0c35b",
   "metadata": {},
   "outputs": [
    {
     "data": {
      "text/plain": [
       "['Welc', 'me t', ' Pyth', 'n']"
      ]
     },
     "execution_count": 9,
     "metadata": {},
     "output_type": "execute_result"
    }
   ],
   "source": [
    "s.split('o')"
   ]
  },
  {
   "cell_type": "markdown",
   "id": "6133888e-5bc2-4ac4-b6ec-712934fcfb6a",
   "metadata": {},
   "source": [
    "- join() 메소드"
   ]
  },
  {
   "cell_type": "code",
   "execution_count": 10,
   "id": "14507b98-87f3-443f-91c0-ae893625fc3e",
   "metadata": {},
   "outputs": [
    {
     "data": {
      "text/plain": [
       "'apple,grape,banana'"
      ]
     },
     "execution_count": 10,
     "metadata": {},
     "output_type": "execute_result"
    }
   ],
   "source": [
    "','.join(['apple', 'grape', 'banana'])"
   ]
  },
  {
   "cell_type": "code",
   "execution_count": 11,
   "id": "c3a458da-ebbc-4661-a525-fab0747bf724",
   "metadata": {},
   "outputs": [
    {
     "data": {
      "text/plain": [
       "['h', 'e', 'l', 'l', 'o', ' ', 'w', 'o', 'r', 'l', 'd']"
      ]
     },
     "execution_count": 11,
     "metadata": {},
     "output_type": "execute_result"
    }
   ],
   "source": [
    "s = 'hello world'\n",
    "clist = list(s)\n",
    "clist"
   ]
  },
  {
   "cell_type": "code",
   "execution_count": 12,
   "id": "08be4c62-7c28-4c45-bcd0-a786b16f0c56",
   "metadata": {},
   "outputs": [
    {
     "data": {
      "text/plain": [
       "'hello world'"
      ]
     },
     "execution_count": 12,
     "metadata": {},
     "output_type": "execute_result"
    }
   ],
   "source": [
    "''.join(clist)"
   ]
  },
  {
   "cell_type": "code",
   "execution_count": 13,
   "id": "4206ef8d-7573-45cb-8dc4-4a957b4e8aec",
   "metadata": {},
   "outputs": [
    {
     "data": {
      "text/plain": [
       "'Actions \\n\\t speak louder than words'"
      ]
     },
     "execution_count": 13,
     "metadata": {},
     "output_type": "execute_result"
    }
   ],
   "source": [
    "a_string = 'Actions \\n\\t speak louder than words'\n",
    "a_string"
   ]
  },
  {
   "cell_type": "code",
   "execution_count": 14,
   "id": "78ebc355-5972-485d-8fa7-08f9c9a1135c",
   "metadata": {},
   "outputs": [
    {
     "name": "stdout",
     "output_type": "stream",
     "text": [
      "Actions \n",
      "\t speak louder than words\n"
     ]
    }
   ],
   "source": [
    "print(a_string)"
   ]
  },
  {
   "cell_type": "code",
   "execution_count": 15,
   "id": "7182b657-58fb-47d5-aac6-f74214c4bb55",
   "metadata": {},
   "outputs": [],
   "source": [
    "word_list = a_string.split()"
   ]
  },
  {
   "cell_type": "code",
   "execution_count": 16,
   "id": "bd47d7bb-2283-4967-bc0f-4e30a53ad71a",
   "metadata": {},
   "outputs": [
    {
     "data": {
      "text/plain": [
       "['Actions', 'speak', 'louder', 'than', 'words']"
      ]
     },
     "execution_count": 16,
     "metadata": {},
     "output_type": "execute_result"
    }
   ],
   "source": [
    "word_list"
   ]
  },
  {
   "cell_type": "code",
   "execution_count": 17,
   "id": "4c18b4f4-78b0-4161-bc3e-56489e4e1ca8",
   "metadata": {},
   "outputs": [],
   "source": [
    "refined_string = ' '.join(word_list)"
   ]
  },
  {
   "cell_type": "code",
   "execution_count": 18,
   "id": "9f08ab0c-44b6-440c-924d-8892751e7ae2",
   "metadata": {},
   "outputs": [
    {
     "name": "stdout",
     "output_type": "stream",
     "text": [
      "Actions speak louder than words\n"
     ]
    }
   ],
   "source": [
    "print(refined_string)"
   ]
  },
  {
   "cell_type": "markdown",
   "id": "1780f4a6-99cb-4fa5-bcc3-3a4d019d2f72",
   "metadata": {},
   "source": [
    "- strip() 메소드"
   ]
  },
  {
   "cell_type": "code",
   "execution_count": 21,
   "id": "87cd85fd-661c-403e-8173-b7f92da5cfaf",
   "metadata": {},
   "outputs": [
    {
     "data": {
      "text/plain": [
       "'Hello, World!'"
      ]
     },
     "execution_count": 21,
     "metadata": {},
     "output_type": "execute_result"
    }
   ],
   "source": [
    "s = '  Hello, World!  '\n",
    "s.strip()"
   ]
  },
  {
   "cell_type": "markdown",
   "id": "e30423a7-daae-4b65-a004-380eeead9f2b",
   "metadata": {},
   "source": [
    "- lstrip() 메소드"
   ]
  },
  {
   "cell_type": "code",
   "execution_count": 22,
   "id": "1a3656ea-36f5-45cb-83a7-d8df101cd889",
   "metadata": {},
   "outputs": [
    {
     "data": {
      "text/plain": [
       "'Hello, World!  '"
      ]
     },
     "execution_count": 22,
     "metadata": {},
     "output_type": "execute_result"
    }
   ],
   "source": [
    "s.lstrip()"
   ]
  },
  {
   "cell_type": "markdown",
   "id": "d9908d6b-8209-446b-965d-e3f51d8f703c",
   "metadata": {},
   "source": [
    "- rstrip() 메소드"
   ]
  },
  {
   "cell_type": "code",
   "execution_count": 23,
   "id": "20c0f560-ad52-4e44-a1f7-8226b0756c60",
   "metadata": {},
   "outputs": [
    {
     "data": {
      "text/plain": [
       "'  Hello, World!'"
      ]
     },
     "execution_count": 23,
     "metadata": {},
     "output_type": "execute_result"
    }
   ],
   "source": [
    "s.rstrip()"
   ]
  },
  {
   "cell_type": "markdown",
   "id": "d8391e3c-3bed-4489-a8f9-da6bf11507d5",
   "metadata": {},
   "source": [
    "- upper, lower() 메소드"
   ]
  },
  {
   "cell_type": "code",
   "execution_count": 90,
   "id": "100331fd-aae7-41aa-a1be-e2cdcdd7f499",
   "metadata": {},
   "outputs": [
    {
     "data": {
      "text/plain": [
       "'HELLO'"
      ]
     },
     "execution_count": 90,
     "metadata": {},
     "output_type": "execute_result"
    }
   ],
   "source": [
    "a = 'hello'\n",
    "a.upper()"
   ]
  },
  {
   "cell_type": "markdown",
   "id": "6b152c5e-a7d6-4ec1-8140-8d079b1adf94",
   "metadata": {},
   "source": [
    "- caplitalize() 메소드"
   ]
  },
  {
   "cell_type": "code",
   "execution_count": 91,
   "id": "66306404-e575-4ca9-a5be-8e6ff99a959c",
   "metadata": {},
   "outputs": [
    {
     "data": {
      "text/plain": [
       "'Hello'"
      ]
     },
     "execution_count": 91,
     "metadata": {},
     "output_type": "execute_result"
    }
   ],
   "source": [
    "a.capitalize()"
   ]
  },
  {
   "cell_type": "markdown",
   "id": "5f0eb20b-177d-405b-b094-d802648a6fe2",
   "metadata": {},
   "source": [
    "- title() 메소드; 모든 문자의 첫번째 단어를 대문자로"
   ]
  },
  {
   "cell_type": "code",
   "execution_count": 92,
   "id": "e88ca47a-dee5-4c32-bcf0-4a75edf12444",
   "metadata": {},
   "outputs": [
    {
     "data": {
      "text/plain": [
       "'Hello'"
      ]
     },
     "execution_count": 92,
     "metadata": {},
     "output_type": "execute_result"
    }
   ],
   "source": [
    "a.title()"
   ]
  },
  {
   "cell_type": "markdown",
   "id": "f436b85d-54c0-4e7f-935a-a6915f2b039a",
   "metadata": {},
   "source": [
    "- find() 메소드"
   ]
  },
  {
   "cell_type": "code",
   "execution_count": 24,
   "id": "d94ba904-6762-4893-88f9-1f895e65ceb5",
   "metadata": {},
   "outputs": [
    {
     "data": {
      "text/plain": [
       "13"
      ]
     },
     "execution_count": 24,
     "metadata": {},
     "output_type": "execute_result"
    }
   ],
   "source": [
    "s = 'www.booksr.co.kr'\n",
    "s.find('.kr')"
   ]
  },
  {
   "cell_type": "markdown",
   "id": "98aff625-80d6-458b-92e1-602fb4b1b967",
   "metadata": {},
   "source": [
    "find() 메소드로 해당 값을 찾을 수 없을 땐, -1 반환"
   ]
  },
  {
   "cell_type": "code",
   "execution_count": 25,
   "id": "ba5e0d22-e248-42e7-b59f-80ea5e0d5d13",
   "metadata": {},
   "outputs": [
    {
     "data": {
      "text/plain": [
       "-1"
      ]
     },
     "execution_count": 25,
     "metadata": {},
     "output_type": "execute_result"
    }
   ],
   "source": [
    "s.find('x')"
   ]
  },
  {
   "cell_type": "markdown",
   "id": "db30ac0a-5a9b-426f-85da-92f966cdffa0",
   "metadata": {},
   "source": [
    "- count() 메소드"
   ]
  },
  {
   "cell_type": "code",
   "execution_count": 26,
   "id": "54635724-bed2-4d79-b263-9b592e322598",
   "metadata": {},
   "outputs": [
    {
     "data": {
      "text/plain": [
       "3"
      ]
     },
     "execution_count": 26,
     "metadata": {},
     "output_type": "execute_result"
    }
   ],
   "source": [
    "s.count('.')"
   ]
  },
  {
   "cell_type": "markdown",
   "id": "78310b91-577c-4cd4-a5ca-8a151d55aa85",
   "metadata": {},
   "source": [
    "- len() 메소드"
   ]
  },
  {
   "cell_type": "code",
   "execution_count": 27,
   "id": "66e68733-1fd2-4073-ac47-ffcc9001dfa6",
   "metadata": {},
   "outputs": [
    {
     "data": {
      "text/plain": [
       "16"
      ]
     },
     "execution_count": 27,
     "metadata": {},
     "output_type": "execute_result"
    }
   ],
   "source": [
    "len(s)"
   ]
  },
  {
   "cell_type": "markdown",
   "id": "e1a0230f-5ddb-4188-891f-34c0206901f4",
   "metadata": {},
   "source": [
    "- ord() 메소드; 문자의 아스키코드 반환"
   ]
  },
  {
   "cell_type": "code",
   "execution_count": 28,
   "id": "b5559850-20f6-45d0-8d92-bc0d51863dd3",
   "metadata": {},
   "outputs": [
    {
     "data": {
      "text/plain": [
       "119"
      ]
     },
     "execution_count": 28,
     "metadata": {},
     "output_type": "execute_result"
    }
   ],
   "source": [
    "ord(max(s))"
   ]
  },
  {
   "cell_type": "markdown",
   "id": "681fa3cd-770b-4c99-abc1-d4784e1d517c",
   "metadata": {},
   "source": [
    "### 문자열 계산"
   ]
  },
  {
   "cell_type": "markdown",
   "id": "b4fa9adb-c53a-4f14-9c12-b14ef9572b83",
   "metadata": {},
   "source": [
    "- concatenation() 메소드"
   ]
  },
  {
   "cell_type": "markdown",
   "id": "1b53357c-1c65-401c-97b6-083d4ead3cc3",
   "metadata": {},
   "source": [
    "- 문자열 더하기"
   ]
  },
  {
   "cell_type": "code",
   "execution_count": 29,
   "id": "35681dd2-e0bc-4b00-be16-290b9da69f54",
   "metadata": {},
   "outputs": [
    {
     "data": {
      "text/plain": [
       "'Python is fun'"
      ]
     },
     "execution_count": 29,
     "metadata": {},
     "output_type": "execute_result"
    }
   ],
   "source": [
    "head = 'Python'\n",
    "tail = ' is fun'\n",
    "head + tail"
   ]
  },
  {
   "cell_type": "markdown",
   "id": "e25a8f83-667f-4ad7-9e62-ae29cbb1614d",
   "metadata": {},
   "source": [
    "- 문자열 곱하기"
   ]
  },
  {
   "cell_type": "code",
   "execution_count": 30,
   "id": "fd8c62e1-6f21-42a2-b655-792b738db5ed",
   "metadata": {},
   "outputs": [
    {
     "data": {
      "text/plain": [
       "'PythonPython'"
      ]
     },
     "execution_count": 30,
     "metadata": {},
     "output_type": "execute_result"
    }
   ],
   "source": [
    "head * 2"
   ]
  },
  {
   "cell_type": "markdown",
   "id": "22a77f65-6db9-4054-af36-f25867d28303",
   "metadata": {},
   "source": [
    "- 문자열 곱하기 응용"
   ]
  },
  {
   "cell_type": "code",
   "execution_count": 32,
   "id": "7b0e2f91-0d50-4dd4-80af-0d6070d6ba59",
   "metadata": {},
   "outputs": [
    {
     "name": "stdout",
     "output_type": "stream",
     "text": [
      "==================================================\n",
      "My Program\n",
      "==================================================\n"
     ]
    }
   ],
   "source": [
    "# multistring.py\n",
    "\n",
    "print(\"=\" * 50)\n",
    "print(\"My Program\")\n",
    "print(\"=\" * 50)"
   ]
  },
  {
   "cell_type": "markdown",
   "id": "e59b220f-0ce1-4b40-a5bf-876b45655f98",
   "metadata": {},
   "source": [
    "- 문자열 인덱싱과 슬라이싱"
   ]
  },
  {
   "cell_type": "markdown",
   "id": "e09a30e5-a7cd-46b9-989a-1aeb2b7357ee",
   "metadata": {},
   "source": [
    "인덱싱: 배열에서 원소 찾기\n",
    "\n",
    "슬라이싱: 배열에서 원소열 찾기"
   ]
  },
  {
   "cell_type": "code",
   "execution_count": 33,
   "id": "c1d6f543-0b72-4497-be53-5d6eb41fd706",
   "metadata": {},
   "outputs": [
    {
     "data": {
      "text/plain": [
       "'L'"
      ]
     },
     "execution_count": 33,
     "metadata": {},
     "output_type": "execute_result"
    }
   ],
   "source": [
    "a = 'Life is too short, You need Python'\n",
    "a[0]"
   ]
  },
  {
   "cell_type": "code",
   "execution_count": 34,
   "id": "055e9b03-01d2-40ae-997f-1dca03030e31",
   "metadata": {},
   "outputs": [
    {
     "data": {
      "text/plain": [
       "'s'"
      ]
     },
     "execution_count": 34,
     "metadata": {},
     "output_type": "execute_result"
    }
   ],
   "source": [
    "a[12]"
   ]
  },
  {
   "cell_type": "code",
   "execution_count": 35,
   "id": "ef3522aa-1eb3-4410-9b82-56d22db4aa49",
   "metadata": {},
   "outputs": [
    {
     "data": {
      "text/plain": [
       "'n'"
      ]
     },
     "execution_count": 35,
     "metadata": {},
     "output_type": "execute_result"
    }
   ],
   "source": [
    "a[-1]"
   ]
  },
  {
   "cell_type": "markdown",
   "id": "bf259d2e-2a0f-4101-b6ca-2b8eff0019c6",
   "metadata": {},
   "source": [
    "공백또한 하나의 인덱스로 사용됨"
   ]
  },
  {
   "cell_type": "code",
   "execution_count": 36,
   "id": "04dad4dd-09fe-491e-8db5-2aa31587e825",
   "metadata": {},
   "outputs": [],
   "source": [
    "greeting = \"Hello, world\""
   ]
  },
  {
   "cell_type": "markdown",
   "id": "67e737dc-eab4-407c-8c4a-b6f1047b4d12",
   "metadata": {},
   "source": [
    "문자열은 수정/변경 불가능"
   ]
  },
  {
   "cell_type": "code",
   "execution_count": 38,
   "id": "fbc8269d-a707-43d7-9636-0cf48c218c2b",
   "metadata": {},
   "outputs": [
    {
     "ename": "TypeError",
     "evalue": "'str' object does not support item assignment",
     "output_type": "error",
     "traceback": [
      "\u001b[1;31m---------------------------------------------------------------------------\u001b[0m",
      "\u001b[1;31mTypeError\u001b[0m                                 Traceback (most recent call last)",
      "Input \u001b[1;32mIn [38]\u001b[0m, in \u001b[0;36m<cell line: 1>\u001b[1;34m()\u001b[0m\n\u001b[1;32m----> 1\u001b[0m greeting[\u001b[38;5;241m0\u001b[39m] \u001b[38;5;241m=\u001b[39m \u001b[38;5;124m'\u001b[39m\u001b[38;5;124mj\u001b[39m\u001b[38;5;124m'\u001b[39m\n",
      "\u001b[1;31mTypeError\u001b[0m: 'str' object does not support item assignment"
     ]
    }
   ],
   "source": [
    "greeting[0] = 'j'"
   ]
  },
  {
   "cell_type": "markdown",
   "id": "7b098523-4809-461a-8b18-f2a761fd1664",
   "metadata": {},
   "source": [
    "[:]: 처음부터 끝까지 전부\n",
    "\n",
    "[x:]: x에서부터 끝까지, \n",
    "\n",
    "[:y]: 처음부터 y-1번째까지"
   ]
  },
  {
   "cell_type": "code",
   "execution_count": 39,
   "id": "a8b23ba0-c734-4b00-a963-cae8f855934f",
   "metadata": {},
   "outputs": [
    {
     "data": {
      "text/plain": [
       "'He'"
      ]
     },
     "execution_count": 39,
     "metadata": {},
     "output_type": "execute_result"
    }
   ],
   "source": [
    "greeting[0] + greeting[1]"
   ]
  },
  {
   "cell_type": "code",
   "execution_count": 41,
   "id": "0feb38d1-3d1e-4a17-be93-e2ca211c8c32",
   "metadata": {},
   "outputs": [
    {
     "data": {
      "text/plain": [
       "''"
      ]
     },
     "execution_count": 41,
     "metadata": {},
     "output_type": "execute_result"
    }
   ],
   "source": [
    "greeting[4:0]  # 거꾸로 가야하는데 못찾음"
   ]
  },
  {
   "cell_type": "code",
   "execution_count": 42,
   "id": "41de56d6-d4b4-404f-8551-0adccc28133f",
   "metadata": {},
   "outputs": [
    {
     "data": {
      "text/plain": [
       "12"
      ]
     },
     "execution_count": 42,
     "metadata": {},
     "output_type": "execute_result"
    }
   ],
   "source": [
    "len(greeting)"
   ]
  },
  {
   "cell_type": "code",
   "execution_count": 43,
   "id": "bd867ba4-1ee2-4904-9914-da52bd8bf67f",
   "metadata": {},
   "outputs": [],
   "source": [
    "a = '20010331Rainy'"
   ]
  },
  {
   "cell_type": "code",
   "execution_count": 44,
   "id": "ad6c7ef5-a7df-4a8b-9145-a6e539496d52",
   "metadata": {},
   "outputs": [],
   "source": [
    "year = a[:4]"
   ]
  },
  {
   "cell_type": "code",
   "execution_count": 45,
   "id": "b33b67cd-6e3c-4212-bf52-f1552d82f349",
   "metadata": {},
   "outputs": [
    {
     "data": {
      "text/plain": [
       "'2001'"
      ]
     },
     "execution_count": 45,
     "metadata": {},
     "output_type": "execute_result"
    }
   ],
   "source": [
    "year"
   ]
  },
  {
   "cell_type": "code",
   "execution_count": 46,
   "id": "94386ee7-6d4f-4674-8c79-69c81a3bfb4d",
   "metadata": {},
   "outputs": [],
   "source": [
    "day = a[4:8]"
   ]
  },
  {
   "cell_type": "code",
   "execution_count": 47,
   "id": "22bca7f6-7ba3-46cf-b430-6717518abdbd",
   "metadata": {},
   "outputs": [
    {
     "data": {
      "text/plain": [
       "'0331'"
      ]
     },
     "execution_count": 47,
     "metadata": {},
     "output_type": "execute_result"
    }
   ],
   "source": [
    "day"
   ]
  },
  {
   "cell_type": "code",
   "execution_count": 48,
   "id": "066658d0-00cd-4ed5-88f5-df15a72a5dd7",
   "metadata": {},
   "outputs": [
    {
     "data": {
      "text/plain": [
       "'Rainy'"
      ]
     },
     "execution_count": 48,
     "metadata": {},
     "output_type": "execute_result"
    }
   ],
   "source": [
    "weather = a[8:]\n",
    "weather"
   ]
  },
  {
   "cell_type": "markdown",
   "id": "269bf309-cdeb-4a54-b095-5aca6d0cd1e5",
   "metadata": {},
   "source": [
    "mutable: 변수의 내용이 수정가능한 자료형 (숫자형, 리스트, 딕셔너리)\n",
    "\n",
    "immutable: 변수의 내용이 수정불가능한 자료형 (문자열, 튜플)"
   ]
  },
  {
   "cell_type": "code",
   "execution_count": 49,
   "id": "6c904ee3-423f-4adb-9027-04e40b8a8a17",
   "metadata": {},
   "outputs": [
    {
     "ename": "TypeError",
     "evalue": "'str' object does not support item assignment",
     "output_type": "error",
     "traceback": [
      "\u001b[1;31m---------------------------------------------------------------------------\u001b[0m",
      "\u001b[1;31mTypeError\u001b[0m                                 Traceback (most recent call last)",
      "Input \u001b[1;32mIn [49]\u001b[0m, in \u001b[0;36m<cell line: 2>\u001b[1;34m()\u001b[0m\n\u001b[0;32m      1\u001b[0m a \u001b[38;5;241m=\u001b[39m \u001b[38;5;124m'\u001b[39m\u001b[38;5;124mPithon\u001b[39m\u001b[38;5;124m'\u001b[39m\n\u001b[1;32m----> 2\u001b[0m a[\u001b[38;5;241m1\u001b[39m] \u001b[38;5;241m=\u001b[39m \u001b[38;5;124m'\u001b[39m\u001b[38;5;124my\u001b[39m\u001b[38;5;124m'\u001b[39m\n",
      "\u001b[1;31mTypeError\u001b[0m: 'str' object does not support item assignment"
     ]
    }
   ],
   "source": [
    "a = 'Pithon'\n",
    "a[1] = 'y'"
   ]
  },
  {
   "cell_type": "markdown",
   "id": "0926c1be-bfeb-4a9c-8d95-1ca53232756c",
   "metadata": {},
   "source": [
    "- 각각의 변수를 찢어서 만들어줘야함"
   ]
  },
  {
   "cell_type": "code",
   "execution_count": 50,
   "id": "75be30af-8492-47b0-a161-0c596bc313eb",
   "metadata": {},
   "outputs": [
    {
     "data": {
      "text/plain": [
       "'P'"
      ]
     },
     "execution_count": 50,
     "metadata": {},
     "output_type": "execute_result"
    }
   ],
   "source": [
    "a[0]"
   ]
  },
  {
   "cell_type": "code",
   "execution_count": 53,
   "id": "51e3b92c-c5a3-4d4d-bbe0-ec7b6b45f202",
   "metadata": {},
   "outputs": [
    {
     "data": {
      "text/plain": [
       "'thon'"
      ]
     },
     "execution_count": 53,
     "metadata": {},
     "output_type": "execute_result"
    }
   ],
   "source": [
    "a[2:]"
   ]
  },
  {
   "cell_type": "code",
   "execution_count": 54,
   "id": "22768284-a68d-4478-9867-5e0bce9faf1b",
   "metadata": {},
   "outputs": [
    {
     "data": {
      "text/plain": [
       "'Python'"
      ]
     },
     "execution_count": 54,
     "metadata": {},
     "output_type": "execute_result"
    }
   ],
   "source": [
    "a[0] + 'y' + a[2:]"
   ]
  },
  {
   "cell_type": "markdown",
   "id": "07fff8ac-6707-4a77-b0c1-5f54b1c59ea2",
   "metadata": {},
   "source": [
    "- 문자열 포맷팅 (1)"
   ]
  },
  {
   "cell_type": "code",
   "execution_count": 82,
   "id": "7f3fab91-0e18-41ed-813b-b191ac43e06f",
   "metadata": {},
   "outputs": [
    {
     "name": "stdout",
     "output_type": "stream",
     "text": [
      "I eat 3 apples.\n"
     ]
    }
   ],
   "source": [
    "print('I eat %d apples.' % 3.14)  # 정수형 숫자만 남기고 출력"
   ]
  },
  {
   "cell_type": "code",
   "execution_count": 83,
   "id": "4ada4338-34f0-4c01-8e14-8f767ebf36df",
   "metadata": {},
   "outputs": [
    {
     "name": "stdout",
     "output_type": "stream",
     "text": [
      "I eat 3.140000 apples.\n"
     ]
    }
   ],
   "source": [
    "print('I eat %f apples.' % 3.14)  # 소수형 숫자 출력"
   ]
  },
  {
   "cell_type": "code",
   "execution_count": 84,
   "id": "3b5f5215-bbe7-41f0-be89-8cbf2c4ff2f4",
   "metadata": {},
   "outputs": [
    {
     "name": "stdout",
     "output_type": "stream",
     "text": [
      "I eat  3.1 apples.\n"
     ]
    }
   ],
   "source": [
    "print('I eat %4.1f apples.' % 3.14)  # 소수 첫째자리까지만 출력"
   ]
  },
  {
   "cell_type": "code",
   "execution_count": 60,
   "id": "f7da10dd-8606-41ec-827b-2cce94df96bc",
   "metadata": {},
   "outputs": [
    {
     "data": {
      "text/plain": [
       "'I eat 3 apples.'"
      ]
     },
     "execution_count": 60,
     "metadata": {},
     "output_type": "execute_result"
    }
   ],
   "source": [
    "\"I eat %d apples.\" % 3"
   ]
  },
  {
   "cell_type": "code",
   "execution_count": 61,
   "id": "a0784442-df8c-44f7-8770-4c39800407a2",
   "metadata": {},
   "outputs": [
    {
     "data": {
      "text/plain": [
       "'I eat five apples.'"
      ]
     },
     "execution_count": 61,
     "metadata": {},
     "output_type": "execute_result"
    }
   ],
   "source": [
    "\"I eat %s apples.\" % \"five\""
   ]
  },
  {
   "cell_type": "code",
   "execution_count": 62,
   "id": "6595e3b0-ad5c-42d5-bbd3-57ff34071fae",
   "metadata": {},
   "outputs": [
    {
     "data": {
      "text/plain": [
       "'I eat 3 apples.'"
      ]
     },
     "execution_count": 62,
     "metadata": {},
     "output_type": "execute_result"
    }
   ],
   "source": [
    "number = 3; \"I eat %d apples.\" % number"
   ]
  },
  {
   "cell_type": "markdown",
   "id": "c1627a00-5ea7-4215-b9f0-74674e082651",
   "metadata": {},
   "source": [
    "- 문자열 포맷팅 (2)"
   ]
  },
  {
   "cell_type": "code",
   "execution_count": 63,
   "id": "967f496c-9569-4dae-8cea-6b7c7182066a",
   "metadata": {},
   "outputs": [
    {
     "data": {
      "text/plain": [
       "'        hi'"
      ]
     },
     "execution_count": 63,
     "metadata": {},
     "output_type": "execute_result"
    }
   ],
   "source": [
    "\"%10s\" % \"hi\""
   ]
  },
  {
   "cell_type": "code",
   "execution_count": 64,
   "id": "96f3445d-e5cc-43a5-b800-6590b3e53694",
   "metadata": {},
   "outputs": [
    {
     "data": {
      "text/plain": [
       "'hi        jane'"
      ]
     },
     "execution_count": 64,
     "metadata": {},
     "output_type": "execute_result"
    }
   ],
   "source": [
    "\"%-10sjane\" % 'hi'"
   ]
  },
  {
   "cell_type": "code",
   "execution_count": 65,
   "id": "af3f2406-49a4-4462-b25d-af30e1a9ec49",
   "metadata": {},
   "outputs": [
    {
     "data": {
      "text/plain": [
       "'3.4213'"
      ]
     },
     "execution_count": 65,
     "metadata": {},
     "output_type": "execute_result"
    }
   ],
   "source": [
    "\"%0.4f\" % 3.42134234"
   ]
  },
  {
   "cell_type": "code",
   "execution_count": 66,
   "id": "edd8a196-2de8-487e-93e4-c8642f4ef40f",
   "metadata": {},
   "outputs": [
    {
     "data": {
      "text/plain": [
       "'    3.4213'"
      ]
     },
     "execution_count": 66,
     "metadata": {},
     "output_type": "execute_result"
    }
   ],
   "source": [
    "\"%10.4f\" % 3.42134234"
   ]
  },
  {
   "cell_type": "code",
   "execution_count": 67,
   "id": "6916209b-c204-47b7-8bbf-ecbd351115c6",
   "metadata": {},
   "outputs": [
    {
     "data": {
      "text/plain": [
       "'I eat 3 apples'"
      ]
     },
     "execution_count": 67,
     "metadata": {},
     "output_type": "execute_result"
    }
   ],
   "source": [
    "\"I eat {} apples\".format(3)"
   ]
  },
  {
   "cell_type": "code",
   "execution_count": 69,
   "id": "718413c4-3570-448f-bf7e-d041ff2576d2",
   "metadata": {},
   "outputs": [
    {
     "data": {
      "text/plain": [
       "'I eat five apples'"
      ]
     },
     "execution_count": 69,
     "metadata": {},
     "output_type": "execute_result"
    }
   ],
   "source": [
    "\"I eat {} apples\".format(\"five\")"
   ]
  },
  {
   "cell_type": "markdown",
   "id": "1a5c1444-0e69-47a0-8966-75036fd1c015",
   "metadata": {},
   "source": [
    "- f문자열 포맷팅\n",
    "\n",
    "f'{변수:포맷}' or f\"{변수:포맷}\""
   ]
  },
  {
   "cell_type": "code",
   "execution_count": 71,
   "id": "fe41d039-2e74-4113-b24a-0199601005af",
   "metadata": {},
   "outputs": [
    {
     "data": {
      "text/plain": [
       "'나의 이름은 홍길동입니다. 나이는 30입니다.'"
      ]
     },
     "execution_count": 71,
     "metadata": {},
     "output_type": "execute_result"
    }
   ],
   "source": [
    "name = \"홍길동\"; age = 30; f'나의 이름은 {name}입니다. 나이는 {age}입니다.'"
   ]
  },
  {
   "cell_type": "code",
   "execution_count": 72,
   "id": "9028557b-66a1-4b19-98b3-ede166ca83a3",
   "metadata": {},
   "outputs": [
    {
     "data": {
      "text/plain": [
       "'나는 내년이면 31살이 된다.'"
      ]
     },
     "execution_count": 72,
     "metadata": {},
     "output_type": "execute_result"
    }
   ],
   "source": [
    "f'나는 내년이면 {age+1}살이 된다.'"
   ]
  },
  {
   "cell_type": "code",
   "execution_count": 74,
   "id": "bd072c4a-065f-425a-a8e3-42de3edd9d90",
   "metadata": {},
   "outputs": [],
   "source": [
    "y = 3.4213"
   ]
  },
  {
   "cell_type": "code",
   "execution_count": 75,
   "id": "e1aed2b7-bd2d-48d8-af74-584a5533b963",
   "metadata": {},
   "outputs": [
    {
     "data": {
      "text/plain": [
       "'3.4213'"
      ]
     },
     "execution_count": 75,
     "metadata": {},
     "output_type": "execute_result"
    }
   ],
   "source": [
    "f'{y:0.4f}'"
   ]
  },
  {
   "cell_type": "code",
   "execution_count": 81,
   "id": "eb89e662-c480-4c63-95f9-4f6b8ccd0e78",
   "metadata": {},
   "outputs": [
    {
     "data": {
      "text/plain": [
       "'    3.4213'"
      ]
     },
     "execution_count": 81,
     "metadata": {},
     "output_type": "execute_result"
    }
   ],
   "source": [
    "f'{y:10.4f}'  # 전체 자릿수는 10으로, .f 부분은 소수자리 갯수 의미함"
   ]
  },
  {
   "cell_type": "code",
   "execution_count": 77,
   "id": "b70b13a7-cd96-4d72-bd5f-18f081dfa73e",
   "metadata": {},
   "outputs": [
    {
     "data": {
      "text/plain": [
       "'3.421'"
      ]
     },
     "execution_count": 77,
     "metadata": {},
     "output_type": "execute_result"
    }
   ],
   "source": [
    "f'{y:2.3f}'"
   ]
  },
  {
   "cell_type": "markdown",
   "id": "3c80732e-fd0f-4f45-80eb-c1c2b90d4375",
   "metadata": {},
   "source": [
    "- find() vs. index()\n",
    "\n",
    "문자열 중 문자 t가 맨 처음으로 나온 위치를 반환; index()함수가 find()함수와 다른 점은 문자열 안에 존재하지 않는 문자를 찾으면 오류 발생"
   ]
  },
  {
   "cell_type": "code",
   "execution_count": 78,
   "id": "14233459-5111-4218-9480-874c48891da3",
   "metadata": {},
   "outputs": [
    {
     "data": {
      "text/plain": [
       "8"
      ]
     },
     "execution_count": 78,
     "metadata": {},
     "output_type": "execute_result"
    }
   ],
   "source": [
    "a = 'Life is too short'\n",
    "a.index('t')"
   ]
  },
  {
   "cell_type": "code",
   "execution_count": 79,
   "id": "f4da20e3-b01d-41a3-87df-9fd21337d42e",
   "metadata": {},
   "outputs": [
    {
     "data": {
      "text/plain": [
       "'a,b,c,d'"
      ]
     },
     "execution_count": 79,
     "metadata": {},
     "output_type": "execute_result"
    }
   ],
   "source": [
    "a = ','\n",
    "a.join('abcd')"
   ]
  },
  {
   "cell_type": "code",
   "execution_count": 80,
   "id": "19628177-34e7-4101-87e8-ed2ebc5db149",
   "metadata": {},
   "outputs": [
    {
     "data": {
      "text/plain": [
       "'i,l,o,v,e,y,o,u'"
      ]
     },
     "execution_count": 80,
     "metadata": {},
     "output_type": "execute_result"
    }
   ],
   "source": [
    "a.join('iloveyou')"
   ]
  },
  {
   "cell_type": "markdown",
   "id": "6e7d0c9a-4fec-4bb8-b202-4505f2c5bbe2",
   "metadata": {},
   "source": [
    "- 문자열 바꾸기 (replace)"
   ]
  },
  {
   "cell_type": "code",
   "execution_count": 93,
   "id": "ca4a30b0-097a-4664-a303-0b77f2cf6015",
   "metadata": {},
   "outputs": [],
   "source": [
    "string_tr = 'Life is too short'"
   ]
  },
  {
   "cell_type": "code",
   "execution_count": 94,
   "id": "4b2b47a3-fd89-4dcc-912b-9930307e9818",
   "metadata": {},
   "outputs": [
    {
     "data": {
      "text/plain": [
       "'Your leg is too short'"
      ]
     },
     "execution_count": 94,
     "metadata": {},
     "output_type": "execute_result"
    }
   ],
   "source": [
    "string_tr.replace('Life', 'Your leg')"
   ]
  },
  {
   "cell_type": "code",
   "execution_count": 95,
   "id": "21432a89-8f5b-4d44-a59a-fdf9021fa91d",
   "metadata": {},
   "outputs": [],
   "source": [
    "s1 = 'Long live the King'"
   ]
  },
  {
   "cell_type": "code",
   "execution_count": 96,
   "id": "b5f7f561-fff3-44b4-bdcd-d51ee2fdac34",
   "metadata": {},
   "outputs": [
    {
     "data": {
      "text/plain": [
       "'Long live the king'"
      ]
     },
     "execution_count": 96,
     "metadata": {},
     "output_type": "execute_result"
    }
   ],
   "source": [
    "s1.capitalize()"
   ]
  },
  {
   "cell_type": "code",
   "execution_count": 97,
   "id": "b34d9e51-e18b-4ef6-9ccd-48eced06851b",
   "metadata": {},
   "outputs": [
    {
     "data": {
      "text/plain": [
       "'Long Live The King'"
      ]
     },
     "execution_count": 97,
     "metadata": {},
     "output_type": "execute_result"
    }
   ],
   "source": [
    "s1.title()"
   ]
  },
  {
   "cell_type": "markdown",
   "id": "fe8a5753-1669-46af-ac4a-0c1fa5822452",
   "metadata": {},
   "source": [
    "- 문제 1"
   ]
  },
  {
   "cell_type": "code",
   "execution_count": 98,
   "id": "81e4980b-f1dc-4064-b796-078d15d76311",
   "metadata": {},
   "outputs": [],
   "source": [
    "j_num = '881120-1068234'"
   ]
  },
  {
   "cell_type": "code",
   "execution_count": 99,
   "id": "f6bd5212-0db6-4f4d-9b2e-c51f4e2eb5ba",
   "metadata": {},
   "outputs": [
    {
     "data": {
      "text/plain": [
       "'88'"
      ]
     },
     "execution_count": 99,
     "metadata": {},
     "output_type": "execute_result"
    }
   ],
   "source": [
    "j_num[:2]"
   ]
  },
  {
   "cell_type": "code",
   "execution_count": 101,
   "id": "8ff83678-a3d5-4824-8f54-6ca03e8579f3",
   "metadata": {},
   "outputs": [
    {
     "data": {
      "text/plain": [
       "'1988'"
      ]
     },
     "execution_count": 101,
     "metadata": {},
     "output_type": "execute_result"
    }
   ],
   "source": [
    "'19' + j_num[:2]"
   ]
  },
  {
   "cell_type": "code",
   "execution_count": 102,
   "id": "1972700c-f1f5-4d20-ac24-9a32892de37b",
   "metadata": {},
   "outputs": [
    {
     "data": {
      "text/plain": [
       "'11월'"
      ]
     },
     "execution_count": 102,
     "metadata": {},
     "output_type": "execute_result"
    }
   ],
   "source": [
    "j_num[2:4] + '월'"
   ]
  },
  {
   "cell_type": "code",
   "execution_count": 103,
   "id": "b1e7ce13-7c25-4470-89a3-bf02688b6511",
   "metadata": {},
   "outputs": [
    {
     "data": {
      "text/plain": [
       "'20일'"
      ]
     },
     "execution_count": 103,
     "metadata": {},
     "output_type": "execute_result"
    }
   ],
   "source": [
    "j_num[4:6] + '일'"
   ]
  },
  {
   "cell_type": "code",
   "execution_count": 104,
   "id": "269f4f0c-b59f-4d28-8cbe-ac00cda19623",
   "metadata": {},
   "outputs": [
    {
     "data": {
      "text/plain": [
       "['881120', '1068234']"
      ]
     },
     "execution_count": 104,
     "metadata": {},
     "output_type": "execute_result"
    }
   ],
   "source": [
    "j_num.split('-')"
   ]
  },
  {
   "cell_type": "markdown",
   "id": "77e54838-52d7-4859-817c-1232ec944278",
   "metadata": {},
   "source": [
    "- 문제 2"
   ]
  },
  {
   "cell_type": "code",
   "execution_count": 105,
   "id": "688a818a-336f-4964-a5be-cee92a946b17",
   "metadata": {},
   "outputs": [],
   "source": [
    "pin = \"881120-1068234\""
   ]
  },
  {
   "cell_type": "code",
   "execution_count": 106,
   "id": "c37085aa-2cf1-4e7a-9f89-1bf92dd375e0",
   "metadata": {},
   "outputs": [
    {
     "data": {
      "text/plain": [
       "'1'"
      ]
     },
     "execution_count": 106,
     "metadata": {},
     "output_type": "execute_result"
    }
   ],
   "source": [
    "pin[-7]"
   ]
  },
  {
   "cell_type": "markdown",
   "id": "d15a0b89-956d-48c2-a608-57b37ba49f20",
   "metadata": {},
   "source": [
    "- 문제 3"
   ]
  },
  {
   "cell_type": "code",
   "execution_count": 107,
   "id": "77da37c4-6270-4e4d-a0c8-60d2bda782e0",
   "metadata": {},
   "outputs": [],
   "source": [
    "a = \"a:b:c:d\""
   ]
  },
  {
   "cell_type": "code",
   "execution_count": 108,
   "id": "c345933b-44c8-4786-80e0-475490eab2f0",
   "metadata": {},
   "outputs": [
    {
     "data": {
      "text/plain": [
       "'a#b#c#d'"
      ]
     },
     "execution_count": 108,
     "metadata": {},
     "output_type": "execute_result"
    }
   ],
   "source": [
    "a.replace(\":\",\"#\")"
   ]
  },
  {
   "cell_type": "markdown",
   "id": "689ac39c-02c4-4fdb-a3de-21827bd629d8",
   "metadata": {},
   "source": [
    "- 문제 4"
   ]
  },
  {
   "cell_type": "code",
   "execution_count": 109,
   "id": "78f7bf98-ee86-486d-a039-277fa88f9ed8",
   "metadata": {},
   "outputs": [],
   "source": [
    "url = 'http://naver.com'"
   ]
  },
  {
   "cell_type": "code",
   "execution_count": 112,
   "id": "9644ff13-8873-432f-aa90-76700db833c7",
   "metadata": {},
   "outputs": [],
   "source": [
    "url1 = url[7:]"
   ]
  },
  {
   "cell_type": "code",
   "execution_count": 114,
   "id": "be426250-b9c0-4e4c-8971-040f8d88ec58",
   "metadata": {},
   "outputs": [
    {
     "data": {
      "text/plain": [
       "'naver'"
      ]
     },
     "execution_count": 114,
     "metadata": {},
     "output_type": "execute_result"
    }
   ],
   "source": [
    "url1.split('.')[0]"
   ]
  },
  {
   "cell_type": "code",
   "execution_count": 121,
   "id": "579754b2-f742-46d0-a558-563fef622227",
   "metadata": {},
   "outputs": [
    {
     "data": {
      "text/plain": [
       "'nav51!'"
      ]
     },
     "execution_count": 121,
     "metadata": {},
     "output_type": "execute_result"
    }
   ],
   "source": [
    "url1.split('.')[0][:3] + str(len(url1.split('.')[0])) + str(url1.split('.')[0].count('e')) + '!'"
   ]
  },
  {
   "cell_type": "code",
   "execution_count": 122,
   "id": "a729a59d-8b41-4b89-b5a0-9f3b62df2e76",
   "metadata": {},
   "outputs": [
    {
     "data": {
      "text/plain": [
       "'nav51!'"
      ]
     },
     "execution_count": 122,
     "metadata": {},
     "output_type": "execute_result"
    }
   ],
   "source": [
    "password = url1.split('.')[0][:3] + str(len(url1.split('.')[0])) + str(url1.split('.')[0].count('e')) + '!'\n",
    "password"
   ]
  },
  {
   "cell_type": "code",
   "execution_count": 124,
   "id": "31dbe733-2db6-40bc-88c2-e24bf9197f5b",
   "metadata": {},
   "outputs": [
    {
     "name": "stdout",
     "output_type": "stream",
     "text": [
      "나의 http://naver.com 사이트의 비밀번호는 nav51!입니다.\n"
     ]
    }
   ],
   "source": [
    "print('나의 {} 사이트의 비밀번호는 {}입니다.'.format(url, password))"
   ]
  },
  {
   "cell_type": "code",
   "execution_count": 125,
   "id": "50900642-ec28-4df1-8124-a08537280910",
   "metadata": {},
   "outputs": [
    {
     "name": "stdout",
     "output_type": "stream",
     "text": [
      "나의 http://naver.com 사이트의 비밀번호는 nav51!입니다.\n"
     ]
    }
   ],
   "source": [
    "print('나의 {0} 사이트의 비밀번호는 {1}입니다.'.format(url, password))"
   ]
  },
  {
   "cell_type": "code",
   "execution_count": 126,
   "id": "739e3ac7-cc80-4baa-8305-24f080befe9c",
   "metadata": {},
   "outputs": [
    {
     "name": "stdout",
     "output_type": "stream",
     "text": [
      "나의 nav51! 사이트의 비밀번호는 http://naver.com입니다.\n"
     ]
    }
   ],
   "source": [
    "print('나의 {1} 사이트의 비밀번호는 {0}입니다.'.format(url, password))"
   ]
  },
  {
   "cell_type": "code",
   "execution_count": 127,
   "id": "18790564-4229-40b3-8254-25d0dae68ce4",
   "metadata": {},
   "outputs": [
    {
     "ename": "IndexError",
     "evalue": "Replacement index 2 out of range for positional args tuple",
     "output_type": "error",
     "traceback": [
      "\u001b[1;31m---------------------------------------------------------------------------\u001b[0m",
      "\u001b[1;31mIndexError\u001b[0m                                Traceback (most recent call last)",
      "Input \u001b[1;32mIn [127]\u001b[0m, in \u001b[0;36m<cell line: 1>\u001b[1;34m()\u001b[0m\n\u001b[1;32m----> 1\u001b[0m \u001b[38;5;28mprint\u001b[39m(\u001b[38;5;124;43m'\u001b[39;49m\u001b[38;5;124;43m나의 \u001b[39;49m\u001b[38;5;132;43;01m{1}\u001b[39;49;00m\u001b[38;5;124;43m 사이트의 비밀번호는 \u001b[39;49m\u001b[38;5;132;43;01m{2}\u001b[39;49;00m\u001b[38;5;124;43m입니다.\u001b[39;49m\u001b[38;5;124;43m'\u001b[39;49m\u001b[38;5;241;43m.\u001b[39;49m\u001b[43mformat\u001b[49m\u001b[43m(\u001b[49m\u001b[43murl\u001b[49m\u001b[43m,\u001b[49m\u001b[43m \u001b[49m\u001b[43mpassword\u001b[49m\u001b[43m)\u001b[49m)\n",
      "\u001b[1;31mIndexError\u001b[0m: Replacement index 2 out of range for positional args tuple"
     ]
    }
   ],
   "source": [
    "print('나의 {1} 사이트의 비밀번호는 {2}입니다.'.format(url, password))"
   ]
  },
  {
   "cell_type": "markdown",
   "id": "82592dcc-009c-48b8-8e68-16b5553e1a69",
   "metadata": {},
   "source": [
    "# 리스트 (수정/변형 가능)와 튜플 (수정/변형 불가능)"
   ]
  },
  {
   "cell_type": "markdown",
   "id": "ca862bd9-f91e-484e-82ac-f6c96c5ef142",
   "metadata": {},
   "source": [
    "list 자료형의 필요성:\n",
    "\n",
    "개별 원소를 복사하고 조작하려면 많은 코딩이 필요하기 때문에 여러 곳의 메모리에 분산되어 저장되므로 연속적으로 읽을 수 없어서 비효율적, 연산 시 코딩 복잡하고 에러 가능성이 높음"
   ]
  },
  {
   "cell_type": "markdown",
   "id": "41e28986-c653-477b-91a3-0ce5cf1c4071",
   "metadata": {},
   "source": [
    "list; 데이터의 목록을 다루는 자료형으로 '['와 ']'를 사용해서 리스트 선언함 </br>\n",
    "개별적인 값을 하나의 변수에 담아서 처리함 (변수 이름을 작성 및 관리하기에 편리/효율적) </br>\n",
    "순서가 중요한 의미를 가짐 </br>\n",
    "각 요소들의 자료형은 반드시 같을 필요 없음 "
   ]
  },
  {
   "cell_type": "markdown",
   "id": "2d2192ef-e976-4ba1-a7f9-ba0b72d42ed3",
   "metadata": {},
   "source": [
    "item/element; 리스트 내에서 쉼표로 구분된 자료값"
   ]
  },
  {
   "cell_type": "code",
   "execution_count": 128,
   "id": "19a3f353-e931-41ff-b3f0-79d8f2079180",
   "metadata": {},
   "outputs": [
    {
     "data": {
      "text/plain": [
       "list"
      ]
     },
     "execution_count": 128,
     "metadata": {},
     "output_type": "execute_result"
    }
   ],
   "source": [
    "a = []\n",
    "type(a)"
   ]
  },
  {
   "cell_type": "code",
   "execution_count": 129,
   "id": "3c68523d-5419-475b-abe3-d8d5bd5682f0",
   "metadata": {},
   "outputs": [],
   "source": [
    "b = [1, 2, 3]"
   ]
  },
  {
   "cell_type": "code",
   "execution_count": 130,
   "id": "09162e2c-d14e-42ba-9cc7-1c886e8d91c3",
   "metadata": {},
   "outputs": [],
   "source": [
    "c = ['Life', 'is', 'too', 'short']"
   ]
  },
  {
   "cell_type": "code",
   "execution_count": 131,
   "id": "85bbf0df-7a3f-4f69-8d00-b0ebcf0780b1",
   "metadata": {},
   "outputs": [],
   "source": [
    "d = [1, 2, \"Life\", \"is\"]"
   ]
  },
  {
   "cell_type": "code",
   "execution_count": 132,
   "id": "e61825a5-45bc-449c-a11d-30a877ca05f0",
   "metadata": {},
   "outputs": [
    {
     "name": "stdout",
     "output_type": "stream",
     "text": [
      "[1, 2, 'Life', 'is']\n"
     ]
    }
   ],
   "source": [
    "print(d)"
   ]
  },
  {
   "cell_type": "code",
   "execution_count": 133,
   "id": "e2c013d0-086a-404f-acb3-c5b898e79502",
   "metadata": {},
   "outputs": [
    {
     "data": {
      "text/plain": [
       "list"
      ]
     },
     "execution_count": 133,
     "metadata": {},
     "output_type": "execute_result"
    }
   ],
   "source": [
    "type(d)"
   ]
  },
  {
   "cell_type": "code",
   "execution_count": 134,
   "id": "e013cc19-bca5-478f-bd95-9a340d60e139",
   "metadata": {},
   "outputs": [
    {
     "data": {
      "text/plain": [
       "['banana', 'apple', 'orange', 'kiwi']"
      ]
     },
     "execution_count": 134,
     "metadata": {},
     "output_type": "execute_result"
    }
   ],
   "source": [
    "fruits = ['banana', 'apple', 'orange', 'kiwi']\n",
    "fruits"
   ]
  },
  {
   "cell_type": "code",
   "execution_count": 135,
   "id": "044f1ef1-1567-460d-8e04-8a508fc27bc1",
   "metadata": {},
   "outputs": [
    {
     "data": {
      "text/plain": [
       "[100, 200, 'apple', 400]"
      ]
     },
     "execution_count": 135,
     "metadata": {},
     "output_type": "execute_result"
    }
   ],
   "source": [
    "mixed_list = [100, 200, 'apple', 400]\n",
    "mixed_list"
   ]
  },
  {
   "cell_type": "code",
   "execution_count": 136,
   "id": "48a6e73e-b46f-496c-bca1-154b8f03fd30",
   "metadata": {},
   "outputs": [
    {
     "data": {
      "text/plain": [
       "[1, 2, 3]"
      ]
     },
     "execution_count": 136,
     "metadata": {},
     "output_type": "execute_result"
    }
   ],
   "source": [
    "list3 = list((1,2,3))\n",
    "list3"
   ]
  },
  {
   "cell_type": "markdown",
   "id": "13efb53d-cb60-4a13-922d-95d56ac62816",
   "metadata": {},
   "source": [
    "- range() 함수"
   ]
  },
  {
   "cell_type": "code",
   "execution_count": 138,
   "id": "feb6225c-cf05-4298-994c-6a9fa0208513",
   "metadata": {},
   "outputs": [
    {
     "data": {
      "text/plain": [
       "[1, 2, 3, 4, 5, 6, 7, 8, 9]"
      ]
     },
     "execution_count": 138,
     "metadata": {},
     "output_type": "execute_result"
    }
   ],
   "source": [
    "list4 = list(range(1,10))  # 1부터 9까지\n",
    "list4"
   ]
  },
  {
   "cell_type": "code",
   "execution_count": 140,
   "id": "03148727-b6a8-4016-a6a2-b41eaaf21221",
   "metadata": {},
   "outputs": [
    {
     "data": {
      "text/plain": [
       "[1, 2, 3, 4, 5, 6, 7, 8, 9]"
      ]
     },
     "execution_count": 140,
     "metadata": {},
     "output_type": "execute_result"
    }
   ],
   "source": [
    "list5 = list(range(1,10,1))  # 1부터 9까지 1씩 증가\n",
    "list5"
   ]
  },
  {
   "cell_type": "markdown",
   "id": "27658298-d480-44f0-ab5b-8878524965c0",
   "metadata": {},
   "source": [
    "문제 1"
   ]
  },
  {
   "cell_type": "code",
   "execution_count": 142,
   "id": "4410762c-03f7-44f4-ba3a-bf4aa7f1609a",
   "metadata": {},
   "outputs": [
    {
     "name": "stdout",
     "output_type": "stream",
     "text": [
      "[2, 4, 6, 8, 10]\n"
     ]
    }
   ],
   "source": [
    "event_list = list(range(2,11,2))\n",
    "print(event_list)"
   ]
  },
  {
   "cell_type": "markdown",
   "id": "97271587-e1a0-4768-a152-b6250d99bfd2",
   "metadata": {},
   "source": [
    "문제 2"
   ]
  },
  {
   "cell_type": "code",
   "execution_count": 143,
   "id": "d4a7093a-c20d-4177-9180-6f59df1a97a2",
   "metadata": {},
   "outputs": [
    {
     "name": "stdout",
     "output_type": "stream",
     "text": [
      "['Korea', 'China', 'India', 'Nepal']\n"
     ]
    }
   ],
   "source": [
    "nations = ['Korea', 'China', 'India', 'Nepal']\n",
    "print(nations)"
   ]
  },
  {
   "cell_type": "markdown",
   "id": "0a9dc87d-f5fb-45e7-bd6c-4b683bc54afb",
   "metadata": {},
   "source": [
    "문제 3"
   ]
  },
  {
   "cell_type": "code",
   "execution_count": 144,
   "id": "c6dbe096-8a07-4ed0-87a2-1286c4712389",
   "metadata": {},
   "outputs": [
    {
     "name": "stdout",
     "output_type": "stream",
     "text": [
      "['길동', '철수', '은지', '지은', '영민']\n"
     ]
    }
   ],
   "source": [
    "friends = ['길동', '철수', '은지', '지은', '영민']\n",
    "print(friends)"
   ]
  },
  {
   "cell_type": "code",
   "execution_count": 149,
   "id": "fe817027-23ea-4aae-86c0-31f5ff3499be",
   "metadata": {},
   "outputs": [
    {
     "data": {
      "text/plain": [
       "['길', '동', '철', '수', '은', '지', '지', '은', '영', '민']"
      ]
     },
     "execution_count": 149,
     "metadata": {},
     "output_type": "execute_result"
    }
   ],
   "source": [
    "list('길동철수은지지은영민')"
   ]
  },
  {
   "cell_type": "markdown",
   "id": "bbea6262-c1cc-41f2-bb1a-5fd9427dee3d",
   "metadata": {},
   "source": [
    "문제 4"
   ]
  },
  {
   "cell_type": "code",
   "execution_count": 145,
   "id": "53718551-8c14-4643-92a4-13182a77dc37",
   "metadata": {},
   "outputs": [
    {
     "data": {
      "text/plain": [
       "['X', 'Y', 'Z']"
      ]
     },
     "execution_count": 145,
     "metadata": {},
     "output_type": "execute_result"
    }
   ],
   "source": [
    "list1 = list('XYZ')\n",
    "list1"
   ]
  },
  {
   "cell_type": "code",
   "execution_count": 150,
   "id": "2cf6c9ab-0743-46df-91ff-30e8c1f159ba",
   "metadata": {},
   "outputs": [
    {
     "name": "stdout",
     "output_type": "stream",
     "text": [
      "[1, 2, 3, ['a', 'b', 'c']]\n"
     ]
    }
   ],
   "source": [
    "a = [1, 2, 3, ['a', 'b', 'c']]\n",
    "print(a)"
   ]
  },
  {
   "cell_type": "code",
   "execution_count": 151,
   "id": "0f706056-24c7-4650-800e-e0745017df0a",
   "metadata": {},
   "outputs": [
    {
     "data": {
      "text/plain": [
       "['a', 'b', 'c']"
      ]
     },
     "execution_count": 151,
     "metadata": {},
     "output_type": "execute_result"
    }
   ],
   "source": [
    "a[-1]"
   ]
  },
  {
   "cell_type": "markdown",
   "id": "39046722-e5cf-4b54-ad15-f36f8d4e9d37",
   "metadata": {},
   "source": [
    "문제 1"
   ]
  },
  {
   "cell_type": "code",
   "execution_count": 154,
   "id": "77d68fd5-67da-4ca0-bfd2-6a1df464ccba",
   "metadata": {},
   "outputs": [
    {
     "data": {
      "text/plain": [
       "[2, 3, 4, 5, 6, 7, 8, 9]"
      ]
     },
     "execution_count": 154,
     "metadata": {},
     "output_type": "execute_result"
    }
   ],
   "source": [
    "prime_list = list(range(2,10))\n",
    "prime_list"
   ]
  },
  {
   "cell_type": "markdown",
   "id": "f5959890-3abf-4960-996d-4833b56e07bd",
   "metadata": {},
   "source": [
    "문제 2"
   ]
  },
  {
   "cell_type": "code",
   "execution_count": 155,
   "id": "59eb7a13-0582-4c7b-9152-dbd064552eb6",
   "metadata": {},
   "outputs": [
    {
     "data": {
      "text/plain": [
       "'Malaysia'"
      ]
     },
     "execution_count": 155,
     "metadata": {},
     "output_type": "execute_result"
    }
   ],
   "source": [
    "nations = [\"Korea\", \"China\", \"UK\", \"Malaysia\"]\n",
    "nations[-1]"
   ]
  },
  {
   "cell_type": "code",
   "execution_count": 159,
   "id": "652d6a44-4bdf-4dda-828a-3e033ee585b7",
   "metadata": {},
   "outputs": [
    {
     "name": "stdout",
     "output_type": "stream",
     "text": [
      "Malaysia\n"
     ]
    }
   ],
   "source": [
    "print(nations[len(nations)-1])"
   ]
  },
  {
   "cell_type": "code",
   "execution_count": 158,
   "id": "788774d1-3155-4ffe-9966-05530bb44ed2",
   "metadata": {},
   "outputs": [
    {
     "name": "stdout",
     "output_type": "stream",
     "text": [
      "Korea\n"
     ]
    }
   ],
   "source": [
    "print(nations[0])"
   ]
  },
  {
   "cell_type": "markdown",
   "id": "fb3f54f8-1986-4322-b911-799e6e6b6477",
   "metadata": {},
   "source": [
    "슬라이싱의 문법 </br>\n",
    "a_list[start:end] </br>\n",
    "a_list[start:] </br>\n",
    "a_list[:end] </br>\n",
    "a_list[:] </br>\n",
    "a_list[start:end:step] </br>\n",
    "a_list[-2:] </br>\n",
    "a_list[:-2] </br>\n",
    "a_list[::-1]  # 모든 항목을 가져오되 역순으로 </br>\n",
    "a_list[1::-1]  # 처음 두 개 항목만 슬라이싱 </br>"
   ]
  },
  {
   "cell_type": "code",
   "execution_count": 165,
   "id": "0e1b4b18-c2d2-40d1-8a9b-7c11b7a3ee55",
   "metadata": {},
   "outputs": [
    {
     "data": {
      "text/plain": [
       "[20, 30, 40, 50]"
      ]
     },
     "execution_count": 165,
     "metadata": {},
     "output_type": "execute_result"
    }
   ],
   "source": [
    "a_list = [20, 30, 40, 50, 60, 70]\n",
    "a_list[-6:-2]"
   ]
  },
  {
   "cell_type": "code",
   "execution_count": 166,
   "id": "98ede5fe-583c-41c3-b2c9-bdb5b7ca9a46",
   "metadata": {},
   "outputs": [
    {
     "data": {
      "text/plain": [
       "[70, 60, 50, 40, 30, 20]"
      ]
     },
     "execution_count": 166,
     "metadata": {},
     "output_type": "execute_result"
    }
   ],
   "source": [
    "a_list[::-1]"
   ]
  },
  {
   "cell_type": "markdown",
   "id": "65adbb99-3cfc-4d3c-9a56-f64d8d0de499",
   "metadata": {},
   "source": [
    "문제 1"
   ]
  },
  {
   "cell_type": "code",
   "execution_count": 167,
   "id": "d00baaa6-92e6-497c-93dd-20c2f55f007b",
   "metadata": {},
   "outputs": [
    {
     "data": {
      "text/plain": [
       "[0, 1, 2, 3, 4, 5, 6, 7, 8, 9, 10, 11, 12, 13, 14]"
      ]
     },
     "execution_count": 167,
     "metadata": {},
     "output_type": "execute_result"
    }
   ],
   "source": [
    "n_list = list(range(0,15))\n",
    "n_list"
   ]
  },
  {
   "cell_type": "markdown",
   "id": "e2698afb-1a1e-4421-a016-e9fa8d9c37d2",
   "metadata": {},
   "source": [
    "문제 2"
   ]
  },
  {
   "cell_type": "code",
   "execution_count": 168,
   "id": "1e1c4ef1-7edb-478c-aba8-3d44019f3c61",
   "metadata": {},
   "outputs": [
    {
     "data": {
      "text/plain": [
       "[0, 1, 2, 3, 4]"
      ]
     },
     "execution_count": 168,
     "metadata": {},
     "output_type": "execute_result"
    }
   ],
   "source": [
    "s_list1 = n_list[0:5]\n",
    "s_list1"
   ]
  },
  {
   "cell_type": "markdown",
   "id": "78bc68b5-b95c-480e-beec-c0422db6aa7a",
   "metadata": {},
   "source": [
    "문제 3"
   ]
  },
  {
   "cell_type": "code",
   "execution_count": 170,
   "id": "f2b59fb3-a488-48e8-8127-cf50f22e8984",
   "metadata": {},
   "outputs": [
    {
     "data": {
      "text/plain": [
       "[5, 6, 7, 8, 9, 10]"
      ]
     },
     "execution_count": 170,
     "metadata": {},
     "output_type": "execute_result"
    }
   ],
   "source": [
    "s_list2 = n_list[5:11]\n",
    "s_list2"
   ]
  },
  {
   "cell_type": "markdown",
   "id": "e283ecd9-38ea-4a32-a524-e51ce6b380a9",
   "metadata": {},
   "source": [
    "문제 4"
   ]
  },
  {
   "cell_type": "code",
   "execution_count": 171,
   "id": "7b0d0f0b-92f7-42af-8066-096a991cad7f",
   "metadata": {},
   "outputs": [
    {
     "data": {
      "text/plain": [
       "[11, 12, 13, 14]"
      ]
     },
     "execution_count": 171,
     "metadata": {},
     "output_type": "execute_result"
    }
   ],
   "source": [
    "s_list3 = n_list[11:]\n",
    "s_list3"
   ]
  },
  {
   "cell_type": "markdown",
   "id": "ecc4c98d-82cc-440e-abe9-8a00b9e46b8d",
   "metadata": {},
   "source": [
    "문제 5"
   ]
  },
  {
   "cell_type": "code",
   "execution_count": 173,
   "id": "e8d3114d-ea5f-4d90-a692-239ea3b6cc11",
   "metadata": {},
   "outputs": [
    {
     "data": {
      "text/plain": [
       "[2, 4, 6, 8, 10]"
      ]
     },
     "execution_count": 173,
     "metadata": {},
     "output_type": "execute_result"
    }
   ],
   "source": [
    "s_list4 = n_list[2:11:2]\n",
    "s_list4"
   ]
  },
  {
   "cell_type": "markdown",
   "id": "cb2a285d-eb76-4200-b085-190ad1b5254c",
   "metadata": {},
   "source": [
    "문제 6"
   ]
  },
  {
   "cell_type": "code",
   "execution_count": 187,
   "id": "bf3600ae-cbd5-4a3b-ac49-723fcba3bfc6",
   "metadata": {},
   "outputs": [
    {
     "data": {
      "text/plain": [
       "[10, 9, 8, 7, 6]"
      ]
     },
     "execution_count": 187,
     "metadata": {},
     "output_type": "execute_result"
    }
   ],
   "source": [
    "s_list5 = n_list[-5:-10:-1]\n",
    "s_list5\n",
    "\n",
    "# [10, 9, 8, 7, 6]"
   ]
  },
  {
   "cell_type": "markdown",
   "id": "76ec8c13-abef-4e54-ad3e-728e5be61f5f",
   "metadata": {},
   "source": [
    "문제 7"
   ]
  },
  {
   "cell_type": "code",
   "execution_count": 193,
   "id": "1abe8b25-3ea6-467f-85c1-17499fe940d3",
   "metadata": {},
   "outputs": [
    {
     "data": {
      "text/plain": [
       "[10, 8, 6, 4, 2]"
      ]
     },
     "execution_count": 193,
     "metadata": {},
     "output_type": "execute_result"
    }
   ],
   "source": [
    "s_list6 = n_list[-5:-14:-2]\n",
    "s_list6\n",
    "\n",
    "# [10, 8, 6, 4, 2]"
   ]
  },
  {
   "cell_type": "markdown",
   "id": "164297b3-184f-4989-80d2-c349c1cf987c",
   "metadata": {},
   "source": [
    "- 리스트의 연산자"
   ]
  },
  {
   "cell_type": "code",
   "execution_count": 194,
   "id": "ac2d6341-822f-4707-abc8-df40a04783f3",
   "metadata": {},
   "outputs": [],
   "source": [
    "a = [1, 2, 3]\n",
    "b = [4, 5, 6]"
   ]
  },
  {
   "cell_type": "code",
   "execution_count": 195,
   "id": "63458935-e870-4cef-8e5a-0aa2ffc3f2fd",
   "metadata": {},
   "outputs": [
    {
     "data": {
      "text/plain": [
       "[1, 2, 3, 4, 5, 6]"
      ]
     },
     "execution_count": 195,
     "metadata": {},
     "output_type": "execute_result"
    }
   ],
   "source": [
    "a + b"
   ]
  },
  {
   "cell_type": "code",
   "execution_count": 196,
   "id": "53f063a1-88c7-47b6-8dde-2cc8fae47150",
   "metadata": {},
   "outputs": [],
   "source": [
    "c = (4, 5, 6)"
   ]
  },
  {
   "cell_type": "code",
   "execution_count": 197,
   "id": "16a36285-b2dc-4b4d-8164-3b530b0e6b8a",
   "metadata": {},
   "outputs": [
    {
     "ename": "TypeError",
     "evalue": "can only concatenate list (not \"tuple\") to list",
     "output_type": "error",
     "traceback": [
      "\u001b[1;31m---------------------------------------------------------------------------\u001b[0m",
      "\u001b[1;31mTypeError\u001b[0m                                 Traceback (most recent call last)",
      "Input \u001b[1;32mIn [197]\u001b[0m, in \u001b[0;36m<cell line: 1>\u001b[1;34m()\u001b[0m\n\u001b[1;32m----> 1\u001b[0m \u001b[43ma\u001b[49m\u001b[43m \u001b[49m\u001b[38;5;241;43m+\u001b[39;49m\u001b[43m \u001b[49m\u001b[43mb\u001b[49m\u001b[43m \u001b[49m\u001b[38;5;241;43m+\u001b[39;49m\u001b[43m \u001b[49m\u001b[43mc\u001b[49m\n",
      "\u001b[1;31mTypeError\u001b[0m: can only concatenate list (not \"tuple\") to list"
     ]
    }
   ],
   "source": [
    "a + b + c"
   ]
  },
  {
   "cell_type": "code",
   "execution_count": 198,
   "id": "29fd4814-4a89-4352-aa1a-0b1a7b6eadd8",
   "metadata": {},
   "outputs": [
    {
     "data": {
      "text/plain": [
       "[1, 2, 3, 4, 5, 6, 4, 5, 6]"
      ]
     },
     "execution_count": 198,
     "metadata": {},
     "output_type": "execute_result"
    }
   ],
   "source": [
    "a + b + list(c)"
   ]
  },
  {
   "cell_type": "code",
   "execution_count": 200,
   "id": "89b9554f-7c86-49d1-8d5f-6b392e4f07a3",
   "metadata": {},
   "outputs": [
    {
     "data": {
      "text/plain": [
       "'[1, 2, 3] hi'"
      ]
     },
     "execution_count": 200,
     "metadata": {},
     "output_type": "execute_result"
    }
   ],
   "source": [
    "str(a) + ' hi'"
   ]
  },
  {
   "cell_type": "markdown",
   "id": "95eab53c-e2dd-44d8-9dbb-6e92337e3827",
   "metadata": {},
   "source": [
    "- 리스트와 리스트를 곱하는 것은 불가능"
   ]
  },
  {
   "cell_type": "code",
   "execution_count": 201,
   "id": "cae2776d-c4c7-4231-bd37-51e98a86c658",
   "metadata": {},
   "outputs": [],
   "source": [
    "list1 = [1, 2, 3, 4]"
   ]
  },
  {
   "cell_type": "code",
   "execution_count": 202,
   "id": "3992bad4-20c5-4b3d-97f4-30429ff84bba",
   "metadata": {},
   "outputs": [
    {
     "ename": "TypeError",
     "evalue": "can't multiply sequence by non-int of type 'list'",
     "output_type": "error",
     "traceback": [
      "\u001b[1;31m---------------------------------------------------------------------------\u001b[0m",
      "\u001b[1;31mTypeError\u001b[0m                                 Traceback (most recent call last)",
      "Input \u001b[1;32mIn [202]\u001b[0m, in \u001b[0;36m<cell line: 1>\u001b[1;34m()\u001b[0m\n\u001b[1;32m----> 1\u001b[0m \u001b[43mlist1\u001b[49m\u001b[43m \u001b[49m\u001b[38;5;241;43m*\u001b[39;49m\u001b[43m \u001b[49m\u001b[43mlist1\u001b[49m\n",
      "\u001b[1;31mTypeError\u001b[0m: can't multiply sequence by non-int of type 'list'"
     ]
    }
   ],
   "source": [
    "list1 * list1"
   ]
  },
  {
   "cell_type": "code",
   "execution_count": 203,
   "id": "a701ca6e-d615-473c-81f7-1abcdce967d9",
   "metadata": {},
   "outputs": [],
   "source": [
    "list2 = [1, 2, 3, 4]\n",
    "list3 = [4, 3, 2, 1]"
   ]
  },
  {
   "cell_type": "code",
   "execution_count": 215,
   "id": "a851337a-646e-4c0b-a9be-4399aedb24bd",
   "metadata": {},
   "outputs": [
    {
     "data": {
      "text/plain": [
       "False"
      ]
     },
     "execution_count": 215,
     "metadata": {},
     "output_type": "execute_result"
    }
   ],
   "source": [
    "list2 == list3"
   ]
  },
  {
   "cell_type": "code",
   "execution_count": 214,
   "id": "5e39775c-66e0-4275-acaf-09814ff7b6a7",
   "metadata": {},
   "outputs": [
    {
     "data": {
      "text/plain": [
       "True"
      ]
     },
     "execution_count": 214,
     "metadata": {},
     "output_type": "execute_result"
    }
   ],
   "source": [
    "list2 == list3[-1:-5:-1]"
   ]
  },
  {
   "cell_type": "markdown",
   "id": "0220c4a1-4144-4932-9734-b868c7380909",
   "metadata": {},
   "source": [
    "- 리스트는 수정이 가능하다"
   ]
  },
  {
   "cell_type": "code",
   "execution_count": 216,
   "id": "916e807a-c008-446d-88c2-6add05592142",
   "metadata": {},
   "outputs": [
    {
     "data": {
      "text/plain": [
       "[1, 4, 3]"
      ]
     },
     "execution_count": 216,
     "metadata": {},
     "output_type": "execute_result"
    }
   ],
   "source": [
    "a1 = [1, 2, 3]; a1[1] = 4\n",
    "a1"
   ]
  },
  {
   "cell_type": "markdown",
   "id": "1340288e-8884-42dd-824b-1f10aa1609fd",
   "metadata": {},
   "source": [
    "- 아래 두 코드 결과값 차이 숙지"
   ]
  },
  {
   "cell_type": "code",
   "execution_count": 217,
   "id": "b25c539e-fb4a-4f88-a282-cbe5bc7cf4c0",
   "metadata": {},
   "outputs": [
    {
     "data": {
      "text/plain": [
       "[1, 'a', 'b', 'c', 3]"
      ]
     },
     "execution_count": 217,
     "metadata": {},
     "output_type": "execute_result"
    }
   ],
   "source": [
    "a2 = [1, 2, 3]; a2[1:2] = ['a', 'b', 'c']\n",
    "a2"
   ]
  },
  {
   "cell_type": "code",
   "execution_count": 218,
   "id": "34d88e14-ef69-474f-99d3-b023dada7ccc",
   "metadata": {},
   "outputs": [
    {
     "data": {
      "text/plain": [
       "[1, ['a', 'b', 'c'], 3]"
      ]
     },
     "execution_count": 218,
     "metadata": {},
     "output_type": "execute_result"
    }
   ],
   "source": [
    "a3 = [1, 2, 3]; a3[1] = ['a', 'b', 'c']\n",
    "a3"
   ]
  },
  {
   "cell_type": "code",
   "execution_count": 219,
   "id": "56f36cf4-af6b-4ed6-ad08-c33eb21cd717",
   "metadata": {},
   "outputs": [
    {
     "data": {
      "text/plain": [
       "[1]"
      ]
     },
     "execution_count": 219,
     "metadata": {},
     "output_type": "execute_result"
    }
   ],
   "source": [
    "a4 = [1, 2, 3]; a4[1:3] = [ ]\n",
    "a4"
   ]
  },
  {
   "cell_type": "code",
   "execution_count": 220,
   "id": "3fb5d08d-2f1c-426b-8fa1-31e43417532d",
   "metadata": {},
   "outputs": [
    {
     "data": {
      "text/plain": [
       "[1]"
      ]
     },
     "execution_count": 220,
     "metadata": {},
     "output_type": "execute_result"
    }
   ],
   "source": [
    "a5 = [1, 2, 3]; del a5[1:3]\n",
    "a5"
   ]
  },
  {
   "cell_type": "code",
   "execution_count": 223,
   "id": "3156784b-4499-428d-85aa-1a5e3c57bc42",
   "metadata": {},
   "outputs": [
    {
     "data": {
      "text/plain": [
       "[11, 22, 33, 44, 55, 66]"
      ]
     },
     "execution_count": 223,
     "metadata": {},
     "output_type": "execute_result"
    }
   ],
   "source": [
    "n_list = list(range(11,77,11))\n",
    "n_list"
   ]
  },
  {
   "cell_type": "markdown",
   "id": "ca79f60e-a94f-46fc-8139-9ff15707a549",
   "metadata": {},
   "source": [
    "참고도서: 그림과 함께하는 파이썬 수업"
   ]
  },
  {
   "cell_type": "markdown",
   "id": "5a0bd210-6720-4589-bb76-1fc6571e9c87",
   "metadata": {},
   "source": [
    "- 리스트의 주요 함수 </br>\n",
    "    </t> len(list) </br>\n",
    "    </t> max(list) </br>\n",
    "    </t> min(list) </br>\n",
    "    </t> sum(list) </br>\n",
    "    </t> sorted(list, key) </br>\n",
    "    </t> list(seq) </br>\n",
    "    </t> tuple(list) </br>"
   ]
  },
  {
   "cell_type": "markdown",
   "id": "d0f18a6c-6812-4c4e-9934-b7d0da3d2ff0",
   "metadata": {},
   "source": [
    "- 리스트의 주요 메소드\n",
    "    list.append(x) </br>\n",
    "    list.extend(list2) </br>\n",
    "    list.insert(i, x) </br>\n",
    "    list.remove(x) </br>\n",
    "    list.pop(i) </br>\n",
    "    list.clear() </br>\n",
    "    list.index(x) </br>\n",
    "    list.reverse() </br>\n",
    "    list.count(x) </br>\n",
    "    list.sort(key) </br>\n",
    "    "
   ]
  },
  {
   "cell_type": "markdown",
   "id": "9546ad11-2aeb-43c2-8ee6-91490342c40b",
   "metadata": {},
   "source": [
    "- 리스트의 주요 내장 함수"
   ]
  },
  {
   "cell_type": "markdown",
   "id": "4d455600-912b-4b4c-81bd-01288f8d11e1",
   "metadata": {},
   "source": [
    "수치 데이터에서만 사용 가능"
   ]
  },
  {
   "cell_type": "markdown",
   "id": "9e756de7-d1cd-4ce6-bab7-1539d13917ef",
   "metadata": {},
   "source": [
    "- 최대값, 최소값: max(list), min(list)"
   ]
  },
  {
   "cell_type": "code",
   "execution_count": 224,
   "id": "d6b4e762-3247-4f95-a318-c9223ba6adf8",
   "metadata": {},
   "outputs": [
    {
     "data": {
      "text/plain": [
       "[11, 22, 33, 44, 55, 66, 77]"
      ]
     },
     "execution_count": 224,
     "metadata": {},
     "output_type": "execute_result"
    }
   ],
   "source": [
    "a6 = list(range(11, 88, 11))\n",
    "a6"
   ]
  },
  {
   "cell_type": "code",
   "execution_count": 228,
   "id": "4cf060d7-7ffc-43a4-871f-d54f43537720",
   "metadata": {},
   "outputs": [
    {
     "data": {
      "text/plain": [
       "77"
      ]
     },
     "execution_count": 228,
     "metadata": {},
     "output_type": "execute_result"
    }
   ],
   "source": [
    "max(a6)"
   ]
  },
  {
   "cell_type": "code",
   "execution_count": 230,
   "id": "a44a6672-cbb4-4298-af22-29dafefdd630",
   "metadata": {},
   "outputs": [
    {
     "data": {
      "text/plain": [
       "11"
      ]
     },
     "execution_count": 230,
     "metadata": {},
     "output_type": "execute_result"
    }
   ],
   "source": [
    "min(a6)"
   ]
  },
  {
   "cell_type": "markdown",
   "id": "8c628afc-1e9e-4f6b-8f72-caf8a12f6d45",
   "metadata": {},
   "source": [
    "- 합계: sum(list)"
   ]
  },
  {
   "cell_type": "code",
   "execution_count": 231,
   "id": "039449f4-cd73-4d5f-9821-6a453da536ab",
   "metadata": {},
   "outputs": [
    {
     "data": {
      "text/plain": [
       "308"
      ]
     },
     "execution_count": 231,
     "metadata": {},
     "output_type": "execute_result"
    }
   ],
   "source": [
    "sum(a6)"
   ]
  },
  {
   "cell_type": "markdown",
   "id": "42fa3a88-fe5a-448c-b3e9-2992d006d75c",
   "metadata": {},
   "source": [
    "- 형변환: 튜플과 리스트"
   ]
  },
  {
   "cell_type": "code",
   "execution_count": 232,
   "id": "3d1f5cce-3242-42d2-87ac-4d6cf4a11e39",
   "metadata": {},
   "outputs": [
    {
     "data": {
      "text/plain": [
       "(11, 22, 33, 44, 55, 66, 77)"
      ]
     },
     "execution_count": 232,
     "metadata": {},
     "output_type": "execute_result"
    }
   ],
   "source": [
    "tuple(a6)"
   ]
  },
  {
   "cell_type": "code",
   "execution_count": 233,
   "id": "93b99169-cb36-4d89-b6c2-c142373c51b6",
   "metadata": {},
   "outputs": [
    {
     "data": {
      "text/plain": [
       "['F', 'o', 'r', 'e', 'v', 'e', 'r']"
      ]
     },
     "execution_count": 233,
     "metadata": {},
     "output_type": "execute_result"
    }
   ],
   "source": [
    "list('Forever')"
   ]
  },
  {
   "cell_type": "code",
   "execution_count": 234,
   "id": "d956c087-7f21-4847-8f88-5c5f68d2a0db",
   "metadata": {},
   "outputs": [
    {
     "data": {
      "text/plain": [
       "('F', 'o', 'r', 'e', 'v', 'e', 'r')"
      ]
     },
     "execution_count": 234,
     "metadata": {},
     "output_type": "execute_result"
    }
   ],
   "source": [
    "tuple('Forever')"
   ]
  },
  {
   "cell_type": "markdown",
   "id": "5c4c39af-9c6f-4fff-98be-ea907ac2f2e5",
   "metadata": {},
   "source": [
    "- 리스트에 요소 추가하기"
   ]
  },
  {
   "cell_type": "code",
   "execution_count": 235,
   "id": "9920ae9a-385c-4060-92d3-8eefbae287b8",
   "metadata": {},
   "outputs": [
    {
     "data": {
      "text/plain": [
       "['a', 'b', 'c', 'd', 'e', 'f']"
      ]
     },
     "execution_count": 235,
     "metadata": {},
     "output_type": "execute_result"
    }
   ],
   "source": [
    "Chars = list('abcdef')\n",
    "Chars"
   ]
  },
  {
   "cell_type": "code",
   "execution_count": 236,
   "id": "303486c9-d55c-4a3c-92ab-3d8116001709",
   "metadata": {},
   "outputs": [
    {
     "data": {
      "text/plain": [
       "['a', 'b', 'k', 'c', 'd', 'e', 'f']"
      ]
     },
     "execution_count": 236,
     "metadata": {},
     "output_type": "execute_result"
    }
   ],
   "source": [
    "Chars.insert(2, 'k')\n",
    "Chars"
   ]
  },
  {
   "cell_type": "code",
   "execution_count": 237,
   "id": "eb6a5608-f682-42b9-94f5-dd611c373ab7",
   "metadata": {},
   "outputs": [
    {
     "data": {
      "text/plain": [
       "['a', 'b', 'k', 'c', 'd', 'e', 'f', 4]"
      ]
     },
     "execution_count": 237,
     "metadata": {},
     "output_type": "execute_result"
    }
   ],
   "source": [
    "Chars.append(4)\n",
    "Chars"
   ]
  },
  {
   "cell_type": "code",
   "execution_count": 238,
   "id": "bb51f057-da8a-44ae-ba66-09964e32c00a",
   "metadata": {},
   "outputs": [
    {
     "data": {
      "text/plain": [
       "'b'"
      ]
     },
     "execution_count": 238,
     "metadata": {},
     "output_type": "execute_result"
    }
   ],
   "source": [
    "Chars.pop(1)  # 특정 위치 (인덱스)의 요소를 꺼냄"
   ]
  },
  {
   "cell_type": "code",
   "execution_count": 239,
   "id": "e95b3671-77de-46c6-89d8-21d0af215aff",
   "metadata": {},
   "outputs": [
    {
     "data": {
      "text/plain": [
       "['a', 'k', 'c', 'd', 'e', 'f', 4]"
      ]
     },
     "execution_count": 239,
     "metadata": {},
     "output_type": "execute_result"
    }
   ],
   "source": [
    "Chars"
   ]
  },
  {
   "cell_type": "code",
   "execution_count": 240,
   "id": "8d208d62-bb56-432b-883e-fbc20deac9ba",
   "metadata": {},
   "outputs": [
    {
     "data": {
      "text/plain": [
       "4"
      ]
     },
     "execution_count": 240,
     "metadata": {},
     "output_type": "execute_result"
    }
   ],
   "source": [
    "Chars.pop()  # 리스트 목록의 맨 마지막의 값이 나옴"
   ]
  },
  {
   "cell_type": "code",
   "execution_count": 241,
   "id": "35b6e748-7ea4-490d-b9cf-5cb29cbac069",
   "metadata": {},
   "outputs": [
    {
     "data": {
      "text/plain": [
       "['a', 'k', 'c', 'd', 'e', 'f']"
      ]
     },
     "execution_count": 241,
     "metadata": {},
     "output_type": "execute_result"
    }
   ],
   "source": [
    "Chars"
   ]
  },
  {
   "cell_type": "code",
   "execution_count": 243,
   "id": "504a7cd2-566b-489b-830e-fbd51de97911",
   "metadata": {},
   "outputs": [
    {
     "data": {
      "text/plain": [
       "2"
      ]
     },
     "execution_count": 243,
     "metadata": {},
     "output_type": "execute_result"
    }
   ],
   "source": [
    "Chars.index('c')  # 리스트 목록에서 해당 값이 있는 인덱스 위치 반환"
   ]
  },
  {
   "cell_type": "code",
   "execution_count": 244,
   "id": "5da35979-62b0-45b2-aab5-39d453108776",
   "metadata": {},
   "outputs": [
    {
     "data": {
      "text/plain": [
       "['a', 'k', 'c', 'd', 'e', 'f', 13, 22, 35, 11]"
      ]
     },
     "execution_count": 244,
     "metadata": {},
     "output_type": "execute_result"
    }
   ],
   "source": [
    "Num = [13, 22, 35, 11]\n",
    "Chars.extend(Num)  # 리스트의 맨 뒤에 다른 리스트 list2를 추가\n",
    "Chars"
   ]
  },
  {
   "cell_type": "code",
   "execution_count": 247,
   "id": "fe9f1fed-e687-4f22-883d-f085a936e343",
   "metadata": {},
   "outputs": [],
   "source": [
    "Chars2 = list('abcdefg')\n",
    "Chars2.sort()  # 정렬"
   ]
  },
  {
   "cell_type": "code",
   "execution_count": 248,
   "id": "bfe3fe86-97b7-43da-8b6d-c25576872950",
   "metadata": {},
   "outputs": [
    {
     "data": {
      "text/plain": [
       "['a', 'b', 'c', 'd', 'e', 'f', 'g']"
      ]
     },
     "execution_count": 248,
     "metadata": {},
     "output_type": "execute_result"
    }
   ],
   "source": [
    "Chars2"
   ]
  },
  {
   "cell_type": "code",
   "execution_count": 249,
   "id": "91932b8a-ec2e-440a-bcc7-a2c10b343d1f",
   "metadata": {},
   "outputs": [],
   "source": [
    "Chars.reverse()  # 역순으로 정렬"
   ]
  },
  {
   "cell_type": "code",
   "execution_count": 250,
   "id": "37f3193e-db7b-4a54-a509-cbfe6ab83a2f",
   "metadata": {},
   "outputs": [
    {
     "data": {
      "text/plain": [
       "[11, 35, 22, 13, 'f', 'e', 'd', 'c', 'k', 'a']"
      ]
     },
     "execution_count": 250,
     "metadata": {},
     "output_type": "execute_result"
    }
   ],
   "source": [
    "Chars"
   ]
  },
  {
   "cell_type": "code",
   "execution_count": 251,
   "id": "73381f5d-ad92-4bee-aaf6-54e38d3c07a0",
   "metadata": {},
   "outputs": [
    {
     "data": {
      "text/plain": [
       "[11, 35, 22, 13, 'f', 'e', 'd', 'c', 'k', 'a', [2, 4]]"
      ]
     },
     "execution_count": 251,
     "metadata": {},
     "output_type": "execute_result"
    }
   ],
   "source": [
    "Chars.append([2,4])\n",
    "Chars"
   ]
  },
  {
   "cell_type": "code",
   "execution_count": 254,
   "id": "e6b8846c-b821-4312-a860-2109d1e0997e",
   "metadata": {},
   "outputs": [
    {
     "data": {
      "text/plain": [
       "[11, 35, 22, 13, 'f', 'e', 'd', 'c', 'k', 'a', [2, 4], 13, 22, 35, 11]"
      ]
     },
     "execution_count": 254,
     "metadata": {},
     "output_type": "execute_result"
    }
   ],
   "source": [
    "Chars.extend(Num)\n",
    "Chars"
   ]
  },
  {
   "cell_type": "code",
   "execution_count": 269,
   "id": "40589778-db3c-4b42-87e6-3852d4343b80",
   "metadata": {},
   "outputs": [
    {
     "data": {
      "text/plain": [
       "[11, 13, 22, 35, 'f', 'e', 'd', 'c', 'k', 'a', [2, 4], 13, 22, 35, 11, 2, 4]"
      ]
     },
     "execution_count": 269,
     "metadata": {},
     "output_type": "execute_result"
    }
   ],
   "source": [
    "Chars.extend([2,4])\n",
    "Chars"
   ]
  },
  {
   "cell_type": "code",
   "execution_count": 270,
   "id": "8336f959-3004-4a51-8154-6a4f280eb387",
   "metadata": {},
   "outputs": [
    {
     "data": {
      "text/plain": [
       "[11,\n",
       " 13,\n",
       " 22,\n",
       " 35,\n",
       " 'f',\n",
       " 'e',\n",
       " 'd',\n",
       " 'c',\n",
       " 'k',\n",
       " 'a',\n",
       " [2, 4],\n",
       " 13,\n",
       " 22,\n",
       " 35,\n",
       " 11,\n",
       " 2,\n",
       " 4,\n",
       " 4,\n",
       " 5]"
      ]
     },
     "execution_count": 270,
     "metadata": {},
     "output_type": "execute_result"
    }
   ],
   "source": [
    "Chars += [4,5]  # Chars.extend([4,5])와 유사함\n",
    "Chars"
   ]
  },
  {
   "cell_type": "code",
   "execution_count": 256,
   "id": "93639c8b-7c88-4df3-ad91-feaed6dc277d",
   "metadata": {},
   "outputs": [],
   "source": [
    "Chars2.sort()  # 정렬"
   ]
  },
  {
   "cell_type": "code",
   "execution_count": 257,
   "id": "1cdf1bc4-3d8c-4a99-90e6-21415fae9acf",
   "metadata": {},
   "outputs": [
    {
     "data": {
      "text/plain": [
       "['a', 'b', 'c', 'd', 'e', 'f', 'g']"
      ]
     },
     "execution_count": 257,
     "metadata": {},
     "output_type": "execute_result"
    }
   ],
   "source": [
    "Chars2"
   ]
  },
  {
   "cell_type": "code",
   "execution_count": 258,
   "id": "d5e217f5-9610-4cfb-b062-98e495c81015",
   "metadata": {},
   "outputs": [
    {
     "data": {
      "text/plain": [
       "[1, 2, 3, 4, 5]"
      ]
     },
     "execution_count": 258,
     "metadata": {},
     "output_type": "execute_result"
    }
   ],
   "source": [
    "list1 = [1, 2, 3, 4, 5]\n",
    "list1"
   ]
  },
  {
   "cell_type": "code",
   "execution_count": 259,
   "id": "3f96b000-ef97-45c0-946f-b996f6123f0b",
   "metadata": {},
   "outputs": [],
   "source": [
    "list1.sort(reverse=True)"
   ]
  },
  {
   "cell_type": "code",
   "execution_count": 260,
   "id": "f802c71f-f839-4e69-96db-c04a8711b88d",
   "metadata": {},
   "outputs": [
    {
     "data": {
      "text/plain": [
       "[5, 4, 3, 2, 1]"
      ]
     },
     "execution_count": 260,
     "metadata": {},
     "output_type": "execute_result"
    }
   ],
   "source": [
    "list1"
   ]
  },
  {
   "cell_type": "code",
   "execution_count": 261,
   "id": "d25b8907-2f4b-4994-ac05-e5c108607e26",
   "metadata": {},
   "outputs": [
    {
     "ename": "ValueError",
     "evalue": "6 is not in list",
     "output_type": "error",
     "traceback": [
      "\u001b[1;31m---------------------------------------------------------------------------\u001b[0m",
      "\u001b[1;31mValueError\u001b[0m                                Traceback (most recent call last)",
      "Input \u001b[1;32mIn [261]\u001b[0m, in \u001b[0;36m<cell line: 1>\u001b[1;34m()\u001b[0m\n\u001b[1;32m----> 1\u001b[0m \u001b[43mlist1\u001b[49m\u001b[38;5;241;43m.\u001b[39;49m\u001b[43mindex\u001b[49m\u001b[43m(\u001b[49m\u001b[38;5;241;43m6\u001b[39;49m\u001b[43m)\u001b[49m\n",
      "\u001b[1;31mValueError\u001b[0m: 6 is not in list"
     ]
    }
   ],
   "source": [
    "list1.index(6)"
   ]
  },
  {
   "cell_type": "code",
   "execution_count": 262,
   "id": "9956be4e-4362-4d57-b62c-42fcd6f21403",
   "metadata": {},
   "outputs": [
    {
     "data": {
      "text/plain": [
       "0"
      ]
     },
     "execution_count": 262,
     "metadata": {},
     "output_type": "execute_result"
    }
   ],
   "source": [
    "list1.index(5)"
   ]
  },
  {
   "cell_type": "code",
   "execution_count": 265,
   "id": "8fc24d7e-398a-4b59-bbb8-773428c01671",
   "metadata": {},
   "outputs": [],
   "source": [
    "list1.insert(0, 4)  # 0번째의 인덱스에 4넣기"
   ]
  },
  {
   "cell_type": "code",
   "execution_count": 266,
   "id": "c3abd8fb-da6b-4209-a7dc-b1c0f896e4c5",
   "metadata": {},
   "outputs": [
    {
     "data": {
      "text/plain": [
       "[4, 4, 5, 4, 3, 2, 1]"
      ]
     },
     "execution_count": 266,
     "metadata": {},
     "output_type": "execute_result"
    }
   ],
   "source": [
    "list1"
   ]
  },
  {
   "cell_type": "code",
   "execution_count": 267,
   "id": "bd3b2ee0-55e4-4104-9f49-17a0dbf63446",
   "metadata": {},
   "outputs": [
    {
     "data": {
      "text/plain": [
       "1"
      ]
     },
     "execution_count": 267,
     "metadata": {},
     "output_type": "execute_result"
    }
   ],
   "source": [
    "list1.pop()  # 맨 뒤에 값 빼기"
   ]
  },
  {
   "cell_type": "code",
   "execution_count": 268,
   "id": "29826575-ba0d-4f57-95af-d9ec69b7f1c5",
   "metadata": {},
   "outputs": [
    {
     "data": {
      "text/plain": [
       "[4, 4, 5, 4, 3, 2]"
      ]
     },
     "execution_count": 268,
     "metadata": {},
     "output_type": "execute_result"
    }
   ],
   "source": [
    "list1"
   ]
  },
  {
   "cell_type": "markdown",
   "id": "b7854350-2a73-4c8d-b6ff-7171ef86ce79",
   "metadata": {},
   "source": [
    "- pop() vs. remove() </br>\n",
    "    remove()는 삭제만 수행하고, 삭제한 항목을 반환하지는 않음"
   ]
  },
  {
   "cell_type": "markdown",
   "id": "f82bed89-60a7-473c-8064-e88c12cd38d6",
   "metadata": {},
   "source": [
    "문제 1"
   ]
  },
  {
   "cell_type": "code",
   "execution_count": 275,
   "id": "f6c91463-a345-4184-a9a8-5299c1740b1e",
   "metadata": {},
   "outputs": [
    {
     "data": {
      "text/plain": [
       "[1, 2, 3]"
      ]
     },
     "execution_count": 275,
     "metadata": {},
     "output_type": "execute_result"
    }
   ],
   "source": [
    "a = list(range(1,4))\n",
    "a"
   ]
  },
  {
   "cell_type": "code",
   "execution_count": 276,
   "id": "3ed69408-79d7-4311-be46-b6c418ca24a4",
   "metadata": {},
   "outputs": [
    {
     "data": {
      "text/plain": [
       "[10, 20, 30]"
      ]
     },
     "execution_count": 276,
     "metadata": {},
     "output_type": "execute_result"
    }
   ],
   "source": [
    "b = list(range(10,40,10))\n",
    "b"
   ]
  },
  {
   "cell_type": "code",
   "execution_count": 277,
   "id": "ec1782e6-c382-4211-9897-00f61af38adf",
   "metadata": {},
   "outputs": [
    {
     "data": {
      "text/plain": [
       "[1, 2, 3, [10, 20, 30]]"
      ]
     },
     "execution_count": 277,
     "metadata": {},
     "output_type": "execute_result"
    }
   ],
   "source": [
    "a.append(b)\n",
    "a"
   ]
  },
  {
   "cell_type": "code",
   "execution_count": 278,
   "id": "e6503322-a0d6-409c-809e-b71fb9001a65",
   "metadata": {},
   "outputs": [
    {
     "data": {
      "text/plain": [
       "[1, 2, 3, [10, 20, 30], 10, 20, 30]"
      ]
     },
     "execution_count": 278,
     "metadata": {},
     "output_type": "execute_result"
    }
   ],
   "source": [
    "a.extend(b)\n",
    "a"
   ]
  },
  {
   "cell_type": "markdown",
   "id": "74c33dd9-57f8-4c5b-b3f2-5eff09666d0f",
   "metadata": {},
   "source": [
    "문제 2"
   ]
  },
  {
   "cell_type": "code",
   "execution_count": 281,
   "id": "e9899e2f-8e79-4a84-89cf-5713ac47cbbd",
   "metadata": {},
   "outputs": [
    {
     "data": {
      "text/plain": [
       "[1, 2, 3, 4, 5, 6, 7, 8, 9, 10]"
      ]
     },
     "execution_count": 281,
     "metadata": {},
     "output_type": "execute_result"
    }
   ],
   "source": [
    "nlist = list(range(1,11,1))\n",
    "nlist"
   ]
  },
  {
   "cell_type": "markdown",
   "id": "1aef7718-ec6a-4af8-bef8-be8c68fe1ed0",
   "metadata": {},
   "source": [
    "문제 3"
   ]
  },
  {
   "cell_type": "code",
   "execution_count": 284,
   "id": "4d260c3b-c84f-4c2b-bfe1-b14323e046fc",
   "metadata": {},
   "outputs": [
    {
     "data": {
      "text/plain": [
       "[0, 1, 2, 3, 4, 5, 6, 7, 8, 9, 10]"
      ]
     },
     "execution_count": 284,
     "metadata": {},
     "output_type": "execute_result"
    }
   ],
   "source": [
    "nlist.insert(0,0)\n",
    "nlist"
   ]
  },
  {
   "cell_type": "markdown",
   "id": "418bcd2a-3c7d-4dec-951e-2bfb81dc7324",
   "metadata": {},
   "source": [
    "문제 4"
   ]
  },
  {
   "cell_type": "code",
   "execution_count": 285,
   "id": "96293ac8-5dd4-49c5-95ff-8ad26b7c3e1e",
   "metadata": {},
   "outputs": [
    {
     "data": {
      "text/plain": [
       "[10, 9, 8, 7, 6, 5, 4, 3, 2, 1, 0]"
      ]
     },
     "execution_count": 285,
     "metadata": {},
     "output_type": "execute_result"
    }
   ],
   "source": [
    "nlist.reverse()\n",
    "nlist"
   ]
  },
  {
   "cell_type": "markdown",
   "id": "ab268613-9d11-4ad7-a7f0-5c87108d41b9",
   "metadata": {},
   "source": [
    "문제 5"
   ]
  },
  {
   "cell_type": "code",
   "execution_count": 286,
   "id": "1a5d329d-01b2-462c-82f4-642e639b2786",
   "metadata": {},
   "outputs": [
    {
     "name": "stdout",
     "output_type": "stream",
     "text": [
      "마지막 원소 = 0\n"
     ]
    }
   ],
   "source": [
    "print(\"마지막 원소 =\", nlist.pop())"
   ]
  },
  {
   "cell_type": "code",
   "execution_count": 287,
   "id": "c958dac3-4274-4490-b27b-4a4da42e9955",
   "metadata": {},
   "outputs": [
    {
     "data": {
      "text/plain": [
       "[10, 9, 8, 7, 6, 5, 4, 3, 2, 1]"
      ]
     },
     "execution_count": 287,
     "metadata": {},
     "output_type": "execute_result"
    }
   ],
   "source": [
    "nlist"
   ]
  },
  {
   "cell_type": "markdown",
   "id": "79c0fbb5-0ded-4a7a-a866-ef8a21c2e2b6",
   "metadata": {},
   "source": [
    "문제 6"
   ]
  },
  {
   "cell_type": "code",
   "execution_count": 288,
   "id": "aeb79b9e-9fe5-43fd-9856-f907f14f8012",
   "metadata": {},
   "outputs": [],
   "source": [
    "a = ['Life', 'is', 'too', 'short', 'you', 'need', 'python']"
   ]
  },
  {
   "cell_type": "code",
   "execution_count": 294,
   "id": "1dcef3b4-0348-4b38-8dad-cf2ba1c70e69",
   "metadata": {},
   "outputs": [
    {
     "name": "stdout",
     "output_type": "stream",
     "text": [
      "you too\n"
     ]
    }
   ],
   "source": [
    "print(a[4], a[2])"
   ]
  },
  {
   "cell_type": "markdown",
   "id": "7cb4fdf8-cb84-4fb6-9589-da3b0bc5d98e",
   "metadata": {},
   "source": [
    "문제 7"
   ]
  },
  {
   "cell_type": "code",
   "execution_count": 295,
   "id": "ea4d4b7a-e57e-438a-85e4-80b712062817",
   "metadata": {},
   "outputs": [
    {
     "data": {
      "text/plain": [
       "['Life', 'is', 'too', 'short']"
      ]
     },
     "execution_count": 295,
     "metadata": {},
     "output_type": "execute_result"
    }
   ],
   "source": [
    "b = ['Life', 'is', 'too', 'short']\n",
    "b"
   ]
  },
  {
   "cell_type": "code",
   "execution_count": 306,
   "id": "54683a7d-3916-4a2b-84f7-412962460a53",
   "metadata": {},
   "outputs": [
    {
     "data": {
      "text/plain": [
       "'Life is too short'"
      ]
     },
     "execution_count": 306,
     "metadata": {},
     "output_type": "execute_result"
    }
   ],
   "source": [
    "' '.join(b)"
   ]
  },
  {
   "cell_type": "code",
   "execution_count": 309,
   "id": "45bdae15-f903-4897-aa17-753d0932d358",
   "metadata": {},
   "outputs": [
    {
     "data": {
      "text/plain": [
       "'Life is too short'"
      ]
     },
     "execution_count": 309,
     "metadata": {},
     "output_type": "execute_result"
    }
   ],
   "source": [
    "(' ').join(b)"
   ]
  },
  {
   "cell_type": "code",
   "execution_count": 310,
   "id": "2575d2f6-578d-43aa-99fe-c0009449a5d0",
   "metadata": {},
   "outputs": [
    {
     "name": "stdout",
     "output_type": "stream",
     "text": [
      "Life is too short\n"
     ]
    }
   ],
   "source": [
    "print((' ').join(b))"
   ]
  },
  {
   "cell_type": "markdown",
   "id": "aa31b24e-ee24-415d-927b-ef728bbe9cb0",
   "metadata": {},
   "source": [
    "문제 8"
   ]
  },
  {
   "cell_type": "code",
   "execution_count": 308,
   "id": "ea567d23-7e46-4bb3-94ef-c09598f4c9ff",
   "metadata": {},
   "outputs": [
    {
     "data": {
      "text/plain": [
       "3"
      ]
     },
     "execution_count": 308,
     "metadata": {},
     "output_type": "execute_result"
    }
   ],
   "source": [
    "a1 = [1, 2, 3]\n",
    "len(a1)"
   ]
  },
  {
   "cell_type": "markdown",
   "id": "9f7cc9da-bc08-4495-b5a6-0aab8319b0ca",
   "metadata": {},
   "source": [
    "문제 9"
   ]
  },
  {
   "cell_type": "code",
   "execution_count": 311,
   "id": "f99b23c9-2947-4ca6-8d67-504a5af400bd",
   "metadata": {},
   "outputs": [
    {
     "data": {
      "text/plain": [
       "[3, 2, 1]"
      ]
     },
     "execution_count": 311,
     "metadata": {},
     "output_type": "execute_result"
    }
   ],
   "source": [
    "a1.reverse()\n",
    "a1"
   ]
  },
  {
   "cell_type": "code",
   "execution_count": 312,
   "id": "44a35fc6-0fc3-46dd-9126-fba171fa40ec",
   "metadata": {},
   "outputs": [],
   "source": [
    "a='big data'"
   ]
  },
  {
   "cell_type": "code",
   "execution_count": 313,
   "id": "cbd2c1b5-5fc9-41f2-a1b4-024348c34fbc",
   "metadata": {},
   "outputs": [
    {
     "data": {
      "text/plain": [
       "'da'"
      ]
     },
     "execution_count": 313,
     "metadata": {},
     "output_type": "execute_result"
    }
   ],
   "source": [
    "a[4:6]"
   ]
  },
  {
   "cell_type": "code",
   "execution_count": 314,
   "id": "a17bc37a-af16-41e6-ba4a-5ab4ec4fb042",
   "metadata": {},
   "outputs": [
    {
     "data": {
      "text/plain": [
       "'beautiful flower'"
      ]
     },
     "execution_count": 314,
     "metadata": {},
     "output_type": "execute_result"
    }
   ],
   "source": [
    "a='beautiful life'\n",
    "a.replace('life','flower')"
   ]
  },
  {
   "cell_type": "code",
   "execution_count": 315,
   "id": "c5c3509a-72bc-462b-98d5-e636bcd1572d",
   "metadata": {},
   "outputs": [],
   "source": [
    "a=[1,4,3,2,5]\n",
    "a.reverse()"
   ]
  },
  {
   "cell_type": "code",
   "execution_count": 316,
   "id": "758f7181-06cb-45fb-b779-eca234102bb8",
   "metadata": {},
   "outputs": [
    {
     "data": {
      "text/plain": [
       "[5, 2, 3, 4, 1]"
      ]
     },
     "execution_count": 316,
     "metadata": {},
     "output_type": "execute_result"
    }
   ],
   "source": [
    "a"
   ]
  },
  {
   "cell_type": "code",
   "execution_count": 317,
   "id": "1d23d0f5-7711-453c-942e-2434c12d805e",
   "metadata": {},
   "outputs": [],
   "source": [
    "a.sort(reverse=True)"
   ]
  },
  {
   "cell_type": "code",
   "execution_count": 318,
   "id": "6922c094-bafe-4906-8963-516ecdd4581d",
   "metadata": {},
   "outputs": [
    {
     "data": {
      "text/plain": [
       "[5, 4, 3, 2, 1]"
      ]
     },
     "execution_count": 318,
     "metadata": {},
     "output_type": "execute_result"
    }
   ],
   "source": [
    "a"
   ]
  },
  {
   "cell_type": "code",
   "execution_count": 319,
   "id": "34575e6d-6a41-46b5-89dc-cf4f3c3cc4d1",
   "metadata": {},
   "outputs": [
    {
     "data": {
      "text/plain": [
       "[1, 2, 1, 2]"
      ]
     },
     "execution_count": 319,
     "metadata": {},
     "output_type": "execute_result"
    }
   ],
   "source": [
    "a=[1,2]\n",
    "a*2"
   ]
  },
  {
   "cell_type": "code",
   "execution_count": 320,
   "id": "5a23172a-2f2e-4831-9086-65081d125469",
   "metadata": {},
   "outputs": [
    {
     "data": {
      "text/plain": [
       "[1, 2, 1, 2]"
      ]
     },
     "execution_count": 320,
     "metadata": {},
     "output_type": "execute_result"
    }
   ],
   "source": [
    "a*int(2)"
   ]
  },
  {
   "cell_type": "markdown",
   "id": "6a11e186-e9db-410c-8881-2afe76f6ec1d",
   "metadata": {},
   "source": [
    "문제 10"
   ]
  },
  {
   "cell_type": "code",
   "execution_count": 324,
   "id": "f9f8a8ea-e73c-4f8d-a0a6-ab7740aff173",
   "metadata": {},
   "outputs": [
    {
     "data": {
      "text/plain": [
       "[5, 4, 3, 2, 1]"
      ]
     },
     "execution_count": 324,
     "metadata": {},
     "output_type": "execute_result"
    }
   ],
   "source": [
    "a1 = [1, 3, 5, 4, 2]\n",
    "a1.sort(reverse=True)\n",
    "a1"
   ]
  },
  {
   "cell_type": "code",
   "execution_count": 326,
   "id": "576812ff-66ba-458e-893c-612675ec10a9",
   "metadata": {},
   "outputs": [],
   "source": [
    "a1.remove(2)"
   ]
  },
  {
   "cell_type": "code",
   "execution_count": 327,
   "id": "026cb2ad-5f31-4d39-ae5a-edffcebeb501",
   "metadata": {},
   "outputs": [
    {
     "data": {
      "text/plain": [
       "[5, 4, 3, 1]"
      ]
     },
     "execution_count": 327,
     "metadata": {},
     "output_type": "execute_result"
    }
   ],
   "source": [
    "a1"
   ]
  },
  {
   "cell_type": "markdown",
   "id": "2449fc32-24af-40ca-8c4a-cb27ede1a477",
   "metadata": {},
   "source": [
    "- 튜플형 자료"
   ]
  },
  {
   "cell_type": "code",
   "execution_count": 328,
   "id": "eb133b8c-20d0-4788-b383-9747ecae6bae",
   "metadata": {},
   "outputs": [
    {
     "data": {
      "text/plain": [
       "()"
      ]
     },
     "execution_count": 328,
     "metadata": {},
     "output_type": "execute_result"
    }
   ],
   "source": [
    "t = (); t"
   ]
  },
  {
   "cell_type": "code",
   "execution_count": 329,
   "id": "1abcba44-c604-4979-a10d-5810c148655f",
   "metadata": {},
   "outputs": [
    {
     "data": {
      "text/plain": [
       "1"
      ]
     },
     "execution_count": 329,
     "metadata": {},
     "output_type": "execute_result"
    }
   ],
   "source": [
    "t = (1); t"
   ]
  },
  {
   "cell_type": "code",
   "execution_count": 330,
   "id": "1a6d5b2d-9505-452e-a532-90a433477a5f",
   "metadata": {},
   "outputs": [
    {
     "data": {
      "text/plain": [
       "int"
      ]
     },
     "execution_count": 330,
     "metadata": {},
     "output_type": "execute_result"
    }
   ],
   "source": [
    "type(t)"
   ]
  },
  {
   "cell_type": "markdown",
   "id": "19c60163-c017-4556-8067-0ef2e2dc2ab7",
   "metadata": {},
   "source": [
    "single value인 경우에 튜플인 것 확인하는 방법"
   ]
  },
  {
   "cell_type": "code",
   "execution_count": 331,
   "id": "04d27b10-3a57-4822-80e5-6cd7a2df07fa",
   "metadata": {},
   "outputs": [
    {
     "data": {
      "text/plain": [
       "(1,)"
      ]
     },
     "execution_count": 331,
     "metadata": {},
     "output_type": "execute_result"
    }
   ],
   "source": [
    "t = (1,); t"
   ]
  },
  {
   "cell_type": "code",
   "execution_count": 332,
   "id": "8af8f385-80a3-4811-a0e3-fc157cdd9d23",
   "metadata": {},
   "outputs": [
    {
     "data": {
      "text/plain": [
       "tuple"
      ]
     },
     "execution_count": 332,
     "metadata": {},
     "output_type": "execute_result"
    }
   ],
   "source": [
    "type(t)"
   ]
  },
  {
   "cell_type": "code",
   "execution_count": 333,
   "id": "d5c5a29b-c714-4094-91af-bb6287415ae4",
   "metadata": {},
   "outputs": [
    {
     "data": {
      "text/plain": [
       "(1, 2, 3)"
      ]
     },
     "execution_count": 333,
     "metadata": {},
     "output_type": "execute_result"
    }
   ],
   "source": [
    "t = 1, 2, 3; t"
   ]
  },
  {
   "cell_type": "code",
   "execution_count": 334,
   "id": "826fdaf9-1af8-45f9-9b45-bc3318fd88f3",
   "metadata": {},
   "outputs": [
    {
     "data": {
      "text/plain": [
       "tuple"
      ]
     },
     "execution_count": 334,
     "metadata": {},
     "output_type": "execute_result"
    }
   ],
   "source": [
    "type(t)"
   ]
  },
  {
   "cell_type": "code",
   "execution_count": 335,
   "id": "a9da0302-6e81-4272-a1e6-75c5fff42fa2",
   "metadata": {},
   "outputs": [
    {
     "data": {
      "text/plain": [
       "('a', 'b', ('c', 'd'))"
      ]
     },
     "execution_count": 335,
     "metadata": {},
     "output_type": "execute_result"
    }
   ],
   "source": [
    "t = ('a', 'b', ('c', 'd'))\n",
    "t"
   ]
  },
  {
   "cell_type": "code",
   "execution_count": 336,
   "id": "ef106dd9-d80f-4e37-a00d-0c191346014b",
   "metadata": {},
   "outputs": [
    {
     "data": {
      "text/plain": [
       "tuple"
      ]
     },
     "execution_count": 336,
     "metadata": {},
     "output_type": "execute_result"
    }
   ],
   "source": [
    "type(t)"
   ]
  },
  {
   "cell_type": "markdown",
   "id": "2264c028-710d-41e5-aff9-9436be57b66b",
   "metadata": {},
   "source": [
    "- 튜플의 unpacking"
   ]
  },
  {
   "cell_type": "code",
   "execution_count": 337,
   "id": "5b901e3e-a746-4472-b571-0b825011cb0e",
   "metadata": {},
   "outputs": [],
   "source": [
    "c = (3, 4)\n",
    "d, e = c"
   ]
  },
  {
   "cell_type": "code",
   "execution_count": 338,
   "id": "5af85968-fc0c-4e3a-b854-760fba6d4436",
   "metadata": {},
   "outputs": [
    {
     "data": {
      "text/plain": [
       "3"
      ]
     },
     "execution_count": 338,
     "metadata": {},
     "output_type": "execute_result"
    }
   ],
   "source": [
    "d"
   ]
  },
  {
   "cell_type": "code",
   "execution_count": 339,
   "id": "005329f2-47cb-4a4e-bae0-d0d07d2e55b0",
   "metadata": {},
   "outputs": [
    {
     "data": {
      "text/plain": [
       "4"
      ]
     },
     "execution_count": 339,
     "metadata": {},
     "output_type": "execute_result"
    }
   ],
   "source": [
    "e"
   ]
  },
  {
   "cell_type": "markdown",
   "id": "8337cd3e-f3e4-44e8-b1b0-dd688dc5de32",
   "metadata": {},
   "source": [
    "- 튜플의 swap"
   ]
  },
  {
   "cell_type": "code",
   "execution_count": 340,
   "id": "2acaaa46-5863-4d8d-807c-b6db3f3edcfd",
   "metadata": {},
   "outputs": [
    {
     "data": {
      "text/plain": [
       "2"
      ]
     },
     "execution_count": 340,
     "metadata": {},
     "output_type": "execute_result"
    }
   ],
   "source": [
    "a, b = 1, 2\n",
    "a\n",
    "b"
   ]
  },
  {
   "cell_type": "code",
   "execution_count": 341,
   "id": "031cf91f-6546-40a5-8fac-5530e19976e9",
   "metadata": {},
   "outputs": [
    {
     "data": {
      "text/plain": [
       "1"
      ]
     },
     "execution_count": 341,
     "metadata": {},
     "output_type": "execute_result"
    }
   ],
   "source": [
    "a"
   ]
  },
  {
   "cell_type": "markdown",
   "id": "a6fa6562-8cd0-4f8a-8e99-3d4289054cfd",
   "metadata": {},
   "source": [
    "- 튜플의 슬라이싱과 인덱싱"
   ]
  },
  {
   "cell_type": "markdown",
   "id": "25989602-d81b-4130-898c-61370822cc1e",
   "metadata": {},
   "source": [
    "- 튜플의 더하기와 곱하기"
   ]
  },
  {
   "cell_type": "code",
   "execution_count": 343,
   "id": "74629e2c-0f62-4978-8bce-c719bee0fe19",
   "metadata": {},
   "outputs": [
    {
     "data": {
      "text/plain": [
       "(1, 2, 3, 4)"
      ]
     },
     "execution_count": 343,
     "metadata": {},
     "output_type": "execute_result"
    }
   ],
   "source": [
    "t2 = (3,4)\n",
    "t1 = 1, 2\n",
    "t1 + t2"
   ]
  },
  {
   "cell_type": "code",
   "execution_count": 344,
   "id": "ad51f52a-07d0-478a-bf15-66114f8367b4",
   "metadata": {},
   "outputs": [
    {
     "data": {
      "text/plain": [
       "(1, 2, 1, 2, 1, 2)"
      ]
     },
     "execution_count": 344,
     "metadata": {},
     "output_type": "execute_result"
    }
   ],
   "source": [
    "t1 * 3"
   ]
  },
  {
   "cell_type": "code",
   "execution_count": 345,
   "id": "a2581a7e-525a-45ae-b3db-3873d53e90d5",
   "metadata": {},
   "outputs": [
    {
     "data": {
      "text/plain": [
       "(1, 2, 3, 4, 3, 4, 3, 4)"
      ]
     },
     "execution_count": 345,
     "metadata": {},
     "output_type": "execute_result"
    }
   ],
   "source": [
    "t1 + t2 * 3"
   ]
  },
  {
   "cell_type": "code",
   "execution_count": 346,
   "id": "58476777-c38e-4311-8beb-4905ad97b7a0",
   "metadata": {},
   "outputs": [],
   "source": [
    "t0 = 10, 20, 30"
   ]
  },
  {
   "cell_type": "code",
   "execution_count": 347,
   "id": "01f0397a-3c6e-4868-8ab7-1320af9f15bb",
   "metadata": {},
   "outputs": [],
   "source": [
    "t1 = t0 + t0"
   ]
  },
  {
   "cell_type": "code",
   "execution_count": 348,
   "id": "23348051-36e7-4639-bd97-a19fcee696b9",
   "metadata": {},
   "outputs": [
    {
     "data": {
      "text/plain": [
       "(10, 20, 30, 10, 20, 30)"
      ]
     },
     "execution_count": 348,
     "metadata": {},
     "output_type": "execute_result"
    }
   ],
   "source": [
    "t1"
   ]
  },
  {
   "cell_type": "code",
   "execution_count": 349,
   "id": "d1c6a3a5-1267-422a-aa93-b12c8f856846",
   "metadata": {},
   "outputs": [],
   "source": [
    "t2 = t0 * 2"
   ]
  },
  {
   "cell_type": "code",
   "execution_count": 350,
   "id": "6aa3931f-9808-4858-9e1f-40df0c015c96",
   "metadata": {},
   "outputs": [
    {
     "ename": "TypeError",
     "evalue": "can only concatenate tuple (not \"int\") to tuple",
     "output_type": "error",
     "traceback": [
      "\u001b[1;31m---------------------------------------------------------------------------\u001b[0m",
      "\u001b[1;31mTypeError\u001b[0m                                 Traceback (most recent call last)",
      "Input \u001b[1;32mIn [350]\u001b[0m, in \u001b[0;36m<cell line: 1>\u001b[1;34m()\u001b[0m\n\u001b[1;32m----> 1\u001b[0m t3 \u001b[38;5;241m=\u001b[39m \u001b[43mt0\u001b[49m\u001b[43m \u001b[49m\u001b[38;5;241;43m+\u001b[39;49m\u001b[43m \u001b[49m\u001b[38;5;241;43m40\u001b[39;49m\n",
      "\u001b[1;31mTypeError\u001b[0m: can only concatenate tuple (not \"int\") to tuple"
     ]
    }
   ],
   "source": [
    "t3 = t0 + 40"
   ]
  },
  {
   "cell_type": "code",
   "execution_count": 351,
   "id": "da53df2d-3db7-42d3-90a1-c515ccf65b6b",
   "metadata": {},
   "outputs": [
    {
     "data": {
      "text/plain": [
       "(10, 20, 30, 40)"
      ]
     },
     "execution_count": 351,
     "metadata": {},
     "output_type": "execute_result"
    }
   ],
   "source": [
    "t3 = t0 + (40,)\n",
    "t3"
   ]
  },
  {
   "cell_type": "code",
   "execution_count": 352,
   "id": "20aeb432-b59b-4dac-93dc-277606ad82b8",
   "metadata": {},
   "outputs": [
    {
     "data": {
      "text/plain": [
       "((1, 2), (3, 4), (5, 6))"
      ]
     },
     "execution_count": 352,
     "metadata": {},
     "output_type": "execute_result"
    }
   ],
   "source": [
    "a = ((1,2), (3,4), (5,6))\n",
    "a"
   ]
  },
  {
   "cell_type": "code",
   "execution_count": 353,
   "id": "5399132c-b173-440e-ac8c-b12badf0db6f",
   "metadata": {},
   "outputs": [
    {
     "data": {
      "text/plain": [
       "(5, 6)"
      ]
     },
     "execution_count": 353,
     "metadata": {},
     "output_type": "execute_result"
    }
   ],
   "source": [
    "a[2]"
   ]
  },
  {
   "cell_type": "code",
   "execution_count": 354,
   "id": "f1021d30-a18f-4600-a0d3-083fcbe8997a",
   "metadata": {},
   "outputs": [
    {
     "data": {
      "text/plain": [
       "6"
      ]
     },
     "execution_count": 354,
     "metadata": {},
     "output_type": "execute_result"
    }
   ],
   "source": [
    "a[2][1]"
   ]
  },
  {
   "cell_type": "markdown",
   "id": "db6788cd-682b-4290-82b0-19d002a7d3f4",
   "metadata": {},
   "source": [
    "- 튜플에서 값의 위치를 서로 바꿔주려고 할 때"
   ]
  },
  {
   "cell_type": "code",
   "execution_count": 355,
   "id": "897a0802-2fc3-457d-97c0-cff099b102d2",
   "metadata": {},
   "outputs": [],
   "source": [
    "a = '감자'\n",
    "b = '고구마'\n",
    "a, b = b, a"
   ]
  },
  {
   "cell_type": "code",
   "execution_count": 356,
   "id": "ebe32e14-daab-4e48-bab9-48d57844a299",
   "metadata": {},
   "outputs": [
    {
     "data": {
      "text/plain": [
       "'고구마'"
      ]
     },
     "execution_count": 356,
     "metadata": {},
     "output_type": "execute_result"
    }
   ],
   "source": [
    "a"
   ]
  },
  {
   "cell_type": "code",
   "execution_count": 357,
   "id": "663bca82-b9f8-4c9e-8373-53f0c0ecaf03",
   "metadata": {},
   "outputs": [
    {
     "data": {
      "text/plain": [
       "'감자'"
      ]
     },
     "execution_count": 357,
     "metadata": {},
     "output_type": "execute_result"
    }
   ],
   "source": [
    "b"
   ]
  },
  {
   "cell_type": "markdown",
   "id": "d5148572-c528-4917-be3f-9f5896e0738f",
   "metadata": {},
   "source": [
    "- 튜플로 형 변환"
   ]
  },
  {
   "cell_type": "code",
   "execution_count": 358,
   "id": "c6489b9f-e9d3-40fe-9f50-6d1738ee12e8",
   "metadata": {},
   "outputs": [
    {
     "data": {
      "text/plain": [
       "(1, 4, 6, 7, 3)"
      ]
     },
     "execution_count": 358,
     "metadata": {},
     "output_type": "execute_result"
    }
   ],
   "source": [
    "tuple([1, 4, 6, 7, 3])"
   ]
  },
  {
   "cell_type": "code",
   "execution_count": 359,
   "id": "7f4be59f-d59b-4cd5-8dce-ac8a500676e2",
   "metadata": {},
   "outputs": [
    {
     "data": {
      "text/plain": [
       "('a', 'b', 'c', 'd', 'e')"
      ]
     },
     "execution_count": 359,
     "metadata": {},
     "output_type": "execute_result"
    }
   ],
   "source": [
    "tuple(\"abcde\")"
   ]
  },
  {
   "cell_type": "markdown",
   "id": "fa7c290b-67d2-4d2c-9ed4-cd518bdce2ef",
   "metadata": {},
   "source": [
    "- 튜플의 in 연산자"
   ]
  },
  {
   "cell_type": "code",
   "execution_count": 360,
   "id": "cb65925d-e1e8-4038-bdb4-c06e8bdae35d",
   "metadata": {},
   "outputs": [
    {
     "data": {
      "text/plain": [
       "True"
      ]
     },
     "execution_count": 360,
     "metadata": {},
     "output_type": "execute_result"
    }
   ],
   "source": [
    "'a' in ('a', 'b', 'c')"
   ]
  },
  {
   "cell_type": "code",
   "execution_count": 361,
   "id": "883fd274-6b8b-4c0a-81ea-6e93bcc2f3fc",
   "metadata": {},
   "outputs": [
    {
     "data": {
      "text/plain": [
       "True"
      ]
     },
     "execution_count": 361,
     "metadata": {},
     "output_type": "execute_result"
    }
   ],
   "source": [
    "'a' in list('abc')"
   ]
  },
  {
   "cell_type": "code",
   "execution_count": 362,
   "id": "050fff87-e3e6-428f-9bb1-d9ba5273a8eb",
   "metadata": {},
   "outputs": [
    {
     "data": {
      "text/plain": [
       "True"
      ]
     },
     "execution_count": 362,
     "metadata": {},
     "output_type": "execute_result"
    }
   ],
   "source": [
    "'a' in str('abc')"
   ]
  },
  {
   "cell_type": "code",
   "execution_count": 364,
   "id": "5b4d280f-3955-4432-89f1-673faccc7d73",
   "metadata": {},
   "outputs": [
    {
     "data": {
      "text/plain": [
       "'abc'"
      ]
     },
     "execution_count": 364,
     "metadata": {},
     "output_type": "execute_result"
    }
   ],
   "source": [
    "str('abc')"
   ]
  },
  {
   "cell_type": "code",
   "execution_count": 366,
   "id": "57a8c05c-374e-41bd-9614-dc8f0efb4ddc",
   "metadata": {},
   "outputs": [
    {
     "data": {
      "text/plain": [
       "False"
      ]
     },
     "execution_count": 366,
     "metadata": {},
     "output_type": "execute_result"
    }
   ],
   "source": [
    "5 in ('a', 'b', 'c')"
   ]
  }
 ],
 "metadata": {
  "kernelspec": {
   "display_name": "Python 3 (ipykernel)",
   "language": "python",
   "name": "python3"
  },
  "language_info": {
   "codemirror_mode": {
    "name": "ipython",
    "version": 3
   },
   "file_extension": ".py",
   "mimetype": "text/x-python",
   "name": "python",
   "nbconvert_exporter": "python",
   "pygments_lexer": "ipython3",
   "version": "3.9.12"
  }
 },
 "nbformat": 4,
 "nbformat_minor": 5
}
