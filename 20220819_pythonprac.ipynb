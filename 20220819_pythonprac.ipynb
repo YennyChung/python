{
 "cells": [
  {
   "cell_type": "markdown",
   "id": "2043452e-6de5-4855-bc7e-8a9be3570dfb",
   "metadata": {},
   "source": [
    "### 1. Bokeh"
   ]
  },
  {
   "cell_type": "code",
   "execution_count": 2,
   "id": "84101d62-2316-480f-820f-79994107a3a0",
   "metadata": {},
   "outputs": [
    {
     "name": "stdout",
     "output_type": "stream",
     "text": [
      "Requirement already satisfied: bokeh in c:\\users\\conet\\anaconda3\\lib\\site-packages (2.4.2)\n",
      "Requirement already satisfied: tornado>=5.1 in c:\\users\\conet\\anaconda3\\lib\\site-packages (from bokeh) (6.1)\n",
      "Requirement already satisfied: packaging>=16.8 in c:\\users\\conet\\anaconda3\\lib\\site-packages (from bokeh) (21.3)\n",
      "Requirement already satisfied: Jinja2>=2.9 in c:\\users\\conet\\anaconda3\\lib\\site-packages (from bokeh) (2.11.3)\n",
      "Requirement already satisfied: typing-extensions>=3.10.0 in c:\\users\\conet\\anaconda3\\lib\\site-packages (from bokeh) (4.1.1)\n",
      "Requirement already satisfied: numpy>=1.11.3 in c:\\users\\conet\\anaconda3\\lib\\site-packages (from bokeh) (1.21.5)\n",
      "Requirement already satisfied: pillow>=7.1.0 in c:\\users\\conet\\anaconda3\\lib\\site-packages (from bokeh) (9.0.1)\n",
      "Requirement already satisfied: PyYAML>=3.10 in c:\\users\\conet\\anaconda3\\lib\\site-packages (from bokeh) (6.0)\n",
      "Requirement already satisfied: MarkupSafe>=0.23 in c:\\users\\conet\\anaconda3\\lib\\site-packages (from Jinja2>=2.9->bokeh) (2.0.1)\n",
      "Requirement already satisfied: pyparsing!=3.0.5,>=2.0.2 in c:\\users\\conet\\anaconda3\\lib\\site-packages (from packaging>=16.8->bokeh) (3.0.4)\n"
     ]
    }
   ],
   "source": [
    "# !pip install bokeh"
   ]
  },
  {
   "cell_type": "code",
   "execution_count": 1,
   "id": "edb26851-bf23-4788-a73a-3aa8e7ef064d",
   "metadata": {},
   "outputs": [
    {
     "name": "stdout",
     "output_type": "stream",
     "text": [
      "Creating C:\\Users\\Conet\\.bokeh directory\n",
      "Creating C:\\Users\\Conet\\.bokeh\\data directory\n",
      "Using data directory: C:\\Users\\Conet\\.bokeh\\data\n",
      "Downloading: CGM.csv (1589982 bytes)\n",
      "   1589982 [100.00%]\n",
      "Downloading: US_Counties.zip (3171836 bytes)\n",
      "   3171836 [100.00%]\n",
      "Unpacking: US_Counties.csv\n",
      "Downloading: us_cities.json (713565 bytes)\n",
      "    713565 [100.00%]\n",
      "Downloading: unemployment09.csv (253301 bytes)\n",
      "    253301 [100.00%]\n",
      "Downloading: AAPL.csv (166698 bytes)\n",
      "    166698 [100.00%]\n",
      "Downloading: FB.csv (9706 bytes)\n",
      "      9706 [100.00%]\n",
      "Downloading: GOOG.csv (113894 bytes)\n",
      "    113894 [100.00%]\n",
      "Downloading: IBM.csv (165625 bytes)\n",
      "    165625 [100.00%]\n",
      "Downloading: MSFT.csv (161614 bytes)\n",
      "    161614 [100.00%]\n",
      "Downloading: WPP2012_SA_DB03_POPULATION_QUINQUENNIAL.zip (4816256 bytes)\n",
      "   4816256 [100.00%]\n",
      "Unpacking: WPP2012_SA_DB03_POPULATION_QUINQUENNIAL.csv\n",
      "Downloading: gapminder_fertility.csv (64346 bytes)\n",
      "     64346 [100.00%]\n",
      "Downloading: gapminder_population.csv (94509 bytes)\n",
      "     94509 [100.00%]\n",
      "Downloading: gapminder_life_expectancy.csv (73243 bytes)\n",
      "     73243 [100.00%]\n",
      "Downloading: gapminder_regions.csv (7781 bytes)\n",
      "      7781 [100.00%]\n",
      "Downloading: world_cities.zip (645274 bytes)\n",
      "    645274 [100.00%]\n",
      "Unpacking: world_cities.csv\n",
      "Downloading: airports.json (6373 bytes)\n",
      "      6373 [100.00%]\n",
      "Downloading: movies.db.zip (5053420 bytes)\n",
      "   5053420 [100.00%]\n",
      "Unpacking: movies.db\n",
      "Downloading: airports.csv (203190 bytes)\n",
      "    203190 [100.00%]\n",
      "Downloading: routes.csv (377280 bytes)\n",
      "    377280 [100.00%]\n",
      "Downloading: haarcascade_frontalface_default.xml (930127 bytes)\n",
      "    930127 [100.00%]\n"
     ]
    }
   ],
   "source": [
    "import bokeh.sampledata\n",
    "\n",
    "bokeh.sampledata.download()"
   ]
  },
  {
   "cell_type": "code",
   "execution_count": 3,
   "id": "c8e7c8c8-70fe-4097-b8a1-b83cae8824e1",
   "metadata": {},
   "outputs": [
    {
     "data": {
      "text/html": [
       "\n",
       "    <div class=\"bk-root\">\n",
       "        <a href=\"https://bokeh.org\" target=\"_blank\" class=\"bk-logo bk-logo-small bk-logo-notebook\"></a>\n",
       "        <span id=\"1002\">Loading BokehJS ...</span>\n",
       "    </div>"
      ]
     },
     "metadata": {},
     "output_type": "display_data"
    },
    {
     "data": {
      "application/javascript": [
       "\n",
       "(function(root) {\n",
       "  function now() {\n",
       "    return new Date();\n",
       "  }\n",
       "\n",
       "  const force = true;\n",
       "\n",
       "  if (typeof root._bokeh_onload_callbacks === \"undefined\" || force === true) {\n",
       "    root._bokeh_onload_callbacks = [];\n",
       "    root._bokeh_is_loading = undefined;\n",
       "  }\n",
       "\n",
       "  const JS_MIME_TYPE = 'application/javascript';\n",
       "  const HTML_MIME_TYPE = 'text/html';\n",
       "  const EXEC_MIME_TYPE = 'application/vnd.bokehjs_exec.v0+json';\n",
       "  const CLASS_NAME = 'output_bokeh rendered_html';\n",
       "\n",
       "  /**\n",
       "   * Render data to the DOM node\n",
       "   */\n",
       "  function render(props, node) {\n",
       "    const script = document.createElement(\"script\");\n",
       "    node.appendChild(script);\n",
       "  }\n",
       "\n",
       "  /**\n",
       "   * Handle when an output is cleared or removed\n",
       "   */\n",
       "  function handleClearOutput(event, handle) {\n",
       "    const cell = handle.cell;\n",
       "\n",
       "    const id = cell.output_area._bokeh_element_id;\n",
       "    const server_id = cell.output_area._bokeh_server_id;\n",
       "    // Clean up Bokeh references\n",
       "    if (id != null && id in Bokeh.index) {\n",
       "      Bokeh.index[id].model.document.clear();\n",
       "      delete Bokeh.index[id];\n",
       "    }\n",
       "\n",
       "    if (server_id !== undefined) {\n",
       "      // Clean up Bokeh references\n",
       "      const cmd_clean = \"from bokeh.io.state import curstate; print(curstate().uuid_to_server['\" + server_id + \"'].get_sessions()[0].document.roots[0]._id)\";\n",
       "      cell.notebook.kernel.execute(cmd_clean, {\n",
       "        iopub: {\n",
       "          output: function(msg) {\n",
       "            const id = msg.content.text.trim();\n",
       "            if (id in Bokeh.index) {\n",
       "              Bokeh.index[id].model.document.clear();\n",
       "              delete Bokeh.index[id];\n",
       "            }\n",
       "          }\n",
       "        }\n",
       "      });\n",
       "      // Destroy server and session\n",
       "      const cmd_destroy = \"import bokeh.io.notebook as ion; ion.destroy_server('\" + server_id + \"')\";\n",
       "      cell.notebook.kernel.execute(cmd_destroy);\n",
       "    }\n",
       "  }\n",
       "\n",
       "  /**\n",
       "   * Handle when a new output is added\n",
       "   */\n",
       "  function handleAddOutput(event, handle) {\n",
       "    const output_area = handle.output_area;\n",
       "    const output = handle.output;\n",
       "\n",
       "    // limit handleAddOutput to display_data with EXEC_MIME_TYPE content only\n",
       "    if ((output.output_type != \"display_data\") || (!Object.prototype.hasOwnProperty.call(output.data, EXEC_MIME_TYPE))) {\n",
       "      return\n",
       "    }\n",
       "\n",
       "    const toinsert = output_area.element.find(\".\" + CLASS_NAME.split(' ')[0]);\n",
       "\n",
       "    if (output.metadata[EXEC_MIME_TYPE][\"id\"] !== undefined) {\n",
       "      toinsert[toinsert.length - 1].firstChild.textContent = output.data[JS_MIME_TYPE];\n",
       "      // store reference to embed id on output_area\n",
       "      output_area._bokeh_element_id = output.metadata[EXEC_MIME_TYPE][\"id\"];\n",
       "    }\n",
       "    if (output.metadata[EXEC_MIME_TYPE][\"server_id\"] !== undefined) {\n",
       "      const bk_div = document.createElement(\"div\");\n",
       "      bk_div.innerHTML = output.data[HTML_MIME_TYPE];\n",
       "      const script_attrs = bk_div.children[0].attributes;\n",
       "      for (let i = 0; i < script_attrs.length; i++) {\n",
       "        toinsert[toinsert.length - 1].firstChild.setAttribute(script_attrs[i].name, script_attrs[i].value);\n",
       "        toinsert[toinsert.length - 1].firstChild.textContent = bk_div.children[0].textContent\n",
       "      }\n",
       "      // store reference to server id on output_area\n",
       "      output_area._bokeh_server_id = output.metadata[EXEC_MIME_TYPE][\"server_id\"];\n",
       "    }\n",
       "  }\n",
       "\n",
       "  function register_renderer(events, OutputArea) {\n",
       "\n",
       "    function append_mime(data, metadata, element) {\n",
       "      // create a DOM node to render to\n",
       "      const toinsert = this.create_output_subarea(\n",
       "        metadata,\n",
       "        CLASS_NAME,\n",
       "        EXEC_MIME_TYPE\n",
       "      );\n",
       "      this.keyboard_manager.register_events(toinsert);\n",
       "      // Render to node\n",
       "      const props = {data: data, metadata: metadata[EXEC_MIME_TYPE]};\n",
       "      render(props, toinsert[toinsert.length - 1]);\n",
       "      element.append(toinsert);\n",
       "      return toinsert\n",
       "    }\n",
       "\n",
       "    /* Handle when an output is cleared or removed */\n",
       "    events.on('clear_output.CodeCell', handleClearOutput);\n",
       "    events.on('delete.Cell', handleClearOutput);\n",
       "\n",
       "    /* Handle when a new output is added */\n",
       "    events.on('output_added.OutputArea', handleAddOutput);\n",
       "\n",
       "    /**\n",
       "     * Register the mime type and append_mime function with output_area\n",
       "     */\n",
       "    OutputArea.prototype.register_mime_type(EXEC_MIME_TYPE, append_mime, {\n",
       "      /* Is output safe? */\n",
       "      safe: true,\n",
       "      /* Index of renderer in `output_area.display_order` */\n",
       "      index: 0\n",
       "    });\n",
       "  }\n",
       "\n",
       "  // register the mime type if in Jupyter Notebook environment and previously unregistered\n",
       "  if (root.Jupyter !== undefined) {\n",
       "    const events = require('base/js/events');\n",
       "    const OutputArea = require('notebook/js/outputarea').OutputArea;\n",
       "\n",
       "    if (OutputArea.prototype.mime_types().indexOf(EXEC_MIME_TYPE) == -1) {\n",
       "      register_renderer(events, OutputArea);\n",
       "    }\n",
       "  }\n",
       "\n",
       "  \n",
       "  if (typeof (root._bokeh_timeout) === \"undefined\" || force === true) {\n",
       "    root._bokeh_timeout = Date.now() + 5000;\n",
       "    root._bokeh_failed_load = false;\n",
       "  }\n",
       "\n",
       "  const NB_LOAD_WARNING = {'data': {'text/html':\n",
       "     \"<div style='background-color: #fdd'>\\n\"+\n",
       "     \"<p>\\n\"+\n",
       "     \"BokehJS does not appear to have successfully loaded. If loading BokehJS from CDN, this \\n\"+\n",
       "     \"may be due to a slow or bad network connection. Possible fixes:\\n\"+\n",
       "     \"</p>\\n\"+\n",
       "     \"<ul>\\n\"+\n",
       "     \"<li>re-rerun `output_notebook()` to attempt to load from CDN again, or</li>\\n\"+\n",
       "     \"<li>use INLINE resources instead, as so:</li>\\n\"+\n",
       "     \"</ul>\\n\"+\n",
       "     \"<code>\\n\"+\n",
       "     \"from bokeh.resources import INLINE\\n\"+\n",
       "     \"output_notebook(resources=INLINE)\\n\"+\n",
       "     \"</code>\\n\"+\n",
       "     \"</div>\"}};\n",
       "\n",
       "  function display_loaded() {\n",
       "    const el = document.getElementById(\"1002\");\n",
       "    if (el != null) {\n",
       "      el.textContent = \"BokehJS is loading...\";\n",
       "    }\n",
       "    if (root.Bokeh !== undefined) {\n",
       "      if (el != null) {\n",
       "        el.textContent = \"BokehJS \" + root.Bokeh.version + \" successfully loaded.\";\n",
       "      }\n",
       "    } else if (Date.now() < root._bokeh_timeout) {\n",
       "      setTimeout(display_loaded, 100)\n",
       "    }\n",
       "  }\n",
       "\n",
       "\n",
       "  function run_callbacks() {\n",
       "    try {\n",
       "      root._bokeh_onload_callbacks.forEach(function(callback) {\n",
       "        if (callback != null)\n",
       "          callback();\n",
       "      });\n",
       "    } finally {\n",
       "      delete root._bokeh_onload_callbacks\n",
       "    }\n",
       "    console.debug(\"Bokeh: all callbacks have finished\");\n",
       "  }\n",
       "\n",
       "  function load_libs(css_urls, js_urls, callback) {\n",
       "    if (css_urls == null) css_urls = [];\n",
       "    if (js_urls == null) js_urls = [];\n",
       "\n",
       "    root._bokeh_onload_callbacks.push(callback);\n",
       "    if (root._bokeh_is_loading > 0) {\n",
       "      console.debug(\"Bokeh: BokehJS is being loaded, scheduling callback at\", now());\n",
       "      return null;\n",
       "    }\n",
       "    if (js_urls == null || js_urls.length === 0) {\n",
       "      run_callbacks();\n",
       "      return null;\n",
       "    }\n",
       "    console.debug(\"Bokeh: BokehJS not loaded, scheduling load and callback at\", now());\n",
       "    root._bokeh_is_loading = css_urls.length + js_urls.length;\n",
       "\n",
       "    function on_load() {\n",
       "      root._bokeh_is_loading--;\n",
       "      if (root._bokeh_is_loading === 0) {\n",
       "        console.debug(\"Bokeh: all BokehJS libraries/stylesheets loaded\");\n",
       "        run_callbacks()\n",
       "      }\n",
       "    }\n",
       "\n",
       "    function on_error(url) {\n",
       "      console.error(\"failed to load \" + url);\n",
       "    }\n",
       "\n",
       "    for (let i = 0; i < css_urls.length; i++) {\n",
       "      const url = css_urls[i];\n",
       "      const element = document.createElement(\"link\");\n",
       "      element.onload = on_load;\n",
       "      element.onerror = on_error.bind(null, url);\n",
       "      element.rel = \"stylesheet\";\n",
       "      element.type = \"text/css\";\n",
       "      element.href = url;\n",
       "      console.debug(\"Bokeh: injecting link tag for BokehJS stylesheet: \", url);\n",
       "      document.body.appendChild(element);\n",
       "    }\n",
       "\n",
       "    for (let i = 0; i < js_urls.length; i++) {\n",
       "      const url = js_urls[i];\n",
       "      const element = document.createElement('script');\n",
       "      element.onload = on_load;\n",
       "      element.onerror = on_error.bind(null, url);\n",
       "      element.async = false;\n",
       "      element.src = url;\n",
       "      console.debug(\"Bokeh: injecting script tag for BokehJS library: \", url);\n",
       "      document.head.appendChild(element);\n",
       "    }\n",
       "  };\n",
       "\n",
       "  function inject_raw_css(css) {\n",
       "    const element = document.createElement(\"style\");\n",
       "    element.appendChild(document.createTextNode(css));\n",
       "    document.body.appendChild(element);\n",
       "  }\n",
       "\n",
       "  \n",
       "  const js_urls = [\"https://cdn.bokeh.org/bokeh/release/bokeh-2.4.2.min.js\", \"https://cdn.bokeh.org/bokeh/release/bokeh-gl-2.4.2.min.js\", \"https://cdn.bokeh.org/bokeh/release/bokeh-widgets-2.4.2.min.js\", \"https://cdn.bokeh.org/bokeh/release/bokeh-tables-2.4.2.min.js\", \"https://cdn.bokeh.org/bokeh/release/bokeh-mathjax-2.4.2.min.js\"];\n",
       "  const css_urls = [];\n",
       "  \n",
       "\n",
       "  const inline_js = [\n",
       "    function(Bokeh) {\n",
       "      Bokeh.set_log_level(\"info\");\n",
       "    },\n",
       "    function(Bokeh) {\n",
       "    \n",
       "    \n",
       "    }\n",
       "  ];\n",
       "\n",
       "  function run_inline_js() {\n",
       "    \n",
       "    if (root.Bokeh !== undefined || force === true) {\n",
       "      \n",
       "    for (let i = 0; i < inline_js.length; i++) {\n",
       "      inline_js[i].call(root, root.Bokeh);\n",
       "    }\n",
       "    if (force === true) {\n",
       "        display_loaded();\n",
       "      }} else if (Date.now() < root._bokeh_timeout) {\n",
       "      setTimeout(run_inline_js, 100);\n",
       "    } else if (!root._bokeh_failed_load) {\n",
       "      console.log(\"Bokeh: BokehJS failed to load within specified timeout.\");\n",
       "      root._bokeh_failed_load = true;\n",
       "    } else if (force !== true) {\n",
       "      const cell = $(document.getElementById(\"1002\")).parents('.cell').data().cell;\n",
       "      cell.output_area.append_execute_result(NB_LOAD_WARNING)\n",
       "    }\n",
       "\n",
       "  }\n",
       "\n",
       "  if (root._bokeh_is_loading === 0) {\n",
       "    console.debug(\"Bokeh: BokehJS loaded, going straight to plotting\");\n",
       "    run_inline_js();\n",
       "  } else {\n",
       "    load_libs(css_urls, js_urls, function() {\n",
       "      console.debug(\"Bokeh: BokehJS plotting callback run at\", now());\n",
       "      run_inline_js();\n",
       "    });\n",
       "  }\n",
       "}(window));"
      ],
      "application/vnd.bokehjs_load.v0+json": "\n(function(root) {\n  function now() {\n    return new Date();\n  }\n\n  const force = true;\n\n  if (typeof root._bokeh_onload_callbacks === \"undefined\" || force === true) {\n    root._bokeh_onload_callbacks = [];\n    root._bokeh_is_loading = undefined;\n  }\n\n  \n\n  \n  if (typeof (root._bokeh_timeout) === \"undefined\" || force === true) {\n    root._bokeh_timeout = Date.now() + 5000;\n    root._bokeh_failed_load = false;\n  }\n\n  const NB_LOAD_WARNING = {'data': {'text/html':\n     \"<div style='background-color: #fdd'>\\n\"+\n     \"<p>\\n\"+\n     \"BokehJS does not appear to have successfully loaded. If loading BokehJS from CDN, this \\n\"+\n     \"may be due to a slow or bad network connection. Possible fixes:\\n\"+\n     \"</p>\\n\"+\n     \"<ul>\\n\"+\n     \"<li>re-rerun `output_notebook()` to attempt to load from CDN again, or</li>\\n\"+\n     \"<li>use INLINE resources instead, as so:</li>\\n\"+\n     \"</ul>\\n\"+\n     \"<code>\\n\"+\n     \"from bokeh.resources import INLINE\\n\"+\n     \"output_notebook(resources=INLINE)\\n\"+\n     \"</code>\\n\"+\n     \"</div>\"}};\n\n  function display_loaded() {\n    const el = document.getElementById(\"1002\");\n    if (el != null) {\n      el.textContent = \"BokehJS is loading...\";\n    }\n    if (root.Bokeh !== undefined) {\n      if (el != null) {\n        el.textContent = \"BokehJS \" + root.Bokeh.version + \" successfully loaded.\";\n      }\n    } else if (Date.now() < root._bokeh_timeout) {\n      setTimeout(display_loaded, 100)\n    }\n  }\n\n\n  function run_callbacks() {\n    try {\n      root._bokeh_onload_callbacks.forEach(function(callback) {\n        if (callback != null)\n          callback();\n      });\n    } finally {\n      delete root._bokeh_onload_callbacks\n    }\n    console.debug(\"Bokeh: all callbacks have finished\");\n  }\n\n  function load_libs(css_urls, js_urls, callback) {\n    if (css_urls == null) css_urls = [];\n    if (js_urls == null) js_urls = [];\n\n    root._bokeh_onload_callbacks.push(callback);\n    if (root._bokeh_is_loading > 0) {\n      console.debug(\"Bokeh: BokehJS is being loaded, scheduling callback at\", now());\n      return null;\n    }\n    if (js_urls == null || js_urls.length === 0) {\n      run_callbacks();\n      return null;\n    }\n    console.debug(\"Bokeh: BokehJS not loaded, scheduling load and callback at\", now());\n    root._bokeh_is_loading = css_urls.length + js_urls.length;\n\n    function on_load() {\n      root._bokeh_is_loading--;\n      if (root._bokeh_is_loading === 0) {\n        console.debug(\"Bokeh: all BokehJS libraries/stylesheets loaded\");\n        run_callbacks()\n      }\n    }\n\n    function on_error(url) {\n      console.error(\"failed to load \" + url);\n    }\n\n    for (let i = 0; i < css_urls.length; i++) {\n      const url = css_urls[i];\n      const element = document.createElement(\"link\");\n      element.onload = on_load;\n      element.onerror = on_error.bind(null, url);\n      element.rel = \"stylesheet\";\n      element.type = \"text/css\";\n      element.href = url;\n      console.debug(\"Bokeh: injecting link tag for BokehJS stylesheet: \", url);\n      document.body.appendChild(element);\n    }\n\n    for (let i = 0; i < js_urls.length; i++) {\n      const url = js_urls[i];\n      const element = document.createElement('script');\n      element.onload = on_load;\n      element.onerror = on_error.bind(null, url);\n      element.async = false;\n      element.src = url;\n      console.debug(\"Bokeh: injecting script tag for BokehJS library: \", url);\n      document.head.appendChild(element);\n    }\n  };\n\n  function inject_raw_css(css) {\n    const element = document.createElement(\"style\");\n    element.appendChild(document.createTextNode(css));\n    document.body.appendChild(element);\n  }\n\n  \n  const js_urls = [\"https://cdn.bokeh.org/bokeh/release/bokeh-2.4.2.min.js\", \"https://cdn.bokeh.org/bokeh/release/bokeh-gl-2.4.2.min.js\", \"https://cdn.bokeh.org/bokeh/release/bokeh-widgets-2.4.2.min.js\", \"https://cdn.bokeh.org/bokeh/release/bokeh-tables-2.4.2.min.js\", \"https://cdn.bokeh.org/bokeh/release/bokeh-mathjax-2.4.2.min.js\"];\n  const css_urls = [];\n  \n\n  const inline_js = [\n    function(Bokeh) {\n      Bokeh.set_log_level(\"info\");\n    },\n    function(Bokeh) {\n    \n    \n    }\n  ];\n\n  function run_inline_js() {\n    \n    if (root.Bokeh !== undefined || force === true) {\n      \n    for (let i = 0; i < inline_js.length; i++) {\n      inline_js[i].call(root, root.Bokeh);\n    }\n    if (force === true) {\n        display_loaded();\n      }} else if (Date.now() < root._bokeh_timeout) {\n      setTimeout(run_inline_js, 100);\n    } else if (!root._bokeh_failed_load) {\n      console.log(\"Bokeh: BokehJS failed to load within specified timeout.\");\n      root._bokeh_failed_load = true;\n    } else if (force !== true) {\n      const cell = $(document.getElementById(\"1002\")).parents('.cell').data().cell;\n      cell.output_area.append_execute_result(NB_LOAD_WARNING)\n    }\n\n  }\n\n  if (root._bokeh_is_loading === 0) {\n    console.debug(\"Bokeh: BokehJS loaded, going straight to plotting\");\n    run_inline_js();\n  } else {\n    load_libs(css_urls, js_urls, function() {\n      console.debug(\"Bokeh: BokehJS plotting callback run at\", now());\n      run_inline_js();\n    });\n  }\n}(window));"
     },
     "metadata": {},
     "output_type": "display_data"
    }
   ],
   "source": [
    "# Standard imports\n",
    "from bokeh.io import output_notebook, show\n",
    "from bokeh.plotting import figure\n",
    "output_notebook()"
   ]
  },
  {
   "cell_type": "code",
   "execution_count": 4,
   "id": "98f4866e-170b-40a0-9320-6b8703d9b6c4",
   "metadata": {},
   "outputs": [
    {
     "data": {
      "text/html": [
       "\n",
       "    <div class=\"bk-root\">\n",
       "        <a href=\"https://bokeh.org\" target=\"_blank\" class=\"bk-logo bk-logo-small bk-logo-notebook\"></a>\n",
       "        <span id=\"1048\">Loading BokehJS ...</span>\n",
       "    </div>"
      ]
     },
     "metadata": {},
     "output_type": "display_data"
    },
    {
     "data": {
      "application/javascript": [
       "\n",
       "(function(root) {\n",
       "  function now() {\n",
       "    return new Date();\n",
       "  }\n",
       "\n",
       "  const force = true;\n",
       "\n",
       "  if (typeof root._bokeh_onload_callbacks === \"undefined\" || force === true) {\n",
       "    root._bokeh_onload_callbacks = [];\n",
       "    root._bokeh_is_loading = undefined;\n",
       "  }\n",
       "\n",
       "  const JS_MIME_TYPE = 'application/javascript';\n",
       "  const HTML_MIME_TYPE = 'text/html';\n",
       "  const EXEC_MIME_TYPE = 'application/vnd.bokehjs_exec.v0+json';\n",
       "  const CLASS_NAME = 'output_bokeh rendered_html';\n",
       "\n",
       "  /**\n",
       "   * Render data to the DOM node\n",
       "   */\n",
       "  function render(props, node) {\n",
       "    const script = document.createElement(\"script\");\n",
       "    node.appendChild(script);\n",
       "  }\n",
       "\n",
       "  /**\n",
       "   * Handle when an output is cleared or removed\n",
       "   */\n",
       "  function handleClearOutput(event, handle) {\n",
       "    const cell = handle.cell;\n",
       "\n",
       "    const id = cell.output_area._bokeh_element_id;\n",
       "    const server_id = cell.output_area._bokeh_server_id;\n",
       "    // Clean up Bokeh references\n",
       "    if (id != null && id in Bokeh.index) {\n",
       "      Bokeh.index[id].model.document.clear();\n",
       "      delete Bokeh.index[id];\n",
       "    }\n",
       "\n",
       "    if (server_id !== undefined) {\n",
       "      // Clean up Bokeh references\n",
       "      const cmd_clean = \"from bokeh.io.state import curstate; print(curstate().uuid_to_server['\" + server_id + \"'].get_sessions()[0].document.roots[0]._id)\";\n",
       "      cell.notebook.kernel.execute(cmd_clean, {\n",
       "        iopub: {\n",
       "          output: function(msg) {\n",
       "            const id = msg.content.text.trim();\n",
       "            if (id in Bokeh.index) {\n",
       "              Bokeh.index[id].model.document.clear();\n",
       "              delete Bokeh.index[id];\n",
       "            }\n",
       "          }\n",
       "        }\n",
       "      });\n",
       "      // Destroy server and session\n",
       "      const cmd_destroy = \"import bokeh.io.notebook as ion; ion.destroy_server('\" + server_id + \"')\";\n",
       "      cell.notebook.kernel.execute(cmd_destroy);\n",
       "    }\n",
       "  }\n",
       "\n",
       "  /**\n",
       "   * Handle when a new output is added\n",
       "   */\n",
       "  function handleAddOutput(event, handle) {\n",
       "    const output_area = handle.output_area;\n",
       "    const output = handle.output;\n",
       "\n",
       "    // limit handleAddOutput to display_data with EXEC_MIME_TYPE content only\n",
       "    if ((output.output_type != \"display_data\") || (!Object.prototype.hasOwnProperty.call(output.data, EXEC_MIME_TYPE))) {\n",
       "      return\n",
       "    }\n",
       "\n",
       "    const toinsert = output_area.element.find(\".\" + CLASS_NAME.split(' ')[0]);\n",
       "\n",
       "    if (output.metadata[EXEC_MIME_TYPE][\"id\"] !== undefined) {\n",
       "      toinsert[toinsert.length - 1].firstChild.textContent = output.data[JS_MIME_TYPE];\n",
       "      // store reference to embed id on output_area\n",
       "      output_area._bokeh_element_id = output.metadata[EXEC_MIME_TYPE][\"id\"];\n",
       "    }\n",
       "    if (output.metadata[EXEC_MIME_TYPE][\"server_id\"] !== undefined) {\n",
       "      const bk_div = document.createElement(\"div\");\n",
       "      bk_div.innerHTML = output.data[HTML_MIME_TYPE];\n",
       "      const script_attrs = bk_div.children[0].attributes;\n",
       "      for (let i = 0; i < script_attrs.length; i++) {\n",
       "        toinsert[toinsert.length - 1].firstChild.setAttribute(script_attrs[i].name, script_attrs[i].value);\n",
       "        toinsert[toinsert.length - 1].firstChild.textContent = bk_div.children[0].textContent\n",
       "      }\n",
       "      // store reference to server id on output_area\n",
       "      output_area._bokeh_server_id = output.metadata[EXEC_MIME_TYPE][\"server_id\"];\n",
       "    }\n",
       "  }\n",
       "\n",
       "  function register_renderer(events, OutputArea) {\n",
       "\n",
       "    function append_mime(data, metadata, element) {\n",
       "      // create a DOM node to render to\n",
       "      const toinsert = this.create_output_subarea(\n",
       "        metadata,\n",
       "        CLASS_NAME,\n",
       "        EXEC_MIME_TYPE\n",
       "      );\n",
       "      this.keyboard_manager.register_events(toinsert);\n",
       "      // Render to node\n",
       "      const props = {data: data, metadata: metadata[EXEC_MIME_TYPE]};\n",
       "      render(props, toinsert[toinsert.length - 1]);\n",
       "      element.append(toinsert);\n",
       "      return toinsert\n",
       "    }\n",
       "\n",
       "    /* Handle when an output is cleared or removed */\n",
       "    events.on('clear_output.CodeCell', handleClearOutput);\n",
       "    events.on('delete.Cell', handleClearOutput);\n",
       "\n",
       "    /* Handle when a new output is added */\n",
       "    events.on('output_added.OutputArea', handleAddOutput);\n",
       "\n",
       "    /**\n",
       "     * Register the mime type and append_mime function with output_area\n",
       "     */\n",
       "    OutputArea.prototype.register_mime_type(EXEC_MIME_TYPE, append_mime, {\n",
       "      /* Is output safe? */\n",
       "      safe: true,\n",
       "      /* Index of renderer in `output_area.display_order` */\n",
       "      index: 0\n",
       "    });\n",
       "  }\n",
       "\n",
       "  // register the mime type if in Jupyter Notebook environment and previously unregistered\n",
       "  if (root.Jupyter !== undefined) {\n",
       "    const events = require('base/js/events');\n",
       "    const OutputArea = require('notebook/js/outputarea').OutputArea;\n",
       "\n",
       "    if (OutputArea.prototype.mime_types().indexOf(EXEC_MIME_TYPE) == -1) {\n",
       "      register_renderer(events, OutputArea);\n",
       "    }\n",
       "  }\n",
       "\n",
       "  \n",
       "  if (typeof (root._bokeh_timeout) === \"undefined\" || force === true) {\n",
       "    root._bokeh_timeout = Date.now() + 5000;\n",
       "    root._bokeh_failed_load = false;\n",
       "  }\n",
       "\n",
       "  const NB_LOAD_WARNING = {'data': {'text/html':\n",
       "     \"<div style='background-color: #fdd'>\\n\"+\n",
       "     \"<p>\\n\"+\n",
       "     \"BokehJS does not appear to have successfully loaded. If loading BokehJS from CDN, this \\n\"+\n",
       "     \"may be due to a slow or bad network connection. Possible fixes:\\n\"+\n",
       "     \"</p>\\n\"+\n",
       "     \"<ul>\\n\"+\n",
       "     \"<li>re-rerun `output_notebook()` to attempt to load from CDN again, or</li>\\n\"+\n",
       "     \"<li>use INLINE resources instead, as so:</li>\\n\"+\n",
       "     \"</ul>\\n\"+\n",
       "     \"<code>\\n\"+\n",
       "     \"from bokeh.resources import INLINE\\n\"+\n",
       "     \"output_notebook(resources=INLINE)\\n\"+\n",
       "     \"</code>\\n\"+\n",
       "     \"</div>\"}};\n",
       "\n",
       "  function display_loaded() {\n",
       "    const el = document.getElementById(\"1048\");\n",
       "    if (el != null) {\n",
       "      el.textContent = \"BokehJS is loading...\";\n",
       "    }\n",
       "    if (root.Bokeh !== undefined) {\n",
       "      if (el != null) {\n",
       "        el.textContent = \"BokehJS \" + root.Bokeh.version + \" successfully loaded.\";\n",
       "      }\n",
       "    } else if (Date.now() < root._bokeh_timeout) {\n",
       "      setTimeout(display_loaded, 100)\n",
       "    }\n",
       "  }\n",
       "\n",
       "\n",
       "  function run_callbacks() {\n",
       "    try {\n",
       "      root._bokeh_onload_callbacks.forEach(function(callback) {\n",
       "        if (callback != null)\n",
       "          callback();\n",
       "      });\n",
       "    } finally {\n",
       "      delete root._bokeh_onload_callbacks\n",
       "    }\n",
       "    console.debug(\"Bokeh: all callbacks have finished\");\n",
       "  }\n",
       "\n",
       "  function load_libs(css_urls, js_urls, callback) {\n",
       "    if (css_urls == null) css_urls = [];\n",
       "    if (js_urls == null) js_urls = [];\n",
       "\n",
       "    root._bokeh_onload_callbacks.push(callback);\n",
       "    if (root._bokeh_is_loading > 0) {\n",
       "      console.debug(\"Bokeh: BokehJS is being loaded, scheduling callback at\", now());\n",
       "      return null;\n",
       "    }\n",
       "    if (js_urls == null || js_urls.length === 0) {\n",
       "      run_callbacks();\n",
       "      return null;\n",
       "    }\n",
       "    console.debug(\"Bokeh: BokehJS not loaded, scheduling load and callback at\", now());\n",
       "    root._bokeh_is_loading = css_urls.length + js_urls.length;\n",
       "\n",
       "    function on_load() {\n",
       "      root._bokeh_is_loading--;\n",
       "      if (root._bokeh_is_loading === 0) {\n",
       "        console.debug(\"Bokeh: all BokehJS libraries/stylesheets loaded\");\n",
       "        run_callbacks()\n",
       "      }\n",
       "    }\n",
       "\n",
       "    function on_error(url) {\n",
       "      console.error(\"failed to load \" + url);\n",
       "    }\n",
       "\n",
       "    for (let i = 0; i < css_urls.length; i++) {\n",
       "      const url = css_urls[i];\n",
       "      const element = document.createElement(\"link\");\n",
       "      element.onload = on_load;\n",
       "      element.onerror = on_error.bind(null, url);\n",
       "      element.rel = \"stylesheet\";\n",
       "      element.type = \"text/css\";\n",
       "      element.href = url;\n",
       "      console.debug(\"Bokeh: injecting link tag for BokehJS stylesheet: \", url);\n",
       "      document.body.appendChild(element);\n",
       "    }\n",
       "\n",
       "    for (let i = 0; i < js_urls.length; i++) {\n",
       "      const url = js_urls[i];\n",
       "      const element = document.createElement('script');\n",
       "      element.onload = on_load;\n",
       "      element.onerror = on_error.bind(null, url);\n",
       "      element.async = false;\n",
       "      element.src = url;\n",
       "      console.debug(\"Bokeh: injecting script tag for BokehJS library: \", url);\n",
       "      document.head.appendChild(element);\n",
       "    }\n",
       "  };\n",
       "\n",
       "  function inject_raw_css(css) {\n",
       "    const element = document.createElement(\"style\");\n",
       "    element.appendChild(document.createTextNode(css));\n",
       "    document.body.appendChild(element);\n",
       "  }\n",
       "\n",
       "  \n",
       "  const js_urls = [\"https://cdn.bokeh.org/bokeh/release/bokeh-2.4.2.min.js\", \"https://cdn.bokeh.org/bokeh/release/bokeh-gl-2.4.2.min.js\", \"https://cdn.bokeh.org/bokeh/release/bokeh-widgets-2.4.2.min.js\", \"https://cdn.bokeh.org/bokeh/release/bokeh-tables-2.4.2.min.js\", \"https://cdn.bokeh.org/bokeh/release/bokeh-mathjax-2.4.2.min.js\"];\n",
       "  const css_urls = [];\n",
       "  \n",
       "\n",
       "  const inline_js = [\n",
       "    function(Bokeh) {\n",
       "      Bokeh.set_log_level(\"info\");\n",
       "    },\n",
       "    function(Bokeh) {\n",
       "    \n",
       "    \n",
       "    }\n",
       "  ];\n",
       "\n",
       "  function run_inline_js() {\n",
       "    \n",
       "    if (root.Bokeh !== undefined || force === true) {\n",
       "      \n",
       "    for (let i = 0; i < inline_js.length; i++) {\n",
       "      inline_js[i].call(root, root.Bokeh);\n",
       "    }\n",
       "    if (force === true) {\n",
       "        display_loaded();\n",
       "      }} else if (Date.now() < root._bokeh_timeout) {\n",
       "      setTimeout(run_inline_js, 100);\n",
       "    } else if (!root._bokeh_failed_load) {\n",
       "      console.log(\"Bokeh: BokehJS failed to load within specified timeout.\");\n",
       "      root._bokeh_failed_load = true;\n",
       "    } else if (force !== true) {\n",
       "      const cell = $(document.getElementById(\"1048\")).parents('.cell').data().cell;\n",
       "      cell.output_area.append_execute_result(NB_LOAD_WARNING)\n",
       "    }\n",
       "\n",
       "  }\n",
       "\n",
       "  if (root._bokeh_is_loading === 0) {\n",
       "    console.debug(\"Bokeh: BokehJS loaded, going straight to plotting\");\n",
       "    run_inline_js();\n",
       "  } else {\n",
       "    load_libs(css_urls, js_urls, function() {\n",
       "      console.debug(\"Bokeh: BokehJS plotting callback run at\", now());\n",
       "      run_inline_js();\n",
       "    });\n",
       "  }\n",
       "}(window));"
      ],
      "application/vnd.bokehjs_load.v0+json": "\n(function(root) {\n  function now() {\n    return new Date();\n  }\n\n  const force = true;\n\n  if (typeof root._bokeh_onload_callbacks === \"undefined\" || force === true) {\n    root._bokeh_onload_callbacks = [];\n    root._bokeh_is_loading = undefined;\n  }\n\n  \n\n  \n  if (typeof (root._bokeh_timeout) === \"undefined\" || force === true) {\n    root._bokeh_timeout = Date.now() + 5000;\n    root._bokeh_failed_load = false;\n  }\n\n  const NB_LOAD_WARNING = {'data': {'text/html':\n     \"<div style='background-color: #fdd'>\\n\"+\n     \"<p>\\n\"+\n     \"BokehJS does not appear to have successfully loaded. If loading BokehJS from CDN, this \\n\"+\n     \"may be due to a slow or bad network connection. Possible fixes:\\n\"+\n     \"</p>\\n\"+\n     \"<ul>\\n\"+\n     \"<li>re-rerun `output_notebook()` to attempt to load from CDN again, or</li>\\n\"+\n     \"<li>use INLINE resources instead, as so:</li>\\n\"+\n     \"</ul>\\n\"+\n     \"<code>\\n\"+\n     \"from bokeh.resources import INLINE\\n\"+\n     \"output_notebook(resources=INLINE)\\n\"+\n     \"</code>\\n\"+\n     \"</div>\"}};\n\n  function display_loaded() {\n    const el = document.getElementById(\"1048\");\n    if (el != null) {\n      el.textContent = \"BokehJS is loading...\";\n    }\n    if (root.Bokeh !== undefined) {\n      if (el != null) {\n        el.textContent = \"BokehJS \" + root.Bokeh.version + \" successfully loaded.\";\n      }\n    } else if (Date.now() < root._bokeh_timeout) {\n      setTimeout(display_loaded, 100)\n    }\n  }\n\n\n  function run_callbacks() {\n    try {\n      root._bokeh_onload_callbacks.forEach(function(callback) {\n        if (callback != null)\n          callback();\n      });\n    } finally {\n      delete root._bokeh_onload_callbacks\n    }\n    console.debug(\"Bokeh: all callbacks have finished\");\n  }\n\n  function load_libs(css_urls, js_urls, callback) {\n    if (css_urls == null) css_urls = [];\n    if (js_urls == null) js_urls = [];\n\n    root._bokeh_onload_callbacks.push(callback);\n    if (root._bokeh_is_loading > 0) {\n      console.debug(\"Bokeh: BokehJS is being loaded, scheduling callback at\", now());\n      return null;\n    }\n    if (js_urls == null || js_urls.length === 0) {\n      run_callbacks();\n      return null;\n    }\n    console.debug(\"Bokeh: BokehJS not loaded, scheduling load and callback at\", now());\n    root._bokeh_is_loading = css_urls.length + js_urls.length;\n\n    function on_load() {\n      root._bokeh_is_loading--;\n      if (root._bokeh_is_loading === 0) {\n        console.debug(\"Bokeh: all BokehJS libraries/stylesheets loaded\");\n        run_callbacks()\n      }\n    }\n\n    function on_error(url) {\n      console.error(\"failed to load \" + url);\n    }\n\n    for (let i = 0; i < css_urls.length; i++) {\n      const url = css_urls[i];\n      const element = document.createElement(\"link\");\n      element.onload = on_load;\n      element.onerror = on_error.bind(null, url);\n      element.rel = \"stylesheet\";\n      element.type = \"text/css\";\n      element.href = url;\n      console.debug(\"Bokeh: injecting link tag for BokehJS stylesheet: \", url);\n      document.body.appendChild(element);\n    }\n\n    for (let i = 0; i < js_urls.length; i++) {\n      const url = js_urls[i];\n      const element = document.createElement('script');\n      element.onload = on_load;\n      element.onerror = on_error.bind(null, url);\n      element.async = false;\n      element.src = url;\n      console.debug(\"Bokeh: injecting script tag for BokehJS library: \", url);\n      document.head.appendChild(element);\n    }\n  };\n\n  function inject_raw_css(css) {\n    const element = document.createElement(\"style\");\n    element.appendChild(document.createTextNode(css));\n    document.body.appendChild(element);\n  }\n\n  \n  const js_urls = [\"https://cdn.bokeh.org/bokeh/release/bokeh-2.4.2.min.js\", \"https://cdn.bokeh.org/bokeh/release/bokeh-gl-2.4.2.min.js\", \"https://cdn.bokeh.org/bokeh/release/bokeh-widgets-2.4.2.min.js\", \"https://cdn.bokeh.org/bokeh/release/bokeh-tables-2.4.2.min.js\", \"https://cdn.bokeh.org/bokeh/release/bokeh-mathjax-2.4.2.min.js\"];\n  const css_urls = [];\n  \n\n  const inline_js = [\n    function(Bokeh) {\n      Bokeh.set_log_level(\"info\");\n    },\n    function(Bokeh) {\n    \n    \n    }\n  ];\n\n  function run_inline_js() {\n    \n    if (root.Bokeh !== undefined || force === true) {\n      \n    for (let i = 0; i < inline_js.length; i++) {\n      inline_js[i].call(root, root.Bokeh);\n    }\n    if (force === true) {\n        display_loaded();\n      }} else if (Date.now() < root._bokeh_timeout) {\n      setTimeout(run_inline_js, 100);\n    } else if (!root._bokeh_failed_load) {\n      console.log(\"Bokeh: BokehJS failed to load within specified timeout.\");\n      root._bokeh_failed_load = true;\n    } else if (force !== true) {\n      const cell = $(document.getElementById(\"1048\")).parents('.cell').data().cell;\n      cell.output_area.append_execute_result(NB_LOAD_WARNING)\n    }\n\n  }\n\n  if (root._bokeh_is_loading === 0) {\n    console.debug(\"Bokeh: BokehJS loaded, going straight to plotting\");\n    run_inline_js();\n  } else {\n    load_libs(css_urls, js_urls, function() {\n      console.debug(\"Bokeh: BokehJS plotting callback run at\", now());\n      run_inline_js();\n    });\n  }\n}(window));"
     },
     "metadata": {},
     "output_type": "display_data"
    },
    {
     "data": {
      "text/html": [
       "\n",
       "\n",
       "\n",
       "\n",
       "\n",
       "\n",
       "  <div class=\"bk-root\" id=\"3594a5ff-9a05-4368-be5e-27622066dbc3\" data-root-id=\"1003\"></div>\n"
      ]
     },
     "metadata": {},
     "output_type": "display_data"
    },
    {
     "data": {
      "application/javascript": [
       "(function(root) {\n",
       "  function embed_document(root) {\n",
       "    \n",
       "  const docs_json = {\"cb497a76-6cb2-4fc7-a047-07ef9f5ffdbc\":{\"defs\":[],\"roots\":{\"references\":[{\"attributes\":{\"below\":[{\"id\":\"1014\"}],\"center\":[{\"id\":\"1017\"},{\"id\":\"1021\"}],\"left\":[{\"id\":\"1018\"}],\"renderers\":[{\"id\":\"1040\"},{\"id\":\"1046\"}],\"title\":{\"id\":\"1004\"},\"toolbar\":{\"id\":\"1029\"},\"width\":800,\"x_range\":{\"id\":\"1006\"},\"x_scale\":{\"id\":\"1010\"},\"y_range\":{\"id\":\"1008\"},\"y_scale\":{\"id\":\"1012\"}},\"id\":\"1003\",\"subtype\":\"Figure\",\"type\":\"Plot\"},{\"attributes\":{},\"id\":\"1057\",\"type\":\"Selection\"},{\"attributes\":{\"fill_alpha\":{\"value\":0.6},\"fill_color\":{\"value\":\"green\"},\"hatch_alpha\":{\"value\":0.6},\"hatch_color\":{\"value\":\"green\"},\"line_alpha\":{\"value\":0.6},\"line_color\":{\"value\":\"green\"},\"marker\":{\"value\":\"square\"},\"size\":{\"value\":12},\"x\":{\"field\":\"x\"},\"y\":{\"field\":\"y\"}},\"id\":\"1037\",\"type\":\"Scatter\"},{\"attributes\":{},\"id\":\"1054\",\"type\":\"BasicTickFormatter\"},{\"attributes\":{},\"id\":\"1052\",\"type\":\"AllLabels\"},{\"attributes\":{},\"id\":\"1056\",\"type\":\"UnionRenderers\"},{\"attributes\":{},\"id\":\"1059\",\"type\":\"Selection\"},{\"attributes\":{},\"id\":\"1008\",\"type\":\"DataRange1d\"},{\"attributes\":{\"fill_alpha\":{\"value\":0.1},\"fill_color\":{\"value\":\"green\"},\"hatch_alpha\":{\"value\":0.1},\"hatch_color\":{\"value\":\"green\"},\"line_alpha\":{\"value\":0.1},\"line_color\":{\"value\":\"green\"},\"marker\":{\"value\":\"square\"},\"size\":{\"value\":12},\"x\":{\"field\":\"x\"},\"y\":{\"field\":\"y\"}},\"id\":\"1038\",\"type\":\"Scatter\"},{\"attributes\":{\"fill_color\":{\"value\":\"red\"},\"hatch_color\":{\"value\":\"red\"},\"line_color\":{\"value\":\"red\"},\"size\":{\"value\":12},\"x\":{\"field\":\"x\"},\"y\":{\"field\":\"y\"}},\"id\":\"1043\",\"type\":\"Circle\"},{\"attributes\":{},\"id\":\"1051\",\"type\":\"BasicTickFormatter\"},{\"attributes\":{\"data\":{\"x\":[1,3,5,7,9],\"y\":[8,7,3,8,15]},\"selected\":{\"id\":\"1057\"},\"selection_policy\":{\"id\":\"1056\"}},\"id\":\"1036\",\"type\":\"ColumnDataSource\"},{\"attributes\":{},\"id\":\"1006\",\"type\":\"DataRange1d\"},{\"attributes\":{},\"id\":\"1015\",\"type\":\"BasicTicker\"},{\"attributes\":{\"data\":{\"x\":[9,15,4,6,13],\"y\":[8,4,11,6,13]},\"selected\":{\"id\":\"1059\"},\"selection_policy\":{\"id\":\"1058\"}},\"id\":\"1042\",\"type\":\"ColumnDataSource\"},{\"attributes\":{\"axis\":{\"id\":\"1014\"},\"coordinates\":null,\"group\":null,\"ticker\":null},\"id\":\"1017\",\"type\":\"Grid\"},{\"attributes\":{\"axis_label\":\"X\",\"coordinates\":null,\"formatter\":{\"id\":\"1054\"},\"group\":null,\"major_label_policy\":{\"id\":\"1055\"},\"ticker\":{\"id\":\"1015\"}},\"id\":\"1014\",\"type\":\"LinearAxis\"},{\"attributes\":{},\"id\":\"1012\",\"type\":\"LinearScale\"},{\"attributes\":{},\"id\":\"1010\",\"type\":\"LinearScale\"},{\"attributes\":{\"coordinates\":null,\"group\":null,\"text\":\"bokeh \\uc608\\uc81c \\uadf8\\ub798\\ud504\"},\"id\":\"1004\",\"type\":\"Title\"},{\"attributes\":{\"coordinates\":null,\"data_source\":{\"id\":\"1042\"},\"glyph\":{\"id\":\"1043\"},\"group\":null,\"hover_glyph\":null,\"muted_glyph\":{\"id\":\"1045\"},\"nonselection_glyph\":{\"id\":\"1044\"},\"view\":{\"id\":\"1047\"}},\"id\":\"1046\",\"type\":\"GlyphRenderer\"},{\"attributes\":{},\"id\":\"1026\",\"type\":\"ResetTool\"},{\"attributes\":{},\"id\":\"1025\",\"type\":\"SaveTool\"},{\"attributes\":{\"overlay\":{\"id\":\"1028\"}},\"id\":\"1024\",\"type\":\"BoxZoomTool\"},{\"attributes\":{\"coordinates\":null,\"data_source\":{\"id\":\"1036\"},\"glyph\":{\"id\":\"1037\"},\"group\":null,\"hover_glyph\":null,\"muted_glyph\":{\"id\":\"1039\"},\"nonselection_glyph\":{\"id\":\"1038\"},\"view\":{\"id\":\"1041\"}},\"id\":\"1040\",\"type\":\"GlyphRenderer\"},{\"attributes\":{\"source\":{\"id\":\"1042\"}},\"id\":\"1047\",\"type\":\"CDSView\"},{\"attributes\":{},\"id\":\"1055\",\"type\":\"AllLabels\"},{\"attributes\":{\"source\":{\"id\":\"1036\"}},\"id\":\"1041\",\"type\":\"CDSView\"},{\"attributes\":{\"tools\":[{\"id\":\"1022\"},{\"id\":\"1023\"},{\"id\":\"1024\"},{\"id\":\"1025\"},{\"id\":\"1026\"},{\"id\":\"1027\"}]},\"id\":\"1029\",\"type\":\"Toolbar\"},{\"attributes\":{},\"id\":\"1058\",\"type\":\"UnionRenderers\"},{\"attributes\":{\"fill_alpha\":{\"value\":0.1},\"fill_color\":{\"value\":\"red\"},\"hatch_alpha\":{\"value\":0.1},\"hatch_color\":{\"value\":\"red\"},\"line_alpha\":{\"value\":0.1},\"line_color\":{\"value\":\"red\"},\"size\":{\"value\":12},\"x\":{\"field\":\"x\"},\"y\":{\"field\":\"y\"}},\"id\":\"1044\",\"type\":\"Circle\"},{\"attributes\":{\"fill_alpha\":{\"value\":0.2},\"fill_color\":{\"value\":\"green\"},\"hatch_alpha\":{\"value\":0.2},\"hatch_color\":{\"value\":\"green\"},\"line_alpha\":{\"value\":0.2},\"line_color\":{\"value\":\"green\"},\"marker\":{\"value\":\"square\"},\"size\":{\"value\":12},\"x\":{\"field\":\"x\"},\"y\":{\"field\":\"y\"}},\"id\":\"1039\",\"type\":\"Scatter\"},{\"attributes\":{},\"id\":\"1023\",\"type\":\"WheelZoomTool\"},{\"attributes\":{\"axis_label\":\"Y\",\"coordinates\":null,\"formatter\":{\"id\":\"1051\"},\"group\":null,\"major_label_policy\":{\"id\":\"1052\"},\"ticker\":{\"id\":\"1019\"}},\"id\":\"1018\",\"type\":\"LinearAxis\"},{\"attributes\":{\"axis\":{\"id\":\"1018\"},\"coordinates\":null,\"dimension\":1,\"group\":null,\"ticker\":null},\"id\":\"1021\",\"type\":\"Grid\"},{\"attributes\":{},\"id\":\"1019\",\"type\":\"BasicTicker\"},{\"attributes\":{\"fill_alpha\":{\"value\":0.2},\"fill_color\":{\"value\":\"red\"},\"hatch_alpha\":{\"value\":0.2},\"hatch_color\":{\"value\":\"red\"},\"line_alpha\":{\"value\":0.2},\"line_color\":{\"value\":\"red\"},\"size\":{\"value\":12},\"x\":{\"field\":\"x\"},\"y\":{\"field\":\"y\"}},\"id\":\"1045\",\"type\":\"Circle\"},{\"attributes\":{\"bottom_units\":\"screen\",\"coordinates\":null,\"fill_alpha\":0.5,\"fill_color\":\"lightgrey\",\"group\":null,\"left_units\":\"screen\",\"level\":\"overlay\",\"line_alpha\":1.0,\"line_color\":\"black\",\"line_dash\":[4,4],\"line_width\":2,\"right_units\":\"screen\",\"syncable\":false,\"top_units\":\"screen\"},\"id\":\"1028\",\"type\":\"BoxAnnotation\"},{\"attributes\":{},\"id\":\"1027\",\"type\":\"HelpTool\"},{\"attributes\":{},\"id\":\"1022\",\"type\":\"PanTool\"}],\"root_ids\":[\"1003\"]},\"title\":\"Bokeh Application\",\"version\":\"2.4.2\"}};\n",
       "  const render_items = [{\"docid\":\"cb497a76-6cb2-4fc7-a047-07ef9f5ffdbc\",\"root_ids\":[\"1003\"],\"roots\":{\"1003\":\"3594a5ff-9a05-4368-be5e-27622066dbc3\"}}];\n",
       "  root.Bokeh.embed.embed_items_notebook(docs_json, render_items);\n",
       "\n",
       "  }\n",
       "  if (root.Bokeh !== undefined) {\n",
       "    embed_document(root);\n",
       "  } else {\n",
       "    let attempts = 0;\n",
       "    const timer = setInterval(function(root) {\n",
       "      if (root.Bokeh !== undefined) {\n",
       "        clearInterval(timer);\n",
       "        embed_document(root);\n",
       "      } else {\n",
       "        attempts++;\n",
       "        if (attempts > 100) {\n",
       "          clearInterval(timer);\n",
       "          console.log(\"Bokeh: ERROR: Unable to run BokehJS code because BokehJS library is missing\");\n",
       "        }\n",
       "      }\n",
       "    }, 10, root)\n",
       "  }\n",
       "})(window);"
      ],
      "application/vnd.bokehjs_exec.v0+json": ""
     },
     "metadata": {
      "application/vnd.bokehjs_exec.v0+json": {
       "id": "1003"
      }
     },
     "output_type": "display_data"
    }
   ],
   "source": [
    "#그래프 도화지 생성하고 크기 설정\n",
    "p = figure(plot_width=800, plot_height=600,\n",
    "title=\"bokeh 예제 그래프\",\n",
    "x_axis_label=\"X\", y_axis_label=\"Y\")\n",
    "rec_x = [1, 3, 5, 7, 9]\n",
    "rec_y = [8, 7, 3, 8, 15]\n",
    "cir_x = [9, 15, 4, 6, 13]\n",
    "cir_y = [8, 4, 11, 6, 13]\n",
    "#스퀘어 그래프 추가하기\n",
    "p.square(rec_x, rec_y, size=12, color = 'green', alpha = 0.6)\n",
    "#원형 그래프 추가하기\n",
    "p.circle(cir_x, cir_y, size=12, color = 'red')\n",
    "output_notebook()\n",
    "show(p)"
   ]
  },
  {
   "cell_type": "code",
   "execution_count": 7,
   "id": "ba26e838-901f-4837-8c26-13b9516589d8",
   "metadata": {},
   "outputs": [
    {
     "name": "stderr",
     "output_type": "stream",
     "text": [
      "BokehUserWarning: ColumnDataSource's columns must be of the same length. Current lengths: ('line_alpha', 2), ('line_color', 1), ('xs', 2), ('ys', 2)\n"
     ]
    },
    {
     "data": {
      "text/html": [
       "\n",
       "\n",
       "\n",
       "\n",
       "\n",
       "\n",
       "  <div class=\"bk-root\" id=\"8e962de8-987b-42e8-9ae0-4edfbeefaae7\" data-root-id=\"1274\"></div>\n"
      ]
     },
     "metadata": {},
     "output_type": "display_data"
    },
    {
     "data": {
      "application/javascript": [
       "(function(root) {\n",
       "  function embed_document(root) {\n",
       "    \n",
       "  const docs_json = {\"426f6cab-124b-4f80-93b4-302c8e84b935\":{\"defs\":[],\"roots\":{\"references\":[{\"attributes\":{\"children\":[{\"id\":\"1273\"},{\"id\":\"1271\"}]},\"id\":\"1274\",\"type\":\"Column\"},{\"attributes\":{\"below\":[{\"id\":\"1171\"}],\"center\":[{\"id\":\"1174\"},{\"id\":\"1178\"}],\"height\":300,\"left\":[{\"id\":\"1175\"}],\"renderers\":[{\"id\":\"1197\"}],\"title\":{\"id\":\"1161\"},\"toolbar\":{\"id\":\"1186\"},\"toolbar_location\":null,\"width\":300,\"x_range\":{\"id\":\"1163\"},\"x_scale\":{\"id\":\"1167\"},\"y_range\":{\"id\":\"1165\"},\"y_scale\":{\"id\":\"1169\"}},\"id\":\"1160\",\"subtype\":\"Figure\",\"type\":\"Plot\"},{\"attributes\":{\"below\":[{\"id\":\"1132\"}],\"center\":[{\"id\":\"1135\"},{\"id\":\"1139\"}],\"height\":300,\"left\":[{\"id\":\"1136\"}],\"renderers\":[{\"id\":\"1158\"}],\"title\":{\"id\":\"1122\"},\"toolbar\":{\"id\":\"1147\"},\"toolbar_location\":null,\"width\":300,\"x_range\":{\"id\":\"1124\"},\"x_scale\":{\"id\":\"1128\"},\"y_range\":{\"id\":\"1126\"},\"y_scale\":{\"id\":\"1130\"}},\"id\":\"1121\",\"subtype\":\"Figure\",\"type\":\"Plot\"},{\"attributes\":{},\"id\":\"1240\",\"type\":\"BasicTickFormatter\"},{\"attributes\":{\"children\":[[{\"id\":\"1121\"},0,0],[{\"id\":\"1160\"},0,1],[{\"id\":\"1199\"},0,2]]},\"id\":\"1271\",\"type\":\"GridBox\"},{\"attributes\":{},\"id\":\"1241\",\"type\":\"AllLabels\"},{\"attributes\":{},\"id\":\"1243\",\"type\":\"BasicTickFormatter\"},{\"attributes\":{\"line_alpha\":0.2,\"line_color\":\"#1f77b4\",\"line_width\":2,\"x\":{\"field\":\"x\"},\"y\":{\"field\":\"y\"}},\"id\":\"1157\",\"type\":\"Line\"},{\"attributes\":{},\"id\":\"1244\",\"type\":\"AllLabels\"},{\"attributes\":{},\"id\":\"1163\",\"type\":\"DataRange1d\"},{\"attributes\":{},\"id\":\"1124\",\"type\":\"DataRange1d\"},{\"attributes\":{\"source\":{\"id\":\"1154\"}},\"id\":\"1159\",\"type\":\"CDSView\"},{\"attributes\":{},\"id\":\"1165\",\"type\":\"DataRange1d\"},{\"attributes\":{\"data\":{\"x\":[1,2,3,4,5],\"y\":[6,7,2,4,5]},\"selected\":{\"id\":\"1246\"},\"selection_policy\":{\"id\":\"1245\"}},\"id\":\"1154\",\"type\":\"ColumnDataSource\"},{\"attributes\":{},\"id\":\"1126\",\"type\":\"DataRange1d\"},{\"attributes\":{\"coordinates\":null,\"data_source\":{\"id\":\"1154\"},\"glyph\":{\"id\":\"1155\"},\"group\":null,\"hover_glyph\":null,\"muted_glyph\":{\"id\":\"1157\"},\"nonselection_glyph\":{\"id\":\"1156\"},\"view\":{\"id\":\"1159\"}},\"id\":\"1158\",\"type\":\"GlyphRenderer\"},{\"attributes\":{\"line_color\":\"#1f77b4\",\"line_width\":2,\"x\":{\"field\":\"x\"},\"y\":{\"field\":\"y\"}},\"id\":\"1155\",\"type\":\"Line\"},{\"attributes\":{\"line_alpha\":0.1,\"line_color\":\"#1f77b4\",\"line_width\":2,\"x\":{\"field\":\"x\"},\"y\":{\"field\":\"y\"}},\"id\":\"1156\",\"type\":\"Line\"},{\"attributes\":{\"data\":{\"x\":[1,2,3,4,5],\"y\":[6,7,2,4,5]},\"selected\":{\"id\":\"1257\"},\"selection_policy\":{\"id\":\"1256\"}},\"id\":\"1193\",\"type\":\"ColumnDataSource\"},{\"attributes\":{\"below\":[{\"id\":\"1210\"}],\"center\":[{\"id\":\"1213\"},{\"id\":\"1217\"}],\"height\":300,\"left\":[{\"id\":\"1214\"}],\"renderers\":[{\"id\":\"1236\"}],\"title\":{\"id\":\"1200\"},\"toolbar\":{\"id\":\"1225\"},\"toolbar_location\":null,\"width\":300,\"x_range\":{\"id\":\"1202\"},\"x_scale\":{\"id\":\"1206\"},\"y_range\":{\"id\":\"1204\"},\"y_scale\":{\"id\":\"1208\"}},\"id\":\"1199\",\"subtype\":\"Figure\",\"type\":\"Plot\"},{\"attributes\":{},\"id\":\"1245\",\"type\":\"UnionRenderers\"},{\"attributes\":{\"coordinates\":null,\"formatter\":{\"id\":\"1251\"},\"group\":null,\"major_label_policy\":{\"id\":\"1252\"},\"ticker\":{\"id\":\"1176\"}},\"id\":\"1175\",\"type\":\"LinearAxis\"},{\"attributes\":{\"coordinates\":null,\"group\":null,\"text\":\"stair plot\"},\"id\":\"1161\",\"type\":\"Title\"},{\"attributes\":{},\"id\":\"1172\",\"type\":\"BasicTicker\"},{\"attributes\":{},\"id\":\"1246\",\"type\":\"Selection\"},{\"attributes\":{},\"id\":\"1169\",\"type\":\"LinearScale\"},{\"attributes\":{},\"id\":\"1262\",\"type\":\"BasicTickFormatter\"},{\"attributes\":{\"axis\":{\"id\":\"1171\"},\"coordinates\":null,\"group\":null,\"ticker\":null},\"id\":\"1174\",\"type\":\"Grid\"},{\"attributes\":{},\"id\":\"1167\",\"type\":\"LinearScale\"},{\"attributes\":{\"coordinates\":null,\"formatter\":{\"id\":\"1254\"},\"group\":null,\"major_label_policy\":{\"id\":\"1255\"},\"ticker\":{\"id\":\"1172\"}},\"id\":\"1171\",\"type\":\"LinearAxis\"},{\"attributes\":{},\"id\":\"1263\",\"type\":\"AllLabels\"},{\"attributes\":{},\"id\":\"1184\",\"type\":\"HelpTool\"},{\"attributes\":{},\"id\":\"1265\",\"type\":\"BasicTickFormatter\"},{\"attributes\":{\"axis\":{\"id\":\"1175\"},\"coordinates\":null,\"dimension\":1,\"group\":null,\"ticker\":null},\"id\":\"1178\",\"type\":\"Grid\"},{\"attributes\":{},\"id\":\"1176\",\"type\":\"BasicTicker\"},{\"attributes\":{},\"id\":\"1266\",\"type\":\"AllLabels\"},{\"attributes\":{},\"id\":\"1141\",\"type\":\"WheelZoomTool\"},{\"attributes\":{\"coordinates\":null,\"formatter\":{\"id\":\"1243\"},\"group\":null,\"major_label_policy\":{\"id\":\"1244\"},\"ticker\":{\"id\":\"1133\"}},\"id\":\"1132\",\"type\":\"LinearAxis\"},{\"attributes\":{},\"id\":\"1128\",\"type\":\"LinearScale\"},{\"attributes\":{},\"id\":\"1180\",\"type\":\"WheelZoomTool\"},{\"attributes\":{},\"id\":\"1179\",\"type\":\"PanTool\"},{\"attributes\":{},\"id\":\"1130\",\"type\":\"LinearScale\"},{\"attributes\":{\"overlay\":{\"id\":\"1185\"}},\"id\":\"1181\",\"type\":\"BoxZoomTool\"},{\"attributes\":{},\"id\":\"1182\",\"type\":\"SaveTool\"},{\"attributes\":{},\"id\":\"1133\",\"type\":\"BasicTicker\"},{\"attributes\":{},\"id\":\"1183\",\"type\":\"ResetTool\"},{\"attributes\":{\"coordinates\":null,\"group\":null,\"text\":\"line plot\"},\"id\":\"1122\",\"type\":\"Title\"},{\"attributes\":{\"axis\":{\"id\":\"1132\"},\"coordinates\":null,\"group\":null,\"ticker\":null},\"id\":\"1135\",\"type\":\"Grid\"},{\"attributes\":{\"bottom_units\":\"screen\",\"coordinates\":null,\"fill_alpha\":0.5,\"fill_color\":\"lightgrey\",\"group\":null,\"left_units\":\"screen\",\"level\":\"overlay\",\"line_alpha\":1.0,\"line_color\":\"black\",\"line_dash\":[4,4],\"line_width\":2,\"right_units\":\"screen\",\"syncable\":false,\"top_units\":\"screen\"},\"id\":\"1185\",\"type\":\"BoxAnnotation\"},{\"attributes\":{\"line_color\":\"#1f77b4\",\"line_width\":2,\"mode\":\"center\",\"x\":{\"field\":\"x\"},\"y\":{\"field\":\"y\"}},\"id\":\"1194\",\"type\":\"Step\"},{\"attributes\":{\"tools\":[{\"id\":\"1140\"},{\"id\":\"1141\"},{\"id\":\"1142\"},{\"id\":\"1143\"},{\"id\":\"1144\"},{\"id\":\"1145\"}]},\"id\":\"1147\",\"type\":\"Toolbar\"},{\"attributes\":{},\"id\":\"1267\",\"type\":\"UnionRenderers\"},{\"attributes\":{\"source\":{\"id\":\"1193\"}},\"id\":\"1198\",\"type\":\"CDSView\"},{\"attributes\":{},\"id\":\"1268\",\"type\":\"Selection\"},{\"attributes\":{\"tools\":[{\"id\":\"1179\"},{\"id\":\"1180\"},{\"id\":\"1181\"},{\"id\":\"1182\"},{\"id\":\"1183\"},{\"id\":\"1184\"}]},\"id\":\"1186\",\"type\":\"Toolbar\"},{\"attributes\":{\"coordinates\":null,\"data_source\":{\"id\":\"1193\"},\"glyph\":{\"id\":\"1194\"},\"group\":null,\"hover_glyph\":null,\"muted_glyph\":{\"id\":\"1196\"},\"nonselection_glyph\":{\"id\":\"1195\"},\"view\":{\"id\":\"1198\"}},\"id\":\"1197\",\"type\":\"GlyphRenderer\"},{\"attributes\":{},\"id\":\"1144\",\"type\":\"ResetTool\"},{\"attributes\":{},\"id\":\"1143\",\"type\":\"SaveTool\"},{\"attributes\":{\"toolbar\":{\"id\":\"1272\"},\"toolbar_location\":\"above\"},\"id\":\"1273\",\"type\":\"ToolbarBox\"},{\"attributes\":{\"line_alpha\":0.2,\"line_color\":\"#1f77b4\",\"line_width\":2,\"mode\":\"center\",\"x\":{\"field\":\"x\"},\"y\":{\"field\":\"y\"}},\"id\":\"1196\",\"type\":\"Step\"},{\"attributes\":{},\"id\":\"1145\",\"type\":\"HelpTool\"},{\"attributes\":{\"line_alpha\":0.1,\"line_color\":\"#1f77b4\",\"line_width\":2,\"mode\":\"center\",\"x\":{\"field\":\"x\"},\"y\":{\"field\":\"y\"}},\"id\":\"1195\",\"type\":\"Step\"},{\"attributes\":{\"overlay\":{\"id\":\"1146\"}},\"id\":\"1142\",\"type\":\"BoxZoomTool\"},{\"attributes\":{},\"id\":\"1140\",\"type\":\"PanTool\"},{\"attributes\":{},\"id\":\"1202\",\"type\":\"DataRange1d\"},{\"attributes\":{\"data\":{\"line_alpha\":[0.8,0.3],\"line_color\":[\"firebric\"],\"xs\":[[1,3,2],[3,4,6,6]],\"ys\":[[2,1,4],[4,7,8,5]]},\"selected\":{\"id\":\"1268\"},\"selection_policy\":{\"id\":\"1267\"}},\"id\":\"1232\",\"type\":\"ColumnDataSource\"},{\"attributes\":{\"toolbars\":[{\"id\":\"1147\"},{\"id\":\"1186\"},{\"id\":\"1225\"}],\"tools\":[{\"id\":\"1140\"},{\"id\":\"1141\"},{\"id\":\"1142\"},{\"id\":\"1143\"},{\"id\":\"1144\"},{\"id\":\"1145\"},{\"id\":\"1179\"},{\"id\":\"1180\"},{\"id\":\"1181\"},{\"id\":\"1182\"},{\"id\":\"1183\"},{\"id\":\"1184\"},{\"id\":\"1218\"},{\"id\":\"1219\"},{\"id\":\"1220\"},{\"id\":\"1221\"},{\"id\":\"1222\"},{\"id\":\"1223\"}]},\"id\":\"1272\",\"type\":\"ProxyToolbar\"},{\"attributes\":{\"line_alpha\":{\"field\":\"line_alpha\"},\"line_color\":{\"field\":\"line_color\"},\"line_width\":{\"value\":4},\"xs\":{\"field\":\"xs\"},\"ys\":{\"field\":\"ys\"}},\"id\":\"1233\",\"type\":\"MultiLine\"},{\"attributes\":{},\"id\":\"1204\",\"type\":\"DataRange1d\"},{\"attributes\":{\"coordinates\":null,\"formatter\":{\"id\":\"1262\"},\"group\":null,\"major_label_policy\":{\"id\":\"1263\"},\"ticker\":{\"id\":\"1215\"}},\"id\":\"1214\",\"type\":\"LinearAxis\"},{\"attributes\":{\"coordinates\":null,\"group\":null,\"text\":\"mulit-line plot\"},\"id\":\"1200\",\"type\":\"Title\"},{\"attributes\":{},\"id\":\"1211\",\"type\":\"BasicTicker\"},{\"attributes\":{},\"id\":\"1208\",\"type\":\"LinearScale\"},{\"attributes\":{\"axis\":{\"id\":\"1210\"},\"coordinates\":null,\"group\":null,\"ticker\":null},\"id\":\"1213\",\"type\":\"Grid\"},{\"attributes\":{},\"id\":\"1206\",\"type\":\"LinearScale\"},{\"attributes\":{\"coordinates\":null,\"formatter\":{\"id\":\"1265\"},\"group\":null,\"major_label_policy\":{\"id\":\"1266\"},\"ticker\":{\"id\":\"1211\"}},\"id\":\"1210\",\"type\":\"LinearAxis\"},{\"attributes\":{},\"id\":\"1223\",\"type\":\"HelpTool\"},{\"attributes\":{\"axis\":{\"id\":\"1214\"},\"coordinates\":null,\"dimension\":1,\"group\":null,\"ticker\":null},\"id\":\"1217\",\"type\":\"Grid\"},{\"attributes\":{},\"id\":\"1251\",\"type\":\"BasicTickFormatter\"},{\"attributes\":{},\"id\":\"1252\",\"type\":\"AllLabels\"},{\"attributes\":{},\"id\":\"1215\",\"type\":\"BasicTicker\"},{\"attributes\":{},\"id\":\"1219\",\"type\":\"WheelZoomTool\"},{\"attributes\":{},\"id\":\"1218\",\"type\":\"PanTool\"},{\"attributes\":{},\"id\":\"1254\",\"type\":\"BasicTickFormatter\"},{\"attributes\":{\"overlay\":{\"id\":\"1224\"}},\"id\":\"1220\",\"type\":\"BoxZoomTool\"},{\"attributes\":{},\"id\":\"1221\",\"type\":\"SaveTool\"},{\"attributes\":{},\"id\":\"1222\",\"type\":\"ResetTool\"},{\"attributes\":{},\"id\":\"1255\",\"type\":\"AllLabels\"},{\"attributes\":{\"bottom_units\":\"screen\",\"coordinates\":null,\"fill_alpha\":0.5,\"fill_color\":\"lightgrey\",\"group\":null,\"left_units\":\"screen\",\"level\":\"overlay\",\"line_alpha\":1.0,\"line_color\":\"black\",\"line_dash\":[4,4],\"line_width\":2,\"right_units\":\"screen\",\"syncable\":false,\"top_units\":\"screen\"},\"id\":\"1224\",\"type\":\"BoxAnnotation\"},{\"attributes\":{},\"id\":\"1256\",\"type\":\"UnionRenderers\"},{\"attributes\":{\"source\":{\"id\":\"1232\"}},\"id\":\"1237\",\"type\":\"CDSView\"},{\"attributes\":{},\"id\":\"1257\",\"type\":\"Selection\"},{\"attributes\":{},\"id\":\"1137\",\"type\":\"BasicTicker\"},{\"attributes\":{\"bottom_units\":\"screen\",\"coordinates\":null,\"fill_alpha\":0.5,\"fill_color\":\"lightgrey\",\"group\":null,\"left_units\":\"screen\",\"level\":\"overlay\",\"line_alpha\":1.0,\"line_color\":\"black\",\"line_dash\":[4,4],\"line_width\":2,\"right_units\":\"screen\",\"syncable\":false,\"top_units\":\"screen\"},\"id\":\"1146\",\"type\":\"BoxAnnotation\"},{\"attributes\":{\"coordinates\":null,\"formatter\":{\"id\":\"1240\"},\"group\":null,\"major_label_policy\":{\"id\":\"1241\"},\"ticker\":{\"id\":\"1137\"}},\"id\":\"1136\",\"type\":\"LinearAxis\"},{\"attributes\":{\"line_alpha\":{\"value\":0.2},\"line_color\":{\"field\":\"line_color\"},\"line_width\":{\"value\":4},\"xs\":{\"field\":\"xs\"},\"ys\":{\"field\":\"ys\"}},\"id\":\"1235\",\"type\":\"MultiLine\"},{\"attributes\":{\"line_alpha\":{\"value\":0.1},\"line_color\":{\"field\":\"line_color\"},\"line_width\":{\"value\":4},\"xs\":{\"field\":\"xs\"},\"ys\":{\"field\":\"ys\"}},\"id\":\"1234\",\"type\":\"MultiLine\"},{\"attributes\":{\"coordinates\":null,\"data_source\":{\"id\":\"1232\"},\"glyph\":{\"id\":\"1233\"},\"group\":null,\"hover_glyph\":null,\"muted_glyph\":{\"id\":\"1235\"},\"nonselection_glyph\":{\"id\":\"1234\"},\"view\":{\"id\":\"1237\"}},\"id\":\"1236\",\"type\":\"GlyphRenderer\"},{\"attributes\":{\"tools\":[{\"id\":\"1218\"},{\"id\":\"1219\"},{\"id\":\"1220\"},{\"id\":\"1221\"},{\"id\":\"1222\"},{\"id\":\"1223\"}]},\"id\":\"1225\",\"type\":\"Toolbar\"},{\"attributes\":{\"axis\":{\"id\":\"1136\"},\"coordinates\":null,\"dimension\":1,\"group\":null,\"ticker\":null},\"id\":\"1139\",\"type\":\"Grid\"}],\"root_ids\":[\"1274\"]},\"title\":\"Bokeh Application\",\"version\":\"2.4.2\"}};\n",
       "  const render_items = [{\"docid\":\"426f6cab-124b-4f80-93b4-302c8e84b935\",\"root_ids\":[\"1274\"],\"roots\":{\"1274\":\"8e962de8-987b-42e8-9ae0-4edfbeefaae7\"}}];\n",
       "  root.Bokeh.embed.embed_items_notebook(docs_json, render_items);\n",
       "\n",
       "  }\n",
       "  if (root.Bokeh !== undefined) {\n",
       "    embed_document(root);\n",
       "  } else {\n",
       "    let attempts = 0;\n",
       "    const timer = setInterval(function(root) {\n",
       "      if (root.Bokeh !== undefined) {\n",
       "        clearInterval(timer);\n",
       "        embed_document(root);\n",
       "      } else {\n",
       "        attempts++;\n",
       "        if (attempts > 100) {\n",
       "          clearInterval(timer);\n",
       "          console.log(\"Bokeh: ERROR: Unable to run BokehJS code because BokehJS library is missing\");\n",
       "        }\n",
       "      }\n",
       "    }, 10, root)\n",
       "  }\n",
       "})(window);"
      ],
      "application/vnd.bokehjs_exec.v0+json": ""
     },
     "metadata": {
      "application/vnd.bokehjs_exec.v0+json": {
       "id": "1274"
      }
     },
     "output_type": "display_data"
    }
   ],
   "source": [
    "from bokeh.layouts import gridplot\n",
    "from bokeh.plotting import output_file\n",
    "# figure를 html파일로 저장\n",
    "# output_file(\"line.html\")\n",
    "#그림을 그릴 사이즈 지정\n",
    "p1 = figure(plot_width=300, plot_height=300, title=\"line plot\")\n",
    "#라인차트 그리기 p.line([x값 데이터],[y값 데이터])\n",
    "p1.line([1, 2, 3, 4, 5], [6, 7, 2, 4, 5], line_width=2)\n",
    "p2 = figure(plot_width=300, plot_height=300, title=\"stair plot\")\n",
    "#계단모양 차트 그리기\n",
    "p2.step([1, 2, 3, 4, 5], [6, 7, 2, 4, 5], line_width=2, mode=\"center\")\n",
    "p3 = figure(plot_width=300, plot_height=300, title=\"mulit-line plot\")\n",
    "#여러 선을 한번에 그릴떄\n",
    "p3.multi_line([[1, 3, 2], [3, 4, 6, 6]], [[2, 1, 4], [4, 7, 8, 5]], color=[\"firebric\"], alpha=[0.8, 0.3], line_width=4)\n",
    "# subplot들을 합침\n",
    "layout = gridplot([[p1, p2, p3]])\n",
    "show(layout)"
   ]
  },
  {
   "cell_type": "code",
   "execution_count": 8,
   "id": "84d0ffeb-b0ab-4c34-bce4-6cbdafe63489",
   "metadata": {},
   "outputs": [
    {
     "data": {
      "text/html": [
       "<div>\n",
       "<style scoped>\n",
       "    .dataframe tbody tr th:only-of-type {\n",
       "        vertical-align: middle;\n",
       "    }\n",
       "\n",
       "    .dataframe tbody tr th {\n",
       "        vertical-align: top;\n",
       "    }\n",
       "\n",
       "    .dataframe thead th {\n",
       "        text-align: right;\n",
       "    }\n",
       "</style>\n",
       "<table border=\"1\" class=\"dataframe\">\n",
       "  <thead>\n",
       "    <tr style=\"text-align: right;\">\n",
       "      <th></th>\n",
       "      <th>date</th>\n",
       "      <th>open</th>\n",
       "      <th>high</th>\n",
       "      <th>low</th>\n",
       "      <th>close</th>\n",
       "      <th>volume</th>\n",
       "      <th>adj_close</th>\n",
       "    </tr>\n",
       "  </thead>\n",
       "  <tbody>\n",
       "    <tr>\n",
       "      <th>0</th>\n",
       "      <td>2000-03-01</td>\n",
       "      <td>118.56</td>\n",
       "      <td>132.06</td>\n",
       "      <td>118.50</td>\n",
       "      <td>130.31</td>\n",
       "      <td>38478000</td>\n",
       "      <td>31.68</td>\n",
       "    </tr>\n",
       "    <tr>\n",
       "      <th>1</th>\n",
       "      <td>2000-03-02</td>\n",
       "      <td>127.00</td>\n",
       "      <td>127.94</td>\n",
       "      <td>120.69</td>\n",
       "      <td>122.00</td>\n",
       "      <td>11136800</td>\n",
       "      <td>29.66</td>\n",
       "    </tr>\n",
       "    <tr>\n",
       "      <th>2</th>\n",
       "      <td>2000-03-03</td>\n",
       "      <td>124.87</td>\n",
       "      <td>128.23</td>\n",
       "      <td>120.00</td>\n",
       "      <td>128.00</td>\n",
       "      <td>11565200</td>\n",
       "      <td>31.12</td>\n",
       "    </tr>\n",
       "    <tr>\n",
       "      <th>3</th>\n",
       "      <td>2000-03-06</td>\n",
       "      <td>126.00</td>\n",
       "      <td>129.13</td>\n",
       "      <td>125.00</td>\n",
       "      <td>125.69</td>\n",
       "      <td>7520000</td>\n",
       "      <td>30.56</td>\n",
       "    </tr>\n",
       "    <tr>\n",
       "      <th>4</th>\n",
       "      <td>2000-03-07</td>\n",
       "      <td>126.44</td>\n",
       "      <td>127.44</td>\n",
       "      <td>121.12</td>\n",
       "      <td>122.87</td>\n",
       "      <td>9767600</td>\n",
       "      <td>29.87</td>\n",
       "    </tr>\n",
       "    <tr>\n",
       "      <th>...</th>\n",
       "      <td>...</td>\n",
       "      <td>...</td>\n",
       "      <td>...</td>\n",
       "      <td>...</td>\n",
       "      <td>...</td>\n",
       "      <td>...</td>\n",
       "      <td>...</td>\n",
       "    </tr>\n",
       "    <tr>\n",
       "      <th>3265</th>\n",
       "      <td>2013-02-25</td>\n",
       "      <td>453.85</td>\n",
       "      <td>455.12</td>\n",
       "      <td>442.57</td>\n",
       "      <td>442.80</td>\n",
       "      <td>13306400</td>\n",
       "      <td>437.00</td>\n",
       "    </tr>\n",
       "    <tr>\n",
       "      <th>3266</th>\n",
       "      <td>2013-02-26</td>\n",
       "      <td>443.82</td>\n",
       "      <td>451.54</td>\n",
       "      <td>437.66</td>\n",
       "      <td>448.97</td>\n",
       "      <td>17910700</td>\n",
       "      <td>443.09</td>\n",
       "    </tr>\n",
       "    <tr>\n",
       "      <th>3267</th>\n",
       "      <td>2013-02-27</td>\n",
       "      <td>448.43</td>\n",
       "      <td>452.44</td>\n",
       "      <td>440.65</td>\n",
       "      <td>444.57</td>\n",
       "      <td>20976800</td>\n",
       "      <td>438.75</td>\n",
       "    </tr>\n",
       "    <tr>\n",
       "      <th>3268</th>\n",
       "      <td>2013-02-28</td>\n",
       "      <td>444.05</td>\n",
       "      <td>447.87</td>\n",
       "      <td>441.40</td>\n",
       "      <td>441.40</td>\n",
       "      <td>11518400</td>\n",
       "      <td>435.62</td>\n",
       "    </tr>\n",
       "    <tr>\n",
       "      <th>3269</th>\n",
       "      <td>2013-03-01</td>\n",
       "      <td>438.00</td>\n",
       "      <td>438.18</td>\n",
       "      <td>429.98</td>\n",
       "      <td>430.47</td>\n",
       "      <td>19730300</td>\n",
       "      <td>424.83</td>\n",
       "    </tr>\n",
       "  </tbody>\n",
       "</table>\n",
       "<p>3270 rows × 7 columns</p>\n",
       "</div>"
      ],
      "text/plain": [
       "            date    open    high     low   close    volume  adj_close\n",
       "0     2000-03-01  118.56  132.06  118.50  130.31  38478000      31.68\n",
       "1     2000-03-02  127.00  127.94  120.69  122.00  11136800      29.66\n",
       "2     2000-03-03  124.87  128.23  120.00  128.00  11565200      31.12\n",
       "3     2000-03-06  126.00  129.13  125.00  125.69   7520000      30.56\n",
       "4     2000-03-07  126.44  127.44  121.12  122.87   9767600      29.87\n",
       "...          ...     ...     ...     ...     ...       ...        ...\n",
       "3265  2013-02-25  453.85  455.12  442.57  442.80  13306400     437.00\n",
       "3266  2013-02-26  443.82  451.54  437.66  448.97  17910700     443.09\n",
       "3267  2013-02-27  448.43  452.44  440.65  444.57  20976800     438.75\n",
       "3268  2013-02-28  444.05  447.87  441.40  441.40  11518400     435.62\n",
       "3269  2013-03-01  438.00  438.18  429.98  430.47  19730300     424.83\n",
       "\n",
       "[3270 rows x 7 columns]"
      ]
     },
     "execution_count": 8,
     "metadata": {},
     "output_type": "execute_result"
    }
   ],
   "source": [
    "import pandas as pd\n",
    "from bokeh.plotting import figure, output_file, show\n",
    "from bokeh.sampledata.stocks import AAPL\n",
    "df = pd.DataFrame(AAPL)\n",
    "df"
   ]
  },
  {
   "cell_type": "code",
   "execution_count": 9,
   "id": "5828ddbc-e0a5-4b67-bfa2-1c9dd7ab0c8f",
   "metadata": {},
   "outputs": [
    {
     "data": {
      "text/html": [
       "\n",
       "\n",
       "\n",
       "\n",
       "\n",
       "\n",
       "  <div class=\"bk-root\" id=\"aa58ffe7-1187-40ef-af0d-d14082263770\" data-root-id=\"1467\"></div>\n"
      ]
     },
     "metadata": {},
     "output_type": "display_data"
    },
    {
     "data": {
      "application/javascript": [
       "(function(root) {\n",
       "  function embed_document(root) {\n",
       "    \n",
       "  const docs_json = {\"18197ea0-ee6f-456b-9454-99c115603ce4\":{\"defs\":[],\"roots\":{\"references\":[{\"attributes\":{\"below\":[{\"id\":\"1476\"}],\"center\":[{\"id\":\"1479\"},{\"id\":\"1483\"}],\"height\":250,\"left\":[{\"id\":\"1480\"}],\"renderers\":[{\"id\":\"1502\"}],\"title\":{\"id\":\"1546\"},\"toolbar\":{\"id\":\"1491\"},\"width\":800,\"x_range\":{\"id\":\"1468\"},\"x_scale\":{\"id\":\"1472\"},\"y_range\":{\"id\":\"1470\"},\"y_scale\":{\"id\":\"1474\"}},\"id\":\"1467\",\"subtype\":\"Figure\",\"type\":\"Plot\"},{\"attributes\":{\"axis\":{\"id\":\"1476\"},\"coordinates\":null,\"group\":null,\"ticker\":null},\"id\":\"1479\",\"type\":\"Grid\"},{\"attributes\":{},\"id\":\"1488\",\"type\":\"ResetTool\"},{\"attributes\":{\"line_alpha\":0.2,\"line_color\":\"navy\",\"x\":{\"field\":\"x\"},\"y\":{\"field\":\"y\"}},\"id\":\"1501\",\"type\":\"Line\"},{\"attributes\":{},\"id\":\"1549\",\"type\":\"BasicTickFormatter\"},{\"attributes\":{},\"id\":\"1553\",\"type\":\"AllLabels\"},{\"attributes\":{\"bottom_units\":\"screen\",\"coordinates\":null,\"fill_alpha\":0.5,\"fill_color\":\"lightgrey\",\"group\":null,\"left_units\":\"screen\",\"level\":\"overlay\",\"line_alpha\":1.0,\"line_color\":\"black\",\"line_dash\":[4,4],\"line_width\":2,\"right_units\":\"screen\",\"syncable\":false,\"top_units\":\"screen\"},\"id\":\"1490\",\"type\":\"BoxAnnotation\"},{\"attributes\":{\"overlay\":{\"id\":\"1490\"}},\"id\":\"1486\",\"type\":\"BoxZoomTool\"},{\"attributes\":{\"axis\":{\"id\":\"1480\"},\"coordinates\":null,\"dimension\":1,\"group\":null,\"ticker\":null},\"id\":\"1483\",\"type\":\"Grid\"},{\"attributes\":{},\"id\":\"1550\",\"type\":\"AllLabels\"},{\"attributes\":{\"mantissas\":[1,2,5],\"max_interval\":500.0,\"num_minor_ticks\":0},\"id\":\"1557\",\"type\":\"AdaptiveTicker\"},{\"attributes\":{\"base\":60,\"mantissas\":[1,2,5,10,15,20,30],\"max_interval\":1800000.0,\"min_interval\":1000.0,\"num_minor_ticks\":0},\"id\":\"1558\",\"type\":\"AdaptiveTicker\"},{\"attributes\":{},\"id\":\"1568\",\"type\":\"YearsTicker\"},{\"attributes\":{\"tools\":[{\"id\":\"1484\"},{\"id\":\"1485\"},{\"id\":\"1486\"},{\"id\":\"1487\"},{\"id\":\"1488\"},{\"id\":\"1489\"}]},\"id\":\"1491\",\"type\":\"Toolbar\"},{\"attributes\":{},\"id\":\"1485\",\"type\":\"WheelZoomTool\"},{\"attributes\":{\"coordinates\":null,\"data_source\":{\"id\":\"1498\"},\"glyph\":{\"id\":\"1499\"},\"group\":null,\"hover_glyph\":null,\"muted_glyph\":{\"id\":\"1501\"},\"nonselection_glyph\":{\"id\":\"1500\"},\"view\":{\"id\":\"1503\"}},\"id\":\"1502\",\"type\":\"GlyphRenderer\"},{\"attributes\":{},\"id\":\"1474\",\"type\":\"LinearScale\"},{\"attributes\":{\"base\":24,\"mantissas\":[1,2,4,6,8,12],\"max_interval\":43200000.0,\"min_interval\":3600000.0,\"num_minor_ticks\":0},\"id\":\"1559\",\"type\":\"AdaptiveTicker\"},{\"attributes\":{\"months\":[0,1,2,3,4,5,6,7,8,9,10,11]},\"id\":\"1564\",\"type\":\"MonthsTicker\"},{\"attributes\":{},\"id\":\"1472\",\"type\":\"LinearScale\"},{\"attributes\":{},\"id\":\"1489\",\"type\":\"HelpTool\"},{\"attributes\":{\"days\":[1,15]},\"id\":\"1563\",\"type\":\"DaysTicker\"},{\"attributes\":{\"days\":[1,2,3,4,5,6,7,8,9,10,11,12,13,14,15,16,17,18,19,20,21,22,23,24,25,26,27,28,29,30,31]},\"id\":\"1560\",\"type\":\"DaysTicker\"},{\"attributes\":{\"coordinates\":null,\"group\":null},\"id\":\"1546\",\"type\":\"Title\"},{\"attributes\":{\"days\":[1,4,7,10,13,16,19,22,25,28]},\"id\":\"1561\",\"type\":\"DaysTicker\"},{\"attributes\":{},\"id\":\"1484\",\"type\":\"PanTool\"},{\"attributes\":{},\"id\":\"1555\",\"type\":\"Selection\"},{\"attributes\":{\"days\":[1,8,15,22]},\"id\":\"1562\",\"type\":\"DaysTicker\"},{\"attributes\":{\"months\":[0,6]},\"id\":\"1567\",\"type\":\"MonthsTicker\"},{\"attributes\":{\"months\":[0,2,4,6,8,10]},\"id\":\"1565\",\"type\":\"MonthsTicker\"},{\"attributes\":{},\"id\":\"1470\",\"type\":\"DataRange1d\"},{\"attributes\":{\"coordinates\":null,\"formatter\":{\"id\":\"1552\"},\"group\":null,\"major_label_policy\":{\"id\":\"1553\"},\"ticker\":{\"id\":\"1477\"}},\"id\":\"1476\",\"type\":\"DatetimeAxis\"},{\"attributes\":{\"data\":{\"x\":{\"__ndarray__\":\"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\",\"dtype\":\"float64\",\"order\":\"little\",\"shape\":[3270]},\"y\":{\"__ndarray__\":\"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\",\"dtype\":\"float64\",\"order\":\"little\",\"shape\":[3270]}},\"selected\":{\"id\":\"1555\"},\"selection_policy\":{\"id\":\"1554\"}},\"id\":\"1498\",\"type\":\"ColumnDataSource\"},{\"attributes\":{\"months\":[0,4,8]},\"id\":\"1566\",\"type\":\"MonthsTicker\"},{\"attributes\":{},\"id\":\"1487\",\"type\":\"SaveTool\"},{\"attributes\":{\"coordinates\":null,\"formatter\":{\"id\":\"1549\"},\"group\":null,\"major_label_policy\":{\"id\":\"1550\"},\"ticker\":{\"id\":\"1481\"}},\"id\":\"1480\",\"type\":\"LinearAxis\"},{\"attributes\":{},\"id\":\"1552\",\"type\":\"DatetimeTickFormatter\"},{\"attributes\":{},\"id\":\"1468\",\"type\":\"DataRange1d\"},{\"attributes\":{\"line_alpha\":0.5,\"line_color\":\"navy\",\"x\":{\"field\":\"x\"},\"y\":{\"field\":\"y\"}},\"id\":\"1499\",\"type\":\"Line\"},{\"attributes\":{\"source\":{\"id\":\"1498\"}},\"id\":\"1503\",\"type\":\"CDSView\"},{\"attributes\":{\"num_minor_ticks\":5,\"tickers\":[{\"id\":\"1557\"},{\"id\":\"1558\"},{\"id\":\"1559\"},{\"id\":\"1560\"},{\"id\":\"1561\"},{\"id\":\"1562\"},{\"id\":\"1563\"},{\"id\":\"1564\"},{\"id\":\"1565\"},{\"id\":\"1566\"},{\"id\":\"1567\"},{\"id\":\"1568\"}]},\"id\":\"1477\",\"type\":\"DatetimeTicker\"},{\"attributes\":{},\"id\":\"1554\",\"type\":\"UnionRenderers\"},{\"attributes\":{},\"id\":\"1481\",\"type\":\"BasicTicker\"},{\"attributes\":{\"line_alpha\":0.1,\"line_color\":\"navy\",\"x\":{\"field\":\"x\"},\"y\":{\"field\":\"y\"}},\"id\":\"1500\",\"type\":\"Line\"}],\"root_ids\":[\"1467\"]},\"title\":\"Bokeh Application\",\"version\":\"2.4.2\"}};\n",
       "  const render_items = [{\"docid\":\"18197ea0-ee6f-456b-9454-99c115603ce4\",\"root_ids\":[\"1467\"],\"roots\":{\"1467\":\"aa58ffe7-1187-40ef-af0d-d14082263770\"}}];\n",
       "  root.Bokeh.embed.embed_items_notebook(docs_json, render_items);\n",
       "\n",
       "  }\n",
       "  if (root.Bokeh !== undefined) {\n",
       "    embed_document(root);\n",
       "  } else {\n",
       "    let attempts = 0;\n",
       "    const timer = setInterval(function(root) {\n",
       "      if (root.Bokeh !== undefined) {\n",
       "        clearInterval(timer);\n",
       "        embed_document(root);\n",
       "      } else {\n",
       "        attempts++;\n",
       "        if (attempts > 100) {\n",
       "          clearInterval(timer);\n",
       "          console.log(\"Bokeh: ERROR: Unable to run BokehJS code because BokehJS library is missing\");\n",
       "        }\n",
       "      }\n",
       "    }, 10, root)\n",
       "  }\n",
       "})(window);"
      ],
      "application/vnd.bokehjs_exec.v0+json": ""
     },
     "metadata": {
      "application/vnd.bokehjs_exec.v0+json": {
       "id": "1467"
      }
     },
     "output_type": "display_data"
    }
   ],
   "source": [
    "#pd.to_datetime 함수는 주어진 인수를 datetime 으로 변환★\n",
    "df[\"date\"] = pd.to_datetime(df[\"date\"])\n",
    "# output_file(\"datetime.html\")\n",
    "#도화지 준비 (x축 x_axis_type 타입)\n",
    "p = figure(plot_width=800, plot_height=250, x_axis_type=\"datetime\")\n",
    "#x축은 날짜/y축은 종가\n",
    "p.line(df[\"date\"], df[\"close\"], color=\"navy\", alpha=0.5)\n",
    "show(p)"
   ]
  },
  {
   "cell_type": "code",
   "execution_count": 10,
   "id": "a74b3e61-7f0e-4b1c-b6fc-8c7c729b8639",
   "metadata": {},
   "outputs": [
    {
     "data": {
      "text/html": [
       "\n",
       "\n",
       "\n",
       "\n",
       "\n",
       "\n",
       "  <div class=\"bk-root\" id=\"c830fa6f-2a0b-4cd7-bbe4-9e75c4e2cb61\" data-root-id=\"1787\"></div>\n"
      ]
     },
     "metadata": {},
     "output_type": "display_data"
    },
    {
     "data": {
      "application/javascript": [
       "(function(root) {\n",
       "  function embed_document(root) {\n",
       "    \n",
       "  const docs_json = {\"4127dea5-e91b-4c05-82d2-34d004617476\":{\"defs\":[],\"roots\":{\"references\":[{\"attributes\":{\"children\":[{\"id\":\"1786\"},{\"id\":\"1784\"}]},\"id\":\"1787\",\"type\":\"Column\"},{\"attributes\":{},\"id\":\"1779\",\"type\":\"AllLabels\"},{\"attributes\":{\"data\":{\"right\":[1.2,2.5,3.7],\"y\":[1,2,3]},\"selected\":{\"id\":\"1781\"},\"selection_policy\":{\"id\":\"1780\"}},\"id\":\"1756\",\"type\":\"ColumnDataSource\"},{\"attributes\":{\"coordinates\":null,\"formatter\":{\"id\":\"1764\"},\"group\":null,\"major_label_policy\":{\"id\":\"1765\"},\"ticker\":{\"id\":\"1700\"}},\"id\":\"1699\",\"type\":\"LinearAxis\"},{\"attributes\":{},\"id\":\"1708\",\"type\":\"HelpTool\"},{\"attributes\":{\"fill_alpha\":{\"value\":0.2},\"fill_color\":{\"value\":\"navy\"},\"hatch_alpha\":{\"value\":0.2},\"hatch_color\":{\"value\":\"navy\"},\"height\":{\"value\":0.5},\"line_alpha\":{\"value\":0.2},\"line_color\":{\"value\":\"navy\"},\"right\":{\"field\":\"right\"},\"y\":{\"field\":\"y\"}},\"id\":\"1759\",\"type\":\"HBar\"},{\"attributes\":{},\"id\":\"1728\",\"type\":\"DataRange1d\"},{\"attributes\":{},\"id\":\"1769\",\"type\":\"UnionRenderers\"},{\"attributes\":{\"toolbar\":{\"id\":\"1785\"},\"toolbar_location\":\"above\"},\"id\":\"1786\",\"type\":\"ToolbarBox\"},{\"attributes\":{\"coordinates\":null,\"formatter\":{\"id\":\"1775\"},\"group\":null,\"major_label_policy\":{\"id\":\"1776\"},\"ticker\":{\"id\":\"1739\"}},\"id\":\"1738\",\"type\":\"LinearAxis\"},{\"attributes\":{},\"id\":\"1770\",\"type\":\"Selection\"},{\"attributes\":{\"source\":{\"id\":\"1717\"}},\"id\":\"1722\",\"type\":\"CDSView\"},{\"attributes\":{\"toolbars\":[{\"id\":\"1710\"},{\"id\":\"1749\"}],\"tools\":[{\"id\":\"1703\"},{\"id\":\"1704\"},{\"id\":\"1705\"},{\"id\":\"1706\"},{\"id\":\"1707\"},{\"id\":\"1708\"},{\"id\":\"1742\"},{\"id\":\"1743\"},{\"id\":\"1744\"},{\"id\":\"1745\"},{\"id\":\"1746\"},{\"id\":\"1747\"}]},\"id\":\"1785\",\"type\":\"ProxyToolbar\"},{\"attributes\":{},\"id\":\"1780\",\"type\":\"UnionRenderers\"},{\"attributes\":{\"coordinates\":null,\"data_source\":{\"id\":\"1717\"},\"glyph\":{\"id\":\"1718\"},\"group\":null,\"hover_glyph\":null,\"muted_glyph\":{\"id\":\"1720\"},\"nonselection_glyph\":{\"id\":\"1719\"},\"view\":{\"id\":\"1722\"}},\"id\":\"1721\",\"type\":\"GlyphRenderer\"},{\"attributes\":{\"source\":{\"id\":\"1756\"}},\"id\":\"1761\",\"type\":\"CDSView\"},{\"attributes\":{},\"id\":\"1778\",\"type\":\"BasicTickFormatter\"},{\"attributes\":{\"fill_alpha\":{\"value\":0.2},\"fill_color\":{\"value\":\"firebrick\"},\"hatch_alpha\":{\"value\":0.2},\"hatch_color\":{\"value\":\"firebrick\"},\"line_alpha\":{\"value\":0.2},\"line_color\":{\"value\":\"firebrick\"},\"top\":{\"field\":\"top\"},\"width\":{\"value\":0.5},\"x\":{\"field\":\"x\"}},\"id\":\"1720\",\"type\":\"VBar\"},{\"attributes\":{},\"id\":\"1726\",\"type\":\"DataRange1d\"},{\"attributes\":{},\"id\":\"1781\",\"type\":\"Selection\"},{\"attributes\":{\"tools\":[{\"id\":\"1742\"},{\"id\":\"1743\"},{\"id\":\"1744\"},{\"id\":\"1745\"},{\"id\":\"1746\"},{\"id\":\"1747\"}]},\"id\":\"1749\",\"type\":\"Toolbar\"},{\"attributes\":{\"coordinates\":null,\"group\":null,\"text\":\"horizontal bar plot\"},\"id\":\"1724\",\"type\":\"Title\"},{\"attributes\":{},\"id\":\"1696\",\"type\":\"BasicTicker\"},{\"attributes\":{},\"id\":\"1735\",\"type\":\"BasicTicker\"},{\"attributes\":{},\"id\":\"1732\",\"type\":\"LinearScale\"},{\"attributes\":{},\"id\":\"1707\",\"type\":\"ResetTool\"},{\"attributes\":{\"axis\":{\"id\":\"1734\"},\"coordinates\":null,\"group\":null,\"ticker\":null},\"id\":\"1737\",\"type\":\"Grid\"},{\"attributes\":{},\"id\":\"1706\",\"type\":\"SaveTool\"},{\"attributes\":{\"overlay\":{\"id\":\"1709\"}},\"id\":\"1705\",\"type\":\"BoxZoomTool\"},{\"attributes\":{},\"id\":\"1730\",\"type\":\"LinearScale\"},{\"attributes\":{\"coordinates\":null,\"formatter\":{\"id\":\"1778\"},\"group\":null,\"major_label_policy\":{\"id\":\"1779\"},\"ticker\":{\"id\":\"1735\"}},\"id\":\"1734\",\"type\":\"LinearAxis\"},{\"attributes\":{},\"id\":\"1703\",\"type\":\"PanTool\"},{\"attributes\":{},\"id\":\"1747\",\"type\":\"HelpTool\"},{\"attributes\":{\"axis\":{\"id\":\"1695\"},\"coordinates\":null,\"group\":null,\"ticker\":null},\"id\":\"1698\",\"type\":\"Grid\"},{\"attributes\":{\"fill_color\":{\"value\":\"firebrick\"},\"hatch_color\":{\"value\":\"firebrick\"},\"line_color\":{\"value\":\"firebrick\"},\"top\":{\"field\":\"top\"},\"width\":{\"value\":0.5},\"x\":{\"field\":\"x\"}},\"id\":\"1718\",\"type\":\"VBar\"},{\"attributes\":{\"data\":{\"top\":[1.2,2.5,3.7],\"x\":[1,2,3]},\"selected\":{\"id\":\"1770\"},\"selection_policy\":{\"id\":\"1769\"}},\"id\":\"1717\",\"type\":\"ColumnDataSource\"},{\"attributes\":{\"children\":[[{\"id\":\"1684\"},0,0],[{\"id\":\"1723\"},0,1]]},\"id\":\"1784\",\"type\":\"GridBox\"},{\"attributes\":{\"tools\":[{\"id\":\"1703\"},{\"id\":\"1704\"},{\"id\":\"1705\"},{\"id\":\"1706\"},{\"id\":\"1707\"},{\"id\":\"1708\"}]},\"id\":\"1710\",\"type\":\"Toolbar\"},{\"attributes\":{},\"id\":\"1704\",\"type\":\"WheelZoomTool\"},{\"attributes\":{\"below\":[{\"id\":\"1695\"}],\"center\":[{\"id\":\"1698\"},{\"id\":\"1702\"}],\"height\":400,\"left\":[{\"id\":\"1699\"}],\"renderers\":[{\"id\":\"1721\"}],\"title\":{\"id\":\"1685\"},\"toolbar\":{\"id\":\"1710\"},\"toolbar_location\":null,\"width\":400,\"x_range\":{\"id\":\"1687\"},\"x_scale\":{\"id\":\"1691\"},\"y_range\":{\"id\":\"1689\"},\"y_scale\":{\"id\":\"1693\"}},\"id\":\"1684\",\"subtype\":\"Figure\",\"type\":\"Plot\"},{\"attributes\":{\"axis\":{\"id\":\"1738\"},\"coordinates\":null,\"dimension\":1,\"group\":null,\"ticker\":null},\"id\":\"1741\",\"type\":\"Grid\"},{\"attributes\":{\"below\":[{\"id\":\"1734\"}],\"center\":[{\"id\":\"1737\"},{\"id\":\"1741\"}],\"height\":400,\"left\":[{\"id\":\"1738\"}],\"renderers\":[{\"id\":\"1760\"}],\"title\":{\"id\":\"1724\"},\"toolbar\":{\"id\":\"1749\"},\"toolbar_location\":null,\"width\":400,\"x_range\":{\"id\":\"1726\"},\"x_scale\":{\"id\":\"1730\"},\"y_range\":{\"id\":\"1728\"},\"y_scale\":{\"id\":\"1732\"}},\"id\":\"1723\",\"subtype\":\"Figure\",\"type\":\"Plot\"},{\"attributes\":{},\"id\":\"1739\",\"type\":\"BasicTicker\"},{\"attributes\":{},\"id\":\"1687\",\"type\":\"DataRange1d\"},{\"attributes\":{\"coordinates\":null,\"data_source\":{\"id\":\"1756\"},\"glyph\":{\"id\":\"1757\"},\"group\":null,\"hover_glyph\":null,\"muted_glyph\":{\"id\":\"1759\"},\"nonselection_glyph\":{\"id\":\"1758\"},\"view\":{\"id\":\"1761\"}},\"id\":\"1760\",\"type\":\"GlyphRenderer\"},{\"attributes\":{},\"id\":\"1764\",\"type\":\"BasicTickFormatter\"},{\"attributes\":{\"fill_alpha\":{\"value\":0.1},\"fill_color\":{\"value\":\"firebrick\"},\"hatch_alpha\":{\"value\":0.1},\"hatch_color\":{\"value\":\"firebrick\"},\"line_alpha\":{\"value\":0.1},\"line_color\":{\"value\":\"firebrick\"},\"top\":{\"field\":\"top\"},\"width\":{\"value\":0.5},\"x\":{\"field\":\"x\"}},\"id\":\"1719\",\"type\":\"VBar\"},{\"attributes\":{\"fill_alpha\":{\"value\":0.1},\"fill_color\":{\"value\":\"navy\"},\"hatch_alpha\":{\"value\":0.1},\"hatch_color\":{\"value\":\"navy\"},\"height\":{\"value\":0.5},\"line_alpha\":{\"value\":0.1},\"line_color\":{\"value\":\"navy\"},\"right\":{\"field\":\"right\"},\"y\":{\"field\":\"y\"}},\"id\":\"1758\",\"type\":\"HBar\"},{\"attributes\":{},\"id\":\"1743\",\"type\":\"WheelZoomTool\"},{\"attributes\":{},\"id\":\"1689\",\"type\":\"DataRange1d\"},{\"attributes\":{\"fill_color\":{\"value\":\"navy\"},\"hatch_color\":{\"value\":\"navy\"},\"height\":{\"value\":0.5},\"line_color\":{\"value\":\"navy\"},\"right\":{\"field\":\"right\"},\"y\":{\"field\":\"y\"}},\"id\":\"1757\",\"type\":\"HBar\"},{\"attributes\":{},\"id\":\"1742\",\"type\":\"PanTool\"},{\"attributes\":{},\"id\":\"1691\",\"type\":\"LinearScale\"},{\"attributes\":{},\"id\":\"1765\",\"type\":\"AllLabels\"},{\"attributes\":{\"overlay\":{\"id\":\"1748\"}},\"id\":\"1744\",\"type\":\"BoxZoomTool\"},{\"attributes\":{},\"id\":\"1693\",\"type\":\"LinearScale\"},{\"attributes\":{\"axis\":{\"id\":\"1699\"},\"coordinates\":null,\"dimension\":1,\"group\":null,\"ticker\":null},\"id\":\"1702\",\"type\":\"Grid\"},{\"attributes\":{},\"id\":\"1745\",\"type\":\"SaveTool\"},{\"attributes\":{\"coordinates\":null,\"group\":null,\"text\":\"vertical bar plot\"},\"id\":\"1685\",\"type\":\"Title\"},{\"attributes\":{},\"id\":\"1746\",\"type\":\"ResetTool\"},{\"attributes\":{},\"id\":\"1700\",\"type\":\"BasicTicker\"},{\"attributes\":{},\"id\":\"1767\",\"type\":\"BasicTickFormatter\"},{\"attributes\":{},\"id\":\"1775\",\"type\":\"BasicTickFormatter\"},{\"attributes\":{\"bottom_units\":\"screen\",\"coordinates\":null,\"fill_alpha\":0.5,\"fill_color\":\"lightgrey\",\"group\":null,\"left_units\":\"screen\",\"level\":\"overlay\",\"line_alpha\":1.0,\"line_color\":\"black\",\"line_dash\":[4,4],\"line_width\":2,\"right_units\":\"screen\",\"syncable\":false,\"top_units\":\"screen\"},\"id\":\"1748\",\"type\":\"BoxAnnotation\"},{\"attributes\":{},\"id\":\"1768\",\"type\":\"AllLabels\"},{\"attributes\":{},\"id\":\"1776\",\"type\":\"AllLabels\"},{\"attributes\":{\"coordinates\":null,\"formatter\":{\"id\":\"1767\"},\"group\":null,\"major_label_policy\":{\"id\":\"1768\"},\"ticker\":{\"id\":\"1696\"}},\"id\":\"1695\",\"type\":\"LinearAxis\"},{\"attributes\":{\"bottom_units\":\"screen\",\"coordinates\":null,\"fill_alpha\":0.5,\"fill_color\":\"lightgrey\",\"group\":null,\"left_units\":\"screen\",\"level\":\"overlay\",\"line_alpha\":1.0,\"line_color\":\"black\",\"line_dash\":[4,4],\"line_width\":2,\"right_units\":\"screen\",\"syncable\":false,\"top_units\":\"screen\"},\"id\":\"1709\",\"type\":\"BoxAnnotation\"}],\"root_ids\":[\"1787\"]},\"title\":\"Bokeh Application\",\"version\":\"2.4.2\"}};\n",
       "  const render_items = [{\"docid\":\"4127dea5-e91b-4c05-82d2-34d004617476\",\"root_ids\":[\"1787\"],\"roots\":{\"1787\":\"c830fa6f-2a0b-4cd7-bbe4-9e75c4e2cb61\"}}];\n",
       "  root.Bokeh.embed.embed_items_notebook(docs_json, render_items);\n",
       "\n",
       "  }\n",
       "  if (root.Bokeh !== undefined) {\n",
       "    embed_document(root);\n",
       "  } else {\n",
       "    let attempts = 0;\n",
       "    const timer = setInterval(function(root) {\n",
       "      if (root.Bokeh !== undefined) {\n",
       "        clearInterval(timer);\n",
       "        embed_document(root);\n",
       "      } else {\n",
       "        attempts++;\n",
       "        if (attempts > 100) {\n",
       "          clearInterval(timer);\n",
       "          console.log(\"Bokeh: ERROR: Unable to run BokehJS code because BokehJS library is missing\");\n",
       "        }\n",
       "      }\n",
       "    }, 10, root)\n",
       "  }\n",
       "})(window);"
      ],
      "application/vnd.bokehjs_exec.v0+json": ""
     },
     "metadata": {
      "application/vnd.bokehjs_exec.v0+json": {
       "id": "1787"
      }
     },
     "output_type": "display_data"
    }
   ],
   "source": [
    "#output_notebook()\n",
    "p1 = figure(plot_width=400, plot_height=400, title=\"vertical bar plot\")\n",
    "#보케에서는 p.bar함수가 아니라 vertical 해서 vbar/ 가로는 hbar\n",
    "# 세로 막대 차트\n",
    "p1.vbar(x=[1, 2, 3], width=0.5, bottom=0, top=[1.2, 2.5, 3.7], color=\"firebrick\")\n",
    "p2 = figure(plot_width=400, plot_height=400, title=\"horizontal bar plot\")\n",
    "# 가로 막대 차트\n",
    "p2.hbar(y=[1, 2, 3], height=0.5, left=0, right=[1.2, 2.5, 3.7], color=\"navy\")\n",
    "layout = gridplot([[p1, p2]])\n",
    "show(layout)"
   ]
  },
  {
   "cell_type": "code",
   "execution_count": 11,
   "id": "e40b7576-9bcb-49c6-a196-71a56562f8ca",
   "metadata": {},
   "outputs": [
    {
     "data": {
      "text/html": [
       "\n",
       "\n",
       "\n",
       "\n",
       "\n",
       "\n",
       "  <div class=\"bk-root\" id=\"b9feb0b7-4761-41fc-9581-639d4d2f6319\" data-root-id=\"1973\"></div>\n"
      ]
     },
     "metadata": {},
     "output_type": "display_data"
    },
    {
     "data": {
      "application/javascript": [
       "(function(root) {\n",
       "  function embed_document(root) {\n",
       "    \n",
       "  const docs_json = {\"cb182d96-1d5c-4c79-a4c9-04986c7de5b9\":{\"defs\":[],\"roots\":{\"references\":[{\"attributes\":{\"below\":[{\"id\":\"1982\"}],\"center\":[{\"id\":\"1985\"},{\"id\":\"1989\"}],\"height\":400,\"left\":[{\"id\":\"1986\"}],\"renderers\":[{\"id\":\"2008\"},{\"id\":\"2014\"}],\"title\":{\"id\":\"2101\"},\"toolbar\":{\"id\":\"1997\"},\"toolbar_location\":null,\"width\":400,\"x_range\":{\"id\":\"1974\"},\"x_scale\":{\"id\":\"1978\"},\"y_range\":{\"id\":\"1976\"},\"y_scale\":{\"id\":\"1980\"}},\"id\":\"1973\",\"subtype\":\"Figure\",\"type\":\"Plot\"},{\"attributes\":{\"coordinates\":null,\"formatter\":{\"id\":\"2107\"},\"group\":null,\"major_label_policy\":{\"id\":\"2108\"},\"ticker\":{\"id\":\"1983\"}},\"id\":\"1982\",\"type\":\"LinearAxis\"},{\"attributes\":{\"coordinates\":null,\"group\":null},\"id\":\"2101\",\"type\":\"Title\"},{\"attributes\":{},\"id\":\"1983\",\"type\":\"BasicTicker\"},{\"attributes\":{\"axis\":{\"id\":\"1982\"},\"coordinates\":null,\"group\":null,\"ticker\":null,\"visible\":false},\"id\":\"1985\",\"type\":\"Grid\"},{\"attributes\":{\"source\":{\"id\":\"2004\"}},\"id\":\"2009\",\"type\":\"CDSView\"},{\"attributes\":{\"fill_alpha\":{\"value\":0.2},\"fill_color\":{\"field\":\"fill_color\"},\"hatch_alpha\":{\"value\":0.2},\"line_alpha\":{\"value\":0.2},\"line_color\":{\"value\":\"white\"},\"q\":{\"field\":\"q\"},\"r\":{\"field\":\"r\"}},\"id\":\"2007\",\"type\":\"HexTile\"},{\"attributes\":{\"bottom_units\":\"screen\",\"coordinates\":null,\"fill_alpha\":0.5,\"fill_color\":\"lightgrey\",\"group\":null,\"left_units\":\"screen\",\"level\":\"overlay\",\"line_alpha\":1.0,\"line_color\":\"black\",\"line_dash\":[4,4],\"line_width\":2,\"right_units\":\"screen\",\"syncable\":false,\"top_units\":\"screen\"},\"id\":\"1996\",\"type\":\"BoxAnnotation\"},{\"attributes\":{\"axis\":{\"id\":\"1986\"},\"coordinates\":null,\"dimension\":1,\"group\":null,\"ticker\":null,\"visible\":false},\"id\":\"1989\",\"type\":\"Grid\"},{\"attributes\":{\"data\":{\"fill_color\":[\"firebrick\",\"firebrick\",\"firebrick\",\"navy\",\"navy\",\"navy\",\"navy\"],\"q\":{\"__ndarray__\":\"AAAAAAAAAAAAAAAA//////////8BAAAAAQAAAA==\",\"dtype\":\"int32\",\"order\":\"little\",\"shape\":[7]},\"r\":{\"__ndarray__\":\"AAAAAP////8BAAAAAAAAAAEAAAD/////AAAAAA==\",\"dtype\":\"int32\",\"order\":\"little\",\"shape\":[7]}},\"selected\":{\"id\":\"2110\"},\"selection_policy\":{\"id\":\"2109\"}},\"id\":\"2004\",\"type\":\"ColumnDataSource\"},{\"attributes\":{},\"id\":\"1978\",\"type\":\"LinearScale\"},{\"attributes\":{\"fill_alpha\":{\"value\":0.3},\"fill_color\":{\"field\":\"fill_color\"},\"hatch_alpha\":{\"value\":0.3},\"line_alpha\":{\"value\":0.3},\"line_color\":{\"value\":\"white\"},\"q\":{\"field\":\"q\"},\"r\":{\"field\":\"r\"}},\"id\":\"2005\",\"type\":\"HexTile\"},{\"attributes\":{\"coordinates\":null,\"data_source\":{\"id\":\"2010\"},\"glyph\":{\"id\":\"2011\"},\"group\":null,\"hover_glyph\":null,\"muted_glyph\":{\"id\":\"2013\"},\"nonselection_glyph\":{\"id\":\"2012\"},\"view\":{\"id\":\"2015\"}},\"id\":\"2014\",\"type\":\"GlyphRenderer\"},{\"attributes\":{},\"id\":\"1987\",\"type\":\"BasicTicker\"},{\"attributes\":{\"text_align\":{\"value\":\"center\"},\"text_baseline\":{\"value\":\"middle\"},\"text_color\":{\"value\":\"black\"},\"x\":{\"field\":\"x\"},\"y\":{\"field\":\"y\"}},\"id\":\"2011\",\"type\":\"Text\"},{\"attributes\":{},\"id\":\"1994\",\"type\":\"ResetTool\"},{\"attributes\":{},\"id\":\"2109\",\"type\":\"UnionRenderers\"},{\"attributes\":{\"overlay\":{\"id\":\"1996\"}},\"id\":\"1992\",\"type\":\"BoxZoomTool\"},{\"attributes\":{\"fill_alpha\":{\"value\":0.1},\"fill_color\":{\"field\":\"fill_color\"},\"hatch_alpha\":{\"value\":0.1},\"line_alpha\":{\"value\":0.1},\"line_color\":{\"value\":\"white\"},\"q\":{\"field\":\"q\"},\"r\":{\"field\":\"r\"}},\"id\":\"2006\",\"type\":\"HexTile\"},{\"attributes\":{},\"id\":\"1991\",\"type\":\"WheelZoomTool\"},{\"attributes\":{\"source\":{\"id\":\"2010\"}},\"id\":\"2015\",\"type\":\"CDSView\"},{\"attributes\":{\"text_align\":{\"value\":\"center\"},\"text_alpha\":{\"value\":0.2},\"text_baseline\":{\"value\":\"middle\"},\"text_color\":{\"value\":\"black\"},\"x\":{\"field\":\"x\"},\"y\":{\"field\":\"y\"}},\"id\":\"2013\",\"type\":\"Text\"},{\"attributes\":{},\"id\":\"2110\",\"type\":\"Selection\"},{\"attributes\":{},\"id\":\"1974\",\"type\":\"DataRange1d\"},{\"attributes\":{},\"id\":\"1976\",\"type\":\"DataRange1d\"},{\"attributes\":{},\"id\":\"2108\",\"type\":\"AllLabels\"},{\"attributes\":{},\"id\":\"1995\",\"type\":\"HelpTool\"},{\"attributes\":{\"tools\":[{\"id\":\"1990\"},{\"id\":\"1991\"},{\"id\":\"1992\"},{\"id\":\"1993\"},{\"id\":\"1994\"},{\"id\":\"1995\"}]},\"id\":\"1997\",\"type\":\"Toolbar\"},{\"attributes\":{\"coordinates\":null,\"data_source\":{\"id\":\"2004\"},\"glyph\":{\"id\":\"2005\"},\"group\":null,\"hover_glyph\":null,\"muted_glyph\":{\"id\":\"2007\"},\"nonselection_glyph\":{\"id\":\"2006\"},\"view\":{\"id\":\"2009\"}},\"id\":\"2008\",\"type\":\"GlyphRenderer\"},{\"attributes\":{\"text_align\":{\"value\":\"center\"},\"text_alpha\":{\"value\":0.1},\"text_baseline\":{\"value\":\"middle\"},\"text_color\":{\"value\":\"black\"},\"x\":{\"field\":\"x\"},\"y\":{\"field\":\"y\"}},\"id\":\"2012\",\"type\":\"Text\"},{\"attributes\":{\"data\":{\"text\":[\"(0, 0)\",\"(0, -1)\",\"(0, 1)\",\"(-1, 0)\",\"(-1, 1)\",\"(1, -1)\",\"(1, 0)\"],\"x\":{\"__ndarray__\":\"AAAAAAAAAACqTFjoerbrv6pMWOh6tus/qkxY6Hq2+7+qTFjoerbrv6pMWOh6tus/qkxY6Hq2+z8=\",\"dtype\":\"float64\",\"order\":\"little\",\"shape\":[7]},\"y\":{\"__ndarray__\":\"AAAAAAAAAIAAAAAAAAD4PwAAAAAAAPi/AAAAAAAAAIAAAAAAAAD4vwAAAAAAAPg/AAAAAAAAAIA=\",\"dtype\":\"float64\",\"order\":\"little\",\"shape\":[7]}},\"selected\":{\"id\":\"2112\"},\"selection_policy\":{\"id\":\"2111\"}},\"id\":\"2010\",\"type\":\"ColumnDataSource\"},{\"attributes\":{},\"id\":\"2111\",\"type\":\"UnionRenderers\"},{\"attributes\":{},\"id\":\"2104\",\"type\":\"BasicTickFormatter\"},{\"attributes\":{},\"id\":\"2112\",\"type\":\"Selection\"},{\"attributes\":{},\"id\":\"2105\",\"type\":\"AllLabels\"},{\"attributes\":{},\"id\":\"2107\",\"type\":\"BasicTickFormatter\"},{\"attributes\":{},\"id\":\"1990\",\"type\":\"PanTool\"},{\"attributes\":{},\"id\":\"1980\",\"type\":\"LinearScale\"},{\"attributes\":{},\"id\":\"1993\",\"type\":\"SaveTool\"},{\"attributes\":{\"coordinates\":null,\"formatter\":{\"id\":\"2104\"},\"group\":null,\"major_label_policy\":{\"id\":\"2105\"},\"ticker\":{\"id\":\"1987\"}},\"id\":\"1986\",\"type\":\"LinearAxis\"}],\"root_ids\":[\"1973\"]},\"title\":\"Bokeh Application\",\"version\":\"2.4.2\"}};\n",
       "  const render_items = [{\"docid\":\"cb182d96-1d5c-4c79-a4c9-04986c7de5b9\",\"root_ids\":[\"1973\"],\"roots\":{\"1973\":\"b9feb0b7-4761-41fc-9581-639d4d2f6319\"}}];\n",
       "  root.Bokeh.embed.embed_items_notebook(docs_json, render_items);\n",
       "\n",
       "  }\n",
       "  if (root.Bokeh !== undefined) {\n",
       "    embed_document(root);\n",
       "  } else {\n",
       "    let attempts = 0;\n",
       "    const timer = setInterval(function(root) {\n",
       "      if (root.Bokeh !== undefined) {\n",
       "        clearInterval(timer);\n",
       "        embed_document(root);\n",
       "      } else {\n",
       "        attempts++;\n",
       "        if (attempts > 100) {\n",
       "          clearInterval(timer);\n",
       "          console.log(\"Bokeh: ERROR: Unable to run BokehJS code because BokehJS library is missing\");\n",
       "        }\n",
       "      }\n",
       "    }, 10, root)\n",
       "  }\n",
       "})(window);"
      ],
      "application/vnd.bokehjs_exec.v0+json": ""
     },
     "metadata": {
      "application/vnd.bokehjs_exec.v0+json": {
       "id": "1973"
      }
     },
     "output_type": "display_data"
    }
   ],
   "source": [
    "# 벌집차트\n",
    "import numpy as np\n",
    "from bokeh.io import output_file, show\n",
    "from bokeh.plotting import figure\n",
    "#벌집 모양을 위한 임포트\n",
    "from bokeh.util.hex import axial_to_cartesian\n",
    "#데이터 넣기\n",
    "q = np.array([0,0,0,-1,-1,1,1])\n",
    "r = np.array([0,-1,1,0,1,-1,0])\n",
    "p = figure(plot_width=400, plot_height=400, toolbar_location=None)\n",
    "p.grid.visible = False\n",
    "#벌집모양 p.hex_tile\n",
    "p.hex_tile(q,r,size=1, fill_color=[\"firebrick\"]*3 + ['navy']*4,\n",
    "line_color=\"white\", alpha=0.3)\n",
    "x, y = axial_to_cartesian(q,r,1, \"pointytop\")\n",
    "#그래프 안에 글자넣기\n",
    "p.text(x,y, text=[\"(%d, %d)\" % (q,r) for (q,r) in zip(q,r) ],\n",
    "text_baseline=\"middle\", text_align=\"center\")\n",
    "show(p)"
   ]
  },
  {
   "cell_type": "code",
   "execution_count": 17,
   "id": "d1ebe375-eae4-4303-9bfa-b5155055a2f4",
   "metadata": {},
   "outputs": [
    {
     "name": "stderr",
     "output_type": "stream",
     "text": [
      "WARNING:bokeh.core.validation.check:W-1008 (PALETTE_LENGTH_FACTORS_MISMATCH): Palette length does not match number of factors: ['8'] will be assigned to `nan_color` gray\n"
     ]
    },
    {
     "data": {
      "text/html": [
       "\n",
       "\n",
       "\n",
       "\n",
       "\n",
       "\n",
       "  <div class=\"bk-root\" id=\"e3f9c42c-601a-4ceb-92d0-a98d92063d60\" data-root-id=\"2180\"></div>\n"
      ]
     },
     "metadata": {},
     "output_type": "display_data"
    },
    {
     "data": {
      "application/javascript": [
       "(function(root) {\n",
       "  function embed_document(root) {\n",
       "    \n",
       "  const docs_json = {\"bee1cb88-44ce-4013-b0bf-ff30390886ea\":{\"defs\":[],\"roots\":{\"references\":[{\"attributes\":{\"below\":[{\"id\":\"2191\"}],\"center\":[{\"id\":\"2193\"},{\"id\":\"2197\"}],\"height\":300,\"left\":[{\"id\":\"2194\"}],\"renderers\":[{\"id\":\"2205\"}],\"title\":{\"id\":\"2181\"},\"toolbar\":{\"id\":\"2198\"},\"toolbar_location\":null,\"width\":800,\"x_range\":{\"id\":\"2183\"},\"x_scale\":{\"id\":\"2187\"},\"y_range\":{\"id\":\"2185\"},\"y_scale\":{\"id\":\"2189\"}},\"id\":\"2180\",\"subtype\":\"Figure\",\"type\":\"Plot\"},{\"attributes\":{},\"id\":\"2185\",\"type\":\"DataRange1d\"},{\"attributes\":{\"data\":{\"accel_25%\":{\"__ndarray__\":\"AAAAAACAKkBmZmZmZkYwQAAAAAAAAC1AZmZmZmYmKUDNzMzMzMwuQM3MzMzMzC1AAAAAAADgMEAAAAAAAAAtQDMzMzMz8y1AzczMzMzMLEDMzMzMzEwtQAAAAAAAgC9AAAAAAAAALkAAAAAAACAxQM3MzMzMzDVAZmZmZmamLUAAAAAAAAAtQJqZmZmZmTFAAAAAAADALEAAAAAAAIAyQAAAAAAAgC1AAAAAAAAAMEBmZmZmZqYwQAAAAAAAwCtAzMzMzMwsMEDNzMzMzMwtQDMzMzMzMy5AzMzMzMyMLEAAAAAAAAAtQGZmZmZm5jBAmpmZmZkZNEAzMzMzMzMuQM3MzMzMzC5AAAAAAAAALkCamZmZmZkwQDQzMzMzMylAzczMzMxsMUCamZmZmZkuQDMzMzMzszBAZmZmZmYGMECamZmZmdkrQJqZmZmZmS9AAAAAAACAL0CamZmZmZkuQJqZmZmZGSpAMzMzMzMzLkAAAAAAAMAmQAAAAAAAgCZAmZmZmZnZKkAAAAAAAAAoQMzMzMzMzCdAAAAAAACAKEAAAAAAAMAoQAAAAAAAgDJAAAAAAAAAJ0AAAAAAAAAqQAAAAAAAACdAmpmZmZkZJUA=\",\"dtype\":\"float64\",\"order\":\"little\",\"shape\":[58]},\"accel_50%\":{\"__ndarray__\":\"AAAAAAAAK0DNzMzMzIwxQAAAAAAAAC5AzczMzMxMKUAAAAAAAAAwQM3MzMzMzC1AzczMzMxMMkAAAAAAAAAtQGZmZmZm5jBAAAAAAAAALUAAAAAAAAAvQDMzMzMzczBAmpmZmZkZMEAAAAAAAMAxQM3MzMzMzDVAzczMzMxML0AAAAAAAAAtQJqZmZmZmTFAAAAAAAAALkAAAAAAAIAzQGZmZmZmZi5AMzMzMzMzMEAAAAAAAAAyQDMzMzMzsy1AmpmZmZkZMUBmZmZmZmYwQDMzMzMzMy5AzczMzMzMLkAAAAAAAAAuQGZmZmZm5jFAmpmZmZkZNEAAAAAAAAAwQJqZmZmZmS9AZmZmZmZmMECamZmZmZkwQJqZmZmZmStAMzMzMzMzMkAAAAAAAEAwQDMzMzMzszBAMzMzMzNzMUBmZmZmZuYtQJqZmZmZmS9AAAAAAACAMECamZmZmZkvQAAAAAAAACtAmpmZmZmZMEAAAAAAAIAnQAAAAAAAACpAAAAAAACALUAAAAAAAAAqQDMzMzMzsyhAMzMzMzOzKkBmZmZmZuYqQAAAAAAAgDJAmpmZmZmZKUAAAAAAAAAvQDMzMzMzMypAAAAAAAAAJ0A=\",\"dtype\":\"float64\",\"order\":\"little\",\"shape\":[58]},\"accel_75%\":{\"__ndarray__\":\"AAAAAAAAK0A0MzMzM9MyQJqZmZmZmS9ANDMzMzNzKUAzMzMzMzMwQM3MzMzMzC1AAAAAAACAM0AAAAAAAAAtQDQzMzMzszJAmpmZmZnZL0AAAAAAAEAvQAAAAAAAgDFAAAAAAAAAMUCamZmZmTkyQM3MzMzMzDVAmpmZmZl5MEAAAAAAAAAtQJqZmZmZmTFAMzMzMzOzL0BmZmZmZiY1QJmZmZmZOTBAAAAAAAAAMkDNzMzMzEwyQGZmZmZmJjBAmpmZmZnZMUCamZmZmRkxQDMzMzMzMy5AAAAAAADgNECamZmZmRkvQGZmZmZm5jJAmpmZmZkZNECamZmZmZkxQGZmZmZmpjBAAAAAAACAMUCamZmZmZkwQM3MzMzMTCxAMzMzMzOzMkA0MzMzM/MxQDMzMzMzszBAZmZmZmbmMkAzMzMzM/MvQJqZmZmZmS9AmpmZmZnZMEAzMzMzM/MwQAAAAAAAAC1AmpmZmZkZMkAzMzMzM7MpQAAAAAAAACxAMzMzMzMTMEAAAAAAAAAsQAAAAAAAQClAZmZmZmZmK0A0MzMzM7MsQAAAAAAAgDJAZmZmZmZmKkAAAAAAAAAzQAAAAAAAwCtAAAAAAACAJ0A=\",\"dtype\":\"float64\",\"order\":\"little\",\"shape\":[58]},\"accel_count\":{\"__ndarray__\":\"AAAAAAAAEEAAAAAAAAAAQAAAAAAAABRAAAAAAAAAAEAAAAAAAAAIQAAAAAAAAPA/AAAAAAAAMEAAAAAAAADwPwAAAAAAADRAAAAAAAAAKEAAAAAAAAAgQAAAAAAAADBAAAAAAAAAKkAAAAAAAAAgQAAAAAAAAPA/AAAAAAAAAEAAAAAAAADwPwAAAAAAAPA/AAAAAAAAEEAAAAAAAAAcQAAAAAAAACRAAAAAAAAAFEAAAAAAAAAIQAAAAAAAABBAAAAAAAAAEEAAAAAAAAA3QAAAAAAAAPA/AAAAAAAANkAAAAAAAAAQQAAAAAAAAABAAAAAAAAA8D8AAAAAAAAxQAAAAAAAABxAAAAAAAAAJkAAAAAAAADwPwAAAAAAAAhAAAAAAAAAEEAAAAAAAAAoQAAAAAAAAPA/AAAAAAAAEEAAAAAAAAAAQAAAAAAAAPA/AAAAAAAAJkAAAAAAAAAQQAAAAAAAAAhAAAAAAAAAAEAAAAAAAAAgQAAAAAAAABxAAAAAAAAAAEAAAAAAAAA0QAAAAAAAABBAAAAAAAAAKEAAAAAAAAA0QAAAAAAAAPA/AAAAAAAAFEAAAAAAAAAcQAAAAAAAACRAAAAAAAAAHEA=\",\"dtype\":\"float64\",\"order\":\"little\",\"shape\":[58]},\"accel_max\":{\"__ndarray__\":\"AAAAAAAAK0CamZmZmRk0QAAAAAAAgDBAmpmZmZmZKUBmZmZmZmYwQM3MzMzMzC1AMzMzMzMzNkAAAAAAAAAtQGZmZmZmZjNAMzMzMzOzMUAAAAAAAIAzQDMzMzMzszRAAAAAAACAMkBmZmZmZmYzQM3MzMzMzDVAzczMzMxMMUAAAAAAAAAtQJqZmZmZmTFAZmZmZmbmMEDNzMzMzMw4QAAAAAAAgDRAAAAAAACAMkCamZmZmZkyQAAAAAAAgDFAAAAAAAAAMkAAAAAAAAA1QDMzMzMzMy5AmpmZmZmZOEBmZmZmZmYvQGZmZmZm5jNAmpmZmZkZNEAAAAAAAAAzQAAAAAAAADVAAAAAAACAMkCamZmZmZkwQAAAAAAAAC1AMzMzMzOzMkAAAAAAAAA1QDMzMzMzszBAAAAAAAAANUAAAAAAAAAxQJqZmZmZmS9AAAAAAAAAM0AzMzMzMzMzQAAAAAAAAC9AmpmZmZmZM0AAAAAAAAAvQM3MzMzMzC1AZmZmZmZmMUDNzMzMzMwuQAAAAAAAACpAZmZmZmZmLkAAAAAAAAAwQAAAAAAAgDJAzczMzMzMLUAzMzMzMzM2QAAAAAAAAC1AAAAAAAAAKEA=\",\"dtype\":\"float64\",\"order\":\"little\",\"shape\":[58]},\"accel_mean\":{\"__ndarray__\":\"AAAAAACAKkDNzMzMzIwxQFK4HoXrUS5AzczMzMxMKUB4d3d3d3cvQM3MzMzMzC1AMzMzMzNTMkAAAAAAAAAtQML1KFyP4jBAvLu7u7u7LUDNzMzMzEwvQJmZmZmZqTBAwA/8wA/8L0AzMzMzM4MxQM3MzMzMzDVAzczMzMxML0AAAAAAAAAtQJqZmZmZmTFAMzMzMzNzLkBf8RVf8RU0QBWuR+F6FC9A4noUrkdhMEDNzMzMzEwxQJqZmZmZWS5AzczMzMzsMECUD+N+XVIwQDMzMzMzMy5ApwR5SpBnMUCamZmZmRkuQGZmZmZm5jFAmpmZmZkZNEAzMzMzMzMwQEId1EEdVDBA0UUXXXTRL0CamZmZmZkwQHh3d3d3dypAzczMzMzsMUDv7u7u7s4wQDMzMzMzszBAmpmZmZl5MUBmZmZmZuYtQJqZmZmZmS9Ah7VvWPuGMEAzMzMzM3MwQLy7u7u7uytAmpmZmZmZMECamZmZmRkoQB7UQR3UQSlAAAAAAACALUDNzMzMzIwpQJqZmZmZWShAzMzMzMzMKUBSuB6F65EqQAAAAAAAgDJAXY/C9ShcKUCamZmZmRkwQKRwPQrXoyhAvuIrvuIrJkA=\",\"dtype\":\"float64\",\"order\":\"little\",\"shape\":[58]},\"accel_min\":{\"__ndarray__\":\"AAAAAAAAKUAAAAAAAAAuQAAAAAAAACxAAAAAAAAAKUCamZmZmZktQM3MzMzMzC1AAAAAAAAAL0AAAAAAAAAtQAAAAAAAAC1AMzMzMzMzJ0AAAAAAAAAsQDMzMzMzMytAmpmZmZmZK0BmZmZmZmYuQM3MzMzMzDVAAAAAAAAALEAAAAAAAAAtQJqZmZmZmTFAAAAAAAAALEAAAAAAAAAxQM3MzMzMzClAZmZmZmZmKkCamZmZmZkuQAAAAAAAACtAAAAAAAAAL0AAAAAAAAArQDMzMzMzMy5AZmZmZmZmKEAAAAAAAAAtQM3MzMzMzC9AmpmZmZkZNEAAAAAAAAAqQM3MzMzMzCpAmpmZmZmZJkCamZmZmZkwQM3MzMzMzCZAmpmZmZmZMEAAAAAAAAAtQDMzMzMzszBAAAAAAAAALEDNzMzMzMwpQJqZmZmZmS9AzczMzMzMLkAAAAAAAAAuQDMzMzMzMylAMzMzMzMzK0AAAAAAAAAhQAAAAAAAACRAMzMzMzMzKEAAAAAAAAAiQAAAAAAAACZAAAAAAAAAJEAAAAAAAAAkQAAAAAAAgDJAAAAAAAAAJkAAAAAAAAAmQAAAAAAAACBAAAAAAAAAI0A=\",\"dtype\":\"float64\",\"order\":\"little\",\"shape\":[58]},\"accel_std\":{\"__ndarray__\":\"AAAAAAAA4D/aBa/CltkMQJhwpa8jBvA/oRT/eiQnyz+s8nEBNKXqPwAAAAAAAPh/ZE+k085YAEAAAAAAAAD4fxE2soXgNfw//oDfulNv+j8yS6+hkwT7P3LUqK5Wo/s/LBFqidl/9j+zHuUrR1b1PwAAAAAAAPh/I16PFOmqAkAAAAAAAAD4fwAAAAAAAPh/062vj8V29D/psnKyNEsFQAtzj2BSAgFAr3RDq2ywAEBLKBJmHCD8P52IbbWHBP0/kpNDBEv+8j8n+uywYNL+PwAAAAAAAPh/iLbDYuyMDkCYZeZ6cH3kP8o7f2aeoAZAAAAAAAAA+H/u8iQBXIX6Pw0qa0PvxgJA/8KED5R4AkAAAAAAAAD4f1194pZpA/o/O9Xd5h0F8D8/TlRadd4AQAAAAAAAAPh/7+ZNqc1hB0DkNg8pbzEHQAAAAAAAAPh/tn2XMctw8T9kZmZmZmb+P3FLR1rzv/c/22zfzHb4EEAKUc4PcYQAQNKepMuXf/0/B/zORzj7DUChr7Qkh376PzMzMzMzM+s/bteC/TsB9z8GTyxx9PT5PwAAAAAAAPh//CUK2GSQ+D+e8zdT+FYQQPy1RsY47wJAIrZ6OpM27z8=\",\"dtype\":\"float64\",\"order\":\"little\",\"shape\":[58]},\"cyl_mfr\":[[\"3\",\"mazda\"],[\"4\",\"amc\"],[\"4\",\"audi\"],[\"4\",\"bmw\"],[\"4\",\"buick\"],[\"4\",\"capri\"],[\"4\",\"chevrolet\"],[\"4\",\"chrysler\"],[\"4\",\"datsun\"],[\"4\",\"dodge\"],[\"4\",\"fiat\"],[\"4\",\"ford\"],[\"4\",\"honda\"],[\"4\",\"mazda\"],[\"4\",\"mercedes\"],[\"4\",\"mercury\"],[\"4\",\"nissan\"],[\"4\",\"oldsmobile\"],[\"4\",\"opel\"],[\"4\",\"peugeot\"],[\"4\",\"plymouth\"],[\"4\",\"pontiac\"],[\"4\",\"renault\"],[\"4\",\"saab\"],[\"4\",\"subaru\"],[\"4\",\"toyota\"],[\"4\",\"triumph\"],[\"4\",\"volkswagen\"],[\"4\",\"volvo\"],[\"5\",\"audi\"],[\"5\",\"mercedes\"],[\"6\",\"amc\"],[\"6\",\"buick\"],[\"6\",\"chevrolet\"],[\"6\",\"chrysler\"],[\"6\",\"datsun\"],[\"6\",\"dodge\"],[\"6\",\"ford\"],[\"6\",\"mercedes\"],[\"6\",\"mercury\"],[\"6\",\"oldsmobile\"],[\"6\",\"peugeot\"],[\"6\",\"plymouth\"],[\"6\",\"pontiac\"],[\"6\",\"toyota\"],[\"6\",\"volvo\"],[\"8\",\"amc\"],[\"8\",\"buick\"],[\"8\",\"cadillac\"],[\"8\",\"chevrolet\"],[\"8\",\"chrysler\"],[\"8\",\"dodge\"],[\"8\",\"ford\"],[\"8\",\"hi\"],[\"8\",\"mercury\"],[\"8\",\"oldsmobile\"],[\"8\",\"plymouth\"],[\"8\",\"pontiac\"]],\"displ_25%\":{\"__ndarray__\":\"AAAAAACAUUAAAAAAABBgQAAAAAAAgFhAAAAAAABAXkAAAAAAAGBgQAAAAAAAgGFAAAAAAACAWEAAAAAAAIBjQAAAAAAAQFVAAAAAAACAWEAAAAAAAHBVQAAAAAAAYF5AAAAAAADAVkAAAAAAAIBVQAAAAAAAQGJAAAAAAAAAWkAAAAAAAABeQAAAAAAA4GJAAAAAAADQW0AAAAAAAMBcQAAAAAAAQFpAAAAAAACAYUAAAAAAAOBVQAAAAAAAMF1AAAAAAABAWEAAAAAAAEBXQAAAAAAAgF5AAAAAAACAVkAAAAAAAEBeQAAAAAAA4F5AAAAAAADgZkAAAAAAAABtQAAAAAAA4GxAAAAAAAAgbEAAAAAAACBsQAAAAAAAQGJAAAAAAAAgbEAAAAAAAABpQAAAAAAAAGVAAAAAAACYZ0AAAAAAAGhoQAAAAAAAYGRAAAAAAABwakAAAAAAAOBsQAAAAAAAgGNAAAAAAACwYkAAAAAAAABzQAAAAAAA4HVAAAAAAADgdUAAAAAAABBzQAAAAAAAYHhAAAAAAADgc0AAAAAAAOByQAAAAAAAAHNAAAAAAADgckAAAAAAAEBwQAAAAAAA4HNAAAAAAAAAeUA=\",\"dtype\":\"float64\",\"order\":\"little\",\"shape\":[58]},\"displ_50%\":{\"__ndarray__\":\"AAAAAACAUUAAAAAAAABhQAAAAAAAwFpAAAAAAABAXkAAAAAAAOBiQAAAAAAAgGFAAAAAAADgXEAAAAAAAIBjQAAAAAAAIFZAAAAAAABgWUAAAAAAAKBWQAAAAAAAYGBAAAAAAADAVkAAAAAAAMBWQAAAAAAAQGJAAAAAAACAW0AAAAAAAABeQAAAAAAA4GJAAAAAAAAAXUAAAAAAAABeQAAAAAAAQFpAAAAAAADgYkAAAAAAAABYQAAAAAAAQF5AAAAAAABAWEAAAAAAAABbQAAAAAAAgF5AAAAAAABAWEAAAAAAAEBeQAAAAAAAgF9AAAAAAADgZkAAAAAAAABtQAAAAAAA4GxAAAAAAABAb0AAAAAAACBsQAAAAAAAQGJAAAAAAAAgbEAAAAAAACBuQAAAAAAAAGVAAAAAAAAAaUAAAAAAADBrQAAAAAAAYGRAAAAAAAAgbEAAAAAAABBuQAAAAAAAgGNAAAAAAABAY0AAAAAAAABzQAAAAAAA4HVAAAAAAADgdUAAAAAAAOB1QAAAAAAAAHlAAAAAAADgc0AAAAAAAPB1QAAAAAAAAHNAAAAAAADwdUAAAAAAAOB1QAAAAAAA4HNAAAAAAAAAeUA=\",\"dtype\":\"float64\",\"order\":\"little\",\"shape\":[58]},\"displ_75%\":{\"__ndarray__\":\"AAAAAAAgUkAAAAAAAPBhQAAAAAAAgFxAAAAAAABAXkAAAAAAAOBiQAAAAAAAgGFAAAAAAACAYUAAAAAAAIBjQAAAAAAAsFtAAAAAAADgYEAAAAAAABBZQAAAAAAAgGFAAAAAAADAWkAAAAAAAJBYQAAAAAAAQGJAAAAAAAAAXUAAAAAAAABeQAAAAAAA4GJAAAAAAAAAXUAAAAAAAFBgQAAAAAAAeGBAAAAAAADgYkAAAAAAAKBYQAAAAAAAQF5AAAAAAADwWEAAAAAAACBdQAAAAAAAgF5AAAAAAABAWEAAAAAAANBeQAAAAAAAEGBAAAAAAADgZkAAAAAAACBwQAAAAAAA4GxAAAAAAABAb0AAAAAAACBsQAAAAAAAoGNAAAAAAAAgbEAAAAAAAEBvQAAAAAAAAGVAAAAAAACQakAAAAAAAPhtQAAAAAAAYGRAAAAAAAAgbEAAAAAAAEBvQAAAAAAAQGRAAAAAAADQY0AAAAAAAOBzQAAAAAAAKHlAAAAAAADgdUAAAAAAAOB1QAAAAAAAoHlAAAAAAADgc0AAAAAAAPB1QAAAAAAAAHNAAAAAAADQekAAAAAAAOB1QAAAAAAA6HRAAAAAAAAAeUA=\",\"dtype\":\"float64\",\"order\":\"little\",\"shape\":[58]},\"displ_count\":{\"__ndarray__\":\"AAAAAAAAEEAAAAAAAAAAQAAAAAAAABRAAAAAAAAAAEAAAAAAAAAIQAAAAAAAAPA/AAAAAAAAMEAAAAAAAADwPwAAAAAAADRAAAAAAAAAKEAAAAAAAAAgQAAAAAAAADBAAAAAAAAAKkAAAAAAAAAgQAAAAAAAAPA/AAAAAAAAAEAAAAAAAADwPwAAAAAAAPA/AAAAAAAAEEAAAAAAAAAcQAAAAAAAACRAAAAAAAAAFEAAAAAAAAAIQAAAAAAAABBAAAAAAAAAEEAAAAAAAAA3QAAAAAAAAPA/AAAAAAAANkAAAAAAAAAQQAAAAAAAAABAAAAAAAAA8D8AAAAAAAAxQAAAAAAAABxAAAAAAAAAJkAAAAAAAADwPwAAAAAAAAhAAAAAAAAAEEAAAAAAAAAoQAAAAAAAAPA/AAAAAAAAEEAAAAAAAAAAQAAAAAAAAPA/AAAAAAAAJkAAAAAAAAAQQAAAAAAAAAhAAAAAAAAAAEAAAAAAAAAgQAAAAAAAABxAAAAAAAAAAEAAAAAAAAA0QAAAAAAAABBAAAAAAAAAKEAAAAAAAAA0QAAAAAAAAPA/AAAAAAAAFEAAAAAAAAAcQAAAAAAAACRAAAAAAAAAHEA=\",\"dtype\":\"float64\",\"order\":\"little\",\"shape\":[58]},\"displ_max\":{\"__ndarray__\":\"AAAAAAAAVEAAAAAAAOBiQAAAAAAAwFxAAAAAAABAXkAAAAAAAOBiQAAAAAAAgGFAAAAAAADgYkAAAAAAAIBjQAAAAAAAwF1AAAAAAACAY0AAAAAAAABdQAAAAAAAgGFAAAAAAAAAXkAAAAAAAABeQAAAAAAAQGJAAAAAAACAXkAAAAAAAABeQAAAAAAA4GJAAAAAAAAAXUAAAAAAAKBhQAAAAAAAgGNAAAAAAADgYkAAAAAAAEBZQAAAAAAAQF5AAAAAAAAAW0AAAAAAAABiQAAAAAAAgF5AAAAAAABAXkAAAAAAAEBgQAAAAAAAYGBAAAAAAADgZkAAAAAAACBwQAAAAAAA4GxAAAAAAABAb0AAAAAAACBsQAAAAAAAAGVAAAAAAAAgbEAAAAAAAEBvQAAAAAAAAGVAAAAAAABAb0AAAAAAAGBwQAAAAAAAYGRAAAAAAAAgbEAAAAAAAEBvQAAAAAAAAGVAAAAAAABgZEAAAAAAAGB4QAAAAAAAcHxAAAAAAADgdUAAAAAAAGB8QAAAAAAAgHtAAAAAAADwd0AAAAAAANB6QAAAAAAAAHNAAAAAAADQekAAAAAAAOB1QAAAAAAAgHtAAAAAAABwfEA=\",\"dtype\":\"float64\",\"order\":\"little\",\"shape\":[58]},\"displ_mean\":{\"__ndarray__\":\"AAAAAAAgUkAAAAAAAABhQM3MzMzMjFpAAAAAAABAXkBVVVVVVTVhQAAAAAAAgGFAAAAAAAA4XkAAAAAAAIBjQAAAAAAA8FdAq6qqqqoyXUAAAAAAAAhXQAAAAAAAmF9A7MRO7MROWEAAAAAAANhXQAAAAAAAQGJAAAAAAACAW0AAAAAAAABeQAAAAAAA4GJAAAAAAADQW0Dbtm3btq1dQAAAAAAAoFxAAAAAAACgYUAAAAAAAABXQAAAAAAAMF1AAAAAAADwWEAhC1nIQlZaQAAAAAAAgF5Ao4suuujCV0AAAAAAANBeQAAAAAAAgF9AAAAAAADgZkB4eHh4eHhtQLdt27Zt+2tAL7rooovubEAAAAAAACBsQKuqqqqqKmNAAAAAAAAgbEAAAAAAAChsQAAAAAAAAGVAAAAAAAAoaUAAAAAAADBrQAAAAAAAYGRAdNFFF100a0AAAAAAABBuQAAAAAAAAGRAAAAAAABAY0AAAAAAABx0QAAAAAAAwHdAAAAAAADgdUAzMzMzMyt1QAAAAAAAAHlAVVVVVVWNdEAzMzMzMyN1QAAAAAAAAHNAmpmZmZmpdkBu27Zt23ZzQJqZmZmZCXVA27Zt27Z9eUA=\",\"dtype\":\"float64\",\"order\":\"little\",\"shape\":[58]},\"displ_min\":{\"__ndarray__\":\"AAAAAACAUUAAAAAAAEBeQAAAAAAAQFhAAAAAAABAXkAAAAAAAMBbQAAAAAAAgGFAAAAAAABAVUAAAAAAAIBjQAAAAAAAAFJAAAAAAACAVkAAAAAAAABRQAAAAAAAgFhAAAAAAABAVEAAAAAAAIBTQAAAAAAAQGJAAAAAAACAWEAAAAAAAABeQAAAAAAA4GJAAAAAAABAWEAAAAAAAMBTQAAAAAAAgFVAAAAAAAAAXEAAAAAAAMBTQAAAAAAAAFpAAAAAAABAWEAAAAAAAMBRQAAAAAAAgF5AAAAAAADAU0AAAAAAAEBeQAAAAAAAQF5AAAAAAADgZkAAAAAAAOBoQAAAAAAAoGZAAAAAAACgZUAAAAAAACBsQAAAAAAAQGJAAAAAAAAgbEAAAAAAAGBlQAAAAAAAAGVAAAAAAABgY0AAAAAAAKBlQAAAAAAAYGRAAAAAAADAaEAAAAAAAOBsQAAAAAAAgGNAAAAAAAAgYkAAAAAAAABzQAAAAAAA4HVAAAAAAADgdUAAAAAAAGBwQAAAAAAAgHZAAAAAAADgc0AAAAAAAOByQAAAAAAAAHNAAAAAAADgckAAAAAAAEBwQAAAAAAA4HNAAAAAAAAAeUA=\",\"dtype\":\"float64\",\"order\":\"little\",\"shape\":[58]},\"displ_std\":{\"__ndarray__\":\"AAAAAAAAFEAQSBeAlDY1QND+0iqIDSFAAAAAAAAAAADkP/QWERg3QAAAAAAAAPh/+dfIUHQBNkAAAAAAAAD4f/nXYs/oXy9AxlMEvhOzOECcmejwqUMuQEJ62kW6XTBA7/H89MrVJEDxy9ekg5ovQAAAAAAAAPh/2WzfzHb4MEAAAAAAAAD4fwAAAAAAAPh/AAAAAAAAI0Aa/8QMgwU1QMkv4IyP+DVA6BO8GJHlMEAyXl4LrBAnQAAAAAAAACFAAAAAAAAAFkADTF/qck41QAAAAAAAAPh/ueUP92yCIEAAAAAAAAASQMAKHwDGSBxAAAAAAAAA+H8NBy84wzoyQKw5M/zx5TJAhDQMOmhCQEAAAAAAAAD4f0ZGpv9FZylAAAAAAAAAAABMLSA/PfE8QAAAAAAAAPh/0EggZLxnQ0Ao74hGXHdPQAAAAAAAAPh/pawegC45KUCxPJuidvAlQKpMWOh6thtARiNPM7J0KUBdkHKATOpAQOzL2mkMnklAAAAAAAAAAADTDvECpxJIQKebB2Z2VEBAVTCdeBxNOUBImiRDcqJDQAAAAAAAAPh/5Oc7bEXqT0DbMo/ysg1IQOdiu+j4fENAC1k4Yr3JNEA=\",\"dtype\":\"float64\",\"order\":\"little\",\"shape\":[58]},\"hp_25%\":{\"__ndarray__\":\"AAAAAADQV0AAAAAAAKBUQAAAAAAAwFRAAAAAAACwW0AAAAAAAIBUQAAAAAAAAFdAAAAAAABgUUAAAAAAAABXQAAAAAAAoFBAAAAAAADwU0AAAAAAACBRQAAAAAAAUFNAAAAAAAAATkAAAAAAAEBQQAAAAAAAwFBAAAAAAACAUkAAAAAAAABWQAAAAAAAQFVAAAAAAABQU0AAAAAAAOBSQAAAAAAAYFBAAAAAAABAVUAAAAAAAMBPQAAAAAAAkFpAAAAAAADAUEAAAAAAAOBQQAAAAAAAAFZAAAAAAABASkAAAAAAAEBZQAAAAAAAAFNAAAAAAABAU0AAAAAAAIBWQAAAAAAA4FpAAAAAAAAAWUAAAAAAAEBVQAAAAAAAIFtAAAAAAABgWEAAAAAAAABVQAAAAAAAAF5AAAAAAABwVEAAAAAAACBXQAAAAAAAoGBAAAAAAADAV0AAAAAAAPBZQAAAAAAAAFxAAAAAAAAQVkAAAAAAAMBiQAAAAAAAYGNAAAAAAABYYUAAAAAAADBhQAAAAAAAgGZAAAAAAAD4YUAAAAAAAHhhQAAAAAAAIGhAAAAAAABAYUAAAAAAAOBaQAAAAAAAwGJAAAAAAADgZUA=\",\"dtype\":\"float64\",\"order\":\"little\",\"shape\":[58]},\"hp_50%\":{\"__ndarray__\":\"AAAAAACgWEAAAAAAAEBVQAAAAAAAgFZAAAAAAADgW0AAAAAAAABVQAAAAAAAAFdAAAAAAACgU0AAAAAAAABXQAAAAAAAgFFAAAAAAABgVEAAAAAAAMBSQAAAAAAAYFVAAAAAAADAUEAAAAAAAABRQAAAAAAAwFBAAAAAAACAU0AAAAAAAABWQAAAAAAAQFVAAAAAAADgU0AAAAAAAMBVQAAAAAAAgFFAAAAAAAAAVkAAAAAAAEBRQAAAAAAAIFxAAAAAAADAUEAAAAAAAMBSQAAAAAAAAFZAAAAAAACAUUAAAAAAAMBaQAAAAAAAQFVAAAAAAABAU0AAAAAAAABZQAAAAAAAgFtAAAAAAABAWkAAAAAAAEBVQAAAAAAAAF5AAAAAAABAWkAAAAAAAABWQAAAAAAAAF5AAAAAAABAVUAAAAAAAABZQAAAAAAAoGBAAAAAAAAAWUAAAAAAAOBaQAAAAAAAAF1AAAAAAAAgWUAAAAAAAMBiQAAAAAAAoGRAAAAAAAAQY0AAAAAAACBiQAAAAAAAwGdAAAAAAADAYkAAAAAAACBiQAAAAAAAIGhAAAAAAABgYUAAAAAAAIBbQAAAAAAAwGJAAAAAAADgZUA=\",\"dtype\":\"float64\",\"order\":\"little\",\"shape\":[58]},\"hp_75%\":{\"__ndarray__\":\"AAAAAACgWUAAAAAAAOBVQAAAAAAAwFZAAAAAAAAQXEAAAAAAAMBVQAAAAAAAAFdAAAAAAAAgVkAAAAAAAABXQAAAAAAAIFdAAAAAAAAAVUAAAAAAAKBTQAAAAAAAAFZAAAAAAAAAUkAAAAAAAGBRQAAAAAAAwFBAAAAAAACAVEAAAAAAAABWQAAAAAAAQFVAAAAAAADQVEAAAAAAAOBVQAAAAAAAAFVAAAAAAACAVkAAAAAAAABTQAAAAAAAwFxAAAAAAABgUkAAAAAAAMBXQAAAAAAAAFZAAAAAAABQUkAAAAAAAABcQAAAAAAAgFdAAAAAAABAU0AAAAAAAABZQAAAAAAAgFtAAAAAAADgWkAAAAAAAEBVQAAAAAAAgF9AAAAAAACAW0AAAAAAAJBWQAAAAAAAAF5AAAAAAACgVkAAAAAAAOBaQAAAAAAAoGBAAAAAAACgWUAAAAAAANBbQAAAAAAAwF1AAAAAAAAwXEAAAAAAAIhjQAAAAAAAAGlAAAAAAADIZEAAAAAAADhjQAAAAAAAiGhAAAAAAABgY0AAAAAAAEhjQAAAAAAAIGhAAAAAAADAaEAAAAAAAEBlQAAAAAAAsGNAAAAAAABQaUA=\",\"dtype\":\"float64\",\"order\":\"little\",\"shape\":[58]},\"hp_count\":{\"__ndarray__\":\"AAAAAAAAEEAAAAAAAAAAQAAAAAAAABRAAAAAAAAAAEAAAAAAAAAIQAAAAAAAAPA/AAAAAAAAMEAAAAAAAADwPwAAAAAAADRAAAAAAAAAKEAAAAAAAAAgQAAAAAAAADBAAAAAAAAAKkAAAAAAAAAgQAAAAAAAAPA/AAAAAAAAAEAAAAAAAADwPwAAAAAAAPA/AAAAAAAAEEAAAAAAAAAcQAAAAAAAACRAAAAAAAAAFEAAAAAAAAAIQAAAAAAAABBAAAAAAAAAEEAAAAAAAAA3QAAAAAAAAPA/AAAAAAAANkAAAAAAAAAQQAAAAAAAAABAAAAAAAAA8D8AAAAAAAAxQAAAAAAAABxAAAAAAAAAJkAAAAAAAADwPwAAAAAAAAhAAAAAAAAAEEAAAAAAAAAoQAAAAAAAAPA/AAAAAAAAEEAAAAAAAAAAQAAAAAAAAPA/AAAAAAAAJkAAAAAAAAAQQAAAAAAAAAhAAAAAAAAAAEAAAAAAAAAgQAAAAAAAABxAAAAAAAAAAEAAAAAAAAA0QAAAAAAAABBAAAAAAAAAKEAAAAAAAAA0QAAAAAAAAPA/AAAAAAAAFEAAAAAAAAAcQAAAAAAAACRAAAAAAAAAHEA=\",\"dtype\":\"float64\",\"order\":\"little\",\"shape\":[58]},\"hp_max\":{\"__ndarray__\":\"AAAAAACAW0AAAAAAAIBWQAAAAAAAwFdAAAAAAABAXEAAAAAAAIBWQAAAAAAAAFdAAAAAAACAVkAAAAAAAABXQAAAAAAAAFlAAAAAAABAWkAAAAAAAIBWQAAAAAAAAFdAAAAAAABAWEAAAAAAAMBSQAAAAAAAwFBAAAAAAACAVUAAAAAAAABWQAAAAAAAQFVAAAAAAACAVkAAAAAAAABWQAAAAAAAQFpAAAAAAACAVkAAAAAAAMBUQAAAAAAAwFxAAAAAAABAV0AAAAAAAEBYQAAAAAAAAFZAAAAAAACAU0AAAAAAAABcQAAAAAAAwFlAAAAAAABAU0AAAAAAAABeQAAAAAAAoGRAAAAAAADAXEAAAAAAAEBVQAAAAAAAgGBAAAAAAACAW0AAAAAAAABcQAAAAAAAAF5AAAAAAADAWkAAAAAAAMBcQAAAAAAAoGBAAAAAAABAWkAAAAAAAMBcQAAAAAAAgF5AAAAAAABAX0AAAAAAAMBnQAAAAAAAIGxAAAAAAACAZkAAAAAAAIBrQAAAAAAA4GpAAAAAAABAakAAAAAAAOBqQAAAAAAAIGhAAAAAAAAAakAAAAAAAIBmQAAAAAAA4GpAAAAAAADAbEA=\",\"dtype\":\"float64\",\"order\":\"little\",\"shape\":[58]},\"hp_mean\":{\"__ndarray__\":\"AAAAAADQWEAAAAAAAEBVQJqZmZmZ2VVAAAAAAADgW0CrqqqqqipVQAAAAAAAAFdAAAAAAABYU0AAAAAAAABXQM3MzMzMvFNAq6qqqqraVEAAAAAAAFhSQAAAAAAASFRAYid2Yif2UEAAAAAAALhQQAAAAAAAwFBAAAAAAACAU0AAAAAAAABWQAAAAAAAQFVAAAAAAABAVEBJkiRJkmRUQJqZmZmZOVNAzczMzMyMVUAAAAAAAIBRQAAAAAAAMFtAAAAAAABgUkDTm970pvdTQAAAAAAAAFZA6aKLLroIUEAAAAAAAIBaQAAAAAAAQFVAAAAAAABAU0Di4eHh4eFYQLdt27ZtG11ARhdddNEFWkAAAAAAAEBVQFVVVVVVFV1AAAAAAACgWUBVVVVVVRVWQAAAAAAAAF5AAAAAAADQVUAAAAAAAABZQAAAAAAAoGBARhdddNHFWEAAAAAAAOBaQFVVVVVV1VxAAAAAAAAgWUAAAAAAAExjQCVJkiRJUmZAAAAAAAAQY0AAAAAAAMhiQAAAAAAASGdAq6qqqqp6Y0BmZmZmZu5iQAAAAAAAIGhAMzMzMzNTZEAlSZIkSbJgQAAAAAAA8GNAAAAAAADAZ0A=\",\"dtype\":\"float64\",\"order\":\"little\",\"shape\":[58]},\"hp_min\":{\"__ndarray__\":\"AAAAAACAVkAAAAAAAABUQAAAAAAAgFNAAAAAAACAW0AAAAAAAABUQAAAAAAAAFdAAAAAAAAASkAAAAAAAABXQAAAAAAAgE5AAAAAAADAUkAAAAAAAIBIQAAAAAAAQFBAAAAAAACASkAAAAAAAABKQAAAAAAAwFBAAAAAAACAUUAAAAAAAABWQAAAAAAAQFVAAAAAAADAUkAAAAAAAIBRQAAAAAAAgE9AAAAAAACAU0AAAAAAAABNQAAAAAAAwFdAAAAAAADAUEAAAAAAAABKQAAAAAAAAFZAAAAAAAAAR0AAAAAAAIBYQAAAAAAAwFBAAAAAAABAU0AAAAAAAIBWQAAAAAAAQFpAAAAAAADAV0AAAAAAAEBVQAAAAAAAQFhAAAAAAACAVkAAAAAAAABSQAAAAAAAAF5AAAAAAAAAUkAAAAAAAEBVQAAAAAAAoGBAAAAAAADAV0AAAAAAAABZQAAAAAAAAFtAAAAAAAAAU0AAAAAAAABeQAAAAAAAwGJAAAAAAABAX0AAAAAAAIBbQAAAAAAAwGJAAAAAAADgYEAAAAAAACBgQAAAAAAAIGhAAAAAAABAYEAAAAAAAIBWQAAAAAAAwGJAAAAAAABAZUA=\",\"dtype\":\"float64\",\"order\":\"little\",\"shape\":[58]},\"hp_std\":{\"__ndarray__\":\"sTIWI2yaIEDACh8AxkgcQM2mvFe3NxtA2WzfzHb4AEA9iuQyBSIUQAAAAAAAAPh/LxLx8lwQKUAAAAAAAAD4f7oBlQW4kSxAKyfK5qleIEDIXtM5uhcpQCLax4ZuQSJAmr4/3QmgJkAEGqqKID0cQAAAAAAAAPh/zTt/Zp6gJkAAAAAAAAD4fwAAAAAAAPh/ZBImSkfsGUBYoQIYXR4gQPI+Tscsci1AOwacb3AUFEDkEORzVw8pQDylNHUA7iJAAAAAAAAAKkDA1T6E9ZotQAAAAAAAAPh/R+IBRJI+J0B4fOOq4ngcQEYjTzOydDlAAAAAAAAA+H8OCGcakIkhQDvrojUbjDVAAFRCNN9aF0AAAAAAAAD4f1p+aLQnyTFAyFjS2wYmI0BKVjPp6rMkQAAAAAAAAPh/C73Aw8ILLUAQSBeAlDY1QAAAAAAAAPh/Jna3ky16EUC1wWw+5NEZQIGe5vFWGBxAyWl5RvlSQUB34pp5zZo0QKdc+kkcYEBAZFcVIAhyQ0DmC02WHw05QOlioZ4Z4zpAMoQKyAEyNUDMHEDTpyA2QAAAAAAAAPh/0QbwVkCbQkA+baHJ9i9DQEApF6jZmzRAtcFsPuTROUA=\",\"dtype\":\"float64\",\"order\":\"little\",\"shape\":[58]},\"mpg_25%\":{\"__ndarray__\":\"AAAAAADAMkAzMzMzMxM5QAAAAAAAADdAAAAAAACgNkAAAAAAAIA7QAAAAAAAADlAAAAAAADgOEAAAAAAAAA6QGZmZmZmJjtAzMzMzMxsO0AAAAAAAAA6QDMzMzMz0zZAAAAAAAAAQEBnZmZmZoY/QAAAAAAAAD5AAAAAAABAOkAAAAAAAABCQM3MzMzMzDdAAAAAAADAOEAAAAAAAAA2QM3MzMzMTDpAAAAAAACAOEAAAAAAAIA6QGZmZmZmZjdAAAAAAAAAPUAAAAAAAIA4QAAAAAAAgEFAAAAAAABAOkAAAAAAAMAyQDMzMzMzUzhAZmZmZmZmOUAAAAAAAAAyQJqZmZmZGTNAAAAAAAAAMECamZmZmZkxQJqZmZmZGTdAmpmZmZn5MkAAAAAAAAAyQAAAAAAAgDBAmpmZmZmZMkCamZmZmZk9QDMzMzMzMzBAAAAAAAAAMkAAAAAAAOAyQAAAAAAAgDNAzczMzMxsNEAAAAAAAAAsQAAAAAAAACpAAAAAAAAgMkAAAAAAAAAqQAAAAAAAACpAAAAAAACAK0AAAAAAAAAqQAAAAAAAACJAAAAAAAAAKEAAAAAAAAAoQAAAAAAAACxAAAAAAAAALEA=\",\"dtype\":\"float64\",\"order\":\"little\",\"shape\":[58]},\"mpg_50%\":{\"__ndarray__\":\"AAAAAABANECamZmZmdk5QAAAAAAAADhAAAAAAADAN0BmZmZmZmY8QAAAAAAAADlAAAAAAAAAPEAAAAAAAAA6QAAAAAAAAEBAAAAAAACAPEAAAAAAAIA8QAAAAAAAwDlAAAAAAACAQECamZmZmblAQAAAAAAAAD5AAAAAAACAPUAAAAAAAABCQM3MzMzMzDdAAAAAAACAOUAAAAAAAAA5QM3MzMzMDEBAAAAAAAAAO0AAAAAAAAA7QAAAAAAAgDhAZmZmZmYmP0AAAAAAAAA9QAAAAAAAgEFAZmZmZmamPUAAAAAAAIAzQJqZmZmZWTxAZmZmZmZmOUCamZmZmRkyQJqZmZmZmTRAAAAAAACAMUCamZmZmZkxQDMzMzMzMzhAzczMzMyMM0AAAAAAAMAyQAAAAAAAgDBAzczMzMxMNEAzMzMzMzNAQDMzMzMzMzBAAAAAAAAAM0CamZmZmRkzQAAAAAAAADRAmpmZmZnZN0AAAAAAAAAuQAAAAAAAACpAAAAAAADAM0AAAAAAAAAuQAAAAAAAgCxAAAAAAAAALkAAAAAAAAAsQAAAAAAAACJAAAAAAAAALkAAAAAAAAAxQAAAAAAAACxAAAAAAAAALEA=\",\"dtype\":\"float64\",\"order\":\"little\",\"shape\":[58]},\"mpg_75%\":{\"__ndarray__\":\"zczMzMwMNkAAAAAAAKA6QAAAAAAAAD1AAAAAAADgOEAzMzMzMzM9QAAAAAAAADlAAAAAAAAgPkAAAAAAAAA6QAAAAAAAgEJAAAAAAAAwQEAAAAAAAEA+QAAAAAAAQDtAAAAAAAAAQkCamZmZmWlBQAAAAAAAAD5AAAAAAABgQEAAAAAAAABCQM3MzMzMzDdAAAAAAACAOkBmZmZmZqY7QDQzMzMzU0FAAAAAAAAAP0AAAAAAAIA/QAAAAAAAADlAZmZmZmZWQEDNzMzMzAxAQAAAAAAAgEFAAAAAAACgQUAAAAAAAIA0QAAAAAAAMEBAZmZmZmZmOUBmZmZmZmYzQDMzMzMzszVAAAAAAABANUCamZmZmZkxQDQzMzMzczxAZmZmZmYmNEBmZmZmZmY0QAAAAAAAgDBAmpmZmZnZNECamZmZmZlBQDMzMzMzMzBAAAAAAABANUBmZmZmZsYzQDMzMzMzszZAZmZmZmZGO0AAAAAAAEAvQAAAAAAAAC1AAAAAAABgNUAAAAAAAIAxQAAAAAAAQDBAAAAAAABgMEAAAAAAAEAvQAAAAAAAACJAAAAAAACAMEBmZmZmZuY1QAAAAAAAgC1AAAAAAAAAMEA=\",\"dtype\":\"float64\",\"order\":\"little\",\"shape\":[58]},\"mpg_count\":{\"__ndarray__\":\"AAAAAAAAEEAAAAAAAAAAQAAAAAAAABRAAAAAAAAAAEAAAAAAAAAIQAAAAAAAAPA/AAAAAAAAMEAAAAAAAADwPwAAAAAAADRAAAAAAAAAKEAAAAAAAAAgQAAAAAAAADBAAAAAAAAAKkAAAAAAAAAgQAAAAAAAAPA/AAAAAAAAAEAAAAAAAADwPwAAAAAAAPA/AAAAAAAAEEAAAAAAAAAcQAAAAAAAACRAAAAAAAAAFEAAAAAAAAAIQAAAAAAAABBAAAAAAAAAEEAAAAAAAAA3QAAAAAAAAPA/AAAAAAAANkAAAAAAAAAQQAAAAAAAAABAAAAAAAAA8D8AAAAAAAAxQAAAAAAAABxAAAAAAAAAJkAAAAAAAADwPwAAAAAAAAhAAAAAAAAAEEAAAAAAAAAoQAAAAAAAAPA/AAAAAAAAEEAAAAAAAAAAQAAAAAAAAPA/AAAAAAAAJkAAAAAAAAAQQAAAAAAAAAhAAAAAAAAAAEAAAAAAAAAgQAAAAAAAABxAAAAAAAAAAEAAAAAAAAA0QAAAAAAAABBAAAAAAAAAKEAAAAAAAAA0QAAAAAAAAPA/AAAAAAAAFEAAAAAAAAAcQAAAAAAAACRAAAAAAAAAHEA=\",\"dtype\":\"float64\",\"order\":\"little\",\"shape\":[58]},\"mpg_max\":{\"__ndarray__\":\"MzMzMzOzN0BmZmZmZmY7QGZmZmZmJkFAAAAAAAAAOkAAAAAAAAA+QAAAAAAAADlAAAAAAAAAQUAAAAAAAAA6QGZmZmZmZkRAAAAAAAAAQkBmZmZmZqZCQM3MzMzMDEJAzczMzMxMRkDNzMzMzExHQAAAAAAAAD5AAAAAAAAAQkAAAAAAAABCQM3MzMzMzDdAAAAAAAAAPEAAAAAAAAA+QAAAAAAAgENAAAAAAADAQEAAAAAAAABCQAAAAAAAADlAZmZmZmbmQEDNzMzMzIxDQAAAAAAAgEFAZmZmZmYmRkAAAAAAAAA2QDMzMzMzM0JAZmZmZmZmOUAAAAAAAIA2QAAAAAAAADlAzczMzMzMPECamZmZmZkxQJqZmZmZWUBAmpmZmZmZNEAAAAAAAAA4QAAAAAAAgDBAAAAAAAAANUAAAAAAAABDQDMzMzMzMzBAAAAAAAAAN0AAAAAAAIA1QGZmZmZmZjlAMzMzMzOzPkAAAAAAAAAxQGZmZmZm5jBAAAAAAAAAN0AAAAAAAAA0QAAAAAAAgDJAZmZmZmZmM0CamZmZmRkyQAAAAAAAACJAMzMzMzMzNECamZmZmZk6QAAAAAAAADJAAAAAAAAAMEA=\",\"dtype\":\"float64\",\"order\":\"little\",\"shape\":[58]},\"mpg_mean\":{\"__ndarray__\":\"zczMzMyMNECamZmZmdk5QJDC9ShcDzpAAAAAAADAN0BVVVVVVVU8QAAAAAAAADlAmpmZmZlRO0AAAAAAAAA6QPUoXI/C1T9AERERERHRPUCamZmZmek8QDIzMzMzAzpAF3qhF3rhQEAAAAAAAGhBQAAAAAAAAD5AAAAAAACAPUAAAAAAAABCQM3MzMzMzDdAAAAAAADAOUAd1EEd1ME4QHsUrkfhOj9AzczMzMzMO0Crqqqqqqo9QGZmZmZm5jdAZmZmZmaGPkBqq8FzBAo9QAAAAAAAgEFAFl100UXXP0AAAAAAAMAzQJqZmZmZWTxAZmZmZmZmOUAhISEhIaEyQJmZmZmZmTRAnxLkKUEeM0CamZmZmZkxQM3MzMzMTDpANDMzMzOTM0AzMzMzM1MzQAAAAAAAgDBAZmZmZmYmM0AzMzMzMzNAQDMzMzMzMzBAF1100UWXM0DNzMzMzIwzQHh3d3d3dzVAmpmZmZnZN0AAAAAAAOAtQPmKr/iKrytAAAAAAADAM0AK16NwPUouQAAAAAAAAC5ARERERERELkDrUbgehassQAAAAAAAACJA4noUrkfhLUDGV3zFV3wxQAAAAAAAAC1A27Zt27ZtLUA=\",\"dtype\":\"float64\",\"order\":\"little\",\"shape\":[58]},\"mpg_min\":{\"__ndarray__\":\"AAAAAAAAMkDNzMzMzEw4QAAAAAAAADRAAAAAAACANUCamZmZmZk6QAAAAAAAADlAAAAAAAAANEAAAAAAAAA6QAAAAAAAADZAAAAAAAAAOUAAAAAAAAA4QAAAAAAAADNAAAAAAAAAOEAAAAAAAAA/QAAAAAAAAD5AAAAAAAAAN0AAAAAAAABCQM3MzMzMzDdAAAAAAAAAOEAAAAAAAAAzQDMzMzMzMzdAAAAAAAAAN0AAAAAAAAA6QJqZmZmZmTVAAAAAAAAAOkAAAAAAAAA0QAAAAAAAgEFAAAAAAAAANkAAAAAAAAAyQM3MzMzMTDRAZmZmZmZmOUAAAAAAAAAuQAAAAAAAADFAAAAAAAAALkCamZmZmZkxQAAAAAAAADZAmpmZmZmZMkAAAAAAAAAuQAAAAAAAgDBAAAAAAAAALkDNzMzMzMw6QDMzMzMzMzBAAAAAAAAAMEAAAAAAAIAyQAAAAAAAADNAAAAAAAAAMUAAAAAAAAAqQAAAAAAAAChAAAAAAACAMEAAAAAAAAAkQAAAAAAAACpAAAAAAAAAJkAAAAAAAAAkQAAAAAAAACJAAAAAAAAAJkAAAAAAAAAmQAAAAAAAACpAAAAAAAAAKkA=\",\"dtype\":\"float64\",\"order\":\"little\",\"shape\":[58]},\"mpg_std\":{\"__ndarray__\":\"ca9eOxmEBEDuZ2+PR4kBQEoKBd4JhxZARiNPM7J0CUBFpF/rNjf7PwAAAAAAAPh/urWdO9DbD0AAAAAAAAD4f2F5uw9NCBZAPs/+nwk+DkBkzHIpO2kQQDLD7CMzNhJAcb+tQ7cOE0Afg1pvTZ4UQAAAAAAAAPh/lmBHs4BiIkAAAAAAAAD4fwAAAAAAAPh/DGLpcEBT+z8dTFSH0NYPQHeSF+RxURZAtk+agoaVEUDKBtSSwAcWQCpmF/6kqvk/z+0aa+0tC0CNRJ/7lD4VQAAAAAAAAPh/M1/gQ+RmHEAMYulwQFP7P5I6I5fSxCZAAAAAAAAA+H9x2LOz9Cn8PzIJf4/TsgVAkwuaddjbEEAAAAAAAAD4f9z6Q5RHmhZAr6hmWJaq7D8UE9sdnakCQAAAAAAAAPh/a1a8aTiHBkBR7X6Pqq0fQAAAAAAAAPh/gtY0vSoMAUAptL5boFP1Py2Bit39igtAAVjDB+5fI0CVfHAmaUH0P1zHVUIgUvo/lmBHs4BiEkAOM5pJpl8GQNiUMqma6QRAGf4MvyO6A0D19nIPF17/PwAAAAAAAPh/8szklsJ3DUCH39aAveYYQC+gIkHPJfg/TDtjlJsO9D8=\",\"dtype\":\"float64\",\"order\":\"little\",\"shape\":[58]},\"weight_25%\":{\"__ndarray__\":\"AAAAAADNoUAAAAAAgIKlQAAAAAAAVqFAAAAAAAArokAAAAAAALaiQAAAAAAAGKRAAAAAAIDjoEAAAAAAADKkQAAAAAAAJ59AAAAAAICboEAAAAAAgAGgQAAAAAAAdaJAAAAAAAAgnEAAAAAAAPqeQAAAAAAAZKlAAAAAAIDJoEAAAAAAAOCgQAAAAAAATqZAAAAAAIDKoEAAAAAAAP2lQAAAAACApqBAAAAAAAAepEAAAAAAAFyfQAAAAACAOaRAAAAAAAD0n0AAAAAAADagQAAAAAAAiKNAAAAAAABEnkAAAAAAgMmmQAAAAAAAWKZAAAAAAACUq0AAAAAAAKqmQAAAAAAAE6lAAAAAAAAhqUAAAAAAABKrQAAAAAAAXaZAAAAAAIBfqkAAAAAAgEanQAAAAAAA2K1AAAAAAABZpkAAAAAAgLWlQAAAAAAApKpAAAAAAABPqEAAAAAAgJGpQAAAAAAAS6ZAAAAAAACSqEAAAAAAALCsQAAAAAAAca5AAAAAAABor0AAAAAAgNitQAAAAADAhLBAAAAAAABMrUAAAAAAAD6vQAAAAAAAfLJAAAAAAADmrkAAAAAAAKyrQAAAAACADK9AAAAAAIDrsEA=\",\"dtype\":\"float64\",\"order\":\"little\",\"shape\":[58]},\"weight_50%\":{\"__ndarray__\":\"AAAAAACOokAAAAAAACmmQAAAAAAA/KJAAAAAAADiokAAAAAAAJakQAAAAAAAGKRAAAAAAADJokAAAAAAADKkQAAAAAAAVKBAAAAAAACFoUAAAAAAAI6gQAAAAAAARqRAAAAAAAC0nkAAAAAAAFSfQAAAAAAAZKlAAAAAAAD5oEAAAAAAAOCgQAAAAAAATqZAAAAAAAAaoUAAAAAAAEanQAAAAAAAP6FAAAAAAABApEAAAAAAABqhQAAAAAAA06RAAAAAAAByoEAAAAAAALKhQAAAAAAAiKNAAAAAAAD6nkAAAAAAAPamQAAAAAAAlKZAAAAAAACUq0AAAAAAABqoQAAAAAAArqpAAAAAAAAQqkAAAAAAABKrQAAAAAAAvKZAAAAAAABZq0AAAAAAAMGnQAAAAAAA2K1AAAAAAACsp0AAAAAAAFOmQAAAAAAApKpAAAAAAACAqUAAAAAAAKGqQAAAAAAAqKZAAAAAAACcqEAAAAAAAPetQAAAAAAACLFAAAAAAAAssEAAAAAAAPSvQAAAAACAFbFAAAAAAADmrkAAAAAAgFiwQAAAAAAAfLJAAAAAAADHsEAAAAAAABqtQAAAAACAE7BAAAAAAABJsUA=\",\"dtype\":\"float64\",\"order\":\"little\",\"shape\":[58]},\"weight_75%\":{\"__ndarray__\":\"AAAAAAB+o0AAAAAAgM+mQAAAAAAALKRAAAAAAACZo0AAAAAAALmkQAAAAAAAGKRAAAAAAIBrpEAAAAAAADKkQAAAAACAH6JAAAAAAIDRokAAAAAAgJWhQAAAAACAl6VAAAAAAAA6oUAAAAAAAFShQAAAAAAAZKlAAAAAAIAooUAAAAAAAOCgQAAAAAAATqZAAAAAAACAoUAAAAAAABSpQAAAAACAd6JAAAAAAABepUAAAAAAACehQAAAAAAAHKVAAAAAAAA9oUAAAAAAAA6jQAAAAAAAiKNAAAAAAAAFoUAAAAAAgGinQAAAAAAA0KZAAAAAAACUq0AAAAAAAIKpQAAAAAAA1qpAAAAAAABDq0AAAAAAABKrQAAAAAAA0KZAAAAAAIBXrEAAAAAAAPSoQAAAAAAA2K1AAAAAAACxqEAAAAAAgPCmQAAAAAAApKpAAAAAAACMq0AAAAAAANWrQAAAAAAAxqZAAAAAAACmqEAAAAAAAIuuQAAAAACA+LFAAAAAAACksEAAAAAAAMawQAAAAABAlLFAAAAAAACOsEAAAAAAAEqxQAAAAAAAfLJAAAAAAAAZskAAAAAAAKKwQAAAAABAxbBAAAAAAADWsUA=\",\"dtype\":\"float64\",\"order\":\"little\",\"shape\":[58]},\"weight_count\":{\"__ndarray__\":\"AAAAAAAAEEAAAAAAAAAAQAAAAAAAABRAAAAAAAAAAEAAAAAAAAAIQAAAAAAAAPA/AAAAAAAAMEAAAAAAAADwPwAAAAAAADRAAAAAAAAAKEAAAAAAAAAgQAAAAAAAADBAAAAAAAAAKkAAAAAAAAAgQAAAAAAAAPA/AAAAAAAAAEAAAAAAAADwPwAAAAAAAPA/AAAAAAAAEEAAAAAAAAAcQAAAAAAAACRAAAAAAAAAFEAAAAAAAAAIQAAAAAAAABBAAAAAAAAAEEAAAAAAAAA3QAAAAAAAAPA/AAAAAAAANkAAAAAAAAAQQAAAAAAAAABAAAAAAAAA8D8AAAAAAAAxQAAAAAAAABxAAAAAAAAAJkAAAAAAAADwPwAAAAAAAAhAAAAAAAAAEEAAAAAAAAAoQAAAAAAAAPA/AAAAAAAAEEAAAAAAAAAAQAAAAAAAAPA/AAAAAAAAJkAAAAAAAAAQQAAAAAAAAAhAAAAAAAAAAEAAAAAAAAAgQAAAAAAAABxAAAAAAAAAAEAAAAAAAAA0QAAAAAAAABBAAAAAAAAAKEAAAAAAAAA0QAAAAAAAAPA/AAAAAAAAFEAAAAAAAAAcQAAAAAAAACRAAAAAAAAAHEA=\",\"dtype\":\"float64\",\"order\":\"little\",\"shape\":[58]},\"weight_max\":{\"__ndarray__\":\"AAAAAABApUAAAAAAAHanQAAAAAAADKVAAAAAAABQpEAAAAAAANykQAAAAAAAGKRAAAAAAAAMp0AAAAAAADKkQAAAAAAAbqRAAAAAAADgpUAAAAAAAECjQAAAAAAAlKZAAAAAAAByo0AAAAAAAJakQAAAAAAAZKlAAAAAAABYoUAAAAAAAOCgQAAAAAAATqZAAAAAAAD4oUAAAAAAAIypQAAAAAAAcqVAAAAAAABopUAAAAAAADShQAAAAAAA1qVAAAAAAACuokAAAAAAAC6lQAAAAAAAiKNAAAAAAACeo0AAAAAAAJyoQAAAAAAADKdAAAAAAACUq0AAAAAAACStQAAAAAAAhq5AAAAAAAByrkAAAAAAABKrQAAAAAAA5KZAAAAAAACGrEAAAAAAAOyrQAAAAAAA2K1AAAAAAADQqkAAAAAAAI6nQAAAAAAApKpAAAAAAACSrUAAAAAAAHqsQAAAAAAA5KZAAAAAAACwqEAAAAAAAKGwQAAAAAAAV7NAAAAAAAAcsUAAAAAAAIWzQAAAAAAAf7JAAAAAAABbs0AAAAAAACqzQAAAAAAAfLJAAAAAAABYs0AAAAAAAJOxQAAAAAAALrJAAAAAAAAUtEA=\",\"dtype\":\"float64\",\"order\":\"little\",\"shape\":[58]},\"weight_mean\":{\"__ndarray__\":\"AAAAAAC9okAAAAAAACmmQDMzMzMz7aJAAAAAAADiokBVVVVVVW2jQAAAAAAAGKRAAAAAAADRokAAAAAAADKkQJqZmZmZw6BAVVVVVVXnoUAAAAAAQL6gQAAAAADAsKNA2Ymd2Imdn0AAAAAAwNKgQAAAAAAAZKlAAAAAAAD5oEAAAAAAAOCgQAAAAAAATqZAAAAAAIAwoUBJkiRJkrymQAAAAAAAiKFAMzMzMzOfpEAAAAAAADCgQAAAAACAgqRAAAAAAADFoECykIUsZHWhQAAAAAAAiKNAF1100UX3n0AAAAAAADynQAAAAAAAlKZAAAAAAACUq0AtLS0tLSuoQCVJkiRJSqpAF1100UXfqUAAAAAAABKrQAAAAAAAiqZAAAAAAABeq0CrqqqqqjGoQAAAAAAA2K1AAAAAAABep0AAAAAAAFOmQAAAAAAApKpARhdddNHRqUAAAAAAgMWqQAAAAAAAfqZAAAAAAACcqEAAAAAAwNetQNu2bdu2ZrBAAAAAAAAssEDNzMzMTJ+vQAAAAACAA7FAVVVVVdVrr0BmZmZmZjiwQAAAAAAAfLJAAAAAAAC5sEAlSZIkSViuQGZmZmZmA7BAt23btm2fsUA=\",\"dtype\":\"float64\",\"order\":\"little\",\"shape\":[58]},\"weight_min\":{\"__ndarray__\":\"AAAAAACYoEAAAAAAANykQAAAAAAAGKFAAAAAAAB0oUAAAAAAANagQAAAAAAAGKRAAAAAAADMn0AAAAAAADKkQAAAAAAANJlAAAAAAADsnUAAAAAAACydQAAAAAAAIJxAAAAAAACAm0AAAAAAAMieQAAAAAAAZKlAAAAAAACaoEAAAAAAAOCgQAAAAAAATqZAAAAAAACWoEAAAAAAADSgQAAAAAAATJ1AAAAAAAD4o0AAAAAAAIScQAAAAAAAjqJAAAAAAAAEn0AAAAAAAMSZQAAAAAAAiKNAAAAAAACEnEAAAAAAAGimQAAAAAAAHKZAAAAAAACUq0AAAAAAAJSkQAAAAAAAAqdAAAAAAABGpEAAAAAAABKrQAAAAAAA/qVAAAAAAABAqkAAAAAAADakQAAAAAAA2K1AAAAAAABQo0AAAAAAABilQAAAAAAApKpAAAAAAAAipkAAAAAAAFqpQAAAAAAA7qVAAAAAAACIqEAAAAAAANKqQAAAAAAAHKhAAAAAAAB4rkAAAAAAACqpQAAAAAAAyK5AAAAAAACOqkAAAAAAAMKoQAAAAAAAfLJAAAAAAADkq0AAAAAAAEqqQAAAAAAA2KpAAAAAAAB8sEA=\",\"dtype\":\"float64\",\"order\":\"little\",\"shape\":[58]},\"weight_std\":{\"__ndarray__\":\"udhs7B3ybkDJgFML7m5tQHQOAgl5pGtAv/NEO9EscECVL0zdOvxxQAAAAAAAAPh/wW0nP4+ucEAAAAAAAAD4f4n/RC1ucG5A26bUH9Bbb0DEkgnxpclmQAu85vvhr3NAil6Fh86ebEAB/frlgRdxQAAAAAAAAPh/Ym4SkDXLUEAAAAAAAAD4fwAAAAAAAPh/hHa7rCxqU0BUF7ym5216QOLeK9lru29Aonh3zZCSVkAlPmxrOcBqQMUzbKCqNmZA0OtrWjrzZUD+ciC3ut5yQAAAAAAAAPh/lJBdHgunZkBfQzaGKodeQBBIF4CUNlVAAAAAAAAA+H8Te53iBNhzQIXSN0vAlXNAusp/48JReEAAAAAAAAD4fzG8WqBzuE5A2ZIlQU44Y0BgQC8tFi9xQAAAAAAAAPh/cuB7YIy9eECVjh7ootdrQAAAAAAAAPh/FPo7/E0Pc0D4jA+ZxktoQK9EMr99CFBAwAofAMZILEBrziyk/kduQPlKCOFf64NAEEgXgJQ2dUCHC8hBP/B5QLvciQn9eXRA2jl5n4Y0e0B/cf0JJxl+QAAAAAAAAPh/adjqBGYEgUBsLGuRdgh9QAyvRS0PL3dAzax/B+OCc0A=\",\"dtype\":\"float64\",\"order\":\"little\",\"shape\":[58]}},\"selected\":{\"id\":\"2315\"},\"selection_policy\":{\"id\":\"2314\"}},\"id\":\"2179\",\"type\":\"ColumnDataSource\"},{\"attributes\":{\"source\":{\"id\":\"2179\"}},\"id\":\"2206\",\"type\":\"CDSView\"},{\"attributes\":{},\"id\":\"2315\",\"type\":\"Selection\"},{\"attributes\":{\"axis\":{\"id\":\"2194\"},\"coordinates\":null,\"dimension\":1,\"group\":null,\"ticker\":null},\"id\":\"2197\",\"type\":\"Grid\"},{\"attributes\":{\"callback\":null,\"tooltips\":[[\"MPG\",\"@mpg_mean\"],[\"Cyl, Mfr\",\"@cyl_mfr\"]]},\"id\":\"2207\",\"type\":\"HoverTool\"},{\"attributes\":{},\"id\":\"2312\",\"type\":\"CategoricalTickFormatter\"},{\"attributes\":{},\"id\":\"2313\",\"type\":\"AllLabels\"},{\"attributes\":{},\"id\":\"2192\",\"type\":\"CategoricalTicker\"},{\"attributes\":{\"fill_color\":{\"field\":\"cyl_mfr\",\"transform\":{\"id\":\"2199\"}},\"line_color\":{\"value\":\"darkgrey\"},\"top\":{\"field\":\"mpg_mean\"},\"x\":{\"field\":\"cyl_mfr\"}},\"id\":\"2203\",\"type\":\"VBar\"},{\"attributes\":{},\"id\":\"2189\",\"type\":\"LinearScale\"},{\"attributes\":{\"fill_alpha\":{\"value\":0.1},\"fill_color\":{\"field\":\"cyl_mfr\",\"transform\":{\"id\":\"2199\"}},\"hatch_alpha\":{\"value\":0.1},\"line_alpha\":{\"value\":0.1},\"line_color\":{\"value\":\"white\"},\"top\":{\"field\":\"mpg_mean\"},\"x\":{\"field\":\"cyl_mfr\"}},\"id\":\"2202\",\"type\":\"VBar\"},{\"attributes\":{\"fill_alpha\":{\"value\":0.2},\"fill_color\":{\"field\":\"cyl_mfr\",\"transform\":{\"id\":\"2199\"}},\"hatch_alpha\":{\"value\":0.2},\"line_alpha\":{\"value\":0.2},\"line_color\":{\"value\":\"white\"},\"top\":{\"field\":\"mpg_mean\"},\"x\":{\"field\":\"cyl_mfr\"}},\"id\":\"2204\",\"type\":\"VBar\"},{\"attributes\":{\"coordinates\":null,\"data_source\":{\"id\":\"2179\"},\"glyph\":{\"id\":\"2201\"},\"group\":null,\"hover_glyph\":{\"id\":\"2203\"},\"muted_glyph\":{\"id\":\"2204\"},\"nonselection_glyph\":{\"id\":\"2202\"},\"view\":{\"id\":\"2206\"}},\"id\":\"2205\",\"type\":\"GlyphRenderer\"},{\"attributes\":{},\"id\":\"2310\",\"type\":\"AllLabels\"},{\"attributes\":{},\"id\":\"2195\",\"type\":\"BasicTicker\"},{\"attributes\":{},\"id\":\"2314\",\"type\":\"UnionRenderers\"},{\"attributes\":{\"factors\":[[\"3\",\"mazda\"],[\"4\",\"amc\"],[\"4\",\"audi\"],[\"4\",\"bmw\"],[\"4\",\"buick\"],[\"4\",\"capri\"],[\"4\",\"chevrolet\"],[\"4\",\"chrysler\"],[\"4\",\"datsun\"],[\"4\",\"dodge\"],[\"4\",\"fiat\"],[\"4\",\"ford\"],[\"4\",\"honda\"],[\"4\",\"mazda\"],[\"4\",\"mercedes\"],[\"4\",\"mercury\"],[\"4\",\"nissan\"],[\"4\",\"oldsmobile\"],[\"4\",\"opel\"],[\"4\",\"peugeot\"],[\"4\",\"plymouth\"],[\"4\",\"pontiac\"],[\"4\",\"renault\"],[\"4\",\"saab\"],[\"4\",\"subaru\"],[\"4\",\"toyota\"],[\"4\",\"triumph\"],[\"4\",\"volkswagen\"],[\"4\",\"volvo\"],[\"5\",\"audi\"],[\"5\",\"mercedes\"],[\"6\",\"amc\"],[\"6\",\"buick\"],[\"6\",\"chevrolet\"],[\"6\",\"chrysler\"],[\"6\",\"datsun\"],[\"6\",\"dodge\"],[\"6\",\"ford\"],[\"6\",\"mercedes\"],[\"6\",\"mercury\"],[\"6\",\"oldsmobile\"],[\"6\",\"peugeot\"],[\"6\",\"plymouth\"],[\"6\",\"pontiac\"],[\"6\",\"toyota\"],[\"6\",\"volvo\"],[\"8\",\"amc\"],[\"8\",\"buick\"],[\"8\",\"cadillac\"],[\"8\",\"chevrolet\"],[\"8\",\"chrysler\"],[\"8\",\"dodge\"],[\"8\",\"ford\"],[\"8\",\"hi\"],[\"8\",\"mercury\"],[\"8\",\"oldsmobile\"],[\"8\",\"plymouth\"],[\"8\",\"pontiac\"]]},\"id\":\"2183\",\"type\":\"FactorRange\"},{\"attributes\":{},\"id\":\"2187\",\"type\":\"CategoricalScale\"},{\"attributes\":{\"axis\":{\"id\":\"2191\"},\"coordinates\":null,\"grid_line_color\":null,\"group\":null,\"ticker\":null},\"id\":\"2193\",\"type\":\"Grid\"},{\"attributes\":{\"coordinates\":null,\"formatter\":{\"id\":\"2309\"},\"group\":null,\"major_label_policy\":{\"id\":\"2310\"},\"ticker\":{\"id\":\"2195\"}},\"id\":\"2194\",\"type\":\"LinearAxis\"},{\"attributes\":{\"fill_color\":{\"field\":\"cyl_mfr\",\"transform\":{\"id\":\"2199\"}},\"line_color\":{\"value\":\"white\"},\"top\":{\"field\":\"mpg_mean\"},\"x\":{\"field\":\"cyl_mfr\"}},\"id\":\"2201\",\"type\":\"VBar\"},{\"attributes\":{\"coordinates\":null,\"group\":null,\"text\":\"Mean MPG by # Cylinders and Manuf\"},\"id\":\"2181\",\"type\":\"Title\"},{\"attributes\":{\"axis_label\":\"Manufacturer grouped by # Cylinders\",\"coordinates\":null,\"formatter\":{\"id\":\"2312\"},\"group\":null,\"major_label_orientation\":1.2,\"major_label_policy\":{\"id\":\"2313\"},\"ticker\":{\"id\":\"2192\"}},\"id\":\"2191\",\"type\":\"CategoricalAxis\"},{\"attributes\":{},\"id\":\"2309\",\"type\":\"BasicTickFormatter\"},{\"attributes\":{\"tools\":[{\"id\":\"2207\"}]},\"id\":\"2198\",\"type\":\"Toolbar\"},{\"attributes\":{\"end\":1,\"factors\":[\"3\",\"4\",\"5\",\"6\",\"8\"],\"palette\":[\"#2b83ba\",\"#abdda4\",\"#ffffbf\",\"#ffffbf\"]},\"id\":\"2199\",\"type\":\"CategoricalColorMapper\"}],\"root_ids\":[\"2180\"]},\"title\":\"Bokeh Application\",\"version\":\"2.4.2\"}};\n",
       "  const render_items = [{\"docid\":\"bee1cb88-44ce-4013-b0bf-ff30390886ea\",\"root_ids\":[\"2180\"],\"roots\":{\"2180\":\"e3f9c42c-601a-4ceb-92d0-a98d92063d60\"}}];\n",
       "  root.Bokeh.embed.embed_items_notebook(docs_json, render_items);\n",
       "\n",
       "  }\n",
       "  if (root.Bokeh !== undefined) {\n",
       "    embed_document(root);\n",
       "  } else {\n",
       "    let attempts = 0;\n",
       "    const timer = setInterval(function(root) {\n",
       "      if (root.Bokeh !== undefined) {\n",
       "        clearInterval(timer);\n",
       "        embed_document(root);\n",
       "      } else {\n",
       "        attempts++;\n",
       "        if (attempts > 100) {\n",
       "          clearInterval(timer);\n",
       "          console.log(\"Bokeh: ERROR: Unable to run BokehJS code because BokehJS library is missing\");\n",
       "        }\n",
       "      }\n",
       "    }, 10, root)\n",
       "  }\n",
       "})(window);"
      ],
      "application/vnd.bokehjs_exec.v0+json": ""
     },
     "metadata": {
      "application/vnd.bokehjs_exec.v0+json": {
       "id": "2180"
      }
     },
     "output_type": "display_data"
    }
   ],
   "source": [
    "# Plot a complex chart with interactive hover in a few lines of code\n",
    "from bokeh.models import ColumnDataSource, HoverTool\n",
    "from bokeh.plotting import figure\n",
    "from bokeh.sampledata.autompg import autompg_clean as df\n",
    "from bokeh.transform import factor_cmap\n",
    "df.cyl = df.cyl.astype(str)\n",
    "df.yr = df.yr.astype(str)\n",
    "group = df.groupby(by=['cyl', 'mfr'])\n",
    "source = ColumnDataSource(group)\n",
    "p = figure(plot_width=800, plot_height=300, title=\"Mean MPG by # Cylinders and Manuf\", x_range=group, toolbar_location=None, tools=\"\")\n",
    "p.xgrid.grid_line_color = None\n",
    "p.xaxis.axis_label = \"Manufacturer grouped by # Cylinders\"\n",
    "p.xaxis.major_label_orientation = 1.2\n",
    "index_cmap = factor_cmap('cyl_mfr', palette=['#2b83ba', '#abdda4', '#ffffbf', '#ffffbf'], factors=sorted(df.cyl.unique()), end=1)\n",
    "p.vbar(x='cyl_mfr', top='mpg_mean', width=1, source=source,\n",
    "line_color=\"white\", fill_color=index_cmap,\n",
    "hover_line_color=\"darkgrey\", hover_fill_color=index_cmap)\n",
    "p.add_tools(HoverTool(tooltips=[(\"MPG\", \"@mpg_mean\"), (\"Cyl, Mfr\", \"@cyl_mfr\")]))\n",
    "show(p)"
   ]
  },
  {
   "cell_type": "code",
   "execution_count": 18,
   "id": "88289b73-851f-46e1-9aa1-44603cf1a93f",
   "metadata": {},
   "outputs": [
    {
     "data": {
      "text/html": [
       "\n",
       "        <iframe\n",
       "            width=\"900\"\n",
       "            height=\"500\"\n",
       "            src=\"https://demo.bokeh.org/sliders\"\n",
       "            frameborder=\"0\"\n",
       "            allowfullscreen\n",
       "            \n",
       "        ></iframe>\n",
       "        "
      ],
      "text/plain": [
       "<IPython.lib.display.IFrame at 0x2559e341160>"
      ]
     },
     "execution_count": 18,
     "metadata": {},
     "output_type": "execute_result"
    }
   ],
   "source": [
    "# Create and deploy interactive data applications\n",
    "from IPython.display import IFrame\n",
    "IFrame('https://demo.bokeh.org/sliders', width=900, height=500)"
   ]
  },
  {
   "cell_type": "markdown",
   "id": "7a32c2c5-3e0d-408e-9575-e06278146243",
   "metadata": {},
   "source": [
    "### Bokeh plotting"
   ]
  },
  {
   "cell_type": "code",
   "execution_count": 19,
   "id": "930c3683-b897-4d82-82f2-af4525b169b3",
   "metadata": {},
   "outputs": [],
   "source": [
    "import numpy as np # we will use this later, so import it now\n",
    "from bokeh.io import output_notebook, show\n",
    "from bokeh.plotting import figure"
   ]
  },
  {
   "cell_type": "code",
   "execution_count": null,
   "id": "db678888-0ec0-44fd-acc6-4ea1cf20b9f1",
   "metadata": {},
   "outputs": [],
   "source": [
    "p.wedge  # 파이차트 그릴 수 있음; bokeh에서"
   ]
  },
  {
   "cell_type": "code",
   "execution_count": null,
   "id": "2705001f-c063-474a-8493-3903cfbdfd4d",
   "metadata": {},
   "outputs": [],
   "source": [
    "p.hover  "
   ]
  },
  {
   "cell_type": "code",
   "execution_count": 20,
   "id": "0998ae10-95c5-4d92-bfac-ebe506c6fd17",
   "metadata": {},
   "outputs": [],
   "source": [
    "import pandas as pd\n",
    "import numpy as np"
   ]
  },
  {
   "cell_type": "code",
   "execution_count": 21,
   "id": "2dc5792f-af5d-4a8f-b9b5-8ca349293eb0",
   "metadata": {},
   "outputs": [
    {
     "data": {
      "text/html": [
       "<div>\n",
       "<style scoped>\n",
       "    .dataframe tbody tr th:only-of-type {\n",
       "        vertical-align: middle;\n",
       "    }\n",
       "\n",
       "    .dataframe tbody tr th {\n",
       "        vertical-align: top;\n",
       "    }\n",
       "\n",
       "    .dataframe thead th {\n",
       "        text-align: right;\n",
       "    }\n",
       "</style>\n",
       "<table border=\"1\" class=\"dataframe\">\n",
       "  <thead>\n",
       "    <tr style=\"text-align: right;\">\n",
       "      <th></th>\n",
       "      <th>지역</th>\n",
       "      <th>규모</th>\n",
       "      <th>연도</th>\n",
       "      <th>월</th>\n",
       "      <th>분양가</th>\n",
       "    </tr>\n",
       "  </thead>\n",
       "  <tbody>\n",
       "    <tr>\n",
       "      <th>0</th>\n",
       "      <td>서울</td>\n",
       "      <td>60㎡이하</td>\n",
       "      <td>2015</td>\n",
       "      <td>10</td>\n",
       "      <td>5652</td>\n",
       "    </tr>\n",
       "    <tr>\n",
       "      <th>1</th>\n",
       "      <td>서울</td>\n",
       "      <td>60㎡초과 85㎡이하</td>\n",
       "      <td>2015</td>\n",
       "      <td>10</td>\n",
       "      <td>5882</td>\n",
       "    </tr>\n",
       "    <tr>\n",
       "      <th>2</th>\n",
       "      <td>서울</td>\n",
       "      <td>85㎡초과 102㎡이하</td>\n",
       "      <td>2015</td>\n",
       "      <td>10</td>\n",
       "      <td>5721</td>\n",
       "    </tr>\n",
       "    <tr>\n",
       "      <th>3</th>\n",
       "      <td>서울</td>\n",
       "      <td>102㎡초과</td>\n",
       "      <td>2015</td>\n",
       "      <td>10</td>\n",
       "      <td>5879</td>\n",
       "    </tr>\n",
       "    <tr>\n",
       "      <th>4</th>\n",
       "      <td>인천</td>\n",
       "      <td>60㎡이하</td>\n",
       "      <td>2015</td>\n",
       "      <td>10</td>\n",
       "      <td>3488</td>\n",
       "    </tr>\n",
       "    <tr>\n",
       "      <th>...</th>\n",
       "      <td>...</td>\n",
       "      <td>...</td>\n",
       "      <td>...</td>\n",
       "      <td>...</td>\n",
       "      <td>...</td>\n",
       "    </tr>\n",
       "    <tr>\n",
       "      <th>3288</th>\n",
       "      <td>경남</td>\n",
       "      <td>60㎡초과 85㎡이하</td>\n",
       "      <td>2020</td>\n",
       "      <td>2</td>\n",
       "      <td>3065</td>\n",
       "    </tr>\n",
       "    <tr>\n",
       "      <th>3289</th>\n",
       "      <td>경남</td>\n",
       "      <td>85㎡초과 102㎡이하</td>\n",
       "      <td>2020</td>\n",
       "      <td>2</td>\n",
       "      <td>3247</td>\n",
       "    </tr>\n",
       "    <tr>\n",
       "      <th>3290</th>\n",
       "      <td>제주</td>\n",
       "      <td>60㎡이하</td>\n",
       "      <td>2020</td>\n",
       "      <td>2</td>\n",
       "      <td>4039</td>\n",
       "    </tr>\n",
       "    <tr>\n",
       "      <th>3291</th>\n",
       "      <td>제주</td>\n",
       "      <td>60㎡초과 85㎡이하</td>\n",
       "      <td>2020</td>\n",
       "      <td>2</td>\n",
       "      <td>3962</td>\n",
       "    </tr>\n",
       "    <tr>\n",
       "      <th>3292</th>\n",
       "      <td>제주</td>\n",
       "      <td>102㎡초과</td>\n",
       "      <td>2020</td>\n",
       "      <td>2</td>\n",
       "      <td>3601</td>\n",
       "    </tr>\n",
       "  </tbody>\n",
       "</table>\n",
       "<p>3293 rows × 5 columns</p>\n",
       "</div>"
      ],
      "text/plain": [
       "      지역             규모    연도   월   분양가\n",
       "0     서울          60㎡이하  2015  10  5652\n",
       "1     서울    60㎡초과 85㎡이하  2015  10  5882\n",
       "2     서울   85㎡초과 102㎡이하  2015  10  5721\n",
       "3     서울         102㎡초과  2015  10  5879\n",
       "4     인천          60㎡이하  2015  10  3488\n",
       "...   ..            ...   ...  ..   ...\n",
       "3288  경남    60㎡초과 85㎡이하  2020   2  3065\n",
       "3289  경남   85㎡초과 102㎡이하  2020   2  3247\n",
       "3290  제주          60㎡이하  2020   2  4039\n",
       "3291  제주    60㎡초과 85㎡이하  2020   2  3962\n",
       "3292  제주         102㎡초과  2020   2  3601\n",
       "\n",
       "[3293 rows x 5 columns]"
      ]
     },
     "execution_count": 21,
     "metadata": {},
     "output_type": "execute_result"
    }
   ],
   "source": [
    "house_price = pd.read_csv(\"house_price.csv\")\n",
    "house_price"
   ]
  },
  {
   "cell_type": "code",
   "execution_count": 35,
   "id": "5d1304aa-425c-4b1d-888b-0014c5678249",
   "metadata": {},
   "outputs": [
    {
     "name": "stdout",
     "output_type": "stream",
     "text": [
      "<class 'pandas.core.frame.DataFrame'>\n",
      "RangeIndex: 3293 entries, 0 to 3292\n",
      "Data columns (total 5 columns):\n",
      " #   Column  Non-Null Count  Dtype \n",
      "---  ------  --------------  ----- \n",
      " 0   지역      3293 non-null   object\n",
      " 1   규모      3293 non-null   object\n",
      " 2   연도      3293 non-null   int64 \n",
      " 3   월       3293 non-null   int64 \n",
      " 4   분양가     3293 non-null   int64 \n",
      "dtypes: int64(3), object(2)\n",
      "memory usage: 128.8+ KB\n"
     ]
    }
   ],
   "source": [
    "house_price.info()"
   ]
  },
  {
   "cell_type": "code",
   "execution_count": 36,
   "id": "2a038a35-57a0-4320-8dfd-9c6ac7bfdef6",
   "metadata": {},
   "outputs": [],
   "source": [
    "from matplotlib import font_manager, rc\n",
    "font_fname = 'c:/windows/fonts/gulim.ttc'\n",
    "font_name = font_manager.FontProperties(fname=font_fname).get_name()\n",
    "rc('font', family = font_name)"
   ]
  },
  {
   "cell_type": "code",
   "execution_count": 37,
   "id": "2e919031-2908-49a3-a4dc-baeec18c9446",
   "metadata": {},
   "outputs": [
    {
     "data": {
      "text/plain": [
       "<AxesSubplot:>"
      ]
     },
     "execution_count": 37,
     "metadata": {},
     "output_type": "execute_result"
    },
    {
     "data": {
      "image/png": "[encoded data removed]",
      "text/plain": [
       "<Figure size 432x288 with 1 Axes>"
      ]
     },
     "metadata": {
      "needs_background": "light"
     },
     "output_type": "display_data"
    }
   ],
   "source": [
    "house_price.plot()"
   ]
  },
  {
   "cell_type": "code",
   "execution_count": null,
   "id": "6325bc46-f289-4bf9-8736-fd95cf0ca662",
   "metadata": {},
   "outputs": [
    {
     "data": {
      "text/plain": [
       "<AxesSubplot:xlabel='연도'>"
      ]
     },
     "execution_count": 38,
     "metadata": {},
     "output_type": "execute_result"
    },
    {
     "data": {
      "image/png": "[encoded data removed]",
      "text/plain": [
       "<Figure size 432x288 with 1 Axes>"
      ]
     },
     "metadata": {
      "needs_background": "light"
     },
     "output_type": "display_data"
    }
   ],
   "source": [
    "house_price.plot(x = '연도', y = '분양가', kind = 'bar')"
   ]
  },
  {
   "cell_type": "code",
   "execution_count": 29,
   "id": "6d1173f2-6584-4e15-8fde-90b5bd62040b",
   "metadata": {},
   "outputs": [
    {
     "data": {
      "text/plain": [
       "연도\n",
       "2015     540218\n",
       "2016    2312823\n",
       "2017    2451040\n",
       "2018    2400743\n",
       "2019    2679270\n",
       "2020     463269\n",
       "Name: 분양가, dtype: int64"
      ]
     },
     "execution_count": 29,
     "metadata": {},
     "output_type": "execute_result"
    }
   ],
   "source": [
    "df2 = house_price.groupby('연도')['분양가'].sum()\n",
    "df2"
   ]
  },
  {
   "cell_type": "code",
   "execution_count": 30,
   "id": "09999efc-ae57-4c76-af39-9f37cbec0750",
   "metadata": {},
   "outputs": [
    {
     "data": {
      "text/plain": [
       "<AxesSubplot:ylabel='분양가'>"
      ]
     },
     "execution_count": 30,
     "metadata": {},
     "output_type": "execute_result"
    },
    {
     "name": "stderr",
     "output_type": "stream",
     "text": [
      "C:\\Users\\Conet\\anaconda3\\lib\\site-packages\\IPython\\core\\pylabtools.py:151: UserWarning: Glyph 48516 (\\N{HANGUL SYLLABLE BUN}) missing from current font.\n",
      "  fig.canvas.print_figure(bytes_io, **kw)\n",
      "C:\\Users\\Conet\\anaconda3\\lib\\site-packages\\IPython\\core\\pylabtools.py:151: UserWarning: Glyph 50577 (\\N{HANGUL SYLLABLE YANG}) missing from current font.\n",
      "  fig.canvas.print_figure(bytes_io, **kw)\n",
      "C:\\Users\\Conet\\anaconda3\\lib\\site-packages\\IPython\\core\\pylabtools.py:151: UserWarning: Glyph 44032 (\\N{HANGUL SYLLABLE GA}) missing from current font.\n",
      "  fig.canvas.print_figure(bytes_io, **kw)\n"
     ]
    },
    {
     "data": {
      "image/png": "[encoded data removed]",
      "text/plain": [
       "<Figure size 432x288 with 1 Axes>"
      ]
     },
     "metadata": {},
     "output_type": "display_data"
    }
   ],
   "source": [
    "df2.plot(y='분양가', kind = 'pie')"
   ]
  },
  {
   "cell_type": "code",
   "execution_count": 31,
   "id": "47c9fd6c-1ca7-4976-a07a-d607dfee45ae",
   "metadata": {},
   "outputs": [
    {
     "data": {
      "image/png": "[encoded data removed]",
      "text/plain": [
       "<Figure size 432x288 with 1 Axes>"
      ]
     },
     "metadata": {},
     "output_type": "display_data"
    }
   ],
   "source": [
    "df2.plot(y='분양가', kind = 'pie');"
   ]
  },
  {
   "cell_type": "code",
   "execution_count": 32,
   "id": "9c9b93f3-c2cf-4768-84af-04e9369e6104",
   "metadata": {},
   "outputs": [
    {
     "data": {
      "text/plain": [
       "<AxesSubplot:xlabel='월', ylabel='분양가'>"
      ]
     },
     "execution_count": 32,
     "metadata": {},
     "output_type": "execute_result"
    },
    {
     "name": "stderr",
     "output_type": "stream",
     "text": [
      "C:\\Users\\Conet\\anaconda3\\lib\\site-packages\\IPython\\core\\pylabtools.py:151: UserWarning: Glyph 50900 (\\N{HANGUL SYLLABLE WEOL}) missing from current font.\n",
      "  fig.canvas.print_figure(bytes_io, **kw)\n"
     ]
    },
    {
     "data": {
      "image/png": "[encoded data removed]",
      "text/plain": [
       "<Figure size 432x288 with 1 Axes>"
      ]
     },
     "metadata": {
      "needs_background": "light"
     },
     "output_type": "display_data"
    }
   ],
   "source": [
    "house_price.plot(x='월', y = '분양가', kind = 'scatter')"
   ]
  },
  {
   "cell_type": "markdown",
   "id": "748dd045-3ccc-431e-9bb0-66e3412d4fc2",
   "metadata": {},
   "source": [
    "### 3. EDA"
   ]
  },
  {
   "cell_type": "code",
   "execution_count": 39,
   "id": "15902aa5-5691-493d-b183-17d25031c48a",
   "metadata": {},
   "outputs": [],
   "source": [
    "import numpy as np\n",
    "import pandas as np\n",
    "import matplotlib.pyplot as plt\n",
    "import seaborn as sns\n",
    "plt.style.use('fivethirtyeight')\n",
    "import warnings\n",
    "warnings.filterwarnings('ignore')\n",
    "%matplotlib inline\n",
    "\n",
    "sns.set(font_scale = 2)"
   ]
  },
  {
   "cell_type": "code",
   "execution_count": 40,
   "id": "791a1b49-1c49-466b-88e4-45fe9f505c5c",
   "metadata": {},
   "outputs": [
    {
     "data": {
      "text/html": [
       "<div>\n",
       "<style scoped>\n",
       "    .dataframe tbody tr th:only-of-type {\n",
       "        vertical-align: middle;\n",
       "    }\n",
       "\n",
       "    .dataframe tbody tr th {\n",
       "        vertical-align: top;\n",
       "    }\n",
       "\n",
       "    .dataframe thead th {\n",
       "        text-align: right;\n",
       "    }\n",
       "</style>\n",
       "<table border=\"1\" class=\"dataframe\">\n",
       "  <thead>\n",
       "    <tr style=\"text-align: right;\">\n",
       "      <th></th>\n",
       "      <th>survived</th>\n",
       "      <th>pclass</th>\n",
       "      <th>sex</th>\n",
       "      <th>age</th>\n",
       "      <th>sibsp</th>\n",
       "      <th>parch</th>\n",
       "      <th>fare</th>\n",
       "      <th>embarked</th>\n",
       "      <th>class</th>\n",
       "      <th>who</th>\n",
       "      <th>adult_male</th>\n",
       "      <th>deck</th>\n",
       "      <th>embark_town</th>\n",
       "      <th>alive</th>\n",
       "      <th>alone</th>\n",
       "    </tr>\n",
       "  </thead>\n",
       "  <tbody>\n",
       "    <tr>\n",
       "      <th>0</th>\n",
       "      <td>0</td>\n",
       "      <td>3</td>\n",
       "      <td>male</td>\n",
       "      <td>22.0</td>\n",
       "      <td>1</td>\n",
       "      <td>0</td>\n",
       "      <td>7.2500</td>\n",
       "      <td>S</td>\n",
       "      <td>Third</td>\n",
       "      <td>man</td>\n",
       "      <td>True</td>\n",
       "      <td>NaN</td>\n",
       "      <td>Southampton</td>\n",
       "      <td>no</td>\n",
       "      <td>False</td>\n",
       "    </tr>\n",
       "    <tr>\n",
       "      <th>1</th>\n",
       "      <td>1</td>\n",
       "      <td>1</td>\n",
       "      <td>female</td>\n",
       "      <td>38.0</td>\n",
       "      <td>1</td>\n",
       "      <td>0</td>\n",
       "      <td>71.2833</td>\n",
       "      <td>C</td>\n",
       "      <td>First</td>\n",
       "      <td>woman</td>\n",
       "      <td>False</td>\n",
       "      <td>C</td>\n",
       "      <td>Cherbourg</td>\n",
       "      <td>yes</td>\n",
       "      <td>False</td>\n",
       "    </tr>\n",
       "    <tr>\n",
       "      <th>2</th>\n",
       "      <td>1</td>\n",
       "      <td>3</td>\n",
       "      <td>female</td>\n",
       "      <td>26.0</td>\n",
       "      <td>0</td>\n",
       "      <td>0</td>\n",
       "      <td>7.9250</td>\n",
       "      <td>S</td>\n",
       "      <td>Third</td>\n",
       "      <td>woman</td>\n",
       "      <td>False</td>\n",
       "      <td>NaN</td>\n",
       "      <td>Southampton</td>\n",
       "      <td>yes</td>\n",
       "      <td>True</td>\n",
       "    </tr>\n",
       "    <tr>\n",
       "      <th>3</th>\n",
       "      <td>1</td>\n",
       "      <td>1</td>\n",
       "      <td>female</td>\n",
       "      <td>35.0</td>\n",
       "      <td>1</td>\n",
       "      <td>0</td>\n",
       "      <td>53.1000</td>\n",
       "      <td>S</td>\n",
       "      <td>First</td>\n",
       "      <td>woman</td>\n",
       "      <td>False</td>\n",
       "      <td>C</td>\n",
       "      <td>Southampton</td>\n",
       "      <td>yes</td>\n",
       "      <td>False</td>\n",
       "    </tr>\n",
       "    <tr>\n",
       "      <th>4</th>\n",
       "      <td>0</td>\n",
       "      <td>3</td>\n",
       "      <td>male</td>\n",
       "      <td>35.0</td>\n",
       "      <td>0</td>\n",
       "      <td>0</td>\n",
       "      <td>8.0500</td>\n",
       "      <td>S</td>\n",
       "      <td>Third</td>\n",
       "      <td>man</td>\n",
       "      <td>True</td>\n",
       "      <td>NaN</td>\n",
       "      <td>Southampton</td>\n",
       "      <td>no</td>\n",
       "      <td>True</td>\n",
       "    </tr>\n",
       "    <tr>\n",
       "      <th>...</th>\n",
       "      <td>...</td>\n",
       "      <td>...</td>\n",
       "      <td>...</td>\n",
       "      <td>...</td>\n",
       "      <td>...</td>\n",
       "      <td>...</td>\n",
       "      <td>...</td>\n",
       "      <td>...</td>\n",
       "      <td>...</td>\n",
       "      <td>...</td>\n",
       "      <td>...</td>\n",
       "      <td>...</td>\n",
       "      <td>...</td>\n",
       "      <td>...</td>\n",
       "      <td>...</td>\n",
       "    </tr>\n",
       "    <tr>\n",
       "      <th>886</th>\n",
       "      <td>0</td>\n",
       "      <td>2</td>\n",
       "      <td>male</td>\n",
       "      <td>27.0</td>\n",
       "      <td>0</td>\n",
       "      <td>0</td>\n",
       "      <td>13.0000</td>\n",
       "      <td>S</td>\n",
       "      <td>Second</td>\n",
       "      <td>man</td>\n",
       "      <td>True</td>\n",
       "      <td>NaN</td>\n",
       "      <td>Southampton</td>\n",
       "      <td>no</td>\n",
       "      <td>True</td>\n",
       "    </tr>\n",
       "    <tr>\n",
       "      <th>887</th>\n",
       "      <td>1</td>\n",
       "      <td>1</td>\n",
       "      <td>female</td>\n",
       "      <td>19.0</td>\n",
       "      <td>0</td>\n",
       "      <td>0</td>\n",
       "      <td>30.0000</td>\n",
       "      <td>S</td>\n",
       "      <td>First</td>\n",
       "      <td>woman</td>\n",
       "      <td>False</td>\n",
       "      <td>B</td>\n",
       "      <td>Southampton</td>\n",
       "      <td>yes</td>\n",
       "      <td>True</td>\n",
       "    </tr>\n",
       "    <tr>\n",
       "      <th>888</th>\n",
       "      <td>0</td>\n",
       "      <td>3</td>\n",
       "      <td>female</td>\n",
       "      <td>NaN</td>\n",
       "      <td>1</td>\n",
       "      <td>2</td>\n",
       "      <td>23.4500</td>\n",
       "      <td>S</td>\n",
       "      <td>Third</td>\n",
       "      <td>woman</td>\n",
       "      <td>False</td>\n",
       "      <td>NaN</td>\n",
       "      <td>Southampton</td>\n",
       "      <td>no</td>\n",
       "      <td>False</td>\n",
       "    </tr>\n",
       "    <tr>\n",
       "      <th>889</th>\n",
       "      <td>1</td>\n",
       "      <td>1</td>\n",
       "      <td>male</td>\n",
       "      <td>26.0</td>\n",
       "      <td>0</td>\n",
       "      <td>0</td>\n",
       "      <td>30.0000</td>\n",
       "      <td>C</td>\n",
       "      <td>First</td>\n",
       "      <td>man</td>\n",
       "      <td>True</td>\n",
       "      <td>C</td>\n",
       "      <td>Cherbourg</td>\n",
       "      <td>yes</td>\n",
       "      <td>True</td>\n",
       "    </tr>\n",
       "    <tr>\n",
       "      <th>890</th>\n",
       "      <td>0</td>\n",
       "      <td>3</td>\n",
       "      <td>male</td>\n",
       "      <td>32.0</td>\n",
       "      <td>0</td>\n",
       "      <td>0</td>\n",
       "      <td>7.7500</td>\n",
       "      <td>Q</td>\n",
       "      <td>Third</td>\n",
       "      <td>man</td>\n",
       "      <td>True</td>\n",
       "      <td>NaN</td>\n",
       "      <td>Queenstown</td>\n",
       "      <td>no</td>\n",
       "      <td>True</td>\n",
       "    </tr>\n",
       "  </tbody>\n",
       "</table>\n",
       "<p>891 rows × 15 columns</p>\n",
       "</div>"
      ],
      "text/plain": [
       "     survived  pclass     sex   age  sibsp  parch     fare embarked   class  \\\n",
       "0           0       3    male  22.0      1      0   7.2500        S   Third   \n",
       "1           1       1  female  38.0      1      0  71.2833        C   First   \n",
       "2           1       3  female  26.0      0      0   7.9250        S   Third   \n",
       "3           1       1  female  35.0      1      0  53.1000        S   First   \n",
       "4           0       3    male  35.0      0      0   8.0500        S   Third   \n",
       "..        ...     ...     ...   ...    ...    ...      ...      ...     ...   \n",
       "886         0       2    male  27.0      0      0  13.0000        S  Second   \n",
       "887         1       1  female  19.0      0      0  30.0000        S   First   \n",
       "888         0       3  female   NaN      1      2  23.4500        S   Third   \n",
       "889         1       1    male  26.0      0      0  30.0000        C   First   \n",
       "890         0       3    male  32.0      0      0   7.7500        Q   Third   \n",
       "\n",
       "       who  adult_male deck  embark_town alive  alone  \n",
       "0      man        True  NaN  Southampton    no  False  \n",
       "1    woman       False    C    Cherbourg   yes  False  \n",
       "2    woman       False  NaN  Southampton   yes   True  \n",
       "3    woman       False    C  Southampton   yes  False  \n",
       "4      man        True  NaN  Southampton    no   True  \n",
       "..     ...         ...  ...          ...   ...    ...  \n",
       "886    man        True  NaN  Southampton    no   True  \n",
       "887  woman       False    B  Southampton   yes   True  \n",
       "888  woman       False  NaN  Southampton    no  False  \n",
       "889    man        True    C    Cherbourg   yes   True  \n",
       "890    man        True  NaN   Queenstown    no   True  \n",
       "\n",
       "[891 rows x 15 columns]"
      ]
     },
     "execution_count": 40,
     "metadata": {},
     "output_type": "execute_result"
    }
   ],
   "source": [
    "sns.load_dataset('titanic')"
   ]
  },
  {
   "cell_type": "code",
   "execution_count": 41,
   "id": "a35e2fe0-2782-44fe-9c2a-d41be1f0fbcf",
   "metadata": {},
   "outputs": [
    {
     "data": {
      "text/html": [
       "<div>\n",
       "<style scoped>\n",
       "    .dataframe tbody tr th:only-of-type {\n",
       "        vertical-align: middle;\n",
       "    }\n",
       "\n",
       "    .dataframe tbody tr th {\n",
       "        vertical-align: top;\n",
       "    }\n",
       "\n",
       "    .dataframe thead th {\n",
       "        text-align: right;\n",
       "    }\n",
       "</style>\n",
       "<table border=\"1\" class=\"dataframe\">\n",
       "  <thead>\n",
       "    <tr style=\"text-align: right;\">\n",
       "      <th></th>\n",
       "      <th>PassengerId</th>\n",
       "      <th>Survived</th>\n",
       "      <th>Pclass</th>\n",
       "      <th>Name</th>\n",
       "      <th>Sex</th>\n",
       "      <th>Age</th>\n",
       "      <th>SibSp</th>\n",
       "      <th>Parch</th>\n",
       "      <th>Ticket</th>\n",
       "      <th>Fare</th>\n",
       "      <th>Cabin</th>\n",
       "      <th>Embarked</th>\n",
       "    </tr>\n",
       "  </thead>\n",
       "  <tbody>\n",
       "    <tr>\n",
       "      <th>0</th>\n",
       "      <td>1</td>\n",
       "      <td>0</td>\n",
       "      <td>3</td>\n",
       "      <td>Braund, Mr. Owen Harris</td>\n",
       "      <td>male</td>\n",
       "      <td>22.0</td>\n",
       "      <td>1</td>\n",
       "      <td>0</td>\n",
       "      <td>A/5 21171</td>\n",
       "      <td>7.2500</td>\n",
       "      <td>NaN</td>\n",
       "      <td>S</td>\n",
       "    </tr>\n",
       "    <tr>\n",
       "      <th>1</th>\n",
       "      <td>2</td>\n",
       "      <td>1</td>\n",
       "      <td>1</td>\n",
       "      <td>Cumings, Mrs. John Bradley (Florence Briggs Th...</td>\n",
       "      <td>female</td>\n",
       "      <td>38.0</td>\n",
       "      <td>1</td>\n",
       "      <td>0</td>\n",
       "      <td>PC 17599</td>\n",
       "      <td>71.2833</td>\n",
       "      <td>C85</td>\n",
       "      <td>C</td>\n",
       "    </tr>\n",
       "    <tr>\n",
       "      <th>2</th>\n",
       "      <td>3</td>\n",
       "      <td>1</td>\n",
       "      <td>3</td>\n",
       "      <td>Heikkinen, Miss. Laina</td>\n",
       "      <td>female</td>\n",
       "      <td>26.0</td>\n",
       "      <td>0</td>\n",
       "      <td>0</td>\n",
       "      <td>STON/O2. 3101282</td>\n",
       "      <td>7.9250</td>\n",
       "      <td>NaN</td>\n",
       "      <td>S</td>\n",
       "    </tr>\n",
       "    <tr>\n",
       "      <th>3</th>\n",
       "      <td>4</td>\n",
       "      <td>1</td>\n",
       "      <td>1</td>\n",
       "      <td>Futrelle, Mrs. Jacques Heath (Lily May Peel)</td>\n",
       "      <td>female</td>\n",
       "      <td>35.0</td>\n",
       "      <td>1</td>\n",
       "      <td>0</td>\n",
       "      <td>113803</td>\n",
       "      <td>53.1000</td>\n",
       "      <td>C123</td>\n",
       "      <td>S</td>\n",
       "    </tr>\n",
       "    <tr>\n",
       "      <th>4</th>\n",
       "      <td>5</td>\n",
       "      <td>0</td>\n",
       "      <td>3</td>\n",
       "      <td>Allen, Mr. William Henry</td>\n",
       "      <td>male</td>\n",
       "      <td>35.0</td>\n",
       "      <td>0</td>\n",
       "      <td>0</td>\n",
       "      <td>373450</td>\n",
       "      <td>8.0500</td>\n",
       "      <td>NaN</td>\n",
       "      <td>S</td>\n",
       "    </tr>\n",
       "    <tr>\n",
       "      <th>...</th>\n",
       "      <td>...</td>\n",
       "      <td>...</td>\n",
       "      <td>...</td>\n",
       "      <td>...</td>\n",
       "      <td>...</td>\n",
       "      <td>...</td>\n",
       "      <td>...</td>\n",
       "      <td>...</td>\n",
       "      <td>...</td>\n",
       "      <td>...</td>\n",
       "      <td>...</td>\n",
       "      <td>...</td>\n",
       "    </tr>\n",
       "    <tr>\n",
       "      <th>886</th>\n",
       "      <td>887</td>\n",
       "      <td>0</td>\n",
       "      <td>2</td>\n",
       "      <td>Montvila, Rev. Juozas</td>\n",
       "      <td>male</td>\n",
       "      <td>27.0</td>\n",
       "      <td>0</td>\n",
       "      <td>0</td>\n",
       "      <td>211536</td>\n",
       "      <td>13.0000</td>\n",
       "      <td>NaN</td>\n",
       "      <td>S</td>\n",
       "    </tr>\n",
       "    <tr>\n",
       "      <th>887</th>\n",
       "      <td>888</td>\n",
       "      <td>1</td>\n",
       "      <td>1</td>\n",
       "      <td>Graham, Miss. Margaret Edith</td>\n",
       "      <td>female</td>\n",
       "      <td>19.0</td>\n",
       "      <td>0</td>\n",
       "      <td>0</td>\n",
       "      <td>112053</td>\n",
       "      <td>30.0000</td>\n",
       "      <td>B42</td>\n",
       "      <td>S</td>\n",
       "    </tr>\n",
       "    <tr>\n",
       "      <th>888</th>\n",
       "      <td>889</td>\n",
       "      <td>0</td>\n",
       "      <td>3</td>\n",
       "      <td>Johnston, Miss. Catherine Helen \"Carrie\"</td>\n",
       "      <td>female</td>\n",
       "      <td>NaN</td>\n",
       "      <td>1</td>\n",
       "      <td>2</td>\n",
       "      <td>W./C. 6607</td>\n",
       "      <td>23.4500</td>\n",
       "      <td>NaN</td>\n",
       "      <td>S</td>\n",
       "    </tr>\n",
       "    <tr>\n",
       "      <th>889</th>\n",
       "      <td>890</td>\n",
       "      <td>1</td>\n",
       "      <td>1</td>\n",
       "      <td>Behr, Mr. Karl Howell</td>\n",
       "      <td>male</td>\n",
       "      <td>26.0</td>\n",
       "      <td>0</td>\n",
       "      <td>0</td>\n",
       "      <td>111369</td>\n",
       "      <td>30.0000</td>\n",
       "      <td>C148</td>\n",
       "      <td>C</td>\n",
       "    </tr>\n",
       "    <tr>\n",
       "      <th>890</th>\n",
       "      <td>891</td>\n",
       "      <td>0</td>\n",
       "      <td>3</td>\n",
       "      <td>Dooley, Mr. Patrick</td>\n",
       "      <td>male</td>\n",
       "      <td>32.0</td>\n",
       "      <td>0</td>\n",
       "      <td>0</td>\n",
       "      <td>370376</td>\n",
       "      <td>7.7500</td>\n",
       "      <td>NaN</td>\n",
       "      <td>Q</td>\n",
       "    </tr>\n",
       "  </tbody>\n",
       "</table>\n",
       "<p>891 rows × 12 columns</p>\n",
       "</div>"
      ],
      "text/plain": [
       "     PassengerId  Survived  Pclass  \\\n",
       "0              1         0       3   \n",
       "1              2         1       1   \n",
       "2              3         1       3   \n",
       "3              4         1       1   \n",
       "4              5         0       3   \n",
       "..           ...       ...     ...   \n",
       "886          887         0       2   \n",
       "887          888         1       1   \n",
       "888          889         0       3   \n",
       "889          890         1       1   \n",
       "890          891         0       3   \n",
       "\n",
       "                                                  Name     Sex   Age  SibSp  \\\n",
       "0                              Braund, Mr. Owen Harris    male  22.0      1   \n",
       "1    Cumings, Mrs. John Bradley (Florence Briggs Th...  female  38.0      1   \n",
       "2                               Heikkinen, Miss. Laina  female  26.0      0   \n",
       "3         Futrelle, Mrs. Jacques Heath (Lily May Peel)  female  35.0      1   \n",
       "4                             Allen, Mr. William Henry    male  35.0      0   \n",
       "..                                                 ...     ...   ...    ...   \n",
       "886                              Montvila, Rev. Juozas    male  27.0      0   \n",
       "887                       Graham, Miss. Margaret Edith  female  19.0      0   \n",
       "888           Johnston, Miss. Catherine Helen \"Carrie\"  female   NaN      1   \n",
       "889                              Behr, Mr. Karl Howell    male  26.0      0   \n",
       "890                                Dooley, Mr. Patrick    male  32.0      0   \n",
       "\n",
       "     Parch            Ticket     Fare Cabin Embarked  \n",
       "0        0         A/5 21171   7.2500   NaN        S  \n",
       "1        0          PC 17599  71.2833   C85        C  \n",
       "2        0  STON/O2. 3101282   7.9250   NaN        S  \n",
       "3        0            113803  53.1000  C123        S  \n",
       "4        0            373450   8.0500   NaN        S  \n",
       "..     ...               ...      ...   ...      ...  \n",
       "886      0            211536  13.0000   NaN        S  \n",
       "887      0            112053  30.0000   B42        S  \n",
       "888      2        W./C. 6607  23.4500   NaN        S  \n",
       "889      0            111369  30.0000  C148        C  \n",
       "890      0            370376   7.7500   NaN        Q  \n",
       "\n",
       "[891 rows x 12 columns]"
      ]
     },
     "execution_count": 41,
     "metadata": {},
     "output_type": "execute_result"
    }
   ],
   "source": [
    "data = pd.read_csv('train.csv')\n",
    "data"
   ]
  },
  {
   "cell_type": "code",
   "execution_count": 42,
   "id": "4693d13f-ad9a-4963-91c9-42a3b0787cc7",
   "metadata": {},
   "outputs": [
    {
     "name": "stdout",
     "output_type": "stream",
     "text": [
      "<class 'pandas.core.frame.DataFrame'>\n",
      "RangeIndex: 891 entries, 0 to 890\n",
      "Data columns (total 12 columns):\n",
      " #   Column       Non-Null Count  Dtype  \n",
      "---  ------       --------------  -----  \n",
      " 0   PassengerId  891 non-null    int64  \n",
      " 1   Survived     891 non-null    int64  \n",
      " 2   Pclass       891 non-null    int64  \n",
      " 3   Name         891 non-null    object \n",
      " 4   Sex          891 non-null    object \n",
      " 5   Age          714 non-null    float64\n",
      " 6   SibSp        891 non-null    int64  \n",
      " 7   Parch        891 non-null    int64  \n",
      " 8   Ticket       891 non-null    object \n",
      " 9   Fare         891 non-null    float64\n",
      " 10  Cabin        204 non-null    object \n",
      " 11  Embarked     889 non-null    object \n",
      "dtypes: float64(2), int64(5), object(5)\n",
      "memory usage: 83.7+ KB\n"
     ]
    }
   ],
   "source": [
    "data.info()"
   ]
  },
  {
   "cell_type": "code",
   "execution_count": 43,
   "id": "204b56ea-a329-4261-bbda-ad6e2c693b0b",
   "metadata": {},
   "outputs": [
    {
     "data": {
      "text/plain": [
       "PassengerId      0\n",
       "Survived         0\n",
       "Pclass           0\n",
       "Name             0\n",
       "Sex              0\n",
       "Age            177\n",
       "SibSp            0\n",
       "Parch            0\n",
       "Ticket           0\n",
       "Fare             0\n",
       "Cabin          687\n",
       "Embarked         2\n",
       "dtype: int64"
      ]
     },
     "execution_count": 43,
     "metadata": {},
     "output_type": "execute_result"
    }
   ],
   "source": [
    "data.isnull().sum()  # checking for total null values"
   ]
  },
  {
   "cell_type": "markdown",
   "id": "87eee0b4-bc07-4d6c-8f0a-d1a6d295a484",
   "metadata": {},
   "source": [
    "> Age, Cabin, Embarked에 빈 값이 있음"
   ]
  },
  {
   "cell_type": "markdown",
   "id": "71b6f333-1d3b-46ca-9aa5-e937a5e32d46",
   "metadata": {},
   "source": [
    "- How many people survived?"
   ]
  },
  {
   "cell_type": "code",
   "execution_count": 44,
   "id": "c7f75b4c-731c-4a50-8dd3-57c62c027407",
   "metadata": {},
   "outputs": [
    {
     "data": {
      "image/png": "[encoded data removed]",
      "text/plain": [
       "<Figure size 1296x576 with 2 Axes>"
      ]
     },
     "metadata": {},
     "output_type": "display_data"
    }
   ],
   "source": [
    "f, ax = plt.subplots(1, 2, figsize = (18, 8))\n",
    "data['Survived'].value_counts().plot.pie(explode = [0, 0.1],  # explode로 띄어진 형태로\n",
    "                                         autopct = '%1.2f%%', ax = ax[0], shadow = True)\n",
    "ax[0].set_title('Survived')\n",
    "ax[0].set_ylabel('')\n",
    "sns.countplot('Survived', data = data, ax = ax[1])\n",
    "ax[1].set_title('Survived')\n",
    "plt.show()"
   ]
  },
  {
   "cell_type": "code",
   "execution_count": 45,
   "id": "8a2edbd6-7b5b-4b1b-b7c7-13e5c76bacd4",
   "metadata": {},
   "outputs": [
    {
     "name": "stdout",
     "output_type": "stream",
     "text": [
      "<class 'pandas.core.frame.DataFrame'>\n",
      "RangeIndex: 891 entries, 0 to 890\n",
      "Data columns (total 12 columns):\n",
      " #   Column       Non-Null Count  Dtype  \n",
      "---  ------       --------------  -----  \n",
      " 0   PassengerId  891 non-null    int64  \n",
      " 1   Survived     891 non-null    int64  \n",
      " 2   Pclass       891 non-null    int64  \n",
      " 3   Name         891 non-null    object \n",
      " 4   Sex          891 non-null    object \n",
      " 5   Age          714 non-null    float64\n",
      " 6   SibSp        891 non-null    int64  \n",
      " 7   Parch        891 non-null    int64  \n",
      " 8   Ticket       891 non-null    object \n",
      " 9   Fare         891 non-null    float64\n",
      " 10  Cabin        204 non-null    object \n",
      " 11  Embarked     889 non-null    object \n",
      "dtypes: float64(2), int64(5), object(5)\n",
      "memory usage: 83.7+ KB\n"
     ]
    }
   ],
   "source": [
    "data.info()"
   ]
  },
  {
   "cell_type": "markdown",
   "id": "fa1ce2ef-e8d0-42d6-94bf-0cc18f795b00",
   "metadata": {},
   "source": [
    "- 성별에 따른 생존자 수"
   ]
  },
  {
   "cell_type": "code",
   "execution_count": 46,
   "id": "4adf7d80-d6e7-453d-9da4-fd4c389be28c",
   "metadata": {},
   "outputs": [
    {
     "data": {
      "text/plain": [
       "Sex     Survived\n",
       "female  0            81\n",
       "        1           233\n",
       "male    0           468\n",
       "        1           109\n",
       "Name: Survived, dtype: int64"
      ]
     },
     "execution_count": 46,
     "metadata": {},
     "output_type": "execute_result"
    }
   ],
   "source": [
    "data.groupby(['Sex', 'Survived'])['Survived'].count()"
   ]
  },
  {
   "cell_type": "code",
   "execution_count": 55,
   "id": "3fbdc51e-72f1-4c6a-a665-942d7e9a04f2",
   "metadata": {},
   "outputs": [
    {
     "data": {
      "text/plain": [
       "Sex     Survived\n",
       "female  0           0.0\n",
       "        1           1.0\n",
       "male    0           0.0\n",
       "        1           1.0\n",
       "Name: Survived, dtype: float64"
      ]
     },
     "execution_count": 55,
     "metadata": {},
     "output_type": "execute_result"
    }
   ],
   "source": [
    "data.groupby(['Sex', 'Survived'])['Survived'].mean()"
   ]
  },
  {
   "cell_type": "code",
   "execution_count": 59,
   "id": "d1c423f4-169c-4e39-af86-fe08bff517fd",
   "metadata": {},
   "outputs": [
    {
     "data": {
      "text/html": [
       "<div>\n",
       "<style scoped>\n",
       "    .dataframe tbody tr th:only-of-type {\n",
       "        vertical-align: middle;\n",
       "    }\n",
       "\n",
       "    .dataframe tbody tr th {\n",
       "        vertical-align: top;\n",
       "    }\n",
       "\n",
       "    .dataframe thead th {\n",
       "        text-align: right;\n",
       "    }\n",
       "</style>\n",
       "<table border=\"1\" class=\"dataframe\">\n",
       "  <thead>\n",
       "    <tr style=\"text-align: right;\">\n",
       "      <th></th>\n",
       "      <th>Survived</th>\n",
       "    </tr>\n",
       "    <tr>\n",
       "      <th>Sex</th>\n",
       "      <th></th>\n",
       "    </tr>\n",
       "  </thead>\n",
       "  <tbody>\n",
       "    <tr>\n",
       "      <th>female</th>\n",
       "      <td>233</td>\n",
       "    </tr>\n",
       "    <tr>\n",
       "      <th>male</th>\n",
       "      <td>109</td>\n",
       "    </tr>\n",
       "  </tbody>\n",
       "</table>\n",
       "</div>"
      ],
      "text/plain": [
       "        Survived\n",
       "Sex             \n",
       "female       233\n",
       "male         109"
      ]
     },
     "execution_count": 59,
     "metadata": {},
     "output_type": "execute_result"
    }
   ],
   "source": [
    "data[['Sex', 'Survived']].groupby(['Sex']).sum()"
   ]
  },
  {
   "cell_type": "code",
   "execution_count": 47,
   "id": "4321305a-d345-4581-8f09-1e26c3826ff1",
   "metadata": {},
   "outputs": [
    {
     "data": {
      "image/png": "[encoded data removed]",
      "text/plain": [
       "<Figure size 1296x576 with 2 Axes>"
      ]
     },
     "metadata": {},
     "output_type": "display_data"
    }
   ],
   "source": [
    "f, ax = plt.subplots(1, 2, figsize = (18, 8))\n",
    "data[['Sex', 'Survived']].groupby(['Sex']).mean().plot.bar(ax = ax[0])\n",
    "ax[0].set_title('Survived vs. Sex')\n",
    "sns.countplot('Sex', hue = 'Survived', data = data, ax = ax[1])\n",
    "ax[1].set_title('Sex:Survived vs. Dead')\n",
    "plt.show()"
   ]
  },
  {
   "cell_type": "markdown",
   "id": "08809f0b-f1b7-4c1e-86da-4ef543726dc1",
   "metadata": {},
   "source": [
    "- 해석 주의하기"
   ]
  },
  {
   "cell_type": "code",
   "execution_count": 48,
   "id": "1ffdfa6f-27ff-477a-a972-6f137d2fe315",
   "metadata": {},
   "outputs": [
    {
     "data": {
      "text/html": [
       "<div>\n",
       "<style scoped>\n",
       "    .dataframe tbody tr th:only-of-type {\n",
       "        vertical-align: middle;\n",
       "    }\n",
       "\n",
       "    .dataframe tbody tr th {\n",
       "        vertical-align: top;\n",
       "    }\n",
       "\n",
       "    .dataframe thead th {\n",
       "        text-align: right;\n",
       "    }\n",
       "</style>\n",
       "<table border=\"1\" class=\"dataframe\">\n",
       "  <thead>\n",
       "    <tr style=\"text-align: right;\">\n",
       "      <th></th>\n",
       "      <th>Survived</th>\n",
       "    </tr>\n",
       "    <tr>\n",
       "      <th>Sex</th>\n",
       "      <th></th>\n",
       "    </tr>\n",
       "  </thead>\n",
       "  <tbody>\n",
       "    <tr>\n",
       "      <th>female</th>\n",
       "      <td>0.742038</td>\n",
       "    </tr>\n",
       "    <tr>\n",
       "      <th>male</th>\n",
       "      <td>0.188908</td>\n",
       "    </tr>\n",
       "  </tbody>\n",
       "</table>\n",
       "</div>"
      ],
      "text/plain": [
       "        Survived\n",
       "Sex             \n",
       "female  0.742038\n",
       "male    0.188908"
      ]
     },
     "execution_count": 48,
     "metadata": {},
     "output_type": "execute_result"
    }
   ],
   "source": [
    "data[['Sex', 'Survived']].groupby(['Sex']).mean()"
   ]
  },
  {
   "cell_type": "markdown",
   "id": "d54d0dec-dd75-487e-9bc4-16526c4ad0bf",
   "metadata": {},
   "source": [
    "여자중에서 생존자의 비율"
   ]
  },
  {
   "cell_type": "code",
   "execution_count": 60,
   "id": "4eacb03e-88bc-4910-9f3f-ca14185538d0",
   "metadata": {},
   "outputs": [
    {
     "data": {
      "text/plain": [
       "0.7420382165605095"
      ]
     },
     "execution_count": 60,
     "metadata": {},
     "output_type": "execute_result"
    }
   ],
   "source": [
    "233 / (233 + 81)"
   ]
  },
  {
   "cell_type": "code",
   "execution_count": 61,
   "id": "dbd07d69-6b76-4179-bed1-e828f3232332",
   "metadata": {},
   "outputs": [
    {
     "data": {
      "text/plain": [
       "0.25796178343949044"
      ]
     },
     "execution_count": 61,
     "metadata": {},
     "output_type": "execute_result"
    }
   ],
   "source": [
    "81 / (233 + 81)"
   ]
  },
  {
   "cell_type": "code",
   "execution_count": 63,
   "id": "b533c708-ff6f-46a2-84fd-1688676b8378",
   "metadata": {},
   "outputs": [
    {
     "data": {
      "text/html": [
       "<style type=\"text/css\">\n",
       "#T_1e6dd_row0_col0, #T_1e6dd_row0_col1, #T_1e6dd_row0_col3, #T_1e6dd_row3_col2 {\n",
       "  background-color: #ffff66;\n",
       "  color: #000000;\n",
       "}\n",
       "#T_1e6dd_row0_col2, #T_1e6dd_row1_col2 {\n",
       "  background-color: #f1f866;\n",
       "  color: #000000;\n",
       "}\n",
       "#T_1e6dd_row1_col0 {\n",
       "  background-color: #96cb66;\n",
       "  color: #000000;\n",
       "}\n",
       "#T_1e6dd_row1_col1 {\n",
       "  background-color: #a3d166;\n",
       "  color: #000000;\n",
       "}\n",
       "#T_1e6dd_row1_col3 {\n",
       "  background-color: #cfe766;\n",
       "  color: #000000;\n",
       "}\n",
       "#T_1e6dd_row2_col0 {\n",
       "  background-color: #a7d366;\n",
       "  color: #000000;\n",
       "}\n",
       "#T_1e6dd_row2_col1, #T_1e6dd_row2_col3 {\n",
       "  background-color: #85c266;\n",
       "  color: #000000;\n",
       "}\n",
       "#T_1e6dd_row2_col2 {\n",
       "  background-color: #6eb666;\n",
       "  color: #f1f1f1;\n",
       "}\n",
       "#T_1e6dd_row3_col0 {\n",
       "  background-color: #cde666;\n",
       "  color: #000000;\n",
       "}\n",
       "#T_1e6dd_row3_col1 {\n",
       "  background-color: #f0f866;\n",
       "  color: #000000;\n",
       "}\n",
       "#T_1e6dd_row3_col3 {\n",
       "  background-color: #f7fb66;\n",
       "  color: #000000;\n",
       "}\n",
       "#T_1e6dd_row4_col0, #T_1e6dd_row4_col1, #T_1e6dd_row4_col2, #T_1e6dd_row4_col3 {\n",
       "  background-color: #008066;\n",
       "  color: #f1f1f1;\n",
       "}\n",
       "</style>\n",
       "<table id=\"T_1e6dd\">\n",
       "  <thead>\n",
       "    <tr>\n",
       "      <th class=\"blank\" >&nbsp;</th>\n",
       "      <th class=\"index_name level0\" >Pclass</th>\n",
       "      <th id=\"T_1e6dd_level0_col0\" class=\"col_heading level0 col0\" >1</th>\n",
       "      <th id=\"T_1e6dd_level0_col1\" class=\"col_heading level0 col1\" >2</th>\n",
       "      <th id=\"T_1e6dd_level0_col2\" class=\"col_heading level0 col2\" >3</th>\n",
       "      <th id=\"T_1e6dd_level0_col3\" class=\"col_heading level0 col3\" >All</th>\n",
       "    </tr>\n",
       "    <tr>\n",
       "      <th class=\"index_name level0\" >Sex</th>\n",
       "      <th class=\"index_name level1\" >Survived</th>\n",
       "      <th class=\"blank col0\" >&nbsp;</th>\n",
       "      <th class=\"blank col1\" >&nbsp;</th>\n",
       "      <th class=\"blank col2\" >&nbsp;</th>\n",
       "      <th class=\"blank col3\" >&nbsp;</th>\n",
       "    </tr>\n",
       "  </thead>\n",
       "  <tbody>\n",
       "    <tr>\n",
       "      <th id=\"T_1e6dd_level0_row0\" class=\"row_heading level0 row0\" rowspan=\"2\">female</th>\n",
       "      <th id=\"T_1e6dd_level1_row0\" class=\"row_heading level1 row0\" >0</th>\n",
       "      <td id=\"T_1e6dd_row0_col0\" class=\"data row0 col0\" >3</td>\n",
       "      <td id=\"T_1e6dd_row0_col1\" class=\"data row0 col1\" >6</td>\n",
       "      <td id=\"T_1e6dd_row0_col2\" class=\"data row0 col2\" >72</td>\n",
       "      <td id=\"T_1e6dd_row0_col3\" class=\"data row0 col3\" >81</td>\n",
       "    </tr>\n",
       "    <tr>\n",
       "      <th id=\"T_1e6dd_level1_row1\" class=\"row_heading level1 row1\" >1</th>\n",
       "      <td id=\"T_1e6dd_row1_col0\" class=\"data row1 col0\" >91</td>\n",
       "      <td id=\"T_1e6dd_row1_col1\" class=\"data row1 col1\" >70</td>\n",
       "      <td id=\"T_1e6dd_row1_col2\" class=\"data row1 col2\" >72</td>\n",
       "      <td id=\"T_1e6dd_row1_col3\" class=\"data row1 col3\" >233</td>\n",
       "    </tr>\n",
       "    <tr>\n",
       "      <th id=\"T_1e6dd_level0_row2\" class=\"row_heading level0 row2\" rowspan=\"2\">male</th>\n",
       "      <th id=\"T_1e6dd_level1_row2\" class=\"row_heading level1 row2\" >0</th>\n",
       "      <td id=\"T_1e6dd_row2_col0\" class=\"data row2 col0\" >77</td>\n",
       "      <td id=\"T_1e6dd_row2_col1\" class=\"data row2 col1\" >91</td>\n",
       "      <td id=\"T_1e6dd_row2_col2\" class=\"data row2 col2\" >300</td>\n",
       "      <td id=\"T_1e6dd_row2_col3\" class=\"data row2 col3\" >468</td>\n",
       "    </tr>\n",
       "    <tr>\n",
       "      <th id=\"T_1e6dd_level1_row3\" class=\"row_heading level1 row3\" >1</th>\n",
       "      <td id=\"T_1e6dd_row3_col0\" class=\"data row3 col0\" >45</td>\n",
       "      <td id=\"T_1e6dd_row3_col1\" class=\"data row3 col1\" >17</td>\n",
       "      <td id=\"T_1e6dd_row3_col2\" class=\"data row3 col2\" >47</td>\n",
       "      <td id=\"T_1e6dd_row3_col3\" class=\"data row3 col3\" >109</td>\n",
       "    </tr>\n",
       "    <tr>\n",
       "      <th id=\"T_1e6dd_level0_row4\" class=\"row_heading level0 row4\" >All</th>\n",
       "      <th id=\"T_1e6dd_level1_row4\" class=\"row_heading level1 row4\" ></th>\n",
       "      <td id=\"T_1e6dd_row4_col0\" class=\"data row4 col0\" >216</td>\n",
       "      <td id=\"T_1e6dd_row4_col1\" class=\"data row4 col1\" >184</td>\n",
       "      <td id=\"T_1e6dd_row4_col2\" class=\"data row4 col2\" >491</td>\n",
       "      <td id=\"T_1e6dd_row4_col3\" class=\"data row4 col3\" >891</td>\n",
       "    </tr>\n",
       "  </tbody>\n",
       "</table>\n"
      ],
      "text/plain": [
       "<pandas.io.formats.style.Styler at 0x255b87aee80>"
      ]
     },
     "execution_count": 63,
     "metadata": {},
     "output_type": "execute_result"
    }
   ],
   "source": [
    "pd.crosstab([data['Sex'], data['Survived']], data.Pclass, margins = True).style.background_gradient(cmap = 'summer_r')"
   ]
  },
  {
   "cell_type": "markdown",
   "id": "65eeb84b-6116-4924-83e1-35d8aebeb2a0",
   "metadata": {},
   "source": [
    "- What's in a Name?"
   ]
  },
  {
   "cell_type": "code",
   "execution_count": 64,
   "id": "a70d3696-6a60-41dc-9bb0-59ad8f87e28d",
   "metadata": {},
   "outputs": [
    {
     "data": {
      "text/plain": [
       "0                              Braund, Mr. Owen Harris\n",
       "1    Cumings, Mrs. John Bradley (Florence Briggs Th...\n",
       "2                               Heikkinen, Miss. Laina\n",
       "3         Futrelle, Mrs. Jacques Heath (Lily May Peel)\n",
       "4                             Allen, Mr. William Henry\n",
       "Name: Name, dtype: object"
      ]
     },
     "execution_count": 64,
     "metadata": {},
     "output_type": "execute_result"
    }
   ],
   "source": [
    "data['Name'].head()"
   ]
  },
  {
   "cell_type": "code",
   "execution_count": 65,
   "id": "803edbf5-f16b-4a05-919a-590f7a6ad581",
   "metadata": {},
   "outputs": [],
   "source": [
    "# 호칭에 대한 값 뽑음\n",
    "data['Initial'] = 0  "
   ]
  },
  {
   "cell_type": "code",
   "execution_count": 67,
   "id": "81343d51-79fe-46a1-8475-b3f5f738edc5",
   "metadata": {},
   "outputs": [],
   "source": [
    "for i in data:\n",
    "    data['Initial'] = data.Name.str.extract('([A-Za-z]+)\\.')\n",
    "    # 맨 뒤에 점이있고, 앞에 어떤 알파벳이든 출력"
   ]
  },
  {
   "cell_type": "code",
   "execution_count": 68,
   "id": "c3e8f959-fb7b-403a-b2f0-51744bc9fea4",
   "metadata": {},
   "outputs": [
    {
     "data": {
      "text/html": [
       "<style type=\"text/css\">\n",
       "#T_77f3d_row0_col0, #T_77f3d_row0_col1, #T_77f3d_row0_col3, #T_77f3d_row0_col4, #T_77f3d_row0_col5, #T_77f3d_row0_col7, #T_77f3d_row0_col8, #T_77f3d_row0_col12, #T_77f3d_row0_col15, #T_77f3d_row0_col16, #T_77f3d_row0_col17, #T_77f3d_row1_col2, #T_77f3d_row1_col6, #T_77f3d_row1_col9, #T_77f3d_row1_col10, #T_77f3d_row1_col11, #T_77f3d_row1_col13, #T_77f3d_row1_col14 {\n",
       "  background-color: #ffff66;\n",
       "  color: #000000;\n",
       "}\n",
       "#T_77f3d_row0_col2, #T_77f3d_row0_col6, #T_77f3d_row0_col9, #T_77f3d_row0_col10, #T_77f3d_row0_col11, #T_77f3d_row0_col13, #T_77f3d_row0_col14, #T_77f3d_row1_col0, #T_77f3d_row1_col1, #T_77f3d_row1_col3, #T_77f3d_row1_col5, #T_77f3d_row1_col7, #T_77f3d_row1_col8, #T_77f3d_row1_col12, #T_77f3d_row1_col15, #T_77f3d_row1_col16, #T_77f3d_row2_col0, #T_77f3d_row2_col1, #T_77f3d_row2_col2, #T_77f3d_row2_col3, #T_77f3d_row2_col4, #T_77f3d_row2_col5, #T_77f3d_row2_col6, #T_77f3d_row2_col7, #T_77f3d_row2_col8, #T_77f3d_row2_col9, #T_77f3d_row2_col10, #T_77f3d_row2_col11, #T_77f3d_row2_col12, #T_77f3d_row2_col13, #T_77f3d_row2_col14, #T_77f3d_row2_col15, #T_77f3d_row2_col16, #T_77f3d_row2_col17 {\n",
       "  background-color: #008066;\n",
       "  color: #f1f1f1;\n",
       "}\n",
       "#T_77f3d_row1_col4 {\n",
       "  background-color: #2a9466;\n",
       "  color: #f1f1f1;\n",
       "}\n",
       "#T_77f3d_row1_col17 {\n",
       "  background-color: #8bc566;\n",
       "  color: #000000;\n",
       "}\n",
       "</style>\n",
       "<table id=\"T_77f3d\">\n",
       "  <thead>\n",
       "    <tr>\n",
       "      <th class=\"index_name level0\" >Initial</th>\n",
       "      <th id=\"T_77f3d_level0_col0\" class=\"col_heading level0 col0\" >Capt</th>\n",
       "      <th id=\"T_77f3d_level0_col1\" class=\"col_heading level0 col1\" >Col</th>\n",
       "      <th id=\"T_77f3d_level0_col2\" class=\"col_heading level0 col2\" >Countess</th>\n",
       "      <th id=\"T_77f3d_level0_col3\" class=\"col_heading level0 col3\" >Don</th>\n",
       "      <th id=\"T_77f3d_level0_col4\" class=\"col_heading level0 col4\" >Dr</th>\n",
       "      <th id=\"T_77f3d_level0_col5\" class=\"col_heading level0 col5\" >Jonkheer</th>\n",
       "      <th id=\"T_77f3d_level0_col6\" class=\"col_heading level0 col6\" >Lady</th>\n",
       "      <th id=\"T_77f3d_level0_col7\" class=\"col_heading level0 col7\" >Major</th>\n",
       "      <th id=\"T_77f3d_level0_col8\" class=\"col_heading level0 col8\" >Master</th>\n",
       "      <th id=\"T_77f3d_level0_col9\" class=\"col_heading level0 col9\" >Miss</th>\n",
       "      <th id=\"T_77f3d_level0_col10\" class=\"col_heading level0 col10\" >Mlle</th>\n",
       "      <th id=\"T_77f3d_level0_col11\" class=\"col_heading level0 col11\" >Mme</th>\n",
       "      <th id=\"T_77f3d_level0_col12\" class=\"col_heading level0 col12\" >Mr</th>\n",
       "      <th id=\"T_77f3d_level0_col13\" class=\"col_heading level0 col13\" >Mrs</th>\n",
       "      <th id=\"T_77f3d_level0_col14\" class=\"col_heading level0 col14\" >Ms</th>\n",
       "      <th id=\"T_77f3d_level0_col15\" class=\"col_heading level0 col15\" >Rev</th>\n",
       "      <th id=\"T_77f3d_level0_col16\" class=\"col_heading level0 col16\" >Sir</th>\n",
       "      <th id=\"T_77f3d_level0_col17\" class=\"col_heading level0 col17\" >All</th>\n",
       "    </tr>\n",
       "    <tr>\n",
       "      <th class=\"index_name level0\" >Sex</th>\n",
       "      <th class=\"blank col0\" >&nbsp;</th>\n",
       "      <th class=\"blank col1\" >&nbsp;</th>\n",
       "      <th class=\"blank col2\" >&nbsp;</th>\n",
       "      <th class=\"blank col3\" >&nbsp;</th>\n",
       "      <th class=\"blank col4\" >&nbsp;</th>\n",
       "      <th class=\"blank col5\" >&nbsp;</th>\n",
       "      <th class=\"blank col6\" >&nbsp;</th>\n",
       "      <th class=\"blank col7\" >&nbsp;</th>\n",
       "      <th class=\"blank col8\" >&nbsp;</th>\n",
       "      <th class=\"blank col9\" >&nbsp;</th>\n",
       "      <th class=\"blank col10\" >&nbsp;</th>\n",
       "      <th class=\"blank col11\" >&nbsp;</th>\n",
       "      <th class=\"blank col12\" >&nbsp;</th>\n",
       "      <th class=\"blank col13\" >&nbsp;</th>\n",
       "      <th class=\"blank col14\" >&nbsp;</th>\n",
       "      <th class=\"blank col15\" >&nbsp;</th>\n",
       "      <th class=\"blank col16\" >&nbsp;</th>\n",
       "      <th class=\"blank col17\" >&nbsp;</th>\n",
       "    </tr>\n",
       "  </thead>\n",
       "  <tbody>\n",
       "    <tr>\n",
       "      <th id=\"T_77f3d_level0_row0\" class=\"row_heading level0 row0\" >female</th>\n",
       "      <td id=\"T_77f3d_row0_col0\" class=\"data row0 col0\" >0</td>\n",
       "      <td id=\"T_77f3d_row0_col1\" class=\"data row0 col1\" >0</td>\n",
       "      <td id=\"T_77f3d_row0_col2\" class=\"data row0 col2\" >1</td>\n",
       "      <td id=\"T_77f3d_row0_col3\" class=\"data row0 col3\" >0</td>\n",
       "      <td id=\"T_77f3d_row0_col4\" class=\"data row0 col4\" >1</td>\n",
       "      <td id=\"T_77f3d_row0_col5\" class=\"data row0 col5\" >0</td>\n",
       "      <td id=\"T_77f3d_row0_col6\" class=\"data row0 col6\" >1</td>\n",
       "      <td id=\"T_77f3d_row0_col7\" class=\"data row0 col7\" >0</td>\n",
       "      <td id=\"T_77f3d_row0_col8\" class=\"data row0 col8\" >0</td>\n",
       "      <td id=\"T_77f3d_row0_col9\" class=\"data row0 col9\" >182</td>\n",
       "      <td id=\"T_77f3d_row0_col10\" class=\"data row0 col10\" >2</td>\n",
       "      <td id=\"T_77f3d_row0_col11\" class=\"data row0 col11\" >1</td>\n",
       "      <td id=\"T_77f3d_row0_col12\" class=\"data row0 col12\" >0</td>\n",
       "      <td id=\"T_77f3d_row0_col13\" class=\"data row0 col13\" >125</td>\n",
       "      <td id=\"T_77f3d_row0_col14\" class=\"data row0 col14\" >1</td>\n",
       "      <td id=\"T_77f3d_row0_col15\" class=\"data row0 col15\" >0</td>\n",
       "      <td id=\"T_77f3d_row0_col16\" class=\"data row0 col16\" >0</td>\n",
       "      <td id=\"T_77f3d_row0_col17\" class=\"data row0 col17\" >314</td>\n",
       "    </tr>\n",
       "    <tr>\n",
       "      <th id=\"T_77f3d_level0_row1\" class=\"row_heading level0 row1\" >male</th>\n",
       "      <td id=\"T_77f3d_row1_col0\" class=\"data row1 col0\" >1</td>\n",
       "      <td id=\"T_77f3d_row1_col1\" class=\"data row1 col1\" >2</td>\n",
       "      <td id=\"T_77f3d_row1_col2\" class=\"data row1 col2\" >0</td>\n",
       "      <td id=\"T_77f3d_row1_col3\" class=\"data row1 col3\" >1</td>\n",
       "      <td id=\"T_77f3d_row1_col4\" class=\"data row1 col4\" >6</td>\n",
       "      <td id=\"T_77f3d_row1_col5\" class=\"data row1 col5\" >1</td>\n",
       "      <td id=\"T_77f3d_row1_col6\" class=\"data row1 col6\" >0</td>\n",
       "      <td id=\"T_77f3d_row1_col7\" class=\"data row1 col7\" >2</td>\n",
       "      <td id=\"T_77f3d_row1_col8\" class=\"data row1 col8\" >40</td>\n",
       "      <td id=\"T_77f3d_row1_col9\" class=\"data row1 col9\" >0</td>\n",
       "      <td id=\"T_77f3d_row1_col10\" class=\"data row1 col10\" >0</td>\n",
       "      <td id=\"T_77f3d_row1_col11\" class=\"data row1 col11\" >0</td>\n",
       "      <td id=\"T_77f3d_row1_col12\" class=\"data row1 col12\" >517</td>\n",
       "      <td id=\"T_77f3d_row1_col13\" class=\"data row1 col13\" >0</td>\n",
       "      <td id=\"T_77f3d_row1_col14\" class=\"data row1 col14\" >0</td>\n",
       "      <td id=\"T_77f3d_row1_col15\" class=\"data row1 col15\" >6</td>\n",
       "      <td id=\"T_77f3d_row1_col16\" class=\"data row1 col16\" >1</td>\n",
       "      <td id=\"T_77f3d_row1_col17\" class=\"data row1 col17\" >577</td>\n",
       "    </tr>\n",
       "    <tr>\n",
       "      <th id=\"T_77f3d_level0_row2\" class=\"row_heading level0 row2\" >All</th>\n",
       "      <td id=\"T_77f3d_row2_col0\" class=\"data row2 col0\" >1</td>\n",
       "      <td id=\"T_77f3d_row2_col1\" class=\"data row2 col1\" >2</td>\n",
       "      <td id=\"T_77f3d_row2_col2\" class=\"data row2 col2\" >1</td>\n",
       "      <td id=\"T_77f3d_row2_col3\" class=\"data row2 col3\" >1</td>\n",
       "      <td id=\"T_77f3d_row2_col4\" class=\"data row2 col4\" >7</td>\n",
       "      <td id=\"T_77f3d_row2_col5\" class=\"data row2 col5\" >1</td>\n",
       "      <td id=\"T_77f3d_row2_col6\" class=\"data row2 col6\" >1</td>\n",
       "      <td id=\"T_77f3d_row2_col7\" class=\"data row2 col7\" >2</td>\n",
       "      <td id=\"T_77f3d_row2_col8\" class=\"data row2 col8\" >40</td>\n",
       "      <td id=\"T_77f3d_row2_col9\" class=\"data row2 col9\" >182</td>\n",
       "      <td id=\"T_77f3d_row2_col10\" class=\"data row2 col10\" >2</td>\n",
       "      <td id=\"T_77f3d_row2_col11\" class=\"data row2 col11\" >1</td>\n",
       "      <td id=\"T_77f3d_row2_col12\" class=\"data row2 col12\" >517</td>\n",
       "      <td id=\"T_77f3d_row2_col13\" class=\"data row2 col13\" >125</td>\n",
       "      <td id=\"T_77f3d_row2_col14\" class=\"data row2 col14\" >1</td>\n",
       "      <td id=\"T_77f3d_row2_col15\" class=\"data row2 col15\" >6</td>\n",
       "      <td id=\"T_77f3d_row2_col16\" class=\"data row2 col16\" >1</td>\n",
       "      <td id=\"T_77f3d_row2_col17\" class=\"data row2 col17\" >891</td>\n",
       "    </tr>\n",
       "  </tbody>\n",
       "</table>\n"
      ],
      "text/plain": [
       "<pandas.io.formats.style.Styler at 0x255b1507d60>"
      ]
     },
     "execution_count": 68,
     "metadata": {},
     "output_type": "execute_result"
    }
   ],
   "source": [
    "pd.crosstab(data.Initial, data.Sex, margins = True).T.style.background_gradient(cmap = 'summer_r')"
   ]
  },
  {
   "cell_type": "code",
   "execution_count": 71,
   "id": "5cbb0c20-3c1e-4a0e-b576-e9d1383ce7c4",
   "metadata": {},
   "outputs": [],
   "source": [
    "data['Initial'].replace(['Mlle','Mme','Ms','Dr','Major','Lady','Countess','Jonkheer','Col','Rev','Capt','Sir','Don'],['Miss','Miss','Miss','Mr','Mr','Mrs','Mrs','Other','Other','Other','Mr','Mr','Mr'],inplace=True)"
   ]
  },
  {
   "cell_type": "code",
   "execution_count": 72,
   "id": "1b504399-1f64-4f47-a42b-d0228a13ddc8",
   "metadata": {},
   "outputs": [
    {
     "data": {
      "text/plain": [
       "Initial\n",
       "Master     4.574167\n",
       "Miss      21.860000\n",
       "Mr        32.739609\n",
       "Mrs       35.981818\n",
       "Other     45.888889\n",
       "Name: Age, dtype: float64"
      ]
     },
     "execution_count": 72,
     "metadata": {},
     "output_type": "execute_result"
    }
   ],
   "source": [
    "data.groupby('Initial')['Age'].mean()"
   ]
  },
  {
   "cell_type": "code",
   "execution_count": 73,
   "id": "fb3ed22e-abe6-42a3-b8b4-f1cc4d3ed427",
   "metadata": {},
   "outputs": [],
   "source": [
    "data.loc[(data.Age.isnull()) & (data.Initial=='Mr'),'Age']=33\n",
    "data.loc[(data.Age.isnull()) & (data.Initial=='Mrs'),'Age']=36\n",
    "data.loc[(data.Age.isnull()) & (data.Initial=='Master'),'Age']=5\n",
    "data.loc[(data.Age.isnull()) & (data.Initial=='Miss'),'Age']=22\n",
    "data.loc[(data.Age.isnull()) & (data.Initial=='Other'),'Age']=46"
   ]
  },
  {
   "cell_type": "code",
   "execution_count": 74,
   "id": "b9d70390-6093-410b-81fa-8d30ca2ea749",
   "metadata": {},
   "outputs": [
    {
     "data": {
      "text/plain": [
       "False"
      ]
     },
     "execution_count": 74,
     "metadata": {},
     "output_type": "execute_result"
    }
   ],
   "source": [
    "data.Age.isnull().any() # NuLL값이 있는지 확인"
   ]
  },
  {
   "cell_type": "code",
   "execution_count": 78,
   "id": "3e38e610-3cf9-47c7-855a-18df06347415",
   "metadata": {},
   "outputs": [
    {
     "ename": "KeyError",
     "evalue": "'Survived'",
     "output_type": "error",
     "traceback": [
      "\u001b[1;31m---------------------------------------------------------------------------\u001b[0m",
      "\u001b[1;31mKeyError\u001b[0m                                  Traceback (most recent call last)",
      "File \u001b[1;32m~\\anaconda3\\lib\\site-packages\\pandas\\core\\indexes\\base.py:3621\u001b[0m, in \u001b[0;36mIndex.get_loc\u001b[1;34m(self, key, method, tolerance)\u001b[0m\n\u001b[0;32m   3620\u001b[0m \u001b[38;5;28;01mtry\u001b[39;00m:\n\u001b[1;32m-> 3621\u001b[0m     \u001b[38;5;28;01mreturn\u001b[39;00m \u001b[38;5;28;43mself\u001b[39;49m\u001b[38;5;241;43m.\u001b[39;49m\u001b[43m_engine\u001b[49m\u001b[38;5;241;43m.\u001b[39;49m\u001b[43mget_loc\u001b[49m\u001b[43m(\u001b[49m\u001b[43mcasted_key\u001b[49m\u001b[43m)\u001b[49m\n\u001b[0;32m   3622\u001b[0m \u001b[38;5;28;01mexcept\u001b[39;00m \u001b[38;5;167;01mKeyError\u001b[39;00m \u001b[38;5;28;01mas\u001b[39;00m err:\n",
      "File \u001b[1;32m~\\anaconda3\\lib\\site-packages\\pandas\\_libs\\index.pyx:136\u001b[0m, in \u001b[0;36mpandas._libs.index.IndexEngine.get_loc\u001b[1;34m()\u001b[0m\n",
      "File \u001b[1;32m~\\anaconda3\\lib\\site-packages\\pandas\\_libs\\index.pyx:163\u001b[0m, in \u001b[0;36mpandas._libs.index.IndexEngine.get_loc\u001b[1;34m()\u001b[0m\n",
      "File \u001b[1;32mpandas\\_libs\\hashtable_class_helper.pxi:5198\u001b[0m, in \u001b[0;36mpandas._libs.hashtable.PyObjectHashTable.get_item\u001b[1;34m()\u001b[0m\n",
      "File \u001b[1;32mpandas\\_libs\\hashtable_class_helper.pxi:5206\u001b[0m, in \u001b[0;36mpandas._libs.hashtable.PyObjectHashTable.get_item\u001b[1;34m()\u001b[0m\n",
      "\u001b[1;31mKeyError\u001b[0m: 'Survived'",
      "\nThe above exception was the direct cause of the following exception:\n",
      "\u001b[1;31mKeyError\u001b[0m                                  Traceback (most recent call last)",
      "Input \u001b[1;32mIn [78]\u001b[0m, in \u001b[0;36m<cell line: 2>\u001b[1;34m()\u001b[0m\n\u001b[0;32m      1\u001b[0m fig, ax \u001b[38;5;241m=\u001b[39m plt\u001b[38;5;241m.\u001b[39msubplots(\u001b[38;5;241m1\u001b[39m, \u001b[38;5;241m2\u001b[39m, figsize\u001b[38;5;241m=\u001b[39m(\u001b[38;5;241m18\u001b[39m, \u001b[38;5;241m8\u001b[39m))\n\u001b[1;32m----> 2\u001b[0m data[\u001b[43mdata\u001b[49m\u001b[43m[\u001b[49m\u001b[38;5;124;43m'\u001b[39;49m\u001b[38;5;124;43mSurvived\u001b[39;49m\u001b[38;5;124;43m'\u001b[39;49m\u001b[43m]\u001b[49m \u001b[38;5;241m==\u001b[39m \u001b[38;5;241m0\u001b[39m]\u001b[38;5;241m.\u001b[39mAge\u001b[38;5;241m.\u001b[39mplot\u001b[38;5;241m.\u001b[39mhist(ax\u001b[38;5;241m=\u001b[39max[\u001b[38;5;241m0\u001b[39m], bins\u001b[38;5;241m=\u001b[39m\u001b[38;5;241m20\u001b[39m, edgecolor\u001b[38;5;241m=\u001b[39m\u001b[38;5;124m'\u001b[39m\u001b[38;5;124mblack\u001b[39m\u001b[38;5;124m'\u001b[39m, color\u001b[38;5;241m=\u001b[39m\u001b[38;5;124m'\u001b[39m\u001b[38;5;124mred\u001b[39m\u001b[38;5;124m'\u001b[39m)\n\u001b[0;32m      3\u001b[0m ax[\u001b[38;5;241m0\u001b[39m]\u001b[38;5;241m.\u001b[39mset_title(\u001b[38;5;124m'\u001b[39m\u001b[38;5;124mNot Survived\u001b[39m\u001b[38;5;124m'\u001b[39m)\n\u001b[0;32m      4\u001b[0m x1\u001b[38;5;241m=\u001b[39m\u001b[38;5;28mlist\u001b[39m(\u001b[38;5;28mrange\u001b[39m(\u001b[38;5;241m0\u001b[39m, \u001b[38;5;241m85\u001b[39m, \u001b[38;5;241m5\u001b[39m))\n",
      "File \u001b[1;32m~\\anaconda3\\lib\\site-packages\\pandas\\core\\frame.py:3505\u001b[0m, in \u001b[0;36mDataFrame.__getitem__\u001b[1;34m(self, key)\u001b[0m\n\u001b[0;32m   3503\u001b[0m \u001b[38;5;28;01mif\u001b[39;00m \u001b[38;5;28mself\u001b[39m\u001b[38;5;241m.\u001b[39mcolumns\u001b[38;5;241m.\u001b[39mnlevels \u001b[38;5;241m>\u001b[39m \u001b[38;5;241m1\u001b[39m:\n\u001b[0;32m   3504\u001b[0m     \u001b[38;5;28;01mreturn\u001b[39;00m \u001b[38;5;28mself\u001b[39m\u001b[38;5;241m.\u001b[39m_getitem_multilevel(key)\n\u001b[1;32m-> 3505\u001b[0m indexer \u001b[38;5;241m=\u001b[39m \u001b[38;5;28;43mself\u001b[39;49m\u001b[38;5;241;43m.\u001b[39;49m\u001b[43mcolumns\u001b[49m\u001b[38;5;241;43m.\u001b[39;49m\u001b[43mget_loc\u001b[49m\u001b[43m(\u001b[49m\u001b[43mkey\u001b[49m\u001b[43m)\u001b[49m\n\u001b[0;32m   3506\u001b[0m \u001b[38;5;28;01mif\u001b[39;00m is_integer(indexer):\n\u001b[0;32m   3507\u001b[0m     indexer \u001b[38;5;241m=\u001b[39m [indexer]\n",
      "File \u001b[1;32m~\\anaconda3\\lib\\site-packages\\pandas\\core\\indexes\\base.py:3623\u001b[0m, in \u001b[0;36mIndex.get_loc\u001b[1;34m(self, key, method, tolerance)\u001b[0m\n\u001b[0;32m   3621\u001b[0m     \u001b[38;5;28;01mreturn\u001b[39;00m \u001b[38;5;28mself\u001b[39m\u001b[38;5;241m.\u001b[39m_engine\u001b[38;5;241m.\u001b[39mget_loc(casted_key)\n\u001b[0;32m   3622\u001b[0m \u001b[38;5;28;01mexcept\u001b[39;00m \u001b[38;5;167;01mKeyError\u001b[39;00m \u001b[38;5;28;01mas\u001b[39;00m err:\n\u001b[1;32m-> 3623\u001b[0m     \u001b[38;5;28;01mraise\u001b[39;00m \u001b[38;5;167;01mKeyError\u001b[39;00m(key) \u001b[38;5;28;01mfrom\u001b[39;00m \u001b[38;5;21;01merr\u001b[39;00m\n\u001b[0;32m   3624\u001b[0m \u001b[38;5;28;01mexcept\u001b[39;00m \u001b[38;5;167;01mTypeError\u001b[39;00m:\n\u001b[0;32m   3625\u001b[0m     \u001b[38;5;66;03m# If we have a listlike key, _check_indexing_error will raise\u001b[39;00m\n\u001b[0;32m   3626\u001b[0m     \u001b[38;5;66;03m#  InvalidIndexError. Otherwise we fall through and re-raise\u001b[39;00m\n\u001b[0;32m   3627\u001b[0m     \u001b[38;5;66;03m#  the TypeError.\u001b[39;00m\n\u001b[0;32m   3628\u001b[0m     \u001b[38;5;28mself\u001b[39m\u001b[38;5;241m.\u001b[39m_check_indexing_error(key)\n",
      "\u001b[1;31mKeyError\u001b[0m: 'Survived'"
     ]
    },
    {
     "data": {
      "image/png": "[encoded data removed]",
      "text/plain": [
       "<Figure size 1296x576 with 2 Axes>"
      ]
     },
     "metadata": {},
     "output_type": "display_data"
    }
   ],
   "source": [
    "fig, ax = plt.subplots(1, 2, figsize=(18, 8))\n",
    "data[data['Survived'] == 0].Age.plot.hist(ax=ax[0], bins=20, edgecolor='black', color='red')\n",
    "ax[0].set_title('Not Survived')\n",
    "x1=list(range(0, 85, 5))\n",
    "ax[0].set_xticks(x1)\n",
    "data[data.Survived==1].Age.plot.hist(ax=ax[1], bins=20, color='green', edgecolor='black')\n",
    "ax[1].set_title('Survived')\n",
    "ax[1].set_xticks(range(0, 85, 5))\n",
    "plt.show()"
   ]
  },
  {
   "cell_type": "markdown",
   "id": "da95f53d-e958-468f-800b-3e6fad84488d",
   "metadata": {},
   "source": [
    "https://velog.io/@lsmmay322/%ED%83%80%EC%9D%B4%ED%83%80%EB%8B%89-%EC%A0%9C%EB%8C%80%EB%A1%9C-%EB%B6%84%EC%84%9D%ED%95%B4%EB%B3%B4%EA%B8%B0"
   ]
  },
  {
   "cell_type": "markdown",
   "id": "e01963a6-cf11-4b06-8f87-748e2f1d0a20",
   "metadata": {},
   "source": [
    "### 4. Folium 개요"
   ]
  },
  {
   "cell_type": "markdown",
   "id": "90bb62ef-20b8-43f9-90c3-b6204c7c03f1",
   "metadata": {},
   "source": [
    "folium은 leaflet.js 기반으로 만들어진 Python 지도 시각화 라이브러리로 interactive한 지도를 생성하고, 마커를 추가해서 기각화하거나 원으로 범위를 표기하고 html로 내보내기"
   ]
  },
  {
   "cell_type": "code",
   "execution_count": 80,
   "id": "25503661-6810-4c1a-be20-f758c57ca72e",
   "metadata": {},
   "outputs": [
    {
     "name": "stdout",
     "output_type": "stream",
     "text": [
      "Collecting folium\n",
      "  Downloading folium-0.12.1.post1-py2.py3-none-any.whl (95 kB)\n",
      "Requirement already satisfied: requests in c:\\users\\conet\\anaconda3\\lib\\site-packages (from folium) (2.27.1)\n",
      "Collecting branca>=0.3.0\n",
      "  Downloading branca-0.5.0-py3-none-any.whl (24 kB)\n",
      "Requirement already satisfied: jinja2>=2.9 in c:\\users\\conet\\anaconda3\\lib\\site-packages (from folium) (2.11.3)\n",
      "Requirement already satisfied: numpy in c:\\users\\conet\\anaconda3\\lib\\site-packages (from folium) (1.21.5)\n",
      "Requirement already satisfied: MarkupSafe>=0.23 in c:\\users\\conet\\anaconda3\\lib\\site-packages (from jinja2>=2.9->folium) (2.0.1)\n",
      "Requirement already satisfied: urllib3<1.27,>=1.21.1 in c:\\users\\conet\\anaconda3\\lib\\site-packages (from requests->folium) (1.26.9)\n",
      "Requirement already satisfied: idna<4,>=2.5 in c:\\users\\conet\\anaconda3\\lib\\site-packages (from requests->folium) (3.3)\n",
      "Requirement already satisfied: certifi>=2017.4.17 in c:\\users\\conet\\anaconda3\\lib\\site-packages (from requests->folium) (2021.10.8)\n",
      "Requirement already satisfied: charset-normalizer~=2.0.0 in c:\\users\\conet\\anaconda3\\lib\\site-packages (from requests->folium) (2.0.4)\n",
      "Installing collected packages: branca, folium\n",
      "Successfully installed branca-0.5.0 folium-0.12.1.post1\n"
     ]
    }
   ],
   "source": [
    "!pip install folium"
   ]
  },
  {
   "cell_type": "code",
   "execution_count": 81,
   "id": "a352bd26-f7b8-42dc-af79-4e2e82b110f6",
   "metadata": {},
   "outputs": [],
   "source": [
    "import folium"
   ]
  },
  {
   "cell_type": "code",
   "execution_count": 82,
   "id": "c763c7b1-9da9-49c8-88b2-ba23d1d4aa5e",
   "metadata": {},
   "outputs": [],
   "source": [
    "latitude = 37.55031155\n",
    "\n",
    "longitude = 126.92553071"
   ]
  },
  {
   "cell_type": "code",
   "execution_count": 83,
   "id": "d24bb876-7ad6-4f94-8d79-3ecceb1da4b2",
   "metadata": {},
   "outputs": [
    {
     "data": {
      "text/html": [
       "<div style=\"width:100%;\"><div style=\"position:relative;width:100%;height:0;padding-bottom:60%;\"><span style=\"color:#565656\">Make this Notebook Trusted to load map: File -> Trust Notebook</span><iframe srcdoc=\"&lt;!DOCTYPE html&gt;\n",
       "&lt;head&gt;    \n",
       "    &lt;meta http-equiv=&quot;content-type&quot; content=&quot;text/html; charset=UTF-8&quot; /&gt;\n",
       "    \n",
       "        &lt;script&gt;\n",
       "            L_NO_TOUCH = false;\n",
       "            L_DISABLE_3D = false;\n",
       "        &lt;/script&gt;\n",
       "    \n",
       "    &lt;style&gt;html, body {width: 100%;height: 100%;margin: 0;padding: 0;}&lt;/style&gt;\n",
       "    &lt;style&gt;#map {position:absolute;top:0;bottom:0;right:0;left:0;}&lt;/style&gt;\n",
       "    &lt;script src=&quot;https://cdn.jsdelivr.net/npm/leaflet@1.6.0/dist/leaflet.js&quot;&gt;&lt;/script&gt;\n",
       "    &lt;script src=&quot;https://code.jquery.com/jquery-1.12.4.min.js&quot;&gt;&lt;/script&gt;\n",
       "    &lt;script src=&quot;https://maxcdn.bootstrapcdn.com/bootstrap/3.2.0/js/bootstrap.min.js&quot;&gt;&lt;/script&gt;\n",
       "    &lt;script src=&quot;https://cdnjs.cloudflare.com/ajax/libs/Leaflet.awesome-markers/2.0.2/leaflet.awesome-markers.js&quot;&gt;&lt;/script&gt;\n",
       "    &lt;link rel=&quot;stylesheet&quot; href=&quot;https://cdn.jsdelivr.net/npm/leaflet@1.6.0/dist/leaflet.css&quot;/&gt;\n",
       "    &lt;link rel=&quot;stylesheet&quot; href=&quot;https://maxcdn.bootstrapcdn.com/bootstrap/3.2.0/css/bootstrap.min.css&quot;/&gt;\n",
       "    &lt;link rel=&quot;stylesheet&quot; href=&quot;https://maxcdn.bootstrapcdn.com/bootstrap/3.2.0/css/bootstrap-theme.min.css&quot;/&gt;\n",
       "    &lt;link rel=&quot;stylesheet&quot; href=&quot;https://maxcdn.bootstrapcdn.com/font-awesome/4.6.3/css/font-awesome.min.css&quot;/&gt;\n",
       "    &lt;link rel=&quot;stylesheet&quot; href=&quot;https://cdnjs.cloudflare.com/ajax/libs/Leaflet.awesome-markers/2.0.2/leaflet.awesome-markers.css&quot;/&gt;\n",
       "    &lt;link rel=&quot;stylesheet&quot; href=&quot;https://cdn.jsdelivr.net/gh/python-visualization/folium/folium/templates/leaflet.awesome.rotate.min.css&quot;/&gt;\n",
       "    \n",
       "            &lt;meta name=&quot;viewport&quot; content=&quot;width=device-width,\n",
       "                initial-scale=1.0, maximum-scale=1.0, user-scalable=no&quot; /&gt;\n",
       "            &lt;style&gt;\n",
       "                #map_f7c3410e8ce3ce9c0f9c8fa01b8495ac {\n",
       "                    position: relative;\n",
       "                    width: 750.0px;\n",
       "                    height: 500.0px;\n",
       "                    left: 0.0%;\n",
       "                    top: 0.0%;\n",
       "                }\n",
       "            &lt;/style&gt;\n",
       "        \n",
       "&lt;/head&gt;\n",
       "&lt;body&gt;    \n",
       "    \n",
       "            &lt;div class=&quot;folium-map&quot; id=&quot;map_f7c3410e8ce3ce9c0f9c8fa01b8495ac&quot; &gt;&lt;/div&gt;\n",
       "        \n",
       "&lt;/body&gt;\n",
       "&lt;script&gt;    \n",
       "    \n",
       "            var map_f7c3410e8ce3ce9c0f9c8fa01b8495ac = L.map(\n",
       "                &quot;map_f7c3410e8ce3ce9c0f9c8fa01b8495ac&quot;,\n",
       "                {\n",
       "                    center: [37.55031155, 126.92553071],\n",
       "                    crs: L.CRS.EPSG3857,\n",
       "                    zoom: 17,\n",
       "                    zoomControl: true,\n",
       "                    preferCanvas: false,\n",
       "                }\n",
       "            );\n",
       "\n",
       "            \n",
       "\n",
       "        \n",
       "    \n",
       "            var tile_layer_8fcece392c8e87a28a1789789211df8e = L.tileLayer(\n",
       "                &quot;https://{s}.tile.openstreetmap.org/{z}/{x}/{y}.png&quot;,\n",
       "                {&quot;attribution&quot;: &quot;Data by \\u0026copy; \\u003ca href=\\&quot;http://openstreetmap.org\\&quot;\\u003eOpenStreetMap\\u003c/a\\u003e, under \\u003ca href=\\&quot;http://www.openstreetmap.org/copyright\\&quot;\\u003eODbL\\u003c/a\\u003e.&quot;, &quot;detectRetina&quot;: false, &quot;maxNativeZoom&quot;: 18, &quot;maxZoom&quot;: 18, &quot;minZoom&quot;: 0, &quot;noWrap&quot;: false, &quot;opacity&quot;: 1, &quot;subdomains&quot;: &quot;abc&quot;, &quot;tms&quot;: false}\n",
       "            ).addTo(map_f7c3410e8ce3ce9c0f9c8fa01b8495ac);\n",
       "        \n",
       "&lt;/script&gt;\" style=\"position:absolute;width:100%;height:100%;left:0;top:0;border:none !important;\" allowfullscreen webkitallowfullscreen mozallowfullscreen></iframe></div></div>"
      ],
      "text/plain": [
       "<folium.folium.Map at 0x2559c5b1190>"
      ]
     },
     "execution_count": 83,
     "metadata": {},
     "output_type": "execute_result"
    }
   ],
   "source": [
    "m = folium.Map(location=[latitude, longitude],\n",
    "               zoom_start=17, \n",
    "               width=750, \n",
    "               height=500\n",
    "              )\n",
    "m"
   ]
  },
  {
   "cell_type": "code",
   "execution_count": 86,
   "id": "6027d1d1-e8ad-4d9d-9caa-bbd659efdcb6",
   "metadata": {},
   "outputs": [
    {
     "ename": "ValueError",
     "evalue": "Marker location must be assigned when added directly to map.",
     "output_type": "error",
     "traceback": [
      "\u001b[1;31m---------------------------------------------------------------------------\u001b[0m",
      "\u001b[1;31mValueError\u001b[0m                                Traceback (most recent call last)",
      "File \u001b[1;32m~\\anaconda3\\lib\\site-packages\\IPython\\core\\formatters.py:343\u001b[0m, in \u001b[0;36mBaseFormatter.__call__\u001b[1;34m(self, obj)\u001b[0m\n\u001b[0;32m    341\u001b[0m     method \u001b[38;5;241m=\u001b[39m get_real_method(obj, \u001b[38;5;28mself\u001b[39m\u001b[38;5;241m.\u001b[39mprint_method)\n\u001b[0;32m    342\u001b[0m     \u001b[38;5;28;01mif\u001b[39;00m method \u001b[38;5;129;01mis\u001b[39;00m \u001b[38;5;129;01mnot\u001b[39;00m \u001b[38;5;28;01mNone\u001b[39;00m:\n\u001b[1;32m--> 343\u001b[0m         \u001b[38;5;28;01mreturn\u001b[39;00m \u001b[43mmethod\u001b[49m\u001b[43m(\u001b[49m\u001b[43m)\u001b[49m\n\u001b[0;32m    344\u001b[0m     \u001b[38;5;28;01mreturn\u001b[39;00m \u001b[38;5;28;01mNone\u001b[39;00m\n\u001b[0;32m    345\u001b[0m \u001b[38;5;28;01melse\u001b[39;00m:\n",
      "File \u001b[1;32m~\\anaconda3\\lib\\site-packages\\folium\\folium.py:299\u001b[0m, in \u001b[0;36mMap._repr_html_\u001b[1;34m(self, **kwargs)\u001b[0m\n\u001b[0;32m    297\u001b[0m     \u001b[38;5;28mself\u001b[39m\u001b[38;5;241m.\u001b[39m_parent \u001b[38;5;241m=\u001b[39m \u001b[38;5;28;01mNone\u001b[39;00m\n\u001b[0;32m    298\u001b[0m \u001b[38;5;28;01melse\u001b[39;00m:\n\u001b[1;32m--> 299\u001b[0m     out \u001b[38;5;241m=\u001b[39m \u001b[38;5;28mself\u001b[39m\u001b[38;5;241m.\u001b[39m_parent\u001b[38;5;241m.\u001b[39m_repr_html_(\u001b[38;5;241m*\u001b[39m\u001b[38;5;241m*\u001b[39mkwargs)\n\u001b[0;32m    300\u001b[0m \u001b[38;5;28;01mreturn\u001b[39;00m out\n",
      "File \u001b[1;32m~\\anaconda3\\lib\\site-packages\\branca\\element.py:326\u001b[0m, in \u001b[0;36mFigure._repr_html_\u001b[1;34m(self, **kwargs)\u001b[0m\n\u001b[0;32m    324\u001b[0m \u001b[38;5;28;01mdef\u001b[39;00m \u001b[38;5;21m_repr_html_\u001b[39m(\u001b[38;5;28mself\u001b[39m, \u001b[38;5;241m*\u001b[39m\u001b[38;5;241m*\u001b[39mkwargs):\n\u001b[0;32m    325\u001b[0m     \u001b[38;5;124;03m\"\"\"Displays the Figure in a Jupyter notebook.\"\"\"\u001b[39;00m\n\u001b[1;32m--> 326\u001b[0m     html \u001b[38;5;241m=\u001b[39m escape(\u001b[38;5;28mself\u001b[39m\u001b[38;5;241m.\u001b[39mrender(\u001b[38;5;241m*\u001b[39m\u001b[38;5;241m*\u001b[39mkwargs))\n\u001b[0;32m    327\u001b[0m     \u001b[38;5;28;01mif\u001b[39;00m \u001b[38;5;28mself\u001b[39m\u001b[38;5;241m.\u001b[39mheight \u001b[38;5;129;01mis\u001b[39;00m \u001b[38;5;28;01mNone\u001b[39;00m:\n\u001b[0;32m    328\u001b[0m         iframe \u001b[38;5;241m=\u001b[39m (\n\u001b[0;32m    329\u001b[0m             \u001b[38;5;124m'\u001b[39m\u001b[38;5;124m<div style=\u001b[39m\u001b[38;5;124m\"\u001b[39m\u001b[38;5;124mwidth:\u001b[39m\u001b[38;5;132;01m{width}\u001b[39;00m\u001b[38;5;124m;\u001b[39m\u001b[38;5;124m\"\u001b[39m\u001b[38;5;124m>\u001b[39m\u001b[38;5;124m'\u001b[39m\n\u001b[0;32m    330\u001b[0m             \u001b[38;5;124m'\u001b[39m\u001b[38;5;124m<div style=\u001b[39m\u001b[38;5;124m\"\u001b[39m\u001b[38;5;124mposition:relative;width:100\u001b[39m\u001b[38;5;124m%\u001b[39m\u001b[38;5;124m;height:0;padding-bottom:\u001b[39m\u001b[38;5;132;01m{ratio}\u001b[39;00m\u001b[38;5;124m;\u001b[39m\u001b[38;5;124m\"\u001b[39m\u001b[38;5;124m>\u001b[39m\u001b[38;5;124m'\u001b[39m  \u001b[38;5;66;03m# noqa\u001b[39;00m\n\u001b[1;32m   (...)\u001b[0m\n\u001b[0;32m    336\u001b[0m             \u001b[38;5;124m'\u001b[39m\u001b[38;5;124m</div></div>\u001b[39m\u001b[38;5;124m'\u001b[39m\n\u001b[0;32m    337\u001b[0m         )\u001b[38;5;241m.\u001b[39mformat(html\u001b[38;5;241m=\u001b[39mhtml, width\u001b[38;5;241m=\u001b[39m\u001b[38;5;28mself\u001b[39m\u001b[38;5;241m.\u001b[39mwidth, ratio\u001b[38;5;241m=\u001b[39m\u001b[38;5;28mself\u001b[39m\u001b[38;5;241m.\u001b[39mratio)\n",
      "File \u001b[1;32m~\\anaconda3\\lib\\site-packages\\branca\\element.py:321\u001b[0m, in \u001b[0;36mFigure.render\u001b[1;34m(self, **kwargs)\u001b[0m\n\u001b[0;32m    319\u001b[0m \u001b[38;5;124;03m\"\"\"Renders the HTML representation of the element.\"\"\"\u001b[39;00m\n\u001b[0;32m    320\u001b[0m \u001b[38;5;28;01mfor\u001b[39;00m name, child \u001b[38;5;129;01min\u001b[39;00m \u001b[38;5;28mself\u001b[39m\u001b[38;5;241m.\u001b[39m_children\u001b[38;5;241m.\u001b[39mitems():\n\u001b[1;32m--> 321\u001b[0m     child\u001b[38;5;241m.\u001b[39mrender(\u001b[38;5;241m*\u001b[39m\u001b[38;5;241m*\u001b[39mkwargs)\n\u001b[0;32m    322\u001b[0m \u001b[38;5;28;01mreturn\u001b[39;00m \u001b[38;5;28mself\u001b[39m\u001b[38;5;241m.\u001b[39m_template\u001b[38;5;241m.\u001b[39mrender(this\u001b[38;5;241m=\u001b[39m\u001b[38;5;28mself\u001b[39m, kwargs\u001b[38;5;241m=\u001b[39mkwargs)\n",
      "File \u001b[1;32m~\\anaconda3\\lib\\site-packages\\folium\\folium.py:368\u001b[0m, in \u001b[0;36mMap.render\u001b[1;34m(self, **kwargs)\u001b[0m\n\u001b[0;32m    349\u001b[0m figure\u001b[38;5;241m.\u001b[39mheader\u001b[38;5;241m.\u001b[39madd_child(Element(\n\u001b[0;32m    350\u001b[0m     \u001b[38;5;124m'\u001b[39m\u001b[38;5;124m<style>html, body \u001b[39m\u001b[38;5;124m{\u001b[39m\u001b[38;5;124m'\u001b[39m\n\u001b[0;32m    351\u001b[0m     \u001b[38;5;124m'\u001b[39m\u001b[38;5;124mwidth: 100\u001b[39m\u001b[38;5;124m%\u001b[39m\u001b[38;5;124m;\u001b[39m\u001b[38;5;124m'\u001b[39m\n\u001b[1;32m   (...)\u001b[0m\n\u001b[0;32m    355\u001b[0m     \u001b[38;5;124m'\u001b[39m\u001b[38;5;124m}\u001b[39m\u001b[38;5;124m'\u001b[39m\n\u001b[0;32m    356\u001b[0m     \u001b[38;5;124m'\u001b[39m\u001b[38;5;124m</style>\u001b[39m\u001b[38;5;124m'\u001b[39m), name\u001b[38;5;241m=\u001b[39m\u001b[38;5;124m'\u001b[39m\u001b[38;5;124mcss_style\u001b[39m\u001b[38;5;124m'\u001b[39m)\n\u001b[0;32m    358\u001b[0m figure\u001b[38;5;241m.\u001b[39mheader\u001b[38;5;241m.\u001b[39madd_child(Element(\n\u001b[0;32m    359\u001b[0m     \u001b[38;5;124m'\u001b[39m\u001b[38;5;124m<style>#map \u001b[39m\u001b[38;5;124m{\u001b[39m\u001b[38;5;124m'\u001b[39m\n\u001b[0;32m    360\u001b[0m     \u001b[38;5;124m'\u001b[39m\u001b[38;5;124mposition:absolute;\u001b[39m\u001b[38;5;124m'\u001b[39m\n\u001b[1;32m   (...)\u001b[0m\n\u001b[0;32m    365\u001b[0m     \u001b[38;5;124m'\u001b[39m\u001b[38;5;124m}\u001b[39m\u001b[38;5;124m'\u001b[39m\n\u001b[0;32m    366\u001b[0m     \u001b[38;5;124m'\u001b[39m\u001b[38;5;124m</style>\u001b[39m\u001b[38;5;124m'\u001b[39m), name\u001b[38;5;241m=\u001b[39m\u001b[38;5;124m'\u001b[39m\u001b[38;5;124mmap_style\u001b[39m\u001b[38;5;124m'\u001b[39m)\n\u001b[1;32m--> 368\u001b[0m \u001b[38;5;28msuper\u001b[39m(Map, \u001b[38;5;28mself\u001b[39m)\u001b[38;5;241m.\u001b[39mrender(\u001b[38;5;241m*\u001b[39m\u001b[38;5;241m*\u001b[39mkwargs)\n",
      "File \u001b[1;32m~\\anaconda3\\lib\\site-packages\\folium\\elements.py:21\u001b[0m, in \u001b[0;36mJSCSSMixin.render\u001b[1;34m(self, **kwargs)\u001b[0m\n\u001b[0;32m     18\u001b[0m \u001b[38;5;28;01mfor\u001b[39;00m name, url \u001b[38;5;129;01min\u001b[39;00m \u001b[38;5;28mself\u001b[39m\u001b[38;5;241m.\u001b[39mdefault_css:\n\u001b[0;32m     19\u001b[0m     figure\u001b[38;5;241m.\u001b[39mheader\u001b[38;5;241m.\u001b[39madd_child(CssLink(url), name\u001b[38;5;241m=\u001b[39mname)\n\u001b[1;32m---> 21\u001b[0m \u001b[38;5;28msuper\u001b[39m()\u001b[38;5;241m.\u001b[39mrender(\u001b[38;5;241m*\u001b[39m\u001b[38;5;241m*\u001b[39mkwargs)\n",
      "File \u001b[1;32m~\\anaconda3\\lib\\site-packages\\branca\\element.py:628\u001b[0m, in \u001b[0;36mMacroElement.render\u001b[1;34m(self, **kwargs)\u001b[0m\n\u001b[0;32m    624\u001b[0m     figure\u001b[38;5;241m.\u001b[39mscript\u001b[38;5;241m.\u001b[39madd_child(Element(script(\u001b[38;5;28mself\u001b[39m, kwargs)),\n\u001b[0;32m    625\u001b[0m                             name\u001b[38;5;241m=\u001b[39m\u001b[38;5;28mself\u001b[39m\u001b[38;5;241m.\u001b[39mget_name())\n\u001b[0;32m    627\u001b[0m \u001b[38;5;28;01mfor\u001b[39;00m name, element \u001b[38;5;129;01min\u001b[39;00m \u001b[38;5;28mself\u001b[39m\u001b[38;5;241m.\u001b[39m_children\u001b[38;5;241m.\u001b[39mitems():\n\u001b[1;32m--> 628\u001b[0m     element\u001b[38;5;241m.\u001b[39mrender(\u001b[38;5;241m*\u001b[39m\u001b[38;5;241m*\u001b[39mkwargs)\n",
      "File \u001b[1;32m~\\anaconda3\\lib\\site-packages\\folium\\map.py:302\u001b[0m, in \u001b[0;36mMarker.render\u001b[1;34m(self)\u001b[0m\n\u001b[0;32m    300\u001b[0m \u001b[38;5;28;01mdef\u001b[39;00m \u001b[38;5;21mrender\u001b[39m(\u001b[38;5;28mself\u001b[39m):\n\u001b[0;32m    301\u001b[0m     \u001b[38;5;28;01mif\u001b[39;00m \u001b[38;5;28mself\u001b[39m\u001b[38;5;241m.\u001b[39mlocation \u001b[38;5;129;01mis\u001b[39;00m \u001b[38;5;28;01mNone\u001b[39;00m:\n\u001b[1;32m--> 302\u001b[0m         \u001b[38;5;28;01mraise\u001b[39;00m \u001b[38;5;167;01mValueError\u001b[39;00m(\u001b[38;5;124m\"\u001b[39m\u001b[38;5;132;01m{}\u001b[39;00m\u001b[38;5;124m location must be assigned when added directly to map.\u001b[39m\u001b[38;5;124m\"\u001b[39m\u001b[38;5;241m.\u001b[39mformat(\u001b[38;5;28mself\u001b[39m\u001b[38;5;241m.\u001b[39m_name))\n\u001b[0;32m    303\u001b[0m     \u001b[38;5;28msuper\u001b[39m(Marker, \u001b[38;5;28mself\u001b[39m)\u001b[38;5;241m.\u001b[39mrender()\n",
      "\u001b[1;31mValueError\u001b[0m: Marker location must be assigned when added directly to map."
     ]
    },
    {
     "data": {
      "text/plain": [
       "<folium.folium.Map at 0x2559c5b1190>"
      ]
     },
     "execution_count": 86,
     "metadata": {},
     "output_type": "execute_result"
    }
   ],
   "source": [
    "folium.Marker([latitude, longitude],\n",
    "              popup=\"홍익대\",\n",
    "              tooltip=\"홍익대학교\").add_to(m)\n",
    "m"
   ]
  },
  {
   "cell_type": "code",
   "execution_count": 87,
   "id": "c1a99ed0-ec0c-468f-a052-31961ef7c620",
   "metadata": {},
   "outputs": [
    {
     "ename": "ValueError",
     "evalue": "Marker location must be assigned when added directly to map.",
     "output_type": "error",
     "traceback": [
      "\u001b[1;31m---------------------------------------------------------------------------\u001b[0m",
      "\u001b[1;31mValueError\u001b[0m                                Traceback (most recent call last)",
      "File \u001b[1;32m~\\anaconda3\\lib\\site-packages\\IPython\\core\\formatters.py:343\u001b[0m, in \u001b[0;36mBaseFormatter.__call__\u001b[1;34m(self, obj)\u001b[0m\n\u001b[0;32m    341\u001b[0m     method \u001b[38;5;241m=\u001b[39m get_real_method(obj, \u001b[38;5;28mself\u001b[39m\u001b[38;5;241m.\u001b[39mprint_method)\n\u001b[0;32m    342\u001b[0m     \u001b[38;5;28;01mif\u001b[39;00m method \u001b[38;5;129;01mis\u001b[39;00m \u001b[38;5;129;01mnot\u001b[39;00m \u001b[38;5;28;01mNone\u001b[39;00m:\n\u001b[1;32m--> 343\u001b[0m         \u001b[38;5;28;01mreturn\u001b[39;00m \u001b[43mmethod\u001b[49m\u001b[43m(\u001b[49m\u001b[43m)\u001b[49m\n\u001b[0;32m    344\u001b[0m     \u001b[38;5;28;01mreturn\u001b[39;00m \u001b[38;5;28;01mNone\u001b[39;00m\n\u001b[0;32m    345\u001b[0m \u001b[38;5;28;01melse\u001b[39;00m:\n",
      "File \u001b[1;32m~\\anaconda3\\lib\\site-packages\\folium\\folium.py:299\u001b[0m, in \u001b[0;36mMap._repr_html_\u001b[1;34m(self, **kwargs)\u001b[0m\n\u001b[0;32m    297\u001b[0m     \u001b[38;5;28mself\u001b[39m\u001b[38;5;241m.\u001b[39m_parent \u001b[38;5;241m=\u001b[39m \u001b[38;5;28;01mNone\u001b[39;00m\n\u001b[0;32m    298\u001b[0m \u001b[38;5;28;01melse\u001b[39;00m:\n\u001b[1;32m--> 299\u001b[0m     out \u001b[38;5;241m=\u001b[39m \u001b[38;5;28mself\u001b[39m\u001b[38;5;241m.\u001b[39m_parent\u001b[38;5;241m.\u001b[39m_repr_html_(\u001b[38;5;241m*\u001b[39m\u001b[38;5;241m*\u001b[39mkwargs)\n\u001b[0;32m    300\u001b[0m \u001b[38;5;28;01mreturn\u001b[39;00m out\n",
      "File \u001b[1;32m~\\anaconda3\\lib\\site-packages\\branca\\element.py:326\u001b[0m, in \u001b[0;36mFigure._repr_html_\u001b[1;34m(self, **kwargs)\u001b[0m\n\u001b[0;32m    324\u001b[0m \u001b[38;5;28;01mdef\u001b[39;00m \u001b[38;5;21m_repr_html_\u001b[39m(\u001b[38;5;28mself\u001b[39m, \u001b[38;5;241m*\u001b[39m\u001b[38;5;241m*\u001b[39mkwargs):\n\u001b[0;32m    325\u001b[0m     \u001b[38;5;124;03m\"\"\"Displays the Figure in a Jupyter notebook.\"\"\"\u001b[39;00m\n\u001b[1;32m--> 326\u001b[0m     html \u001b[38;5;241m=\u001b[39m escape(\u001b[38;5;28mself\u001b[39m\u001b[38;5;241m.\u001b[39mrender(\u001b[38;5;241m*\u001b[39m\u001b[38;5;241m*\u001b[39mkwargs))\n\u001b[0;32m    327\u001b[0m     \u001b[38;5;28;01mif\u001b[39;00m \u001b[38;5;28mself\u001b[39m\u001b[38;5;241m.\u001b[39mheight \u001b[38;5;129;01mis\u001b[39;00m \u001b[38;5;28;01mNone\u001b[39;00m:\n\u001b[0;32m    328\u001b[0m         iframe \u001b[38;5;241m=\u001b[39m (\n\u001b[0;32m    329\u001b[0m             \u001b[38;5;124m'\u001b[39m\u001b[38;5;124m<div style=\u001b[39m\u001b[38;5;124m\"\u001b[39m\u001b[38;5;124mwidth:\u001b[39m\u001b[38;5;132;01m{width}\u001b[39;00m\u001b[38;5;124m;\u001b[39m\u001b[38;5;124m\"\u001b[39m\u001b[38;5;124m>\u001b[39m\u001b[38;5;124m'\u001b[39m\n\u001b[0;32m    330\u001b[0m             \u001b[38;5;124m'\u001b[39m\u001b[38;5;124m<div style=\u001b[39m\u001b[38;5;124m\"\u001b[39m\u001b[38;5;124mposition:relative;width:100\u001b[39m\u001b[38;5;124m%\u001b[39m\u001b[38;5;124m;height:0;padding-bottom:\u001b[39m\u001b[38;5;132;01m{ratio}\u001b[39;00m\u001b[38;5;124m;\u001b[39m\u001b[38;5;124m\"\u001b[39m\u001b[38;5;124m>\u001b[39m\u001b[38;5;124m'\u001b[39m  \u001b[38;5;66;03m# noqa\u001b[39;00m\n\u001b[1;32m   (...)\u001b[0m\n\u001b[0;32m    336\u001b[0m             \u001b[38;5;124m'\u001b[39m\u001b[38;5;124m</div></div>\u001b[39m\u001b[38;5;124m'\u001b[39m\n\u001b[0;32m    337\u001b[0m         )\u001b[38;5;241m.\u001b[39mformat(html\u001b[38;5;241m=\u001b[39mhtml, width\u001b[38;5;241m=\u001b[39m\u001b[38;5;28mself\u001b[39m\u001b[38;5;241m.\u001b[39mwidth, ratio\u001b[38;5;241m=\u001b[39m\u001b[38;5;28mself\u001b[39m\u001b[38;5;241m.\u001b[39mratio)\n",
      "File \u001b[1;32m~\\anaconda3\\lib\\site-packages\\branca\\element.py:321\u001b[0m, in \u001b[0;36mFigure.render\u001b[1;34m(self, **kwargs)\u001b[0m\n\u001b[0;32m    319\u001b[0m \u001b[38;5;124;03m\"\"\"Renders the HTML representation of the element.\"\"\"\u001b[39;00m\n\u001b[0;32m    320\u001b[0m \u001b[38;5;28;01mfor\u001b[39;00m name, child \u001b[38;5;129;01min\u001b[39;00m \u001b[38;5;28mself\u001b[39m\u001b[38;5;241m.\u001b[39m_children\u001b[38;5;241m.\u001b[39mitems():\n\u001b[1;32m--> 321\u001b[0m     child\u001b[38;5;241m.\u001b[39mrender(\u001b[38;5;241m*\u001b[39m\u001b[38;5;241m*\u001b[39mkwargs)\n\u001b[0;32m    322\u001b[0m \u001b[38;5;28;01mreturn\u001b[39;00m \u001b[38;5;28mself\u001b[39m\u001b[38;5;241m.\u001b[39m_template\u001b[38;5;241m.\u001b[39mrender(this\u001b[38;5;241m=\u001b[39m\u001b[38;5;28mself\u001b[39m, kwargs\u001b[38;5;241m=\u001b[39mkwargs)\n",
      "File \u001b[1;32m~\\anaconda3\\lib\\site-packages\\folium\\folium.py:368\u001b[0m, in \u001b[0;36mMap.render\u001b[1;34m(self, **kwargs)\u001b[0m\n\u001b[0;32m    349\u001b[0m figure\u001b[38;5;241m.\u001b[39mheader\u001b[38;5;241m.\u001b[39madd_child(Element(\n\u001b[0;32m    350\u001b[0m     \u001b[38;5;124m'\u001b[39m\u001b[38;5;124m<style>html, body \u001b[39m\u001b[38;5;124m{\u001b[39m\u001b[38;5;124m'\u001b[39m\n\u001b[0;32m    351\u001b[0m     \u001b[38;5;124m'\u001b[39m\u001b[38;5;124mwidth: 100\u001b[39m\u001b[38;5;124m%\u001b[39m\u001b[38;5;124m;\u001b[39m\u001b[38;5;124m'\u001b[39m\n\u001b[1;32m   (...)\u001b[0m\n\u001b[0;32m    355\u001b[0m     \u001b[38;5;124m'\u001b[39m\u001b[38;5;124m}\u001b[39m\u001b[38;5;124m'\u001b[39m\n\u001b[0;32m    356\u001b[0m     \u001b[38;5;124m'\u001b[39m\u001b[38;5;124m</style>\u001b[39m\u001b[38;5;124m'\u001b[39m), name\u001b[38;5;241m=\u001b[39m\u001b[38;5;124m'\u001b[39m\u001b[38;5;124mcss_style\u001b[39m\u001b[38;5;124m'\u001b[39m)\n\u001b[0;32m    358\u001b[0m figure\u001b[38;5;241m.\u001b[39mheader\u001b[38;5;241m.\u001b[39madd_child(Element(\n\u001b[0;32m    359\u001b[0m     \u001b[38;5;124m'\u001b[39m\u001b[38;5;124m<style>#map \u001b[39m\u001b[38;5;124m{\u001b[39m\u001b[38;5;124m'\u001b[39m\n\u001b[0;32m    360\u001b[0m     \u001b[38;5;124m'\u001b[39m\u001b[38;5;124mposition:absolute;\u001b[39m\u001b[38;5;124m'\u001b[39m\n\u001b[1;32m   (...)\u001b[0m\n\u001b[0;32m    365\u001b[0m     \u001b[38;5;124m'\u001b[39m\u001b[38;5;124m}\u001b[39m\u001b[38;5;124m'\u001b[39m\n\u001b[0;32m    366\u001b[0m     \u001b[38;5;124m'\u001b[39m\u001b[38;5;124m</style>\u001b[39m\u001b[38;5;124m'\u001b[39m), name\u001b[38;5;241m=\u001b[39m\u001b[38;5;124m'\u001b[39m\u001b[38;5;124mmap_style\u001b[39m\u001b[38;5;124m'\u001b[39m)\n\u001b[1;32m--> 368\u001b[0m \u001b[38;5;28msuper\u001b[39m(Map, \u001b[38;5;28mself\u001b[39m)\u001b[38;5;241m.\u001b[39mrender(\u001b[38;5;241m*\u001b[39m\u001b[38;5;241m*\u001b[39mkwargs)\n",
      "File \u001b[1;32m~\\anaconda3\\lib\\site-packages\\folium\\elements.py:21\u001b[0m, in \u001b[0;36mJSCSSMixin.render\u001b[1;34m(self, **kwargs)\u001b[0m\n\u001b[0;32m     18\u001b[0m \u001b[38;5;28;01mfor\u001b[39;00m name, url \u001b[38;5;129;01min\u001b[39;00m \u001b[38;5;28mself\u001b[39m\u001b[38;5;241m.\u001b[39mdefault_css:\n\u001b[0;32m     19\u001b[0m     figure\u001b[38;5;241m.\u001b[39mheader\u001b[38;5;241m.\u001b[39madd_child(CssLink(url), name\u001b[38;5;241m=\u001b[39mname)\n\u001b[1;32m---> 21\u001b[0m \u001b[38;5;28msuper\u001b[39m()\u001b[38;5;241m.\u001b[39mrender(\u001b[38;5;241m*\u001b[39m\u001b[38;5;241m*\u001b[39mkwargs)\n",
      "File \u001b[1;32m~\\anaconda3\\lib\\site-packages\\branca\\element.py:628\u001b[0m, in \u001b[0;36mMacroElement.render\u001b[1;34m(self, **kwargs)\u001b[0m\n\u001b[0;32m    624\u001b[0m     figure\u001b[38;5;241m.\u001b[39mscript\u001b[38;5;241m.\u001b[39madd_child(Element(script(\u001b[38;5;28mself\u001b[39m, kwargs)),\n\u001b[0;32m    625\u001b[0m                             name\u001b[38;5;241m=\u001b[39m\u001b[38;5;28mself\u001b[39m\u001b[38;5;241m.\u001b[39mget_name())\n\u001b[0;32m    627\u001b[0m \u001b[38;5;28;01mfor\u001b[39;00m name, element \u001b[38;5;129;01min\u001b[39;00m \u001b[38;5;28mself\u001b[39m\u001b[38;5;241m.\u001b[39m_children\u001b[38;5;241m.\u001b[39mitems():\n\u001b[1;32m--> 628\u001b[0m     element\u001b[38;5;241m.\u001b[39mrender(\u001b[38;5;241m*\u001b[39m\u001b[38;5;241m*\u001b[39mkwargs)\n",
      "File \u001b[1;32m~\\anaconda3\\lib\\site-packages\\folium\\map.py:302\u001b[0m, in \u001b[0;36mMarker.render\u001b[1;34m(self)\u001b[0m\n\u001b[0;32m    300\u001b[0m \u001b[38;5;28;01mdef\u001b[39;00m \u001b[38;5;21mrender\u001b[39m(\u001b[38;5;28mself\u001b[39m):\n\u001b[0;32m    301\u001b[0m     \u001b[38;5;28;01mif\u001b[39;00m \u001b[38;5;28mself\u001b[39m\u001b[38;5;241m.\u001b[39mlocation \u001b[38;5;129;01mis\u001b[39;00m \u001b[38;5;28;01mNone\u001b[39;00m:\n\u001b[1;32m--> 302\u001b[0m         \u001b[38;5;28;01mraise\u001b[39;00m \u001b[38;5;167;01mValueError\u001b[39;00m(\u001b[38;5;124m\"\u001b[39m\u001b[38;5;132;01m{}\u001b[39;00m\u001b[38;5;124m location must be assigned when added directly to map.\u001b[39m\u001b[38;5;124m\"\u001b[39m\u001b[38;5;241m.\u001b[39mformat(\u001b[38;5;28mself\u001b[39m\u001b[38;5;241m.\u001b[39m_name))\n\u001b[0;32m    303\u001b[0m     \u001b[38;5;28msuper\u001b[39m(Marker, \u001b[38;5;28mself\u001b[39m)\u001b[38;5;241m.\u001b[39mrender()\n",
      "\u001b[1;31mValueError\u001b[0m: Marker location must be assigned when added directly to map."
     ]
    },
    {
     "data": {
      "text/plain": [
       "<folium.folium.Map at 0x2559c5b1190>"
      ]
     },
     "execution_count": 87,
     "metadata": {},
     "output_type": "execute_result"
    }
   ],
   "source": [
    "folium.Marker([latitude, longitude],\n",
    "              popup='<iframe width=\"560\" height=\"315\" src=\"https://www.youtube.com/embed/dpwTOQri42s\" title=\"YouTube video player\" frameborder=\"0\" allow=\"accelerometer; autoplay; clipboard-write; encrypted-media; gyroscope; picture-in-picture\" allowfullscreen></iframe>',\n",
    "              tooltip=\"홍익대\").add_to(m)\n",
    "m"
   ]
  },
  {
   "cell_type": "code",
   "execution_count": 88,
   "id": "1bbd97a2-de79-4a6a-ab4f-1c2cbb9a1368",
   "metadata": {},
   "outputs": [],
   "source": [
    "import requests\n",
    "import json\n",
    "\n",
    "# 서울 행정구역 json raw파일(githubcontent)\n",
    "r = requests.get('https://raw.githubusercontent.com/southkorea/seoul-maps/master/kostat/2013/json/seoul_municipalities_geo_simple.json')\n",
    "c = r.content\n",
    "seoul_geo = json.loads(c)"
   ]
  },
  {
   "cell_type": "code",
   "execution_count": 89,
   "id": "f728f85d-d0a5-4087-bd11-adc9d0bbb3f8",
   "metadata": {},
   "outputs": [
    {
     "data": {
      "text/html": [
       "<div style=\"width:100%;\"><div style=\"position:relative;width:100%;height:0;padding-bottom:60%;\"><span style=\"color:#565656\">Make this Notebook Trusted to load map: File -> Trust Notebook</span><iframe srcdoc=\"&lt;!DOCTYPE html&gt;\n",
       "&lt;head&gt;    \n",
       "    &lt;meta http-equiv=&quot;content-type&quot; content=&quot;text/html; charset=UTF-8&quot; /&gt;\n",
       "    \n",
       "        &lt;script&gt;\n",
       "            L_NO_TOUCH = false;\n",
       "            L_DISABLE_3D = false;\n",
       "        &lt;/script&gt;\n",
       "    \n",
       "    &lt;style&gt;html, body {width: 100%;height: 100%;margin: 0;padding: 0;}&lt;/style&gt;\n",
       "    &lt;style&gt;#map {position:absolute;top:0;bottom:0;right:0;left:0;}&lt;/style&gt;\n",
       "    &lt;script src=&quot;https://cdn.jsdelivr.net/npm/leaflet@1.6.0/dist/leaflet.js&quot;&gt;&lt;/script&gt;\n",
       "    &lt;script src=&quot;https://code.jquery.com/jquery-1.12.4.min.js&quot;&gt;&lt;/script&gt;\n",
       "    &lt;script src=&quot;https://maxcdn.bootstrapcdn.com/bootstrap/3.2.0/js/bootstrap.min.js&quot;&gt;&lt;/script&gt;\n",
       "    &lt;script src=&quot;https://cdnjs.cloudflare.com/ajax/libs/Leaflet.awesome-markers/2.0.2/leaflet.awesome-markers.js&quot;&gt;&lt;/script&gt;\n",
       "    &lt;link rel=&quot;stylesheet&quot; href=&quot;https://cdn.jsdelivr.net/npm/leaflet@1.6.0/dist/leaflet.css&quot;/&gt;\n",
       "    &lt;link rel=&quot;stylesheet&quot; href=&quot;https://maxcdn.bootstrapcdn.com/bootstrap/3.2.0/css/bootstrap.min.css&quot;/&gt;\n",
       "    &lt;link rel=&quot;stylesheet&quot; href=&quot;https://maxcdn.bootstrapcdn.com/bootstrap/3.2.0/css/bootstrap-theme.min.css&quot;/&gt;\n",
       "    &lt;link rel=&quot;stylesheet&quot; href=&quot;https://maxcdn.bootstrapcdn.com/font-awesome/4.6.3/css/font-awesome.min.css&quot;/&gt;\n",
       "    &lt;link rel=&quot;stylesheet&quot; href=&quot;https://cdnjs.cloudflare.com/ajax/libs/Leaflet.awesome-markers/2.0.2/leaflet.awesome-markers.css&quot;/&gt;\n",
       "    &lt;link rel=&quot;stylesheet&quot; href=&quot;https://cdn.jsdelivr.net/gh/python-visualization/folium/folium/templates/leaflet.awesome.rotate.min.css&quot;/&gt;\n",
       "    \n",
       "            &lt;meta name=&quot;viewport&quot; content=&quot;width=device-width,\n",
       "                initial-scale=1.0, maximum-scale=1.0, user-scalable=no&quot; /&gt;\n",
       "            &lt;style&gt;\n",
       "                #map_754bf7ea2f829f78e35b8a445930a0e3 {\n",
       "                    position: relative;\n",
       "                    width: 100.0%;\n",
       "                    height: 100.0%;\n",
       "                    left: 0.0%;\n",
       "                    top: 0.0%;\n",
       "                }\n",
       "            &lt;/style&gt;\n",
       "        \n",
       "&lt;/head&gt;\n",
       "&lt;body&gt;    \n",
       "    \n",
       "            &lt;div class=&quot;folium-map&quot; id=&quot;map_754bf7ea2f829f78e35b8a445930a0e3&quot; &gt;&lt;/div&gt;\n",
       "        \n",
       "&lt;/body&gt;\n",
       "&lt;script&gt;    \n",
       "    \n",
       "            var map_754bf7ea2f829f78e35b8a445930a0e3 = L.map(\n",
       "                &quot;map_754bf7ea2f829f78e35b8a445930a0e3&quot;,\n",
       "                {\n",
       "                    center: [37.559819, 126.963895],\n",
       "                    crs: L.CRS.EPSG3857,\n",
       "                    zoom: 11,\n",
       "                    zoomControl: true,\n",
       "                    preferCanvas: false,\n",
       "                }\n",
       "            );\n",
       "\n",
       "            \n",
       "\n",
       "        \n",
       "    \n",
       "            var tile_layer_3905ccf7a4527c3e95ef14a0e8529080 = L.tileLayer(\n",
       "                &quot;https://{s}.tile.openstreetmap.org/{z}/{x}/{y}.png&quot;,\n",
       "                {&quot;attribution&quot;: &quot;Data by \\u0026copy; \\u003ca href=\\&quot;http://openstreetmap.org\\&quot;\\u003eOpenStreetMap\\u003c/a\\u003e, under \\u003ca href=\\&quot;http://www.openstreetmap.org/copyright\\&quot;\\u003eODbL\\u003c/a\\u003e.&quot;, &quot;detectRetina&quot;: false, &quot;maxNativeZoom&quot;: 18, &quot;maxZoom&quot;: 18, &quot;minZoom&quot;: 0, &quot;noWrap&quot;: false, &quot;opacity&quot;: 1, &quot;subdomains&quot;: &quot;abc&quot;, &quot;tms&quot;: false}\n",
       "            ).addTo(map_754bf7ea2f829f78e35b8a445930a0e3);\n",
       "        \n",
       "    \n",
       "\n",
       "        function geo_json_ef7891f897447cb98a8a8b516579c170_onEachFeature(feature, layer) {\n",
       "            layer.on({\n",
       "            });\n",
       "        };\n",
       "        var geo_json_ef7891f897447cb98a8a8b516579c170 = L.geoJson(null, {\n",
       "                onEachFeature: geo_json_ef7891f897447cb98a8a8b516579c170_onEachFeature,\n",
       "            \n",
       "        });\n",
       "\n",
       "        function geo_json_ef7891f897447cb98a8a8b516579c170_add (data) {\n",
       "            geo_json_ef7891f897447cb98a8a8b516579c170\n",
       "                .addData(data)\n",
       "                .addTo(map_754bf7ea2f829f78e35b8a445930a0e3);\n",
       "        }\n",
       "            geo_json_ef7891f897447cb98a8a8b516579c170_add({&quot;features&quot;: [{&quot;geometry&quot;: {&quot;coordinates&quot;: [[[127.11519584981606, 37.557533180704915], [127.11879551821994, 37.557222485451305], [127.12146867175024, 37.55986003393365], [127.12435254630417, 37.56144246249796], [127.13593925898998, 37.56564793048277], [127.14930548011061, 37.56892250303897], [127.15511020940411, 37.57093642128295], [127.16683184366129, 37.57672487388627], [127.17038810813094, 37.576465605301046], [127.17607118428914, 37.57678573961056], [127.17905504160184, 37.57791388161732], [127.17747787800164, 37.57448983055031], [127.1781775408844, 37.571481967974336], [127.17995281860672, 37.569309661290504], [127.18122821955262, 37.56636089217979], [127.18169407550688, 37.56286338914073], [127.18408792330152, 37.55814280369575], [127.18350810324185, 37.550053002101485], [127.1852644795464, 37.54888592026534], [127.18480906237207, 37.545296888806796], [127.18543378919821, 37.54260756512178], [127.18364810569703, 37.54241347907019], [127.18116465939269, 37.54384126582126], [127.17770860504257, 37.542414255164374], [127.1744373170213, 37.54277723796397], [127.16830424484573, 37.54145405702079], [127.16530984307447, 37.54221851258693], [127.15566835118616, 37.53119520531309], [127.15538075046105, 37.52652930087977], [127.15154315998161, 37.522828709496416], [127.14981542759394, 37.51926843453025], [127.14791518058246, 37.51918714979303], [127.14684644251928, 37.51661384818575], [127.14672806823502, 37.51415680680291], [127.14532023498624, 37.51464060108829], [127.12123165719615, 37.52528270089], [127.12251496040881, 37.52751810228347], [127.12532464331997, 37.53572787912298], [127.12061313033807, 37.538129867839416], [127.1116764203608, 37.540669955324965], [127.11418412219375, 37.54474592090681], [127.11600200349189, 37.55053147511706], [127.11600943681239, 37.55580061507081], [127.11519584981606, 37.557533180704915]]], &quot;type&quot;: &quot;Polygon&quot;}, &quot;properties&quot;: {&quot;base_year&quot;: &quot;2013&quot;, &quot;code&quot;: &quot;11250&quot;, &quot;name&quot;: &quot;\\uac15\\ub3d9\\uad6c&quot;, &quot;name_eng&quot;: &quot;Gangdong-gu&quot;}, &quot;type&quot;: &quot;Feature&quot;}, {&quot;geometry&quot;: {&quot;coordinates&quot;: [[[127.0690698130372, 37.522279423505026], [127.07496309841329, 37.52091052765938], [127.07968915919895, 37.52077294752823], [127.08639455667742, 37.52161824624356], [127.0943611414465, 37.523984206117525], [127.10087519791962, 37.524841220167055], [127.10484130265957, 37.53120327509912], [127.1116764203608, 37.540669955324965], [127.12061313033807, 37.538129867839416], [127.12532464331997, 37.53572787912298], [127.12251496040881, 37.52751810228347], [127.12123165719615, 37.52528270089], [127.14532023498624, 37.51464060108829], [127.14672806823502, 37.51415680680291], [127.14670263739373, 37.512786602955565], [127.14462782318448, 37.511529542030715], [127.14323992504048, 37.50951977457089], [127.1420864475393, 37.50578973782813], [127.14324986168657, 37.502649431479774], [127.1473517108062, 37.50069754405746], [127.14980119646964, 37.50046502392898], [127.15223804785649, 37.50170492532197], [127.15401160147654, 37.500347919909956], [127.16086308579277, 37.49886565522751], [127.1634944215765, 37.497445406097484], [127.16199885180917, 37.49402577547199], [127.16216448592424, 37.491639601211624], [127.16040295326431, 37.4877818619403], [127.15892216655034, 37.486126922469445], [127.15393282790794, 37.48483891408459], [127.15147990997852, 37.47745324805034], [127.1515017465549, 37.475633269417585], [127.14857580353349, 37.47381386382568], [127.14415938171436, 37.473692508393505], [127.14112111404233, 37.470600239054825], [127.13631568648837, 37.47214721764681], [127.13281577200672, 37.47257463763244], [127.13307493070646, 37.468907694139894], [127.13750907701846, 37.46647058226059], [127.13478085797742, 37.46509524639883], [127.1308437061496, 37.46509985661207], [127.12728991002369, 37.46673043118672], [127.12729757787379, 37.46421548908766], [127.12440571080893, 37.46240445587048], [127.12441393026374, 37.46442715236855], [127.12265007208167, 37.46756987490939], [127.11380709617507, 37.479633334849325], [127.1143875173445, 37.48073157362458], [127.11117085201238, 37.485708381512445], [127.1077937689776, 37.48860875954992], [127.10433125798602, 37.490728250649646], [127.0988509639092, 37.49302529254068], [127.08050206733888, 37.49783151325589], [127.0764808967127, 37.498612695580306], [127.0719146000724, 37.50224013587669], [127.06926628842805, 37.51717796437217], [127.06860425556381, 37.51812758676938], [127.0690698130372, 37.522279423505026]]], &quot;type&quot;: &quot;Polygon&quot;}, &quot;properties&quot;: {&quot;base_year&quot;: &quot;2013&quot;, &quot;code&quot;: &quot;11240&quot;, &quot;name&quot;: &quot;\\uc1a1\\ud30c\\uad6c&quot;, &quot;name_eng&quot;: &quot;Songpa-gu&quot;}, &quot;type&quot;: &quot;Feature&quot;}, {&quot;geometry&quot;: {&quot;coordinates&quot;: [[[127.05867359288398, 37.52629974922568], [127.0690698130372, 37.522279423505026], [127.06860425556381, 37.51812758676938], [127.06926628842805, 37.51717796437217], [127.0719146000724, 37.50224013587669], [127.0764808967127, 37.498612695580306], [127.08050206733888, 37.49783151325589], [127.0988509639092, 37.49302529254068], [127.10433125798602, 37.490728250649646], [127.1077937689776, 37.48860875954992], [127.11117085201238, 37.485708381512445], [127.1143875173445, 37.48073157362458], [127.11380709617507, 37.479633334849325], [127.12265007208167, 37.46756987490939], [127.12441393026374, 37.46442715236855], [127.12440571080893, 37.46240445587048], [127.11957248720776, 37.45936217377656], [127.11885903757606, 37.45578434878651], [127.11535741803938, 37.45722556454321], [127.11413179478714, 37.45875072431525], [127.10841788934951, 37.45972888008147], [127.10561257180657, 37.456815702518746], [127.10032466845217, 37.45598440195682], [127.09842759318751, 37.45862253857461], [127.09712653145507, 37.460848194480654], [127.09039613625872, 37.465520545397716], [127.0866005634691, 37.47006403057779], [127.08640440578156, 37.472697935184655], [127.0802737559454, 37.471973057552624], [127.07602132306535, 37.47005021331707], [127.07476117209941, 37.47199174520626], [127.07231320371885, 37.47234914588019], [127.07135137525977, 37.47107802023145], [127.06463901956462, 37.47003474490574], [127.06371868919344, 37.4661503234869], [127.0588551029968, 37.465611780743174], [127.0559170481904, 37.4659228914077], [127.04713549385288, 37.474479419244865], [127.04345123620755, 37.48276415595109], [127.03621915098798, 37.48175802427603], [127.03372275812187, 37.48674434662411], [127.02265609299096, 37.509970106251416], [127.02038705349842, 37.51771683027875], [127.01917707838057, 37.520085205855196], [127.01397119667513, 37.52503988289669], [127.02302831890559, 37.53231899582663], [127.0269608080842, 37.53484752757724], [127.0319617044248, 37.536064291470424], [127.04806779588436, 37.52970198575087], [127.04903802830752, 37.53140496708317], [127.05116490008963, 37.52975116557232], [127.05867359288398, 37.52629974922568]]], &quot;type&quot;: &quot;Polygon&quot;}, &quot;properties&quot;: {&quot;base_year&quot;: &quot;2013&quot;, &quot;code&quot;: &quot;11230&quot;, &quot;name&quot;: &quot;\\uac15\\ub0a8\\uad6c&quot;, &quot;name_eng&quot;: &quot;Gangnam-gu&quot;}, &quot;type&quot;: &quot;Feature&quot;}, {&quot;geometry&quot;: {&quot;coordinates&quot;: [[[127.01397119667513, 37.52503988289669], [127.01917707838057, 37.520085205855196], [127.02038705349842, 37.51771683027875], [127.02265609299096, 37.509970106251416], [127.03372275812187, 37.48674434662411], [127.03621915098798, 37.48175802427603], [127.04345123620755, 37.48276415595109], [127.04713549385288, 37.474479419244865], [127.0559170481904, 37.4659228914077], [127.0588551029968, 37.465611780743174], [127.06371868919344, 37.4661503234869], [127.06463901956462, 37.47003474490574], [127.07135137525977, 37.47107802023145], [127.07231320371885, 37.47234914588019], [127.07476117209941, 37.47199174520626], [127.07602132306535, 37.47005021331707], [127.0802737559454, 37.471973057552624], [127.08640440578156, 37.472697935184655], [127.0866005634691, 37.47006403057779], [127.09039613625872, 37.465520545397716], [127.09712653145507, 37.460848194480654], [127.09842759318751, 37.45862253857461], [127.09673714758375, 37.45597209899094], [127.09722129576434, 37.45374822681991], [127.09575982122928, 37.45332980525459], [127.09472136159357, 37.450897902539175], [127.09293250684935, 37.450020696864506], [127.09047890749349, 37.44637473407341], [127.09046928565951, 37.44296826114185], [127.0862358725955, 37.44118543250345], [127.08441983692467, 37.4383879031398], [127.07686576585408, 37.43960712011444], [127.07375875606847, 37.43898415920535], [127.07407631675713, 37.43719357187124], [127.07666569012467, 37.43600054505559], [127.07603719210388, 37.43429107517633], [127.07361291761038, 37.43318474533595], [127.07271473569163, 37.42939553659177], [127.0733788318578, 37.42814484786288], [127.06885354151605, 37.42731815367302], [127.06778107605433, 37.426197424057314], [127.06317558623768, 37.4272916178182], [127.05998777565219, 37.4273224867045], [127.05424556064274, 37.42574929824175], [127.05197080928994, 37.42749842502397], [127.04960937636815, 37.42801020057224], [127.04849622718511, 37.430672016902065], [127.04191594772718, 37.43568906449929], [127.0379686253535, 37.43634417139204], [127.03751805596916, 37.438362795245276], [127.04031700689708, 37.44191429311459], [127.03959875976469, 37.443582700519194], [127.0398984887873, 37.44656106007936], [127.03825522385397, 37.448766467898395], [127.03916301678915, 37.45180237055558], [127.03881782597922, 37.45382039851715], [127.03695436044305, 37.45537592726508], [127.03573307034355, 37.4586703897792], [127.03683946894893, 37.46103886642786], [127.03337331972266, 37.462966775127626], [127.02820831539744, 37.455700834295826], [127.02263694708293, 37.45335816711404], [127.01827371395349, 37.4525593623189], [127.01316256500736, 37.45257906566242], [127.01110931353561, 37.45456166745922], [127.00836380369604, 37.45936868039916], [127.00738548779366, 37.459815333664274], [127.00552362663117, 37.46445102893571], [127.00008523087483, 37.46455774995882], [126.99837609897334, 37.46390918086617], [126.99932142462428, 37.46113351815481], [126.99893310307874, 37.459376062410314], [126.9953054179472, 37.45860121328987], [126.99072073195462, 37.455326143310025], [126.98956736277059, 37.457600756400446], [126.99026416700147, 37.46271603227842], [126.98896316546526, 37.465041871263544], [126.98662755598336, 37.466937278295305], [126.9846374349825, 37.46996301876212], [126.98367668291802, 37.473856492692086], [126.98500224966135, 37.49356837311327], [126.9871787157338, 37.49719505997539], [126.9832495184969, 37.49948552591205], [126.98241580381733, 37.50120029501884], [126.98223807916081, 37.509314966770326], [126.98458580602838, 37.51070333105394], [126.98948242685965, 37.5108780134613], [126.99148001917875, 37.50990503427709], [127.00011962020382, 37.513901653034374], [127.00583392114271, 37.516905128452926], [127.00818058911564, 37.51877313923874], [127.01022186960886, 37.522020085671926], [127.01397119667513, 37.52503988289669]]], &quot;type&quot;: &quot;Polygon&quot;}, &quot;properties&quot;: {&quot;base_year&quot;: &quot;2013&quot;, &quot;code&quot;: &quot;11220&quot;, &quot;name&quot;: &quot;\\uc11c\\ucd08\\uad6c&quot;, &quot;name_eng&quot;: &quot;Seocho-gu&quot;}, &quot;type&quot;: &quot;Feature&quot;}, {&quot;geometry&quot;: {&quot;coordinates&quot;: [[[126.98367668291802, 37.473856492692086], [126.9846374349825, 37.46996301876212], [126.98662755598336, 37.466937278295305], [126.98896316546526, 37.465041871263544], [126.99026416700147, 37.46271603227842], [126.98956736277059, 37.457600756400446], [126.99072073195462, 37.455326143310025], [126.98484249930785, 37.45391909788938], [126.9829408096241, 37.450206782833206], [126.97835022660695, 37.447659155806164], [126.97608193440507, 37.44478918862847], [126.9731300196836, 37.444722870088114], [126.96650852936277, 37.44276983031553], [126.96618702895445, 37.439376482995094], [126.96520439085143, 37.438249784006246], [126.9614877541633, 37.437956805629675], [126.96054904645496, 37.43673997185797], [126.95527369898224, 37.43673711968809], [126.9473688393239, 37.4347689647565], [126.94440352544498, 37.43476162120059], [126.9415292183489, 37.43315139671158], [126.94037501670272, 37.43462213966344], [126.9405640311191, 37.437501011208845], [126.9376981355065, 37.44041709605302], [126.93312955918624, 37.44290014710262], [126.93309127096236, 37.44533734785938], [126.93084408056525, 37.447382928333994], [126.92527839995981, 37.45161884570837], [126.9245243450059, 37.45392293573877], [126.91887928082078, 37.45495082787016], [126.9167728146601, 37.45490566423789], [126.91641538472182, 37.45870245071989], [126.91495285904284, 37.461166184511065], [126.91584245173756, 37.462474576247985], [126.91374656127704, 37.46375990852858], [126.91032166997253, 37.469818629944285], [126.91280966667205, 37.47083063715413], [126.91405961426707, 37.47416764846582], [126.9115784808617, 37.4753960485947], [126.91181700249076, 37.47814319736339], [126.90276666415615, 37.47652007992712], [126.90156094129895, 37.47753842789901], [126.90531975801812, 37.48218087575429], [126.90805655355825, 37.48218338568103], [126.91533979779165, 37.484392208242134], [126.91916807529428, 37.48660606817164], [126.92639563063156, 37.48715979752876], [126.92869559665061, 37.49132126714011], [126.92981699800066, 37.49218420958284], [126.93346386636452, 37.49043826776755], [126.93669800083833, 37.49026778789087], [126.93844070234584, 37.4893532861132], [126.94373156012337, 37.48938843727846], [126.94922661389508, 37.49125437495649], [126.95396955055433, 37.48955250290043], [126.9559655046206, 37.48820165625994], [126.95881175306481, 37.48874989165474], [126.96329694970828, 37.4905835370787], [126.96291787066104, 37.48803272157808], [126.96443983219191, 37.48442261322104], [126.9634428120456, 37.48067931902171], [126.9725891850662, 37.472561363278125], [126.97901795539295, 37.47376525108475], [126.98367668291802, 37.473856492692086]]], &quot;type&quot;: &quot;Polygon&quot;}, &quot;properties&quot;: {&quot;base_year&quot;: &quot;2013&quot;, &quot;code&quot;: &quot;11210&quot;, &quot;name&quot;: &quot;\\uad00\\uc545\\uad6c&quot;, &quot;name_eng&quot;: &quot;Gwanak-gu&quot;}, &quot;type&quot;: &quot;Feature&quot;}, {&quot;geometry&quot;: {&quot;coordinates&quot;: [[[126.98223807916081, 37.509314966770326], [126.98241580381733, 37.50120029501884], [126.9832495184969, 37.49948552591205], [126.9871787157338, 37.49719505997539], [126.98500224966135, 37.49356837311327], [126.98367668291802, 37.473856492692086], [126.97901795539295, 37.47376525108475], [126.9725891850662, 37.472561363278125], [126.9634428120456, 37.48067931902171], [126.96443983219191, 37.48442261322104], [126.96291787066104, 37.48803272157808], [126.96329694970828, 37.4905835370787], [126.95881175306481, 37.48874989165474], [126.9559655046206, 37.48820165625994], [126.95396955055433, 37.48955250290043], [126.94922661389508, 37.49125437495649], [126.94373156012337, 37.48938843727846], [126.93844070234584, 37.4893532861132], [126.93669800083833, 37.49026778789087], [126.93346386636452, 37.49043826776755], [126.92981699800066, 37.49218420958284], [126.92869559665061, 37.49132126714011], [126.92639563063156, 37.48715979752876], [126.91916807529428, 37.48660606817164], [126.91533979779165, 37.484392208242134], [126.90805655355825, 37.48218338568103], [126.90531975801812, 37.48218087575429], [126.91461888105147, 37.493581242537296], [126.92177893174825, 37.494889877415176], [126.9232469824303, 37.49928149943772], [126.92749463764046, 37.50985955934051], [126.92919938332032, 37.51019685838638], [126.92810628828279, 37.51329595732015], [126.93453120783802, 37.5128512712934], [126.94407346439685, 37.51463101265907], [126.95249990298159, 37.51722500741813], [126.95551848909955, 37.514736123015844], [126.95950268374823, 37.51249532165974], [126.96670111119346, 37.50997579058433], [126.98223807916081, 37.509314966770326]]], &quot;type&quot;: &quot;Polygon&quot;}, &quot;properties&quot;: {&quot;base_year&quot;: &quot;2013&quot;, &quot;code&quot;: &quot;11200&quot;, &quot;name&quot;: &quot;\\ub3d9\\uc791\\uad6c&quot;, &quot;name_eng&quot;: &quot;Dongjak-gu&quot;}, &quot;type&quot;: &quot;Feature&quot;}, {&quot;geometry&quot;: {&quot;coordinates&quot;: [[[126.89184663862764, 37.547373974997114], [126.90281125423546, 37.54133630026083], [126.90829204147958, 37.539206065016785], [126.93132557924062, 37.53415416375281], [126.93680342222562, 37.53344577095931], [126.94566733083212, 37.526617542453366], [126.9488066464266, 37.52424913252661], [126.95003825019774, 37.520781022055274], [126.95249990298159, 37.51722500741813], [126.94407346439685, 37.51463101265907], [126.93453120783802, 37.5128512712934], [126.92810628828279, 37.51329595732015], [126.92919938332032, 37.51019685838638], [126.92749463764046, 37.50985955934051], [126.9232469824303, 37.49928149943772], [126.92177893174825, 37.494889877415176], [126.91461888105147, 37.493581242537296], [126.90531975801812, 37.48218087575429], [126.90260188508027, 37.48282626920736], [126.89861362258316, 37.48625405368759], [126.89581061458084, 37.49391346191318], [126.89549571721683, 37.50033127915717], [126.89594776782485, 37.504675281309176], [126.89253696873205, 37.50875582175844], [126.88156402353862, 37.513970034765684], [126.88191372979959, 37.51939416754389], [126.88260109180834, 37.52242565920786], [126.88382776477316, 37.52352483439659], [126.88904768965743, 37.525856504359034], [126.89057378109133, 37.52792091672938], [126.89213569003026, 37.52757969298779], [126.89361739665432, 37.53033899535983], [126.89339176028666, 37.533030814524004], [126.88938421776182, 37.54060159145325], [126.88825757860099, 37.54079733630232], [126.88736718003831, 37.54350482420959], [126.89184663862764, 37.547373974997114]]], &quot;type&quot;: &quot;Polygon&quot;}, &quot;properties&quot;: {&quot;base_year&quot;: &quot;2013&quot;, &quot;code&quot;: &quot;11190&quot;, &quot;name&quot;: &quot;\\uc601\\ub4f1\\ud3ec\\uad6c&quot;, &quot;name_eng&quot;: &quot;Yeongdeungpo-gu&quot;}, &quot;type&quot;: &quot;Feature&quot;}, {&quot;geometry&quot;: {&quot;coordinates&quot;: [[[126.90156094129895, 37.47753842789901], [126.90276666415615, 37.47652007992712], [126.91181700249076, 37.47814319736339], [126.9115784808617, 37.4753960485947], [126.91405961426707, 37.47416764846582], [126.91280966667205, 37.47083063715413], [126.91032166997253, 37.469818629944285], [126.91374656127704, 37.46375990852858], [126.91584245173756, 37.462474576247985], [126.91495285904284, 37.461166184511065], [126.91641538472182, 37.45870245071989], [126.9167728146601, 37.45490566423789], [126.91887928082078, 37.45495082787016], [126.9245243450059, 37.45392293573877], [126.92527839995981, 37.45161884570837], [126.93084408056525, 37.447382928333994], [126.9255681646224, 37.44377627841776], [126.92318732232543, 37.44131494528283], [126.92199241717724, 37.43848070111403], [126.92004664118903, 37.43708741729147], [126.91641802826501, 37.43722730676683], [126.91344497343947, 37.43474365720405], [126.91082677485002, 37.43100963341445], [126.90487628022693, 37.43129996372531], [126.90480610062333, 37.433123813599884], [126.90147608259903, 37.4353323892334], [126.90081465102077, 37.436498759868456], [126.90105333433885, 37.44031094924801], [126.90031753853916, 37.441844173154756], [126.89768314223053, 37.442906858137974], [126.89812451590424, 37.44551117837958], [126.89616541233094, 37.44983024861048], [126.8947204038491, 37.4491097366517], [126.89157226377172, 37.449944282396714], [126.89113632562855, 37.45236898205529], [126.88831381741582, 37.45357939777933], [126.88826482749008, 37.45663270152334], [126.89074130059865, 37.45966561796733], [126.88198617469523, 37.469975509557976], [126.87874781843654, 37.47475533620029], [126.87553760781829, 37.48186220368496], [126.87683271502428, 37.482576591607305], [126.88079109105627, 37.48378287831426], [126.8827497570056, 37.48316340563878], [126.88803217321346, 37.47975290808737], [126.89116882970154, 37.47681803032367], [126.89689977603885, 37.47570593888643], [126.90104536043339, 37.47614746588584], [126.90156094129895, 37.47753842789901]]], &quot;type&quot;: &quot;Polygon&quot;}, &quot;properties&quot;: {&quot;base_year&quot;: &quot;2013&quot;, &quot;code&quot;: &quot;11180&quot;, &quot;name&quot;: &quot;\\uae08\\ucc9c\\uad6c&quot;, &quot;name_eng&quot;: &quot;Geumcheon-gu&quot;}, &quot;type&quot;: &quot;Feature&quot;}, {&quot;geometry&quot;: {&quot;coordinates&quot;: [[[126.82688081517314, 37.50548972232896], [126.8312211095328, 37.50541191299514], [126.8341914436862, 37.50238060850881], [126.8385046623421, 37.49965438083505], [126.84270526111828, 37.501190052842375], [126.8421330711049, 37.50273297478404], [126.84689618668257, 37.50287086505149], [126.84730715497963, 37.50522159123912], [126.85079659934003, 37.50601938589165], [126.8521985385098, 37.507310601432195], [126.8549910115563, 37.507774255244875], [126.85767018319959, 37.50643578404816], [126.8602448049945, 37.50714262450898], [126.86219488732715, 37.50388438562706], [126.86454914535695, 37.50388350542007], [126.86525729660478, 37.502448483868896], [126.86795186545288, 37.502755995885714], [126.87109220473953, 37.50203922322315], [126.87432642792102, 37.50260287829134], [126.87556919864359, 37.505720626918], [126.88054908630636, 37.51148026214697], [126.88156402353862, 37.513970034765684], [126.89253696873205, 37.50875582175844], [126.89594776782485, 37.504675281309176], [126.89549571721683, 37.50033127915717], [126.89581061458084, 37.49391346191318], [126.89861362258316, 37.48625405368759], [126.90260188508027, 37.48282626920736], [126.90531975801812, 37.48218087575429], [126.90156094129895, 37.47753842789901], [126.90104536043339, 37.47614746588584], [126.89689977603885, 37.47570593888643], [126.89116882970154, 37.47681803032367], [126.88803217321346, 37.47975290808737], [126.8827497570056, 37.48316340563878], [126.88079109105627, 37.48378287831426], [126.87683271502428, 37.482576591607305], [126.87926901338844, 37.4851363312754], [126.87807822721697, 37.486247661404484], [126.87500855887376, 37.485529408954044], [126.87499999632084, 37.48723558386031], [126.86985088086946, 37.490972856926746], [126.86690708512153, 37.48850048185492], [126.86334463261252, 37.48702105213313], [126.85979281993241, 37.48309390333688], [126.8571926758503, 37.482400254369296], [126.85582775745682, 37.48008159809108], [126.85397991619827, 37.47882533996402], [126.84914329670241, 37.4792573077648], [126.84804505350411, 37.478160467930344], [126.84762676054953, 37.47146723936323], [126.84154264465728, 37.4728980419], [126.83754691879544, 37.472514053936045], [126.83388005989259, 37.4747683882548], [126.83136668931549, 37.47344154955525], [126.82660025197819, 37.47364544953152], [126.82419365698964, 37.472951080902234], [126.82179895415682, 37.47518076838956], [126.82206789884786, 37.47889514031285], [126.82139445214092, 37.48136482338644], [126.82208805042494, 37.48299688518288], [126.82558489219227, 37.48497306755705], [126.82482114643597, 37.48717399070965], [126.81993148808915, 37.48877864988337], [126.81649745505314, 37.490455810141476], [126.81480709048222, 37.493362284349615], [126.81518179823208, 37.495233793642186], [126.81771493003457, 37.494748098657496], [126.8208295567048, 37.49594689979241], [126.82204657426578, 37.49851634597747], [126.82367963750009, 37.49925830108059], [126.82504736331406, 37.50302612640443], [126.82469248121312, 37.50496239513798], [126.82688081517314, 37.50548972232896]]], &quot;type&quot;: &quot;Polygon&quot;}, &quot;properties&quot;: {&quot;base_year&quot;: &quot;2013&quot;, &quot;code&quot;: &quot;11170&quot;, &quot;name&quot;: &quot;\\uad6c\\ub85c\\uad6c&quot;, &quot;name_eng&quot;: &quot;Guro-gu&quot;}, &quot;type&quot;: &quot;Feature&quot;}, {&quot;geometry&quot;: {&quot;coordinates&quot;: [[[126.85984199399667, 37.571847855292745], [126.85950389772532, 37.5682771531189], [126.8604929702619, 37.566825621733905], [126.86837407967381, 37.56309561411933], [126.87997924964915, 37.55510740490174], [126.89184663862764, 37.547373974997114], [126.88736718003831, 37.54350482420959], [126.88825757860099, 37.54079733630232], [126.8872486543506, 37.54079100234749], [126.88280520161935, 37.545072121233225], [126.8761093656006, 37.54412882794802], [126.8727924099192, 37.544853699294116], [126.86637464321238, 37.54859191094823], [126.86426635332332, 37.54172958759955], [126.86582129720519, 37.53817151116851], [126.8655037497872, 37.53382926555605], [126.86610073476395, 37.52699964144669], [126.85098397861944, 37.525098716169985], [126.84257291943153, 37.52373707805596], [126.836555914069, 37.53367208325903], [126.83716591765655, 37.534935320492906], [126.83522688458329, 37.539042988809484], [126.8325348945036, 37.538953250433295], [126.83191667070415, 37.54146500511403], [126.83017074557299, 37.542611079015344], [126.82889818288362, 37.53909381305992], [126.8242331426722, 37.53788078753248], [126.81674221631081, 37.5378396500627], [126.81246052552456, 37.538810793377344], [126.81143604908785, 37.54033621168525], [126.80542840499083, 37.54008921830378], [126.80185404828612, 37.537645443377826], [126.80090914554204, 37.53503009075454], [126.79688612254975, 37.53302974862096], [126.79582133969424, 37.536641561833754], [126.79693641290046, 37.53865858611534], [126.79388711477147, 37.53902211451394], [126.7938616681597, 37.54104361952839], [126.79075533377627, 37.54165251407983], [126.78880225462409, 37.54353706379955], [126.78198339188025, 37.543449601019624], [126.77756215424237, 37.54611355396897], [126.77324417717703, 37.5459123450554], [126.76977011413412, 37.55052082471595], [126.76700465024426, 37.552821566629916], [126.77074629769308, 37.55296836994276], [126.77145103135192, 37.55434307460708], [126.77879087345151, 37.55919525318415], [126.77889121370164, 37.5613614424496], [126.77671213061004, 37.5645429268672], [126.77986476402239, 37.564245932540665], [126.78252024622797, 37.565367145342954], [126.78471963959866, 37.56745669198498], [126.78398460461828, 37.56905814599349], [126.78496836516075, 37.57090748246567], [126.79172648531066, 37.57472630536462], [126.79539987549317, 37.57451148875729], [126.79523455851671, 37.57760277954844], [126.7958606942207, 37.58019957877273], [126.79799133400897, 37.58036436587069], [126.80091228188235, 37.5854309825683], [126.80289369340177, 37.58621464221784], [126.80131704756816, 37.58839794302751], [126.80149834313248, 37.59012749570681], [126.7996634054858, 37.59296530943065], [126.79910601240701, 37.59569886491464], [126.80046544382346, 37.59827267924192], [126.80198459129242, 37.598541940075755], [126.80268446118524, 37.601312560472834], [126.80393696882469, 37.601857300987895], [126.80759006979085, 37.60089755124775], [126.81814502537962, 37.591566052513244], [126.82251438477105, 37.5880430810082], [126.82891304761237, 37.5855611764797], [126.85302823436479, 37.57282468882299], [126.85984199399667, 37.571847855292745]]], &quot;type&quot;: &quot;Polygon&quot;}, &quot;properties&quot;: {&quot;base_year&quot;: &quot;2013&quot;, &quot;code&quot;: &quot;11160&quot;, &quot;name&quot;: &quot;\\uac15\\uc11c\\uad6c&quot;, &quot;name_eng&quot;: &quot;Gangseo-gu&quot;}, &quot;type&quot;: &quot;Feature&quot;}, {&quot;geometry&quot;: {&quot;coordinates&quot;: [[[126.8242331426722, 37.53788078753248], [126.82889818288362, 37.53909381305992], [126.83017074557299, 37.542611079015344], [126.83191667070415, 37.54146500511403], [126.8325348945036, 37.538953250433295], [126.83522688458329, 37.539042988809484], [126.83716591765655, 37.534935320492906], [126.836555914069, 37.53367208325903], [126.84257291943153, 37.52373707805596], [126.85098397861944, 37.525098716169985], [126.86610073476395, 37.52699964144669], [126.8655037497872, 37.53382926555605], [126.86582129720519, 37.53817151116851], [126.86426635332332, 37.54172958759955], [126.86637464321238, 37.54859191094823], [126.8727924099192, 37.544853699294116], [126.8761093656006, 37.54412882794802], [126.88280520161935, 37.545072121233225], [126.8872486543506, 37.54079100234749], [126.88825757860099, 37.54079733630232], [126.88938421776182, 37.54060159145325], [126.89339176028666, 37.533030814524004], [126.89361739665432, 37.53033899535983], [126.89213569003026, 37.52757969298779], [126.89057378109133, 37.52792091672938], [126.88904768965743, 37.525856504359034], [126.88382776477316, 37.52352483439659], [126.88260109180834, 37.52242565920786], [126.88191372979959, 37.51939416754389], [126.88156402353862, 37.513970034765684], [126.88054908630636, 37.51148026214697], [126.87556919864359, 37.505720626918], [126.87432642792102, 37.50260287829134], [126.87109220473953, 37.50203922322315], [126.86795186545288, 37.502755995885714], [126.86525729660478, 37.502448483868896], [126.86454914535695, 37.50388350542007], [126.86219488732715, 37.50388438562706], [126.8602448049945, 37.50714262450898], [126.85767018319959, 37.50643578404816], [126.8549910115563, 37.507774255244875], [126.8521985385098, 37.507310601432195], [126.85079659934003, 37.50601938589165], [126.84730715497963, 37.50522159123912], [126.84689618668257, 37.50287086505149], [126.8421330711049, 37.50273297478404], [126.84270526111828, 37.501190052842375], [126.8385046623421, 37.49965438083505], [126.8341914436862, 37.50238060850881], [126.8312211095328, 37.50541191299514], [126.82688081517314, 37.50548972232896], [126.82609821744505, 37.507816771867255], [126.82665326173496, 37.510416148524136], [126.82529622550616, 37.513385210403136], [126.82763384465879, 37.516923263281946], [126.8273575421771, 37.52002629298419], [126.83054711509516, 37.52390261457357], [126.82938708105253, 37.5268052663749], [126.8276955169658, 37.52706155314193], [126.82389942108053, 37.53199443525418], [126.8242331426722, 37.53788078753248]]], &quot;type&quot;: &quot;Polygon&quot;}, &quot;properties&quot;: {&quot;base_year&quot;: &quot;2013&quot;, &quot;code&quot;: &quot;11150&quot;, &quot;name&quot;: &quot;\\uc591\\ucc9c\\uad6c&quot;, &quot;name_eng&quot;: &quot;Yangcheon-gu&quot;}, &quot;type&quot;: &quot;Feature&quot;}, {&quot;geometry&quot;: {&quot;coordinates&quot;: [[[126.90522065831053, 37.57409700522574], [126.90370105002282, 37.57266722738834], [126.90687243065778, 37.57059762097416], [126.92189004506, 37.56391798973296], [126.92778174854314, 37.562495624023775], [126.93034243306369, 37.56054720372433], [126.92881397392811, 37.558202848902], [126.92872097190046, 37.556034533941734], [126.93898161798973, 37.552310003728124], [126.94314477022111, 37.5536460848349], [126.95916768398142, 37.55468176051932], [126.96080686210321, 37.55386236039188], [126.96358226710812, 37.55605635475154], [126.96519694864509, 37.55362533505407], [126.96380145704283, 37.55254525759954], [126.96448570553055, 37.548705692021635], [126.96604189284825, 37.546894141748815], [126.96401856825223, 37.54584596959762], [126.96231305253527, 37.543511558047456], [126.9605977865388, 37.542661954880806], [126.95926437828754, 37.53897908363236], [126.95340780191557, 37.533494726370755], [126.94717864071288, 37.53213495568077], [126.94566733083212, 37.526617542453366], [126.93680342222562, 37.53344577095931], [126.93132557924062, 37.53415416375281], [126.90829204147958, 37.539206065016785], [126.90281125423546, 37.54133630026083], [126.89184663862764, 37.547373974997114], [126.87997924964915, 37.55510740490174], [126.86837407967381, 37.56309561411933], [126.8604929702619, 37.566825621733905], [126.85950389772532, 37.5682771531189], [126.85984199399667, 37.571847855292745], [126.85993476176495, 37.5728262143511], [126.8638132887273, 37.57306147014704], [126.86560520354786, 37.57385540098251], [126.86766286078968, 37.57269227137124], [126.87008117117851, 37.574598289168996], [126.87282267062741, 37.574956427500126], [126.8779661566318, 37.57680133323819], [126.87918874599603, 37.5796889248137], [126.87876320682938, 37.581327335058546], [126.88107183862735, 37.583788024645344], [126.88237824849728, 37.586847436468204], [126.88433284773288, 37.588143322880526], [126.89150044994719, 37.58202374305761], [126.89532313269488, 37.579420322822145], [126.89738573904876, 37.578668647687564], [126.90023584510952, 37.575506080437606], [126.90373193212757, 37.573123712282076], [126.90522065831053, 37.57409700522574]]], &quot;type&quot;: &quot;Polygon&quot;}, &quot;properties&quot;: {&quot;base_year&quot;: &quot;2013&quot;, &quot;code&quot;: &quot;11140&quot;, &quot;name&quot;: &quot;\\ub9c8\\ud3ec\\uad6c&quot;, &quot;name_eng&quot;: &quot;Mapo-gu&quot;}, &quot;type&quot;: &quot;Feature&quot;}, {&quot;geometry&quot;: {&quot;coordinates&quot;: [[[126.9524752030572, 37.60508692737045], [126.95480868778256, 37.60381765067903], [126.95564117002459, 37.601827148276776], [126.95484771718951, 37.59761368186209], [126.95619178283661, 37.59575826218021], [126.95924434840931, 37.59545024466215], [126.95842779914786, 37.592356673207824], [126.960424902266, 37.58868913291801], [126.96048802632431, 37.587202077053746], [126.95879970726017, 37.58189826471162], [126.96177754536156, 37.57970124256911], [126.95789326971087, 37.57793453336025], [126.95565425846463, 37.576080790881456], [126.96873633279075, 37.56313604690827], [126.97169209525231, 37.55921654641677], [126.96900073076728, 37.55850929094393], [126.96570855677983, 37.556512377492325], [126.96358226710812, 37.55605635475154], [126.96080686210321, 37.55386236039188], [126.95916768398142, 37.55468176051932], [126.94314477022111, 37.5536460848349], [126.93898161798973, 37.552310003728124], [126.92872097190046, 37.556034533941734], [126.92881397392811, 37.558202848902], [126.93034243306369, 37.56054720372433], [126.92778174854314, 37.562495624023775], [126.92189004506, 37.56391798973296], [126.90687243065778, 37.57059762097416], [126.90370105002282, 37.57266722738834], [126.90522065831053, 37.57409700522574], [126.91464724464083, 37.583228529985455], [126.91827498278953, 37.58276881451649], [126.91792000144513, 37.58034997804668], [126.92444169370404, 37.581233899739914], [126.92596484570709, 37.58441659356971], [126.9281697003186, 37.584376616028365], [126.9302171100533, 37.58559126746845], [126.92996402426377, 37.58767009299767], [126.93104958440722, 37.58996937993664], [126.93575441237547, 37.593605788596975], [126.94277481511082, 37.59587806191211], [126.94359054641505, 37.60034871312552], [126.94451473597087, 37.60203195380752], [126.94701525068315, 37.602028095480975], [126.94919787550161, 37.60506379949065], [126.9524752030572, 37.60508692737045]]], &quot;type&quot;: &quot;Polygon&quot;}, &quot;properties&quot;: {&quot;base_year&quot;: &quot;2013&quot;, &quot;code&quot;: &quot;11130&quot;, &quot;name&quot;: &quot;\\uc11c\\ub300\\ubb38\\uad6c&quot;, &quot;name_eng&quot;: &quot;Seodaemun-gu&quot;}, &quot;type&quot;: &quot;Feature&quot;}, {&quot;geometry&quot;: {&quot;coordinates&quot;: [[[126.9738864128702, 37.62949634786888], [126.97135221665513, 37.62743418897386], [126.96164158910712, 37.62569322976388], [126.95885198650147, 37.6225761621008], [126.95427017006129, 37.622033431339425], [126.95393421039743, 37.61877981567335], [126.9528332649861, 37.6161065117682], [126.95145384404022, 37.61493028446385], [126.95249458941419, 37.61333750249896], [126.95308190738618, 37.60926681659027], [126.95187994741721, 37.60600915874973], [126.9524752030572, 37.60508692737045], [126.94919787550161, 37.60506379949065], [126.94701525068315, 37.602028095480975], [126.94451473597087, 37.60203195380752], [126.94359054641505, 37.60034871312552], [126.94277481511082, 37.59587806191211], [126.93575441237547, 37.593605788596975], [126.93104958440722, 37.58996937993664], [126.92996402426377, 37.58767009299767], [126.9302171100533, 37.58559126746845], [126.9281697003186, 37.584376616028365], [126.92596484570709, 37.58441659356971], [126.92444169370404, 37.581233899739914], [126.91792000144513, 37.58034997804668], [126.91827498278953, 37.58276881451649], [126.91464724464083, 37.583228529985455], [126.90522065831053, 37.57409700522574], [126.90373193212757, 37.573123712282076], [126.90023584510952, 37.575506080437606], [126.89738573904876, 37.578668647687564], [126.89532313269488, 37.579420322822145], [126.89150044994719, 37.58202374305761], [126.88433284773288, 37.588143322880526], [126.88715278104091, 37.59100341655796], [126.88936046370014, 37.59099007316069], [126.88753401663872, 37.58829545592628], [126.88935419108029, 37.58580092310326], [126.89349057571656, 37.585662344444785], [126.89532781702978, 37.58637054299599], [126.89905466698256, 37.58582731337662], [126.9019347597747, 37.58707359614439], [126.9010825805882, 37.58986595756633], [126.90396681003595, 37.59227403419942], [126.90321089756087, 37.594542731935476], [126.90358350094938, 37.59657528019595], [126.90235425214276, 37.60036302950128], [126.90417801431465, 37.60102912046836], [126.90396561274416, 37.60721180273151], [126.90303066177668, 37.609977911401344], [126.90548675623195, 37.61601216482774], [126.90721633741286, 37.6164590533837], [126.90935539569412, 37.61912234588074], [126.90852982623917, 37.62123670148755], [126.91081768678396, 37.62338674837964], [126.91117179533428, 37.62562846875194], [126.90862530043799, 37.62973539928895], [126.91295124779275, 37.633086577991136], [126.91232131977827, 37.635879167956396], [126.91380622398978, 37.63822817856539], [126.91455481429648, 37.64150050996935], [126.9097405206299, 37.643548736416925], [126.9104285840059, 37.64469477594629], [126.91598194662826, 37.64192000919822], [126.92335892549015, 37.642768849393626], [126.92751618877016, 37.644656244616336], [126.93099150738166, 37.64717805899008], [126.93658892420821, 37.64777520545395], [126.93914008753828, 37.64914400014214], [126.94248904852749, 37.65384179343651], [126.94571884127255, 37.655369042036206], [126.94940373004215, 37.656145979585894], [126.94982400027399, 37.65461320918016], [126.95334970767568, 37.65216408903825], [126.956473797387, 37.652480737339445], [126.9588647426878, 37.6498628918019], [126.95972824076269, 37.64638504253487], [126.96223689995006, 37.64553441285544], [126.96424221141602, 37.64071627640099], [126.96652025322855, 37.640285044901944], [126.97092373342322, 37.63589354812246], [126.97086605626453, 37.633738820281394], [126.9738864128702, 37.62949634786888]]], &quot;type&quot;: &quot;Polygon&quot;}, &quot;properties&quot;: {&quot;base_year&quot;: &quot;2013&quot;, &quot;code&quot;: &quot;11120&quot;, &quot;name&quot;: &quot;\\uc740\\ud3c9\\uad6c&quot;, &quot;name_eng&quot;: &quot;Eunpyeong-gu&quot;}, &quot;type&quot;: &quot;Feature&quot;}, {&quot;geometry&quot;: {&quot;coordinates&quot;: [[[127.10782277688129, 37.61804244241069], [127.10361952102048, 37.61701182935077], [127.10191523948123, 37.61531698025357], [127.09825969127313, 37.61431077622918], [127.09125855705382, 37.61703046232404], [127.08796048322492, 37.617471883010936], [127.08325130652017, 37.61626773063051], [127.07351243825278, 37.61283660342313], [127.07011594002495, 37.6127769191002], [127.06726783142085, 37.61136014256744], [127.06412260483201, 37.6115839902766], [127.05631594723272, 37.61738373018764], [127.05209373568619, 37.62164065487782], [127.04999984182327, 37.62412061598568], [127.04358800895609, 37.62848931298715], [127.046042857549, 37.630647660209426], [127.0471214260595, 37.63407841321815], [127.05227148282157, 37.642016305290156], [127.05704472959141, 37.63797342537787], [127.05800075220091, 37.64318263878276], [127.05640030258566, 37.648142414223344], [127.05620364700786, 37.65295201497795], [127.05366382763933, 37.65780685245659], [127.05343284205686, 37.660866393548005], [127.05093085431419, 37.666308257661356], [127.05124324520023, 37.6703356616521], [127.05259811896667, 37.67463041579101], [127.05402878877452, 37.682018621183914], [127.05288479710485, 37.68423857084347], [127.05673771202906, 37.68650223136443], [127.05893512852644, 37.68678532745334], [127.06366923747898, 37.68598834805241], [127.06722106517597, 37.68706409219909], [127.07150256171397, 37.69158365999211], [127.07502582169255, 37.691675325399515], [127.07945174893383, 37.693602239076704], [127.0838752703195, 37.69359534202034], [127.08640047239444, 37.69122798275615], [127.08834747450551, 37.68753106067129], [127.09706391309695, 37.686383719372294], [127.09839746601683, 37.682954904948026], [127.09481040538887, 37.678799295731295], [127.0939394572467, 37.676403111386776], [127.09572273018789, 37.673837879820674], [127.09657954289648, 37.670746511824845], [127.09767362583241, 37.67002252402865], [127.0980220884148, 37.66742967749355], [127.09621282296045, 37.66347990019021], [127.09845931549125, 37.659077182069595], [127.0978618070161, 37.656734861475485], [127.08845241642267, 37.65271564775536], [127.09496093471334, 37.65209266377008], [127.09618835483448, 37.65001330395237], [127.09440766298717, 37.64713490473045], [127.09686381732382, 37.642772590812655], [127.10024317327698, 37.642337895238754], [127.10266382494892, 37.64291284604662], [127.11014084969742, 37.641850613893396], [127.11406637789241, 37.63742154695932], [127.1144974746579, 37.632439003890255], [127.11309628774731, 37.627803407908374], [127.10737639048635, 37.62412346388371], [127.10736111050278, 37.62243873312504], [127.10561964188106, 37.620112931875134], [127.10782277688129, 37.61804244241069]]], &quot;type&quot;: &quot;Polygon&quot;}, &quot;properties&quot;: {&quot;base_year&quot;: &quot;2013&quot;, &quot;code&quot;: &quot;11110&quot;, &quot;name&quot;: &quot;\\ub178\\uc6d0\\uad6c&quot;, &quot;name_eng&quot;: &quot;Nowon-gu&quot;}, &quot;type&quot;: &quot;Feature&quot;}, {&quot;geometry&quot;: {&quot;coordinates&quot;: [[[127.05288479710485, 37.68423857084347], [127.05402878877452, 37.682018621183914], [127.05259811896667, 37.67463041579101], [127.05124324520023, 37.6703356616521], [127.05093085431419, 37.666308257661356], [127.05343284205686, 37.660866393548005], [127.05366382763933, 37.65780685245659], [127.05620364700786, 37.65295201497795], [127.05640030258566, 37.648142414223344], [127.05800075220091, 37.64318263878276], [127.05704472959141, 37.63797342537787], [127.05227148282157, 37.642016305290156], [127.0471214260595, 37.63407841321815], [127.046042857549, 37.630647660209426], [127.04358800895609, 37.62848931298715], [127.04058571489718, 37.6311245692538], [127.03905574421407, 37.63395360172076], [127.03660759925259, 37.63506293914692], [127.03477664182829, 37.63884292238491], [127.02950136469548, 37.64228467033725], [127.0265542519312, 37.644688649276304], [127.02233660280599, 37.64628067142158], [127.01772305897457, 37.64631597694605], [127.01534913067235, 37.64765266597785], [127.01465935892466, 37.64943687496812], [127.01599412132472, 37.65623256113309], [127.01726703299362, 37.65880555518138], [127.01776269066357, 37.66391319760785], [127.02062116141389, 37.667173575971205], [127.01873683359163, 37.66988242479123], [127.0159718440919, 37.67258796420281], [127.01401600772708, 37.67653037200686], [127.01073060671976, 37.67694372299732], [127.01039666042071, 37.681894589603594], [127.01103947380624, 37.684405447624954], [127.01017954927539, 37.686333239654594], [127.0109997247323, 37.691942369792514], [127.01405303313638, 37.69546278140397], [127.01645586375106, 37.69548055092485], [127.01802453368332, 37.698275937456124], [127.02143522814708, 37.698589417759045], [127.02419558273166, 37.69682256792619], [127.02700292435075, 37.69665589205863], [127.03018866626446, 37.69776745888886], [127.03132724235057, 37.69621818994332], [127.03183574218306, 37.69340418484943], [127.03328657751797, 37.69010729962784], [127.0345286215439, 37.688986544260594], [127.0379422140845, 37.68943836856245], [127.04383030416193, 37.692565730249534], [127.04510703173885, 37.690951514278055], [127.04772506731972, 37.68962174626068], [127.05108189294938, 37.69116379209157], [127.05288479710485, 37.68423857084347]]], &quot;type&quot;: &quot;Polygon&quot;}, &quot;properties&quot;: {&quot;base_year&quot;: &quot;2013&quot;, &quot;code&quot;: &quot;11100&quot;, &quot;name&quot;: &quot;\\ub3c4\\ubd09\\uad6c&quot;, &quot;name_eng&quot;: &quot;Dobong-gu&quot;}, &quot;type&quot;: &quot;Feature&quot;}, {&quot;geometry&quot;: {&quot;coordinates&quot;: [[[127.01039666042071, 37.681894589603594], [127.01073060671976, 37.67694372299732], [127.01401600772708, 37.67653037200686], [127.0159718440919, 37.67258796420281], [127.01873683359163, 37.66988242479123], [127.02062116141389, 37.667173575971205], [127.01776269066357, 37.66391319760785], [127.01726703299362, 37.65880555518138], [127.01599412132472, 37.65623256113309], [127.01465935892466, 37.64943687496812], [127.01534913067235, 37.64765266597785], [127.01772305897457, 37.64631597694605], [127.02233660280599, 37.64628067142158], [127.0265542519312, 37.644688649276304], [127.02950136469548, 37.64228467033725], [127.03477664182829, 37.63884292238491], [127.03660759925259, 37.63506293914692], [127.03905574421407, 37.63395360172076], [127.04058571489718, 37.6311245692538], [127.04358800895609, 37.62848931298715], [127.04999984182327, 37.62412061598568], [127.05209373568619, 37.62164065487782], [127.04887981022048, 37.61973841113549], [127.0460676006384, 37.615885647801704], [127.0419720518426, 37.612838591864076], [127.03892400992301, 37.609715611023816], [127.03251659844592, 37.60634705009134], [127.03229982090541, 37.609536104167034], [127.02851994524015, 37.60987827182396], [127.02433990415497, 37.60847763545628], [127.02136282940177, 37.610961475137174], [127.01685658093551, 37.61280115359516], [127.0128154749523, 37.613652243470256], [127.01060611893628, 37.615741236385354], [127.00960949401902, 37.61822603840364], [127.00997935126598, 37.62111906051553], [127.00210238658002, 37.622984514557714], [126.99867431516041, 37.626297613391166], [126.99614706382866, 37.62719717129899], [126.99529660787617, 37.62923863577322], [126.9933714170822, 37.62922019292486], [126.9877052521691, 37.63265610340949], [126.98672705513869, 37.63377641288196], [126.98826481934299, 37.637416984207924], [126.98537069512379, 37.64080296617396], [126.987065858581, 37.64320008084445], [126.98580395043626, 37.64699767714015], [126.9832621473545, 37.64947328029498], [126.9817452676551, 37.65209769387776], [126.98205504313285, 37.653797128044495], [126.98709809733522, 37.65651691642121], [126.99031779354014, 37.661013121145366], [126.99494735642686, 37.66223870806347], [126.99581225370686, 37.6651171428027], [126.99622950422442, 37.669428820661516], [126.99506026831365, 37.674827885285765], [126.99384134064161, 37.67665247641944], [126.9959894573757, 37.67754299691771], [127.00000021675876, 37.68100582640454], [127.00566931208934, 37.68228507374621], [127.01039666042071, 37.681894589603594]]], &quot;type&quot;: &quot;Polygon&quot;}, &quot;properties&quot;: {&quot;base_year&quot;: &quot;2013&quot;, &quot;code&quot;: &quot;11090&quot;, &quot;name&quot;: &quot;\\uac15\\ubd81\\uad6c&quot;, &quot;name_eng&quot;: &quot;Gangbuk-gu&quot;}, &quot;type&quot;: &quot;Feature&quot;}, {&quot;geometry&quot;: {&quot;coordinates&quot;: [[[126.977175406416, 37.62859715400388], [126.9794090069433, 37.63071544568365], [126.98360012419735, 37.631915771386076], [126.98672705513869, 37.63377641288196], [126.9877052521691, 37.63265610340949], [126.9933714170822, 37.62922019292486], [126.99529660787617, 37.62923863577322], [126.99614706382866, 37.62719717129899], [126.99867431516041, 37.626297613391166], [127.00210238658002, 37.622984514557714], [127.00997935126598, 37.62111906051553], [127.00960949401902, 37.61822603840364], [127.01060611893628, 37.615741236385354], [127.0128154749523, 37.613652243470256], [127.01685658093551, 37.61280115359516], [127.02136282940177, 37.610961475137174], [127.02433990415497, 37.60847763545628], [127.02851994524015, 37.60987827182396], [127.03229982090541, 37.609536104167034], [127.03251659844592, 37.60634705009134], [127.03892400992301, 37.609715611023816], [127.0419720518426, 37.612838591864076], [127.0460676006384, 37.615885647801704], [127.04887981022048, 37.61973841113549], [127.05209373568619, 37.62164065487782], [127.05631594723272, 37.61738373018764], [127.06412260483201, 37.6115839902766], [127.06726783142085, 37.61136014256744], [127.07011594002495, 37.6127769191002], [127.07351243825278, 37.61283660342313], [127.07382707099227, 37.60401928986419], [127.07257736686556, 37.60654335765868], [127.07069716820665, 37.60653037341939], [127.07084342033339, 37.60407877132597], [127.06753185518703, 37.602724214598744], [127.06424828533608, 37.60234356864383], [127.0612685122857, 37.59823077263369], [127.059485363799, 37.598743571420485], [127.05413734593897, 37.5971595374718], [127.05238061017225, 37.598312271275574], [127.04975439355248, 37.59349421284317], [127.0461318196879, 37.593514180513594], [127.042705222094, 37.59239437593391], [127.04116895171082, 37.58847599306138], [127.0384945038446, 37.587129138658426], [127.03121630347839, 37.57957997701485], [127.02527254528003, 37.57524616245249], [127.02395698453867, 37.576068086896726], [127.02039107536422, 37.575771872553595], [127.01849412471284, 37.57904760334465], [127.01678966486051, 37.57943162455397], [127.01094467951529, 37.57765758282494], [127.00914513999258, 37.57928387879304], [127.00896672237498, 37.582512606964876], [127.00803641804285, 37.5841154647404], [127.00453322588274, 37.58626325611708], [127.00304474231643, 37.58959898679736], [126.99774058571116, 37.58944568945197], [126.99647930158565, 37.58845217708608], [126.99348293358314, 37.588565457216156], [126.98858114244759, 37.58971272682123], [126.98596926877026, 37.59105697466976], [126.98411250331745, 37.59305007059415], [126.98366752610544, 37.596350797276386], [126.98700989661556, 37.59664611897289], [126.98984276495587, 37.59842301677683], [126.9880021251863, 37.60434406739665], [126.98906118629816, 37.60778324866486], [126.98879865992384, 37.6118927319756], [126.9849070918475, 37.61390303132951], [126.98297129719916, 37.61996223346171], [126.98130955822086, 37.621781567952816], [126.98162508963613, 37.626412913357804], [126.97877284074367, 37.62605559220399], [126.977175406416, 37.62859715400388]]], &quot;type&quot;: &quot;Polygon&quot;}, &quot;properties&quot;: {&quot;base_year&quot;: &quot;2013&quot;, &quot;code&quot;: &quot;11080&quot;, &quot;name&quot;: &quot;\\uc131\\ubd81\\uad6c&quot;, &quot;name_eng&quot;: &quot;Seongbuk-gu&quot;}, &quot;type&quot;: &quot;Feature&quot;}, {&quot;geometry&quot;: {&quot;coordinates&quot;: [[[127.07351243825278, 37.61283660342313], [127.08325130652017, 37.61626773063051], [127.08796048322492, 37.617471883010936], [127.09125855705382, 37.61703046232404], [127.09825969127313, 37.61431077622918], [127.10191523948123, 37.61531698025357], [127.10361952102048, 37.61701182935077], [127.10782277688129, 37.61804244241069], [127.11345331993296, 37.617863842655304], [127.11916337651404, 37.615000227833356], [127.1187755615964, 37.61339189160851], [127.11970006573152, 37.60891483985411], [127.11876125411283, 37.606109446640644], [127.12043057261968, 37.60482121408794], [127.1201246020114, 37.60178457598188], [127.11594480655864, 37.59717030173888], [127.1161657841268, 37.5962121213837], [127.12048134936907, 37.59221917979044], [127.11993709114493, 37.5912110652886], [127.11547153661459, 37.590528329194775], [127.11264015185725, 37.58640964166709], [127.11144053497418, 37.58186897928644], [127.10355419751173, 37.58101570870827], [127.10488038804347, 37.57896712496416], [127.10478332632734, 37.575507303239235], [127.10316405057817, 37.57293156986855], [127.10304174249214, 37.57076342290955], [127.1015990771266, 37.56973288819573], [127.09327554832984, 37.566762290300666], [127.08553261581505, 37.56856310839328], [127.08068541280403, 37.56906425519017], [127.08029626481297, 37.57521980955321], [127.07912345005859, 37.57855657914261], [127.07327401376529, 37.585954498442064], [127.07152840437725, 37.593413161750675], [127.07216156147413, 37.59537631888819], [127.07457336676376, 37.5983180561341], [127.07481016030349, 37.60000012932336], [127.07382707099227, 37.60401928986419], [127.07351243825278, 37.61283660342313]]], &quot;type&quot;: &quot;Polygon&quot;}, &quot;properties&quot;: {&quot;base_year&quot;: &quot;2013&quot;, &quot;code&quot;: &quot;11070&quot;, &quot;name&quot;: &quot;\\uc911\\ub791\\uad6c&quot;, &quot;name_eng&quot;: &quot;Jungnang-gu&quot;}, &quot;type&quot;: &quot;Feature&quot;}, {&quot;geometry&quot;: {&quot;coordinates&quot;: [[[127.02527254528003, 37.57524616245249], [127.03121630347839, 37.57957997701485], [127.0384945038446, 37.587129138658426], [127.04116895171082, 37.58847599306138], [127.042705222094, 37.59239437593391], [127.0461318196879, 37.593514180513594], [127.04975439355248, 37.59349421284317], [127.05238061017225, 37.598312271275574], [127.05413734593897, 37.5971595374718], [127.059485363799, 37.598743571420485], [127.0612685122857, 37.59823077263369], [127.06424828533608, 37.60234356864383], [127.06753185518703, 37.602724214598744], [127.07084342033339, 37.60407877132597], [127.07069716820665, 37.60653037341939], [127.07257736686556, 37.60654335765868], [127.07382707099227, 37.60401928986419], [127.07481016030349, 37.60000012932336], [127.07457336676376, 37.5983180561341], [127.07216156147413, 37.59537631888819], [127.07152840437725, 37.593413161750675], [127.07327401376529, 37.585954498442064], [127.07912345005859, 37.57855657914261], [127.08029626481297, 37.57521980955321], [127.08068541280403, 37.56906425519017], [127.07421053024362, 37.55724769712085], [127.07287485628252, 37.55777591771644], [127.06151678590773, 37.55942885203987], [127.06031059899311, 37.55992251180729], [127.05005601081567, 37.567577612590846], [127.0442866611438, 37.57022476304866], [127.04003329296518, 37.57010227772625], [127.03483042272745, 37.567549767306716], [127.03182413083377, 37.56712900013391], [127.02547266349976, 37.568943552237734], [127.02527254528003, 37.57524616245249]]], &quot;type&quot;: &quot;Polygon&quot;}, &quot;properties&quot;: {&quot;base_year&quot;: &quot;2013&quot;, &quot;code&quot;: &quot;11060&quot;, &quot;name&quot;: &quot;\\ub3d9\\ub300\\ubb38\\uad6c&quot;, &quot;name_eng&quot;: &quot;Dongdaemun-gu&quot;}, &quot;type&quot;: &quot;Feature&quot;}, {&quot;geometry&quot;: {&quot;coordinates&quot;: [[[127.08068541280403, 37.56906425519017], [127.08553261581505, 37.56856310839328], [127.09327554832984, 37.566762290300666], [127.1015990771266, 37.56973288819573], [127.10304174249214, 37.57076342290955], [127.10627148043552, 37.568124945986824], [127.10545359063936, 37.56685230388649], [127.10407152037101, 37.55958871940823], [127.10325742736646, 37.5572251707506], [127.11270952006532, 37.55702358575743], [127.11519584981606, 37.557533180704915], [127.11600943681239, 37.55580061507081], [127.11600200349189, 37.55053147511706], [127.11418412219375, 37.54474592090681], [127.1116764203608, 37.540669955324965], [127.10484130265957, 37.53120327509912], [127.10087519791962, 37.524841220167055], [127.0943611414465, 37.523984206117525], [127.08639455667742, 37.52161824624356], [127.07968915919895, 37.52077294752823], [127.07496309841329, 37.52091052765938], [127.0690698130372, 37.522279423505026], [127.05867359288398, 37.52629974922568], [127.06896218881212, 37.544361436565524], [127.07580697427795, 37.556641581290656], [127.07421053024362, 37.55724769712085], [127.08068541280403, 37.56906425519017]]], &quot;type&quot;: &quot;Polygon&quot;}, &quot;properties&quot;: {&quot;base_year&quot;: &quot;2013&quot;, &quot;code&quot;: &quot;11050&quot;, &quot;name&quot;: &quot;\\uad11\\uc9c4\\uad6c&quot;, &quot;name_eng&quot;: &quot;Gwangjin-gu&quot;}, &quot;type&quot;: &quot;Feature&quot;}, {&quot;geometry&quot;: {&quot;coordinates&quot;: [[[127.02547266349976, 37.568943552237734], [127.03182413083377, 37.56712900013391], [127.03483042272745, 37.567549767306716], [127.04003329296518, 37.57010227772625], [127.0442866611438, 37.57022476304866], [127.05005601081567, 37.567577612590846], [127.06031059899311, 37.55992251180729], [127.06151678590773, 37.55942885203987], [127.07287485628252, 37.55777591771644], [127.07421053024362, 37.55724769712085], [127.07580697427795, 37.556641581290656], [127.06896218881212, 37.544361436565524], [127.05867359288398, 37.52629974922568], [127.05116490008963, 37.52975116557232], [127.04903802830752, 37.53140496708317], [127.04806779588436, 37.52970198575087], [127.0319617044248, 37.536064291470424], [127.0269608080842, 37.53484752757724], [127.02302831890559, 37.53231899582663], [127.01689265453608, 37.536101393926174], [127.01157414590769, 37.53677688273679], [127.01043978345277, 37.53905983303592], [127.01070894177482, 37.54118048964762], [127.01172101406588, 37.545252245650516], [127.01376082027429, 37.54571276061997], [127.01889368846282, 37.55057696424215], [127.01951516360089, 37.55318470254581], [127.02174792168286, 37.55473509405241], [127.02496143707425, 37.555070476260596], [127.0257913546443, 37.558352834264504], [127.02836991434461, 37.56019645010606], [127.02881029425372, 37.56219283885279], [127.02571971403893, 37.56237200595601], [127.02547266349976, 37.568943552237734]]], &quot;type&quot;: &quot;Polygon&quot;}, &quot;properties&quot;: {&quot;base_year&quot;: &quot;2013&quot;, &quot;code&quot;: &quot;11040&quot;, &quot;name&quot;: &quot;\\uc131\\ub3d9\\uad6c&quot;, &quot;name_eng&quot;: &quot;Seongdong-gu&quot;}, &quot;type&quot;: &quot;Feature&quot;}, {&quot;geometry&quot;: {&quot;coordinates&quot;: [[[127.01070894177482, 37.54118048964762], [127.01043978345277, 37.53905983303592], [127.01157414590769, 37.53677688273679], [127.01689265453608, 37.536101393926174], [127.02302831890559, 37.53231899582663], [127.01397119667513, 37.52503988289669], [127.01022186960886, 37.522020085671926], [127.00818058911564, 37.51877313923874], [127.00583392114271, 37.516905128452926], [127.00011962020382, 37.513901653034374], [126.99148001917875, 37.50990503427709], [126.98948242685965, 37.5108780134613], [126.98458580602838, 37.51070333105394], [126.98223807916081, 37.509314966770326], [126.96670111119346, 37.50997579058433], [126.95950268374823, 37.51249532165974], [126.95551848909955, 37.514736123015844], [126.95249990298159, 37.51722500741813], [126.95003825019774, 37.520781022055274], [126.9488066464266, 37.52424913252661], [126.94566733083212, 37.526617542453366], [126.94717864071288, 37.53213495568077], [126.95340780191557, 37.533494726370755], [126.95926437828754, 37.53897908363236], [126.9605977865388, 37.542661954880806], [126.96231305253527, 37.543511558047456], [126.96401856825223, 37.54584596959762], [126.96604189284825, 37.546894141748815], [126.96448570553055, 37.548705692021635], [126.96782902931233, 37.55132047039716], [126.97427174983227, 37.55109017579016], [126.97859017732588, 37.550336476582174], [126.97925452152829, 37.552184137181925], [126.98262900956787, 37.5506055959842], [126.98584427779701, 37.55023778139842], [126.98752996903328, 37.55094818807139], [126.9899124474417, 37.54869376545355], [126.99238536723166, 37.54862980831976], [126.99742220893982, 37.544438365587226], [127.00062378484931, 37.54713274618077], [127.00478682371764, 37.54680216333233], [127.00632779182564, 37.54757707053058], [127.00694507580798, 37.5433832956489], [127.00936066823724, 37.54101133407434], [127.01070894177482, 37.54118048964762]]], &quot;type&quot;: &quot;Polygon&quot;}, &quot;properties&quot;: {&quot;base_year&quot;: &quot;2013&quot;, &quot;code&quot;: &quot;11030&quot;, &quot;name&quot;: &quot;\\uc6a9\\uc0b0\\uad6c&quot;, &quot;name_eng&quot;: &quot;Yongsan-gu&quot;}, &quot;type&quot;: &quot;Feature&quot;}, {&quot;geometry&quot;: {&quot;coordinates&quot;: [[[127.02547266349976, 37.568943552237734], [127.02571971403893, 37.56237200595601], [127.02881029425372, 37.56219283885279], [127.02836991434461, 37.56019645010606], [127.0257913546443, 37.558352834264504], [127.02496143707425, 37.555070476260596], [127.02174792168286, 37.55473509405241], [127.01951516360089, 37.55318470254581], [127.01889368846282, 37.55057696424215], [127.01376082027429, 37.54571276061997], [127.01172101406588, 37.545252245650516], [127.01070894177482, 37.54118048964762], [127.00936066823724, 37.54101133407434], [127.00694507580798, 37.5433832956489], [127.00632779182564, 37.54757707053058], [127.00478682371764, 37.54680216333233], [127.00062378484931, 37.54713274618077], [126.99742220893982, 37.544438365587226], [126.99238536723166, 37.54862980831976], [126.9899124474417, 37.54869376545355], [126.98752996903328, 37.55094818807139], [126.98584427779701, 37.55023778139842], [126.98262900956787, 37.5506055959842], [126.97925452152829, 37.552184137181925], [126.97859017732588, 37.550336476582174], [126.97427174983227, 37.55109017579016], [126.96782902931233, 37.55132047039716], [126.96448570553055, 37.548705692021635], [126.96380145704283, 37.55254525759954], [126.96519694864509, 37.55362533505407], [126.96358226710812, 37.55605635475154], [126.96570855677983, 37.556512377492325], [126.96900073076728, 37.55850929094393], [126.97169209525231, 37.55921654641677], [126.96873633279075, 37.56313604690827], [126.97114791678374, 37.56539818101368], [126.97500684322326, 37.566406971064836], [126.97990305661519, 37.5664536437083], [126.9910070921652, 37.565312022428806], [126.99879870609924, 37.56591346564579], [127.00372480409301, 37.56679519621814], [127.01786686709805, 37.56701276414023], [127.02250839667563, 37.56892943928301], [127.02547266349976, 37.568943552237734]]], &quot;type&quot;: &quot;Polygon&quot;}, &quot;properties&quot;: {&quot;base_year&quot;: &quot;2013&quot;, &quot;code&quot;: &quot;11020&quot;, &quot;name&quot;: &quot;\\uc911\\uad6c&quot;, &quot;name_eng&quot;: &quot;Jung-gu&quot;}, &quot;type&quot;: &quot;Feature&quot;}, {&quot;geometry&quot;: {&quot;coordinates&quot;: [[[126.9738864128702, 37.62949634786888], [126.977175406416, 37.62859715400388], [126.97877284074367, 37.62605559220399], [126.98162508963613, 37.626412913357804], [126.98130955822086, 37.621781567952816], [126.98297129719916, 37.61996223346171], [126.9849070918475, 37.61390303132951], [126.98879865992384, 37.6118927319756], [126.98906118629816, 37.60778324866486], [126.9880021251863, 37.60434406739665], [126.98984276495587, 37.59842301677683], [126.98700989661556, 37.59664611897289], [126.98366752610544, 37.596350797276386], [126.98411250331745, 37.59305007059415], [126.98596926877026, 37.59105697466976], [126.98858114244759, 37.58971272682123], [126.99348293358314, 37.588565457216156], [126.99647930158565, 37.58845217708608], [126.99774058571116, 37.58944568945197], [127.00304474231643, 37.58959898679736], [127.00453322588274, 37.58626325611708], [127.00803641804285, 37.5841154647404], [127.00896672237498, 37.582512606964876], [127.00914513999258, 37.57928387879304], [127.01094467951529, 37.57765758282494], [127.01678966486051, 37.57943162455397], [127.01849412471284, 37.57904760334465], [127.02039107536422, 37.575771872553595], [127.02395698453867, 37.576068086896726], [127.02527254528003, 37.57524616245249], [127.02547266349976, 37.568943552237734], [127.02250839667563, 37.56892943928301], [127.01786686709805, 37.56701276414023], [127.00372480409301, 37.56679519621814], [126.99879870609924, 37.56591346564579], [126.9910070921652, 37.565312022428806], [126.97990305661519, 37.5664536437083], [126.97500684322326, 37.566406971064836], [126.97114791678374, 37.56539818101368], [126.96873633279075, 37.56313604690827], [126.95565425846463, 37.576080790881456], [126.95789326971087, 37.57793453336025], [126.96177754536156, 37.57970124256911], [126.95879970726017, 37.58189826471162], [126.96048802632431, 37.587202077053746], [126.960424902266, 37.58868913291801], [126.95842779914786, 37.592356673207824], [126.95924434840931, 37.59545024466215], [126.95619178283661, 37.59575826218021], [126.95484771718951, 37.59761368186209], [126.95564117002459, 37.601827148276776], [126.95480868778256, 37.60381765067903], [126.9524752030572, 37.60508692737045], [126.95187994741721, 37.60600915874973], [126.95308190738618, 37.60926681659027], [126.95249458941419, 37.61333750249896], [126.95145384404022, 37.61493028446385], [126.9528332649861, 37.6161065117682], [126.95393421039743, 37.61877981567335], [126.95427017006129, 37.622033431339425], [126.95885198650147, 37.6225761621008], [126.96164158910712, 37.62569322976388], [126.97135221665513, 37.62743418897386], [126.9738864128702, 37.62949634786888]]], &quot;type&quot;: &quot;Polygon&quot;}, &quot;properties&quot;: {&quot;base_year&quot;: &quot;2013&quot;, &quot;code&quot;: &quot;11010&quot;, &quot;name&quot;: &quot;\\uc885\\ub85c\\uad6c&quot;, &quot;name_eng&quot;: &quot;Jongno-gu&quot;}, &quot;type&quot;: &quot;Feature&quot;}], &quot;type&quot;: &quot;FeatureCollection&quot;});\n",
       "\n",
       "        \n",
       "&lt;/script&gt;\" style=\"position:absolute;width:100%;height:100%;left:0;top:0;border:none !important;\" allowfullscreen webkitallowfullscreen mozallowfullscreen></iframe></div></div>"
      ],
      "text/plain": [
       "<folium.folium.Map at 0x255bc5d0790>"
      ]
     },
     "execution_count": 89,
     "metadata": {},
     "output_type": "execute_result"
    }
   ],
   "source": [
    "m = folium.Map(\n",
    "    location=[37.559819, 126.963895],\n",
    "    zoom_start=11, \n",
    ")\n",
    "\n",
    "folium.GeoJson(\n",
    "    seoul_geo,\n",
    "    name='지역구'\n",
    ").add_to(m)\n",
    "\n",
    "m"
   ]
  },
  {
   "cell_type": "code",
   "execution_count": 90,
   "id": "7315c283-7760-4750-800d-deb36ade1609",
   "metadata": {},
   "outputs": [
    {
     "data": {
      "text/html": [
       "<div style=\"width:100%;\"><div style=\"position:relative;width:100%;height:0;padding-bottom:60%;\"><span style=\"color:#565656\">Make this Notebook Trusted to load map: File -> Trust Notebook</span><iframe srcdoc=\"&lt;!DOCTYPE html&gt;\n",
       "&lt;head&gt;    \n",
       "    &lt;meta http-equiv=&quot;content-type&quot; content=&quot;text/html; charset=UTF-8&quot; /&gt;\n",
       "    \n",
       "        &lt;script&gt;\n",
       "            L_NO_TOUCH = false;\n",
       "            L_DISABLE_3D = false;\n",
       "        &lt;/script&gt;\n",
       "    \n",
       "    &lt;style&gt;html, body {width: 100%;height: 100%;margin: 0;padding: 0;}&lt;/style&gt;\n",
       "    &lt;style&gt;#map {position:absolute;top:0;bottom:0;right:0;left:0;}&lt;/style&gt;\n",
       "    &lt;script src=&quot;https://cdn.jsdelivr.net/npm/leaflet@1.6.0/dist/leaflet.js&quot;&gt;&lt;/script&gt;\n",
       "    &lt;script src=&quot;https://code.jquery.com/jquery-1.12.4.min.js&quot;&gt;&lt;/script&gt;\n",
       "    &lt;script src=&quot;https://maxcdn.bootstrapcdn.com/bootstrap/3.2.0/js/bootstrap.min.js&quot;&gt;&lt;/script&gt;\n",
       "    &lt;script src=&quot;https://cdnjs.cloudflare.com/ajax/libs/Leaflet.awesome-markers/2.0.2/leaflet.awesome-markers.js&quot;&gt;&lt;/script&gt;\n",
       "    &lt;link rel=&quot;stylesheet&quot; href=&quot;https://cdn.jsdelivr.net/npm/leaflet@1.6.0/dist/leaflet.css&quot;/&gt;\n",
       "    &lt;link rel=&quot;stylesheet&quot; href=&quot;https://maxcdn.bootstrapcdn.com/bootstrap/3.2.0/css/bootstrap.min.css&quot;/&gt;\n",
       "    &lt;link rel=&quot;stylesheet&quot; href=&quot;https://maxcdn.bootstrapcdn.com/bootstrap/3.2.0/css/bootstrap-theme.min.css&quot;/&gt;\n",
       "    &lt;link rel=&quot;stylesheet&quot; href=&quot;https://maxcdn.bootstrapcdn.com/font-awesome/4.6.3/css/font-awesome.min.css&quot;/&gt;\n",
       "    &lt;link rel=&quot;stylesheet&quot; href=&quot;https://cdnjs.cloudflare.com/ajax/libs/Leaflet.awesome-markers/2.0.2/leaflet.awesome-markers.css&quot;/&gt;\n",
       "    &lt;link rel=&quot;stylesheet&quot; href=&quot;https://cdn.jsdelivr.net/gh/python-visualization/folium/folium/templates/leaflet.awesome.rotate.min.css&quot;/&gt;\n",
       "    \n",
       "            &lt;meta name=&quot;viewport&quot; content=&quot;width=device-width,\n",
       "                initial-scale=1.0, maximum-scale=1.0, user-scalable=no&quot; /&gt;\n",
       "            &lt;style&gt;\n",
       "                #map_f619a773b3c97d5f10a6aaf13884ac57 {\n",
       "                    position: relative;\n",
       "                    width: 100.0%;\n",
       "                    height: 100.0%;\n",
       "                    left: 0.0%;\n",
       "                    top: 0.0%;\n",
       "                }\n",
       "            &lt;/style&gt;\n",
       "        \n",
       "&lt;/head&gt;\n",
       "&lt;body&gt;    \n",
       "    \n",
       "            &lt;div class=&quot;folium-map&quot; id=&quot;map_f619a773b3c97d5f10a6aaf13884ac57&quot; &gt;&lt;/div&gt;\n",
       "        \n",
       "&lt;/body&gt;\n",
       "&lt;script&gt;    \n",
       "    \n",
       "            var map_f619a773b3c97d5f10a6aaf13884ac57 = L.map(\n",
       "                &quot;map_f619a773b3c97d5f10a6aaf13884ac57&quot;,\n",
       "                {\n",
       "                    center: [37.559819, 126.963895],\n",
       "                    crs: L.CRS.EPSG3857,\n",
       "                    zoom: 11,\n",
       "                    zoomControl: true,\n",
       "                    preferCanvas: false,\n",
       "                }\n",
       "            );\n",
       "\n",
       "            \n",
       "\n",
       "        \n",
       "    \n",
       "            var tile_layer_57700c7db8c6ed2d3e7a5dc9e5810546 = L.tileLayer(\n",
       "                &quot;https://stamen-tiles-{s}.a.ssl.fastly.net/toner/{z}/{x}/{y}.png&quot;,\n",
       "                {&quot;attribution&quot;: &quot;Map tiles by \\u003ca href=\\&quot;http://stamen.com\\&quot;\\u003eStamen Design\\u003c/a\\u003e, under \\u003ca href=\\&quot;http://creativecommons.org/licenses/by/3.0\\&quot;\\u003eCC BY 3.0\\u003c/a\\u003e. Data by \\u0026copy; \\u003ca href=\\&quot;http://openstreetmap.org\\&quot;\\u003eOpenStreetMap\\u003c/a\\u003e, under \\u003ca href=\\&quot;http://www.openstreetmap.org/copyright\\&quot;\\u003eODbL\\u003c/a\\u003e.&quot;, &quot;detectRetina&quot;: false, &quot;maxNativeZoom&quot;: 18, &quot;maxZoom&quot;: 18, &quot;minZoom&quot;: 0, &quot;noWrap&quot;: false, &quot;opacity&quot;: 1, &quot;subdomains&quot;: &quot;abc&quot;, &quot;tms&quot;: false}\n",
       "            ).addTo(map_f619a773b3c97d5f10a6aaf13884ac57);\n",
       "        \n",
       "    \n",
       "\n",
       "        function geo_json_cfb998d31ee8d6f640f2f7ae41bc536b_onEachFeature(feature, layer) {\n",
       "            layer.on({\n",
       "            });\n",
       "        };\n",
       "        var geo_json_cfb998d31ee8d6f640f2f7ae41bc536b = L.geoJson(null, {\n",
       "                onEachFeature: geo_json_cfb998d31ee8d6f640f2f7ae41bc536b_onEachFeature,\n",
       "            \n",
       "        });\n",
       "\n",
       "        function geo_json_cfb998d31ee8d6f640f2f7ae41bc536b_add (data) {\n",
       "            geo_json_cfb998d31ee8d6f640f2f7ae41bc536b\n",
       "                .addData(data)\n",
       "                .addTo(map_f619a773b3c97d5f10a6aaf13884ac57);\n",
       "        }\n",
       "            geo_json_cfb998d31ee8d6f640f2f7ae41bc536b_add({&quot;features&quot;: [{&quot;geometry&quot;: {&quot;coordinates&quot;: [[[127.11519584981606, 37.557533180704915], [127.11879551821994, 37.557222485451305], [127.12146867175024, 37.55986003393365], [127.12435254630417, 37.56144246249796], [127.13593925898998, 37.56564793048277], [127.14930548011061, 37.56892250303897], [127.15511020940411, 37.57093642128295], [127.16683184366129, 37.57672487388627], [127.17038810813094, 37.576465605301046], [127.17607118428914, 37.57678573961056], [127.17905504160184, 37.57791388161732], [127.17747787800164, 37.57448983055031], [127.1781775408844, 37.571481967974336], [127.17995281860672, 37.569309661290504], [127.18122821955262, 37.56636089217979], [127.18169407550688, 37.56286338914073], [127.18408792330152, 37.55814280369575], [127.18350810324185, 37.550053002101485], [127.1852644795464, 37.54888592026534], [127.18480906237207, 37.545296888806796], [127.18543378919821, 37.54260756512178], [127.18364810569703, 37.54241347907019], [127.18116465939269, 37.54384126582126], [127.17770860504257, 37.542414255164374], [127.1744373170213, 37.54277723796397], [127.16830424484573, 37.54145405702079], [127.16530984307447, 37.54221851258693], [127.15566835118616, 37.53119520531309], [127.15538075046105, 37.52652930087977], [127.15154315998161, 37.522828709496416], [127.14981542759394, 37.51926843453025], [127.14791518058246, 37.51918714979303], [127.14684644251928, 37.51661384818575], [127.14672806823502, 37.51415680680291], [127.14532023498624, 37.51464060108829], [127.12123165719615, 37.52528270089], [127.12251496040881, 37.52751810228347], [127.12532464331997, 37.53572787912298], [127.12061313033807, 37.538129867839416], [127.1116764203608, 37.540669955324965], [127.11418412219375, 37.54474592090681], [127.11600200349189, 37.55053147511706], [127.11600943681239, 37.55580061507081], [127.11519584981606, 37.557533180704915]]], &quot;type&quot;: &quot;Polygon&quot;}, &quot;properties&quot;: {&quot;base_year&quot;: &quot;2013&quot;, &quot;code&quot;: &quot;11250&quot;, &quot;name&quot;: &quot;\\uac15\\ub3d9\\uad6c&quot;, &quot;name_eng&quot;: &quot;Gangdong-gu&quot;}, &quot;type&quot;: &quot;Feature&quot;}, {&quot;geometry&quot;: {&quot;coordinates&quot;: [[[127.0690698130372, 37.522279423505026], [127.07496309841329, 37.52091052765938], [127.07968915919895, 37.52077294752823], [127.08639455667742, 37.52161824624356], [127.0943611414465, 37.523984206117525], [127.10087519791962, 37.524841220167055], [127.10484130265957, 37.53120327509912], [127.1116764203608, 37.540669955324965], [127.12061313033807, 37.538129867839416], [127.12532464331997, 37.53572787912298], [127.12251496040881, 37.52751810228347], [127.12123165719615, 37.52528270089], [127.14532023498624, 37.51464060108829], [127.14672806823502, 37.51415680680291], [127.14670263739373, 37.512786602955565], [127.14462782318448, 37.511529542030715], [127.14323992504048, 37.50951977457089], [127.1420864475393, 37.50578973782813], [127.14324986168657, 37.502649431479774], [127.1473517108062, 37.50069754405746], [127.14980119646964, 37.50046502392898], [127.15223804785649, 37.50170492532197], [127.15401160147654, 37.500347919909956], [127.16086308579277, 37.49886565522751], [127.1634944215765, 37.497445406097484], [127.16199885180917, 37.49402577547199], [127.16216448592424, 37.491639601211624], [127.16040295326431, 37.4877818619403], [127.15892216655034, 37.486126922469445], [127.15393282790794, 37.48483891408459], [127.15147990997852, 37.47745324805034], [127.1515017465549, 37.475633269417585], [127.14857580353349, 37.47381386382568], [127.14415938171436, 37.473692508393505], [127.14112111404233, 37.470600239054825], [127.13631568648837, 37.47214721764681], [127.13281577200672, 37.47257463763244], [127.13307493070646, 37.468907694139894], [127.13750907701846, 37.46647058226059], [127.13478085797742, 37.46509524639883], [127.1308437061496, 37.46509985661207], [127.12728991002369, 37.46673043118672], [127.12729757787379, 37.46421548908766], [127.12440571080893, 37.46240445587048], [127.12441393026374, 37.46442715236855], [127.12265007208167, 37.46756987490939], [127.11380709617507, 37.479633334849325], [127.1143875173445, 37.48073157362458], [127.11117085201238, 37.485708381512445], [127.1077937689776, 37.48860875954992], [127.10433125798602, 37.490728250649646], [127.0988509639092, 37.49302529254068], [127.08050206733888, 37.49783151325589], [127.0764808967127, 37.498612695580306], [127.0719146000724, 37.50224013587669], [127.06926628842805, 37.51717796437217], [127.06860425556381, 37.51812758676938], [127.0690698130372, 37.522279423505026]]], &quot;type&quot;: &quot;Polygon&quot;}, &quot;properties&quot;: {&quot;base_year&quot;: &quot;2013&quot;, &quot;code&quot;: &quot;11240&quot;, &quot;name&quot;: &quot;\\uc1a1\\ud30c\\uad6c&quot;, &quot;name_eng&quot;: &quot;Songpa-gu&quot;}, &quot;type&quot;: &quot;Feature&quot;}, {&quot;geometry&quot;: {&quot;coordinates&quot;: [[[127.05867359288398, 37.52629974922568], [127.0690698130372, 37.522279423505026], [127.06860425556381, 37.51812758676938], [127.06926628842805, 37.51717796437217], [127.0719146000724, 37.50224013587669], [127.0764808967127, 37.498612695580306], [127.08050206733888, 37.49783151325589], [127.0988509639092, 37.49302529254068], [127.10433125798602, 37.490728250649646], [127.1077937689776, 37.48860875954992], [127.11117085201238, 37.485708381512445], [127.1143875173445, 37.48073157362458], [127.11380709617507, 37.479633334849325], [127.12265007208167, 37.46756987490939], [127.12441393026374, 37.46442715236855], [127.12440571080893, 37.46240445587048], [127.11957248720776, 37.45936217377656], [127.11885903757606, 37.45578434878651], [127.11535741803938, 37.45722556454321], [127.11413179478714, 37.45875072431525], [127.10841788934951, 37.45972888008147], [127.10561257180657, 37.456815702518746], [127.10032466845217, 37.45598440195682], [127.09842759318751, 37.45862253857461], [127.09712653145507, 37.460848194480654], [127.09039613625872, 37.465520545397716], [127.0866005634691, 37.47006403057779], [127.08640440578156, 37.472697935184655], [127.0802737559454, 37.471973057552624], [127.07602132306535, 37.47005021331707], [127.07476117209941, 37.47199174520626], [127.07231320371885, 37.47234914588019], [127.07135137525977, 37.47107802023145], [127.06463901956462, 37.47003474490574], [127.06371868919344, 37.4661503234869], [127.0588551029968, 37.465611780743174], [127.0559170481904, 37.4659228914077], [127.04713549385288, 37.474479419244865], [127.04345123620755, 37.48276415595109], [127.03621915098798, 37.48175802427603], [127.03372275812187, 37.48674434662411], [127.02265609299096, 37.509970106251416], [127.02038705349842, 37.51771683027875], [127.01917707838057, 37.520085205855196], [127.01397119667513, 37.52503988289669], [127.02302831890559, 37.53231899582663], [127.0269608080842, 37.53484752757724], [127.0319617044248, 37.536064291470424], [127.04806779588436, 37.52970198575087], [127.04903802830752, 37.53140496708317], [127.05116490008963, 37.52975116557232], [127.05867359288398, 37.52629974922568]]], &quot;type&quot;: &quot;Polygon&quot;}, &quot;properties&quot;: {&quot;base_year&quot;: &quot;2013&quot;, &quot;code&quot;: &quot;11230&quot;, &quot;name&quot;: &quot;\\uac15\\ub0a8\\uad6c&quot;, &quot;name_eng&quot;: &quot;Gangnam-gu&quot;}, &quot;type&quot;: &quot;Feature&quot;}, {&quot;geometry&quot;: {&quot;coordinates&quot;: [[[127.01397119667513, 37.52503988289669], [127.01917707838057, 37.520085205855196], [127.02038705349842, 37.51771683027875], [127.02265609299096, 37.509970106251416], [127.03372275812187, 37.48674434662411], [127.03621915098798, 37.48175802427603], [127.04345123620755, 37.48276415595109], [127.04713549385288, 37.474479419244865], [127.0559170481904, 37.4659228914077], [127.0588551029968, 37.465611780743174], [127.06371868919344, 37.4661503234869], [127.06463901956462, 37.47003474490574], [127.07135137525977, 37.47107802023145], [127.07231320371885, 37.47234914588019], [127.07476117209941, 37.47199174520626], [127.07602132306535, 37.47005021331707], [127.0802737559454, 37.471973057552624], [127.08640440578156, 37.472697935184655], [127.0866005634691, 37.47006403057779], [127.09039613625872, 37.465520545397716], [127.09712653145507, 37.460848194480654], [127.09842759318751, 37.45862253857461], [127.09673714758375, 37.45597209899094], [127.09722129576434, 37.45374822681991], [127.09575982122928, 37.45332980525459], [127.09472136159357, 37.450897902539175], [127.09293250684935, 37.450020696864506], [127.09047890749349, 37.44637473407341], [127.09046928565951, 37.44296826114185], [127.0862358725955, 37.44118543250345], [127.08441983692467, 37.4383879031398], [127.07686576585408, 37.43960712011444], [127.07375875606847, 37.43898415920535], [127.07407631675713, 37.43719357187124], [127.07666569012467, 37.43600054505559], [127.07603719210388, 37.43429107517633], [127.07361291761038, 37.43318474533595], [127.07271473569163, 37.42939553659177], [127.0733788318578, 37.42814484786288], [127.06885354151605, 37.42731815367302], [127.06778107605433, 37.426197424057314], [127.06317558623768, 37.4272916178182], [127.05998777565219, 37.4273224867045], [127.05424556064274, 37.42574929824175], [127.05197080928994, 37.42749842502397], [127.04960937636815, 37.42801020057224], [127.04849622718511, 37.430672016902065], [127.04191594772718, 37.43568906449929], [127.0379686253535, 37.43634417139204], [127.03751805596916, 37.438362795245276], [127.04031700689708, 37.44191429311459], [127.03959875976469, 37.443582700519194], [127.0398984887873, 37.44656106007936], [127.03825522385397, 37.448766467898395], [127.03916301678915, 37.45180237055558], [127.03881782597922, 37.45382039851715], [127.03695436044305, 37.45537592726508], [127.03573307034355, 37.4586703897792], [127.03683946894893, 37.46103886642786], [127.03337331972266, 37.462966775127626], [127.02820831539744, 37.455700834295826], [127.02263694708293, 37.45335816711404], [127.01827371395349, 37.4525593623189], [127.01316256500736, 37.45257906566242], [127.01110931353561, 37.45456166745922], [127.00836380369604, 37.45936868039916], [127.00738548779366, 37.459815333664274], [127.00552362663117, 37.46445102893571], [127.00008523087483, 37.46455774995882], [126.99837609897334, 37.46390918086617], [126.99932142462428, 37.46113351815481], [126.99893310307874, 37.459376062410314], [126.9953054179472, 37.45860121328987], [126.99072073195462, 37.455326143310025], [126.98956736277059, 37.457600756400446], [126.99026416700147, 37.46271603227842], [126.98896316546526, 37.465041871263544], [126.98662755598336, 37.466937278295305], [126.9846374349825, 37.46996301876212], [126.98367668291802, 37.473856492692086], [126.98500224966135, 37.49356837311327], [126.9871787157338, 37.49719505997539], [126.9832495184969, 37.49948552591205], [126.98241580381733, 37.50120029501884], [126.98223807916081, 37.509314966770326], [126.98458580602838, 37.51070333105394], [126.98948242685965, 37.5108780134613], [126.99148001917875, 37.50990503427709], [127.00011962020382, 37.513901653034374], [127.00583392114271, 37.516905128452926], [127.00818058911564, 37.51877313923874], [127.01022186960886, 37.522020085671926], [127.01397119667513, 37.52503988289669]]], &quot;type&quot;: &quot;Polygon&quot;}, &quot;properties&quot;: {&quot;base_year&quot;: &quot;2013&quot;, &quot;code&quot;: &quot;11220&quot;, &quot;name&quot;: &quot;\\uc11c\\ucd08\\uad6c&quot;, &quot;name_eng&quot;: &quot;Seocho-gu&quot;}, &quot;type&quot;: &quot;Feature&quot;}, {&quot;geometry&quot;: {&quot;coordinates&quot;: [[[126.98367668291802, 37.473856492692086], [126.9846374349825, 37.46996301876212], [126.98662755598336, 37.466937278295305], [126.98896316546526, 37.465041871263544], [126.99026416700147, 37.46271603227842], [126.98956736277059, 37.457600756400446], [126.99072073195462, 37.455326143310025], [126.98484249930785, 37.45391909788938], [126.9829408096241, 37.450206782833206], [126.97835022660695, 37.447659155806164], [126.97608193440507, 37.44478918862847], [126.9731300196836, 37.444722870088114], [126.96650852936277, 37.44276983031553], [126.96618702895445, 37.439376482995094], [126.96520439085143, 37.438249784006246], [126.9614877541633, 37.437956805629675], [126.96054904645496, 37.43673997185797], [126.95527369898224, 37.43673711968809], [126.9473688393239, 37.4347689647565], [126.94440352544498, 37.43476162120059], [126.9415292183489, 37.43315139671158], [126.94037501670272, 37.43462213966344], [126.9405640311191, 37.437501011208845], [126.9376981355065, 37.44041709605302], [126.93312955918624, 37.44290014710262], [126.93309127096236, 37.44533734785938], [126.93084408056525, 37.447382928333994], [126.92527839995981, 37.45161884570837], [126.9245243450059, 37.45392293573877], [126.91887928082078, 37.45495082787016], [126.9167728146601, 37.45490566423789], [126.91641538472182, 37.45870245071989], [126.91495285904284, 37.461166184511065], [126.91584245173756, 37.462474576247985], [126.91374656127704, 37.46375990852858], [126.91032166997253, 37.469818629944285], [126.91280966667205, 37.47083063715413], [126.91405961426707, 37.47416764846582], [126.9115784808617, 37.4753960485947], [126.91181700249076, 37.47814319736339], [126.90276666415615, 37.47652007992712], [126.90156094129895, 37.47753842789901], [126.90531975801812, 37.48218087575429], [126.90805655355825, 37.48218338568103], [126.91533979779165, 37.484392208242134], [126.91916807529428, 37.48660606817164], [126.92639563063156, 37.48715979752876], [126.92869559665061, 37.49132126714011], [126.92981699800066, 37.49218420958284], [126.93346386636452, 37.49043826776755], [126.93669800083833, 37.49026778789087], [126.93844070234584, 37.4893532861132], [126.94373156012337, 37.48938843727846], [126.94922661389508, 37.49125437495649], [126.95396955055433, 37.48955250290043], [126.9559655046206, 37.48820165625994], [126.95881175306481, 37.48874989165474], [126.96329694970828, 37.4905835370787], [126.96291787066104, 37.48803272157808], [126.96443983219191, 37.48442261322104], [126.9634428120456, 37.48067931902171], [126.9725891850662, 37.472561363278125], [126.97901795539295, 37.47376525108475], [126.98367668291802, 37.473856492692086]]], &quot;type&quot;: &quot;Polygon&quot;}, &quot;properties&quot;: {&quot;base_year&quot;: &quot;2013&quot;, &quot;code&quot;: &quot;11210&quot;, &quot;name&quot;: &quot;\\uad00\\uc545\\uad6c&quot;, &quot;name_eng&quot;: &quot;Gwanak-gu&quot;}, &quot;type&quot;: &quot;Feature&quot;}, {&quot;geometry&quot;: {&quot;coordinates&quot;: [[[126.98223807916081, 37.509314966770326], [126.98241580381733, 37.50120029501884], [126.9832495184969, 37.49948552591205], [126.9871787157338, 37.49719505997539], [126.98500224966135, 37.49356837311327], [126.98367668291802, 37.473856492692086], [126.97901795539295, 37.47376525108475], [126.9725891850662, 37.472561363278125], [126.9634428120456, 37.48067931902171], [126.96443983219191, 37.48442261322104], [126.96291787066104, 37.48803272157808], [126.96329694970828, 37.4905835370787], [126.95881175306481, 37.48874989165474], [126.9559655046206, 37.48820165625994], [126.95396955055433, 37.48955250290043], [126.94922661389508, 37.49125437495649], [126.94373156012337, 37.48938843727846], [126.93844070234584, 37.4893532861132], [126.93669800083833, 37.49026778789087], [126.93346386636452, 37.49043826776755], [126.92981699800066, 37.49218420958284], [126.92869559665061, 37.49132126714011], [126.92639563063156, 37.48715979752876], [126.91916807529428, 37.48660606817164], [126.91533979779165, 37.484392208242134], [126.90805655355825, 37.48218338568103], [126.90531975801812, 37.48218087575429], [126.91461888105147, 37.493581242537296], [126.92177893174825, 37.494889877415176], [126.9232469824303, 37.49928149943772], [126.92749463764046, 37.50985955934051], [126.92919938332032, 37.51019685838638], [126.92810628828279, 37.51329595732015], [126.93453120783802, 37.5128512712934], [126.94407346439685, 37.51463101265907], [126.95249990298159, 37.51722500741813], [126.95551848909955, 37.514736123015844], [126.95950268374823, 37.51249532165974], [126.96670111119346, 37.50997579058433], [126.98223807916081, 37.509314966770326]]], &quot;type&quot;: &quot;Polygon&quot;}, &quot;properties&quot;: {&quot;base_year&quot;: &quot;2013&quot;, &quot;code&quot;: &quot;11200&quot;, &quot;name&quot;: &quot;\\ub3d9\\uc791\\uad6c&quot;, &quot;name_eng&quot;: &quot;Dongjak-gu&quot;}, &quot;type&quot;: &quot;Feature&quot;}, {&quot;geometry&quot;: {&quot;coordinates&quot;: [[[126.89184663862764, 37.547373974997114], [126.90281125423546, 37.54133630026083], [126.90829204147958, 37.539206065016785], [126.93132557924062, 37.53415416375281], [126.93680342222562, 37.53344577095931], [126.94566733083212, 37.526617542453366], [126.9488066464266, 37.52424913252661], [126.95003825019774, 37.520781022055274], [126.95249990298159, 37.51722500741813], [126.94407346439685, 37.51463101265907], [126.93453120783802, 37.5128512712934], [126.92810628828279, 37.51329595732015], [126.92919938332032, 37.51019685838638], [126.92749463764046, 37.50985955934051], [126.9232469824303, 37.49928149943772], [126.92177893174825, 37.494889877415176], [126.91461888105147, 37.493581242537296], [126.90531975801812, 37.48218087575429], [126.90260188508027, 37.48282626920736], [126.89861362258316, 37.48625405368759], [126.89581061458084, 37.49391346191318], [126.89549571721683, 37.50033127915717], [126.89594776782485, 37.504675281309176], [126.89253696873205, 37.50875582175844], [126.88156402353862, 37.513970034765684], [126.88191372979959, 37.51939416754389], [126.88260109180834, 37.52242565920786], [126.88382776477316, 37.52352483439659], [126.88904768965743, 37.525856504359034], [126.89057378109133, 37.52792091672938], [126.89213569003026, 37.52757969298779], [126.89361739665432, 37.53033899535983], [126.89339176028666, 37.533030814524004], [126.88938421776182, 37.54060159145325], [126.88825757860099, 37.54079733630232], [126.88736718003831, 37.54350482420959], [126.89184663862764, 37.547373974997114]]], &quot;type&quot;: &quot;Polygon&quot;}, &quot;properties&quot;: {&quot;base_year&quot;: &quot;2013&quot;, &quot;code&quot;: &quot;11190&quot;, &quot;name&quot;: &quot;\\uc601\\ub4f1\\ud3ec\\uad6c&quot;, &quot;name_eng&quot;: &quot;Yeongdeungpo-gu&quot;}, &quot;type&quot;: &quot;Feature&quot;}, {&quot;geometry&quot;: {&quot;coordinates&quot;: [[[126.90156094129895, 37.47753842789901], [126.90276666415615, 37.47652007992712], [126.91181700249076, 37.47814319736339], [126.9115784808617, 37.4753960485947], [126.91405961426707, 37.47416764846582], [126.91280966667205, 37.47083063715413], [126.91032166997253, 37.469818629944285], [126.91374656127704, 37.46375990852858], [126.91584245173756, 37.462474576247985], [126.91495285904284, 37.461166184511065], [126.91641538472182, 37.45870245071989], [126.9167728146601, 37.45490566423789], [126.91887928082078, 37.45495082787016], [126.9245243450059, 37.45392293573877], [126.92527839995981, 37.45161884570837], [126.93084408056525, 37.447382928333994], [126.9255681646224, 37.44377627841776], [126.92318732232543, 37.44131494528283], [126.92199241717724, 37.43848070111403], [126.92004664118903, 37.43708741729147], [126.91641802826501, 37.43722730676683], [126.91344497343947, 37.43474365720405], [126.91082677485002, 37.43100963341445], [126.90487628022693, 37.43129996372531], [126.90480610062333, 37.433123813599884], [126.90147608259903, 37.4353323892334], [126.90081465102077, 37.436498759868456], [126.90105333433885, 37.44031094924801], [126.90031753853916, 37.441844173154756], [126.89768314223053, 37.442906858137974], [126.89812451590424, 37.44551117837958], [126.89616541233094, 37.44983024861048], [126.8947204038491, 37.4491097366517], [126.89157226377172, 37.449944282396714], [126.89113632562855, 37.45236898205529], [126.88831381741582, 37.45357939777933], [126.88826482749008, 37.45663270152334], [126.89074130059865, 37.45966561796733], [126.88198617469523, 37.469975509557976], [126.87874781843654, 37.47475533620029], [126.87553760781829, 37.48186220368496], [126.87683271502428, 37.482576591607305], [126.88079109105627, 37.48378287831426], [126.8827497570056, 37.48316340563878], [126.88803217321346, 37.47975290808737], [126.89116882970154, 37.47681803032367], [126.89689977603885, 37.47570593888643], [126.90104536043339, 37.47614746588584], [126.90156094129895, 37.47753842789901]]], &quot;type&quot;: &quot;Polygon&quot;}, &quot;properties&quot;: {&quot;base_year&quot;: &quot;2013&quot;, &quot;code&quot;: &quot;11180&quot;, &quot;name&quot;: &quot;\\uae08\\ucc9c\\uad6c&quot;, &quot;name_eng&quot;: &quot;Geumcheon-gu&quot;}, &quot;type&quot;: &quot;Feature&quot;}, {&quot;geometry&quot;: {&quot;coordinates&quot;: [[[126.82688081517314, 37.50548972232896], [126.8312211095328, 37.50541191299514], [126.8341914436862, 37.50238060850881], [126.8385046623421, 37.49965438083505], [126.84270526111828, 37.501190052842375], [126.8421330711049, 37.50273297478404], [126.84689618668257, 37.50287086505149], [126.84730715497963, 37.50522159123912], [126.85079659934003, 37.50601938589165], [126.8521985385098, 37.507310601432195], [126.8549910115563, 37.507774255244875], [126.85767018319959, 37.50643578404816], [126.8602448049945, 37.50714262450898], [126.86219488732715, 37.50388438562706], [126.86454914535695, 37.50388350542007], [126.86525729660478, 37.502448483868896], [126.86795186545288, 37.502755995885714], [126.87109220473953, 37.50203922322315], [126.87432642792102, 37.50260287829134], [126.87556919864359, 37.505720626918], [126.88054908630636, 37.51148026214697], [126.88156402353862, 37.513970034765684], [126.89253696873205, 37.50875582175844], [126.89594776782485, 37.504675281309176], [126.89549571721683, 37.50033127915717], [126.89581061458084, 37.49391346191318], [126.89861362258316, 37.48625405368759], [126.90260188508027, 37.48282626920736], [126.90531975801812, 37.48218087575429], [126.90156094129895, 37.47753842789901], [126.90104536043339, 37.47614746588584], [126.89689977603885, 37.47570593888643], [126.89116882970154, 37.47681803032367], [126.88803217321346, 37.47975290808737], [126.8827497570056, 37.48316340563878], [126.88079109105627, 37.48378287831426], [126.87683271502428, 37.482576591607305], [126.87926901338844, 37.4851363312754], [126.87807822721697, 37.486247661404484], [126.87500855887376, 37.485529408954044], [126.87499999632084, 37.48723558386031], [126.86985088086946, 37.490972856926746], [126.86690708512153, 37.48850048185492], [126.86334463261252, 37.48702105213313], [126.85979281993241, 37.48309390333688], [126.8571926758503, 37.482400254369296], [126.85582775745682, 37.48008159809108], [126.85397991619827, 37.47882533996402], [126.84914329670241, 37.4792573077648], [126.84804505350411, 37.478160467930344], [126.84762676054953, 37.47146723936323], [126.84154264465728, 37.4728980419], [126.83754691879544, 37.472514053936045], [126.83388005989259, 37.4747683882548], [126.83136668931549, 37.47344154955525], [126.82660025197819, 37.47364544953152], [126.82419365698964, 37.472951080902234], [126.82179895415682, 37.47518076838956], [126.82206789884786, 37.47889514031285], [126.82139445214092, 37.48136482338644], [126.82208805042494, 37.48299688518288], [126.82558489219227, 37.48497306755705], [126.82482114643597, 37.48717399070965], [126.81993148808915, 37.48877864988337], [126.81649745505314, 37.490455810141476], [126.81480709048222, 37.493362284349615], [126.81518179823208, 37.495233793642186], [126.81771493003457, 37.494748098657496], [126.8208295567048, 37.49594689979241], [126.82204657426578, 37.49851634597747], [126.82367963750009, 37.49925830108059], [126.82504736331406, 37.50302612640443], [126.82469248121312, 37.50496239513798], [126.82688081517314, 37.50548972232896]]], &quot;type&quot;: &quot;Polygon&quot;}, &quot;properties&quot;: {&quot;base_year&quot;: &quot;2013&quot;, &quot;code&quot;: &quot;11170&quot;, &quot;name&quot;: &quot;\\uad6c\\ub85c\\uad6c&quot;, &quot;name_eng&quot;: &quot;Guro-gu&quot;}, &quot;type&quot;: &quot;Feature&quot;}, {&quot;geometry&quot;: {&quot;coordinates&quot;: [[[126.85984199399667, 37.571847855292745], [126.85950389772532, 37.5682771531189], [126.8604929702619, 37.566825621733905], [126.86837407967381, 37.56309561411933], [126.87997924964915, 37.55510740490174], [126.89184663862764, 37.547373974997114], [126.88736718003831, 37.54350482420959], [126.88825757860099, 37.54079733630232], [126.8872486543506, 37.54079100234749], [126.88280520161935, 37.545072121233225], [126.8761093656006, 37.54412882794802], [126.8727924099192, 37.544853699294116], [126.86637464321238, 37.54859191094823], [126.86426635332332, 37.54172958759955], [126.86582129720519, 37.53817151116851], [126.8655037497872, 37.53382926555605], [126.86610073476395, 37.52699964144669], [126.85098397861944, 37.525098716169985], [126.84257291943153, 37.52373707805596], [126.836555914069, 37.53367208325903], [126.83716591765655, 37.534935320492906], [126.83522688458329, 37.539042988809484], [126.8325348945036, 37.538953250433295], [126.83191667070415, 37.54146500511403], [126.83017074557299, 37.542611079015344], [126.82889818288362, 37.53909381305992], [126.8242331426722, 37.53788078753248], [126.81674221631081, 37.5378396500627], [126.81246052552456, 37.538810793377344], [126.81143604908785, 37.54033621168525], [126.80542840499083, 37.54008921830378], [126.80185404828612, 37.537645443377826], [126.80090914554204, 37.53503009075454], [126.79688612254975, 37.53302974862096], [126.79582133969424, 37.536641561833754], [126.79693641290046, 37.53865858611534], [126.79388711477147, 37.53902211451394], [126.7938616681597, 37.54104361952839], [126.79075533377627, 37.54165251407983], [126.78880225462409, 37.54353706379955], [126.78198339188025, 37.543449601019624], [126.77756215424237, 37.54611355396897], [126.77324417717703, 37.5459123450554], [126.76977011413412, 37.55052082471595], [126.76700465024426, 37.552821566629916], [126.77074629769308, 37.55296836994276], [126.77145103135192, 37.55434307460708], [126.77879087345151, 37.55919525318415], [126.77889121370164, 37.5613614424496], [126.77671213061004, 37.5645429268672], [126.77986476402239, 37.564245932540665], [126.78252024622797, 37.565367145342954], [126.78471963959866, 37.56745669198498], [126.78398460461828, 37.56905814599349], [126.78496836516075, 37.57090748246567], [126.79172648531066, 37.57472630536462], [126.79539987549317, 37.57451148875729], [126.79523455851671, 37.57760277954844], [126.7958606942207, 37.58019957877273], [126.79799133400897, 37.58036436587069], [126.80091228188235, 37.5854309825683], [126.80289369340177, 37.58621464221784], [126.80131704756816, 37.58839794302751], [126.80149834313248, 37.59012749570681], [126.7996634054858, 37.59296530943065], [126.79910601240701, 37.59569886491464], [126.80046544382346, 37.59827267924192], [126.80198459129242, 37.598541940075755], [126.80268446118524, 37.601312560472834], [126.80393696882469, 37.601857300987895], [126.80759006979085, 37.60089755124775], [126.81814502537962, 37.591566052513244], [126.82251438477105, 37.5880430810082], [126.82891304761237, 37.5855611764797], [126.85302823436479, 37.57282468882299], [126.85984199399667, 37.571847855292745]]], &quot;type&quot;: &quot;Polygon&quot;}, &quot;properties&quot;: {&quot;base_year&quot;: &quot;2013&quot;, &quot;code&quot;: &quot;11160&quot;, &quot;name&quot;: &quot;\\uac15\\uc11c\\uad6c&quot;, &quot;name_eng&quot;: &quot;Gangseo-gu&quot;}, &quot;type&quot;: &quot;Feature&quot;}, {&quot;geometry&quot;: {&quot;coordinates&quot;: [[[126.8242331426722, 37.53788078753248], [126.82889818288362, 37.53909381305992], [126.83017074557299, 37.542611079015344], [126.83191667070415, 37.54146500511403], [126.8325348945036, 37.538953250433295], [126.83522688458329, 37.539042988809484], [126.83716591765655, 37.534935320492906], [126.836555914069, 37.53367208325903], [126.84257291943153, 37.52373707805596], [126.85098397861944, 37.525098716169985], [126.86610073476395, 37.52699964144669], [126.8655037497872, 37.53382926555605], [126.86582129720519, 37.53817151116851], [126.86426635332332, 37.54172958759955], [126.86637464321238, 37.54859191094823], [126.8727924099192, 37.544853699294116], [126.8761093656006, 37.54412882794802], [126.88280520161935, 37.545072121233225], [126.8872486543506, 37.54079100234749], [126.88825757860099, 37.54079733630232], [126.88938421776182, 37.54060159145325], [126.89339176028666, 37.533030814524004], [126.89361739665432, 37.53033899535983], [126.89213569003026, 37.52757969298779], [126.89057378109133, 37.52792091672938], [126.88904768965743, 37.525856504359034], [126.88382776477316, 37.52352483439659], [126.88260109180834, 37.52242565920786], [126.88191372979959, 37.51939416754389], [126.88156402353862, 37.513970034765684], [126.88054908630636, 37.51148026214697], [126.87556919864359, 37.505720626918], [126.87432642792102, 37.50260287829134], [126.87109220473953, 37.50203922322315], [126.86795186545288, 37.502755995885714], [126.86525729660478, 37.502448483868896], [126.86454914535695, 37.50388350542007], [126.86219488732715, 37.50388438562706], [126.8602448049945, 37.50714262450898], [126.85767018319959, 37.50643578404816], [126.8549910115563, 37.507774255244875], [126.8521985385098, 37.507310601432195], [126.85079659934003, 37.50601938589165], [126.84730715497963, 37.50522159123912], [126.84689618668257, 37.50287086505149], [126.8421330711049, 37.50273297478404], [126.84270526111828, 37.501190052842375], [126.8385046623421, 37.49965438083505], [126.8341914436862, 37.50238060850881], [126.8312211095328, 37.50541191299514], [126.82688081517314, 37.50548972232896], [126.82609821744505, 37.507816771867255], [126.82665326173496, 37.510416148524136], [126.82529622550616, 37.513385210403136], [126.82763384465879, 37.516923263281946], [126.8273575421771, 37.52002629298419], [126.83054711509516, 37.52390261457357], [126.82938708105253, 37.5268052663749], [126.8276955169658, 37.52706155314193], [126.82389942108053, 37.53199443525418], [126.8242331426722, 37.53788078753248]]], &quot;type&quot;: &quot;Polygon&quot;}, &quot;properties&quot;: {&quot;base_year&quot;: &quot;2013&quot;, &quot;code&quot;: &quot;11150&quot;, &quot;name&quot;: &quot;\\uc591\\ucc9c\\uad6c&quot;, &quot;name_eng&quot;: &quot;Yangcheon-gu&quot;}, &quot;type&quot;: &quot;Feature&quot;}, {&quot;geometry&quot;: {&quot;coordinates&quot;: [[[126.90522065831053, 37.57409700522574], [126.90370105002282, 37.57266722738834], [126.90687243065778, 37.57059762097416], [126.92189004506, 37.56391798973296], [126.92778174854314, 37.562495624023775], [126.93034243306369, 37.56054720372433], [126.92881397392811, 37.558202848902], [126.92872097190046, 37.556034533941734], [126.93898161798973, 37.552310003728124], [126.94314477022111, 37.5536460848349], [126.95916768398142, 37.55468176051932], [126.96080686210321, 37.55386236039188], [126.96358226710812, 37.55605635475154], [126.96519694864509, 37.55362533505407], [126.96380145704283, 37.55254525759954], [126.96448570553055, 37.548705692021635], [126.96604189284825, 37.546894141748815], [126.96401856825223, 37.54584596959762], [126.96231305253527, 37.543511558047456], [126.9605977865388, 37.542661954880806], [126.95926437828754, 37.53897908363236], [126.95340780191557, 37.533494726370755], [126.94717864071288, 37.53213495568077], [126.94566733083212, 37.526617542453366], [126.93680342222562, 37.53344577095931], [126.93132557924062, 37.53415416375281], [126.90829204147958, 37.539206065016785], [126.90281125423546, 37.54133630026083], [126.89184663862764, 37.547373974997114], [126.87997924964915, 37.55510740490174], [126.86837407967381, 37.56309561411933], [126.8604929702619, 37.566825621733905], [126.85950389772532, 37.5682771531189], [126.85984199399667, 37.571847855292745], [126.85993476176495, 37.5728262143511], [126.8638132887273, 37.57306147014704], [126.86560520354786, 37.57385540098251], [126.86766286078968, 37.57269227137124], [126.87008117117851, 37.574598289168996], [126.87282267062741, 37.574956427500126], [126.8779661566318, 37.57680133323819], [126.87918874599603, 37.5796889248137], [126.87876320682938, 37.581327335058546], [126.88107183862735, 37.583788024645344], [126.88237824849728, 37.586847436468204], [126.88433284773288, 37.588143322880526], [126.89150044994719, 37.58202374305761], [126.89532313269488, 37.579420322822145], [126.89738573904876, 37.578668647687564], [126.90023584510952, 37.575506080437606], [126.90373193212757, 37.573123712282076], [126.90522065831053, 37.57409700522574]]], &quot;type&quot;: &quot;Polygon&quot;}, &quot;properties&quot;: {&quot;base_year&quot;: &quot;2013&quot;, &quot;code&quot;: &quot;11140&quot;, &quot;name&quot;: &quot;\\ub9c8\\ud3ec\\uad6c&quot;, &quot;name_eng&quot;: &quot;Mapo-gu&quot;}, &quot;type&quot;: &quot;Feature&quot;}, {&quot;geometry&quot;: {&quot;coordinates&quot;: [[[126.9524752030572, 37.60508692737045], [126.95480868778256, 37.60381765067903], [126.95564117002459, 37.601827148276776], [126.95484771718951, 37.59761368186209], [126.95619178283661, 37.59575826218021], [126.95924434840931, 37.59545024466215], [126.95842779914786, 37.592356673207824], [126.960424902266, 37.58868913291801], [126.96048802632431, 37.587202077053746], [126.95879970726017, 37.58189826471162], [126.96177754536156, 37.57970124256911], [126.95789326971087, 37.57793453336025], [126.95565425846463, 37.576080790881456], [126.96873633279075, 37.56313604690827], [126.97169209525231, 37.55921654641677], [126.96900073076728, 37.55850929094393], [126.96570855677983, 37.556512377492325], [126.96358226710812, 37.55605635475154], [126.96080686210321, 37.55386236039188], [126.95916768398142, 37.55468176051932], [126.94314477022111, 37.5536460848349], [126.93898161798973, 37.552310003728124], [126.92872097190046, 37.556034533941734], [126.92881397392811, 37.558202848902], [126.93034243306369, 37.56054720372433], [126.92778174854314, 37.562495624023775], [126.92189004506, 37.56391798973296], [126.90687243065778, 37.57059762097416], [126.90370105002282, 37.57266722738834], [126.90522065831053, 37.57409700522574], [126.91464724464083, 37.583228529985455], [126.91827498278953, 37.58276881451649], [126.91792000144513, 37.58034997804668], [126.92444169370404, 37.581233899739914], [126.92596484570709, 37.58441659356971], [126.9281697003186, 37.584376616028365], [126.9302171100533, 37.58559126746845], [126.92996402426377, 37.58767009299767], [126.93104958440722, 37.58996937993664], [126.93575441237547, 37.593605788596975], [126.94277481511082, 37.59587806191211], [126.94359054641505, 37.60034871312552], [126.94451473597087, 37.60203195380752], [126.94701525068315, 37.602028095480975], [126.94919787550161, 37.60506379949065], [126.9524752030572, 37.60508692737045]]], &quot;type&quot;: &quot;Polygon&quot;}, &quot;properties&quot;: {&quot;base_year&quot;: &quot;2013&quot;, &quot;code&quot;: &quot;11130&quot;, &quot;name&quot;: &quot;\\uc11c\\ub300\\ubb38\\uad6c&quot;, &quot;name_eng&quot;: &quot;Seodaemun-gu&quot;}, &quot;type&quot;: &quot;Feature&quot;}, {&quot;geometry&quot;: {&quot;coordinates&quot;: [[[126.9738864128702, 37.62949634786888], [126.97135221665513, 37.62743418897386], [126.96164158910712, 37.62569322976388], [126.95885198650147, 37.6225761621008], [126.95427017006129, 37.622033431339425], [126.95393421039743, 37.61877981567335], [126.9528332649861, 37.6161065117682], [126.95145384404022, 37.61493028446385], [126.95249458941419, 37.61333750249896], [126.95308190738618, 37.60926681659027], [126.95187994741721, 37.60600915874973], [126.9524752030572, 37.60508692737045], [126.94919787550161, 37.60506379949065], [126.94701525068315, 37.602028095480975], [126.94451473597087, 37.60203195380752], [126.94359054641505, 37.60034871312552], [126.94277481511082, 37.59587806191211], [126.93575441237547, 37.593605788596975], [126.93104958440722, 37.58996937993664], [126.92996402426377, 37.58767009299767], [126.9302171100533, 37.58559126746845], [126.9281697003186, 37.584376616028365], [126.92596484570709, 37.58441659356971], [126.92444169370404, 37.581233899739914], [126.91792000144513, 37.58034997804668], [126.91827498278953, 37.58276881451649], [126.91464724464083, 37.583228529985455], [126.90522065831053, 37.57409700522574], [126.90373193212757, 37.573123712282076], [126.90023584510952, 37.575506080437606], [126.89738573904876, 37.578668647687564], [126.89532313269488, 37.579420322822145], [126.89150044994719, 37.58202374305761], [126.88433284773288, 37.588143322880526], [126.88715278104091, 37.59100341655796], [126.88936046370014, 37.59099007316069], [126.88753401663872, 37.58829545592628], [126.88935419108029, 37.58580092310326], [126.89349057571656, 37.585662344444785], [126.89532781702978, 37.58637054299599], [126.89905466698256, 37.58582731337662], [126.9019347597747, 37.58707359614439], [126.9010825805882, 37.58986595756633], [126.90396681003595, 37.59227403419942], [126.90321089756087, 37.594542731935476], [126.90358350094938, 37.59657528019595], [126.90235425214276, 37.60036302950128], [126.90417801431465, 37.60102912046836], [126.90396561274416, 37.60721180273151], [126.90303066177668, 37.609977911401344], [126.90548675623195, 37.61601216482774], [126.90721633741286, 37.6164590533837], [126.90935539569412, 37.61912234588074], [126.90852982623917, 37.62123670148755], [126.91081768678396, 37.62338674837964], [126.91117179533428, 37.62562846875194], [126.90862530043799, 37.62973539928895], [126.91295124779275, 37.633086577991136], [126.91232131977827, 37.635879167956396], [126.91380622398978, 37.63822817856539], [126.91455481429648, 37.64150050996935], [126.9097405206299, 37.643548736416925], [126.9104285840059, 37.64469477594629], [126.91598194662826, 37.64192000919822], [126.92335892549015, 37.642768849393626], [126.92751618877016, 37.644656244616336], [126.93099150738166, 37.64717805899008], [126.93658892420821, 37.64777520545395], [126.93914008753828, 37.64914400014214], [126.94248904852749, 37.65384179343651], [126.94571884127255, 37.655369042036206], [126.94940373004215, 37.656145979585894], [126.94982400027399, 37.65461320918016], [126.95334970767568, 37.65216408903825], [126.956473797387, 37.652480737339445], [126.9588647426878, 37.6498628918019], [126.95972824076269, 37.64638504253487], [126.96223689995006, 37.64553441285544], [126.96424221141602, 37.64071627640099], [126.96652025322855, 37.640285044901944], [126.97092373342322, 37.63589354812246], [126.97086605626453, 37.633738820281394], [126.9738864128702, 37.62949634786888]]], &quot;type&quot;: &quot;Polygon&quot;}, &quot;properties&quot;: {&quot;base_year&quot;: &quot;2013&quot;, &quot;code&quot;: &quot;11120&quot;, &quot;name&quot;: &quot;\\uc740\\ud3c9\\uad6c&quot;, &quot;name_eng&quot;: &quot;Eunpyeong-gu&quot;}, &quot;type&quot;: &quot;Feature&quot;}, {&quot;geometry&quot;: {&quot;coordinates&quot;: [[[127.10782277688129, 37.61804244241069], [127.10361952102048, 37.61701182935077], [127.10191523948123, 37.61531698025357], [127.09825969127313, 37.61431077622918], [127.09125855705382, 37.61703046232404], [127.08796048322492, 37.617471883010936], [127.08325130652017, 37.61626773063051], [127.07351243825278, 37.61283660342313], [127.07011594002495, 37.6127769191002], [127.06726783142085, 37.61136014256744], [127.06412260483201, 37.6115839902766], [127.05631594723272, 37.61738373018764], [127.05209373568619, 37.62164065487782], [127.04999984182327, 37.62412061598568], [127.04358800895609, 37.62848931298715], [127.046042857549, 37.630647660209426], [127.0471214260595, 37.63407841321815], [127.05227148282157, 37.642016305290156], [127.05704472959141, 37.63797342537787], [127.05800075220091, 37.64318263878276], [127.05640030258566, 37.648142414223344], [127.05620364700786, 37.65295201497795], [127.05366382763933, 37.65780685245659], [127.05343284205686, 37.660866393548005], [127.05093085431419, 37.666308257661356], [127.05124324520023, 37.6703356616521], [127.05259811896667, 37.67463041579101], [127.05402878877452, 37.682018621183914], [127.05288479710485, 37.68423857084347], [127.05673771202906, 37.68650223136443], [127.05893512852644, 37.68678532745334], [127.06366923747898, 37.68598834805241], [127.06722106517597, 37.68706409219909], [127.07150256171397, 37.69158365999211], [127.07502582169255, 37.691675325399515], [127.07945174893383, 37.693602239076704], [127.0838752703195, 37.69359534202034], [127.08640047239444, 37.69122798275615], [127.08834747450551, 37.68753106067129], [127.09706391309695, 37.686383719372294], [127.09839746601683, 37.682954904948026], [127.09481040538887, 37.678799295731295], [127.0939394572467, 37.676403111386776], [127.09572273018789, 37.673837879820674], [127.09657954289648, 37.670746511824845], [127.09767362583241, 37.67002252402865], [127.0980220884148, 37.66742967749355], [127.09621282296045, 37.66347990019021], [127.09845931549125, 37.659077182069595], [127.0978618070161, 37.656734861475485], [127.08845241642267, 37.65271564775536], [127.09496093471334, 37.65209266377008], [127.09618835483448, 37.65001330395237], [127.09440766298717, 37.64713490473045], [127.09686381732382, 37.642772590812655], [127.10024317327698, 37.642337895238754], [127.10266382494892, 37.64291284604662], [127.11014084969742, 37.641850613893396], [127.11406637789241, 37.63742154695932], [127.1144974746579, 37.632439003890255], [127.11309628774731, 37.627803407908374], [127.10737639048635, 37.62412346388371], [127.10736111050278, 37.62243873312504], [127.10561964188106, 37.620112931875134], [127.10782277688129, 37.61804244241069]]], &quot;type&quot;: &quot;Polygon&quot;}, &quot;properties&quot;: {&quot;base_year&quot;: &quot;2013&quot;, &quot;code&quot;: &quot;11110&quot;, &quot;name&quot;: &quot;\\ub178\\uc6d0\\uad6c&quot;, &quot;name_eng&quot;: &quot;Nowon-gu&quot;}, &quot;type&quot;: &quot;Feature&quot;}, {&quot;geometry&quot;: {&quot;coordinates&quot;: [[[127.05288479710485, 37.68423857084347], [127.05402878877452, 37.682018621183914], [127.05259811896667, 37.67463041579101], [127.05124324520023, 37.6703356616521], [127.05093085431419, 37.666308257661356], [127.05343284205686, 37.660866393548005], [127.05366382763933, 37.65780685245659], [127.05620364700786, 37.65295201497795], [127.05640030258566, 37.648142414223344], [127.05800075220091, 37.64318263878276], [127.05704472959141, 37.63797342537787], [127.05227148282157, 37.642016305290156], [127.0471214260595, 37.63407841321815], [127.046042857549, 37.630647660209426], [127.04358800895609, 37.62848931298715], [127.04058571489718, 37.6311245692538], [127.03905574421407, 37.63395360172076], [127.03660759925259, 37.63506293914692], [127.03477664182829, 37.63884292238491], [127.02950136469548, 37.64228467033725], [127.0265542519312, 37.644688649276304], [127.02233660280599, 37.64628067142158], [127.01772305897457, 37.64631597694605], [127.01534913067235, 37.64765266597785], [127.01465935892466, 37.64943687496812], [127.01599412132472, 37.65623256113309], [127.01726703299362, 37.65880555518138], [127.01776269066357, 37.66391319760785], [127.02062116141389, 37.667173575971205], [127.01873683359163, 37.66988242479123], [127.0159718440919, 37.67258796420281], [127.01401600772708, 37.67653037200686], [127.01073060671976, 37.67694372299732], [127.01039666042071, 37.681894589603594], [127.01103947380624, 37.684405447624954], [127.01017954927539, 37.686333239654594], [127.0109997247323, 37.691942369792514], [127.01405303313638, 37.69546278140397], [127.01645586375106, 37.69548055092485], [127.01802453368332, 37.698275937456124], [127.02143522814708, 37.698589417759045], [127.02419558273166, 37.69682256792619], [127.02700292435075, 37.69665589205863], [127.03018866626446, 37.69776745888886], [127.03132724235057, 37.69621818994332], [127.03183574218306, 37.69340418484943], [127.03328657751797, 37.69010729962784], [127.0345286215439, 37.688986544260594], [127.0379422140845, 37.68943836856245], [127.04383030416193, 37.692565730249534], [127.04510703173885, 37.690951514278055], [127.04772506731972, 37.68962174626068], [127.05108189294938, 37.69116379209157], [127.05288479710485, 37.68423857084347]]], &quot;type&quot;: &quot;Polygon&quot;}, &quot;properties&quot;: {&quot;base_year&quot;: &quot;2013&quot;, &quot;code&quot;: &quot;11100&quot;, &quot;name&quot;: &quot;\\ub3c4\\ubd09\\uad6c&quot;, &quot;name_eng&quot;: &quot;Dobong-gu&quot;}, &quot;type&quot;: &quot;Feature&quot;}, {&quot;geometry&quot;: {&quot;coordinates&quot;: [[[127.01039666042071, 37.681894589603594], [127.01073060671976, 37.67694372299732], [127.01401600772708, 37.67653037200686], [127.0159718440919, 37.67258796420281], [127.01873683359163, 37.66988242479123], [127.02062116141389, 37.667173575971205], [127.01776269066357, 37.66391319760785], [127.01726703299362, 37.65880555518138], [127.01599412132472, 37.65623256113309], [127.01465935892466, 37.64943687496812], [127.01534913067235, 37.64765266597785], [127.01772305897457, 37.64631597694605], [127.02233660280599, 37.64628067142158], [127.0265542519312, 37.644688649276304], [127.02950136469548, 37.64228467033725], [127.03477664182829, 37.63884292238491], [127.03660759925259, 37.63506293914692], [127.03905574421407, 37.63395360172076], [127.04058571489718, 37.6311245692538], [127.04358800895609, 37.62848931298715], [127.04999984182327, 37.62412061598568], [127.05209373568619, 37.62164065487782], [127.04887981022048, 37.61973841113549], [127.0460676006384, 37.615885647801704], [127.0419720518426, 37.612838591864076], [127.03892400992301, 37.609715611023816], [127.03251659844592, 37.60634705009134], [127.03229982090541, 37.609536104167034], [127.02851994524015, 37.60987827182396], [127.02433990415497, 37.60847763545628], [127.02136282940177, 37.610961475137174], [127.01685658093551, 37.61280115359516], [127.0128154749523, 37.613652243470256], [127.01060611893628, 37.615741236385354], [127.00960949401902, 37.61822603840364], [127.00997935126598, 37.62111906051553], [127.00210238658002, 37.622984514557714], [126.99867431516041, 37.626297613391166], [126.99614706382866, 37.62719717129899], [126.99529660787617, 37.62923863577322], [126.9933714170822, 37.62922019292486], [126.9877052521691, 37.63265610340949], [126.98672705513869, 37.63377641288196], [126.98826481934299, 37.637416984207924], [126.98537069512379, 37.64080296617396], [126.987065858581, 37.64320008084445], [126.98580395043626, 37.64699767714015], [126.9832621473545, 37.64947328029498], [126.9817452676551, 37.65209769387776], [126.98205504313285, 37.653797128044495], [126.98709809733522, 37.65651691642121], [126.99031779354014, 37.661013121145366], [126.99494735642686, 37.66223870806347], [126.99581225370686, 37.6651171428027], [126.99622950422442, 37.669428820661516], [126.99506026831365, 37.674827885285765], [126.99384134064161, 37.67665247641944], [126.9959894573757, 37.67754299691771], [127.00000021675876, 37.68100582640454], [127.00566931208934, 37.68228507374621], [127.01039666042071, 37.681894589603594]]], &quot;type&quot;: &quot;Polygon&quot;}, &quot;properties&quot;: {&quot;base_year&quot;: &quot;2013&quot;, &quot;code&quot;: &quot;11090&quot;, &quot;name&quot;: &quot;\\uac15\\ubd81\\uad6c&quot;, &quot;name_eng&quot;: &quot;Gangbuk-gu&quot;}, &quot;type&quot;: &quot;Feature&quot;}, {&quot;geometry&quot;: {&quot;coordinates&quot;: [[[126.977175406416, 37.62859715400388], [126.9794090069433, 37.63071544568365], [126.98360012419735, 37.631915771386076], [126.98672705513869, 37.63377641288196], [126.9877052521691, 37.63265610340949], [126.9933714170822, 37.62922019292486], [126.99529660787617, 37.62923863577322], [126.99614706382866, 37.62719717129899], [126.99867431516041, 37.626297613391166], [127.00210238658002, 37.622984514557714], [127.00997935126598, 37.62111906051553], [127.00960949401902, 37.61822603840364], [127.01060611893628, 37.615741236385354], [127.0128154749523, 37.613652243470256], [127.01685658093551, 37.61280115359516], [127.02136282940177, 37.610961475137174], [127.02433990415497, 37.60847763545628], [127.02851994524015, 37.60987827182396], [127.03229982090541, 37.609536104167034], [127.03251659844592, 37.60634705009134], [127.03892400992301, 37.609715611023816], [127.0419720518426, 37.612838591864076], [127.0460676006384, 37.615885647801704], [127.04887981022048, 37.61973841113549], [127.05209373568619, 37.62164065487782], [127.05631594723272, 37.61738373018764], [127.06412260483201, 37.6115839902766], [127.06726783142085, 37.61136014256744], [127.07011594002495, 37.6127769191002], [127.07351243825278, 37.61283660342313], [127.07382707099227, 37.60401928986419], [127.07257736686556, 37.60654335765868], [127.07069716820665, 37.60653037341939], [127.07084342033339, 37.60407877132597], [127.06753185518703, 37.602724214598744], [127.06424828533608, 37.60234356864383], [127.0612685122857, 37.59823077263369], [127.059485363799, 37.598743571420485], [127.05413734593897, 37.5971595374718], [127.05238061017225, 37.598312271275574], [127.04975439355248, 37.59349421284317], [127.0461318196879, 37.593514180513594], [127.042705222094, 37.59239437593391], [127.04116895171082, 37.58847599306138], [127.0384945038446, 37.587129138658426], [127.03121630347839, 37.57957997701485], [127.02527254528003, 37.57524616245249], [127.02395698453867, 37.576068086896726], [127.02039107536422, 37.575771872553595], [127.01849412471284, 37.57904760334465], [127.01678966486051, 37.57943162455397], [127.01094467951529, 37.57765758282494], [127.00914513999258, 37.57928387879304], [127.00896672237498, 37.582512606964876], [127.00803641804285, 37.5841154647404], [127.00453322588274, 37.58626325611708], [127.00304474231643, 37.58959898679736], [126.99774058571116, 37.58944568945197], [126.99647930158565, 37.58845217708608], [126.99348293358314, 37.588565457216156], [126.98858114244759, 37.58971272682123], [126.98596926877026, 37.59105697466976], [126.98411250331745, 37.59305007059415], [126.98366752610544, 37.596350797276386], [126.98700989661556, 37.59664611897289], [126.98984276495587, 37.59842301677683], [126.9880021251863, 37.60434406739665], [126.98906118629816, 37.60778324866486], [126.98879865992384, 37.6118927319756], [126.9849070918475, 37.61390303132951], [126.98297129719916, 37.61996223346171], [126.98130955822086, 37.621781567952816], [126.98162508963613, 37.626412913357804], [126.97877284074367, 37.62605559220399], [126.977175406416, 37.62859715400388]]], &quot;type&quot;: &quot;Polygon&quot;}, &quot;properties&quot;: {&quot;base_year&quot;: &quot;2013&quot;, &quot;code&quot;: &quot;11080&quot;, &quot;name&quot;: &quot;\\uc131\\ubd81\\uad6c&quot;, &quot;name_eng&quot;: &quot;Seongbuk-gu&quot;}, &quot;type&quot;: &quot;Feature&quot;}, {&quot;geometry&quot;: {&quot;coordinates&quot;: [[[127.07351243825278, 37.61283660342313], [127.08325130652017, 37.61626773063051], [127.08796048322492, 37.617471883010936], [127.09125855705382, 37.61703046232404], [127.09825969127313, 37.61431077622918], [127.10191523948123, 37.61531698025357], [127.10361952102048, 37.61701182935077], [127.10782277688129, 37.61804244241069], [127.11345331993296, 37.617863842655304], [127.11916337651404, 37.615000227833356], [127.1187755615964, 37.61339189160851], [127.11970006573152, 37.60891483985411], [127.11876125411283, 37.606109446640644], [127.12043057261968, 37.60482121408794], [127.1201246020114, 37.60178457598188], [127.11594480655864, 37.59717030173888], [127.1161657841268, 37.5962121213837], [127.12048134936907, 37.59221917979044], [127.11993709114493, 37.5912110652886], [127.11547153661459, 37.590528329194775], [127.11264015185725, 37.58640964166709], [127.11144053497418, 37.58186897928644], [127.10355419751173, 37.58101570870827], [127.10488038804347, 37.57896712496416], [127.10478332632734, 37.575507303239235], [127.10316405057817, 37.57293156986855], [127.10304174249214, 37.57076342290955], [127.1015990771266, 37.56973288819573], [127.09327554832984, 37.566762290300666], [127.08553261581505, 37.56856310839328], [127.08068541280403, 37.56906425519017], [127.08029626481297, 37.57521980955321], [127.07912345005859, 37.57855657914261], [127.07327401376529, 37.585954498442064], [127.07152840437725, 37.593413161750675], [127.07216156147413, 37.59537631888819], [127.07457336676376, 37.5983180561341], [127.07481016030349, 37.60000012932336], [127.07382707099227, 37.60401928986419], [127.07351243825278, 37.61283660342313]]], &quot;type&quot;: &quot;Polygon&quot;}, &quot;properties&quot;: {&quot;base_year&quot;: &quot;2013&quot;, &quot;code&quot;: &quot;11070&quot;, &quot;name&quot;: &quot;\\uc911\\ub791\\uad6c&quot;, &quot;name_eng&quot;: &quot;Jungnang-gu&quot;}, &quot;type&quot;: &quot;Feature&quot;}, {&quot;geometry&quot;: {&quot;coordinates&quot;: [[[127.02527254528003, 37.57524616245249], [127.03121630347839, 37.57957997701485], [127.0384945038446, 37.587129138658426], [127.04116895171082, 37.58847599306138], [127.042705222094, 37.59239437593391], [127.0461318196879, 37.593514180513594], [127.04975439355248, 37.59349421284317], [127.05238061017225, 37.598312271275574], [127.05413734593897, 37.5971595374718], [127.059485363799, 37.598743571420485], [127.0612685122857, 37.59823077263369], [127.06424828533608, 37.60234356864383], [127.06753185518703, 37.602724214598744], [127.07084342033339, 37.60407877132597], [127.07069716820665, 37.60653037341939], [127.07257736686556, 37.60654335765868], [127.07382707099227, 37.60401928986419], [127.07481016030349, 37.60000012932336], [127.07457336676376, 37.5983180561341], [127.07216156147413, 37.59537631888819], [127.07152840437725, 37.593413161750675], [127.07327401376529, 37.585954498442064], [127.07912345005859, 37.57855657914261], [127.08029626481297, 37.57521980955321], [127.08068541280403, 37.56906425519017], [127.07421053024362, 37.55724769712085], [127.07287485628252, 37.55777591771644], [127.06151678590773, 37.55942885203987], [127.06031059899311, 37.55992251180729], [127.05005601081567, 37.567577612590846], [127.0442866611438, 37.57022476304866], [127.04003329296518, 37.57010227772625], [127.03483042272745, 37.567549767306716], [127.03182413083377, 37.56712900013391], [127.02547266349976, 37.568943552237734], [127.02527254528003, 37.57524616245249]]], &quot;type&quot;: &quot;Polygon&quot;}, &quot;properties&quot;: {&quot;base_year&quot;: &quot;2013&quot;, &quot;code&quot;: &quot;11060&quot;, &quot;name&quot;: &quot;\\ub3d9\\ub300\\ubb38\\uad6c&quot;, &quot;name_eng&quot;: &quot;Dongdaemun-gu&quot;}, &quot;type&quot;: &quot;Feature&quot;}, {&quot;geometry&quot;: {&quot;coordinates&quot;: [[[127.08068541280403, 37.56906425519017], [127.08553261581505, 37.56856310839328], [127.09327554832984, 37.566762290300666], [127.1015990771266, 37.56973288819573], [127.10304174249214, 37.57076342290955], [127.10627148043552, 37.568124945986824], [127.10545359063936, 37.56685230388649], [127.10407152037101, 37.55958871940823], [127.10325742736646, 37.5572251707506], [127.11270952006532, 37.55702358575743], [127.11519584981606, 37.557533180704915], [127.11600943681239, 37.55580061507081], [127.11600200349189, 37.55053147511706], [127.11418412219375, 37.54474592090681], [127.1116764203608, 37.540669955324965], [127.10484130265957, 37.53120327509912], [127.10087519791962, 37.524841220167055], [127.0943611414465, 37.523984206117525], [127.08639455667742, 37.52161824624356], [127.07968915919895, 37.52077294752823], [127.07496309841329, 37.52091052765938], [127.0690698130372, 37.522279423505026], [127.05867359288398, 37.52629974922568], [127.06896218881212, 37.544361436565524], [127.07580697427795, 37.556641581290656], [127.07421053024362, 37.55724769712085], [127.08068541280403, 37.56906425519017]]], &quot;type&quot;: &quot;Polygon&quot;}, &quot;properties&quot;: {&quot;base_year&quot;: &quot;2013&quot;, &quot;code&quot;: &quot;11050&quot;, &quot;name&quot;: &quot;\\uad11\\uc9c4\\uad6c&quot;, &quot;name_eng&quot;: &quot;Gwangjin-gu&quot;}, &quot;type&quot;: &quot;Feature&quot;}, {&quot;geometry&quot;: {&quot;coordinates&quot;: [[[127.02547266349976, 37.568943552237734], [127.03182413083377, 37.56712900013391], [127.03483042272745, 37.567549767306716], [127.04003329296518, 37.57010227772625], [127.0442866611438, 37.57022476304866], [127.05005601081567, 37.567577612590846], [127.06031059899311, 37.55992251180729], [127.06151678590773, 37.55942885203987], [127.07287485628252, 37.55777591771644], [127.07421053024362, 37.55724769712085], [127.07580697427795, 37.556641581290656], [127.06896218881212, 37.544361436565524], [127.05867359288398, 37.52629974922568], [127.05116490008963, 37.52975116557232], [127.04903802830752, 37.53140496708317], [127.04806779588436, 37.52970198575087], [127.0319617044248, 37.536064291470424], [127.0269608080842, 37.53484752757724], [127.02302831890559, 37.53231899582663], [127.01689265453608, 37.536101393926174], [127.01157414590769, 37.53677688273679], [127.01043978345277, 37.53905983303592], [127.01070894177482, 37.54118048964762], [127.01172101406588, 37.545252245650516], [127.01376082027429, 37.54571276061997], [127.01889368846282, 37.55057696424215], [127.01951516360089, 37.55318470254581], [127.02174792168286, 37.55473509405241], [127.02496143707425, 37.555070476260596], [127.0257913546443, 37.558352834264504], [127.02836991434461, 37.56019645010606], [127.02881029425372, 37.56219283885279], [127.02571971403893, 37.56237200595601], [127.02547266349976, 37.568943552237734]]], &quot;type&quot;: &quot;Polygon&quot;}, &quot;properties&quot;: {&quot;base_year&quot;: &quot;2013&quot;, &quot;code&quot;: &quot;11040&quot;, &quot;name&quot;: &quot;\\uc131\\ub3d9\\uad6c&quot;, &quot;name_eng&quot;: &quot;Seongdong-gu&quot;}, &quot;type&quot;: &quot;Feature&quot;}, {&quot;geometry&quot;: {&quot;coordinates&quot;: [[[127.01070894177482, 37.54118048964762], [127.01043978345277, 37.53905983303592], [127.01157414590769, 37.53677688273679], [127.01689265453608, 37.536101393926174], [127.02302831890559, 37.53231899582663], [127.01397119667513, 37.52503988289669], [127.01022186960886, 37.522020085671926], [127.00818058911564, 37.51877313923874], [127.00583392114271, 37.516905128452926], [127.00011962020382, 37.513901653034374], [126.99148001917875, 37.50990503427709], [126.98948242685965, 37.5108780134613], [126.98458580602838, 37.51070333105394], [126.98223807916081, 37.509314966770326], [126.96670111119346, 37.50997579058433], [126.95950268374823, 37.51249532165974], [126.95551848909955, 37.514736123015844], [126.95249990298159, 37.51722500741813], [126.95003825019774, 37.520781022055274], [126.9488066464266, 37.52424913252661], [126.94566733083212, 37.526617542453366], [126.94717864071288, 37.53213495568077], [126.95340780191557, 37.533494726370755], [126.95926437828754, 37.53897908363236], [126.9605977865388, 37.542661954880806], [126.96231305253527, 37.543511558047456], [126.96401856825223, 37.54584596959762], [126.96604189284825, 37.546894141748815], [126.96448570553055, 37.548705692021635], [126.96782902931233, 37.55132047039716], [126.97427174983227, 37.55109017579016], [126.97859017732588, 37.550336476582174], [126.97925452152829, 37.552184137181925], [126.98262900956787, 37.5506055959842], [126.98584427779701, 37.55023778139842], [126.98752996903328, 37.55094818807139], [126.9899124474417, 37.54869376545355], [126.99238536723166, 37.54862980831976], [126.99742220893982, 37.544438365587226], [127.00062378484931, 37.54713274618077], [127.00478682371764, 37.54680216333233], [127.00632779182564, 37.54757707053058], [127.00694507580798, 37.5433832956489], [127.00936066823724, 37.54101133407434], [127.01070894177482, 37.54118048964762]]], &quot;type&quot;: &quot;Polygon&quot;}, &quot;properties&quot;: {&quot;base_year&quot;: &quot;2013&quot;, &quot;code&quot;: &quot;11030&quot;, &quot;name&quot;: &quot;\\uc6a9\\uc0b0\\uad6c&quot;, &quot;name_eng&quot;: &quot;Yongsan-gu&quot;}, &quot;type&quot;: &quot;Feature&quot;}, {&quot;geometry&quot;: {&quot;coordinates&quot;: [[[127.02547266349976, 37.568943552237734], [127.02571971403893, 37.56237200595601], [127.02881029425372, 37.56219283885279], [127.02836991434461, 37.56019645010606], [127.0257913546443, 37.558352834264504], [127.02496143707425, 37.555070476260596], [127.02174792168286, 37.55473509405241], [127.01951516360089, 37.55318470254581], [127.01889368846282, 37.55057696424215], [127.01376082027429, 37.54571276061997], [127.01172101406588, 37.545252245650516], [127.01070894177482, 37.54118048964762], [127.00936066823724, 37.54101133407434], [127.00694507580798, 37.5433832956489], [127.00632779182564, 37.54757707053058], [127.00478682371764, 37.54680216333233], [127.00062378484931, 37.54713274618077], [126.99742220893982, 37.544438365587226], [126.99238536723166, 37.54862980831976], [126.9899124474417, 37.54869376545355], [126.98752996903328, 37.55094818807139], [126.98584427779701, 37.55023778139842], [126.98262900956787, 37.5506055959842], [126.97925452152829, 37.552184137181925], [126.97859017732588, 37.550336476582174], [126.97427174983227, 37.55109017579016], [126.96782902931233, 37.55132047039716], [126.96448570553055, 37.548705692021635], [126.96380145704283, 37.55254525759954], [126.96519694864509, 37.55362533505407], [126.96358226710812, 37.55605635475154], [126.96570855677983, 37.556512377492325], [126.96900073076728, 37.55850929094393], [126.97169209525231, 37.55921654641677], [126.96873633279075, 37.56313604690827], [126.97114791678374, 37.56539818101368], [126.97500684322326, 37.566406971064836], [126.97990305661519, 37.5664536437083], [126.9910070921652, 37.565312022428806], [126.99879870609924, 37.56591346564579], [127.00372480409301, 37.56679519621814], [127.01786686709805, 37.56701276414023], [127.02250839667563, 37.56892943928301], [127.02547266349976, 37.568943552237734]]], &quot;type&quot;: &quot;Polygon&quot;}, &quot;properties&quot;: {&quot;base_year&quot;: &quot;2013&quot;, &quot;code&quot;: &quot;11020&quot;, &quot;name&quot;: &quot;\\uc911\\uad6c&quot;, &quot;name_eng&quot;: &quot;Jung-gu&quot;}, &quot;type&quot;: &quot;Feature&quot;}, {&quot;geometry&quot;: {&quot;coordinates&quot;: [[[126.9738864128702, 37.62949634786888], [126.977175406416, 37.62859715400388], [126.97877284074367, 37.62605559220399], [126.98162508963613, 37.626412913357804], [126.98130955822086, 37.621781567952816], [126.98297129719916, 37.61996223346171], [126.9849070918475, 37.61390303132951], [126.98879865992384, 37.6118927319756], [126.98906118629816, 37.60778324866486], [126.9880021251863, 37.60434406739665], [126.98984276495587, 37.59842301677683], [126.98700989661556, 37.59664611897289], [126.98366752610544, 37.596350797276386], [126.98411250331745, 37.59305007059415], [126.98596926877026, 37.59105697466976], [126.98858114244759, 37.58971272682123], [126.99348293358314, 37.588565457216156], [126.99647930158565, 37.58845217708608], [126.99774058571116, 37.58944568945197], [127.00304474231643, 37.58959898679736], [127.00453322588274, 37.58626325611708], [127.00803641804285, 37.5841154647404], [127.00896672237498, 37.582512606964876], [127.00914513999258, 37.57928387879304], [127.01094467951529, 37.57765758282494], [127.01678966486051, 37.57943162455397], [127.01849412471284, 37.57904760334465], [127.02039107536422, 37.575771872553595], [127.02395698453867, 37.576068086896726], [127.02527254528003, 37.57524616245249], [127.02547266349976, 37.568943552237734], [127.02250839667563, 37.56892943928301], [127.01786686709805, 37.56701276414023], [127.00372480409301, 37.56679519621814], [126.99879870609924, 37.56591346564579], [126.9910070921652, 37.565312022428806], [126.97990305661519, 37.5664536437083], [126.97500684322326, 37.566406971064836], [126.97114791678374, 37.56539818101368], [126.96873633279075, 37.56313604690827], [126.95565425846463, 37.576080790881456], [126.95789326971087, 37.57793453336025], [126.96177754536156, 37.57970124256911], [126.95879970726017, 37.58189826471162], [126.96048802632431, 37.587202077053746], [126.960424902266, 37.58868913291801], [126.95842779914786, 37.592356673207824], [126.95924434840931, 37.59545024466215], [126.95619178283661, 37.59575826218021], [126.95484771718951, 37.59761368186209], [126.95564117002459, 37.601827148276776], [126.95480868778256, 37.60381765067903], [126.9524752030572, 37.60508692737045], [126.95187994741721, 37.60600915874973], [126.95308190738618, 37.60926681659027], [126.95249458941419, 37.61333750249896], [126.95145384404022, 37.61493028446385], [126.9528332649861, 37.6161065117682], [126.95393421039743, 37.61877981567335], [126.95427017006129, 37.622033431339425], [126.95885198650147, 37.6225761621008], [126.96164158910712, 37.62569322976388], [126.97135221665513, 37.62743418897386], [126.9738864128702, 37.62949634786888]]], &quot;type&quot;: &quot;Polygon&quot;}, &quot;properties&quot;: {&quot;base_year&quot;: &quot;2013&quot;, &quot;code&quot;: &quot;11010&quot;, &quot;name&quot;: &quot;\\uc885\\ub85c\\uad6c&quot;, &quot;name_eng&quot;: &quot;Jongno-gu&quot;}, &quot;type&quot;: &quot;Feature&quot;}], &quot;type&quot;: &quot;FeatureCollection&quot;});\n",
       "\n",
       "        \n",
       "&lt;/script&gt;\" style=\"position:absolute;width:100%;height:100%;left:0;top:0;border:none !important;\" allowfullscreen webkitallowfullscreen mozallowfullscreen></iframe></div></div>"
      ],
      "text/plain": [
       "<folium.folium.Map at 0x255bc6ef970>"
      ]
     },
     "execution_count": 90,
     "metadata": {},
     "output_type": "execute_result"
    }
   ],
   "source": [
    "m = folium.Map(\n",
    "    location=[37.559819, 126.963895],\n",
    "    zoom_start=11, \n",
    "    tiles='Stamen Toner'\n",
    ")\n",
    "\n",
    "folium.GeoJson(\n",
    "    seoul_geo,\n",
    "    name='지역구'\n",
    ").add_to(m)\n",
    "\n",
    "m"
   ]
  },
  {
   "cell_type": "code",
   "execution_count": null,
   "id": "6f96ade5-0377-4f6f-b030-529c3fb9f6de",
   "metadata": {},
   "outputs": [],
   "source": []
  }
 ],
 "metadata": {
  "kernelspec": {
   "display_name": "Python 3 (ipykernel)",
   "language": "python",
   "name": "python3"
  },
  "language_info": {
   "codemirror_mode": {
    "name": "ipython",
    "version": 3
   },
   "file_extension": ".py",
   "mimetype": "text/x-python",
   "name": "python",
   "nbconvert_exporter": "python",
   "pygments_lexer": "ipython3",
   "version": "3.9.12"
  }
 },
 "nbformat": 4,
 "nbformat_minor": 5
}
