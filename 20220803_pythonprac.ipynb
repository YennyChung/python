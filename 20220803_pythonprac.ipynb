{
 "cells": [
  {
   "cell_type": "markdown",
   "id": "1eb6e958-3c6e-45bb-9f68-3489a69b4951",
   "metadata": {},
   "source": [
    "- 튜플의 함수 사용"
   ]
  },
  {
   "cell_type": "markdown",
   "id": "48220e09-561f-4dc3-a85f-67087d0e768e",
   "metadata": {},
   "source": [
    "튜플은 변경이 불가능하므로 자료를 조작하는 메소드 사용이 불가능함"
   ]
  },
  {
   "cell_type": "markdown",
   "id": "d6e6af63-e2e6-4105-955c-c005fba441b7",
   "metadata": {},
   "source": [
    "count(x), index(x) "
   ]
  },
  {
   "cell_type": "code",
   "execution_count": 1,
   "id": "edfa7162-1669-4c6e-88f2-435247b77f2a",
   "metadata": {},
   "outputs": [],
   "source": [
    "t = (10, 20, 30, 20, 20, 10, 50)"
   ]
  },
  {
   "cell_type": "code",
   "execution_count": 3,
   "id": "fc6b3498-fb64-4c5e-b828-369a22c4eb3e",
   "metadata": {},
   "outputs": [
    {
     "data": {
      "text/plain": [
       "2"
      ]
     },
     "execution_count": 3,
     "metadata": {},
     "output_type": "execute_result"
    }
   ],
   "source": [
    "t.count(10)  # 튜플에 포함된 원소 10의 갯수"
   ]
  },
  {
   "cell_type": "code",
   "execution_count": 5,
   "id": "d07391c4-c0fa-4102-9a60-5b1c9a6af2ea",
   "metadata": {},
   "outputs": [
    {
     "data": {
      "text/plain": [
       "1"
      ]
     },
     "execution_count": 5,
     "metadata": {},
     "output_type": "execute_result"
    }
   ],
   "source": [
    "t.index(20)  # 튜플에 포함된 원소 20의 위치 (튜플도 인덱스는 0부터 시작함)"
   ]
  },
  {
   "cell_type": "markdown",
   "id": "0afdf521-2acb-4e68-889b-cb576744fc26",
   "metadata": {},
   "source": [
    "문제 1"
   ]
  },
  {
   "cell_type": "code",
   "execution_count": 6,
   "id": "7409d779-5e05-4eeb-848a-dcfabe131ffb",
   "metadata": {},
   "outputs": [
    {
     "data": {
      "text/plain": [
       "tuple"
      ]
     },
     "execution_count": 6,
     "metadata": {},
     "output_type": "execute_result"
    }
   ],
   "source": [
    "a = (3,)\n",
    "type(a)"
   ]
  },
  {
   "cell_type": "markdown",
   "id": "6312b5a9-ea15-4712-bfb7-6f4cc52ee995",
   "metadata": {},
   "source": [
    "문제 2"
   ]
  },
  {
   "cell_type": "code",
   "execution_count": 7,
   "id": "0d4ece62-00a0-4e73-81b0-60d4dcee4ee2",
   "metadata": {},
   "outputs": [
    {
     "ename": "TypeError",
     "evalue": "'tuple' object does not support item assignment",
     "output_type": "error",
     "traceback": [
      "\u001b[1;31m---------------------------------------------------------------------------\u001b[0m",
      "\u001b[1;31mTypeError\u001b[0m                                 Traceback (most recent call last)",
      "Input \u001b[1;32mIn [7]\u001b[0m, in \u001b[0;36m<cell line: 2>\u001b[1;34m()\u001b[0m\n\u001b[0;32m      1\u001b[0m a \u001b[38;5;241m=\u001b[39m (\u001b[38;5;241m1\u001b[39m, \u001b[38;5;241m2\u001b[39m, \u001b[38;5;241m3\u001b[39m)\n\u001b[1;32m----> 2\u001b[0m a[\u001b[38;5;241m1\u001b[39m] \u001b[38;5;241m=\u001b[39m \u001b[38;5;241m4\u001b[39m\n",
      "\u001b[1;31mTypeError\u001b[0m: 'tuple' object does not support item assignment"
     ]
    }
   ],
   "source": [
    "a = (1, 2, 3)\n",
    "a[1] = 4  # tuple은 인덱싱을 통해 수정 불가능함"
   ]
  },
  {
   "cell_type": "markdown",
   "id": "0c6de124-675b-4277-b2b4-d0243d68f445",
   "metadata": {},
   "source": [
    "문제 3"
   ]
  },
  {
   "cell_type": "code",
   "execution_count": 8,
   "id": "ad992f4e-7a0b-49eb-a59b-2c086e5ca836",
   "metadata": {},
   "outputs": [
    {
     "data": {
      "text/plain": [
       "(1, 2, 3, 4)"
      ]
     },
     "execution_count": 8,
     "metadata": {},
     "output_type": "execute_result"
    }
   ],
   "source": [
    "a + (4,)"
   ]
  },
  {
   "cell_type": "markdown",
   "id": "60fcfb0b-2ea0-44bb-9e4b-2f12e0e4eed7",
   "metadata": {},
   "source": [
    "- 딕셔너리와 집합"
   ]
  },
  {
   "cell_type": "code",
   "execution_count": 9,
   "id": "6416dec5-d438-4ccb-ac39-8d1314fe3c07",
   "metadata": {},
   "outputs": [
    {
     "data": {
      "text/plain": [
       "{'name': 'R Friend', 'region': 'Seoul, Korea', 'phone': '02-1234-5678'}"
      ]
     },
     "execution_count": 9,
     "metadata": {},
     "output_type": "execute_result"
    }
   ],
   "source": [
    "b = {'name' : 'R Friend',\n",
    "    'region': 'Seoul, Korea',\n",
    "    'phone': '02-1234-5678'}\n",
    "b"
   ]
  },
  {
   "cell_type": "code",
   "execution_count": 10,
   "id": "9bfa81bc-8568-45ab-96f8-4465dc880cd1",
   "metadata": {},
   "outputs": [
    {
     "data": {
      "text/plain": [
       "dict"
      ]
     },
     "execution_count": 10,
     "metadata": {},
     "output_type": "execute_result"
    }
   ],
   "source": [
    "type(b)"
   ]
  },
  {
   "cell_type": "code",
   "execution_count": 11,
   "id": "aec70874-28f1-4887-8ada-1ace02a1f72c",
   "metadata": {},
   "outputs": [
    {
     "data": {
      "text/plain": [
       "'홍길동'"
      ]
     },
     "execution_count": 11,
     "metadata": {},
     "output_type": "execute_result"
    }
   ],
   "source": [
    "person = {'이름': '홍길동', '나이': 26, '몸무게': 82}\n",
    "person['이름']"
   ]
  },
  {
   "cell_type": "code",
   "execution_count": 12,
   "id": "18dd6243-495e-4180-9d1d-99ce5d2c5f85",
   "metadata": {},
   "outputs": [
    {
     "ename": "KeyError",
     "evalue": "0",
     "output_type": "error",
     "traceback": [
      "\u001b[1;31m---------------------------------------------------------------------------\u001b[0m",
      "\u001b[1;31mKeyError\u001b[0m                                  Traceback (most recent call last)",
      "Input \u001b[1;32mIn [12]\u001b[0m, in \u001b[0;36m<cell line: 1>\u001b[1;34m()\u001b[0m\n\u001b[1;32m----> 1\u001b[0m \u001b[43mperson\u001b[49m\u001b[43m[\u001b[49m\u001b[38;5;241;43m0\u001b[39;49m\u001b[43m]\u001b[49m\n",
      "\u001b[1;31mKeyError\u001b[0m: 0"
     ]
    }
   ],
   "source": [
    "person[0]"
   ]
  },
  {
   "cell_type": "code",
   "execution_count": 13,
   "id": "0c69c887-2d38-418e-8d0d-43ef26c7fe6d",
   "metadata": {},
   "outputs": [
    {
     "ename": "KeyError",
     "evalue": "26",
     "output_type": "error",
     "traceback": [
      "\u001b[1;31m---------------------------------------------------------------------------\u001b[0m",
      "\u001b[1;31mKeyError\u001b[0m                                  Traceback (most recent call last)",
      "Input \u001b[1;32mIn [13]\u001b[0m, in \u001b[0;36m<cell line: 1>\u001b[1;34m()\u001b[0m\n\u001b[1;32m----> 1\u001b[0m \u001b[43mperson\u001b[49m\u001b[43m[\u001b[49m\u001b[38;5;241;43m26\u001b[39;49m\u001b[43m]\u001b[49m\n",
      "\u001b[1;31mKeyError\u001b[0m: 26"
     ]
    }
   ],
   "source": [
    "person[26]"
   ]
  },
  {
   "cell_type": "markdown",
   "id": "b28fe22b-6359-49e2-9bca-0b3f05dbd952",
   "metadata": {},
   "source": [
    "- 기존의 값 수정"
   ]
  },
  {
   "cell_type": "code",
   "execution_count": 14,
   "id": "f5f0c721-9373-471d-891e-becec227d5ae",
   "metadata": {},
   "outputs": [],
   "source": [
    "person['이름'] = '박혁거세'"
   ]
  },
  {
   "cell_type": "code",
   "execution_count": 15,
   "id": "845a2ffa-b2cb-4a09-b24e-3ac8feeb4c4d",
   "metadata": {},
   "outputs": [
    {
     "data": {
      "text/plain": [
       "{'이름': '박혁거세', '나이': 26, '몸무게': 82}"
      ]
     },
     "execution_count": 15,
     "metadata": {},
     "output_type": "execute_result"
    }
   ],
   "source": [
    "person"
   ]
  },
  {
   "cell_type": "markdown",
   "id": "ffc9c364-b2a9-4682-aa96-90683c1b37ff",
   "metadata": {},
   "source": [
    "- 딕셔너리 삽입과 삭제"
   ]
  },
  {
   "cell_type": "code",
   "execution_count": 16,
   "id": "7196a9a4-82d1-45fd-ab34-b7f1e92e53b6",
   "metadata": {},
   "outputs": [
    {
     "data": {
      "text/plain": [
       "{'이름': '박혁거세', '나이': 26, '몸무게': 82, '직업': '데이터분석가'}"
      ]
     },
     "execution_count": 16,
     "metadata": {},
     "output_type": "execute_result"
    }
   ],
   "source": [
    "person['직업'] = '데이터분석가'\n",
    "person"
   ]
  },
  {
   "cell_type": "code",
   "execution_count": 17,
   "id": "7d2587fb-94a7-4c33-99fe-b55449212e57",
   "metadata": {},
   "outputs": [],
   "source": [
    "del person['나이']"
   ]
  },
  {
   "cell_type": "code",
   "execution_count": 20,
   "id": "6f4192f6-7739-4172-949e-42a53d85a507",
   "metadata": {},
   "outputs": [],
   "source": [
    "a = {1: 'a'}\n",
    "a[2] = 'b'  # 새로운 값 추가"
   ]
  },
  {
   "cell_type": "code",
   "execution_count": 19,
   "id": "58a1bd4e-cf70-4403-8922-bf34bbac6dc1",
   "metadata": {},
   "outputs": [
    {
     "data": {
      "text/plain": [
       "{1: 'a', 2: 'b'}"
      ]
     },
     "execution_count": 19,
     "metadata": {},
     "output_type": "execute_result"
    }
   ],
   "source": [
    "a"
   ]
  },
  {
   "cell_type": "code",
   "execution_count": 21,
   "id": "b3a145a9-afc1-4a1c-aab5-d9dd331385ef",
   "metadata": {},
   "outputs": [
    {
     "data": {
      "text/plain": [
       "{1: 'a', 2: 'b', 'name': 'payton'}"
      ]
     },
     "execution_count": 21,
     "metadata": {},
     "output_type": "execute_result"
    }
   ],
   "source": [
    "a['name'] = 'payton'\n",
    "a"
   ]
  },
  {
   "cell_type": "code",
   "execution_count": 22,
   "id": "6c8ebcb6-ff25-48db-8a77-6fbbbe157262",
   "metadata": {},
   "outputs": [
    {
     "data": {
      "text/plain": [
       "{1: 'a', 2: 'b', 'name': 'payton', 3: [1, 2, 3]}"
      ]
     },
     "execution_count": 22,
     "metadata": {},
     "output_type": "execute_result"
    }
   ],
   "source": [
    "a[3] = [1, 2, 3]\n",
    "a"
   ]
  },
  {
   "cell_type": "markdown",
   "id": "7ff724a5-c200-4e5f-80bb-f423a9b3336e",
   "metadata": {},
   "source": [
    "- 특정 아이템을 지우려면, 키로 접근해서 제거해주어야 함"
   ]
  },
  {
   "cell_type": "code",
   "execution_count": 23,
   "id": "293d91d3-1455-4f81-b6de-2c2325a92353",
   "metadata": {},
   "outputs": [],
   "source": [
    "del a[1]"
   ]
  },
  {
   "cell_type": "code",
   "execution_count": 24,
   "id": "d70c2701-29b0-4f7c-9fda-0989865e0878",
   "metadata": {},
   "outputs": [
    {
     "data": {
      "text/plain": [
       "{2: 'b', 'name': 'payton', 3: [1, 2, 3]}"
      ]
     },
     "execution_count": 24,
     "metadata": {},
     "output_type": "execute_result"
    }
   ],
   "source": [
    "a"
   ]
  },
  {
   "cell_type": "code",
   "execution_count": 25,
   "id": "b6611bfd-5272-40f1-a062-bf0e169e0865",
   "metadata": {},
   "outputs": [],
   "source": [
    "grade = {'pay': 20}"
   ]
  },
  {
   "cell_type": "code",
   "execution_count": 26,
   "id": "c0965f3b-cb6c-40de-98b5-c8e17a550890",
   "metadata": {},
   "outputs": [
    {
     "data": {
      "text/plain": [
       "20"
      ]
     },
     "execution_count": 26,
     "metadata": {},
     "output_type": "execute_result"
    }
   ],
   "source": [
    "grade['pay']"
   ]
  },
  {
   "cell_type": "code",
   "execution_count": 29,
   "id": "0eb1dc4e-fad3-4db7-b342-c003010cbb4d",
   "metadata": {},
   "outputs": [],
   "source": [
    "del grade['pay']"
   ]
  },
  {
   "cell_type": "code",
   "execution_count": 30,
   "id": "abd2520b-3e32-425d-b2ed-711d5e58acc4",
   "metadata": {},
   "outputs": [
    {
     "data": {
      "text/plain": [
       "{}"
      ]
     },
     "execution_count": 30,
     "metadata": {},
     "output_type": "execute_result"
    }
   ],
   "source": [
    "grade"
   ]
  },
  {
   "cell_type": "markdown",
   "id": "d4f9e398-d5f0-4a1c-9b68-77aacf63ec1d",
   "metadata": {},
   "source": [
    "- 키를 중복되게 사용하면 안되고, 키에는 변경이 불가능해야 하므로 키에는 리스트 데이터가 오면 안됨"
   ]
  },
  {
   "cell_type": "code",
   "execution_count": 31,
   "id": "0fce7df4-c6a2-4e00-bc1e-5cf9218706e1",
   "metadata": {},
   "outputs": [
    {
     "ename": "TypeError",
     "evalue": "unhashable type: 'list'",
     "output_type": "error",
     "traceback": [
      "\u001b[1;31m---------------------------------------------------------------------------\u001b[0m",
      "\u001b[1;31mTypeError\u001b[0m                                 Traceback (most recent call last)",
      "Input \u001b[1;32mIn [31]\u001b[0m, in \u001b[0;36m<cell line: 1>\u001b[1;34m()\u001b[0m\n\u001b[1;32m----> 1\u001b[0m a \u001b[38;5;241m=\u001b[39m {[\u001b[38;5;241m1\u001b[39m, \u001b[38;5;241m2\u001b[39m]: \u001b[38;5;124m'\u001b[39m\u001b[38;5;124mvalue\u001b[39m\u001b[38;5;124m'\u001b[39m}\n",
      "\u001b[1;31mTypeError\u001b[0m: unhashable type: 'list'"
     ]
    }
   ],
   "source": [
    "a = {[1, 2]: 'value'}"
   ]
  },
  {
   "cell_type": "markdown",
   "id": "1354ac11-af90-4d57-a337-fabb9cc8c586",
   "metadata": {},
   "source": [
    "- key 리스트 만들기"
   ]
  },
  {
   "cell_type": "code",
   "execution_count": 32,
   "id": "8f009b00-042d-4e6e-b825-3cc1c6fb0694",
   "metadata": {},
   "outputs": [],
   "source": [
    "a = {'name': 'pay',\n",
    "    'phone': '010-1234-5678',\n",
    "    'birth': '1988-01-01'}"
   ]
  },
  {
   "cell_type": "code",
   "execution_count": 34,
   "id": "ee164fa1-bf19-48bf-967f-09c2ab5729b0",
   "metadata": {},
   "outputs": [
    {
     "data": {
      "text/plain": [
       "dict_keys(['name', 'phone', 'birth'])"
      ]
     },
     "execution_count": 34,
     "metadata": {},
     "output_type": "execute_result"
    }
   ],
   "source": [
    "a.keys()  # 객체 정보만 반환해주는 것"
   ]
  },
  {
   "cell_type": "code",
   "execution_count": 35,
   "id": "e524ec80-8f07-443a-9d76-7c1a731d0072",
   "metadata": {},
   "outputs": [],
   "source": [
    "ㅁ = {1: 'j',\n",
    "    (2,): 'heaven'}"
   ]
  },
  {
   "cell_type": "code",
   "execution_count": 36,
   "id": "03d76504-2d64-4787-a246-9cdc2d584a52",
   "metadata": {},
   "outputs": [
    {
     "data": {
      "text/plain": [
       "dict_keys([1, (2,)])"
      ]
     },
     "execution_count": 36,
     "metadata": {},
     "output_type": "execute_result"
    }
   ],
   "source": [
    "ㅁ.keys()"
   ]
  },
  {
   "cell_type": "markdown",
   "id": "49a2b352-5bd1-4572-8b48-9c8042eb3dd5",
   "metadata": {},
   "source": [
    "- 리스트로 데이터 타입 변환"
   ]
  },
  {
   "cell_type": "code",
   "execution_count": 37,
   "id": "69ee1c0a-19c5-48b7-9544-1f39a4825e5d",
   "metadata": {},
   "outputs": [
    {
     "data": {
      "text/plain": [
       "[1, (2,)]"
      ]
     },
     "execution_count": 37,
     "metadata": {},
     "output_type": "execute_result"
    }
   ],
   "source": [
    "list(ㅁ.keys())"
   ]
  },
  {
   "cell_type": "code",
   "execution_count": 38,
   "id": "49c4b0d3-b3ff-4d49-b4a2-cf3c60da0177",
   "metadata": {},
   "outputs": [
    {
     "data": {
      "text/plain": [
       "[1, (2,)]"
      ]
     },
     "execution_count": 38,
     "metadata": {},
     "output_type": "execute_result"
    }
   ],
   "source": [
    "ㅁ1 = list(ㅁ.keys())\n",
    "ㅁ1"
   ]
  },
  {
   "cell_type": "code",
   "execution_count": 39,
   "id": "aaaf108d-c19d-4471-837b-b7f68ef9fe4c",
   "metadata": {},
   "outputs": [
    {
     "data": {
      "text/plain": [
       "(2,)"
      ]
     },
     "execution_count": 39,
     "metadata": {},
     "output_type": "execute_result"
    }
   ],
   "source": [
    "ㅁ1[1]"
   ]
  },
  {
   "cell_type": "markdown",
   "id": "8c72d082-7ded-40a6-970c-28e66ec132c1",
   "metadata": {},
   "source": [
    "- for문으로 값들 출력"
   ]
  },
  {
   "cell_type": "code",
   "execution_count": 43,
   "id": "ab6ff29c-074d-46b1-84ad-9b5f565972ad",
   "metadata": {},
   "outputs": [
    {
     "name": "stdout",
     "output_type": "stream",
     "text": [
      "<class 'int'> 1\n",
      "<class 'tuple'> (2,)\n"
     ]
    }
   ],
   "source": [
    "for k in ㅁ.keys():\n",
    "    print(type(k), k)"
   ]
  },
  {
   "cell_type": "code",
   "execution_count": 47,
   "id": "b25467e8-721b-4f73-921f-ebba5c72e6ee",
   "metadata": {},
   "outputs": [
    {
     "name": "stdout",
     "output_type": "stream",
     "text": [
      "1\n",
      "(2,)\n"
     ]
    }
   ],
   "source": [
    "for k in ㅁ.keys():\n",
    "    print(k)"
   ]
  },
  {
   "cell_type": "code",
   "execution_count": 42,
   "id": "a3894172-de4d-4152-a502-f49a61f4f58f",
   "metadata": {},
   "outputs": [
    {
     "name": "stdout",
     "output_type": "stream",
     "text": [
      "<class 'int'> 1\n",
      "<class 'tuple'> (2,)\n"
     ]
    }
   ],
   "source": [
    "for i in list(ㅁ.keys()):\n",
    "    print(type(i), i)"
   ]
  },
  {
   "cell_type": "code",
   "execution_count": 48,
   "id": "a2e713e3-4844-4afa-a5a1-1883f02bae35",
   "metadata": {},
   "outputs": [
    {
     "name": "stdout",
     "output_type": "stream",
     "text": [
      "1\n",
      "(2,)\n"
     ]
    }
   ],
   "source": [
    "for i in list(ㅁ.keys()):\n",
    "    print(i)"
   ]
  },
  {
   "cell_type": "markdown",
   "id": "c8a1f17f-ee49-4a4a-a064-04527d47012f",
   "metadata": {},
   "source": [
    "- keys 얻기"
   ]
  },
  {
   "cell_type": "code",
   "execution_count": 46,
   "id": "74108075-8d8e-49cf-a9ce-b88d66777ae1",
   "metadata": {},
   "outputs": [
    {
     "data": {
      "text/plain": [
       "dict_keys(['name', 'phone', 'birth'])"
      ]
     },
     "execution_count": 46,
     "metadata": {},
     "output_type": "execute_result"
    }
   ],
   "source": [
    "a.keys()"
   ]
  },
  {
   "cell_type": "markdown",
   "id": "58801a67-434c-4ff1-b353-4a07af9d2a7a",
   "metadata": {},
   "source": [
    "- values 얻기"
   ]
  },
  {
   "cell_type": "code",
   "execution_count": 45,
   "id": "b3e55da9-bbdf-499d-ac96-36733e4b8cc7",
   "metadata": {},
   "outputs": [
    {
     "data": {
      "text/plain": [
       "dict_values(['pay', '010-1234-5678', '1988-01-01'])"
      ]
     },
     "execution_count": 45,
     "metadata": {},
     "output_type": "execute_result"
    }
   ],
   "source": [
    "a.values()"
   ]
  },
  {
   "cell_type": "markdown",
   "id": "554f04a3-75a8-42b5-b34a-e00fb90b3182",
   "metadata": {},
   "source": [
    "- 쌍으로 얻기"
   ]
  },
  {
   "cell_type": "code",
   "execution_count": 44,
   "id": "d22c7401-b95f-4ae8-ba32-354bd0399a6d",
   "metadata": {},
   "outputs": [
    {
     "data": {
      "text/plain": [
       "dict_items([('name', 'pay'), ('phone', '010-1234-5678'), ('birth', '1988-01-01')])"
      ]
     },
     "execution_count": 44,
     "metadata": {},
     "output_type": "execute_result"
    }
   ],
   "source": [
    "a.items()"
   ]
  },
  {
   "cell_type": "code",
   "execution_count": 49,
   "id": "32ecb305-2ba6-4e00-9af6-c46015c4d9bf",
   "metadata": {},
   "outputs": [],
   "source": [
    "a1 = {1: 'j'\n",
    "     , (2,): 'heel'}"
   ]
  },
  {
   "cell_type": "code",
   "execution_count": 50,
   "id": "60946b16-0636-4875-97d5-a2c79cdaf833",
   "metadata": {},
   "outputs": [
    {
     "data": {
      "text/plain": [
       "dict_items([(1, 'j'), ((2,), 'heel')])"
      ]
     },
     "execution_count": 50,
     "metadata": {},
     "output_type": "execute_result"
    }
   ],
   "source": [
    "a1.items()"
   ]
  },
  {
   "cell_type": "code",
   "execution_count": 51,
   "id": "a3e90f21-d64c-4dad-8253-95e90367a0d6",
   "metadata": {},
   "outputs": [
    {
     "name": "stdout",
     "output_type": "stream",
     "text": [
      "dict_items([(1, 'j'), ((2,), 'heel')])\n"
     ]
    }
   ],
   "source": [
    "print(a1.items())"
   ]
  },
  {
   "cell_type": "code",
   "execution_count": 54,
   "id": "6c3f2430-c222-4e9f-8783-9bdb5c86c8f1",
   "metadata": {},
   "outputs": [
    {
     "name": "stdout",
     "output_type": "stream",
     "text": [
      "name pay\n",
      "phone 010-1234-5678\n",
      "birth 1988-01-01\n"
     ]
    }
   ],
   "source": [
    "for i, j in a.items():  # 튜플 형식으로 키와 값을 출력\n",
    "    print(i, j)"
   ]
  },
  {
   "cell_type": "code",
   "execution_count": 55,
   "id": "bb321e00-9ea6-4033-becc-a7a0a1653dee",
   "metadata": {},
   "outputs": [
    {
     "name": "stdout",
     "output_type": "stream",
     "text": [
      "1 j\n",
      "(2,) heel\n"
     ]
    }
   ],
   "source": [
    "for i, j in a1.items():\n",
    "    print(i, j)"
   ]
  },
  {
   "cell_type": "code",
   "execution_count": 53,
   "id": "794c91cb-e5fd-4c3c-ba53-3db2fb97ccec",
   "metadata": {},
   "outputs": [
    {
     "name": "stdout",
     "output_type": "stream",
     "text": [
      "1 j\n",
      "(2,) heaven\n"
     ]
    }
   ],
   "source": [
    "for i, j in ㅁ.items():\n",
    "    print(i, j)"
   ]
  },
  {
   "cell_type": "markdown",
   "id": "1fb9bf53-7309-415a-baaa-ed5ef0b2bee6",
   "metadata": {},
   "source": [
    "- key: value 쌍에서 각 값을 제거하기 (clear)"
   ]
  },
  {
   "cell_type": "code",
   "execution_count": 59,
   "id": "63e4c538-7916-44b1-a018-4db08f4ec7ab",
   "metadata": {},
   "outputs": [],
   "source": [
    "a2 = {}  # 딕셔너리 형태로 변수 만들기\n",
    "a3 = dict()  # 딕셔너리 형태로 변수 만들기"
   ]
  },
  {
   "cell_type": "code",
   "execution_count": 57,
   "id": "01ff9346-4607-4243-8fdb-7b10efd3d6d7",
   "metadata": {},
   "outputs": [
    {
     "data": {
      "text/plain": [
       "{}"
      ]
     },
     "execution_count": 57,
     "metadata": {},
     "output_type": "execute_result"
    }
   ],
   "source": [
    "a2"
   ]
  },
  {
   "cell_type": "code",
   "execution_count": 58,
   "id": "2b9c11a3-a5be-4004-9c81-1d1725542a67",
   "metadata": {},
   "outputs": [
    {
     "data": {
      "text/plain": [
       "{}"
      ]
     },
     "execution_count": 58,
     "metadata": {},
     "output_type": "execute_result"
    }
   ],
   "source": [
    "a3"
   ]
  },
  {
   "cell_type": "code",
   "execution_count": 60,
   "id": "06489dad-b74c-49d8-a1ba-82f9fe208042",
   "metadata": {},
   "outputs": [
    {
     "name": "stdout",
     "output_type": "stream",
     "text": [
      "{}\n"
     ]
    }
   ],
   "source": [
    "print(a2)"
   ]
  },
  {
   "cell_type": "code",
   "execution_count": 61,
   "id": "baa12bcd-765b-43d6-9bab-dc14144839d5",
   "metadata": {},
   "outputs": [],
   "source": [
    "a2['key'] = 'value'"
   ]
  },
  {
   "cell_type": "code",
   "execution_count": 62,
   "id": "7fe795d6-4244-4b69-8da4-2acd49860570",
   "metadata": {},
   "outputs": [
    {
     "data": {
      "text/plain": [
       "{'key': 'value'}"
      ]
     },
     "execution_count": 62,
     "metadata": {},
     "output_type": "execute_result"
    }
   ],
   "source": [
    "a2"
   ]
  },
  {
   "cell_type": "code",
   "execution_count": 63,
   "id": "000b637d-071f-4f8a-a593-92ac29aeb8f5",
   "metadata": {},
   "outputs": [
    {
     "data": {
      "text/plain": [
       "{'key': ['value']}"
      ]
     },
     "execution_count": 63,
     "metadata": {},
     "output_type": "execute_result"
    }
   ],
   "source": [
    "a3['key'] = ['value']\n",
    "a3"
   ]
  },
  {
   "cell_type": "markdown",
   "id": "12a8898b-4b64-4eff-b99b-2d7707d3fcf2",
   "metadata": {},
   "source": [
    "- key로 value 얻기 (get)"
   ]
  },
  {
   "cell_type": "code",
   "execution_count": 64,
   "id": "dcf6bc72-aeff-46b9-a7e3-ef4c1c56bd1f",
   "metadata": {},
   "outputs": [
    {
     "data": {
      "text/plain": [
       "{'name': 'pay', 'phone': '010-1234-5678', 'birth': '1988-01-01'}"
      ]
     },
     "execution_count": 64,
     "metadata": {},
     "output_type": "execute_result"
    }
   ],
   "source": [
    "a"
   ]
  },
  {
   "cell_type": "code",
   "execution_count": 65,
   "id": "8e56a6ce-320e-4541-a4e5-fd031cc849e1",
   "metadata": {},
   "outputs": [
    {
     "data": {
      "text/plain": [
       "'pay'"
      ]
     },
     "execution_count": 65,
     "metadata": {},
     "output_type": "execute_result"
    }
   ],
   "source": [
    "a.get('name')"
   ]
  },
  {
   "cell_type": "code",
   "execution_count": 66,
   "id": "644e3daf-e096-4e9d-83f4-219accca3e17",
   "metadata": {},
   "outputs": [
    {
     "data": {
      "text/plain": [
       "'pay'"
      ]
     },
     "execution_count": 66,
     "metadata": {},
     "output_type": "execute_result"
    }
   ],
   "source": [
    "a['name']"
   ]
  },
  {
   "cell_type": "markdown",
   "id": "12e6f278-ebf3-47ab-96c3-9a1c78a325f9",
   "metadata": {},
   "source": [
    "대응되는 key없으면 에러발생"
   ]
  },
  {
   "cell_type": "code",
   "execution_count": 67,
   "id": "f9c7d0b9-0526-43c0-97a4-9c5bdac90227",
   "metadata": {},
   "outputs": [
    {
     "ename": "KeyError",
     "evalue": "'key1'",
     "output_type": "error",
     "traceback": [
      "\u001b[1;31m---------------------------------------------------------------------------\u001b[0m",
      "\u001b[1;31mKeyError\u001b[0m                                  Traceback (most recent call last)",
      "Input \u001b[1;32mIn [67]\u001b[0m, in \u001b[0;36m<cell line: 1>\u001b[1;34m()\u001b[0m\n\u001b[1;32m----> 1\u001b[0m \u001b[43ma\u001b[49m\u001b[43m[\u001b[49m\u001b[38;5;124;43m'\u001b[39;49m\u001b[38;5;124;43mkey1\u001b[39;49m\u001b[38;5;124;43m'\u001b[39;49m\u001b[43m]\u001b[49m\n",
      "\u001b[1;31mKeyError\u001b[0m: 'key1'"
     ]
    }
   ],
   "source": [
    "a['key1']"
   ]
  },
  {
   "cell_type": "markdown",
   "id": "3c2409bf-074c-4cd8-ade7-60483c14eb7d",
   "metadata": {},
   "source": [
    "get()의 경우에는 에러를 반환해주지 않음"
   ]
  },
  {
   "cell_type": "code",
   "execution_count": 68,
   "id": "5e0c8363-6514-4670-9920-d08258eb22d9",
   "metadata": {},
   "outputs": [],
   "source": [
    "a.get('key1')"
   ]
  },
  {
   "cell_type": "markdown",
   "id": "cd6d9f53-3b13-46e3-8ecd-c812f25510da",
   "metadata": {},
   "source": [
    "get()의 경우에는 에러를 반환해주지 않으므로, </br>\n",
    "get('', '') 형태로 작성해서 해당 키가 없을 때 반환하는 에러메시지를 함께 입력해주어야 함"
   ]
  },
  {
   "cell_type": "code",
   "execution_count": 69,
   "id": "1e9e5431-aa4e-4bbe-8cb3-1a612fe231fe",
   "metadata": {},
   "outputs": [
    {
     "data": {
      "text/plain": [
       "'그런 키는 없습니다.'"
      ]
     },
     "execution_count": 69,
     "metadata": {},
     "output_type": "execute_result"
    }
   ],
   "source": [
    "a.get('key1', '그런 키는 없습니다.')"
   ]
  },
  {
   "cell_type": "markdown",
   "id": "e481dda1-a792-4b47-afa7-36c3d2521652",
   "metadata": {},
   "source": [
    "- 해당 key가 딕셔너리 안에 있는지 살펴보기"
   ]
  },
  {
   "cell_type": "code",
   "execution_count": 70,
   "id": "5dd16fd9-14c1-4011-a808-ad0fa77ee508",
   "metadata": {},
   "outputs": [
    {
     "data": {
      "text/plain": [
       "True"
      ]
     },
     "execution_count": 70,
     "metadata": {},
     "output_type": "execute_result"
    }
   ],
   "source": [
    "'name' in a"
   ]
  },
  {
   "cell_type": "code",
   "execution_count": 71,
   "id": "b3e200c8-3f64-41c8-a709-09f758ead9b3",
   "metadata": {},
   "outputs": [
    {
     "data": {
      "text/plain": [
       "False"
      ]
     },
     "execution_count": 71,
     "metadata": {},
     "output_type": "execute_result"
    }
   ],
   "source": [
    "'email' in a"
   ]
  },
  {
   "cell_type": "markdown",
   "id": "35052130-9097-4ae9-b5c9-b456b26a8e3e",
   "metadata": {},
   "source": [
    "- 딕셔너리 데이터에 데이터 추가하는 방법 </br>\n",
    "    update() & setdefault()"
   ]
  },
  {
   "cell_type": "code",
   "execution_count": 72,
   "id": "4a64ddb3-0f13-4801-8aa0-0860ec3c6502",
   "metadata": {},
   "outputs": [],
   "source": [
    "a.update({\"five\": \"다섯\"})"
   ]
  },
  {
   "cell_type": "code",
   "execution_count": 73,
   "id": "09abab8d-df64-41fa-bc64-41258c24ff93",
   "metadata": {},
   "outputs": [
    {
     "data": {
      "text/plain": [
       "{'name': 'pay', 'phone': '010-1234-5678', 'birth': '1988-01-01', 'five': '다섯'}"
      ]
     },
     "execution_count": 73,
     "metadata": {},
     "output_type": "execute_result"
    }
   ],
   "source": [
    "a"
   ]
  },
  {
   "cell_type": "code",
   "execution_count": 74,
   "id": "76335089-073a-4843-90df-e29625277e27",
   "metadata": {},
   "outputs": [
    {
     "data": {
      "text/plain": [
       "'value'"
      ]
     },
     "execution_count": 74,
     "metadata": {},
     "output_type": "execute_result"
    }
   ],
   "source": [
    "a.setdefault('key', 'value')"
   ]
  },
  {
   "cell_type": "code",
   "execution_count": 75,
   "id": "5f02efd6-228c-4c0c-b17f-b454196dc860",
   "metadata": {},
   "outputs": [
    {
     "data": {
      "text/plain": [
       "{'name': 'pay',\n",
       " 'phone': '010-1234-5678',\n",
       " 'birth': '1988-01-01',\n",
       " 'five': '다섯',\n",
       " 'key': 'value'}"
      ]
     },
     "execution_count": 75,
     "metadata": {},
     "output_type": "execute_result"
    }
   ],
   "source": [
    "a"
   ]
  },
  {
   "cell_type": "code",
   "execution_count": 78,
   "id": "47763301-903a-4ac0-9121-410269fb4a4e",
   "metadata": {},
   "outputs": [],
   "source": [
    "a.update(five='five')"
   ]
  },
  {
   "cell_type": "code",
   "execution_count": 79,
   "id": "a4f26bba-f423-4fec-b988-30e565e601c6",
   "metadata": {},
   "outputs": [
    {
     "data": {
      "text/plain": [
       "{'name': 'pay',\n",
       " 'phone': '010-1234-5678',\n",
       " 'birth': '1988-01-01',\n",
       " 'five': 'five',\n",
       " 'key': 'value'}"
      ]
     },
     "execution_count": 79,
     "metadata": {},
     "output_type": "execute_result"
    }
   ],
   "source": [
    "a"
   ]
  },
  {
   "cell_type": "markdown",
   "id": "fa683d95-eaa5-439f-9b45-874315332fc4",
   "metadata": {},
   "source": [
    "- 딕셔너리 값 삭제"
   ]
  },
  {
   "cell_type": "markdown",
   "id": "06e6a01a-e0e4-48a2-93db-f44ab59dc08f",
   "metadata": {},
   "source": [
    "del()"
   ]
  },
  {
   "cell_type": "code",
   "execution_count": 80,
   "id": "2495f88e-55a7-4fdf-a05b-70f85cec15de",
   "metadata": {},
   "outputs": [],
   "source": [
    "del a['five']"
   ]
  },
  {
   "cell_type": "code",
   "execution_count": 81,
   "id": "5ff1c0a0-2b13-4b48-8177-a2baf0df19a4",
   "metadata": {},
   "outputs": [
    {
     "data": {
      "text/plain": [
       "{'name': 'pay',\n",
       " 'phone': '010-1234-5678',\n",
       " 'birth': '1988-01-01',\n",
       " 'key': 'value'}"
      ]
     },
     "execution_count": 81,
     "metadata": {},
     "output_type": "execute_result"
    }
   ],
   "source": [
    "a"
   ]
  },
  {
   "cell_type": "markdown",
   "id": "66887988-8008-4bed-bb3d-4b31651c8cbc",
   "metadata": {},
   "source": [
    "pop()"
   ]
  },
  {
   "cell_type": "code",
   "execution_count": 82,
   "id": "fbe875d4-2fd4-4b99-a17c-3d0db9d5c388",
   "metadata": {},
   "outputs": [
    {
     "data": {
      "text/plain": [
       "'value'"
      ]
     },
     "execution_count": 82,
     "metadata": {},
     "output_type": "execute_result"
    }
   ],
   "source": [
    "a.pop('key')"
   ]
  },
  {
   "cell_type": "code",
   "execution_count": 83,
   "id": "f366c629-4bd5-4e1c-8396-4a7e4d00233d",
   "metadata": {},
   "outputs": [
    {
     "data": {
      "text/plain": [
       "{'name': 'pay', 'phone': '010-1234-5678', 'birth': '1988-01-01'}"
      ]
     },
     "execution_count": 83,
     "metadata": {},
     "output_type": "execute_result"
    }
   ],
   "source": [
    "a"
   ]
  },
  {
   "cell_type": "markdown",
   "id": "b2d034d1-26a4-40fb-ad28-c4248f9c550f",
   "metadata": {},
   "source": [
    "popitem()"
   ]
  },
  {
   "cell_type": "code",
   "execution_count": 84,
   "id": "b300a21e-3b54-42f7-8312-e025636dff57",
   "metadata": {},
   "outputs": [
    {
     "ename": "TypeError",
     "evalue": "dict.popitem() takes no arguments (1 given)",
     "output_type": "error",
     "traceback": [
      "\u001b[1;31m---------------------------------------------------------------------------\u001b[0m",
      "\u001b[1;31mTypeError\u001b[0m                                 Traceback (most recent call last)",
      "Input \u001b[1;32mIn [84]\u001b[0m, in \u001b[0;36m<cell line: 1>\u001b[1;34m()\u001b[0m\n\u001b[1;32m----> 1\u001b[0m \u001b[43ma\u001b[49m\u001b[38;5;241;43m.\u001b[39;49m\u001b[43mpopitem\u001b[49m\u001b[43m(\u001b[49m\u001b[38;5;124;43m'\u001b[39;49m\u001b[38;5;124;43mname\u001b[39;49m\u001b[38;5;124;43m'\u001b[39;49m\u001b[43m)\u001b[49m\n",
      "\u001b[1;31mTypeError\u001b[0m: dict.popitem() takes no arguments (1 given)"
     ]
    }
   ],
   "source": [
    "a.popitem('name')"
   ]
  },
  {
   "cell_type": "code",
   "execution_count": 87,
   "id": "c33a3022-ef18-476a-a148-46808bb46936",
   "metadata": {},
   "outputs": [
    {
     "data": {
      "text/plain": [
       "('phone', '010-1234-5678')"
      ]
     },
     "execution_count": 87,
     "metadata": {},
     "output_type": "execute_result"
    }
   ],
   "source": [
    "a.popitem()  # 맨 끝에 있는 키와 밸류 삭제시킴"
   ]
  },
  {
   "cell_type": "code",
   "execution_count": 86,
   "id": "1d819930-f9c7-410a-bd35-cbc35c90f79e",
   "metadata": {},
   "outputs": [
    {
     "data": {
      "text/plain": [
       "{'name': 'pay', 'phone': '010-1234-5678'}"
      ]
     },
     "execution_count": 86,
     "metadata": {},
     "output_type": "execute_result"
    }
   ],
   "source": [
    "a"
   ]
  },
  {
   "cell_type": "markdown",
   "id": "1819be7b-9735-45fd-94ff-7380ce038a97",
   "metadata": {},
   "source": [
    "clear()"
   ]
  },
  {
   "cell_type": "code",
   "execution_count": 88,
   "id": "b5470a0b-3fe9-4b86-a5c4-0aeadf1b6c16",
   "metadata": {},
   "outputs": [],
   "source": [
    "a.clear()"
   ]
  },
  {
   "cell_type": "code",
   "execution_count": 89,
   "id": "232ab887-0475-46a8-8fbb-d890c3e2a930",
   "metadata": {},
   "outputs": [
    {
     "data": {
      "text/plain": [
       "{}"
      ]
     },
     "execution_count": 89,
     "metadata": {},
     "output_type": "execute_result"
    }
   ],
   "source": [
    "a"
   ]
  },
  {
   "cell_type": "markdown",
   "id": "cbd49e43-9e39-4390-8b28-620dad68f11b",
   "metadata": {},
   "source": [
    "- 딕셔너리에 있는 값들 조사하기"
   ]
  },
  {
   "cell_type": "code",
   "execution_count": 90,
   "id": "b74263dd-c918-4962-9869-85f5f26176f9",
   "metadata": {},
   "outputs": [],
   "source": [
    "a = {'one': '하나'\n",
    "    , 'two': '둘'\n",
    "    , 'three': '셋'}"
   ]
  },
  {
   "cell_type": "code",
   "execution_count": 93,
   "id": "de8dc7f7-704c-4875-bcdb-cd72fd7de6e5",
   "metadata": {},
   "outputs": [
    {
     "data": {
      "text/plain": [
       "'하나'"
      ]
     },
     "execution_count": 93,
     "metadata": {},
     "output_type": "execute_result"
    }
   ],
   "source": [
    "a['one']"
   ]
  },
  {
   "cell_type": "code",
   "execution_count": 95,
   "id": "57624dd3-34a6-48c6-91e0-1dd2109cf952",
   "metadata": {},
   "outputs": [
    {
     "data": {
      "text/plain": [
       "'하나'"
      ]
     },
     "execution_count": 95,
     "metadata": {},
     "output_type": "execute_result"
    }
   ],
   "source": [
    "a.pop('one')"
   ]
  },
  {
   "cell_type": "code",
   "execution_count": 96,
   "id": "deddde3f-10dd-424a-ab68-04232af1b531",
   "metadata": {},
   "outputs": [],
   "source": [
    "a['four'] = ['one', 'two']"
   ]
  },
  {
   "cell_type": "code",
   "execution_count": 97,
   "id": "fcab70c1-692b-44b0-a7e2-66d0fc638add",
   "metadata": {},
   "outputs": [
    {
     "data": {
      "text/plain": [
       "{'two': '둘', 'three': '셋', 'four': ['one', 'two']}"
      ]
     },
     "execution_count": 97,
     "metadata": {},
     "output_type": "execute_result"
    }
   ],
   "source": [
    "a"
   ]
  },
  {
   "cell_type": "code",
   "execution_count": 100,
   "id": "9ca3b50e-e5bc-4746-b24e-98b9f07476af",
   "metadata": {},
   "outputs": [
    {
     "ename": "KeyError",
     "evalue": "3",
     "output_type": "error",
     "traceback": [
      "\u001b[1;31m---------------------------------------------------------------------------\u001b[0m",
      "\u001b[1;31mKeyError\u001b[0m                                  Traceback (most recent call last)",
      "Input \u001b[1;32mIn [100]\u001b[0m, in \u001b[0;36m<cell line: 1>\u001b[1;34m()\u001b[0m\n\u001b[1;32m----> 1\u001b[0m a\u001b[38;5;241m.\u001b[39mpop(\u001b[43ma\u001b[49m\u001b[43m[\u001b[49m\u001b[38;5;241;43m3\u001b[39;49m\u001b[43m]\u001b[49m)\n",
      "\u001b[1;31mKeyError\u001b[0m: 3"
     ]
    }
   ],
   "source": [
    "a.pop(a[3])"
   ]
  },
  {
   "cell_type": "code",
   "execution_count": null,
   "id": "fb9d70c8-587f-4d9e-b84b-a50e6c0b9b13",
   "metadata": {},
   "outputs": [],
   "source": [
    "a.items()"
   ]
  },
  {
   "cell_type": "code",
   "execution_count": null,
   "id": "2596c4ac-15f6-4ed8-a92c-9bb9dacf8fba",
   "metadata": {},
   "outputs": [],
   "source": [
    "a.keys()"
   ]
  },
  {
   "cell_type": "code",
   "execution_count": null,
   "id": "b1ff5dc7-aa8a-4b7d-86d7-cdcf13e667aa",
   "metadata": {},
   "outputs": [],
   "source": [
    "a.values()"
   ]
  },
  {
   "cell_type": "code",
   "execution_count": null,
   "id": "7efaf31a-bc9b-45da-9dc4-996cc770aabc",
   "metadata": {},
   "outputs": [],
   "source": [
    "'a' in a"
   ]
  },
  {
   "cell_type": "code",
   "execution_count": null,
   "id": "5ba8c08e-781f-44c5-bc8d-bccaea66ba65",
   "metadata": {},
   "outputs": [],
   "source": [
    "'a' not in a"
   ]
  },
  {
   "cell_type": "markdown",
   "id": "7c5dbb99-6bd7-4c16-9a25-e3feec304e1c",
   "metadata": {},
   "source": [
    "- 리스트와 딕셔너리 비교하기"
   ]
  },
  {
   "cell_type": "markdown",
   "id": "0b0347f7-4d8e-49a2-b861-0cc6b47a378e",
   "metadata": {},
   "source": [
    "문제 1"
   ]
  },
  {
   "cell_type": "code",
   "execution_count": 101,
   "id": "7393e8f6-179c-4ab0-8562-38fabf102346",
   "metadata": {},
   "outputs": [],
   "source": [
    "a = dict()"
   ]
  },
  {
   "cell_type": "code",
   "execution_count": 102,
   "id": "fb5b8ded-96a7-4bcc-812c-3fa9b0684257",
   "metadata": {},
   "outputs": [
    {
     "data": {
      "text/plain": [
       "{}"
      ]
     },
     "execution_count": 102,
     "metadata": {},
     "output_type": "execute_result"
    }
   ],
   "source": [
    "a"
   ]
  },
  {
   "cell_type": "markdown",
   "id": "59a71828-5a32-403c-adf1-b16d0b469b14",
   "metadata": {},
   "source": [
    "리스트는 수정이 가능한 것인데, 튜플은 수정이 불가능한 구조이므로 에러 발생"
   ]
  },
  {
   "cell_type": "code",
   "execution_count": 103,
   "id": "ed237692-747d-4bcd-8903-9c9061f3f944",
   "metadata": {},
   "outputs": [
    {
     "ename": "TypeError",
     "evalue": "unhashable type: 'list'",
     "output_type": "error",
     "traceback": [
      "\u001b[1;31m---------------------------------------------------------------------------\u001b[0m",
      "\u001b[1;31mTypeError\u001b[0m                                 Traceback (most recent call last)",
      "Input \u001b[1;32mIn [103]\u001b[0m, in \u001b[0;36m<cell line: 1>\u001b[1;34m()\u001b[0m\n\u001b[1;32m----> 1\u001b[0m a[[\u001b[38;5;241m1\u001b[39m]] \u001b[38;5;241m=\u001b[39m \u001b[38;5;124m'\u001b[39m\u001b[38;5;124mpython\u001b[39m\u001b[38;5;124m'\u001b[39m\n",
      "\u001b[1;31mTypeError\u001b[0m: unhashable type: 'list'"
     ]
    }
   ],
   "source": [
    "a[[1]] = 'python'"
   ]
  },
  {
   "cell_type": "markdown",
   "id": "0202ae65-da2d-48aa-831c-8444f4316900",
   "metadata": {},
   "source": [
    "튜플 형식으로 대입했기 때문에 괜찮음"
   ]
  },
  {
   "cell_type": "code",
   "execution_count": 104,
   "id": "e2c8e515-5666-44da-9b07-7e1031624b35",
   "metadata": {},
   "outputs": [],
   "source": [
    "a[('a',)] = 'python'"
   ]
  },
  {
   "cell_type": "code",
   "execution_count": 105,
   "id": "f5eb1115-8ee2-40e9-9eb9-6fe687192f0b",
   "metadata": {},
   "outputs": [
    {
     "data": {
      "text/plain": [
       "{('a',): 'python'}"
      ]
     },
     "execution_count": 105,
     "metadata": {},
     "output_type": "execute_result"
    }
   ],
   "source": [
    "a"
   ]
  },
  {
   "cell_type": "markdown",
   "id": "36571cf2-52ab-4631-be31-7538204fe00e",
   "metadata": {},
   "source": [
    "문제 2"
   ]
  },
  {
   "cell_type": "code",
   "execution_count": 106,
   "id": "99f922b3-cf9e-4fbc-b632-a2a3611f042b",
   "metadata": {},
   "outputs": [],
   "source": [
    "a = {'A': 90, 'B': 80, 'C': 70}"
   ]
  },
  {
   "cell_type": "code",
   "execution_count": 107,
   "id": "166fba43-b685-45ea-9132-7f2279bcac01",
   "metadata": {},
   "outputs": [
    {
     "data": {
      "text/plain": [
       "{'A': 90, 'B': 80, 'C': 70}"
      ]
     },
     "execution_count": 107,
     "metadata": {},
     "output_type": "execute_result"
    }
   ],
   "source": [
    "a"
   ]
  },
  {
   "cell_type": "code",
   "execution_count": 108,
   "id": "859a844e-adf1-4003-a9f4-ec4e3df37428",
   "metadata": {},
   "outputs": [
    {
     "data": {
      "text/plain": [
       "80"
      ]
     },
     "execution_count": 108,
     "metadata": {},
     "output_type": "execute_result"
    }
   ],
   "source": [
    "a.pop('B')"
   ]
  },
  {
   "cell_type": "code",
   "execution_count": 109,
   "id": "60db1cb4-dbb9-4f0b-95a2-ff3b81af7107",
   "metadata": {},
   "outputs": [
    {
     "data": {
      "text/plain": [
       "{'A': 90, 'C': 70}"
      ]
     },
     "execution_count": 109,
     "metadata": {},
     "output_type": "execute_result"
    }
   ],
   "source": [
    "a"
   ]
  },
  {
   "cell_type": "markdown",
   "id": "6880ee1a-80d8-4085-a3d8-9d21bf817098",
   "metadata": {},
   "source": [
    "문제 3"
   ]
  },
  {
   "cell_type": "code",
   "execution_count": 111,
   "id": "15b94d73-7748-40d6-96b7-e58d3a93fe96",
   "metadata": {},
   "outputs": [
    {
     "ename": "KeyError",
     "evalue": "'B'",
     "output_type": "error",
     "traceback": [
      "\u001b[1;31m---------------------------------------------------------------------------\u001b[0m",
      "\u001b[1;31mKeyError\u001b[0m                                  Traceback (most recent call last)",
      "Input \u001b[1;32mIn [111]\u001b[0m, in \u001b[0;36m<cell line: 1>\u001b[1;34m()\u001b[0m\n\u001b[1;32m----> 1\u001b[0m \u001b[43ma\u001b[49m\u001b[43m[\u001b[49m\u001b[38;5;124;43m'\u001b[39;49m\u001b[38;5;124;43mB\u001b[39;49m\u001b[38;5;124;43m'\u001b[39;49m\u001b[43m]\u001b[49m\n",
      "\u001b[1;31mKeyError\u001b[0m: 'B'"
     ]
    }
   ],
   "source": [
    "a['B']"
   ]
  },
  {
   "cell_type": "code",
   "execution_count": 113,
   "id": "22c8100f-848c-4afd-a2d6-781e163c3d86",
   "metadata": {},
   "outputs": [
    {
     "data": {
      "text/plain": [
       "'그런 키값은 없습니다.'"
      ]
     },
     "execution_count": 113,
     "metadata": {},
     "output_type": "execute_result"
    }
   ],
   "source": [
    "a.get('B', '그런 키값은 없습니다.')"
   ]
  },
  {
   "cell_type": "markdown",
   "id": "8505ab5b-498a-4f5d-854c-f40278ea36d4",
   "metadata": {},
   "source": [
    "문제 4: 딕셔너리 안에 있는 최소값 출력"
   ]
  },
  {
   "cell_type": "code",
   "execution_count": 118,
   "id": "62e5ad27-e42e-4eba-8806-b2f8e2ed0984",
   "metadata": {},
   "outputs": [
    {
     "data": {
      "text/plain": [
       "70"
      ]
     },
     "execution_count": 118,
     "metadata": {},
     "output_type": "execute_result"
    }
   ],
   "source": [
    "a['C']"
   ]
  },
  {
   "cell_type": "code",
   "execution_count": 119,
   "id": "609666f7-3d0e-444a-9c5c-73d3e40b1020",
   "metadata": {},
   "outputs": [
    {
     "data": {
      "text/plain": [
       "dict_values([90, 70])"
      ]
     },
     "execution_count": 119,
     "metadata": {},
     "output_type": "execute_result"
    }
   ],
   "source": [
    "a.values()"
   ]
  },
  {
   "cell_type": "code",
   "execution_count": 121,
   "id": "ff229c7b-b150-4cd9-9471-7ee7e0b06351",
   "metadata": {},
   "outputs": [
    {
     "data": {
      "text/plain": [
       "70"
      ]
     },
     "execution_count": 121,
     "metadata": {},
     "output_type": "execute_result"
    }
   ],
   "source": [
    "min(a.values())"
   ]
  },
  {
   "cell_type": "code",
   "execution_count": 122,
   "id": "ceddebe1-53a5-4167-bf98-bea48ff05956",
   "metadata": {},
   "outputs": [
    {
     "data": {
      "text/plain": [
       "70"
      ]
     },
     "execution_count": 122,
     "metadata": {},
     "output_type": "execute_result"
    }
   ],
   "source": [
    "min(list(a.values()))"
   ]
  },
  {
   "cell_type": "markdown",
   "id": "7f312936-9684-44bb-8f61-302a077402da",
   "metadata": {},
   "source": [
    "문제 5"
   ]
  },
  {
   "cell_type": "code",
   "execution_count": 123,
   "id": "43721c15-33c2-4b8d-9418-81a9308cc931",
   "metadata": {},
   "outputs": [
    {
     "data": {
      "text/plain": [
       "dict_items([('A', 90), ('C', 70)])"
      ]
     },
     "execution_count": 123,
     "metadata": {},
     "output_type": "execute_result"
    }
   ],
   "source": [
    "a.items()"
   ]
  },
  {
   "cell_type": "code",
   "execution_count": 124,
   "id": "bc50902c-49fa-4fa4-ab41-6a50562d0e65",
   "metadata": {},
   "outputs": [
    {
     "data": {
      "text/plain": [
       "[('A', 90), ('C', 70)]"
      ]
     },
     "execution_count": 124,
     "metadata": {},
     "output_type": "execute_result"
    }
   ],
   "source": [
    "list(a.items())"
   ]
  },
  {
   "cell_type": "code",
   "execution_count": 125,
   "id": "9337a58b-0a36-48e8-9737-8580eeca095e",
   "metadata": {},
   "outputs": [
    {
     "data": {
      "text/plain": [
       "2"
      ]
     },
     "execution_count": 125,
     "metadata": {},
     "output_type": "execute_result"
    }
   ],
   "source": [
    "len(a.keys())"
   ]
  },
  {
   "cell_type": "markdown",
   "id": "a0a961a7-0b7d-43bf-a0d0-ec8007ebbcad",
   "metadata": {},
   "source": [
    "- 집합형 (set): 딕셔너리와 형태가 유사하지만 key와 value 형태로 존재하지 않는다는 것이 집합의 특징 </br>\n",
    "    중복을 허용하지 않음 </br>\n",
    "    순서가 없음 </br>"
   ]
  },
  {
   "cell_type": "code",
   "execution_count": 126,
   "id": "d4f118c5-ad0b-4225-8f10-78a8cd0f9ff4",
   "metadata": {},
   "outputs": [
    {
     "data": {
      "text/plain": [
       "{1, 2, 3}"
      ]
     },
     "execution_count": 126,
     "metadata": {},
     "output_type": "execute_result"
    }
   ],
   "source": [
    "s1 = set([1,2,3]); s1"
   ]
  },
  {
   "cell_type": "code",
   "execution_count": 127,
   "id": "f40d9c6b-eb2f-4648-9d86-ce95f09b05c0",
   "metadata": {},
   "outputs": [
    {
     "data": {
      "text/plain": [
       "{'H', 'e', 'l', 'o'}"
      ]
     },
     "execution_count": 127,
     "metadata": {},
     "output_type": "execute_result"
    }
   ],
   "source": [
    "s2 = set(\"Hello\"); s2"
   ]
  },
  {
   "cell_type": "code",
   "execution_count": 128,
   "id": "f4d611f3-59d3-4648-a4a7-4554f71225e7",
   "metadata": {},
   "outputs": [
    {
     "ename": "TypeError",
     "evalue": "'set' object is not subscriptable",
     "output_type": "error",
     "traceback": [
      "\u001b[1;31m---------------------------------------------------------------------------\u001b[0m",
      "\u001b[1;31mTypeError\u001b[0m                                 Traceback (most recent call last)",
      "Input \u001b[1;32mIn [128]\u001b[0m, in \u001b[0;36m<cell line: 1>\u001b[1;34m()\u001b[0m\n\u001b[1;32m----> 1\u001b[0m \u001b[43ms2\u001b[49m\u001b[43m[\u001b[49m\u001b[38;5;241;43m0\u001b[39;49m\u001b[43m]\u001b[49m\n",
      "\u001b[1;31mTypeError\u001b[0m: 'set' object is not subscriptable"
     ]
    }
   ],
   "source": [
    "s2[0]"
   ]
  },
  {
   "cell_type": "code",
   "execution_count": 129,
   "id": "cbbc72b0-b1e4-4851-acea-9c8cf3061acc",
   "metadata": {},
   "outputs": [
    {
     "ename": "TypeError",
     "evalue": "'set' object is not subscriptable",
     "output_type": "error",
     "traceback": [
      "\u001b[1;31m---------------------------------------------------------------------------\u001b[0m",
      "\u001b[1;31mTypeError\u001b[0m                                 Traceback (most recent call last)",
      "Input \u001b[1;32mIn [129]\u001b[0m, in \u001b[0;36m<cell line: 1>\u001b[1;34m()\u001b[0m\n\u001b[1;32m----> 1\u001b[0m \u001b[43ms2\u001b[49m\u001b[43m[\u001b[49m\u001b[38;5;124;43m'\u001b[39;49m\u001b[38;5;124;43mH\u001b[39;49m\u001b[38;5;124;43m'\u001b[39;49m\u001b[43m]\u001b[49m\n",
      "\u001b[1;31mTypeError\u001b[0m: 'set' object is not subscriptable"
     ]
    }
   ],
   "source": [
    "s2['H']"
   ]
  },
  {
   "cell_type": "code",
   "execution_count": 130,
   "id": "fd5c9d21-0807-4934-b3e9-dfb86c25b1cb",
   "metadata": {},
   "outputs": [
    {
     "ename": "TypeError",
     "evalue": "'set' object is not callable",
     "output_type": "error",
     "traceback": [
      "\u001b[1;31m---------------------------------------------------------------------------\u001b[0m",
      "\u001b[1;31mTypeError\u001b[0m                                 Traceback (most recent call last)",
      "Input \u001b[1;32mIn [130]\u001b[0m, in \u001b[0;36m<cell line: 1>\u001b[1;34m()\u001b[0m\n\u001b[1;32m----> 1\u001b[0m \u001b[43ms2\u001b[49m\u001b[43m(\u001b[49m\u001b[38;5;124;43m'\u001b[39;49m\u001b[38;5;124;43mH\u001b[39;49m\u001b[38;5;124;43m'\u001b[39;49m\u001b[43m)\u001b[49m\n",
      "\u001b[1;31mTypeError\u001b[0m: 'set' object is not callable"
     ]
    }
   ],
   "source": [
    "s2('H')"
   ]
  },
  {
   "cell_type": "code",
   "execution_count": 131,
   "id": "7c6ffed7-2760-4fcf-9ee4-c5362865d3e3",
   "metadata": {},
   "outputs": [
    {
     "ename": "SyntaxError",
     "evalue": "invalid syntax (3772670766.py, line 1)",
     "output_type": "error",
     "traceback": [
      "\u001b[1;36m  Input \u001b[1;32mIn [131]\u001b[1;36m\u001b[0m\n\u001b[1;33m    s2{'H'}\u001b[0m\n\u001b[1;37m      ^\u001b[0m\n\u001b[1;31mSyntaxError\u001b[0m\u001b[1;31m:\u001b[0m invalid syntax\n"
     ]
    }
   ],
   "source": [
    "s2{'H'}"
   ]
  },
  {
   "cell_type": "markdown",
   "id": "32859ead-1c5b-4d4f-8fee-21fbd02fc365",
   "metadata": {},
   "source": [
    "set() 형태의 변수에서 특정 값을 가져오고싶은 경우에는 리스트로 데이터 형태를 변환시켜주고 사용"
   ]
  },
  {
   "cell_type": "markdown",
   "id": "b4c2c45d-8e8c-4abe-98b2-53c46c8d1deb",
   "metadata": {},
   "source": [
    "리스트의 값에서 중복을 제거해주고 싶은 경우에는 리스트 데이터를 set (집합) 형태로 데이터의 형태를 변환시켜주고 사용"
   ]
  },
  {
   "cell_type": "markdown",
   "id": "aad44b50-b71f-4fd3-9592-a323a91c3d85",
   "metadata": {},
   "source": [
    "- 집합 (set)의 메소드"
   ]
  },
  {
   "cell_type": "markdown",
   "id": "99cfd426-b117-427a-8f54-542adeb917d2",
   "metadata": {},
   "source": [
    "add()"
   ]
  },
  {
   "cell_type": "code",
   "execution_count": 132,
   "id": "65221037-5d67-443e-8b59-7862976fc00d",
   "metadata": {},
   "outputs": [],
   "source": [
    "s2.add(2)"
   ]
  },
  {
   "cell_type": "code",
   "execution_count": 133,
   "id": "5fb695bb-105b-41fd-88ed-747d43304a0a",
   "metadata": {},
   "outputs": [
    {
     "data": {
      "text/plain": [
       "{2, 'H', 'e', 'l', 'o'}"
      ]
     },
     "execution_count": 133,
     "metadata": {},
     "output_type": "execute_result"
    }
   ],
   "source": [
    "s2"
   ]
  },
  {
   "cell_type": "markdown",
   "id": "b6123fb8-42a0-4f36-a09d-902b26a4e7fa",
   "metadata": {},
   "source": [
    "집합의 형태로 해당 변수를 만들어주기 위해서는 set()로 변수 할당"
   ]
  },
  {
   "cell_type": "code",
   "execution_count": 134,
   "id": "d4bed068-87cb-4c52-8d46-1dd5b46dc46c",
   "metadata": {},
   "outputs": [],
   "source": [
    "s3 = set()"
   ]
  },
  {
   "cell_type": "code",
   "execution_count": 135,
   "id": "6d3f2ea7-987e-46a3-98b2-da0516e53ead",
   "metadata": {},
   "outputs": [
    {
     "data": {
      "text/plain": [
       "set"
      ]
     },
     "execution_count": 135,
     "metadata": {},
     "output_type": "execute_result"
    }
   ],
   "source": [
    "type(s3)"
   ]
  },
  {
   "cell_type": "code",
   "execution_count": 136,
   "id": "ad56e93e-075f-4ac1-b24d-c34acd9c364c",
   "metadata": {},
   "outputs": [],
   "source": [
    "s4 = set([1, 2, 3, 4, 5, 6])\n",
    "s5 = set([4, 5, 6, 7, 8, 9])"
   ]
  },
  {
   "cell_type": "code",
   "execution_count": 137,
   "id": "4169689e-7173-4cdb-9792-fc338757ffea",
   "metadata": {},
   "outputs": [
    {
     "data": {
      "text/plain": [
       "{4, 5, 6}"
      ]
     },
     "execution_count": 137,
     "metadata": {},
     "output_type": "execute_result"
    }
   ],
   "source": [
    "s4 & s5"
   ]
  },
  {
   "cell_type": "code",
   "execution_count": 138,
   "id": "44065379-ddc3-4e79-8f1e-03adf7f7f9bb",
   "metadata": {},
   "outputs": [
    {
     "data": {
      "text/plain": [
       "{4, 5, 6}"
      ]
     },
     "execution_count": 138,
     "metadata": {},
     "output_type": "execute_result"
    }
   ],
   "source": [
    "s4.intersection(s5)"
   ]
  },
  {
   "cell_type": "code",
   "execution_count": 139,
   "id": "285f1013-84cb-487f-acbd-7b13e75c82b4",
   "metadata": {},
   "outputs": [
    {
     "data": {
      "text/plain": [
       "{1, 2, 3, 4, 5, 6, 7, 8, 9}"
      ]
     },
     "execution_count": 139,
     "metadata": {},
     "output_type": "execute_result"
    }
   ],
   "source": [
    "s4|s5"
   ]
  },
  {
   "cell_type": "code",
   "execution_count": 141,
   "id": "435ee232-b53b-4801-9c89-cc7d3ee636da",
   "metadata": {},
   "outputs": [
    {
     "data": {
      "text/plain": [
       "{1, 2, 3, 4, 5, 6, 7, 8, 9}"
      ]
     },
     "execution_count": 141,
     "metadata": {},
     "output_type": "execute_result"
    }
   ],
   "source": [
    "s4.union(s5)  # 중복되는 값 삭제하고 출력"
   ]
  },
  {
   "cell_type": "code",
   "execution_count": 143,
   "id": "33437440-cf7e-42ee-afd5-0f55ca205a39",
   "metadata": {},
   "outputs": [
    {
     "data": {
      "text/plain": [
       "{1, 2, 3}"
      ]
     },
     "execution_count": 143,
     "metadata": {},
     "output_type": "execute_result"
    }
   ],
   "source": [
    "s4.difference(s5)  # 차집합 출력"
   ]
  },
  {
   "cell_type": "code",
   "execution_count": 145,
   "id": "a5573eb9-61d4-49a4-8cf2-a7db2fd6fd5b",
   "metadata": {},
   "outputs": [],
   "source": [
    "s4.discard(6)"
   ]
  },
  {
   "cell_type": "code",
   "execution_count": 146,
   "id": "a83223ac-562b-42f0-a398-ea5ce93199e9",
   "metadata": {},
   "outputs": [
    {
     "data": {
      "text/plain": [
       "{1, 2, 3, 4, 5}"
      ]
     },
     "execution_count": 146,
     "metadata": {},
     "output_type": "execute_result"
    }
   ],
   "source": [
    "s4"
   ]
  },
  {
   "cell_type": "code",
   "execution_count": 147,
   "id": "7aeb4f27-1be7-46b0-8e5b-7b13bc28e661",
   "metadata": {},
   "outputs": [
    {
     "data": {
      "text/plain": [
       "{1, 2, 3, 6, 7, 8, 9}"
      ]
     },
     "execution_count": 147,
     "metadata": {},
     "output_type": "execute_result"
    }
   ],
   "source": [
    "s4.symmetric_difference(s5)"
   ]
  },
  {
   "cell_type": "code",
   "execution_count": 148,
   "id": "cf248068-0bad-4443-9473-d23228af86e3",
   "metadata": {},
   "outputs": [
    {
     "data": {
      "text/plain": [
       "False"
      ]
     },
     "execution_count": 148,
     "metadata": {},
     "output_type": "execute_result"
    }
   ],
   "source": [
    "s4.issubset(s5)"
   ]
  },
  {
   "cell_type": "code",
   "execution_count": 149,
   "id": "339c37ed-21b3-4e3f-a75c-20b7fa9fe76d",
   "metadata": {},
   "outputs": [
    {
     "data": {
      "text/plain": [
       "False"
      ]
     },
     "execution_count": 149,
     "metadata": {},
     "output_type": "execute_result"
    }
   ],
   "source": [
    "s4.issuperset(s5)"
   ]
  },
  {
   "cell_type": "code",
   "execution_count": 150,
   "id": "1c0f968f-bfff-459f-aa41-9393854121f7",
   "metadata": {},
   "outputs": [
    {
     "data": {
      "text/plain": [
       "False"
      ]
     },
     "execution_count": 150,
     "metadata": {},
     "output_type": "execute_result"
    }
   ],
   "source": [
    "s4.isdisjoint(s5)"
   ]
  },
  {
   "cell_type": "markdown",
   "id": "0f00d954-ff9f-4d0f-b5ea-55375beb35a8",
   "metadata": {},
   "source": [
    "- 집합 자료형 관련 함수들"
   ]
  },
  {
   "cell_type": "code",
   "execution_count": 151,
   "id": "63b7d780-464c-4790-bb4a-e0ee45d05202",
   "metadata": {},
   "outputs": [],
   "source": [
    "s = {100, 100, 200, 200, 300, 400}"
   ]
  },
  {
   "cell_type": "code",
   "execution_count": 152,
   "id": "17e5b0b7-f494-4fd5-913c-dd6af56778fa",
   "metadata": {},
   "outputs": [
    {
     "data": {
      "text/plain": [
       "{100, 200, 300, 400}"
      ]
     },
     "execution_count": 152,
     "metadata": {},
     "output_type": "execute_result"
    }
   ],
   "source": [
    "s"
   ]
  },
  {
   "cell_type": "code",
   "execution_count": 153,
   "id": "a3e0e3cf-da52-4f57-9370-df54a6bd2560",
   "metadata": {},
   "outputs": [],
   "source": [
    "s.add(500)"
   ]
  },
  {
   "cell_type": "code",
   "execution_count": 154,
   "id": "fd7b24f8-e50d-4034-bfee-dfd2a0af163f",
   "metadata": {},
   "outputs": [
    {
     "data": {
      "text/plain": [
       "{100, 200, 300, 400, 500}"
      ]
     },
     "execution_count": 154,
     "metadata": {},
     "output_type": "execute_result"
    }
   ],
   "source": [
    "s"
   ]
  },
  {
   "cell_type": "code",
   "execution_count": 156,
   "id": "36513ec0-1fd7-4495-9cfa-84009735ac0f",
   "metadata": {},
   "outputs": [
    {
     "data": {
      "text/plain": [
       "set"
      ]
     },
     "execution_count": 156,
     "metadata": {},
     "output_type": "execute_result"
    }
   ],
   "source": [
    "type(s)"
   ]
  },
  {
   "cell_type": "code",
   "execution_count": 157,
   "id": "6e17139f-0218-4655-b2a8-edf771bbcb34",
   "metadata": {},
   "outputs": [],
   "source": [
    "s = {}"
   ]
  },
  {
   "cell_type": "code",
   "execution_count": 158,
   "id": "933725c4-9b29-4397-b5f8-9948e8311fa2",
   "metadata": {},
   "outputs": [
    {
     "data": {
      "text/plain": [
       "dict"
      ]
     },
     "execution_count": 158,
     "metadata": {},
     "output_type": "execute_result"
    }
   ],
   "source": [
    "type(s)"
   ]
  },
  {
   "cell_type": "code",
   "execution_count": 159,
   "id": "fbccb35d-de49-4063-ba56-ec3e80084e1b",
   "metadata": {},
   "outputs": [],
   "source": [
    "a = [1, 1, 1, 2, 2, 3, 3, 3, 4, 4, 5]"
   ]
  },
  {
   "cell_type": "code",
   "execution_count": 160,
   "id": "92211bea-b970-4555-98c7-d875531d04bc",
   "metadata": {},
   "outputs": [
    {
     "data": {
      "text/plain": [
       "{1, 2, 3, 4, 5}"
      ]
     },
     "execution_count": 160,
     "metadata": {},
     "output_type": "execute_result"
    }
   ],
   "source": [
    "set(a)"
   ]
  },
  {
   "cell_type": "code",
   "execution_count": 161,
   "id": "e58b9a23-6ad6-421a-8cdb-f8942b304789",
   "metadata": {},
   "outputs": [
    {
     "data": {
      "text/plain": [
       "[1, 2, 3, 4, 5]"
      ]
     },
     "execution_count": 161,
     "metadata": {},
     "output_type": "execute_result"
    }
   ],
   "source": [
    "list(set(a))"
   ]
  },
  {
   "cell_type": "code",
   "execution_count": 162,
   "id": "776c7ae6-1ada-41ac-aa35-3fdbc8d413cc",
   "metadata": {},
   "outputs": [
    {
     "data": {
      "text/plain": [
       "{2}"
      ]
     },
     "execution_count": 162,
     "metadata": {},
     "output_type": "execute_result"
    }
   ],
   "source": [
    "s1.intersection(s2)"
   ]
  },
  {
   "cell_type": "code",
   "execution_count": 163,
   "id": "82f9a553-30fa-4f7b-9b0c-ca893cfc388c",
   "metadata": {},
   "outputs": [],
   "source": [
    "s6 = set()"
   ]
  },
  {
   "cell_type": "code",
   "execution_count": 164,
   "id": "5beba9fb-74d3-47c9-b472-e63eedc35799",
   "metadata": {},
   "outputs": [
    {
     "data": {
      "text/plain": [
       "set"
      ]
     },
     "execution_count": 164,
     "metadata": {},
     "output_type": "execute_result"
    }
   ],
   "source": [
    "type(s6)"
   ]
  },
  {
   "cell_type": "markdown",
   "id": "408b202c-a7c3-4d1d-a6c2-aa5cf7236cc5",
   "metadata": {},
   "source": [
    "문제 1"
   ]
  },
  {
   "cell_type": "code",
   "execution_count": 165,
   "id": "127f9304-2765-4fa0-851e-446683b9882f",
   "metadata": {},
   "outputs": [],
   "source": [
    "a = {'a', 'b', 'c'}"
   ]
  },
  {
   "cell_type": "markdown",
   "id": "0a557d11-91fd-4860-a9e0-94eba9f6d936",
   "metadata": {},
   "source": [
    "add()와 update()의 차이점: .add()는 하나의 값만 추가 가능함 & 맨 앞에 추가가능함. update()는 여러개 값 추가가능함 & 맨 뒤에 추가가능함."
   ]
  },
  {
   "cell_type": "code",
   "execution_count": 170,
   "id": "2e712c18-e19c-4dc8-abb8-0a9fc7e7ac6c",
   "metadata": {},
   "outputs": [],
   "source": [
    "a.update('d','e','f')"
   ]
  },
  {
   "cell_type": "code",
   "execution_count": 171,
   "id": "d3e9da0a-6fd6-46d2-b6f5-412db100f1a8",
   "metadata": {},
   "outputs": [
    {
     "data": {
      "text/plain": [
       "{'a', 'b', 'c', 'd', 'def', 'e', 'f'}"
      ]
     },
     "execution_count": 171,
     "metadata": {},
     "output_type": "execute_result"
    }
   ],
   "source": [
    "a"
   ]
  },
  {
   "cell_type": "markdown",
   "id": "8399bbe9-adb6-438c-8349-69135aa9fdc9",
   "metadata": {},
   "source": [
    "자료형의 참과 거짓"
   ]
  },
  {
   "cell_type": "code",
   "execution_count": 172,
   "id": "538d49d4-4194-484b-99b4-8ee7993810b7",
   "metadata": {},
   "outputs": [
    {
     "data": {
      "text/plain": [
       "False"
      ]
     },
     "execution_count": 172,
     "metadata": {},
     "output_type": "execute_result"
    }
   ],
   "source": [
    "1 != 1"
   ]
  },
  {
   "cell_type": "markdown",
   "id": "11067a48-59aa-4463-a09f-30de93f97e4a",
   "metadata": {},
   "source": [
    "- 변수"
   ]
  },
  {
   "cell_type": "markdown",
   "id": "6cef26b9-27fd-4ad0-ac1d-bb8a362f49a5",
   "metadata": {},
   "source": [
    "변수는 메모리 주소를 가리키는 포인터"
   ]
  },
  {
   "cell_type": "code",
   "execution_count": 173,
   "id": "d76f5fd9-b9ad-48d6-941d-c05637e90ec6",
   "metadata": {},
   "outputs": [],
   "source": [
    "a = 3"
   ]
  },
  {
   "cell_type": "code",
   "execution_count": 174,
   "id": "e752eb29-ac64-4152-abce-534666e62f0a",
   "metadata": {},
   "outputs": [
    {
     "data": {
      "text/plain": [
       "2099748890992"
      ]
     },
     "execution_count": 174,
     "metadata": {},
     "output_type": "execute_result"
    }
   ],
   "source": [
    "id(3)"
   ]
  },
  {
   "cell_type": "code",
   "execution_count": 175,
   "id": "e8719e95-7e99-4bcf-bc69-680fc1fdfccc",
   "metadata": {},
   "outputs": [],
   "source": [
    "b = a"
   ]
  },
  {
   "cell_type": "code",
   "execution_count": 176,
   "id": "49ae898e-693f-4a2b-983e-e249925e826b",
   "metadata": {},
   "outputs": [
    {
     "data": {
      "text/plain": [
       "True"
      ]
     },
     "execution_count": 176,
     "metadata": {},
     "output_type": "execute_result"
    }
   ],
   "source": [
    "a is b"
   ]
  },
  {
   "cell_type": "code",
   "execution_count": 177,
   "id": "9001e19f-049e-4a30-84be-456c007023d3",
   "metadata": {},
   "outputs": [
    {
     "data": {
      "text/plain": [
       "2099748890992"
      ]
     },
     "execution_count": 177,
     "metadata": {},
     "output_type": "execute_result"
    }
   ],
   "source": [
    "id(b)"
   ]
  },
  {
   "cell_type": "code",
   "execution_count": 178,
   "id": "fbe7216c-84a7-4a32-a626-a9d91c071a7c",
   "metadata": {},
   "outputs": [
    {
     "data": {
      "text/plain": [
       "True"
      ]
     },
     "execution_count": 178,
     "metadata": {},
     "output_type": "execute_result"
    }
   ],
   "source": [
    "id(a) == id(b)"
   ]
  },
  {
   "cell_type": "code",
   "execution_count": 179,
   "id": "a0dc5af8-e8e9-455a-b4ee-2e68f053e347",
   "metadata": {},
   "outputs": [],
   "source": [
    "a = [1, 2, 3]"
   ]
  },
  {
   "cell_type": "code",
   "execution_count": 180,
   "id": "d91a3f69-ffc2-4965-99cb-ed0be51104c4",
   "metadata": {},
   "outputs": [
    {
     "data": {
      "text/plain": [
       "2099864593536"
      ]
     },
     "execution_count": 180,
     "metadata": {},
     "output_type": "execute_result"
    }
   ],
   "source": [
    "id(a)"
   ]
  },
  {
   "cell_type": "code",
   "execution_count": 181,
   "id": "10e4c5fc-bf34-421b-930b-6f1f467c3dfa",
   "metadata": {},
   "outputs": [],
   "source": [
    "b = a"
   ]
  },
  {
   "cell_type": "code",
   "execution_count": 182,
   "id": "a6e50d2c-e28f-4acf-a3b8-5afa93801130",
   "metadata": {},
   "outputs": [
    {
     "data": {
      "text/plain": [
       "2099864593536"
      ]
     },
     "execution_count": 182,
     "metadata": {},
     "output_type": "execute_result"
    }
   ],
   "source": [
    "id(b)"
   ]
  },
  {
   "cell_type": "code",
   "execution_count": 183,
   "id": "10dee1e5-9ebb-499c-bc26-793e5f9ad9b5",
   "metadata": {},
   "outputs": [
    {
     "data": {
      "text/plain": [
       "True"
      ]
     },
     "execution_count": 183,
     "metadata": {},
     "output_type": "execute_result"
    }
   ],
   "source": [
    "a is b"
   ]
  },
  {
   "cell_type": "markdown",
   "id": "697859df-16e2-42b9-9c8b-95495deba6e1",
   "metadata": {},
   "source": [
    "리스트로 값이 구성되어있을때는 이를 참조한 변수도 모두 변경됨"
   ]
  },
  {
   "cell_type": "markdown",
   "id": "11accc41-c219-4b04-aea6-d21196d05672",
   "metadata": {},
   "source": [
    "리스트에서 =는 값을 넣는 것이 아니라, 주소를 공유한다는 뜻"
   ]
  },
  {
   "cell_type": "code",
   "execution_count": 184,
   "id": "30b718d3-93a8-4360-ac3f-6e58ae9c2969",
   "metadata": {},
   "outputs": [],
   "source": [
    "a[0] = 4"
   ]
  },
  {
   "cell_type": "code",
   "execution_count": 185,
   "id": "5404a9b4-d2f3-4273-a90c-fd1c9062f26d",
   "metadata": {},
   "outputs": [
    {
     "data": {
      "text/plain": [
       "[4, 2, 3]"
      ]
     },
     "execution_count": 185,
     "metadata": {},
     "output_type": "execute_result"
    }
   ],
   "source": [
    "a"
   ]
  },
  {
   "cell_type": "code",
   "execution_count": 186,
   "id": "503222f5-8ced-400b-8ccc-d4a132e8d4b6",
   "metadata": {},
   "outputs": [
    {
     "data": {
      "text/plain": [
       "2099864593536"
      ]
     },
     "execution_count": 186,
     "metadata": {},
     "output_type": "execute_result"
    }
   ],
   "source": [
    "id(a)"
   ]
  },
  {
   "cell_type": "code",
   "execution_count": 187,
   "id": "b80be592-8207-40a1-8a53-900476ea316a",
   "metadata": {},
   "outputs": [
    {
     "data": {
      "text/plain": [
       "True"
      ]
     },
     "execution_count": 187,
     "metadata": {},
     "output_type": "execute_result"
    }
   ],
   "source": [
    "id(a) == id(b)"
   ]
  },
  {
   "cell_type": "code",
   "execution_count": 188,
   "id": "4c6b7b32-bde6-4540-afcc-5d8ac7a0422f",
   "metadata": {},
   "outputs": [
    {
     "data": {
      "text/plain": [
       "True"
      ]
     },
     "execution_count": 188,
     "metadata": {},
     "output_type": "execute_result"
    }
   ],
   "source": [
    "a == b"
   ]
  },
  {
   "cell_type": "code",
   "execution_count": 189,
   "id": "6728e2d7-6bcc-44eb-9bb1-f4969585225b",
   "metadata": {},
   "outputs": [
    {
     "data": {
      "text/plain": [
       "[4, 2, 3]"
      ]
     },
     "execution_count": 189,
     "metadata": {},
     "output_type": "execute_result"
    }
   ],
   "source": [
    "b"
   ]
  },
  {
   "cell_type": "markdown",
   "id": "2e69d2e4-9eb4-498d-a3f5-c99e5f62335c",
   "metadata": {},
   "source": [
    "- 원본과는 별개로 해당 값을 복사하고 싶은 경우에는"
   ]
  },
  {
   "cell_type": "markdown",
   "id": "53738a7c-b4a6-4da2-a846-7f080d7548e1",
   "metadata": {},
   "source": [
    "1. Slice 리스트 복사의 경우에는 주소 복사가 아닌 값 복사"
   ]
  },
  {
   "cell_type": "code",
   "execution_count": 190,
   "id": "7cddd9e4-dd70-45cd-9744-4fb977acd0aa",
   "metadata": {},
   "outputs": [
    {
     "data": {
      "text/plain": [
       "[4, 2, 3]"
      ]
     },
     "execution_count": 190,
     "metadata": {},
     "output_type": "execute_result"
    }
   ],
   "source": [
    "b = a[:]\n",
    "b"
   ]
  },
  {
   "cell_type": "code",
   "execution_count": 191,
   "id": "3686cf9f-cd86-4658-95a1-97c213c9f98c",
   "metadata": {},
   "outputs": [
    {
     "data": {
      "text/plain": [
       "[1, 2, 3]"
      ]
     },
     "execution_count": 191,
     "metadata": {},
     "output_type": "execute_result"
    }
   ],
   "source": [
    "a[0] = 1\n",
    "a"
   ]
  },
  {
   "cell_type": "code",
   "execution_count": 192,
   "id": "8188c5e4-8e53-4113-abc3-2718cb4c91bf",
   "metadata": {},
   "outputs": [
    {
     "data": {
      "text/plain": [
       "[4, 2, 3]"
      ]
     },
     "execution_count": 192,
     "metadata": {},
     "output_type": "execute_result"
    }
   ],
   "source": [
    "b"
   ]
  },
  {
   "cell_type": "code",
   "execution_count": 193,
   "id": "d2fb3e89-1bd6-4c6e-840f-4150becb5ca1",
   "metadata": {},
   "outputs": [
    {
     "data": {
      "text/plain": [
       "False"
      ]
     },
     "execution_count": 193,
     "metadata": {},
     "output_type": "execute_result"
    }
   ],
   "source": [
    "a is b"
   ]
  },
  {
   "cell_type": "markdown",
   "id": "ce320897-63ed-47fe-89c5-0a5ac95f2357",
   "metadata": {},
   "source": [
    "2. 리스트 값 복사 (from copy import copy 활용해서)"
   ]
  },
  {
   "cell_type": "code",
   "execution_count": 194,
   "id": "8effc55d-8935-46cd-8c0c-b89cc6b62579",
   "metadata": {},
   "outputs": [],
   "source": [
    "from copy import copy\n",
    "b1 = copy(a)"
   ]
  },
  {
   "cell_type": "code",
   "execution_count": 195,
   "id": "b129bbf5-6d2f-4799-bab4-5496e2dedd7b",
   "metadata": {},
   "outputs": [
    {
     "data": {
      "text/plain": [
       "[1, 2, 3]"
      ]
     },
     "execution_count": 195,
     "metadata": {},
     "output_type": "execute_result"
    }
   ],
   "source": [
    "b1"
   ]
  },
  {
   "cell_type": "code",
   "execution_count": 196,
   "id": "43ecc0fa-ee03-4879-b13e-ed69926e9d4c",
   "metadata": {},
   "outputs": [
    {
     "data": {
      "text/plain": [
       "[4, 2, 3]"
      ]
     },
     "execution_count": 196,
     "metadata": {},
     "output_type": "execute_result"
    }
   ],
   "source": [
    "a[0] = 4\n",
    "a"
   ]
  },
  {
   "cell_type": "code",
   "execution_count": 197,
   "id": "c11b609e-01a7-449b-83a2-b84205fae4d8",
   "metadata": {},
   "outputs": [
    {
     "data": {
      "text/plain": [
       "False"
      ]
     },
     "execution_count": 197,
     "metadata": {},
     "output_type": "execute_result"
    }
   ],
   "source": [
    "a == b1"
   ]
  },
  {
   "cell_type": "markdown",
   "id": "c73fbfdd-9dba-46aa-b024-328e2d8c6249",
   "metadata": {},
   "source": [
    "3. 리스트 안에 리스트형 데이터 복사하고자 할 때는 원본과 사본이 독립적으로 되지 않고, 영향을 미치게 됨 (shallow copy) </br>\n",
    "    슬라이싱해서 복사했다고 해도 관계없이 영향을 미치게 됨"
   ]
  },
  {
   "cell_type": "code",
   "execution_count": 198,
   "id": "9b8a6d07-cdbc-4ef0-a959-f0cedbbe402a",
   "metadata": {},
   "outputs": [],
   "source": [
    "s = [1, 2, 3, [4, 5, 6]]\n",
    "c = s[:]"
   ]
  },
  {
   "cell_type": "code",
   "execution_count": 199,
   "id": "f8aca33b-b9c0-4775-b164-d11be453847c",
   "metadata": {},
   "outputs": [],
   "source": [
    "c[3][0] = \"c\""
   ]
  },
  {
   "cell_type": "code",
   "execution_count": 200,
   "id": "b8467ab5-4207-4d50-b707-a2fde4732065",
   "metadata": {},
   "outputs": [
    {
     "data": {
      "text/plain": [
       "[1, 2, 3, ['c', 5, 6]]"
      ]
     },
     "execution_count": 200,
     "metadata": {},
     "output_type": "execute_result"
    }
   ],
   "source": [
    "c"
   ]
  },
  {
   "cell_type": "code",
   "execution_count": 201,
   "id": "0465dd76-73fa-418a-bc7b-5a911be9b5a7",
   "metadata": {},
   "outputs": [
    {
     "data": {
      "text/plain": [
       "[1, 2, 3, ['c', 5, 6]]"
      ]
     },
     "execution_count": 201,
     "metadata": {},
     "output_type": "execute_result"
    }
   ],
   "source": [
    "s"
   ]
  },
  {
   "cell_type": "markdown",
   "id": "94293f99-f1a1-4e88-b45e-f8617e3ecd1d",
   "metadata": {},
   "source": [
    "4. 원본에 영향을 미치지 않고 copy 하는 경우에는 deepcopy 사용"
   ]
  },
  {
   "cell_type": "code",
   "execution_count": 202,
   "id": "260f200d-f409-4f08-bfd6-d24e00a28b68",
   "metadata": {},
   "outputs": [],
   "source": [
    "import copy\n",
    "s = [1, 2, 3, [4, 5, 6]]\n",
    "c = copy.deepcopy(s)\n"
   ]
  },
  {
   "cell_type": "code",
   "execution_count": 203,
   "id": "1c00d8d2-e330-4df4-921f-10a9a978f83c",
   "metadata": {},
   "outputs": [
    {
     "data": {
      "text/plain": [
       "[1, 2, 3, [4, 5, 6]]"
      ]
     },
     "execution_count": 203,
     "metadata": {},
     "output_type": "execute_result"
    }
   ],
   "source": [
    "s"
   ]
  },
  {
   "cell_type": "code",
   "execution_count": 204,
   "id": "214bccfc-a4d2-4174-94f4-e8855ae9d1e0",
   "metadata": {},
   "outputs": [
    {
     "data": {
      "text/plain": [
       "[1, 2, 3, [4, 5, 6]]"
      ]
     },
     "execution_count": 204,
     "metadata": {},
     "output_type": "execute_result"
    }
   ],
   "source": [
    "c"
   ]
  },
  {
   "cell_type": "code",
   "execution_count": 205,
   "id": "1e5ab61e-f1d7-405b-9dd0-df60854d3192",
   "metadata": {},
   "outputs": [
    {
     "data": {
      "text/plain": [
       "[1, 2, 3, [1]]"
      ]
     },
     "execution_count": 205,
     "metadata": {},
     "output_type": "execute_result"
    }
   ],
   "source": [
    "s[3] = [1]\n",
    "s"
   ]
  },
  {
   "cell_type": "code",
   "execution_count": 206,
   "id": "99d37684-013d-47b8-9589-0eb53a673575",
   "metadata": {},
   "outputs": [
    {
     "data": {
      "text/plain": [
       "[1, 2, 3, [4, 5, 6]]"
      ]
     },
     "execution_count": 206,
     "metadata": {},
     "output_type": "execute_result"
    }
   ],
   "source": [
    "c"
   ]
  },
  {
   "cell_type": "markdown",
   "id": "8077b185-2fba-4557-a8bf-a13125feb53c",
   "metadata": {},
   "source": [
    "s에 할당된 주소와 c에 할당된 주소가 같은지?"
   ]
  },
  {
   "cell_type": "code",
   "execution_count": 208,
   "id": "a28d7439-521a-426e-8b38-dbceb30931da",
   "metadata": {},
   "outputs": [
    {
     "data": {
      "text/plain": [
       "False"
      ]
     },
     "execution_count": 208,
     "metadata": {},
     "output_type": "execute_result"
    }
   ],
   "source": [
    "s is c"
   ]
  },
  {
   "cell_type": "code",
   "execution_count": 209,
   "id": "0b4f644e-d556-435e-8f69-6899155abb35",
   "metadata": {},
   "outputs": [
    {
     "data": {
      "text/plain": [
       "True"
      ]
     },
     "execution_count": 209,
     "metadata": {},
     "output_type": "execute_result"
    }
   ],
   "source": [
    "s is not c"
   ]
  },
  {
   "cell_type": "code",
   "execution_count": 210,
   "id": "ced12275-2bf8-4d02-98cb-fbdc054a6154",
   "metadata": {},
   "outputs": [],
   "source": [
    "a = [1, 2, 3]\n",
    "b = [1, 2, 3]"
   ]
  },
  {
   "cell_type": "code",
   "execution_count": 211,
   "id": "ab10d1e5-af3f-40f1-83f9-9813109cecc1",
   "metadata": {},
   "outputs": [
    {
     "data": {
      "text/plain": [
       "False"
      ]
     },
     "execution_count": 211,
     "metadata": {},
     "output_type": "execute_result"
    }
   ],
   "source": [
    "a is b"
   ]
  },
  {
   "cell_type": "code",
   "execution_count": 212,
   "id": "c6e266cf-e93e-4ad4-9f74-a1a57117c7a7",
   "metadata": {},
   "outputs": [
    {
     "data": {
      "text/plain": [
       "True"
      ]
     },
     "execution_count": 212,
     "metadata": {},
     "output_type": "execute_result"
    }
   ],
   "source": [
    "a = b = [1, 2, 3]\n",
    "a is b"
   ]
  },
  {
   "cell_type": "markdown",
   "id": "2e01f600-e926-4830-b2b2-11eecf9d0fdd",
   "metadata": {},
   "source": [
    "슬라이스 복사는 원본과 사본이 별개임"
   ]
  },
  {
   "cell_type": "code",
   "execution_count": 213,
   "id": "6f120358-d004-4c72-a4f3-4f5aea1dbcae",
   "metadata": {},
   "outputs": [],
   "source": [
    "a = [1, 2, 3]\n",
    "b = a[:]"
   ]
  },
  {
   "cell_type": "code",
   "execution_count": 214,
   "id": "56155f45-cb9b-4b62-9e30-d808754eda2b",
   "metadata": {},
   "outputs": [
    {
     "data": {
      "text/plain": [
       "False"
      ]
     },
     "execution_count": 214,
     "metadata": {},
     "output_type": "execute_result"
    }
   ],
   "source": [
    "a is b"
   ]
  },
  {
   "cell_type": "code",
   "execution_count": 215,
   "id": "e20a5f38-f075-481c-946b-e5314a60eafb",
   "metadata": {},
   "outputs": [
    {
     "data": {
      "text/plain": [
       "[1, 4, 3]"
      ]
     },
     "execution_count": 215,
     "metadata": {},
     "output_type": "execute_result"
    }
   ],
   "source": [
    "a[1] = 4\n",
    "a"
   ]
  },
  {
   "cell_type": "code",
   "execution_count": 216,
   "id": "c3ec0a33-195f-437f-af60-2d03543019c0",
   "metadata": {},
   "outputs": [
    {
     "data": {
      "text/plain": [
       "[1, 2, 3]"
      ]
     },
     "execution_count": 216,
     "metadata": {},
     "output_type": "execute_result"
    }
   ],
   "source": [
    "b"
   ]
  },
  {
   "cell_type": "markdown",
   "id": "f3d945c0-7e90-47c5-87ec-f308738f6ffa",
   "metadata": {},
   "source": [
    "'+' 사용하면, 메모리 주소가 변경됨"
   ]
  },
  {
   "cell_type": "code",
   "execution_count": 220,
   "id": "2ad22646-1cf1-4d60-9df8-93a6408c50b7",
   "metadata": {},
   "outputs": [
    {
     "data": {
      "text/plain": [
       "2099864592448"
      ]
     },
     "execution_count": 220,
     "metadata": {},
     "output_type": "execute_result"
    }
   ],
   "source": [
    "a = [1, 2, 3]\n",
    "id(a)"
   ]
  },
  {
   "cell_type": "code",
   "execution_count": 221,
   "id": "388a2bd3-ad87-43fd-a3dc-b9c17883867a",
   "metadata": {},
   "outputs": [],
   "source": [
    "a = a + [4, 5]"
   ]
  },
  {
   "cell_type": "code",
   "execution_count": 222,
   "id": "edb2e642-bde6-4e28-8fe4-c52c4802c4e7",
   "metadata": {},
   "outputs": [
    {
     "data": {
      "text/plain": [
       "2099863604672"
      ]
     },
     "execution_count": 222,
     "metadata": {},
     "output_type": "execute_result"
    }
   ],
   "source": [
    "id(a)"
   ]
  },
  {
   "cell_type": "markdown",
   "id": "5f29e6bd-7898-4082-a355-524556efc45f",
   "metadata": {},
   "source": [
    ".extend()사용하면, 메모리 주소가 동일함"
   ]
  },
  {
   "cell_type": "code",
   "execution_count": 223,
   "id": "ee735f29-d80f-4ccf-b7b3-a9c2ec765e80",
   "metadata": {},
   "outputs": [
    {
     "data": {
      "text/plain": [
       "2099863602688"
      ]
     },
     "execution_count": 223,
     "metadata": {},
     "output_type": "execute_result"
    }
   ],
   "source": [
    "a1 = [1, 2, 3]\n",
    "id(a1)"
   ]
  },
  {
   "cell_type": "code",
   "execution_count": 224,
   "id": "b790ed95-9190-47a7-a219-c02d4e6a8e9b",
   "metadata": {},
   "outputs": [
    {
     "data": {
      "text/plain": [
       "2099863602688"
      ]
     },
     "execution_count": 224,
     "metadata": {},
     "output_type": "execute_result"
    }
   ],
   "source": [
    "a1.extend([4, 5])\n",
    "id(a1)"
   ]
  },
  {
   "cell_type": "code",
   "execution_count": 229,
   "id": "4344627a-a892-4648-a2d8-b0f0856ab3ef",
   "metadata": {},
   "outputs": [],
   "source": [
    "a = [1, [2, 3], 4]"
   ]
  },
  {
   "cell_type": "code",
   "execution_count": 230,
   "id": "2fb3486f-ae6e-4755-96ab-4b5ea22b503a",
   "metadata": {},
   "outputs": [],
   "source": [
    "b = a[:]"
   ]
  },
  {
   "cell_type": "code",
   "execution_count": 231,
   "id": "a029352a-da2f-4bfb-85a2-e196777a0653",
   "metadata": {},
   "outputs": [],
   "source": [
    "a[1][0] = 5"
   ]
  },
  {
   "cell_type": "code",
   "execution_count": 232,
   "id": "40188117-0b09-4257-963c-9fd1a3ecc47b",
   "metadata": {},
   "outputs": [
    {
     "data": {
      "text/plain": [
       "[1, [5, 3], 4]"
      ]
     },
     "execution_count": 232,
     "metadata": {},
     "output_type": "execute_result"
    }
   ],
   "source": [
    "a"
   ]
  },
  {
   "cell_type": "code",
   "execution_count": 234,
   "id": "9c2094e5-4bba-445a-8cbd-97fe59d267c2",
   "metadata": {},
   "outputs": [
    {
     "data": {
      "text/plain": [
       "[1, [5, 3], 4]"
      ]
     },
     "execution_count": 234,
     "metadata": {},
     "output_type": "execute_result"
    }
   ],
   "source": [
    "b"
   ]
  },
  {
   "cell_type": "code",
   "execution_count": 233,
   "id": "f67805ba-59f3-4168-b401-8bfa4de919e4",
   "metadata": {},
   "outputs": [
    {
     "data": {
      "text/plain": [
       "False"
      ]
     },
     "execution_count": 233,
     "metadata": {},
     "output_type": "execute_result"
    }
   ],
   "source": [
    "a is b"
   ]
  },
  {
   "cell_type": "markdown",
   "id": "16b7ce58-f951-43d2-8efe-cba07a9ac939",
   "metadata": {},
   "source": [
    "# 제어문: 반복문과 if문 (조건문)"
   ]
  },
  {
   "cell_type": "markdown",
   "id": "824f6c71-8edf-44fd-88a2-5de9188d5850",
   "metadata": {},
   "source": [
    "control 가능"
   ]
  },
  {
   "cell_type": "markdown",
   "id": "a0ccdbec-84cb-4d0c-bc94-52917600036a",
   "metadata": {},
   "source": [
    "조건문 (분기문): 조건에 따라 실행"
   ]
  },
  {
   "cell_type": "markdown",
   "id": "4307db6e-0aec-4765-90b2-6163d5403993",
   "metadata": {},
   "source": [
    "분기문: </br>\n",
    "    1. 한가지 조건 분기문: if, else </br>\n",
    "    2. 두가지 이상 조건 분기문: if, elif, else </br>\n",
    "    3. if else 분기문 안에 if else문: nested if statements </br>"
   ]
  },
  {
   "cell_type": "markdown",
   "id": "538f1180-604f-4ddf-89cd-4abbeb45aba6",
   "metadata": {},
   "source": [
    "while문 사용 시 주의 (break 사용 필수)"
   ]
  },
  {
   "cell_type": "markdown",
   "id": "b905cf72-9595-4fb3-9602-99753c773fc0",
   "metadata": {},
   "source": [
    "반복문: </br>\n",
    "    1. 조건이 참인 동안 반복: while </br>\n",
    "    2. 순서열의 처음부터 끝까지 반복: for </br>\n",
    "    3. 조건이 참이면 반복문 계속: countinue </br>\n",
    "    4. 조건이 참이면 반복문 중단: break </br>"
   ]
  },
  {
   "cell_type": "markdown",
   "id": "c5b45051-9412-4ff2-be4e-1376d059b303",
   "metadata": {},
   "source": [
    "if 조건문 예시>"
   ]
  },
  {
   "cell_type": "code",
   "execution_count": 237,
   "id": "23d600f9-eda2-4e31-8f02-48b1f15b50f3",
   "metadata": {},
   "outputs": [
    {
     "name": "stdin",
     "output_type": "stream",
     "text": [
      "귀하의 연령은 몇 세이신가요? 22\n"
     ]
    }
   ],
   "source": [
    "age = int(input(\"귀하의 연령은 몇 세이신가요?\"))"
   ]
  },
  {
   "cell_type": "code",
   "execution_count": 239,
   "id": "83ded0aa-de8f-4086-9455-2bd1bb5943da",
   "metadata": {},
   "outputs": [
    {
     "name": "stdout",
     "output_type": "stream",
     "text": [
      "청소년 할인이 불가능합니다\n"
     ]
    }
   ],
   "source": [
    "if age < 20 :\n",
    "    print(\"청소년 할인\")\n",
    "else:\n",
    "    print(\"청소년 할인이 불가능합니다\")"
   ]
  },
  {
   "cell_type": "code",
   "execution_count": 242,
   "id": "da227a46-65aa-4ac1-9231-b9e58a7c5ae5",
   "metadata": {},
   "outputs": [
    {
     "name": "stdin",
     "output_type": "stream",
     "text": [
      "귀하가 오늘 걸은 총 걸음수는 몇인가요? 10000\n"
     ]
    },
    {
     "name": "stdout",
     "output_type": "stream",
     "text": [
      "목표 달성\n"
     ]
    }
   ],
   "source": [
    "walk_count = int(input(\"귀하가 오늘 걸은 총 걸음수는 몇인가요?\")) \n",
    "\n",
    "if walk_count >= 10000:\n",
    "    print(\"목표 달성\")\n",
    "else:\n",
    "    print(\"목표 달성 못함\")"
   ]
  },
  {
   "cell_type": "markdown",
   "id": "6eac3572-5205-4ede-865d-04887e16091e",
   "metadata": {},
   "source": [
    "참일때, 거짓일때에 대해 결과값 출력 안됨"
   ]
  },
  {
   "cell_type": "code",
   "execution_count": 240,
   "id": "77ac1676-35e0-4f29-a98b-639f1d860ad0",
   "metadata": {},
   "outputs": [],
   "source": [
    "num_a=100; num_b=200\n",
    "if num_a == num_b:\n",
    "    print(\"동일합니다\")\n",
    "    print(\"수고하셨습니다\")"
   ]
  },
  {
   "cell_type": "markdown",
   "id": "87934a44-5784-49ae-b978-449554e35ba3",
   "metadata": {},
   "source": [
    "참일때, 거짓일때에 대해 결과값 출력됨"
   ]
  },
  {
   "cell_type": "code",
   "execution_count": 241,
   "id": "4e46c02b-aa5a-43d0-ab43-4a49aefbcf64",
   "metadata": {},
   "outputs": [
    {
     "name": "stdout",
     "output_type": "stream",
     "text": [
      "수고하셨습니다\n"
     ]
    }
   ],
   "source": [
    "if num_a == num_b:\n",
    "    print(\"동일합니다\")\n",
    "print(\"수고하셨습니다\")"
   ]
  },
  {
   "cell_type": "markdown",
   "id": "f88609ea-7a6e-4695-8f00-5858783ca888",
   "metadata": {},
   "source": [
    "문제 1"
   ]
  },
  {
   "cell_type": "code",
   "execution_count": 248,
   "id": "7fd7a555-31f3-4adb-9f23-978000b46bb9",
   "metadata": {},
   "outputs": [
    {
     "name": "stdin",
     "output_type": "stream",
     "text": [
      "정수를 입력하세요 :  50\n"
     ]
    },
    {
     "name": "stdout",
     "output_type": "stream",
     "text": [
      "n =  50\n",
      "50 은(는) 짝수입니다.\n"
     ]
    }
   ],
   "source": [
    "n = int(input(\"정수를 입력하세요 : \"))\n",
    "print(\"n = \",n)\n",
    "if n % 2 == 0:\n",
    "    print(n, \"은(는) 짝수입니다.\")\n",
    "else:\n",
    "    print(n, \"은(는) 짝수가 아닙니다.\")"
   ]
  },
  {
   "cell_type": "code",
   "execution_count": 252,
   "id": "dd6b6d73-57ac-4420-9e63-9207afda77c2",
   "metadata": {},
   "outputs": [
    {
     "name": "stdin",
     "output_type": "stream",
     "text": [
      "정수를 입력하세요 :  50\n"
     ]
    },
    {
     "name": "stdout",
     "output_type": "stream",
     "text": [
      "n = 50\n",
      "짝수입니다.\n"
     ]
    }
   ],
   "source": [
    "n = int(input(\"정수를 입력하세요 : \"))\n",
    "print(\"n =\", n)\n",
    "if n % 2 == 0:\n",
    "    print(\"짝수입니다.\")"
   ]
  },
  {
   "cell_type": "markdown",
   "id": "6c753d8e-5667-4e9b-9698-cb2fe9797af2",
   "metadata": {},
   "source": [
    "- 파이썬의 들여쓰기"
   ]
  },
  {
   "cell_type": "markdown",
   "id": "cc8fc9ec-46d2-40c2-89ce-71f22fc03d5e",
   "metadata": {},
   "source": [
    "변수에 할당된 값이 조건문에 부합하는 경우"
   ]
  },
  {
   "cell_type": "markdown",
   "id": "c559895d-58ac-427b-be1e-72912a68d868",
   "metadata": {},
   "source": [
    "들여쓰기된 블록 전체가 수행됨"
   ]
  },
  {
   "cell_type": "code",
   "execution_count": 253,
   "id": "16e29774-51f0-4bd3-afa6-0c51b54c1c52",
   "metadata": {},
   "outputs": [
    {
     "name": "stdout",
     "output_type": "stream",
     "text": [
      "나이 18\n",
      "청소년 환영\n",
      "청소년 할인\n"
     ]
    }
   ],
   "source": [
    "age = 18\n",
    "if age < 20:\n",
    "    print('나이', age)\n",
    "    print('청소년 환영')\n",
    "    print('청소년 할인')"
   ]
  },
  {
   "cell_type": "markdown",
   "id": "92291514-fd67-41ec-ad05-11c46758e1ae",
   "metadata": {},
   "source": [
    "변수에 할당된 값이 조건문에 부합하지 않는 경우"
   ]
  },
  {
   "cell_type": "markdown",
   "id": "e2bb5d5d-f166-4d92-8d36-fa2a3df494ed",
   "metadata": {},
   "source": [
    "들여쓰기된 블록 전체가 수행되지 않음"
   ]
  },
  {
   "cell_type": "code",
   "execution_count": 254,
   "id": "5297932e-113f-4259-ab67-76d86818e359",
   "metadata": {},
   "outputs": [],
   "source": [
    "age = 24\n",
    "if age < 20:\n",
    "    print('나이', age)\n",
    "    print('청소년 환영')\n",
    "    print('청소년 할인')"
   ]
  },
  {
   "cell_type": "code",
   "execution_count": null,
   "id": "fba7e956-84e5-48bf-a84c-c998a08a01e1",
   "metadata": {},
   "outputs": [],
   "source": [
    "a = 10\n",
    "b = 14\n",
    "if (a % 2 == 0) and (b % 2 == 0):\n",
    "     "
   ]
  },
  {
   "cell_type": "markdown",
   "id": "e71751d7-3da6-4824-8e02-54dd429ba242",
   "metadata": {},
   "source": [
    "문제 1"
   ]
  },
  {
   "cell_type": "code",
   "execution_count": 256,
   "id": "3a29c93f-7332-437f-ba47-73cd17661719",
   "metadata": {},
   "outputs": [
    {
     "name": "stdout",
     "output_type": "stream",
     "text": [
      "True\n"
     ]
    }
   ],
   "source": [
    "num = 2\n",
    "if num >= 1 and num <= 10:\n",
    "    print(True)"
   ]
  },
  {
   "cell_type": "markdown",
   "id": "51777c06-7dc7-44e3-85e0-786967184e7f",
   "metadata": {},
   "source": [
    "문제 2"
   ]
  },
  {
   "cell_type": "code",
   "execution_count": 258,
   "id": "fa4f50a7-79c6-4416-88af-23db85345cf0",
   "metadata": {},
   "outputs": [
    {
     "name": "stdout",
     "output_type": "stream",
     "text": [
      "청소년이 아닙니다.\n"
     ]
    }
   ],
   "source": [
    "age = 10\n",
    "if age > 10 and age < 19:\n",
    "    print(\"청소년입니다\")\n",
    "else:\n",
    "    print(\"청소년이 아닙니다.\")"
   ]
  },
  {
   "cell_type": "markdown",
   "id": "cd2caa51-e13d-4f14-b5d3-9d3de00b21f5",
   "metadata": {},
   "source": [
    "- range() 함수"
   ]
  },
  {
   "cell_type": "code",
   "execution_count": 259,
   "id": "1cbb327f-0241-4983-9fe3-029aefbff40b",
   "metadata": {},
   "outputs": [
    {
     "ename": "TypeError",
     "evalue": "range expected at least 1 argument, got 0",
     "output_type": "error",
     "traceback": [
      "\u001b[1;31m---------------------------------------------------------------------------\u001b[0m",
      "\u001b[1;31mTypeError\u001b[0m                                 Traceback (most recent call last)",
      "Input \u001b[1;32mIn [259]\u001b[0m, in \u001b[0;36m<cell line: 1>\u001b[1;34m()\u001b[0m\n\u001b[1;32m----> 1\u001b[0m \u001b[38;5;28;43mrange\u001b[39;49m\u001b[43m(\u001b[49m\u001b[43m)\u001b[49m\n",
      "\u001b[1;31mTypeError\u001b[0m: range expected at least 1 argument, got 0"
     ]
    }
   ],
   "source": [
    "range()"
   ]
  },
  {
   "cell_type": "code",
   "execution_count": 260,
   "id": "0df4b038-20ec-4df0-ade8-da397809bf5d",
   "metadata": {},
   "outputs": [
    {
     "data": {
      "text/plain": [
       "range(0, 10)"
      ]
     },
     "execution_count": 260,
     "metadata": {},
     "output_type": "execute_result"
    }
   ],
   "source": [
    "range(10)"
   ]
  },
  {
   "cell_type": "code",
   "execution_count": 261,
   "id": "62769f82-9ac9-48f7-9364-f0efb13f0ea7",
   "metadata": {},
   "outputs": [
    {
     "name": "stdout",
     "output_type": "stream",
     "text": [
      "range(0, 10)\n"
     ]
    }
   ],
   "source": [
    "print(range(10))"
   ]
  },
  {
   "cell_type": "markdown",
   "id": "f4d9b93b-7cff-4ce1-a7bc-fb1505f7483d",
   "metadata": {},
   "source": [
    "- range()에서 음수값으로 gap을 두는 경우, 마지막 값 + 1으로 뱉어냄"
   ]
  },
  {
   "cell_type": "code",
   "execution_count": 264,
   "id": "73aa3523-fad0-4c51-b953-32d354b75f50",
   "metadata": {},
   "outputs": [],
   "source": [
    "z = range(10,1,-2)"
   ]
  },
  {
   "cell_type": "code",
   "execution_count": 265,
   "id": "ec351d77-05d2-423d-878e-b72ce5f50277",
   "metadata": {},
   "outputs": [
    {
     "data": {
      "text/plain": [
       "range(10, 1, -2)"
      ]
     },
     "execution_count": 265,
     "metadata": {},
     "output_type": "execute_result"
    }
   ],
   "source": [
    "z"
   ]
  },
  {
   "cell_type": "markdown",
   "id": "3f76ad18-bf3c-4eb4-9f51-b2530d655277",
   "metadata": {},
   "source": [
    "- if(), elif(), else()"
   ]
  },
  {
   "cell_type": "markdown",
   "id": "252c97e0-5b18-4adf-821d-0bd6559751e0",
   "metadata": {},
   "source": [
    "문제 1"
   ]
  },
  {
   "cell_type": "code",
   "execution_count": 270,
   "id": "98ed4ddd-9f2c-43f5-a6c9-96d1cd6c0fdf",
   "metadata": {},
   "outputs": [
    {
     "name": "stdin",
     "output_type": "stream",
     "text": [
      "점수를 입력하세요 :  100\n"
     ]
    },
    {
     "name": "stdout",
     "output_type": "stream",
     "text": [
      "당신의 등급은 :  A\n"
     ]
    }
   ],
   "source": [
    "score = int(input(\"점수를 입력하세요 : \"))\n",
    "if score >= 90:\n",
    "    grade = 'A'\n",
    "elif score >= 80:\n",
    "    grade = 'B'\n",
    "elif score >= 70:\n",
    "    grade = 'C'\n",
    "elif score >= 60:\n",
    "    grade = 'D'\n",
    "elif score >= 50:\n",
    "    grade = 'E'\n",
    "else:\n",
    "    grade = 'F'\n",
    "print(\"당신의 등급은 : \", grade)"
   ]
  },
  {
   "cell_type": "markdown",
   "id": "96df08ef-192d-486d-b846-1f0703cec6f1",
   "metadata": {},
   "source": [
    "문제 2"
   ]
  },
  {
   "cell_type": "code",
   "execution_count": 272,
   "id": "0010820f-b75e-4d8b-b119-627934d92bc1",
   "metadata": {},
   "outputs": [
    {
     "name": "stdin",
     "output_type": "stream",
     "text": [
      "자동차의 속도를 입력하세요(단위 : km/h ):  13\n"
     ]
    },
    {
     "name": "stdout",
     "output_type": "stream",
     "text": [
      "저속\n"
     ]
    }
   ],
   "source": [
    "speed = int(input(\"자동차의 속도를 입력하세요(단위 : km/h ): \"))\n",
    "if speed >= 100:\n",
    "    print('고속')\n",
    "elif speed >= 60:\n",
    "    print('중속')\n",
    "else:\n",
    "    print('저속')"
   ]
  },
  {
   "cell_type": "code",
   "execution_count": 273,
   "id": "4ea5b397-2c22-4026-bf96-b81958262152",
   "metadata": {},
   "outputs": [
    {
     "name": "stdin",
     "output_type": "stream",
     "text": [
      "자동차의 속도를 입력하세요(단위 : km/h ):  130\n"
     ]
    },
    {
     "name": "stdout",
     "output_type": "stream",
     "text": [
      "고속\n"
     ]
    }
   ],
   "source": [
    "speed = int(input(\"자동차의 속도를 입력하세요(단위 : km/h ): \"))\n",
    "if speed >= 100:\n",
    "    print('고속')\n",
    "elif speed >= 60:\n",
    "    print('중속')\n",
    "else:\n",
    "    print('저속')"
   ]
  },
  {
   "cell_type": "markdown",
   "id": "f2623b10-595a-454c-ac58-6ff4a6b1c0cd",
   "metadata": {},
   "source": [
    "문제 3"
   ]
  },
  {
   "cell_type": "code",
   "execution_count": 275,
   "id": "772e1a6f-ed34-4589-af3a-86dd5eb090ca",
   "metadata": {},
   "outputs": [
    {
     "name": "stdout",
     "output_type": "stream",
     "text": [
      "걸어가라\n"
     ]
    }
   ],
   "source": [
    "money = 2000\n",
    "card = False\n",
    "if money >= 3000 or card:  # money가 3000 이상이거나 카드가 True면\n",
    "    print(\"택시를 타고 가라\")\n",
    "else:\n",
    "    print(\"걸어가라\")"
   ]
  },
  {
   "cell_type": "markdown",
   "id": "1e9e7067-eac0-4439-b855-536d3f807ec7",
   "metadata": {},
   "source": [
    "문제 4"
   ]
  },
  {
   "cell_type": "code",
   "execution_count": 276,
   "id": "2ea0ad60-b3ba-4bc7-bc0c-0d287be455fe",
   "metadata": {},
   "outputs": [
    {
     "name": "stdout",
     "output_type": "stream",
     "text": [
      "택시를 타고 가라\n"
     ]
    }
   ],
   "source": [
    "pocket = ['paper', 'cellphone', 'money']\n",
    "if 'money' in pocket:\n",
    "    print(\"택시를 타고 가라\")\n",
    "else:\n",
    "    print(\"걸어가라\")"
   ]
  },
  {
   "cell_type": "markdown",
   "id": "ef2dad64-d8fd-46fb-b469-864f7f1139ea",
   "metadata": {},
   "source": [
    "문제 5"
   ]
  },
  {
   "cell_type": "code",
   "execution_count": 278,
   "id": "7ac2c72b-85b3-4b88-9910-97feb782a527",
   "metadata": {},
   "outputs": [
    {
     "name": "stdout",
     "output_type": "stream",
     "text": [
      "버스를 타고가라\n"
     ]
    }
   ],
   "source": [
    "money = 2000\n",
    "if 'money' in pocket:\n",
    "    if money <= 500:\n",
    "        pass  # pass에 해당하는 경우에는, 아무런 값도 반환해주지 않음\n",
    "    else:\n",
    "        print(\"버스를 타고가라\")\n",
    "elif 'card' in pocket:\n",
    "    print(\"택시를 타고가라\")\n",
    "else:\n",
    "    print(\"걸어가라\")"
   ]
  },
  {
   "cell_type": "code",
   "execution_count": 281,
   "id": "0ff318f9-300c-498c-a04f-46a152875fa4",
   "metadata": {},
   "outputs": [
    {
     "name": "stdin",
     "output_type": "stream",
     "text": [
      "점수를 입력하세요 :  60\n"
     ]
    },
    {
     "ename": "TypeError",
     "evalue": "'message' is an invalid keyword argument for print()",
     "output_type": "error",
     "traceback": [
      "\u001b[1;31m---------------------------------------------------------------------------\u001b[0m",
      "\u001b[1;31mTypeError\u001b[0m                                 Traceback (most recent call last)",
      "Input \u001b[1;32mIn [281]\u001b[0m, in \u001b[0;36m<cell line: 2>\u001b[1;34m()\u001b[0m\n\u001b[0;32m      1\u001b[0m score \u001b[38;5;241m=\u001b[39m \u001b[38;5;28mint\u001b[39m(\u001b[38;5;28minput\u001b[39m(\u001b[38;5;124m\"\u001b[39m\u001b[38;5;124m점수를 입력하세요 : \u001b[39m\u001b[38;5;124m\"\u001b[39m))\n\u001b[0;32m      2\u001b[0m \u001b[38;5;28;01mif\u001b[39;00m score \u001b[38;5;241m>\u001b[39m\u001b[38;5;241m=\u001b[39m \u001b[38;5;241m60\u001b[39m:\n\u001b[1;32m----> 3\u001b[0m     \u001b[38;5;28;43mprint\u001b[39;49m\u001b[43m(\u001b[49m\u001b[43mmessage\u001b[49m\u001b[43m \u001b[49m\u001b[38;5;241;43m=\u001b[39;49m\u001b[43m \u001b[49m\u001b[38;5;124;43m\"\u001b[39;49m\u001b[38;5;124;43msuccess\u001b[39;49m\u001b[38;5;124;43m\"\u001b[39;49m\u001b[43m)\u001b[49m\n\u001b[0;32m      4\u001b[0m \u001b[38;5;28;01melse\u001b[39;00m:\n\u001b[0;32m      5\u001b[0m     \u001b[38;5;28mprint\u001b[39m(message \u001b[38;5;241m=\u001b[39m \u001b[38;5;124m\"\u001b[39m\u001b[38;5;124mfailure\u001b[39m\u001b[38;5;124m\"\u001b[39m)\n",
      "\u001b[1;31mTypeError\u001b[0m: 'message' is an invalid keyword argument for print()"
     ]
    }
   ],
   "source": [
    "score = int(input(\"점수를 입력하세요 : \"))\n",
    "if score >= 60:\n",
    "    message = \"success\"\n",
    "else:\n",
    "    message = \"failure\""
   ]
  },
  {
   "cell_type": "code",
   "execution_count": 286,
   "id": "e0786ed8-dd14-4781-b318-6892ae1d7523",
   "metadata": {},
   "outputs": [],
   "source": [
    "message = \"success\" if score >= 60 else \"failure\""
   ]
  },
  {
   "cell_type": "markdown",
   "id": "d8797f4a-f283-4e7a-84cc-538e8dd397d7",
   "metadata": {},
   "source": [
    "문제 1"
   ]
  },
  {
   "cell_type": "code",
   "execution_count": 283,
   "id": "956679f2-2d24-47e9-bba6-44d0ef4af71d",
   "metadata": {},
   "outputs": [
    {
     "name": "stdout",
     "output_type": "stream",
     "text": [
      "홍길동씨는 택시를 탈 수 있습니다\n"
     ]
    }
   ],
   "source": [
    "money = 5000\n",
    "card = False\n",
    "if money >= 4000 or card:\n",
    "    print(\"홍길동씨는 택시를 탈 수 있습니다\")\n",
    "else:\n",
    "    print(\"홍길동씨는 택시를 탈 수 없습니다\")"
   ]
  },
  {
   "cell_type": "markdown",
   "id": "fb4c5cf5-24d7-4ce7-9728-4fdd5d34c690",
   "metadata": {},
   "source": [
    "문제 2"
   ]
  },
  {
   "cell_type": "code",
   "execution_count": 284,
   "id": "1f37aecc-7c69-4130-bbed-11f04e7a95f3",
   "metadata": {},
   "outputs": [],
   "source": [
    "lucky_list = [1, 9, 23, 46]"
   ]
  },
  {
   "cell_type": "code",
   "execution_count": 285,
   "id": "cf130e6e-fd54-4312-a4c5-7e5cdc234860",
   "metadata": {},
   "outputs": [
    {
     "name": "stdout",
     "output_type": "stream",
     "text": [
      "야호\n"
     ]
    }
   ],
   "source": [
    "if 23 in lucky_list:\n",
    "    print(\"야호\")\n",
    "else:\n",
    "    print(\"꽝\")"
   ]
  },
  {
   "cell_type": "markdown",
   "id": "11a1a20b-4929-4150-ab99-bbbebbffef41",
   "metadata": {},
   "source": [
    "문제 3"
   ]
  },
  {
   "cell_type": "code",
   "execution_count": 287,
   "id": "fb2b62e9-1006-496d-b237-23d5d93343d2",
   "metadata": {},
   "outputs": [
    {
     "name": "stdout",
     "output_type": "stream",
     "text": [
      "NO\n"
     ]
    }
   ],
   "source": [
    "age1 = 30\n",
    "height = 180\n",
    "if age1 < 30 and height >= 175:\n",
    "    print(\"YES\")\n",
    "else:\n",
    "    print(\"NO\")"
   ]
  },
  {
   "cell_type": "markdown",
   "id": "9c0a2fab-c22f-4256-9e0d-ddf776497949",
   "metadata": {},
   "source": [
    "딕셔너리 형태에서 가져와서 계산"
   ]
  },
  {
   "cell_type": "code",
   "execution_count": 289,
   "id": "924fad03-1e41-4632-96b3-96f9dbb36bb9",
   "metadata": {},
   "outputs": [],
   "source": [
    "age2 = {'나이': 30, '키': 180}"
   ]
  },
  {
   "cell_type": "code",
   "execution_count": 290,
   "id": "8983bc44-ea79-401e-b3d5-a1adbebd8e92",
   "metadata": {},
   "outputs": [
    {
     "name": "stdout",
     "output_type": "stream",
     "text": [
      "NO\n"
     ]
    }
   ],
   "source": [
    "if age2['나이'] < 30 and age2['키'] >= 175:\n",
    "    print(\"YES\")\n",
    "else:\n",
    "    print(\"NO\")"
   ]
  },
  {
   "cell_type": "markdown",
   "id": "2ca3f7ce-0db9-4327-88d0-48ae1b7f550b",
   "metadata": {},
   "source": [
    "문자열 형태에서 가져와서 계산 (슬라이싱)"
   ]
  },
  {
   "cell_type": "code",
   "execution_count": 307,
   "id": "dff42b77-f669-4a92-b965-99a70a7ff6bc",
   "metadata": {},
   "outputs": [
    {
     "name": "stdout",
     "output_type": "stream",
     "text": [
      "NO\n"
     ]
    }
   ],
   "source": [
    "if int(age3[3:5]) < 30 and int(age3[8:11]) >= 175:\n",
    "    print(\"YES\")\n",
    "else:\n",
    "    print(\"NO\")"
   ]
  },
  {
   "cell_type": "markdown",
   "id": "ff5d3746-ef3a-4b24-96cf-69c8d23b331a",
   "metadata": {},
   "source": [
    "문제 4"
   ]
  },
  {
   "cell_type": "code",
   "execution_count": 288,
   "id": "5ba893be-5fb3-44ed-826d-2bbdbe5f07f7",
   "metadata": {},
   "outputs": [
    {
     "name": "stdout",
     "output_type": "stream",
     "text": [
      "shirt\n"
     ]
    }
   ],
   "source": [
    "a = \"Life is too short, you need python\"\n",
    "if 'wife' in a:\n",
    "    print('wife')\n",
    "elif 'python' in a and 'you' not in a:\n",
    "    print('python')\n",
    "elif 'shirt' not in a:\n",
    "    print('shirt')\n",
    "elif 'need' in a:\n",
    "    print('need')\n",
    "else:\n",
    "    print('none')"
   ]
  },
  {
   "cell_type": "markdown",
   "id": "ec889b12-c20f-40f1-97c1-f1bcea273c59",
   "metadata": {},
   "source": [
    "- while <조건문> 무한반복 빠질 수 있으니 주의; 가능한 한 for문으로 코드 작성하기"
   ]
  },
  {
   "cell_type": "code",
   "execution_count": 309,
   "id": "f108bc81-66a5-4273-83a8-0a6de4d283d8",
   "metadata": {},
   "outputs": [
    {
     "name": "stdout",
     "output_type": "stream",
     "text": [
      "Welcome to Python, Everyone!\n",
      "Welcome to Python, Everyone!\n",
      "Welcome to Python, Everyone!\n",
      "Welcome to Python, Everyone!\n",
      "Welcome to Python, Everyone!\n"
     ]
    }
   ],
   "source": [
    "i = 0\n",
    "while i < 5:\n",
    "    print('Welcome to Python, Everyone!')\n",
    "    i += 1"
   ]
  },
  {
   "cell_type": "code",
   "execution_count": 310,
   "id": "7bedd0df-4114-4c14-a6b7-4e44f8e3ab88",
   "metadata": {},
   "outputs": [
    {
     "name": "stdout",
     "output_type": "stream",
     "text": [
      "Welcome Back to Korea!!\n",
      "Welcome Back to Korea!!\n",
      "Welcome Back to Korea!!\n",
      "Welcome Back to Korea!!\n",
      "Welcome Back to Korea!!\n",
      "Welcome Back to Korea!!\n",
      "Welcome Back to Korea!!\n",
      "Welcome Back to Korea!!\n",
      "Welcome Back to Korea!!\n",
      "Welcome Back to Korea!!\n"
     ]
    }
   ],
   "source": [
    "i = 0\n",
    "while i < 10:\n",
    "    print(\"Welcome Back to Korea!!\")\n",
    "    i += 1"
   ]
  },
  {
   "cell_type": "markdown",
   "id": "07ddc3b6-b78c-48ce-8402-f3573ae3abb5",
   "metadata": {},
   "source": [
    "- while문: break 예시"
   ]
  },
  {
   "cell_type": "code",
   "execution_count": 312,
   "id": "bb3e3ece-6874-4309-bfa9-b87dda568352",
   "metadata": {},
   "outputs": [
    {
     "name": "stdout",
     "output_type": "stream",
     "text": [
      "P\n",
      "r\n",
      "The end\n"
     ]
    }
   ],
   "source": [
    "st = 'Programming'\n",
    "\n",
    "for ch in st:\n",
    "    if ch in ['a', 'e', 'i', 'o', 'u']:\n",
    "        break\n",
    "    print(ch)\n",
    "print(\"The end\")"
   ]
  },
  {
   "cell_type": "code",
   "execution_count": 314,
   "id": "6223afa8-8a3c-4f62-89c1-78c0bea53ff9",
   "metadata": {},
   "outputs": [
    {
     "name": "stdout",
     "output_type": "stream",
     "text": [
      "C\n",
      "o\n",
      "n\n",
      "t\n",
      "i\n",
      "n\n",
      "u\n",
      "The End\n"
     ]
    }
   ],
   "source": [
    "st1 = 'Continue'\n",
    "\n",
    "for ch in st1:\n",
    "    if ch in ['a', 'b', 'c', 'e']:\n",
    "        break\n",
    "    print(ch)\n",
    "print(\"The End\")"
   ]
  },
  {
   "cell_type": "markdown",
   "id": "874fc552-e47e-4b4f-8a5b-cfe6fc39c921",
   "metadata": {},
   "source": [
    "-> while문에서 break, continue는 헷갈릴 수 있으므로 제한적으로 사용할 필요가 있음"
   ]
  },
  {
   "cell_type": "markdown",
   "id": "76a8601c-a60d-4d26-b15c-448e5f0089bd",
   "metadata": {},
   "source": [
    "- for문의 제어와 print()함수의 end 키워드 인자 사용하기"
   ]
  },
  {
   "cell_type": "code",
   "execution_count": 313,
   "id": "7df65397-8e80-4dbc-8d35-bb8999af7b1e",
   "metadata": {},
   "outputs": [
    {
     "name": "stdout",
     "output_type": "stream",
     "text": [
      "0rrr1rrr2rrr3rrr4rrr"
     ]
    }
   ],
   "source": [
    "for i in range(5):\n",
    "    print(i, end = 'rrr')"
   ]
  },
  {
   "cell_type": "markdown",
   "id": "601fa6ae-d450-4322-85f8-ea03e70c175c",
   "metadata": {},
   "source": [
    "- 사용자에게 사용하기 좋은 알고리즘"
   ]
  },
  {
   "cell_type": "code",
   "execution_count": 315,
   "id": "3bf9d1cc-7fa4-4f45-bfcc-72ef429857eb",
   "metadata": {},
   "outputs": [
    {
     "name": "stdout",
     "output_type": "stream",
     "text": [
      "나무를 1번 찍었습니다.\n",
      "나무를 2번 찍었습니다.\n",
      "나무를 3번 찍었습니다.\n",
      "나무를 4번 찍었습니다.\n",
      "나무를 5번 찍었습니다.\n",
      "나무를 6번 찍었습니다.\n",
      "나무를 7번 찍었습니다.\n",
      "나무를 8번 찍었습니다.\n",
      "나무를 9번 찍었습니다.\n",
      "나무를 10번 찍었습니다.\n",
      "나무 넘어갑니다.\n"
     ]
    }
   ],
   "source": [
    "treeHit = 0\n",
    "while treeHit < 10:\n",
    "    treeHit = treeHit + 1\n",
    "    print(\"나무를 %d번 찍었습니다.\" % treeHit)\n",
    "    if treeHit == 10:\n",
    "        print(\"나무 넘어갑니다.\")"
   ]
  },
  {
   "cell_type": "code",
   "execution_count": 318,
   "id": "64740c97-7b31-45a4-bd8c-67e058fe6892",
   "metadata": {},
   "outputs": [
    {
     "name": "stdout",
     "output_type": "stream",
     "text": [
      "\n",
      "1. Add\n",
      "2. Del\n",
      "3. List\n",
      "4. Quit\n",
      "\n",
      "Enter number:\n"
     ]
    },
    {
     "name": "stdin",
     "output_type": "stream",
     "text": [
      " 1\n"
     ]
    },
    {
     "name": "stdout",
     "output_type": "stream",
     "text": [
      "\n",
      "1. Add\n",
      "2. Del\n",
      "3. List\n",
      "4. Quit\n",
      "\n",
      "Enter number:\n"
     ]
    },
    {
     "name": "stdin",
     "output_type": "stream",
     "text": [
      " 2\n"
     ]
    },
    {
     "name": "stdout",
     "output_type": "stream",
     "text": [
      "\n",
      "1. Add\n",
      "2. Del\n",
      "3. List\n",
      "4. Quit\n",
      "\n",
      "Enter number:\n"
     ]
    },
    {
     "name": "stdin",
     "output_type": "stream",
     "text": [
      " 1\n"
     ]
    },
    {
     "name": "stdout",
     "output_type": "stream",
     "text": [
      "\n",
      "1. Add\n",
      "2. Del\n",
      "3. List\n",
      "4. Quit\n",
      "\n",
      "Enter number:\n"
     ]
    },
    {
     "name": "stdin",
     "output_type": "stream",
     "text": [
      " 2\n"
     ]
    },
    {
     "name": "stdout",
     "output_type": "stream",
     "text": [
      "\n",
      "1. Add\n",
      "2. Del\n",
      "3. List\n",
      "4. Quit\n",
      "\n",
      "Enter number:\n"
     ]
    },
    {
     "name": "stdin",
     "output_type": "stream",
     "text": [
      " 4\n"
     ]
    }
   ],
   "source": [
    "prompt = \"\"\"\n",
    "1. Add\n",
    "2. Del\n",
    "3. List\n",
    "4. Quit\n",
    "\n",
    "Enter number:\"\"\"\n",
    "number = 0\n",
    "while number != 4:\n",
    "    print(prompt)\n",
    "    number = int(input())"
   ]
  },
  {
   "cell_type": "code",
   "execution_count": 321,
   "id": "7ca11de3-6ced-4bde-8a07-22043e18e372",
   "metadata": {},
   "outputs": [
    {
     "name": "stdin",
     "output_type": "stream",
     "text": [
      "돈을 넣어주세요 40\n"
     ]
    },
    {
     "name": "stdout",
     "output_type": "stream",
     "text": [
      "돈을 다시 돌려주고 커피를 주지 않습니다.\n",
      "남은 커피의 양은 4개 입니다.\n"
     ]
    },
    {
     "name": "stdin",
     "output_type": "stream",
     "text": [
      "돈을 넣어주세요 50\n"
     ]
    },
    {
     "name": "stdout",
     "output_type": "stream",
     "text": [
      "돈을 다시 돌려주고 커피를 주지 않습니다.\n",
      "남은 커피의 양은 4개 입니다.\n"
     ]
    },
    {
     "name": "stdin",
     "output_type": "stream",
     "text": [
      "돈을 넣어주세요 60\n"
     ]
    },
    {
     "name": "stdout",
     "output_type": "stream",
     "text": [
      "돈을 다시 돌려주고 커피를 주지 않습니다.\n",
      "남은 커피의 양은 4개 입니다.\n"
     ]
    },
    {
     "name": "stdin",
     "output_type": "stream",
     "text": [
      "돈을 넣어주세요 50\n"
     ]
    },
    {
     "name": "stdout",
     "output_type": "stream",
     "text": [
      "돈을 다시 돌려주고 커피를 주지 않습니다.\n",
      "남은 커피의 양은 4개 입니다.\n"
     ]
    },
    {
     "name": "stdin",
     "output_type": "stream",
     "text": [
      "돈을 넣어주세요 60\n"
     ]
    },
    {
     "name": "stdout",
     "output_type": "stream",
     "text": [
      "돈을 다시 돌려주고 커피를 주지 않습니다.\n",
      "남은 커피의 양은 4개 입니다.\n"
     ]
    },
    {
     "name": "stdin",
     "output_type": "stream",
     "text": [
      "돈을 넣어주세요 500\n"
     ]
    },
    {
     "name": "stdout",
     "output_type": "stream",
     "text": [
      "거스름돈 200를 주고 커피를 줍니다.\n"
     ]
    },
    {
     "name": "stdin",
     "output_type": "stream",
     "text": [
      "돈을 넣어주세요 200\n"
     ]
    },
    {
     "name": "stdout",
     "output_type": "stream",
     "text": [
      "돈을 다시 돌려주고 커피를 주지 않습니다.\n",
      "남은 커피의 양은 3개 입니다.\n"
     ]
    },
    {
     "name": "stdin",
     "output_type": "stream",
     "text": [
      "돈을 넣어주세요 300\n"
     ]
    },
    {
     "name": "stdout",
     "output_type": "stream",
     "text": [
      "커피를 줍니다.\n"
     ]
    },
    {
     "name": "stdin",
     "output_type": "stream",
     "text": [
      "돈을 넣어주세요 400\n"
     ]
    },
    {
     "name": "stdout",
     "output_type": "stream",
     "text": [
      "거스름돈 100를 주고 커피를 줍니다.\n"
     ]
    },
    {
     "name": "stdin",
     "output_type": "stream",
     "text": [
      "돈을 넣어주세요 300\n"
     ]
    },
    {
     "name": "stdout",
     "output_type": "stream",
     "text": [
      "커피를 줍니다.\n",
      "커피가 다 떨어졌습니다. 판매를 중지 합니다.\n"
     ]
    }
   ],
   "source": [
    "coffee = 4\n",
    "while True:  # while True는 무한반복이 나오는 조건문이므로 무조건 break 필요\n",
    "    money = int(input(\"돈을 넣어주세요: \"))\n",
    "    if money == 300:\n",
    "        print(\"커피를 줍니다.\")\n",
    "        coffee = coffee -1\n",
    "    elif money > 300:\n",
    "        print(\"거스름돈 %d를 주고 커피를 줍니다.\" % (money -300))\n",
    "        coffee = coffee -1\n",
    "    else:\n",
    "        print(\"돈을 다시 돌려주고 커피를 주지 않습니다.\")\n",
    "        print(\"남은 커피의 양은 %d개 입니다.\" % coffee)\n",
    "    if not coffee:\n",
    "        print(\"커피가 다 떨어졌습니다. 판매를 중지 합니다.\")\n",
    "        break"
   ]
  },
  {
   "cell_type": "code",
   "execution_count": 322,
   "id": "383cd405-b8ec-45cb-a010-75e009518cee",
   "metadata": {},
   "outputs": [
    {
     "name": "stdout",
     "output_type": "stream",
     "text": [
      "1\n",
      "3\n",
      "5\n",
      "7\n",
      "9\n"
     ]
    }
   ],
   "source": [
    "a = 0\n",
    "while a < 10:\n",
    "    a = a + 1\n",
    "    if a % 2 == 0: continue\n",
    "    print(a)"
   ]
  },
  {
   "cell_type": "markdown",
   "id": "28d2d74c-490a-484c-8af0-48ed6a2988cb",
   "metadata": {},
   "source": [
    "문제 1: 1부터 100까지의 자연수의 합 구하기"
   ]
  },
  {
   "cell_type": "markdown",
   "id": "c01e8499-5eac-4170-bf32-e51f7171e247",
   "metadata": {},
   "source": [
    "for문"
   ]
  },
  {
   "cell_type": "code",
   "execution_count": 328,
   "id": "3716c92e-beb4-467f-b4e3-663f22f8a813",
   "metadata": {},
   "outputs": [
    {
     "name": "stdout",
     "output_type": "stream",
     "text": [
      "2\n",
      "3\n",
      "4\n",
      "5\n",
      "6\n",
      "7\n",
      "8\n",
      "9\n",
      "10\n",
      "11\n",
      "12\n",
      "13\n",
      "14\n",
      "15\n",
      "16\n",
      "17\n",
      "18\n",
      "19\n",
      "20\n",
      "21\n",
      "22\n",
      "23\n",
      "24\n",
      "25\n",
      "26\n",
      "27\n",
      "28\n",
      "29\n",
      "30\n",
      "31\n",
      "32\n",
      "33\n",
      "34\n",
      "35\n",
      "36\n",
      "37\n",
      "38\n",
      "39\n",
      "40\n",
      "41\n",
      "42\n",
      "43\n",
      "44\n",
      "45\n",
      "46\n",
      "47\n",
      "48\n",
      "49\n",
      "50\n",
      "51\n",
      "52\n",
      "53\n",
      "54\n",
      "55\n",
      "56\n",
      "57\n",
      "58\n",
      "59\n",
      "60\n",
      "61\n",
      "62\n",
      "63\n",
      "64\n",
      "65\n",
      "66\n",
      "67\n",
      "68\n",
      "69\n",
      "70\n",
      "71\n",
      "72\n",
      "73\n",
      "74\n",
      "75\n",
      "76\n",
      "77\n",
      "78\n",
      "79\n",
      "80\n",
      "81\n",
      "82\n",
      "83\n",
      "84\n",
      "85\n",
      "86\n",
      "87\n",
      "88\n",
      "89\n",
      "90\n",
      "91\n",
      "92\n",
      "93\n",
      "94\n",
      "95\n",
      "96\n",
      "97\n",
      "98\n",
      "99\n",
      "100\n"
     ]
    }
   ],
   "source": [
    "a = 1\n",
    "for a in range(1,100):\n",
    "    a += 1\n",
    "    print(a)"
   ]
  },
  {
   "cell_type": "markdown",
   "id": "c76b7b8a-7a6b-4ae5-9c28-39692e68f70a",
   "metadata": {},
   "source": [
    "while문"
   ]
  },
  {
   "cell_type": "code",
   "execution_count": 333,
   "id": "96dc4126-3802-4c4e-8bf2-3f83f5e7c113",
   "metadata": {},
   "outputs": [
    {
     "name": "stdout",
     "output_type": "stream",
     "text": [
      "5050\n"
     ]
    }
   ],
   "source": [
    "a = 0\n",
    "sum = 0\n",
    "while True:\n",
    "    a += 1\n",
    "    sum += a\n",
    "    if a >= 100:\n",
    "        break\n",
    "print(sum)"
   ]
  },
  {
   "cell_type": "code",
   "execution_count": 329,
   "id": "437c44d5-9f11-4e1c-8ac1-71832210eb41",
   "metadata": {},
   "outputs": [
    {
     "name": "stdout",
     "output_type": "stream",
     "text": [
      "5050\n"
     ]
    }
   ],
   "source": [
    "n = 0\n",
    "sum = 0\n",
    "while True:\n",
    "    n+=1\n",
    "    sum+=n\n",
    "    if n>= 100:\n",
    "        break\n",
    "print(sum)"
   ]
  },
  {
   "cell_type": "markdown",
   "id": "105e6139-e9dd-4c7c-b283-676f67425eb4",
   "metadata": {},
   "source": [
    "문제 2"
   ]
  },
  {
   "cell_type": "code",
   "execution_count": 334,
   "id": "0b6962f0-96dc-4c85-be35-afdd3a87b361",
   "metadata": {},
   "outputs": [
    {
     "name": "stdout",
     "output_type": "stream",
     "text": [
      "1683\n"
     ]
    }
   ],
   "source": [
    "n = 0\n",
    "sum = 0\n",
    "while True:\n",
    "    n+=1\n",
    "    if(n%3==0):\n",
    "        sum+=n\n",
    "    if n>=100:\n",
    "        break\n",
    "print(sum)"
   ]
  },
  {
   "cell_type": "markdown",
   "id": "bcd1d3d1-8a12-43e7-8dda-a95df1cbf1a4",
   "metadata": {},
   "source": [
    "문제 3"
   ]
  },
  {
   "cell_type": "code",
   "execution_count": 335,
   "id": "e6ba3194-aa62-4ec7-b7a9-a392573da452",
   "metadata": {},
   "outputs": [],
   "source": [
    "A = [20, 55, 67, 82, 45, 33, 90, 87, 100, 25]"
   ]
  },
  {
   "cell_type": "markdown",
   "id": "7f71f8ea-2981-48a1-92f1-89c237b82959",
   "metadata": {},
   "source": [
    "1) for문으로 푸는 방법"
   ]
  },
  {
   "cell_type": "markdown",
   "id": "5dc9d942-6774-4c6b-adf9-84e6794426cf",
   "metadata": {},
   "source": [
    "for 변수 in 리스트 (또는 튜플, 문자열): </br>\n",
    "    수행할 문장 1 </br>\n",
    "    수행할 문장 2 </br>"
   ]
  },
  {
   "cell_type": "code",
   "execution_count": 341,
   "id": "9dfae711-2731-42b2-89be-eabcbe6055ff",
   "metadata": {},
   "outputs": [
    {
     "name": "stdout",
     "output_type": "stream",
     "text": [
      "112233445566"
     ]
    }
   ],
   "source": [
    "num = [11, 22, 33, 44, 55, 66]\n",
    "\n",
    "for n in num:\n",
    "    print(n, end = '')"
   ]
  },
  {
   "cell_type": "code",
   "execution_count": 342,
   "id": "d0422f39-f55b-4d1a-9e2d-859bcf459759",
   "metadata": {},
   "outputs": [
    {
     "name": "stdout",
     "output_type": "stream",
     "text": [
      "11\n",
      "22\n",
      "33\n",
      "44\n",
      "55\n",
      "66\n"
     ]
    }
   ],
   "source": [
    "num = [11, 22, 33, 44, 55, 66]\n",
    "\n",
    "for n in num:\n",
    "    print(n)"
   ]
  },
  {
   "cell_type": "code",
   "execution_count": 345,
   "id": "af96ec1f-085e-4601-964f-554bc4214870",
   "metadata": {},
   "outputs": [],
   "source": [
    "A = [20, 55, 67, 82, 45, 33, 90, 87, 100, 25]"
   ]
  },
  {
   "cell_type": "code",
   "execution_count": 343,
   "id": "7c72ed39-57af-4df5-8240-dadc217300d6",
   "metadata": {},
   "outputs": [
    {
     "name": "stdout",
     "output_type": "stream",
     "text": [
      "481\n"
     ]
    }
   ],
   "source": [
    "sum = 0\n",
    "for i in A:\n",
    "    if i >= 50:\n",
    "        sum += i\n",
    "print(sum)"
   ]
  },
  {
   "cell_type": "code",
   "execution_count": null,
   "id": "d3e4c677-826f-4ae2-bd24-377b20e4432a",
   "metadata": {},
   "outputs": [],
   "source": [
    "sum(A)"
   ]
  },
  {
   "cell_type": "markdown",
   "id": "ef7f36f9-86d8-4824-8588-364f7d931c50",
   "metadata": {},
   "source": [
    "- 아래의 세 개는 무슨 차이인걸까"
   ]
  },
  {
   "cell_type": "code",
   "execution_count": 349,
   "id": "e00ab370-bfdd-4791-98a8-23701b4f8714",
   "metadata": {},
   "outputs": [
    {
     "name": "stdout",
     "output_type": "stream",
     "text": [
      "481\n"
     ]
    }
   ],
   "source": [
    "sum = 0\n",
    "for i in A:\n",
    "    if i >= 50:\n",
    "        sum += i\n",
    "print(sum)"
   ]
  },
  {
   "cell_type": "code",
   "execution_count": 347,
   "id": "349214b4-8370-4dde-b793-ca8ac185a7bd",
   "metadata": {},
   "outputs": [
    {
     "name": "stdout",
     "output_type": "stream",
     "text": [
      "487\n"
     ]
    }
   ],
   "source": [
    "for x in A:\n",
    "    if x >= 50:\n",
    "        sum += 1\n",
    "print(sum)"
   ]
  },
  {
   "cell_type": "code",
   "execution_count": 348,
   "id": "5ba0f5d4-85e7-4964-94fb-85d235e95ddb",
   "metadata": {},
   "outputs": [
    {
     "name": "stdout",
     "output_type": "stream",
     "text": [
      "6\n"
     ]
    }
   ],
   "source": [
    "sum = 0\n",
    "for x in A:\n",
    "    if x >= 50:\n",
    "        sum += 1\n",
    "print(sum)"
   ]
  },
  {
   "cell_type": "markdown",
   "id": "6349c589-cc34-4559-aeb4-30dfeda90ff1",
   "metadata": {},
   "source": [
    "2) While문으로 푸는 방법"
   ]
  },
  {
   "cell_type": "code",
   "execution_count": 344,
   "id": "f9338646-1f10-4ab7-a16e-6203073c40e5",
   "metadata": {},
   "outputs": [
    {
     "name": "stdout",
     "output_type": "stream",
     "text": [
      "481\n"
     ]
    }
   ],
   "source": [
    "i = 0\n",
    "sum = 0\n",
    "while True:\n",
    "    if A[i] >= 50:\n",
    "        sum += A[i]\n",
    "    i += 1\n",
    "    if i == 10:\n",
    "        break\n",
    "print(sum)"
   ]
  },
  {
   "cell_type": "markdown",
   "id": "6433ca55-215e-492c-aed3-4acde7c21fa2",
   "metadata": {},
   "source": [
    "range()를 값으로 반환하려면 list로 형태를 바꿔주어야 함"
   ]
  },
  {
   "cell_type": "code",
   "execution_count": 350,
   "id": "9cfca096-47f1-474f-b7b8-4c16b3409865",
   "metadata": {},
   "outputs": [
    {
     "data": {
      "text/plain": [
       "[-2, -4, -6, -8]"
      ]
     },
     "execution_count": 350,
     "metadata": {},
     "output_type": "execute_result"
    }
   ],
   "source": [
    "list(range(-2,-10,-2))"
   ]
  },
  {
   "cell_type": "code",
   "execution_count": 353,
   "id": "3f598290-a80d-470b-b8e4-5f69de9031c6",
   "metadata": {},
   "outputs": [
    {
     "name": "stdout",
     "output_type": "stream",
     "text": [
      "2*1 =  2 2*2 =  4 2*3 =  6 2*4 =  8 2*5 = 10 2*6 = 12 2*7 = 14 2*8 = 16 2*9 = 18 \n",
      "3*1 =  3 3*2 =  6 3*3 =  9 3*4 = 12 3*5 = 15 3*6 = 18 3*7 = 21 3*8 = 24 3*9 = 27 \n",
      "4*1 =  4 4*2 =  8 4*3 = 12 4*4 = 16 4*5 = 20 4*6 = 24 4*7 = 28 4*8 = 32 4*9 = 36 \n",
      "5*1 =  5 5*2 = 10 5*3 = 15 5*4 = 20 5*5 = 25 5*6 = 30 5*7 = 35 5*8 = 40 5*9 = 45 \n",
      "6*1 =  6 6*2 = 12 6*3 = 18 6*4 = 24 6*5 = 30 6*6 = 36 6*7 = 42 6*8 = 48 6*9 = 54 \n",
      "7*1 =  7 7*2 = 14 7*3 = 21 7*4 = 28 7*5 = 35 7*6 = 42 7*7 = 49 7*8 = 56 7*9 = 63 \n",
      "8*1 =  8 8*2 = 16 8*3 = 24 8*4 = 32 8*5 = 40 8*6 = 48 8*7 = 56 8*8 = 64 8*9 = 72 \n",
      "9*1 =  9 9*2 = 18 9*3 = 27 9*4 = 36 9*5 = 45 9*6 = 54 9*7 = 63 9*8 = 72 9*9 = 81 \n"
     ]
    }
   ],
   "source": [
    "for i in range(2, 10):\n",
    "    for j in range(1, 10):\n",
    "        print('{}*{} = {:2d}'.format(i, j, i*j), end = ' ')\n",
    "    print()"
   ]
  },
  {
   "cell_type": "markdown",
   "id": "534fe064-447a-4292-9343-b3f6d0e25415",
   "metadata": {},
   "source": [
    "문제 1"
   ]
  },
  {
   "cell_type": "code",
   "execution_count": 355,
   "id": "2435aeee-6862-4503-ae9b-dc16603da6ab",
   "metadata": {},
   "outputs": [
    {
     "data": {
      "text/plain": [
       "[2,\n",
       " 4,\n",
       " 6,\n",
       " 8,\n",
       " 10,\n",
       " 12,\n",
       " 14,\n",
       " 16,\n",
       " 18,\n",
       " 20,\n",
       " 22,\n",
       " 24,\n",
       " 26,\n",
       " 28,\n",
       " 30,\n",
       " 32,\n",
       " 34,\n",
       " 36,\n",
       " 38,\n",
       " 40,\n",
       " 42,\n",
       " 44,\n",
       " 46,\n",
       " 48,\n",
       " 50,\n",
       " 52,\n",
       " 54,\n",
       " 56,\n",
       " 58,\n",
       " 60,\n",
       " 62,\n",
       " 64,\n",
       " 66,\n",
       " 68,\n",
       " 70,\n",
       " 72,\n",
       " 74,\n",
       " 76,\n",
       " 78,\n",
       " 80,\n",
       " 82,\n",
       " 84,\n",
       " 86,\n",
       " 88,\n",
       " 90,\n",
       " 92,\n",
       " 94,\n",
       " 96,\n",
       " 98,\n",
       " 100]"
      ]
     },
     "execution_count": 355,
     "metadata": {},
     "output_type": "execute_result"
    }
   ],
   "source": [
    "a1 = range(2, 102, 2)\n",
    "list(a1)"
   ]
  },
  {
   "cell_type": "markdown",
   "id": "8af4f4b8-69ba-4a2e-a5d5-2954d7f3ca86",
   "metadata": {},
   "source": [
    "문제 2"
   ]
  },
  {
   "cell_type": "code",
   "execution_count": 359,
   "id": "2ec1f6ec-85a9-4bd1-8b1a-99dd82b029f1",
   "metadata": {},
   "outputs": [
    {
     "data": {
      "text/plain": [
       "[1,\n",
       " 3,\n",
       " 5,\n",
       " 7,\n",
       " 9,\n",
       " 11,\n",
       " 13,\n",
       " 15,\n",
       " 17,\n",
       " 19,\n",
       " 21,\n",
       " 23,\n",
       " 25,\n",
       " 27,\n",
       " 29,\n",
       " 31,\n",
       " 33,\n",
       " 35,\n",
       " 37,\n",
       " 39,\n",
       " 41,\n",
       " 43,\n",
       " 45,\n",
       " 47,\n",
       " 49,\n",
       " 51,\n",
       " 53,\n",
       " 55,\n",
       " 57,\n",
       " 59,\n",
       " 61,\n",
       " 63,\n",
       " 65,\n",
       " 67,\n",
       " 69,\n",
       " 71,\n",
       " 73,\n",
       " 75,\n",
       " 77,\n",
       " 79,\n",
       " 81,\n",
       " 83,\n",
       " 85,\n",
       " 87,\n",
       " 89,\n",
       " 91,\n",
       " 93,\n",
       " 95,\n",
       " 97,\n",
       " 99]"
      ]
     },
     "execution_count": 359,
     "metadata": {},
     "output_type": "execute_result"
    }
   ],
   "source": [
    "a2 = range(1,100,2)\n",
    "list(a2)"
   ]
  },
  {
   "cell_type": "code",
   "execution_count": 360,
   "id": "e58b71ce-6139-4981-a8f5-17990f2b7b22",
   "metadata": {},
   "outputs": [
    {
     "data": {
      "text/plain": [
       "[10, 7, 4, 1]"
      ]
     },
     "execution_count": 360,
     "metadata": {},
     "output_type": "execute_result"
    }
   ],
   "source": [
    "list(range(10,0,-3))"
   ]
  },
  {
   "cell_type": "markdown",
   "id": "1b13461a-1613-40fc-8375-0cfad967b7fd",
   "metadata": {},
   "source": [
    "문제 1"
   ]
  },
  {
   "cell_type": "code",
   "execution_count": 361,
   "id": "7127dd28-5484-4ae6-aed1-73e33e91ee47",
   "metadata": {},
   "outputs": [],
   "source": [
    "the_day = 1919, 3, 1"
   ]
  },
  {
   "cell_type": "code",
   "execution_count": 362,
   "id": "ddfd3364-7c7f-4632-94bd-d8c4c30d9579",
   "metadata": {},
   "outputs": [
    {
     "data": {
      "text/plain": [
       "(1919, 3, 1)"
      ]
     },
     "execution_count": 362,
     "metadata": {},
     "output_type": "execute_result"
    }
   ],
   "source": [
    "the_day"
   ]
  },
  {
   "cell_type": "code",
   "execution_count": 364,
   "id": "1f3936e3-5125-4e75-82a6-21f2387cb919",
   "metadata": {},
   "outputs": [],
   "source": [
    "year, month, day = the_day[0], the_day[1], the_day[2]"
   ]
  },
  {
   "cell_type": "code",
   "execution_count": 365,
   "id": "59115a20-e3a8-41eb-87db-f8a8be9fc512",
   "metadata": {},
   "outputs": [
    {
     "name": "stdout",
     "output_type": "stream",
     "text": [
      "1919년 3월 1일은 삼일절입니다.\n"
     ]
    }
   ],
   "source": [
    "print(\"{}년 {}월 {}일은 삼일절입니다.\".format(year,month,day))"
   ]
  },
  {
   "cell_type": "code",
   "execution_count": 366,
   "id": "e3a83515-8df8-422b-8604-822404dfcd59",
   "metadata": {},
   "outputs": [
    {
     "name": "stdout",
     "output_type": "stream",
     "text": [
      "Hello Hello Hello \n"
     ]
    }
   ],
   "source": [
    "print('Hello ' * 3)"
   ]
  },
  {
   "cell_type": "code",
   "execution_count": 367,
   "id": "34eeab81-f427-4ae1-959e-7e994993830c",
   "metadata": {},
   "outputs": [
    {
     "name": "stdout",
     "output_type": "stream",
     "text": [
      "('Hello', 'Hello', 'Hello')\n"
     ]
    }
   ],
   "source": [
    "print(('Hello',)*3)"
   ]
  },
  {
   "cell_type": "code",
   "execution_count": 368,
   "id": "f4c60509-85c7-44fb-9e22-be1b2ec7aa0e",
   "metadata": {},
   "outputs": [],
   "source": [
    "def product_set(set1, set2):\n",
    "    res = set()\n",
    "    for i in set1:\n",
    "        for j in set2:\n",
    "            res = res | {(i, j)}\n",
    "        return res\n",
    "A = {1, 2}\n",
    "B = {'A', 'B', 'C'}"
   ]
  },
  {
   "cell_type": "code",
   "execution_count": 369,
   "id": "6206c8cb-8cec-4c84-b032-b4816c05c461",
   "metadata": {},
   "outputs": [],
   "source": [
    "AxB = product_set(A, B)"
   ]
  },
  {
   "cell_type": "code",
   "execution_count": 370,
   "id": "126c66c5-38b4-4a75-bc6d-30cfe8fae9ee",
   "metadata": {},
   "outputs": [
    {
     "data": {
      "text/plain": [
       "{(1, 'A'), (1, 'B'), (1, 'C')}"
      ]
     },
     "execution_count": 370,
     "metadata": {},
     "output_type": "execute_result"
    }
   ],
   "source": [
    "AxB"
   ]
  },
  {
   "cell_type": "code",
   "execution_count": 371,
   "id": "99c83f11-3d37-4337-8de5-5bb697e5deba",
   "metadata": {},
   "outputs": [],
   "source": [
    "BxA = product_set(B, A)\n",
    "AxA = product_set(A, A)\n",
    "BxB = product_set(B, B)"
   ]
  },
  {
   "cell_type": "code",
   "execution_count": 372,
   "id": "0ccb619a-32f5-49de-9169-437c98ed59b6",
   "metadata": {},
   "outputs": [
    {
     "data": {
      "text/plain": [
       "{('B', 1), ('B', 2)}"
      ]
     },
     "execution_count": 372,
     "metadata": {},
     "output_type": "execute_result"
    }
   ],
   "source": [
    "BxA"
   ]
  },
  {
   "cell_type": "code",
   "execution_count": 373,
   "id": "22d9cb40-e5bf-4101-9793-2113f86b3e22",
   "metadata": {},
   "outputs": [
    {
     "data": {
      "text/plain": [
       "{(1, 1), (1, 2)}"
      ]
     },
     "execution_count": 373,
     "metadata": {},
     "output_type": "execute_result"
    }
   ],
   "source": [
    "AxA"
   ]
  },
  {
   "cell_type": "code",
   "execution_count": 374,
   "id": "7e3bd584-74c8-4e4b-b929-eebd84071827",
   "metadata": {},
   "outputs": [
    {
     "data": {
      "text/plain": [
       "{('B', 'A'), ('B', 'B'), ('B', 'C')}"
      ]
     },
     "execution_count": 374,
     "metadata": {},
     "output_type": "execute_result"
    }
   ],
   "source": [
    "BxB"
   ]
  },
  {
   "cell_type": "code",
   "execution_count": 375,
   "id": "9281e15c-05e6-4511-8639-6ff436bd9890",
   "metadata": {},
   "outputs": [
    {
     "name": "stdout",
     "output_type": "stream",
     "text": [
      "리스트의 원소들 : [10, 20, 30, 40, 50]\n",
      "리스트의 원소들의 곱 : 12000000\n"
     ]
    }
   ],
   "source": [
    "n_list = [10, 20, 30, 40, 50]\n",
    "\n",
    "total = 1\n",
    "for i in n_list:\n",
    "    total *= i\n",
    "\n",
    "print('리스트의 원소들 :', n_list)\n",
    "print('리스트의 원소들의 곱 :', total)"
   ]
  },
  {
   "cell_type": "markdown",
   "id": "2c5b1428-edfd-41ab-8e90-792cc23cf778",
   "metadata": {},
   "source": [
    "문제 1: max()를 사용하지 않고 가장 큰 값 구하기"
   ]
  },
  {
   "cell_type": "code",
   "execution_count": 378,
   "id": "238b2d32-7802-44f1-9394-5c0b11152a35",
   "metadata": {},
   "outputs": [
    {
     "name": "stdout",
     "output_type": "stream",
     "text": [
      "리스트의 원소들 :  [1, 4, 6, 10, 100, 50]\n",
      "리스트의 원소들 중 최댓값 :  100\n"
     ]
    }
   ],
   "source": [
    "n_list = [1, 4, 6, 10, 100, 50]\n",
    "maxi = -9999\n",
    "\n",
    "for i in n_list:\n",
    "    if i > maxi:\n",
    "        maxi = i\n",
    "\n",
    "print('리스트의 원소들 : ',n_list)\n",
    "print('리스트의 원소들 중 최댓값 : ',maxi)\n",
    "\n",
    "# if n_list[0] < maxi:\n",
    "#     maxi = n_"
   ]
  },
  {
   "cell_type": "code",
   "execution_count": 379,
   "id": "d48f1b8c-8f93-40b7-a1c4-346614bb6e31",
   "metadata": {},
   "outputs": [
    {
     "name": "stdout",
     "output_type": "stream",
     "text": [
      "리스트의 원소들 :  [1, 4, 6, 10, 100, 50]\n",
      "리스트의 원소들 중 최솟값 :  1\n"
     ]
    }
   ],
   "source": [
    "mini = 9999\n",
    "\n",
    "for i in n_list:\n",
    "    if i < mini:\n",
    "        mini = i\n",
    "print('리스트의 원소들 : ',n_list)\n",
    "print('리스트의 원소들 중 최솟값 : ',mini)"
   ]
  },
  {
   "cell_type": "markdown",
   "id": "c465ec6c-cb32-4c5c-9a91-9594b316fa23",
   "metadata": {},
   "source": [
    "문제 2"
   ]
  },
  {
   "cell_type": "code",
   "execution_count": 382,
   "id": "53f0e148-1b9f-4e7f-be8a-7da25f5d0e45",
   "metadata": {},
   "outputs": [
    {
     "ename": "TypeError",
     "evalue": "'int' object is not iterable",
     "output_type": "error",
     "traceback": [
      "\u001b[1;31m---------------------------------------------------------------------------\u001b[0m",
      "\u001b[1;31mTypeError\u001b[0m                                 Traceback (most recent call last)",
      "Input \u001b[1;32mIn [382]\u001b[0m, in \u001b[0;36m<cell line: 4>\u001b[1;34m()\u001b[0m\n\u001b[0;32m      4\u001b[0m \u001b[38;5;28;01mfor\u001b[39;00m i \u001b[38;5;129;01min\u001b[39;00m abc:\n\u001b[0;32m      5\u001b[0m     \u001b[38;5;28;01mdel\u001b[39;00m \u001b[38;5;28msum\u001b[39m\n\u001b[1;32m----> 6\u001b[0m     \u001b[38;5;28;43msum\u001b[39;49m\u001b[43m(\u001b[49m\u001b[43mi\u001b[49m\u001b[43m)\u001b[49m\n\u001b[0;32m      7\u001b[0m     (\u001b[38;5;124m\"\u001b[39m\u001b[38;5;124mmin(i)\u001b[39m\u001b[38;5;124m\"\u001b[39m)\n\u001b[0;32m      8\u001b[0m     (\u001b[38;5;124m\"\u001b[39m\u001b[38;5;124mmax(i)\u001b[39m\u001b[38;5;124m\"\u001b[39m)\n",
      "\u001b[1;31mTypeError\u001b[0m: 'int' object is not iterable"
     ]
    }
   ],
   "source": [
    "abc = [1,2,3,4,5]\n",
    "i += 1\n",
    "\n",
    "for i in abc:\n",
    "    sum(i)\n",
    "    , min(i)\n",
    "    , max(i)\n",
    "    if i > 5:\n",
    "        break\n",
    "print(\"합계는 {}입니다.\".format(i))"
   ]
  },
  {
   "cell_type": "code",
   "execution_count": 383,
   "id": "2f175f33-e7ea-4504-81e6-2e03419269ed",
   "metadata": {},
   "outputs": [
    {
     "name": "stdin",
     "output_type": "stream",
     "text": [
      "5개의 수를 입력하세요: 1 5 7 11 10\n"
     ]
    },
    {
     "name": "stdout",
     "output_type": "stream",
     "text": [
      "합: 34\n",
      "평균: 6.8\n",
      "최댓값: 11\n",
      "최솟값: 1\n"
     ]
    }
   ],
   "source": [
    "s = input(\"5개의 수를 입력하세요:\")\n",
    "n_list = []\n",
    "\n",
    "for n in s.split():\n",
    "    n_list.append(int(n))\n",
    "\n",
    "print(\"합:\", sum(n_list))\n",
    "print(\"평균:\", sum(n_list)/len(n_list))\n",
    "print(\"최댓값:\", max(n_list))\n",
    "print(\"최솟값:\", min(n_list))"
   ]
  },
  {
   "cell_type": "code",
   "execution_count": 385,
   "id": "77b8e598-b156-42ec-8bf7-3c8552f4e218",
   "metadata": {},
   "outputs": [
    {
     "data": {
      "text/plain": [
       "'irthda'"
      ]
     },
     "execution_count": 385,
     "metadata": {},
     "output_type": "execute_result"
    }
   ],
   "source": [
    "ㄴ = 'Birthday'\n",
    "ㄴ[1:-1]"
   ]
  },
  {
   "cell_type": "code",
   "execution_count": 386,
   "id": "7e2180f9-e40a-44b9-9d11-ae4e56abb6ae",
   "metadata": {},
   "outputs": [
    {
     "data": {
      "text/plain": [
       "'yadhtriB'"
      ]
     },
     "execution_count": 386,
     "metadata": {},
     "output_type": "execute_result"
    }
   ],
   "source": [
    "ㄴ[::-1]  # 역수반환"
   ]
  },
  {
   "cell_type": "code",
   "execution_count": 387,
   "id": "38fae786-cffd-4b9b-8b21-ae3e57ef9988",
   "metadata": {},
   "outputs": [],
   "source": [
    "s_list = ['abc', 'bcd', 'bcdefg', 'abba', 'cddc', 'opg']"
   ]
  },
  {
   "cell_type": "code",
   "execution_count": 396,
   "id": "0ffe49a3-91d8-4682-ac3a-02a6f8fc374b",
   "metadata": {},
   "outputs": [
    {
     "name": "stdout",
     "output_type": "stream",
     "text": [
      "가장 길이가 짧은 문자열:  abc\n"
     ]
    }
   ],
   "source": [
    "min_len = len(s_list[0]);\n",
    "min_s = s_list[0]\n",
    "\n",
    "for s in s_list:\n",
    "    l = len(s)\n",
    "    if min_len > l:\n",
    "        min_len = l\n",
    "        min_s = s\n",
    "        \n",
    "print('가장 길이가 짧은 문자열: ', min_s)"
   ]
  },
  {
   "cell_type": "code",
   "execution_count": 398,
   "id": "03fb320d-24c7-4100-9c02-2e508f9d899f",
   "metadata": {},
   "outputs": [
    {
     "name": "stdout",
     "output_type": "stream",
     "text": [
      "s_list = ['abc', 'bcd', 'bcdefg', 'abba', 'cddc', 'opg', 'opg']\n",
      "new_s_list = ['abc', 'bcd', 'bcdefg', 'abba', 'cddc', 'opg']\n"
     ]
    }
   ],
   "source": [
    "s_list = ['abc', 'bcd', 'bcdefg', 'abba', 'cddc', 'opg', 'opg']\n",
    "new_s_list = []\n",
    "\n",
    "for s in s_list:\n",
    "    if s not in new_s_list:\n",
    "        new_s_list.append(s)\n",
    "    \n",
    "print('s_list =', s_list)\n",
    "print('new_s_list =', new_s_list)  # 중복값이 제거된 리스트"
   ]
  },
  {
   "cell_type": "code",
   "execution_count": 388,
   "id": "791b2088-c77b-476c-9fa6-51bf0fec375e",
   "metadata": {},
   "outputs": [
    {
     "data": {
      "text/plain": [
       "{2, 3, 4}"
      ]
     },
     "execution_count": 388,
     "metadata": {},
     "output_type": "execute_result"
    }
   ],
   "source": [
    "a = {2, 3, 4, 2, 3}\n",
    "a"
   ]
  },
  {
   "cell_type": "code",
   "execution_count": 389,
   "id": "95a6fb21-fcba-4247-978f-892f96c6faa9",
   "metadata": {},
   "outputs": [
    {
     "data": {
      "text/plain": [
       "{1, 2, 3, 4}"
      ]
     },
     "execution_count": 389,
     "metadata": {},
     "output_type": "execute_result"
    }
   ],
   "source": [
    "a = {3, 2, 4}\n",
    "b = {1, 2, 3}\n",
    "a.union(b)"
   ]
  },
  {
   "cell_type": "code",
   "execution_count": 390,
   "id": "d8c3bdc5-ff14-4eb6-8616-df84030a2d9d",
   "metadata": {},
   "outputs": [
    {
     "data": {
      "text/plain": [
       "False"
      ]
     },
     "execution_count": 390,
     "metadata": {},
     "output_type": "execute_result"
    }
   ],
   "source": [
    "a=[1, \"하나\", 2, \"둘\"]\n",
    "b = a[:]\n",
    "a is b"
   ]
  },
  {
   "cell_type": "code",
   "execution_count": 391,
   "id": "da195378-0c68-41fd-9463-dc6f3e06189e",
   "metadata": {},
   "outputs": [
    {
     "name": "stdout",
     "output_type": "stream",
     "text": [
      "nothing\n"
     ]
    }
   ],
   "source": [
    "b={}\n",
    "\n",
    "if b:\n",
    "\n",
    "   print(\"ok\")\n",
    "\n",
    "else:\n",
    "\n",
    "   print(\"nothing\")"
   ]
  },
  {
   "cell_type": "code",
   "execution_count": 392,
   "id": "0b86bca1-13c5-4841-903c-0f9a9fe941cc",
   "metadata": {},
   "outputs": [
    {
     "data": {
      "text/plain": [
       "[6, 4, 2, 0]"
      ]
     },
     "execution_count": 392,
     "metadata": {},
     "output_type": "execute_result"
    }
   ],
   "source": [
    " list(range(6, -2, -2))"
   ]
  },
  {
   "cell_type": "code",
   "execution_count": 393,
   "id": "756fb4fe-b306-486e-97da-3da94d74ac7b",
   "metadata": {},
   "outputs": [
    {
     "data": {
      "text/plain": [
       "[0, 1, 2]"
      ]
     },
     "execution_count": 393,
     "metadata": {},
     "output_type": "execute_result"
    }
   ],
   "source": [
    "list(range(3))"
   ]
  },
  {
   "cell_type": "code",
   "execution_count": 399,
   "id": "8039a9bb-bba4-45f4-9ca7-8ff5df7606d3",
   "metadata": {},
   "outputs": [
    {
     "name": "stdout",
     "output_type": "stream",
     "text": [
      "-2 -4 -6 -8 "
     ]
    }
   ],
   "source": [
    "for i in range(-2,-10,-2):\n",
    "    print(i, end = ' ')"
   ]
  },
  {
   "cell_type": "code",
   "execution_count": 400,
   "id": "7bd6dfa6-3dd5-4b90-9b84-9da9d1cb1317",
   "metadata": {},
   "outputs": [
    {
     "name": "stdout",
     "output_type": "stream",
     "text": [
      "3\n",
      "7\n",
      "11\n"
     ]
    }
   ],
   "source": [
    "a = [(1,2), (3,4), (5,6)]\n",
    "for (first, last) in a:\n",
    "    print(first + last)"
   ]
  },
  {
   "cell_type": "code",
   "execution_count": 401,
   "id": "086cc6ee-f393-495a-9a28-cc4ce32e8439",
   "metadata": {},
   "outputs": [
    {
     "name": "stdout",
     "output_type": "stream",
     "text": [
      "1번 학생은 합격입니다.\n",
      "2번 학생은 불합격입니다.\n",
      "3번 학생은 불합격입니다.\n",
      "4번 학생은 불합격입니다.\n",
      "5번 학생은 불합격입니다.\n"
     ]
    }
   ],
   "source": [
    "marks = [90, 25, 33, 4, 59]\n",
    "number = 0\n",
    "for mark in marks:\n",
    "    number = number + 1\n",
    "    if mark >= 60:\n",
    "        print(\"%d번 학생은 합격입니다.\" % number)\n",
    "    else:\n",
    "        print(\"%d번 학생은 불합격입니다.\" % number)"
   ]
  },
  {
   "cell_type": "code",
   "execution_count": 403,
   "id": "6533486f-bd7e-4fd7-b51d-dab195fc7801",
   "metadata": {},
   "outputs": [
    {
     "name": "stdout",
     "output_type": "stream",
     "text": [
      "1번 학생 축하합니다. 합격입니다. \n",
      "3번 학생 축하합니다. 합격입니다. \n",
      "4번 학생 축하합니다. 합격입니다. \n"
     ]
    }
   ],
   "source": [
    "marks = [90, 50, 70, 80, 40]\n",
    "number = 0\n",
    "for mark in marks:\n",
    "    number += 1\n",
    "    if mark < 60: continue\n",
    "    print(\"%d번 학생 축하합니다. 합격입니다. \" % number)  # 합격일 때만 출력"
   ]
  },
  {
   "cell_type": "code",
   "execution_count": 405,
   "id": "6a8c3a16-ab81-41df-9eb9-9c16c896d36d",
   "metadata": {},
   "outputs": [
    {
     "name": "stdout",
     "output_type": "stream",
     "text": [
      "0번 학생 축하합니다. 합격입니다.\n",
      "2번 학생 축하합니다. 합격입니다.\n",
      "3번 학생 축하합니다. 합격입니다.\n"
     ]
    }
   ],
   "source": [
    "for number in range(len(marks)):\n",
    "    if marks[number] < 60: continue\n",
    "    print(\"%d번 학생 축하합니다. 합격입니다.\" % number)  # index_number을 넣어서 합격일때만 출력"
   ]
  },
  {
   "cell_type": "code",
   "execution_count": 406,
   "id": "0c7a27f4-5bcb-4685-86af-428bd7bf0dab",
   "metadata": {},
   "outputs": [
    {
     "name": "stdout",
     "output_type": "stream",
     "text": [
      "2  \n",
      "4  \n",
      "6  \n",
      "8  \n",
      "10  \n",
      "12  \n",
      "14  \n",
      "16  \n",
      "18  \n",
      "3  \n",
      "6  \n",
      "9  \n",
      "12  \n",
      "15  \n",
      "18  \n",
      "21  \n",
      "24  \n",
      "27  \n",
      "4  \n",
      "8  \n",
      "12  \n",
      "16  \n",
      "20  \n",
      "24  \n",
      "28  \n",
      "32  \n",
      "36  \n",
      "5  \n",
      "10  \n",
      "15  \n",
      "20  \n",
      "25  \n",
      "30  \n",
      "35  \n",
      "40  \n",
      "45  \n",
      "6  \n",
      "12  \n",
      "18  \n",
      "24  \n",
      "30  \n",
      "36  \n",
      "42  \n",
      "48  \n",
      "54  \n",
      "7  \n",
      "14  \n",
      "21  \n",
      "28  \n",
      "35  \n",
      "42  \n",
      "49  \n",
      "56  \n",
      "63  \n",
      "8  \n",
      "16  \n",
      "24  \n",
      "32  \n",
      "40  \n",
      "48  \n",
      "56  \n",
      "64  \n",
      "72  \n",
      "9  \n",
      "18  \n",
      "27  \n",
      "36  \n",
      "45  \n",
      "54  \n",
      "63  \n",
      "72  \n",
      "81  \n"
     ]
    }
   ],
   "source": [
    "for i in range(2,10):\n",
    "    for j in range(1, 10):\n",
    "        print(i*j, end = \" \")\n",
    "        print(\" \")"
   ]
  },
  {
   "cell_type": "code",
   "execution_count": 407,
   "id": "4d4e769a-f3ea-48d9-8a71-de270eade78f",
   "metadata": {},
   "outputs": [
    {
     "name": "stdout",
     "output_type": "stream",
     "text": [
      "2 4 6 8 10 12 14 16 18  \n",
      "3 6 9 12 15 18 21 24 27  \n",
      "4 8 12 16 20 24 28 32 36  \n",
      "5 10 15 20 25 30 35 40 45  \n",
      "6 12 18 24 30 36 42 48 54  \n",
      "7 14 21 28 35 42 49 56 63  \n",
      "8 16 24 32 40 48 56 64 72  \n",
      "9 18 27 36 45 54 63 72 81  \n"
     ]
    }
   ],
   "source": [
    "for i in range(2,10):\n",
    "    for j in range(1, 10):\n",
    "        print(i*j, end = \" \")\n",
    "    print(\" \")"
   ]
  },
  {
   "cell_type": "code",
   "execution_count": 408,
   "id": "17951466-d6a9-4958-a800-be15ac7de368",
   "metadata": {},
   "outputs": [
    {
     "name": "stdout",
     "output_type": "stream",
     "text": [
      "i = 0\n",
      "i = 1\n",
      "i = 2\n",
      "END\n"
     ]
    }
   ],
   "source": [
    "for i in range(3):\n",
    "    print(\"i =\", i)\n",
    "else:\n",
    "    print(\"END\")"
   ]
  },
  {
   "cell_type": "code",
   "execution_count": 409,
   "id": "ce8afffd-ce67-422e-a7d4-97ab184ff977",
   "metadata": {},
   "outputs": [
    {
     "name": "stdout",
     "output_type": "stream",
     "text": [
      "j = 0\n",
      "j = 1\n"
     ]
    }
   ],
   "source": [
    "for j in range(3):\n",
    "    if j == 2:\n",
    "        break\n",
    "    print(\"j =\", j)\n",
    "else:\n",
    "    print(\"END\")"
   ]
  },
  {
   "cell_type": "code",
   "execution_count": 411,
   "id": "bc9def0e-5273-42aa-babd-bd4a14198c8a",
   "metadata": {},
   "outputs": [
    {
     "data": {
      "text/plain": [
       "[0, 1, 2, 3, 4]"
      ]
     },
     "execution_count": 411,
     "metadata": {},
     "output_type": "execute_result"
    }
   ],
   "source": [
    "list(range(5))"
   ]
  },
  {
   "cell_type": "code",
   "execution_count": 412,
   "id": "4cece09b-f8f7-422f-9c7e-04f8d97c0167",
   "metadata": {},
   "outputs": [
    {
     "name": "stdout",
     "output_type": "stream",
     "text": [
      "0\n",
      "1\n",
      "2\n",
      "break\n"
     ]
    }
   ],
   "source": [
    "for i in range(5):\n",
    "    if i == 3: break\n",
    "    print(i)\n",
    "print(\"break\")"
   ]
  },
  {
   "cell_type": "code",
   "execution_count": 413,
   "id": "9f790c04-8b6c-4088-a3d0-744c49562bf1",
   "metadata": {},
   "outputs": [
    {
     "name": "stdout",
     "output_type": "stream",
     "text": [
      "0\n",
      "1\n",
      "2\n",
      "4\n",
      "continue\n"
     ]
    }
   ],
   "source": [
    "for i in range(5):\n",
    "    if i == 3: continue\n",
    "    print(i)\n",
    "print(\"continue\")"
   ]
  },
  {
   "cell_type": "code",
   "execution_count": 414,
   "id": "0cc38bbd-21fc-40da-94ba-6162fce2f85b",
   "metadata": {},
   "outputs": [
    {
     "name": "stdout",
     "output_type": "stream",
     "text": [
      "1\n",
      "2\n",
      "break\n"
     ]
    }
   ],
   "source": [
    "i = 0\n",
    "while i < 5:\n",
    "    i += 1\n",
    "    if i == 3: break\n",
    "    print(i)\n",
    "print(\"break\")"
   ]
  },
  {
   "cell_type": "code",
   "execution_count": 415,
   "id": "6718955a-4bce-494f-a149-f4130b383b13",
   "metadata": {},
   "outputs": [
    {
     "name": "stdout",
     "output_type": "stream",
     "text": [
      "1\n",
      "2\n",
      "4\n",
      "5\n",
      "continue\n"
     ]
    }
   ],
   "source": [
    "i = 0\n",
    "while i < 5:\n",
    "    i += 1\n",
    "    if i == 3: continue\n",
    "    print(i)\n",
    "print(\"continue\")"
   ]
  },
  {
   "cell_type": "code",
   "execution_count": null,
   "id": "88a62e54-2356-4dd7-a831-3205c12d3eee",
   "metadata": {},
   "outputs": [],
   "source": []
  }
 ],
 "metadata": {
  "kernelspec": {
   "display_name": "Python 3 (ipykernel)",
   "language": "python",
   "name": "python3"
  },
  "language_info": {
   "codemirror_mode": {
    "name": "ipython",
    "version": 3
   },
   "file_extension": ".py",
   "mimetype": "text/x-python",
   "name": "python",
   "nbconvert_exporter": "python",
   "pygments_lexer": "ipython3",
   "version": "3.9.12"
  }
 },
 "nbformat": 4,
 "nbformat_minor": 5
}
