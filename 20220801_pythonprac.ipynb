{
 "cells": [
  {
   "cell_type": "code",
   "execution_count": 1,
   "id": "90dcd9a7-00e5-4604-a251-11d78d615a14",
   "metadata": {},
   "outputs": [
    {
     "name": "stdout",
     "output_type": "stream",
     "text": [
      "1\n"
     ]
    }
   ],
   "source": [
    "a = 1\n",
    "print(a)"
   ]
  },
  {
   "cell_type": "code",
   "execution_count": 1,
   "id": "2f66828a-af73-44f0-8294-32db6b05e82e",
   "metadata": {},
   "outputs": [
    {
     "name": "stdout",
     "output_type": "stream",
     "text": [
      "hello world\n"
     ]
    }
   ],
   "source": [
    "print(\"hello world\")"
   ]
  },
  {
   "cell_type": "code",
   "execution_count": 2,
   "id": "4ea0d352-75c8-4325-af79-933b6d26c410",
   "metadata": {},
   "outputs": [
    {
     "name": "stdout",
     "output_type": "stream",
     "text": [
      "               country  wine  death\n",
      "0            Australia   2.5    211\n",
      "1              Austria   3.9    167\n",
      "2   Belgium/Luxembourg   2.9    131\n",
      "3               Canada   2.4    191\n",
      "4              Denmark   2.9    220\n",
      "5              Finland   0.8    297\n",
      "6               France   9.1     71\n",
      "7              Iceland   0.8    211\n",
      "8              Ireland   0.7    300\n",
      "9                Italy   7.9    107\n",
      "10         Netherlands   1.8    167\n",
      "11         New Zealand   1.9    266\n",
      "12              Norway   0.8    227\n",
      "13               Spain   6.5     86\n",
      "14              Sweden   1.6    207\n",
      "15         Switzerland   5.8    115\n",
      "16      United Kingdom   1.3    285\n",
      "17       United States   1.2    199\n",
      "18        West Germany   2.7    172\n"
     ]
    }
   ],
   "source": [
    "import pandas as pd\n",
    "data = pd.read_csv(\"wine.csv\")\n",
    "print(data)"
   ]
  },
  {
   "cell_type": "code",
   "execution_count": 3,
   "id": "b5089c1b-b441-419c-b481-de9c12da7a94",
   "metadata": {},
   "outputs": [
    {
     "data": {
      "text/html": [
       "<div>\n",
       "<style scoped>\n",
       "    .dataframe tbody tr th:only-of-type {\n",
       "        vertical-align: middle;\n",
       "    }\n",
       "\n",
       "    .dataframe tbody tr th {\n",
       "        vertical-align: top;\n",
       "    }\n",
       "\n",
       "    .dataframe thead th {\n",
       "        text-align: right;\n",
       "    }\n",
       "</style>\n",
       "<table border=\"1\" class=\"dataframe\">\n",
       "  <thead>\n",
       "    <tr style=\"text-align: right;\">\n",
       "      <th></th>\n",
       "      <th>country</th>\n",
       "      <th>wine</th>\n",
       "      <th>death</th>\n",
       "    </tr>\n",
       "  </thead>\n",
       "  <tbody>\n",
       "    <tr>\n",
       "      <th>0</th>\n",
       "      <td>Australia</td>\n",
       "      <td>2.5</td>\n",
       "      <td>211</td>\n",
       "    </tr>\n",
       "    <tr>\n",
       "      <th>1</th>\n",
       "      <td>Austria</td>\n",
       "      <td>3.9</td>\n",
       "      <td>167</td>\n",
       "    </tr>\n",
       "    <tr>\n",
       "      <th>2</th>\n",
       "      <td>Belgium/Luxembourg</td>\n",
       "      <td>2.9</td>\n",
       "      <td>131</td>\n",
       "    </tr>\n",
       "    <tr>\n",
       "      <th>3</th>\n",
       "      <td>Canada</td>\n",
       "      <td>2.4</td>\n",
       "      <td>191</td>\n",
       "    </tr>\n",
       "    <tr>\n",
       "      <th>4</th>\n",
       "      <td>Denmark</td>\n",
       "      <td>2.9</td>\n",
       "      <td>220</td>\n",
       "    </tr>\n",
       "    <tr>\n",
       "      <th>5</th>\n",
       "      <td>Finland</td>\n",
       "      <td>0.8</td>\n",
       "      <td>297</td>\n",
       "    </tr>\n",
       "    <tr>\n",
       "      <th>6</th>\n",
       "      <td>France</td>\n",
       "      <td>9.1</td>\n",
       "      <td>71</td>\n",
       "    </tr>\n",
       "    <tr>\n",
       "      <th>7</th>\n",
       "      <td>Iceland</td>\n",
       "      <td>0.8</td>\n",
       "      <td>211</td>\n",
       "    </tr>\n",
       "    <tr>\n",
       "      <th>8</th>\n",
       "      <td>Ireland</td>\n",
       "      <td>0.7</td>\n",
       "      <td>300</td>\n",
       "    </tr>\n",
       "    <tr>\n",
       "      <th>9</th>\n",
       "      <td>Italy</td>\n",
       "      <td>7.9</td>\n",
       "      <td>107</td>\n",
       "    </tr>\n",
       "    <tr>\n",
       "      <th>10</th>\n",
       "      <td>Netherlands</td>\n",
       "      <td>1.8</td>\n",
       "      <td>167</td>\n",
       "    </tr>\n",
       "    <tr>\n",
       "      <th>11</th>\n",
       "      <td>New Zealand</td>\n",
       "      <td>1.9</td>\n",
       "      <td>266</td>\n",
       "    </tr>\n",
       "    <tr>\n",
       "      <th>12</th>\n",
       "      <td>Norway</td>\n",
       "      <td>0.8</td>\n",
       "      <td>227</td>\n",
       "    </tr>\n",
       "    <tr>\n",
       "      <th>13</th>\n",
       "      <td>Spain</td>\n",
       "      <td>6.5</td>\n",
       "      <td>86</td>\n",
       "    </tr>\n",
       "    <tr>\n",
       "      <th>14</th>\n",
       "      <td>Sweden</td>\n",
       "      <td>1.6</td>\n",
       "      <td>207</td>\n",
       "    </tr>\n",
       "    <tr>\n",
       "      <th>15</th>\n",
       "      <td>Switzerland</td>\n",
       "      <td>5.8</td>\n",
       "      <td>115</td>\n",
       "    </tr>\n",
       "    <tr>\n",
       "      <th>16</th>\n",
       "      <td>United Kingdom</td>\n",
       "      <td>1.3</td>\n",
       "      <td>285</td>\n",
       "    </tr>\n",
       "    <tr>\n",
       "      <th>17</th>\n",
       "      <td>United States</td>\n",
       "      <td>1.2</td>\n",
       "      <td>199</td>\n",
       "    </tr>\n",
       "    <tr>\n",
       "      <th>18</th>\n",
       "      <td>West Germany</td>\n",
       "      <td>2.7</td>\n",
       "      <td>172</td>\n",
       "    </tr>\n",
       "  </tbody>\n",
       "</table>\n",
       "</div>"
      ],
      "text/plain": [
       "               country  wine  death\n",
       "0            Australia   2.5    211\n",
       "1              Austria   3.9    167\n",
       "2   Belgium/Luxembourg   2.9    131\n",
       "3               Canada   2.4    191\n",
       "4              Denmark   2.9    220\n",
       "5              Finland   0.8    297\n",
       "6               France   9.1     71\n",
       "7              Iceland   0.8    211\n",
       "8              Ireland   0.7    300\n",
       "9                Italy   7.9    107\n",
       "10         Netherlands   1.8    167\n",
       "11         New Zealand   1.9    266\n",
       "12              Norway   0.8    227\n",
       "13               Spain   6.5     86\n",
       "14              Sweden   1.6    207\n",
       "15         Switzerland   5.8    115\n",
       "16      United Kingdom   1.3    285\n",
       "17       United States   1.2    199\n",
       "18        West Germany   2.7    172"
      ]
     },
     "execution_count": 3,
     "metadata": {},
     "output_type": "execute_result"
    }
   ],
   "source": [
    "data_df = pd.DataFrame(data)\n",
    "data_df"
   ]
  },
  {
   "cell_type": "code",
   "execution_count": 8,
   "id": "8e005da8-324e-4480-9707-bfe639b076f6",
   "metadata": {},
   "outputs": [
    {
     "name": "stdin",
     "output_type": "stream",
     "text": [
      "나이를 입력하세요 11\n"
     ]
    },
    {
     "name": "stdout",
     "output_type": "stream",
     "text": [
      "할인이 안됩니다\n"
     ]
    }
   ],
   "source": [
    "age = input('나이를 입력하세요')\n",
    "\n",
    "if int(age) < 10:\n",
    "    print('할인되었습니다')\n",
    "else:\n",
    "    print('할인이 안됩니다')"
   ]
  },
  {
   "cell_type": "code",
   "execution_count": 3,
   "id": "8bad5321-e532-46ae-9038-3007fe7f97bc",
   "metadata": {},
   "outputs": [
    {
     "name": "stdout",
     "output_type": "stream",
     "text": [
      "1\n"
     ]
    }
   ],
   "source": [
    "a = 1\n",
    "print(a)"
   ]
  },
  {
   "cell_type": "markdown",
   "id": "1e8fc262-4ebf-4257-aa22-d03f5ddecaa6",
   "metadata": {},
   "source": [
    "# hello\n",
    "## hello\n",
    "*hello*"
   ]
  },
  {
   "cell_type": "code",
   "execution_count": null,
   "id": "bc35f156-44d5-4ef1-8879-b6d13ea86076",
   "metadata": {},
   "outputs": [],
   "source": []
  },
  {
   "cell_type": "code",
   "execution_count": null,
   "id": "4ab4e3fb-c978-4c06-afd4-a3e56bf94fa8",
   "metadata": {},
   "outputs": [],
   "source": [
    "# print(\"hi\")\n",
    "a = 1\n",
    "\n",
    "b = 1"
   ]
  },
  {
   "cell_type": "code",
   "execution_count": 4,
   "id": "be90a459-c2b1-49b9-9c6f-a515847e846c",
   "metadata": {
    "tags": []
   },
   "outputs": [
    {
     "name": "stdout",
     "output_type": "stream",
     "text": [
      "Python 3.9.12\n"
     ]
    }
   ],
   "source": [
    "!python --version"
   ]
  },
  {
   "cell_type": "code",
   "execution_count": null,
   "id": "ff6ff5b7-adfa-48e4-81ab-031c2e731b65",
   "metadata": {},
   "outputs": [],
   "source": []
  },
  {
   "cell_type": "code",
   "execution_count": 13,
   "id": "4fa95992-85e2-4161-bc31-13396c6a6d14",
   "metadata": {},
   "outputs": [
    {
     "name": "stdout",
     "output_type": "stream",
     "text": [
      "# packages in environment at C:\\Users\\Conet\\anaconda3:\n",
      "#\n",
      "# Name                    Version                   Build  Channel\n",
      "_ipyw_jlab_nb_ext_conf    0.1.0            py39haa95532_0  \n",
      "aiohttp                   3.8.1            py39h2bbff1b_1  \n",
      "aiosignal                 1.2.0              pyhd3eb1b0_0  \n",
      "alabaster                 0.7.12             pyhd3eb1b0_0  \n",
      "anaconda                  2022.05                  py39_0  \n",
      "anaconda-client           1.9.0            py39haa95532_0  \n",
      "anaconda-navigator        2.2.0            py39haa95532_0  \n",
      "anaconda-project          0.10.2             pyhd3eb1b0_0  \n",
      "anyio                     3.5.0            py39haa95532_0  \n",
      "appdirs                   1.4.4              pyhd3eb1b0_0  \n",
      "argon2-cffi               21.3.0             pyhd3eb1b0_0  \n",
      "argon2-cffi-bindings      21.2.0           py39h2bbff1b_0  \n",
      "arrow                     1.2.2              pyhd3eb1b0_0  \n",
      "astroid                   2.6.6            py39haa95532_0  \n",
      "astropy                   5.0.4            py39h080aedc_0  \n",
      "asttokens                 2.0.5              pyhd3eb1b0_0  \n",
      "async-timeout             4.0.1              pyhd3eb1b0_0  \n",
      "atomicwrites              1.4.0                      py_0  \n",
      "attrs                     21.4.0             pyhd3eb1b0_0  \n",
      "automat                   20.2.0                     py_0  \n",
      "autopep8                  1.6.0              pyhd3eb1b0_0  \n",
      "babel                     2.9.1              pyhd3eb1b0_0  \n",
      "backcall                  0.2.0              pyhd3eb1b0_0  \n",
      "backports                 1.1                pyhd3eb1b0_0  \n",
      "backports.functools_lru_cache 1.6.4              pyhd3eb1b0_0  \n",
      "backports.tempfile        1.0                pyhd3eb1b0_1  \n",
      "backports.weakref         1.0.post1                  py_1  \n",
      "bcrypt                    3.2.0            py39h196d8e1_0  \n",
      "beautifulsoup4            4.11.1           py39haa95532_0  \n",
      "binaryornot               0.4.4              pyhd3eb1b0_1  \n",
      "bitarray                  2.4.1            py39h2bbff1b_0  \n",
      "bkcharts                  0.2              py39haa95532_0  \n",
      "black                     19.10b0                    py_0  \n",
      "blas                      1.0                         mkl  \n",
      "bleach                    4.1.0              pyhd3eb1b0_0  \n",
      "blosc                     1.21.0               h19a0ad4_0  \n",
      "bokeh                     2.4.2            py39haa95532_0  \n",
      "boto3                     1.21.32            pyhd3eb1b0_0  \n",
      "botocore                  1.24.32            pyhd3eb1b0_0  \n",
      "bottleneck                1.3.4            py39h080aedc_0  \n",
      "brotli                    1.0.9                ha925a31_2  \n",
      "brotlipy                  0.7.0           py39h2bbff1b_1003  \n",
      "bzip2                     1.0.8                he774522_0  \n",
      "ca-certificates           2022.3.29            haa95532_1  \n",
      "cachetools                4.2.2              pyhd3eb1b0_0  \n",
      "certifi                   2021.10.8        py39haa95532_2  \n",
      "cffi                      1.15.0           py39h2bbff1b_1  \n",
      "cfitsio                   3.470                he774522_6  \n",
      "chardet                   4.0.0           py39haa95532_1003  \n",
      "charls                    2.2.0                h6c2663c_0  \n",
      "charset-normalizer        2.0.4              pyhd3eb1b0_0  \n",
      "click                     8.0.4            py39haa95532_0  \n",
      "cloudpickle               2.0.0              pyhd3eb1b0_0  \n",
      "clyent                    1.2.2            py39haa95532_1  \n",
      "colorama                  0.4.4              pyhd3eb1b0_0  \n",
      "colorcet                  2.0.6              pyhd3eb1b0_0  \n",
      "comtypes                  1.1.10          py39haa95532_1002  \n",
      "conda                     4.13.0           py39haa95532_0  \n",
      "conda-build               3.21.8           py39haa95532_2  \n",
      "conda-content-trust       0.1.1              pyhd3eb1b0_0  \n",
      "conda-env                 2.6.0                haa95532_1  \n",
      "conda-pack                0.6.0              pyhd3eb1b0_0  \n",
      "conda-package-handling    1.8.1            py39h8cc25b3_0  \n",
      "conda-repo-cli            1.0.4              pyhd3eb1b0_0  \n",
      "conda-token               0.3.0              pyhd3eb1b0_0  \n",
      "conda-verify              3.4.2                      py_1  \n",
      "console_shortcut          0.1.1                         4  \n",
      "constantly                15.1.0             pyh2b92418_0  \n",
      "cookiecutter              1.7.3              pyhd3eb1b0_0  \n",
      "cryptography              3.4.8            py39h71e12ea_0  \n",
      "cssselect                 1.1.0              pyhd3eb1b0_0  \n",
      "curl                      7.82.0               h2bbff1b_0  \n",
      "cycler                    0.11.0             pyhd3eb1b0_0  \n",
      "cython                    0.29.28          py39hd77b12b_0  \n",
      "cytoolz                   0.11.0           py39h2bbff1b_0  \n",
      "daal4py                   2021.5.0         py39h8cb3d55_0  \n",
      "dal                       2021.5.0           haa95532_796  \n",
      "dask                      2022.2.1           pyhd3eb1b0_0  \n",
      "dask-core                 2022.2.1           pyhd3eb1b0_0  \n",
      "dataclasses               0.8                pyh6d0b6a4_7  \n",
      "datashader                0.13.0             pyhd3eb1b0_1  \n",
      "datashape                 0.5.4            py39haa95532_1  \n",
      "debugpy                   1.5.1            py39hd77b12b_0  \n",
      "decorator                 5.1.1              pyhd3eb1b0_0  \n",
      "defusedxml                0.7.1              pyhd3eb1b0_0  \n",
      "diff-match-patch          20200713           pyhd3eb1b0_0  \n",
      "distributed               2022.2.1           pyhd3eb1b0_0  \n",
      "docutils                  0.17.1           py39haa95532_1  \n",
      "entrypoints               0.4              py39haa95532_0  \n",
      "et_xmlfile                1.1.0            py39haa95532_0  \n",
      "Note: you may need to restart the kernel to use updated packages.\n",
      "\n",
      "executing                 0.8.3              pyhd3eb1b0_0  \n",
      "filelock                  3.6.0              pyhd3eb1b0_0  \n",
      "flake8                    3.9.2              pyhd3eb1b0_0  \n",
      "flask                     1.1.2              pyhd3eb1b0_0  \n",
      "fonttools                 4.25.0             pyhd3eb1b0_0  \n",
      "freetype                  2.10.4               hd328e21_0  \n",
      "frozenlist                1.2.0            py39h2bbff1b_0  \n",
      "fsspec                    2022.2.0           pyhd3eb1b0_0  \n",
      "future                    0.18.2           py39haa95532_1  \n",
      "gensim                    4.1.2            py39hd77b12b_0  \n",
      "giflib                    5.2.1                h62dcd97_0  \n",
      "glob2                     0.7                pyhd3eb1b0_0  \n",
      "google-api-core           1.25.1             pyhd3eb1b0_0  \n",
      "google-auth               1.33.0             pyhd3eb1b0_0  \n",
      "google-cloud-core         1.7.1              pyhd3eb1b0_0  \n",
      "google-cloud-storage      1.31.0                     py_0  \n",
      "google-crc32c             1.1.2            py39h2bbff1b_0  \n",
      "google-resumable-media    1.3.1              pyhd3eb1b0_1  \n",
      "googleapis-common-protos  1.53.0           py39h2eaa2aa_0  \n",
      "greenlet                  1.1.1            py39hd77b12b_0  \n",
      "grpcio                    1.42.0           py39hc60d5dd_0  \n",
      "h5py                      3.6.0            py39h3de5c98_0  \n",
      "hdf5                      1.10.6               h7ebc959_0  \n",
      "heapdict                  1.0.1              pyhd3eb1b0_0  \n",
      "holoviews                 1.14.8             pyhd3eb1b0_0  \n",
      "hvplot                    0.7.3              pyhd3eb1b0_1  \n",
      "hyperlink                 21.0.0             pyhd3eb1b0_0  \n",
      "icc_rt                    2019.0.0             h0cc432a_1  \n",
      "icu                       58.2                 ha925a31_3  \n",
      "idna                      3.3                pyhd3eb1b0_0  \n",
      "imagecodecs               2021.8.26        py39ha1f97ea_0  \n",
      "imageio                   2.9.0              pyhd3eb1b0_0  \n",
      "imagesize                 1.3.0              pyhd3eb1b0_0  \n",
      "importlib-metadata        4.11.3           py39haa95532_0  \n",
      "importlib_metadata        4.11.3               hd3eb1b0_0  \n",
      "incremental               21.3.0             pyhd3eb1b0_0  \n",
      "inflection                0.5.1            py39haa95532_0  \n",
      "iniconfig                 1.1.1              pyhd3eb1b0_0  \n",
      "intake                    0.6.5              pyhd3eb1b0_0  \n",
      "intel-openmp              2021.4.0          haa95532_3556  \n",
      "intervaltree              3.1.0              pyhd3eb1b0_0  \n",
      "ipykernel                 6.9.1            py39haa95532_0  \n",
      "ipython                   8.2.0            py39haa95532_0  \n",
      "ipython_genutils          0.2.0              pyhd3eb1b0_1  \n",
      "ipywidgets                7.6.5              pyhd3eb1b0_1  \n",
      "isort                     5.9.3              pyhd3eb1b0_0  \n",
      "itemadapter               0.3.0              pyhd3eb1b0_0  \n",
      "itemloaders               1.0.4              pyhd3eb1b0_1  \n",
      "itsdangerous              2.0.1              pyhd3eb1b0_0  \n",
      "jdcal                     1.4.1              pyhd3eb1b0_0  \n",
      "jedi                      0.18.1           py39haa95532_1  \n",
      "jinja2                    2.11.3             pyhd3eb1b0_0  \n",
      "jinja2-time               0.2.0              pyhd3eb1b0_3  \n",
      "jmespath                  0.10.0             pyhd3eb1b0_0  \n",
      "joblib                    1.1.0              pyhd3eb1b0_0  \n",
      "jpeg                      9e                   h2bbff1b_0  \n",
      "jq                        1.6                  haa95532_1  \n",
      "json5                     0.9.6              pyhd3eb1b0_0  \n",
      "jsonschema                4.4.0            py39haa95532_0  \n",
      "jupyter                   1.0.0            py39haa95532_7  \n",
      "jupyter_client            6.1.12             pyhd3eb1b0_0  \n",
      "jupyter_console           6.4.0              pyhd3eb1b0_0  \n",
      "jupyter_core              4.9.2            py39haa95532_0  \n",
      "jupyter_server            1.13.5             pyhd3eb1b0_0  \n",
      "jupyterlab                3.3.2              pyhd3eb1b0_0  \n",
      "jupyterlab_pygments       0.1.2                      py_0  \n",
      "jupyterlab_server         2.10.3             pyhd3eb1b0_1  \n",
      "jupyterlab_widgets        1.0.0              pyhd3eb1b0_1  \n",
      "keyring                   23.4.0           py39haa95532_0  \n",
      "kiwisolver                1.3.2            py39hd77b12b_0  \n",
      "lazy-object-proxy         1.6.0            py39h2bbff1b_0  \n",
      "lcms2                     2.12                 h83e58a3_0  \n",
      "lerc                      3.0                  hd77b12b_0  \n",
      "libaec                    1.0.4                h33f27b4_1  \n",
      "libarchive                3.4.2                h5e25573_0  \n",
      "libcrc32c                 1.1.1                ha925a31_2  \n",
      "libcurl                   7.82.0               h86230a5_0  \n",
      "libdeflate                1.8                  h2bbff1b_5  \n",
      "libiconv                  1.16                 h2bbff1b_2  \n",
      "liblief                   0.11.5               hd77b12b_1  \n",
      "libpng                    1.6.37               h2a8f88b_0  \n",
      "libprotobuf               3.19.1               h23ce68f_0  \n",
      "libspatialindex           1.9.3                h6c2663c_0  \n",
      "libssh2                   1.10.0               hcd4344a_0  \n",
      "libtiff                   4.2.0                hd0e1b90_0  \n",
      "libwebp                   1.2.2                h2bbff1b_0  \n",
      "libxml2                   2.9.12               h0ad7f3c_0  \n",
      "libxslt                   1.1.34               he774522_0  \n",
      "libzopfli                 1.0.3                ha925a31_0  \n",
      "llvmlite                  0.38.0           py39h23ce68f_0  \n",
      "locket                    0.2.1            py39haa95532_2  \n",
      "lxml                      4.8.0            py39h1985fb9_0  \n",
      "lz4-c                     1.9.3                h2bbff1b_1  \n",
      "lzo                       2.10                 he774522_2  \n",
      "m2w64-libwinpthread-git   5.0.0.4634.697f757               2  \n",
      "markdown                  3.3.4            py39haa95532_0  \n",
      "markupsafe                2.0.1            py39h2bbff1b_0  \n",
      "matplotlib                3.5.1            py39haa95532_1  \n",
      "matplotlib-base           3.5.1            py39hd77b12b_1  \n",
      "matplotlib-inline         0.1.2              pyhd3eb1b0_2  \n",
      "mccabe                    0.6.1            py39haa95532_1  \n",
      "menuinst                  1.4.18           py39h59b6b97_0  \n",
      "mistune                   0.8.4           py39h2bbff1b_1000  \n",
      "mkl                       2021.4.0           haa95532_640  \n",
      "mkl-service               2.4.0            py39h2bbff1b_0  \n",
      "mkl_fft                   1.3.1            py39h277e83a_0  \n",
      "mkl_random                1.2.2            py39hf11a4ad_0  \n",
      "mock                      4.0.3              pyhd3eb1b0_0  \n",
      "mpmath                    1.2.1            py39haa95532_0  \n",
      "msgpack-python            1.0.2            py39h59b6b97_1  \n",
      "msys2-conda-epoch         20160418                      1  \n",
      "multidict                 5.1.0            py39h2bbff1b_2  \n",
      "multipledispatch          0.6.0            py39haa95532_0  \n",
      "munkres                   1.1.4                      py_0  \n",
      "mypy_extensions           0.4.3            py39haa95532_1  \n",
      "navigator-updater         0.2.1                    py39_1  \n",
      "nbclassic                 0.3.5              pyhd3eb1b0_0  \n",
      "nbclient                  0.5.13           py39haa95532_0  \n",
      "nbconvert                 6.4.4            py39haa95532_0  \n",
      "nbformat                  5.3.0            py39haa95532_0  \n",
      "nest-asyncio              1.5.5            py39haa95532_0  \n",
      "networkx                  2.7.1              pyhd3eb1b0_0  \n",
      "nltk                      3.7                pyhd3eb1b0_0  \n",
      "nose                      1.3.7           pyhd3eb1b0_1008  \n",
      "notebook                  6.4.8            py39haa95532_0  \n",
      "numba                     0.55.1           py39hf11a4ad_0  \n",
      "numexpr                   2.8.1            py39hb80d3ca_0  \n",
      "numpy                     1.21.5           py39h7a0a035_1  \n",
      "numpy-base                1.21.5           py39hca35cd5_1  \n",
      "numpydoc                  1.2                pyhd3eb1b0_0  \n",
      "olefile                   0.46               pyhd3eb1b0_0  \n",
      "openjpeg                  2.4.0                h4fc8c34_0  \n",
      "openpyxl                  3.0.9              pyhd3eb1b0_0  \n",
      "openssl                   1.1.1n               h2bbff1b_0  \n",
      "packaging                 21.3               pyhd3eb1b0_0  \n",
      "pandas                    1.4.2            py39hd77b12b_0  \n",
      "pandocfilters             1.5.0              pyhd3eb1b0_0  \n",
      "panel                     0.13.0           py39haa95532_0  \n",
      "param                     1.12.0             pyhd3eb1b0_0  \n",
      "paramiko                  2.8.1              pyhd3eb1b0_0  \n",
      "parsel                    1.6.0            py39haa95532_0  \n",
      "parso                     0.8.3              pyhd3eb1b0_0  \n",
      "partd                     1.2.0              pyhd3eb1b0_1  \n",
      "pathspec                  0.7.0                      py_0  \n",
      "patsy                     0.5.2            py39haa95532_1  \n",
      "pep8                      1.7.1            py39haa95532_0  \n",
      "pexpect                   4.8.0              pyhd3eb1b0_3  \n",
      "pickleshare               0.7.5           pyhd3eb1b0_1003  \n",
      "pillow                    9.0.1            py39hdc2b20a_0  \n",
      "pip                       21.2.4           py39haa95532_0  \n",
      "pkginfo                   1.8.2              pyhd3eb1b0_0  \n",
      "plotly                    5.6.0              pyhd3eb1b0_0  \n",
      "pluggy                    1.0.0            py39haa95532_1  \n",
      "powershell_shortcut       0.0.1                         3  \n",
      "poyo                      0.5.0              pyhd3eb1b0_0  \n",
      "prometheus_client         0.13.1             pyhd3eb1b0_0  \n",
      "prompt-toolkit            3.0.20             pyhd3eb1b0_0  \n",
      "prompt_toolkit            3.0.20               hd3eb1b0_0  \n",
      "protego                   0.1.16                     py_0  \n",
      "protobuf                  3.19.1           py39hd77b12b_0  \n",
      "psutil                    5.8.0            py39h2bbff1b_1  \n",
      "ptyprocess                0.7.0              pyhd3eb1b0_2  \n",
      "pure_eval                 0.2.2              pyhd3eb1b0_0  \n",
      "py                        1.11.0             pyhd3eb1b0_0  \n",
      "py-lief                   0.11.5           py39hd77b12b_1  \n",
      "pyasn1                    0.4.8              pyhd3eb1b0_0  \n",
      "pyasn1-modules            0.2.8                      py_0  \n",
      "pycodestyle               2.7.0              pyhd3eb1b0_0  \n",
      "pycosat                   0.6.3            py39h2bbff1b_0  \n",
      "pycparser                 2.21               pyhd3eb1b0_0  \n",
      "pyct                      0.4.6            py39haa95532_0  \n",
      "pycurl                    7.44.1           py39hcd4344a_1  \n",
      "pydispatcher              2.0.5            py39haa95532_2  \n",
      "pydocstyle                6.1.1              pyhd3eb1b0_0  \n",
      "pyerfa                    2.0.0            py39h2bbff1b_0  \n",
      "pyflakes                  2.3.1              pyhd3eb1b0_0  \n",
      "pygments                  2.11.2             pyhd3eb1b0_0  \n",
      "pyhamcrest                2.0.2              pyhd3eb1b0_2  \n",
      "pyjwt                     2.1.0            py39haa95532_0  \n",
      "pylint                    2.9.6            py39haa95532_1  \n",
      "pyls-spyder               0.4.0              pyhd3eb1b0_0  \n",
      "pynacl                    1.4.0            py39hbd8134f_1  \n",
      "pyodbc                    4.0.32           py39hd77b12b_1  \n",
      "pyopenssl                 21.0.0             pyhd3eb1b0_1  \n",
      "pyparsing                 3.0.4              pyhd3eb1b0_0  \n",
      "pyqt                      5.9.2            py39hd77b12b_6  \n",
      "pyreadline                2.1              py39haa95532_1  \n",
      "pyrsistent                0.18.0           py39h196d8e1_0  \n",
      "pysocks                   1.7.1            py39haa95532_0  \n",
      "pytables                  3.6.1            py39h56d22b6_1  \n",
      "pytest                    7.1.1            py39haa95532_0  \n",
      "python                    3.9.12               h6244533_0  \n",
      "python-dateutil           2.8.2              pyhd3eb1b0_0  \n",
      "python-fastjsonschema     2.15.1             pyhd3eb1b0_0  \n",
      "python-libarchive-c       2.9                pyhd3eb1b0_1  \n",
      "python-lsp-black          1.0.0              pyhd3eb1b0_0  \n",
      "python-lsp-jsonrpc        1.0.0              pyhd3eb1b0_0  \n",
      "python-lsp-server         1.2.4              pyhd3eb1b0_0  \n",
      "python-slugify            5.0.2              pyhd3eb1b0_0  \n",
      "python-snappy             0.6.0            py39hd77b12b_3  \n",
      "pytz                      2021.3             pyhd3eb1b0_0  \n",
      "pyviz_comms               2.0.2              pyhd3eb1b0_0  \n",
      "pywavelets                1.3.0            py39h2bbff1b_0  \n",
      "pywin32                   302              py39h2bbff1b_2  \n",
      "pywin32-ctypes            0.2.0           py39haa95532_1000  \n",
      "pywinpty                  2.0.2            py39h5da7b33_0  \n",
      "pyyaml                    6.0              py39h2bbff1b_1  \n",
      "pyzmq                     22.3.0           py39hd77b12b_2  \n",
      "qdarkstyle                3.0.2              pyhd3eb1b0_0  \n",
      "qstylizer                 0.1.10             pyhd3eb1b0_0  \n",
      "qt                        5.9.7            vc14h73c81de_0  \n",
      "qtawesome                 1.0.3              pyhd3eb1b0_0  \n",
      "qtconsole                 5.3.0              pyhd3eb1b0_0  \n",
      "qtpy                      2.0.1              pyhd3eb1b0_0  \n",
      "queuelib                  1.5.0            py39haa95532_0  \n",
      "regex                     2022.3.15        py39h2bbff1b_0  \n",
      "requests                  2.27.1             pyhd3eb1b0_0  \n",
      "requests-file             1.5.1              pyhd3eb1b0_0  \n",
      "rope                      0.22.0             pyhd3eb1b0_0  \n",
      "rsa                       4.7.2              pyhd3eb1b0_1  \n",
      "rtree                     0.9.7            py39h2eaa2aa_1  \n",
      "ruamel_yaml               0.15.100         py39h2bbff1b_0  \n",
      "s3transfer                0.5.0              pyhd3eb1b0_0  \n",
      "scikit-image              0.19.2           py39hf11a4ad_0  \n",
      "scikit-learn              1.0.2            py39hf11a4ad_1  \n",
      "scikit-learn-intelex      2021.5.0         py39haa95532_0  \n",
      "scipy                     1.7.3            py39h0a974cb_0  \n",
      "scrapy                    2.6.1            py39haa95532_0  \n",
      "seaborn                   0.11.2             pyhd3eb1b0_0  \n",
      "send2trash                1.8.0              pyhd3eb1b0_1  \n",
      "service_identity          18.1.0             pyhd3eb1b0_1  \n",
      "setuptools                61.2.0           py39haa95532_0  \n",
      "sip                       4.19.13          py39hd77b12b_0  \n",
      "six                       1.16.0             pyhd3eb1b0_1  \n",
      "smart_open                5.1.0              pyhd3eb1b0_0  \n",
      "snappy                    1.1.9                h6c2663c_0  \n",
      "sniffio                   1.2.0            py39haa95532_1  \n",
      "snowballstemmer           2.2.0              pyhd3eb1b0_0  \n",
      "sortedcollections         2.1.0              pyhd3eb1b0_0  \n",
      "sortedcontainers          2.4.0              pyhd3eb1b0_0  \n",
      "soupsieve                 2.3.1              pyhd3eb1b0_0  \n",
      "sphinx                    4.4.0              pyhd3eb1b0_0  \n",
      "sphinxcontrib-applehelp   1.0.2              pyhd3eb1b0_0  \n",
      "sphinxcontrib-devhelp     1.0.2              pyhd3eb1b0_0  \n",
      "sphinxcontrib-htmlhelp    2.0.0              pyhd3eb1b0_0  \n",
      "sphinxcontrib-jsmath      1.0.1              pyhd3eb1b0_0  \n",
      "sphinxcontrib-qthelp      1.0.3              pyhd3eb1b0_0  \n",
      "sphinxcontrib-serializinghtml 1.1.5              pyhd3eb1b0_0  \n",
      "spyder                    5.1.5            py39haa95532_1  \n",
      "spyder-kernels            2.1.3            py39haa95532_0  \n",
      "sqlalchemy                1.4.32           py39h2bbff1b_0  \n",
      "sqlite                    3.38.2               h2bbff1b_0  \n",
      "stack_data                0.2.0              pyhd3eb1b0_0  \n",
      "statsmodels               0.13.2           py39h2bbff1b_0  \n",
      "sympy                     1.10.1           py39haa95532_0  \n",
      "tabulate                  0.8.9            py39haa95532_0  \n",
      "tbb                       2021.5.0             h59b6b97_0  \n",
      "tbb4py                    2021.5.0         py39h59b6b97_0  \n",
      "tblib                     1.7.0              pyhd3eb1b0_0  \n",
      "tenacity                  8.0.1            py39haa95532_0  \n",
      "terminado                 0.13.1           py39haa95532_0  \n",
      "testpath                  0.5.0              pyhd3eb1b0_0  \n",
      "text-unidecode            1.3                pyhd3eb1b0_0  \n",
      "textdistance              4.2.1              pyhd3eb1b0_0  \n",
      "threadpoolctl             2.2.0              pyh0d69192_0  \n",
      "three-merge               0.1.1              pyhd3eb1b0_0  \n",
      "tifffile                  2021.7.2           pyhd3eb1b0_2  \n",
      "tinycss                   0.4             pyhd3eb1b0_1002  \n",
      "tk                        8.6.11               h2bbff1b_0  \n",
      "tldextract                3.2.0              pyhd3eb1b0_0  \n",
      "toml                      0.10.2             pyhd3eb1b0_0  \n",
      "tomli                     1.2.2              pyhd3eb1b0_0  \n",
      "toolz                     0.11.2             pyhd3eb1b0_0  \n",
      "tornado                   6.1              py39h2bbff1b_0  \n",
      "tqdm                      4.64.0           py39haa95532_0  \n",
      "traitlets                 5.1.1              pyhd3eb1b0_0  \n",
      "twisted                   22.2.0           py39h2bbff1b_0  \n",
      "twisted-iocpsupport       1.0.2            py39h2bbff1b_0  \n",
      "typed-ast                 1.4.3            py39h2bbff1b_1  \n",
      "typing-extensions         4.1.1                hd3eb1b0_0  \n",
      "typing_extensions         4.1.1              pyh06a4308_0  \n",
      "tzdata                    2022a                hda174b7_0  \n",
      "ujson                     5.1.0            py39hd77b12b_0  \n",
      "unidecode                 1.2.0              pyhd3eb1b0_0  \n",
      "urllib3                   1.26.9           py39haa95532_0  \n",
      "vc                        14.2                 h21ff451_1  \n",
      "vs2015_runtime            14.27.29016          h5e58377_2  \n",
      "w3lib                     1.21.0             pyhd3eb1b0_0  \n",
      "watchdog                  2.1.6            py39haa95532_0  \n",
      "wcwidth                   0.2.5              pyhd3eb1b0_0  \n",
      "webencodings              0.5.1            py39haa95532_1  \n",
      "websocket-client          0.58.0           py39haa95532_4  \n",
      "werkzeug                  2.0.3              pyhd3eb1b0_0  \n",
      "wheel                     0.37.1             pyhd3eb1b0_0  \n",
      "widgetsnbextension        3.5.2            py39haa95532_0  \n",
      "win_inet_pton             1.1.0            py39haa95532_0  \n",
      "win_unicode_console       0.5              py39haa95532_0  \n",
      "wincertstore              0.2              py39haa95532_2  \n",
      "winpty                    0.4.3                         4  \n",
      "wrapt                     1.12.1           py39h196d8e1_1  \n",
      "xarray                    0.20.1             pyhd3eb1b0_1  \n",
      "xlrd                      2.0.1              pyhd3eb1b0_0  \n",
      "xlsxwriter                3.0.3              pyhd3eb1b0_0  \n",
      "xlwings                   0.24.9           py39haa95532_0  \n",
      "xz                        5.2.5                h62dcd97_0  \n",
      "yaml                      0.2.5                he774522_0  \n",
      "yapf                      0.31.0             pyhd3eb1b0_0  \n",
      "yarl                      1.6.3            py39h2bbff1b_0  \n",
      "zfp                       0.5.5                hd77b12b_6  \n",
      "zict                      2.0.0              pyhd3eb1b0_0  \n",
      "zipp                      3.7.0              pyhd3eb1b0_0  \n",
      "zlib                      1.2.12               h8cc25b3_2  \n",
      "zope                      1.0              py39haa95532_1  \n",
      "zope.interface            5.4.0            py39h2bbff1b_0  \n",
      "zstd                      1.4.9                h19a0ad4_0  \n"
     ]
    }
   ],
   "source": [
    "conda list"
   ]
  },
  {
   "cell_type": "markdown",
   "id": "9440fc92-4248-4e42-a62c-395184e345d6",
   "metadata": {},
   "source": [
    "from IPython.core.interactiveshell import InteractiveShell\n",
    "\n",
    "InteractiveShell.ast_node_interactivity = “all”"
   ]
  },
  {
   "cell_type": "code",
   "execution_count": 2,
   "id": "b2ee86a5-f66c-4b2f-84f1-02858d519641",
   "metadata": {},
   "outputs": [
    {
     "data": {
      "text/plain": [
       "2"
      ]
     },
     "execution_count": 2,
     "metadata": {},
     "output_type": "execute_result"
    }
   ],
   "source": [
    "# from IPython.core.interactiveshell import InteractiveShell\n",
    "\n",
    "# InteractiveShell.ast_node_interactivity = 'all'\n",
    "# # 맨 마지막인 고유값만 반환해줌\n",
    "a=1\n",
    "b=2\n",
    "a\n",
    "b"
   ]
  },
  {
   "cell_type": "code",
   "execution_count": 4,
   "id": "8add9b45-7562-458a-a6c4-915cc180fd5d",
   "metadata": {},
   "outputs": [
    {
     "data": {
      "text/plain": [
       "1"
      ]
     },
     "execution_count": 4,
     "metadata": {},
     "output_type": "execute_result"
    },
    {
     "data": {
      "text/plain": [
       "2"
      ]
     },
     "execution_count": 4,
     "metadata": {},
     "output_type": "execute_result"
    }
   ],
   "source": [
    "from IPython.core.interactiveshell import InteractiveShell\n",
    "\n",
    "InteractiveShell.ast_node_interactivity = \"all\"\n",
    "# 맨 마지막인 고유값만 반환해줌\n",
    "a=1\n",
    "b=2\n",
    "a\n",
    "b"
   ]
  },
  {
   "cell_type": "code",
   "execution_count": 6,
   "id": "f32fbc2d-5942-4bb0-a041-fbdb9848117c",
   "metadata": {},
   "outputs": [
    {
     "data": {
      "text/plain": [
       "1"
      ]
     },
     "execution_count": 6,
     "metadata": {},
     "output_type": "execute_result"
    },
    {
     "data": {
      "text/plain": [
       "2"
      ]
     },
     "execution_count": 6,
     "metadata": {},
     "output_type": "execute_result"
    }
   ],
   "source": [
    "a = 1\n",
    "b = 2\n",
    "a\n",
    "b"
   ]
  },
  {
   "cell_type": "markdown",
   "id": "608b0eb3-b8ef-4ca7-a227-ef38735fcaaf",
   "metadata": {},
   "source": [
    "마크다운 문법"
   ]
  },
  {
   "cell_type": "code",
   "execution_count": null,
   "id": "00972b53-35fb-4a83-8690-349e2296f5c5",
   "metadata": {},
   "outputs": [],
   "source": [
    "# ... 라이브러리 설치\n",
    "!pip install ..."
   ]
  },
  {
   "cell_type": "code",
   "execution_count": null,
   "id": "cf23a32b-236d-4ad4-a4a4-d82b9286531a",
   "metadata": {},
   "outputs": [],
   "source": []
  },
  {
   "cell_type": "markdown",
   "id": "930c68ef-f722-4161-a03b-7e80fdb94391",
   "metadata": {},
   "source": [
    "warning message 없애기"
   ]
  },
  {
   "cell_type": "code",
   "execution_count": null,
   "id": "2009e731-606f-4b7e-a37a-6538ca38e37c",
   "metadata": {},
   "outputs": [],
   "source": [
    "import warnings\n",
    "warnings.filterwarnings(action='ignore')"
   ]
  },
  {
   "cell_type": "markdown",
   "id": "6f375c1d-caa8-42bc-aa54-a2061ef80c52",
   "metadata": {},
   "source": [
    "한글깨짐 현상 해결하기"
   ]
  },
  {
   "cell_type": "code",
   "execution_count": null,
   "id": "96cb0f3f-4546-4cb7-a852-497227e6e59d",
   "metadata": {},
   "outputs": [],
   "source": [
    "from matplotlib import font_manager, rc\n",
    "font_fname = ''\n"
   ]
  },
  {
   "cell_type": "markdown",
   "id": "3f6fa71e-aed5-438f-a454-2b57301a26d7",
   "metadata": {},
   "source": [
    "함수 설명 보기: 함수명. __doc__"
   ]
  },
  {
   "cell_type": "code",
   "execution_count": 9,
   "id": "b7d37bec-8dff-4d1a-af37-dcf4f2b91bb9",
   "metadata": {},
   "outputs": [
    {
     "data": {
      "text/plain": [
       "'Return the number of items in a container.'"
      ]
     },
     "execution_count": 9,
     "metadata": {},
     "output_type": "execute_result"
    }
   ],
   "source": [
    "len.__doc__"
   ]
  },
  {
   "cell_type": "code",
   "execution_count": null,
   "id": "68d4d065-6fa6-43c1-acf7-d937c32196ad",
   "metadata": {},
   "outputs": [],
   "source": [
    "from IPython.core.display import Markdown\n",
    "Markdown(open(\"test.md\").read()"
   ]
  },
  {
   "cell_type": "markdown",
   "id": "e661179a-6b34-4628-84c2-23730c072207",
   "metadata": {},
   "source": [
    "some_module.py 라는 파일 만들기"
   ]
  },
  {
   "cell_type": "code",
   "execution_count": 10,
   "id": "f0b4eb2b-7663-46eb-a50f-f94a0114ca90",
   "metadata": {},
   "outputs": [
    {
     "name": "stdout",
     "output_type": "stream",
     "text": [
      "Writing some_module.py\n"
     ]
    }
   ],
   "source": [
    "%%writefile some_module.py\n",
    "\n",
    "## some_module.py\n",
    "PI = 3.14159\n",
    "\n",
    "def f(x):\n",
    "    return 3.14159\n",
    "\n",
    "def g(a, b):\n",
    "    return a+b"
   ]
  },
  {
   "cell_type": "markdown",
   "id": "ba4bd07f-515f-4d80-8822-6242bf30a55b",
   "metadata": {},
   "source": [
    "# 헤더\n",
    "## 헤더\n",
    "### 헤더\n",
    "#### 헤더\n",
    "##### 헤더\n",
    "\n",
    "_이탤릭_\n",
    "\n",
    "*이탤릭*\n",
    "\n",
    "<i>이탤릭</i>\n",
    "\n",
    "**볼드**\n",
    "\n",
    "__볼드__\n",
    "\n",
    "<u>밑줄</u>\n",
    "\n",
    "~취소선~\n",
    "\n",
    "`강조`\n",
    "\n",
    "> 인용\n",
    "\n",
    "---"
   ]
  },
  {
   "cell_type": "markdown",
   "id": "61195739-aa77-4059-8e09-8fe92e6dd155",
   "metadata": {},
   "source": [
    "<hr>"
   ]
  },
  {
   "cell_type": "markdown",
   "id": "3b717f93-4367-4962-82fd-6300b8f8015e",
   "metadata": {},
   "source": [
    "- 리스트 1\n",
    "- 리스트 2\n",
    "    - 서브리스트\n",
    "    \n",
    "1. 숫자리스트1\n",
    "1. 숫자리스트2\n",
    "\n",
    ".[네이버].(http://www.naver.com/)\n",
    "!.[봄을 그리다].(https://wwww.naver.com/)"
   ]
  },
  {
   "cell_type": "markdown",
   "id": "ffa4dc84-4f82-4708-baa0-cc646103ad5f",
   "metadata": {},
   "source": [
    "## <center> 가운데 정렬 </center>"
   ]
  },
  {
   "cell_type": "markdown",
   "id": "a6861a27-833c-4d41-a66d-ed92b2184485",
   "metadata": {},
   "source": [
    "---"
   ]
  },
  {
   "cell_type": "code",
   "execution_count": 11,
   "id": "5fc87bee-2178-4a87-91fb-b6b6383f7181",
   "metadata": {},
   "outputs": [
    {
     "data": {
      "text/markdown": [
       "## \n",
       "_bold_"
      ],
      "text/plain": [
       "<IPython.core.display.Markdown object>"
      ]
     },
     "execution_count": 11,
     "metadata": {},
     "output_type": "execute_result"
    }
   ],
   "source": [
    "from IPython.core.display import Markdown\n",
    "Markdown(open(\"trial.md\").read())"
   ]
  },
  {
   "cell_type": "markdown",
   "id": "9c2586b4-8c3a-4839-9c67-0c4052336fe2",
   "metadata": {},
   "source": [
    "'''여러줄 주석 말 잘듣는때 사진'''"
   ]
  },
  {
   "cell_type": "code",
   "execution_count": 18,
   "id": "20d74ede-f8b8-46aa-b9d4-bcc05eb21637",
   "metadata": {},
   "outputs": [
    {
     "name": "stdout",
     "output_type": "stream",
     "text": [
      "나의 나이는 : 27\n"
     ]
    }
   ],
   "source": [
    "print('나의 나이는 :', 27)"
   ]
  },
  {
   "cell_type": "code",
   "execution_count": 26,
   "id": "967be277-b0e3-4116-9820-cf07696349b7",
   "metadata": {},
   "outputs": [
    {
     "name": "stdout",
     "output_type": "stream",
     "text": [
      "10 + 20 =  12\n"
     ]
    }
   ],
   "source": [
    "print('10 + 20 = ', 10 + 2)"
   ]
  },
  {
   "cell_type": "markdown",
   "id": "df3e81a6-fad1-4f59-bf7a-bf4fbc6cec30",
   "metadata": {},
   "source": [
    "실제로 반환되는 값; LITERAL"
   ]
  },
  {
   "cell_type": "code",
   "execution_count": 23,
   "id": "164f4ecd-6da3-4397-8af4-f1a6d4de8bcc",
   "metadata": {},
   "outputs": [
    {
     "name": "stdout",
     "output_type": "stream",
     "text": [
      "원의 반지름 5.0\n",
      "원의 면적 78.5\n",
      "원의 둘레 31.400000000000002\n"
     ]
    }
   ],
   "source": [
    "print('원의 반지름', 5.0)\n",
    "print('원의 면적', 3.14 * 5.0 * 5.0)\n",
    "print('원의 둘레', 2.0 * 3.14 * 5.0)"
   ]
  },
  {
   "cell_type": "code",
   "execution_count": 27,
   "id": "1237bd76-8293-4f27-aaec-f8a65cd4c73a",
   "metadata": {},
   "outputs": [
    {
     "data": {
      "text/plain": [
       "int"
      ]
     },
     "execution_count": 27,
     "metadata": {},
     "output_type": "execute_result"
    },
    {
     "data": {
      "text/plain": [
       "str"
      ]
     },
     "execution_count": 27,
     "metadata": {},
     "output_type": "execute_result"
    },
    {
     "data": {
      "text/plain": [
       "float"
      ]
     },
     "execution_count": 27,
     "metadata": {},
     "output_type": "execute_result"
    }
   ],
   "source": [
    "a = 1\n",
    "b = \"사과\"\n",
    "c = 3.154\n",
    "type(a)\n",
    "type(b)\n",
    "type(c)"
   ]
  },
  {
   "cell_type": "code",
   "execution_count": 28,
   "id": "8d17dc8f-ba78-4901-98e8-671d48a3df79",
   "metadata": {},
   "outputs": [
    {
     "data": {
      "text/plain": [
       "1"
      ]
     },
     "execution_count": 28,
     "metadata": {},
     "output_type": "execute_result"
    }
   ],
   "source": [
    " 7%2"
   ]
  },
  {
   "cell_type": "code",
   "execution_count": 29,
   "id": "d98fc2ad-d659-4748-880f-d9015c820784",
   "metadata": {},
   "outputs": [
    {
     "data": {
      "text/plain": [
       "3"
      ]
     },
     "execution_count": 29,
     "metadata": {},
     "output_type": "execute_result"
    }
   ],
   "source": [
    "7//2"
   ]
  },
  {
   "cell_type": "code",
   "execution_count": 30,
   "id": "e2198bf4-1eea-4e26-8304-1d02fd86b1c4",
   "metadata": {},
   "outputs": [],
   "source": [
    "x = 7"
   ]
  },
  {
   "cell_type": "code",
   "execution_count": 31,
   "id": "8f58abf1-bc43-4cfb-aae3-fe09d9ae335d",
   "metadata": {},
   "outputs": [
    {
     "data": {
      "text/plain": [
       "9"
      ]
     },
     "execution_count": 31,
     "metadata": {},
     "output_type": "execute_result"
    }
   ],
   "source": [
    "x += 2; x"
   ]
  },
  {
   "cell_type": "code",
   "execution_count": 32,
   "id": "44fac4a4-1436-4513-a083-0cce06314abf",
   "metadata": {},
   "outputs": [
    {
     "data": {
      "text/plain": [
       "3825"
      ]
     },
     "execution_count": 32,
     "metadata": {},
     "output_type": "execute_result"
    }
   ],
   "source": [
    "1357 + 2468"
   ]
  },
  {
   "cell_type": "code",
   "execution_count": 33,
   "id": "d56aa267-5e4a-4da7-aeb3-181e83ad6ac5",
   "metadata": {},
   "outputs": [
    {
     "data": {
      "text/plain": [
       "625"
      ]
     },
     "execution_count": 33,
     "metadata": {},
     "output_type": "execute_result"
    }
   ],
   "source": [
    "5 ** 4"
   ]
  },
  {
   "cell_type": "code",
   "execution_count": 35,
   "id": "0326d266-07de-41d1-981a-1611cef26ae3",
   "metadata": {},
   "outputs": [
    {
     "data": {
      "text/plain": [
       "1"
      ]
     },
     "execution_count": 35,
     "metadata": {},
     "output_type": "execute_result"
    }
   ],
   "source": [
    "5 % 2"
   ]
  },
  {
   "cell_type": "code",
   "execution_count": 41,
   "id": "e3922f92-be86-48a2-984e-ab2e90fabf72",
   "metadata": {},
   "outputs": [
    {
     "data": {
      "text/plain": [
       "1.4142135623730951"
      ]
     },
     "execution_count": 41,
     "metadata": {},
     "output_type": "execute_result"
    }
   ],
   "source": [
    "2 ** (1/2)"
   ]
  },
  {
   "cell_type": "code",
   "execution_count": 39,
   "id": "5817be0c-4320-4432-9e2a-d3b524ae5c3e",
   "metadata": {},
   "outputs": [
    {
     "data": {
      "text/plain": [
       "1.7320508075688772"
      ]
     },
     "execution_count": 39,
     "metadata": {},
     "output_type": "execute_result"
    }
   ],
   "source": [
    "3 ** (1/2)"
   ]
  },
  {
   "cell_type": "code",
   "execution_count": 43,
   "id": "06603dd8-1ffb-49a1-8e0b-9be4bb8ce3d7",
   "metadata": {},
   "outputs": [
    {
     "data": {
      "text/plain": [
       "True"
      ]
     },
     "execution_count": 43,
     "metadata": {},
     "output_type": "execute_result"
    }
   ],
   "source": [
    "3 != 2"
   ]
  },
  {
   "cell_type": "code",
   "execution_count": 44,
   "id": "ffa93dee-462c-4809-9836-f9e4e605523b",
   "metadata": {},
   "outputs": [],
   "source": [
    "a, b = 100, 200"
   ]
  },
  {
   "cell_type": "code",
   "execution_count": 45,
   "id": "304ac6c2-7fef-4463-89a7-5569fc056262",
   "metadata": {},
   "outputs": [
    {
     "data": {
      "text/plain": [
       "False"
      ]
     },
     "execution_count": 45,
     "metadata": {},
     "output_type": "execute_result"
    }
   ],
   "source": [
    "a > b"
   ]
  },
  {
   "cell_type": "code",
   "execution_count": 46,
   "id": "c4634e0b-c73a-442f-87b4-f57229e19ae3",
   "metadata": {},
   "outputs": [
    {
     "data": {
      "text/plain": [
       "True"
      ]
     },
     "execution_count": 46,
     "metadata": {},
     "output_type": "execute_result"
    }
   ],
   "source": [
    "a <= b"
   ]
  },
  {
   "cell_type": "code",
   "execution_count": 47,
   "id": "0959c94e-44aa-40ce-a809-2276e8e689ac",
   "metadata": {},
   "outputs": [
    {
     "data": {
      "text/plain": [
       "False"
      ]
     },
     "execution_count": 47,
     "metadata": {},
     "output_type": "execute_result"
    }
   ],
   "source": [
    "a >= b"
   ]
  },
  {
   "cell_type": "code",
   "execution_count": 48,
   "id": "1fb529d9-a412-457b-acb7-1d86aefbdcba",
   "metadata": {},
   "outputs": [
    {
     "ename": "SyntaxError",
     "evalue": "invalid syntax (780943515.py, line 1)",
     "output_type": "error",
     "traceback": [
      "\u001b[1;36m  Input \u001b[1;32mIn [48]\u001b[1;36m\u001b[0m\n\u001b[1;33m    a > = b\u001b[0m\n\u001b[1;37m        ^\u001b[0m\n\u001b[1;31mSyntaxError\u001b[0m\u001b[1;31m:\u001b[0m invalid syntax\n"
     ]
    }
   ],
   "source": [
    "a > = b  # 연산자는 붙여서 사용해야 함"
   ]
  },
  {
   "cell_type": "code",
   "execution_count": 49,
   "id": "75e7fc66-bd30-4be8-961d-39aa83b03a1f",
   "metadata": {},
   "outputs": [
    {
     "data": {
      "text/plain": [
       "True"
      ]
     },
     "execution_count": 49,
     "metadata": {},
     "output_type": "execute_result"
    }
   ],
   "source": [
    "'Dr' in 'Dr. Kim'"
   ]
  },
  {
   "cell_type": "code",
   "execution_count": 50,
   "id": "76a55b1f-0a6c-494c-9453-62dd51811e10",
   "metadata": {},
   "outputs": [
    {
     "data": {
      "text/plain": [
       "False"
      ]
     },
     "execution_count": 50,
     "metadata": {},
     "output_type": "execute_result"
    }
   ],
   "source": [
    "'Dr' not in 'Dr. Kim'"
   ]
  },
  {
   "cell_type": "code",
   "execution_count": 51,
   "id": "28767cc7-d8d9-4725-b5a7-fd0a0dcff9a5",
   "metadata": {},
   "outputs": [],
   "source": [
    "a, b, c, d = 10, 20, 30, 40"
   ]
  },
  {
   "cell_type": "code",
   "execution_count": 52,
   "id": "5b897219-afc1-487b-a736-7caacc541ade",
   "metadata": {},
   "outputs": [
    {
     "data": {
      "text/plain": [
       "False"
      ]
     },
     "execution_count": 52,
     "metadata": {},
     "output_type": "execute_result"
    }
   ],
   "source": [
    "(a > b) and (c < d)  # 하나라도 False면, 무조건 False"
   ]
  },
  {
   "cell_type": "code",
   "execution_count": 53,
   "id": "2f764243-48fb-4472-b3de-489b6533377d",
   "metadata": {},
   "outputs": [
    {
     "data": {
      "text/plain": [
       "True"
      ]
     },
     "execution_count": 53,
     "metadata": {},
     "output_type": "execute_result"
    }
   ],
   "source": [
    "(a > b) or (c < d)  # 하나라도 True면, 무조건 True"
   ]
  },
  {
   "cell_type": "code",
   "execution_count": 54,
   "id": "b1527fa5-8bb6-43aa-a1de-894f370e73dd",
   "metadata": {},
   "outputs": [
    {
     "data": {
      "text/plain": [
       "True"
      ]
     },
     "execution_count": 54,
     "metadata": {},
     "output_type": "execute_result"
    }
   ],
   "source": [
    "(a < b) and (c < d)  # 둘 다 True인 경우에만 True"
   ]
  },
  {
   "cell_type": "code",
   "execution_count": 55,
   "id": "0b0a143b-41a7-43af-8c36-243906223faf",
   "metadata": {},
   "outputs": [
    {
     "data": {
      "text/plain": [
       "False"
      ]
     },
     "execution_count": 55,
     "metadata": {},
     "output_type": "execute_result"
    }
   ],
   "source": [
    "(a < b) and False  # 하나라도 False면, 무조건 False"
   ]
  },
  {
   "cell_type": "code",
   "execution_count": 56,
   "id": "f61ba0b7-917a-4dfd-b51a-384a799babd1",
   "metadata": {},
   "outputs": [
    {
     "name": "stdout",
     "output_type": "stream",
     "text": [
      "True\n",
      "1\n",
      "2\n",
      "False\n"
     ]
    }
   ],
   "source": [
    "a = (7>3) or 0\n",
    "b = (7<3) or 1\n",
    "c = (7>3) and 2\n",
    "d = (7<3) and 3\n",
    "\n",
    "print(a)\n",
    "print(b)\n",
    "print(c)\n",
    "print(d)"
   ]
  },
  {
   "cell_type": "code",
   "execution_count": 57,
   "id": "9ebb7535-d9af-4044-b90e-394259c43dca",
   "metadata": {},
   "outputs": [
    {
     "data": {
      "text/plain": [
       "False"
      ]
     },
     "execution_count": 57,
     "metadata": {},
     "output_type": "execute_result"
    }
   ],
   "source": [
    "bool((3>8))"
   ]
  },
  {
   "cell_type": "code",
   "execution_count": 58,
   "id": "72dd04fa-2969-404c-91dc-434e43009800",
   "metadata": {},
   "outputs": [
    {
     "data": {
      "text/plain": [
       "True"
      ]
     },
     "execution_count": 58,
     "metadata": {},
     "output_type": "execute_result"
    }
   ],
   "source": [
    "bool(9)  # 안에 뭔가가 채워져있기 때문에 True를 반환"
   ]
  },
  {
   "cell_type": "code",
   "execution_count": 59,
   "id": "685b67fa-c9b9-4a9a-97bc-e8e1be340d89",
   "metadata": {},
   "outputs": [
    {
     "data": {
      "text/plain": [
       "True"
      ]
     },
     "execution_count": 59,
     "metadata": {},
     "output_type": "execute_result"
    }
   ],
   "source": [
    "bool(-1)  # 안에 뭔가가 채워져있기 때문에 True를 반환"
   ]
  },
  {
   "cell_type": "code",
   "execution_count": 60,
   "id": "b80855bd-638a-4521-abb5-2fab86e59e2f",
   "metadata": {},
   "outputs": [
    {
     "data": {
      "text/plain": [
       "False"
      ]
     },
     "execution_count": 60,
     "metadata": {},
     "output_type": "execute_result"
    }
   ],
   "source": [
    "bool(0)"
   ]
  },
  {
   "cell_type": "code",
   "execution_count": 61,
   "id": "3475a52e-83de-4349-89ed-c94c448b6863",
   "metadata": {},
   "outputs": [
    {
     "data": {
      "text/plain": [
       "False"
      ]
     },
     "execution_count": 61,
     "metadata": {},
     "output_type": "execute_result"
    }
   ],
   "source": [
    "bool(None)"
   ]
  },
  {
   "cell_type": "code",
   "execution_count": 62,
   "id": "f00fe2ea-221d-4627-89e4-1984fb32e17e",
   "metadata": {},
   "outputs": [
    {
     "data": {
      "text/plain": [
       "False"
      ]
     },
     "execution_count": 62,
     "metadata": {},
     "output_type": "execute_result"
    }
   ],
   "source": [
    "bool('')"
   ]
  },
  {
   "cell_type": "code",
   "execution_count": 63,
   "id": "45907557-98a7-47fb-8a59-7137c7c12ffc",
   "metadata": {},
   "outputs": [
    {
     "data": {
      "text/plain": [
       "True"
      ]
     },
     "execution_count": 63,
     "metadata": {},
     "output_type": "execute_result"
    }
   ],
   "source": [
    "bool(a)"
   ]
  },
  {
   "cell_type": "code",
   "execution_count": 64,
   "id": "60aeddb2-6562-4830-9d0c-422acb9b933d",
   "metadata": {},
   "outputs": [
    {
     "data": {
      "text/plain": [
       "True"
      ]
     },
     "execution_count": 64,
     "metadata": {},
     "output_type": "execute_result"
    }
   ],
   "source": [
    "bool(\"hello\")"
   ]
  },
  {
   "cell_type": "code",
   "execution_count": 65,
   "id": "ec85e5b3-dc92-4397-94c0-df04c1d8f25d",
   "metadata": {},
   "outputs": [
    {
     "data": {
      "text/plain": [
       "False"
      ]
     },
     "execution_count": 65,
     "metadata": {},
     "output_type": "execute_result"
    }
   ],
   "source": [
    "bool([])"
   ]
  },
  {
   "cell_type": "code",
   "execution_count": 66,
   "id": "8173c7a2-a5e7-411a-bd9a-90707dceea2c",
   "metadata": {},
   "outputs": [
    {
     "data": {
      "text/plain": [
       "True"
      ]
     },
     "execution_count": 66,
     "metadata": {},
     "output_type": "execute_result"
    }
   ],
   "source": [
    "bool([10, 20])  # 항목을 가진 리스트"
   ]
  },
  {
   "cell_type": "code",
   "execution_count": 67,
   "id": "1fdd102c-dee0-4a01-b15e-1c1b7a4bcc28",
   "metadata": {},
   "outputs": [],
   "source": [
    "korean, english, math = 80, 75, 55"
   ]
  },
  {
   "cell_type": "code",
   "execution_count": 69,
   "id": "72d19b77-1503-41fb-8f1d-73e811aeb74f",
   "metadata": {},
   "outputs": [
    {
     "data": {
      "text/plain": [
       "210"
      ]
     },
     "execution_count": 69,
     "metadata": {},
     "output_type": "execute_result"
    }
   ],
   "source": [
    "korean + english + math"
   ]
  },
  {
   "cell_type": "code",
   "execution_count": 71,
   "id": "cf38732f-532f-4cd8-9e4c-d4093f4715e2",
   "metadata": {},
   "outputs": [
    {
     "data": {
      "text/plain": [
       "70.0"
      ]
     },
     "execution_count": 71,
     "metadata": {},
     "output_type": "execute_result"
    }
   ],
   "source": [
    "(korean + english + math) / 3"
   ]
  },
  {
   "cell_type": "code",
   "execution_count": 72,
   "id": "6f5875ab-727e-4da9-bace-0bd7c3f2785e",
   "metadata": {},
   "outputs": [],
   "source": [
    "a = 13"
   ]
  },
  {
   "cell_type": "code",
   "execution_count": 91,
   "id": "a81b3081-0dbc-4806-9a4f-47b9a092b5f7",
   "metadata": {},
   "outputs": [
    {
     "name": "stdout",
     "output_type": "stream",
     "text": [
      "홀수입니다\n"
     ]
    }
   ],
   "source": [
    "a = 13\n",
    "\n",
    "if int(a%2) == 0: \n",
    "    print(\"짝수입니다\")\n",
    "else: \n",
    "    print(\"홀수입니다\")"
   ]
  },
  {
   "cell_type": "markdown",
   "id": "74484200-7146-493b-995d-9ccf06a47b8d",
   "metadata": {},
   "source": [
    "문자열: 문자, 단어 등으로 구성된 문자들의 집합"
   ]
  },
  {
   "cell_type": "code",
   "execution_count": 92,
   "id": "f927eb96-597b-4af9-b9b7-8e1c4f3e7de9",
   "metadata": {},
   "outputs": [
    {
     "data": {
      "text/plain": [
       "'Hello World'"
      ]
     },
     "execution_count": 92,
     "metadata": {},
     "output_type": "execute_result"
    }
   ],
   "source": [
    "\"Hello World\""
   ]
  },
  {
   "cell_type": "code",
   "execution_count": 93,
   "id": "0acc6ed3-2f33-44ec-a634-44ba66b204ad",
   "metadata": {},
   "outputs": [
    {
     "data": {
      "text/plain": [
       "'Python is fun'"
      ]
     },
     "execution_count": 93,
     "metadata": {},
     "output_type": "execute_result"
    }
   ],
   "source": [
    "'Python is fun'"
   ]
  },
  {
   "cell_type": "code",
   "execution_count": 94,
   "id": "24f34d7e-db32-43d7-a5b9-ae68c2b227f5",
   "metadata": {},
   "outputs": [
    {
     "data": {
      "text/plain": [
       "'Life is too short, You need python'"
      ]
     },
     "execution_count": 94,
     "metadata": {},
     "output_type": "execute_result"
    }
   ],
   "source": [
    "\"\"\"Life is too short, You need python\"\"\""
   ]
  },
  {
   "cell_type": "code",
   "execution_count": 95,
   "id": "e498f568-9822-41f8-bb42-b59d6022900a",
   "metadata": {},
   "outputs": [
    {
     "data": {
      "text/plain": [
       "'Life is too short, You need python'"
      ]
     },
     "execution_count": 95,
     "metadata": {},
     "output_type": "execute_result"
    }
   ],
   "source": [
    "'''Life is too short, You need python'''"
   ]
  },
  {
   "cell_type": "code",
   "execution_count": 96,
   "id": "7d6d20d4-22d5-4002-ab3f-43c51529beb4",
   "metadata": {},
   "outputs": [
    {
     "data": {
      "text/plain": [
       "'강아지 이름은 \"햇님\"이야'"
      ]
     },
     "execution_count": 96,
     "metadata": {},
     "output_type": "execute_result"
    }
   ],
   "source": [
    "txt1 = '강아지 이름은 \"햇님\"이야'\n",
    "txt1"
   ]
  },
  {
   "cell_type": "code",
   "execution_count": 97,
   "id": "d3bad86a-dbaf-4b8a-a8d7-5d3c79778333",
   "metadata": {},
   "outputs": [
    {
     "ename": "SyntaxError",
     "evalue": "invalid syntax (1122448761.py, line 1)",
     "output_type": "error",
     "traceback": [
      "\u001b[1;36m  Input \u001b[1;32mIn [97]\u001b[1;36m\u001b[0m\n\u001b[1;33m    txt11 = '강아지 이름은 '햇님'이야'\u001b[0m\n\u001b[1;37m                      ^\u001b[0m\n\u001b[1;31mSyntaxError\u001b[0m\u001b[1;31m:\u001b[0m invalid syntax\n"
     ]
    }
   ],
   "source": [
    "txt11 = '강아지 이름은 '햇님'이야'"
   ]
  },
  {
   "cell_type": "code",
   "execution_count": 98,
   "id": "131bae7e-dd22-4221-8e21-34198aa79eab",
   "metadata": {},
   "outputs": [
    {
     "data": {
      "text/plain": [
       "\"강아지 이름은 '햇님'이야\""
      ]
     },
     "execution_count": 98,
     "metadata": {},
     "output_type": "execute_result"
    }
   ],
   "source": [
    "txt2 = \"강아지 이름은 '햇님'이야\"\n",
    "txt2"
   ]
  },
  {
   "cell_type": "code",
   "execution_count": 99,
   "id": "bc958fc2-4576-453c-9070-55e3e642c85c",
   "metadata": {},
   "outputs": [
    {
     "ename": "SyntaxError",
     "evalue": "invalid syntax (2412848683.py, line 1)",
     "output_type": "error",
     "traceback": [
      "\u001b[1;36m  Input \u001b[1;32mIn [99]\u001b[1;36m\u001b[0m\n\u001b[1;33m    txt22 = \"강아지 이름은 \"햇님\"이야\"\u001b[0m\n\u001b[1;37m                      ^\u001b[0m\n\u001b[1;31mSyntaxError\u001b[0m\u001b[1;31m:\u001b[0m invalid syntax\n"
     ]
    }
   ],
   "source": [
    "txt22 = \"강아지 이름은 \"햇님\"이야\""
   ]
  },
  {
   "cell_type": "code",
   "execution_count": 103,
   "id": "a526c967-867c-4bc2-8bf9-c9589da126fb",
   "metadata": {},
   "outputs": [
    {
     "data": {
      "text/plain": [
       "'강아지 이름은 \"햇님\"이야'"
      ]
     },
     "execution_count": 103,
     "metadata": {},
     "output_type": "execute_result"
    }
   ],
   "source": [
    "txt22 = \"강아지 이름은 \\\"햇님\\\"이야\"  # \\: escape 문자\n",
    "txt22"
   ]
  },
  {
   "cell_type": "code",
   "execution_count": 105,
   "id": "0e5caf41-7e75-4976-a240-ef4a40305312",
   "metadata": {},
   "outputs": [
    {
     "name": "stdout",
     "output_type": "stream",
     "text": [
      "친구가 \"햇님이 좋아!\"라고 말했다.\n"
     ]
    }
   ],
   "source": [
    "txt21 = \"친구가 \\\"햇님이 좋아!\\\"라고 말했다.\"\n",
    "print(txt21)"
   ]
  },
  {
   "cell_type": "code",
   "execution_count": 106,
   "id": "0752e6fe-67e7-4564-a8aa-098c50001d7e",
   "metadata": {},
   "outputs": [
    {
     "data": {
      "text/plain": [
       "'친구가 \"햇님이 좋아!\"라고 말했다.'"
      ]
     },
     "execution_count": 106,
     "metadata": {},
     "output_type": "execute_result"
    }
   ],
   "source": [
    "txt21"
   ]
  },
  {
   "cell_type": "code",
   "execution_count": 107,
   "id": "7c98001a-5d16-4ded-bb86-10cc32b43dfb",
   "metadata": {},
   "outputs": [
    {
     "data": {
      "text/plain": [
       "'Hello \"Python'"
      ]
     },
     "execution_count": 107,
     "metadata": {},
     "output_type": "execute_result"
    }
   ],
   "source": [
    "txt4 = 'Hello \"Python'\n",
    "txt4"
   ]
  },
  {
   "cell_type": "code",
   "execution_count": 108,
   "id": "fbb82ac4-e942-4e4d-bddf-b98a84d86c4a",
   "metadata": {},
   "outputs": [
    {
     "data": {
      "text/plain": [
       "'Hello Python'"
      ]
     },
     "execution_count": 108,
     "metadata": {},
     "output_type": "execute_result"
    }
   ],
   "source": [
    "txt41 = 'Hello ''Python'  # 하나의 연속적인 문자로 간주\n",
    "txt41"
   ]
  },
  {
   "cell_type": "code",
   "execution_count": 109,
   "id": "33037c86-d041-4a5c-9668-69b6ca40f950",
   "metadata": {},
   "outputs": [
    {
     "data": {
      "text/plain": [
       "'banana\\napple\\norange'"
      ]
     },
     "execution_count": 109,
     "metadata": {},
     "output_type": "execute_result"
    }
   ],
   "source": [
    "txt5 = 'banana\\napple\\norange'\n",
    "txt5"
   ]
  },
  {
   "cell_type": "code",
   "execution_count": 110,
   "id": "e2967480-66dc-4e5b-98ec-106ab53cf850",
   "metadata": {},
   "outputs": [
    {
     "name": "stdout",
     "output_type": "stream",
     "text": [
      "banana\n",
      "apple\n",
      "orange\n"
     ]
    }
   ],
   "source": [
    "print(txt5)  # \\n: 줄바꿈"
   ]
  },
  {
   "cell_type": "code",
   "execution_count": 111,
   "id": "ead0f7f5-48f1-43e5-a555-2076ce66052d",
   "metadata": {},
   "outputs": [
    {
     "data": {
      "text/plain": [
       "\"Let's go\""
      ]
     },
     "execution_count": 111,
     "metadata": {},
     "output_type": "execute_result"
    }
   ],
   "source": [
    "txt6 = '''Let's go'''\n",
    "txt6"
   ]
  },
  {
   "cell_type": "code",
   "execution_count": 112,
   "id": "a0d54d5f-19d9-4d97-9986-8c311279ab5b",
   "metadata": {},
   "outputs": [
    {
     "name": "stdout",
     "output_type": "stream",
     "text": [
      "Let's go\n"
     ]
    }
   ],
   "source": [
    "print(txt6)"
   ]
  },
  {
   "cell_type": "code",
   "execution_count": 113,
   "id": "7f7acf64-cda4-4f21-9a46-0de3c1bccfd9",
   "metadata": {},
   "outputs": [
    {
     "data": {
      "text/plain": [
       "'큰따옴표(\")와 작은따옴표(\\')를 모두 포함한 문장'"
      ]
     },
     "execution_count": 113,
     "metadata": {},
     "output_type": "execute_result"
    }
   ],
   "source": [
    "txt7 = '''큰따옴표(\")와 작은따옴표(')를 모두 포함한 문장'''\n",
    "txt7"
   ]
  },
  {
   "cell_type": "code",
   "execution_count": 115,
   "id": "67a4362b-4a4a-4078-abfa-5332e0f04445",
   "metadata": {},
   "outputs": [
    {
     "data": {
      "text/plain": [
       "'사과는 맛있어\\n맛있는 건 바나나\\n'"
      ]
     },
     "execution_count": 115,
     "metadata": {},
     "output_type": "execute_result"
    }
   ],
   "source": [
    "long_str = \"\"\"사과는 맛있어\n",
    "맛있는 건 바나나\n",
    "\"\"\"\n",
    "\n",
    "long_str"
   ]
  },
  {
   "cell_type": "code",
   "execution_count": 116,
   "id": "002d830d-6f42-4bf6-b357-b3707ec8c84d",
   "metadata": {},
   "outputs": [
    {
     "name": "stdout",
     "output_type": "stream",
     "text": [
      "사과는 맛있어\n",
      "맛있는 건 바나나\n",
      "\n"
     ]
    }
   ],
   "source": [
    "print(long_str)"
   ]
  },
  {
   "cell_type": "code",
   "execution_count": 117,
   "id": "224af10a-2da0-4c96-ac90-53d97432003a",
   "metadata": {},
   "outputs": [
    {
     "name": "stdout",
     "output_type": "stream",
     "text": [
      "b1: ' b2: \"\n",
      "b3: ' b4: \"\n"
     ]
    }
   ],
   "source": [
    "b1 = \"'\"\n",
    "b2 = '\"'\n",
    "b3 = '\\''\n",
    "b4 = \"\\\"\"\n",
    "print('b1:', b1, 'b2:', b2)  # print에서의 ,는 하나의 공백을 의미함\n",
    "print('b3:', b3, 'b4:', b4)"
   ]
  },
  {
   "cell_type": "code",
   "execution_count": 118,
   "id": "c48767c5-b2ee-4e4a-b326-1ef3c8687b82",
   "metadata": {},
   "outputs": [
    {
     "ename": "SyntaxError",
     "evalue": "invalid syntax (2862351623.py, line 1)",
     "output_type": "error",
     "traceback": [
      "\u001b[1;36m  Input \u001b[1;32mIn [118]\u001b[1;36m\u001b[0m\n\u001b[1;33m    print('b1:' b1)\u001b[0m\n\u001b[1;37m                ^\u001b[0m\n\u001b[1;31mSyntaxError\u001b[0m\u001b[1;31m:\u001b[0m invalid syntax\n"
     ]
    }
   ],
   "source": [
    "print('b1:' b1)"
   ]
  },
  {
   "cell_type": "markdown",
   "id": "b0599776-db43-4bcf-a46f-d65d7b0a25d1",
   "metadata": {},
   "source": [
    " \\n 줄바꿈\n",
    " \n",
    " \\t 수평 탭\n",
    " \n",
    " \\\\ 문자 \\ \n",
    " \n",
    " \\' 단일 인용부호 '\n",
    " \n",
    " \\\" 이중 인용부호 \" \n",
    " \n",
    " \\r 캐리지 리턴 (문장의 맨 앞으로 이동) \n",
    " \n",
    " \\f 폼 피드 \n",
    " \n",
    "\\a 벨 소리\n",
    "\n",
    "\\b 백 스페이스 \n",
    "\n",
    "\\000 널 문자\n"
   ]
  },
  {
   "cell_type": "code",
   "execution_count": null,
   "id": "0e8a201a-2e68-4406-b096-f6d658c50064",
   "metadata": {},
   "outputs": [],
   "source": []
  }
 ],
 "metadata": {
  "kernelspec": {
   "display_name": "Python 3 (ipykernel)",
   "language": "python",
   "name": "python3"
  },
  "language_info": {
   "codemirror_mode": {
    "name": "ipython",
    "version": 3
   },
   "file_extension": ".py",
   "mimetype": "text/x-python",
   "name": "python",
   "nbconvert_exporter": "python",
   "pygments_lexer": "ipython3",
   "version": "3.9.12"
  }
 },
 "nbformat": 4,
 "nbformat_minor": 5
}
