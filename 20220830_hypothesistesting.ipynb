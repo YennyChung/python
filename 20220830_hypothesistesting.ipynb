{
 "cells": [
  {
   "cell_type": "markdown",
   "id": "c395d216-65cb-4b15-b381-9ae032a97e35",
   "metadata": {},
   "source": [
    "Ordinary Least Squares; scipy.stats\n",
    "https://www.statsmodels.org/stable/examples/index.html"
   ]
  },
  {
   "cell_type": "markdown",
   "id": "e98aceda-3dca-457d-b7e7-111409d0f58d",
   "metadata": {},
   "source": [
    "문제 1"
   ]
  },
  {
   "cell_type": "code",
   "execution_count": 8,
   "id": "8c040b95-55db-4c2e-8643-e22fc06d31b1",
   "metadata": {},
   "outputs": [
    {
     "name": "stdout",
     "output_type": "stream",
     "text": [
      "<class 'pandas.core.frame.DataFrame'>\n",
      "Index: 0 entries\n",
      "Data columns (total 3 columns):\n",
      " #   Column       Non-Null Count  Dtype \n",
      "---  ------       --------------  ----- \n",
      " 0   sample size  0 non-null      object\n",
      " 1   num_test     0 non-null      object\n",
      " 2   sample_mean  0 non-null      object\n",
      "dtypes: object(3)\n",
      "memory usage: 0.0+ bytes\n",
      "None\n"
     ]
    },
    {
     "name": "stderr",
     "output_type": "stream",
     "text": [
      "C:\\Users\\Conet\\AppData\\Local\\Temp\\ipykernel_9580\\2090067436.py:19: FutureWarning: The frame.append method is deprecated and will be removed from pandas in a future version. Use pandas.concat instead.\n",
      "  df_sampled = df_sampled.append(sampled, ignore_index = True)\n"
     ]
    },
    {
     "data": {
      "text/plain": [
       "<pandas.plotting._core.PlotAccessor object at 0x0000025B2C6F12B0>"
      ]
     },
     "execution_count": 8,
     "metadata": {},
     "output_type": "execute_result"
    },
    {
     "data": {
      "image/png": "[encoded data removed]",
      "text/plain": [
       "<Figure size 1944x216 with 9 Axes>"
      ]
     },
     "metadata": {
      "needs_background": "light"
     },
     "output_type": "display_data"
    }
   ],
   "source": [
    "import random\n",
    "import pandas as pd\n",
    "import numpy as np\n",
    "import seaborn as sns\n",
    "\n",
    "rnum = 10\n",
    "population = list(range(0, rnum))\n",
    "num_sample = 1000\n",
    "max_size_sample = len(population)\n",
    "\n",
    "df_sampled = pd.DataFrame(columns = ['sample size', 'num_test', 'sample_mean'])\n",
    "print(df_sampled.info())\n",
    "\n",
    "for size_sample in range(1, max_size_sample):\n",
    "    for n in range(0, num_sample):\n",
    "        sample = np.array(random.sample(population, size_sample))\n",
    "        # print(sample)\n",
    "        sampled = pd.DataFrame({'sample size': str(size_sample), 'num_test': [n], 'sample mean': [sample.mean()]})\n",
    "        df_sampled = df_sampled.append(sampled, ignore_index = True)\n",
    "        \n",
    "g = sns.FacetGrid(df_sampled, col = 'sample size')\n",
    "g.map(sns.histplot, 'sample mean', binwidth = 0.5, binrange=(0, rnum))\n",
    "\n",
    "df_sampled.plot"
   ]
  },
  {
   "cell_type": "markdown",
   "id": "f8dcb057-609b-493b-8f28-af6041482db2",
   "metadata": {},
   "source": [
    "문제 2"
   ]
  },
  {
   "cell_type": "code",
   "execution_count": 9,
   "id": "9e915862-0431-4fec-a8a3-6352fbf762a8",
   "metadata": {},
   "outputs": [
    {
     "name": "stdout",
     "output_type": "stream",
     "text": [
      "H1: mu < 1,500\n",
      "H0: mu >= 1,500\n",
      "t-stat = -4.0000.critical value = -1.6604\n",
      "Accept H1\n"
     ]
    }
   ],
   "source": [
    "#%% 1-2 단일표본 t검정\n",
    "import numpy as np\n",
    "from scipy.stats import t\n",
    "n = 100 #표본갯수\n",
    "mu = 1500 #모평균\n",
    "x_bar = 1420 #표본평균\n",
    "S = 200 #표본오차\n",
    "\n",
    "#t 검정통계량 계산\n",
    "stat = (x_bar-mu)/(S/np.sqrt(n))\n",
    "#임계치 계산 alpha = 0.05\n",
    "c_val = t.ppf(0.05, df=n-1)\n",
    "\n",
    "print('H1: mu < 1,500')\n",
    "print('H0: mu >= 1,500')\n",
    "print('t-stat = %.4f.critical value = %.4f'% (stat, c_val))\n",
    "\n",
    "if stat > c_val:\n",
    "  print('Reject H1')\n",
    "else:\n",
    "  print('Accept H1')"
   ]
  },
  {
   "cell_type": "markdown",
   "id": "0b2b94c3-8714-4e85-bfc0-a7c305b8a935",
   "metadata": {},
   "source": [
    "문제 3"
   ]
  },
  {
   "cell_type": "code",
   "execution_count": 11,
   "id": "fc4d7272-f788-4d57-a248-64664d58099d",
   "metadata": {},
   "outputs": [
    {
     "name": "stdout",
     "output_type": "stream",
     "text": [
      "\n",
      "\n",
      "\n",
      "Accept H1\n"
     ]
    }
   ],
   "source": [
    "from scipy.stats import ttest_rel\n",
    "\n",
    "x_after = [75, 50, 74, 71, 69, 73, 68, 62, 68, 72, 70, 77, 71, 74, 67, 73, 77, 71, 76, 74]\n",
    "x_before = [82, 54, 74, 75, 71, 76, 70, 62, 77, 75, 72, 83, 78, 74, 68, 76, 75, 75, 75, 71]\n",
    "\n",
    "stat, p = ttest_rel(x_before, x_after)\n",
    "\n",
    "print()\n",
    "print()\n",
    "print()\n",
    "if p > 0.05:\n",
    "    print('Reject H1')\n",
    "else:\n",
    "    print('Accept H1')"
   ]
  },
  {
   "cell_type": "markdown",
   "id": "51888bc6-5f5c-4595-9dbe-94c39d7ad88f",
   "metadata": {},
   "source": [
    "문제 4"
   ]
  },
  {
   "cell_type": "code",
   "execution_count": 15,
   "id": "edbed28f-df83-4b26-a6a0-375ef7c89863",
   "metadata": {},
   "outputs": [
    {
     "name": "stdout",
     "output_type": "stream",
     "text": [
      "H1: mu_a ~= mu_b\n",
      "H0: mu_a = mu_b\n",
      "t-stat = -3.4655, critical value = -1.9875\n",
      "Accept H1\n"
     ]
    }
   ],
   "source": [
    "alpha = 0.05  # 유의수준\n",
    "n_a = 30  # 표본갯수\n",
    "x_bar_a = 48500  # 표본평균\n",
    "S_a = 3600  # 표본오차\n",
    "n_b = 30  # 표본갯수\n",
    "x_bar_b = 52000  # 표본평균\n",
    "S_b = 4200  # 표본오차\n",
    "\n",
    "# 함동 표준오차 계산\n",
    "var_ab = np.sqrt(S_a**2/n_a + S_b**2/n_b)\n",
    "# 자유도 계산\n",
    "dof_ab = (S_a**2/n_a + S_b**2/n_a)**2/((n_a-1) + (S_b**2/n_b)**2/(n_b-1))\n",
    "\n",
    "stat = (x_bar_a - x_bar_b) / var_ab\n",
    "\n",
    "c_val = t.ppf(alpha/2, dof_ab)\n",
    "\n",
    "print('H1: mu_a ~= mu_b')\n",
    "print('H0: mu_a = mu_b')\n",
    "print('t-stat = %.4f, critical value = %.4f' % (stat, c_val))\n",
    "\n",
    "if stat > c_val:\n",
    "    print('Reject H1')\n",
    "else:\n",
    "    print('Accept H1')"
   ]
  },
  {
   "cell_type": "markdown",
   "id": "f6fe1f99-296d-4eb1-ba52-3bade64c1239",
   "metadata": {},
   "source": [
    "문제 5"
   ]
  },
  {
   "cell_type": "code",
   "execution_count": 17,
   "id": "762f7139-d27f-4d1f-90b6-3846c94b70a5",
   "metadata": {},
   "outputs": [
    {
     "name": "stdout",
     "output_type": "stream",
     "text": [
      "H1: sigma2_a != 1.2\n",
      "H0: sigma2_a = 1.2\n",
      "chi2-stat = 41.0833, critical value = (16.0471, 45.7223)\n",
      "Reject H1\n"
     ]
    }
   ],
   "source": [
    "from scipy.stats import chi2\n",
    "alpha = 0.05  # 유의수준\n",
    "n = 30  # 표본갯수\n",
    "sigma2 = 1.2  # 모분산\n",
    "S2 = 1.7  # 표본분산\n",
    "\n",
    "# Xai2 검정통계량 계산\n",
    "stat = (n-1)*S2/sigma2\n",
    "\n",
    "# 임계치 계산\n",
    "c_val_l = chi2.ppf(alpha/2, df = n-1)\n",
    "c_val_u = chi2.ppf(1-alpha/2, df = n-1)\n",
    "\n",
    "print('H1: sigma2_a != ' + str(sigma2))\n",
    "print('H0: sigma2_a = ' + str(sigma2))\n",
    "print('chi2-stat = %.4f, critical value = (%.4f, %.4f)' % (stat, c_val_l, c_val_u))\n",
    "\n",
    "# 양측검정\n",
    "if (stat < c_val_l) or (c_val_u < stat):\n",
    "    print('Accept H1')\n",
    "else:\n",
    "    print('Reject H1')"
   ]
  },
  {
   "cell_type": "markdown",
   "id": "46a8201c-e81a-4b48-86a7-87b90988fe5c",
   "metadata": {},
   "source": [
    "문제 6"
   ]
  },
  {
   "cell_type": "code",
   "execution_count": 20,
   "id": "26f8264c-fc83-4497-a2c9-4dc868e0c96d",
   "metadata": {},
   "outputs": [
    {
     "name": "stdout",
     "output_type": "stream",
     "text": [
      "H1: sigma2_a/sigma2_b < 1\n",
      "H0: sigma2_a/sigma2_b = 1\n",
      "F-stat = 0.3803, critical value = 0.4296\n",
      "Accept H1\n"
     ]
    }
   ],
   "source": [
    "# 두 모집단의 분산을 검정하기 (F-test)\n",
    "from scipy.stats import f\n",
    "\n",
    "alpha = 0.05  # 유의수준\n",
    "n_a = 16  # 표본갯수\n",
    "x_bar_a = 78.3  # 표본평균\n",
    "S2_a = 37.5  # 표본분산\n",
    "n_b = 21  # 표본갯수\n",
    "x_bar_b = 76.7  # 표본평균\n",
    "S2_b = 98.6  # 표본분산\n",
    "\n",
    "# F 검정통계량 계산\n",
    "stat = S2_a/S2_b\n",
    "# 임계치 계산\n",
    "c_val = f.ppf(alpha,n_a-1,n_b-1)\n",
    "\n",
    "\n",
    "# print('H1: sigma2_a != sigma2_b')\n",
    "# print('H1: sigma2_a < sigma2_b')\n",
    "# print('H0: sigma2_a >= sigma2_b')\n",
    "# print('H0: sigma2_a = sigma2_b')\n",
    "print('H1: sigma2_a/sigma2_b < 1')\n",
    "print('H0: sigma2_a/sigma2_b = 1')\n",
    "\n",
    "print('F-stat = %.4f, critical value = %.4f' % (stat, c_val))\n",
    "\n",
    "if stat > c_val:\n",
    "    print('Reject H1')\n",
    "else:\n",
    "    print('Accept H1')"
   ]
  },
  {
   "cell_type": "code",
   "execution_count": 22,
   "id": "33881696-d09a-4267-8a4d-c24a7cda27aa",
   "metadata": {},
   "outputs": [
    {
     "name": "stdout",
     "output_type": "stream",
     "text": [
      "H1: sigma2_a/sigma2_b < 1\n",
      "H0: sigma2_a/sigma2_b = 1\n",
      "F-stat = 0.3803, critical value = 0.2194\n",
      "Reject H1\n"
     ]
    }
   ],
   "source": [
    "# 두 모집단의 분산을 검정하기 (F-test)\n",
    "from scipy.stats import f\n",
    "\n",
    "alpha = 0.05  # 유의수준\n",
    "n_a = 6  # 표본갯수\n",
    "x_bar_a = 78.3  # 표본평균\n",
    "S2_a = 37.5  # 표본분산\n",
    "n_b = 21  # 표본갯수\n",
    "x_bar_b = 76.7  # 표본평균\n",
    "S2_b = 98.6  # 표본분산\n",
    "\n",
    "# F 검정통계량 계산\n",
    "stat = S2_a/S2_b\n",
    "# 임계치 계산\n",
    "c_val = f.ppf(alpha,n_a-1,n_b-1)\n",
    "\n",
    "\n",
    "# print('H1: sigma2_a != sigma2_b')\n",
    "# print('H1: sigma2_a < sigma2_b')\n",
    "# print('H0: sigma2_a >= sigma2_b')\n",
    "# print('H0: sigma2_a = sigma2_b')\n",
    "print('H1: sigma2_a/sigma2_b < 1')\n",
    "print('H0: sigma2_a/sigma2_b = 1')\n",
    "\n",
    "print('F-stat = %.4f, critical value = %.4f' % (stat, c_val))\n",
    "\n",
    "if stat > c_val:\n",
    "    print('Reject H1')\n",
    "else:\n",
    "    print('Accept H1')"
   ]
  },
  {
   "cell_type": "markdown",
   "id": "13f7437c-4c7e-401f-879e-16c460816a45",
   "metadata": {},
   "source": [
    "> 분포가 왼쪽으로 몰리면서 critical value가 낮아짐에 따라 연구가설은 기각됨"
   ]
  },
  {
   "cell_type": "markdown",
   "id": "4c8e18a1-b36f-4d97-a833-e8d473a7bff4",
   "metadata": {},
   "source": [
    "---"
   ]
  },
  {
   "cell_type": "markdown",
   "id": "f35f0679-6c43-4426-b2fa-8eedc24b36ed",
   "metadata": {},
   "source": [
    "문제 1"
   ]
  },
  {
   "cell_type": "code",
   "execution_count": 24,
   "id": "a959125e-7c89-4f6d-a80c-199c7be42428",
   "metadata": {},
   "outputs": [],
   "source": [
    "import pandas as pd\n",
    "import numpy as np\n",
    "import statsmodels.api as sm\n",
    "from statsmodels.formula.api import ols\n",
    "import matplotlib.pyplot as plt\n",
    "import seaborn as sns"
   ]
  },
  {
   "cell_type": "code",
   "execution_count": 26,
   "id": "85eeba67-7d1d-481f-8d46-293db243f4cc",
   "metadata": {},
   "outputs": [
    {
     "name": "stdout",
     "output_type": "stream",
     "text": [
      "  major  soju\n",
      "1   con   0.5\n",
      "4   con   2.0\n",
      "6   con   1.0\n",
      "   major  soju\n",
      "2     en   2.0\n",
      "7     en   1.0\n",
      "9     en   0.5\n",
      "11    en   1.5\n",
      "   major  soju\n",
      "0     ma   2.5\n",
      "3     ma   3.0\n",
      "5     ma   2.0\n",
      "8     ma   1.0\n",
      "10    ma   3.0\n",
      "           df    sum_sq  mean_sq         F    PR(>F)\n",
      "C(major)  2.0  3.450000  1.72500  2.976038  0.101844\n",
      "Residual  9.0  5.216667  0.57963       NaN       NaN\n"
     ]
    }
   ],
   "source": [
    "major = ['ma', 'con', 'en', 'ma', 'con', 'ma', 'con', 'en', 'ma', 'en', 'ma', 'en']\n",
    "soju = [2.5, 0.5, 2.0, 3.0, 2.0, 2.0, 1.0, 1.0, 1.0, 0.5, 3.0, 1.5]\n",
    "\n",
    "df = pd.DataFrame({'major': major, 'soju': soju})\n",
    "print(df[df.major == 'con'])\n",
    "print(df[df.major == 'en'])\n",
    "print(df[df.major == 'ma'])\n",
    "\n",
    "# the 'C' indicates categorical data\n",
    "formula = 'soju ~ C(major)'\n",
    "model = ols(formula, df).fit()\n",
    "\n",
    "print(sm.stats.anova_lm(model))  # 선형분산분석 모델"
   ]
  },
  {
   "cell_type": "markdown",
   "id": "6959de37-3c65-4895-8b8e-5df5ae3b5f14",
   "metadata": {},
   "source": [
    "문제 1a"
   ]
  },
  {
   "cell_type": "code",
   "execution_count": null,
   "id": "26ba7ebf-4a66-415a-b477-b8402692d490",
   "metadata": {},
   "outputs": [],
   "source": [
    "fac_level = ['A1', 'A2', 'A3', 'A4']\n",
    "strength = [[8.44, 8.36, 8.28], [8.59, 8.91, 8.60], [9.34, 9.41, 9.69], [8.92, 8.92, 8.74]]\n",
    "\n",
    "df = pd.DataFrame({'fac_level': fac_level, 'strength': strength})\n",
    "\n",
    "print(df[df.fac_level == 'A1'])\n",
    "print(df[df.fac_level == 'A2'])\n",
    "print(df[df.fac_level == 'A3'])\n",
    "print(df[df.fac_level == 'A4'])\n",
    "\n",
    "# res_temp = [60, 65, 70, 75]\n",
    "\n",
    "formula = ''"
   ]
  },
  {
   "cell_type": "markdown",
   "id": "a001aa20-941d-4fb2-9af9-54b896f5b158",
   "metadata": {},
   "source": [
    "문제 2 (주효과 검정만이 가능한 이원분산분석)"
   ]
  },
  {
   "cell_type": "code",
   "execution_count": 30,
   "id": "6f760b71-4b87-4e31-a470-94315120de9f",
   "metadata": {},
   "outputs": [
    {
     "name": "stdout",
     "output_type": "stream",
     "text": [
      "   volumn  south  north  column 4\n",
      "0   large     10      7       NaN\n",
      "1  medium      8      3       NaN\n",
      "2   small      4      1       NaN\n",
      "   volumn  location  sales\n",
      "0   large     south   10.0\n",
      "1  medium     south    8.0\n",
      "2   small     south    4.0\n",
      "3   large     north    7.0\n",
      "4  medium     north    3.0\n",
      "5   small     north    1.0\n",
      "6   large  column 4    NaN\n",
      "7  medium  column 4    NaN\n",
      "8   small  column 4    NaN\n",
      "              df     sum_sq    mean_sq          F    PR(>F)\n",
      "C(volumn)    2.0  36.000000  18.000000  27.000000  0.035714\n",
      "C(location)  2.0  20.337689  10.168845  15.253267  0.061526\n",
      "Residual     2.0   1.333333   0.666667        NaN       NaN\n"
     ]
    }
   ],
   "source": [
    "filename = 'data_2_2.csv'\n",
    "\n",
    "# path = 'C:\\Users\\Conet'\n",
    "# df = pd.read_csv(path+filename)\n",
    "\n",
    "df = pd.read_csv(filename)\n",
    "print(df)\n",
    "\n",
    "df = df.melt(id_vars=['volumn'], var_name = 'location', value_name = 'sales')\n",
    "print(df)\n",
    "\n",
    "formula = 'sales ~ C(volumn) + C(location)'\n",
    "model = ols(formula, df).fit()\n",
    "\n",
    "print(sm.stats.anova_lm(model))"
   ]
  },
  {
   "cell_type": "markdown",
   "id": "7da806ab-0289-43d8-b456-1c5700e95d33",
   "metadata": {},
   "source": [
    "문제 2a (이원분산분석 주효과+상호작용효과)"
   ]
  },
  {
   "cell_type": "code",
   "execution_count": null,
   "id": "6807c547-56b4-4d2d-9648-454b266588c2",
   "metadata": {},
   "outputs": [],
   "source": [
    "filename = 'data_2_3.csv'\n",
    "\n",
    "df = pd.read_csv(folder+filename)\n",
    "print(df)\n",
    "\n",
    "formula = 'sales ~ C(volumn) * C(location)'\n",
    "model = ols(formula, df).fit()\n",
    "\n",
    "print(sm.stats.anova_lm(model))\n",
    "\n",
    "from statsmodels.graphics.factorplots import interaction_plot\n",
    "fig = interaction_plot(df.column, df.location, df.sales,\n",
    "                       colors = ['red', 'blue'], markers=['D', '^'], ms = 10)\n",
    "\n",
    "import matplotlib.pyplot as plt\n",
    "plt.show()"
   ]
  },
  {
   "cell_type": "markdown",
   "id": "25dd619e-2047-4c26-b383-b4c54081c78d",
   "metadata": {},
   "source": [
    "문제 3"
   ]
  },
  {
   "cell_type": "code",
   "execution_count": 32,
   "id": "2d620e3e-27d1-4130-ba7b-b0249b63da6b",
   "metadata": {},
   "outputs": [
    {
     "name": "stdout",
     "output_type": "stream",
     "text": [
      "4     8.44\n",
      "7     8.36\n",
      "11    8.28\n",
      "Name: strength, dtype: float64 1    8.59\n",
      "6    8.91\n",
      "9    8.60\n",
      "Name: strength, dtype: float64 0    9.34\n",
      "3    9.41\n",
      "8    9.69\n",
      "Name: strength, dtype: float64 2     8.92\n",
      "5     8.92\n",
      "10    8.74\n",
      "Name: strength, dtype: float64\n"
     ]
    },
    {
     "data": {
      "text/html": [
       "<div>\n",
       "<style scoped>\n",
       "    .dataframe tbody tr th:only-of-type {\n",
       "        vertical-align: middle;\n",
       "    }\n",
       "\n",
       "    .dataframe tbody tr th {\n",
       "        vertical-align: top;\n",
       "    }\n",
       "\n",
       "    .dataframe thead th {\n",
       "        text-align: right;\n",
       "    }\n",
       "</style>\n",
       "<table border=\"1\" class=\"dataframe\">\n",
       "  <thead>\n",
       "    <tr style=\"text-align: right;\">\n",
       "      <th></th>\n",
       "      <th>temp</th>\n",
       "      <th>strength</th>\n",
       "    </tr>\n",
       "  </thead>\n",
       "  <tbody>\n",
       "    <tr>\n",
       "      <th>0</th>\n",
       "      <td>A3</td>\n",
       "      <td>9.34</td>\n",
       "    </tr>\n",
       "    <tr>\n",
       "      <th>1</th>\n",
       "      <td>A2</td>\n",
       "      <td>8.59</td>\n",
       "    </tr>\n",
       "    <tr>\n",
       "      <th>2</th>\n",
       "      <td>A4</td>\n",
       "      <td>8.92</td>\n",
       "    </tr>\n",
       "    <tr>\n",
       "      <th>3</th>\n",
       "      <td>A3</td>\n",
       "      <td>9.41</td>\n",
       "    </tr>\n",
       "    <tr>\n",
       "      <th>4</th>\n",
       "      <td>A1</td>\n",
       "      <td>8.44</td>\n",
       "    </tr>\n",
       "    <tr>\n",
       "      <th>5</th>\n",
       "      <td>A4</td>\n",
       "      <td>8.92</td>\n",
       "    </tr>\n",
       "    <tr>\n",
       "      <th>6</th>\n",
       "      <td>A2</td>\n",
       "      <td>8.91</td>\n",
       "    </tr>\n",
       "    <tr>\n",
       "      <th>7</th>\n",
       "      <td>A1</td>\n",
       "      <td>8.36</td>\n",
       "    </tr>\n",
       "    <tr>\n",
       "      <th>8</th>\n",
       "      <td>A3</td>\n",
       "      <td>9.69</td>\n",
       "    </tr>\n",
       "    <tr>\n",
       "      <th>9</th>\n",
       "      <td>A2</td>\n",
       "      <td>8.60</td>\n",
       "    </tr>\n",
       "    <tr>\n",
       "      <th>10</th>\n",
       "      <td>A4</td>\n",
       "      <td>8.74</td>\n",
       "    </tr>\n",
       "    <tr>\n",
       "      <th>11</th>\n",
       "      <td>A1</td>\n",
       "      <td>8.28</td>\n",
       "    </tr>\n",
       "  </tbody>\n",
       "</table>\n",
       "</div>"
      ],
      "text/plain": [
       "   temp  strength\n",
       "0    A3      9.34\n",
       "1    A2      8.59\n",
       "2    A4      8.92\n",
       "3    A3      9.41\n",
       "4    A1      8.44\n",
       "5    A4      8.92\n",
       "6    A2      8.91\n",
       "7    A1      8.36\n",
       "8    A3      9.69\n",
       "9    A2      8.60\n",
       "10   A4      8.74\n",
       "11   A1      8.28"
      ]
     },
     "execution_count": 32,
     "metadata": {},
     "output_type": "execute_result"
    }
   ],
   "source": [
    "from scipy.stats import shapiro, bartlett, levene\n",
    "from statsmodels.formula.api import ols\n",
    "from statsmodels.stats.anova import anova_lm\n",
    "\n",
    "filename = 'ex_3_1.csv'\n",
    "df = pd.read_csv(filename)\n",
    "\n",
    "a1 = df.strength[df.temp=='A1']\n",
    "a2 = df.strength[df.temp=='A2']\n",
    "a3 = df.strength[df.temp=='A3']\n",
    "a4 = df.strength[df.temp=='A4']\n",
    "\n",
    "print(a1, a2, a3, a4)\n",
    "df"
   ]
  },
  {
   "cell_type": "code",
   "execution_count": 34,
   "id": "79fe62d9-648d-4861-8e5a-2c272af7f0f8",
   "metadata": {},
   "outputs": [
    {
     "name": "stdout",
     "output_type": "stream",
     "text": [
      "\n",
      "******* Normality Test *******\n",
      "A1: stat = 1.0000, p-value = 1.0000\n",
      "A2: stat = 0.7734, p-value = 0.0525\n",
      "A3: stat = 0.8929, p-value = 0.3631\n",
      "A4: stat = 0.7500, p-value = -0.0000\n",
      "\n",
      "***** Equal Variance Test ******\n"
     ]
    },
    {
     "data": {
      "image/png": "[encoded data removed]",
      "text/plain": [
       "<Figure size 432x288 with 1 Axes>"
      ]
     },
     "metadata": {
      "needs_background": "light"
     },
     "output_type": "display_data"
    }
   ],
   "source": [
    "# 정규성; Shapiro Test\n",
    "print('\\n******* Normality Test *******')\n",
    "df.boxplot('strength', by = 'temp')\n",
    "s, p = shapiro(a1); print('A1: stat = %.4f, p-value = %.4f' % (s, p))  # 정규성을 만족시킨다.\n",
    "s, p = shapiro(a2); print('A2: stat = %.4f, p-value = %.4f' % (s, p))  # 정규성을 만족시킨다.\n",
    "s, p = shapiro(a3); print('A3: stat = %.4f, p-value = %.4f' % (s, p))  # 정규성을 만족시킨다.\n",
    "s, p = shapiro(a4); print('A4: stat = %.4f, p-value = %.4f' % (s, p))  # 정규성을 만족시키지 못한다.\n",
    "\n",
    "print('\\n***** Equal Variance Test ******')"
   ]
  },
  {
   "cell_type": "code",
   "execution_count": 36,
   "id": "e412d344-1533-4167-8152-2fb127076a3c",
   "metadata": {},
   "outputs": [
    {
     "name": "stdout",
     "output_type": "stream",
     "text": [
      "Bartlett: stat = 1.5493, p = 0.6709\n",
      "Levene: stat = 0.1900, p = 0.9003\n"
     ]
    }
   ],
   "source": [
    "# 등분산성; 분산의 동질성 검정; Bartlett, Levene Test\n",
    "s, p = bartlett(a1, a2, a3, a4)\n",
    "print('Bartlett: stat = %.4f, p = %.4f' % (s,p))  # 등분산으로 간주함\n",
    "\n",
    "s, p = levene(a1, a2, a3, a4)\n",
    "print('Levene: stat = %.4f, p = %.4f' % (s,p))  # 등분산으로 간주함"
   ]
  },
  {
   "cell_type": "code",
   "execution_count": 38,
   "id": "b40c647e-aee5-464e-9a20-6da0b7ab08d2",
   "metadata": {},
   "outputs": [
    {
     "ename": "SyntaxError",
     "evalue": "invalid syntax (2227165512.py, line 1)",
     "output_type": "error",
     "traceback": [
      "\u001b[1;36m  Input \u001b[1;32mIn [38]\u001b[1;36m\u001b[0m\n\u001b[1;33m    import warnings warnings.filterwarnings('ignore')\u001b[0m\n\u001b[1;37m                    ^\u001b[0m\n\u001b[1;31mSyntaxError\u001b[0m\u001b[1;31m:\u001b[0m invalid syntax\n"
     ]
    }
   ],
   "source": [
    "import warnings warnings.filterwarnings('ignore')"
   ]
  },
  {
   "cell_type": "code",
   "execution_count": 37,
   "id": "66259260-87d0-4eb6-97c1-b4d8615252bb",
   "metadata": {},
   "outputs": [
    {
     "name": "stdout",
     "output_type": "stream",
     "text": [
      "\n",
      "*** One-Way ANOVA ****\n",
      "           df  sum_sq  mean_sq          F    PR(>F)\n",
      "C(temp)   3.0  1.9788  0.65960  31.186761  0.000092\n",
      "Residual  8.0  0.1692  0.02115        NaN       NaN\n",
      "\n"
     ]
    },
    {
     "name": "stderr",
     "output_type": "stream",
     "text": [
      "C:\\Users\\Conet\\anaconda3\\lib\\site-packages\\scipy\\stats\\stats.py:1541: UserWarning: kurtosistest only valid for n>=20 ... continuing anyway, n=12\n",
      "  warnings.warn(\"kurtosistest only valid for n>=20 ... continuing \"\n"
     ]
    }
   ],
   "source": [
    "# 일원분산분석\n",
    "formula = 'strength ~ C(temp)'\n",
    "model = ols(formula, data=df).fit()\n",
    "model.summary()\n",
    "print('\\n*** One-Way ANOVA ****')\n",
    "print(anova_lm(model))\n",
    "print('')"
   ]
  },
  {
   "cell_type": "code",
   "execution_count": 39,
   "id": "87681ab1-1681-4c70-9fc6-9a5a2733fef3",
   "metadata": {},
   "outputs": [
    {
     "name": "stderr",
     "output_type": "stream",
     "text": [
      "C:\\Users\\Conet\\anaconda3\\lib\\site-packages\\scipy\\stats\\stats.py:1541: UserWarning: kurtosistest only valid for n>=20 ... continuing anyway, n=12\n",
      "  warnings.warn(\"kurtosistest only valid for n>=20 ... continuing \"\n"
     ]
    },
    {
     "data": {
      "text/html": [
       "<table class=\"simpletable\">\n",
       "<caption>OLS Regression Results</caption>\n",
       "<tr>\n",
       "  <th>Dep. Variable:</th>        <td>strength</td>     <th>  R-squared:         </th> <td>   0.921</td>\n",
       "</tr>\n",
       "<tr>\n",
       "  <th>Model:</th>                   <td>OLS</td>       <th>  Adj. R-squared:    </th> <td>   0.892</td>\n",
       "</tr>\n",
       "<tr>\n",
       "  <th>Method:</th>             <td>Least Squares</td>  <th>  F-statistic:       </th> <td>   31.19</td>\n",
       "</tr>\n",
       "<tr>\n",
       "  <th>Date:</th>             <td>Wed, 31 Aug 2022</td> <th>  Prob (F-statistic):</th> <td>9.17e-05</td>\n",
       "</tr>\n",
       "<tr>\n",
       "  <th>Time:</th>                 <td>09:42:34</td>     <th>  Log-Likelihood:    </th> <td>  8.5422</td>\n",
       "</tr>\n",
       "<tr>\n",
       "  <th>No. Observations:</th>      <td>    12</td>      <th>  AIC:               </th> <td>  -9.084</td>\n",
       "</tr>\n",
       "<tr>\n",
       "  <th>Df Residuals:</th>          <td>     8</td>      <th>  BIC:               </th> <td>  -7.145</td>\n",
       "</tr>\n",
       "<tr>\n",
       "  <th>Df Model:</th>              <td>     3</td>      <th>                     </th>     <td> </td>   \n",
       "</tr>\n",
       "<tr>\n",
       "  <th>Covariance Type:</th>      <td>nonrobust</td>    <th>                     </th>     <td> </td>   \n",
       "</tr>\n",
       "</table>\n",
       "<table class=\"simpletable\">\n",
       "<tr>\n",
       "        <td></td>           <th>coef</th>     <th>std err</th>      <th>t</th>      <th>P>|t|</th>  <th>[0.025</th>    <th>0.975]</th>  \n",
       "</tr>\n",
       "<tr>\n",
       "  <th>Intercept</th>     <td>    8.3600</td> <td>    0.084</td> <td>   99.566</td> <td> 0.000</td> <td>    8.166</td> <td>    8.554</td>\n",
       "</tr>\n",
       "<tr>\n",
       "  <th>C(temp)[T.A2]</th> <td>    0.3400</td> <td>    0.119</td> <td>    2.863</td> <td> 0.021</td> <td>    0.066</td> <td>    0.614</td>\n",
       "</tr>\n",
       "<tr>\n",
       "  <th>C(temp)[T.A3]</th> <td>    1.1200</td> <td>    0.119</td> <td>    9.432</td> <td> 0.000</td> <td>    0.846</td> <td>    1.394</td>\n",
       "</tr>\n",
       "<tr>\n",
       "  <th>C(temp)[T.A4]</th> <td>    0.5000</td> <td>    0.119</td> <td>    4.211</td> <td> 0.003</td> <td>    0.226</td> <td>    0.774</td>\n",
       "</tr>\n",
       "</table>\n",
       "<table class=\"simpletable\">\n",
       "<tr>\n",
       "  <th>Omnibus:</th>       <td> 1.554</td> <th>  Durbin-Watson:     </th> <td>   1.645</td>\n",
       "</tr>\n",
       "<tr>\n",
       "  <th>Prob(Omnibus):</th> <td> 0.460</td> <th>  Jarque-Bera (JB):  </th> <td>   1.155</td>\n",
       "</tr>\n",
       "<tr>\n",
       "  <th>Skew:</th>          <td> 0.588</td> <th>  Prob(JB):          </th> <td>   0.561</td>\n",
       "</tr>\n",
       "<tr>\n",
       "  <th>Kurtosis:</th>      <td> 2.037</td> <th>  Cond. No.          </th> <td>    4.79</td>\n",
       "</tr>\n",
       "</table><br/><br/>Notes:<br/>[1] Standard Errors assume that the covariance matrix of the errors is correctly specified."
      ],
      "text/plain": [
       "<class 'statsmodels.iolib.summary.Summary'>\n",
       "\"\"\"\n",
       "                            OLS Regression Results                            \n",
       "==============================================================================\n",
       "Dep. Variable:               strength   R-squared:                       0.921\n",
       "Model:                            OLS   Adj. R-squared:                  0.892\n",
       "Method:                 Least Squares   F-statistic:                     31.19\n",
       "Date:                Wed, 31 Aug 2022   Prob (F-statistic):           9.17e-05\n",
       "Time:                        09:42:34   Log-Likelihood:                 8.5422\n",
       "No. Observations:                  12   AIC:                            -9.084\n",
       "Df Residuals:                       8   BIC:                            -7.145\n",
       "Df Model:                           3                                         \n",
       "Covariance Type:            nonrobust                                         \n",
       "=================================================================================\n",
       "                    coef    std err          t      P>|t|      [0.025      0.975]\n",
       "---------------------------------------------------------------------------------\n",
       "Intercept         8.3600      0.084     99.566      0.000       8.166       8.554\n",
       "C(temp)[T.A2]     0.3400      0.119      2.863      0.021       0.066       0.614\n",
       "C(temp)[T.A3]     1.1200      0.119      9.432      0.000       0.846       1.394\n",
       "C(temp)[T.A4]     0.5000      0.119      4.211      0.003       0.226       0.774\n",
       "==============================================================================\n",
       "Omnibus:                        1.554   Durbin-Watson:                   1.645\n",
       "Prob(Omnibus):                  0.460   Jarque-Bera (JB):                1.155\n",
       "Skew:                           0.588   Prob(JB):                        0.561\n",
       "Kurtosis:                       2.037   Cond. No.                         4.79\n",
       "==============================================================================\n",
       "\n",
       "Notes:\n",
       "[1] Standard Errors assume that the covariance matrix of the errors is correctly specified.\n",
       "\"\"\""
      ]
     },
     "execution_count": 39,
     "metadata": {},
     "output_type": "execute_result"
    }
   ],
   "source": [
    "model.summary()"
   ]
  },
  {
   "cell_type": "code",
   "execution_count": 40,
   "id": "3fa46106-fb42-482c-acb3-9be2085079d6",
   "metadata": {},
   "outputs": [
    {
     "data": {
      "text/plain": [
       "0    -1.400000e-01\n",
       "1    -1.100000e-01\n",
       "2     6.000000e-02\n",
       "3    -7.000000e-02\n",
       "4     8.000000e-02\n",
       "5     6.000000e-02\n",
       "6     2.100000e-01\n",
       "7     1.776357e-15\n",
       "8     2.100000e-01\n",
       "9    -1.000000e-01\n",
       "10   -1.200000e-01\n",
       "11   -8.000000e-02\n",
       "dtype: float64"
      ]
     },
     "execution_count": 40,
     "metadata": {},
     "output_type": "execute_result"
    }
   ],
   "source": [
    "model.resid  # 잔차데이터"
   ]
  },
  {
   "cell_type": "code",
   "execution_count": 41,
   "id": "e208970b-e7e2-4ab2-b6fa-963837d8f09f",
   "metadata": {},
   "outputs": [
    {
     "data": {
      "text/plain": [
       "0     9.48\n",
       "1     8.70\n",
       "2     8.86\n",
       "3     9.48\n",
       "4     8.36\n",
       "5     8.86\n",
       "6     8.70\n",
       "7     8.36\n",
       "8     9.48\n",
       "9     8.70\n",
       "10    8.86\n",
       "11    8.36\n",
       "dtype: float64"
      ]
     },
     "execution_count": 41,
     "metadata": {},
     "output_type": "execute_result"
    }
   ],
   "source": [
    "model.fittedvalues"
   ]
  },
  {
   "cell_type": "code",
   "execution_count": 46,
   "id": "d66a684f-d962-423f-9fba-8408ef4f7439",
   "metadata": {},
   "outputs": [
    {
     "name": "stderr",
     "output_type": "stream",
     "text": [
      "C:\\Users\\Conet\\anaconda3\\lib\\site-packages\\seaborn\\_decorators.py:36: FutureWarning: Pass the following variables as keyword args: x, y. From version 0.12, the only valid positional argument will be `data`, and passing other arguments without an explicit keyword will result in an error or misinterpretation.\n",
      "  warnings.warn(\n",
      "C:\\Users\\Conet\\anaconda3\\lib\\site-packages\\seaborn\\_decorators.py:36: FutureWarning: Pass the following variables as keyword args: x, y. From version 0.12, the only valid positional argument will be `data`, and passing other arguments without an explicit keyword will result in an error or misinterpretation.\n",
      "  warnings.warn(\n"
     ]
    },
    {
     "data": {
      "text/plain": [
       "Text(0.5, 1.0, 'Scale-Location Plot')"
      ]
     },
     "execution_count": 46,
     "metadata": {},
     "output_type": "execute_result"
    },
    {
     "data": {
      "image/png": "[encoded data removed]",
      "text/plain": [
       "<Figure size 720x648 with 4 Axes>"
      ]
     },
     "metadata": {
      "needs_background": "light"
     },
     "output_type": "display_data"
    }
   ],
   "source": [
    "import scipy.stats as stats\n",
    "\n",
    "# 잔차분석 그래프 그리기 (Normal Q-Q plot, residuals, \n",
    "# define figure size\n",
    "fig = plt.figure(figsize = (10, 9))\n",
    "\n",
    "# produce regression plots\n",
    "resid = np.array(model.resid)\n",
    "fitted = np.array(model.fittedvalues)\n",
    "\n",
    "# Q-Q plot\n",
    "ax1 = plt.subplot(221)\n",
    "stats.probplot(resid, dist='norm', plot = plt)\n",
    "plt.xlabel('Residuals')\n",
    "plt.title('Normal Q-Q Plot')\n",
    "\n",
    "# Residual Plot\n",
    "ax1 = plt.subplot(222)\n",
    "sns.scatterplot(fitted, resid)\n",
    "plt.hlines(0, np.min(fitted), np.max(fitted), color = 'red')\n",
    "plt.xlabel('Fitted Values')\n",
    "plt.ylabel('Residuals')\n",
    "plt.title('Residual Plot')\n",
    "\n",
    "# Histogram\n",
    "ax1 = plt.subplot(223)\n",
    "sns.histplot(resid, bins = 10)\n",
    "plt.title('Histogram of Residuals')\n",
    "\n",
    "# Scale-Location Plot\n",
    "ax1 = plt.subplot(224)\n",
    "model_norm_residuals_abs_sqrt = np.sqrt(np.abs(resid))\n",
    "sns.regplot(fitted, model_norm_residuals_abs_sqrt,\n",
    "            scatter = True,\n",
    "            lowess = True,\n",
    "            line_kws = {'color': 'red'\n",
    "                       , 'lw': 1\n",
    "                       , 'alpha': 0.8})\n",
    "plt.ylabel(\"Standardized Residuals\")\n",
    "plt.xlabel(\"Fitted Value\")\n",
    "plt.title(\"Scale-Location Plot\")"
   ]
  },
  {
   "cell_type": "code",
   "execution_count": 52,
   "id": "fd64719a-b248-4628-bb05-6cedc9c26ec1",
   "metadata": {},
   "outputs": [
    {
     "name": "stdout",
     "output_type": "stream",
     "text": [
      "Test Multiple Comparison ttest_ind \n",
      "FWER=0.05 method=bonf\n",
      "alphacSidak=0.01, alphacBonf=0.008\n",
      "=============================================\n",
      "group1 group2   stat   pval  pval_corr reject\n",
      "---------------------------------------------\n",
      "    A1     A2 -2.9631 0.0414    0.2486  False\n",
      "    A1     A3 -9.6157 0.0007    0.0039   True\n",
      "    A1     A4 -6.6034 0.0027    0.0164   True\n",
      "    A2     A3 -5.2039 0.0065     0.039   True\n",
      "    A2     A4 -1.3227 0.2565       1.0  False\n",
      "    A3     A4  5.0567 0.0072    0.0432   True\n",
      "---------------------------------------------\n",
      "Multiple Comparison of Means - Tukey HSD, FWER=0.05 \n",
      "====================================================\n",
      "group1 group2 meandiff p-adj   lower   upper  reject\n",
      "----------------------------------------------------\n",
      "    A1     A2     0.34 0.0807 -0.0403  0.7203  False\n",
      "    A1     A3     1.12 0.0001  0.7397  1.5003   True\n",
      "    A1     A4      0.5 0.0126  0.1197  0.8803   True\n",
      "    A2     A3     0.78 0.0008  0.3997  1.1603   True\n",
      "    A2     A4     0.16 0.5615 -0.2203  0.5403  False\n",
      "    A3     A4    -0.62 0.0035 -1.0003 -0.2397   True\n",
      "----------------------------------------------------\n"
     ]
    }
   ],
   "source": [
    "# FWER (Familywise Error Rate): 여러개의 가설 검정 시 적어도 하나의 가설에서 1종오류가 발생할 가능성 존재\n",
    "# 가설검정을 많이 할 수록 FWER 증가\n",
    "# 유의수준 5%에서 가설검정을 1번 할 때, 1종오류가 발생하지 않을 확률은 95%, FWER = 100% - 95% = 5%\n",
    "# 가설검정을 2번했을 때, 2번 모두 1종 오류가 발생하지 않을 확률은 95% * 95% = 90.25%, FWER = 9.75%$\n",
    "# 가설검정을 3번했을 때, 3번 모두 1종 오류가 발생하지 않을 확률은 95% * 95% * 95% = 85.74%, FWER = 14.26%\n",
    "\n",
    "from statsmodels.sandbox.stats.multicomp import MultiComparison\n",
    "import scipy.stats\n",
    "\n",
    "comp = MultiComparison(df.strength, df.temp)\n",
    "\n",
    "# Bonferroni Correction\n",
    "result = comp.allpairtest(scipy.stats.ttest_ind, method = 'bonf')\n",
    "print(result[0])\n",
    "\n",
    "# Tuckey's Honestly Significant Difference = '진정으로 유의미한 차이'\n",
    "from statsmodels.stats.multicomp import pairwise_tukeyhsd\n",
    "\n",
    "hsd = pairwise_tukeyhsd(df['strength'], df['temp'], alpha = 0.05)\n",
    "print(hsd.summary())                    "
   ]
  },
  {
   "cell_type": "code",
   "execution_count": null,
   "id": "cf7e11b3-b48b-4c43-a714-d82f7801d564",
   "metadata": {},
   "outputs": [],
   "source": [
    "filename = 'ex_4_1.csv'\n",
    "df = pd.read_csv(filename)\n",
    "\n",
    "df.boxplot('Yield', by = ['A', 'B'])"
   ]
  },
  {
   "cell_type": "code",
   "execution_count": 53,
   "id": "170e1053-65a9-4678-a7a7-01b57363b0e1",
   "metadata": {},
   "outputs": [
    {
     "ename": "KeyError",
     "evalue": "'B'",
     "output_type": "error",
     "traceback": [
      "\u001b[1;31m---------------------------------------------------------------------------\u001b[0m",
      "\u001b[1;31mKeyError\u001b[0m                                  Traceback (most recent call last)",
      "File \u001b[1;32m~\\anaconda3\\lib\\site-packages\\pandas\\core\\indexes\\base.py:3621\u001b[0m, in \u001b[0;36mIndex.get_loc\u001b[1;34m(self, key, method, tolerance)\u001b[0m\n\u001b[0;32m   3620\u001b[0m \u001b[38;5;28;01mtry\u001b[39;00m:\n\u001b[1;32m-> 3621\u001b[0m     \u001b[38;5;28;01mreturn\u001b[39;00m \u001b[38;5;28;43mself\u001b[39;49m\u001b[38;5;241;43m.\u001b[39;49m\u001b[43m_engine\u001b[49m\u001b[38;5;241;43m.\u001b[39;49m\u001b[43mget_loc\u001b[49m\u001b[43m(\u001b[49m\u001b[43mcasted_key\u001b[49m\u001b[43m)\u001b[49m\n\u001b[0;32m   3622\u001b[0m \u001b[38;5;28;01mexcept\u001b[39;00m \u001b[38;5;167;01mKeyError\u001b[39;00m \u001b[38;5;28;01mas\u001b[39;00m err:\n",
      "File \u001b[1;32m~\\anaconda3\\lib\\site-packages\\pandas\\_libs\\index.pyx:136\u001b[0m, in \u001b[0;36mpandas._libs.index.IndexEngine.get_loc\u001b[1;34m()\u001b[0m\n",
      "File \u001b[1;32m~\\anaconda3\\lib\\site-packages\\pandas\\_libs\\index.pyx:163\u001b[0m, in \u001b[0;36mpandas._libs.index.IndexEngine.get_loc\u001b[1;34m()\u001b[0m\n",
      "File \u001b[1;32mpandas\\_libs\\hashtable_class_helper.pxi:5198\u001b[0m, in \u001b[0;36mpandas._libs.hashtable.PyObjectHashTable.get_item\u001b[1;34m()\u001b[0m\n",
      "File \u001b[1;32mpandas\\_libs\\hashtable_class_helper.pxi:5206\u001b[0m, in \u001b[0;36mpandas._libs.hashtable.PyObjectHashTable.get_item\u001b[1;34m()\u001b[0m\n",
      "\u001b[1;31mKeyError\u001b[0m: 'B'",
      "\nThe above exception was the direct cause of the following exception:\n",
      "\u001b[1;31mKeyError\u001b[0m                                  Traceback (most recent call last)",
      "Input \u001b[1;32mIn [53]\u001b[0m, in \u001b[0;36m<cell line: 3>\u001b[1;34m()\u001b[0m\n\u001b[0;32m      1\u001b[0m \u001b[38;5;66;03m# 정규성 자동화: Shapiro Test\u001b[39;00m\n\u001b[0;32m      2\u001b[0m \u001b[38;5;66;03m# dataframe을 array 형태로 변환\u001b[39;00m\n\u001b[1;32m----> 3\u001b[0m dfm \u001b[38;5;241m=\u001b[39m np\u001b[38;5;241m.\u001b[39marray(\u001b[43mdf\u001b[49m\u001b[38;5;241;43m.\u001b[39;49m\u001b[43mpivot\u001b[49m\u001b[43m(\u001b[49m\u001b[43mindex\u001b[49m\u001b[43m \u001b[49m\u001b[38;5;241;43m=\u001b[39;49m\u001b[43m \u001b[49m\u001b[38;5;124;43m'\u001b[39;49m\u001b[38;5;124;43mB\u001b[39;49m\u001b[38;5;124;43m'\u001b[39;49m\u001b[43m,\u001b[49m\u001b[43m \u001b[49m\u001b[43mcolumns\u001b[49m\u001b[43m \u001b[49m\u001b[38;5;241;43m=\u001b[39;49m\u001b[43m \u001b[49m\u001b[38;5;124;43m'\u001b[39;49m\u001b[38;5;124;43mA\u001b[39;49m\u001b[38;5;124;43m'\u001b[39;49m\u001b[43m,\u001b[49m\u001b[43m \u001b[49m\u001b[43mvalues\u001b[49m\u001b[43m \u001b[49m\u001b[38;5;241;43m=\u001b[39;49m\u001b[43m \u001b[49m\u001b[38;5;124;43m'\u001b[39;49m\u001b[38;5;124;43mYield\u001b[39;49m\u001b[38;5;124;43m'\u001b[39;49m\u001b[43m)\u001b[49m)\n\u001b[0;32m      4\u001b[0m nB, nA \u001b[38;5;241m=\u001b[39m dfm\u001b[38;5;241m.\u001b[39mshape\n\u001b[0;32m      6\u001b[0m \u001b[38;5;28mprint\u001b[39m(\u001b[38;5;124m'\u001b[39m\u001b[38;5;130;01m\\n\u001b[39;00m\u001b[38;5;124m** Normality Test**\u001b[39m\u001b[38;5;124m'\u001b[39m)\n",
      "File \u001b[1;32m~\\anaconda3\\lib\\site-packages\\pandas\\core\\frame.py:7876\u001b[0m, in \u001b[0;36mDataFrame.pivot\u001b[1;34m(self, index, columns, values)\u001b[0m\n\u001b[0;32m   7871\u001b[0m \u001b[38;5;129m@Substitution\u001b[39m(\u001b[38;5;124m\"\u001b[39m\u001b[38;5;124m\"\u001b[39m)\n\u001b[0;32m   7872\u001b[0m \u001b[38;5;129m@Appender\u001b[39m(_shared_docs[\u001b[38;5;124m\"\u001b[39m\u001b[38;5;124mpivot\u001b[39m\u001b[38;5;124m\"\u001b[39m])\n\u001b[0;32m   7873\u001b[0m \u001b[38;5;28;01mdef\u001b[39;00m \u001b[38;5;21mpivot\u001b[39m(\u001b[38;5;28mself\u001b[39m, index\u001b[38;5;241m=\u001b[39m\u001b[38;5;28;01mNone\u001b[39;00m, columns\u001b[38;5;241m=\u001b[39m\u001b[38;5;28;01mNone\u001b[39;00m, values\u001b[38;5;241m=\u001b[39m\u001b[38;5;28;01mNone\u001b[39;00m) \u001b[38;5;241m-\u001b[39m\u001b[38;5;241m>\u001b[39m DataFrame:\n\u001b[0;32m   7874\u001b[0m     \u001b[38;5;28;01mfrom\u001b[39;00m \u001b[38;5;21;01mpandas\u001b[39;00m\u001b[38;5;21;01m.\u001b[39;00m\u001b[38;5;21;01mcore\u001b[39;00m\u001b[38;5;21;01m.\u001b[39;00m\u001b[38;5;21;01mreshape\u001b[39;00m\u001b[38;5;21;01m.\u001b[39;00m\u001b[38;5;21;01mpivot\u001b[39;00m \u001b[38;5;28;01mimport\u001b[39;00m pivot\n\u001b[1;32m-> 7876\u001b[0m     \u001b[38;5;28;01mreturn\u001b[39;00m \u001b[43mpivot\u001b[49m\u001b[43m(\u001b[49m\u001b[38;5;28;43mself\u001b[39;49m\u001b[43m,\u001b[49m\u001b[43m \u001b[49m\u001b[43mindex\u001b[49m\u001b[38;5;241;43m=\u001b[39;49m\u001b[43mindex\u001b[49m\u001b[43m,\u001b[49m\u001b[43m \u001b[49m\u001b[43mcolumns\u001b[49m\u001b[38;5;241;43m=\u001b[39;49m\u001b[43mcolumns\u001b[49m\u001b[43m,\u001b[49m\u001b[43m \u001b[49m\u001b[43mvalues\u001b[49m\u001b[38;5;241;43m=\u001b[39;49m\u001b[43mvalues\u001b[49m\u001b[43m)\u001b[49m\n",
      "File \u001b[1;32m~\\anaconda3\\lib\\site-packages\\pandas\\core\\reshape\\pivot.py:506\u001b[0m, in \u001b[0;36mpivot\u001b[1;34m(data, index, columns, values)\u001b[0m\n\u001b[0;32m    504\u001b[0m         index_list \u001b[38;5;241m=\u001b[39m [Series(data\u001b[38;5;241m.\u001b[39mindex, name\u001b[38;5;241m=\u001b[39mdata\u001b[38;5;241m.\u001b[39mindex\u001b[38;5;241m.\u001b[39mname)]\n\u001b[0;32m    505\u001b[0m \u001b[38;5;28;01melse\u001b[39;00m:\n\u001b[1;32m--> 506\u001b[0m     index_list \u001b[38;5;241m=\u001b[39m [data[idx] \u001b[38;5;28;01mfor\u001b[39;00m idx \u001b[38;5;129;01min\u001b[39;00m com\u001b[38;5;241m.\u001b[39mconvert_to_list_like(index)]\n\u001b[0;32m    508\u001b[0m data_columns \u001b[38;5;241m=\u001b[39m [data[col] \u001b[38;5;28;01mfor\u001b[39;00m col \u001b[38;5;129;01min\u001b[39;00m columns_listlike]\n\u001b[0;32m    509\u001b[0m index_list\u001b[38;5;241m.\u001b[39mextend(data_columns)\n",
      "File \u001b[1;32m~\\anaconda3\\lib\\site-packages\\pandas\\core\\reshape\\pivot.py:506\u001b[0m, in \u001b[0;36m<listcomp>\u001b[1;34m(.0)\u001b[0m\n\u001b[0;32m    504\u001b[0m         index_list \u001b[38;5;241m=\u001b[39m [Series(data\u001b[38;5;241m.\u001b[39mindex, name\u001b[38;5;241m=\u001b[39mdata\u001b[38;5;241m.\u001b[39mindex\u001b[38;5;241m.\u001b[39mname)]\n\u001b[0;32m    505\u001b[0m \u001b[38;5;28;01melse\u001b[39;00m:\n\u001b[1;32m--> 506\u001b[0m     index_list \u001b[38;5;241m=\u001b[39m [\u001b[43mdata\u001b[49m\u001b[43m[\u001b[49m\u001b[43midx\u001b[49m\u001b[43m]\u001b[49m \u001b[38;5;28;01mfor\u001b[39;00m idx \u001b[38;5;129;01min\u001b[39;00m com\u001b[38;5;241m.\u001b[39mconvert_to_list_like(index)]\n\u001b[0;32m    508\u001b[0m data_columns \u001b[38;5;241m=\u001b[39m [data[col] \u001b[38;5;28;01mfor\u001b[39;00m col \u001b[38;5;129;01min\u001b[39;00m columns_listlike]\n\u001b[0;32m    509\u001b[0m index_list\u001b[38;5;241m.\u001b[39mextend(data_columns)\n",
      "File \u001b[1;32m~\\anaconda3\\lib\\site-packages\\pandas\\core\\frame.py:3505\u001b[0m, in \u001b[0;36mDataFrame.__getitem__\u001b[1;34m(self, key)\u001b[0m\n\u001b[0;32m   3503\u001b[0m \u001b[38;5;28;01mif\u001b[39;00m \u001b[38;5;28mself\u001b[39m\u001b[38;5;241m.\u001b[39mcolumns\u001b[38;5;241m.\u001b[39mnlevels \u001b[38;5;241m>\u001b[39m \u001b[38;5;241m1\u001b[39m:\n\u001b[0;32m   3504\u001b[0m     \u001b[38;5;28;01mreturn\u001b[39;00m \u001b[38;5;28mself\u001b[39m\u001b[38;5;241m.\u001b[39m_getitem_multilevel(key)\n\u001b[1;32m-> 3505\u001b[0m indexer \u001b[38;5;241m=\u001b[39m \u001b[38;5;28;43mself\u001b[39;49m\u001b[38;5;241;43m.\u001b[39;49m\u001b[43mcolumns\u001b[49m\u001b[38;5;241;43m.\u001b[39;49m\u001b[43mget_loc\u001b[49m\u001b[43m(\u001b[49m\u001b[43mkey\u001b[49m\u001b[43m)\u001b[49m\n\u001b[0;32m   3506\u001b[0m \u001b[38;5;28;01mif\u001b[39;00m is_integer(indexer):\n\u001b[0;32m   3507\u001b[0m     indexer \u001b[38;5;241m=\u001b[39m [indexer]\n",
      "File \u001b[1;32m~\\anaconda3\\lib\\site-packages\\pandas\\core\\indexes\\base.py:3623\u001b[0m, in \u001b[0;36mIndex.get_loc\u001b[1;34m(self, key, method, tolerance)\u001b[0m\n\u001b[0;32m   3621\u001b[0m     \u001b[38;5;28;01mreturn\u001b[39;00m \u001b[38;5;28mself\u001b[39m\u001b[38;5;241m.\u001b[39m_engine\u001b[38;5;241m.\u001b[39mget_loc(casted_key)\n\u001b[0;32m   3622\u001b[0m \u001b[38;5;28;01mexcept\u001b[39;00m \u001b[38;5;167;01mKeyError\u001b[39;00m \u001b[38;5;28;01mas\u001b[39;00m err:\n\u001b[1;32m-> 3623\u001b[0m     \u001b[38;5;28;01mraise\u001b[39;00m \u001b[38;5;167;01mKeyError\u001b[39;00m(key) \u001b[38;5;28;01mfrom\u001b[39;00m \u001b[38;5;21;01merr\u001b[39;00m\n\u001b[0;32m   3624\u001b[0m \u001b[38;5;28;01mexcept\u001b[39;00m \u001b[38;5;167;01mTypeError\u001b[39;00m:\n\u001b[0;32m   3625\u001b[0m     \u001b[38;5;66;03m# If we have a listlike key, _check_indexing_error will raise\u001b[39;00m\n\u001b[0;32m   3626\u001b[0m     \u001b[38;5;66;03m#  InvalidIndexError. Otherwise we fall through and re-raise\u001b[39;00m\n\u001b[0;32m   3627\u001b[0m     \u001b[38;5;66;03m#  the TypeError.\u001b[39;00m\n\u001b[0;32m   3628\u001b[0m     \u001b[38;5;28mself\u001b[39m\u001b[38;5;241m.\u001b[39m_check_indexing_error(key)\n",
      "\u001b[1;31mKeyError\u001b[0m: 'B'"
     ]
    }
   ],
   "source": [
    "# 정규성 자동화: Shapiro Test\n",
    "# dataframe을 array 형태로 변환\n",
    "dfm = np.array(df.pivot(index = 'B', columns = 'A', values = 'Yield'))\n",
    "nB, nA = dfm.shape\n",
    "\n",
    "print('\\n** Normality Test**')\n",
    "\n",
    "for i in range(nA):\n",
    "    s, p = shapiro(dfm[:,i])\n",
    "    print('A%i: stat = %.4f, pvalue = %.4f, %s' % (i+1, s, p, check_significance(p)))\n",
    "\n",
    "for i in range(nB):\n",
    "    s, p = shapiro(dfm[i,:])\n",
    "    print('B%i: stat = %.4f, pvalue = %.4f, %s' % (i+1, s, p, check_significance(p)))\n",
    "\n",
    "print('***************')"
   ]
  },
  {
   "cell_type": "code",
   "execution_count": 50,
   "id": "94b9655c-230b-43c4-95f9-54daebc2947c",
   "metadata": {},
   "outputs": [
    {
     "name": "stdout",
     "output_type": "stream",
     "text": [
      "\n",
      "*** Equal Variance Test for A***\n"
     ]
    },
    {
     "ename": "NameError",
     "evalue": "name 'dfm' is not defined",
     "output_type": "error",
     "traceback": [
      "\u001b[1;31m---------------------------------------------------------------------------\u001b[0m",
      "\u001b[1;31mNameError\u001b[0m                                 Traceback (most recent call last)",
      "Input \u001b[1;32mIn [50]\u001b[0m, in \u001b[0;36m<cell line: 3>\u001b[1;34m()\u001b[0m\n\u001b[0;32m      1\u001b[0m \u001b[38;5;66;03m# Bartlett, Levene Test\u001b[39;00m\n\u001b[0;32m      2\u001b[0m \u001b[38;5;28mprint\u001b[39m(\u001b[38;5;124m'\u001b[39m\u001b[38;5;130;01m\\n\u001b[39;00m\u001b[38;5;124m*** Equal Variance Test for A***\u001b[39m\u001b[38;5;124m'\u001b[39m)\n\u001b[1;32m----> 3\u001b[0m s, p \u001b[38;5;241m=\u001b[39m bartlett(\u001b[43mdfm\u001b[49m[:,\u001b[38;5;241m0\u001b[39m], dfm[:,\u001b[38;5;241m1\u001b[39m], dfm[:,\u001b[38;5;241m2\u001b[39m], dfm[:,\u001b[38;5;241m3\u001b[39m])\n\u001b[0;32m      4\u001b[0m \u001b[38;5;28mprint\u001b[39m(\u001b[38;5;124m'\u001b[39m\u001b[38;5;124mBartlett: stat = \u001b[39m\u001b[38;5;132;01m%.4f\u001b[39;00m\u001b[38;5;124m, p = \u001b[39m\u001b[38;5;132;01m%.4f\u001b[39;00m\u001b[38;5;124m, \u001b[39m\u001b[38;5;132;01m%s\u001b[39;00m\u001b[38;5;124m'\u001b[39m \u001b[38;5;241m%\u001b[39m (s, p, check_significance(p)))\n\u001b[0;32m      5\u001b[0m s, p \u001b[38;5;241m=\u001b[39m levene(dfm[:,\u001b[38;5;241m0\u001b[39m], dfm[:,\u001b[38;5;241m1\u001b[39m], dfm[:,\u001b[38;5;241m2\u001b[39m], dfm[:,\u001b[38;5;241m3\u001b[39m])\n",
      "\u001b[1;31mNameError\u001b[0m: name 'dfm' is not defined"
     ]
    }
   ],
   "source": [
    "# Bartlett, Levene Test\n",
    "print('\\n*** Equal Variance Test for A***')\n",
    "s, p = bartlett(dfm[:,0], dfm[:,1], dfm[:,2], dfm[:,3])\n",
    "print('Bartlett: stat = %.4f, p = %.4f, %s' % (s, p, check_significance(p)))\n",
    "s, p = levene(dfm[:,0], dfm[:,1], dfm[:,2], dfm[:,3])\n",
    "print('Levene: stat = %.4f, p = %.4f, %s' % (s, p, check_significance(p)))\n",
    "\n",
    "print('\\n** Equal Variance Test For B**')\n",
    "s, p = bartlett(dfm[0,:], dfm[1,:], dfm[2,:])\n",
    "print('Bartlett: stat = %.4f, p = %.4f, %s' % (s, p, check_significance(p)))\n",
    "s, p = levene(dfm[0,:], dfm[1,:], dfm[2,:])\n",
    "print('Levene: stat = %.4f, p = %.4f, %s' % (s, p, check_significance(p)))"
   ]
  },
  {
   "cell_type": "code",
   "execution_count": 49,
   "id": "28d75f04-161b-4715-b6d4-d24b765ffc09",
   "metadata": {},
   "outputs": [
    {
     "ename": "PatsyError",
     "evalue": "Error evaluating factor: NameError: name 'A' is not defined\n    Yield ~ C(A) + C(B)\n            ^^^^",
     "output_type": "error",
     "traceback": [
      "\u001b[1;31m---------------------------------------------------------------------------\u001b[0m",
      "\u001b[1;31mNameError\u001b[0m                                 Traceback (most recent call last)",
      "File \u001b[1;32m~\\anaconda3\\lib\\site-packages\\patsy\\compat.py:36\u001b[0m, in \u001b[0;36mcall_and_wrap_exc\u001b[1;34m(msg, origin, f, *args, **kwargs)\u001b[0m\n\u001b[0;32m     35\u001b[0m \u001b[38;5;28;01mtry\u001b[39;00m:\n\u001b[1;32m---> 36\u001b[0m     \u001b[38;5;28;01mreturn\u001b[39;00m f(\u001b[38;5;241m*\u001b[39margs, \u001b[38;5;241m*\u001b[39m\u001b[38;5;241m*\u001b[39mkwargs)\n\u001b[0;32m     37\u001b[0m \u001b[38;5;28;01mexcept\u001b[39;00m \u001b[38;5;167;01mException\u001b[39;00m \u001b[38;5;28;01mas\u001b[39;00m e:\n",
      "File \u001b[1;32m~\\anaconda3\\lib\\site-packages\\patsy\\eval.py:165\u001b[0m, in \u001b[0;36mEvalEnvironment.eval\u001b[1;34m(self, expr, source_name, inner_namespace)\u001b[0m\n\u001b[0;32m    164\u001b[0m code \u001b[38;5;241m=\u001b[39m \u001b[38;5;28mcompile\u001b[39m(expr, source_name, \u001b[38;5;124m\"\u001b[39m\u001b[38;5;124meval\u001b[39m\u001b[38;5;124m\"\u001b[39m, \u001b[38;5;28mself\u001b[39m\u001b[38;5;241m.\u001b[39mflags, \u001b[38;5;28;01mFalse\u001b[39;00m)\n\u001b[1;32m--> 165\u001b[0m \u001b[38;5;28;01mreturn\u001b[39;00m \u001b[38;5;28;43meval\u001b[39;49m\u001b[43m(\u001b[49m\u001b[43mcode\u001b[49m\u001b[43m,\u001b[49m\u001b[43m \u001b[49m\u001b[43m{\u001b[49m\u001b[43m}\u001b[49m\u001b[43m,\u001b[49m\u001b[43m \u001b[49m\u001b[43mVarLookupDict\u001b[49m\u001b[43m(\u001b[49m\u001b[43m[\u001b[49m\u001b[43minner_namespace\u001b[49m\u001b[43m]\u001b[49m\n\u001b[0;32m    166\u001b[0m \u001b[43m                                    \u001b[49m\u001b[38;5;241;43m+\u001b[39;49m\u001b[43m \u001b[49m\u001b[38;5;28;43mself\u001b[39;49m\u001b[38;5;241;43m.\u001b[39;49m\u001b[43m_namespaces\u001b[49m\u001b[43m)\u001b[49m\u001b[43m)\u001b[49m\n",
      "File \u001b[1;32m<string>:1\u001b[0m, in \u001b[0;36m<module>\u001b[1;34m\u001b[0m\n",
      "\u001b[1;31mNameError\u001b[0m: name 'A' is not defined",
      "\nThe above exception was the direct cause of the following exception:\n",
      "\u001b[1;31mPatsyError\u001b[0m                                Traceback (most recent call last)",
      "Input \u001b[1;32mIn [49]\u001b[0m, in \u001b[0;36m<cell line: 3>\u001b[1;34m()\u001b[0m\n\u001b[0;32m      1\u001b[0m \u001b[38;5;66;03m# 이원분산분석\u001b[39;00m\n\u001b[0;32m      2\u001b[0m formula \u001b[38;5;241m=\u001b[39m \u001b[38;5;124m'\u001b[39m\u001b[38;5;124mYield ~ C(A) + C(B)\u001b[39m\u001b[38;5;124m'\u001b[39m\n\u001b[1;32m----> 3\u001b[0m model \u001b[38;5;241m=\u001b[39m \u001b[43mols\u001b[49m\u001b[43m(\u001b[49m\u001b[43mformula\u001b[49m\u001b[43m,\u001b[49m\u001b[43m \u001b[49m\u001b[43mdata\u001b[49m\u001b[43m \u001b[49m\u001b[38;5;241;43m=\u001b[39;49m\u001b[43m \u001b[49m\u001b[43mdf\u001b[49m\u001b[43m)\u001b[49m\u001b[38;5;241m.\u001b[39mfit()\n\u001b[0;32m      4\u001b[0m \u001b[38;5;28mprint\u001b[39m(model\u001b[38;5;241m.\u001b[39msummary())\n\u001b[0;32m      5\u001b[0m \u001b[38;5;28mprint\u001b[39m(\u001b[38;5;124m'\u001b[39m\u001b[38;5;130;01m\\n\u001b[39;00m\u001b[38;5;124m** Two-Way ANOVA**\u001b[39m\u001b[38;5;124m'\u001b[39m)\n",
      "File \u001b[1;32m~\\anaconda3\\lib\\site-packages\\statsmodels\\base\\model.py:200\u001b[0m, in \u001b[0;36mModel.from_formula\u001b[1;34m(cls, formula, data, subset, drop_cols, *args, **kwargs)\u001b[0m\n\u001b[0;32m    197\u001b[0m \u001b[38;5;28;01mif\u001b[39;00m missing \u001b[38;5;241m==\u001b[39m \u001b[38;5;124m'\u001b[39m\u001b[38;5;124mnone\u001b[39m\u001b[38;5;124m'\u001b[39m:  \u001b[38;5;66;03m# with patsy it's drop or raise. let's raise.\u001b[39;00m\n\u001b[0;32m    198\u001b[0m     missing \u001b[38;5;241m=\u001b[39m \u001b[38;5;124m'\u001b[39m\u001b[38;5;124mraise\u001b[39m\u001b[38;5;124m'\u001b[39m\n\u001b[1;32m--> 200\u001b[0m tmp \u001b[38;5;241m=\u001b[39m \u001b[43mhandle_formula_data\u001b[49m\u001b[43m(\u001b[49m\u001b[43mdata\u001b[49m\u001b[43m,\u001b[49m\u001b[43m \u001b[49m\u001b[38;5;28;43;01mNone\u001b[39;49;00m\u001b[43m,\u001b[49m\u001b[43m \u001b[49m\u001b[43mformula\u001b[49m\u001b[43m,\u001b[49m\u001b[43m \u001b[49m\u001b[43mdepth\u001b[49m\u001b[38;5;241;43m=\u001b[39;49m\u001b[43meval_env\u001b[49m\u001b[43m,\u001b[49m\n\u001b[0;32m    201\u001b[0m \u001b[43m                          \u001b[49m\u001b[43mmissing\u001b[49m\u001b[38;5;241;43m=\u001b[39;49m\u001b[43mmissing\u001b[49m\u001b[43m)\u001b[49m\n\u001b[0;32m    202\u001b[0m ((endog, exog), missing_idx, design_info) \u001b[38;5;241m=\u001b[39m tmp\n\u001b[0;32m    203\u001b[0m max_endog \u001b[38;5;241m=\u001b[39m \u001b[38;5;28mcls\u001b[39m\u001b[38;5;241m.\u001b[39m_formula_max_endog\n",
      "File \u001b[1;32m~\\anaconda3\\lib\\site-packages\\statsmodels\\formula\\formulatools.py:63\u001b[0m, in \u001b[0;36mhandle_formula_data\u001b[1;34m(Y, X, formula, depth, missing)\u001b[0m\n\u001b[0;32m     61\u001b[0m \u001b[38;5;28;01melse\u001b[39;00m:\n\u001b[0;32m     62\u001b[0m     \u001b[38;5;28;01mif\u001b[39;00m data_util\u001b[38;5;241m.\u001b[39m_is_using_pandas(Y, \u001b[38;5;28;01mNone\u001b[39;00m):\n\u001b[1;32m---> 63\u001b[0m         result \u001b[38;5;241m=\u001b[39m \u001b[43mdmatrices\u001b[49m\u001b[43m(\u001b[49m\u001b[43mformula\u001b[49m\u001b[43m,\u001b[49m\u001b[43m \u001b[49m\u001b[43mY\u001b[49m\u001b[43m,\u001b[49m\u001b[43m \u001b[49m\u001b[43mdepth\u001b[49m\u001b[43m,\u001b[49m\u001b[43m \u001b[49m\u001b[43mreturn_type\u001b[49m\u001b[38;5;241;43m=\u001b[39;49m\u001b[38;5;124;43m'\u001b[39;49m\u001b[38;5;124;43mdataframe\u001b[39;49m\u001b[38;5;124;43m'\u001b[39;49m\u001b[43m,\u001b[49m\n\u001b[0;32m     64\u001b[0m \u001b[43m                           \u001b[49m\u001b[43mNA_action\u001b[49m\u001b[38;5;241;43m=\u001b[39;49m\u001b[43mna_action\u001b[49m\u001b[43m)\u001b[49m\n\u001b[0;32m     65\u001b[0m     \u001b[38;5;28;01melse\u001b[39;00m:\n\u001b[0;32m     66\u001b[0m         result \u001b[38;5;241m=\u001b[39m dmatrices(formula, Y, depth, return_type\u001b[38;5;241m=\u001b[39m\u001b[38;5;124m'\u001b[39m\u001b[38;5;124mdataframe\u001b[39m\u001b[38;5;124m'\u001b[39m,\n\u001b[0;32m     67\u001b[0m                            NA_action\u001b[38;5;241m=\u001b[39mna_action)\n",
      "File \u001b[1;32m~\\anaconda3\\lib\\site-packages\\patsy\\highlevel.py:309\u001b[0m, in \u001b[0;36mdmatrices\u001b[1;34m(formula_like, data, eval_env, NA_action, return_type)\u001b[0m\n\u001b[0;32m    299\u001b[0m \u001b[38;5;124;03m\"\"\"Construct two design matrices given a formula_like and data.\u001b[39;00m\n\u001b[0;32m    300\u001b[0m \n\u001b[0;32m    301\u001b[0m \u001b[38;5;124;03mThis function is identical to :func:`dmatrix`, except that it requires\u001b[39;00m\n\u001b[1;32m   (...)\u001b[0m\n\u001b[0;32m    306\u001b[0m \u001b[38;5;124;03mSee :func:`dmatrix` for details.\u001b[39;00m\n\u001b[0;32m    307\u001b[0m \u001b[38;5;124;03m\"\"\"\u001b[39;00m\n\u001b[0;32m    308\u001b[0m eval_env \u001b[38;5;241m=\u001b[39m EvalEnvironment\u001b[38;5;241m.\u001b[39mcapture(eval_env, reference\u001b[38;5;241m=\u001b[39m\u001b[38;5;241m1\u001b[39m)\n\u001b[1;32m--> 309\u001b[0m (lhs, rhs) \u001b[38;5;241m=\u001b[39m \u001b[43m_do_highlevel_design\u001b[49m\u001b[43m(\u001b[49m\u001b[43mformula_like\u001b[49m\u001b[43m,\u001b[49m\u001b[43m \u001b[49m\u001b[43mdata\u001b[49m\u001b[43m,\u001b[49m\u001b[43m \u001b[49m\u001b[43meval_env\u001b[49m\u001b[43m,\u001b[49m\n\u001b[0;32m    310\u001b[0m \u001b[43m                                  \u001b[49m\u001b[43mNA_action\u001b[49m\u001b[43m,\u001b[49m\u001b[43m \u001b[49m\u001b[43mreturn_type\u001b[49m\u001b[43m)\u001b[49m\n\u001b[0;32m    311\u001b[0m \u001b[38;5;28;01mif\u001b[39;00m lhs\u001b[38;5;241m.\u001b[39mshape[\u001b[38;5;241m1\u001b[39m] \u001b[38;5;241m==\u001b[39m \u001b[38;5;241m0\u001b[39m:\n\u001b[0;32m    312\u001b[0m     \u001b[38;5;28;01mraise\u001b[39;00m PatsyError(\u001b[38;5;124m\"\u001b[39m\u001b[38;5;124mmodel is missing required outcome variables\u001b[39m\u001b[38;5;124m\"\u001b[39m)\n",
      "File \u001b[1;32m~\\anaconda3\\lib\\site-packages\\patsy\\highlevel.py:164\u001b[0m, in \u001b[0;36m_do_highlevel_design\u001b[1;34m(formula_like, data, eval_env, NA_action, return_type)\u001b[0m\n\u001b[0;32m    162\u001b[0m \u001b[38;5;28;01mdef\u001b[39;00m \u001b[38;5;21mdata_iter_maker\u001b[39m():\n\u001b[0;32m    163\u001b[0m     \u001b[38;5;28;01mreturn\u001b[39;00m \u001b[38;5;28miter\u001b[39m([data])\n\u001b[1;32m--> 164\u001b[0m design_infos \u001b[38;5;241m=\u001b[39m \u001b[43m_try_incr_builders\u001b[49m\u001b[43m(\u001b[49m\u001b[43mformula_like\u001b[49m\u001b[43m,\u001b[49m\u001b[43m \u001b[49m\u001b[43mdata_iter_maker\u001b[49m\u001b[43m,\u001b[49m\u001b[43m \u001b[49m\u001b[43meval_env\u001b[49m\u001b[43m,\u001b[49m\n\u001b[0;32m    165\u001b[0m \u001b[43m                                  \u001b[49m\u001b[43mNA_action\u001b[49m\u001b[43m)\u001b[49m\n\u001b[0;32m    166\u001b[0m \u001b[38;5;28;01mif\u001b[39;00m design_infos \u001b[38;5;129;01mis\u001b[39;00m \u001b[38;5;129;01mnot\u001b[39;00m \u001b[38;5;28;01mNone\u001b[39;00m:\n\u001b[0;32m    167\u001b[0m     \u001b[38;5;28;01mreturn\u001b[39;00m build_design_matrices(design_infos, data,\n\u001b[0;32m    168\u001b[0m                                  NA_action\u001b[38;5;241m=\u001b[39mNA_action,\n\u001b[0;32m    169\u001b[0m                                  return_type\u001b[38;5;241m=\u001b[39mreturn_type)\n",
      "File \u001b[1;32m~\\anaconda3\\lib\\site-packages\\patsy\\highlevel.py:66\u001b[0m, in \u001b[0;36m_try_incr_builders\u001b[1;34m(formula_like, data_iter_maker, eval_env, NA_action)\u001b[0m\n\u001b[0;32m     64\u001b[0m \u001b[38;5;28;01mif\u001b[39;00m \u001b[38;5;28misinstance\u001b[39m(formula_like, ModelDesc):\n\u001b[0;32m     65\u001b[0m     \u001b[38;5;28;01massert\u001b[39;00m \u001b[38;5;28misinstance\u001b[39m(eval_env, EvalEnvironment)\n\u001b[1;32m---> 66\u001b[0m     \u001b[38;5;28;01mreturn\u001b[39;00m \u001b[43mdesign_matrix_builders\u001b[49m\u001b[43m(\u001b[49m\u001b[43m[\u001b[49m\u001b[43mformula_like\u001b[49m\u001b[38;5;241;43m.\u001b[39;49m\u001b[43mlhs_termlist\u001b[49m\u001b[43m,\u001b[49m\n\u001b[0;32m     67\u001b[0m \u001b[43m                                   \u001b[49m\u001b[43mformula_like\u001b[49m\u001b[38;5;241;43m.\u001b[39;49m\u001b[43mrhs_termlist\u001b[49m\u001b[43m]\u001b[49m\u001b[43m,\u001b[49m\n\u001b[0;32m     68\u001b[0m \u001b[43m                                  \u001b[49m\u001b[43mdata_iter_maker\u001b[49m\u001b[43m,\u001b[49m\n\u001b[0;32m     69\u001b[0m \u001b[43m                                  \u001b[49m\u001b[43meval_env\u001b[49m\u001b[43m,\u001b[49m\n\u001b[0;32m     70\u001b[0m \u001b[43m                                  \u001b[49m\u001b[43mNA_action\u001b[49m\u001b[43m)\u001b[49m\n\u001b[0;32m     71\u001b[0m \u001b[38;5;28;01melse\u001b[39;00m:\n\u001b[0;32m     72\u001b[0m     \u001b[38;5;28;01mreturn\u001b[39;00m \u001b[38;5;28;01mNone\u001b[39;00m\n",
      "File \u001b[1;32m~\\anaconda3\\lib\\site-packages\\patsy\\build.py:693\u001b[0m, in \u001b[0;36mdesign_matrix_builders\u001b[1;34m(termlists, data_iter_maker, eval_env, NA_action)\u001b[0m\n\u001b[0;32m    689\u001b[0m factor_states \u001b[38;5;241m=\u001b[39m _factors_memorize(all_factors, data_iter_maker, eval_env)\n\u001b[0;32m    690\u001b[0m \u001b[38;5;66;03m# Now all the factors have working eval methods, so we can evaluate them\u001b[39;00m\n\u001b[0;32m    691\u001b[0m \u001b[38;5;66;03m# on some data to find out what type of data they return.\u001b[39;00m\n\u001b[0;32m    692\u001b[0m (num_column_counts,\n\u001b[1;32m--> 693\u001b[0m  cat_levels_contrasts) \u001b[38;5;241m=\u001b[39m \u001b[43m_examine_factor_types\u001b[49m\u001b[43m(\u001b[49m\u001b[43mall_factors\u001b[49m\u001b[43m,\u001b[49m\n\u001b[0;32m    694\u001b[0m \u001b[43m                                               \u001b[49m\u001b[43mfactor_states\u001b[49m\u001b[43m,\u001b[49m\n\u001b[0;32m    695\u001b[0m \u001b[43m                                               \u001b[49m\u001b[43mdata_iter_maker\u001b[49m\u001b[43m,\u001b[49m\n\u001b[0;32m    696\u001b[0m \u001b[43m                                               \u001b[49m\u001b[43mNA_action\u001b[49m\u001b[43m)\u001b[49m\n\u001b[0;32m    697\u001b[0m \u001b[38;5;66;03m# Now we need the factor infos, which encapsulate the knowledge of\u001b[39;00m\n\u001b[0;32m    698\u001b[0m \u001b[38;5;66;03m# how to turn any given factor into a chunk of data:\u001b[39;00m\n\u001b[0;32m    699\u001b[0m factor_infos \u001b[38;5;241m=\u001b[39m {}\n",
      "File \u001b[1;32m~\\anaconda3\\lib\\site-packages\\patsy\\build.py:443\u001b[0m, in \u001b[0;36m_examine_factor_types\u001b[1;34m(factors, factor_states, data_iter_maker, NA_action)\u001b[0m\n\u001b[0;32m    441\u001b[0m \u001b[38;5;28;01mfor\u001b[39;00m data \u001b[38;5;129;01min\u001b[39;00m data_iter_maker():\n\u001b[0;32m    442\u001b[0m     \u001b[38;5;28;01mfor\u001b[39;00m factor \u001b[38;5;129;01min\u001b[39;00m \u001b[38;5;28mlist\u001b[39m(examine_needed):\n\u001b[1;32m--> 443\u001b[0m         value \u001b[38;5;241m=\u001b[39m \u001b[43mfactor\u001b[49m\u001b[38;5;241;43m.\u001b[39;49m\u001b[43meval\u001b[49m\u001b[43m(\u001b[49m\u001b[43mfactor_states\u001b[49m\u001b[43m[\u001b[49m\u001b[43mfactor\u001b[49m\u001b[43m]\u001b[49m\u001b[43m,\u001b[49m\u001b[43m \u001b[49m\u001b[43mdata\u001b[49m\u001b[43m)\u001b[49m\n\u001b[0;32m    444\u001b[0m         \u001b[38;5;28;01mif\u001b[39;00m factor \u001b[38;5;129;01min\u001b[39;00m cat_sniffers \u001b[38;5;129;01mor\u001b[39;00m guess_categorical(value):\n\u001b[0;32m    445\u001b[0m             \u001b[38;5;28;01mif\u001b[39;00m factor \u001b[38;5;129;01mnot\u001b[39;00m \u001b[38;5;129;01min\u001b[39;00m cat_sniffers:\n",
      "File \u001b[1;32m~\\anaconda3\\lib\\site-packages\\patsy\\eval.py:564\u001b[0m, in \u001b[0;36mEvalFactor.eval\u001b[1;34m(self, memorize_state, data)\u001b[0m\n\u001b[0;32m    563\u001b[0m \u001b[38;5;28;01mdef\u001b[39;00m \u001b[38;5;21meval\u001b[39m(\u001b[38;5;28mself\u001b[39m, memorize_state, data):\n\u001b[1;32m--> 564\u001b[0m     \u001b[38;5;28;01mreturn\u001b[39;00m \u001b[38;5;28;43mself\u001b[39;49m\u001b[38;5;241;43m.\u001b[39;49m\u001b[43m_eval\u001b[49m\u001b[43m(\u001b[49m\u001b[43mmemorize_state\u001b[49m\u001b[43m[\u001b[49m\u001b[38;5;124;43m\"\u001b[39;49m\u001b[38;5;124;43meval_code\u001b[39;49m\u001b[38;5;124;43m\"\u001b[39;49m\u001b[43m]\u001b[49m\u001b[43m,\u001b[49m\n\u001b[0;32m    565\u001b[0m \u001b[43m                      \u001b[49m\u001b[43mmemorize_state\u001b[49m\u001b[43m,\u001b[49m\n\u001b[0;32m    566\u001b[0m \u001b[43m                      \u001b[49m\u001b[43mdata\u001b[49m\u001b[43m)\u001b[49m\n",
      "File \u001b[1;32m~\\anaconda3\\lib\\site-packages\\patsy\\eval.py:547\u001b[0m, in \u001b[0;36mEvalFactor._eval\u001b[1;34m(self, code, memorize_state, data)\u001b[0m\n\u001b[0;32m    545\u001b[0m \u001b[38;5;28;01mdef\u001b[39;00m \u001b[38;5;21m_eval\u001b[39m(\u001b[38;5;28mself\u001b[39m, code, memorize_state, data):\n\u001b[0;32m    546\u001b[0m     inner_namespace \u001b[38;5;241m=\u001b[39m VarLookupDict([data, memorize_state[\u001b[38;5;124m\"\u001b[39m\u001b[38;5;124mtransforms\u001b[39m\u001b[38;5;124m\"\u001b[39m]])\n\u001b[1;32m--> 547\u001b[0m     \u001b[38;5;28;01mreturn\u001b[39;00m \u001b[43mcall_and_wrap_exc\u001b[49m\u001b[43m(\u001b[49m\u001b[38;5;124;43m\"\u001b[39;49m\u001b[38;5;124;43mError evaluating factor\u001b[39;49m\u001b[38;5;124;43m\"\u001b[39;49m\u001b[43m,\u001b[49m\n\u001b[0;32m    548\u001b[0m \u001b[43m                             \u001b[49m\u001b[38;5;28;43mself\u001b[39;49m\u001b[43m,\u001b[49m\n\u001b[0;32m    549\u001b[0m \u001b[43m                             \u001b[49m\u001b[43mmemorize_state\u001b[49m\u001b[43m[\u001b[49m\u001b[38;5;124;43m\"\u001b[39;49m\u001b[38;5;124;43meval_env\u001b[39;49m\u001b[38;5;124;43m\"\u001b[39;49m\u001b[43m]\u001b[49m\u001b[38;5;241;43m.\u001b[39;49m\u001b[43meval\u001b[49m\u001b[43m,\u001b[49m\n\u001b[0;32m    550\u001b[0m \u001b[43m                             \u001b[49m\u001b[43mcode\u001b[49m\u001b[43m,\u001b[49m\n\u001b[0;32m    551\u001b[0m \u001b[43m                             \u001b[49m\u001b[43minner_namespace\u001b[49m\u001b[38;5;241;43m=\u001b[39;49m\u001b[43minner_namespace\u001b[49m\u001b[43m)\u001b[49m\n",
      "File \u001b[1;32m~\\anaconda3\\lib\\site-packages\\patsy\\compat.py:43\u001b[0m, in \u001b[0;36mcall_and_wrap_exc\u001b[1;34m(msg, origin, f, *args, **kwargs)\u001b[0m\n\u001b[0;32m     39\u001b[0m     new_exc \u001b[38;5;241m=\u001b[39m PatsyError(\u001b[38;5;124m\"\u001b[39m\u001b[38;5;132;01m%s\u001b[39;00m\u001b[38;5;124m: \u001b[39m\u001b[38;5;132;01m%s\u001b[39;00m\u001b[38;5;124m: \u001b[39m\u001b[38;5;132;01m%s\u001b[39;00m\u001b[38;5;124m\"\u001b[39m\n\u001b[0;32m     40\u001b[0m                          \u001b[38;5;241m%\u001b[39m (msg, e\u001b[38;5;241m.\u001b[39m\u001b[38;5;18m__class__\u001b[39m\u001b[38;5;241m.\u001b[39m\u001b[38;5;18m__name__\u001b[39m, e),\n\u001b[0;32m     41\u001b[0m                          origin)\n\u001b[0;32m     42\u001b[0m     \u001b[38;5;66;03m# Use 'exec' to hide this syntax from the Python 2 parser:\u001b[39;00m\n\u001b[1;32m---> 43\u001b[0m     \u001b[43mexec\u001b[49m\u001b[43m(\u001b[49m\u001b[38;5;124;43m\"\u001b[39;49m\u001b[38;5;124;43mraise new_exc from e\u001b[39;49m\u001b[38;5;124;43m\"\u001b[39;49m\u001b[43m)\u001b[49m\n\u001b[0;32m     44\u001b[0m \u001b[38;5;28;01melse\u001b[39;00m:\n\u001b[0;32m     45\u001b[0m     \u001b[38;5;66;03m# In python 2, we just let the original exception escape -- better\u001b[39;00m\n\u001b[0;32m     46\u001b[0m     \u001b[38;5;66;03m# than destroying the traceback. But if it's a PatsyError, we can\u001b[39;00m\n\u001b[0;32m     47\u001b[0m     \u001b[38;5;66;03m# at least set the origin properly.\u001b[39;00m\n\u001b[0;32m     48\u001b[0m     \u001b[38;5;28;01mif\u001b[39;00m \u001b[38;5;28misinstance\u001b[39m(e, PatsyError):\n",
      "File \u001b[1;32m<string>:1\u001b[0m, in \u001b[0;36m<module>\u001b[1;34m\u001b[0m\n",
      "\u001b[1;31mPatsyError\u001b[0m: Error evaluating factor: NameError: name 'A' is not defined\n    Yield ~ C(A) + C(B)\n            ^^^^"
     ]
    }
   ],
   "source": [
    "# 이원분산분석\n",
    "formula = 'Yield ~ C(A) + C(B)'\n",
    "model = ols(formula, data = df).fit()\n",
    "print(model.summary())\n",
    "print('\\n** Two-Way ANOVA**')\n",
    "print(anova_lm(model))\n",
    "print('************')"
   ]
  },
  {
   "cell_type": "code",
   "execution_count": null,
   "id": "8adc9102-82fa-4f3e-8beb-5e3fab668d6e",
   "metadata": {},
   "outputs": [],
   "source": [
    "# 사후분석 다중비교\n",
    "from statsmodels.sandbox.stats.multicomp import MultiComparison\n",
    "import scipy.stats\n",
    "\n",
    "# Bonferroni Correction\n",
    "comp = MultiComparison(df.Yield, df.A)\n",
    "result = comp.allpairtest(scipy.stats.ttest_ind, method = 'bonf')\n",
    "print(result[0])\n",
    "\n",
    "comp = MultiComparison(df.Yield, df.B)\n",
    "result = comp.allpairtest(scipy.stats.ttest_ind, method = 'bonf')\n",
    "print(result[0])\n",
    "\n",
    "# Tuckey's Honestly Significant Difference = '진정으로 유의미한 차이'\n",
    "from statsmodels.stats.multicomp import pairwise_tukeyhsd\n",
    "\n",
    "hsd = pairwise_tukeyhsd(df.Yield, df.A, alpha = 0.05)\n",
    "print(hsd.summary())\n",
    "hsd.plot_simultaneous()\n",
    "\n",
    "hsd = pairwise_tukeyhsd(df.Yield, df.B, alpha = 0.05)\n",
    "print(hsd.summary())\n",
    "hsd.plot_simultaneous()"
   ]
  },
  {
   "cell_type": "code",
   "execution_count": null,
   "id": "ff052e8a-eb96-461d-b497-0705ef1ff755",
   "metadata": {},
   "outputs": [],
   "source": [
    "# 4-2\n",
    "filename = 'ex_4_2.csv'\n",
    "df = pd.read_csv(filename)\n",
    "\n",
    "df.boxplot('Yield', by = ['A', 'B'])"
   ]
  },
  {
   "cell_type": "code",
   "execution_count": null,
   "id": "cf32e5c2-fe3f-4d96-babb-81d14b7abde4",
   "metadata": {},
   "outputs": [],
   "source": [
    "# 정규성 Shapiro Test\n",
    "\n",
    "dfm = np.array(df.pivot(index = 'B', columns = 'A', values = 'Yield'))\n",
    "nB, nA = dfm.shape\n",
    "\n",
    "print('\\n** Normality Test**')\n",
    "\n",
    "for i in range(nA):\n",
    "    s, p = shapiro(dfm[:,i])\n",
    "    print('A%i: stat = %.4f, pvalue = %.4f, %s' % (i+1, s, p, check_significance(p)))\n",
    "\n",
    "for i in range(nB):\n",
    "    s, p = shapiro(dfm[i,:])\n",
    "    print('B%i: stat = %.4f, pvalue = %.4f, %s' % (i+1, s, p, check_significance(p)))\n",
    "\n",
    "print('***********************')"
   ]
  },
  {
   "cell_type": "code",
   "execution_count": null,
   "id": "8224724d-b74c-4ad6-8a3b-a87921290ed6",
   "metadata": {},
   "outputs": [],
   "source": [
    "# 등분산성; Bartlett, Levene Test\n",
    "print('\\n** Equal Variance Test For A**')\n",
    "s, p = bartlett(dfm[:,0], dfm[:,1], dfm[:,2])\n",
    "print('Bartlett: stat = %.4f, p = %.4f, %s' %(s,p, check_significance(p)))\n",
    "s, p = levene(dfm[:,0], dfm[:,1], dfm[:,2])\n",
    "print('Levene: stat = %.4f, p = %.4f, %s' %(s, p, check_significance(p)))\n",
    "print('**************')\n",
    "\n",
    "print('\\n** Equal Variance Test For B**')\n",
    "s, p = bartlett(dfm[0,:], dfm[1,:], dfm[2,:])\n",
    "print('Bartlett: stat = %.4f, p = %.4f, %s' %(s,p, check_significance(p)))\n",
    "s, p = levene(dfm[0,:], dfm[1,:], dfm[2,:])\n",
    "print('Levene: stat = %.4f, p = %.4f, %s' %(s, p, check_significance(p)))\n",
    "print('**************')"
   ]
  }
 ],
 "metadata": {
  "kernelspec": {
   "display_name": "Python 3 (ipykernel)",
   "language": "python",
   "name": "python3"
  },
  "language_info": {
   "codemirror_mode": {
    "name": "ipython",
    "version": 3
   },
   "file_extension": ".py",
   "mimetype": "text/x-python",
   "name": "python",
   "nbconvert_exporter": "python",
   "pygments_lexer": "ipython3",
   "version": "3.9.12"
  }
 },
 "nbformat": 4,
 "nbformat_minor": 5
}
